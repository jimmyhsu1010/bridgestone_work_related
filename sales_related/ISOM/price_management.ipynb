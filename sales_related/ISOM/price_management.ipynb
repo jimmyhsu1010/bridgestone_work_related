{
 "cells": [
  {
   "cell_type": "code",
   "execution_count": 157,
   "metadata": {},
   "outputs": [],
   "source": [
    "import pandas as pd\n",
    "pd.set_option(\"display.max_columns\", None)\n",
    "pd.set_option(\"mode.chained_assignment\", None)\n",
    "import warnings\n",
    "warnings.filterwarnings(\"ignore\")\n",
    "import math\n"
   ]
  },
  {
   "cell_type": "code",
   "execution_count": 56,
   "metadata": {},
   "outputs": [],
   "source": [
    "# 讀取SizeData\n",
    "df = pd.read_excel(r\"D:\\kc.hsu\\OneDrive - Bridgestone\\數據\\2023ACT\\20230710_SizeData.xlsx\", None)"
   ]
  },
  {
   "cell_type": "code",
   "execution_count": 57,
   "metadata": {},
   "outputs": [],
   "source": [
    "df = df[\"Sheet1\"]"
   ]
  },
  {
   "cell_type": "code",
   "execution_count": 65,
   "metadata": {},
   "outputs": [],
   "source": [
    "df = df[df[\"通路明細\"] != \"LSCM\"]"
   ]
  },
  {
   "cell_type": "code",
   "execution_count": 66,
   "metadata": {},
   "outputs": [],
   "source": [
    "df[\"花紋\"] = df[\"花紋\"].map(lambda x: x[:4])"
   ]
  },
  {
   "cell_type": "code",
   "execution_count": 67,
   "metadata": {},
   "outputs": [],
   "source": [
    "df[\"position_up\"] = df[\"花紋\"].map(lambda x: \"New\" if x == \"R154\" or x == \"UAP1\" else \"No\")"
   ]
  },
  {
   "cell_type": "code",
   "execution_count": 68,
   "metadata": {},
   "outputs": [],
   "source": [
    "ch_key = ['FLT-REP', 'AG', 'A', 'FMC', '一般店', 'BSSC-FLT', 'CD', '中盤', 'DS',\n",
    "       'TK', 'MM', 'FMC BFP', 'FLT', 'TTC', 'BFP', '量販店', 'OT',\n",
    "       'FLT-BSSC', '加油站', '輪胎行', 'FT']\n",
    "ch_value = ['FLT-REP', 'AG', 'BSSC', 'BSSC', 'BSSC', 'BSSC-FLT', 'BSSC', 'BSSC', 'BSSC', 'BSSC', 'BSSC', 'BSSC', 'BSSC-FLT', 'BSSC', 'BSSC', 'BSSC', \n",
    "            'FLT-REP', 'BSSC-FLT', 'BSSC', 'BSSC', 'FLT-REP']\n",
    "ch_dict = dict(zip(ch_key, ch_value))"
   ]
  },
  {
   "cell_type": "code",
   "execution_count": 70,
   "metadata": {},
   "outputs": [],
   "source": [
    "df[\"大通路\"] = df[\"通路明細\"].map(ch_dict)"
   ]
  },
  {
   "cell_type": "code",
   "execution_count": 72,
   "metadata": {},
   "outputs": [],
   "source": [
    "df = df[df[\"預算/前實績\"] == \"23ACT\"]"
   ]
  },
  {
   "cell_type": "code",
   "execution_count": 73,
   "metadata": {},
   "outputs": [],
   "source": [
    "df[\"舊分類\"] = df[\"舊分類\"].map(lambda x: \"LSR\" if x == \"LSR進口品\" else x)"
   ]
  },
  {
   "cell_type": "code",
   "execution_count": 74,
   "metadata": {},
   "outputs": [],
   "source": [
    "df = df[[\"年月\", \"舊分類\", \"商品代號\", \"大通路\", \"position_up\", \"NET金額\", \"條數\"]]"
   ]
  },
  {
   "cell_type": "code",
   "execution_count": 75,
   "metadata": {},
   "outputs": [],
   "source": [
    "df = df.fillna(0)"
   ]
  },
  {
   "cell_type": "code",
   "execution_count": 17,
   "metadata": {},
   "outputs": [],
   "source": [
    "# 讀取RBA&C 2\n",
    "rt2 = pd.read_excel(r\"D:\\kc.hsu\\OneDrive - Bridgestone\\價格相關\\預算\\2023\\RT2\\20230320_RT2_assumption v2.xlsx\", None)[\"RBA simulator with OP\"]\n"
   ]
  },
  {
   "cell_type": "code",
   "execution_count": 18,
   "metadata": {},
   "outputs": [],
   "source": [
    "rt2[\"position_up\"] = rt2[\"花紋\"].map(lambda x: \"New\" if x == \"R154\" or x == \"UAP1\" else \"No\")"
   ]
  },
  {
   "cell_type": "code",
   "execution_count": 19,
   "metadata": {},
   "outputs": [],
   "source": [
    "rt2 = rt2[[\"新年月\", \"Type\", \"PCODE\", \"大通路\", \"position_up\", \"NET Total\", \"數量\"]]"
   ]
  },
  {
   "cell_type": "code",
   "execution_count": 20,
   "metadata": {},
   "outputs": [],
   "source": [
    "rt2.columns = df.columns"
   ]
  },
  {
   "cell_type": "code",
   "execution_count": 91,
   "metadata": {},
   "outputs": [],
   "source": [
    "# 篩選基準和對比資料\n",
    "# budget_df = df[(df[\"年月\"] == 202305)]\n",
    "actual_df = df[(df[\"年月\"] == 202306)]\n",
    "\n",
    "budget_df = rt2[(rt2[\"年月\"] == 202306)]\n",
    "# actual_df = rt2[(rt2[\"年月\"]== 202307)]"
   ]
  },
  {
   "cell_type": "code",
   "execution_count": 92,
   "metadata": {},
   "outputs": [],
   "source": [
    "# 複製貼上有要做販促的PCODE\n",
    "promotion = pd.read_clipboard()[\"PCODE\"].values.tolist()\n",
    "budget_df[\"promotion\"] = budget_df[\"商品代號\"].map(lambda x: \"Yes\" if x in promotion else \"No\")"
   ]
  },
  {
   "cell_type": "code",
   "execution_count": 93,
   "metadata": {},
   "outputs": [],
   "source": [
    "promotion = pd.read_clipboard()[\"PCODE\"].values.tolist()\n",
    "actual_df[\"promotion\"] = actual_df[\"商品代號\"].map(lambda x: \"Yes\" if x in promotion else \"No\")"
   ]
  },
  {
   "cell_type": "code",
   "execution_count": 94,
   "metadata": {},
   "outputs": [],
   "source": [
    "final = pd.concat([budget_df, actual_df])"
   ]
  },
  {
   "cell_type": "code",
   "execution_count": 95,
   "metadata": {},
   "outputs": [],
   "source": [
    "budget_asp = round(budget_df[\"NET金額\"].sum() / budget_df[\"條數\"].sum(), 1)\n",
    "actual_asp = round(actual_df[\"NET金額\"].sum() / actual_df[\"條數\"].sum(), 1)"
   ]
  },
  {
   "cell_type": "code",
   "execution_count": 96,
   "metadata": {},
   "outputs": [
    {
     "name": "stdout",
     "output_type": "stream",
     "text": [
      "9735.2 8755.0\n",
      "0.9\n"
     ]
    }
   ],
   "source": [
    "print(budget_asp, actual_asp)\n",
    "print(round((actual_asp / budget_asp), 1))"
   ]
  },
  {
   "cell_type": "code",
   "execution_count": 97,
   "metadata": {},
   "outputs": [],
   "source": [
    "# 預算和實績ASP差異\n",
    "diff = actual_asp - budget_asp\n"
   ]
  },
  {
   "cell_type": "code",
   "execution_count": 98,
   "metadata": {},
   "outputs": [
    {
     "data": {
      "text/plain": [
       "-980.2000000000007"
      ]
     },
     "execution_count": 98,
     "metadata": {},
     "output_type": "execute_result"
    }
   ],
   "source": [
    "diff"
   ]
  },
  {
   "cell_type": "code",
   "execution_count": 149,
   "metadata": {},
   "outputs": [],
   "source": [
    "# 創建一個空字典來存儲貢獻值\n",
    "contribution = {}"
   ]
  },
  {
   "cell_type": "code",
   "execution_count": 150,
   "metadata": {},
   "outputs": [
    {
     "data": {
      "text/html": [
       "<div><div id=1e52254b-b52f-4a0c-aa19-6685e8110e71 style=\"display:none; background-color:#9D6CFF; color:white; width:200px; height:30px; padding-left:5px; border-radius:4px; flex-direction:row; justify-content:space-around; align-items:center;\" onmouseover=\"this.style.backgroundColor='#BA9BF8'\" onmouseout=\"this.style.backgroundColor='#9D6CFF'\" onclick=\"window.commands?.execute('create-mitosheet-from-dataframe-output');\">See Full Dataframe in Mito</div> <script> if (window.commands?.hasCommand('create-mitosheet-from-dataframe-output')) document.getElementById('1e52254b-b52f-4a0c-aa19-6685e8110e71').style.display = 'flex' </script> <table border=\"1\" class=\"dataframe\">\n",
       "  <thead>\n",
       "    <tr style=\"text-align: right;\">\n",
       "      <th></th>\n",
       "      <th>年月</th>\n",
       "      <th>舊分類</th>\n",
       "      <th>商品代號</th>\n",
       "      <th>大通路</th>\n",
       "      <th>position_up</th>\n",
       "      <th>NET金額</th>\n",
       "      <th>條數</th>\n",
       "      <th>promotion</th>\n",
       "    </tr>\n",
       "  </thead>\n",
       "  <tbody>\n",
       "    <tr>\n",
       "      <th>357</th>\n",
       "      <td>202306</td>\n",
       "      <td>LSR</td>\n",
       "      <td>LSR01180</td>\n",
       "      <td>AG</td>\n",
       "      <td>No</td>\n",
       "      <td>119069</td>\n",
       "      <td>22</td>\n",
       "      <td>Yes</td>\n",
       "    </tr>\n",
       "    <tr>\n",
       "      <th>358</th>\n",
       "      <td>202306</td>\n",
       "      <td>LSR</td>\n",
       "      <td>LSR01180</td>\n",
       "      <td>BSSC-FLT</td>\n",
       "      <td>No</td>\n",
       "      <td>23409</td>\n",
       "      <td>4</td>\n",
       "      <td>Yes</td>\n",
       "    </tr>\n",
       "    <tr>\n",
       "      <th>359</th>\n",
       "      <td>202306</td>\n",
       "      <td>LSR</td>\n",
       "      <td>LSR01180</td>\n",
       "      <td>BSSC</td>\n",
       "      <td>No</td>\n",
       "      <td>1199232</td>\n",
       "      <td>216</td>\n",
       "      <td>Yes</td>\n",
       "    </tr>\n",
       "    <tr>\n",
       "      <th>360</th>\n",
       "      <td>202306</td>\n",
       "      <td>LSR</td>\n",
       "      <td>LSR01180</td>\n",
       "      <td>BSSC</td>\n",
       "      <td>No</td>\n",
       "      <td>433056</td>\n",
       "      <td>78</td>\n",
       "      <td>Yes</td>\n",
       "    </tr>\n",
       "    <tr>\n",
       "      <th>361</th>\n",
       "      <td>202306</td>\n",
       "      <td>LSR</td>\n",
       "      <td>LSR01270</td>\n",
       "      <td>AG</td>\n",
       "      <td>No</td>\n",
       "      <td>59039</td>\n",
       "      <td>10</td>\n",
       "      <td>Yes</td>\n",
       "    </tr>\n",
       "    <tr>\n",
       "      <th>...</th>\n",
       "      <td>...</td>\n",
       "      <td>...</td>\n",
       "      <td>...</td>\n",
       "      <td>...</td>\n",
       "      <td>...</td>\n",
       "      <td>...</td>\n",
       "      <td>...</td>\n",
       "      <td>...</td>\n",
       "    </tr>\n",
       "    <tr>\n",
       "      <th>472</th>\n",
       "      <td>202306</td>\n",
       "      <td>TBR</td>\n",
       "      <td>TBR0J660</td>\n",
       "      <td>FLT-REP</td>\n",
       "      <td>No</td>\n",
       "      <td>42318</td>\n",
       "      <td>4</td>\n",
       "      <td>No</td>\n",
       "    </tr>\n",
       "    <tr>\n",
       "      <th>473</th>\n",
       "      <td>202306</td>\n",
       "      <td>TBR</td>\n",
       "      <td>TBR0J660</td>\n",
       "      <td>BSSC</td>\n",
       "      <td>No</td>\n",
       "      <td>454897</td>\n",
       "      <td>36</td>\n",
       "      <td>No</td>\n",
       "    </tr>\n",
       "    <tr>\n",
       "      <th>474</th>\n",
       "      <td>202306</td>\n",
       "      <td>TBR</td>\n",
       "      <td>TBR0J781</td>\n",
       "      <td>BSSC-FLT</td>\n",
       "      <td>New</td>\n",
       "      <td>340209</td>\n",
       "      <td>30</td>\n",
       "      <td>No</td>\n",
       "    </tr>\n",
       "    <tr>\n",
       "      <th>475</th>\n",
       "      <td>202306</td>\n",
       "      <td>TBR</td>\n",
       "      <td>TBR0J781</td>\n",
       "      <td>BSSC</td>\n",
       "      <td>New</td>\n",
       "      <td>4230015</td>\n",
       "      <td>368</td>\n",
       "      <td>No</td>\n",
       "    </tr>\n",
       "    <tr>\n",
       "      <th>476</th>\n",
       "      <td>202306</td>\n",
       "      <td>TBR</td>\n",
       "      <td>TBR0J781</td>\n",
       "      <td>BSSC</td>\n",
       "      <td>New</td>\n",
       "      <td>367827</td>\n",
       "      <td>32</td>\n",
       "      <td>No</td>\n",
       "    </tr>\n",
       "  </tbody>\n",
       "</table></div>"
      ],
      "text/plain": [
       "         年月  舊分類      商品代號       大通路 position_up    NET金額   條數 promotion\n",
       "357  202306  LSR  LSR01180        AG          No   119069   22       Yes\n",
       "358  202306  LSR  LSR01180  BSSC-FLT          No    23409    4       Yes\n",
       "359  202306  LSR  LSR01180      BSSC          No  1199232  216       Yes\n",
       "360  202306  LSR  LSR01180      BSSC          No   433056   78       Yes\n",
       "361  202306  LSR  LSR01270        AG          No    59039   10       Yes\n",
       "..      ...  ...       ...       ...         ...      ...  ...       ...\n",
       "472  202306  TBR  TBR0J660   FLT-REP          No    42318    4        No\n",
       "473  202306  TBR  TBR0J660      BSSC          No   454897   36        No\n",
       "474  202306  TBR  TBR0J781  BSSC-FLT         New   340209   30        No\n",
       "475  202306  TBR  TBR0J781      BSSC         New  4230015  368        No\n",
       "476  202306  TBR  TBR0J781      BSSC         New   367827   32        No\n",
       "\n",
       "[120 rows x 8 columns]"
      ]
     },
     "execution_count": 150,
     "metadata": {},
     "output_type": "execute_result"
    }
   ],
   "source": [
    "budget_df"
   ]
  },
  {
   "cell_type": "code",
   "execution_count": 151,
   "metadata": {},
   "outputs": [
    {
     "data": {
      "text/html": [
       "<div><div id=316d5337-998b-4916-b9d3-19736e0836dd style=\"display:none; background-color:#9D6CFF; color:white; width:200px; height:30px; padding-left:5px; border-radius:4px; flex-direction:row; justify-content:space-around; align-items:center;\" onmouseover=\"this.style.backgroundColor='#BA9BF8'\" onmouseout=\"this.style.backgroundColor='#9D6CFF'\" onclick=\"window.commands?.execute('create-mitosheet-from-dataframe-output');\">See Full Dataframe in Mito</div> <script> if (window.commands?.hasCommand('create-mitosheet-from-dataframe-output')) document.getElementById('316d5337-998b-4916-b9d3-19736e0836dd').style.display = 'flex' </script> <table border=\"1\" class=\"dataframe\">\n",
       "  <thead>\n",
       "    <tr style=\"text-align: right;\">\n",
       "      <th></th>\n",
       "      <th>年月</th>\n",
       "      <th>舊分類</th>\n",
       "      <th>商品代號</th>\n",
       "      <th>大通路</th>\n",
       "      <th>position_up</th>\n",
       "      <th>NET金額</th>\n",
       "      <th>條數</th>\n",
       "      <th>promotion</th>\n",
       "    </tr>\n",
       "  </thead>\n",
       "  <tbody>\n",
       "    <tr>\n",
       "      <th>357</th>\n",
       "      <td>202306</td>\n",
       "      <td>LSR</td>\n",
       "      <td>LSR01180</td>\n",
       "      <td>AG</td>\n",
       "      <td>No</td>\n",
       "      <td>119069</td>\n",
       "      <td>22</td>\n",
       "      <td>Yes</td>\n",
       "    </tr>\n",
       "    <tr>\n",
       "      <th>361</th>\n",
       "      <td>202306</td>\n",
       "      <td>LSR</td>\n",
       "      <td>LSR01270</td>\n",
       "      <td>AG</td>\n",
       "      <td>No</td>\n",
       "      <td>59039</td>\n",
       "      <td>10</td>\n",
       "      <td>Yes</td>\n",
       "    </tr>\n",
       "    <tr>\n",
       "      <th>365</th>\n",
       "      <td>202306</td>\n",
       "      <td>LSR</td>\n",
       "      <td>LSR03459</td>\n",
       "      <td>AG</td>\n",
       "      <td>No</td>\n",
       "      <td>162375</td>\n",
       "      <td>23</td>\n",
       "      <td>Yes</td>\n",
       "    </tr>\n",
       "    <tr>\n",
       "      <th>372</th>\n",
       "      <td>202306</td>\n",
       "      <td>LSR</td>\n",
       "      <td>LSR03765</td>\n",
       "      <td>AG</td>\n",
       "      <td>No</td>\n",
       "      <td>384228</td>\n",
       "      <td>60</td>\n",
       "      <td>Yes</td>\n",
       "    </tr>\n",
       "    <tr>\n",
       "      <th>377</th>\n",
       "      <td>202306</td>\n",
       "      <td>LSR</td>\n",
       "      <td>LSR05127</td>\n",
       "      <td>AG</td>\n",
       "      <td>No</td>\n",
       "      <td>59926</td>\n",
       "      <td>10</td>\n",
       "      <td>No</td>\n",
       "    </tr>\n",
       "    <tr>\n",
       "      <th>...</th>\n",
       "      <td>...</td>\n",
       "      <td>...</td>\n",
       "      <td>...</td>\n",
       "      <td>...</td>\n",
       "      <td>...</td>\n",
       "      <td>...</td>\n",
       "      <td>...</td>\n",
       "      <td>...</td>\n",
       "    </tr>\n",
       "    <tr>\n",
       "      <th>441</th>\n",
       "      <td>202306</td>\n",
       "      <td>TBR</td>\n",
       "      <td>TBR0J295</td>\n",
       "      <td>AG</td>\n",
       "      <td>No</td>\n",
       "      <td>95629</td>\n",
       "      <td>10</td>\n",
       "      <td>No</td>\n",
       "    </tr>\n",
       "    <tr>\n",
       "      <th>446</th>\n",
       "      <td>202306</td>\n",
       "      <td>TBR</td>\n",
       "      <td>TBR0J314</td>\n",
       "      <td>AG</td>\n",
       "      <td>No</td>\n",
       "      <td>91560</td>\n",
       "      <td>8</td>\n",
       "      <td>Yes</td>\n",
       "    </tr>\n",
       "    <tr>\n",
       "      <th>454</th>\n",
       "      <td>202306</td>\n",
       "      <td>TBR</td>\n",
       "      <td>TBR0J418</td>\n",
       "      <td>AG</td>\n",
       "      <td>No</td>\n",
       "      <td>101811</td>\n",
       "      <td>8</td>\n",
       "      <td>No</td>\n",
       "    </tr>\n",
       "    <tr>\n",
       "      <th>456</th>\n",
       "      <td>202306</td>\n",
       "      <td>TBR</td>\n",
       "      <td>TBR0J487</td>\n",
       "      <td>AG</td>\n",
       "      <td>No</td>\n",
       "      <td>276250</td>\n",
       "      <td>24</td>\n",
       "      <td>Yes</td>\n",
       "    </tr>\n",
       "    <tr>\n",
       "      <th>461</th>\n",
       "      <td>202306</td>\n",
       "      <td>TBR</td>\n",
       "      <td>TBR0J795</td>\n",
       "      <td>AG</td>\n",
       "      <td>No</td>\n",
       "      <td>155652</td>\n",
       "      <td>14</td>\n",
       "      <td>Yes</td>\n",
       "    </tr>\n",
       "  </tbody>\n",
       "</table></div>"
      ],
      "text/plain": [
       "         年月  舊分類      商品代號 大通路 position_up   NET金額  條數 promotion\n",
       "357  202306  LSR  LSR01180  AG          No  119069  22       Yes\n",
       "361  202306  LSR  LSR01270  AG          No   59039  10       Yes\n",
       "365  202306  LSR  LSR03459  AG          No  162375  23       Yes\n",
       "372  202306  LSR  LSR03765  AG          No  384228  60       Yes\n",
       "377  202306  LSR  LSR05127  AG          No   59926  10        No\n",
       "384  202306  LSR  LSR03459  AG          No  352989  50       Yes\n",
       "400  202306  TBR  TBR05611  AG          No  125296  10        No\n",
       "423  202306  TBR  TBR0J136  AG          No  212485  19       Yes\n",
       "431  202306  TBR  TBR0J228  AG          No  106510  10       Yes\n",
       "436  202306  TBR  TBR0J247  AG          No  143443  15       Yes\n",
       "441  202306  TBR  TBR0J295  AG          No   95629  10        No\n",
       "446  202306  TBR  TBR0J314  AG          No   91560   8       Yes\n",
       "454  202306  TBR  TBR0J418  AG          No  101811   8        No\n",
       "456  202306  TBR  TBR0J487  AG          No  276250  24       Yes\n",
       "461  202306  TBR  TBR0J795  AG          No  155652  14       Yes"
      ]
     },
     "execution_count": 151,
     "metadata": {},
     "output_type": "execute_result"
    }
   ],
   "source": [
    "budget_df[budget_df[\"大通路\"] == \"AG\"]"
   ]
  },
  {
   "cell_type": "code",
   "execution_count": 152,
   "metadata": {},
   "outputs": [
    {
     "data": {
      "text/plain": [
       "0"
      ]
     },
     "execution_count": 152,
     "metadata": {},
     "output_type": "execute_result"
    }
   ],
   "source": [
    "actual_df[actual_df[\"大通路\"] == \"AG\"][\"條數\"].sum()"
   ]
  },
  {
   "cell_type": "code",
   "execution_count": 158,
   "metadata": {},
   "outputs": [],
   "source": [
    "# 計算客戶舊分類、大通路、position up和promotion對差異的貢獻值\n",
    "# 將需要計算的欄位寫在list裡面然後建立一個loop\n",
    "# 將list裡面每個欄位裡面的unique value計算基準和對比的asp\n",
    "# 將對比和基準的asp做相減得到差異\n",
    "# 如果差異大於0，儲存在positive的keys，小於0的存在negative的keys\n",
    "for column in ['舊分類', '大通路', 'position_up', 'promotion']:\n",
    "    for category in final[column].unique():\n",
    "        category_budget = budget_df[budget_df[column] == category]\n",
    "        category_budget_asp = category_budget[\"NET金額\"].sum() / category_budget[\"條數\"].sum()\n",
    "        # print(category_budget_asp)\n",
    "        category_actual = actual_df[actual_df[column] == category]\n",
    "        category_actual_asp = category_actual[\"NET金額\"].sum() / category_actual[\"條數\"].sum()\n",
    "        # print(category_actual_asp)\n",
    "        if pd.isna(category_actual_asp) and category_budget_asp != 0:\n",
    "            category_difference = category_budget_asp * -1\n",
    "        elif pd.isna(category_budget_asp) and category_actual_asp != 0:\n",
    "            category_difference = category_actual_asp\n",
    "        elif math.isinf(category_actual_asp):\n",
    "            category_difference = 0\n",
    "        else:\n",
    "            category_difference = category_actual_asp - category_budget_asp\n",
    "        # print(category, category_difference)\n",
    "        contribution[f\"{column}+{category}\"] = category_difference if category_difference > 0 else 0\n",
    "        contribution[f\"{column}-{category}\"] = category_difference if category_difference < 0 else 0"
   ]
  },
  {
   "cell_type": "code",
   "execution_count": 159,
   "metadata": {},
   "outputs": [
    {
     "data": {
      "text/plain": [
       "{'舊分類+LSR': 0,\n",
       " '舊分類-LSR': -406.3265526932082,\n",
       " '舊分類+TBR': 0,\n",
       " '舊分類-TBR': -1244.0734840798305,\n",
       " '大通路+AG': 0,\n",
       " '大通路-AG': -8349.017064846417,\n",
       " '大通路+BSSC-FLT': 0,\n",
       " '大通路-BSSC-FLT': -890.071499623542,\n",
       " '大通路+BSSC': 0,\n",
       " '大通路-BSSC': -1494.848689705972,\n",
       " '大通路+FLT-REP': 0,\n",
       " '大通路-FLT-REP': -138.37615033543625,\n",
       " 'position_up+No': 0,\n",
       " 'position_up-No': -856.7931260817495,\n",
       " 'position_up+New': 0,\n",
       " 'position_up-New': 0,\n",
       " 'promotion+Yes': 0,\n",
       " 'promotion-Yes': -385.64476741924227,\n",
       " 'promotion+No': 0,\n",
       " 'promotion-No': -2556.773172905526}"
      ]
     },
     "execution_count": 159,
     "metadata": {},
     "output_type": "execute_result"
    }
   ],
   "source": [
    "contribution"
   ]
  },
  {
   "cell_type": "code",
   "execution_count": 160,
   "metadata": {},
   "outputs": [
    {
     "data": {
      "text/plain": [
       "-16321.924507690925"
      ]
     },
     "execution_count": 160,
     "metadata": {},
     "output_type": "execute_result"
    }
   ],
   "source": [
    "sum(contribution.values())"
   ]
  },
  {
   "cell_type": "code",
   "execution_count": 161,
   "metadata": {},
   "outputs": [
    {
     "name": "stdout",
     "output_type": "stream",
     "text": [
      "預算平均銷售NET價格：9735.20\n",
      "實績平均銷售NET價格：8755.00\n",
      "差異金額：-980.20\n",
      "舊分類+LSR的貢獻值：0.00\n",
      "舊分類-LSR的貢獻值：-24.40\n",
      "舊分類+TBR的貢獻值：0.00\n",
      "舊分類-TBR的貢獻值：-74.71\n",
      "大通路+AG的貢獻值：0.00\n",
      "大通路-AG的貢獻值：-501.39\n",
      "大通路+BSSC-FLT的貢獻值：0.00\n",
      "大通路-BSSC-FLT的貢獻值：-53.45\n",
      "大通路+BSSC的貢獻值：0.00\n",
      "大通路-BSSC的貢獻值：-89.77\n",
      "大通路+FLT-REP的貢獻值：0.00\n",
      "大通路-FLT-REP的貢獻值：-8.31\n",
      "position_up+No的貢獻值：0.00\n",
      "position_up-No的貢獻值：-51.45\n",
      "position_up+New的貢獻值：0.00\n",
      "position_up-New的貢獻值：0.00\n",
      "promotion+Yes的貢獻值：0.00\n",
      "promotion-Yes的貢獻值：-23.16\n",
      "promotion+No的貢獻值：0.00\n",
      "promotion-No的貢獻值：-153.54\n"
     ]
    }
   ],
   "source": [
    "# 總和貢獻值，計算所有keys的value，相加起來應該會等於基準和對比的asp的差異總和\n",
    "contribution_sum = sum(contribution.values())\n",
    "\n",
    "# 將貢獻值標準化為百分比，遍歷字典的每個key，然後計算每個value的百分比再乘上基準和對比的差異\n",
    "contribution_percentages = {key: (value / contribution_sum) * diff for key, value in contribution.items()}\n",
    "\n",
    "# 輸出結果\n",
    "print(f\"預算平均銷售NET價格：{budget_asp:.2f}\")\n",
    "print(f\"實績平均銷售NET價格：{actual_asp:.2f}\")\n",
    "print(f\"差異金額：{diff:.2f}\")\n",
    "for key, value in contribution_percentages.items():\n",
    "    print(f\"{key}的貢獻值：{value:.2f}\")\n",
    "# print(f\"貢獻值總和:{sum(contribution_percentages.values()):.2f}\")"
   ]
  },
  {
   "cell_type": "code",
   "execution_count": 162,
   "metadata": {},
   "outputs": [],
   "source": [
    "pro_mix = 0\n",
    "ch_mix = 0\n",
    "pos_up = 0\n",
    "discount = 0\n",
    "for key, value in contribution_percentages.items():\n",
    "    if '舊分類' in key:\n",
    "        pro_mix += value\n",
    "    elif '大通路' in key:\n",
    "        ch_mix += value\n",
    "    elif 'position_up' in key:\n",
    "        pos_up += value\n",
    "    else:\n",
    "        discount += value\n",
    "        \n",
    "    "
   ]
  },
  {
   "cell_type": "code",
   "execution_count": 163,
   "metadata": {},
   "outputs": [
    {
     "data": {
      "text/plain": [
       "[-99.1134418789071, -652.928004542628, -51.454019517710826, -176.7045340607548]"
      ]
     },
     "execution_count": 163,
     "metadata": {},
     "output_type": "execute_result"
    }
   ],
   "source": [
    "[pro_mix, ch_mix, pos_up, discount]"
   ]
  },
  {
   "cell_type": "code",
   "execution_count": 164,
   "metadata": {},
   "outputs": [
    {
     "name": "stdout",
     "output_type": "stream",
     "text": [
      "product mix is -99.0\n",
      "channel mix is -653.0\n",
      "position up is -51.0\n",
      "discount is -177.0\n"
     ]
    }
   ],
   "source": [
    "print('product mix is {}'.format(round(pro_mix, 0)))\n",
    "print('channel mix is {}'.format(round(ch_mix, 0)))\n",
    "print('position up is {}'.format(round(pos_up, 0)))\n",
    "print('discount is {}'.format(round(discount, 0)))"
   ]
  },
  {
   "cell_type": "code",
   "execution_count": 148,
   "metadata": {},
   "outputs": [],
   "source": [
    "pd.DataFrame([pos_up, 0, ch_mix, pro_mix, discount]).to_clipboard(index=False)"
   ]
  },
  {
   "cell_type": "code",
   "execution_count": null,
   "metadata": {},
   "outputs": [],
   "source": []
  },
  {
   "cell_type": "code",
   "execution_count": null,
   "metadata": {},
   "outputs": [],
   "source": []
  }
 ],
 "metadata": {
  "kernelspec": {
   "display_name": "python_env",
   "language": "python",
   "name": "python3"
  },
  "language_info": {
   "codemirror_mode": {
    "name": "ipython",
    "version": 3
   },
   "file_extension": ".py",
   "mimetype": "text/x-python",
   "name": "python",
   "nbconvert_exporter": "python",
   "pygments_lexer": "ipython3",
   "version": "3.10.6"
  },
  "orig_nbformat": 4
 },
 "nbformat": 4,
 "nbformat_minor": 2
}
