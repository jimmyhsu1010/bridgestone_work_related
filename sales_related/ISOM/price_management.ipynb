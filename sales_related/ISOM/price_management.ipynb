{
 "cells": [
  {
   "cell_type": "code",
   "execution_count": 1,
   "metadata": {},
   "outputs": [],
   "source": [
    "import pandas as pd\n",
    "pd.set_option(\"display.max_columns\", None)\n",
    "pd.set_option(\"mode.chained_assignment\", None)\n",
    "import warnings\n",
    "warnings.filterwarnings(\"ignore\")\n",
    "\n"
   ]
  },
  {
   "cell_type": "code",
   "execution_count": 2,
   "metadata": {},
   "outputs": [],
   "source": [
    "# 讀取SizeData\n",
    "df = pd.read_excel(r\"D:\\kc.hsu\\OneDrive - Bridgestone\\數據\\2023ACT\\2023Q1_size_data.xlsx\", None)[\"工作表1\"]"
   ]
  },
  {
   "cell_type": "code",
   "execution_count": 3,
   "metadata": {},
   "outputs": [],
   "source": [
    "df[\"花紋\"] = df[\"花紋\"].map(lambda x: x[:4])"
   ]
  },
  {
   "cell_type": "code",
   "execution_count": 4,
   "metadata": {},
   "outputs": [],
   "source": [
    "df[\"position_up\"] = df[\"花紋\"].map(lambda x: \"New\" if x == \"R154\" or x == \"UAP1\" else \"No\")"
   ]
  },
  {
   "cell_type": "code",
   "execution_count": 5,
   "metadata": {},
   "outputs": [],
   "source": [
    "ch_key = ['FLT-REP', 'AG', 'A', 'FMC', '一般店', 'BSSC-FLT', 'CD', '中盤', 'DS',\n",
    "       'TK', 'MM', 'FMC BFP', 'FLT', 'TTC', 'BFP', '量販店', 'OT',\n",
    "       'FLT-BSSC', '加油站', '輪胎行', 'FT']\n",
    "ch_value = ['FLT-REP', 'AG', 'BSSC', 'BSSC', 'BSSC', 'BSSC-FLT', 'BSSC', 'BSSC', 'BSSC', 'BSSC', 'BSSC', 'BSSC', 'BSSC-FLT', 'BSSC', 'BSSC', 'BSSC', \n",
    "            'FLT-REP', 'BSSC-FLT', 'BSSC', 'BSSC', 'FLT-REP']\n",
    "ch_dict = dict(zip(ch_key, ch_value))"
   ]
  },
  {
   "cell_type": "code",
   "execution_count": 6,
   "metadata": {},
   "outputs": [],
   "source": [
    "df[\"大通路\"] = df[\"通路明細\"].map(ch_dict)"
   ]
  },
  {
   "cell_type": "code",
   "execution_count": 7,
   "metadata": {},
   "outputs": [],
   "source": [
    "df = df[df[\"預算/前實績\"] == \"23ACT\"]"
   ]
  },
  {
   "cell_type": "code",
   "execution_count": 8,
   "metadata": {},
   "outputs": [],
   "source": [
    "df[\"舊分類\"] = df[\"舊分類\"].map(lambda x: \"LSR\" if x == \"LSR進口品\" else x)"
   ]
  },
  {
   "cell_type": "code",
   "execution_count": 9,
   "metadata": {},
   "outputs": [],
   "source": [
    "df = df[[\"年月\", \"舊分類\", \"商品代號\", \"大通路\", \"position_up\", \"NET金額\", \"條數\"]]"
   ]
  },
  {
   "cell_type": "code",
   "execution_count": 10,
   "metadata": {},
   "outputs": [],
   "source": [
    "df = df.fillna(0)"
   ]
  },
  {
   "cell_type": "code",
   "execution_count": 11,
   "metadata": {},
   "outputs": [],
   "source": [
    "# 讀取RBA&C 2\n",
    "rt2 = pd.read_excel(r\"D:\\kc.hsu\\OneDrive - Bridgestone\\價格相關\\預算\\2023\\RT2\\20230320_RT2_assumption v2.xlsx\", None)[\"RBA simulator with OP\"]\n"
   ]
  },
  {
   "cell_type": "code",
   "execution_count": 12,
   "metadata": {},
   "outputs": [],
   "source": [
    "rt2[\"position_up\"] = rt2[\"花紋\"].map(lambda x: \"New\" if x == \"R154\" or x == \"UAP1\" else \"No\")"
   ]
  },
  {
   "cell_type": "code",
   "execution_count": 13,
   "metadata": {},
   "outputs": [],
   "source": [
    "rt2 = rt2[[\"新年月\", \"Type\", \"PCODE\", \"大通路\", \"position_up\", \"NET Total\", \"數量\"]]"
   ]
  },
  {
   "cell_type": "code",
   "execution_count": 14,
   "metadata": {},
   "outputs": [],
   "source": [
    "rt2.columns = df.columns"
   ]
  },
  {
   "cell_type": "code",
   "execution_count": 75,
   "metadata": {},
   "outputs": [],
   "source": [
    "# 篩選基準和對比資料\n",
    "budget_df = df[(df[\"年月\"] == 202302)]\n",
    "actual_df = df[(df[\"年月\"] == 202303)]\n",
    "\n",
    "# budget_df = rt2[(rt2[\"年月\"] [\"年月\"] == 202305)]\n",
    "# actual_df = rt2[(rt2== 202306)]"
   ]
  },
  {
   "cell_type": "code",
   "execution_count": 77,
   "metadata": {},
   "outputs": [],
   "source": [
    "# 複製貼上有要做販促的PCODE\n",
    "promotion = pd.read_clipboard()[\"PCODE\"].values.tolist()\n",
    "budget_df[\"promotion\"] = budget_df[\"商品代號\"].map(lambda x: \"Yes\" if x in promotion else \"No\")"
   ]
  },
  {
   "cell_type": "code",
   "execution_count": 78,
   "metadata": {},
   "outputs": [],
   "source": [
    "promotion = pd.read_clipboard()[\"PCODE\"].values.tolist()\n",
    "actual_df[\"promotion\"] = actual_df[\"商品代號\"].map(lambda x: \"Yes\" if x in promotion else \"No\")"
   ]
  },
  {
   "cell_type": "code",
   "execution_count": 79,
   "metadata": {},
   "outputs": [],
   "source": [
    "final = pd.concat([budget_df, actual_df])"
   ]
  },
  {
   "cell_type": "code",
   "execution_count": 80,
   "metadata": {},
   "outputs": [],
   "source": [
    "budget_asp = round(budget_df[\"NET金額\"].sum() / budget_df[\"條數\"].sum(), 1)\n",
    "actual_asp = round(actual_df[\"NET金額\"].sum() / actual_df[\"條數\"].sum(), 1)"
   ]
  },
  {
   "cell_type": "code",
   "execution_count": 81,
   "metadata": {},
   "outputs": [
    {
     "name": "stdout",
     "output_type": "stream",
     "text": [
      "9596.6 9022.9\n",
      "0.9\n"
     ]
    }
   ],
   "source": [
    "print(budget_asp, actual_asp)\n",
    "print(round((actual_asp / budget_asp), 1))"
   ]
  },
  {
   "cell_type": "code",
   "execution_count": 82,
   "metadata": {},
   "outputs": [],
   "source": [
    "# 預算和實績ASP差異\n",
    "diff = actual_asp - budget_asp\n"
   ]
  },
  {
   "cell_type": "code",
   "execution_count": 83,
   "metadata": {},
   "outputs": [
    {
     "data": {
      "text/plain": [
       "-573.7000000000007"
      ]
     },
     "execution_count": 83,
     "metadata": {},
     "output_type": "execute_result"
    }
   ],
   "source": [
    "diff"
   ]
  },
  {
   "cell_type": "code",
   "execution_count": 84,
   "metadata": {},
   "outputs": [],
   "source": [
    "# 創建一個空字典來存儲貢獻值\n",
    "contribution = {}"
   ]
  },
  {
   "cell_type": "code",
   "execution_count": 85,
   "metadata": {},
   "outputs": [],
   "source": [
    "# 計算客戶舊分類、大通路、position up和promotion對差異的貢獻值\n",
    "# 將需要計算的欄位寫在list裡面然後建立一個loop\n",
    "# 將list裡面每個欄位裡面的unique value計算基準和對比的asp\n",
    "# 將對比和基準的asp做相減得到差異\n",
    "# 如果差異大於0，儲存在positive的keys，小於0的存在negative的keys\n",
    "for column in ['舊分類', '大通路', 'position_up', 'promotion']:\n",
    "    for category in final[column].unique():\n",
    "        category_budget = budget_df[budget_df[column] == category]\n",
    "        category_budget_asp = category_budget[\"NET金額\"].sum() / category_budget[\"條數\"].sum()\n",
    "        category_actual = actual_df[actual_df[column] == category]\n",
    "        category_actual_asp = category_actual[\"NET金額\"].sum() / category_actual[\"條數\"].sum()\n",
    "        category_difference = category_actual_asp - category_budget_asp\n",
    "        # print(category_difference)\n",
    "        contribution[f\"{column}+{category}\"] = category_difference if category_difference > 0 else 0\n",
    "        contribution[f\"{column}-{category}\"] = category_difference if category_difference < 0 else 0"
   ]
  },
  {
   "cell_type": "code",
   "execution_count": 86,
   "metadata": {},
   "outputs": [
    {
     "data": {
      "text/plain": [
       "-4413.006775954634"
      ]
     },
     "execution_count": 86,
     "metadata": {},
     "output_type": "execute_result"
    }
   ],
   "source": [
    "sum(contribution.values())"
   ]
  },
  {
   "cell_type": "code",
   "execution_count": 87,
   "metadata": {},
   "outputs": [
    {
     "name": "stdout",
     "output_type": "stream",
     "text": [
      "預算平均銷售NET價格：9596.60\n",
      "實績平均銷售NET價格：9022.90\n",
      "差異金額：-573.70\n",
      "舊分類+LSR的貢獻值：0.00\n",
      "舊分類-LSR的貢獻值：-20.45\n",
      "舊分類+TBR的貢獻值：0.00\n",
      "舊分類-TBR的貢獻值：-35.65\n",
      "大通路+FLT-REP的貢獻值：0.00\n",
      "大通路-FLT-REP的貢獻值：-0.67\n",
      "大通路+BSSC的貢獻值：0.00\n",
      "大通路-BSSC的貢獻值：-98.41\n",
      "大通路+BSSC-FLT的貢獻值：0.00\n",
      "大通路-BSSC-FLT的貢獻值：-3.02\n",
      "position_up+No的貢獻值：0.00\n",
      "position_up-No的貢獻值：-90.23\n",
      "position_up+New的貢獻值：0.00\n",
      "position_up-New的貢獻值：-194.52\n",
      "promotion+Yes的貢獻值：0.00\n",
      "promotion-Yes的貢獻值：-68.55\n",
      "promotion+No的貢獻值：0.00\n",
      "promotion-No的貢獻值：-62.20\n"
     ]
    }
   ],
   "source": [
    "# 總和貢獻值，計算所有keys的value，相加起來應該會等於基準和對比的asp的差異總和\n",
    "contribution_sum = sum(contribution.values())\n",
    "\n",
    "# 將貢獻值標準化為百分比，遍歷字典的每個key，然後計算每個value的百分比再乘上基準和對比的差異\n",
    "contribution_percentages = {key: (value / contribution_sum) * diff for key, value in contribution.items()}\n",
    "\n",
    "# 輸出結果\n",
    "print(f\"預算平均銷售NET價格：{budget_asp:.2f}\")\n",
    "print(f\"實績平均銷售NET價格：{actual_asp:.2f}\")\n",
    "print(f\"差異金額：{diff:.2f}\")\n",
    "for key, value in contribution_percentages.items():\n",
    "    print(f\"{key}的貢獻值：{value:.2f}\")\n",
    "# print(f\"貢獻值總和:{sum(contribution_percentages.values()):.2f}\")"
   ]
  },
  {
   "cell_type": "code",
   "execution_count": 88,
   "metadata": {},
   "outputs": [],
   "source": [
    "pro_mix = 0\n",
    "ch_mix = 0\n",
    "pos_up = 0\n",
    "discount = 0\n",
    "for key, value in contribution_percentages.items():\n",
    "    if '舊分類' in key:\n",
    "        pro_mix += value\n",
    "    elif '大通路' in key:\n",
    "        ch_mix += value\n",
    "    elif 'position_up' in key:\n",
    "        pos_up += value\n",
    "    else:\n",
    "        discount += value\n",
    "        \n",
    "    "
   ]
  },
  {
   "cell_type": "code",
   "execution_count": 89,
   "metadata": {},
   "outputs": [
    {
     "data": {
      "text/plain": [
       "[-56.09472231970848,\n",
       " -102.10468261466578,\n",
       " -284.7512071413696,\n",
       " -130.74938792425684]"
      ]
     },
     "execution_count": 89,
     "metadata": {},
     "output_type": "execute_result"
    }
   ],
   "source": [
    "[pro_mix, ch_mix, pos_up, discount]"
   ]
  },
  {
   "cell_type": "code",
   "execution_count": 90,
   "metadata": {},
   "outputs": [
    {
     "name": "stdout",
     "output_type": "stream",
     "text": [
      "product mix is -56.0\n",
      "channel mix is -102.0\n",
      "position up is -285.0\n",
      "discount is -131.0\n"
     ]
    }
   ],
   "source": [
    "print('product mix is {}'.format(round(pro_mix, 0)))\n",
    "print('channel mix is {}'.format(round(ch_mix, 0)))\n",
    "print('position up is {}'.format(round(pos_up, 0)))\n",
    "print('discount is {}'.format(round(discount, 0)))"
   ]
  },
  {
   "cell_type": "code",
   "execution_count": 53,
   "metadata": {},
   "outputs": [],
   "source": [
    "pd.DataFrame([pos_up, 0, ch_mix, pro_mix, discount]).to_clipboard(index=False)"
   ]
  },
  {
   "cell_type": "code",
   "execution_count": null,
   "metadata": {},
   "outputs": [],
   "source": []
  }
 ],
 "metadata": {
  "kernelspec": {
   "display_name": "python_env",
   "language": "python",
   "name": "python3"
  },
  "language_info": {
   "codemirror_mode": {
    "name": "ipython",
    "version": 3
   },
   "file_extension": ".py",
   "mimetype": "text/x-python",
   "name": "python",
   "nbconvert_exporter": "python",
   "pygments_lexer": "ipython3",
   "version": "3.10.6"
  },
  "orig_nbformat": 4
 },
 "nbformat": 4,
 "nbformat_minor": 2
}
