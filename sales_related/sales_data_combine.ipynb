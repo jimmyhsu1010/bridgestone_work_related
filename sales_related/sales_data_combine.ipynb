{
 "cells": [
  {
   "cell_type": "code",
   "execution_count": 20,
   "id": "cbc5e8cb",
   "metadata": {},
   "outputs": [],
   "source": [
    "import pandas as pd\n",
    "import numpy as np\n",
    "# from pivottablejs import pivot_ui\n",
    "# import qgrid\n",
    "\n",
    "pd.set_option(\"display.max_columns\", None)\n",
    "# pd.set_option(\"display.max_rows\", None)\n",
    "pd.set_option(\"mode.chained_assignment\", None)\n",
    "import plotly.express as px\n",
    "import tkinter as tk\n",
    "from tkinter import filedialog\n",
    "from datetime import datetime\n",
    "import pyodbc\n",
    "import time\n",
    "import timeit\n",
    "import sqlalchemy\n",
    "import dateutil.relativedelta\n",
    "import warnings\n",
    "warnings.filterwarnings(\"ignore\")\n",
    "from PIL import Image, ImageTk\n",
    "\n",
    "import os"
   ]
  },
  {
   "attachments": {},
   "cell_type": "markdown",
   "id": "043de1f7",
   "metadata": {},
   "source": [
    "## SQL數據處理class\n",
    "- 需要寫兩個.py檔，1個是初始化數據庫使用，1個是用在日常更新使用，更新頻率為半小時"
   ]
  },
  {
   "cell_type": "code",
   "execution_count": null,
   "id": "a1acd907",
   "metadata": {},
   "outputs": [],
   "source": [
    "# class for initialization\n",
    "class SQL_data_init:\n",
    "    \n",
    "    last_month = \"'\" + (datetime.now() + dateutil.relativedelta.relativedelta(months=-1)).strftime(\"%Y%m\") + \"01'\"\n",
    "    \n",
    "    def __init__(self, init=True) -> None:\n",
    "        self._server = \"10.226.0.53\"\n",
    "        self._database = \"master\"\n",
    "        self._username = \"BIUser\"\n",
    "        self._password = \"test\"\n",
    "        self._cnxn = self.conn_server()\n",
    "        self._server_ex = \"10.226.61.50\"\n",
    "        self._database_ex = \"SAP_DW\"\n",
    "        self._cnxn_ex = self.conn_server(fetch=False)\n",
    "        self.init = init\n",
    "        self.df = self.fetch_new_data(init=init)\n",
    "        self.clean_df = self.data_preprocessing()\n",
    "        self.loading2view()\n",
    "        \n",
    "            \n",
    "    \n",
    "    def conn_server(self, fetch=True):\n",
    "        if fetch == True:\n",
    "            cnxn = pyodbc.connect(driver='SQL Server',server=self._server,database=self._database ,uid=self._username,password=self._password)\n",
    "        else:\n",
    "            cnxn = pyodbc.connect(driver='SQL Server',server=self._server_ex,database=self._database_ex ,uid=self._username,password=self._password)\n",
    "        return cnxn\n",
    "    \n",
    "    \n",
    "    def fetch_new_data(self, init=True):\n",
    "        if init == True:\n",
    "            '''When init=False, initialize the data'''\n",
    "            script = \"select * from [10.212.27.198].FC0.dbo.V_BI_ZMAW where 實際出貨日 >= '20230101'\"\n",
    "        else:\n",
    "            script = \"select * from [10.212.27.198].FC0.dbo.V_BI_ZMAW where 實際出貨日 >= {}\".format(self.last_month)\n",
    "        df = pd.read_sql(script, self._cnxn)\n",
    "        return df\n",
    "    \n",
    "    \n",
    "    def data_preprocessing(self):\n",
    "        df = self.df\n",
    "        df[\"CreatedDateTime\"] = datetime.now()\n",
    "        df[['訂單數量', '交貨數量', '發票單價', '發票未稅', '稅額', '發票合計', '銷售數量', '銷貨單價',\n",
    "        '未稅銷貨']] = df[['訂單數量', '交貨數量', '發票單價', '發票未稅', '稅額', '發票合計', '銷售數量', '銷貨單價',\n",
    "        '未稅銷貨']].fillna(0)\n",
    "        return df\n",
    "        \n",
    "    \n",
    "    \n",
    "    def loading2view(self):\n",
    "        df = self.clean_df\n",
    "        conn = self._cnxn_ex\n",
    "        cursor = conn.cursor()\n",
    "        if self.init == True:\n",
    "            cursor.execute(\"DELETE from ZMAW\")\n",
    "            cursor.commit()\n",
    "            for index, row in df.iterrows():\n",
    "                cursor.execute('INSERT INTO ZMAW (組織, 出貨點, 所名, 區域, 訂單建立日, 訂單文件日, 訂單建立時, 交貨文件日, 計劃出貨日, 實際出貨日, 交單建立時, 請款建立日, 請款日期, 請款建立時, 訂單建立人, 交單建立人, 請款建立人, 訂單備註, 產品階層, 訂單類型, 訂單類型說明, 交貨類型, 交貨類型說明, 請款類型, 請款類型說明, 訂單單號, 訂單項次, 交貨單號, 交貨項次, 請款文件, 請款文件項次, 發票號碼, 買方, 送貨方, 彙總客戶, 業務員, 小胎業務員, 大胎業務員, 買方全名, 買方簡稱, 送貨方全名, 送貨方簡稱, 彙總客戶全名, 彙總客戶簡稱, 業務員全名, 業務員簡稱, 小胎業務員簡稱, 大胎業務員簡稱, 配銷通路, 販社通路, 大胎契約, 小胎契約, 付款條件, 物料群組, 分類, 物料, 物料說明, 花紋別, Premium, 吋別, 中計, 訂單數量, 交貨數量, 發票單價, 發票未稅, 稅額, 發票合計, 銷售數量, 銷貨單價, 未稅銷貨, CreatedDateTime) values (?, ?, ?, ?, ?, ?, ?, ?, ?, ?, ?, ?, ?, ?, ?, ?, ?, ?, ?, ?, ?, ?, ?, ?, ?, ?, ?, ?, ?, ?, ?, ?, ?, ?, ?, ?, ?, ?, ?, ?, ?, ?, ?, ?, ?, ?, ?, ?, ?, ?, ?, ?, ?, ?, ?, ?, ?, ?, ?, ?, ?, ?, ?, ?, ?, ?, ?, ?, ?, ?, ?)', tuple(row))\n",
    "        else:\n",
    "            delete = \"DELETE from ZMAW where 實際出貨日 >= {}\".format(self.last_month)\n",
    "            cursor.execute(delete)\n",
    "            cursor.commit()\n",
    "            for index, row in df.iterrows():\n",
    "                cursor.execute('INSERT INTO ZMAW (組織, 出貨點, 所名, 區域, 訂單建立日, 訂單文件日, 訂單建立時, 交貨文件日, 計劃出貨日, 實際出貨日, 交單建立時, 請款建立日, 請款日期, 請款建立時, 訂單建立人, 交單建立人, 請款建立人, 訂單備註, 產品階層, 訂單類型, 訂單類型說明, 交貨類型, 交貨類型說明, 請款類型, 請款類型說明, 訂單單號, 訂單項次, 交貨單號, 交貨項次, 請款文件, 請款文件項次, 發票號碼, 買方, 送貨方, 彙總客戶, 業務員, 小胎業務員, 大胎業務員, 買方全名, 買方簡稱, 送貨方全名, 送貨方簡稱, 彙總客戶全名, 彙總客戶簡稱, 業務員全名, 業務員簡稱, 小胎業務員簡稱, 大胎業務員簡稱, 配銷通路, 販社通路, 大胎契約, 小胎契約, 付款條件, 物料群組, 分類, 物料, 物料說明, 花紋別, Premium, 吋別, 中計, 訂單數量, 交貨數量, 發票單價, 發票未稅, 稅額, 發票合計, 銷售數量, 銷貨單價, 未稅銷貨, CreatedDateTime) values (?, ?, ?, ?, ?, ?, ?, ?, ?, ?, ?, ?, ?, ?, ?, ?, ?, ?, ?, ?, ?, ?, ?, ?, ?, ?, ?, ?, ?, ?, ?, ?, ?, ?, ?, ?, ?, ?, ?, ?, ?, ?, ?, ?, ?, ?, ?, ?, ?, ?, ?, ?, ?, ?, ?, ?, ?, ?, ?, ?, ?, ?, ?, ?, ?, ?, ?, ?, ?, ?, ?)', tuple(row))\n",
    "        conn.commit()\n",
    "        cursor.close()\n",
    "        \n",
    "        \n",
    "if __name__ == \"__main__\":\n",
    "    SQL_data_init()\n",
    "        "
   ]
  },
  {
   "cell_type": "code",
   "execution_count": null,
   "id": "47675782",
   "metadata": {},
   "outputs": [],
   "source": [
    "# Routine update\n",
    "class SQL_data:\n",
    "    \n",
    "    last_month = \"'\" + (datetime.now() + dateutil.relativedelta.relativedelta(months=-1)).strftime(\"%Y%m\") + \"01'\"\n",
    "    \n",
    "    def __init__(self, init=False) -> None:\n",
    "        self._server = \"10.226.0.53\"\n",
    "        self._database = \"master\"\n",
    "        self._username = \"BIUser\"\n",
    "        self._password = \"test\"\n",
    "        self._cnxn = self.conn_server()\n",
    "        self._server_ex = \"10.226.61.50\"\n",
    "        self._database_ex = \"SAP_DW\"\n",
    "        self._cnxn_ex = self.conn_server(fetch=False)\n",
    "        self.init = init\n",
    "        self.df = self.fetch_new_data(init=init)\n",
    "        self.clean_df = self.data_preprocessing()\n",
    "        self.loading2view()\n",
    "        \n",
    "            \n",
    "    \n",
    "    def conn_server(self, fetch=True):\n",
    "        if fetch == True:\n",
    "            cnxn = pyodbc.connect(driver='SQL Server',server=self._server,database=self._database ,uid=self._username,password=self._password)\n",
    "        else:\n",
    "            cnxn = pyodbc.connect(driver='SQL Server',server=self._server_ex,database=self._database_ex ,uid=self._username,password=self._password)\n",
    "        return cnxn\n",
    "    \n",
    "    \n",
    "    def fetch_new_data(self, init=True):\n",
    "        if init == True:\n",
    "            '''When init=False, initialize the data'''\n",
    "            script = \"select * from [10.212.27.198].FC0.dbo.V_BI_ZMAW where 實際出貨日 >= '20230201'\"\n",
    "        else:\n",
    "            script = \"select * from [10.212.27.198].FC0.dbo.V_BI_ZMAW where 實際出貨日 >= {}\".format(self.last_month)\n",
    "        df = pd.read_sql(script, self._cnxn)\n",
    "        return df\n",
    "    \n",
    "    \n",
    "    def data_preprocessing(self):\n",
    "        df = self.df\n",
    "        df[\"CreatedDateTime\"] = datetime.now()\n",
    "        df[['訂單數量', '交貨數量', '發票單價', '發票未稅', '稅額', '發票合計', '銷售數量', '銷貨單價',\n",
    "        '未稅銷貨']] = df[['訂單數量', '交貨數量', '發票單價', '發票未稅', '稅額', '發票合計', '銷售數量', '銷貨單價',\n",
    "        '未稅銷貨']].fillna(0)\n",
    "        return df\n",
    "        \n",
    "    \n",
    "    \n",
    "    def loading2view(self):\n",
    "        df = self.clean_df\n",
    "        conn = self._cnxn_ex\n",
    "        cursor = conn.cursor()\n",
    "        if self.init == True:\n",
    "            cursor.execute(\"DELETE from ZMAW\")\n",
    "            cursor.commit()\n",
    "            for index, row in df.iterrows():\n",
    "                cursor.execute('INSERT INTO ZMAW (組織, 出貨點, 所名, 區域, 訂單建立日, 訂單文件日, 訂單建立時, 交貨文件日, 計劃出貨日, 實際出貨日, 交單建立時, 請款建立日, 請款日期, 請款建立時, 訂單建立人, 交單建立人, 請款建立人, 訂單備註, 產品階層, 訂單類型, 訂單類型說明, 交貨類型, 交貨類型說明, 請款類型, 請款類型說明, 訂單單號, 訂單項次, 交貨單號, 交貨項次, 請款文件, 請款文件項次, 發票號碼, 買方, 送貨方, 彙總客戶, 業務員, 小胎業務員, 大胎業務員, 買方全名, 買方簡稱, 送貨方全名, 送貨方簡稱, 彙總客戶全名, 彙總客戶簡稱, 業務員全名, 業務員簡稱, 小胎業務員簡稱, 大胎業務員簡稱, 配銷通路, 販社通路, 大胎契約, 小胎契約, 付款條件, 物料群組, 分類, 物料, 物料說明, 花紋別, Premium, 吋別, 中計, 訂單數量, 交貨數量, 發票單價, 發票未稅, 稅額, 發票合計, 銷售數量, 銷貨單價, 未稅銷貨, CreatedDateTime) values (?, ?, ?, ?, ?, ?, ?, ?, ?, ?, ?, ?, ?, ?, ?, ?, ?, ?, ?, ?, ?, ?, ?, ?, ?, ?, ?, ?, ?, ?, ?, ?, ?, ?, ?, ?, ?, ?, ?, ?, ?, ?, ?, ?, ?, ?, ?, ?, ?, ?, ?, ?, ?, ?, ?, ?, ?, ?, ?, ?, ?, ?, ?, ?, ?, ?, ?, ?, ?, ?, ?)', tuple(row))\n",
    "        else:\n",
    "            delete = \"DELETE from ZMAW where 實際出貨日 >= {}\".format(self.last_month)\n",
    "            cursor.execute(delete)\n",
    "            cursor.commit()\n",
    "            for index, row in df.iterrows():\n",
    "                cursor.execute('INSERT INTO ZMAW (組織, 出貨點, 所名, 區域, 訂單建立日, 訂單文件日, 訂單建立時, 交貨文件日, 計劃出貨日, 實際出貨日, 交單建立時, 請款建立日, 請款日期, 請款建立時, 訂單建立人, 交單建立人, 請款建立人, 訂單備註, 產品階層, 訂單類型, 訂單類型說明, 交貨類型, 交貨類型說明, 請款類型, 請款類型說明, 訂單單號, 訂單項次, 交貨單號, 交貨項次, 請款文件, 請款文件項次, 發票號碼, 買方, 送貨方, 彙總客戶, 業務員, 小胎業務員, 大胎業務員, 買方全名, 買方簡稱, 送貨方全名, 送貨方簡稱, 彙總客戶全名, 彙總客戶簡稱, 業務員全名, 業務員簡稱, 小胎業務員簡稱, 大胎業務員簡稱, 配銷通路, 販社通路, 大胎契約, 小胎契約, 付款條件, 物料群組, 分類, 物料, 物料說明, 花紋別, Premium, 吋別, 中計, 訂單數量, 交貨數量, 發票單價, 發票未稅, 稅額, 發票合計, 銷售數量, 銷貨單價, 未稅銷貨, CreatedDateTime) values (?, ?, ?, ?, ?, ?, ?, ?, ?, ?, ?, ?, ?, ?, ?, ?, ?, ?, ?, ?, ?, ?, ?, ?, ?, ?, ?, ?, ?, ?, ?, ?, ?, ?, ?, ?, ?, ?, ?, ?, ?, ?, ?, ?, ?, ?, ?, ?, ?, ?, ?, ?, ?, ?, ?, ?, ?, ?, ?, ?, ?, ?, ?, ?, ?, ?, ?, ?, ?, ?, ?)', tuple(row))\n",
    "        conn.commit()\n",
    "        cursor.close()\n",
    "        \n",
    "        \n",
    "if __name__ == \"__main__\":\n",
    "    SQL_data()\n",
    "        "
   ]
  },
  {
   "cell_type": "code",
   "execution_count": null,
   "id": "c042a5f6",
   "metadata": {},
   "outputs": [],
   "source": [
    "# Verify the result\n",
    "server = \"10.226.61.50\"\n",
    "database = \"SAP_DW\"\n",
    "username = \"BIUser\"\n",
    "password = \"test\"\n",
    "\n",
    "conn = pyodbc.connect(driver='SQL Server',server=server,database=database ,uid=username,password=password)\n",
    "cursor = conn.cursor()\n",
    "df = pd.read_sql(\"select * from [dbo].[ZMAW]\", con=conn)\n",
    "df"
   ]
  },
  {
   "cell_type": "code",
   "execution_count": null,
   "id": "14c70ced",
   "metadata": {},
   "outputs": [],
   "source": [
    "# 計算業績販社只有ZSO1和ZKE的訂單類型有效，本社是ZOR1（TBR(G)）\n",
    "result = df[(df[\"中計\"].str.contains(\"TBR|LSR2\")) & (df[\"訂單類型\"].isin([\"ZSO1\", \"ZKE\", \"ZOR1\"])) & (df[\"配銷通路\"].isin([\"OT\", \"FT\", \"AG\"]))]\n",
    "result[\"銷售數量\"].sum()\n",
    "result\n",
    "result[\"買方\"].unique()\n",
    "\n"
   ]
  },
  {
   "cell_type": "markdown",
   "id": "7c9b3aa8-f000-412a-8f62-8b5c73d69eda",
   "metadata": {
    "tags": []
   },
   "source": [
    "## SQL Server 連線"
   ]
  },
  {
   "cell_type": "code",
   "execution_count": 2,
   "id": "822e7a3d",
   "metadata": {},
   "outputs": [],
   "source": [
    "server = \"10.226.0.53\"\n",
    "database = \"SAP_DW\"\n",
    "username = \"BI_User\"\n",
    "password = \"BsSQLDB\""
   ]
  },
  {
   "cell_type": "code",
   "execution_count": null,
   "id": "55ce6f93",
   "metadata": {},
   "outputs": [],
   "source": [
    "cnxn = pyodbc.connect(driver='SQL Server', server=server, database=database, uid=username, password=password)\n",
    "pd.read_sql(\"select * from ZMAW\", cnxn)"
   ]
  },
  {
   "cell_type": "code",
   "execution_count": 2,
   "id": "c540d162-d693-4d00-8b77-5bdf7026e908",
   "metadata": {},
   "outputs": [],
   "source": [
    "server = \"10.226.0.53\"\n",
    "database = \"master\"\n",
    "username = \"BI_User\"\n",
    "password = \"BsSQLDB\""
   ]
  },
  {
   "cell_type": "code",
   "execution_count": 3,
   "id": "37424ce4-8fd2-4db3-b13e-f494fcd08bdf",
   "metadata": {},
   "outputs": [],
   "source": [
    "cnxn = pyodbc.connect(driver='SQL Server',server=server,database=database ,uid=username,password=password)"
   ]
  },
  {
   "cell_type": "code",
   "execution_count": null,
   "id": "31235af0-eaea-499e-937c-df9b449f39b2",
   "metadata": {},
   "outputs": [],
   "source": [
    "cursor = cnxn.cursor()"
   ]
  },
  {
   "cell_type": "code",
   "execution_count": null,
   "id": "3799f470-aedc-494a-b0f5-2d4a198aa81e",
   "metadata": {},
   "outputs": [],
   "source": [
    "last_month = \"'\" + (datetime.now() + dateutil.relativedelta.relativedelta(months=-1)).strftime(\"%Y%m\") + \"01'\"\n",
    "last_month"
   ]
  },
  {
   "cell_type": "code",
   "execution_count": null,
   "id": "a19e08ce-fe9b-4361-9659-57a4da6e60dd",
   "metadata": {},
   "outputs": [],
   "source": [
    "script = \"select * from [10.212.27.198].FC0.dbo.V_BI_ZMAW where 實際出貨日 >= {}\".format(last_month)"
   ]
  },
  {
   "cell_type": "code",
   "execution_count": 4,
   "id": "4520be6b-6421-46e0-9ae1-ea64b3e9e3ad",
   "metadata": {},
   "outputs": [],
   "source": [
    "script = \"select * from [10.212.27.198].FC0.dbo.V_BI_ZMAW where 實際出貨日 >= '20230301'\""
   ]
  },
  {
   "cell_type": "code",
   "execution_count": 5,
   "id": "ae917847-78e0-4ff8-b5ae-c25cc29f7ab8",
   "metadata": {},
   "outputs": [],
   "source": [
    "df = pd.read_sql(script, cnxn)"
   ]
  },
  {
   "cell_type": "code",
   "execution_count": 6,
   "id": "a6bd133a",
   "metadata": {},
   "outputs": [
    {
     "data": {
      "text/plain": [
       "3751.0"
      ]
     },
     "execution_count": 6,
     "metadata": {},
     "output_type": "execute_result"
    }
   ],
   "source": [
    "df = df[(df[\"中計\"].str.contains(\"TBR|LSR2\")) & (df[\"訂單類型\"].isin([\"ZSO1\", \"ZKE\", \"ZOR1\"])) & (df[\"配銷通路\"].isin([\"OT\", \"FT\", \"AG\"]))]\n",
    "df[\"交貨數量\"].sum()"
   ]
  },
  {
   "cell_type": "code",
   "execution_count": 7,
   "id": "9223797b",
   "metadata": {},
   "outputs": [
    {
     "data": {
      "text/html": [
       "<div>\n",
       "<style scoped>\n",
       "    .dataframe tbody tr th:only-of-type {\n",
       "        vertical-align: middle;\n",
       "    }\n",
       "\n",
       "    .dataframe tbody tr th {\n",
       "        vertical-align: top;\n",
       "    }\n",
       "\n",
       "    .dataframe thead th {\n",
       "        text-align: right;\n",
       "    }\n",
       "</style>\n",
       "<table border=\"1\" class=\"dataframe\">\n",
       "  <thead>\n",
       "    <tr style=\"text-align: right;\">\n",
       "      <th></th>\n",
       "      <th>組織</th>\n",
       "      <th>出貨點</th>\n",
       "      <th>所名</th>\n",
       "      <th>區域</th>\n",
       "      <th>訂單建立日</th>\n",
       "      <th>訂單文件日</th>\n",
       "      <th>訂單建立時</th>\n",
       "      <th>交貨文件日</th>\n",
       "      <th>計劃出貨日</th>\n",
       "      <th>實際出貨日</th>\n",
       "      <th>交單建立時</th>\n",
       "      <th>請款建立日</th>\n",
       "      <th>請款日期</th>\n",
       "      <th>請款建立時</th>\n",
       "      <th>訂單建立人</th>\n",
       "      <th>交單建立人</th>\n",
       "      <th>請款建立人</th>\n",
       "      <th>訂單備註</th>\n",
       "      <th>產品階層</th>\n",
       "      <th>訂單類型</th>\n",
       "      <th>訂單類型說明</th>\n",
       "      <th>交貨類型</th>\n",
       "      <th>交貨類型說明</th>\n",
       "      <th>請款類型</th>\n",
       "      <th>請款類型說明</th>\n",
       "      <th>訂單單號</th>\n",
       "      <th>訂單項次</th>\n",
       "      <th>交貨單號</th>\n",
       "      <th>交貨項次</th>\n",
       "      <th>請款文件</th>\n",
       "      <th>請款文件項次</th>\n",
       "      <th>發票號碼</th>\n",
       "      <th>買方</th>\n",
       "      <th>送貨方</th>\n",
       "      <th>彙總客戶</th>\n",
       "      <th>業務員</th>\n",
       "      <th>小胎業務員</th>\n",
       "      <th>大胎業務員</th>\n",
       "      <th>買方全名</th>\n",
       "      <th>買方簡稱</th>\n",
       "      <th>送貨方全名</th>\n",
       "      <th>送貨方簡稱</th>\n",
       "      <th>彙總客戶全名</th>\n",
       "      <th>彙總客戶簡稱</th>\n",
       "      <th>業務員全名</th>\n",
       "      <th>業務員簡稱</th>\n",
       "      <th>小胎業務員簡稱</th>\n",
       "      <th>大胎業務員簡稱</th>\n",
       "      <th>配銷通路</th>\n",
       "      <th>販社通路</th>\n",
       "      <th>大胎契約</th>\n",
       "      <th>小胎契約</th>\n",
       "      <th>付款條件</th>\n",
       "      <th>物料群組</th>\n",
       "      <th>分類</th>\n",
       "      <th>物料</th>\n",
       "      <th>物料說明</th>\n",
       "      <th>花紋別</th>\n",
       "      <th>Premium</th>\n",
       "      <th>吋別</th>\n",
       "      <th>中計</th>\n",
       "      <th>訂單數量</th>\n",
       "      <th>交貨數量</th>\n",
       "      <th>發票單價</th>\n",
       "      <th>發票未稅</th>\n",
       "      <th>稅額</th>\n",
       "      <th>發票合計</th>\n",
       "      <th>銷售數量</th>\n",
       "      <th>銷貨單價</th>\n",
       "      <th>未稅銷貨</th>\n",
       "    </tr>\n",
       "  </thead>\n",
       "  <tbody>\n",
       "    <tr>\n",
       "      <th>134</th>\n",
       "      <td>BSFC</td>\n",
       "      <td>FF06</td>\n",
       "      <td>彰濱成品庫</td>\n",
       "      <td>None</td>\n",
       "      <td>2023-02-23</td>\n",
       "      <td>2023-02-23</td>\n",
       "      <td>093826</td>\n",
       "      <td>2023-03-01</td>\n",
       "      <td>2023-03-01</td>\n",
       "      <td>2023-03-01</td>\n",
       "      <td>091940</td>\n",
       "      <td>None</td>\n",
       "      <td>None</td>\n",
       "      <td>None</td>\n",
       "      <td>FHQ20S05</td>\n",
       "      <td>F06WHS01</td>\n",
       "      <td>None</td>\n",
       "      <td>3/1到貨 抄胎號</td>\n",
       "      <td></td>\n",
       "      <td>ZOR1</td>\n",
       "      <td>本社 - 一般訂單</td>\n",
       "      <td>ZF01</td>\n",
       "      <td>本社 - 標準訂單交貨</td>\n",
       "      <td>None</td>\n",
       "      <td>None</td>\n",
       "      <td>0104456523</td>\n",
       "      <td>000010</td>\n",
       "      <td>0280738556</td>\n",
       "      <td>000010</td>\n",
       "      <td>None</td>\n",
       "      <td>None</td>\n",
       "      <td>None</td>\n",
       "      <td>BC112014</td>\n",
       "      <td>BC112014</td>\n",
       "      <td>BC112014</td>\n",
       "      <td>B00</td>\n",
       "      <td>None</td>\n",
       "      <td>None</td>\n",
       "      <td>統聯汽車客運股份有限公司</td>\n",
       "      <td>統聯客運</td>\n",
       "      <td>統聯汽車客運股份有限公司</td>\n",
       "      <td>統聯客運</td>\n",
       "      <td>統聯汽車客運股份有限公司</td>\n",
       "      <td>統聯客運</td>\n",
       "      <td>BSFC業務員</td>\n",
       "      <td>BSFC業務員</td>\n",
       "      <td>None</td>\n",
       "      <td>None</td>\n",
       "      <td>FT</td>\n",
       "      <td>Z</td>\n",
       "      <td>Z</td>\n",
       "      <td>Z</td>\n",
       "      <td>Z120</td>\n",
       "      <td>TTBR</td>\n",
       "      <td>進口</td>\n",
       "      <td>TBR0J295</td>\n",
       "      <td>295/80R225 152M R156AZ</td>\n",
       "      <td>R156AZ</td>\n",
       "      <td>None</td>\n",
       "      <td>225</td>\n",
       "      <td>TBR3</td>\n",
       "      <td>60.0</td>\n",
       "      <td>60.0</td>\n",
       "      <td>NaN</td>\n",
       "      <td>NaN</td>\n",
       "      <td>NaN</td>\n",
       "      <td>NaN</td>\n",
       "      <td>60.0</td>\n",
       "      <td>9555.0</td>\n",
       "      <td>546000.0</td>\n",
       "    </tr>\n",
       "    <tr>\n",
       "      <th>135</th>\n",
       "      <td>BSFC</td>\n",
       "      <td>FF06</td>\n",
       "      <td>彰濱成品庫</td>\n",
       "      <td>None</td>\n",
       "      <td>2023-02-23</td>\n",
       "      <td>2023-02-23</td>\n",
       "      <td>143006</td>\n",
       "      <td>2023-03-01</td>\n",
       "      <td>2023-03-01</td>\n",
       "      <td>2023-03-01</td>\n",
       "      <td>111727</td>\n",
       "      <td>None</td>\n",
       "      <td>None</td>\n",
       "      <td>None</td>\n",
       "      <td>FHQ20S05</td>\n",
       "      <td>F06WHS01</td>\n",
       "      <td>None</td>\n",
       "      <td>3/1到貨 抄胎號</td>\n",
       "      <td></td>\n",
       "      <td>ZOR1</td>\n",
       "      <td>本社 - 一般訂單</td>\n",
       "      <td>ZF01</td>\n",
       "      <td>本社 - 標準訂單交貨</td>\n",
       "      <td>None</td>\n",
       "      <td>None</td>\n",
       "      <td>0104456903</td>\n",
       "      <td>000010</td>\n",
       "      <td>0280738765</td>\n",
       "      <td>000010</td>\n",
       "      <td>None</td>\n",
       "      <td>None</td>\n",
       "      <td>None</td>\n",
       "      <td>BC112014</td>\n",
       "      <td>0011201416</td>\n",
       "      <td>BC112014</td>\n",
       "      <td>B00</td>\n",
       "      <td>None</td>\n",
       "      <td>None</td>\n",
       "      <td>統聯汽車客運股份有限公司</td>\n",
       "      <td>統聯客運</td>\n",
       "      <td>統聯汽車客運股份有限公司</td>\n",
       "      <td>統聯</td>\n",
       "      <td>統聯汽車客運股份有限公司</td>\n",
       "      <td>統聯客運</td>\n",
       "      <td>BSFC業務員</td>\n",
       "      <td>BSFC業務員</td>\n",
       "      <td>None</td>\n",
       "      <td>None</td>\n",
       "      <td>FT</td>\n",
       "      <td>Z</td>\n",
       "      <td>Z</td>\n",
       "      <td>Z</td>\n",
       "      <td>Z120</td>\n",
       "      <td>TTBR</td>\n",
       "      <td>進口</td>\n",
       "      <td>TBR0J658</td>\n",
       "      <td>275/70R225 148J R162AZ</td>\n",
       "      <td>R162AZ</td>\n",
       "      <td>None</td>\n",
       "      <td>225</td>\n",
       "      <td>TBR3</td>\n",
       "      <td>10.0</td>\n",
       "      <td>10.0</td>\n",
       "      <td>NaN</td>\n",
       "      <td>NaN</td>\n",
       "      <td>NaN</td>\n",
       "      <td>NaN</td>\n",
       "      <td>10.0</td>\n",
       "      <td>9345.0</td>\n",
       "      <td>89000.0</td>\n",
       "    </tr>\n",
       "    <tr>\n",
       "      <th>582</th>\n",
       "      <td>FCC1</td>\n",
       "      <td>FF11</td>\n",
       "      <td>鶯歌所</td>\n",
       "      <td>北區</td>\n",
       "      <td>2023-03-01</td>\n",
       "      <td>2023-03-01</td>\n",
       "      <td>084932</td>\n",
       "      <td>2023-03-01</td>\n",
       "      <td>2023-03-01</td>\n",
       "      <td>2023-03-01</td>\n",
       "      <td>084956</td>\n",
       "      <td>None</td>\n",
       "      <td>None</td>\n",
       "      <td>None</td>\n",
       "      <td>F12SAS01</td>\n",
       "      <td>F12SAS01</td>\n",
       "      <td>None</td>\n",
       "      <td>None</td>\n",
       "      <td></td>\n",
       "      <td>ZSO1</td>\n",
       "      <td>販社 - 一般訂單</td>\n",
       "      <td>ZF02</td>\n",
       "      <td>販社 - 標準訂單交貨</td>\n",
       "      <td>None</td>\n",
       "      <td>None</td>\n",
       "      <td>0104459194</td>\n",
       "      <td>000010</td>\n",
       "      <td>0280740644</td>\n",
       "      <td>000010</td>\n",
       "      <td>None</td>\n",
       "      <td>None</td>\n",
       "      <td>None</td>\n",
       "      <td>E1E10103</td>\n",
       "      <td>E1E10103</td>\n",
       "      <td>E1E10103</td>\n",
       "      <td>D14</td>\n",
       "      <td>D16</td>\n",
       "      <td>D14</td>\n",
       "      <td>泛台貨櫃運輸股份有限公司</td>\n",
       "      <td>泛台貨櫃(樺台,快順</td>\n",
       "      <td>泛台貨櫃運輸股份有限公司</td>\n",
       "      <td>泛台貨櫃(樺台,快順</td>\n",
       "      <td>泛台貨櫃運輸股份有限公司</td>\n",
       "      <td>泛台貨櫃(樺台,快順</td>\n",
       "      <td>朱志昌</td>\n",
       "      <td>朱志昌</td>\n",
       "      <td>方隆芳</td>\n",
       "      <td>朱志昌</td>\n",
       "      <td>OT</td>\n",
       "      <td>G</td>\n",
       "      <td>9</td>\n",
       "      <td>9</td>\n",
       "      <td>W045</td>\n",
       "      <td>TTBR</td>\n",
       "      <td>進口</td>\n",
       "      <td>TBR0J085</td>\n",
       "      <td>12R225 16P 152L R224FZ</td>\n",
       "      <td>R224FZ</td>\n",
       "      <td>None</td>\n",
       "      <td>225</td>\n",
       "      <td>TBR3</td>\n",
       "      <td>6.0</td>\n",
       "      <td>6.0</td>\n",
       "      <td>NaN</td>\n",
       "      <td>NaN</td>\n",
       "      <td>NaN</td>\n",
       "      <td>NaN</td>\n",
       "      <td>6.0</td>\n",
       "      <td>10500.0</td>\n",
       "      <td>60000.0</td>\n",
       "    </tr>\n",
       "    <tr>\n",
       "      <th>607</th>\n",
       "      <td>FCC1</td>\n",
       "      <td>FF11</td>\n",
       "      <td>鶯歌所</td>\n",
       "      <td>北區</td>\n",
       "      <td>2023-03-01</td>\n",
       "      <td>2023-03-01</td>\n",
       "      <td>085224</td>\n",
       "      <td>2023-03-01</td>\n",
       "      <td>2023-03-01</td>\n",
       "      <td>2023-03-01</td>\n",
       "      <td>085310</td>\n",
       "      <td>None</td>\n",
       "      <td>None</td>\n",
       "      <td>None</td>\n",
       "      <td>F12SAS01</td>\n",
       "      <td>F12SAS01</td>\n",
       "      <td>None</td>\n",
       "      <td>None</td>\n",
       "      <td></td>\n",
       "      <td>ZSO1</td>\n",
       "      <td>販社 - 一般訂單</td>\n",
       "      <td>ZF02</td>\n",
       "      <td>販社 - 標準訂單交貨</td>\n",
       "      <td>None</td>\n",
       "      <td>None</td>\n",
       "      <td>0104459213</td>\n",
       "      <td>000010</td>\n",
       "      <td>0280740663</td>\n",
       "      <td>000010</td>\n",
       "      <td>None</td>\n",
       "      <td>None</td>\n",
       "      <td>None</td>\n",
       "      <td>E1E10112</td>\n",
       "      <td>E1E10112</td>\n",
       "      <td>E1E10112</td>\n",
       "      <td>D14</td>\n",
       "      <td>D16</td>\n",
       "      <td>D14</td>\n",
       "      <td>松騏通運有限公司</td>\n",
       "      <td>松騏通運</td>\n",
       "      <td>松騏通運有限公司</td>\n",
       "      <td>松騏通運</td>\n",
       "      <td>松騏通運有限公司</td>\n",
       "      <td>松騏通運</td>\n",
       "      <td>朱志昌</td>\n",
       "      <td>朱志昌</td>\n",
       "      <td>方隆芳</td>\n",
       "      <td>朱志昌</td>\n",
       "      <td>OT</td>\n",
       "      <td>G</td>\n",
       "      <td>9</td>\n",
       "      <td>9</td>\n",
       "      <td>Z030</td>\n",
       "      <td>TTBR</td>\n",
       "      <td>進口</td>\n",
       "      <td>TBR0J658</td>\n",
       "      <td>275/70R225 148J R162AZ</td>\n",
       "      <td>R162AZ</td>\n",
       "      <td>None</td>\n",
       "      <td>225</td>\n",
       "      <td>TBR3</td>\n",
       "      <td>2.0</td>\n",
       "      <td>2.0</td>\n",
       "      <td>NaN</td>\n",
       "      <td>NaN</td>\n",
       "      <td>NaN</td>\n",
       "      <td>NaN</td>\n",
       "      <td>2.0</td>\n",
       "      <td>12125.0</td>\n",
       "      <td>23094.0</td>\n",
       "    </tr>\n",
       "    <tr>\n",
       "      <th>618</th>\n",
       "      <td>FCC1</td>\n",
       "      <td>FF73</td>\n",
       "      <td>高雄所</td>\n",
       "      <td>南區</td>\n",
       "      <td>2023-03-01</td>\n",
       "      <td>2023-03-01</td>\n",
       "      <td>085307</td>\n",
       "      <td>2023-03-01</td>\n",
       "      <td>2023-03-01</td>\n",
       "      <td>2023-03-01</td>\n",
       "      <td>085509</td>\n",
       "      <td>None</td>\n",
       "      <td>None</td>\n",
       "      <td>None</td>\n",
       "      <td>F51SAS03</td>\n",
       "      <td>F51SAS03</td>\n",
       "      <td>None</td>\n",
       "      <td>None</td>\n",
       "      <td></td>\n",
       "      <td>ZSO1</td>\n",
       "      <td>販社 - 一般訂單</td>\n",
       "      <td>ZF02</td>\n",
       "      <td>販社 - 標準訂單交貨</td>\n",
       "      <td>None</td>\n",
       "      <td>None</td>\n",
       "      <td>0104459221</td>\n",
       "      <td>000020</td>\n",
       "      <td>0280740671</td>\n",
       "      <td>000020</td>\n",
       "      <td>None</td>\n",
       "      <td>None</td>\n",
       "      <td>None</td>\n",
       "      <td>L1L1E012</td>\n",
       "      <td>L1L1E012</td>\n",
       "      <td>L1L1E012</td>\n",
       "      <td>U18</td>\n",
       "      <td>U18</td>\n",
       "      <td>U02</td>\n",
       "      <td>新力輪胎行</td>\n",
       "      <td>新力</td>\n",
       "      <td>新力輪胎行</td>\n",
       "      <td>新力</td>\n",
       "      <td>新力輪胎行</td>\n",
       "      <td>新力</td>\n",
       "      <td>顏翔寬</td>\n",
       "      <td>顏翔寬</td>\n",
       "      <td>顏翔寬</td>\n",
       "      <td>張正平</td>\n",
       "      <td>OT</td>\n",
       "      <td>H</td>\n",
       "      <td>9</td>\n",
       "      <td>3</td>\n",
       "      <td>W030</td>\n",
       "      <td>TLSRJ</td>\n",
       "      <td>進口</td>\n",
       "      <td>LSR03765</td>\n",
       "      <td>235/75R  175  R294Z  132M</td>\n",
       "      <td>R294Z</td>\n",
       "      <td>None</td>\n",
       "      <td>175</td>\n",
       "      <td>LSR2</td>\n",
       "      <td>2.0</td>\n",
       "      <td>2.0</td>\n",
       "      <td>NaN</td>\n",
       "      <td>NaN</td>\n",
       "      <td>NaN</td>\n",
       "      <td>NaN</td>\n",
       "      <td>2.0</td>\n",
       "      <td>7528.0</td>\n",
       "      <td>14338.0</td>\n",
       "    </tr>\n",
       "    <tr>\n",
       "      <th>...</th>\n",
       "      <td>...</td>\n",
       "      <td>...</td>\n",
       "      <td>...</td>\n",
       "      <td>...</td>\n",
       "      <td>...</td>\n",
       "      <td>...</td>\n",
       "      <td>...</td>\n",
       "      <td>...</td>\n",
       "      <td>...</td>\n",
       "      <td>...</td>\n",
       "      <td>...</td>\n",
       "      <td>...</td>\n",
       "      <td>...</td>\n",
       "      <td>...</td>\n",
       "      <td>...</td>\n",
       "      <td>...</td>\n",
       "      <td>...</td>\n",
       "      <td>...</td>\n",
       "      <td>...</td>\n",
       "      <td>...</td>\n",
       "      <td>...</td>\n",
       "      <td>...</td>\n",
       "      <td>...</td>\n",
       "      <td>...</td>\n",
       "      <td>...</td>\n",
       "      <td>...</td>\n",
       "      <td>...</td>\n",
       "      <td>...</td>\n",
       "      <td>...</td>\n",
       "      <td>...</td>\n",
       "      <td>...</td>\n",
       "      <td>...</td>\n",
       "      <td>...</td>\n",
       "      <td>...</td>\n",
       "      <td>...</td>\n",
       "      <td>...</td>\n",
       "      <td>...</td>\n",
       "      <td>...</td>\n",
       "      <td>...</td>\n",
       "      <td>...</td>\n",
       "      <td>...</td>\n",
       "      <td>...</td>\n",
       "      <td>...</td>\n",
       "      <td>...</td>\n",
       "      <td>...</td>\n",
       "      <td>...</td>\n",
       "      <td>...</td>\n",
       "      <td>...</td>\n",
       "      <td>...</td>\n",
       "      <td>...</td>\n",
       "      <td>...</td>\n",
       "      <td>...</td>\n",
       "      <td>...</td>\n",
       "      <td>...</td>\n",
       "      <td>...</td>\n",
       "      <td>...</td>\n",
       "      <td>...</td>\n",
       "      <td>...</td>\n",
       "      <td>...</td>\n",
       "      <td>...</td>\n",
       "      <td>...</td>\n",
       "      <td>...</td>\n",
       "      <td>...</td>\n",
       "      <td>...</td>\n",
       "      <td>...</td>\n",
       "      <td>...</td>\n",
       "      <td>...</td>\n",
       "      <td>...</td>\n",
       "      <td>...</td>\n",
       "      <td>...</td>\n",
       "    </tr>\n",
       "    <tr>\n",
       "      <th>14794</th>\n",
       "      <td>BSFC</td>\n",
       "      <td>FF06</td>\n",
       "      <td>彰濱成品庫</td>\n",
       "      <td>None</td>\n",
       "      <td>2023-03-03</td>\n",
       "      <td>2023-03-03</td>\n",
       "      <td>094318</td>\n",
       "      <td>2023-03-07</td>\n",
       "      <td>2023-03-07</td>\n",
       "      <td>2023-03-07</td>\n",
       "      <td>125731</td>\n",
       "      <td>2023-03-14</td>\n",
       "      <td>2023-03-14</td>\n",
       "      <td>182116</td>\n",
       "      <td>FHQ20S05</td>\n",
       "      <td>F06WHS01</td>\n",
       "      <td>FHQ10S07</td>\n",
       "      <td>None</td>\n",
       "      <td></td>\n",
       "      <td>ZOR1</td>\n",
       "      <td>本社 - 一般訂單</td>\n",
       "      <td>ZF01</td>\n",
       "      <td>本社 - 標準訂單交貨</td>\n",
       "      <td>ZF2</td>\n",
       "      <td>發票_一般銷貨發票</td>\n",
       "      <td>0104460966</td>\n",
       "      <td>000010</td>\n",
       "      <td>0280743685</td>\n",
       "      <td>000010</td>\n",
       "      <td>0090817441</td>\n",
       "      <td>000032</td>\n",
       "      <td>MA72104468</td>\n",
       "      <td>BC101020</td>\n",
       "      <td>0010102003</td>\n",
       "      <td>BC101020</td>\n",
       "      <td>B00</td>\n",
       "      <td>None</td>\n",
       "      <td>None</td>\n",
       "      <td>嘉里冷鏈設備股份有限公司</td>\n",
       "      <td>嘉里冷鏈</td>\n",
       "      <td>嘉里冷鏈設備股份有限公司</td>\n",
       "      <td>嘉里冷鏈</td>\n",
       "      <td>嘉里冷鏈設備股份有限公司</td>\n",
       "      <td>嘉里冷鏈</td>\n",
       "      <td>BSFC業務員</td>\n",
       "      <td>BSFC業務員</td>\n",
       "      <td>None</td>\n",
       "      <td>None</td>\n",
       "      <td>FT</td>\n",
       "      <td>Z</td>\n",
       "      <td>Z</td>\n",
       "      <td>Z</td>\n",
       "      <td>Z090</td>\n",
       "      <td>TLSRJ</td>\n",
       "      <td>進口</td>\n",
       "      <td>LSR08435</td>\n",
       "      <td>215/75R175 124L R294Z</td>\n",
       "      <td>R294Z</td>\n",
       "      <td>None</td>\n",
       "      <td>175</td>\n",
       "      <td>LSR2</td>\n",
       "      <td>10.0</td>\n",
       "      <td>10.0</td>\n",
       "      <td>4725.0</td>\n",
       "      <td>45000.0</td>\n",
       "      <td>2250.0</td>\n",
       "      <td>47250.0</td>\n",
       "      <td>10.0</td>\n",
       "      <td>4725.0</td>\n",
       "      <td>45000.0</td>\n",
       "    </tr>\n",
       "    <tr>\n",
       "      <th>14817</th>\n",
       "      <td>BSFC</td>\n",
       "      <td>FF06</td>\n",
       "      <td>彰濱成品庫</td>\n",
       "      <td>None</td>\n",
       "      <td>2023-03-02</td>\n",
       "      <td>2023-03-02</td>\n",
       "      <td>090305</td>\n",
       "      <td>2023-03-03</td>\n",
       "      <td>2023-03-03</td>\n",
       "      <td>2023-03-03</td>\n",
       "      <td>111042</td>\n",
       "      <td>2023-03-08</td>\n",
       "      <td>2023-03-08</td>\n",
       "      <td>104831</td>\n",
       "      <td>FHQ20S05</td>\n",
       "      <td>F06WHS01</td>\n",
       "      <td>FHQ10S07</td>\n",
       "      <td>組裝用</td>\n",
       "      <td></td>\n",
       "      <td>ZOR1</td>\n",
       "      <td>本社 - 一般訂單</td>\n",
       "      <td>ZF01</td>\n",
       "      <td>本社 - 標準訂單交貨</td>\n",
       "      <td>ZF2</td>\n",
       "      <td>發票_一般銷貨發票</td>\n",
       "      <td>0104460212</td>\n",
       "      <td>000010</td>\n",
       "      <td>0280741887</td>\n",
       "      <td>000010</td>\n",
       "      <td>0090817343</td>\n",
       "      <td>000010</td>\n",
       "      <td>MA72104455</td>\n",
       "      <td>BC108042</td>\n",
       "      <td>0010804202</td>\n",
       "      <td>BC108042</td>\n",
       "      <td>B00</td>\n",
       "      <td>None</td>\n",
       "      <td>None</td>\n",
       "      <td>金龍汽車製造股份有限公司</td>\n",
       "      <td>金龍汽車OE</td>\n",
       "      <td>金龍汽車製造股份有限公司</td>\n",
       "      <td>金龍汽車OE</td>\n",
       "      <td>金龍汽車製造股份有限公司</td>\n",
       "      <td>金龍汽車OE</td>\n",
       "      <td>BSFC業務員</td>\n",
       "      <td>BSFC業務員</td>\n",
       "      <td>None</td>\n",
       "      <td>None</td>\n",
       "      <td>FT</td>\n",
       "      <td>Z</td>\n",
       "      <td>Z</td>\n",
       "      <td>Z</td>\n",
       "      <td>Z120</td>\n",
       "      <td>TTBR</td>\n",
       "      <td>進口</td>\n",
       "      <td>TBR0J658</td>\n",
       "      <td>275/70R225 148J R162AZ</td>\n",
       "      <td>R162AZ</td>\n",
       "      <td>None</td>\n",
       "      <td>225</td>\n",
       "      <td>TBR3</td>\n",
       "      <td>24.0</td>\n",
       "      <td>24.0</td>\n",
       "      <td>8400.0</td>\n",
       "      <td>192000.0</td>\n",
       "      <td>9600.0</td>\n",
       "      <td>201600.0</td>\n",
       "      <td>24.0</td>\n",
       "      <td>8400.0</td>\n",
       "      <td>192000.0</td>\n",
       "    </tr>\n",
       "    <tr>\n",
       "      <th>14843</th>\n",
       "      <td>BSFC</td>\n",
       "      <td>FF06</td>\n",
       "      <td>彰濱成品庫</td>\n",
       "      <td>None</td>\n",
       "      <td>2023-03-02</td>\n",
       "      <td>2023-03-02</td>\n",
       "      <td>085230</td>\n",
       "      <td>2023-03-03</td>\n",
       "      <td>2023-03-03</td>\n",
       "      <td>2023-03-03</td>\n",
       "      <td>111042</td>\n",
       "      <td>2023-03-08</td>\n",
       "      <td>2023-03-08</td>\n",
       "      <td>105002</td>\n",
       "      <td>FHQ20S05</td>\n",
       "      <td>F06WHS01</td>\n",
       "      <td>FHQ10S07</td>\n",
       "      <td>3/3到貨</td>\n",
       "      <td></td>\n",
       "      <td>ZOR1</td>\n",
       "      <td>本社 - 一般訂單</td>\n",
       "      <td>ZF01</td>\n",
       "      <td>本社 - 標準訂單交貨</td>\n",
       "      <td>ZF2</td>\n",
       "      <td>發票_一般銷貨發票</td>\n",
       "      <td>0104460183</td>\n",
       "      <td>000010</td>\n",
       "      <td>0280741886</td>\n",
       "      <td>000010</td>\n",
       "      <td>0090817347</td>\n",
       "      <td>000010</td>\n",
       "      <td>MA72104459</td>\n",
       "      <td>BC108037</td>\n",
       "      <td>BC108037</td>\n",
       "      <td>BC108037</td>\n",
       "      <td>B00</td>\n",
       "      <td>None</td>\n",
       "      <td>None</td>\n",
       "      <td>長榮國際儲運股份有限公司</td>\n",
       "      <td>長榮儲運</td>\n",
       "      <td>長榮國際儲運股份有限公司</td>\n",
       "      <td>長榮儲運</td>\n",
       "      <td>長榮國際儲運股份有限公司</td>\n",
       "      <td>長榮儲運</td>\n",
       "      <td>BSFC業務員</td>\n",
       "      <td>BSFC業務員</td>\n",
       "      <td>None</td>\n",
       "      <td>None</td>\n",
       "      <td>FT</td>\n",
       "      <td>Z</td>\n",
       "      <td>Z</td>\n",
       "      <td>Z</td>\n",
       "      <td>Z060</td>\n",
       "      <td>TTBR</td>\n",
       "      <td>進口</td>\n",
       "      <td>TBR0J295</td>\n",
       "      <td>295/80R225 152M R156AZ</td>\n",
       "      <td>R156AZ</td>\n",
       "      <td>None</td>\n",
       "      <td>225</td>\n",
       "      <td>TBR3</td>\n",
       "      <td>26.0</td>\n",
       "      <td>26.0</td>\n",
       "      <td>10080.0</td>\n",
       "      <td>249600.0</td>\n",
       "      <td>12480.0</td>\n",
       "      <td>262080.0</td>\n",
       "      <td>26.0</td>\n",
       "      <td>10080.0</td>\n",
       "      <td>249600.0</td>\n",
       "    </tr>\n",
       "    <tr>\n",
       "      <th>14846</th>\n",
       "      <td>FCC1</td>\n",
       "      <td>FF11</td>\n",
       "      <td>鶯歌所</td>\n",
       "      <td>北區</td>\n",
       "      <td>2023-03-03</td>\n",
       "      <td>2023-03-03</td>\n",
       "      <td>091315</td>\n",
       "      <td>2023-03-03</td>\n",
       "      <td>2023-03-03</td>\n",
       "      <td>2023-03-03</td>\n",
       "      <td>091322</td>\n",
       "      <td>2023-03-03</td>\n",
       "      <td>2023-03-03</td>\n",
       "      <td>160750</td>\n",
       "      <td>F12SAS03</td>\n",
       "      <td>F12SAS03</td>\n",
       "      <td>F11SAS01</td>\n",
       "      <td>None</td>\n",
       "      <td></td>\n",
       "      <td>ZSO1</td>\n",
       "      <td>販社 - 一般訂單</td>\n",
       "      <td>ZF02</td>\n",
       "      <td>販社 - 標準訂單交貨</td>\n",
       "      <td>ZF2</td>\n",
       "      <td>發票_一般銷貨發票</td>\n",
       "      <td>0104460924</td>\n",
       "      <td>000010</td>\n",
       "      <td>0280742433</td>\n",
       "      <td>000010</td>\n",
       "      <td>0090817296</td>\n",
       "      <td>000010</td>\n",
       "      <td>MJ15676311</td>\n",
       "      <td>C1X0C1H1</td>\n",
       "      <td>C2C10H02</td>\n",
       "      <td>C1X0C1H1</td>\n",
       "      <td>C18</td>\n",
       "      <td>None</td>\n",
       "      <td>None</td>\n",
       "      <td>和泰汽車股份有限公司</td>\n",
       "      <td>和泰汽車</td>\n",
       "      <td>北鶯和泰汽車內湖服務廠</td>\n",
       "      <td>北鶯和泰汽車內湖廠</td>\n",
       "      <td>和泰汽車股份有限公司</td>\n",
       "      <td>和泰汽車</td>\n",
       "      <td>鶯歌其他</td>\n",
       "      <td>鶯歌其他</td>\n",
       "      <td>None</td>\n",
       "      <td>None</td>\n",
       "      <td>OT</td>\n",
       "      <td>B1</td>\n",
       "      <td>9</td>\n",
       "      <td>9</td>\n",
       "      <td>W030</td>\n",
       "      <td>TLSRJ</td>\n",
       "      <td>進口</td>\n",
       "      <td>LSR08435</td>\n",
       "      <td>215/75R175 124L R294Z</td>\n",
       "      <td>R294Z</td>\n",
       "      <td>None</td>\n",
       "      <td>175</td>\n",
       "      <td>LSR2</td>\n",
       "      <td>2.0</td>\n",
       "      <td>2.0</td>\n",
       "      <td>6380.0</td>\n",
       "      <td>12152.0</td>\n",
       "      <td>608.0</td>\n",
       "      <td>12760.0</td>\n",
       "      <td>2.0</td>\n",
       "      <td>6380.0</td>\n",
       "      <td>12152.0</td>\n",
       "    </tr>\n",
       "    <tr>\n",
       "      <th>14889</th>\n",
       "      <td>BSFC</td>\n",
       "      <td>FF06</td>\n",
       "      <td>彰濱成品庫</td>\n",
       "      <td>None</td>\n",
       "      <td>2023-03-03</td>\n",
       "      <td>2023-03-03</td>\n",
       "      <td>101821</td>\n",
       "      <td>2023-03-06</td>\n",
       "      <td>2023-03-06</td>\n",
       "      <td>2023-03-06</td>\n",
       "      <td>112525</td>\n",
       "      <td>2023-03-08</td>\n",
       "      <td>2023-03-08</td>\n",
       "      <td>104333</td>\n",
       "      <td>FHQ20S05</td>\n",
       "      <td>F06WHS01</td>\n",
       "      <td>FHQ10S07</td>\n",
       "      <td>抄胎號 AC-QK50G9-K0</td>\n",
       "      <td></td>\n",
       "      <td>ZOR1</td>\n",
       "      <td>本社 - 一般訂單</td>\n",
       "      <td>ZF01</td>\n",
       "      <td>本社 - 標準訂單交貨</td>\n",
       "      <td>ZF2</td>\n",
       "      <td>發票_一般銷貨發票</td>\n",
       "      <td>0104461031</td>\n",
       "      <td>000010</td>\n",
       "      <td>0280742615</td>\n",
       "      <td>000010</td>\n",
       "      <td>0090817337</td>\n",
       "      <td>000010</td>\n",
       "      <td>MA72108053</td>\n",
       "      <td>BC105013</td>\n",
       "      <td>0010501302</td>\n",
       "      <td>BC105013</td>\n",
       "      <td>B00</td>\n",
       "      <td>None</td>\n",
       "      <td>None</td>\n",
       "      <td>台塑汽車貨運股份有限公司</td>\n",
       "      <td>台塑貨運</td>\n",
       "      <td>台塑汽車貨運股份有限公司</td>\n",
       "      <td>台塑貨運</td>\n",
       "      <td>台塑汽車貨運股份有限公司</td>\n",
       "      <td>台塑貨運</td>\n",
       "      <td>BSFC業務員</td>\n",
       "      <td>BSFC業務員</td>\n",
       "      <td>None</td>\n",
       "      <td>None</td>\n",
       "      <td>FT</td>\n",
       "      <td>Z</td>\n",
       "      <td>Z</td>\n",
       "      <td>Z</td>\n",
       "      <td>Z030</td>\n",
       "      <td>TTBR</td>\n",
       "      <td>進口</td>\n",
       "      <td>TBR0J600</td>\n",
       "      <td>315/80R225 B54M 18 R150Z</td>\n",
       "      <td>R150Z</td>\n",
       "      <td>None</td>\n",
       "      <td>225</td>\n",
       "      <td>TBR3</td>\n",
       "      <td>10.0</td>\n",
       "      <td>10.0</td>\n",
       "      <td>11781.0</td>\n",
       "      <td>112200.0</td>\n",
       "      <td>5610.0</td>\n",
       "      <td>117810.0</td>\n",
       "      <td>10.0</td>\n",
       "      <td>11781.0</td>\n",
       "      <td>112200.0</td>\n",
       "    </tr>\n",
       "  </tbody>\n",
       "</table>\n",
       "<p>530 rows × 70 columns</p>\n",
       "</div>"
      ],
      "text/plain": [
       "         組織   出貨點     所名    區域       訂單建立日       訂單文件日   訂單建立時       交貨文件日  \\\n",
       "134    BSFC  FF06  彰濱成品庫  None  2023-02-23  2023-02-23  093826  2023-03-01   \n",
       "135    BSFC  FF06  彰濱成品庫  None  2023-02-23  2023-02-23  143006  2023-03-01   \n",
       "582    FCC1  FF11    鶯歌所    北區  2023-03-01  2023-03-01  084932  2023-03-01   \n",
       "607    FCC1  FF11    鶯歌所    北區  2023-03-01  2023-03-01  085224  2023-03-01   \n",
       "618    FCC1  FF73    高雄所    南區  2023-03-01  2023-03-01  085307  2023-03-01   \n",
       "...     ...   ...    ...   ...         ...         ...     ...         ...   \n",
       "14794  BSFC  FF06  彰濱成品庫  None  2023-03-03  2023-03-03  094318  2023-03-07   \n",
       "14817  BSFC  FF06  彰濱成品庫  None  2023-03-02  2023-03-02  090305  2023-03-03   \n",
       "14843  BSFC  FF06  彰濱成品庫  None  2023-03-02  2023-03-02  085230  2023-03-03   \n",
       "14846  FCC1  FF11    鶯歌所    北區  2023-03-03  2023-03-03  091315  2023-03-03   \n",
       "14889  BSFC  FF06  彰濱成品庫  None  2023-03-03  2023-03-03  101821  2023-03-06   \n",
       "\n",
       "            計劃出貨日       實際出貨日   交單建立時       請款建立日        請款日期   請款建立時  \\\n",
       "134    2023-03-01  2023-03-01  091940        None        None    None   \n",
       "135    2023-03-01  2023-03-01  111727        None        None    None   \n",
       "582    2023-03-01  2023-03-01  084956        None        None    None   \n",
       "607    2023-03-01  2023-03-01  085310        None        None    None   \n",
       "618    2023-03-01  2023-03-01  085509        None        None    None   \n",
       "...           ...         ...     ...         ...         ...     ...   \n",
       "14794  2023-03-07  2023-03-07  125731  2023-03-14  2023-03-14  182116   \n",
       "14817  2023-03-03  2023-03-03  111042  2023-03-08  2023-03-08  104831   \n",
       "14843  2023-03-03  2023-03-03  111042  2023-03-08  2023-03-08  105002   \n",
       "14846  2023-03-03  2023-03-03  091322  2023-03-03  2023-03-03  160750   \n",
       "14889  2023-03-06  2023-03-06  112525  2023-03-08  2023-03-08  104333   \n",
       "\n",
       "          訂單建立人     交單建立人     請款建立人              訂單備註 產品階層  訂單類型     訂單類型說明  \\\n",
       "134    FHQ20S05  F06WHS01      None         3/1到貨 抄胎號       ZOR1  本社 - 一般訂單   \n",
       "135    FHQ20S05  F06WHS01      None         3/1到貨 抄胎號       ZOR1  本社 - 一般訂單   \n",
       "582    F12SAS01  F12SAS01      None              None       ZSO1  販社 - 一般訂單   \n",
       "607    F12SAS01  F12SAS01      None              None       ZSO1  販社 - 一般訂單   \n",
       "618    F51SAS03  F51SAS03      None              None       ZSO1  販社 - 一般訂單   \n",
       "...         ...       ...       ...               ...  ...   ...        ...   \n",
       "14794  FHQ20S05  F06WHS01  FHQ10S07              None       ZOR1  本社 - 一般訂單   \n",
       "14817  FHQ20S05  F06WHS01  FHQ10S07               組裝用       ZOR1  本社 - 一般訂單   \n",
       "14843  FHQ20S05  F06WHS01  FHQ10S07             3/3到貨       ZOR1  本社 - 一般訂單   \n",
       "14846  F12SAS03  F12SAS03  F11SAS01              None       ZSO1  販社 - 一般訂單   \n",
       "14889  FHQ20S05  F06WHS01  FHQ10S07  抄胎號 AC-QK50G9-K0       ZOR1  本社 - 一般訂單   \n",
       "\n",
       "       交貨類型       交貨類型說明  請款類型     請款類型說明        訂單單號    訂單項次        交貨單號  \\\n",
       "134    ZF01  本社 - 標準訂單交貨  None       None  0104456523  000010  0280738556   \n",
       "135    ZF01  本社 - 標準訂單交貨  None       None  0104456903  000010  0280738765   \n",
       "582    ZF02  販社 - 標準訂單交貨  None       None  0104459194  000010  0280740644   \n",
       "607    ZF02  販社 - 標準訂單交貨  None       None  0104459213  000010  0280740663   \n",
       "618    ZF02  販社 - 標準訂單交貨  None       None  0104459221  000020  0280740671   \n",
       "...     ...          ...   ...        ...         ...     ...         ...   \n",
       "14794  ZF01  本社 - 標準訂單交貨   ZF2  發票_一般銷貨發票  0104460966  000010  0280743685   \n",
       "14817  ZF01  本社 - 標準訂單交貨   ZF2  發票_一般銷貨發票  0104460212  000010  0280741887   \n",
       "14843  ZF01  本社 - 標準訂單交貨   ZF2  發票_一般銷貨發票  0104460183  000010  0280741886   \n",
       "14846  ZF02  販社 - 標準訂單交貨   ZF2  發票_一般銷貨發票  0104460924  000010  0280742433   \n",
       "14889  ZF01  本社 - 標準訂單交貨   ZF2  發票_一般銷貨發票  0104461031  000010  0280742615   \n",
       "\n",
       "         交貨項次        請款文件  請款文件項次        發票號碼        買方         送貨方      彙總客戶  \\\n",
       "134    000010        None    None        None  BC112014    BC112014  BC112014   \n",
       "135    000010        None    None        None  BC112014  0011201416  BC112014   \n",
       "582    000010        None    None        None  E1E10103    E1E10103  E1E10103   \n",
       "607    000010        None    None        None  E1E10112    E1E10112  E1E10112   \n",
       "618    000020        None    None        None  L1L1E012    L1L1E012  L1L1E012   \n",
       "...       ...         ...     ...         ...       ...         ...       ...   \n",
       "14794  000010  0090817441  000032  MA72104468  BC101020  0010102003  BC101020   \n",
       "14817  000010  0090817343  000010  MA72104455  BC108042  0010804202  BC108042   \n",
       "14843  000010  0090817347  000010  MA72104459  BC108037    BC108037  BC108037   \n",
       "14846  000010  0090817296  000010  MJ15676311  C1X0C1H1    C2C10H02  C1X0C1H1   \n",
       "14889  000010  0090817337  000010  MA72108053  BC105013  0010501302  BC105013   \n",
       "\n",
       "       業務員 小胎業務員 大胎業務員          買方全名        買方簡稱         送貨方全名       送貨方簡稱  \\\n",
       "134    B00  None  None  統聯汽車客運股份有限公司        統聯客運  統聯汽車客運股份有限公司        統聯客運   \n",
       "135    B00  None  None  統聯汽車客運股份有限公司        統聯客運  統聯汽車客運股份有限公司          統聯   \n",
       "582    D14   D16   D14  泛台貨櫃運輸股份有限公司  泛台貨櫃(樺台,快順  泛台貨櫃運輸股份有限公司  泛台貨櫃(樺台,快順   \n",
       "607    D14   D16   D14      松騏通運有限公司        松騏通運      松騏通運有限公司        松騏通運   \n",
       "618    U18   U18   U02         新力輪胎行          新力         新力輪胎行          新力   \n",
       "...    ...   ...   ...           ...         ...           ...         ...   \n",
       "14794  B00  None  None  嘉里冷鏈設備股份有限公司        嘉里冷鏈  嘉里冷鏈設備股份有限公司        嘉里冷鏈   \n",
       "14817  B00  None  None  金龍汽車製造股份有限公司      金龍汽車OE  金龍汽車製造股份有限公司      金龍汽車OE   \n",
       "14843  B00  None  None  長榮國際儲運股份有限公司        長榮儲運  長榮國際儲運股份有限公司        長榮儲運   \n",
       "14846  C18  None  None    和泰汽車股份有限公司        和泰汽車   北鶯和泰汽車內湖服務廠   北鶯和泰汽車內湖廠   \n",
       "14889  B00  None  None  台塑汽車貨運股份有限公司        台塑貨運  台塑汽車貨運股份有限公司        台塑貨運   \n",
       "\n",
       "             彙總客戶全名      彙總客戶簡稱    業務員全名    業務員簡稱 小胎業務員簡稱 大胎業務員簡稱 配銷通路 販社通路  \\\n",
       "134    統聯汽車客運股份有限公司        統聯客運  BSFC業務員  BSFC業務員    None    None   FT    Z   \n",
       "135    統聯汽車客運股份有限公司        統聯客運  BSFC業務員  BSFC業務員    None    None   FT    Z   \n",
       "582    泛台貨櫃運輸股份有限公司  泛台貨櫃(樺台,快順      朱志昌      朱志昌     方隆芳     朱志昌   OT    G   \n",
       "607        松騏通運有限公司        松騏通運      朱志昌      朱志昌     方隆芳     朱志昌   OT    G   \n",
       "618           新力輪胎行          新力      顏翔寬      顏翔寬     顏翔寬     張正平   OT    H   \n",
       "...             ...         ...      ...      ...     ...     ...  ...  ...   \n",
       "14794  嘉里冷鏈設備股份有限公司        嘉里冷鏈  BSFC業務員  BSFC業務員    None    None   FT    Z   \n",
       "14817  金龍汽車製造股份有限公司      金龍汽車OE  BSFC業務員  BSFC業務員    None    None   FT    Z   \n",
       "14843  長榮國際儲運股份有限公司        長榮儲運  BSFC業務員  BSFC業務員    None    None   FT    Z   \n",
       "14846    和泰汽車股份有限公司        和泰汽車     鶯歌其他     鶯歌其他    None    None   OT   B1   \n",
       "14889  台塑汽車貨運股份有限公司        台塑貨運  BSFC業務員  BSFC業務員    None    None   FT    Z   \n",
       "\n",
       "      大胎契約 小胎契約  付款條件   物料群組  分類        物料                       物料說明     花紋別  \\\n",
       "134      Z    Z  Z120   TTBR  進口  TBR0J295     295/80R225 152M R156AZ  R156AZ   \n",
       "135      Z    Z  Z120   TTBR  進口  TBR0J658     275/70R225 148J R162AZ  R162AZ   \n",
       "582      9    9  W045   TTBR  進口  TBR0J085     12R225 16P 152L R224FZ  R224FZ   \n",
       "607      9    9  Z030   TTBR  進口  TBR0J658     275/70R225 148J R162AZ  R162AZ   \n",
       "618      9    3  W030  TLSRJ  進口  LSR03765  235/75R  175  R294Z  132M   R294Z   \n",
       "...    ...  ...   ...    ...  ..       ...                        ...     ...   \n",
       "14794    Z    Z  Z090  TLSRJ  進口  LSR08435      215/75R175 124L R294Z   R294Z   \n",
       "14817    Z    Z  Z120   TTBR  進口  TBR0J658     275/70R225 148J R162AZ  R162AZ   \n",
       "14843    Z    Z  Z060   TTBR  進口  TBR0J295     295/80R225 152M R156AZ  R156AZ   \n",
       "14846    9    9  W030  TLSRJ  進口  LSR08435      215/75R175 124L R294Z   R294Z   \n",
       "14889    Z    Z  Z030   TTBR  進口  TBR0J600   315/80R225 B54M 18 R150Z   R150Z   \n",
       "\n",
       "      Premium   吋別    中計  訂單數量  交貨數量     發票單價      發票未稅       稅額      發票合計  \\\n",
       "134      None  225  TBR3  60.0  60.0      NaN       NaN      NaN       NaN   \n",
       "135      None  225  TBR3  10.0  10.0      NaN       NaN      NaN       NaN   \n",
       "582      None  225  TBR3   6.0   6.0      NaN       NaN      NaN       NaN   \n",
       "607      None  225  TBR3   2.0   2.0      NaN       NaN      NaN       NaN   \n",
       "618      None  175  LSR2   2.0   2.0      NaN       NaN      NaN       NaN   \n",
       "...       ...  ...   ...   ...   ...      ...       ...      ...       ...   \n",
       "14794    None  175  LSR2  10.0  10.0   4725.0   45000.0   2250.0   47250.0   \n",
       "14817    None  225  TBR3  24.0  24.0   8400.0  192000.0   9600.0  201600.0   \n",
       "14843    None  225  TBR3  26.0  26.0  10080.0  249600.0  12480.0  262080.0   \n",
       "14846    None  175  LSR2   2.0   2.0   6380.0   12152.0    608.0   12760.0   \n",
       "14889    None  225  TBR3  10.0  10.0  11781.0  112200.0   5610.0  117810.0   \n",
       "\n",
       "       銷售數量     銷貨單價      未稅銷貨  \n",
       "134    60.0   9555.0  546000.0  \n",
       "135    10.0   9345.0   89000.0  \n",
       "582     6.0  10500.0   60000.0  \n",
       "607     2.0  12125.0   23094.0  \n",
       "618     2.0   7528.0   14338.0  \n",
       "...     ...      ...       ...  \n",
       "14794  10.0   4725.0   45000.0  \n",
       "14817  24.0   8400.0  192000.0  \n",
       "14843  26.0  10080.0  249600.0  \n",
       "14846   2.0   6380.0   12152.0  \n",
       "14889  10.0  11781.0  112200.0  \n",
       "\n",
       "[530 rows x 70 columns]"
      ]
     },
     "execution_count": 7,
     "metadata": {},
     "output_type": "execute_result"
    }
   ],
   "source": [
    "df"
   ]
  },
  {
   "cell_type": "code",
   "execution_count": null,
   "id": "8e4ddcc3",
   "metadata": {},
   "outputs": [],
   "source": [
    "df[df[\"配銷通路\"].isna()]"
   ]
  },
  {
   "cell_type": "code",
   "execution_count": null,
   "id": "8c45d7b8-8319-4f5c-a1b5-33dfb483464c",
   "metadata": {},
   "outputs": [],
   "source": [
    "inventory_status = df[df[\"料號\"].str.contains(\"TBR|LSR\")]"
   ]
  },
  {
   "cell_type": "code",
   "execution_count": null,
   "id": "1d1fa1c9",
   "metadata": {},
   "outputs": [],
   "source": [
    "inventory_status[inventory_status[\"未限制庫存\"] != 0][\"倉別名稱\"].value_counts()"
   ]
  },
  {
   "cell_type": "code",
   "execution_count": null,
   "id": "e7553c4e-df18-4dff-b844-865eb9fa7977",
   "metadata": {},
   "outputs": [],
   "source": [
    "# 查看系統所有訂單的script\n",
    "current_mon = datetime.now().strftime(\"'%Y-%m'\")\n",
    "script = \"select * from [10.212.27.198].FC0.dbo.V_BI_ORDER where convert(varchar(7), 訂單建立日, 120) = {}\".format(current_mon)"
   ]
  },
  {
   "cell_type": "code",
   "execution_count": null,
   "id": "ea6601bb-39a7-4a0a-b473-cfdfffe7a3af",
   "metadata": {},
   "outputs": [],
   "source": [
    "script = \"select * from [10.212.27.198].FC0.dbo.V_BI_ZMAW where convert(varchar(7), 訂單建立日, 120) >= '2023-01'\""
   ]
  },
  {
   "cell_type": "code",
   "execution_count": null,
   "id": "d1a06b2d-6a26-4647-b814-775b7f9b5bde",
   "metadata": {},
   "outputs": [],
   "source": [
    "## 所有訂單（包含販社和本社）\n",
    "category_table = pd.read_excel(\"./ReferenceTable/20220801_category_types.xlsx\")\n",
    "cuscode_type = dict(zip(category_table[\"客戶代號\"], category_table[\"大通路\"]))\n",
    "df[\"大通路\"] = df[\"買方\"].map(cuscode_type)"
   ]
  },
  {
   "cell_type": "code",
   "execution_count": null,
   "id": "8724c447-7e4a-4260-aa29-0aae8811e65d",
   "metadata": {},
   "outputs": [],
   "source": []
  },
  {
   "cell_type": "code",
   "execution_count": null,
   "id": "d5287536-00f2-432c-adde-78aeca2a34ba",
   "metadata": {},
   "outputs": [],
   "source": [
    "cursor.close()"
   ]
  },
  {
   "cell_type": "code",
   "execution_count": null,
   "id": "2393b052-75d1-443e-8764-6065ce835255",
   "metadata": {},
   "outputs": [],
   "source": [
    "df.to_pickle(r\"D:\\kc.hsu\\OneDrive - Bridgestone\\數據\\銷售數據\\sql_sever_data_from_2019ytd.pkl\")"
   ]
  },
  {
   "cell_type": "code",
   "execution_count": null,
   "id": "b6af0421-f243-4204-8ecf-91bd9e42d0df",
   "metadata": {},
   "outputs": [],
   "source": [
    "df = pd.read_pickle(r\"D:\\kc.hsu\\OneDrive - Bridgestone\\數據\\銷售數據\\sql_sever_data_from_2019ytd.pkl\")"
   ]
  },
  {
   "cell_type": "markdown",
   "id": "af6f4050-2274-4f8e-84cd-555d4993103b",
   "metadata": {
    "jp-MarkdownHeadingCollapsed": true,
    "tags": []
   },
   "source": [
    "## 測試所有訂單的想法"
   ]
  },
  {
   "cell_type": "code",
   "execution_count": null,
   "id": "c5802583",
   "metadata": {},
   "outputs": [],
   "source": [
    "server = \"10.226.0.53\"\n",
    "database = \"master\"\n",
    "username = \"BIUser\"\n",
    "password = \"test\"\n",
    "\n",
    "cnxn = pyodbc.connect(driver='SQL Server',server=server,database=database ,uid=username,password=password)\n",
    "script = \"select * from [10.212.27.198].FC0.dbo.V_BI_ORDER where convert(varchar(7), 訂單建立日, 120) = '2023-02'\""
   ]
  },
  {
   "cell_type": "code",
   "execution_count": null,
   "id": "d20613da",
   "metadata": {},
   "outputs": [],
   "source": [
    "df = pd.read_sql(script, cnxn)"
   ]
  },
  {
   "cell_type": "code",
   "execution_count": null,
   "id": "42fb934a",
   "metadata": {},
   "outputs": [],
   "source": [
    "df[\"大通路\"] = df[\"彙總客戶\"].map(cuscode_type)"
   ]
  },
  {
   "cell_type": "code",
   "execution_count": null,
   "id": "8b8c6d8e",
   "metadata": {},
   "outputs": [],
   "source": [
    "df = df[(df[\"訂單類型\"].isin([\"ZSO1\", \"ZKE\", \"ZOR1\"])) & (df[\"大通路\"].notna()) & (df[\"大通路\"] == \"BSSC\") & (df[\"物料說明\"].str.contains(\"315/80R225\")) & (df[\"花紋別\"].str.contains(\"R150|M729\"))]"
   ]
  },
  {
   "cell_type": "code",
   "execution_count": null,
   "id": "c64e672b",
   "metadata": {},
   "outputs": [],
   "source": [
    "df.groupby([\"買方全名\", \"業務員全名\", \"物料說明\", \"花紋別\"])[[\"訂單數量\"]].sum().reset_index().to_excel(r\"C:\\Users\\kc.hsu\\Desktop\\2月特別販促清單.xlsx\", index=False)"
   ]
  },
  {
   "cell_type": "code",
   "execution_count": null,
   "id": "900f7f45",
   "metadata": {},
   "outputs": [],
   "source": [
    "df.groupby([\"大通路\"])[[\"訂單數量\"]].sum()"
   ]
  },
  {
   "cell_type": "code",
   "execution_count": null,
   "id": "d4a88f6a-1388-4055-8863-d9a9199329e8",
   "metadata": {},
   "outputs": [],
   "source": [
    "logo = Image.open(r\"D:\\kc.hsu\\My Documents\\My Pictures\\BS方形logo.png\")"
   ]
  },
  {
   "cell_type": "code",
   "execution_count": null,
   "id": "f61a9af4-71b7-4998-9604-6af60db6b282",
   "metadata": {},
   "outputs": [],
   "source": [
    "logo.save(r\"D:\\kc.hsu\\My Documents\\My Pictures\\BS方形logo.ico\", format='ICO')"
   ]
  },
  {
   "cell_type": "code",
   "execution_count": null,
   "id": "ddfbba67-09c8-4954-8863-f3368863f9af",
   "metadata": {},
   "outputs": [],
   "source": [
    "df = pd.read_excel(r\"D:\\kc.hsu\\OneDrive - Bridgestone\\數據\\2022ACT\\2021-2022_Size Data_All_TBR_rawling_data.xlsx\", sheet_name=\"Sheet1\")"
   ]
  },
  {
   "cell_type": "code",
   "execution_count": null,
   "id": "307889cb-9df8-4e6b-9874-bcb08bc91cf7",
   "metadata": {},
   "outputs": [],
   "source": [
    "ob = df[(df[\"預算/前實績\"] == \"23OB_V2\") & (df[\"國內市場財別\"] == \"TBR(G)\")]"
   ]
  },
  {
   "cell_type": "code",
   "execution_count": null,
   "id": "2e56eb80-c16c-4a79-be16-6118f5105055",
   "metadata": {},
   "outputs": [],
   "source": [
    "ob_target = int(ob[(ob[\"年月\"] == int(datetime.now().strftime(\"%Y%m\"))) & (ob[\"通路明細\"] == \"FLT-REP\")][\"條數\"].sum())"
   ]
  },
  {
   "cell_type": "code",
   "execution_count": null,
   "id": "d9617902-166b-484c-8572-73e2a0ae444a",
   "metadata": {},
   "outputs": [],
   "source": [
    "class RealTimeAct(tk.Tk):\n",
    "    server = \"10.226.0.53\"\n",
    "    database = \"master\"\n",
    "    username = \"BIUser\"\n",
    "    password = \"test\"\n",
    "\n",
    "    cnxn = pyodbc.connect(driver='SQL Server',server=server,database=database ,uid=username,password=password)\n",
    "    script = \"select * from [10.212.27.198].FC0.dbo.V_BI_ORDER where convert(varchar(7), 訂單建立日, 120) = '2023-01'\"\n",
    "    \n",
    "    def __init__(self):\n",
    "        super().__init__()\n",
    "        self.wm_attributes(\"-topmost\", 1)\n",
    "        self.wm_title(\"每日TBR(G)販社訂單即時數據\")\n",
    "        # self.wm_maxsize(400, 150)\n",
    "        self.connection = pd.read_sql(self.script, self.cnxn)\n",
    "        # self.parent = parent\n",
    "        \n",
    "        self.refresh_data()\n",
    "        # self.run()\n",
    "        self.mainloop()\n",
    "        \n",
    "    def refresh_data(self):\n",
    "        df = self.connection\n",
    "        df[\"中計\"] = df[\"中計\"].fillna(\"\")\n",
    "        tbrg = df[df[\"中計\"].str.contains(\"LSR2|TBR\")]\n",
    "        result = tbrg[tbrg[\"訂單類型\"].isin([\"ZKE\", \"ZSO1\"])][[\"訂單數量\", \"交貨數量\"]].sum()\n",
    "        orderLabel = tk.Label(self, text=\"目前販社訂單總數: {}\".format(int(result[0])), font=(\"Arial\", 20)).grid(row=0, column=0)\n",
    "        shipLabel = tk.Label(self, text=\"目前販社出貨總數: {}\".format(int(result[1])), font=(\"Arial\", 20)).grid(row=1, column=0)\n",
    "        timeLabel = tk.Label(self, text=\"更新時間：{}\".format(time.strftime(\"%Y-%m-%d %H:%M\")), font=(\"Arial\", 12)).grid(row=2, column=0)\n",
    "        self.after(20000, self.refresh_data)\n",
    "        # return result\n",
    "    \n",
    "    \n",
    "    def run(self):\n",
    "        # orderLabel = (self, text=\"目前販社訂單總數: {}\".format(int(self.refresh_data[0])), font=(\"Arial\", 20)).grid(row=0, column=0)\n",
    "        # shipLabel = self.Label(self, text=\"目前販社出貨總數: {}\".format(int(self.refresh_data[1])), font=(\"Arial\", 20)).grid(row=1, column=0)\n",
    "        # timeLabel = self.Label(self, text=\"更新時間：{}\".format(time.strftime(\"%Y-%m-%d %H:%M\")), font=(\"Arial\", 12)).grid(row=2, column=0)\n",
    "        pass\n",
    "        \n",
    "    "
   ]
  },
  {
   "cell_type": "code",
   "execution_count": null,
   "id": "031de352-1503-480e-b9c5-fcccb424a580",
   "metadata": {},
   "outputs": [],
   "source": [
    "RealTimeAct()"
   ]
  },
  {
   "cell_type": "code",
   "execution_count": null,
   "id": "c1c7c18a-143a-4a3e-b5d1-6134893e899f",
   "metadata": {},
   "outputs": [],
   "source": [
    "while time.strftime(\"%H:%M\", time.localtime()) != \"17:00\":\n",
    "    df = pd.read_sql(script, cnxn)\n",
    "    df[\"中計\"] = df[\"中計\"].fillna(\"\")\n",
    "    tbrg = df[df[\"中計\"].str.contains(\"LSR2|TBR\")]\n",
    "    result = tbrg[tbrg[\"訂單類型\"].isin([\"ZKE\", \"ZSO1\"])][[\"訂單數量\", \"交貨數量\"]].sum()\n",
    "    print(result)\n",
    "    if result[1] + 1021 >= 9052:\n",
    "        print(\"恭喜達標\")\n",
    "        break\n",
    "    else:\n",
    "        continue"
   ]
  },
  {
   "cell_type": "markdown",
   "id": "9c005410-a32d-442d-9f71-cb2fe4294c74",
   "metadata": {
    "jp-MarkdownHeadingCollapsed": true,
    "tags": []
   },
   "source": [
    "## 使用BPCOM的數據來帶入Product name"
   ]
  },
  {
   "cell_type": "code",
   "execution_count": null,
   "id": "b1c536db-0ac6-49c0-b25e-8082971b523e",
   "metadata": {},
   "outputs": [],
   "source": [
    "bpcom = pd.read_excel(r\"D:\\kc.hsu\\OneDrive - Bridgestone\\產品規格相關\\BPCOM\\BPCOM_202208040543.xlsx\")"
   ]
  },
  {
   "cell_type": "code",
   "execution_count": null,
   "id": "dcf66dc5-a5c8-4af7-84f3-3e12aecbbb35",
   "metadata": {},
   "outputs": [],
   "source": [
    "bpcom[\"Product Name\"].map(lambda x: x.split(\" \")[0]).value_counts()"
   ]
  },
  {
   "cell_type": "code",
   "execution_count": null,
   "id": "be1be777-e7db-4130-91f3-3da252e4f53d",
   "metadata": {},
   "outputs": [],
   "source": [
    "check_dict = dict(zip(bpcom[\"PrCode\"], bpcom[\"BP\"]))"
   ]
  },
  {
   "cell_type": "code",
   "execution_count": null,
   "id": "3959d018-634b-493d-88cd-16b0961c88ea",
   "metadata": {},
   "outputs": [],
   "source": [
    "df[\"花紋別\"] = df[\"物料\"].map(check_dict)"
   ]
  },
  {
   "cell_type": "code",
   "execution_count": null,
   "id": "53a6eb80-47a7-455c-a5d4-66b6973b846f",
   "metadata": {},
   "outputs": [],
   "source": [
    "result = df[df[\"中計\"].str.contains(\"TBR|LSR2\")]"
   ]
  },
  {
   "cell_type": "markdown",
   "id": "074143f7-0b5a-490a-bdad-329037e9794c",
   "metadata": {
    "jp-MarkdownHeadingCollapsed": true,
    "tags": []
   },
   "source": [
    "## 測試寫入SQL Server"
   ]
  },
  {
   "cell_type": "code",
   "execution_count": null,
   "id": "765e4741-ad3f-401f-a5bc-9960dbe3250e",
   "metadata": {},
   "outputs": [],
   "source": [
    "server = \"10.226.0.53\"\n",
    "database = \"SAP_DW\"\n",
    "username = \"BI_User\"\n",
    "password = \"BsSQLDB\""
   ]
  },
  {
   "cell_type": "code",
   "execution_count": null,
   "id": "afd35dd1-e866-492d-b3bd-4ed8fb3b2bed",
   "metadata": {},
   "outputs": [],
   "source": [
    "conn = pyodbc.connect(driver='SQL Server',server=server,database=database ,uid=username,password=password)"
   ]
  },
  {
   "cell_type": "code",
   "execution_count": null,
   "id": "4ea4973f-5a5f-483c-9c08-91225ecb4ffa",
   "metadata": {},
   "outputs": [],
   "source": [
    "cursor = conn.cursor()"
   ]
  },
  {
   "cell_type": "code",
   "execution_count": null,
   "id": "cb449ec1-27fc-4165-8d57-f528c7fec741",
   "metadata": {},
   "outputs": [],
   "source": [
    "delete = \"DELETE from ZMAW where 實際出貨日 >= {}\".format(last_month)"
   ]
  },
  {
   "cell_type": "code",
   "execution_count": null,
   "id": "89211b59-206c-4aaa-8251-ef4c0b4b9cd0",
   "metadata": {},
   "outputs": [],
   "source": [
    "delete = \"DELETE from ZMAW where 實際出貨日 >= '20221226'\""
   ]
  },
  {
   "cell_type": "code",
   "execution_count": null,
   "id": "0fdc8641-cd30-4478-9535-168d6b6edc31",
   "metadata": {},
   "outputs": [],
   "source": [
    "cursor.execute(\"DELETE from zmaw\")"
   ]
  },
  {
   "cell_type": "code",
   "execution_count": null,
   "id": "7a398a89-08b8-4053-b0e6-015945a9aad2",
   "metadata": {},
   "outputs": [],
   "source": [
    "cursor.commit()"
   ]
  },
  {
   "cell_type": "code",
   "execution_count": null,
   "id": "62f4e22e-d70b-45f4-bb77-6197345888f5",
   "metadata": {},
   "outputs": [],
   "source": [
    "df = pd.read_sql(\"select * from [dbo].[ZMAW]\", con=conn)\n",
    "df"
   ]
  },
  {
   "cell_type": "code",
   "execution_count": null,
   "id": "84aabcf7-6b6d-4ef8-8f2c-69de3cc59426",
   "metadata": {},
   "outputs": [],
   "source": [
    "df[\"CreatedDateTime\"] = datetime.now()"
   ]
  },
  {
   "cell_type": "code",
   "execution_count": null,
   "id": "1b7fc9b9-a9a1-426d-91ed-fbc95091e71c",
   "metadata": {},
   "outputs": [],
   "source": [
    "df[['訂單數量', '交貨數量', '發票單價', '發票未稅', '稅額', '發票合計', '銷售數量', '銷貨單價',\n",
    "       '未稅銷貨']] = df[['訂單數量', '交貨數量', '發票單價', '發票未稅', '稅額', '發票合計', '銷售數量', '銷貨單價',\n",
    "       '未稅銷貨']].fillna(0)"
   ]
  },
  {
   "cell_type": "code",
   "execution_count": null,
   "id": "d9fd5a02",
   "metadata": {},
   "outputs": [],
   "source": [
    "df.columns"
   ]
  },
  {
   "cell_type": "code",
   "execution_count": null,
   "id": "8d259c1b-1c2f-41e6-a889-514b3d154fb2",
   "metadata": {},
   "outputs": [],
   "source": [
    "for index, row in df.iterrows():\n",
    "    cursor.execute('INSERT INTO ZMAW (組織, 出貨點, 所名, 區域, 訂單建立日, 訂單文件日, 訂單建立時, 交貨文件日, 計劃出貨日, 實際出貨日, 交單建立時, 請款建立日, 請款日期, 請款建立時, 訂單建立人, 交單建立人, 請款建立人, 訂單備註, 產品階層, 訂單類型, 訂單類型說明, 交貨類型, 交貨類型說明, 請款類型, 請款類型說明, 訂單單號, 訂單項次, 交貨單號, 交貨項次, 請款文件, 請款文件項次, 發票號碼, 買方, 送貨方, 彙總客戶, 業務員, 小胎業務員, 大胎業務員, 買方全名, 買方簡稱, 送貨方全名, 送貨方簡稱, 彙總客戶全名, 彙總客戶簡稱, 業務員全名, 業務員簡稱, 小胎業務員, 大胎業務員, 配銷通路, 販社通路, 大胎契約, 小胎契約, 付款條件, 物料群組, 分類, 物料, 物料說明, 花紋別, Premium, 吋別, 中計, 訂單數量, 交貨數量, 發票單價, 發票未稅, 稅額, 發票合計, 銷售數量, 銷貨單價, 未稅銷貨, CreatedDateTime) values (?, ?, ?, ?, ?, ?, ?, ?, ?, ?, ?, ?, ?, ?, ?, ?, ?, ?, ?, ?, ?, ?, ?, ?, ?, ?, ?, ?, ?, ?, ?, ?, ?, ?, ?, ?, ?, ?, ?, ?, ?, ?, ?, ?, ?, ?, ?, ?, ?, ?, ?, ?, ?, ?, ?, ?, ?, ?, ?, ?, ?, ?, ?, ?, ?, ?, ?, ?, ?, ?, ?)', tuple(row))\n",
    "    # print(tuple(row))"
   ]
  },
  {
   "cell_type": "code",
   "execution_count": null,
   "id": "08d5a5f5-ff04-4645-81ae-dd1d51371ec5",
   "metadata": {},
   "outputs": [],
   "source": [
    "conn.commit()"
   ]
  },
  {
   "cell_type": "code",
   "execution_count": null,
   "id": "020c2d2a-fc85-4750-b230-4461b169cd14",
   "metadata": {},
   "outputs": [],
   "source": [
    "cursor.close()"
   ]
  },
  {
   "cell_type": "markdown",
   "id": "a7176cba",
   "metadata": {
    "tags": []
   },
   "source": [
    "## 數據轉換function"
   ]
  },
  {
   "cell_type": "code",
   "execution_count": 21,
   "id": "e38788fe-1716-4527-99b8-fb50c75a836c",
   "metadata": {},
   "outputs": [],
   "source": [
    "cur_month = datetime.today().date().strftime(\"%Y-%m\") + \"-01\""
   ]
  },
  {
   "cell_type": "code",
   "execution_count": 22,
   "id": "17591b46",
   "metadata": {},
   "outputs": [],
   "source": [
    "class DataExtract:\n",
    "    \n",
    "    type_keys = ['訂單日期', '實際出貨日', '訂單單號', '訂單項次', '買方', '物料', '物料說明', '國別', '銷售數量', '銷貨單價']\n",
    "    type_values = [str, str, str, str, str, str, str, str, int, int]\n",
    "    type_dict = dict(zip(type_keys, type_values))\n",
    "    \n",
    "    def __init__(self):\n",
    "        self.path = self.get_path()\n",
    "        \n",
    "    def get_path(self):\n",
    "        paths = []\n",
    "        while True:\n",
    "            answer = input(\"選擇路徑?(Y/N)\").upper()\n",
    "            if answer == \"Y\":\n",
    "                root = tk.Tk()\n",
    "                root.withdraw()\n",
    "                file_path = filedialog.askopenfilenames()\n",
    "                paths += file_path    \n",
    "            else:\n",
    "                break\n",
    "        return paths\n",
    "            \n",
    "        \n",
    "    def read_data(self):\n",
    "        dfs = []\n",
    "        # path = self.path.replace(\"\\\\\", \"/\")\n",
    "        for path in self.path:\n",
    "            if path.split(\".\")[-1] == \"csv\" and \"ag\" in path:\n",
    "                ag = pd.read_csv(path)\n",
    "                ag = self.ag_extract(ag)\n",
    "                dfs.append(ag)\n",
    "            elif path.split(\".\")[-1] == \"pkl\" and \"ag\" in path:\n",
    "                ag = pd.read_pickle(path)\n",
    "                ag = self.ag_extract(ag)\n",
    "                dfs.append(ag)\n",
    "            elif path.split(\".\")[-1] == \"csv\" and \"sc\" in path:\n",
    "                sc = pd.read_csv(path)\n",
    "                sc = self.sc_extract(sc)\n",
    "                dfs.append(sc)\n",
    "            elif path.split(\".\")[-1] == \"pkl\" and \"sc\" in path:\n",
    "                sc = pd.read_pickle(path)\n",
    "                sc = self.sc_extract(sc)\n",
    "                dfs.append(sc)\n",
    "            elif path.split(\".\")[-1] == \"xlsx\" and \"ag\" in path:\n",
    "                ag = pd.read_excel(path)\n",
    "                ag = self.ag_extract(ag)\n",
    "                dfs.append(ag)\n",
    "            else:\n",
    "                sc = pd.read_excel(path)\n",
    "                sc = self.sc_extract(sc)\n",
    "                dfs.append(sc)\n",
    "        data = pd.concat(dfs)\n",
    "        data = data.drop_duplicates(subset=[\"實際出貨日\", \"訂單單號\", \"訂單項次\"], keep=\"last\")\n",
    "        return data\n",
    "\n",
    "    def ag_extract(self, df):\n",
    "        # ag = self.read_data()\n",
    "        ag = df\n",
    "        ag.columns = ag.columns.str.strip()\n",
    "        ag = ag[(ag[\"S_配銷通路\"].isin([\"AG\", \"FT\"])) & (ag[\"S_中計商品代號1\"].isin([\"LR2\", \"TR2\", \"TR3\", \"TR5\", \"TR4\"]))]\n",
    "        ag = ag[[\"D_文件日期\", \"D_實際發貨日期\", \"S_訂單單號\", \"S_項次\", \"S_買方(客戶號碼)\", \"S_物料編號\", \"S_物料說明\", \"S_國別\", \"S_數量\", \"S_項目淨值\"]]\n",
    "        ag.columns = self.type_keys\n",
    "        # ag = ag.astype(self.type_dict)\n",
    "        return ag\n",
    "    \n",
    "    def sc_extract(self, df):\n",
    "        # sc = self.read_data()\n",
    "        sc = df\n",
    "        sc.columns = sc.columns.str.strip()\n",
    "        sc = sc[sc[\"中計\"].isin([\"LSR2\", \"TBR3\", \"TBR5\", \"TBR2\", \"TBR4\"])]\n",
    "        sc = sc[[\"訂單建立日\", \"實際出貨日\", \"訂單單號\", \"訂單項次\", \"買方\", \"物料\", \"物料說明\", \"國別\", \"銷售數量\", \"銷貨單價\"]]\n",
    "        sc.columns = self.type_keys\n",
    "        # sc = sc.astype(self.type_dict)\n",
    "        return sc\n",
    "    \n",
    "    def sales_preprocessing(self):\n",
    "        df = self.read_data()\n",
    "        df[\"訂單日期\"] = df[\"訂單日期\"].dt.date\n",
    "        df[\"實際出貨日\"] = df[\"實際出貨日\"].dt.date\n",
    "        df = df.astype(self.type_dict)\n",
    "        df[\"訂單單號\"] = df[\"訂單單號\"].map(lambda x: x.replace(\".0\", \"\") if \".\" in x else x)\n",
    "        df[\"訂單項次\"] = df[\"訂單項次\"].map(lambda x: x.replace(\".0\", \"\") if \".\" in x else x)\n",
    "        df[\"銷貨單價\"] = df[\"銷貨單價\"].fillna(0).astype(int)\n",
    "        return df"
   ]
  },
  {
   "cell_type": "code",
   "execution_count": 24,
   "id": "9b9bdb42-ac8c-4673-9fff-5dae1c5b67cd",
   "metadata": {},
   "outputs": [],
   "source": [
    "result = DataExtract().sales_preprocessing()"
   ]
  },
  {
   "cell_type": "code",
   "execution_count": 25,
   "id": "0010ce4c",
   "metadata": {
    "scrolled": true
   },
   "outputs": [],
   "source": [
    "### 開啟客戶對照表\n",
    "# 開啟客編客戶對照表\n",
    "# category_table = pd.read_csv(\"./ReferenceTable/category_types.csv\")\n",
    "category_table = pd.read_excel(\"./ReferenceTable/20220801_category_types.xlsx\")\n",
    "# cat_table = qgrid.show_grid(category_table, show_toolbar=True)\n",
    "# cat_table\n",
    "\n",
    "# 如果有修改的話，修改完可以用.get_changed_df()來獲得修改過後的表格"
   ]
  },
  {
   "cell_type": "code",
   "execution_count": 26,
   "id": "b813dcce",
   "metadata": {},
   "outputs": [],
   "source": [
    "cuscode_cus = dict(zip(category_table[\"客戶代號\"], category_table[\"合併客戶名稱\"]))\n",
    "cuscode_type = dict(zip(category_table[\"客戶代號\"], category_table[\"大通路\"]))\n",
    "cuscode_channel = dict(zip(category_table[\"客戶代號\"], category_table[\"小通路\"]))\n",
    "sales_dict = dict(zip(category_table[\"客戶代號\"], category_table[\"業務名稱\"]))\n",
    "sales_area = dict(zip(category_table[\"客戶代號\"], category_table[\"負責區域\"]))\n",
    "sales_branch = dict(zip(category_table[\"客戶代號\"], category_table[\"所屬區域\"]))\n",
    "cus_address = dict(zip(category_table[\"客戶代號\"], category_table[\"住址\"]))\n",
    "cus_city = dict(zip(category_table[\"客戶代號\"], category_table[\"城市\"]))\n",
    "rep_dict = dict(zip(category_table[\"客戶代號\"], category_table[\"母通路\"]))\n",
    "liwei_dict = dict(zip(category_table[\"客戶代號\"], category_table[\"liwei\"]))\n",
    "ranking = dict(zip(category_table[\"客戶代號\"], category_table[\"Ranking\"]))\n",
    "cus_area = dict(zip(category_table[\"客戶代號\"], category_table[\"客戶所在地分區\"]))"
   ]
  },
  {
   "cell_type": "code",
   "execution_count": 27,
   "id": "40300d2b-5783-4cbd-9444-6ac2362763dd",
   "metadata": {},
   "outputs": [],
   "source": [
    "pcode = pd.read_excel(\"./ReferenceTable/20220721_PCODE整理表.xlsx\")\n",
    "size_dict = dict(zip(pcode[\"Old PCODEs\"], pcode[\"size\"]))\n",
    "pattern_dict = dict(zip(pcode[\"Old PCODEs\"], pcode[\"pattern\"]))\n",
    "origin_dict = dict(zip(pcode[\"Old PCODEs\"], pcode[\"p_origin\"]))\n",
    "tbr_prem = dict(zip(pcode[\"Old PCODEs\"], pcode[\"TBR Premium\"]))\n",
    "group = dict(zip(pcode[\"Old PCODEs\"], pcode[\"group\"]))"
   ]
  },
  {
   "cell_type": "code",
   "execution_count": 28,
   "id": "f7cf6958-c27f-4bf4-a0d2-d1777e196713",
   "metadata": {},
   "outputs": [],
   "source": [
    "result.reset_index(drop=True).to_pickle(r\"D:\\kc.hsu\\OneDrive - Bridgestone\\數據\\銷售數據\\2022全年銷售\\rolling_sales_data.pkl\")\n",
    "long = pd.read_pickle(r\"D:\\kc.hsu\\OneDrive - Bridgestone\\數據\\銷售數據\\2022全年銷售\\rolling_sales_data.pkl\")"
   ]
  },
  {
   "cell_type": "code",
   "execution_count": 29,
   "id": "d7d9b476-a511-46cc-9f27-f9a91a3e27e0",
   "metadata": {},
   "outputs": [],
   "source": [
    "long[\"客戶名稱\"] = long[\"買方\"].map(cuscode_cus)\n",
    "long[\"母通路\"] = long[\"買方\"].map(rep_dict)\n",
    "long[\"大通路\"] = long[\"買方\"].map(cuscode_type)\n",
    "long[\"小通路\"] = long[\"買方\"].map(cuscode_channel)\n",
    "long[\"日報通路\"] = long[\"買方\"].map(liwei_dict)\n",
    "long[\"業務名稱\"] = long[\"買方\"].map(sales_dict)\n",
    "long[\"業務負責區域\"] = long[\"買方\"].map(sales_area)\n",
    "long[\"業務所屬區域\"] = long[\"買方\"].map(sales_branch)\n",
    "long[\"客戶登記地址\"] = long[\"買方\"].map(cus_address)\n",
    "long[\"客戶城市\"] = long[\"買方\"].map(cus_city)\n",
    "long[\"客戶等級\"] = long[\"買方\"].map(ranking)\n",
    "long[\"規格\"] = long[\"物料\"].map(size_dict)\n",
    "long[\"花紋\"] = long[\"物料\"].map(pattern_dict)\n",
    "long[\"工廠\"] = long[\"物料\"].map(origin_dict)\n",
    "long[\"TBR Premium\"] = long[\"物料\"].map(tbr_prem)\n",
    "long[\"輪胎類別\"] = long[\"物料\"].map(group)\n",
    "long[\"品牌\"] = long[\"物料\"].map(lambda x: \"FS\" if x.endswith(\"F\") else \"BS\")\n",
    "long[\"客戶所在地區分區\"] = long[\"買方\"].map(cus_area)"
   ]
  },
  {
   "cell_type": "code",
   "execution_count": 30,
   "id": "865414b2",
   "metadata": {},
   "outputs": [
    {
     "data": {
      "text/plain": [
       "array([], dtype=object)"
      ]
     },
     "execution_count": 30,
     "metadata": {},
     "output_type": "execute_result"
    }
   ],
   "source": [
    "long[long[\"客戶名稱\"].isna()][\"買方\"].unique()"
   ]
  },
  {
   "cell_type": "code",
   "execution_count": 31,
   "id": "b47792a0-7dac-4eb8-8ae6-189b5266fd22",
   "metadata": {},
   "outputs": [
    {
     "data": {
      "text/plain": [
       "1579"
      ]
     },
     "execution_count": 31,
     "metadata": {},
     "output_type": "execute_result"
    }
   ],
   "source": [
    "long[\"銷售數量\"].sum()"
   ]
  },
  {
   "cell_type": "code",
   "execution_count": 32,
   "id": "ceebde0c-0511-41ff-abda-25bf6a6dac17",
   "metadata": {},
   "outputs": [
    {
     "data": {
      "text/plain": [
       "1579"
      ]
     },
     "execution_count": 32,
     "metadata": {},
     "output_type": "execute_result"
    }
   ],
   "source": [
    "long[long[\"大通路\"] != \"OE\"][\"銷售數量\"].sum()"
   ]
  },
  {
   "cell_type": "code",
   "execution_count": 33,
   "id": "30ca479d-e05a-40aa-9f82-09d0665e3864",
   "metadata": {},
   "outputs": [],
   "source": [
    "# historical = pd.read_pickle(r\"D:\\kc.hsu\\OneDrive - Bridgestone\\數據\\銷售數據\\長期銷售記錄\\2017-202208.pkl\")\n",
    "historical = pd.read_parquet(r\"D:\\kc.hsu\\OneDrive - Bridgestone\\數據\\銷售數據\\長期銷售記錄\\2017-202208.parquet\")"
   ]
  },
  {
   "cell_type": "code",
   "execution_count": 14,
   "id": "155ff387-8be1-4543-92e1-b4284691c5d0",
   "metadata": {},
   "outputs": [],
   "source": [
    "historical[\"客戶名稱\"] = historical[\"買方\"].map(cuscode_cus)\n",
    "historical[\"業務名稱\"] = historical[\"買方\"].map(sales_dict)\n",
    "historical[\"客戶等級\"] = historical[\"買方\"].map(ranking)\n",
    "historical[\"業務負責區域\"] = historical[\"買方\"].map(sales_area)\n",
    "historical[\"業務所屬區域\"] = historical[\"買方\"].map(sales_branch)\n",
    "historical[\"客戶城市\"] = historical[\"買方\"].map(cus_city)\n",
    "historical[\"母通路\"] = historical[\"買方\"].map(rep_dict)\n",
    "historical[\"大通路\"] = historical[\"買方\"].map(cuscode_type)\n",
    "historical[\"小通路\"] = historical[\"買方\"].map(cuscode_channel)\n",
    "historical[\"日報通路\"] = historical[\"買方\"].map(liwei_dict)\n",
    "historical[\"客戶所在地區分區\"] = historical[\"買方\"].map(cus_area)"
   ]
  },
  {
   "cell_type": "code",
   "execution_count": 15,
   "id": "8435106e-c2cd-4002-8af8-b5a99291dee3",
   "metadata": {},
   "outputs": [],
   "source": [
    "historical[\"訂單單號\"] = historical[\"訂單單號\"].map(lambda x: x.replace(\".0\", \"\") if \".\" in x else x)\n",
    "historical[\"訂單項次\"] = historical[\"訂單項次\"].map(lambda x: x.replace(\".0\", \"\") if \".\" in x else x)"
   ]
  },
  {
   "cell_type": "code",
   "execution_count": 16,
   "id": "c98b8cd3-eb98-4f49-830e-17afe93d78a6",
   "metadata": {},
   "outputs": [],
   "source": [
    "historical = historical.drop_duplicates(subset=[\"實際出貨日\", \"訂單單號\", \"訂單項次\"], keep=\"last\")"
   ]
  },
  {
   "cell_type": "code",
   "execution_count": 17,
   "id": "0445a3a6-5679-4063-9f14-df02b7952672",
   "metadata": {},
   "outputs": [],
   "source": [
    "historical = historical[historical[\"實際出貨日\"] < cur_month]"
   ]
  },
  {
   "cell_type": "code",
   "execution_count": 18,
   "id": "daa48761-4242-4dfe-9ca2-8164ed37a816",
   "metadata": {},
   "outputs": [],
   "source": [
    "# historical.to_pickle(r\"D:\\kc.hsu\\OneDrive - Bridgestone\\數據\\銷售數據\\長期銷售記錄\\2017-202208.pkl\")\n",
    "# historical.to_excel(r\"D:\\kc.hsu\\OneDrive - Bridgestone\\數據\\銷售數據\\長期銷售記錄\\2017-202208.xlsx\", index=False)"
   ]
  },
  {
   "cell_type": "code",
   "execution_count": 19,
   "id": "1947b426-6007-4d56-91fe-4ad8900c0a3d",
   "metadata": {
    "tags": []
   },
   "outputs": [],
   "source": [
    "pd.concat([historical, long]).drop_duplicates(subset=[\"實際出貨日\", \"訂單單號\", \"訂單項次\"], keep=\"last\").to_parquet(r\"D:\\kc.hsu\\OneDrive - Bridgestone\\數據\\銷售數據\\長期銷售記錄\\2017-202208.parquet\", index=False)\n",
    "pd.concat([historical, long]).drop_duplicates(subset=[\"實際出貨日\", \"訂單單號\", \"訂單項次\"], keep=\"last\").to_excel(r\"D:\\kc.hsu\\OneDrive - Bridgestone\\數據\\銷售數據\\長期銷售記錄\\2017-202208.xlsx\", index=False)"
   ]
  },
  {
   "cell_type": "code",
   "execution_count": null,
   "id": "655745e2",
   "metadata": {},
   "outputs": [],
   "source": []
  },
  {
   "cell_type": "code",
   "execution_count": 20,
   "id": "08028cfb",
   "metadata": {},
   "outputs": [],
   "source": [
    "df = pd.read_clipboard()"
   ]
  },
  {
   "cell_type": "code",
   "execution_count": 22,
   "id": "63244f00",
   "metadata": {},
   "outputs": [],
   "source": [
    "df[\"COGS\"] = df[\"COGS\"].str.strip()"
   ]
  },
  {
   "cell_type": "code",
   "execution_count": 23,
   "id": "e4696d70",
   "metadata": {},
   "outputs": [],
   "source": [
    "df.to_clipboard()"
   ]
  },
  {
   "cell_type": "markdown",
   "id": "7fde433b-486b-4778-af05-5b52c020bc5a",
   "metadata": {
    "tags": []
   },
   "source": [
    "## 每日庫存整理"
   ]
  },
  {
   "cell_type": "code",
   "execution_count": null,
   "id": "29fe33c5-5050-48a1-937c-1e759dca0588",
   "metadata": {},
   "outputs": [],
   "source": [
    "df = pd.read_excel(r\"D:\\kc.hsu\\OneDrive - Bridgestone\\數據\\庫存\\inventory_status.xlsx\")"
   ]
  },
  {
   "cell_type": "code",
   "execution_count": null,
   "id": "13b85f30-d98a-4c95-bee4-2b5982598001",
   "metadata": {},
   "outputs": [],
   "source": [
    "df[\"類別\"] = df[\"物料\"].map(group)"
   ]
  },
  {
   "cell_type": "code",
   "execution_count": null,
   "id": "77a4b142-4dcd-425a-93c4-53286796a963",
   "metadata": {},
   "outputs": [],
   "source": [
    "df = df[~df[\"類別\"].isna()]"
   ]
  },
  {
   "cell_type": "code",
   "execution_count": null,
   "id": "98e454b3-3b90-4c84-9a4c-cfe588134183",
   "metadata": {},
   "outputs": [],
   "source": [
    "df.columns = df.columns.str.strip()"
   ]
  },
  {
   "cell_type": "code",
   "execution_count": null,
   "id": "626c1441-760b-4021-8b03-e20da4dad25d",
   "metadata": {},
   "outputs": [],
   "source": [
    "df[\"花紋\"] = df[\"物料\"].map(pattern_dict)\n",
    "df[\"規格\"] = df[\"物料\"].map(size_dict)\n",
    "df[\"工廠\"] = df[\"物料\"].map(origin_dict)\n",
    "df[\"TBR Premium\"] = df[\"物料\"].map(tbr_prem)\n",
    "df[\"品牌\"] = df[\"物料\"].map(lambda x: \"FS\" if x.endswith(\"F\") else \"BS\")\n",
    "df[\"收貨日期\"] = df[\"收貨日期\"].dt.date"
   ]
  },
  {
   "cell_type": "code",
   "execution_count": null,
   "id": "46070441-339d-4368-accb-02c6ab12882c",
   "metadata": {},
   "outputs": [],
   "source": [
    "df = df[[\"物料\", \"類別\", \"花紋\", \"規格\", \"工廠\", \"TBR Premium\", \"品牌\", \"可用的庫存\", \"收貨日期\", \"總庫存\", \"入庫庫存\", \"撿貨數量\"]]"
   ]
  },
  {
   "cell_type": "code",
   "execution_count": null,
   "id": "73221fc8-a08c-40e8-92fa-eedb5d54a8a5",
   "metadata": {},
   "outputs": [],
   "source": [
    "df[\"撿貨數量\"] = df[\"撿貨數量\"] * -1"
   ]
  },
  {
   "cell_type": "code",
   "execution_count": null,
   "id": "88fc5f57-dc1d-42aa-9b7d-f81ae45f0ebe",
   "metadata": {},
   "outputs": [],
   "source": [
    "df.to_excel(r\"D:\\kc.hsu\\OneDrive - Bridgestone\\數據\\庫存\\inventory_status_處理過.xlsx\", index=False)"
   ]
  },
  {
   "cell_type": "markdown",
   "id": "e9301991-83f9-496c-9968-edac8eb5873a",
   "metadata": {
    "jp-MarkdownHeadingCollapsed": true,
    "tags": []
   },
   "source": [
    "### 將xlsx批次轉csv或pkl檔"
   ]
  },
  {
   "cell_type": "code",
   "execution_count": null,
   "id": "bbb4816e-83a2-4107-ac77-8537e4ec5c6a",
   "metadata": {},
   "outputs": [],
   "source": [
    "\"ag\" in paths[1]"
   ]
  },
  {
   "cell_type": "code",
   "execution_count": null,
   "id": "5dcef242-b365-4bf9-b973-7c063f802330",
   "metadata": {},
   "outputs": [],
   "source": [
    "paths = []\n",
    "while True:\n",
    "    answer = input(\"選擇路徑?(Y/N)\").upper()\n",
    "    if answer == \"Y\":\n",
    "        root = tk.Tk()\n",
    "        root.withdraw()\n",
    "        file_path = filedialog.askopenfilenames()\n",
    "        paths += file_path    \n",
    "    else:\n",
    "        break"
   ]
  },
  {
   "cell_type": "code",
   "execution_count": null,
   "id": "88b774de-5c43-42d6-8e80-1ba20cddf461",
   "metadata": {},
   "outputs": [],
   "source": [
    "for path in paths:\n",
    "    pd.read_excel(path).to_csv(path.split(\".\")[0] + \".csv\", index=False)"
   ]
  },
  {
   "cell_type": "code",
   "execution_count": null,
   "id": "ff1b6470-49ba-4f8f-b139-2c918d4f505b",
   "metadata": {},
   "outputs": [],
   "source": [
    "for path in paths:\n",
    "    pd.read_csv(path).to_pickle(path.split(\".\")[0] + \".pkl\")"
   ]
  },
  {
   "cell_type": "code",
   "execution_count": null,
   "id": "6042924a-0847-4edb-8e20-e7ef30399c2d",
   "metadata": {},
   "outputs": [],
   "source": [
    "sc_data = pd.concat([DataExtract(path).sc_extract() for path in paths])"
   ]
  },
  {
   "cell_type": "code",
   "execution_count": null,
   "id": "5831ca93-443d-40f7-ba11-d6f56b7ff340",
   "metadata": {},
   "outputs": [],
   "source": [
    "ag_data = pd.concat([DataExtract(path).ag_extract() for path in paths])"
   ]
  },
  {
   "cell_type": "code",
   "execution_count": null,
   "id": "eb9cf4f0-0f4e-4e2f-8301-3cce883f9d73",
   "metadata": {},
   "outputs": [],
   "source": [
    "ag_data[\"訂單日期\"] = ag_data[\"訂單日期\"].map(lambda x: x.split(\" \")[0] if len(x) > 10 else x)"
   ]
  },
  {
   "cell_type": "code",
   "execution_count": null,
   "id": "3227624b-6fc2-4db7-a034-66ec391a5dcd",
   "metadata": {},
   "outputs": [],
   "source": [
    "sc_data[\"銷售數量\"] = sc_data[\"銷售數量\"].astype(int)"
   ]
  },
  {
   "cell_type": "code",
   "execution_count": null,
   "id": "0e393fec-1241-4667-a1ac-c1aaf087ecff",
   "metadata": {},
   "outputs": [],
   "source": [
    "result = pd.concat([sc_data, ag_data])"
   ]
  },
  {
   "cell_type": "code",
   "execution_count": null,
   "id": "6d1ac187-4afd-4fdc-aafc-c8695f25257e",
   "metadata": {},
   "outputs": [],
   "source": [
    "result[\"訂單項次\"] = result[\"訂單項次\"].astype(str).map(lambda x: x.split(\".\")[0])"
   ]
  },
  {
   "cell_type": "code",
   "execution_count": null,
   "id": "2dbb697e-5cda-4f6a-a08b-f238a763494a",
   "metadata": {},
   "outputs": [],
   "source": [
    "result[\"銷貨單價\"] = result[\"銷貨單價\"].fillna(0).astype(int)"
   ]
  },
  {
   "cell_type": "code",
   "execution_count": null,
   "id": "538277ec-4078-43d5-b1b4-69247ce66047",
   "metadata": {},
   "outputs": [],
   "source": [
    "result[\"訂單單號\"] = result[\"訂單單號\"].astype(str).map(lambda x: x.split(\".\")[0])"
   ]
  },
  {
   "cell_type": "code",
   "execution_count": null,
   "id": "274862d5-39ca-42ff-aaca-35cd8f3b5e9a",
   "metadata": {},
   "outputs": [],
   "source": [
    "result.reset_index(drop=True).to_pickle(r\"D:\\kc.hsu\\OneDrive - Bridgestone\\數據\\銷售數據\\2022全年銷售\\202201-08.pkl\")"
   ]
  },
  {
   "cell_type": "code",
   "execution_count": null,
   "id": "a569e5d0-4bd1-499c-a89d-9d55ec8c83bf",
   "metadata": {},
   "outputs": [],
   "source": [
    "long = pd.read_pickle(r\"D:\\kc.hsu\\OneDrive - Bridgestone\\數據\\銷售數據\\長期銷售記錄\\2017-202208.pkl\")"
   ]
  },
  {
   "cell_type": "code",
   "execution_count": null,
   "id": "c60e36d8-f02b-47d3-9b31-3f7b193e0ece",
   "metadata": {},
   "outputs": [],
   "source": [
    "long[\"客戶名稱\"] = long[\"買方\"].map(cuscode_cus)\n",
    "long[\"母通路\"] = long[\"買方\"].map(rep_dict)\n",
    "long[\"大通路\"] = long[\"買方\"].map(cuscode_type)\n",
    "long[\"小通路\"] = long[\"買方\"].map(cuscode_channel)\n",
    "long[\"日報通路\"] = long[\"買方\"].map(liwei_dict)\n",
    "long[\"業務名稱\"] = long[\"買方\"].map(sales_dict)\n",
    "long[\"業務負責區域\"] = long[\"買方\"].map(sales_area)\n",
    "long[\"業務所屬區域\"] = long[\"買方\"].map(sales_branch)\n",
    "long[\"客戶登記地址\"] = long[\"買方\"].map(cus_address)\n",
    "long[\"客戶城市\"] = long[\"買方\"].map(cus_city)\n",
    "long[\"客戶等級\"] = long[\"買方\"].map(ranking)"
   ]
  },
  {
   "cell_type": "code",
   "execution_count": null,
   "id": "44754da7-fc1a-4176-9b16-7e5463293237",
   "metadata": {},
   "outputs": [],
   "source": [
    "long[\"規格\"] = long[\"物料\"].map(size_dict)\n",
    "long[\"花紋\"] = long[\"物料\"].map(pattern_dict)\n",
    "long[\"工廠\"] = long[\"物料\"].map(origin_dict)\n",
    "long[\"TBR Premium\"] = long[\"物料\"].map(tbr_prem)\n",
    "long[\"輪胎類別\"] = long[\"物料\"].map(group)\n",
    "long[\"品牌\"] = long[\"物料\"].map(lambda x: \"FS\" if x.endswith(\"F\") else \"BS\")"
   ]
  },
  {
   "cell_type": "code",
   "execution_count": null,
   "id": "e9ee6643-949a-4f5e-9391-fe82bc2151c7",
   "metadata": {},
   "outputs": [],
   "source": [
    "long"
   ]
  },
  {
   "cell_type": "code",
   "execution_count": null,
   "id": "a7362113-7c89-4b23-8e77-8a81726b362a",
   "metadata": {},
   "outputs": [],
   "source": [
    "long.to_pickle(r\"D:\\kc.hsu\\OneDrive - Bridgestone\\數據\\銷售數據\\長期銷售記錄\\2017-202208.pkl\")\n",
    "long.to_excel(r\"D:\\kc.hsu\\OneDrive - Bridgestone\\數據\\銷售數據\\長期銷售記錄\\2017-202208.xlsx\", index=False)"
   ]
  },
  {
   "cell_type": "markdown",
   "id": "17b7d893-c4fd-43ff-96dc-e2bf538b4ba9",
   "metadata": {
    "jp-MarkdownHeadingCollapsed": true,
    "tags": []
   },
   "source": [
    "## 相關係數分析"
   ]
  },
  {
   "cell_type": "code",
   "execution_count": null,
   "id": "3cec4ae4-b2c4-4f48-822f-30d23da08fa6",
   "metadata": {},
   "outputs": [],
   "source": [
    "test = historical[['物料', '國別', '銷售數量', '銷貨單價', '客戶名稱', '小通路', '業務名稱', '業務負責區域', '業務所屬區域', '客戶城市', '規格', '花紋', '工廠', 'TBR Premium', '輪胎類別', '品牌',\n",
    "       '客戶等級']]"
   ]
  },
  {
   "cell_type": "code",
   "execution_count": null,
   "id": "5043bbfc-c607-4708-9627-52116cf58a0a",
   "metadata": {},
   "outputs": [],
   "source": [
    "pd.get_dummies(test).corr(method=\"spearman\")"
   ]
  },
  {
   "cell_type": "code",
   "execution_count": null,
   "id": "c3e57287-41f3-4f32-b6a3-4d4df4610eaf",
   "metadata": {},
   "outputs": [],
   "source": []
  },
  {
   "cell_type": "code",
   "execution_count": null,
   "id": "2020c2fb-4a10-44df-b5f7-24f41b7af050",
   "metadata": {},
   "outputs": [],
   "source": []
  },
  {
   "cell_type": "markdown",
   "id": "7b3621b0-b393-4d6a-b1ce-d62de78a6376",
   "metadata": {
    "jp-MarkdownHeadingCollapsed": true,
    "tags": []
   },
   "source": [
    "## 小徐要的yahoo汽車對比普利司通輪胎規格花紋"
   ]
  },
  {
   "cell_type": "code",
   "execution_count": null,
   "id": "3ae51ce2-5ba7-4f3a-9721-a777fd55c7cc",
   "metadata": {},
   "outputs": [],
   "source": [
    "# 整理李濰的POS PSR規格花紋對照表\n",
    "df = pd.read_clipboard()"
   ]
  },
  {
   "cell_type": "code",
   "execution_count": null,
   "id": "fb94e8f6-292a-436a-a5c6-8349c1a520e2",
   "metadata": {},
   "outputs": [],
   "source": [
    "df.columns = df.columns.str.strip()"
   ]
  },
  {
   "cell_type": "code",
   "execution_count": null,
   "id": "313893fe-e2b2-4bf0-ae02-11c866fb91b9",
   "metadata": {},
   "outputs": [],
   "source": [
    "df = df.drop_duplicates()"
   ]
  },
  {
   "cell_type": "code",
   "execution_count": null,
   "id": "9d8acdb7-0452-48e7-bb89-244844f2032f",
   "metadata": {},
   "outputs": [],
   "source": [
    "df[\"花紋\"] = df[\"花紋\"].str.strip()\n",
    "df[\"規格\"] = df[\"規格\"].str.strip()\n",
    "df[\"料號\"] = df[\"料號\"].str.strip()"
   ]
  },
  {
   "cell_type": "code",
   "execution_count": null,
   "id": "64481f96-fbf0-4a45-af38-1224ee651ed4",
   "metadata": {},
   "outputs": [],
   "source": []
  },
  {
   "cell_type": "code",
   "execution_count": null,
   "id": "3ac69407-8722-4271-9f95-d88cb6afa2e9",
   "metadata": {},
   "outputs": [],
   "source": []
  },
  {
   "cell_type": "code",
   "execution_count": null,
   "id": "9a4c1d8e-c1cc-4662-aee7-c2b8a3d0d5dc",
   "metadata": {},
   "outputs": [],
   "source": [
    "# 讀取各個廠牌的規格花紋\n",
    "datas = []\n",
    "root = tk.Tk()\n",
    "root.withdraw()\n",
    "paths = filedialog.askopenfilenames()"
   ]
  },
  {
   "cell_type": "code",
   "execution_count": null,
   "id": "7c4cb436-2711-48b3-a7c5-4fe71f06977d",
   "metadata": {},
   "outputs": [],
   "source": [
    "for path in paths:\n",
    "    if \"conti\" not in path:\n",
    "        df = pd.read_excel(path)\n",
    "        datas.append(df)\n",
    "    else:\n",
    "        conti = pd.read_excel(path)"
   ]
  },
  {
   "cell_type": "code",
   "execution_count": null,
   "id": "04698caf-24b6-4a4b-ab49-75449c07530d",
   "metadata": {},
   "outputs": [],
   "source": [
    "mi = pd.concat(datas)"
   ]
  },
  {
   "cell_type": "code",
   "execution_count": null,
   "id": "40b6a8d5-51fc-4604-bf53-62ac4a9f1b02",
   "metadata": {},
   "outputs": [],
   "source": [
    "mi = mi[[\"規格\", \"花紋\"]]"
   ]
  },
  {
   "cell_type": "code",
   "execution_count": null,
   "id": "694f7c00-e368-4cd1-a204-ff2eefdb88c6",
   "metadata": {},
   "outputs": [],
   "source": [
    "all_brand = pd.concat([mi, conti])"
   ]
  },
  {
   "cell_type": "code",
   "execution_count": null,
   "id": "d1cb1d1e-1f38-4d51-a71b-c66702b2ae88",
   "metadata": {},
   "outputs": [],
   "source": [
    "result = all_brand.groupby([\"規格\"])[\"花紋\"].apply(list).reset_index()"
   ]
  },
  {
   "cell_type": "code",
   "execution_count": null,
   "id": "0d09e5eb-9c43-430e-ab04-dcb26934faaa",
   "metadata": {},
   "outputs": [],
   "source": [
    "all_brand_list = dict(zip(result[\"規格\"], result[\"花紋\"]))"
   ]
  },
  {
   "cell_type": "code",
   "execution_count": null,
   "id": "b8baddbb-3052-4d45-9084-0f820a3a8d48",
   "metadata": {},
   "outputs": [],
   "source": [
    "yahoo[\"competitor\"] = yahoo[\"前輪尺寸\"].map(all_brand_list)"
   ]
  },
  {
   "cell_type": "code",
   "execution_count": null,
   "id": "1e77b573-bafc-452d-a2fe-63812c9ad9ff",
   "metadata": {},
   "outputs": [],
   "source": [
    "yahoo[\"competitor\"].fillna(\"\", inplace=True)"
   ]
  },
  {
   "cell_type": "code",
   "execution_count": null,
   "id": "ef81ade4-629e-4b8e-8350-88d4364ea510",
   "metadata": {},
   "outputs": [],
   "source": [
    "competitor_table = pd.DataFrame(yahoo[\"competitor\"].to_list())"
   ]
  },
  {
   "cell_type": "code",
   "execution_count": null,
   "id": "bcf1ba52-34b3-47ce-b258-4314fdd49763",
   "metadata": {},
   "outputs": [],
   "source": [
    "competitor_table"
   ]
  },
  {
   "cell_type": "code",
   "execution_count": null,
   "id": "335913f9-bb3c-439c-ad85-0d033bab59e6",
   "metadata": {},
   "outputs": [],
   "source": [
    "competitor_table.columns = [\"Competitor 1\", \"Competitor 2\", \"Competitor 3\", \"Competitor 4\", \"Competitor 5\", \"Competitor 6\", \"Competitor 7\", \"Competitor 8\", \"Competitor 9\", \n",
    "                            \"Competitor 10\", \"Competitor 11\", \"Competitor 12\", \"Competitor 13\", \"Competitor 14\", \"Competitor 15\", \"Competitor 16\", \"Competitor 17\", \"Competitor 18\", \"Competitor 19\"]"
   ]
  },
  {
   "cell_type": "code",
   "execution_count": null,
   "id": "4945bb5e-bb43-4655-ba58-310aaa911617",
   "metadata": {},
   "outputs": [],
   "source": [
    "export_data = pd.concat([yahoo, competitor_table], axis=1)"
   ]
  },
  {
   "cell_type": "code",
   "execution_count": null,
   "id": "69bef136-415c-48e4-b492-5c73c0ccc54f",
   "metadata": {},
   "outputs": [],
   "source": [
    "export_data.to_excel(r\"C:\\Users\\kc.hsu\\Desktop\\20221215_yahoo汽車對比競品花紋大全.xlsx\", index=False)"
   ]
  },
  {
   "cell_type": "code",
   "execution_count": null,
   "id": "c2aa334c-bd97-4ab1-a4a2-9a54693e1670",
   "metadata": {},
   "outputs": [],
   "source": []
  },
  {
   "cell_type": "code",
   "execution_count": null,
   "id": "de4e4e15-f651-4d96-ada8-e7ac06dae89d",
   "metadata": {},
   "outputs": [],
   "source": []
  },
  {
   "cell_type": "code",
   "execution_count": null,
   "id": "6c3e64a0-b8c2-45eb-91fc-f298f3a8b4a7",
   "metadata": {},
   "outputs": [],
   "source": [
    "# 使用groupby將所有一樣規格的花紋打包到list\n",
    "result = df.groupby([\"規格\"])[\"料號\"].apply(list).reset_index()"
   ]
  },
  {
   "cell_type": "code",
   "execution_count": null,
   "id": "fae926c3-455d-4e11-9435-f86a315cd2e0",
   "metadata": {},
   "outputs": [],
   "source": [
    "size_table = dict(zip(result[\"規格\"], result[\"料號\"]))"
   ]
  },
  {
   "cell_type": "code",
   "execution_count": null,
   "id": "713de7aa-8707-4463-94b8-bb424763a4ad",
   "metadata": {},
   "outputs": [],
   "source": [
    "# 讀取yahoo汽車規格\n",
    "yahoo = pd.read_excel(r\"D:\\kc.hsu\\OneDrive - Bridgestone\\數據\\Yahoo汽車資訊\\20221212_yahoo汽車對比普利司通花紋.xlsx\")"
   ]
  },
  {
   "cell_type": "code",
   "execution_count": null,
   "id": "19b03e39-4ff3-4e73-b1c1-3203315d70e1",
   "metadata": {},
   "outputs": [],
   "source": [
    "yahoo = pd.read_clipboard()"
   ]
  },
  {
   "cell_type": "code",
   "execution_count": null,
   "id": "cdc3ba75-43c8-41ec-9360-982a9fb14f5e",
   "metadata": {},
   "outputs": [],
   "source": [
    "yahoo[\"BS規格\"] = yahoo[\"前輪尺寸\"].map(size_table)"
   ]
  },
  {
   "cell_type": "code",
   "execution_count": null,
   "id": "30fa7e20-e6fb-479f-90fb-3cf6f8200dd7",
   "metadata": {},
   "outputs": [],
   "source": [
    "yahoo[\"BS規格\"].fillna(\"\", inplace=True)"
   ]
  },
  {
   "cell_type": "code",
   "execution_count": null,
   "id": "f94cca22-84b5-49f1-b60c-f2c78658cfa3",
   "metadata": {},
   "outputs": [],
   "source": [
    "final = pd.concat([yahoo, pd.DataFrame(yahoo[\"BS規格\"].to_list())], axis=1)"
   ]
  },
  {
   "cell_type": "code",
   "execution_count": null,
   "id": "bd926a67-19d1-4181-994b-2f153d32623f",
   "metadata": {},
   "outputs": [],
   "source": [
    "final.columns = [  '年份',   '品牌',   '車系',   '車型',   '價格', '動力型式',  '排氣量', '驅動型式', '車身型式',\n",
    "         '車重', '前輪尺寸', '後輪尺寸', 'BS規格',      \"BPC 1\",      \"BPC 2\",      \"BPC 3\",      \"BPC 4\",      \"BPC 5\",\n",
    "            \"BPC 6\",      \"BPC 7\",      \"BPC 8\"]"
   ]
  },
  {
   "cell_type": "code",
   "execution_count": null,
   "id": "cfe5353c-4333-45f7-8963-bfacac81cf11",
   "metadata": {},
   "outputs": [],
   "source": [
    "pattern_dict = dict(zip(df[\"料號\"], df[\"花紋\"]))"
   ]
  },
  {
   "cell_type": "code",
   "execution_count": null,
   "id": "8730c58e-d9a3-4e28-b239-be555c1de535",
   "metadata": {},
   "outputs": [],
   "source": [
    "for i, j in enumerate([\"BPC 1\",      \"BPC 2\",      \"BPC 3\",      \"BPC 4\",      \"BPC 5\",\n",
    "            \"BPC 6\",      \"BPC 7\",      \"BPC 8\"], start=1):\n",
    "    final[i] = final[j].map(pattern_dict)"
   ]
  },
  {
   "cell_type": "code",
   "execution_count": null,
   "id": "f57adbbd-915a-4202-830f-3b3b0da13dd1",
   "metadata": {},
   "outputs": [],
   "source": [
    "final.columns = [   '年份',    '品牌',    '車系',    '車型',    '價格',  '動力型式',   '排氣量',  '驅動型式',\n",
    "        '車身型式',    '車重',  '前輪尺寸',  '後輪尺寸',  'BS規格', 'BPC 1', 'BPC 2', 'BPC 3',\n",
    "       'BPC 4', 'BPC 5', 'BPC 6', 'BPC 7', 'BPC 8',       'Pattern 1',       'Pattern 2',       'Pattern 3',\n",
    "             'Pattern 4',       'Pattern 5',       'Pattern 6',       'Pattern 7',       'Pattern 8']"
   ]
  },
  {
   "cell_type": "code",
   "execution_count": null,
   "id": "4261f90c-6bb7-4de1-bf8c-e0ee61f78c6f",
   "metadata": {},
   "outputs": [],
   "source": [
    "export_data = final[['年份',    '品牌',    '車系',    '車型',    '價格',  '動力型式',   '排氣量',  '驅動型式',\n",
    "        '車身型式',    '車重',  '前輪尺寸',  '後輪尺寸', 'BPC 1', 'Pattern 1', 'BPC 2', 'Pattern 2', 'BPC 3', 'Pattern 3',\n",
    "       'BPC 4', 'Pattern 4', 'BPC 5', 'Pattern 5', 'BPC 6', 'Pattern 6', 'BPC 7', 'Pattern 7', 'BPC 8', 'Pattern 8']]"
   ]
  },
  {
   "cell_type": "code",
   "execution_count": null,
   "id": "946303da-9e9a-4394-8844-c9ba1a4d2dcc",
   "metadata": {},
   "outputs": [],
   "source": [
    "export_data.to_excel(r\"C:\\Users\\kc.hsu\\Desktop\\20221212_yahoo汽車對比普利司通花紋.xlsx\", index=False)"
   ]
  },
  {
   "cell_type": "markdown",
   "id": "d8996e3c-20b8-4e49-b486-f309d5e9f699",
   "metadata": {},
   "source": [
    "## 歷史記錄"
   ]
  },
  {
   "cell_type": "code",
   "execution_count": null,
   "id": "9853a291-d307-429d-8a67-a625a4e76891",
   "metadata": {},
   "outputs": [],
   "source": [
    "df = pd.read_pickle(r\"D:\\kc.hsu\\OneDrive - Bridgestone\\數據\\銷售數據\\長期銷售記錄\\2017-202208.pkl\")"
   ]
  },
  {
   "cell_type": "code",
   "execution_count": null,
   "id": "5e630e42-02d4-4026-9a51-570979ac6d50",
   "metadata": {},
   "outputs": [],
   "source": [
    "result = df[df[\"花紋\"] == \"R154\"]"
   ]
  },
  {
   "cell_type": "code",
   "execution_count": null,
   "id": "80b79485-5298-4e06-b859-c6c804e63aaa",
   "metadata": {},
   "outputs": [],
   "source": [
    "result = result[[\"實際出貨日\", \"買方\", \"物料\", \"規格\", \"花紋\", \"客戶名稱\", \"銷售數量\"]]"
   ]
  },
  {
   "cell_type": "code",
   "execution_count": null,
   "id": "7d49060e-f680-43f7-a0e3-0e361e7c486a",
   "metadata": {},
   "outputs": [],
   "source": [
    "result.to_excel(r\"C:\\Users\\kc.hsu\\Desktop\\20230201_R154銷售.xlsx\", index=False)"
   ]
  },
  {
   "cell_type": "code",
   "execution_count": null,
   "id": "f58f68a3-7aee-44af-97cd-ba0fcf35e278",
   "metadata": {},
   "outputs": [],
   "source": []
  },
  {
   "attachments": {},
   "cell_type": "markdown",
   "id": "18cf56af",
   "metadata": {},
   "source": [
    "## 產品促銷試算"
   ]
  },
  {
   "cell_type": "code",
   "execution_count": null,
   "id": "50a6aa12",
   "metadata": {},
   "outputs": [],
   "source": [
    "df = pd.read_parquet(r\"D:\\kc.hsu\\OneDrive - Bridgestone\\數據\\銷售數據\\長期銷售記錄\\2017-202208.parquet\")"
   ]
  },
  {
   "cell_type": "code",
   "execution_count": null,
   "id": "93e9b438",
   "metadata": {},
   "outputs": [],
   "source": [
    "## AG 8% discount from the list price without tax\n",
    "## FLT(BSSC and REP all shows the real net with tax)\n",
    "## read BSSC price with S net\n",
    "s_price = pd.read_clipboard()"
   ]
  },
  {
   "cell_type": "code",
   "execution_count": null,
   "id": "1980198a",
   "metadata": {},
   "outputs": [],
   "source": [
    "s_price[\"A net\"] = s_price[\"A net\"].str.replace(\",\", \"\").astype(int)"
   ]
  },
  {
   "cell_type": "code",
   "execution_count": null,
   "id": "655f47f6",
   "metadata": {},
   "outputs": [],
   "source": [
    "df = df[(df[\"實際出貨日\"] >= \"2023-02-01\") & (df[\"大通路\"] != \"OE\")]"
   ]
  },
  {
   "cell_type": "code",
   "execution_count": null,
   "id": "86773f04",
   "metadata": {},
   "outputs": [],
   "source": [
    "s_price[\"描述\"] = s_price[\"規格\"] + \" \" + s_price[\"花紋\"] + \" \" + s_price[\"國別\"]"
   ]
  },
  {
   "cell_type": "code",
   "execution_count": null,
   "id": "235b262c",
   "metadata": {},
   "outputs": [],
   "source": [
    "price_dict = dict(zip(s_price[\"描述\"], s_price[\"A net\"]))"
   ]
  },
  {
   "cell_type": "code",
   "execution_count": null,
   "id": "d6ec54be",
   "metadata": {},
   "outputs": [],
   "source": [
    "df[\"描述\"] = df[\"規格\"] + \" \" + df[\"花紋\"] + \" \" + df[\"國別\"]"
   ]
  },
  {
   "cell_type": "code",
   "execution_count": null,
   "id": "0f405a49",
   "metadata": {},
   "outputs": [],
   "source": [
    "df[\"S net\"] = df[\"描述\"].map(price_dict)"
   ]
  },
  {
   "cell_type": "code",
   "execution_count": null,
   "id": "26cb7611",
   "metadata": {},
   "outputs": [],
   "source": [
    "df[\"Price\"] = df.apply(lambda x: (x[\"銷貨單價\"] / 1.05) * 0.92 if x[\"大通路\"] == \"AG\" else x[\"銷貨單價\"] / 1.05 if x[\"大通路\"] in [\"BSSC-FLT\", \"FLT-REP\"] else x[\"S net\"], axis=1 )"
   ]
  },
  {
   "cell_type": "code",
   "execution_count": null,
   "id": "3488e8cf",
   "metadata": {},
   "outputs": [],
   "source": [
    "df[\"總NET\"] = df[\"銷售數量\"] * df[\"Price\"]"
   ]
  },
  {
   "cell_type": "code",
   "execution_count": null,
   "id": "c87ce102",
   "metadata": {},
   "outputs": [],
   "source": [
    "df.groupby([\"大通路\"])[[\"銷售數量\", \"總NET\"]].sum().reset_index().to_clipboard()"
   ]
  },
  {
   "cell_type": "code",
   "execution_count": null,
   "id": "4e002dcd",
   "metadata": {},
   "outputs": [],
   "source": []
  },
  {
   "cell_type": "code",
   "execution_count": null,
   "id": "d99b546c",
   "metadata": {},
   "outputs": [],
   "source": []
  },
  {
   "cell_type": "code",
   "execution_count": null,
   "id": "d7e9fcf0",
   "metadata": {},
   "outputs": [],
   "source": []
  },
  {
   "cell_type": "code",
   "execution_count": 20,
   "id": "a8192f7b",
   "metadata": {},
   "outputs": [],
   "source": [
    "df = pd.read_parquet(r\"D:\\kc.hsu\\OneDrive - Bridgestone\\數據\\銷售數據\\長期銷售記錄\\2017-202208.parquet\")"
   ]
  },
  {
   "cell_type": "code",
   "execution_count": 22,
   "id": "81c8d998",
   "metadata": {},
   "outputs": [],
   "source": [
    "df[\"實際出貨日\"] = pd.to_datetime(df[\"實際出貨日\"])"
   ]
  },
  {
   "cell_type": "code",
   "execution_count": 25,
   "id": "7df8f4a6",
   "metadata": {},
   "outputs": [],
   "source": [
    "df.groupby([pd.Grouper(key=\"實際出貨日\", freq=\"m\"), \"輪胎類別\", \"規格\", \"花紋\"])[[\"銷售數量\"]].sum().to_clipboard()"
   ]
  },
  {
   "cell_type": "code",
   "execution_count": 27,
   "id": "b59b021f",
   "metadata": {},
   "outputs": [
    {
     "data": {
      "text/html": [
       "<div>\n",
       "<style scoped>\n",
       "    .dataframe tbody tr th:only-of-type {\n",
       "        vertical-align: middle;\n",
       "    }\n",
       "\n",
       "    .dataframe tbody tr th {\n",
       "        vertical-align: top;\n",
       "    }\n",
       "\n",
       "    .dataframe thead th {\n",
       "        text-align: right;\n",
       "    }\n",
       "</style>\n",
       "<table border=\"1\" class=\"dataframe\">\n",
       "  <thead>\n",
       "    <tr style=\"text-align: right;\">\n",
       "      <th></th>\n",
       "      <th>訂單日期</th>\n",
       "      <th>實際出貨日</th>\n",
       "      <th>訂單單號</th>\n",
       "      <th>訂單項次</th>\n",
       "      <th>買方</th>\n",
       "      <th>物料</th>\n",
       "      <th>物料說明</th>\n",
       "      <th>國別</th>\n",
       "      <th>銷售數量</th>\n",
       "      <th>銷貨單價</th>\n",
       "      <th>客戶名稱</th>\n",
       "      <th>母通路</th>\n",
       "      <th>大通路</th>\n",
       "      <th>小通路</th>\n",
       "      <th>日報通路</th>\n",
       "      <th>業務名稱</th>\n",
       "      <th>業務負責區域</th>\n",
       "      <th>業務所屬區域</th>\n",
       "      <th>客戶登記地址</th>\n",
       "      <th>客戶城市</th>\n",
       "      <th>規格</th>\n",
       "      <th>花紋</th>\n",
       "      <th>工廠</th>\n",
       "      <th>TBR Premium</th>\n",
       "      <th>輪胎類別</th>\n",
       "      <th>品牌</th>\n",
       "      <th>客戶等級</th>\n",
       "      <th>客戶所在地區分區</th>\n",
       "    </tr>\n",
       "  </thead>\n",
       "  <tbody>\n",
       "    <tr>\n",
       "      <th>4</th>\n",
       "      <td>2017-01-03</td>\n",
       "      <td>2017-01-03</td>\n",
       "      <td>102883527</td>\n",
       "      <td>30</td>\n",
       "      <td>C1C10131</td>\n",
       "      <td>LSR01270</td>\n",
       "      <td>825  R  16  14P  R225Z 日</td>\n",
       "      <td>JP</td>\n",
       "      <td>4</td>\n",
       "      <td>5862</td>\n",
       "      <td>廣億輪胎有限公司</td>\n",
       "      <td>REP</td>\n",
       "      <td>BSSC</td>\n",
       "      <td>A</td>\n",
       "      <td>其他</td>\n",
       "      <td>林俊良</td>\n",
       "      <td>五股、桃園</td>\n",
       "      <td>北區</td>\n",
       "      <td>新北市樹林區三俊街26號</td>\n",
       "      <td>新北市</td>\n",
       "      <td>825R16</td>\n",
       "      <td>R225</td>\n",
       "      <td>BSJ</td>\n",
       "      <td>No</td>\n",
       "      <td>LSR</td>\n",
       "      <td>BS</td>\n",
       "      <td>No contract</td>\n",
       "      <td>北北基</td>\n",
       "    </tr>\n",
       "    <tr>\n",
       "      <th>12</th>\n",
       "      <td>2017-01-04</td>\n",
       "      <td>2017-01-04</td>\n",
       "      <td>102885423</td>\n",
       "      <td>40</td>\n",
       "      <td>C1C10335</td>\n",
       "      <td>LSR01270</td>\n",
       "      <td>825  R  16  14P  R225Z 日</td>\n",
       "      <td>JP</td>\n",
       "      <td>2</td>\n",
       "      <td>5862</td>\n",
       "      <td>文發輪胎行</td>\n",
       "      <td>REP</td>\n",
       "      <td>BSSC</td>\n",
       "      <td>A</td>\n",
       "      <td>其他</td>\n",
       "      <td>林俊良</td>\n",
       "      <td>北北宜</td>\n",
       "      <td>北區</td>\n",
       "      <td>新北市中和區景平路104號1樓</td>\n",
       "      <td>新北市</td>\n",
       "      <td>825R16</td>\n",
       "      <td>R225</td>\n",
       "      <td>BSJ</td>\n",
       "      <td>No</td>\n",
       "      <td>LSR</td>\n",
       "      <td>BS</td>\n",
       "      <td>No contract</td>\n",
       "      <td>北北基</td>\n",
       "    </tr>\n",
       "    <tr>\n",
       "      <th>19</th>\n",
       "      <td>2017-01-04</td>\n",
       "      <td>2017-01-04</td>\n",
       "      <td>102885666</td>\n",
       "      <td>10</td>\n",
       "      <td>C1C10038</td>\n",
       "      <td>LSR01270</td>\n",
       "      <td>825  R  16  14P  R225Z 日</td>\n",
       "      <td>JP</td>\n",
       "      <td>5</td>\n",
       "      <td>5862</td>\n",
       "      <td>雙十輪胎行</td>\n",
       "      <td>REP</td>\n",
       "      <td>BSSC</td>\n",
       "      <td>A</td>\n",
       "      <td>其他</td>\n",
       "      <td>林俊良</td>\n",
       "      <td>北北宜</td>\n",
       "      <td>北區</td>\n",
       "      <td>新北市板橋區民生路3段54號</td>\n",
       "      <td>新北市</td>\n",
       "      <td>825R16</td>\n",
       "      <td>R225</td>\n",
       "      <td>BSJ</td>\n",
       "      <td>No</td>\n",
       "      <td>LSR</td>\n",
       "      <td>BS</td>\n",
       "      <td>No contract</td>\n",
       "      <td>北北基</td>\n",
       "    </tr>\n",
       "    <tr>\n",
       "      <th>26</th>\n",
       "      <td>2017-01-05</td>\n",
       "      <td>2017-01-05</td>\n",
       "      <td>102886570</td>\n",
       "      <td>10</td>\n",
       "      <td>C1C10132</td>\n",
       "      <td>LSR01270</td>\n",
       "      <td>825  R  16  14P  R225Z 日</td>\n",
       "      <td>JP</td>\n",
       "      <td>4</td>\n",
       "      <td>5862</td>\n",
       "      <td>長隆輪胎行</td>\n",
       "      <td>REP</td>\n",
       "      <td>BSSC</td>\n",
       "      <td>A</td>\n",
       "      <td>其他</td>\n",
       "      <td>林俊良</td>\n",
       "      <td>五股、桃園</td>\n",
       "      <td>北區</td>\n",
       "      <td>新北市樹林區保安街2段51號</td>\n",
       "      <td>新北市</td>\n",
       "      <td>825R16</td>\n",
       "      <td>R225</td>\n",
       "      <td>BSJ</td>\n",
       "      <td>No</td>\n",
       "      <td>LSR</td>\n",
       "      <td>BS</td>\n",
       "      <td>No contract</td>\n",
       "      <td>北北基</td>\n",
       "    </tr>\n",
       "    <tr>\n",
       "      <th>28</th>\n",
       "      <td>2017-01-05</td>\n",
       "      <td>2017-01-05</td>\n",
       "      <td>102886653</td>\n",
       "      <td>10</td>\n",
       "      <td>C1B10336</td>\n",
       "      <td>LSR01270</td>\n",
       "      <td>825  R  16  14P  R225Z 日</td>\n",
       "      <td>JP</td>\n",
       "      <td>7</td>\n",
       "      <td>5862</td>\n",
       "      <td>冠軍輪胎行</td>\n",
       "      <td>REP</td>\n",
       "      <td>BSSC</td>\n",
       "      <td>A</td>\n",
       "      <td>其他</td>\n",
       "      <td>林俊良</td>\n",
       "      <td>五股、桃園</td>\n",
       "      <td>北區</td>\n",
       "      <td>桃園市龜山區復興一路367號</td>\n",
       "      <td>桃園市</td>\n",
       "      <td>825R16</td>\n",
       "      <td>R225</td>\n",
       "      <td>BSJ</td>\n",
       "      <td>No</td>\n",
       "      <td>LSR</td>\n",
       "      <td>BS</td>\n",
       "      <td>No contract</td>\n",
       "      <td>桃竹苗</td>\n",
       "    </tr>\n",
       "    <tr>\n",
       "      <th>...</th>\n",
       "      <td>...</td>\n",
       "      <td>...</td>\n",
       "      <td>...</td>\n",
       "      <td>...</td>\n",
       "      <td>...</td>\n",
       "      <td>...</td>\n",
       "      <td>...</td>\n",
       "      <td>...</td>\n",
       "      <td>...</td>\n",
       "      <td>...</td>\n",
       "      <td>...</td>\n",
       "      <td>...</td>\n",
       "      <td>...</td>\n",
       "      <td>...</td>\n",
       "      <td>...</td>\n",
       "      <td>...</td>\n",
       "      <td>...</td>\n",
       "      <td>...</td>\n",
       "      <td>...</td>\n",
       "      <td>...</td>\n",
       "      <td>...</td>\n",
       "      <td>...</td>\n",
       "      <td>...</td>\n",
       "      <td>...</td>\n",
       "      <td>...</td>\n",
       "      <td>...</td>\n",
       "      <td>...</td>\n",
       "      <td>...</td>\n",
       "    </tr>\n",
       "    <tr>\n",
       "      <th>141096</th>\n",
       "      <td>2023-03-27</td>\n",
       "      <td>2023-03-27</td>\n",
       "      <td>104472660</td>\n",
       "      <td>10</td>\n",
       "      <td>K1K11013</td>\n",
       "      <td>LSR01270</td>\n",
       "      <td>825  R  16  14P  R225Z 日</td>\n",
       "      <td>JP</td>\n",
       "      <td>2</td>\n",
       "      <td>6948</td>\n",
       "      <td>榮隆國際有限公司</td>\n",
       "      <td>REP</td>\n",
       "      <td>BSSC</td>\n",
       "      <td>BFP</td>\n",
       "      <td>FMC</td>\n",
       "      <td>張鴻宗</td>\n",
       "      <td>雲嘉南</td>\n",
       "      <td>南區</td>\n",
       "      <td>臺南市善化區小新里小新營３２５號1樓</td>\n",
       "      <td>台南市</td>\n",
       "      <td>825R16</td>\n",
       "      <td>R225</td>\n",
       "      <td>BSJ</td>\n",
       "      <td>No</td>\n",
       "      <td>LSR</td>\n",
       "      <td>BS</td>\n",
       "      <td>A</td>\n",
       "      <td>雲嘉南</td>\n",
       "    </tr>\n",
       "    <tr>\n",
       "      <th>141134</th>\n",
       "      <td>2023-03-28</td>\n",
       "      <td>2023-03-28</td>\n",
       "      <td>104473414</td>\n",
       "      <td>10</td>\n",
       "      <td>C1X0C1H1</td>\n",
       "      <td>LSR01270</td>\n",
       "      <td>825  R  16  14P  R225Z 日</td>\n",
       "      <td>JP</td>\n",
       "      <td>2</td>\n",
       "      <td>6331</td>\n",
       "      <td>和泰汽車股份有限公司</td>\n",
       "      <td>REP</td>\n",
       "      <td>BSSC</td>\n",
       "      <td>CD</td>\n",
       "      <td>其他</td>\n",
       "      <td>林俊良</td>\n",
       "      <td>北北宜</td>\n",
       "      <td>北區</td>\n",
       "      <td>台北市松江路121號8-14樓</td>\n",
       "      <td>台北市</td>\n",
       "      <td>825R16</td>\n",
       "      <td>R225</td>\n",
       "      <td>BSJ</td>\n",
       "      <td>No</td>\n",
       "      <td>LSR</td>\n",
       "      <td>BS</td>\n",
       "      <td>No contract</td>\n",
       "      <td>北北基</td>\n",
       "    </tr>\n",
       "    <tr>\n",
       "      <th>141166</th>\n",
       "      <td>2023-03-29</td>\n",
       "      <td>2023-03-29</td>\n",
       "      <td>104474401</td>\n",
       "      <td>10</td>\n",
       "      <td>N1N1A020</td>\n",
       "      <td>LSR01270</td>\n",
       "      <td>825  R  16  14P  R225Z 日</td>\n",
       "      <td>JP</td>\n",
       "      <td>5</td>\n",
       "      <td>7200</td>\n",
       "      <td>志峰輪胎行</td>\n",
       "      <td>REP</td>\n",
       "      <td>BSSC</td>\n",
       "      <td>A</td>\n",
       "      <td>其他</td>\n",
       "      <td>張正平</td>\n",
       "      <td>高屏台東</td>\n",
       "      <td>南區</td>\n",
       "      <td>台東市正氣北路435號</td>\n",
       "      <td>台東縣</td>\n",
       "      <td>825R16</td>\n",
       "      <td>R225</td>\n",
       "      <td>BSJ</td>\n",
       "      <td>No</td>\n",
       "      <td>LSR</td>\n",
       "      <td>BS</td>\n",
       "      <td>No contract</td>\n",
       "      <td>高屏東</td>\n",
       "    </tr>\n",
       "    <tr>\n",
       "      <th>141193</th>\n",
       "      <td>2023-03-29</td>\n",
       "      <td>2023-03-31</td>\n",
       "      <td>104474482</td>\n",
       "      <td>10</td>\n",
       "      <td>K1K11013</td>\n",
       "      <td>LSR01270</td>\n",
       "      <td>825  R  16  14P  R225Z 日</td>\n",
       "      <td>JP</td>\n",
       "      <td>15</td>\n",
       "      <td>6948</td>\n",
       "      <td>榮隆國際有限公司</td>\n",
       "      <td>REP</td>\n",
       "      <td>BSSC</td>\n",
       "      <td>BFP</td>\n",
       "      <td>FMC</td>\n",
       "      <td>張鴻宗</td>\n",
       "      <td>雲嘉南</td>\n",
       "      <td>南區</td>\n",
       "      <td>臺南市善化區小新里小新營３２５號1樓</td>\n",
       "      <td>台南市</td>\n",
       "      <td>825R16</td>\n",
       "      <td>R225</td>\n",
       "      <td>BSJ</td>\n",
       "      <td>No</td>\n",
       "      <td>LSR</td>\n",
       "      <td>BS</td>\n",
       "      <td>A</td>\n",
       "      <td>雲嘉南</td>\n",
       "    </tr>\n",
       "    <tr>\n",
       "      <th>141204</th>\n",
       "      <td>2023-03-31</td>\n",
       "      <td>2023-03-31</td>\n",
       "      <td>104475505</td>\n",
       "      <td>20</td>\n",
       "      <td>N1N1B040</td>\n",
       "      <td>LSR01270</td>\n",
       "      <td>825  R  16  14P  R225Z 日</td>\n",
       "      <td>JP</td>\n",
       "      <td>10</td>\n",
       "      <td>6948</td>\n",
       "      <td>宏通汽車百貨行</td>\n",
       "      <td>REP</td>\n",
       "      <td>BSSC</td>\n",
       "      <td>A</td>\n",
       "      <td>其他</td>\n",
       "      <td>張正平</td>\n",
       "      <td>高屏台東</td>\n",
       "      <td>南區</td>\n",
       "      <td>屏東縣東港鎮船頭里沿海路15號</td>\n",
       "      <td>屏東縣</td>\n",
       "      <td>825R16</td>\n",
       "      <td>R225</td>\n",
       "      <td>BSJ</td>\n",
       "      <td>No</td>\n",
       "      <td>LSR</td>\n",
       "      <td>BS</td>\n",
       "      <td>No contract</td>\n",
       "      <td>高屏東</td>\n",
       "    </tr>\n",
       "  </tbody>\n",
       "</table>\n",
       "<p>8361 rows × 28 columns</p>\n",
       "</div>"
      ],
      "text/plain": [
       "              訂單日期      實際出貨日       訂單單號 訂單項次        買方        物料  \\\n",
       "4       2017-01-03 2017-01-03  102883527   30  C1C10131  LSR01270   \n",
       "12      2017-01-04 2017-01-04  102885423   40  C1C10335  LSR01270   \n",
       "19      2017-01-04 2017-01-04  102885666   10  C1C10038  LSR01270   \n",
       "26      2017-01-05 2017-01-05  102886570   10  C1C10132  LSR01270   \n",
       "28      2017-01-05 2017-01-05  102886653   10  C1B10336  LSR01270   \n",
       "...            ...        ...        ...  ...       ...       ...   \n",
       "141096  2023-03-27 2023-03-27  104472660   10  K1K11013  LSR01270   \n",
       "141134  2023-03-28 2023-03-28  104473414   10  C1X0C1H1  LSR01270   \n",
       "141166  2023-03-29 2023-03-29  104474401   10  N1N1A020  LSR01270   \n",
       "141193  2023-03-29 2023-03-31  104474482   10  K1K11013  LSR01270   \n",
       "141204  2023-03-31 2023-03-31  104475505   20  N1N1B040  LSR01270   \n",
       "\n",
       "                            物料說明  國別  銷售數量  銷貨單價        客戶名稱  母通路   大通路  小通路  \\\n",
       "4       825  R  16  14P  R225Z 日  JP     4  5862    廣億輪胎有限公司  REP  BSSC    A   \n",
       "12      825  R  16  14P  R225Z 日  JP     2  5862       文發輪胎行  REP  BSSC    A   \n",
       "19      825  R  16  14P  R225Z 日  JP     5  5862       雙十輪胎行  REP  BSSC    A   \n",
       "26      825  R  16  14P  R225Z 日  JP     4  5862       長隆輪胎行  REP  BSSC    A   \n",
       "28      825  R  16  14P  R225Z 日  JP     7  5862       冠軍輪胎行  REP  BSSC    A   \n",
       "...                          ...  ..   ...   ...         ...  ...   ...  ...   \n",
       "141096  825  R  16  14P  R225Z 日  JP     2  6948    榮隆國際有限公司  REP  BSSC  BFP   \n",
       "141134  825  R  16  14P  R225Z 日  JP     2  6331  和泰汽車股份有限公司  REP  BSSC   CD   \n",
       "141166  825  R  16  14P  R225Z 日  JP     5  7200       志峰輪胎行  REP  BSSC    A   \n",
       "141193  825  R  16  14P  R225Z 日  JP    15  6948    榮隆國際有限公司  REP  BSSC  BFP   \n",
       "141204  825  R  16  14P  R225Z 日  JP    10  6948     宏通汽車百貨行  REP  BSSC    A   \n",
       "\n",
       "       日報通路 業務名稱 業務負責區域 業務所屬區域              客戶登記地址 客戶城市      規格    花紋   工廠  \\\n",
       "4        其他  林俊良  五股、桃園     北區        新北市樹林區三俊街26號  新北市  825R16  R225  BSJ   \n",
       "12       其他  林俊良    北北宜     北區     新北市中和區景平路104號1樓  新北市  825R16  R225  BSJ   \n",
       "19       其他  林俊良    北北宜     北區      新北市板橋區民生路3段54號  新北市  825R16  R225  BSJ   \n",
       "26       其他  林俊良  五股、桃園     北區      新北市樹林區保安街2段51號  新北市  825R16  R225  BSJ   \n",
       "28       其他  林俊良  五股、桃園     北區      桃園市龜山區復興一路367號  桃園市  825R16  R225  BSJ   \n",
       "...     ...  ...    ...    ...                 ...  ...     ...   ...  ...   \n",
       "141096  FMC  張鴻宗    雲嘉南     南區  臺南市善化區小新里小新營３２５號1樓  台南市  825R16  R225  BSJ   \n",
       "141134   其他  林俊良    北北宜     北區     台北市松江路121號8-14樓  台北市  825R16  R225  BSJ   \n",
       "141166   其他  張正平   高屏台東     南區         台東市正氣北路435號  台東縣  825R16  R225  BSJ   \n",
       "141193  FMC  張鴻宗    雲嘉南     南區  臺南市善化區小新里小新營３２５號1樓  台南市  825R16  R225  BSJ   \n",
       "141204   其他  張正平   高屏台東     南區     屏東縣東港鎮船頭里沿海路15號  屏東縣  825R16  R225  BSJ   \n",
       "\n",
       "       TBR Premium 輪胎類別  品牌         客戶等級 客戶所在地區分區  \n",
       "4               No  LSR  BS  No contract      北北基  \n",
       "12              No  LSR  BS  No contract      北北基  \n",
       "19              No  LSR  BS  No contract      北北基  \n",
       "26              No  LSR  BS  No contract      北北基  \n",
       "28              No  LSR  BS  No contract      桃竹苗  \n",
       "...            ...  ...  ..          ...      ...  \n",
       "141096          No  LSR  BS            A      雲嘉南  \n",
       "141134          No  LSR  BS  No contract      北北基  \n",
       "141166          No  LSR  BS  No contract      高屏東  \n",
       "141193          No  LSR  BS            A      雲嘉南  \n",
       "141204          No  LSR  BS  No contract      高屏東  \n",
       "\n",
       "[8361 rows x 28 columns]"
      ]
     },
     "execution_count": 27,
     "metadata": {},
     "output_type": "execute_result"
    }
   ],
   "source": [
    "df[df[\"規格\"] == \"825R16\"]"
   ]
  }
 ],
 "metadata": {
  "kernelspec": {
   "display_name": "python_env",
   "language": "python",
   "name": "python3"
  },
  "language_info": {
   "codemirror_mode": {
    "name": "ipython",
    "version": 3
   },
   "file_extension": ".py",
   "mimetype": "text/x-python",
   "name": "python",
   "nbconvert_exporter": "python",
   "pygments_lexer": "ipython3",
   "version": "3.10.6"
  },
  "vscode": {
   "interpreter": {
    "hash": "0441e2ad242e60eb4d55752f5dea0f12731bd2d50ab9154f01b1a5615d7cc10b"
   }
  }
 },
 "nbformat": 4,
 "nbformat_minor": 5
}
