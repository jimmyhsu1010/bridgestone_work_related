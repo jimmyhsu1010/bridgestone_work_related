{
 "cells": [
  {
   "cell_type": "code",
   "execution_count": 222,
   "id": "cbc5e8cb",
   "metadata": {},
   "outputs": [],
   "source": [
    "import pandas as pd\n",
    "import numpy as np\n",
    "# from pivottablejs import pivot_ui\n",
    "# import qgrid\n",
    "\n",
    "pd.set_option(\"display.max_columns\", None)\n",
    "# pd.set_option(\"display.max_rows\", None)\n",
    "pd.set_option(\"mode.chained_assignment\", None)\n",
    "import plotly.express as px\n",
    "import tkinter as tk\n",
    "from tkinter import filedialog\n",
    "from datetime import datetime\n",
    "import pyodbc\n",
    "import time\n",
    "import timeit\n",
    "import sqlalchemy\n",
    "import dateutil.relativedelta\n",
    "import warnings\n",
    "warnings.filterwarnings(\"ignore\")\n",
    "from PIL import Image, ImageTk\n",
    "\n",
    "import os"
   ]
  },
  {
   "attachments": {},
   "cell_type": "markdown",
   "id": "043de1f7",
   "metadata": {},
   "source": [
    "## SQL數據處理class\n",
    "- 需要寫兩個.py檔，1個是初始化數據庫使用，1個是用在日常更新使用，更新頻率為半小時"
   ]
  },
  {
   "cell_type": "code",
   "execution_count": null,
   "id": "a1acd907",
   "metadata": {},
   "outputs": [],
   "source": [
    "# class for initialization\n",
    "class SQL_data_init:\n",
    "    \n",
    "    last_month = \"'\" + (datetime.now() + dateutil.relativedelta.relativedelta(months=-1)).strftime(\"%Y%m\") + \"01'\"\n",
    "    \n",
    "    def __init__(self, init=True) -> None:\n",
    "        self._server = \"10.226.0.53\"\n",
    "        self._database = \"master\"\n",
    "        self._username = \"BIUser\"\n",
    "        self._password = \"test\"\n",
    "        self._cnxn = self.conn_server()\n",
    "        self._server_ex = \"10.226.61.50\"\n",
    "        self._database_ex = \"SAP_DW\"\n",
    "        self._cnxn_ex = self.conn_server(fetch=False)\n",
    "        self.init = init\n",
    "        self.df = self.fetch_new_data(init=init)\n",
    "        self.clean_df = self.data_preprocessing()\n",
    "        self.loading2view()\n",
    "        \n",
    "            \n",
    "    \n",
    "    def conn_server(self, fetch=True):\n",
    "        if fetch == True:\n",
    "            cnxn = pyodbc.connect(driver='SQL Server',server=self._server,database=self._database ,uid=self._username,password=self._password)\n",
    "        else:\n",
    "            cnxn = pyodbc.connect(driver='SQL Server',server=self._server_ex,database=self._database_ex ,uid=self._username,password=self._password)\n",
    "        return cnxn\n",
    "    \n",
    "    \n",
    "    def fetch_new_data(self, init=True):\n",
    "        if init == True:\n",
    "            '''When init=False, initialize the data'''\n",
    "            script = \"select * from [10.212.27.198].FC0.dbo.V_BI_ZMAW where 實際出貨日 >= '20230101'\"\n",
    "        else:\n",
    "            script = \"select * from [10.212.27.198].FC0.dbo.V_BI_ZMAW where 實際出貨日 >= {}\".format(self.last_month)\n",
    "        df = pd.read_sql(script, self._cnxn)\n",
    "        return df\n",
    "    \n",
    "    \n",
    "    def data_preprocessing(self):\n",
    "        df = self.df\n",
    "        df[\"CreatedDateTime\"] = datetime.now()\n",
    "        df[['訂單數量', '交貨數量', '發票單價', '發票未稅', '稅額', '發票合計', '銷售數量', '銷貨單價',\n",
    "        '未稅銷貨']] = df[['訂單數量', '交貨數量', '發票單價', '發票未稅', '稅額', '發票合計', '銷售數量', '銷貨單價',\n",
    "        '未稅銷貨']].fillna(0)\n",
    "        return df\n",
    "        \n",
    "    \n",
    "    \n",
    "    def loading2view(self):\n",
    "        df = self.clean_df\n",
    "        conn = self._cnxn_ex\n",
    "        cursor = conn.cursor()\n",
    "        if self.init == True:\n",
    "            cursor.execute(\"DELETE from ZMAW\")\n",
    "            cursor.commit()\n",
    "            for index, row in df.iterrows():\n",
    "                cursor.execute('INSERT INTO ZMAW (組織, 出貨點, 所名, 區域, 訂單建立日, 訂單文件日, 訂單建立時, 交貨文件日, 計劃出貨日, 實際出貨日, 交單建立時, 請款建立日, 請款日期, 請款建立時, 訂單建立人, 交單建立人, 請款建立人, 訂單備註, 產品階層, 訂單類型, 訂單類型說明, 交貨類型, 交貨類型說明, 請款類型, 請款類型說明, 訂單單號, 訂單項次, 交貨單號, 交貨項次, 請款文件, 請款文件項次, 發票號碼, 買方, 送貨方, 彙總客戶, 業務員, 小胎業務員, 大胎業務員, 買方全名, 買方簡稱, 送貨方全名, 送貨方簡稱, 彙總客戶全名, 彙總客戶簡稱, 業務員全名, 業務員簡稱, 小胎業務員簡稱, 大胎業務員簡稱, 配銷通路, 販社通路, 大胎契約, 小胎契約, 付款條件, 物料群組, 分類, 物料, 物料說明, 花紋別, Premium, 吋別, 中計, 訂單數量, 交貨數量, 發票單價, 發票未稅, 稅額, 發票合計, 銷售數量, 銷貨單價, 未稅銷貨, CreatedDateTime) values (?, ?, ?, ?, ?, ?, ?, ?, ?, ?, ?, ?, ?, ?, ?, ?, ?, ?, ?, ?, ?, ?, ?, ?, ?, ?, ?, ?, ?, ?, ?, ?, ?, ?, ?, ?, ?, ?, ?, ?, ?, ?, ?, ?, ?, ?, ?, ?, ?, ?, ?, ?, ?, ?, ?, ?, ?, ?, ?, ?, ?, ?, ?, ?, ?, ?, ?, ?, ?, ?, ?)', tuple(row))\n",
    "        else:\n",
    "            delete = \"DELETE from ZMAW where 實際出貨日 >= {}\".format(self.last_month)\n",
    "            cursor.execute(delete)\n",
    "            cursor.commit()\n",
    "            for index, row in df.iterrows():\n",
    "                cursor.execute('INSERT INTO ZMAW (組織, 出貨點, 所名, 區域, 訂單建立日, 訂單文件日, 訂單建立時, 交貨文件日, 計劃出貨日, 實際出貨日, 交單建立時, 請款建立日, 請款日期, 請款建立時, 訂單建立人, 交單建立人, 請款建立人, 訂單備註, 產品階層, 訂單類型, 訂單類型說明, 交貨類型, 交貨類型說明, 請款類型, 請款類型說明, 訂單單號, 訂單項次, 交貨單號, 交貨項次, 請款文件, 請款文件項次, 發票號碼, 買方, 送貨方, 彙總客戶, 業務員, 小胎業務員, 大胎業務員, 買方全名, 買方簡稱, 送貨方全名, 送貨方簡稱, 彙總客戶全名, 彙總客戶簡稱, 業務員全名, 業務員簡稱, 小胎業務員簡稱, 大胎業務員簡稱, 配銷通路, 販社通路, 大胎契約, 小胎契約, 付款條件, 物料群組, 分類, 物料, 物料說明, 花紋別, Premium, 吋別, 中計, 訂單數量, 交貨數量, 發票單價, 發票未稅, 稅額, 發票合計, 銷售數量, 銷貨單價, 未稅銷貨, CreatedDateTime) values (?, ?, ?, ?, ?, ?, ?, ?, ?, ?, ?, ?, ?, ?, ?, ?, ?, ?, ?, ?, ?, ?, ?, ?, ?, ?, ?, ?, ?, ?, ?, ?, ?, ?, ?, ?, ?, ?, ?, ?, ?, ?, ?, ?, ?, ?, ?, ?, ?, ?, ?, ?, ?, ?, ?, ?, ?, ?, ?, ?, ?, ?, ?, ?, ?, ?, ?, ?, ?, ?, ?)', tuple(row))\n",
    "        conn.commit()\n",
    "        cursor.close()\n",
    "        \n",
    "        \n",
    "if __name__ == \"__main__\":\n",
    "    SQL_data_init()\n",
    "        "
   ]
  },
  {
   "cell_type": "code",
   "execution_count": null,
   "id": "47675782",
   "metadata": {},
   "outputs": [],
   "source": [
    "# Routine update\n",
    "class SQL_data:\n",
    "    \n",
    "    last_month = \"'\" + (datetime.now() + dateutil.relativedelta.relativedelta(months=-1)).strftime(\"%Y%m\") + \"01'\"\n",
    "    \n",
    "    def __init__(self, init=False) -> None:\n",
    "        self._server = \"10.226.0.53\"\n",
    "        self._database = \"master\"\n",
    "        self._username = \"BIUser\"\n",
    "        self._password = \"test\"\n",
    "        self._cnxn = self.conn_server()\n",
    "        self._server_ex = \"10.226.61.50\"\n",
    "        self._database_ex = \"SAP_DW\"\n",
    "        self._cnxn_ex = self.conn_server(fetch=False)\n",
    "        self.init = init\n",
    "        self.df = self.fetch_new_data(init=init)\n",
    "        self.clean_df = self.data_preprocessing()\n",
    "        self.loading2view()\n",
    "        \n",
    "            \n",
    "    \n",
    "    def conn_server(self, fetch=True):\n",
    "        if fetch == True:\n",
    "            cnxn = pyodbc.connect(driver='SQL Server',server=self._server,database=self._database ,uid=self._username,password=self._password)\n",
    "        else:\n",
    "            cnxn = pyodbc.connect(driver='SQL Server',server=self._server_ex,database=self._database_ex ,uid=self._username,password=self._password)\n",
    "        return cnxn\n",
    "    \n",
    "    \n",
    "    def fetch_new_data(self, init=True):\n",
    "        if init == True:\n",
    "            '''When init=False, initialize the data'''\n",
    "            script = \"select * from [10.212.27.198].FC0.dbo.V_BI_ZMAW where 實際出貨日 >= '20230201'\"\n",
    "        else:\n",
    "            script = \"select * from [10.212.27.198].FC0.dbo.V_BI_ZMAW where 實際出貨日 >= {}\".format(self.last_month)\n",
    "        df = pd.read_sql(script, self._cnxn)\n",
    "        return df\n",
    "    \n",
    "    \n",
    "    def data_preprocessing(self):\n",
    "        df = self.df\n",
    "        df[\"CreatedDateTime\"] = datetime.now()\n",
    "        df[['訂單數量', '交貨數量', '發票單價', '發票未稅', '稅額', '發票合計', '銷售數量', '銷貨單價',\n",
    "        '未稅銷貨']] = df[['訂單數量', '交貨數量', '發票單價', '發票未稅', '稅額', '發票合計', '銷售數量', '銷貨單價',\n",
    "        '未稅銷貨']].fillna(0)\n",
    "        return df\n",
    "        \n",
    "    \n",
    "    \n",
    "    def loading2view(self):\n",
    "        df = self.clean_df\n",
    "        conn = self._cnxn_ex\n",
    "        cursor = conn.cursor()\n",
    "        if self.init == True:\n",
    "            cursor.execute(\"DELETE from ZMAW\")\n",
    "            cursor.commit()\n",
    "            for index, row in df.iterrows():\n",
    "                cursor.execute('INSERT INTO ZMAW (組織, 出貨點, 所名, 區域, 訂單建立日, 訂單文件日, 訂單建立時, 交貨文件日, 計劃出貨日, 實際出貨日, 交單建立時, 請款建立日, 請款日期, 請款建立時, 訂單建立人, 交單建立人, 請款建立人, 訂單備註, 產品階層, 訂單類型, 訂單類型說明, 交貨類型, 交貨類型說明, 請款類型, 請款類型說明, 訂單單號, 訂單項次, 交貨單號, 交貨項次, 請款文件, 請款文件項次, 發票號碼, 買方, 送貨方, 彙總客戶, 業務員, 小胎業務員, 大胎業務員, 買方全名, 買方簡稱, 送貨方全名, 送貨方簡稱, 彙總客戶全名, 彙總客戶簡稱, 業務員全名, 業務員簡稱, 小胎業務員簡稱, 大胎業務員簡稱, 配銷通路, 販社通路, 大胎契約, 小胎契約, 付款條件, 物料群組, 分類, 物料, 物料說明, 花紋別, Premium, 吋別, 中計, 訂單數量, 交貨數量, 發票單價, 發票未稅, 稅額, 發票合計, 銷售數量, 銷貨單價, 未稅銷貨, CreatedDateTime) values (?, ?, ?, ?, ?, ?, ?, ?, ?, ?, ?, ?, ?, ?, ?, ?, ?, ?, ?, ?, ?, ?, ?, ?, ?, ?, ?, ?, ?, ?, ?, ?, ?, ?, ?, ?, ?, ?, ?, ?, ?, ?, ?, ?, ?, ?, ?, ?, ?, ?, ?, ?, ?, ?, ?, ?, ?, ?, ?, ?, ?, ?, ?, ?, ?, ?, ?, ?, ?, ?, ?)', tuple(row))\n",
    "        else:\n",
    "            delete = \"DELETE from ZMAW where 實際出貨日 >= {}\".format(self.last_month)\n",
    "            cursor.execute(delete)\n",
    "            cursor.commit()\n",
    "            for index, row in df.iterrows():\n",
    "                cursor.execute('INSERT INTO ZMAW (組織, 出貨點, 所名, 區域, 訂單建立日, 訂單文件日, 訂單建立時, 交貨文件日, 計劃出貨日, 實際出貨日, 交單建立時, 請款建立日, 請款日期, 請款建立時, 訂單建立人, 交單建立人, 請款建立人, 訂單備註, 產品階層, 訂單類型, 訂單類型說明, 交貨類型, 交貨類型說明, 請款類型, 請款類型說明, 訂單單號, 訂單項次, 交貨單號, 交貨項次, 請款文件, 請款文件項次, 發票號碼, 買方, 送貨方, 彙總客戶, 業務員, 小胎業務員, 大胎業務員, 買方全名, 買方簡稱, 送貨方全名, 送貨方簡稱, 彙總客戶全名, 彙總客戶簡稱, 業務員全名, 業務員簡稱, 小胎業務員簡稱, 大胎業務員簡稱, 配銷通路, 販社通路, 大胎契約, 小胎契約, 付款條件, 物料群組, 分類, 物料, 物料說明, 花紋別, Premium, 吋別, 中計, 訂單數量, 交貨數量, 發票單價, 發票未稅, 稅額, 發票合計, 銷售數量, 銷貨單價, 未稅銷貨, CreatedDateTime) values (?, ?, ?, ?, ?, ?, ?, ?, ?, ?, ?, ?, ?, ?, ?, ?, ?, ?, ?, ?, ?, ?, ?, ?, ?, ?, ?, ?, ?, ?, ?, ?, ?, ?, ?, ?, ?, ?, ?, ?, ?, ?, ?, ?, ?, ?, ?, ?, ?, ?, ?, ?, ?, ?, ?, ?, ?, ?, ?, ?, ?, ?, ?, ?, ?, ?, ?, ?, ?, ?, ?)', tuple(row))\n",
    "        conn.commit()\n",
    "        cursor.close()\n",
    "        \n",
    "        \n",
    "if __name__ == \"__main__\":\n",
    "    SQL_data()\n",
    "        "
   ]
  },
  {
   "cell_type": "code",
   "execution_count": null,
   "id": "c042a5f6",
   "metadata": {},
   "outputs": [],
   "source": [
    "# Verify the result\n",
    "server = \"10.226.61.50\"\n",
    "database = \"SAP_DW\"\n",
    "username = \"BIUser\"\n",
    "password = \"test\"\n",
    "\n",
    "conn = pyodbc.connect(driver='SQL Server',server=server,database=database ,uid=username,password=password)\n",
    "cursor = conn.cursor()\n",
    "df = pd.read_sql(\"select * from [dbo].[ZMAW]\", con=conn)\n",
    "df"
   ]
  },
  {
   "cell_type": "code",
   "execution_count": null,
   "id": "14c70ced",
   "metadata": {},
   "outputs": [],
   "source": [
    "# 計算業績販社只有ZSO1和ZKE的訂單類型有效，本社是ZOR1（TBR(G)）\n",
    "result = df[(df[\"中計\"].str.contains(\"TBR|LSR2\")) & (df[\"訂單類型\"].isin([\"ZSO1\", \"ZKE\", \"ZOR1\"])) & (df[\"配銷通路\"].isin([\"OT\", \"FT\", \"AG\"]))]\n",
    "result[\"銷售數量\"].sum()\n",
    "result\n",
    "result[\"買方\"].unique()\n",
    "\n"
   ]
  },
  {
   "cell_type": "markdown",
   "id": "7c9b3aa8-f000-412a-8f62-8b5c73d69eda",
   "metadata": {
    "tags": []
   },
   "source": [
    "## SQL Server 連線"
   ]
  },
  {
   "cell_type": "code",
   "execution_count": 217,
   "id": "c540d162-d693-4d00-8b77-5bdf7026e908",
   "metadata": {},
   "outputs": [],
   "source": [
    "server = \"10.226.0.53\"\n",
    "database = \"master\"\n",
    "username = \"BIUser\"\n",
    "password = \"test\""
   ]
  },
  {
   "cell_type": "code",
   "execution_count": 218,
   "id": "37424ce4-8fd2-4db3-b13e-f494fcd08bdf",
   "metadata": {},
   "outputs": [],
   "source": [
    "cnxn = pyodbc.connect(driver='SQL Server',server=server,database=database ,uid=username,password=password)"
   ]
  },
  {
   "cell_type": "code",
   "execution_count": 111,
   "id": "31235af0-eaea-499e-937c-df9b449f39b2",
   "metadata": {},
   "outputs": [],
   "source": [
    "cursor = cnxn.cursor()"
   ]
  },
  {
   "cell_type": "code",
   "execution_count": null,
   "id": "3799f470-aedc-494a-b0f5-2d4a198aa81e",
   "metadata": {},
   "outputs": [],
   "source": [
    "last_month = \"'\" + (datetime.now() + dateutil.relativedelta.relativedelta(months=-1)).strftime(\"%Y%m\") + \"01'\"\n",
    "last_month"
   ]
  },
  {
   "cell_type": "code",
   "execution_count": null,
   "id": "a19e08ce-fe9b-4361-9659-57a4da6e60dd",
   "metadata": {},
   "outputs": [],
   "source": [
    "script = \"select * from [10.212.27.198].FC0.dbo.V_BI_ZMAW where 實際出貨日 >= {}\".format(last_month)"
   ]
  },
  {
   "cell_type": "code",
   "execution_count": 219,
   "id": "4520be6b-6421-46e0-9ae1-ea64b3e9e3ad",
   "metadata": {},
   "outputs": [],
   "source": [
    "script = \"select * from [10.212.27.198].FC0.dbo.V_BI_ZMAW where 實際出貨日 >= '20230201'\""
   ]
  },
  {
   "cell_type": "code",
   "execution_count": null,
   "id": "2c63d8b3",
   "metadata": {},
   "outputs": [],
   "source": [
    "inventory_script = \"select * from [10.212.27.198].FC0.dbo.V_BI_INVENTORY\""
   ]
  },
  {
   "cell_type": "code",
   "execution_count": 220,
   "id": "ae917847-78e0-4ff8-b5ae-c25cc29f7ab8",
   "metadata": {},
   "outputs": [],
   "source": [
    "df = pd.read_sql(script, cnxn)"
   ]
  },
  {
   "cell_type": "code",
   "execution_count": 221,
   "id": "a6bd133a",
   "metadata": {},
   "outputs": [
    {
     "data": {
      "text/plain": [
       "12054.0"
      ]
     },
     "execution_count": 221,
     "metadata": {},
     "output_type": "execute_result"
    }
   ],
   "source": [
    "df = df[(df[\"中計\"].str.contains(\"TBR|LSR2\")) & (df[\"訂單類型\"].isin([\"ZSO1\", \"ZKE\", \"ZOR1\"])) & (df[\"配銷通路\"].isin([\"OT\", \"FT\", \"AG\"]))]\n",
    "df[\"交貨數量\"].sum()"
   ]
  },
  {
   "cell_type": "code",
   "execution_count": null,
   "id": "8e4ddcc3",
   "metadata": {},
   "outputs": [],
   "source": [
    "df[df[\"配銷通路\"].isna()]"
   ]
  },
  {
   "cell_type": "code",
   "execution_count": null,
   "id": "8c45d7b8-8319-4f5c-a1b5-33dfb483464c",
   "metadata": {},
   "outputs": [],
   "source": [
    "inventory_status = df[df[\"料號\"].str.contains(\"TBR|LSR\")]"
   ]
  },
  {
   "cell_type": "code",
   "execution_count": null,
   "id": "1d1fa1c9",
   "metadata": {},
   "outputs": [],
   "source": [
    "inventory_status[inventory_status[\"未限制庫存\"] != 0][\"倉別名稱\"].value_counts()"
   ]
  },
  {
   "cell_type": "code",
   "execution_count": null,
   "id": "e7553c4e-df18-4dff-b844-865eb9fa7977",
   "metadata": {},
   "outputs": [],
   "source": [
    "# 查看系統所有訂單的script\n",
    "current_mon = datetime.now().strftime(\"'%Y-%m'\")\n",
    "script = \"select * from [10.212.27.198].FC0.dbo.V_BI_ORDER where convert(varchar(7), 訂單建立日, 120) = {}\".format(current_mon)"
   ]
  },
  {
   "cell_type": "code",
   "execution_count": null,
   "id": "ea6601bb-39a7-4a0a-b473-cfdfffe7a3af",
   "metadata": {},
   "outputs": [],
   "source": [
    "script = \"select * from [10.212.27.198].FC0.dbo.V_BI_ZMAW where convert(varchar(7), 訂單建立日, 120) >= '2023-01'\""
   ]
  },
  {
   "cell_type": "code",
   "execution_count": null,
   "id": "d1a06b2d-6a26-4647-b814-775b7f9b5bde",
   "metadata": {},
   "outputs": [],
   "source": [
    "## 所有訂單（包含販社和本社）\n",
    "category_table = pd.read_excel(\"./ReferenceTable/20220801_category_types.xlsx\")\n",
    "cuscode_type = dict(zip(category_table[\"客戶代號\"], category_table[\"大通路\"]))\n",
    "df[\"大通路\"] = df[\"買方\"].map(cuscode_type)"
   ]
  },
  {
   "cell_type": "code",
   "execution_count": null,
   "id": "8724c447-7e4a-4260-aa29-0aae8811e65d",
   "metadata": {},
   "outputs": [],
   "source": []
  },
  {
   "cell_type": "code",
   "execution_count": null,
   "id": "d5287536-00f2-432c-adde-78aeca2a34ba",
   "metadata": {},
   "outputs": [],
   "source": [
    "cursor.close()"
   ]
  },
  {
   "cell_type": "code",
   "execution_count": null,
   "id": "2393b052-75d1-443e-8764-6065ce835255",
   "metadata": {},
   "outputs": [],
   "source": [
    "df.to_pickle(r\"D:\\kc.hsu\\OneDrive - Bridgestone\\數據\\銷售數據\\sql_sever_data_from_2019ytd.pkl\")"
   ]
  },
  {
   "cell_type": "code",
   "execution_count": null,
   "id": "b6af0421-f243-4204-8ecf-91bd9e42d0df",
   "metadata": {},
   "outputs": [],
   "source": [
    "df = pd.read_pickle(r\"D:\\kc.hsu\\OneDrive - Bridgestone\\數據\\銷售數據\\sql_sever_data_from_2019ytd.pkl\")"
   ]
  },
  {
   "cell_type": "markdown",
   "id": "af6f4050-2274-4f8e-84cd-555d4993103b",
   "metadata": {
    "jp-MarkdownHeadingCollapsed": true,
    "tags": []
   },
   "source": [
    "## 測試所有訂單的想法"
   ]
  },
  {
   "cell_type": "code",
   "execution_count": 2,
   "id": "c5802583",
   "metadata": {},
   "outputs": [],
   "source": [
    "server = \"10.226.0.53\"\n",
    "database = \"master\"\n",
    "username = \"BIUser\"\n",
    "password = \"test\"\n",
    "\n",
    "cnxn = pyodbc.connect(driver='SQL Server',server=server,database=database ,uid=username,password=password)\n",
    "script = \"select * from [10.212.27.198].FC0.dbo.V_BI_ORDER where convert(varchar(7), 訂單建立日, 120) = '2023-02'\""
   ]
  },
  {
   "cell_type": "code",
   "execution_count": 22,
   "id": "d20613da",
   "metadata": {},
   "outputs": [],
   "source": [
    "df = pd.read_sql(script, cnxn)"
   ]
  },
  {
   "cell_type": "code",
   "execution_count": 23,
   "id": "42fb934a",
   "metadata": {},
   "outputs": [],
   "source": [
    "df[\"大通路\"] = df[\"彙總客戶\"].map(cuscode_type)"
   ]
  },
  {
   "cell_type": "code",
   "execution_count": 33,
   "id": "8b8c6d8e",
   "metadata": {},
   "outputs": [],
   "source": [
    "df = df[(df[\"訂單類型\"].isin([\"ZSO1\", \"ZKE\", \"ZOR1\"])) & (df[\"大通路\"].notna()) & (df[\"大通路\"] == \"BSSC\") & (df[\"物料說明\"].str.contains(\"315/80R225\")) & (df[\"花紋別\"].str.contains(\"R150|M729\"))]"
   ]
  },
  {
   "cell_type": "code",
   "execution_count": 37,
   "id": "c64e672b",
   "metadata": {},
   "outputs": [],
   "source": [
    "df.groupby([\"買方全名\", \"業務員全名\", \"物料說明\", \"花紋別\"])[[\"訂單數量\"]].sum().reset_index().to_excel(r\"C:\\Users\\kc.hsu\\Desktop\\2月特別販促清單.xlsx\", index=False)"
   ]
  },
  {
   "cell_type": "code",
   "execution_count": 45,
   "id": "900f7f45",
   "metadata": {},
   "outputs": [
    {
     "data": {
      "text/html": [
       "<div>\n",
       "<style scoped>\n",
       "    .dataframe tbody tr th:only-of-type {\n",
       "        vertical-align: middle;\n",
       "    }\n",
       "\n",
       "    .dataframe tbody tr th {\n",
       "        vertical-align: top;\n",
       "    }\n",
       "\n",
       "    .dataframe thead th {\n",
       "        text-align: right;\n",
       "    }\n",
       "</style>\n",
       "<table border=\"1\" class=\"dataframe\">\n",
       "  <thead>\n",
       "    <tr style=\"text-align: right;\">\n",
       "      <th></th>\n",
       "      <th>訂單數量</th>\n",
       "    </tr>\n",
       "    <tr>\n",
       "      <th>大通路</th>\n",
       "      <th></th>\n",
       "    </tr>\n",
       "  </thead>\n",
       "  <tbody>\n",
       "    <tr>\n",
       "      <th>AG</th>\n",
       "      <td>413.0</td>\n",
       "    </tr>\n",
       "    <tr>\n",
       "      <th>BSSC</th>\n",
       "      <td>4870.0</td>\n",
       "    </tr>\n",
       "    <tr>\n",
       "      <th>BSSC-FLT</th>\n",
       "      <td>993.0</td>\n",
       "    </tr>\n",
       "    <tr>\n",
       "      <th>FLT-REP</th>\n",
       "      <td>643.0</td>\n",
       "    </tr>\n",
       "    <tr>\n",
       "      <th>OE</th>\n",
       "      <td>168.0</td>\n",
       "    </tr>\n",
       "  </tbody>\n",
       "</table>\n",
       "</div>"
      ],
      "text/plain": [
       "            訂單數量\n",
       "大通路             \n",
       "AG         413.0\n",
       "BSSC      4870.0\n",
       "BSSC-FLT   993.0\n",
       "FLT-REP    643.0\n",
       "OE         168.0"
      ]
     },
     "execution_count": 45,
     "metadata": {},
     "output_type": "execute_result"
    }
   ],
   "source": [
    "df.groupby([\"大通路\"])[[\"訂單數量\"]].sum()"
   ]
  },
  {
   "cell_type": "code",
   "execution_count": null,
   "id": "d4a88f6a-1388-4055-8863-d9a9199329e8",
   "metadata": {},
   "outputs": [],
   "source": [
    "logo = Image.open(r\"D:\\kc.hsu\\My Documents\\My Pictures\\BS方形logo.png\")"
   ]
  },
  {
   "cell_type": "code",
   "execution_count": null,
   "id": "f61a9af4-71b7-4998-9604-6af60db6b282",
   "metadata": {},
   "outputs": [],
   "source": [
    "logo.save(r\"D:\\kc.hsu\\My Documents\\My Pictures\\BS方形logo.ico\", format='ICO')"
   ]
  },
  {
   "cell_type": "code",
   "execution_count": null,
   "id": "ddfbba67-09c8-4954-8863-f3368863f9af",
   "metadata": {},
   "outputs": [],
   "source": [
    "df = pd.read_excel(r\"D:\\kc.hsu\\OneDrive - Bridgestone\\數據\\2022ACT\\2021-2022_Size Data_All_TBR_rawling_data.xlsx\", sheet_name=\"Sheet1\")"
   ]
  },
  {
   "cell_type": "code",
   "execution_count": null,
   "id": "307889cb-9df8-4e6b-9874-bcb08bc91cf7",
   "metadata": {},
   "outputs": [],
   "source": [
    "ob = df[(df[\"預算/前實績\"] == \"23OB_V2\") & (df[\"國內市場財別\"] == \"TBR(G)\")]"
   ]
  },
  {
   "cell_type": "code",
   "execution_count": null,
   "id": "2e56eb80-c16c-4a79-be16-6118f5105055",
   "metadata": {},
   "outputs": [],
   "source": [
    "ob_target = int(ob[(ob[\"年月\"] == int(datetime.now().strftime(\"%Y%m\"))) & (ob[\"通路明細\"] == \"FLT-REP\")][\"條數\"].sum())"
   ]
  },
  {
   "cell_type": "code",
   "execution_count": null,
   "id": "d9617902-166b-484c-8572-73e2a0ae444a",
   "metadata": {},
   "outputs": [],
   "source": [
    "class RealTimeAct(tk.Tk):\n",
    "    server = \"10.226.0.53\"\n",
    "    database = \"master\"\n",
    "    username = \"BIUser\"\n",
    "    password = \"test\"\n",
    "\n",
    "    cnxn = pyodbc.connect(driver='SQL Server',server=server,database=database ,uid=username,password=password)\n",
    "    script = \"select * from [10.212.27.198].FC0.dbo.V_BI_ORDER where convert(varchar(7), 訂單建立日, 120) = '2023-01'\"\n",
    "    \n",
    "    def __init__(self):\n",
    "        super().__init__()\n",
    "        self.wm_attributes(\"-topmost\", 1)\n",
    "        self.wm_title(\"每日TBR(G)販社訂單即時數據\")\n",
    "        # self.wm_maxsize(400, 150)\n",
    "        self.connection = pd.read_sql(self.script, self.cnxn)\n",
    "        # self.parent = parent\n",
    "        \n",
    "        self.refresh_data()\n",
    "        # self.run()\n",
    "        self.mainloop()\n",
    "        \n",
    "    def refresh_data(self):\n",
    "        df = self.connection\n",
    "        df[\"中計\"] = df[\"中計\"].fillna(\"\")\n",
    "        tbrg = df[df[\"中計\"].str.contains(\"LSR2|TBR\")]\n",
    "        result = tbrg[tbrg[\"訂單類型\"].isin([\"ZKE\", \"ZSO1\"])][[\"訂單數量\", \"交貨數量\"]].sum()\n",
    "        orderLabel = tk.Label(self, text=\"目前販社訂單總數: {}\".format(int(result[0])), font=(\"Arial\", 20)).grid(row=0, column=0)\n",
    "        shipLabel = tk.Label(self, text=\"目前販社出貨總數: {}\".format(int(result[1])), font=(\"Arial\", 20)).grid(row=1, column=0)\n",
    "        timeLabel = tk.Label(self, text=\"更新時間：{}\".format(time.strftime(\"%Y-%m-%d %H:%M\")), font=(\"Arial\", 12)).grid(row=2, column=0)\n",
    "        self.after(20000, self.refresh_data)\n",
    "        # return result\n",
    "    \n",
    "    \n",
    "    def run(self):\n",
    "        # orderLabel = (self, text=\"目前販社訂單總數: {}\".format(int(self.refresh_data[0])), font=(\"Arial\", 20)).grid(row=0, column=0)\n",
    "        # shipLabel = self.Label(self, text=\"目前販社出貨總數: {}\".format(int(self.refresh_data[1])), font=(\"Arial\", 20)).grid(row=1, column=0)\n",
    "        # timeLabel = self.Label(self, text=\"更新時間：{}\".format(time.strftime(\"%Y-%m-%d %H:%M\")), font=(\"Arial\", 12)).grid(row=2, column=0)\n",
    "        pass\n",
    "        \n",
    "    "
   ]
  },
  {
   "cell_type": "code",
   "execution_count": null,
   "id": "031de352-1503-480e-b9c5-fcccb424a580",
   "metadata": {},
   "outputs": [],
   "source": [
    "RealTimeAct()"
   ]
  },
  {
   "cell_type": "code",
   "execution_count": null,
   "id": "c1c7c18a-143a-4a3e-b5d1-6134893e899f",
   "metadata": {},
   "outputs": [],
   "source": [
    "while time.strftime(\"%H:%M\", time.localtime()) != \"17:00\":\n",
    "    df = pd.read_sql(script, cnxn)\n",
    "    df[\"中計\"] = df[\"中計\"].fillna(\"\")\n",
    "    tbrg = df[df[\"中計\"].str.contains(\"LSR2|TBR\")]\n",
    "    result = tbrg[tbrg[\"訂單類型\"].isin([\"ZKE\", \"ZSO1\"])][[\"訂單數量\", \"交貨數量\"]].sum()\n",
    "    print(result)\n",
    "    if result[1] + 1021 >= 9052:\n",
    "        print(\"恭喜達標\")\n",
    "        break\n",
    "    else:\n",
    "        continue"
   ]
  },
  {
   "cell_type": "markdown",
   "id": "9c005410-a32d-442d-9f71-cb2fe4294c74",
   "metadata": {
    "jp-MarkdownHeadingCollapsed": true,
    "tags": []
   },
   "source": [
    "## 使用BPCOM的數據來帶入Product name"
   ]
  },
  {
   "cell_type": "code",
   "execution_count": null,
   "id": "b1c536db-0ac6-49c0-b25e-8082971b523e",
   "metadata": {},
   "outputs": [],
   "source": [
    "bpcom = pd.read_excel(r\"D:\\kc.hsu\\OneDrive - Bridgestone\\產品規格相關\\BPCOM\\BPCOM_202208040543.xlsx\")"
   ]
  },
  {
   "cell_type": "code",
   "execution_count": null,
   "id": "dcf66dc5-a5c8-4af7-84f3-3e12aecbbb35",
   "metadata": {},
   "outputs": [],
   "source": [
    "bpcom[\"Product Name\"].map(lambda x: x.split(\" \")[0]).value_counts()"
   ]
  },
  {
   "cell_type": "code",
   "execution_count": null,
   "id": "be1be777-e7db-4130-91f3-3da252e4f53d",
   "metadata": {},
   "outputs": [],
   "source": [
    "check_dict = dict(zip(bpcom[\"PrCode\"], bpcom[\"BP\"]))"
   ]
  },
  {
   "cell_type": "code",
   "execution_count": null,
   "id": "3959d018-634b-493d-88cd-16b0961c88ea",
   "metadata": {},
   "outputs": [],
   "source": [
    "df[\"花紋別\"] = df[\"物料\"].map(check_dict)"
   ]
  },
  {
   "cell_type": "code",
   "execution_count": null,
   "id": "53a6eb80-47a7-455c-a5d4-66b6973b846f",
   "metadata": {},
   "outputs": [],
   "source": [
    "result = df[df[\"中計\"].str.contains(\"TBR|LSR2\")]"
   ]
  },
  {
   "cell_type": "markdown",
   "id": "074143f7-0b5a-490a-bdad-329037e9794c",
   "metadata": {
    "jp-MarkdownHeadingCollapsed": true,
    "tags": []
   },
   "source": [
    "## 測試寫入SQL Server"
   ]
  },
  {
   "cell_type": "code",
   "execution_count": 30,
   "id": "765e4741-ad3f-401f-a5bc-9960dbe3250e",
   "metadata": {},
   "outputs": [],
   "source": [
    "server = \"10.226.61.50\"\n",
    "database = \"SAP_DW\"\n",
    "username = \"BIUser\"\n",
    "password = \"test\""
   ]
  },
  {
   "cell_type": "code",
   "execution_count": 31,
   "id": "afd35dd1-e866-492d-b3bd-4ed8fb3b2bed",
   "metadata": {},
   "outputs": [],
   "source": [
    "conn = pyodbc.connect(driver='SQL Server',server=server,database=database ,uid=username,password=password)"
   ]
  },
  {
   "cell_type": "code",
   "execution_count": 32,
   "id": "4ea4973f-5a5f-483c-9c08-91225ecb4ffa",
   "metadata": {},
   "outputs": [],
   "source": [
    "cursor = conn.cursor()"
   ]
  },
  {
   "cell_type": "code",
   "execution_count": null,
   "id": "cb449ec1-27fc-4165-8d57-f528c7fec741",
   "metadata": {},
   "outputs": [],
   "source": [
    "delete = \"DELETE from ZMAW where 實際出貨日 >= {}\".format(last_month)"
   ]
  },
  {
   "cell_type": "code",
   "execution_count": null,
   "id": "89211b59-206c-4aaa-8251-ef4c0b4b9cd0",
   "metadata": {},
   "outputs": [],
   "source": [
    "delete = \"DELETE from ZMAW where 實際出貨日 >= '20221226'\""
   ]
  },
  {
   "cell_type": "code",
   "execution_count": 33,
   "id": "0fdc8641-cd30-4478-9535-168d6b6edc31",
   "metadata": {},
   "outputs": [
    {
     "data": {
      "text/plain": [
       "<pyodbc.Cursor at 0x20082cd7030>"
      ]
     },
     "execution_count": 33,
     "metadata": {},
     "output_type": "execute_result"
    }
   ],
   "source": [
    "cursor.execute(\"DELETE from zmaw\")"
   ]
  },
  {
   "cell_type": "code",
   "execution_count": 34,
   "id": "7a398a89-08b8-4053-b0e6-015945a9aad2",
   "metadata": {},
   "outputs": [],
   "source": [
    "cursor.commit()"
   ]
  },
  {
   "cell_type": "code",
   "execution_count": 35,
   "id": "62f4e22e-d70b-45f4-bb77-6197345888f5",
   "metadata": {},
   "outputs": [
    {
     "data": {
      "text/html": [
       "<div>\n",
       "<style scoped>\n",
       "    .dataframe tbody tr th:only-of-type {\n",
       "        vertical-align: middle;\n",
       "    }\n",
       "\n",
       "    .dataframe tbody tr th {\n",
       "        vertical-align: top;\n",
       "    }\n",
       "\n",
       "    .dataframe thead th {\n",
       "        text-align: right;\n",
       "    }\n",
       "</style>\n",
       "<table border=\"1\" class=\"dataframe\">\n",
       "  <thead>\n",
       "    <tr style=\"text-align: right;\">\n",
       "      <th></th>\n",
       "      <th>組織</th>\n",
       "      <th>出貨點</th>\n",
       "      <th>所名</th>\n",
       "      <th>區域</th>\n",
       "      <th>訂單建立日</th>\n",
       "      <th>訂單文件日</th>\n",
       "      <th>訂單建立時</th>\n",
       "      <th>交貨文件日</th>\n",
       "      <th>計劃出貨日</th>\n",
       "      <th>實際出貨日</th>\n",
       "      <th>交單建立時</th>\n",
       "      <th>請款建立日</th>\n",
       "      <th>請款日期</th>\n",
       "      <th>請款建立時</th>\n",
       "      <th>訂單建立人</th>\n",
       "      <th>交單建立人</th>\n",
       "      <th>請款建立人</th>\n",
       "      <th>訂單備註</th>\n",
       "      <th>產品階層</th>\n",
       "      <th>訂單類型</th>\n",
       "      <th>訂單類型說明</th>\n",
       "      <th>交貨類型</th>\n",
       "      <th>交貨類型說明</th>\n",
       "      <th>請款類型</th>\n",
       "      <th>請款類型說明</th>\n",
       "      <th>訂單單號</th>\n",
       "      <th>訂單項次</th>\n",
       "      <th>交貨單號</th>\n",
       "      <th>交貨項次</th>\n",
       "      <th>請款文件</th>\n",
       "      <th>請款文件項次</th>\n",
       "      <th>發票號碼</th>\n",
       "      <th>買方</th>\n",
       "      <th>送貨方</th>\n",
       "      <th>彙總客戶</th>\n",
       "      <th>業務員</th>\n",
       "      <th>小胎業務員</th>\n",
       "      <th>大胎業務員</th>\n",
       "      <th>買方全名</th>\n",
       "      <th>買方簡稱</th>\n",
       "      <th>送貨方全名</th>\n",
       "      <th>送貨方簡稱</th>\n",
       "      <th>彙總客戶全名</th>\n",
       "      <th>彙總客戶簡稱</th>\n",
       "      <th>業務員全名</th>\n",
       "      <th>業務員簡稱</th>\n",
       "      <th>小胎業務員簡稱</th>\n",
       "      <th>大胎業務員簡稱</th>\n",
       "      <th>配銷通路</th>\n",
       "      <th>販社通路</th>\n",
       "      <th>大胎契約</th>\n",
       "      <th>小胎契約</th>\n",
       "      <th>付款條件</th>\n",
       "      <th>物料群組</th>\n",
       "      <th>分類</th>\n",
       "      <th>物料</th>\n",
       "      <th>物料說明</th>\n",
       "      <th>花紋別</th>\n",
       "      <th>Premium</th>\n",
       "      <th>吋別</th>\n",
       "      <th>中計</th>\n",
       "      <th>訂單數量</th>\n",
       "      <th>交貨數量</th>\n",
       "      <th>發票單價</th>\n",
       "      <th>發票未稅</th>\n",
       "      <th>稅額</th>\n",
       "      <th>發票合計</th>\n",
       "      <th>銷售數量</th>\n",
       "      <th>銷貨單價</th>\n",
       "      <th>未稅銷貨</th>\n",
       "      <th>CreatedDateTime</th>\n",
       "    </tr>\n",
       "  </thead>\n",
       "  <tbody>\n",
       "  </tbody>\n",
       "</table>\n",
       "</div>"
      ],
      "text/plain": [
       "Empty DataFrame\n",
       "Columns: [組織, 出貨點, 所名, 區域, 訂單建立日, 訂單文件日, 訂單建立時, 交貨文件日, 計劃出貨日, 實際出貨日, 交單建立時, 請款建立日, 請款日期, 請款建立時, 訂單建立人, 交單建立人, 請款建立人, 訂單備註, 產品階層, 訂單類型, 訂單類型說明, 交貨類型, 交貨類型說明, 請款類型, 請款類型說明, 訂單單號, 訂單項次, 交貨單號, 交貨項次, 請款文件, 請款文件項次, 發票號碼, 買方, 送貨方, 彙總客戶, 業務員, 小胎業務員, 大胎業務員, 買方全名, 買方簡稱, 送貨方全名, 送貨方簡稱, 彙總客戶全名, 彙總客戶簡稱, 業務員全名, 業務員簡稱, 小胎業務員簡稱, 大胎業務員簡稱, 配銷通路, 販社通路, 大胎契約, 小胎契約, 付款條件, 物料群組, 分類, 物料, 物料說明, 花紋別, Premium, 吋別, 中計, 訂單數量, 交貨數量, 發票單價, 發票未稅, 稅額, 發票合計, 銷售數量, 銷貨單價, 未稅銷貨, CreatedDateTime]\n",
       "Index: []"
      ]
     },
     "execution_count": 35,
     "metadata": {},
     "output_type": "execute_result"
    }
   ],
   "source": [
    "df = pd.read_sql(\"select * from [dbo].[ZMAW]\", con=conn)\n",
    "df"
   ]
  },
  {
   "cell_type": "code",
   "execution_count": null,
   "id": "84aabcf7-6b6d-4ef8-8f2c-69de3cc59426",
   "metadata": {},
   "outputs": [],
   "source": [
    "df[\"CreatedDateTime\"] = datetime.now()"
   ]
  },
  {
   "cell_type": "code",
   "execution_count": null,
   "id": "1b7fc9b9-a9a1-426d-91ed-fbc95091e71c",
   "metadata": {},
   "outputs": [],
   "source": [
    "df[['訂單數量', '交貨數量', '發票單價', '發票未稅', '稅額', '發票合計', '銷售數量', '銷貨單價',\n",
    "       '未稅銷貨']] = df[['訂單數量', '交貨數量', '發票單價', '發票未稅', '稅額', '發票合計', '銷售數量', '銷貨單價',\n",
    "       '未稅銷貨']].fillna(0)"
   ]
  },
  {
   "cell_type": "code",
   "execution_count": null,
   "id": "d9fd5a02",
   "metadata": {},
   "outputs": [],
   "source": [
    "df.columns"
   ]
  },
  {
   "cell_type": "code",
   "execution_count": null,
   "id": "8d259c1b-1c2f-41e6-a889-514b3d154fb2",
   "metadata": {},
   "outputs": [],
   "source": [
    "for index, row in df.iterrows():\n",
    "    cursor.execute('INSERT INTO ZMAW (組織, 出貨點, 所名, 區域, 訂單建立日, 訂單文件日, 訂單建立時, 交貨文件日, 計劃出貨日, 實際出貨日, 交單建立時, 請款建立日, 請款日期, 請款建立時, 訂單建立人, 交單建立人, 請款建立人, 訂單備註, 產品階層, 訂單類型, 訂單類型說明, 交貨類型, 交貨類型說明, 請款類型, 請款類型說明, 訂單單號, 訂單項次, 交貨單號, 交貨項次, 請款文件, 請款文件項次, 發票號碼, 買方, 送貨方, 彙總客戶, 業務員, 小胎業務員, 大胎業務員, 買方全名, 買方簡稱, 送貨方全名, 送貨方簡稱, 彙總客戶全名, 彙總客戶簡稱, 業務員全名, 業務員簡稱, 小胎業務員, 大胎業務員, 配銷通路, 販社通路, 大胎契約, 小胎契約, 付款條件, 物料群組, 分類, 物料, 物料說明, 花紋別, Premium, 吋別, 中計, 訂單數量, 交貨數量, 發票單價, 發票未稅, 稅額, 發票合計, 銷售數量, 銷貨單價, 未稅銷貨, CreatedDateTime) values (?, ?, ?, ?, ?, ?, ?, ?, ?, ?, ?, ?, ?, ?, ?, ?, ?, ?, ?, ?, ?, ?, ?, ?, ?, ?, ?, ?, ?, ?, ?, ?, ?, ?, ?, ?, ?, ?, ?, ?, ?, ?, ?, ?, ?, ?, ?, ?, ?, ?, ?, ?, ?, ?, ?, ?, ?, ?, ?, ?, ?, ?, ?, ?, ?, ?, ?, ?, ?, ?, ?)', tuple(row))\n",
    "    # print(tuple(row))"
   ]
  },
  {
   "cell_type": "code",
   "execution_count": null,
   "id": "08d5a5f5-ff04-4645-81ae-dd1d51371ec5",
   "metadata": {},
   "outputs": [],
   "source": [
    "conn.commit()"
   ]
  },
  {
   "cell_type": "code",
   "execution_count": null,
   "id": "020c2d2a-fc85-4750-b230-4461b169cd14",
   "metadata": {},
   "outputs": [],
   "source": [
    "cursor.close()"
   ]
  },
  {
   "cell_type": "markdown",
   "id": "a7176cba",
   "metadata": {
    "tags": []
   },
   "source": [
    "## 數據轉換function"
   ]
  },
  {
   "cell_type": "code",
   "execution_count": 223,
   "id": "e38788fe-1716-4527-99b8-fb50c75a836c",
   "metadata": {},
   "outputs": [],
   "source": [
    "cur_month = datetime.today().date().strftime(\"%Y-%m\") + \"-01\""
   ]
  },
  {
   "cell_type": "code",
   "execution_count": 224,
   "id": "17591b46",
   "metadata": {},
   "outputs": [],
   "source": [
    "class DataExtract:\n",
    "    \n",
    "    type_keys = ['訂單日期', '實際出貨日', '訂單單號', '訂單項次', '買方', '物料', '物料說明', '國別', '銷售數量', '銷貨單價']\n",
    "    type_values = [str, str, str, str, str, str, str, str, int, int]\n",
    "    type_dict = dict(zip(type_keys, type_values))\n",
    "    \n",
    "    def __init__(self):\n",
    "        self.path = self.get_path()\n",
    "        \n",
    "    def get_path(self):\n",
    "        paths = []\n",
    "        while True:\n",
    "            answer = input(\"選擇路徑?(Y/N)\").upper()\n",
    "            if answer == \"Y\":\n",
    "                root = tk.Tk()\n",
    "                root.withdraw()\n",
    "                file_path = filedialog.askopenfilenames()\n",
    "                paths += file_path    \n",
    "            else:\n",
    "                break\n",
    "        return paths\n",
    "            \n",
    "        \n",
    "    def read_data(self):\n",
    "        dfs = []\n",
    "        # path = self.path.replace(\"\\\\\", \"/\")\n",
    "        for path in self.path:\n",
    "            if path.split(\".\")[-1] == \"csv\" and \"ag\" in path:\n",
    "                ag = pd.read_csv(path)\n",
    "                ag = self.ag_extract(ag)\n",
    "                dfs.append(ag)\n",
    "            elif path.split(\".\")[-1] == \"pkl\" and \"ag\" in path:\n",
    "                ag = pd.read_pickle(path)\n",
    "                ag = self.ag_extract(ag)\n",
    "                dfs.append(ag)\n",
    "            elif path.split(\".\")[-1] == \"csv\" and \"sc\" in path:\n",
    "                sc = pd.read_csv(path)\n",
    "                sc = self.sc_extract(sc)\n",
    "                dfs.append(sc)\n",
    "            elif path.split(\".\")[-1] == \"pkl\" and \"sc\" in path:\n",
    "                sc = pd.read_pickle(path)\n",
    "                sc = self.sc_extract(sc)\n",
    "                dfs.append(sc)\n",
    "            elif path.split(\".\")[-1] == \"xlsx\" and \"ag\" in path:\n",
    "                ag = pd.read_excel(path)\n",
    "                ag = self.ag_extract(ag)\n",
    "                dfs.append(ag)\n",
    "            else:\n",
    "                sc = pd.read_excel(path)\n",
    "                sc = self.sc_extract(sc)\n",
    "                dfs.append(sc)\n",
    "        data = pd.concat(dfs)\n",
    "        data = data.drop_duplicates(subset=[\"實際出貨日\", \"訂單單號\", \"訂單項次\"], keep=\"last\")\n",
    "        return data\n",
    "\n",
    "    def ag_extract(self, df):\n",
    "        # ag = self.read_data()\n",
    "        ag = df\n",
    "        ag.columns = ag.columns.str.strip()\n",
    "        ag = ag[(ag[\"S_配銷通路\"].isin([\"AG\", \"FT\"])) & (ag[\"S_中計商品代號1\"].isin([\"LR2\", \"TR2\", \"TR3\", \"TR5\", \"TR4\"]))]\n",
    "        ag = ag[[\"D_文件日期\", \"D_實際發貨日期\", \"S_訂單單號\", \"S_項次\", \"S_買方(客戶號碼)\", \"S_物料編號\", \"S_物料說明\", \"S_國別\", \"S_數量\", \"S_項目淨值\"]]\n",
    "        ag.columns = self.type_keys\n",
    "        # ag = ag.astype(self.type_dict)\n",
    "        return ag\n",
    "    \n",
    "    def sc_extract(self, df):\n",
    "        # sc = self.read_data()\n",
    "        sc = df\n",
    "        sc.columns = sc.columns.str.strip()\n",
    "        sc = sc[sc[\"中計\"].isin([\"LSR2\", \"TBR3\", \"TBR5\", \"TBR2\", \"TBR4\"])]\n",
    "        sc = sc[[\"訂單建立日\", \"實際出貨日\", \"訂單單號\", \"訂單項次\", \"買方\", \"物料\", \"物料說明\", \"國別\", \"銷售數量\", \"銷貨單價\"]]\n",
    "        sc.columns = self.type_keys\n",
    "        # sc = sc.astype(self.type_dict)\n",
    "        return sc\n",
    "    \n",
    "    def sales_preprocessing(self):\n",
    "        df = self.read_data()\n",
    "        df[\"訂單日期\"] = df[\"訂單日期\"].dt.date\n",
    "        df[\"實際出貨日\"] = df[\"實際出貨日\"].dt.date\n",
    "        df = df.astype(self.type_dict)\n",
    "        df[\"訂單單號\"] = df[\"訂單單號\"].map(lambda x: x.replace(\".0\", \"\") if \".\" in x else x)\n",
    "        df[\"訂單項次\"] = df[\"訂單項次\"].map(lambda x: x.replace(\".0\", \"\") if \".\" in x else x)\n",
    "        df[\"銷貨單價\"] = df[\"銷貨單價\"].fillna(0).astype(int)\n",
    "        return df"
   ]
  },
  {
   "cell_type": "code",
   "execution_count": 241,
   "id": "9b9bdb42-ac8c-4673-9fff-5dae1c5b67cd",
   "metadata": {},
   "outputs": [],
   "source": [
    "result = DataExtract().sales_preprocessing()"
   ]
  },
  {
   "cell_type": "markdown",
   "id": "a0718c91-5a88-43b1-a686-8ec1777880b4",
   "metadata": {
    "jp-MarkdownHeadingCollapsed": true,
    "tags": []
   },
   "source": [
    "### 開啟客戶對照表"
   ]
  },
  {
   "cell_type": "code",
   "execution_count": 242,
   "id": "0010ce4c",
   "metadata": {
    "scrolled": true
   },
   "outputs": [],
   "source": [
    "# 開啟客編客戶對照表\n",
    "# category_table = pd.read_csv(\"./ReferenceTable/category_types.csv\")\n",
    "category_table = pd.read_excel(\"./ReferenceTable/20220801_category_types.xlsx\")\n",
    "# cat_table = qgrid.show_grid(category_table, show_toolbar=True)\n",
    "# cat_table\n",
    "\n",
    "# 如果有修改的話，修改完可以用.get_changed_df()來獲得修改過後的表格"
   ]
  },
  {
   "cell_type": "code",
   "execution_count": 243,
   "id": "b813dcce",
   "metadata": {},
   "outputs": [],
   "source": [
    "cuscode_cus = dict(zip(category_table[\"客戶代號\"], category_table[\"合併客戶名稱\"]))\n",
    "cuscode_type = dict(zip(category_table[\"客戶代號\"], category_table[\"大通路\"]))\n",
    "cuscode_channel = dict(zip(category_table[\"客戶代號\"], category_table[\"小通路\"]))\n",
    "sales_dict = dict(zip(category_table[\"客戶代號\"], category_table[\"業務名稱\"]))\n",
    "sales_area = dict(zip(category_table[\"客戶代號\"], category_table[\"負責區域\"]))\n",
    "sales_branch = dict(zip(category_table[\"客戶代號\"], category_table[\"所屬區域\"]))\n",
    "cus_address = dict(zip(category_table[\"客戶代號\"], category_table[\"住址\"]))\n",
    "cus_city = dict(zip(category_table[\"客戶代號\"], category_table[\"城市\"]))\n",
    "rep_dict = dict(zip(category_table[\"客戶代號\"], category_table[\"母通路\"]))\n",
    "liwei_dict = dict(zip(category_table[\"客戶代號\"], category_table[\"liwei\"]))\n",
    "ranking = dict(zip(category_table[\"客戶代號\"], category_table[\"Ranking\"]))\n",
    "cus_area = dict(zip(category_table[\"客戶代號\"], category_table[\"客戶所在地分區\"]))"
   ]
  },
  {
   "cell_type": "code",
   "execution_count": 244,
   "id": "40300d2b-5783-4cbd-9444-6ac2362763dd",
   "metadata": {},
   "outputs": [],
   "source": [
    "pcode = pd.read_excel(\"./ReferenceTable/20220721_PCODE整理表.xlsx\")\n",
    "size_dict = dict(zip(pcode[\"Old PCODEs\"], pcode[\"size\"]))\n",
    "pattern_dict = dict(zip(pcode[\"Old PCODEs\"], pcode[\"pattern\"]))\n",
    "origin_dict = dict(zip(pcode[\"Old PCODEs\"], pcode[\"p_origin\"]))\n",
    "tbr_prem = dict(zip(pcode[\"Old PCODEs\"], pcode[\"TBR Premium\"]))\n",
    "group = dict(zip(pcode[\"Old PCODEs\"], pcode[\"group\"]))"
   ]
  },
  {
   "cell_type": "code",
   "execution_count": 245,
   "id": "f7cf6958-c27f-4bf4-a0d2-d1777e196713",
   "metadata": {},
   "outputs": [],
   "source": [
    "result.reset_index(drop=True).to_pickle(r\"D:\\kc.hsu\\OneDrive - Bridgestone\\數據\\銷售數據\\2022全年銷售\\rolling_sales_data.pkl\")\n",
    "long = pd.read_pickle(r\"D:\\kc.hsu\\OneDrive - Bridgestone\\數據\\銷售數據\\2022全年銷售\\rolling_sales_data.pkl\")"
   ]
  },
  {
   "cell_type": "code",
   "execution_count": 246,
   "id": "d7d9b476-a511-46cc-9f27-f9a91a3e27e0",
   "metadata": {},
   "outputs": [],
   "source": [
    "long[\"客戶名稱\"] = long[\"買方\"].map(cuscode_cus)\n",
    "long[\"母通路\"] = long[\"買方\"].map(rep_dict)\n",
    "long[\"大通路\"] = long[\"買方\"].map(cuscode_type)\n",
    "long[\"小通路\"] = long[\"買方\"].map(cuscode_channel)\n",
    "long[\"日報通路\"] = long[\"買方\"].map(liwei_dict)\n",
    "long[\"業務名稱\"] = long[\"買方\"].map(sales_dict)\n",
    "long[\"業務負責區域\"] = long[\"買方\"].map(sales_area)\n",
    "long[\"業務所屬區域\"] = long[\"買方\"].map(sales_branch)\n",
    "long[\"客戶登記地址\"] = long[\"買方\"].map(cus_address)\n",
    "long[\"客戶城市\"] = long[\"買方\"].map(cus_city)\n",
    "long[\"客戶等級\"] = long[\"買方\"].map(ranking)\n",
    "long[\"規格\"] = long[\"物料\"].map(size_dict)\n",
    "long[\"花紋\"] = long[\"物料\"].map(pattern_dict)\n",
    "long[\"工廠\"] = long[\"物料\"].map(origin_dict)\n",
    "long[\"TBR Premium\"] = long[\"物料\"].map(tbr_prem)\n",
    "long[\"輪胎類別\"] = long[\"物料\"].map(group)\n",
    "long[\"品牌\"] = long[\"物料\"].map(lambda x: \"FS\" if x.endswith(\"F\") else \"BS\")\n",
    "long[\"客戶所在地區分區\"] = long[\"買方\"].map(cus_area)"
   ]
  },
  {
   "cell_type": "code",
   "execution_count": 247,
   "id": "865414b2",
   "metadata": {},
   "outputs": [
    {
     "data": {
      "text/plain": [
       "array([], dtype=object)"
      ]
     },
     "execution_count": 247,
     "metadata": {},
     "output_type": "execute_result"
    }
   ],
   "source": [
    "long[long[\"客戶名稱\"].isna()][\"買方\"].unique()"
   ]
  },
  {
   "cell_type": "code",
   "execution_count": 248,
   "id": "b47792a0-7dac-4eb8-8ae6-189b5266fd22",
   "metadata": {},
   "outputs": [
    {
     "data": {
      "text/plain": [
       "11996"
      ]
     },
     "execution_count": 248,
     "metadata": {},
     "output_type": "execute_result"
    }
   ],
   "source": [
    "long[\"銷售數量\"].sum()"
   ]
  },
  {
   "cell_type": "code",
   "execution_count": 249,
   "id": "ceebde0c-0511-41ff-abda-25bf6a6dac17",
   "metadata": {},
   "outputs": [
    {
     "data": {
      "text/plain": [
       "11996"
      ]
     },
     "execution_count": 249,
     "metadata": {},
     "output_type": "execute_result"
    }
   ],
   "source": [
    "long[long[\"大通路\"] != \"OE\"][\"銷售數量\"].sum()"
   ]
  },
  {
   "cell_type": "code",
   "execution_count": 250,
   "id": "30ca479d-e05a-40aa-9f82-09d0665e3864",
   "metadata": {},
   "outputs": [],
   "source": [
    "# historical = pd.read_pickle(r\"D:\\kc.hsu\\OneDrive - Bridgestone\\數據\\銷售數據\\長期銷售記錄\\2017-202208.pkl\")\n",
    "historical = pd.read_parquet(r\"D:\\kc.hsu\\OneDrive - Bridgestone\\數據\\銷售數據\\長期銷售記錄\\2017-202208.parquet\")"
   ]
  },
  {
   "cell_type": "code",
   "execution_count": 251,
   "id": "155ff387-8be1-4543-92e1-b4284691c5d0",
   "metadata": {},
   "outputs": [],
   "source": [
    "historical[\"客戶名稱\"] = historical[\"買方\"].map(cuscode_cus)\n",
    "historical[\"業務名稱\"] = historical[\"買方\"].map(sales_dict)\n",
    "historical[\"客戶等級\"] = historical[\"買方\"].map(ranking)\n",
    "historical[\"業務負責區域\"] = historical[\"買方\"].map(sales_area)\n",
    "historical[\"業務所屬區域\"] = historical[\"買方\"].map(sales_branch)\n",
    "historical[\"客戶城市\"] = historical[\"買方\"].map(cus_city)\n",
    "historical[\"母通路\"] = historical[\"買方\"].map(rep_dict)\n",
    "historical[\"大通路\"] = historical[\"買方\"].map(cuscode_type)\n",
    "historical[\"小通路\"] = historical[\"買方\"].map(cuscode_channel)\n",
    "historical[\"日報通路\"] = historical[\"買方\"].map(liwei_dict)\n",
    "historical[\"客戶所在地區分區\"] = historical[\"買方\"].map(cus_area)"
   ]
  },
  {
   "cell_type": "code",
   "execution_count": 252,
   "id": "8435106e-c2cd-4002-8af8-b5a99291dee3",
   "metadata": {},
   "outputs": [],
   "source": [
    "historical[\"訂單單號\"] = historical[\"訂單單號\"].map(lambda x: x.replace(\".0\", \"\") if \".\" in x else x)\n",
    "historical[\"訂單項次\"] = historical[\"訂單項次\"].map(lambda x: x.replace(\".0\", \"\") if \".\" in x else x)"
   ]
  },
  {
   "cell_type": "code",
   "execution_count": 253,
   "id": "c98b8cd3-eb98-4f49-830e-17afe93d78a6",
   "metadata": {},
   "outputs": [],
   "source": [
    "historical = historical.drop_duplicates(subset=[\"實際出貨日\", \"訂單單號\", \"訂單項次\"], keep=\"last\")"
   ]
  },
  {
   "cell_type": "code",
   "execution_count": 254,
   "id": "0445a3a6-5679-4063-9f14-df02b7952672",
   "metadata": {},
   "outputs": [],
   "source": [
    "historical = historical[historical[\"實際出貨日\"] < cur_month]"
   ]
  },
  {
   "cell_type": "code",
   "execution_count": 255,
   "id": "daa48761-4242-4dfe-9ca2-8164ed37a816",
   "metadata": {},
   "outputs": [],
   "source": [
    "# historical.to_pickle(r\"D:\\kc.hsu\\OneDrive - Bridgestone\\數據\\銷售數據\\長期銷售記錄\\2017-202208.pkl\")\n",
    "# historical.to_excel(r\"D:\\kc.hsu\\OneDrive - Bridgestone\\數據\\銷售數據\\長期銷售記錄\\2017-202208.xlsx\", index=False)"
   ]
  },
  {
   "cell_type": "code",
   "execution_count": 256,
   "id": "1947b426-6007-4d56-91fe-4ad8900c0a3d",
   "metadata": {
    "tags": []
   },
   "outputs": [],
   "source": [
    "pd.concat([historical, long]).drop_duplicates(subset=[\"實際出貨日\", \"訂單單號\", \"訂單項次\"], keep=\"last\").to_parquet(r\"D:\\kc.hsu\\OneDrive - Bridgestone\\數據\\銷售數據\\長期銷售記錄\\2017-202208.parquet\", index=False)\n",
    "pd.concat([historical, long]).drop_duplicates(subset=[\"實際出貨日\", \"訂單單號\", \"訂單項次\"], keep=\"last\").to_excel(r\"D:\\kc.hsu\\OneDrive - Bridgestone\\數據\\銷售數據\\長期銷售記錄\\2017-202208.xlsx\", index=False)"
   ]
  },
  {
   "cell_type": "markdown",
   "id": "7fde433b-486b-4778-af05-5b52c020bc5a",
   "metadata": {
    "tags": []
   },
   "source": [
    "## 每日庫存整理"
   ]
  },
  {
   "cell_type": "code",
   "execution_count": null,
   "id": "29fe33c5-5050-48a1-937c-1e759dca0588",
   "metadata": {},
   "outputs": [],
   "source": [
    "df = pd.read_excel(r\"D:\\kc.hsu\\OneDrive - Bridgestone\\數據\\庫存\\inventory_status.xlsx\")"
   ]
  },
  {
   "cell_type": "code",
   "execution_count": null,
   "id": "13b85f30-d98a-4c95-bee4-2b5982598001",
   "metadata": {},
   "outputs": [],
   "source": [
    "df[\"類別\"] = df[\"物料\"].map(group)"
   ]
  },
  {
   "cell_type": "code",
   "execution_count": null,
   "id": "77a4b142-4dcd-425a-93c4-53286796a963",
   "metadata": {},
   "outputs": [],
   "source": [
    "df = df[~df[\"類別\"].isna()]"
   ]
  },
  {
   "cell_type": "code",
   "execution_count": null,
   "id": "98e454b3-3b90-4c84-9a4c-cfe588134183",
   "metadata": {},
   "outputs": [],
   "source": [
    "df.columns = df.columns.str.strip()"
   ]
  },
  {
   "cell_type": "code",
   "execution_count": null,
   "id": "626c1441-760b-4021-8b03-e20da4dad25d",
   "metadata": {},
   "outputs": [],
   "source": [
    "df[\"花紋\"] = df[\"物料\"].map(pattern_dict)\n",
    "df[\"規格\"] = df[\"物料\"].map(size_dict)\n",
    "df[\"工廠\"] = df[\"物料\"].map(origin_dict)\n",
    "df[\"TBR Premium\"] = df[\"物料\"].map(tbr_prem)\n",
    "df[\"品牌\"] = df[\"物料\"].map(lambda x: \"FS\" if x.endswith(\"F\") else \"BS\")\n",
    "df[\"收貨日期\"] = df[\"收貨日期\"].dt.date"
   ]
  },
  {
   "cell_type": "code",
   "execution_count": null,
   "id": "46070441-339d-4368-accb-02c6ab12882c",
   "metadata": {},
   "outputs": [],
   "source": [
    "df = df[[\"物料\", \"類別\", \"花紋\", \"規格\", \"工廠\", \"TBR Premium\", \"品牌\", \"可用的庫存\", \"收貨日期\", \"總庫存\", \"入庫庫存\", \"撿貨數量\"]]"
   ]
  },
  {
   "cell_type": "code",
   "execution_count": null,
   "id": "73221fc8-a08c-40e8-92fa-eedb5d54a8a5",
   "metadata": {},
   "outputs": [],
   "source": [
    "df[\"撿貨數量\"] = df[\"撿貨數量\"] * -1"
   ]
  },
  {
   "cell_type": "code",
   "execution_count": null,
   "id": "88fc5f57-dc1d-42aa-9b7d-f81ae45f0ebe",
   "metadata": {},
   "outputs": [],
   "source": [
    "df.to_excel(r\"D:\\kc.hsu\\OneDrive - Bridgestone\\數據\\庫存\\inventory_status_處理過.xlsx\", index=False)"
   ]
  },
  {
   "cell_type": "markdown",
   "id": "e9301991-83f9-496c-9968-edac8eb5873a",
   "metadata": {
    "jp-MarkdownHeadingCollapsed": true,
    "tags": []
   },
   "source": [
    "### 將xlsx批次轉csv或pkl檔"
   ]
  },
  {
   "cell_type": "code",
   "execution_count": null,
   "id": "bbb4816e-83a2-4107-ac77-8537e4ec5c6a",
   "metadata": {},
   "outputs": [],
   "source": [
    "\"ag\" in paths[1]"
   ]
  },
  {
   "cell_type": "code",
   "execution_count": null,
   "id": "5dcef242-b365-4bf9-b973-7c063f802330",
   "metadata": {},
   "outputs": [],
   "source": [
    "paths = []\n",
    "while True:\n",
    "    answer = input(\"選擇路徑?(Y/N)\").upper()\n",
    "    if answer == \"Y\":\n",
    "        root = tk.Tk()\n",
    "        root.withdraw()\n",
    "        file_path = filedialog.askopenfilenames()\n",
    "        paths += file_path    \n",
    "    else:\n",
    "        break"
   ]
  },
  {
   "cell_type": "code",
   "execution_count": null,
   "id": "88b774de-5c43-42d6-8e80-1ba20cddf461",
   "metadata": {},
   "outputs": [],
   "source": [
    "for path in paths:\n",
    "    pd.read_excel(path).to_csv(path.split(\".\")[0] + \".csv\", index=False)"
   ]
  },
  {
   "cell_type": "code",
   "execution_count": null,
   "id": "ff1b6470-49ba-4f8f-b139-2c918d4f505b",
   "metadata": {},
   "outputs": [],
   "source": [
    "for path in paths:\n",
    "    pd.read_csv(path).to_pickle(path.split(\".\")[0] + \".pkl\")"
   ]
  },
  {
   "cell_type": "code",
   "execution_count": null,
   "id": "6042924a-0847-4edb-8e20-e7ef30399c2d",
   "metadata": {},
   "outputs": [],
   "source": [
    "sc_data = pd.concat([DataExtract(path).sc_extract() for path in paths])"
   ]
  },
  {
   "cell_type": "code",
   "execution_count": null,
   "id": "5831ca93-443d-40f7-ba11-d6f56b7ff340",
   "metadata": {},
   "outputs": [],
   "source": [
    "ag_data = pd.concat([DataExtract(path).ag_extract() for path in paths])"
   ]
  },
  {
   "cell_type": "code",
   "execution_count": null,
   "id": "eb9cf4f0-0f4e-4e2f-8301-3cce883f9d73",
   "metadata": {},
   "outputs": [],
   "source": [
    "ag_data[\"訂單日期\"] = ag_data[\"訂單日期\"].map(lambda x: x.split(\" \")[0] if len(x) > 10 else x)"
   ]
  },
  {
   "cell_type": "code",
   "execution_count": null,
   "id": "3227624b-6fc2-4db7-a034-66ec391a5dcd",
   "metadata": {},
   "outputs": [],
   "source": [
    "sc_data[\"銷售數量\"] = sc_data[\"銷售數量\"].astype(int)"
   ]
  },
  {
   "cell_type": "code",
   "execution_count": null,
   "id": "0e393fec-1241-4667-a1ac-c1aaf087ecff",
   "metadata": {},
   "outputs": [],
   "source": [
    "result = pd.concat([sc_data, ag_data])"
   ]
  },
  {
   "cell_type": "code",
   "execution_count": null,
   "id": "6d1ac187-4afd-4fdc-aafc-c8695f25257e",
   "metadata": {},
   "outputs": [],
   "source": [
    "result[\"訂單項次\"] = result[\"訂單項次\"].astype(str).map(lambda x: x.split(\".\")[0])"
   ]
  },
  {
   "cell_type": "code",
   "execution_count": null,
   "id": "2dbb697e-5cda-4f6a-a08b-f238a763494a",
   "metadata": {},
   "outputs": [],
   "source": [
    "result[\"銷貨單價\"] = result[\"銷貨單價\"].fillna(0).astype(int)"
   ]
  },
  {
   "cell_type": "code",
   "execution_count": null,
   "id": "538277ec-4078-43d5-b1b4-69247ce66047",
   "metadata": {},
   "outputs": [],
   "source": [
    "result[\"訂單單號\"] = result[\"訂單單號\"].astype(str).map(lambda x: x.split(\".\")[0])"
   ]
  },
  {
   "cell_type": "code",
   "execution_count": null,
   "id": "274862d5-39ca-42ff-aaca-35cd8f3b5e9a",
   "metadata": {},
   "outputs": [],
   "source": [
    "result.reset_index(drop=True).to_pickle(r\"D:\\kc.hsu\\OneDrive - Bridgestone\\數據\\銷售數據\\2022全年銷售\\202201-08.pkl\")"
   ]
  },
  {
   "cell_type": "code",
   "execution_count": null,
   "id": "a569e5d0-4bd1-499c-a89d-9d55ec8c83bf",
   "metadata": {},
   "outputs": [],
   "source": [
    "long = pd.read_pickle(r\"D:\\kc.hsu\\OneDrive - Bridgestone\\數據\\銷售數據\\長期銷售記錄\\2017-202208.pkl\")"
   ]
  },
  {
   "cell_type": "code",
   "execution_count": null,
   "id": "c60e36d8-f02b-47d3-9b31-3f7b193e0ece",
   "metadata": {},
   "outputs": [],
   "source": [
    "long[\"客戶名稱\"] = long[\"買方\"].map(cuscode_cus)\n",
    "long[\"母通路\"] = long[\"買方\"].map(rep_dict)\n",
    "long[\"大通路\"] = long[\"買方\"].map(cuscode_type)\n",
    "long[\"小通路\"] = long[\"買方\"].map(cuscode_channel)\n",
    "long[\"日報通路\"] = long[\"買方\"].map(liwei_dict)\n",
    "long[\"業務名稱\"] = long[\"買方\"].map(sales_dict)\n",
    "long[\"業務負責區域\"] = long[\"買方\"].map(sales_area)\n",
    "long[\"業務所屬區域\"] = long[\"買方\"].map(sales_branch)\n",
    "long[\"客戶登記地址\"] = long[\"買方\"].map(cus_address)\n",
    "long[\"客戶城市\"] = long[\"買方\"].map(cus_city)\n",
    "long[\"客戶等級\"] = long[\"買方\"].map(ranking)"
   ]
  },
  {
   "cell_type": "code",
   "execution_count": null,
   "id": "44754da7-fc1a-4176-9b16-7e5463293237",
   "metadata": {},
   "outputs": [],
   "source": [
    "long[\"規格\"] = long[\"物料\"].map(size_dict)\n",
    "long[\"花紋\"] = long[\"物料\"].map(pattern_dict)\n",
    "long[\"工廠\"] = long[\"物料\"].map(origin_dict)\n",
    "long[\"TBR Premium\"] = long[\"物料\"].map(tbr_prem)\n",
    "long[\"輪胎類別\"] = long[\"物料\"].map(group)\n",
    "long[\"品牌\"] = long[\"物料\"].map(lambda x: \"FS\" if x.endswith(\"F\") else \"BS\")"
   ]
  },
  {
   "cell_type": "code",
   "execution_count": null,
   "id": "e9ee6643-949a-4f5e-9391-fe82bc2151c7",
   "metadata": {},
   "outputs": [],
   "source": [
    "long"
   ]
  },
  {
   "cell_type": "code",
   "execution_count": null,
   "id": "a7362113-7c89-4b23-8e77-8a81726b362a",
   "metadata": {},
   "outputs": [],
   "source": [
    "long.to_pickle(r\"D:\\kc.hsu\\OneDrive - Bridgestone\\數據\\銷售數據\\長期銷售記錄\\2017-202208.pkl\")\n",
    "long.to_excel(r\"D:\\kc.hsu\\OneDrive - Bridgestone\\數據\\銷售數據\\長期銷售記錄\\2017-202208.xlsx\", index=False)"
   ]
  },
  {
   "cell_type": "markdown",
   "id": "17b7d893-c4fd-43ff-96dc-e2bf538b4ba9",
   "metadata": {
    "jp-MarkdownHeadingCollapsed": true,
    "tags": []
   },
   "source": [
    "## 相關係數分析"
   ]
  },
  {
   "cell_type": "code",
   "execution_count": null,
   "id": "3cec4ae4-b2c4-4f48-822f-30d23da08fa6",
   "metadata": {},
   "outputs": [],
   "source": [
    "test = historical[['物料', '國別', '銷售數量', '銷貨單價', '客戶名稱', '小通路', '業務名稱', '業務負責區域', '業務所屬區域', '客戶城市', '規格', '花紋', '工廠', 'TBR Premium', '輪胎類別', '品牌',\n",
    "       '客戶等級']]"
   ]
  },
  {
   "cell_type": "code",
   "execution_count": null,
   "id": "5043bbfc-c607-4708-9627-52116cf58a0a",
   "metadata": {},
   "outputs": [],
   "source": [
    "pd.get_dummies(test).corr(method=\"spearman\")"
   ]
  },
  {
   "cell_type": "code",
   "execution_count": null,
   "id": "c3e57287-41f3-4f32-b6a3-4d4df4610eaf",
   "metadata": {},
   "outputs": [],
   "source": []
  },
  {
   "cell_type": "code",
   "execution_count": null,
   "id": "2020c2fb-4a10-44df-b5f7-24f41b7af050",
   "metadata": {},
   "outputs": [],
   "source": []
  },
  {
   "cell_type": "markdown",
   "id": "7b3621b0-b393-4d6a-b1ce-d62de78a6376",
   "metadata": {
    "jp-MarkdownHeadingCollapsed": true,
    "tags": []
   },
   "source": [
    "## 小徐要的yahoo汽車對比普利司通輪胎規格花紋"
   ]
  },
  {
   "cell_type": "code",
   "execution_count": null,
   "id": "3ae51ce2-5ba7-4f3a-9721-a777fd55c7cc",
   "metadata": {},
   "outputs": [],
   "source": [
    "# 整理李濰的POS PSR規格花紋對照表\n",
    "df = pd.read_clipboard()"
   ]
  },
  {
   "cell_type": "code",
   "execution_count": null,
   "id": "fb94e8f6-292a-436a-a5c6-8349c1a520e2",
   "metadata": {},
   "outputs": [],
   "source": [
    "df.columns = df.columns.str.strip()"
   ]
  },
  {
   "cell_type": "code",
   "execution_count": null,
   "id": "313893fe-e2b2-4bf0-ae02-11c866fb91b9",
   "metadata": {},
   "outputs": [],
   "source": [
    "df = df.drop_duplicates()"
   ]
  },
  {
   "cell_type": "code",
   "execution_count": null,
   "id": "9d8acdb7-0452-48e7-bb89-244844f2032f",
   "metadata": {},
   "outputs": [],
   "source": [
    "df[\"花紋\"] = df[\"花紋\"].str.strip()\n",
    "df[\"規格\"] = df[\"規格\"].str.strip()\n",
    "df[\"料號\"] = df[\"料號\"].str.strip()"
   ]
  },
  {
   "cell_type": "code",
   "execution_count": null,
   "id": "64481f96-fbf0-4a45-af38-1224ee651ed4",
   "metadata": {},
   "outputs": [],
   "source": []
  },
  {
   "cell_type": "code",
   "execution_count": null,
   "id": "3ac69407-8722-4271-9f95-d88cb6afa2e9",
   "metadata": {},
   "outputs": [],
   "source": []
  },
  {
   "cell_type": "code",
   "execution_count": null,
   "id": "9a4c1d8e-c1cc-4662-aee7-c2b8a3d0d5dc",
   "metadata": {},
   "outputs": [],
   "source": [
    "# 讀取各個廠牌的規格花紋\n",
    "datas = []\n",
    "root = tk.Tk()\n",
    "root.withdraw()\n",
    "paths = filedialog.askopenfilenames()"
   ]
  },
  {
   "cell_type": "code",
   "execution_count": null,
   "id": "7c4cb436-2711-48b3-a7c5-4fe71f06977d",
   "metadata": {},
   "outputs": [],
   "source": [
    "for path in paths:\n",
    "    if \"conti\" not in path:\n",
    "        df = pd.read_excel(path)\n",
    "        datas.append(df)\n",
    "    else:\n",
    "        conti = pd.read_excel(path)"
   ]
  },
  {
   "cell_type": "code",
   "execution_count": null,
   "id": "04698caf-24b6-4a4b-ab49-75449c07530d",
   "metadata": {},
   "outputs": [],
   "source": [
    "mi = pd.concat(datas)"
   ]
  },
  {
   "cell_type": "code",
   "execution_count": null,
   "id": "40b6a8d5-51fc-4604-bf53-62ac4a9f1b02",
   "metadata": {},
   "outputs": [],
   "source": [
    "mi = mi[[\"規格\", \"花紋\"]]"
   ]
  },
  {
   "cell_type": "code",
   "execution_count": null,
   "id": "694f7c00-e368-4cd1-a204-ff2eefdb88c6",
   "metadata": {},
   "outputs": [],
   "source": [
    "all_brand = pd.concat([mi, conti])"
   ]
  },
  {
   "cell_type": "code",
   "execution_count": null,
   "id": "d1cb1d1e-1f38-4d51-a71b-c66702b2ae88",
   "metadata": {},
   "outputs": [],
   "source": [
    "result = all_brand.groupby([\"規格\"])[\"花紋\"].apply(list).reset_index()"
   ]
  },
  {
   "cell_type": "code",
   "execution_count": null,
   "id": "0d09e5eb-9c43-430e-ab04-dcb26934faaa",
   "metadata": {},
   "outputs": [],
   "source": [
    "all_brand_list = dict(zip(result[\"規格\"], result[\"花紋\"]))"
   ]
  },
  {
   "cell_type": "code",
   "execution_count": null,
   "id": "b8baddbb-3052-4d45-9084-0f820a3a8d48",
   "metadata": {},
   "outputs": [],
   "source": [
    "yahoo[\"competitor\"] = yahoo[\"前輪尺寸\"].map(all_brand_list)"
   ]
  },
  {
   "cell_type": "code",
   "execution_count": null,
   "id": "1e77b573-bafc-452d-a2fe-63812c9ad9ff",
   "metadata": {},
   "outputs": [],
   "source": [
    "yahoo[\"competitor\"].fillna(\"\", inplace=True)"
   ]
  },
  {
   "cell_type": "code",
   "execution_count": null,
   "id": "ef81ade4-629e-4b8e-8350-88d4364ea510",
   "metadata": {},
   "outputs": [],
   "source": [
    "competitor_table = pd.DataFrame(yahoo[\"competitor\"].to_list())"
   ]
  },
  {
   "cell_type": "code",
   "execution_count": null,
   "id": "bcf1ba52-34b3-47ce-b258-4314fdd49763",
   "metadata": {},
   "outputs": [],
   "source": [
    "competitor_table"
   ]
  },
  {
   "cell_type": "code",
   "execution_count": null,
   "id": "335913f9-bb3c-439c-ad85-0d033bab59e6",
   "metadata": {},
   "outputs": [],
   "source": [
    "competitor_table.columns = [\"Competitor 1\", \"Competitor 2\", \"Competitor 3\", \"Competitor 4\", \"Competitor 5\", \"Competitor 6\", \"Competitor 7\", \"Competitor 8\", \"Competitor 9\", \n",
    "                            \"Competitor 10\", \"Competitor 11\", \"Competitor 12\", \"Competitor 13\", \"Competitor 14\", \"Competitor 15\", \"Competitor 16\", \"Competitor 17\", \"Competitor 18\", \"Competitor 19\"]"
   ]
  },
  {
   "cell_type": "code",
   "execution_count": null,
   "id": "4945bb5e-bb43-4655-ba58-310aaa911617",
   "metadata": {},
   "outputs": [],
   "source": [
    "export_data = pd.concat([yahoo, competitor_table], axis=1)"
   ]
  },
  {
   "cell_type": "code",
   "execution_count": null,
   "id": "69bef136-415c-48e4-b492-5c73c0ccc54f",
   "metadata": {},
   "outputs": [],
   "source": [
    "export_data.to_excel(r\"C:\\Users\\kc.hsu\\Desktop\\20221215_yahoo汽車對比競品花紋大全.xlsx\", index=False)"
   ]
  },
  {
   "cell_type": "code",
   "execution_count": null,
   "id": "c2aa334c-bd97-4ab1-a4a2-9a54693e1670",
   "metadata": {},
   "outputs": [],
   "source": []
  },
  {
   "cell_type": "code",
   "execution_count": null,
   "id": "de4e4e15-f651-4d96-ada8-e7ac06dae89d",
   "metadata": {},
   "outputs": [],
   "source": []
  },
  {
   "cell_type": "code",
   "execution_count": null,
   "id": "6c3e64a0-b8c2-45eb-91fc-f298f3a8b4a7",
   "metadata": {},
   "outputs": [],
   "source": [
    "# 使用groupby將所有一樣規格的花紋打包到list\n",
    "result = df.groupby([\"規格\"])[\"料號\"].apply(list).reset_index()"
   ]
  },
  {
   "cell_type": "code",
   "execution_count": null,
   "id": "fae926c3-455d-4e11-9435-f86a315cd2e0",
   "metadata": {},
   "outputs": [],
   "source": [
    "size_table = dict(zip(result[\"規格\"], result[\"料號\"]))"
   ]
  },
  {
   "cell_type": "code",
   "execution_count": null,
   "id": "713de7aa-8707-4463-94b8-bb424763a4ad",
   "metadata": {},
   "outputs": [],
   "source": [
    "# 讀取yahoo汽車規格\n",
    "yahoo = pd.read_excel(r\"D:\\kc.hsu\\OneDrive - Bridgestone\\數據\\Yahoo汽車資訊\\20221212_yahoo汽車對比普利司通花紋.xlsx\")"
   ]
  },
  {
   "cell_type": "code",
   "execution_count": null,
   "id": "19b03e39-4ff3-4e73-b1c1-3203315d70e1",
   "metadata": {},
   "outputs": [],
   "source": [
    "yahoo = pd.read_clipboard()"
   ]
  },
  {
   "cell_type": "code",
   "execution_count": null,
   "id": "cdc3ba75-43c8-41ec-9360-982a9fb14f5e",
   "metadata": {},
   "outputs": [],
   "source": [
    "yahoo[\"BS規格\"] = yahoo[\"前輪尺寸\"].map(size_table)"
   ]
  },
  {
   "cell_type": "code",
   "execution_count": null,
   "id": "30fa7e20-e6fb-479f-90fb-3cf6f8200dd7",
   "metadata": {},
   "outputs": [],
   "source": [
    "yahoo[\"BS規格\"].fillna(\"\", inplace=True)"
   ]
  },
  {
   "cell_type": "code",
   "execution_count": null,
   "id": "f94cca22-84b5-49f1-b60c-f2c78658cfa3",
   "metadata": {},
   "outputs": [],
   "source": [
    "final = pd.concat([yahoo, pd.DataFrame(yahoo[\"BS規格\"].to_list())], axis=1)"
   ]
  },
  {
   "cell_type": "code",
   "execution_count": null,
   "id": "bd926a67-19d1-4181-994b-2f153d32623f",
   "metadata": {},
   "outputs": [],
   "source": [
    "final.columns = [  '年份',   '品牌',   '車系',   '車型',   '價格', '動力型式',  '排氣量', '驅動型式', '車身型式',\n",
    "         '車重', '前輪尺寸', '後輪尺寸', 'BS規格',      \"BPC 1\",      \"BPC 2\",      \"BPC 3\",      \"BPC 4\",      \"BPC 5\",\n",
    "            \"BPC 6\",      \"BPC 7\",      \"BPC 8\"]"
   ]
  },
  {
   "cell_type": "code",
   "execution_count": null,
   "id": "cfe5353c-4333-45f7-8963-bfacac81cf11",
   "metadata": {},
   "outputs": [],
   "source": [
    "pattern_dict = dict(zip(df[\"料號\"], df[\"花紋\"]))"
   ]
  },
  {
   "cell_type": "code",
   "execution_count": null,
   "id": "8730c58e-d9a3-4e28-b239-be555c1de535",
   "metadata": {},
   "outputs": [],
   "source": [
    "for i, j in enumerate([\"BPC 1\",      \"BPC 2\",      \"BPC 3\",      \"BPC 4\",      \"BPC 5\",\n",
    "            \"BPC 6\",      \"BPC 7\",      \"BPC 8\"], start=1):\n",
    "    final[i] = final[j].map(pattern_dict)"
   ]
  },
  {
   "cell_type": "code",
   "execution_count": null,
   "id": "f57adbbd-915a-4202-830f-3b3b0da13dd1",
   "metadata": {},
   "outputs": [],
   "source": [
    "final.columns = [   '年份',    '品牌',    '車系',    '車型',    '價格',  '動力型式',   '排氣量',  '驅動型式',\n",
    "        '車身型式',    '車重',  '前輪尺寸',  '後輪尺寸',  'BS規格', 'BPC 1', 'BPC 2', 'BPC 3',\n",
    "       'BPC 4', 'BPC 5', 'BPC 6', 'BPC 7', 'BPC 8',       'Pattern 1',       'Pattern 2',       'Pattern 3',\n",
    "             'Pattern 4',       'Pattern 5',       'Pattern 6',       'Pattern 7',       'Pattern 8']"
   ]
  },
  {
   "cell_type": "code",
   "execution_count": null,
   "id": "4261f90c-6bb7-4de1-bf8c-e0ee61f78c6f",
   "metadata": {},
   "outputs": [],
   "source": [
    "export_data = final[['年份',    '品牌',    '車系',    '車型',    '價格',  '動力型式',   '排氣量',  '驅動型式',\n",
    "        '車身型式',    '車重',  '前輪尺寸',  '後輪尺寸', 'BPC 1', 'Pattern 1', 'BPC 2', 'Pattern 2', 'BPC 3', 'Pattern 3',\n",
    "       'BPC 4', 'Pattern 4', 'BPC 5', 'Pattern 5', 'BPC 6', 'Pattern 6', 'BPC 7', 'Pattern 7', 'BPC 8', 'Pattern 8']]"
   ]
  },
  {
   "cell_type": "code",
   "execution_count": null,
   "id": "946303da-9e9a-4394-8844-c9ba1a4d2dcc",
   "metadata": {},
   "outputs": [],
   "source": [
    "export_data.to_excel(r\"C:\\Users\\kc.hsu\\Desktop\\20221212_yahoo汽車對比普利司通花紋.xlsx\", index=False)"
   ]
  },
  {
   "cell_type": "markdown",
   "id": "d8996e3c-20b8-4e49-b486-f309d5e9f699",
   "metadata": {},
   "source": [
    "## 歷史記錄"
   ]
  },
  {
   "cell_type": "code",
   "execution_count": null,
   "id": "9853a291-d307-429d-8a67-a625a4e76891",
   "metadata": {},
   "outputs": [],
   "source": [
    "df = pd.read_pickle(r\"D:\\kc.hsu\\OneDrive - Bridgestone\\數據\\銷售數據\\長期銷售記錄\\2017-202208.pkl\")"
   ]
  },
  {
   "cell_type": "code",
   "execution_count": null,
   "id": "5e630e42-02d4-4026-9a51-570979ac6d50",
   "metadata": {},
   "outputs": [],
   "source": [
    "result = df[df[\"花紋\"] == \"R154\"]"
   ]
  },
  {
   "cell_type": "code",
   "execution_count": null,
   "id": "80b79485-5298-4e06-b859-c6c804e63aaa",
   "metadata": {},
   "outputs": [],
   "source": [
    "result = result[[\"實際出貨日\", \"買方\", \"物料\", \"規格\", \"花紋\", \"客戶名稱\", \"銷售數量\"]]"
   ]
  },
  {
   "cell_type": "code",
   "execution_count": null,
   "id": "7d49060e-f680-43f7-a0e3-0e361e7c486a",
   "metadata": {},
   "outputs": [],
   "source": [
    "result.to_excel(r\"C:\\Users\\kc.hsu\\Desktop\\20230201_R154銷售.xlsx\", index=False)"
   ]
  },
  {
   "cell_type": "code",
   "execution_count": null,
   "id": "f58f68a3-7aee-44af-97cd-ba0fcf35e278",
   "metadata": {},
   "outputs": [],
   "source": []
  },
  {
   "attachments": {},
   "cell_type": "markdown",
   "id": "18cf56af",
   "metadata": {},
   "source": [
    "## 產品促銷試算"
   ]
  },
  {
   "cell_type": "code",
   "execution_count": null,
   "id": "50a6aa12",
   "metadata": {},
   "outputs": [],
   "source": [
    "df = pd.read_parquet(r\"D:\\kc.hsu\\OneDrive - Bridgestone\\數據\\銷售數據\\長期銷售記錄\\2017-202208.parquet\")"
   ]
  },
  {
   "cell_type": "code",
   "execution_count": null,
   "id": "93e9b438",
   "metadata": {},
   "outputs": [],
   "source": [
    "## AG 8% discount from the list price without tax\n",
    "## FLT(BSSC and REP all shows the real net with tax)\n",
    "## read BSSC price with S net\n",
    "s_price = pd.read_clipboard()"
   ]
  },
  {
   "cell_type": "code",
   "execution_count": null,
   "id": "1980198a",
   "metadata": {},
   "outputs": [],
   "source": [
    "s_price[\"A net\"] = s_price[\"A net\"].str.replace(\",\", \"\").astype(int)"
   ]
  },
  {
   "cell_type": "code",
   "execution_count": null,
   "id": "655f47f6",
   "metadata": {},
   "outputs": [],
   "source": [
    "df = df[(df[\"實際出貨日\"] >= \"2023-02-01\") & (df[\"大通路\"] != \"OE\")]"
   ]
  },
  {
   "cell_type": "code",
   "execution_count": null,
   "id": "86773f04",
   "metadata": {},
   "outputs": [],
   "source": [
    "s_price[\"描述\"] = s_price[\"規格\"] + \" \" + s_price[\"花紋\"] + \" \" + s_price[\"國別\"]"
   ]
  },
  {
   "cell_type": "code",
   "execution_count": null,
   "id": "235b262c",
   "metadata": {},
   "outputs": [],
   "source": [
    "price_dict = dict(zip(s_price[\"描述\"], s_price[\"A net\"]))"
   ]
  },
  {
   "cell_type": "code",
   "execution_count": null,
   "id": "d6ec54be",
   "metadata": {},
   "outputs": [],
   "source": [
    "df[\"描述\"] = df[\"規格\"] + \" \" + df[\"花紋\"] + \" \" + df[\"國別\"]"
   ]
  },
  {
   "cell_type": "code",
   "execution_count": null,
   "id": "0f405a49",
   "metadata": {},
   "outputs": [],
   "source": [
    "df[\"S net\"] = df[\"描述\"].map(price_dict)"
   ]
  },
  {
   "cell_type": "code",
   "execution_count": null,
   "id": "26cb7611",
   "metadata": {},
   "outputs": [],
   "source": [
    "df[\"Price\"] = df.apply(lambda x: (x[\"銷貨單價\"] / 1.05) * 0.92 if x[\"大通路\"] == \"AG\" else x[\"銷貨單價\"] / 1.05 if x[\"大通路\"] in [\"BSSC-FLT\", \"FLT-REP\"] else x[\"S net\"], axis=1 )"
   ]
  },
  {
   "cell_type": "code",
   "execution_count": null,
   "id": "3488e8cf",
   "metadata": {},
   "outputs": [],
   "source": [
    "df[\"總NET\"] = df[\"銷售數量\"] * df[\"Price\"]"
   ]
  },
  {
   "cell_type": "code",
   "execution_count": null,
   "id": "c87ce102",
   "metadata": {},
   "outputs": [],
   "source": [
    "df.groupby([\"大通路\"])[[\"銷售數量\", \"總NET\"]].sum().reset_index().to_clipboard()"
   ]
  },
  {
   "cell_type": "code",
   "execution_count": null,
   "id": "4e002dcd",
   "metadata": {},
   "outputs": [],
   "source": []
  }
 ],
 "metadata": {
  "kernelspec": {
   "display_name": "python_env",
   "language": "python",
   "name": "python3"
  },
  "language_info": {
   "codemirror_mode": {
    "name": "ipython",
    "version": 3
   },
   "file_extension": ".py",
   "mimetype": "text/x-python",
   "name": "python",
   "nbconvert_exporter": "python",
   "pygments_lexer": "ipython3",
   "version": "3.10.6"
  },
  "vscode": {
   "interpreter": {
    "hash": "0441e2ad242e60eb4d55752f5dea0f12731bd2d50ab9154f01b1a5615d7cc10b"
   }
  }
 },
 "nbformat": 4,
 "nbformat_minor": 5
}
