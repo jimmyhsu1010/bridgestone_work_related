{
 "cells": [
  {
   "cell_type": "code",
   "execution_count": null,
   "id": "a6a00929-ddb5-42a4-b24a-a8ac4615b3b3",
   "metadata": {},
   "outputs": [],
   "source": [
    "import pandas as pd\n",
    "pd.set_option(\"display.max_columns\", None)\n",
    "pd.set_option(\"mode.chained_assignment\", None)\n",
    "from datetime import datetime\n",
    "import tkinter as tk\n",
    "from tkinter import filedialog"
   ]
  },
  {
   "cell_type": "code",
   "execution_count": null,
   "id": "a1c64268-0dea-4565-8893-c3fcb64e0704",
   "metadata": {},
   "outputs": [],
   "source": [
    "def raw_data_into_list(line_data):\n",
    "    if line_data[:15] != '               ':\n",
    "        line_data = line_data.strip()\n",
    "    else:\n",
    "        line_data = line_data.rstrip()\n",
    "    character_number = [15, 8, 5, 4, 20, 6, 1, 5, 20, 4, 2, 64]\n",
    "    variable = []\n",
    "    x, count, position = 0, 0, 0\n",
    "    for letter in line_data:\n",
    "        position += 1\n",
    "        if '\\u4e00' <= letter <= '\\u9fa5':  # 中文2字元\n",
    "            count += 2\n",
    "        else:  # 非中文1字元\n",
    "            count += 1\n",
    "        if count >= character_number[x]:\n",
    "            character = line_data[:position]  # 取出的字元資料\n",
    "            if character.strip() == '':  # 將無資料欄位填入na，再後續處理\n",
    "                variable.append(\"na\")\n",
    "            else:\n",
    "                variable.append(character.strip())\n",
    "            line_data = line_data.replace(character, '', 1)\n",
    "            count, position = 0, 0\n",
    "            x += 1  # 字元數陣列定位點\n",
    "    return variable"
   ]
  },
  {
   "cell_type": "code",
   "execution_count": null,
   "id": "1b3e6732-0172-4f20-b106-17f98fd997c8",
   "metadata": {
    "tags": []
   },
   "outputs": [],
   "source": [
    "def read_raw_data(file_path):\n",
    "    test = pd.DataFrame([], columns=[\"data\"])\n",
    "    with open(file_path, \"r\") as f:\n",
    "        data = f.readlines()\n",
    "        data_list = [raw_data_into_list(i) for i in data[1:]]\n",
    "        test[\"data\"] = data_list\n",
    "        return test\n",
    "        "
   ]
  },
  {
   "cell_type": "code",
   "execution_count": null,
   "id": "332b8b88-d081-4aca-a81d-a81f7176d20b",
   "metadata": {},
   "outputs": [],
   "source": [
    "gender = {\"1\": \"男\", \"2\": \"女\", \"X\": \"法人\"}\n",
    "def combine_data(df):\n",
    "    result = pd.DataFrame(df[\"data\"].tolist(), columns=[\"品牌\", \"發照日\", \"戶籍郵遞區號\", \"車種\", \"車型名稱\", \"出廠年月\", \"性別\", \"車重\", \"輪胎尺寸\", \"車主出生年\", \"原始監理單位代碼\", \"引擎與車身號碼加密\"])\n",
    "    id_num = \"AAA261A6E8EE9EC7D61EFCB00153B47AFB7FB06FC07B7E924B92F9C40AEEC0D3\"\n",
    "    result = result[result[\"引擎與車身號碼加密\"] != id_num]\n",
    "    result = result.drop_duplicates(subset=\"引擎與車身號碼加密\", keep=\"last\")\n",
    "    result[\"發照日\"] = pd.to_datetime(result[\"發照日\"].map(lambda x: str(int(x[0:3]) + 1911) + x[3:]), yearfirst=True)\n",
    "    result[\"出廠年月\"] = pd.to_datetime(result[\"出廠年月\"].map(lambda x: x[:4] + \"-\" + x[4:] + \"-\" + \"01\"), yearfirst=True, errors=\"coerce\")\n",
    "    result[\"出廠年月\"] = result.apply(lambda x: x[\"發照日\"] if x[\"出廠年月\"] > x[\"發照日\"] else x[\"出廠年月\"], axis=1)\n",
    "    result[\"車主出生年\"] = result[\"車主出生年\"].map(lambda x: str(int(x) + 1911) if x != \"000\" and len(x) == 3 else x)\n",
    "    result[\"性別\"] = result[\"性別\"].map(gender)\n",
    "    return result"
   ]
  },
  {
   "cell_type": "code",
   "execution_count": null,
   "id": "19434c4a-710f-4c08-914e-d549f00d0002",
   "metadata": {},
   "outputs": [],
   "source": [
    "car_type = pd.read_excel(r\"C:\\Users\\kc.hsu\\Python workspace\\sales_related\\New Car Registration Data\\cross_tables\\CAR_TYPE_INDEX.xlsx\")"
   ]
  },
  {
   "cell_type": "code",
   "execution_count": null,
   "id": "6c40ea45-b1d6-494d-a755-5215ec430b1e",
   "metadata": {},
   "outputs": [],
   "source": [
    "car_type1 = dict(zip(car_type[\"車種代碼\"].astype(str), car_type[\"車輛類型1\"]))\n",
    "car_type2 = dict(zip(car_type[\"車種代碼\"].astype(str), car_type[\"車輛類型2\"]))\n",
    "car_type3 = dict(zip(car_type[\"車種代碼\"].astype(str), car_type[\"使用類型\"]))"
   ]
  },
  {
   "cell_type": "code",
   "execution_count": null,
   "id": "aaab9aeb-7e82-4464-abc0-fa20e68b5473",
   "metadata": {},
   "outputs": [],
   "source": [
    "post_index = pd.read_excel(r\"C:\\Users\\kc.hsu\\Python workspace\\sales_related\\New Car Registration Data\\cross_tables\\ZIP_INDEX.xlsx\")"
   ]
  },
  {
   "cell_type": "code",
   "execution_count": null,
   "id": "0f6b9227-6c3b-4162-8e82-2001ac29b559",
   "metadata": {},
   "outputs": [],
   "source": [
    "city_dict = dict(zip(post_index[\"CODE\"].astype(str), post_index[\"CITY\"]))\n",
    "district_dict = dict(zip(post_index[\"CODE\"].astype(str), post_index[\"DISTRICT\"]))\n",
    "area_dict = dict(zip(post_index[\"CODE\"].astype(str), post_index[\"AREA\"]))"
   ]
  },
  {
   "cell_type": "code",
   "execution_count": null,
   "id": "4f074d77-b3c2-4c08-9c5d-d91229ce0faa",
   "metadata": {},
   "outputs": [],
   "source": [
    "gov = pd.read_excel(r\"C:\\Users\\kc.hsu\\Python workspace\\sales_related\\New Car Registration Data\\cross_tables\\MOV_INDEX.xlsx\")"
   ]
  },
  {
   "cell_type": "code",
   "execution_count": null,
   "id": "ad94b7f6-457e-480b-b432-6c2255936845",
   "metadata": {},
   "outputs": [],
   "source": [
    "gov_dict = dict(zip(gov[\"監理站代碼\"].astype(str), gov[\"監理站\"]))"
   ]
  },
  {
   "cell_type": "code",
   "execution_count": null,
   "id": "3885df13-68d1-48d4-b160-8e62797e85b0",
   "metadata": {},
   "outputs": [],
   "source": [
    "brand = pd.read_excel(\"./cross_tables/BRAND_INDEX.xlsx\")\n",
    "brand1_dict = dict(zip(brand[\"BRAND_RAW\"], brand[\"BRAND_1\"]))\n",
    "brand2_dict = dict(zip(brand[\"BRAND_RAW\"], brand[\"BRAND_2\"]))\n",
    "source_dict = dict(zip(brand[\"BRAND_RAW\"], brand[\"SOURCE\"]))"
   ]
  },
  {
   "cell_type": "code",
   "execution_count": null,
   "id": "269ead4a-adce-490f-866e-96bf4760a2ef",
   "metadata": {},
   "outputs": [],
   "source": [
    "models = pd.read_excel(\"./cross_tables/20220822_MODEL_INDEX.xlsx\")\n",
    "model_dict = dict(zip(models[\"MODEL_RAW\"], models[\"MODEL\"]))"
   ]
  },
  {
   "cell_type": "code",
   "execution_count": null,
   "id": "6c0467e9-2ba6-4dc4-83af-921a12ba66a6",
   "metadata": {},
   "outputs": [],
   "source": [
    "tire_size = pd.read_excel(\"./cross_tables/20220822_TIRE_SIZE_INDEX_NEW.xlsx\")\n",
    "tire_size_dict = dict(zip(tire_size[\"輪胎尺寸\"], tire_size[\"Extract tire size 2\"]))"
   ]
  },
  {
   "cell_type": "markdown",
   "id": "f89807d1-c383-48c0-a0e8-495a4d3215f4",
   "metadata": {
    "tags": []
   },
   "source": [
    "## **原始檔轉換區**"
   ]
  },
  {
   "cell_type": "markdown",
   "id": "f48a88ff-3fa0-4410-b915-5e6bc20cb601",
   "metadata": {},
   "source": [
    "### 一次多檔案合併"
   ]
  },
  {
   "cell_type": "code",
   "execution_count": null,
   "id": "327fdc95-6f06-48a0-a9d5-98de494ab44e",
   "metadata": {},
   "outputs": [],
   "source": [
    "path = [r\"D:\\kc.hsu\\OneDrive - Bridgestone\\程式碼\\raw_data\\bs_20200901_20200930\",\n",
    "        r\"D:\\kc.hsu\\OneDrive - Bridgestone\\程式碼\\raw_data\\bs_20201001_20201031\", r\"D:\\kc.hsu\\OneDrive - Bridgestone\\程式碼\\raw_data\\bs_20201101_20201130\",\n",
    "        r\"D:\\kc.hsu\\OneDrive - Bridgestone\\程式碼\\raw_data\\bs_20201201_20201231\", r\"D:\\kc.hsu\\OneDrive - Bridgestone\\程式碼\\raw_data\\bs_20210101_20210131\",\n",
    "        r\"D:\\kc.hsu\\OneDrive - Bridgestone\\程式碼\\raw_data\\bs_20210201_20210228\", r\"D:\\kc.hsu\\OneDrive - Bridgestone\\程式碼\\raw_data\\bs_20210301_20210331\",\n",
    "        r\"D:\\kc.hsu\\OneDrive - Bridgestone\\程式碼\\raw_data\\bs_20210401_20210430\", r\"D:\\kc.hsu\\OneDrive - Bridgestone\\程式碼\\raw_data\\bs_20210501_20210531\",\n",
    "        r\"D:\\kc.hsu\\OneDrive - Bridgestone\\程式碼\\raw_data\\bs_20210601_20210630\", r\"D:\\kc.hsu\\OneDrive - Bridgestone\\程式碼\\raw_data\\bs_20210701_20210731\",\n",
    "        r\"D:\\kc.hsu\\OneDrive - Bridgestone\\程式碼\\raw_data\\bs_20210801_20210831\", r\"D:\\kc.hsu\\OneDrive - Bridgestone\\程式碼\\raw_data\\bs_20210901_20210930\",\n",
    "        r\"D:\\kc.hsu\\OneDrive - Bridgestone\\程式碼\\raw_data\\bs_20211001_20211031\", r\"D:\\kc.hsu\\OneDrive - Bridgestone\\程式碼\\raw_data\\bs_20211101_20211130\",\n",
    "        r\"D:\\kc.hsu\\OneDrive - Bridgestone\\程式碼\\raw_data\\bs_20211201_20211231\", r\"D:\\kc.hsu\\OneDrive - Bridgestone\\程式碼\\raw_data\\bs_20220101_20220128\",\n",
    "        r\"D:\\kc.hsu\\OneDrive - Bridgestone\\程式碼\\raw_data\\bs_20220201_20220228\", r\"D:\\kc.hsu\\OneDrive - Bridgestone\\程式碼\\raw_data\\bs_20220301_20220331\",\n",
    "        r\"D:\\kc.hsu\\OneDrive - Bridgestone\\程式碼\\raw_data\\bs_20220401_20220430\", r\"D:\\kc.hsu\\OneDrive - Bridgestone\\程式碼\\raw_data\\bs_20220501_20220531\",\n",
    "        r\"D:\\kc.hsu\\OneDrive - Bridgestone\\程式碼\\raw_data\\bs_20220601_20220630\", r\"D:\\kc.hsu\\OneDrive - Bridgestone\\程式碼\\raw_data\\bs_20220701_20220731\"]"
   ]
  },
  {
   "cell_type": "code",
   "execution_count": null,
   "id": "83c33ac1-254a-4c22-b168-fe28db619e81",
   "metadata": {},
   "outputs": [],
   "source": [
    "data_list = []\n",
    "for p, n in zip(path, range(len(path))):\n",
    "    globals()[\"data_\" + str(n)] = read_raw_data(p)\n",
    "    globals()[\"data_\" + str(n)] = combine_data(globals()[\"data_\" + str(n)])\n",
    "    data_list.append(globals()[\"data_\" + str(n)])"
   ]
  },
  {
   "cell_type": "code",
   "execution_count": null,
   "id": "364147d2-11ca-46cd-afb7-8d45a90b8ec0",
   "metadata": {},
   "outputs": [],
   "source": [
    "result = pd.concat(data_list).reset_index(drop=True)"
   ]
  },
  {
   "cell_type": "markdown",
   "id": "f534323b-59ab-4bbc-a399-56d2c2cada82",
   "metadata": {},
   "source": [
    "### 單一檔案合併"
   ]
  },
  {
   "cell_type": "code",
   "execution_count": null,
   "id": "0ec2ccf4-fd8c-47c7-aeba-6b982b623060",
   "metadata": {},
   "outputs": [],
   "source": [
    "root = tk.Tk()\n",
    "root.withdraw()\n",
    "path = filedialog.askopenfilename()"
   ]
  },
  {
   "cell_type": "code",
   "execution_count": null,
   "id": "6c2f2f75-89fe-471f-97d9-725744e253b5",
   "metadata": {},
   "outputs": [],
   "source": [
    "df = read_raw_data(path)"
   ]
  },
  {
   "cell_type": "code",
   "execution_count": null,
   "id": "a2752e02-0a9d-42cb-ba9e-f29763beaa1e",
   "metadata": {},
   "outputs": [],
   "source": [
    "result = combine_data(df)"
   ]
  },
  {
   "cell_type": "markdown",
   "id": "e076b6c4-e41b-4d1e-834e-893626610a1a",
   "metadata": {},
   "source": [
    "### 後續處理"
   ]
  },
  {
   "cell_type": "code",
   "execution_count": null,
   "id": "aee3797b-d70e-40aa-ad36-a424993068ea",
   "metadata": {},
   "outputs": [],
   "source": [
    "result[\"車型名稱\"] = result[\"車型名稱\"].map(lambda x: x.strip())"
   ]
  },
  {
   "cell_type": "code",
   "execution_count": null,
   "id": "b16d3ebb-1314-4ab1-83f5-9a9f63f15115",
   "metadata": {},
   "outputs": [],
   "source": [
    "result[\"車輛類型1\"] = result[\"車種\"].map(car_type1)\n",
    "result[\"車輛類型2\"] = result[\"車種\"].map(car_type2)\n",
    "result[\"使用類型\"] = result[\"車種\"].map(car_type3)"
   ]
  },
  {
   "cell_type": "code",
   "execution_count": null,
   "id": "72d5b23e-0f62-426d-9837-86dec50e45b7",
   "metadata": {},
   "outputs": [],
   "source": [
    "result[\"城市\"] = result[\"戶籍郵遞區號\"].map(city_dict)\n",
    "result[\"區\"] = result[\"戶籍郵遞區號\"].map(district_dict)\n",
    "result[\"區域\"] = result[\"戶籍郵遞區號\"].map(area_dict)"
   ]
  },
  {
   "cell_type": "code",
   "execution_count": null,
   "id": "146d8301-acb2-4042-b3f0-62539c3e45a9",
   "metadata": {},
   "outputs": [],
   "source": [
    "result[\"監理站\"] = result[\"原始監理單位代碼\"].map(gov_dict)"
   ]
  },
  {
   "cell_type": "code",
   "execution_count": null,
   "id": "b6075da1-3a86-478d-bc19-31a63f077c1b",
   "metadata": {},
   "outputs": [],
   "source": [
    "result[\"品牌1\"] = result[\"品牌\"].map(brand1_dict)\n",
    "result[\"品牌2\"] = result[\"品牌\"].map(brand2_dict)\n",
    "result[\"來源\"] = result[\"品牌\"].map(source_dict)"
   ]
  },
  {
   "cell_type": "code",
   "execution_count": null,
   "id": "384a4a9a-47db-4f83-9c83-2df73bb5146d",
   "metadata": {},
   "outputs": [],
   "source": [
    "result[\"車型\"] = result[\"車型名稱\"].map(model_dict)"
   ]
  },
  {
   "cell_type": "code",
   "execution_count": null,
   "id": "b56dda70-1df7-4889-bcad-427c66e5eced",
   "metadata": {},
   "outputs": [],
   "source": [
    "result[\"Tire size\"] = result[\"輪胎尺寸\"].map(tire_size_dict)"
   ]
  },
  {
   "cell_type": "code",
   "execution_count": null,
   "id": "cceb961a-04f9-4bc0-9e0c-7498eb27080f",
   "metadata": {},
   "outputs": [],
   "source": [
    "result = result[[\"品牌1\", \"品牌2\", \"來源\", \"車型\", \"Tire size\", \"發照日\", \"出廠年月\", \"性別\", \"車重\", \"車主出生年\", \"車輛類型1\", \"車輛類型2\", \"使用類型\", \"城市\", \"區\", \"區域\", \"監理站\"]]"
   ]
  },
  {
   "cell_type": "code",
   "execution_count": null,
   "id": "dc871e4c-dfb1-4033-9f87-37b8cf81691e",
   "metadata": {},
   "outputs": [],
   "source": [
    "result[\"發照日\"] = result[\"發照日\"].dt.date\n",
    "result[\"出廠年月\"] = result[\"出廠年月\"].dt.date"
   ]
  },
  {
   "cell_type": "code",
   "execution_count": null,
   "id": "73d2b5d2-3a5a-455e-b6ee-28a6c481077b",
   "metadata": {},
   "outputs": [],
   "source": [
    "result.to_excel(r\"D:\\kc.hsu\\OneDrive - Bridgestone\\數據\\監理站新車領牌數據\\20220915_2022年8月數據.xlsx\", index=False)"
   ]
  },
  {
   "cell_type": "code",
   "execution_count": null,
   "id": "a9652157-8596-4219-87b1-342d01a6f9de",
   "metadata": {},
   "outputs": [],
   "source": [
    "data = pd.read_csv(r\"D:\\kc.hsu\\OneDrive - Bridgestone\\數據\\監理站新車領牌數據\\20220823_監理站領牌數據全.csv\")"
   ]
  },
  {
   "cell_type": "code",
   "execution_count": null,
   "id": "dee864db-5cbd-4b59-a108-a1db4f281304",
   "metadata": {},
   "outputs": [],
   "source": [
    "final = pd.concat([data, result])"
   ]
  },
  {
   "cell_type": "code",
   "execution_count": null,
   "id": "b65bd153-016f-44b0-a3ca-6757df320ff4",
   "metadata": {},
   "outputs": [],
   "source": [
    "big_cat_keys = final[\"車輛類型2\"].unique().tolist()\n",
    "big_cat_values = ['PSV', 'LCV', 'PSV', 'Truck/Bus', 'Truck/Bus', 'Truck/Bus', 'PSV', 'Truck/Bus', 'Truck/Bus',\n",
    "       'Truck/Bus', 'LCV', 'Truck/Bus']\n",
    "big_cat_dict = dict(zip(big_cat_keys, big_cat_values))"
   ]
  },
  {
   "cell_type": "code",
   "execution_count": null,
   "id": "49af31cb-77e7-45af-8c47-46b0b4624b33",
   "metadata": {},
   "outputs": [],
   "source": [
    "final[\"車輛類型3\"] = final[\"車輛類型2\"].map(big_cat_dict)"
   ]
  },
  {
   "cell_type": "code",
   "execution_count": null,
   "id": "500b2042-d2a4-45f8-abd9-7db508774388",
   "metadata": {},
   "outputs": [],
   "source": [
    "export_path = \"D:/kc.hsu/OneDrive - Bridgestone/數據/監理站新車領牌數據/\"\n",
    "# file_name = path.split(\"\\\\\")[-1].split(\"_\")[-1][:-2] + \"_監理資料.xlsx\"\n",
    "file_name = datetime.today().strftime(\"%Y%m%d\") + \"_監理站領牌數據全.csv\"\n",
    "full_path = export_path + file_name\n",
    "# print(full_path)"
   ]
  },
  {
   "cell_type": "code",
   "execution_count": null,
   "id": "3154f12b-2500-4842-b79c-403b8fbb0f4f",
   "metadata": {},
   "outputs": [],
   "source": [
    "final[\"出廠年月\"] = pd.to_datetime(final[\"出廠年月\"], yearfirst=True)"
   ]
  },
  {
   "cell_type": "code",
   "execution_count": null,
   "id": "c21f4fd3-3896-41c9-9db2-eb21895cd13d",
   "metadata": {},
   "outputs": [],
   "source": [
    "final[\"發照日\"] = pd.to_datetime(final[\"發照日\"], yearfirst=True)"
   ]
  },
  {
   "cell_type": "code",
   "execution_count": null,
   "id": "e894bf7d-aeca-4de7-9ff4-de91bb6ac245",
   "metadata": {},
   "outputs": [],
   "source": [
    "final = final[~(final[\"出廠年月\"].isna()) & ~(final[\"發照日\"].isna())]"
   ]
  },
  {
   "cell_type": "code",
   "execution_count": null,
   "id": "6b50d9d6-19fc-4da4-b318-2f3b3e76503d",
   "metadata": {},
   "outputs": [],
   "source": [
    "final[\"保留與否\"] = final.apply(lambda x: \"Drop\" if (int(x[\"發照日\"].year) - int(x[\"出廠年月\"].year)) > 2 else \"Keep\", axis=1)"
   ]
  },
  {
   "cell_type": "code",
   "execution_count": null,
   "id": "f7f57a33-551c-4e09-9e3f-7fffd2958c34",
   "metadata": {},
   "outputs": [],
   "source": [
    "final = final[final[\"保留與否\"] == \"Keep\"]"
   ]
  },
  {
   "cell_type": "code",
   "execution_count": null,
   "id": "5191a6e8-f4f3-4204-be21-88baaa04666d",
   "metadata": {},
   "outputs": [],
   "source": [
    "final = final[['品牌1', '品牌2', '來源', '車型', 'Tire size', '發照日', '出廠年月', '性別', '車重',\n",
    "       '車主出生年', '車輛類型1', '車輛類型2', '使用類型', '城市', '區', '區域', '監理站', '車輛類型3']]"
   ]
  },
  {
   "cell_type": "code",
   "execution_count": null,
   "id": "19728e0f-14ab-4654-8bd2-eac90c3830f3",
   "metadata": {},
   "outputs": [],
   "source": [
    "final.to_csv(full_path, index=False)"
   ]
  },
  {
   "cell_type": "code",
   "execution_count": null,
   "id": "76f5fd7f-ba2d-4382-a3bf-a15accd55534",
   "metadata": {},
   "outputs": [],
   "source": [
    "final.to_excel(r\"D:\\kc.hsu\\OneDrive - Bridgestone\\數據\\監理站新車領牌數據\\20220822_監理站領牌數據202009-202208.xlsx\", index=False)"
   ]
  },
  {
   "cell_type": "markdown",
   "id": "a78be553-a043-4731-98d9-90aadc9f1c2d",
   "metadata": {},
   "source": [
    "## **尺寸表整理**"
   ]
  },
  {
   "cell_type": "code",
   "execution_count": null,
   "id": "6efbae90-835f-4268-b947-e33981630333",
   "metadata": {},
   "outputs": [],
   "source": [
    "new_tire_size = result[[\"出廠年月\", \"品牌2\", \"車型\", \"輪胎尺寸\", \"Tire size\"]]"
   ]
  },
  {
   "cell_type": "code",
   "execution_count": null,
   "id": "74372fca-9421-4511-afce-5e20e53ab5ab",
   "metadata": {},
   "outputs": [],
   "source": [
    "new_tire_size = new_tire_size.drop_duplicates(subset=[\"出廠年月\", \"品牌2\", \"車型\", \"輪胎尺寸\"])"
   ]
  },
  {
   "cell_type": "code",
   "execution_count": null,
   "id": "814dc911-7130-4c8a-a8d5-a44080cdccc3",
   "metadata": {},
   "outputs": [],
   "source": [
    "new_tire_size[\"出廠年月\"] = new_tire_size[\"出廠年月\"].dt.year"
   ]
  },
  {
   "cell_type": "code",
   "execution_count": null,
   "id": "47a5bb8a-94e6-4062-9f65-bcfe238793f8",
   "metadata": {},
   "outputs": [],
   "source": [
    "new_tire_size.to_excel(r\"C:\\Users\\kc.hsu\\Python workspace\\sales_related\\New Car Registration Data\\cross_tables\\20220822_TIRE_SIZE_INDEX_NEW.xlsx\", index=False)"
   ]
  },
  {
   "cell_type": "code",
   "execution_count": null,
   "id": "fc02ed27-9f89-435f-9b1b-7797eaf29d2c",
   "metadata": {},
   "outputs": [],
   "source": [
    "new_tire_size"
   ]
  },
  {
   "cell_type": "code",
   "execution_count": null,
   "id": "18745bb4-3a45-4da2-a0d7-a8c00f26d12b",
   "metadata": {},
   "outputs": [],
   "source": [
    "new_tire_size[\"Extract tire size 2\"] = new_tire_size[\"輪胎尺寸\"].str.extract(r\"((\\d{2,3}|\\d{1,2}\\D00|\\d{4}|\\d{2,3}\\D|\\d\\D|\\d\\D\\d)(|/\\d{2}|/\\d{2} |/\\d{2}Z)(R\\d{2}|RF\\d{2}|r\\d{2}| ZR\\d{2})(\\.\\d{1}| |C|))\")[0]"
   ]
  },
  {
   "cell_type": "code",
   "execution_count": null,
   "id": "7ac03f0e-da25-489a-b785-b1cf8e608fa9",
   "metadata": {},
   "outputs": [],
   "source": [
    "new_tire_size[\"Extract tire size 2\"] = new_tire_size[\"Extract tire size 2\"].astype(str).map(lambda x: x.replace(\"Z\", \"\").replace(\"C\", \"\").replace(\"F\", \"\").replace(\"r\", \"R\").replace(\" \", \"\").replace(\"f\", \"\"))"
   ]
  },
  {
   "cell_type": "code",
   "execution_count": null,
   "id": "8b50839f-b64a-4e5b-ae84-1d139f845fe4",
   "metadata": {},
   "outputs": [],
   "source": [
    "new_tire_size.to_excel(r\"C:\\Users\\kc.hsu\\Python workspace\\sales_related\\New Car Registration Data\\cross_tables\\20220822_TIRE_SIZE_INDEX_NEW.xlsx\", index=False)"
   ]
  },
  {
   "cell_type": "code",
   "execution_count": null,
   "id": "20052e20-bd5b-4bda-98d9-a151ca3dae35",
   "metadata": {},
   "outputs": [],
   "source": [
    "result[result[\"輪胎尺寸\"] == \"215/\"]"
   ]
  },
  {
   "cell_type": "code",
   "execution_count": null,
   "id": "a7c068c2-daa2-4b6d-9386-f233055b2a94",
   "metadata": {},
   "outputs": [],
   "source": [
    "result[result[\"車型名稱\"] == \"TOYOTA HIACE\"]"
   ]
  },
  {
   "cell_type": "markdown",
   "id": "b2397610-09b7-4642-990d-1767cfc49ecb",
   "metadata": {},
   "source": [
    "### 新規格整理"
   ]
  },
  {
   "cell_type": "code",
   "execution_count": null,
   "id": "b4d04a13-0db4-436a-9443-2973335cffe6",
   "metadata": {},
   "outputs": [],
   "source": [
    "new_df = pd.read_clipboard()"
   ]
  },
  {
   "cell_type": "code",
   "execution_count": null,
   "id": "d7eea077-96d0-49bc-b6ed-d743613a01fe",
   "metadata": {},
   "outputs": [],
   "source": [
    "new_df[\"出廠年\"] = new_df[\"出廠年月\"].map(lambda x: x[:4])"
   ]
  },
  {
   "cell_type": "code",
   "execution_count": null,
   "id": "e84d29f4-9396-417b-9250-4c60cbd5fcf7",
   "metadata": {},
   "outputs": [],
   "source": [
    "new_df = new_df[new_df[\"Tire size\"].isna()]"
   ]
  },
  {
   "cell_type": "code",
   "execution_count": null,
   "id": "f1be5bcd-995d-4a99-ab7b-e6b9ac01ddc6",
   "metadata": {},
   "outputs": [],
   "source": [
    "new_df.to_excel(r\"D:\\kc.hsu\\OneDrive - Bridgestone\\數據\\監理站新車領牌數據\\20220915_需要整理的規格.xlsx\", index=False)"
   ]
  },
  {
   "cell_type": "code",
   "execution_count": null,
   "id": "45da9c5d-4612-41d1-aa82-65b1c67479cf",
   "metadata": {},
   "outputs": [],
   "source": []
  }
 ],
 "metadata": {
  "kernelspec": {
   "display_name": "atoti",
   "language": "python",
   "name": "atoti"
  },
  "language_info": {
   "codemirror_mode": {
    "name": "ipython",
    "version": 3
   },
   "file_extension": ".py",
   "mimetype": "text/x-python",
   "name": "python",
   "nbconvert_exporter": "python",
   "pygments_lexer": "ipython3",
   "version": "3.9.7"
  }
 },
 "nbformat": 4,
 "nbformat_minor": 5
}
