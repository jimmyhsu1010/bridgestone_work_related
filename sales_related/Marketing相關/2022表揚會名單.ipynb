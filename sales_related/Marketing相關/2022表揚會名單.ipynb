{
 "cells": [
  {
   "cell_type": "code",
   "execution_count": 75,
   "id": "5a8a2848-5b58-4db2-8a7d-0415a1dcff7a",
   "metadata": {},
   "outputs": [],
   "source": [
    "import pandas as pd\n",
    "pd.set_option(\"display.max_columns\", None)\n",
    "pd.set_option(\"mode.chained_assignment\", None)\n",
    "import tkinter as tk\n",
    "from tkinter import filedialog\n",
    "from datetime import datetime"
   ]
  },
  {
   "cell_type": "code",
   "execution_count": 8,
   "id": "cb527661-88e6-426c-82f0-538300a2b4ed",
   "metadata": {},
   "outputs": [],
   "source": [
    "root = tk.Tk()\n",
    "root.withdraw()\n",
    "path = filedialog.askopenfilename()"
   ]
  },
  {
   "cell_type": "code",
   "execution_count": 37,
   "id": "1c078d9d-4bea-4b48-a4cd-0d72f846e27b",
   "metadata": {},
   "outputs": [],
   "source": [
    "df = pd.read_excel(path)"
   ]
  },
  {
   "cell_type": "code",
   "execution_count": 38,
   "id": "b224a4a2-c892-4f66-b41f-e425085e1496",
   "metadata": {},
   "outputs": [
    {
     "data": {
      "text/plain": [
       "Index(['公司名稱', '公司統編', '是否參加此次活動', '參加人數', '姓名', '性別', '出生年月日', '身份證字號',\n",
       "       '聯絡電話', '身高', '衣服尺寸', '飲食習慣', '第一位參加者姓名', '性別.1', '出生年月日.1', '身份證字號.1',\n",
       "       '聯絡電話.1', '身高.1', '衣服尺寸.1', '飲食習慣.1', '第二位參加者姓名', '性別.2', '出生年月日.2',\n",
       "       '身份證字號.2', '聯絡電話.2', '身高.2', '衣服尺寸.2', '飲食習慣.2', '是否參與茶道表演活動', '填答時間',\n",
       "       '填答秒數', 'IP紀錄', '額滿結束註記', '使用者紀錄', '會員時間', '會員編號', '自訂ID', '備註'],\n",
       "      dtype='object')"
      ]
     },
     "execution_count": 38,
     "metadata": {},
     "output_type": "execute_result"
    }
   ],
   "source": [
    "df.columns"
   ]
  },
  {
   "cell_type": "code",
   "execution_count": 39,
   "id": "fc8e3841-0eb2-4040-95e8-ea3818516ea8",
   "metadata": {},
   "outputs": [],
   "source": [
    "df1 = df[['公司名稱', '公司統編', '是否參加此次活動', '參加人數', '姓名', '性別', '出生年月日', '身份證字號',\n",
    "       '聯絡電話', '身高', '衣服尺寸', '飲食習慣']]\n",
    "df2 = df[['公司名稱', '公司統編', '是否參加此次活動', '參加人數', '第一位參加者姓名', '性別.1', '出生年月日.1', '身份證字號.1',\n",
    "       '聯絡電話.1', '身高.1', '衣服尺寸.1', '飲食習慣.1']]\n",
    "df3 = df[['公司名稱', '公司統編', '是否參加此次活動', '參加人數', '第二位參加者姓名', '性別.2', '出生年月日.2',\n",
    "       '身份證字號.2', '聯絡電話.2', '身高.2', '衣服尺寸.2', '飲食習慣.2']]"
   ]
  },
  {
   "cell_type": "code",
   "execution_count": 40,
   "id": "c2a9800d-d0c5-48c8-9e42-c9e500d0f033",
   "metadata": {},
   "outputs": [],
   "source": [
    "df2.columns = df1.columns\n",
    "df3.columns = df1.columns"
   ]
  },
  {
   "cell_type": "code",
   "execution_count": 41,
   "id": "5d4766ce-9b9b-4f44-9cd8-98294ee2554f",
   "metadata": {},
   "outputs": [],
   "source": [
    "result = pd.concat([df1, df2, df3])"
   ]
  },
  {
   "cell_type": "code",
   "execution_count": 42,
   "id": "6dfc8492-f5a3-468d-b0a7-f49e8b3959ef",
   "metadata": {},
   "outputs": [],
   "source": [
    "result[\"公司統編\"] = result[\"公司統編\"].astype(str).map(lambda x: \"0\" + x if len(x) < 8 else x)"
   ]
  },
  {
   "cell_type": "code",
   "execution_count": 71,
   "id": "be8f4f43-3c79-47c9-81b6-422da0b2984c",
   "metadata": {},
   "outputs": [],
   "source": [
    "result = result[['公司名稱', '公司統編', '姓名', '性別', '出生年月日', '身份證字號',\n",
    "       '聯絡電話', '身高', '衣服尺寸', '飲食習慣']]"
   ]
  },
  {
   "cell_type": "code",
   "execution_count": 44,
   "id": "ae6e161b-7b8b-4958-ac54-c89c0a54face",
   "metadata": {},
   "outputs": [],
   "source": [
    "result = result[~result[\"姓名\"].isna()]"
   ]
  },
  {
   "cell_type": "code",
   "execution_count": 47,
   "id": "8240ccb9-f501-47e1-9426-1dd446b55f1b",
   "metadata": {},
   "outputs": [],
   "source": [
    "result[\"身高\"] = result[\"身高\"].astype(int)"
   ]
  },
  {
   "cell_type": "code",
   "execution_count": 60,
   "id": "5ba9f787-128f-4f93-b87d-fd967a2db959",
   "metadata": {},
   "outputs": [],
   "source": [
    "result[\"聯絡電話\"] = result[\"聯絡電話\"].astype(str).map(lambda x: \"NA\" if x == \"nan\" else \"0\" + x).map(lambda x: x.replace(\".0\", \"\") if len(x) > 2 else x)"
   ]
  },
  {
   "cell_type": "code",
   "execution_count": 79,
   "id": "a7c0361c-2186-4392-adbb-90c06cfd1190",
   "metadata": {},
   "outputs": [],
   "source": [
    "result[\"年紀\"] = datetime.today().year - result[\"出生年月日\"].dt.year"
   ]
  },
  {
   "cell_type": "code",
   "execution_count": 96,
   "id": "3aa17b57-bce2-4559-9c5a-9d3eedc8f70e",
   "metadata": {},
   "outputs": [],
   "source": [
    "result[\"群組\"] = pd.cut(result[\"年紀\"], bins=[20, 40, 60, 99], right=True, labels=[\"新生代\", \"中生代\", \"資深世代\"])"
   ]
  },
  {
   "cell_type": "code",
   "execution_count": 97,
   "id": "5185ed67-aa57-41e7-a5ce-4724e7f0d78c",
   "metadata": {},
   "outputs": [],
   "source": [
    "result.to_excel(r\"D:\\kc.hsu\\OneDrive - Bridgestone\\行銷推廣\\活動規劃\\202210加賀屋表揚會\\20220912_參與名單_revised.xlsx\", index=False)"
   ]
  },
  {
   "cell_type": "code",
   "execution_count": null,
   "id": "e45898df-6f3c-4e1f-bab1-c4890d9dcbab",
   "metadata": {},
   "outputs": [],
   "source": []
  }
 ],
 "metadata": {
  "kernelspec": {
   "display_name": "Python 3 (ipykernel)",
   "language": "python",
   "name": "python3"
  },
  "language_info": {
   "codemirror_mode": {
    "name": "ipython",
    "version": 3
   },
   "file_extension": ".py",
   "mimetype": "text/x-python",
   "name": "python",
   "nbconvert_exporter": "python",
   "pygments_lexer": "ipython3",
   "version": "3.10.6"
  }
 },
 "nbformat": 4,
 "nbformat_minor": 5
}
