{
 "cells": [
  {
   "cell_type": "code",
   "execution_count": null,
   "id": "5f1d579b-53c9-41f9-80fb-0e7f5f7a3459",
   "metadata": {},
   "outputs": [],
   "source": [
    "import pandas as pd\n",
    "pd.set_option(\"display.max_columns\", None)\n",
    "import warnings\n",
    "warnings.filterwarnings(\"ignore\")\n",
    "pd.set_option(\"mode.chained_assignment\", None)"
   ]
  },
  {
   "cell_type": "code",
   "execution_count": null,
   "id": "26dca591-0aab-4b5d-b73d-9d9ec09838fa",
   "metadata": {},
   "outputs": [],
   "source": [
    "bpcom = pd.read_excel(r\"D:\\kc.hsu\\OneDrive - Bridgestone\\產品規格相關\\BPCOM\\BPCOM_202208040543.xlsx\")"
   ]
  },
  {
   "cell_type": "code",
   "execution_count": null,
   "id": "21200065-9bcb-4789-8c53-be494e559e8b",
   "metadata": {},
   "outputs": [],
   "source": [
    "ref = dict(zip(bpcom[\"PrCode\"], bpcom[\"Product Name\"]))"
   ]
  },
  {
   "cell_type": "code",
   "execution_count": null,
   "id": "ac93b96e-5b4e-4067-b56f-46768baf51d2",
   "metadata": {},
   "outputs": [],
   "source": [
    "old_data = pd.read_excel(r\"D:\\kc.hsu\\OneDrive - Bridgestone\\數據\\2022ACT\\2019-2020_Size Data_All.xlsx\")"
   ]
  },
  {
   "cell_type": "code",
   "execution_count": null,
   "id": "eba3b802-4c28-4161-b2de-5988d23f8580",
   "metadata": {},
   "outputs": [],
   "source": [
    "old_data = old_data[(old_data[\"國內市場財別\"] == \"TBR(G)\") & (old_data[\"大通路分類\"] == \"OE\") & (old_data[\"種類\"] == \"外胎\")]"
   ]
  },
  {
   "cell_type": "code",
   "execution_count": null,
   "id": "18cf44f5-be2a-4c86-8084-12f8e4eaf47d",
   "metadata": {},
   "outputs": [],
   "source": [
    "old_data[\"年月\"] = old_data[\"年月\"] + 191100"
   ]
  },
  {
   "cell_type": "code",
   "execution_count": null,
   "id": "ef7f18d0-e5d8-42cb-af12-a6b257d07f50",
   "metadata": {},
   "outputs": [],
   "source": [
    "old_data[\"年月\"] = pd.to_datetime(old_data[\"年月\"], yearfirst=True, format=\"%Y%m\")"
   ]
  },
  {
   "cell_type": "code",
   "execution_count": null,
   "id": "5ee1f9fe-30c3-4e0c-b419-bf4e039e686f",
   "metadata": {},
   "outputs": [],
   "source": [
    "old_result = old_data[[\"年月\", \"商品代號\", \"條數\", \"NET金額\"]]"
   ]
  },
  {
   "cell_type": "code",
   "execution_count": null,
   "id": "c99f4d41-85a1-4f68-b3eb-1ae79aa85cec",
   "metadata": {},
   "outputs": [],
   "source": [
    "old_result[\"年度\"] = old_result[\"年月\"].dt.year"
   ]
  },
  {
   "cell_type": "code",
   "execution_count": null,
   "id": "955d0609-db00-487f-b284-a080a73b82ad",
   "metadata": {},
   "outputs": [],
   "source": [
    "old_result = old_result[old_result[\"條數\"].notna()]"
   ]
  },
  {
   "cell_type": "code",
   "execution_count": null,
   "id": "7be9786e-a9a5-4bc6-b8e0-97fc8d8ec0a7",
   "metadata": {},
   "outputs": [],
   "source": [
    "new_data = pd.read_excel(r\"D:\\kc.hsu\\OneDrive - Bridgestone\\數據\\2022ACT\\2021-2026_Size Data_All_20230118.xlsx\")"
   ]
  },
  {
   "cell_type": "code",
   "execution_count": null,
   "id": "7c7e819f-4390-4fbb-a93f-b1ec4ddae5af",
   "metadata": {},
   "outputs": [],
   "source": [
    "new_data = new_data[(new_data[\"國內市場財別\"] == \"TBR(G)\") & (new_data[\"大通路分類\"] == \"OE\") & (new_data[\"種類\"] == \"外胎\")]"
   ]
  },
  {
   "cell_type": "code",
   "execution_count": null,
   "id": "efdc8b92-cef8-4912-8f82-0a2fb5ae5020",
   "metadata": {},
   "outputs": [],
   "source": [
    "new_data = new_data[new_data[\"預算/前實績\"].isin([\"21PY\", \"22ACT\", \"23OB_V2\", \"24MBP\"])]"
   ]
  },
  {
   "cell_type": "code",
   "execution_count": null,
   "id": "61ede884-8d6a-42dd-a16e-e64913243538",
   "metadata": {},
   "outputs": [],
   "source": [
    "new_data[\"年月\"] = new_data[\"年月\"].map(lambda x: 202401 if x == 2024 else 202501 if x == 2025 else 202601 if x == 2026 else x)"
   ]
  },
  {
   "cell_type": "code",
   "execution_count": null,
   "id": "dcbb5df1-7082-44c4-9fb8-ddaa2d5e94a4",
   "metadata": {},
   "outputs": [],
   "source": [
    "new_data[\"年月\"] = pd.to_datetime(new_data[\"年月\"], yearfirst=True, format=\"%Y%m\")"
   ]
  },
  {
   "cell_type": "code",
   "execution_count": null,
   "id": "429da203-6d9f-4559-a224-db59c1527027",
   "metadata": {},
   "outputs": [],
   "source": [
    "new_result = new_data[[\"年月\", \"商品代號\", \"條數\", \"NET金額\", \"年度\"]]"
   ]
  },
  {
   "cell_type": "code",
   "execution_count": null,
   "id": "bd45a3e5-dd30-4ce2-9143-52e535b7f82a",
   "metadata": {},
   "outputs": [],
   "source": [
    "new_result = new_result[new_result[\"條數\"].notna()]"
   ]
  },
  {
   "cell_type": "code",
   "execution_count": null,
   "id": "99bef9ea-611c-43e5-9192-444205fea002",
   "metadata": {},
   "outputs": [],
   "source": [
    "combined = pd.concat([old_result, new_result])"
   ]
  },
  {
   "cell_type": "code",
   "execution_count": null,
   "id": "59ec3be3-6d55-4508-83d8-9399f4f2ec57",
   "metadata": {},
   "outputs": [],
   "source": [
    "df = pd.read_clipboard()\n",
    "df = df[~df[\"製品編碼\"].str.contains(\"LSR|TBR\")]\n",
    "new_pro = dict(zip(df[\"製品編碼\"], df[\"花紋\"]))\n",
    "new_pro"
   ]
  },
  {
   "cell_type": "code",
   "execution_count": null,
   "id": "d14c5313-b691-4fc9-b256-ef98ca64ce25",
   "metadata": {},
   "outputs": [],
   "source": []
  },
  {
   "cell_type": "code",
   "execution_count": null,
   "id": "2c625f95-ee98-46c5-8e73-cf56cf27579b",
   "metadata": {},
   "outputs": [],
   "source": [
    "combined[\"商品名稱\"] = combined[\"商品代號\"].map(ref)"
   ]
  },
  {
   "cell_type": "code",
   "execution_count": null,
   "id": "97b589e9-dd69-4890-a01b-257baf0ff774",
   "metadata": {},
   "outputs": [],
   "source": [
    "combined[\"商品名稱\"] = combined[\"商品名稱\"].fillna(\"Unknown\")"
   ]
  },
  {
   "cell_type": "code",
   "execution_count": null,
   "id": "91939db5-c1bf-45a8-a0fc-d2da7feb3df6",
   "metadata": {},
   "outputs": [],
   "source": [
    "cgty_dict = {\"V-STEEL RIB R225\": \"LH\", \"V-STEEL RIB 294\": \"LH\", \"V-STEEL RIB R224\": \"LH\", \"FS 400\": \"FS\", \"V-STEEL RIB R150\": \"LH\", \"V-STEEL RIB R162\": \"BUS\", \"V-STEEL RIB R294\": \"LH\",\n",
    "             \"V-STEEL MIX M729\": \"LH\", \"V-STEEL MIX M810\": \"LH\", \"V-STEEL RIB R168\": \"LH\", \"ECOPIA R156\": \"ECOPIA\", \"V-STEEL RIB R156\": \"ECOPIA\", \"V-STEEL RIB LUG G582\": \"LH\", \"V-STEEL RIB LUG G515\": \"LH\",\n",
    "             \"V-STEEL MIX M840\": \"BUS\", \"Unknown\": \"Unknown\", \"V-STEEL RIB R210\": \"LH\", \"V-STEEL RIB LUG G610\": \"LH\", \"V-STEEL RIB R249\": \"LH\", \"V-STEEL RIB R192\": \"BUS\", \"FD 600\": \"FS\", \"ECOPIA M749\": \"ECOPIA\",\n",
    "             \"V-STEEL MIX M798\": \"LH\", \"V-STEEL MIX M805\": \"LH\", \"V-STEEL RIB R109\": \"LH\", \"V-STEEL RIB R179\": \"LH\", \"V-STEEL MIX M748\": \"LH\", \"V-STEEL RIB 184\": \"LH\", \"V-STEEL RIB LUG G623\": \"LH\", \"FD600\": \"FS\",\n",
    "             \"V-STEEL RIB 180\": \"LH\", \"V-STEEL RIB LUG G558\": \"LH\", \"V-STEEL JAMAL\": \"LH\", \"R118\": \"LH\", \"V-STEEL RIB 230\": \"LH\", \"V-STEEL RIB R227\": \"LH\", \"ECOPIA R208\": \"ECOPIA\", \"ECOPIA R102\": \"ECOPIA\",\n",
    "             \"M778\": \"LH\", \"V-STEEL RIB LUG G580\": \"LH\", \"V-STEEL E TRACTION\": \"LH\", \"U-AP 001\": \"BUS\", \"V-STEEL RIB R154\": \"LH\", \"V-STEEL RIB R250 ED\": \"LH\", \"V-STEEL RIB LUG G540\": \"LH\"}"
   ]
  },
  {
   "cell_type": "code",
   "execution_count": null,
   "id": "ffb2b310-3e03-49af-ade8-df6444d36fe6",
   "metadata": {},
   "outputs": [],
   "source": [
    "combined[\"分類\"] = combined[\"商品名稱\"].map(cgty_dict)"
   ]
  },
  {
   "cell_type": "code",
   "execution_count": null,
   "id": "e13c33bd-5908-4a02-ab45-81c828323b0c",
   "metadata": {},
   "outputs": [],
   "source": [
    "combined[\"商品代號\"] = combined[\"商品代號\"].astype(\"str\")"
   ]
  },
  {
   "cell_type": "code",
   "execution_count": null,
   "id": "add3ff4b-57aa-4729-b354-389b81ef6f2b",
   "metadata": {},
   "outputs": [],
   "source": [
    "combined.to_excel(r\"D:\\kc.hsu\\OneDrive - Bridgestone\\KPI\\2023年新分類總表_OE.xlsx\", index=False)"
   ]
  },
  {
   "cell_type": "code",
   "execution_count": null,
   "id": "944d6202-b078-45a5-92ce-790ce4286cb3",
   "metadata": {},
   "outputs": [],
   "source": []
  }
 ],
 "metadata": {
  "kernelspec": {
   "display_name": "Python 3 (ipykernel)",
   "language": "python",
   "name": "python3"
  },
  "language_info": {
   "codemirror_mode": {
    "name": "ipython",
    "version": 3
   },
   "file_extension": ".py",
   "mimetype": "text/x-python",
   "name": "python",
   "nbconvert_exporter": "python",
   "pygments_lexer": "ipython3",
   "version": "3.10.6"
  }
 },
 "nbformat": 4,
 "nbformat_minor": 5
}
