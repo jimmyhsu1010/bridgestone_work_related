{
 "cells": [
  {
   "cell_type": "code",
   "execution_count": 3,
   "id": "e00fc982-aaf1-44db-984e-58e4804890d6",
   "metadata": {},
   "outputs": [],
   "source": [
    "import requests\n",
    "from selectolax.parser import HTMLParser\n",
    "import pandas as pd\n",
    "import warnings\n",
    "warnings.filterwarnings('ignore')\n",
    "from concurrent.futures import ThreadPoolExecutor\n",
    "import os\n",
    "from bs4 import BeautifulSoup as bs"
   ]
  },
  {
   "cell_type": "code",
   "execution_count": null,
   "id": "2c3853ad-0087-4cf1-a0b0-834b88937b66",
   "metadata": {},
   "outputs": [],
   "source": [
    "payload = \"\"\n",
    "headers = {\"cookie\": \"XSRF-TOKEN=eyJpdiI6InlrWWtpam1qRUlGazdOV0hGTjNvbGc9PSIsInZhbHVlIjoiQ2J3OHVMaUd2Zno5aW5EQkMxYXhNdGhmQkZ5YXZZNVhTeTFFR3pJL2VLK0lEaloxMWJnTmNSMGVXRmRXSWM2QlNURHdFVEc5N0FsektaQ2FOYzkySVJYTHNFY1JQSzVITUIrYi8rZGhJcWFnZWY4Z21rbUNjcnc4eWM1UnpBUE0iLCJtYWMiOiI0NzFhMDg5YTA2ZmRhNmNiNmUyN2RmODljNDc3MTIxMmJhODAyMTFjOTM0NDhkM2RlOWYzY2YzNmJmZTdhMGEyIiwidGFnIjoiIn0%253D; laravel_session=eyJpdiI6ImIvU0RWbEh6YnNOUDB6NmJMajVoRVE9PSIsInZhbHVlIjoiOWZLR3dOaWhrK1JjRU5nMUMzYWNNa09oWG4wTEN3RitNMjJ3elZTYkJmTHZINGNtQ0hrYTVpVW5HdFlYdHRsTzJ0TlRIV2V5MnJIN296UnJaeE9uRkIvMUpTYnQvWGtCcjNjcGdMKzJhNDVRTEhqMVJyNVhGY0pqQkduMnJEZGgiLCJtYWMiOiJhNzZlOTdkNTljODcyYzhjOTAyYWViMDU5MmRhYWI1MTA2ODIxYzUxMmMxNTI2MmFkZDQ3OGUxNzk2NTczN2U5IiwidGFnIjoiIn0%253D; bc=eyJpdiI6IkJJb1pGTGFuL0VDSGNETm9hb05mRkE9PSIsInZhbHVlIjoiUTV2bmxuWGJYYzhQVi9JMjhWazFvMDllOGMrUHQxdzhSTjNTa3NuS0pMd3dRUDlpREI4aGdZSUFqbTN6U0lLZDRwS3BTeS9ETTNQVUV2blI5V2ZhUVhlWXhYQVk3cExUM0lISUJjbVMyZTg9IiwibWFjIjoiMjlmOTIxODg3MDk2MjY3MjZhYjU0NzA2YTVjOWY5MzQwNzdhZWI2YWVmYzEzNTI1NTIzNTI1OTczNmRhNThjZCIsInRhZyI6IiJ9\"}\n",
    "\n",
    "# response = requests.request(\"GET\", url, data=payload, headers=headers)"
   ]
  },
  {
   "attachments": {},
   "cell_type": "markdown",
   "id": "f96780ef-db41-4e48-b343-e7ea2c892e72",
   "metadata": {
    "jp-MarkdownHeadingCollapsed": true,
    "tags": []
   },
   "source": [
    "## 建立廠牌連結清單\n",
    "- 返回brand_link_list以便後續可以調用"
   ]
  },
  {
   "cell_type": "code",
   "execution_count": null,
   "id": "daf2ec20-98c0-4d82-9d4f-c2e7e57c8291",
   "metadata": {},
   "outputs": [],
   "source": [
    "url_brand_menu = \"https://autos.yahoo.com.tw/new-cars/research\"\n",
    "response = requests.get(url_brand_menu, headers=headers)\n",
    "parser = HTMLParser(response.text)\n",
    "brand_link_list = [brand.css_first(\"a.gabtn\").attributes[\"href\"] for brand in parser.css(\"div.list\")]"
   ]
  },
  {
   "attachments": {},
   "cell_type": "markdown",
   "id": "b9f09aa3-d41a-4f8e-bab8-870b1b6e4767",
   "metadata": {
    "jp-MarkdownHeadingCollapsed": true,
    "tags": []
   },
   "source": [
    "## 根據連結清單來找出每個年份、車型的連結\n",
    "- 在編寫function的時候可以加入parameter去控制要爬取的年份會比較節省<font color=red>**資源**</font>"
   ]
  },
  {
   "cell_type": "code",
   "execution_count": null,
   "id": "092ce4ec-08e5-422a-a432-e273a4e42ff8",
   "metadata": {},
   "outputs": [],
   "source": [
    "model_link_list = []\n",
    "\n",
    "for link in brand_link_list:\n",
    "    response = requests.get(link, headers=headers)\n",
    "    parser = HTMLParser(response.text)\n",
    "    model_links = parser.css(\"div.body-wrapper > div.main > div.make-main.jq-make-wrapper > div:nth-child(n+3) > a.gabtn\")\n",
    "    for model_link in model_links:\n",
    "        model_link_list.append(model_link.attributes[\"href\"])  \n",
    "    "
   ]
  },
  {
   "cell_type": "code",
   "execution_count": null,
   "id": "ce80dd2c-f52a-45d6-bc5b-0f9c81d147a7",
   "metadata": {},
   "outputs": [],
   "source": [
    "response = requests.get(\"https://autos.yahoo.com.tw/new-cars/trim/audi-a3-sportback-2018-35-tfsi/spec\", headers=headers)"
   ]
  },
  {
   "cell_type": "code",
   "execution_count": null,
   "id": "44f692c7-1f92-4fb6-80e4-e0ab0e22bd71",
   "metadata": {},
   "outputs": [],
   "source": [
    "parser = HTMLParser(response.text)\n",
    "values = parser.css(\"div.body-wrapper > div.main > div.trim-main > div.trim-spec-detail > div:nth-child(1) > ul > li > span:nth-child(2n)\")\n",
    "keys = parser.css(\"div.body-wrapper > div.main > div.trim-main > div.trim-spec-detail > div:nth-child(1) > ul > li > span:nth-child(2n-1)\")"
   ]
  },
  {
   "cell_type": "code",
   "execution_count": null,
   "id": "fae8b8b3-10ad-41cf-a41a-fb88e1b15f44",
   "metadata": {},
   "outputs": [],
   "source": [
    "target_info = [\"動力型式\", \"排氣量\", \"驅動型式\", \"輪胎尺碼\", \"車身型式\", \"車重\"]\n",
    "info_dict = dict()\n",
    "for key, value in zip(keys, values):\n",
    "    print(key.text(), value.text())\n",
    "    if key.text().strip() in target_info:\n",
    "        info_dict.setdefault(key.text().strip(), value.text().strip())"
   ]
  },
  {
   "cell_type": "code",
   "execution_count": null,
   "id": "767be2d7-bffc-4ddb-ba31-3f3b1f05e928",
   "metadata": {},
   "outputs": [],
   "source": [
    "result = list(info_dict.values())\n",
    "if \"排氣量\" not in info_dict.keys():\n",
    "    result.insert(1, \"NA\")\n",
    "if \"車重\" not in info_dict.keys():\n",
    "    result.append(\"NA\")"
   ]
  },
  {
   "cell_type": "code",
   "execution_count": null,
   "id": "e038a7f4-9460-4244-a2e2-41c426cac108",
   "metadata": {},
   "outputs": [],
   "source": [
    "brand = parser.css_first(\"div.body-wrapper > div.main > div.bread > span > a:nth-child(5)\").text()\n",
    "year = parser.css_first(\"div.body-wrapper > div.main > div.bread > span > a:nth-child(7)\").attributes[\"title\"][0:4]\n",
    "series = parser.css_first(\"div.body-wrapper > div.main > div.bread > span > a:nth-child(7)\").attributes[\"title\"][5:]\n",
    "model = parser.css_first(\"a.disabled\").text()\n",
    "price = parser.css_first(\"div.body-wrapper > div.main > div.trim-main > h3 > span:nth-child(1) > font\").text().strip()"
   ]
  },
  {
   "cell_type": "code",
   "execution_count": null,
   "id": "760f2132-f2a7-4449-ba20-660fd7058740",
   "metadata": {},
   "outputs": [],
   "source": [
    "s = [year, brand, series, model, price] + result"
   ]
  },
  {
   "cell_type": "code",
   "execution_count": null,
   "id": "67a03e4b-d5b6-4a3b-934f-d0aa73cdc593",
   "metadata": {},
   "outputs": [],
   "source": [
    "s"
   ]
  },
  {
   "cell_type": "code",
   "execution_count": null,
   "id": "3ba356ba-c3ba-4e54-8c75-85b94ec81910",
   "metadata": {},
   "outputs": [],
   "source": [
    "df = pd.DataFrame(columns=[\"年份\", \"品牌\", \"車系\", \"車型\", \"價格\", \"動力型式\", \"排氣量\", \"驅動型式\", \"輪胎尺碼\", \"車身型式\", \"車重\"])"
   ]
  },
  {
   "cell_type": "code",
   "execution_count": null,
   "id": "22894f3a-1091-4b88-8781-863c1f6c786d",
   "metadata": {},
   "outputs": [],
   "source": [
    "data = pd.Series(s, index=[\"年份\", \"品牌\", \"車系\", \"車型\", \"價格\", \"動力型式\", \"排氣量\", \"驅動型式\", \"輪胎尺碼\", \"車身型式\", \"車重\"])"
   ]
  },
  {
   "cell_type": "code",
   "execution_count": null,
   "id": "80a268d1-452a-4c5f-ae1f-6c2c1204a749",
   "metadata": {},
   "outputs": [],
   "source": [
    "df = df.append(data, ignore_index=True)"
   ]
  },
  {
   "cell_type": "code",
   "execution_count": null,
   "id": "70b02fa1-d4f7-46c2-b060-ea72e145c6f5",
   "metadata": {},
   "outputs": [],
   "source": [
    "df"
   ]
  },
  {
   "cell_type": "code",
   "execution_count": null,
   "id": "2ac79407-e3e5-48dd-8f47-004b68a0de8e",
   "metadata": {},
   "outputs": [],
   "source": [
    "df[\"前輪尺寸\"] = df[\"輪胎尺碼\"].str.split(\" \", expand=True)[0]\n",
    "df[\"後輪尺寸\"] = df[\"輪胎尺碼\"].str.split(\" \", expand=True)[1]"
   ]
  },
  {
   "cell_type": "code",
   "execution_count": null,
   "id": "7ba76416-6047-4594-9582-9501c7d6611b",
   "metadata": {},
   "outputs": [],
   "source": [
    "df[[\"年份\", \"品牌\", \"車系\", \"車型\", \"價格\", \"動力型式\", \"排氣量\", \"驅動型式\", \"車身型式\", \"車重\", \"前輪尺寸\", \"後輪尺寸\"]]"
   ]
  },
  {
   "cell_type": "code",
   "execution_count": null,
   "id": "d97c63a1-c5cd-4121-ad0f-739d293e4132",
   "metadata": {},
   "outputs": [],
   "source": [
    "response = requests.get(\"https://autos.yahoo.com.tw/new-cars/model/toyota-corolla-altis-2020\", headers=headers)"
   ]
  },
  {
   "cell_type": "code",
   "execution_count": null,
   "id": "7804f6ee-013e-43af-877a-f033ac905d38",
   "metadata": {},
   "outputs": [],
   "source": [
    "parser = HTMLParser(response.text)"
   ]
  },
  {
   "cell_type": "code",
   "execution_count": null,
   "id": "752e8be4-d334-41e5-a1b6-421a065ed4c4",
   "metadata": {},
   "outputs": [],
   "source": [
    "for i in parser.css(\"div.body-wrapper > div.main > div.main-model > div.model-wrapper > ul > a\"):\n",
    "    print(i.attributes[\"href\"])"
   ]
  },
  {
   "cell_type": "code",
   "execution_count": null,
   "id": "158295c5-4685-42cf-8aaf-2b5a5ed3266a",
   "metadata": {},
   "outputs": [],
   "source": [
    "url = \"https://autos.yahoo.com.tw/new-cars/trim/audi-a4-sedan-2023-40-tfsi%E4%BA%AB%E9%A6%AD%E7%89%88/spec\""
   ]
  },
  {
   "cell_type": "code",
   "execution_count": null,
   "id": "e0500110-e61c-489c-90ca-3ab4e46bcee1",
   "metadata": {},
   "outputs": [],
   "source": [
    "res = requests.get(url, headers=headers)\n",
    "try:\n",
    "    for data in res.iter_content(chunk_size=1024):\n",
    "        data\n",
    "except:\n",
    "    print(\"Failed\")\n",
    "    pass\n",
    "\n",
    "parser = HTMLParser(res.text)\n",
    "values = parser.css(\"div.body-wrapper > div.main > div.trim-main > div.trim-spec-detail > div:nth-child(1) > ul > li > span:nth-child(2n)\")\n",
    "keys = parser.css(\"div.body-wrapper > div.main > div.trim-main > div.trim-spec-detail > div:nth-child(1) > ul > li > span:nth-child(2n-1)\")\n",
    "target_info = [\"動力型式\", \"排氣量\", \"驅動型式\", \"輪胎尺碼\", \"車身型式\", \"車重\"]\n",
    "info_dict = dict()\n",
    "for key, value in zip(keys, values):\n",
    "    # print(key.text(), value.text())\n",
    "    if key.text().strip() in target_info:\n",
    "        info_dict.setdefault(key.text().strip(), value.text().strip())\n",
    "result = list(info_dict.values())\n",
    "print(result)\n",
    "if \"排氣量\" not in info_dict.keys():\n",
    "    result.insert(1, \"NA\")\n",
    "if \"車重\" not in info_dict.keys():\n",
    "    result.append(\"NA\")\n",
    "try:\n",
    "    brand = parser.css_first(\"div.body-wrapper > div.main > div.bread > span > a:nth-child(5)\").text()\n",
    "except:\n",
    "    brand = \"NA\"\n",
    "try:\n",
    "    year = \\\n",
    "        parser.css_first(\"div.body-wrapper > div.main > div.bread > span > a:nth-child(7)\").attributes[\n",
    "            \"title\"][0:4]\n",
    "except:\n",
    "    year = \"NA\"\n",
    "try:\n",
    "    series = \\\n",
    "        parser.css_first(\"div.body-wrapper > div.main > div.bread > span > a:nth-child(7)\").attributes[\n",
    "            \"title\"][5:]\n",
    "except:\n",
    "    series = \"NA\"\n",
    "try:\n",
    "    model = parser.css_first(\"a.disabled\").text()\n",
    "except:\n",
    "    model = \"NA\"\n",
    "try:\n",
    "    price = parser.css_first(\n",
    "        \"div.body-wrapper > div.main > div.trim-main > h3 > span:nth-child(1) > font\").text().strip()\n",
    "except:\n",
    "    price = \"NA\"\n",
    "data = [year, brand, series, model, price] + result\n",
    "print(data)\n",
    "try:\n",
    "    row = pd.Series(data,\n",
    "                    index=[\"年份\", \"品牌\", \"車系\", \"車型\", \"價格\", \"動力型式\", \"排氣量\", \"驅動型式\", \"輪胎尺碼\", \"車身型式\", \"車重\"])\n",
    "except ValueError:\n",
    "    # with open(\"fail_extract_log.csv\", \"a\", newline=\"\") as f:\n",
    "    #     writer = csv.writer(f)\n",
    "    #     writer.writerow([url, result, data])\n",
    "    pass\n",
    "else:\n",
    "    print(row)\n",
    "    df = df.append(row, ignore_index=True)"
   ]
  },
  {
   "cell_type": "code",
   "execution_count": null,
   "id": "468deafa-cd60-46f5-b10b-0ee7b573b711",
   "metadata": {},
   "outputs": [],
   "source": [
    "df.drop_duplicates(inplace=True)\n",
    "df"
   ]
  },
  {
   "cell_type": "code",
   "execution_count": null,
   "id": "c54f2b66-a3a7-4339-b6f8-5b8486e862c8",
   "metadata": {},
   "outputs": [],
   "source": [
    "df = pd.DataFrame(columns=[\"年份\", \"品牌\", \"車系\", \"車型\", \"價格\", \"動力型式\", \"排氣量\", \"驅動型式\", \"輪胎尺碼\", \"車身型式\", \"車重\"])"
   ]
  },
  {
   "cell_type": "code",
   "execution_count": null,
   "id": "b37de7a2-85b7-48d3-babd-afe3b463169f",
   "metadata": {},
   "outputs": [],
   "source": [
    "class RetrieveData:\n",
    "    def __init__(self):\n",
    "        self.fail_log = self.logCsvToList()\n",
    "        self.df = pd.DataFrame(columns=[\"年份\", \"品牌\", \"車系\", \"車型\", \"價格\", \"動力型式\", \"排氣量\", \"驅動型式\", \"輪胎尺碼\", \"車身型式\", \"車重\"])\n",
    "    \n",
    "    def logCsvToList(self):\n",
    "        fail_list = pd.read_csv(r\"C:\\Users\\kc.hsu\\Python workspace\\sales_related\\測試區\\fail_extract_log.csv\", header=None)[0].values.tolist()\n",
    "        return fail_list\n",
    "    \n",
    "    def retrieve(self):\n",
    "        for link in self.fail_log:\n",
    "            res = requests.get(link, headers=headers)\n",
    "            try:\n",
    "                for data in res.iter_content(chunk_size=1024):\n",
    "                    data\n",
    "            except:\n",
    "                print(\"Failed\")\n",
    "                pass\n",
    "            else:\n",
    "                parser = HTMLParser(res.text)\n",
    "                values = parser.css(\"div.body-wrapper > div.main > div.trim-main > div.trim-spec-detail > div:nth-child(1) > ul > li > span:nth-child(2n)\")\n",
    "                keys = parser.css(\"div.body-wrapper > div.main > div.trim-main > div.trim-spec-detail > div:nth-child(1) > ul > li > span:nth-child(2n-1)\")\n",
    "                target_info = [\"動力型式\", \"排氣量\", \"驅動型式\", \"輪胎尺碼\", \"車身型式\", \"車重\"]\n",
    "                info_dict = dict()\n",
    "                for key, value in zip(keys, values):\n",
    "                    # print(key.text(), value.text())\n",
    "                    if key.text().strip() in target_info:\n",
    "                        info_dict.setdefault(key.text().strip(), value.text().strip())\n",
    "                result = list(info_dict.values())\n",
    "                print(result)\n",
    "                if \"排氣量\" not in info_dict.keys():\n",
    "                    result.insert(1, \"NA\")\n",
    "                if \"車重\" not in info_dict.keys():\n",
    "                    result.append(\"NA\")\n",
    "                try:\n",
    "                    brand = parser.css_first(\"div.body-wrapper > div.main > div.bread > span > a:nth-child(5)\").text()\n",
    "                except:\n",
    "                    brand = \"NA\"\n",
    "                try:\n",
    "                    year = \\\n",
    "                        parser.css_first(\"div.body-wrapper > div.main > div.bread > span > a:nth-child(7)\").attributes[\n",
    "                            \"title\"][0:4]\n",
    "                except:\n",
    "                    year = \"NA\"\n",
    "                try:\n",
    "                    series = \\\n",
    "                        parser.css_first(\"div.body-wrapper > div.main > div.bread > span > a:nth-child(7)\").attributes[\n",
    "                            \"title\"][5:]\n",
    "                except:\n",
    "                    series = \"NA\"\n",
    "                try:\n",
    "                    model = parser.css_first(\"a.disabled\").text()\n",
    "                except:\n",
    "                    model = \"NA\"\n",
    "                try:\n",
    "                    price = parser.css_first(\n",
    "                        \"div.body-wrapper > div.main > div.trim-main > h3 > span:nth-child(1) > font\").text().strip()\n",
    "                except:\n",
    "                    price = \"NA\"\n",
    "                data = [year, brand, series, model, price] + result\n",
    "                print(data)\n",
    "                try:\n",
    "                    row = pd.Series(data,\n",
    "                                    index=[\"年份\", \"品牌\", \"車系\", \"車型\", \"價格\", \"動力型式\", \"排氣量\", \"驅動型式\", \"輪胎尺碼\", \"車身型式\", \"車重\"])\n",
    "                except ValueError:\n",
    "                    pass\n",
    "                else:\n",
    "                    print(row)\n",
    "                    self.df = self.df.append(row, ignore_index=True)\n",
    "        return self.df\n",
    "    \n",
    "    def reshape(self):\n",
    "        self.df[\"前輪尺寸\"] = self.df[\"輪胎尺碼\"].str.split(\" \", expand=True)[0]\n",
    "        self.df[\"後輪尺寸\"] = self.df[\"輪胎尺碼\"].str.split(\" \", expand=True)[1]\n",
    "        self.df = self.df[[\"年份\", \"品牌\", \"車系\", \"車型\", \"價格\", \"動力型式\", \"排氣量\", \"驅動型式\", \"車身型式\", \"車重\", \"前輪尺寸\", \"後輪尺寸\"]]\n",
    "        return self.df\n",
    "    \n",
    "    \n",
    "        \n",
    "    \n",
    "    "
   ]
  },
  {
   "cell_type": "code",
   "execution_count": null,
   "id": "b27fb254-debe-456c-a1c2-ffe091836ef3",
   "metadata": {},
   "outputs": [],
   "source": [
    "result = RetrieveData()\n",
    "result = result.retrieve().reshape()\n",
    "result"
   ]
  },
  {
   "attachments": {},
   "cell_type": "markdown",
   "id": "bbcf323c-204c-4405-99f4-d08ab9558584",
   "metadata": {},
   "source": [
    "## 測試多線程"
   ]
  },
  {
   "cell_type": "code",
   "execution_count": null,
   "id": "27997dbb-302c-4761-915d-281c4926176d",
   "metadata": {},
   "outputs": [],
   "source": [
    "file_size = os.stat(r\"C:\\Users\\kc.hsu\\Python workspace\\sales_related\\測試區\\fail_extract_log.xlsx\").st_size"
   ]
  },
  {
   "cell_type": "code",
   "execution_count": null,
   "id": "21579287-0705-4c54-a8df-da2c3702906b",
   "metadata": {},
   "outputs": [],
   "source": [
    "if file_size > 0:\n",
    "    "
   ]
  },
  {
   "cell_type": "code",
   "execution_count": null,
   "id": "24333537-b041-49f7-8682-aaa4af049e80",
   "metadata": {},
   "outputs": [],
   "source": [
    "links = pd.read_excel(r\"C:\\Users\\kc.hsu\\Python workspace\\sales_related\\測試區\\fail_extract_log.xlsx\", header=None)[0].values.tolist()"
   ]
  },
  {
   "cell_type": "code",
   "execution_count": null,
   "id": "87788c8e-3512-4522-81bf-39781d3b5e1b",
   "metadata": {},
   "outputs": [],
   "source": [
    "df = pd.DataFrame(columns=[\"年份\", \"品牌\", \"車系\", \"車型\", \"價格\", \"動力型式\", \"排氣量\", \"驅動型式\", \"輪胎尺碼\", \"車身型式\", \"車重\"])"
   ]
  },
  {
   "cell_type": "code",
   "execution_count": null,
   "id": "ca9678a0-0121-440b-aab8-c4694f76be24",
   "metadata": {},
   "outputs": [],
   "source": [
    "def retrieve(url):\n",
    "    res = requests.get(url, headers=headers)\n",
    "    try:\n",
    "        for data in res.iter_content(chunk_size=1024):\n",
    "            data\n",
    "    except:\n",
    "        print(\"Failed\")\n",
    "        pass\n",
    "    else:\n",
    "        parser = HTMLParser(res.text)\n",
    "        values = parser.css(\"div.body-wrapper > div.main > div.trim-main > div.trim-spec-detail > div:nth-child(1) > ul > li > span:nth-child(2n)\")\n",
    "        keys = parser.css(\"div.body-wrapper > div.main > div.trim-main > div.trim-spec-detail > div:nth-child(1) > ul > li > span:nth-child(2n-1)\")\n",
    "        target_info = [\"動力型式\", \"排氣量\", \"驅動型式\", \"輪胎尺碼\", \"車身型式\", \"車重\"]\n",
    "        info_dict = dict()\n",
    "        for key, value in zip(keys, values):\n",
    "            # print(key.text(), value.text())\n",
    "            if key.text().strip() in target_info:\n",
    "                info_dict.setdefault(key.text().strip(), value.text().strip())\n",
    "        result = list(info_dict.values())\n",
    "        # print(result)\n",
    "        if \"排氣量\" not in info_dict.keys():\n",
    "            result.insert(1, \"NA\")\n",
    "        if \"車重\" not in info_dict.keys():\n",
    "            result.append(\"NA\")\n",
    "        try:\n",
    "            brand = parser.css_first(\"div.body-wrapper > div.main > div.bread > span > a:nth-child(5)\").text()\n",
    "        except:\n",
    "            brand = \"NA\"\n",
    "        try:\n",
    "            year = \\\n",
    "                parser.css_first(\"div.body-wrapper > div.main > div.bread > span > a:nth-child(7)\").attributes[\n",
    "                    \"title\"][0:4]\n",
    "        except:\n",
    "            year = \"NA\"\n",
    "        try:\n",
    "            series = \\\n",
    "                parser.css_first(\"div.body-wrapper > div.main > div.bread > span > a:nth-child(7)\").attributes[\n",
    "                    \"title\"][5:]\n",
    "        except:\n",
    "            series = \"NA\"\n",
    "        try:\n",
    "            model = parser.css_first(\"a.disabled\").text()\n",
    "        except:\n",
    "            model = \"NA\"\n",
    "        try:\n",
    "            price = parser.css_first(\n",
    "                \"div.body-wrapper > div.main > div.trim-main > h3 > span:nth-child(1) > font\").text().strip()\n",
    "        except:\n",
    "            price = \"NA\"\n",
    "        data = [year, brand, series, model, price] + result\n",
    "        # print(data)\n",
    "        try:\n",
    "            row = pd.Series(data,\n",
    "                            index=[\"年份\", \"品牌\", \"車系\", \"車型\", \"價格\", \"動力型式\", \"排氣量\", \"驅動型式\", \"輪胎尺碼\", \"車身型式\", \"車重\"])\n",
    "        except ValueError:\n",
    "            pass\n",
    "        else:\n",
    "            # print(row)\n",
    "            # df = df.append(row, ignore_index=True)\n",
    "            return row"
   ]
  },
  {
   "cell_type": "code",
   "execution_count": null,
   "id": "c6c4e863-ce11-46f3-bb65-363b7ea3fe48",
   "metadata": {},
   "outputs": [],
   "source": [
    "with ThreadPoolExecutor(max_workers=10) as executor:\n",
    "    results = executor.map(retrieve, links)\n",
    "for r in results:\n",
    "    # print(r)\n",
    "    df = df.append(r, ignore_index=True)\n",
    "df[\"前輪尺寸\"] = df[\"輪胎尺碼\"].str.split(\" \", expand=True)[0]\n",
    "df[\"後輪尺寸\"] = df[\"輪胎尺碼\"].str.split(\" \", expand=True)[1]\n",
    "df = df[[\"年份\", \"品牌\", \"車系\", \"車型\", \"價格\", \"動力型式\", \"排氣量\", \"驅動型式\", \"車身型式\", \"車重\", \"前輪尺寸\", \"後輪尺寸\"]]\n",
    "print(df.shape)\n",
    "df.drop_duplicates(inplace=True)\n",
    "print(df.shape)"
   ]
  },
  {
   "cell_type": "code",
   "execution_count": null,
   "id": "3f95e12d-5eb4-41f4-a50a-f578e8b23d42",
   "metadata": {},
   "outputs": [],
   "source": [
    "yahoo = pd.read_excel(r\"C:\\Users\\kc.hsu\\Python workspace\\sales_related\\測試區\\yahoo_car_oe_spec.xlsx\")"
   ]
  },
  {
   "cell_type": "code",
   "execution_count": null,
   "id": "4d05c9ce-7887-4361-aa24-36df045d6229",
   "metadata": {},
   "outputs": [],
   "source": [
    "final_yahoo = pd.concat([yahoo, df]).drop_duplicates().reset_index(drop=True)"
   ]
  },
  {
   "cell_type": "code",
   "execution_count": null,
   "id": "24b07cc8-4946-414f-889a-7f891b433b51",
   "metadata": {},
   "outputs": [],
   "source": [
    "final_yahoo.to_excel(r\"D:\\kc.hsu\\OneDrive - Bridgestone\\數據\\Yahoo汽車OE size.xlsx\", index=False)"
   ]
  },
  {
   "cell_type": "code",
   "execution_count": null,
   "id": "152e474c-c2b1-4455-86c9-836f7e4aec2a",
   "metadata": {},
   "outputs": [],
   "source": [
    "v = [\"1\", \"2\", \"3\"]\n",
    "k = [\"a\", \"b\", \"c\"]"
   ]
  },
  {
   "cell_type": "code",
   "execution_count": null,
   "id": "177d3fd1-6ba8-4ce0-ae55-5a9cf09f98d4",
   "metadata": {},
   "outputs": [],
   "source": [
    "{\"test\" + str(k): v for k, v in zip(k,v)}"
   ]
  },
  {
   "cell_type": "code",
   "execution_count": null,
   "id": "58f2043b-189c-4172-a4c1-378e8b0e111d",
   "metadata": {},
   "outputs": [],
   "source": [
    "{k: v for k, v in zip(k, v)}"
   ]
  }
 ],
 "metadata": {
  "kernelspec": {
   "display_name": "Python 3 (ipykernel)",
   "language": "python",
   "name": "python3"
  },
  "language_info": {
   "codemirror_mode": {
    "name": "ipython",
    "version": 3
   },
   "file_extension": ".py",
   "mimetype": "text/x-python",
   "name": "python",
   "nbconvert_exporter": "python",
   "pygments_lexer": "ipython3",
   "version": "3.10.6"
  }
 },
 "nbformat": 4,
 "nbformat_minor": 5
}
