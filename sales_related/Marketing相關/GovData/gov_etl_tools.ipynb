{
 "cells": [
  {
   "cell_type": "code",
   "execution_count": 1,
   "metadata": {},
   "outputs": [],
   "source": [
    "import pandas as pd\n",
    "pd.set_option(\"display.max_columns\", None)\n",
    "import os\n",
    "import warnings\n",
    "warnings.filterwarnings(\"ignore\")\n",
    "import tkinter as tk\n",
    "from tkinter import filedialog"
   ]
  },
  {
   "cell_type": "markdown",
   "metadata": {},
   "source": [
    "### 選取檔案夾路徑"
   ]
  },
  {
   "cell_type": "code",
   "execution_count": null,
   "metadata": {},
   "outputs": [],
   "source": [
    "root = tk.Tk()\n",
    "root.withdraw()\n",
    "folder = filedialog.askdirectory()"
   ]
  },
  {
   "cell_type": "markdown",
   "metadata": {},
   "source": [
    "### 將所有的汽柴油銷售量的檔案合併\n",
    "來源：https://data.gov.tw/dataset/8849"
   ]
  },
  {
   "cell_type": "code",
   "execution_count": null,
   "metadata": {},
   "outputs": [],
   "source": [
    "dfs = []\n",
    "\n",
    "for i in os.walk(folder):\n",
    "    if \".DS_Store\" in i[-1] or len(i[-1]) == 0:\n",
    "        pass\n",
    "    else:\n",
    "        base_path = i[0]\n",
    "        for file in i[-1]:\n",
    "            path = base_path + \"/\" + file\n",
    "            df = pd.read_csv(path, header=3, usecols=[\"縣市別\", \"汽　油\", \"柴　油\"]).iloc[:21]\n",
    "            date = path.split(\".\")[-2][-5:]\n",
    "            new_date = str(int(date[:3]) + 1911) + date[3:]\n",
    "            df[\"年月\"] = new_date\n",
    "            df[\"年月\"] = pd.to_datetime(df[\"年月\"], format=\"%Y%m\")\n",
    "            df[\"汽　油\"] = df[\"汽　油\"].map(lambda x: x.replace(\",\", \"\")).astype(int)\n",
    "            df[\"柴　油\"] = df[\"柴　油\"].map(lambda x: x.replace(\",\", \"\")).astype(int)\n",
    "            df.columns = [\"縣市別\", \"汽油\", \"柴油\", \"年月\"]\n",
    "            dfs.append(df)\n",
    "\n",
    "result = pd.concat(dfs, ignore_index=True)\n",
    "result.to_csv(r\"D:\\kc.hsu\\OneDrive - Bridgestone\\數據\\市場資訊\\汽柴油消耗\\各縣市汽柴油銷售量.csv\", index=False, encoding=\"utf-8-sig\")\n",
    "        "
   ]
  }
 ],
 "metadata": {
  "kernelspec": {
   "display_name": "python_env",
   "language": "python",
   "name": "python3"
  },
  "language_info": {
   "codemirror_mode": {
    "name": "ipython",
    "version": 3
   },
   "file_extension": ".py",
   "mimetype": "text/x-python",
   "name": "python",
   "nbconvert_exporter": "python",
   "pygments_lexer": "ipython3",
   "version": "3.10.6"
  },
  "orig_nbformat": 4
 },
 "nbformat": 4,
 "nbformat_minor": 2
}
