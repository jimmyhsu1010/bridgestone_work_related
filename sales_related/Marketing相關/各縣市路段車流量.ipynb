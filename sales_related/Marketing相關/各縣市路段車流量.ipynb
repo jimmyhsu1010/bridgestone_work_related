{
 "cells": [
  {
   "cell_type": "code",
   "execution_count": 1,
   "metadata": {},
   "outputs": [],
   "source": [
    "import pandas as pd\n",
    "pd.set_option(\"display.max_columns\", None)\n",
    "import plotly.express as px"
   ]
  },
  {
   "cell_type": "markdown",
   "metadata": {},
   "source": [
    "## 客戶選址分析思路"
   ]
  },
  {
   "cell_type": "code",
   "execution_count": 2,
   "metadata": {},
   "outputs": [],
   "source": [
    "df = pd.read_csv(r\"D:\\kc.hsu\\OneDrive - Bridgestone\\數據\\TDX\\即時路況\\臺北市車輛偵測器即時路況歷史資料2023-07-18.CSV\")"
   ]
  },
  {
   "cell_type": "code",
   "execution_count": 3,
   "metadata": {},
   "outputs": [
    {
     "data": {
      "text/plain": [
       "Index(['VDID', 'HostAuthorityCode', 'AuthorityCode', 'SubAuthorityCode',\n",
       "       'LinkID', 'LaneID', 'LaneType', 'LaneSpeed', 'Occupany', 'VehicleType',\n",
       "       'VehicleVolume', 'VehicleSpeed', 'ErrTp', 'RecurrentTimes',\n",
       "       'RecurrentZeroTimes', 'Status', 'DataCollectTime', 'SrcUpdateTime',\n",
       "       'UpdateTime', 'InfoTime', 'InfoDate'],\n",
       "      dtype='object')"
      ]
     },
     "execution_count": 3,
     "metadata": {},
     "output_type": "execute_result"
    }
   ],
   "source": [
    "df.columns"
   ]
  },
  {
   "cell_type": "code",
   "execution_count": 4,
   "metadata": {},
   "outputs": [],
   "source": [
    "# 將設備狀態正常的和車輛類型是小型車還有車輛數是>0的篩選出來\n",
    "df = df[(df[\"Status\"] == \"正常\") & (df[\"VehicleType\"] == \"S\") & (df[\"VehicleVolume\"] > 0)]"
   ]
  },
  {
   "cell_type": "code",
   "execution_count": 5,
   "metadata": {},
   "outputs": [
    {
     "data": {
      "text/plain": [
       "(1950479, 21)"
      ]
     },
     "execution_count": 5,
     "metadata": {},
     "output_type": "execute_result"
    }
   ],
   "source": [
    "df.shape"
   ]
  },
  {
   "cell_type": "code",
   "execution_count": 6,
   "metadata": {},
   "outputs": [],
   "source": [
    "# 將資料收集時間轉為時間日期格式\n",
    "df[\"DataCollectTime\"] = pd.to_datetime(df[\"DataCollectTime\"])"
   ]
  },
  {
   "cell_type": "code",
   "execution_count": 7,
   "metadata": {},
   "outputs": [],
   "source": [
    "ref = pd.read_csv(r\"D:\\kc.hsu\\OneDrive - Bridgestone\\數據\\TDX\\即時路況\\臺北市車輛偵測器歷史資料2023-07-17.CSV\")"
   ]
  },
  {
   "cell_type": "code",
   "execution_count": 8,
   "metadata": {},
   "outputs": [
    {
     "data": {
      "text/html": [
       "<div><div id=7b8c58f5-a99c-4d75-9341-8793d13d65be style=\"display:none; background-color:#9D6CFF; color:white; width:200px; height:30px; padding-left:5px; border-radius:4px; flex-direction:row; justify-content:space-around; align-items:center;\" onmouseover=\"this.style.backgroundColor='#BA9BF8'\" onmouseout=\"this.style.backgroundColor='#9D6CFF'\" onclick=\"window.commands?.execute('create-mitosheet-from-dataframe-output');\">See Full Dataframe in Mito</div> <script> if (window.commands?.hasCommand('create-mitosheet-from-dataframe-output')) document.getElementById('7b8c58f5-a99c-4d75-9341-8793d13d65be').style.display = 'flex' </script> <table border=\"1\" class=\"dataframe\">\n",
       "  <thead>\n",
       "    <tr style=\"text-align: right;\">\n",
       "      <th></th>\n",
       "      <th>VDID</th>\n",
       "      <th>AuthorityCode</th>\n",
       "      <th>SubAuthorityCode</th>\n",
       "      <th>BiDirectional</th>\n",
       "      <th>LinkID</th>\n",
       "      <th>Bearing</th>\n",
       "      <th>RoadDirection</th>\n",
       "      <th>LaneNum</th>\n",
       "      <th>ActualLaneNum</th>\n",
       "      <th>VDType</th>\n",
       "      <th>LocationType</th>\n",
       "      <th>DetectionType</th>\n",
       "      <th>PositionLon</th>\n",
       "      <th>PositionLat</th>\n",
       "      <th>Geohash</th>\n",
       "      <th>CountyID</th>\n",
       "      <th>CountyName</th>\n",
       "      <th>TownID</th>\n",
       "      <th>TownName</th>\n",
       "      <th>RoadID</th>\n",
       "      <th>RoadName</th>\n",
       "      <th>RoadClass</th>\n",
       "      <th>RoadSectionStart</th>\n",
       "      <th>RoadSectionEnd</th>\n",
       "      <th>LocationMile</th>\n",
       "      <th>SrcUpdateTime</th>\n",
       "      <th>UpdateTime</th>\n",
       "      <th>InfoTime</th>\n",
       "      <th>InfoDate</th>\n",
       "    </tr>\n",
       "  </thead>\n",
       "  <tbody>\n",
       "    <tr>\n",
       "      <th>0</th>\n",
       "      <td>V1NMM20</td>\n",
       "      <td>TPE</td>\n",
       "      <td>NaN</td>\n",
       "      <td>偵測雙向</td>\n",
       "      <td>6004570600020A</td>\n",
       "      <td>W</td>\n",
       "      <td>W</td>\n",
       "      <td>2</td>\n",
       "      <td>2</td>\n",
       "      <td>線圈式</td>\n",
       "      <td>NaN</td>\n",
       "      <td>高快速公路_市快主線</td>\n",
       "      <td>121.54813</td>\n",
       "      <td>24.98710</td>\n",
       "      <td>wsqqjuu8</td>\n",
       "      <td>63000</td>\n",
       "      <td>臺北市</td>\n",
       "      <td>8</td>\n",
       "      <td>文山區</td>\n",
       "      <td>600457A</td>\n",
       "      <td>木柵路一段</td>\n",
       "      <td>NaN</td>\n",
       "      <td>NaN</td>\n",
       "      <td>NaN</td>\n",
       "      <td>NaN</td>\n",
       "      <td>2023-07-17 00:00:00+08:00</td>\n",
       "      <td>2023-07-18 01:45:44+08:00</td>\n",
       "      <td>2023-07-17 00:00:00+08:00</td>\n",
       "      <td>2023-07-17</td>\n",
       "    </tr>\n",
       "    <tr>\n",
       "      <th>1</th>\n",
       "      <td>V1NMM20</td>\n",
       "      <td>TPE</td>\n",
       "      <td>NaN</td>\n",
       "      <td>偵測雙向</td>\n",
       "      <td>6004570200020A</td>\n",
       "      <td>E</td>\n",
       "      <td>E</td>\n",
       "      <td>2</td>\n",
       "      <td>2</td>\n",
       "      <td>線圈式</td>\n",
       "      <td>NaN</td>\n",
       "      <td>高快速公路_市快主線</td>\n",
       "      <td>121.54813</td>\n",
       "      <td>24.98710</td>\n",
       "      <td>wsqqjuu8</td>\n",
       "      <td>63000</td>\n",
       "      <td>臺北市</td>\n",
       "      <td>8</td>\n",
       "      <td>文山區</td>\n",
       "      <td>600457A</td>\n",
       "      <td>木柵路一段</td>\n",
       "      <td>NaN</td>\n",
       "      <td>NaN</td>\n",
       "      <td>NaN</td>\n",
       "      <td>NaN</td>\n",
       "      <td>2023-07-17 00:00:00+08:00</td>\n",
       "      <td>2023-07-18 01:45:44+08:00</td>\n",
       "      <td>2023-07-17 00:00:00+08:00</td>\n",
       "      <td>2023-07-17</td>\n",
       "    </tr>\n",
       "    <tr>\n",
       "      <th>2</th>\n",
       "      <td>V1010A0</td>\n",
       "      <td>TPE</td>\n",
       "      <td>NaN</td>\n",
       "      <td>偵測單向</td>\n",
       "      <td>2000400100400A</td>\n",
       "      <td>N</td>\n",
       "      <td>N</td>\n",
       "      <td>3</td>\n",
       "      <td>3</td>\n",
       "      <td>線圈式</td>\n",
       "      <td>NaN</td>\n",
       "      <td>高快速公路_市快主線</td>\n",
       "      <td>121.53778</td>\n",
       "      <td>25.02761</td>\n",
       "      <td>wsqqmsjh</td>\n",
       "      <td>63000</td>\n",
       "      <td>臺北市</td>\n",
       "      <td>3</td>\n",
       "      <td>大安區</td>\n",
       "      <td>200040</td>\n",
       "      <td>建國南北快速道路</td>\n",
       "      <td>NaN</td>\n",
       "      <td>NaN</td>\n",
       "      <td>NaN</td>\n",
       "      <td>NaN</td>\n",
       "      <td>2023-07-17 00:00:00+08:00</td>\n",
       "      <td>2023-07-18 01:45:44+08:00</td>\n",
       "      <td>2023-07-17 00:00:00+08:00</td>\n",
       "      <td>2023-07-17</td>\n",
       "    </tr>\n",
       "    <tr>\n",
       "      <th>3</th>\n",
       "      <td>V0130A0</td>\n",
       "      <td>TPE</td>\n",
       "      <td>NaN</td>\n",
       "      <td>偵測單向</td>\n",
       "      <td>2000201002000A</td>\n",
       "      <td>E</td>\n",
       "      <td>E</td>\n",
       "      <td>3</td>\n",
       "      <td>3</td>\n",
       "      <td>線圈式</td>\n",
       "      <td>NaN</td>\n",
       "      <td>高快速公路_市快主線</td>\n",
       "      <td>121.51876</td>\n",
       "      <td>25.04831</td>\n",
       "      <td>wsqqmpzk</td>\n",
       "      <td>63000</td>\n",
       "      <td>臺北市</td>\n",
       "      <td>5</td>\n",
       "      <td>中正區</td>\n",
       "      <td>200020</td>\n",
       "      <td>市民大道高架道路</td>\n",
       "      <td>NaN</td>\n",
       "      <td>NaN</td>\n",
       "      <td>NaN</td>\n",
       "      <td>NaN</td>\n",
       "      <td>2023-07-17 00:00:00+08:00</td>\n",
       "      <td>2023-07-18 01:45:44+08:00</td>\n",
       "      <td>2023-07-17 00:00:00+08:00</td>\n",
       "      <td>2023-07-17</td>\n",
       "    </tr>\n",
       "    <tr>\n",
       "      <th>4</th>\n",
       "      <td>V0380F0</td>\n",
       "      <td>TPE</td>\n",
       "      <td>NaN</td>\n",
       "      <td>偵測單向</td>\n",
       "      <td>2000200100610A</td>\n",
       "      <td>SW</td>\n",
       "      <td>W</td>\n",
       "      <td>2</td>\n",
       "      <td>2</td>\n",
       "      <td>線圈式</td>\n",
       "      <td>NaN</td>\n",
       "      <td>高快速公路_市快主線</td>\n",
       "      <td>121.56620</td>\n",
       "      <td>25.04546</td>\n",
       "      <td>wsqqqr3u</td>\n",
       "      <td>63000</td>\n",
       "      <td>臺北市</td>\n",
       "      <td>2</td>\n",
       "      <td>信義區</td>\n",
       "      <td>200020</td>\n",
       "      <td>市民大道高架道路</td>\n",
       "      <td>NaN</td>\n",
       "      <td>NaN</td>\n",
       "      <td>NaN</td>\n",
       "      <td>NaN</td>\n",
       "      <td>2023-07-17 00:00:00+08:00</td>\n",
       "      <td>2023-07-18 01:45:44+08:00</td>\n",
       "      <td>2023-07-17 00:00:00+08:00</td>\n",
       "      <td>2023-07-17</td>\n",
       "    </tr>\n",
       "    <tr>\n",
       "      <th>...</th>\n",
       "      <td>...</td>\n",
       "      <td>...</td>\n",
       "      <td>...</td>\n",
       "      <td>...</td>\n",
       "      <td>...</td>\n",
       "      <td>...</td>\n",
       "      <td>...</td>\n",
       "      <td>...</td>\n",
       "      <td>...</td>\n",
       "      <td>...</td>\n",
       "      <td>...</td>\n",
       "      <td>...</td>\n",
       "      <td>...</td>\n",
       "      <td>...</td>\n",
       "      <td>...</td>\n",
       "      <td>...</td>\n",
       "      <td>...</td>\n",
       "      <td>...</td>\n",
       "      <td>...</td>\n",
       "      <td>...</td>\n",
       "      <td>...</td>\n",
       "      <td>...</td>\n",
       "      <td>...</td>\n",
       "      <td>...</td>\n",
       "      <td>...</td>\n",
       "      <td>...</td>\n",
       "      <td>...</td>\n",
       "      <td>...</td>\n",
       "      <td>...</td>\n",
       "    </tr>\n",
       "    <tr>\n",
       "      <th>965</th>\n",
       "      <td>VSMPW60</td>\n",
       "      <td>TPE</td>\n",
       "      <td>NaN</td>\n",
       "      <td>偵測雙向</td>\n",
       "      <td>6005120200030A</td>\n",
       "      <td>E</td>\n",
       "      <td>E</td>\n",
       "      <td>2</td>\n",
       "      <td>2</td>\n",
       "      <td>微波式</td>\n",
       "      <td>NaN</td>\n",
       "      <td>其它道路路口_靠近路口或停止線</td>\n",
       "      <td>121.55623</td>\n",
       "      <td>25.07994</td>\n",
       "      <td>wsqqwjdt</td>\n",
       "      <td>63000</td>\n",
       "      <td>臺北市</td>\n",
       "      <td>4</td>\n",
       "      <td>中山區</td>\n",
       "      <td>600512A</td>\n",
       "      <td>樂群二路</td>\n",
       "      <td>NaN</td>\n",
       "      <td>NaN</td>\n",
       "      <td>NaN</td>\n",
       "      <td>NaN</td>\n",
       "      <td>2023-07-17 00:00:00+08:00</td>\n",
       "      <td>2023-07-18 01:45:44+08:00</td>\n",
       "      <td>2023-07-17 00:00:00+08:00</td>\n",
       "      <td>2023-07-17</td>\n",
       "    </tr>\n",
       "    <tr>\n",
       "      <th>966</th>\n",
       "      <td>VVVGB40</td>\n",
       "      <td>TPE</td>\n",
       "      <td>NaN</td>\n",
       "      <td>偵測雙向</td>\n",
       "      <td>6003750700000A</td>\n",
       "      <td>NW</td>\n",
       "      <td>NW</td>\n",
       "      <td>4</td>\n",
       "      <td>4</td>\n",
       "      <td>線圈式</td>\n",
       "      <td>NaN</td>\n",
       "      <td>高快速公路_市快主線</td>\n",
       "      <td>121.51434</td>\n",
       "      <td>25.09452</td>\n",
       "      <td>wsqqv0k4</td>\n",
       "      <td>63000</td>\n",
       "      <td>臺北市</td>\n",
       "      <td>11</td>\n",
       "      <td>士林區</td>\n",
       "      <td>600375A</td>\n",
       "      <td>承德路五段</td>\n",
       "      <td>NaN</td>\n",
       "      <td>NaN</td>\n",
       "      <td>NaN</td>\n",
       "      <td>NaN</td>\n",
       "      <td>2023-07-17 00:00:00+08:00</td>\n",
       "      <td>2023-07-18 01:45:44+08:00</td>\n",
       "      <td>2023-07-17 00:00:00+08:00</td>\n",
       "      <td>2023-07-17</td>\n",
       "    </tr>\n",
       "    <tr>\n",
       "      <th>967</th>\n",
       "      <td>VVVGB40</td>\n",
       "      <td>TPE</td>\n",
       "      <td>NaN</td>\n",
       "      <td>偵測雙向</td>\n",
       "      <td>6003750300000A</td>\n",
       "      <td>SE</td>\n",
       "      <td>SE</td>\n",
       "      <td>2</td>\n",
       "      <td>2</td>\n",
       "      <td>線圈式</td>\n",
       "      <td>NaN</td>\n",
       "      <td>高快速公路_市快主線</td>\n",
       "      <td>121.51434</td>\n",
       "      <td>25.09452</td>\n",
       "      <td>wsqqv0k4</td>\n",
       "      <td>63000</td>\n",
       "      <td>臺北市</td>\n",
       "      <td>11</td>\n",
       "      <td>士林區</td>\n",
       "      <td>600375A</td>\n",
       "      <td>承德路五段</td>\n",
       "      <td>NaN</td>\n",
       "      <td>NaN</td>\n",
       "      <td>NaN</td>\n",
       "      <td>NaN</td>\n",
       "      <td>2023-07-17 00:00:00+08:00</td>\n",
       "      <td>2023-07-18 01:45:44+08:00</td>\n",
       "      <td>2023-07-17 00:00:00+08:00</td>\n",
       "      <td>2023-07-17</td>\n",
       "    </tr>\n",
       "    <tr>\n",
       "      <th>968</th>\n",
       "      <td>VZLKH60</td>\n",
       "      <td>TPE</td>\n",
       "      <td>NaN</td>\n",
       "      <td>偵測雙向</td>\n",
       "      <td>6003260200020A</td>\n",
       "      <td>E</td>\n",
       "      <td>E</td>\n",
       "      <td>1</td>\n",
       "      <td>1</td>\n",
       "      <td>線圈式</td>\n",
       "      <td>NaN</td>\n",
       "      <td>高快速公路_市快主線</td>\n",
       "      <td>121.53722</td>\n",
       "      <td>25.11057</td>\n",
       "      <td>wsqqvehx</td>\n",
       "      <td>63000</td>\n",
       "      <td>臺北市</td>\n",
       "      <td>11</td>\n",
       "      <td>士林區</td>\n",
       "      <td>600326A</td>\n",
       "      <td>德行東路</td>\n",
       "      <td>NaN</td>\n",
       "      <td>NaN</td>\n",
       "      <td>NaN</td>\n",
       "      <td>NaN</td>\n",
       "      <td>2023-07-17 00:00:00+08:00</td>\n",
       "      <td>2023-07-18 01:45:44+08:00</td>\n",
       "      <td>2023-07-17 00:00:00+08:00</td>\n",
       "      <td>2023-07-17</td>\n",
       "    </tr>\n",
       "    <tr>\n",
       "      <th>969</th>\n",
       "      <td>VZLKH60</td>\n",
       "      <td>TPE</td>\n",
       "      <td>NaN</td>\n",
       "      <td>偵測雙向</td>\n",
       "      <td>6003260600020A</td>\n",
       "      <td>W</td>\n",
       "      <td>W</td>\n",
       "      <td>1</td>\n",
       "      <td>1</td>\n",
       "      <td>線圈式</td>\n",
       "      <td>NaN</td>\n",
       "      <td>高快速公路_市快主線</td>\n",
       "      <td>121.53722</td>\n",
       "      <td>25.11057</td>\n",
       "      <td>wsqqvehx</td>\n",
       "      <td>63000</td>\n",
       "      <td>臺北市</td>\n",
       "      <td>11</td>\n",
       "      <td>士林區</td>\n",
       "      <td>600326A</td>\n",
       "      <td>德行東路</td>\n",
       "      <td>NaN</td>\n",
       "      <td>NaN</td>\n",
       "      <td>NaN</td>\n",
       "      <td>NaN</td>\n",
       "      <td>2023-07-17 00:00:00+08:00</td>\n",
       "      <td>2023-07-18 01:45:44+08:00</td>\n",
       "      <td>2023-07-17 00:00:00+08:00</td>\n",
       "      <td>2023-07-17</td>\n",
       "    </tr>\n",
       "  </tbody>\n",
       "</table></div>"
      ],
      "text/plain": [
       "        VDID AuthorityCode  SubAuthorityCode BiDirectional          LinkID  \\\n",
       "0    V1NMM20           TPE               NaN          偵測雙向  6004570600020A   \n",
       "1    V1NMM20           TPE               NaN          偵測雙向  6004570200020A   \n",
       "2    V1010A0           TPE               NaN          偵測單向  2000400100400A   \n",
       "3    V0130A0           TPE               NaN          偵測單向  2000201002000A   \n",
       "4    V0380F0           TPE               NaN          偵測單向  2000200100610A   \n",
       "..       ...           ...               ...           ...             ...   \n",
       "965  VSMPW60           TPE               NaN          偵測雙向  6005120200030A   \n",
       "966  VVVGB40           TPE               NaN          偵測雙向  6003750700000A   \n",
       "967  VVVGB40           TPE               NaN          偵測雙向  6003750300000A   \n",
       "968  VZLKH60           TPE               NaN          偵測雙向  6003260200020A   \n",
       "969  VZLKH60           TPE               NaN          偵測雙向  6003260600020A   \n",
       "\n",
       "    Bearing RoadDirection  LaneNum  ActualLaneNum VDType  LocationType  \\\n",
       "0         W             W        2              2    線圈式           NaN   \n",
       "1         E             E        2              2    線圈式           NaN   \n",
       "2         N             N        3              3    線圈式           NaN   \n",
       "3         E             E        3              3    線圈式           NaN   \n",
       "4        SW             W        2              2    線圈式           NaN   \n",
       "..      ...           ...      ...            ...    ...           ...   \n",
       "965       E             E        2              2    微波式           NaN   \n",
       "966      NW            NW        4              4    線圈式           NaN   \n",
       "967      SE            SE        2              2    線圈式           NaN   \n",
       "968       E             E        1              1    線圈式           NaN   \n",
       "969       W             W        1              1    線圈式           NaN   \n",
       "\n",
       "       DetectionType  PositionLon  PositionLat   Geohash  CountyID CountyName  \\\n",
       "0         高快速公路_市快主線    121.54813     24.98710  wsqqjuu8     63000        臺北市   \n",
       "1         高快速公路_市快主線    121.54813     24.98710  wsqqjuu8     63000        臺北市   \n",
       "2         高快速公路_市快主線    121.53778     25.02761  wsqqmsjh     63000        臺北市   \n",
       "3         高快速公路_市快主線    121.51876     25.04831  wsqqmpzk     63000        臺北市   \n",
       "4         高快速公路_市快主線    121.56620     25.04546  wsqqqr3u     63000        臺北市   \n",
       "..               ...          ...          ...       ...       ...        ...   \n",
       "965  其它道路路口_靠近路口或停止線    121.55623     25.07994  wsqqwjdt     63000        臺北市   \n",
       "966       高快速公路_市快主線    121.51434     25.09452  wsqqv0k4     63000        臺北市   \n",
       "967       高快速公路_市快主線    121.51434     25.09452  wsqqv0k4     63000        臺北市   \n",
       "968       高快速公路_市快主線    121.53722     25.11057  wsqqvehx     63000        臺北市   \n",
       "969       高快速公路_市快主線    121.53722     25.11057  wsqqvehx     63000        臺北市   \n",
       "\n",
       "     TownID TownName   RoadID  RoadName  RoadClass  RoadSectionStart  \\\n",
       "0         8      文山區  600457A     木柵路一段        NaN               NaN   \n",
       "1         8      文山區  600457A     木柵路一段        NaN               NaN   \n",
       "2         3      大安區   200040  建國南北快速道路        NaN               NaN   \n",
       "3         5      中正區   200020  市民大道高架道路        NaN               NaN   \n",
       "4         2      信義區   200020  市民大道高架道路        NaN               NaN   \n",
       "..      ...      ...      ...       ...        ...               ...   \n",
       "965       4      中山區  600512A      樂群二路        NaN               NaN   \n",
       "966      11      士林區  600375A     承德路五段        NaN               NaN   \n",
       "967      11      士林區  600375A     承德路五段        NaN               NaN   \n",
       "968      11      士林區  600326A      德行東路        NaN               NaN   \n",
       "969      11      士林區  600326A      德行東路        NaN               NaN   \n",
       "\n",
       "     RoadSectionEnd  LocationMile              SrcUpdateTime  \\\n",
       "0               NaN           NaN  2023-07-17 00:00:00+08:00   \n",
       "1               NaN           NaN  2023-07-17 00:00:00+08:00   \n",
       "2               NaN           NaN  2023-07-17 00:00:00+08:00   \n",
       "3               NaN           NaN  2023-07-17 00:00:00+08:00   \n",
       "4               NaN           NaN  2023-07-17 00:00:00+08:00   \n",
       "..              ...           ...                        ...   \n",
       "965             NaN           NaN  2023-07-17 00:00:00+08:00   \n",
       "966             NaN           NaN  2023-07-17 00:00:00+08:00   \n",
       "967             NaN           NaN  2023-07-17 00:00:00+08:00   \n",
       "968             NaN           NaN  2023-07-17 00:00:00+08:00   \n",
       "969             NaN           NaN  2023-07-17 00:00:00+08:00   \n",
       "\n",
       "                    UpdateTime                   InfoTime    InfoDate  \n",
       "0    2023-07-18 01:45:44+08:00  2023-07-17 00:00:00+08:00  2023-07-17  \n",
       "1    2023-07-18 01:45:44+08:00  2023-07-17 00:00:00+08:00  2023-07-17  \n",
       "2    2023-07-18 01:45:44+08:00  2023-07-17 00:00:00+08:00  2023-07-17  \n",
       "3    2023-07-18 01:45:44+08:00  2023-07-17 00:00:00+08:00  2023-07-17  \n",
       "4    2023-07-18 01:45:44+08:00  2023-07-17 00:00:00+08:00  2023-07-17  \n",
       "..                         ...                        ...         ...  \n",
       "965  2023-07-18 01:45:44+08:00  2023-07-17 00:00:00+08:00  2023-07-17  \n",
       "966  2023-07-18 01:45:44+08:00  2023-07-17 00:00:00+08:00  2023-07-17  \n",
       "967  2023-07-18 01:45:44+08:00  2023-07-17 00:00:00+08:00  2023-07-17  \n",
       "968  2023-07-18 01:45:44+08:00  2023-07-17 00:00:00+08:00  2023-07-17  \n",
       "969  2023-07-18 01:45:44+08:00  2023-07-17 00:00:00+08:00  2023-07-17  \n",
       "\n",
       "[970 rows x 29 columns]"
      ]
     },
     "execution_count": 8,
     "metadata": {},
     "output_type": "execute_result"
    }
   ],
   "source": [
    "ref"
   ]
  },
  {
   "cell_type": "code",
   "execution_count": 9,
   "metadata": {},
   "outputs": [],
   "source": [
    "ref_dict = dict(zip(ref[\"LinkID\"], ref[[\"TownName\", \"RoadName\"]].apply(tuple, axis=1)))"
   ]
  },
  {
   "cell_type": "code",
   "execution_count": 10,
   "metadata": {},
   "outputs": [],
   "source": [
    "extract_df = pd.DataFrame(df[\"LinkID\"].map(ref_dict).tolist(), index=df.index, columns=[\"TownName\", \"RoadName\"])"
   ]
  },
  {
   "cell_type": "code",
   "execution_count": 11,
   "metadata": {},
   "outputs": [],
   "source": [
    "df = pd.concat([df, extract_df], axis=1)"
   ]
  },
  {
   "cell_type": "code",
   "execution_count": 12,
   "metadata": {},
   "outputs": [],
   "source": [
    "df = df.dropna(subset=[\"RoadName\"])"
   ]
  },
  {
   "cell_type": "code",
   "execution_count": 13,
   "metadata": {},
   "outputs": [],
   "source": [
    "df = df[(~df[\"RoadName\"].str.contains(\"快速|高架|大道|引道\"))]"
   ]
  },
  {
   "cell_type": "code",
   "execution_count": 14,
   "metadata": {},
   "outputs": [
    {
     "data": {
      "text/plain": [
       "(1311528, 23)"
      ]
     },
     "execution_count": 14,
     "metadata": {},
     "output_type": "execute_result"
    }
   ],
   "source": [
    "df.shape"
   ]
  },
  {
   "cell_type": "code",
   "execution_count": 15,
   "metadata": {},
   "outputs": [],
   "source": [
    "result = df.groupby([pd.Grouper(key=\"DataCollectTime\", freq=\"H\"), \"TownName\", 'RoadName'])[[\"VehicleVolume\"]].sum().reset_index()"
   ]
  },
  {
   "cell_type": "code",
   "execution_count": 16,
   "metadata": {},
   "outputs": [
    {
     "data": {
      "text/plain": [
       "(5508, 4)"
      ]
     },
     "execution_count": 16,
     "metadata": {},
     "output_type": "execute_result"
    }
   ],
   "source": [
    "plot = result.copy()\n",
    "plot.shape"
   ]
  },
  {
   "cell_type": "code",
   "execution_count": 17,
   "metadata": {},
   "outputs": [
    {
     "data": {
      "application/vnd.plotly.v1+json": {
       "config": {
        "plotlyServerURL": "https://plot.ly"
       },
       "data": [
        {
         "alignmentgroup": "True",
         "hovertemplate": "TownName=中山區<br>DataCollectTime=%{x}<br>VehicleVolume=%{y}<extra></extra>",
         "legendgroup": "中山區",
         "marker": {
          "color": "#636efa",
          "pattern": {
           "shape": ""
          }
         },
         "name": "中山區",
         "offsetgroup": "中山區",
         "orientation": "v",
         "showlegend": true,
         "textposition": "auto",
         "texttemplate": "%{y}",
         "type": "bar",
         "x": [
          "2023-07-18T00:00:00+08:00",
          "2023-07-18T01:00:00+08:00",
          "2023-07-18T02:00:00+08:00",
          "2023-07-18T03:00:00+08:00",
          "2023-07-18T04:00:00+08:00",
          "2023-07-18T05:00:00+08:00",
          "2023-07-18T06:00:00+08:00",
          "2023-07-18T07:00:00+08:00",
          "2023-07-18T08:00:00+08:00",
          "2023-07-18T09:00:00+08:00",
          "2023-07-18T10:00:00+08:00",
          "2023-07-18T11:00:00+08:00",
          "2023-07-18T12:00:00+08:00",
          "2023-07-18T13:00:00+08:00",
          "2023-07-18T14:00:00+08:00",
          "2023-07-18T15:00:00+08:00",
          "2023-07-18T16:00:00+08:00",
          "2023-07-18T17:00:00+08:00",
          "2023-07-18T18:00:00+08:00",
          "2023-07-18T19:00:00+08:00",
          "2023-07-18T20:00:00+08:00",
          "2023-07-18T21:00:00+08:00",
          "2023-07-18T22:00:00+08:00",
          "2023-07-18T23:00:00+08:00"
         ],
         "xaxis": "x",
         "y": [
          13602,
          10384,
          8016,
          6618,
          6639,
          8861,
          18748,
          47867,
          68274,
          63405,
          60274,
          59986,
          56305,
          58341,
          61572,
          61465,
          63590,
          68098,
          69695,
          55717,
          42348,
          39700,
          29397,
          20871
         ],
         "yaxis": "y"
        },
        {
         "alignmentgroup": "True",
         "hovertemplate": "TownName=中正區<br>DataCollectTime=%{x}<br>VehicleVolume=%{y}<extra></extra>",
         "legendgroup": "中正區",
         "marker": {
          "color": "#EF553B",
          "pattern": {
           "shape": ""
          }
         },
         "name": "中正區",
         "offsetgroup": "中正區",
         "orientation": "v",
         "showlegend": true,
         "textposition": "auto",
         "texttemplate": "%{y}",
         "type": "bar",
         "x": [
          "2023-07-18T00:00:00+08:00",
          "2023-07-18T01:00:00+08:00",
          "2023-07-18T02:00:00+08:00",
          "2023-07-18T03:00:00+08:00",
          "2023-07-18T04:00:00+08:00",
          "2023-07-18T05:00:00+08:00",
          "2023-07-18T06:00:00+08:00",
          "2023-07-18T07:00:00+08:00",
          "2023-07-18T08:00:00+08:00",
          "2023-07-18T09:00:00+08:00",
          "2023-07-18T10:00:00+08:00",
          "2023-07-18T11:00:00+08:00",
          "2023-07-18T12:00:00+08:00",
          "2023-07-18T13:00:00+08:00",
          "2023-07-18T14:00:00+08:00",
          "2023-07-18T15:00:00+08:00",
          "2023-07-18T16:00:00+08:00",
          "2023-07-18T17:00:00+08:00",
          "2023-07-18T18:00:00+08:00",
          "2023-07-18T19:00:00+08:00",
          "2023-07-18T20:00:00+08:00",
          "2023-07-18T21:00:00+08:00",
          "2023-07-18T22:00:00+08:00",
          "2023-07-18T23:00:00+08:00"
         ],
         "xaxis": "x",
         "y": [
          6593,
          4627,
          3594,
          2918,
          2755,
          4850,
          11228,
          32368,
          42772,
          37907,
          35356,
          35067,
          33383,
          35113,
          38276,
          37337,
          38274,
          44037,
          42595,
          31477,
          25006,
          25054,
          17825,
          10610
         ],
         "yaxis": "y"
        },
        {
         "alignmentgroup": "True",
         "hovertemplate": "TownName=信義區<br>DataCollectTime=%{x}<br>VehicleVolume=%{y}<extra></extra>",
         "legendgroup": "信義區",
         "marker": {
          "color": "#00cc96",
          "pattern": {
           "shape": ""
          }
         },
         "name": "信義區",
         "offsetgroup": "信義區",
         "orientation": "v",
         "showlegend": true,
         "textposition": "auto",
         "texttemplate": "%{y}",
         "type": "bar",
         "x": [
          "2023-07-18T00:00:00+08:00",
          "2023-07-18T01:00:00+08:00",
          "2023-07-18T02:00:00+08:00",
          "2023-07-18T03:00:00+08:00",
          "2023-07-18T04:00:00+08:00",
          "2023-07-18T05:00:00+08:00",
          "2023-07-18T06:00:00+08:00",
          "2023-07-18T07:00:00+08:00",
          "2023-07-18T08:00:00+08:00",
          "2023-07-18T09:00:00+08:00",
          "2023-07-18T10:00:00+08:00",
          "2023-07-18T11:00:00+08:00",
          "2023-07-18T12:00:00+08:00",
          "2023-07-18T13:00:00+08:00",
          "2023-07-18T14:00:00+08:00",
          "2023-07-18T15:00:00+08:00",
          "2023-07-18T16:00:00+08:00",
          "2023-07-18T17:00:00+08:00",
          "2023-07-18T18:00:00+08:00",
          "2023-07-18T19:00:00+08:00",
          "2023-07-18T20:00:00+08:00",
          "2023-07-18T21:00:00+08:00",
          "2023-07-18T22:00:00+08:00",
          "2023-07-18T23:00:00+08:00"
         ],
         "xaxis": "x",
         "y": [
          6771,
          4715,
          3455,
          2484,
          2547,
          3614,
          9614,
          24534,
          32380,
          32080,
          30691,
          30698,
          29847,
          30464,
          29707,
          28119,
          27796,
          29697,
          30624,
          28163,
          23560,
          22970,
          16829,
          10456
         ],
         "yaxis": "y"
        },
        {
         "alignmentgroup": "True",
         "hovertemplate": "TownName=內湖區<br>DataCollectTime=%{x}<br>VehicleVolume=%{y}<extra></extra>",
         "legendgroup": "內湖區",
         "marker": {
          "color": "#ab63fa",
          "pattern": {
           "shape": ""
          }
         },
         "name": "內湖區",
         "offsetgroup": "內湖區",
         "orientation": "v",
         "showlegend": true,
         "textposition": "auto",
         "texttemplate": "%{y}",
         "type": "bar",
         "x": [
          "2023-07-18T00:00:00+08:00",
          "2023-07-18T01:00:00+08:00",
          "2023-07-18T02:00:00+08:00",
          "2023-07-18T03:00:00+08:00",
          "2023-07-18T04:00:00+08:00",
          "2023-07-18T05:00:00+08:00",
          "2023-07-18T06:00:00+08:00",
          "2023-07-18T07:00:00+08:00",
          "2023-07-18T08:00:00+08:00",
          "2023-07-18T09:00:00+08:00",
          "2023-07-18T10:00:00+08:00",
          "2023-07-18T11:00:00+08:00",
          "2023-07-18T12:00:00+08:00",
          "2023-07-18T13:00:00+08:00",
          "2023-07-18T14:00:00+08:00",
          "2023-07-18T15:00:00+08:00",
          "2023-07-18T16:00:00+08:00",
          "2023-07-18T17:00:00+08:00",
          "2023-07-18T18:00:00+08:00",
          "2023-07-18T19:00:00+08:00",
          "2023-07-18T20:00:00+08:00",
          "2023-07-18T21:00:00+08:00",
          "2023-07-18T22:00:00+08:00",
          "2023-07-18T23:00:00+08:00"
         ],
         "xaxis": "x",
         "y": [
          6332,
          3986,
          2763,
          2365,
          3004,
          5769,
          15750,
          38935,
          50673,
          47234,
          41380,
          40722,
          38969,
          40192,
          39227,
          35790,
          39111,
          43855,
          44288,
          38859,
          31005,
          27082,
          18979,
          11309
         ],
         "yaxis": "y"
        },
        {
         "alignmentgroup": "True",
         "hovertemplate": "TownName=北投區<br>DataCollectTime=%{x}<br>VehicleVolume=%{y}<extra></extra>",
         "legendgroup": "北投區",
         "marker": {
          "color": "#FFA15A",
          "pattern": {
           "shape": ""
          }
         },
         "name": "北投區",
         "offsetgroup": "北投區",
         "orientation": "v",
         "showlegend": true,
         "textposition": "auto",
         "texttemplate": "%{y}",
         "type": "bar",
         "x": [
          "2023-07-18T00:00:00+08:00",
          "2023-07-18T01:00:00+08:00",
          "2023-07-18T02:00:00+08:00",
          "2023-07-18T03:00:00+08:00",
          "2023-07-18T04:00:00+08:00",
          "2023-07-18T05:00:00+08:00",
          "2023-07-18T06:00:00+08:00",
          "2023-07-18T07:00:00+08:00",
          "2023-07-18T08:00:00+08:00",
          "2023-07-18T09:00:00+08:00",
          "2023-07-18T10:00:00+08:00",
          "2023-07-18T11:00:00+08:00",
          "2023-07-18T12:00:00+08:00",
          "2023-07-18T13:00:00+08:00",
          "2023-07-18T14:00:00+08:00",
          "2023-07-18T15:00:00+08:00",
          "2023-07-18T16:00:00+08:00",
          "2023-07-18T17:00:00+08:00",
          "2023-07-18T18:00:00+08:00",
          "2023-07-18T19:00:00+08:00",
          "2023-07-18T20:00:00+08:00",
          "2023-07-18T21:00:00+08:00",
          "2023-07-18T22:00:00+08:00",
          "2023-07-18T23:00:00+08:00"
         ],
         "xaxis": "x",
         "y": [
          2945,
          2087,
          1573,
          1240,
          1562,
          3161,
          8619,
          18473,
          21069,
          18259,
          17513,
          17956,
          17125,
          17652,
          17766,
          18387,
          18964,
          19226,
          18554,
          15126,
          12622,
          11171,
          8006,
          4611
         ],
         "yaxis": "y"
        },
        {
         "alignmentgroup": "True",
         "hovertemplate": "TownName=南港區<br>DataCollectTime=%{x}<br>VehicleVolume=%{y}<extra></extra>",
         "legendgroup": "南港區",
         "marker": {
          "color": "#19d3f3",
          "pattern": {
           "shape": ""
          }
         },
         "name": "南港區",
         "offsetgroup": "南港區",
         "orientation": "v",
         "showlegend": true,
         "textposition": "auto",
         "texttemplate": "%{y}",
         "type": "bar",
         "x": [
          "2023-07-18T00:00:00+08:00",
          "2023-07-18T01:00:00+08:00",
          "2023-07-18T02:00:00+08:00",
          "2023-07-18T03:00:00+08:00",
          "2023-07-18T04:00:00+08:00",
          "2023-07-18T05:00:00+08:00",
          "2023-07-18T06:00:00+08:00",
          "2023-07-18T07:00:00+08:00",
          "2023-07-18T08:00:00+08:00",
          "2023-07-18T09:00:00+08:00",
          "2023-07-18T10:00:00+08:00",
          "2023-07-18T11:00:00+08:00",
          "2023-07-18T12:00:00+08:00",
          "2023-07-18T13:00:00+08:00",
          "2023-07-18T14:00:00+08:00",
          "2023-07-18T15:00:00+08:00",
          "2023-07-18T16:00:00+08:00",
          "2023-07-18T17:00:00+08:00",
          "2023-07-18T18:00:00+08:00",
          "2023-07-18T19:00:00+08:00",
          "2023-07-18T20:00:00+08:00",
          "2023-07-18T21:00:00+08:00",
          "2023-07-18T22:00:00+08:00",
          "2023-07-18T23:00:00+08:00"
         ],
         "xaxis": "x",
         "y": [
          2166,
          1315,
          983,
          792,
          841,
          1732,
          4988,
          12904,
          17833,
          14938,
          12787,
          12598,
          11781,
          12553,
          11868,
          11973,
          13552,
          15158,
          14470,
          11765,
          9031,
          8188,
          5853,
          3577
         ],
         "yaxis": "y"
        },
        {
         "alignmentgroup": "True",
         "hovertemplate": "TownName=士林區<br>DataCollectTime=%{x}<br>VehicleVolume=%{y}<extra></extra>",
         "legendgroup": "士林區",
         "marker": {
          "color": "#FF6692",
          "pattern": {
           "shape": ""
          }
         },
         "name": "士林區",
         "offsetgroup": "士林區",
         "orientation": "v",
         "showlegend": true,
         "textposition": "auto",
         "texttemplate": "%{y}",
         "type": "bar",
         "x": [
          "2023-07-18T00:00:00+08:00",
          "2023-07-18T01:00:00+08:00",
          "2023-07-18T02:00:00+08:00",
          "2023-07-18T03:00:00+08:00",
          "2023-07-18T04:00:00+08:00",
          "2023-07-18T05:00:00+08:00",
          "2023-07-18T06:00:00+08:00",
          "2023-07-18T07:00:00+08:00",
          "2023-07-18T08:00:00+08:00",
          "2023-07-18T09:00:00+08:00",
          "2023-07-18T10:00:00+08:00",
          "2023-07-18T11:00:00+08:00",
          "2023-07-18T12:00:00+08:00",
          "2023-07-18T13:00:00+08:00",
          "2023-07-18T14:00:00+08:00",
          "2023-07-18T15:00:00+08:00",
          "2023-07-18T16:00:00+08:00",
          "2023-07-18T17:00:00+08:00",
          "2023-07-18T18:00:00+08:00",
          "2023-07-18T19:00:00+08:00",
          "2023-07-18T20:00:00+08:00",
          "2023-07-18T21:00:00+08:00",
          "2023-07-18T22:00:00+08:00",
          "2023-07-18T23:00:00+08:00"
         ],
         "xaxis": "x",
         "y": [
          8505,
          5880,
          6480,
          4658,
          5210,
          9116,
          22109,
          45944,
          51204,
          48468,
          47174,
          46126,
          44978,
          46435,
          46422,
          44944,
          46069,
          45553,
          47780,
          40848,
          33027,
          30720,
          23633,
          15032
         ],
         "yaxis": "y"
        },
        {
         "alignmentgroup": "True",
         "hovertemplate": "TownName=大同區<br>DataCollectTime=%{x}<br>VehicleVolume=%{y}<extra></extra>",
         "legendgroup": "大同區",
         "marker": {
          "color": "#B6E880",
          "pattern": {
           "shape": ""
          }
         },
         "name": "大同區",
         "offsetgroup": "大同區",
         "orientation": "v",
         "showlegend": true,
         "textposition": "auto",
         "texttemplate": "%{y}",
         "type": "bar",
         "x": [
          "2023-07-18T00:00:00+08:00",
          "2023-07-18T01:00:00+08:00",
          "2023-07-18T02:00:00+08:00",
          "2023-07-18T03:00:00+08:00",
          "2023-07-18T04:00:00+08:00",
          "2023-07-18T05:00:00+08:00",
          "2023-07-18T06:00:00+08:00",
          "2023-07-18T07:00:00+08:00",
          "2023-07-18T08:00:00+08:00",
          "2023-07-18T09:00:00+08:00",
          "2023-07-18T10:00:00+08:00",
          "2023-07-18T11:00:00+08:00",
          "2023-07-18T12:00:00+08:00",
          "2023-07-18T13:00:00+08:00",
          "2023-07-18T14:00:00+08:00",
          "2023-07-18T15:00:00+08:00",
          "2023-07-18T16:00:00+08:00",
          "2023-07-18T17:00:00+08:00",
          "2023-07-18T18:00:00+08:00",
          "2023-07-18T19:00:00+08:00",
          "2023-07-18T20:00:00+08:00",
          "2023-07-18T21:00:00+08:00",
          "2023-07-18T22:00:00+08:00",
          "2023-07-18T23:00:00+08:00"
         ],
         "xaxis": "x",
         "y": [
          4978,
          3631,
          2752,
          2268,
          2213,
          3118,
          6550,
          14415,
          18201,
          17465,
          19015,
          18932,
          17682,
          18891,
          20885,
          20197,
          20425,
          20931,
          20951,
          17794,
          14659,
          14216,
          10899,
          7377
         ],
         "yaxis": "y"
        },
        {
         "alignmentgroup": "True",
         "hovertemplate": "TownName=大安區<br>DataCollectTime=%{x}<br>VehicleVolume=%{y}<extra></extra>",
         "legendgroup": "大安區",
         "marker": {
          "color": "#FF97FF",
          "pattern": {
           "shape": ""
          }
         },
         "name": "大安區",
         "offsetgroup": "大安區",
         "orientation": "v",
         "showlegend": true,
         "textposition": "auto",
         "texttemplate": "%{y}",
         "type": "bar",
         "x": [
          "2023-07-18T00:00:00+08:00",
          "2023-07-18T01:00:00+08:00",
          "2023-07-18T02:00:00+08:00",
          "2023-07-18T03:00:00+08:00",
          "2023-07-18T04:00:00+08:00",
          "2023-07-18T05:00:00+08:00",
          "2023-07-18T06:00:00+08:00",
          "2023-07-18T07:00:00+08:00",
          "2023-07-18T08:00:00+08:00",
          "2023-07-18T09:00:00+08:00",
          "2023-07-18T10:00:00+08:00",
          "2023-07-18T11:00:00+08:00",
          "2023-07-18T12:00:00+08:00",
          "2023-07-18T13:00:00+08:00",
          "2023-07-18T14:00:00+08:00",
          "2023-07-18T15:00:00+08:00",
          "2023-07-18T16:00:00+08:00",
          "2023-07-18T17:00:00+08:00",
          "2023-07-18T18:00:00+08:00",
          "2023-07-18T19:00:00+08:00",
          "2023-07-18T20:00:00+08:00",
          "2023-07-18T21:00:00+08:00",
          "2023-07-18T22:00:00+08:00",
          "2023-07-18T23:00:00+08:00"
         ],
         "xaxis": "x",
         "y": [
          9376,
          6638,
          4802,
          3957,
          3571,
          5869,
          15696,
          45776,
          64736,
          58462,
          53606,
          53210,
          52002,
          52267,
          52429,
          51526,
          55640,
          61584,
          60482,
          47193,
          37649,
          36323,
          26031,
          16547
         ],
         "yaxis": "y"
        },
        {
         "alignmentgroup": "True",
         "hovertemplate": "TownName=文山區<br>DataCollectTime=%{x}<br>VehicleVolume=%{y}<extra></extra>",
         "legendgroup": "文山區",
         "marker": {
          "color": "#FECB52",
          "pattern": {
           "shape": ""
          }
         },
         "name": "文山區",
         "offsetgroup": "文山區",
         "orientation": "v",
         "showlegend": true,
         "textposition": "auto",
         "texttemplate": "%{y}",
         "type": "bar",
         "x": [
          "2023-07-18T00:00:00+08:00",
          "2023-07-18T01:00:00+08:00",
          "2023-07-18T02:00:00+08:00",
          "2023-07-18T03:00:00+08:00",
          "2023-07-18T04:00:00+08:00",
          "2023-07-18T05:00:00+08:00",
          "2023-07-18T06:00:00+08:00",
          "2023-07-18T07:00:00+08:00",
          "2023-07-18T08:00:00+08:00",
          "2023-07-18T09:00:00+08:00",
          "2023-07-18T10:00:00+08:00",
          "2023-07-18T11:00:00+08:00",
          "2023-07-18T12:00:00+08:00",
          "2023-07-18T13:00:00+08:00",
          "2023-07-18T14:00:00+08:00",
          "2023-07-18T15:00:00+08:00",
          "2023-07-18T16:00:00+08:00",
          "2023-07-18T17:00:00+08:00",
          "2023-07-18T18:00:00+08:00",
          "2023-07-18T19:00:00+08:00",
          "2023-07-18T20:00:00+08:00",
          "2023-07-18T21:00:00+08:00",
          "2023-07-18T22:00:00+08:00",
          "2023-07-18T23:00:00+08:00"
         ],
         "xaxis": "x",
         "y": [
          2351,
          1779,
          1222,
          1065,
          1059,
          1998,
          5633,
          15724,
          19245,
          15305,
          13541,
          13032,
          12284,
          12731,
          11504,
          13640,
          14937,
          18320,
          17411,
          13927,
          11044,
          9997,
          7260,
          4377
         ],
         "yaxis": "y"
        },
        {
         "alignmentgroup": "True",
         "hovertemplate": "TownName=松山區<br>DataCollectTime=%{x}<br>VehicleVolume=%{y}<extra></extra>",
         "legendgroup": "松山區",
         "marker": {
          "color": "#636efa",
          "pattern": {
           "shape": ""
          }
         },
         "name": "松山區",
         "offsetgroup": "松山區",
         "orientation": "v",
         "showlegend": true,
         "textposition": "auto",
         "texttemplate": "%{y}",
         "type": "bar",
         "x": [
          "2023-07-18T00:00:00+08:00",
          "2023-07-18T01:00:00+08:00",
          "2023-07-18T02:00:00+08:00",
          "2023-07-18T03:00:00+08:00",
          "2023-07-18T04:00:00+08:00",
          "2023-07-18T05:00:00+08:00",
          "2023-07-18T06:00:00+08:00",
          "2023-07-18T07:00:00+08:00",
          "2023-07-18T08:00:00+08:00",
          "2023-07-18T09:00:00+08:00",
          "2023-07-18T10:00:00+08:00",
          "2023-07-18T11:00:00+08:00",
          "2023-07-18T12:00:00+08:00",
          "2023-07-18T13:00:00+08:00",
          "2023-07-18T14:00:00+08:00",
          "2023-07-18T15:00:00+08:00",
          "2023-07-18T16:00:00+08:00",
          "2023-07-18T17:00:00+08:00",
          "2023-07-18T18:00:00+08:00",
          "2023-07-18T19:00:00+08:00",
          "2023-07-18T20:00:00+08:00",
          "2023-07-18T21:00:00+08:00",
          "2023-07-18T22:00:00+08:00",
          "2023-07-18T23:00:00+08:00"
         ],
         "xaxis": "x",
         "y": [
          3955,
          2633,
          1834,
          1484,
          1708,
          3597,
          7995,
          20419,
          31115,
          27815,
          25873,
          25118,
          23816,
          24856,
          26204,
          24954,
          26113,
          29727,
          30821,
          24205,
          16959,
          15948,
          11091,
          7869
         ],
         "yaxis": "y"
        },
        {
         "alignmentgroup": "True",
         "hovertemplate": "TownName=萬華區<br>DataCollectTime=%{x}<br>VehicleVolume=%{y}<extra></extra>",
         "legendgroup": "萬華區",
         "marker": {
          "color": "#EF553B",
          "pattern": {
           "shape": ""
          }
         },
         "name": "萬華區",
         "offsetgroup": "萬華區",
         "orientation": "v",
         "showlegend": true,
         "textposition": "auto",
         "texttemplate": "%{y}",
         "type": "bar",
         "x": [
          "2023-07-18T00:00:00+08:00",
          "2023-07-18T01:00:00+08:00",
          "2023-07-18T02:00:00+08:00",
          "2023-07-18T03:00:00+08:00",
          "2023-07-18T04:00:00+08:00",
          "2023-07-18T05:00:00+08:00",
          "2023-07-18T06:00:00+08:00",
          "2023-07-18T07:00:00+08:00",
          "2023-07-18T08:00:00+08:00",
          "2023-07-18T09:00:00+08:00",
          "2023-07-18T10:00:00+08:00",
          "2023-07-18T11:00:00+08:00",
          "2023-07-18T12:00:00+08:00",
          "2023-07-18T13:00:00+08:00",
          "2023-07-18T14:00:00+08:00",
          "2023-07-18T15:00:00+08:00",
          "2023-07-18T16:00:00+08:00",
          "2023-07-18T17:00:00+08:00",
          "2023-07-18T18:00:00+08:00",
          "2023-07-18T19:00:00+08:00",
          "2023-07-18T20:00:00+08:00",
          "2023-07-18T21:00:00+08:00",
          "2023-07-18T22:00:00+08:00",
          "2023-07-18T23:00:00+08:00"
         ],
         "xaxis": "x",
         "y": [
          4133,
          3509,
          2886,
          2797,
          2983,
          3722,
          6314,
          14167,
          16559,
          13823,
          13098,
          13089,
          12128,
          12833,
          13957,
          13598,
          14043,
          15612,
          15030,
          11581,
          10105,
          9840,
          7886,
          5584
         ],
         "yaxis": "y"
        }
       ],
       "layout": {
        "barmode": "relative",
        "legend": {
         "title": {
          "text": "TownName"
         },
         "tracegroupgap": 0
        },
        "margin": {
         "t": 60
        },
        "template": {
         "data": {
          "bar": [
           {
            "error_x": {
             "color": "#2a3f5f"
            },
            "error_y": {
             "color": "#2a3f5f"
            },
            "marker": {
             "line": {
              "color": "#E5ECF6",
              "width": 0.5
             },
             "pattern": {
              "fillmode": "overlay",
              "size": 10,
              "solidity": 0.2
             }
            },
            "type": "bar"
           }
          ],
          "barpolar": [
           {
            "marker": {
             "line": {
              "color": "#E5ECF6",
              "width": 0.5
             },
             "pattern": {
              "fillmode": "overlay",
              "size": 10,
              "solidity": 0.2
             }
            },
            "type": "barpolar"
           }
          ],
          "carpet": [
           {
            "aaxis": {
             "endlinecolor": "#2a3f5f",
             "gridcolor": "white",
             "linecolor": "white",
             "minorgridcolor": "white",
             "startlinecolor": "#2a3f5f"
            },
            "baxis": {
             "endlinecolor": "#2a3f5f",
             "gridcolor": "white",
             "linecolor": "white",
             "minorgridcolor": "white",
             "startlinecolor": "#2a3f5f"
            },
            "type": "carpet"
           }
          ],
          "choropleth": [
           {
            "colorbar": {
             "outlinewidth": 0,
             "ticks": ""
            },
            "type": "choropleth"
           }
          ],
          "contour": [
           {
            "colorbar": {
             "outlinewidth": 0,
             "ticks": ""
            },
            "colorscale": [
             [
              0,
              "#0d0887"
             ],
             [
              0.1111111111111111,
              "#46039f"
             ],
             [
              0.2222222222222222,
              "#7201a8"
             ],
             [
              0.3333333333333333,
              "#9c179e"
             ],
             [
              0.4444444444444444,
              "#bd3786"
             ],
             [
              0.5555555555555556,
              "#d8576b"
             ],
             [
              0.6666666666666666,
              "#ed7953"
             ],
             [
              0.7777777777777778,
              "#fb9f3a"
             ],
             [
              0.8888888888888888,
              "#fdca26"
             ],
             [
              1,
              "#f0f921"
             ]
            ],
            "type": "contour"
           }
          ],
          "contourcarpet": [
           {
            "colorbar": {
             "outlinewidth": 0,
             "ticks": ""
            },
            "type": "contourcarpet"
           }
          ],
          "heatmap": [
           {
            "colorbar": {
             "outlinewidth": 0,
             "ticks": ""
            },
            "colorscale": [
             [
              0,
              "#0d0887"
             ],
             [
              0.1111111111111111,
              "#46039f"
             ],
             [
              0.2222222222222222,
              "#7201a8"
             ],
             [
              0.3333333333333333,
              "#9c179e"
             ],
             [
              0.4444444444444444,
              "#bd3786"
             ],
             [
              0.5555555555555556,
              "#d8576b"
             ],
             [
              0.6666666666666666,
              "#ed7953"
             ],
             [
              0.7777777777777778,
              "#fb9f3a"
             ],
             [
              0.8888888888888888,
              "#fdca26"
             ],
             [
              1,
              "#f0f921"
             ]
            ],
            "type": "heatmap"
           }
          ],
          "heatmapgl": [
           {
            "colorbar": {
             "outlinewidth": 0,
             "ticks": ""
            },
            "colorscale": [
             [
              0,
              "#0d0887"
             ],
             [
              0.1111111111111111,
              "#46039f"
             ],
             [
              0.2222222222222222,
              "#7201a8"
             ],
             [
              0.3333333333333333,
              "#9c179e"
             ],
             [
              0.4444444444444444,
              "#bd3786"
             ],
             [
              0.5555555555555556,
              "#d8576b"
             ],
             [
              0.6666666666666666,
              "#ed7953"
             ],
             [
              0.7777777777777778,
              "#fb9f3a"
             ],
             [
              0.8888888888888888,
              "#fdca26"
             ],
             [
              1,
              "#f0f921"
             ]
            ],
            "type": "heatmapgl"
           }
          ],
          "histogram": [
           {
            "marker": {
             "pattern": {
              "fillmode": "overlay",
              "size": 10,
              "solidity": 0.2
             }
            },
            "type": "histogram"
           }
          ],
          "histogram2d": [
           {
            "colorbar": {
             "outlinewidth": 0,
             "ticks": ""
            },
            "colorscale": [
             [
              0,
              "#0d0887"
             ],
             [
              0.1111111111111111,
              "#46039f"
             ],
             [
              0.2222222222222222,
              "#7201a8"
             ],
             [
              0.3333333333333333,
              "#9c179e"
             ],
             [
              0.4444444444444444,
              "#bd3786"
             ],
             [
              0.5555555555555556,
              "#d8576b"
             ],
             [
              0.6666666666666666,
              "#ed7953"
             ],
             [
              0.7777777777777778,
              "#fb9f3a"
             ],
             [
              0.8888888888888888,
              "#fdca26"
             ],
             [
              1,
              "#f0f921"
             ]
            ],
            "type": "histogram2d"
           }
          ],
          "histogram2dcontour": [
           {
            "colorbar": {
             "outlinewidth": 0,
             "ticks": ""
            },
            "colorscale": [
             [
              0,
              "#0d0887"
             ],
             [
              0.1111111111111111,
              "#46039f"
             ],
             [
              0.2222222222222222,
              "#7201a8"
             ],
             [
              0.3333333333333333,
              "#9c179e"
             ],
             [
              0.4444444444444444,
              "#bd3786"
             ],
             [
              0.5555555555555556,
              "#d8576b"
             ],
             [
              0.6666666666666666,
              "#ed7953"
             ],
             [
              0.7777777777777778,
              "#fb9f3a"
             ],
             [
              0.8888888888888888,
              "#fdca26"
             ],
             [
              1,
              "#f0f921"
             ]
            ],
            "type": "histogram2dcontour"
           }
          ],
          "mesh3d": [
           {
            "colorbar": {
             "outlinewidth": 0,
             "ticks": ""
            },
            "type": "mesh3d"
           }
          ],
          "parcoords": [
           {
            "line": {
             "colorbar": {
              "outlinewidth": 0,
              "ticks": ""
             }
            },
            "type": "parcoords"
           }
          ],
          "pie": [
           {
            "automargin": true,
            "type": "pie"
           }
          ],
          "scatter": [
           {
            "fillpattern": {
             "fillmode": "overlay",
             "size": 10,
             "solidity": 0.2
            },
            "type": "scatter"
           }
          ],
          "scatter3d": [
           {
            "line": {
             "colorbar": {
              "outlinewidth": 0,
              "ticks": ""
             }
            },
            "marker": {
             "colorbar": {
              "outlinewidth": 0,
              "ticks": ""
             }
            },
            "type": "scatter3d"
           }
          ],
          "scattercarpet": [
           {
            "marker": {
             "colorbar": {
              "outlinewidth": 0,
              "ticks": ""
             }
            },
            "type": "scattercarpet"
           }
          ],
          "scattergeo": [
           {
            "marker": {
             "colorbar": {
              "outlinewidth": 0,
              "ticks": ""
             }
            },
            "type": "scattergeo"
           }
          ],
          "scattergl": [
           {
            "marker": {
             "colorbar": {
              "outlinewidth": 0,
              "ticks": ""
             }
            },
            "type": "scattergl"
           }
          ],
          "scattermapbox": [
           {
            "marker": {
             "colorbar": {
              "outlinewidth": 0,
              "ticks": ""
             }
            },
            "type": "scattermapbox"
           }
          ],
          "scatterpolar": [
           {
            "marker": {
             "colorbar": {
              "outlinewidth": 0,
              "ticks": ""
             }
            },
            "type": "scatterpolar"
           }
          ],
          "scatterpolargl": [
           {
            "marker": {
             "colorbar": {
              "outlinewidth": 0,
              "ticks": ""
             }
            },
            "type": "scatterpolargl"
           }
          ],
          "scatterternary": [
           {
            "marker": {
             "colorbar": {
              "outlinewidth": 0,
              "ticks": ""
             }
            },
            "type": "scatterternary"
           }
          ],
          "surface": [
           {
            "colorbar": {
             "outlinewidth": 0,
             "ticks": ""
            },
            "colorscale": [
             [
              0,
              "#0d0887"
             ],
             [
              0.1111111111111111,
              "#46039f"
             ],
             [
              0.2222222222222222,
              "#7201a8"
             ],
             [
              0.3333333333333333,
              "#9c179e"
             ],
             [
              0.4444444444444444,
              "#bd3786"
             ],
             [
              0.5555555555555556,
              "#d8576b"
             ],
             [
              0.6666666666666666,
              "#ed7953"
             ],
             [
              0.7777777777777778,
              "#fb9f3a"
             ],
             [
              0.8888888888888888,
              "#fdca26"
             ],
             [
              1,
              "#f0f921"
             ]
            ],
            "type": "surface"
           }
          ],
          "table": [
           {
            "cells": {
             "fill": {
              "color": "#EBF0F8"
             },
             "line": {
              "color": "white"
             }
            },
            "header": {
             "fill": {
              "color": "#C8D4E3"
             },
             "line": {
              "color": "white"
             }
            },
            "type": "table"
           }
          ]
         },
         "layout": {
          "annotationdefaults": {
           "arrowcolor": "#2a3f5f",
           "arrowhead": 0,
           "arrowwidth": 1
          },
          "autotypenumbers": "strict",
          "coloraxis": {
           "colorbar": {
            "outlinewidth": 0,
            "ticks": ""
           }
          },
          "colorscale": {
           "diverging": [
            [
             0,
             "#8e0152"
            ],
            [
             0.1,
             "#c51b7d"
            ],
            [
             0.2,
             "#de77ae"
            ],
            [
             0.3,
             "#f1b6da"
            ],
            [
             0.4,
             "#fde0ef"
            ],
            [
             0.5,
             "#f7f7f7"
            ],
            [
             0.6,
             "#e6f5d0"
            ],
            [
             0.7,
             "#b8e186"
            ],
            [
             0.8,
             "#7fbc41"
            ],
            [
             0.9,
             "#4d9221"
            ],
            [
             1,
             "#276419"
            ]
           ],
           "sequential": [
            [
             0,
             "#0d0887"
            ],
            [
             0.1111111111111111,
             "#46039f"
            ],
            [
             0.2222222222222222,
             "#7201a8"
            ],
            [
             0.3333333333333333,
             "#9c179e"
            ],
            [
             0.4444444444444444,
             "#bd3786"
            ],
            [
             0.5555555555555556,
             "#d8576b"
            ],
            [
             0.6666666666666666,
             "#ed7953"
            ],
            [
             0.7777777777777778,
             "#fb9f3a"
            ],
            [
             0.8888888888888888,
             "#fdca26"
            ],
            [
             1,
             "#f0f921"
            ]
           ],
           "sequentialminus": [
            [
             0,
             "#0d0887"
            ],
            [
             0.1111111111111111,
             "#46039f"
            ],
            [
             0.2222222222222222,
             "#7201a8"
            ],
            [
             0.3333333333333333,
             "#9c179e"
            ],
            [
             0.4444444444444444,
             "#bd3786"
            ],
            [
             0.5555555555555556,
             "#d8576b"
            ],
            [
             0.6666666666666666,
             "#ed7953"
            ],
            [
             0.7777777777777778,
             "#fb9f3a"
            ],
            [
             0.8888888888888888,
             "#fdca26"
            ],
            [
             1,
             "#f0f921"
            ]
           ]
          },
          "colorway": [
           "#636efa",
           "#EF553B",
           "#00cc96",
           "#ab63fa",
           "#FFA15A",
           "#19d3f3",
           "#FF6692",
           "#B6E880",
           "#FF97FF",
           "#FECB52"
          ],
          "font": {
           "color": "#2a3f5f"
          },
          "geo": {
           "bgcolor": "white",
           "lakecolor": "white",
           "landcolor": "#E5ECF6",
           "showlakes": true,
           "showland": true,
           "subunitcolor": "white"
          },
          "hoverlabel": {
           "align": "left"
          },
          "hovermode": "closest",
          "mapbox": {
           "style": "light"
          },
          "paper_bgcolor": "white",
          "plot_bgcolor": "#E5ECF6",
          "polar": {
           "angularaxis": {
            "gridcolor": "white",
            "linecolor": "white",
            "ticks": ""
           },
           "bgcolor": "#E5ECF6",
           "radialaxis": {
            "gridcolor": "white",
            "linecolor": "white",
            "ticks": ""
           }
          },
          "scene": {
           "xaxis": {
            "backgroundcolor": "#E5ECF6",
            "gridcolor": "white",
            "gridwidth": 2,
            "linecolor": "white",
            "showbackground": true,
            "ticks": "",
            "zerolinecolor": "white"
           },
           "yaxis": {
            "backgroundcolor": "#E5ECF6",
            "gridcolor": "white",
            "gridwidth": 2,
            "linecolor": "white",
            "showbackground": true,
            "ticks": "",
            "zerolinecolor": "white"
           },
           "zaxis": {
            "backgroundcolor": "#E5ECF6",
            "gridcolor": "white",
            "gridwidth": 2,
            "linecolor": "white",
            "showbackground": true,
            "ticks": "",
            "zerolinecolor": "white"
           }
          },
          "shapedefaults": {
           "line": {
            "color": "#2a3f5f"
           }
          },
          "ternary": {
           "aaxis": {
            "gridcolor": "white",
            "linecolor": "white",
            "ticks": ""
           },
           "baxis": {
            "gridcolor": "white",
            "linecolor": "white",
            "ticks": ""
           },
           "bgcolor": "#E5ECF6",
           "caxis": {
            "gridcolor": "white",
            "linecolor": "white",
            "ticks": ""
           }
          },
          "title": {
           "x": 0.05
          },
          "xaxis": {
           "automargin": true,
           "gridcolor": "white",
           "linecolor": "white",
           "ticks": "",
           "title": {
            "standoff": 15
           },
           "zerolinecolor": "white",
           "zerolinewidth": 2
          },
          "yaxis": {
           "automargin": true,
           "gridcolor": "white",
           "linecolor": "white",
           "ticks": "",
           "title": {
            "standoff": 15
           },
           "zerolinecolor": "white",
           "zerolinewidth": 2
          }
         }
        },
        "xaxis": {
         "anchor": "y",
         "domain": [
          0,
          1
         ],
         "title": {
          "text": "DataCollectTime"
         }
        },
        "yaxis": {
         "anchor": "x",
         "domain": [
          0,
          1
         ],
         "title": {
          "text": "VehicleVolume"
         }
        }
       }
      }
     },
     "metadata": {},
     "output_type": "display_data"
    }
   ],
   "source": [
    "px.bar(plot.groupby([\"DataCollectTime\", \"TownName\"])[[\"VehicleVolume\"]].sum().reset_index(), x=\"DataCollectTime\", y=\"VehicleVolume\", text_auto=True, color=\"TownName\")"
   ]
  },
  {
   "cell_type": "code",
   "execution_count": 18,
   "metadata": {},
   "outputs": [
    {
     "data": {
      "application/vnd.plotly.v1+json": {
       "config": {
        "plotlyServerURL": "https://plot.ly"
       },
       "data": [
        {
         "alignmentgroup": "True",
         "hovertemplate": "行政區=中山區<br>時段=%{x}<br>車流量=%{y}<extra></extra>",
         "legendgroup": "",
         "marker": {
          "color": "#636efa",
          "pattern": {
           "shape": ""
          }
         },
         "name": "",
         "offsetgroup": "",
         "orientation": "v",
         "showlegend": false,
         "textposition": "auto",
         "type": "bar",
         "x": [
          "2023-07-18T00:00:00+08:00",
          "2023-07-18T01:00:00+08:00",
          "2023-07-18T02:00:00+08:00",
          "2023-07-18T03:00:00+08:00",
          "2023-07-18T04:00:00+08:00",
          "2023-07-18T05:00:00+08:00",
          "2023-07-18T06:00:00+08:00",
          "2023-07-18T07:00:00+08:00",
          "2023-07-18T08:00:00+08:00",
          "2023-07-18T09:00:00+08:00",
          "2023-07-18T10:00:00+08:00",
          "2023-07-18T11:00:00+08:00",
          "2023-07-18T12:00:00+08:00",
          "2023-07-18T13:00:00+08:00",
          "2023-07-18T14:00:00+08:00",
          "2023-07-18T15:00:00+08:00",
          "2023-07-18T16:00:00+08:00",
          "2023-07-18T17:00:00+08:00",
          "2023-07-18T18:00:00+08:00",
          "2023-07-18T19:00:00+08:00",
          "2023-07-18T20:00:00+08:00",
          "2023-07-18T21:00:00+08:00",
          "2023-07-18T22:00:00+08:00",
          "2023-07-18T23:00:00+08:00"
         ],
         "xaxis": "x",
         "y": [
          13602,
          10384,
          8016,
          6618,
          6639,
          8861,
          18748,
          47867,
          68274,
          63405,
          60274,
          59986,
          56305,
          58341,
          61572,
          61465,
          63590,
          68098,
          69695,
          55717,
          42348,
          39700,
          29397,
          20871
         ],
         "yaxis": "y"
        },
        {
         "alignmentgroup": "True",
         "hovertemplate": "行政區=中正區<br>時段=%{x}<br>車流量=%{y}<extra></extra>",
         "legendgroup": "",
         "marker": {
          "color": "#636efa",
          "pattern": {
           "shape": ""
          }
         },
         "name": "",
         "offsetgroup": "",
         "orientation": "v",
         "showlegend": false,
         "textposition": "auto",
         "type": "bar",
         "x": [
          "2023-07-18T00:00:00+08:00",
          "2023-07-18T01:00:00+08:00",
          "2023-07-18T02:00:00+08:00",
          "2023-07-18T03:00:00+08:00",
          "2023-07-18T04:00:00+08:00",
          "2023-07-18T05:00:00+08:00",
          "2023-07-18T06:00:00+08:00",
          "2023-07-18T07:00:00+08:00",
          "2023-07-18T08:00:00+08:00",
          "2023-07-18T09:00:00+08:00",
          "2023-07-18T10:00:00+08:00",
          "2023-07-18T11:00:00+08:00",
          "2023-07-18T12:00:00+08:00",
          "2023-07-18T13:00:00+08:00",
          "2023-07-18T14:00:00+08:00",
          "2023-07-18T15:00:00+08:00",
          "2023-07-18T16:00:00+08:00",
          "2023-07-18T17:00:00+08:00",
          "2023-07-18T18:00:00+08:00",
          "2023-07-18T19:00:00+08:00",
          "2023-07-18T20:00:00+08:00",
          "2023-07-18T21:00:00+08:00",
          "2023-07-18T22:00:00+08:00",
          "2023-07-18T23:00:00+08:00"
         ],
         "xaxis": "x2",
         "y": [
          6593,
          4627,
          3594,
          2918,
          2755,
          4850,
          11228,
          32368,
          42772,
          37907,
          35356,
          35067,
          33383,
          35113,
          38276,
          37337,
          38274,
          44037,
          42595,
          31477,
          25006,
          25054,
          17825,
          10610
         ],
         "yaxis": "y2"
        },
        {
         "alignmentgroup": "True",
         "hovertemplate": "行政區=信義區<br>時段=%{x}<br>車流量=%{y}<extra></extra>",
         "legendgroup": "",
         "marker": {
          "color": "#636efa",
          "pattern": {
           "shape": ""
          }
         },
         "name": "",
         "offsetgroup": "",
         "orientation": "v",
         "showlegend": false,
         "textposition": "auto",
         "type": "bar",
         "x": [
          "2023-07-18T00:00:00+08:00",
          "2023-07-18T01:00:00+08:00",
          "2023-07-18T02:00:00+08:00",
          "2023-07-18T03:00:00+08:00",
          "2023-07-18T04:00:00+08:00",
          "2023-07-18T05:00:00+08:00",
          "2023-07-18T06:00:00+08:00",
          "2023-07-18T07:00:00+08:00",
          "2023-07-18T08:00:00+08:00",
          "2023-07-18T09:00:00+08:00",
          "2023-07-18T10:00:00+08:00",
          "2023-07-18T11:00:00+08:00",
          "2023-07-18T12:00:00+08:00",
          "2023-07-18T13:00:00+08:00",
          "2023-07-18T14:00:00+08:00",
          "2023-07-18T15:00:00+08:00",
          "2023-07-18T16:00:00+08:00",
          "2023-07-18T17:00:00+08:00",
          "2023-07-18T18:00:00+08:00",
          "2023-07-18T19:00:00+08:00",
          "2023-07-18T20:00:00+08:00",
          "2023-07-18T21:00:00+08:00",
          "2023-07-18T22:00:00+08:00",
          "2023-07-18T23:00:00+08:00"
         ],
         "xaxis": "x3",
         "y": [
          6771,
          4715,
          3455,
          2484,
          2547,
          3614,
          9614,
          24534,
          32380,
          32080,
          30691,
          30698,
          29847,
          30464,
          29707,
          28119,
          27796,
          29697,
          30624,
          28163,
          23560,
          22970,
          16829,
          10456
         ],
         "yaxis": "y3"
        },
        {
         "alignmentgroup": "True",
         "hovertemplate": "行政區=內湖區<br>時段=%{x}<br>車流量=%{y}<extra></extra>",
         "legendgroup": "",
         "marker": {
          "color": "#636efa",
          "pattern": {
           "shape": ""
          }
         },
         "name": "",
         "offsetgroup": "",
         "orientation": "v",
         "showlegend": false,
         "textposition": "auto",
         "type": "bar",
         "x": [
          "2023-07-18T00:00:00+08:00",
          "2023-07-18T01:00:00+08:00",
          "2023-07-18T02:00:00+08:00",
          "2023-07-18T03:00:00+08:00",
          "2023-07-18T04:00:00+08:00",
          "2023-07-18T05:00:00+08:00",
          "2023-07-18T06:00:00+08:00",
          "2023-07-18T07:00:00+08:00",
          "2023-07-18T08:00:00+08:00",
          "2023-07-18T09:00:00+08:00",
          "2023-07-18T10:00:00+08:00",
          "2023-07-18T11:00:00+08:00",
          "2023-07-18T12:00:00+08:00",
          "2023-07-18T13:00:00+08:00",
          "2023-07-18T14:00:00+08:00",
          "2023-07-18T15:00:00+08:00",
          "2023-07-18T16:00:00+08:00",
          "2023-07-18T17:00:00+08:00",
          "2023-07-18T18:00:00+08:00",
          "2023-07-18T19:00:00+08:00",
          "2023-07-18T20:00:00+08:00",
          "2023-07-18T21:00:00+08:00",
          "2023-07-18T22:00:00+08:00",
          "2023-07-18T23:00:00+08:00"
         ],
         "xaxis": "x4",
         "y": [
          6332,
          3986,
          2763,
          2365,
          3004,
          5769,
          15750,
          38935,
          50673,
          47234,
          41380,
          40722,
          38969,
          40192,
          39227,
          35790,
          39111,
          43855,
          44288,
          38859,
          31005,
          27082,
          18979,
          11309
         ],
         "yaxis": "y4"
        },
        {
         "alignmentgroup": "True",
         "hovertemplate": "行政區=北投區<br>時段=%{x}<br>車流量=%{y}<extra></extra>",
         "legendgroup": "",
         "marker": {
          "color": "#636efa",
          "pattern": {
           "shape": ""
          }
         },
         "name": "",
         "offsetgroup": "",
         "orientation": "v",
         "showlegend": false,
         "textposition": "auto",
         "type": "bar",
         "x": [
          "2023-07-18T00:00:00+08:00",
          "2023-07-18T01:00:00+08:00",
          "2023-07-18T02:00:00+08:00",
          "2023-07-18T03:00:00+08:00",
          "2023-07-18T04:00:00+08:00",
          "2023-07-18T05:00:00+08:00",
          "2023-07-18T06:00:00+08:00",
          "2023-07-18T07:00:00+08:00",
          "2023-07-18T08:00:00+08:00",
          "2023-07-18T09:00:00+08:00",
          "2023-07-18T10:00:00+08:00",
          "2023-07-18T11:00:00+08:00",
          "2023-07-18T12:00:00+08:00",
          "2023-07-18T13:00:00+08:00",
          "2023-07-18T14:00:00+08:00",
          "2023-07-18T15:00:00+08:00",
          "2023-07-18T16:00:00+08:00",
          "2023-07-18T17:00:00+08:00",
          "2023-07-18T18:00:00+08:00",
          "2023-07-18T19:00:00+08:00",
          "2023-07-18T20:00:00+08:00",
          "2023-07-18T21:00:00+08:00",
          "2023-07-18T22:00:00+08:00",
          "2023-07-18T23:00:00+08:00"
         ],
         "xaxis": "x5",
         "y": [
          2945,
          2087,
          1573,
          1240,
          1562,
          3161,
          8619,
          18473,
          21069,
          18259,
          17513,
          17956,
          17125,
          17652,
          17766,
          18387,
          18964,
          19226,
          18554,
          15126,
          12622,
          11171,
          8006,
          4611
         ],
         "yaxis": "y5"
        },
        {
         "alignmentgroup": "True",
         "hovertemplate": "行政區=南港區<br>時段=%{x}<br>車流量=%{y}<extra></extra>",
         "legendgroup": "",
         "marker": {
          "color": "#636efa",
          "pattern": {
           "shape": ""
          }
         },
         "name": "",
         "offsetgroup": "",
         "orientation": "v",
         "showlegend": false,
         "textposition": "auto",
         "type": "bar",
         "x": [
          "2023-07-18T00:00:00+08:00",
          "2023-07-18T01:00:00+08:00",
          "2023-07-18T02:00:00+08:00",
          "2023-07-18T03:00:00+08:00",
          "2023-07-18T04:00:00+08:00",
          "2023-07-18T05:00:00+08:00",
          "2023-07-18T06:00:00+08:00",
          "2023-07-18T07:00:00+08:00",
          "2023-07-18T08:00:00+08:00",
          "2023-07-18T09:00:00+08:00",
          "2023-07-18T10:00:00+08:00",
          "2023-07-18T11:00:00+08:00",
          "2023-07-18T12:00:00+08:00",
          "2023-07-18T13:00:00+08:00",
          "2023-07-18T14:00:00+08:00",
          "2023-07-18T15:00:00+08:00",
          "2023-07-18T16:00:00+08:00",
          "2023-07-18T17:00:00+08:00",
          "2023-07-18T18:00:00+08:00",
          "2023-07-18T19:00:00+08:00",
          "2023-07-18T20:00:00+08:00",
          "2023-07-18T21:00:00+08:00",
          "2023-07-18T22:00:00+08:00",
          "2023-07-18T23:00:00+08:00"
         ],
         "xaxis": "x6",
         "y": [
          2166,
          1315,
          983,
          792,
          841,
          1732,
          4988,
          12904,
          17833,
          14938,
          12787,
          12598,
          11781,
          12553,
          11868,
          11973,
          13552,
          15158,
          14470,
          11765,
          9031,
          8188,
          5853,
          3577
         ],
         "yaxis": "y6"
        },
        {
         "alignmentgroup": "True",
         "hovertemplate": "行政區=士林區<br>時段=%{x}<br>車流量=%{y}<extra></extra>",
         "legendgroup": "",
         "marker": {
          "color": "#636efa",
          "pattern": {
           "shape": ""
          }
         },
         "name": "",
         "offsetgroup": "",
         "orientation": "v",
         "showlegend": false,
         "textposition": "auto",
         "type": "bar",
         "x": [
          "2023-07-18T00:00:00+08:00",
          "2023-07-18T01:00:00+08:00",
          "2023-07-18T02:00:00+08:00",
          "2023-07-18T03:00:00+08:00",
          "2023-07-18T04:00:00+08:00",
          "2023-07-18T05:00:00+08:00",
          "2023-07-18T06:00:00+08:00",
          "2023-07-18T07:00:00+08:00",
          "2023-07-18T08:00:00+08:00",
          "2023-07-18T09:00:00+08:00",
          "2023-07-18T10:00:00+08:00",
          "2023-07-18T11:00:00+08:00",
          "2023-07-18T12:00:00+08:00",
          "2023-07-18T13:00:00+08:00",
          "2023-07-18T14:00:00+08:00",
          "2023-07-18T15:00:00+08:00",
          "2023-07-18T16:00:00+08:00",
          "2023-07-18T17:00:00+08:00",
          "2023-07-18T18:00:00+08:00",
          "2023-07-18T19:00:00+08:00",
          "2023-07-18T20:00:00+08:00",
          "2023-07-18T21:00:00+08:00",
          "2023-07-18T22:00:00+08:00",
          "2023-07-18T23:00:00+08:00"
         ],
         "xaxis": "x7",
         "y": [
          8505,
          5880,
          6480,
          4658,
          5210,
          9116,
          22109,
          45944,
          51204,
          48468,
          47174,
          46126,
          44978,
          46435,
          46422,
          44944,
          46069,
          45553,
          47780,
          40848,
          33027,
          30720,
          23633,
          15032
         ],
         "yaxis": "y7"
        },
        {
         "alignmentgroup": "True",
         "hovertemplate": "行政區=大同區<br>時段=%{x}<br>車流量=%{y}<extra></extra>",
         "legendgroup": "",
         "marker": {
          "color": "#636efa",
          "pattern": {
           "shape": ""
          }
         },
         "name": "",
         "offsetgroup": "",
         "orientation": "v",
         "showlegend": false,
         "textposition": "auto",
         "type": "bar",
         "x": [
          "2023-07-18T00:00:00+08:00",
          "2023-07-18T01:00:00+08:00",
          "2023-07-18T02:00:00+08:00",
          "2023-07-18T03:00:00+08:00",
          "2023-07-18T04:00:00+08:00",
          "2023-07-18T05:00:00+08:00",
          "2023-07-18T06:00:00+08:00",
          "2023-07-18T07:00:00+08:00",
          "2023-07-18T08:00:00+08:00",
          "2023-07-18T09:00:00+08:00",
          "2023-07-18T10:00:00+08:00",
          "2023-07-18T11:00:00+08:00",
          "2023-07-18T12:00:00+08:00",
          "2023-07-18T13:00:00+08:00",
          "2023-07-18T14:00:00+08:00",
          "2023-07-18T15:00:00+08:00",
          "2023-07-18T16:00:00+08:00",
          "2023-07-18T17:00:00+08:00",
          "2023-07-18T18:00:00+08:00",
          "2023-07-18T19:00:00+08:00",
          "2023-07-18T20:00:00+08:00",
          "2023-07-18T21:00:00+08:00",
          "2023-07-18T22:00:00+08:00",
          "2023-07-18T23:00:00+08:00"
         ],
         "xaxis": "x8",
         "y": [
          4978,
          3631,
          2752,
          2268,
          2213,
          3118,
          6550,
          14415,
          18201,
          17465,
          19015,
          18932,
          17682,
          18891,
          20885,
          20197,
          20425,
          20931,
          20951,
          17794,
          14659,
          14216,
          10899,
          7377
         ],
         "yaxis": "y8"
        },
        {
         "alignmentgroup": "True",
         "hovertemplate": "行政區=大安區<br>時段=%{x}<br>車流量=%{y}<extra></extra>",
         "legendgroup": "",
         "marker": {
          "color": "#636efa",
          "pattern": {
           "shape": ""
          }
         },
         "name": "",
         "offsetgroup": "",
         "orientation": "v",
         "showlegend": false,
         "textposition": "auto",
         "type": "bar",
         "x": [
          "2023-07-18T00:00:00+08:00",
          "2023-07-18T01:00:00+08:00",
          "2023-07-18T02:00:00+08:00",
          "2023-07-18T03:00:00+08:00",
          "2023-07-18T04:00:00+08:00",
          "2023-07-18T05:00:00+08:00",
          "2023-07-18T06:00:00+08:00",
          "2023-07-18T07:00:00+08:00",
          "2023-07-18T08:00:00+08:00",
          "2023-07-18T09:00:00+08:00",
          "2023-07-18T10:00:00+08:00",
          "2023-07-18T11:00:00+08:00",
          "2023-07-18T12:00:00+08:00",
          "2023-07-18T13:00:00+08:00",
          "2023-07-18T14:00:00+08:00",
          "2023-07-18T15:00:00+08:00",
          "2023-07-18T16:00:00+08:00",
          "2023-07-18T17:00:00+08:00",
          "2023-07-18T18:00:00+08:00",
          "2023-07-18T19:00:00+08:00",
          "2023-07-18T20:00:00+08:00",
          "2023-07-18T21:00:00+08:00",
          "2023-07-18T22:00:00+08:00",
          "2023-07-18T23:00:00+08:00"
         ],
         "xaxis": "x9",
         "y": [
          9376,
          6638,
          4802,
          3957,
          3571,
          5869,
          15696,
          45776,
          64736,
          58462,
          53606,
          53210,
          52002,
          52267,
          52429,
          51526,
          55640,
          61584,
          60482,
          47193,
          37649,
          36323,
          26031,
          16547
         ],
         "yaxis": "y9"
        },
        {
         "alignmentgroup": "True",
         "hovertemplate": "行政區=文山區<br>時段=%{x}<br>車流量=%{y}<extra></extra>",
         "legendgroup": "",
         "marker": {
          "color": "#636efa",
          "pattern": {
           "shape": ""
          }
         },
         "name": "",
         "offsetgroup": "",
         "orientation": "v",
         "showlegend": false,
         "textposition": "auto",
         "type": "bar",
         "x": [
          "2023-07-18T00:00:00+08:00",
          "2023-07-18T01:00:00+08:00",
          "2023-07-18T02:00:00+08:00",
          "2023-07-18T03:00:00+08:00",
          "2023-07-18T04:00:00+08:00",
          "2023-07-18T05:00:00+08:00",
          "2023-07-18T06:00:00+08:00",
          "2023-07-18T07:00:00+08:00",
          "2023-07-18T08:00:00+08:00",
          "2023-07-18T09:00:00+08:00",
          "2023-07-18T10:00:00+08:00",
          "2023-07-18T11:00:00+08:00",
          "2023-07-18T12:00:00+08:00",
          "2023-07-18T13:00:00+08:00",
          "2023-07-18T14:00:00+08:00",
          "2023-07-18T15:00:00+08:00",
          "2023-07-18T16:00:00+08:00",
          "2023-07-18T17:00:00+08:00",
          "2023-07-18T18:00:00+08:00",
          "2023-07-18T19:00:00+08:00",
          "2023-07-18T20:00:00+08:00",
          "2023-07-18T21:00:00+08:00",
          "2023-07-18T22:00:00+08:00",
          "2023-07-18T23:00:00+08:00"
         ],
         "xaxis": "x10",
         "y": [
          2351,
          1779,
          1222,
          1065,
          1059,
          1998,
          5633,
          15724,
          19245,
          15305,
          13541,
          13032,
          12284,
          12731,
          11504,
          13640,
          14937,
          18320,
          17411,
          13927,
          11044,
          9997,
          7260,
          4377
         ],
         "yaxis": "y10"
        },
        {
         "alignmentgroup": "True",
         "hovertemplate": "行政區=松山區<br>時段=%{x}<br>車流量=%{y}<extra></extra>",
         "legendgroup": "",
         "marker": {
          "color": "#636efa",
          "pattern": {
           "shape": ""
          }
         },
         "name": "",
         "offsetgroup": "",
         "orientation": "v",
         "showlegend": false,
         "textposition": "auto",
         "type": "bar",
         "x": [
          "2023-07-18T00:00:00+08:00",
          "2023-07-18T01:00:00+08:00",
          "2023-07-18T02:00:00+08:00",
          "2023-07-18T03:00:00+08:00",
          "2023-07-18T04:00:00+08:00",
          "2023-07-18T05:00:00+08:00",
          "2023-07-18T06:00:00+08:00",
          "2023-07-18T07:00:00+08:00",
          "2023-07-18T08:00:00+08:00",
          "2023-07-18T09:00:00+08:00",
          "2023-07-18T10:00:00+08:00",
          "2023-07-18T11:00:00+08:00",
          "2023-07-18T12:00:00+08:00",
          "2023-07-18T13:00:00+08:00",
          "2023-07-18T14:00:00+08:00",
          "2023-07-18T15:00:00+08:00",
          "2023-07-18T16:00:00+08:00",
          "2023-07-18T17:00:00+08:00",
          "2023-07-18T18:00:00+08:00",
          "2023-07-18T19:00:00+08:00",
          "2023-07-18T20:00:00+08:00",
          "2023-07-18T21:00:00+08:00",
          "2023-07-18T22:00:00+08:00",
          "2023-07-18T23:00:00+08:00"
         ],
         "xaxis": "x11",
         "y": [
          3955,
          2633,
          1834,
          1484,
          1708,
          3597,
          7995,
          20419,
          31115,
          27815,
          25873,
          25118,
          23816,
          24856,
          26204,
          24954,
          26113,
          29727,
          30821,
          24205,
          16959,
          15948,
          11091,
          7869
         ],
         "yaxis": "y11"
        },
        {
         "alignmentgroup": "True",
         "hovertemplate": "行政區=萬華區<br>時段=%{x}<br>車流量=%{y}<extra></extra>",
         "legendgroup": "",
         "marker": {
          "color": "#636efa",
          "pattern": {
           "shape": ""
          }
         },
         "name": "",
         "offsetgroup": "",
         "orientation": "v",
         "showlegend": false,
         "textposition": "auto",
         "type": "bar",
         "x": [
          "2023-07-18T00:00:00+08:00",
          "2023-07-18T01:00:00+08:00",
          "2023-07-18T02:00:00+08:00",
          "2023-07-18T03:00:00+08:00",
          "2023-07-18T04:00:00+08:00",
          "2023-07-18T05:00:00+08:00",
          "2023-07-18T06:00:00+08:00",
          "2023-07-18T07:00:00+08:00",
          "2023-07-18T08:00:00+08:00",
          "2023-07-18T09:00:00+08:00",
          "2023-07-18T10:00:00+08:00",
          "2023-07-18T11:00:00+08:00",
          "2023-07-18T12:00:00+08:00",
          "2023-07-18T13:00:00+08:00",
          "2023-07-18T14:00:00+08:00",
          "2023-07-18T15:00:00+08:00",
          "2023-07-18T16:00:00+08:00",
          "2023-07-18T17:00:00+08:00",
          "2023-07-18T18:00:00+08:00",
          "2023-07-18T19:00:00+08:00",
          "2023-07-18T20:00:00+08:00",
          "2023-07-18T21:00:00+08:00",
          "2023-07-18T22:00:00+08:00",
          "2023-07-18T23:00:00+08:00"
         ],
         "xaxis": "x12",
         "y": [
          4133,
          3509,
          2886,
          2797,
          2983,
          3722,
          6314,
          14167,
          16559,
          13823,
          13098,
          13089,
          12128,
          12833,
          13957,
          13598,
          14043,
          15612,
          15030,
          11581,
          10105,
          9840,
          7886,
          5584
         ],
         "yaxis": "y12"
        }
       ],
       "layout": {
        "annotations": [
         {
          "font": {},
          "showarrow": false,
          "text": "行政區=中山區",
          "x": 0.0325,
          "xanchor": "center",
          "xref": "paper",
          "y": 1,
          "yanchor": "bottom",
          "yref": "paper"
         },
         {
          "font": {},
          "showarrow": false,
          "text": "行政區=中正區",
          "x": 0.11750000000000002,
          "xanchor": "center",
          "xref": "paper",
          "y": 1,
          "yanchor": "bottom",
          "yref": "paper"
         },
         {
          "font": {},
          "showarrow": false,
          "text": "行政區=信義區",
          "x": 0.2025,
          "xanchor": "center",
          "xref": "paper",
          "y": 1,
          "yanchor": "bottom",
          "yref": "paper"
         },
         {
          "font": {},
          "showarrow": false,
          "text": "行政區=內湖區",
          "x": 0.2875,
          "xanchor": "center",
          "xref": "paper",
          "y": 1,
          "yanchor": "bottom",
          "yref": "paper"
         },
         {
          "font": {},
          "showarrow": false,
          "text": "行政區=北投區",
          "x": 0.37250000000000005,
          "xanchor": "center",
          "xref": "paper",
          "y": 1,
          "yanchor": "bottom",
          "yref": "paper"
         },
         {
          "font": {},
          "showarrow": false,
          "text": "行政區=南港區",
          "x": 0.4575,
          "xanchor": "center",
          "xref": "paper",
          "y": 1,
          "yanchor": "bottom",
          "yref": "paper"
         },
         {
          "font": {},
          "showarrow": false,
          "text": "行政區=士林區",
          "x": 0.5425,
          "xanchor": "center",
          "xref": "paper",
          "y": 1,
          "yanchor": "bottom",
          "yref": "paper"
         },
         {
          "font": {},
          "showarrow": false,
          "text": "行政區=大同區",
          "x": 0.6275,
          "xanchor": "center",
          "xref": "paper",
          "y": 1,
          "yanchor": "bottom",
          "yref": "paper"
         },
         {
          "font": {},
          "showarrow": false,
          "text": "行政區=大安區",
          "x": 0.7125000000000001,
          "xanchor": "center",
          "xref": "paper",
          "y": 1,
          "yanchor": "bottom",
          "yref": "paper"
         },
         {
          "font": {},
          "showarrow": false,
          "text": "行政區=文山區",
          "x": 0.7974999999999999,
          "xanchor": "center",
          "xref": "paper",
          "y": 1,
          "yanchor": "bottom",
          "yref": "paper"
         },
         {
          "font": {},
          "showarrow": false,
          "text": "行政區=松山區",
          "x": 0.8824999999999998,
          "xanchor": "center",
          "xref": "paper",
          "y": 1,
          "yanchor": "bottom",
          "yref": "paper"
         },
         {
          "font": {},
          "showarrow": false,
          "text": "行政區=萬華區",
          "x": 0.9674999999999998,
          "xanchor": "center",
          "xref": "paper",
          "y": 1,
          "yanchor": "bottom",
          "yref": "paper"
         }
        ],
        "barmode": "relative",
        "legend": {
         "tracegroupgap": 0
        },
        "template": {
         "data": {
          "bar": [
           {
            "error_x": {
             "color": "#2a3f5f"
            },
            "error_y": {
             "color": "#2a3f5f"
            },
            "marker": {
             "line": {
              "color": "#E5ECF6",
              "width": 0.5
             },
             "pattern": {
              "fillmode": "overlay",
              "size": 10,
              "solidity": 0.2
             }
            },
            "type": "bar"
           }
          ],
          "barpolar": [
           {
            "marker": {
             "line": {
              "color": "#E5ECF6",
              "width": 0.5
             },
             "pattern": {
              "fillmode": "overlay",
              "size": 10,
              "solidity": 0.2
             }
            },
            "type": "barpolar"
           }
          ],
          "carpet": [
           {
            "aaxis": {
             "endlinecolor": "#2a3f5f",
             "gridcolor": "white",
             "linecolor": "white",
             "minorgridcolor": "white",
             "startlinecolor": "#2a3f5f"
            },
            "baxis": {
             "endlinecolor": "#2a3f5f",
             "gridcolor": "white",
             "linecolor": "white",
             "minorgridcolor": "white",
             "startlinecolor": "#2a3f5f"
            },
            "type": "carpet"
           }
          ],
          "choropleth": [
           {
            "colorbar": {
             "outlinewidth": 0,
             "ticks": ""
            },
            "type": "choropleth"
           }
          ],
          "contour": [
           {
            "colorbar": {
             "outlinewidth": 0,
             "ticks": ""
            },
            "colorscale": [
             [
              0,
              "#0d0887"
             ],
             [
              0.1111111111111111,
              "#46039f"
             ],
             [
              0.2222222222222222,
              "#7201a8"
             ],
             [
              0.3333333333333333,
              "#9c179e"
             ],
             [
              0.4444444444444444,
              "#bd3786"
             ],
             [
              0.5555555555555556,
              "#d8576b"
             ],
             [
              0.6666666666666666,
              "#ed7953"
             ],
             [
              0.7777777777777778,
              "#fb9f3a"
             ],
             [
              0.8888888888888888,
              "#fdca26"
             ],
             [
              1,
              "#f0f921"
             ]
            ],
            "type": "contour"
           }
          ],
          "contourcarpet": [
           {
            "colorbar": {
             "outlinewidth": 0,
             "ticks": ""
            },
            "type": "contourcarpet"
           }
          ],
          "heatmap": [
           {
            "colorbar": {
             "outlinewidth": 0,
             "ticks": ""
            },
            "colorscale": [
             [
              0,
              "#0d0887"
             ],
             [
              0.1111111111111111,
              "#46039f"
             ],
             [
              0.2222222222222222,
              "#7201a8"
             ],
             [
              0.3333333333333333,
              "#9c179e"
             ],
             [
              0.4444444444444444,
              "#bd3786"
             ],
             [
              0.5555555555555556,
              "#d8576b"
             ],
             [
              0.6666666666666666,
              "#ed7953"
             ],
             [
              0.7777777777777778,
              "#fb9f3a"
             ],
             [
              0.8888888888888888,
              "#fdca26"
             ],
             [
              1,
              "#f0f921"
             ]
            ],
            "type": "heatmap"
           }
          ],
          "heatmapgl": [
           {
            "colorbar": {
             "outlinewidth": 0,
             "ticks": ""
            },
            "colorscale": [
             [
              0,
              "#0d0887"
             ],
             [
              0.1111111111111111,
              "#46039f"
             ],
             [
              0.2222222222222222,
              "#7201a8"
             ],
             [
              0.3333333333333333,
              "#9c179e"
             ],
             [
              0.4444444444444444,
              "#bd3786"
             ],
             [
              0.5555555555555556,
              "#d8576b"
             ],
             [
              0.6666666666666666,
              "#ed7953"
             ],
             [
              0.7777777777777778,
              "#fb9f3a"
             ],
             [
              0.8888888888888888,
              "#fdca26"
             ],
             [
              1,
              "#f0f921"
             ]
            ],
            "type": "heatmapgl"
           }
          ],
          "histogram": [
           {
            "marker": {
             "pattern": {
              "fillmode": "overlay",
              "size": 10,
              "solidity": 0.2
             }
            },
            "type": "histogram"
           }
          ],
          "histogram2d": [
           {
            "colorbar": {
             "outlinewidth": 0,
             "ticks": ""
            },
            "colorscale": [
             [
              0,
              "#0d0887"
             ],
             [
              0.1111111111111111,
              "#46039f"
             ],
             [
              0.2222222222222222,
              "#7201a8"
             ],
             [
              0.3333333333333333,
              "#9c179e"
             ],
             [
              0.4444444444444444,
              "#bd3786"
             ],
             [
              0.5555555555555556,
              "#d8576b"
             ],
             [
              0.6666666666666666,
              "#ed7953"
             ],
             [
              0.7777777777777778,
              "#fb9f3a"
             ],
             [
              0.8888888888888888,
              "#fdca26"
             ],
             [
              1,
              "#f0f921"
             ]
            ],
            "type": "histogram2d"
           }
          ],
          "histogram2dcontour": [
           {
            "colorbar": {
             "outlinewidth": 0,
             "ticks": ""
            },
            "colorscale": [
             [
              0,
              "#0d0887"
             ],
             [
              0.1111111111111111,
              "#46039f"
             ],
             [
              0.2222222222222222,
              "#7201a8"
             ],
             [
              0.3333333333333333,
              "#9c179e"
             ],
             [
              0.4444444444444444,
              "#bd3786"
             ],
             [
              0.5555555555555556,
              "#d8576b"
             ],
             [
              0.6666666666666666,
              "#ed7953"
             ],
             [
              0.7777777777777778,
              "#fb9f3a"
             ],
             [
              0.8888888888888888,
              "#fdca26"
             ],
             [
              1,
              "#f0f921"
             ]
            ],
            "type": "histogram2dcontour"
           }
          ],
          "mesh3d": [
           {
            "colorbar": {
             "outlinewidth": 0,
             "ticks": ""
            },
            "type": "mesh3d"
           }
          ],
          "parcoords": [
           {
            "line": {
             "colorbar": {
              "outlinewidth": 0,
              "ticks": ""
             }
            },
            "type": "parcoords"
           }
          ],
          "pie": [
           {
            "automargin": true,
            "type": "pie"
           }
          ],
          "scatter": [
           {
            "fillpattern": {
             "fillmode": "overlay",
             "size": 10,
             "solidity": 0.2
            },
            "type": "scatter"
           }
          ],
          "scatter3d": [
           {
            "line": {
             "colorbar": {
              "outlinewidth": 0,
              "ticks": ""
             }
            },
            "marker": {
             "colorbar": {
              "outlinewidth": 0,
              "ticks": ""
             }
            },
            "type": "scatter3d"
           }
          ],
          "scattercarpet": [
           {
            "marker": {
             "colorbar": {
              "outlinewidth": 0,
              "ticks": ""
             }
            },
            "type": "scattercarpet"
           }
          ],
          "scattergeo": [
           {
            "marker": {
             "colorbar": {
              "outlinewidth": 0,
              "ticks": ""
             }
            },
            "type": "scattergeo"
           }
          ],
          "scattergl": [
           {
            "marker": {
             "colorbar": {
              "outlinewidth": 0,
              "ticks": ""
             }
            },
            "type": "scattergl"
           }
          ],
          "scattermapbox": [
           {
            "marker": {
             "colorbar": {
              "outlinewidth": 0,
              "ticks": ""
             }
            },
            "type": "scattermapbox"
           }
          ],
          "scatterpolar": [
           {
            "marker": {
             "colorbar": {
              "outlinewidth": 0,
              "ticks": ""
             }
            },
            "type": "scatterpolar"
           }
          ],
          "scatterpolargl": [
           {
            "marker": {
             "colorbar": {
              "outlinewidth": 0,
              "ticks": ""
             }
            },
            "type": "scatterpolargl"
           }
          ],
          "scatterternary": [
           {
            "marker": {
             "colorbar": {
              "outlinewidth": 0,
              "ticks": ""
             }
            },
            "type": "scatterternary"
           }
          ],
          "surface": [
           {
            "colorbar": {
             "outlinewidth": 0,
             "ticks": ""
            },
            "colorscale": [
             [
              0,
              "#0d0887"
             ],
             [
              0.1111111111111111,
              "#46039f"
             ],
             [
              0.2222222222222222,
              "#7201a8"
             ],
             [
              0.3333333333333333,
              "#9c179e"
             ],
             [
              0.4444444444444444,
              "#bd3786"
             ],
             [
              0.5555555555555556,
              "#d8576b"
             ],
             [
              0.6666666666666666,
              "#ed7953"
             ],
             [
              0.7777777777777778,
              "#fb9f3a"
             ],
             [
              0.8888888888888888,
              "#fdca26"
             ],
             [
              1,
              "#f0f921"
             ]
            ],
            "type": "surface"
           }
          ],
          "table": [
           {
            "cells": {
             "fill": {
              "color": "#EBF0F8"
             },
             "line": {
              "color": "white"
             }
            },
            "header": {
             "fill": {
              "color": "#C8D4E3"
             },
             "line": {
              "color": "white"
             }
            },
            "type": "table"
           }
          ]
         },
         "layout": {
          "annotationdefaults": {
           "arrowcolor": "#2a3f5f",
           "arrowhead": 0,
           "arrowwidth": 1
          },
          "autotypenumbers": "strict",
          "coloraxis": {
           "colorbar": {
            "outlinewidth": 0,
            "ticks": ""
           }
          },
          "colorscale": {
           "diverging": [
            [
             0,
             "#8e0152"
            ],
            [
             0.1,
             "#c51b7d"
            ],
            [
             0.2,
             "#de77ae"
            ],
            [
             0.3,
             "#f1b6da"
            ],
            [
             0.4,
             "#fde0ef"
            ],
            [
             0.5,
             "#f7f7f7"
            ],
            [
             0.6,
             "#e6f5d0"
            ],
            [
             0.7,
             "#b8e186"
            ],
            [
             0.8,
             "#7fbc41"
            ],
            [
             0.9,
             "#4d9221"
            ],
            [
             1,
             "#276419"
            ]
           ],
           "sequential": [
            [
             0,
             "#0d0887"
            ],
            [
             0.1111111111111111,
             "#46039f"
            ],
            [
             0.2222222222222222,
             "#7201a8"
            ],
            [
             0.3333333333333333,
             "#9c179e"
            ],
            [
             0.4444444444444444,
             "#bd3786"
            ],
            [
             0.5555555555555556,
             "#d8576b"
            ],
            [
             0.6666666666666666,
             "#ed7953"
            ],
            [
             0.7777777777777778,
             "#fb9f3a"
            ],
            [
             0.8888888888888888,
             "#fdca26"
            ],
            [
             1,
             "#f0f921"
            ]
           ],
           "sequentialminus": [
            [
             0,
             "#0d0887"
            ],
            [
             0.1111111111111111,
             "#46039f"
            ],
            [
             0.2222222222222222,
             "#7201a8"
            ],
            [
             0.3333333333333333,
             "#9c179e"
            ],
            [
             0.4444444444444444,
             "#bd3786"
            ],
            [
             0.5555555555555556,
             "#d8576b"
            ],
            [
             0.6666666666666666,
             "#ed7953"
            ],
            [
             0.7777777777777778,
             "#fb9f3a"
            ],
            [
             0.8888888888888888,
             "#fdca26"
            ],
            [
             1,
             "#f0f921"
            ]
           ]
          },
          "colorway": [
           "#636efa",
           "#EF553B",
           "#00cc96",
           "#ab63fa",
           "#FFA15A",
           "#19d3f3",
           "#FF6692",
           "#B6E880",
           "#FF97FF",
           "#FECB52"
          ],
          "font": {
           "color": "#2a3f5f"
          },
          "geo": {
           "bgcolor": "white",
           "lakecolor": "white",
           "landcolor": "#E5ECF6",
           "showlakes": true,
           "showland": true,
           "subunitcolor": "white"
          },
          "hoverlabel": {
           "align": "left"
          },
          "hovermode": "closest",
          "mapbox": {
           "style": "light"
          },
          "paper_bgcolor": "white",
          "plot_bgcolor": "#E5ECF6",
          "polar": {
           "angularaxis": {
            "gridcolor": "white",
            "linecolor": "white",
            "ticks": ""
           },
           "bgcolor": "#E5ECF6",
           "radialaxis": {
            "gridcolor": "white",
            "linecolor": "white",
            "ticks": ""
           }
          },
          "scene": {
           "xaxis": {
            "backgroundcolor": "#E5ECF6",
            "gridcolor": "white",
            "gridwidth": 2,
            "linecolor": "white",
            "showbackground": true,
            "ticks": "",
            "zerolinecolor": "white"
           },
           "yaxis": {
            "backgroundcolor": "#E5ECF6",
            "gridcolor": "white",
            "gridwidth": 2,
            "linecolor": "white",
            "showbackground": true,
            "ticks": "",
            "zerolinecolor": "white"
           },
           "zaxis": {
            "backgroundcolor": "#E5ECF6",
            "gridcolor": "white",
            "gridwidth": 2,
            "linecolor": "white",
            "showbackground": true,
            "ticks": "",
            "zerolinecolor": "white"
           }
          },
          "shapedefaults": {
           "line": {
            "color": "#2a3f5f"
           }
          },
          "ternary": {
           "aaxis": {
            "gridcolor": "white",
            "linecolor": "white",
            "ticks": ""
           },
           "baxis": {
            "gridcolor": "white",
            "linecolor": "white",
            "ticks": ""
           },
           "bgcolor": "#E5ECF6",
           "caxis": {
            "gridcolor": "white",
            "linecolor": "white",
            "ticks": ""
           }
          },
          "title": {
           "x": 0.05
          },
          "xaxis": {
           "automargin": true,
           "gridcolor": "white",
           "linecolor": "white",
           "ticks": "",
           "title": {
            "standoff": 15
           },
           "zerolinecolor": "white",
           "zerolinewidth": 2
          },
          "yaxis": {
           "automargin": true,
           "gridcolor": "white",
           "linecolor": "white",
           "ticks": "",
           "title": {
            "standoff": 15
           },
           "zerolinecolor": "white",
           "zerolinewidth": 2
          }
         }
        },
        "title": {
         "text": "台北市各行政區車流量分佈"
        },
        "xaxis": {
         "anchor": "y",
         "domain": [
          0,
          0.065
         ],
         "title": {
          "text": "時段"
         }
        },
        "xaxis10": {
         "anchor": "y10",
         "domain": [
          0.7649999999999999,
          0.8299999999999998
         ],
         "matches": "x",
         "title": {
          "text": "時段"
         }
        },
        "xaxis11": {
         "anchor": "y11",
         "domain": [
          0.8499999999999999,
          0.9149999999999998
         ],
         "matches": "x",
         "title": {
          "text": "時段"
         }
        },
        "xaxis12": {
         "anchor": "y12",
         "domain": [
          0.9349999999999998,
          0.9999999999999998
         ],
         "matches": "x",
         "title": {
          "text": "時段"
         }
        },
        "xaxis2": {
         "anchor": "y2",
         "domain": [
          0.085,
          0.15000000000000002
         ],
         "matches": "x",
         "title": {
          "text": "時段"
         }
        },
        "xaxis3": {
         "anchor": "y3",
         "domain": [
          0.17,
          0.23500000000000001
         ],
         "matches": "x",
         "title": {
          "text": "時段"
         }
        },
        "xaxis4": {
         "anchor": "y4",
         "domain": [
          0.255,
          0.32
         ],
         "matches": "x",
         "title": {
          "text": "時段"
         }
        },
        "xaxis5": {
         "anchor": "y5",
         "domain": [
          0.34,
          0.405
         ],
         "matches": "x",
         "title": {
          "text": "時段"
         }
        },
        "xaxis6": {
         "anchor": "y6",
         "domain": [
          0.42500000000000004,
          0.49000000000000005
         ],
         "matches": "x",
         "title": {
          "text": "時段"
         }
        },
        "xaxis7": {
         "anchor": "y7",
         "domain": [
          0.51,
          0.575
         ],
         "matches": "x",
         "title": {
          "text": "時段"
         }
        },
        "xaxis8": {
         "anchor": "y8",
         "domain": [
          0.595,
          0.6599999999999999
         ],
         "matches": "x",
         "title": {
          "text": "時段"
         }
        },
        "xaxis9": {
         "anchor": "y9",
         "domain": [
          0.68,
          0.7450000000000001
         ],
         "matches": "x",
         "title": {
          "text": "時段"
         }
        },
        "yaxis": {
         "anchor": "x",
         "domain": [
          0,
          1
         ],
         "title": {
          "text": "車流量"
         }
        },
        "yaxis10": {
         "anchor": "x10",
         "domain": [
          0,
          1
         ],
         "matches": "y",
         "showticklabels": false
        },
        "yaxis11": {
         "anchor": "x11",
         "domain": [
          0,
          1
         ],
         "matches": "y",
         "showticklabels": false
        },
        "yaxis12": {
         "anchor": "x12",
         "domain": [
          0,
          1
         ],
         "matches": "y",
         "showticklabels": false
        },
        "yaxis2": {
         "anchor": "x2",
         "domain": [
          0,
          1
         ],
         "matches": "y",
         "showticklabels": false
        },
        "yaxis3": {
         "anchor": "x3",
         "domain": [
          0,
          1
         ],
         "matches": "y",
         "showticklabels": false
        },
        "yaxis4": {
         "anchor": "x4",
         "domain": [
          0,
          1
         ],
         "matches": "y",
         "showticklabels": false
        },
        "yaxis5": {
         "anchor": "x5",
         "domain": [
          0,
          1
         ],
         "matches": "y",
         "showticklabels": false
        },
        "yaxis6": {
         "anchor": "x6",
         "domain": [
          0,
          1
         ],
         "matches": "y",
         "showticklabels": false
        },
        "yaxis7": {
         "anchor": "x7",
         "domain": [
          0,
          1
         ],
         "matches": "y",
         "showticklabels": false
        },
        "yaxis8": {
         "anchor": "x8",
         "domain": [
          0,
          1
         ],
         "matches": "y",
         "showticklabels": false
        },
        "yaxis9": {
         "anchor": "x9",
         "domain": [
          0,
          1
         ],
         "matches": "y",
         "showticklabels": false
        }
       }
      }
     },
     "metadata": {},
     "output_type": "display_data"
    }
   ],
   "source": [
    "px.bar(plot.groupby([\"DataCollectTime\", \"TownName\"])[[\"VehicleVolume\"]].sum().reset_index(), x=\"DataCollectTime\",\\\n",
    "    y=\"VehicleVolume\", facet_col=\"TownName\", title=\"台北市各行政區車流量分佈\", labels={\"DataCollectTime\": \"時段\", \"TownName\": \"行政區\", \"VehicleVolume\": \"車流量\"})"
   ]
  },
  {
   "cell_type": "code",
   "execution_count": 19,
   "metadata": {},
   "outputs": [
    {
     "data": {
      "application/vnd.plotly.v1+json": {
       "config": {
        "plotlyServerURL": "https://plot.ly"
       },
       "data": [
        {
         "alignmentgroup": "True",
         "hovertemplate": "路段名=中山北路一段<br>行政區=中山區<br>時段=%{x}<br>車流量=%{y}<extra></extra>",
         "legendgroup": "中山北路一段",
         "marker": {
          "color": "#636efa",
          "pattern": {
           "shape": ""
          }
         },
         "name": "中山北路一段",
         "offsetgroup": "中山北路一段",
         "orientation": "v",
         "showlegend": true,
         "textposition": "auto",
         "type": "bar",
         "x": [
          "2023-07-18T00:00:00+08:00",
          "2023-07-18T01:00:00+08:00",
          "2023-07-18T02:00:00+08:00",
          "2023-07-18T03:00:00+08:00",
          "2023-07-18T04:00:00+08:00",
          "2023-07-18T05:00:00+08:00",
          "2023-07-18T06:00:00+08:00",
          "2023-07-18T07:00:00+08:00",
          "2023-07-18T08:00:00+08:00",
          "2023-07-18T09:00:00+08:00",
          "2023-07-18T10:00:00+08:00",
          "2023-07-18T11:00:00+08:00",
          "2023-07-18T12:00:00+08:00",
          "2023-07-18T13:00:00+08:00",
          "2023-07-18T14:00:00+08:00",
          "2023-07-18T15:00:00+08:00",
          "2023-07-18T16:00:00+08:00",
          "2023-07-18T17:00:00+08:00",
          "2023-07-18T18:00:00+08:00",
          "2023-07-18T19:00:00+08:00",
          "2023-07-18T20:00:00+08:00",
          "2023-07-18T21:00:00+08:00",
          "2023-07-18T22:00:00+08:00",
          "2023-07-18T23:00:00+08:00"
         ],
         "xaxis": "x",
         "y": [
          231,
          148,
          105,
          80,
          69,
          119,
          236,
          765,
          1221,
          1169,
          1084,
          1090,
          1018,
          1015,
          1018,
          1104,
          1111,
          1148,
          1289,
          925,
          760,
          708,
          559,
          329
         ],
         "yaxis": "y"
        },
        {
         "alignmentgroup": "True",
         "hovertemplate": "路段名=中山北路三段<br>行政區=中山區<br>時段=%{x}<br>車流量=%{y}<extra></extra>",
         "legendgroup": "中山北路三段",
         "marker": {
          "color": "#EF553B",
          "pattern": {
           "shape": ""
          }
         },
         "name": "中山北路三段",
         "offsetgroup": "中山北路三段",
         "orientation": "v",
         "showlegend": true,
         "textposition": "auto",
         "type": "bar",
         "x": [
          "2023-07-18T00:00:00+08:00",
          "2023-07-18T01:00:00+08:00",
          "2023-07-18T02:00:00+08:00",
          "2023-07-18T03:00:00+08:00",
          "2023-07-18T04:00:00+08:00",
          "2023-07-18T05:00:00+08:00",
          "2023-07-18T06:00:00+08:00",
          "2023-07-18T07:00:00+08:00",
          "2023-07-18T08:00:00+08:00",
          "2023-07-18T09:00:00+08:00",
          "2023-07-18T10:00:00+08:00",
          "2023-07-18T11:00:00+08:00",
          "2023-07-18T12:00:00+08:00",
          "2023-07-18T13:00:00+08:00",
          "2023-07-18T14:00:00+08:00",
          "2023-07-18T15:00:00+08:00",
          "2023-07-18T16:00:00+08:00",
          "2023-07-18T17:00:00+08:00",
          "2023-07-18T18:00:00+08:00",
          "2023-07-18T19:00:00+08:00",
          "2023-07-18T20:00:00+08:00",
          "2023-07-18T21:00:00+08:00",
          "2023-07-18T22:00:00+08:00",
          "2023-07-18T23:00:00+08:00"
         ],
         "xaxis": "x",
         "y": [
          288,
          189,
          142,
          111,
          117,
          213,
          509,
          1216,
          1683,
          1668,
          1672,
          1697,
          1438,
          1698,
          1685,
          1645,
          1807,
          1682,
          2031,
          1715,
          1298,
          1192,
          834,
          456
         ],
         "yaxis": "y"
        },
        {
         "alignmentgroup": "True",
         "hovertemplate": "路段名=中山北路二段<br>行政區=中山區<br>時段=%{x}<br>車流量=%{y}<extra></extra>",
         "legendgroup": "中山北路二段",
         "marker": {
          "color": "#00cc96",
          "pattern": {
           "shape": ""
          }
         },
         "name": "中山北路二段",
         "offsetgroup": "中山北路二段",
         "orientation": "v",
         "showlegend": true,
         "textposition": "auto",
         "type": "bar",
         "x": [
          "2023-07-18T00:00:00+08:00",
          "2023-07-18T01:00:00+08:00",
          "2023-07-18T02:00:00+08:00",
          "2023-07-18T03:00:00+08:00",
          "2023-07-18T04:00:00+08:00",
          "2023-07-18T05:00:00+08:00",
          "2023-07-18T06:00:00+08:00",
          "2023-07-18T07:00:00+08:00",
          "2023-07-18T08:00:00+08:00",
          "2023-07-18T09:00:00+08:00",
          "2023-07-18T10:00:00+08:00",
          "2023-07-18T11:00:00+08:00",
          "2023-07-18T12:00:00+08:00",
          "2023-07-18T13:00:00+08:00",
          "2023-07-18T14:00:00+08:00",
          "2023-07-18T15:00:00+08:00",
          "2023-07-18T16:00:00+08:00",
          "2023-07-18T17:00:00+08:00",
          "2023-07-18T18:00:00+08:00",
          "2023-07-18T19:00:00+08:00",
          "2023-07-18T20:00:00+08:00",
          "2023-07-18T21:00:00+08:00",
          "2023-07-18T22:00:00+08:00",
          "2023-07-18T23:00:00+08:00"
         ],
         "xaxis": "x",
         "y": [
          458,
          361,
          279,
          203,
          192,
          316,
          559,
          1506,
          2096,
          2115,
          2073,
          2148,
          1692,
          2091,
          2151,
          2200,
          2189,
          2617,
          2700,
          1965,
          1414,
          1346,
          946,
          651
         ],
         "yaxis": "y"
        },
        {
         "alignmentgroup": "True",
         "hovertemplate": "路段名=中山北路四段<br>行政區=中山區<br>時段=%{x}<br>車流量=%{y}<extra></extra>",
         "legendgroup": "中山北路四段",
         "marker": {
          "color": "#ab63fa",
          "pattern": {
           "shape": ""
          }
         },
         "name": "中山北路四段",
         "offsetgroup": "中山北路四段",
         "orientation": "v",
         "showlegend": true,
         "textposition": "auto",
         "type": "bar",
         "x": [
          "2023-07-18T00:00:00+08:00",
          "2023-07-18T01:00:00+08:00",
          "2023-07-18T02:00:00+08:00",
          "2023-07-18T03:00:00+08:00",
          "2023-07-18T04:00:00+08:00",
          "2023-07-18T05:00:00+08:00",
          "2023-07-18T06:00:00+08:00",
          "2023-07-18T07:00:00+08:00",
          "2023-07-18T08:00:00+08:00",
          "2023-07-18T09:00:00+08:00",
          "2023-07-18T10:00:00+08:00",
          "2023-07-18T11:00:00+08:00",
          "2023-07-18T12:00:00+08:00",
          "2023-07-18T13:00:00+08:00",
          "2023-07-18T14:00:00+08:00",
          "2023-07-18T15:00:00+08:00",
          "2023-07-18T16:00:00+08:00",
          "2023-07-18T17:00:00+08:00",
          "2023-07-18T18:00:00+08:00",
          "2023-07-18T19:00:00+08:00",
          "2023-07-18T20:00:00+08:00",
          "2023-07-18T21:00:00+08:00",
          "2023-07-18T22:00:00+08:00",
          "2023-07-18T23:00:00+08:00"
         ],
         "xaxis": "x",
         "y": [
          116,
          76,
          55,
          38,
          36,
          65,
          143,
          391,
          449,
          602,
          664,
          591,
          639,
          649,
          770,
          823,
          828,
          1005,
          1171,
          1023,
          619,
          562,
          374,
          215
         ],
         "yaxis": "y"
        },
        {
         "alignmentgroup": "True",
         "hovertemplate": "路段名=中山北路四段<br>行政區=士林區<br>時段=%{x}<br>車流量=%{y}<extra></extra>",
         "legendgroup": "中山北路四段",
         "marker": {
          "color": "#ab63fa",
          "pattern": {
           "shape": ""
          }
         },
         "name": "中山北路四段",
         "offsetgroup": "中山北路四段",
         "orientation": "v",
         "showlegend": false,
         "textposition": "auto",
         "type": "bar",
         "x": [
          "2023-07-18T00:00:00+08:00",
          "2023-07-18T01:00:00+08:00",
          "2023-07-18T02:00:00+08:00",
          "2023-07-18T03:00:00+08:00",
          "2023-07-18T04:00:00+08:00",
          "2023-07-18T05:00:00+08:00",
          "2023-07-18T06:00:00+08:00",
          "2023-07-18T07:00:00+08:00",
          "2023-07-18T08:00:00+08:00",
          "2023-07-18T09:00:00+08:00",
          "2023-07-18T10:00:00+08:00",
          "2023-07-18T11:00:00+08:00",
          "2023-07-18T12:00:00+08:00",
          "2023-07-18T13:00:00+08:00",
          "2023-07-18T14:00:00+08:00",
          "2023-07-18T15:00:00+08:00",
          "2023-07-18T16:00:00+08:00",
          "2023-07-18T17:00:00+08:00",
          "2023-07-18T18:00:00+08:00",
          "2023-07-18T19:00:00+08:00",
          "2023-07-18T20:00:00+08:00",
          "2023-07-18T21:00:00+08:00",
          "2023-07-18T22:00:00+08:00",
          "2023-07-18T23:00:00+08:00"
         ],
         "xaxis": "x3",
         "y": [
          412,
          283,
          225,
          156,
          138,
          298,
          807,
          2683,
          3049,
          2885,
          2458,
          2373,
          2134,
          2346,
          2271,
          2047,
          2205,
          2093,
          2147,
          1374,
          1203,
          1186,
          870,
          599
         ],
         "yaxis": "y3"
        },
        {
         "alignmentgroup": "True",
         "hovertemplate": "路段名=內湖路一段<br>行政區=中山區<br>時段=%{x}<br>車流量=%{y}<extra></extra>",
         "legendgroup": "內湖路一段",
         "marker": {
          "color": "#FFA15A",
          "pattern": {
           "shape": ""
          }
         },
         "name": "內湖路一段",
         "offsetgroup": "內湖路一段",
         "orientation": "v",
         "showlegend": true,
         "textposition": "auto",
         "type": "bar",
         "x": [
          "2023-07-18T00:00:00+08:00",
          "2023-07-18T01:00:00+08:00",
          "2023-07-18T02:00:00+08:00",
          "2023-07-18T03:00:00+08:00",
          "2023-07-18T04:00:00+08:00",
          "2023-07-18T05:00:00+08:00",
          "2023-07-18T06:00:00+08:00",
          "2023-07-18T07:00:00+08:00",
          "2023-07-18T08:00:00+08:00",
          "2023-07-18T09:00:00+08:00",
          "2023-07-18T10:00:00+08:00",
          "2023-07-18T11:00:00+08:00",
          "2023-07-18T12:00:00+08:00",
          "2023-07-18T13:00:00+08:00",
          "2023-07-18T14:00:00+08:00",
          "2023-07-18T15:00:00+08:00",
          "2023-07-18T16:00:00+08:00",
          "2023-07-18T17:00:00+08:00",
          "2023-07-18T18:00:00+08:00",
          "2023-07-18T19:00:00+08:00",
          "2023-07-18T20:00:00+08:00",
          "2023-07-18T21:00:00+08:00",
          "2023-07-18T22:00:00+08:00",
          "2023-07-18T23:00:00+08:00"
         ],
         "xaxis": "x",
         "y": [
          119,
          79,
          55,
          29,
          36,
          63,
          235,
          916,
          1667,
          1376,
          900,
          841,
          812,
          904,
          881,
          855,
          1024,
          1245,
          1065,
          828,
          637,
          638,
          348,
          242
         ],
         "yaxis": "y"
        },
        {
         "alignmentgroup": "True",
         "hovertemplate": "路段名=內湖路一段<br>行政區=內湖區<br>時段=%{x}<br>車流量=%{y}<extra></extra>",
         "legendgroup": "內湖路一段",
         "marker": {
          "color": "#FFA15A",
          "pattern": {
           "shape": ""
          }
         },
         "name": "內湖路一段",
         "offsetgroup": "內湖路一段",
         "orientation": "v",
         "showlegend": false,
         "textposition": "auto",
         "type": "bar",
         "x": [
          "2023-07-18T00:00:00+08:00",
          "2023-07-18T01:00:00+08:00",
          "2023-07-18T02:00:00+08:00",
          "2023-07-18T03:00:00+08:00",
          "2023-07-18T04:00:00+08:00",
          "2023-07-18T05:00:00+08:00",
          "2023-07-18T06:00:00+08:00",
          "2023-07-18T07:00:00+08:00",
          "2023-07-18T08:00:00+08:00",
          "2023-07-18T09:00:00+08:00",
          "2023-07-18T10:00:00+08:00",
          "2023-07-18T11:00:00+08:00",
          "2023-07-18T12:00:00+08:00",
          "2023-07-18T13:00:00+08:00",
          "2023-07-18T14:00:00+08:00",
          "2023-07-18T15:00:00+08:00",
          "2023-07-18T16:00:00+08:00",
          "2023-07-18T17:00:00+08:00",
          "2023-07-18T18:00:00+08:00",
          "2023-07-18T19:00:00+08:00",
          "2023-07-18T20:00:00+08:00",
          "2023-07-18T21:00:00+08:00",
          "2023-07-18T22:00:00+08:00",
          "2023-07-18T23:00:00+08:00"
         ],
         "xaxis": "x2",
         "y": [
          573,
          381,
          212,
          158,
          238,
          414,
          1098,
          3853,
          5708,
          5252,
          4216,
          4393,
          4222,
          4230,
          4289,
          3680,
          4369,
          5627,
          6059,
          4314,
          3100,
          2628,
          1769,
          1052
         ],
         "yaxis": "y2"
        },
        {
         "alignmentgroup": "True",
         "hovertemplate": "路段名=八德路二段<br>行政區=中山區<br>時段=%{x}<br>車流量=%{y}<extra></extra>",
         "legendgroup": "八德路二段",
         "marker": {
          "color": "#19d3f3",
          "pattern": {
           "shape": ""
          }
         },
         "name": "八德路二段",
         "offsetgroup": "八德路二段",
         "orientation": "v",
         "showlegend": true,
         "textposition": "auto",
         "type": "bar",
         "x": [
          "2023-07-18T00:00:00+08:00",
          "2023-07-18T01:00:00+08:00",
          "2023-07-18T02:00:00+08:00",
          "2023-07-18T03:00:00+08:00",
          "2023-07-18T04:00:00+08:00",
          "2023-07-18T05:00:00+08:00",
          "2023-07-18T06:00:00+08:00",
          "2023-07-18T07:00:00+08:00",
          "2023-07-18T08:00:00+08:00",
          "2023-07-18T09:00:00+08:00",
          "2023-07-18T10:00:00+08:00",
          "2023-07-18T11:00:00+08:00",
          "2023-07-18T12:00:00+08:00",
          "2023-07-18T13:00:00+08:00",
          "2023-07-18T14:00:00+08:00",
          "2023-07-18T15:00:00+08:00",
          "2023-07-18T16:00:00+08:00",
          "2023-07-18T17:00:00+08:00",
          "2023-07-18T18:00:00+08:00",
          "2023-07-18T19:00:00+08:00",
          "2023-07-18T20:00:00+08:00",
          "2023-07-18T21:00:00+08:00",
          "2023-07-18T22:00:00+08:00",
          "2023-07-18T23:00:00+08:00"
         ],
         "xaxis": "x",
         "y": [
          154,
          126,
          79,
          54,
          57,
          65,
          134,
          567,
          907,
          831,
          705,
          724,
          679,
          722,
          742,
          766,
          765,
          869,
          989,
          726,
          488,
          422,
          309,
          315
         ],
         "yaxis": "y"
        },
        {
         "alignmentgroup": "True",
         "hovertemplate": "路段名=八德路二段<br>行政區=大安區<br>時段=%{x}<br>車流量=%{y}<extra></extra>",
         "legendgroup": "八德路二段",
         "marker": {
          "color": "#19d3f3",
          "pattern": {
           "shape": ""
          }
         },
         "name": "八德路二段",
         "offsetgroup": "八德路二段",
         "orientation": "v",
         "showlegend": false,
         "textposition": "auto",
         "type": "bar",
         "x": [
          "2023-07-18T00:00:00+08:00",
          "2023-07-18T01:00:00+08:00",
          "2023-07-18T02:00:00+08:00",
          "2023-07-18T03:00:00+08:00",
          "2023-07-18T04:00:00+08:00",
          "2023-07-18T05:00:00+08:00",
          "2023-07-18T06:00:00+08:00",
          "2023-07-18T07:00:00+08:00",
          "2023-07-18T08:00:00+08:00",
          "2023-07-18T09:00:00+08:00",
          "2023-07-18T10:00:00+08:00",
          "2023-07-18T11:00:00+08:00",
          "2023-07-18T12:00:00+08:00",
          "2023-07-18T13:00:00+08:00",
          "2023-07-18T14:00:00+08:00",
          "2023-07-18T15:00:00+08:00",
          "2023-07-18T16:00:00+08:00",
          "2023-07-18T17:00:00+08:00",
          "2023-07-18T18:00:00+08:00",
          "2023-07-18T19:00:00+08:00",
          "2023-07-18T20:00:00+08:00",
          "2023-07-18T21:00:00+08:00",
          "2023-07-18T22:00:00+08:00",
          "2023-07-18T23:00:00+08:00"
         ],
         "xaxis": "x4",
         "y": [
          54,
          25,
          22,
          29,
          21,
          33,
          106,
          260,
          442,
          333,
          271,
          254,
          235,
          270,
          276,
          274,
          350,
          368,
          330,
          236,
          220,
          176,
          149,
          114
         ],
         "yaxis": "y4"
        },
        {
         "alignmentgroup": "True",
         "hovertemplate": "路段名=北安路<br>行政區=中山區<br>時段=%{x}<br>車流量=%{y}<extra></extra>",
         "legendgroup": "北安路",
         "marker": {
          "color": "#FF6692",
          "pattern": {
           "shape": ""
          }
         },
         "name": "北安路",
         "offsetgroup": "北安路",
         "orientation": "v",
         "showlegend": true,
         "textposition": "auto",
         "type": "bar",
         "x": [
          "2023-07-18T00:00:00+08:00",
          "2023-07-18T01:00:00+08:00",
          "2023-07-18T02:00:00+08:00",
          "2023-07-18T03:00:00+08:00",
          "2023-07-18T04:00:00+08:00",
          "2023-07-18T05:00:00+08:00",
          "2023-07-18T06:00:00+08:00",
          "2023-07-18T07:00:00+08:00",
          "2023-07-18T08:00:00+08:00",
          "2023-07-18T09:00:00+08:00",
          "2023-07-18T10:00:00+08:00",
          "2023-07-18T11:00:00+08:00",
          "2023-07-18T12:00:00+08:00",
          "2023-07-18T13:00:00+08:00",
          "2023-07-18T14:00:00+08:00",
          "2023-07-18T15:00:00+08:00",
          "2023-07-18T16:00:00+08:00",
          "2023-07-18T17:00:00+08:00",
          "2023-07-18T18:00:00+08:00",
          "2023-07-18T19:00:00+08:00",
          "2023-07-18T20:00:00+08:00",
          "2023-07-18T21:00:00+08:00",
          "2023-07-18T22:00:00+08:00",
          "2023-07-18T23:00:00+08:00"
         ],
         "xaxis": "x",
         "y": [
          475,
          383,
          220,
          225,
          263,
          554,
          1491,
          4745,
          6735,
          5384,
          4131,
          4083,
          3854,
          3895,
          4061,
          4172,
          4985,
          4912,
          5425,
          4306,
          2722,
          2641,
          1487,
          985
         ],
         "yaxis": "y"
        },
        {
         "alignmentgroup": "True",
         "hovertemplate": "路段名=北安路<br>行政區=士林區<br>時段=%{x}<br>車流量=%{y}<extra></extra>",
         "legendgroup": "北安路",
         "marker": {
          "color": "#FF6692",
          "pattern": {
           "shape": ""
          }
         },
         "name": "北安路",
         "offsetgroup": "北安路",
         "orientation": "v",
         "showlegend": false,
         "textposition": "auto",
         "type": "bar",
         "x": [
          "2023-07-18T00:00:00+08:00",
          "2023-07-18T01:00:00+08:00",
          "2023-07-18T02:00:00+08:00",
          "2023-07-18T03:00:00+08:00",
          "2023-07-18T04:00:00+08:00",
          "2023-07-18T05:00:00+08:00",
          "2023-07-18T06:00:00+08:00",
          "2023-07-18T07:00:00+08:00",
          "2023-07-18T08:00:00+08:00",
          "2023-07-18T09:00:00+08:00",
          "2023-07-18T10:00:00+08:00",
          "2023-07-18T11:00:00+08:00",
          "2023-07-18T12:00:00+08:00",
          "2023-07-18T13:00:00+08:00",
          "2023-07-18T14:00:00+08:00",
          "2023-07-18T15:00:00+08:00",
          "2023-07-18T16:00:00+08:00",
          "2023-07-18T17:00:00+08:00",
          "2023-07-18T18:00:00+08:00",
          "2023-07-18T19:00:00+08:00",
          "2023-07-18T20:00:00+08:00",
          "2023-07-18T21:00:00+08:00",
          "2023-07-18T22:00:00+08:00",
          "2023-07-18T23:00:00+08:00"
         ],
         "xaxis": "x3",
         "y": [
          201,
          93,
          85,
          47,
          75,
          146,
          436,
          975,
          1116,
          1089,
          1039,
          996,
          978,
          988,
          1040,
          981,
          1088,
          1395,
          1778,
          1435,
          1044,
          958,
          641,
          395
         ],
         "yaxis": "y3"
        },
        {
         "alignmentgroup": "True",
         "hovertemplate": "路段名=南京東路一段<br>行政區=中山區<br>時段=%{x}<br>車流量=%{y}<extra></extra>",
         "legendgroup": "南京東路一段",
         "marker": {
          "color": "#B6E880",
          "pattern": {
           "shape": ""
          }
         },
         "name": "南京東路一段",
         "offsetgroup": "南京東路一段",
         "orientation": "v",
         "showlegend": true,
         "textposition": "auto",
         "type": "bar",
         "x": [
          "2023-07-18T00:00:00+08:00",
          "2023-07-18T01:00:00+08:00",
          "2023-07-18T02:00:00+08:00",
          "2023-07-18T03:00:00+08:00",
          "2023-07-18T04:00:00+08:00",
          "2023-07-18T05:00:00+08:00",
          "2023-07-18T06:00:00+08:00",
          "2023-07-18T07:00:00+08:00",
          "2023-07-18T08:00:00+08:00",
          "2023-07-18T09:00:00+08:00",
          "2023-07-18T10:00:00+08:00",
          "2023-07-18T11:00:00+08:00",
          "2023-07-18T12:00:00+08:00",
          "2023-07-18T13:00:00+08:00",
          "2023-07-18T14:00:00+08:00",
          "2023-07-18T15:00:00+08:00",
          "2023-07-18T16:00:00+08:00",
          "2023-07-18T17:00:00+08:00",
          "2023-07-18T18:00:00+08:00",
          "2023-07-18T19:00:00+08:00",
          "2023-07-18T20:00:00+08:00",
          "2023-07-18T21:00:00+08:00",
          "2023-07-18T22:00:00+08:00",
          "2023-07-18T23:00:00+08:00"
         ],
         "xaxis": "x",
         "y": [
          47,
          31,
          26,
          20,
          17,
          28,
          43,
          58,
          99,
          140,
          162,
          174,
          189,
          204,
          129,
          131,
          133,
          102,
          239,
          203,
          162,
          137,
          93,
          74
         ],
         "yaxis": "y"
        },
        {
         "alignmentgroup": "True",
         "hovertemplate": "路段名=南京東路二段<br>行政區=中山區<br>時段=%{x}<br>車流量=%{y}<extra></extra>",
         "legendgroup": "南京東路二段",
         "marker": {
          "color": "#FF97FF",
          "pattern": {
           "shape": ""
          }
         },
         "name": "南京東路二段",
         "offsetgroup": "南京東路二段",
         "orientation": "v",
         "showlegend": true,
         "textposition": "auto",
         "type": "bar",
         "x": [
          "2023-07-18T00:00:00+08:00",
          "2023-07-18T01:00:00+08:00",
          "2023-07-18T02:00:00+08:00",
          "2023-07-18T03:00:00+08:00",
          "2023-07-18T04:00:00+08:00",
          "2023-07-18T05:00:00+08:00",
          "2023-07-18T06:00:00+08:00",
          "2023-07-18T07:00:00+08:00",
          "2023-07-18T08:00:00+08:00",
          "2023-07-18T09:00:00+08:00",
          "2023-07-18T10:00:00+08:00",
          "2023-07-18T11:00:00+08:00",
          "2023-07-18T12:00:00+08:00",
          "2023-07-18T13:00:00+08:00",
          "2023-07-18T14:00:00+08:00",
          "2023-07-18T15:00:00+08:00",
          "2023-07-18T16:00:00+08:00",
          "2023-07-18T17:00:00+08:00",
          "2023-07-18T18:00:00+08:00",
          "2023-07-18T19:00:00+08:00",
          "2023-07-18T20:00:00+08:00",
          "2023-07-18T21:00:00+08:00",
          "2023-07-18T22:00:00+08:00",
          "2023-07-18T23:00:00+08:00"
         ],
         "xaxis": "x",
         "y": [
          412,
          357,
          256,
          190,
          170,
          188,
          376,
          1083,
          1731,
          1738,
          1749,
          1839,
          1712,
          1748,
          1747,
          1611,
          1651,
          1649,
          1876,
          1458,
          1232,
          1135,
          935,
          753
         ],
         "yaxis": "y"
        },
        {
         "alignmentgroup": "True",
         "hovertemplate": "路段名=吉林路<br>行政區=中山區<br>時段=%{x}<br>車流量=%{y}<extra></extra>",
         "legendgroup": "吉林路",
         "marker": {
          "color": "#FECB52",
          "pattern": {
           "shape": ""
          }
         },
         "name": "吉林路",
         "offsetgroup": "吉林路",
         "orientation": "v",
         "showlegend": true,
         "textposition": "auto",
         "type": "bar",
         "x": [
          "2023-07-18T00:00:00+08:00",
          "2023-07-18T01:00:00+08:00",
          "2023-07-18T02:00:00+08:00",
          "2023-07-18T03:00:00+08:00",
          "2023-07-18T04:00:00+08:00",
          "2023-07-18T05:00:00+08:00",
          "2023-07-18T06:00:00+08:00",
          "2023-07-18T07:00:00+08:00",
          "2023-07-18T08:00:00+08:00",
          "2023-07-18T09:00:00+08:00",
          "2023-07-18T10:00:00+08:00",
          "2023-07-18T11:00:00+08:00",
          "2023-07-18T12:00:00+08:00",
          "2023-07-18T13:00:00+08:00",
          "2023-07-18T14:00:00+08:00",
          "2023-07-18T15:00:00+08:00",
          "2023-07-18T16:00:00+08:00",
          "2023-07-18T17:00:00+08:00",
          "2023-07-18T18:00:00+08:00",
          "2023-07-18T19:00:00+08:00",
          "2023-07-18T20:00:00+08:00",
          "2023-07-18T21:00:00+08:00",
          "2023-07-18T22:00:00+08:00",
          "2023-07-18T23:00:00+08:00"
         ],
         "xaxis": "x",
         "y": [
          299,
          234,
          205,
          156,
          148,
          146,
          279,
          622,
          1091,
          1072,
          1229,
          1265,
          1245,
          1177,
          1315,
          1210,
          1160,
          1355,
          1217,
          958,
          789,
          727,
          528,
          390
         ],
         "yaxis": "y"
        },
        {
         "alignmentgroup": "True",
         "hovertemplate": "路段名=大直橋<br>行政區=中山區<br>時段=%{x}<br>車流量=%{y}<extra></extra>",
         "legendgroup": "大直橋",
         "marker": {
          "color": "#636efa",
          "pattern": {
           "shape": ""
          }
         },
         "name": "大直橋",
         "offsetgroup": "大直橋",
         "orientation": "v",
         "showlegend": true,
         "textposition": "auto",
         "type": "bar",
         "x": [
          "2023-07-18T00:00:00+08:00",
          "2023-07-18T01:00:00+08:00",
          "2023-07-18T02:00:00+08:00",
          "2023-07-18T03:00:00+08:00",
          "2023-07-18T04:00:00+08:00",
          "2023-07-18T05:00:00+08:00",
          "2023-07-18T06:00:00+08:00",
          "2023-07-18T07:00:00+08:00",
          "2023-07-18T08:00:00+08:00",
          "2023-07-18T09:00:00+08:00",
          "2023-07-18T10:00:00+08:00",
          "2023-07-18T11:00:00+08:00",
          "2023-07-18T12:00:00+08:00",
          "2023-07-18T13:00:00+08:00",
          "2023-07-18T14:00:00+08:00",
          "2023-07-18T15:00:00+08:00",
          "2023-07-18T16:00:00+08:00",
          "2023-07-18T17:00:00+08:00",
          "2023-07-18T18:00:00+08:00",
          "2023-07-18T19:00:00+08:00",
          "2023-07-18T20:00:00+08:00",
          "2023-07-18T21:00:00+08:00",
          "2023-07-18T22:00:00+08:00",
          "2023-07-18T23:00:00+08:00"
         ],
         "xaxis": "x",
         "y": [
          173,
          129,
          102,
          79,
          96,
          191,
          599,
          1420,
          1766,
          1472,
          1253,
          1241,
          1188,
          1152,
          1215,
          1292,
          1487,
          1895,
          1958,
          1131,
          733,
          800,
          598,
          303
         ],
         "yaxis": "y"
        },
        {
         "alignmentgroup": "True",
         "hovertemplate": "路段名=建國北路一段<br>行政區=中山區<br>時段=%{x}<br>車流量=%{y}<extra></extra>",
         "legendgroup": "建國北路一段",
         "marker": {
          "color": "#EF553B",
          "pattern": {
           "shape": ""
          }
         },
         "name": "建國北路一段",
         "offsetgroup": "建國北路一段",
         "orientation": "v",
         "showlegend": true,
         "textposition": "auto",
         "type": "bar",
         "x": [
          "2023-07-18T00:00:00+08:00",
          "2023-07-18T01:00:00+08:00",
          "2023-07-18T02:00:00+08:00",
          "2023-07-18T03:00:00+08:00",
          "2023-07-18T04:00:00+08:00",
          "2023-07-18T05:00:00+08:00",
          "2023-07-18T06:00:00+08:00",
          "2023-07-18T07:00:00+08:00",
          "2023-07-18T08:00:00+08:00",
          "2023-07-18T09:00:00+08:00",
          "2023-07-18T10:00:00+08:00",
          "2023-07-18T11:00:00+08:00",
          "2023-07-18T12:00:00+08:00",
          "2023-07-18T13:00:00+08:00",
          "2023-07-18T14:00:00+08:00",
          "2023-07-18T15:00:00+08:00",
          "2023-07-18T16:00:00+08:00",
          "2023-07-18T17:00:00+08:00",
          "2023-07-18T18:00:00+08:00",
          "2023-07-18T19:00:00+08:00",
          "2023-07-18T20:00:00+08:00",
          "2023-07-18T21:00:00+08:00",
          "2023-07-18T22:00:00+08:00",
          "2023-07-18T23:00:00+08:00"
         ],
         "xaxis": "x",
         "y": [
          465,
          333,
          262,
          222,
          183,
          239,
          578,
          1396,
          2084,
          2214,
          2139,
          2213,
          2133,
          2143,
          2186,
          2060,
          2118,
          2018,
          2105,
          1612,
          1474,
          1386,
          1112,
          867
         ],
         "yaxis": "y"
        },
        {
         "alignmentgroup": "True",
         "hovertemplate": "路段名=建國北路三段<br>行政區=中山區<br>時段=%{x}<br>車流量=%{y}<extra></extra>",
         "legendgroup": "建國北路三段",
         "marker": {
          "color": "#00cc96",
          "pattern": {
           "shape": ""
          }
         },
         "name": "建國北路三段",
         "offsetgroup": "建國北路三段",
         "orientation": "v",
         "showlegend": true,
         "textposition": "auto",
         "type": "bar",
         "x": [
          "2023-07-18T00:00:00+08:00",
          "2023-07-18T01:00:00+08:00",
          "2023-07-18T02:00:00+08:00",
          "2023-07-18T03:00:00+08:00",
          "2023-07-18T04:00:00+08:00",
          "2023-07-18T05:00:00+08:00",
          "2023-07-18T06:00:00+08:00",
          "2023-07-18T07:00:00+08:00",
          "2023-07-18T08:00:00+08:00",
          "2023-07-18T09:00:00+08:00",
          "2023-07-18T10:00:00+08:00",
          "2023-07-18T11:00:00+08:00",
          "2023-07-18T12:00:00+08:00",
          "2023-07-18T13:00:00+08:00",
          "2023-07-18T14:00:00+08:00",
          "2023-07-18T15:00:00+08:00",
          "2023-07-18T16:00:00+08:00",
          "2023-07-18T17:00:00+08:00",
          "2023-07-18T18:00:00+08:00",
          "2023-07-18T19:00:00+08:00",
          "2023-07-18T20:00:00+08:00",
          "2023-07-18T21:00:00+08:00",
          "2023-07-18T22:00:00+08:00",
          "2023-07-18T23:00:00+08:00"
         ],
         "xaxis": "x",
         "y": [
          180,
          146,
          110,
          95,
          126,
          224,
          465,
          907,
          1069,
          1092,
          1202,
          1037,
          987,
          1011,
          1070,
          982,
          890,
          815,
          1041,
          885,
          731,
          710,
          535,
          373
         ],
         "yaxis": "y"
        },
        {
         "alignmentgroup": "True",
         "hovertemplate": "路段名=建國北路二段<br>行政區=中山區<br>時段=%{x}<br>車流量=%{y}<extra></extra>",
         "legendgroup": "建國北路二段",
         "marker": {
          "color": "#ab63fa",
          "pattern": {
           "shape": ""
          }
         },
         "name": "建國北路二段",
         "offsetgroup": "建國北路二段",
         "orientation": "v",
         "showlegend": true,
         "textposition": "auto",
         "type": "bar",
         "x": [
          "2023-07-18T00:00:00+08:00",
          "2023-07-18T01:00:00+08:00",
          "2023-07-18T02:00:00+08:00",
          "2023-07-18T03:00:00+08:00",
          "2023-07-18T04:00:00+08:00",
          "2023-07-18T05:00:00+08:00",
          "2023-07-18T06:00:00+08:00",
          "2023-07-18T07:00:00+08:00",
          "2023-07-18T08:00:00+08:00",
          "2023-07-18T09:00:00+08:00",
          "2023-07-18T10:00:00+08:00",
          "2023-07-18T11:00:00+08:00",
          "2023-07-18T12:00:00+08:00",
          "2023-07-18T13:00:00+08:00",
          "2023-07-18T14:00:00+08:00",
          "2023-07-18T15:00:00+08:00",
          "2023-07-18T16:00:00+08:00",
          "2023-07-18T17:00:00+08:00",
          "2023-07-18T18:00:00+08:00",
          "2023-07-18T19:00:00+08:00",
          "2023-07-18T20:00:00+08:00",
          "2023-07-18T21:00:00+08:00",
          "2023-07-18T22:00:00+08:00",
          "2023-07-18T23:00:00+08:00"
         ],
         "xaxis": "x",
         "y": [
          510,
          428,
          316,
          238,
          262,
          352,
          1009,
          2435,
          3437,
          3267,
          3110,
          3111,
          2958,
          3083,
          3030,
          3137,
          3179,
          3791,
          3864,
          2771,
          1903,
          1743,
          1341,
          982
         ],
         "yaxis": "y"
        },
        {
         "alignmentgroup": "True",
         "hovertemplate": "路段名=建國南路一段<br>行政區=中山區<br>時段=%{x}<br>車流量=%{y}<extra></extra>",
         "legendgroup": "建國南路一段",
         "marker": {
          "color": "#FFA15A",
          "pattern": {
           "shape": ""
          }
         },
         "name": "建國南路一段",
         "offsetgroup": "建國南路一段",
         "orientation": "v",
         "showlegend": true,
         "textposition": "auto",
         "type": "bar",
         "x": [
          "2023-07-18T00:00:00+08:00",
          "2023-07-18T01:00:00+08:00",
          "2023-07-18T02:00:00+08:00",
          "2023-07-18T03:00:00+08:00",
          "2023-07-18T04:00:00+08:00",
          "2023-07-18T05:00:00+08:00",
          "2023-07-18T06:00:00+08:00",
          "2023-07-18T07:00:00+08:00",
          "2023-07-18T08:00:00+08:00",
          "2023-07-18T09:00:00+08:00",
          "2023-07-18T10:00:00+08:00",
          "2023-07-18T11:00:00+08:00",
          "2023-07-18T12:00:00+08:00",
          "2023-07-18T13:00:00+08:00",
          "2023-07-18T14:00:00+08:00",
          "2023-07-18T15:00:00+08:00",
          "2023-07-18T16:00:00+08:00",
          "2023-07-18T17:00:00+08:00",
          "2023-07-18T18:00:00+08:00",
          "2023-07-18T19:00:00+08:00",
          "2023-07-18T20:00:00+08:00",
          "2023-07-18T21:00:00+08:00",
          "2023-07-18T22:00:00+08:00",
          "2023-07-18T23:00:00+08:00"
         ],
         "xaxis": "x",
         "y": [
          232,
          150,
          131,
          104,
          93,
          105,
          303,
          572,
          689,
          787,
          790,
          916,
          826,
          753,
          723,
          738,
          667,
          582,
          625,
          652,
          598,
          618,
          447,
          362
         ],
         "yaxis": "y"
        },
        {
         "alignmentgroup": "True",
         "hovertemplate": "路段名=建國南路一段<br>行政區=大安區<br>時段=%{x}<br>車流量=%{y}<extra></extra>",
         "legendgroup": "建國南路一段",
         "marker": {
          "color": "#FFA15A",
          "pattern": {
           "shape": ""
          }
         },
         "name": "建國南路一段",
         "offsetgroup": "建國南路一段",
         "orientation": "v",
         "showlegend": false,
         "textposition": "auto",
         "type": "bar",
         "x": [
          "2023-07-18T00:00:00+08:00",
          "2023-07-18T01:00:00+08:00",
          "2023-07-18T02:00:00+08:00",
          "2023-07-18T03:00:00+08:00",
          "2023-07-18T04:00:00+08:00",
          "2023-07-18T05:00:00+08:00",
          "2023-07-18T06:00:00+08:00",
          "2023-07-18T07:00:00+08:00",
          "2023-07-18T08:00:00+08:00",
          "2023-07-18T09:00:00+08:00",
          "2023-07-18T10:00:00+08:00",
          "2023-07-18T11:00:00+08:00",
          "2023-07-18T12:00:00+08:00",
          "2023-07-18T13:00:00+08:00",
          "2023-07-18T14:00:00+08:00",
          "2023-07-18T15:00:00+08:00",
          "2023-07-18T16:00:00+08:00",
          "2023-07-18T17:00:00+08:00",
          "2023-07-18T18:00:00+08:00",
          "2023-07-18T19:00:00+08:00",
          "2023-07-18T20:00:00+08:00",
          "2023-07-18T21:00:00+08:00",
          "2023-07-18T22:00:00+08:00",
          "2023-07-18T23:00:00+08:00"
         ],
         "xaxis": "x4",
         "y": [
          267,
          208,
          113,
          105,
          81,
          213,
          570,
          2095,
          2191,
          2148,
          1900,
          1986,
          2089,
          1971,
          2070,
          2252,
          2349,
          2722,
          2468,
          1703,
          1206,
          1120,
          796,
          484
         ],
         "yaxis": "y4"
        },
        {
         "alignmentgroup": "True",
         "hovertemplate": "路段名=復興北路<br>行政區=中山區<br>時段=%{x}<br>車流量=%{y}<extra></extra>",
         "legendgroup": "復興北路",
         "marker": {
          "color": "#19d3f3",
          "pattern": {
           "shape": ""
          }
         },
         "name": "復興北路",
         "offsetgroup": "復興北路",
         "orientation": "v",
         "showlegend": true,
         "textposition": "auto",
         "type": "bar",
         "x": [
          "2023-07-18T00:00:00+08:00",
          "2023-07-18T01:00:00+08:00",
          "2023-07-18T02:00:00+08:00",
          "2023-07-18T03:00:00+08:00",
          "2023-07-18T04:00:00+08:00",
          "2023-07-18T05:00:00+08:00",
          "2023-07-18T06:00:00+08:00",
          "2023-07-18T07:00:00+08:00",
          "2023-07-18T08:00:00+08:00",
          "2023-07-18T09:00:00+08:00",
          "2023-07-18T10:00:00+08:00",
          "2023-07-18T11:00:00+08:00",
          "2023-07-18T12:00:00+08:00",
          "2023-07-18T13:00:00+08:00",
          "2023-07-18T14:00:00+08:00",
          "2023-07-18T15:00:00+08:00",
          "2023-07-18T16:00:00+08:00",
          "2023-07-18T17:00:00+08:00",
          "2023-07-18T18:00:00+08:00",
          "2023-07-18T19:00:00+08:00",
          "2023-07-18T20:00:00+08:00",
          "2023-07-18T21:00:00+08:00",
          "2023-07-18T22:00:00+08:00",
          "2023-07-18T23:00:00+08:00"
         ],
         "xaxis": "x",
         "y": [
          536,
          422,
          354,
          255,
          220,
          287,
          571,
          1499,
          2606,
          2385,
          2509,
          2657,
          2518,
          2367,
          2345,
          2419,
          2488,
          2423,
          2974,
          2786,
          1789,
          1817,
          1327,
          964
         ],
         "yaxis": "y"
        },
        {
         "alignmentgroup": "True",
         "hovertemplate": "路段名=明水路<br>行政區=中山區<br>時段=%{x}<br>車流量=%{y}<extra></extra>",
         "legendgroup": "明水路",
         "marker": {
          "color": "#FF6692",
          "pattern": {
           "shape": ""
          }
         },
         "name": "明水路",
         "offsetgroup": "明水路",
         "orientation": "v",
         "showlegend": true,
         "textposition": "auto",
         "type": "bar",
         "x": [
          "2023-07-18T00:00:00+08:00",
          "2023-07-18T01:00:00+08:00",
          "2023-07-18T02:00:00+08:00",
          "2023-07-18T03:00:00+08:00",
          "2023-07-18T04:00:00+08:00",
          "2023-07-18T05:00:00+08:00",
          "2023-07-18T06:00:00+08:00",
          "2023-07-18T07:00:00+08:00",
          "2023-07-18T08:00:00+08:00",
          "2023-07-18T09:00:00+08:00",
          "2023-07-18T10:00:00+08:00",
          "2023-07-18T11:00:00+08:00",
          "2023-07-18T12:00:00+08:00",
          "2023-07-18T13:00:00+08:00",
          "2023-07-18T14:00:00+08:00",
          "2023-07-18T15:00:00+08:00",
          "2023-07-18T16:00:00+08:00",
          "2023-07-18T17:00:00+08:00",
          "2023-07-18T18:00:00+08:00",
          "2023-07-18T19:00:00+08:00",
          "2023-07-18T20:00:00+08:00",
          "2023-07-18T21:00:00+08:00",
          "2023-07-18T22:00:00+08:00",
          "2023-07-18T23:00:00+08:00"
         ],
         "xaxis": "x",
         "y": [
          332,
          187,
          122,
          103,
          98,
          243,
          688,
          2701,
          3953,
          3531,
          2825,
          2964,
          2739,
          2728,
          3228,
          3095,
          3169,
          3596,
          3331,
          2719,
          1912,
          1797,
          1104,
          635
         ],
         "yaxis": "y"
        },
        {
         "alignmentgroup": "True",
         "hovertemplate": "路段名=松江路<br>行政區=中山區<br>時段=%{x}<br>車流量=%{y}<extra></extra>",
         "legendgroup": "松江路",
         "marker": {
          "color": "#B6E880",
          "pattern": {
           "shape": ""
          }
         },
         "name": "松江路",
         "offsetgroup": "松江路",
         "orientation": "v",
         "showlegend": true,
         "textposition": "auto",
         "type": "bar",
         "x": [
          "2023-07-18T00:00:00+08:00",
          "2023-07-18T01:00:00+08:00",
          "2023-07-18T02:00:00+08:00",
          "2023-07-18T03:00:00+08:00",
          "2023-07-18T04:00:00+08:00",
          "2023-07-18T05:00:00+08:00",
          "2023-07-18T06:00:00+08:00",
          "2023-07-18T07:00:00+08:00",
          "2023-07-18T08:00:00+08:00",
          "2023-07-18T09:00:00+08:00",
          "2023-07-18T10:00:00+08:00",
          "2023-07-18T11:00:00+08:00",
          "2023-07-18T12:00:00+08:00",
          "2023-07-18T13:00:00+08:00",
          "2023-07-18T14:00:00+08:00",
          "2023-07-18T15:00:00+08:00",
          "2023-07-18T16:00:00+08:00",
          "2023-07-18T17:00:00+08:00",
          "2023-07-18T18:00:00+08:00",
          "2023-07-18T19:00:00+08:00",
          "2023-07-18T20:00:00+08:00",
          "2023-07-18T21:00:00+08:00",
          "2023-07-18T22:00:00+08:00",
          "2023-07-18T23:00:00+08:00"
         ],
         "xaxis": "x",
         "y": [
          640,
          517,
          418,
          392,
          339,
          360,
          748,
          2017,
          3209,
          2809,
          2851,
          3073,
          2794,
          3049,
          2777,
          2621,
          2967,
          3073,
          3491,
          2702,
          1879,
          1803,
          1297,
          905
         ],
         "yaxis": "y"
        },
        {
         "alignmentgroup": "True",
         "hovertemplate": "路段名=林森北路<br>行政區=中山區<br>時段=%{x}<br>車流量=%{y}<extra></extra>",
         "legendgroup": "林森北路",
         "marker": {
          "color": "#FF97FF",
          "pattern": {
           "shape": ""
          }
         },
         "name": "林森北路",
         "offsetgroup": "林森北路",
         "orientation": "v",
         "showlegend": true,
         "textposition": "auto",
         "type": "bar",
         "x": [
          "2023-07-18T00:00:00+08:00",
          "2023-07-18T01:00:00+08:00",
          "2023-07-18T02:00:00+08:00",
          "2023-07-18T03:00:00+08:00",
          "2023-07-18T04:00:00+08:00",
          "2023-07-18T05:00:00+08:00",
          "2023-07-18T06:00:00+08:00",
          "2023-07-18T07:00:00+08:00",
          "2023-07-18T08:00:00+08:00",
          "2023-07-18T09:00:00+08:00",
          "2023-07-18T10:00:00+08:00",
          "2023-07-18T11:00:00+08:00",
          "2023-07-18T12:00:00+08:00",
          "2023-07-18T13:00:00+08:00",
          "2023-07-18T14:00:00+08:00",
          "2023-07-18T15:00:00+08:00",
          "2023-07-18T16:00:00+08:00",
          "2023-07-18T17:00:00+08:00",
          "2023-07-18T18:00:00+08:00",
          "2023-07-18T19:00:00+08:00",
          "2023-07-18T20:00:00+08:00",
          "2023-07-18T21:00:00+08:00",
          "2023-07-18T22:00:00+08:00",
          "2023-07-18T23:00:00+08:00"
         ],
         "xaxis": "x",
         "y": [
          1101,
          973,
          862,
          708,
          665,
          656,
          757,
          1179,
          1322,
          1391,
          1632,
          1622,
          1583,
          1645,
          1712,
          1764,
          1787,
          1751,
          1489,
          1495,
          1503,
          1477,
          1385,
          1313
         ],
         "yaxis": "y"
        },
        {
         "alignmentgroup": "True",
         "hovertemplate": "路段名=樂群一路<br>行政區=中山區<br>時段=%{x}<br>車流量=%{y}<extra></extra>",
         "legendgroup": "樂群一路",
         "marker": {
          "color": "#FECB52",
          "pattern": {
           "shape": ""
          }
         },
         "name": "樂群一路",
         "offsetgroup": "樂群一路",
         "orientation": "v",
         "showlegend": true,
         "textposition": "auto",
         "type": "bar",
         "x": [
          "2023-07-18T00:00:00+08:00",
          "2023-07-18T01:00:00+08:00",
          "2023-07-18T02:00:00+08:00",
          "2023-07-18T03:00:00+08:00",
          "2023-07-18T04:00:00+08:00",
          "2023-07-18T05:00:00+08:00",
          "2023-07-18T06:00:00+08:00",
          "2023-07-18T07:00:00+08:00",
          "2023-07-18T08:00:00+08:00",
          "2023-07-18T09:00:00+08:00",
          "2023-07-18T10:00:00+08:00",
          "2023-07-18T11:00:00+08:00",
          "2023-07-18T12:00:00+08:00",
          "2023-07-18T13:00:00+08:00",
          "2023-07-18T14:00:00+08:00",
          "2023-07-18T15:00:00+08:00",
          "2023-07-18T16:00:00+08:00",
          "2023-07-18T17:00:00+08:00",
          "2023-07-18T18:00:00+08:00",
          "2023-07-18T19:00:00+08:00",
          "2023-07-18T20:00:00+08:00",
          "2023-07-18T21:00:00+08:00",
          "2023-07-18T22:00:00+08:00",
          "2023-07-18T23:00:00+08:00"
         ],
         "xaxis": "x",
         "y": [
          209,
          93,
          105,
          92,
          80,
          169,
          449,
          1367,
          1730,
          1764,
          1521,
          1572,
          1535,
          1609,
          1732,
          1636,
          1971,
          2055,
          2137,
          1931,
          1319,
          1019,
          681,
          392
         ],
         "yaxis": "y"
        },
        {
         "alignmentgroup": "True",
         "hovertemplate": "路段名=樂群二路<br>行政區=中山區<br>時段=%{x}<br>車流量=%{y}<extra></extra>",
         "legendgroup": "樂群二路",
         "marker": {
          "color": "#636efa",
          "pattern": {
           "shape": ""
          }
         },
         "name": "樂群二路",
         "offsetgroup": "樂群二路",
         "orientation": "v",
         "showlegend": true,
         "textposition": "auto",
         "type": "bar",
         "x": [
          "2023-07-18T00:00:00+08:00",
          "2023-07-18T01:00:00+08:00",
          "2023-07-18T02:00:00+08:00",
          "2023-07-18T03:00:00+08:00",
          "2023-07-18T04:00:00+08:00",
          "2023-07-18T05:00:00+08:00",
          "2023-07-18T06:00:00+08:00",
          "2023-07-18T07:00:00+08:00",
          "2023-07-18T08:00:00+08:00",
          "2023-07-18T09:00:00+08:00",
          "2023-07-18T10:00:00+08:00",
          "2023-07-18T11:00:00+08:00",
          "2023-07-18T12:00:00+08:00",
          "2023-07-18T13:00:00+08:00",
          "2023-07-18T14:00:00+08:00",
          "2023-07-18T15:00:00+08:00",
          "2023-07-18T16:00:00+08:00",
          "2023-07-18T17:00:00+08:00",
          "2023-07-18T18:00:00+08:00",
          "2023-07-18T19:00:00+08:00",
          "2023-07-18T20:00:00+08:00",
          "2023-07-18T21:00:00+08:00",
          "2023-07-18T22:00:00+08:00",
          "2023-07-18T23:00:00+08:00"
         ],
         "xaxis": "x",
         "y": [
          91,
          66,
          40,
          26,
          39,
          58,
          196,
          734,
          1455,
          1245,
          871,
          941,
          876,
          846,
          753,
          744,
          855,
          1057,
          1197,
          805,
          611,
          528,
          297,
          163
         ],
         "yaxis": "y"
        },
        {
         "alignmentgroup": "True",
         "hovertemplate": "路段名=民族東路<br>行政區=中山區<br>時段=%{x}<br>車流量=%{y}<extra></extra>",
         "legendgroup": "民族東路",
         "marker": {
          "color": "#EF553B",
          "pattern": {
           "shape": ""
          }
         },
         "name": "民族東路",
         "offsetgroup": "民族東路",
         "orientation": "v",
         "showlegend": true,
         "textposition": "auto",
         "type": "bar",
         "x": [
          "2023-07-18T00:00:00+08:00",
          "2023-07-18T01:00:00+08:00",
          "2023-07-18T02:00:00+08:00",
          "2023-07-18T03:00:00+08:00",
          "2023-07-18T04:00:00+08:00",
          "2023-07-18T05:00:00+08:00",
          "2023-07-18T06:00:00+08:00",
          "2023-07-18T07:00:00+08:00",
          "2023-07-18T08:00:00+08:00",
          "2023-07-18T09:00:00+08:00",
          "2023-07-18T10:00:00+08:00",
          "2023-07-18T11:00:00+08:00",
          "2023-07-18T12:00:00+08:00",
          "2023-07-18T13:00:00+08:00",
          "2023-07-18T14:00:00+08:00",
          "2023-07-18T15:00:00+08:00",
          "2023-07-18T16:00:00+08:00",
          "2023-07-18T17:00:00+08:00",
          "2023-07-18T18:00:00+08:00",
          "2023-07-18T19:00:00+08:00",
          "2023-07-18T20:00:00+08:00",
          "2023-07-18T21:00:00+08:00",
          "2023-07-18T22:00:00+08:00",
          "2023-07-18T23:00:00+08:00"
         ],
         "xaxis": "x",
         "y": [
          583,
          497,
          443,
          382,
          394,
          612,
          1276,
          3416,
          4725,
          3663,
          3869,
          3618,
          3228,
          3386,
          3929,
          3588,
          3600,
          4178,
          3956,
          2998,
          2292,
          1992,
          1322,
          908
         ],
         "yaxis": "y"
        },
        {
         "alignmentgroup": "True",
         "hovertemplate": "路段名=民族西路<br>行政區=中山區<br>時段=%{x}<br>車流量=%{y}<extra></extra>",
         "legendgroup": "民族西路",
         "marker": {
          "color": "#00cc96",
          "pattern": {
           "shape": ""
          }
         },
         "name": "民族西路",
         "offsetgroup": "民族西路",
         "orientation": "v",
         "showlegend": true,
         "textposition": "auto",
         "type": "bar",
         "x": [
          "2023-07-18T00:00:00+08:00",
          "2023-07-18T01:00:00+08:00",
          "2023-07-18T02:00:00+08:00",
          "2023-07-18T03:00:00+08:00",
          "2023-07-18T04:00:00+08:00",
          "2023-07-18T05:00:00+08:00",
          "2023-07-18T06:00:00+08:00",
          "2023-07-18T07:00:00+08:00",
          "2023-07-18T08:00:00+08:00",
          "2023-07-18T09:00:00+08:00",
          "2023-07-18T10:00:00+08:00",
          "2023-07-18T11:00:00+08:00",
          "2023-07-18T12:00:00+08:00",
          "2023-07-18T13:00:00+08:00",
          "2023-07-18T14:00:00+08:00",
          "2023-07-18T15:00:00+08:00",
          "2023-07-18T16:00:00+08:00",
          "2023-07-18T17:00:00+08:00",
          "2023-07-18T18:00:00+08:00",
          "2023-07-18T19:00:00+08:00",
          "2023-07-18T20:00:00+08:00",
          "2023-07-18T21:00:00+08:00",
          "2023-07-18T22:00:00+08:00",
          "2023-07-18T23:00:00+08:00"
         ],
         "xaxis": "x",
         "y": [
          127,
          113,
          99,
          86,
          86,
          130,
          319,
          1092,
          948,
          802,
          939,
          966,
          797,
          942,
          922,
          864,
          743,
          660,
          734,
          533,
          413,
          387,
          259,
          164
         ],
         "yaxis": "y"
        },
        {
         "alignmentgroup": "True",
         "hovertemplate": "路段名=民權東路一段<br>行政區=中山區<br>時段=%{x}<br>車流量=%{y}<extra></extra>",
         "legendgroup": "民權東路一段",
         "marker": {
          "color": "#ab63fa",
          "pattern": {
           "shape": ""
          }
         },
         "name": "民權東路一段",
         "offsetgroup": "民權東路一段",
         "orientation": "v",
         "showlegend": true,
         "textposition": "auto",
         "type": "bar",
         "x": [
          "2023-07-18T00:00:00+08:00",
          "2023-07-18T01:00:00+08:00",
          "2023-07-18T02:00:00+08:00",
          "2023-07-18T03:00:00+08:00",
          "2023-07-18T04:00:00+08:00",
          "2023-07-18T05:00:00+08:00",
          "2023-07-18T06:00:00+08:00",
          "2023-07-18T07:00:00+08:00",
          "2023-07-18T08:00:00+08:00",
          "2023-07-18T09:00:00+08:00",
          "2023-07-18T10:00:00+08:00",
          "2023-07-18T11:00:00+08:00",
          "2023-07-18T12:00:00+08:00",
          "2023-07-18T13:00:00+08:00",
          "2023-07-18T14:00:00+08:00",
          "2023-07-18T15:00:00+08:00",
          "2023-07-18T16:00:00+08:00",
          "2023-07-18T17:00:00+08:00",
          "2023-07-18T18:00:00+08:00",
          "2023-07-18T19:00:00+08:00",
          "2023-07-18T20:00:00+08:00",
          "2023-07-18T21:00:00+08:00",
          "2023-07-18T22:00:00+08:00",
          "2023-07-18T23:00:00+08:00"
         ],
         "xaxis": "x",
         "y": [
          264,
          178,
          157,
          148,
          143,
          162,
          368,
          1008,
          1111,
          1088,
          1107,
          979,
          962,
          1028,
          1213,
          1723,
          1136,
          1240,
          1021,
          794,
          771,
          723,
          632,
          367
         ],
         "yaxis": "y"
        },
        {
         "alignmentgroup": "True",
         "hovertemplate": "路段名=民權東路三段<br>行政區=中山區<br>時段=%{x}<br>車流量=%{y}<extra></extra>",
         "legendgroup": "民權東路三段",
         "marker": {
          "color": "#FFA15A",
          "pattern": {
           "shape": ""
          }
         },
         "name": "民權東路三段",
         "offsetgroup": "民權東路三段",
         "orientation": "v",
         "showlegend": true,
         "textposition": "auto",
         "type": "bar",
         "x": [
          "2023-07-18T00:00:00+08:00",
          "2023-07-18T01:00:00+08:00",
          "2023-07-18T02:00:00+08:00",
          "2023-07-18T03:00:00+08:00",
          "2023-07-18T04:00:00+08:00",
          "2023-07-18T05:00:00+08:00",
          "2023-07-18T06:00:00+08:00",
          "2023-07-18T07:00:00+08:00",
          "2023-07-18T08:00:00+08:00",
          "2023-07-18T09:00:00+08:00",
          "2023-07-18T10:00:00+08:00",
          "2023-07-18T11:00:00+08:00",
          "2023-07-18T12:00:00+08:00",
          "2023-07-18T13:00:00+08:00",
          "2023-07-18T14:00:00+08:00",
          "2023-07-18T15:00:00+08:00",
          "2023-07-18T16:00:00+08:00",
          "2023-07-18T17:00:00+08:00",
          "2023-07-18T18:00:00+08:00",
          "2023-07-18T19:00:00+08:00",
          "2023-07-18T20:00:00+08:00",
          "2023-07-18T21:00:00+08:00",
          "2023-07-18T22:00:00+08:00",
          "2023-07-18T23:00:00+08:00"
         ],
         "xaxis": "x",
         "y": [
          420,
          201,
          147,
          117,
          211,
          477,
          989,
          1636,
          2096,
          2278,
          2338,
          2173,
          2159,
          2114,
          2442,
          2359,
          2423,
          2321,
          2584,
          2227,
          1696,
          1585,
          1119,
          759
         ],
         "yaxis": "y"
        },
        {
         "alignmentgroup": "True",
         "hovertemplate": "路段名=民權東路二段<br>行政區=中山區<br>時段=%{x}<br>車流量=%{y}<extra></extra>",
         "legendgroup": "民權東路二段",
         "marker": {
          "color": "#19d3f3",
          "pattern": {
           "shape": ""
          }
         },
         "name": "民權東路二段",
         "offsetgroup": "民權東路二段",
         "orientation": "v",
         "showlegend": true,
         "textposition": "auto",
         "type": "bar",
         "x": [
          "2023-07-18T00:00:00+08:00",
          "2023-07-18T01:00:00+08:00",
          "2023-07-18T02:00:00+08:00",
          "2023-07-18T03:00:00+08:00",
          "2023-07-18T04:00:00+08:00",
          "2023-07-18T05:00:00+08:00",
          "2023-07-18T06:00:00+08:00",
          "2023-07-18T07:00:00+08:00",
          "2023-07-18T08:00:00+08:00",
          "2023-07-18T09:00:00+08:00",
          "2023-07-18T10:00:00+08:00",
          "2023-07-18T11:00:00+08:00",
          "2023-07-18T12:00:00+08:00",
          "2023-07-18T13:00:00+08:00",
          "2023-07-18T14:00:00+08:00",
          "2023-07-18T15:00:00+08:00",
          "2023-07-18T16:00:00+08:00",
          "2023-07-18T17:00:00+08:00",
          "2023-07-18T18:00:00+08:00",
          "2023-07-18T19:00:00+08:00",
          "2023-07-18T20:00:00+08:00",
          "2023-07-18T21:00:00+08:00",
          "2023-07-18T22:00:00+08:00",
          "2023-07-18T23:00:00+08:00"
         ],
         "xaxis": "x",
         "y": [
          462,
          280,
          192,
          156,
          220,
          366,
          901,
          2038,
          2476,
          2500,
          2370,
          2386,
          2332,
          2471,
          2591,
          2580,
          2665,
          2682,
          2463,
          2200,
          1814,
          1695,
          1308,
          785
         ],
         "yaxis": "y"
        },
        {
         "alignmentgroup": "True",
         "hovertemplate": "路段名=民生東路一段<br>行政區=中山區<br>時段=%{x}<br>車流量=%{y}<extra></extra>",
         "legendgroup": "民生東路一段",
         "marker": {
          "color": "#FF6692",
          "pattern": {
           "shape": ""
          }
         },
         "name": "民生東路一段",
         "offsetgroup": "民生東路一段",
         "orientation": "v",
         "showlegend": true,
         "textposition": "auto",
         "type": "bar",
         "x": [
          "2023-07-18T00:00:00+08:00",
          "2023-07-18T01:00:00+08:00",
          "2023-07-18T02:00:00+08:00",
          "2023-07-18T03:00:00+08:00",
          "2023-07-18T04:00:00+08:00",
          "2023-07-18T05:00:00+08:00",
          "2023-07-18T06:00:00+08:00",
          "2023-07-18T07:00:00+08:00",
          "2023-07-18T08:00:00+08:00",
          "2023-07-18T09:00:00+08:00",
          "2023-07-18T10:00:00+08:00",
          "2023-07-18T11:00:00+08:00",
          "2023-07-18T12:00:00+08:00",
          "2023-07-18T13:00:00+08:00",
          "2023-07-18T14:00:00+08:00",
          "2023-07-18T15:00:00+08:00",
          "2023-07-18T16:00:00+08:00",
          "2023-07-18T17:00:00+08:00",
          "2023-07-18T18:00:00+08:00",
          "2023-07-18T19:00:00+08:00",
          "2023-07-18T20:00:00+08:00",
          "2023-07-18T21:00:00+08:00",
          "2023-07-18T22:00:00+08:00",
          "2023-07-18T23:00:00+08:00"
         ],
         "xaxis": "x",
         "y": [
          809,
          701,
          520,
          467,
          522,
          474,
          754,
          1504,
          2029,
          1850,
          1879,
          1814,
          1704,
          1874,
          1839,
          1899,
          1909,
          2016,
          1863,
          1627,
          1560,
          1437,
          1293,
          1051
         ],
         "yaxis": "y"
        },
        {
         "alignmentgroup": "True",
         "hovertemplate": "路段名=民生東路三段<br>行政區=中山區<br>時段=%{x}<br>車流量=%{y}<extra></extra>",
         "legendgroup": "民生東路三段",
         "marker": {
          "color": "#B6E880",
          "pattern": {
           "shape": ""
          }
         },
         "name": "民生東路三段",
         "offsetgroup": "民生東路三段",
         "orientation": "v",
         "showlegend": true,
         "textposition": "auto",
         "type": "bar",
         "x": [
          "2023-07-18T00:00:00+08:00",
          "2023-07-18T01:00:00+08:00",
          "2023-07-18T02:00:00+08:00",
          "2023-07-18T03:00:00+08:00",
          "2023-07-18T04:00:00+08:00",
          "2023-07-18T05:00:00+08:00",
          "2023-07-18T06:00:00+08:00",
          "2023-07-18T07:00:00+08:00",
          "2023-07-18T08:00:00+08:00",
          "2023-07-18T09:00:00+08:00",
          "2023-07-18T10:00:00+08:00",
          "2023-07-18T11:00:00+08:00",
          "2023-07-18T12:00:00+08:00",
          "2023-07-18T13:00:00+08:00",
          "2023-07-18T14:00:00+08:00",
          "2023-07-18T15:00:00+08:00",
          "2023-07-18T16:00:00+08:00",
          "2023-07-18T17:00:00+08:00",
          "2023-07-18T18:00:00+08:00",
          "2023-07-18T19:00:00+08:00",
          "2023-07-18T20:00:00+08:00",
          "2023-07-18T21:00:00+08:00",
          "2023-07-18T22:00:00+08:00",
          "2023-07-18T23:00:00+08:00"
         ],
         "xaxis": "x",
         "y": [
          463,
          318,
          207,
          165,
          186,
          311,
          760,
          2304,
          3738,
          3332,
          2988,
          2746,
          2661,
          2782,
          3016,
          3172,
          3518,
          4051,
          4244,
          2991,
          1888,
          1719,
          1313,
          747
         ],
         "yaxis": "y"
        },
        {
         "alignmentgroup": "True",
         "hovertemplate": "路段名=民生東路二段<br>行政區=中山區<br>時段=%{x}<br>車流量=%{y}<extra></extra>",
         "legendgroup": "民生東路二段",
         "marker": {
          "color": "#FF97FF",
          "pattern": {
           "shape": ""
          }
         },
         "name": "民生東路二段",
         "offsetgroup": "民生東路二段",
         "orientation": "v",
         "showlegend": true,
         "textposition": "auto",
         "type": "bar",
         "x": [
          "2023-07-18T00:00:00+08:00",
          "2023-07-18T01:00:00+08:00",
          "2023-07-18T02:00:00+08:00",
          "2023-07-18T03:00:00+08:00",
          "2023-07-18T04:00:00+08:00",
          "2023-07-18T05:00:00+08:00",
          "2023-07-18T06:00:00+08:00",
          "2023-07-18T07:00:00+08:00",
          "2023-07-18T08:00:00+08:00",
          "2023-07-18T09:00:00+08:00",
          "2023-07-18T10:00:00+08:00",
          "2023-07-18T11:00:00+08:00",
          "2023-07-18T12:00:00+08:00",
          "2023-07-18T13:00:00+08:00",
          "2023-07-18T14:00:00+08:00",
          "2023-07-18T15:00:00+08:00",
          "2023-07-18T16:00:00+08:00",
          "2023-07-18T17:00:00+08:00",
          "2023-07-18T18:00:00+08:00",
          "2023-07-18T19:00:00+08:00",
          "2023-07-18T20:00:00+08:00",
          "2023-07-18T21:00:00+08:00",
          "2023-07-18T22:00:00+08:00",
          "2023-07-18T23:00:00+08:00"
         ],
         "xaxis": "x",
         "y": [
          674,
          453,
          316,
          258,
          280,
          290,
          647,
          1972,
          3157,
          2789,
          2541,
          2466,
          2362,
          2523,
          2610,
          2682,
          2889,
          3135,
          2953,
          2381,
          1761,
          1692,
          1324,
          882
         ],
         "yaxis": "y"
        },
        {
         "alignmentgroup": "True",
         "hovertemplate": "路段名=民生西路<br>行政區=中山區<br>時段=%{x}<br>車流量=%{y}<extra></extra>",
         "legendgroup": "民生西路",
         "marker": {
          "color": "#FECB52",
          "pattern": {
           "shape": ""
          }
         },
         "name": "民生西路",
         "offsetgroup": "民生西路",
         "orientation": "v",
         "showlegend": true,
         "textposition": "auto",
         "type": "bar",
         "x": [
          "2023-07-18T00:00:00+08:00",
          "2023-07-18T01:00:00+08:00",
          "2023-07-18T02:00:00+08:00",
          "2023-07-18T03:00:00+08:00",
          "2023-07-18T04:00:00+08:00",
          "2023-07-18T05:00:00+08:00",
          "2023-07-18T06:00:00+08:00",
          "2023-07-18T07:00:00+08:00",
          "2023-07-18T08:00:00+08:00",
          "2023-07-18T09:00:00+08:00",
          "2023-07-18T10:00:00+08:00",
          "2023-07-18T11:00:00+08:00",
          "2023-07-18T12:00:00+08:00",
          "2023-07-18T13:00:00+08:00",
          "2023-07-18T14:00:00+08:00",
          "2023-07-18T15:00:00+08:00",
          "2023-07-18T16:00:00+08:00",
          "2023-07-18T17:00:00+08:00",
          "2023-07-18T18:00:00+08:00",
          "2023-07-18T19:00:00+08:00",
          "2023-07-18T20:00:00+08:00",
          "2023-07-18T21:00:00+08:00",
          "2023-07-18T22:00:00+08:00",
          "2023-07-18T23:00:00+08:00"
         ],
         "xaxis": "x",
         "y": [
          793,
          634,
          428,
          455,
          390,
          472,
          784,
          1415,
          1811,
          1922,
          1979,
          1877,
          1677,
          1829,
          2059,
          2062,
          2089,
          2322,
          2127,
          1716,
          1590,
          1504,
          1289,
          1055
         ],
         "yaxis": "y"
        },
        {
         "alignmentgroup": "True",
         "hovertemplate": "路段名=長安東路一段<br>行政區=中山區<br>時段=%{x}<br>車流量=%{y}<extra></extra>",
         "legendgroup": "長安東路一段",
         "marker": {
          "color": "#636efa",
          "pattern": {
           "shape": ""
          }
         },
         "name": "長安東路一段",
         "offsetgroup": "長安東路一段",
         "orientation": "v",
         "showlegend": true,
         "textposition": "auto",
         "type": "bar",
         "x": [
          "2023-07-18T00:00:00+08:00",
          "2023-07-18T01:00:00+08:00",
          "2023-07-18T02:00:00+08:00",
          "2023-07-18T03:00:00+08:00",
          "2023-07-18T04:00:00+08:00",
          "2023-07-18T05:00:00+08:00",
          "2023-07-18T06:00:00+08:00",
          "2023-07-18T07:00:00+08:00",
          "2023-07-18T08:00:00+08:00",
          "2023-07-18T09:00:00+08:00",
          "2023-07-18T10:00:00+08:00",
          "2023-07-18T11:00:00+08:00",
          "2023-07-18T12:00:00+08:00",
          "2023-07-18T13:00:00+08:00",
          "2023-07-18T14:00:00+08:00",
          "2023-07-18T15:00:00+08:00",
          "2023-07-18T16:00:00+08:00",
          "2023-07-18T17:00:00+08:00",
          "2023-07-18T18:00:00+08:00",
          "2023-07-18T19:00:00+08:00",
          "2023-07-18T20:00:00+08:00",
          "2023-07-18T21:00:00+08:00",
          "2023-07-18T22:00:00+08:00",
          "2023-07-18T23:00:00+08:00"
         ],
         "xaxis": "x",
         "y": [
          842,
          738,
          581,
          378,
          354,
          322,
          486,
          859,
          1492,
          1542,
          1559,
          1566,
          1576,
          1532,
          1814,
          1756,
          1712,
          1758,
          1639,
          1409,
          1368,
          1448,
          1126,
          966
         ],
         "yaxis": "y"
        },
        {
         "alignmentgroup": "True",
         "hovertemplate": "路段名=長春路<br>行政區=中山區<br>時段=%{x}<br>車流量=%{y}<extra></extra>",
         "legendgroup": "長春路",
         "marker": {
          "color": "#EF553B",
          "pattern": {
           "shape": ""
          }
         },
         "name": "長春路",
         "offsetgroup": "長春路",
         "orientation": "v",
         "showlegend": true,
         "textposition": "auto",
         "type": "bar",
         "x": [
          "2023-07-18T00:00:00+08:00",
          "2023-07-18T01:00:00+08:00",
          "2023-07-18T02:00:00+08:00",
          "2023-07-18T03:00:00+08:00",
          "2023-07-18T04:00:00+08:00",
          "2023-07-18T05:00:00+08:00",
          "2023-07-18T06:00:00+08:00",
          "2023-07-18T07:00:00+08:00",
          "2023-07-18T08:00:00+08:00",
          "2023-07-18T09:00:00+08:00",
          "2023-07-18T10:00:00+08:00",
          "2023-07-18T11:00:00+08:00",
          "2023-07-18T12:00:00+08:00",
          "2023-07-18T13:00:00+08:00",
          "2023-07-18T14:00:00+08:00",
          "2023-07-18T15:00:00+08:00",
          "2023-07-18T16:00:00+08:00",
          "2023-07-18T17:00:00+08:00",
          "2023-07-18T18:00:00+08:00",
          "2023-07-18T19:00:00+08:00",
          "2023-07-18T20:00:00+08:00",
          "2023-07-18T21:00:00+08:00",
          "2023-07-18T22:00:00+08:00",
          "2023-07-18T23:00:00+08:00"
         ],
         "xaxis": "x",
         "y": [
          963,
          744,
          620,
          528,
          464,
          503,
          852,
          2076,
          3050,
          2912,
          2961,
          2987,
          2796,
          2754,
          3168,
          3036,
          3012,
          3374,
          3156,
          2671,
          2195,
          1933,
          1601,
          1324
         ],
         "yaxis": "y"
        },
        {
         "alignmentgroup": "True",
         "hovertemplate": "路段名=龍江路<br>行政區=中山區<br>時段=%{x}<br>車流量=%{y}<extra></extra>",
         "legendgroup": "龍江路",
         "marker": {
          "color": "#00cc96",
          "pattern": {
           "shape": ""
          }
         },
         "name": "龍江路",
         "offsetgroup": "龍江路",
         "orientation": "v",
         "showlegend": true,
         "textposition": "auto",
         "type": "bar",
         "x": [
          "2023-07-18T00:00:00+08:00",
          "2023-07-18T01:00:00+08:00",
          "2023-07-18T02:00:00+08:00",
          "2023-07-18T03:00:00+08:00",
          "2023-07-18T04:00:00+08:00",
          "2023-07-18T05:00:00+08:00",
          "2023-07-18T06:00:00+08:00",
          "2023-07-18T07:00:00+08:00",
          "2023-07-18T08:00:00+08:00",
          "2023-07-18T09:00:00+08:00",
          "2023-07-18T10:00:00+08:00",
          "2023-07-18T11:00:00+08:00",
          "2023-07-18T12:00:00+08:00",
          "2023-07-18T13:00:00+08:00",
          "2023-07-18T14:00:00+08:00",
          "2023-07-18T15:00:00+08:00",
          "2023-07-18T16:00:00+08:00",
          "2023-07-18T17:00:00+08:00",
          "2023-07-18T18:00:00+08:00",
          "2023-07-18T19:00:00+08:00",
          "2023-07-18T20:00:00+08:00",
          "2023-07-18T21:00:00+08:00",
          "2023-07-18T22:00:00+08:00",
          "2023-07-18T23:00:00+08:00"
         ],
         "xaxis": "x",
         "y": [
          134,
          99,
          62,
          58,
          83,
          101,
          244,
          451,
          642,
          675,
          672,
          609,
          636,
          617,
          699,
          739,
          663,
          721,
          741,
          574,
          427,
          379,
          274,
          194
         ],
         "yaxis": "y"
        },
        {
         "alignmentgroup": "True",
         "hovertemplate": "路段名=南京東路六段<br>行政區=內湖區<br>時段=%{x}<br>車流量=%{y}<extra></extra>",
         "legendgroup": "南京東路六段",
         "marker": {
          "color": "#ab63fa",
          "pattern": {
           "shape": ""
          }
         },
         "name": "南京東路六段",
         "offsetgroup": "南京東路六段",
         "orientation": "v",
         "showlegend": true,
         "textposition": "auto",
         "type": "bar",
         "x": [
          "2023-07-18T00:00:00+08:00",
          "2023-07-18T01:00:00+08:00",
          "2023-07-18T02:00:00+08:00",
          "2023-07-18T03:00:00+08:00",
          "2023-07-18T04:00:00+08:00",
          "2023-07-18T05:00:00+08:00",
          "2023-07-18T06:00:00+08:00",
          "2023-07-18T07:00:00+08:00",
          "2023-07-18T08:00:00+08:00",
          "2023-07-18T09:00:00+08:00",
          "2023-07-18T10:00:00+08:00",
          "2023-07-18T11:00:00+08:00",
          "2023-07-18T12:00:00+08:00",
          "2023-07-18T13:00:00+08:00",
          "2023-07-18T14:00:00+08:00",
          "2023-07-18T15:00:00+08:00",
          "2023-07-18T16:00:00+08:00",
          "2023-07-18T17:00:00+08:00",
          "2023-07-18T18:00:00+08:00",
          "2023-07-18T19:00:00+08:00",
          "2023-07-18T20:00:00+08:00",
          "2023-07-18T21:00:00+08:00",
          "2023-07-18T22:00:00+08:00",
          "2023-07-18T23:00:00+08:00"
         ],
         "xaxis": "x2",
         "y": [
          726,
          492,
          433,
          385,
          382,
          546,
          1482,
          3242,
          3517,
          3420,
          3287,
          3244,
          3067,
          3189,
          3140,
          2810,
          3057,
          3342,
          3220,
          2814,
          2559,
          2383,
          1743,
          1151
         ],
         "yaxis": "y2"
        },
        {
         "alignmentgroup": "True",
         "hovertemplate": "路段名=南湖大橋<br>行政區=內湖區<br>時段=%{x}<br>車流量=%{y}<extra></extra>",
         "legendgroup": "南湖大橋",
         "marker": {
          "color": "#FFA15A",
          "pattern": {
           "shape": ""
          }
         },
         "name": "南湖大橋",
         "offsetgroup": "南湖大橋",
         "orientation": "v",
         "showlegend": true,
         "textposition": "auto",
         "type": "bar",
         "x": [
          "2023-07-18T00:00:00+08:00",
          "2023-07-18T01:00:00+08:00",
          "2023-07-18T02:00:00+08:00",
          "2023-07-18T03:00:00+08:00",
          "2023-07-18T04:00:00+08:00",
          "2023-07-18T05:00:00+08:00",
          "2023-07-18T06:00:00+08:00",
          "2023-07-18T07:00:00+08:00",
          "2023-07-18T08:00:00+08:00",
          "2023-07-18T09:00:00+08:00",
          "2023-07-18T10:00:00+08:00",
          "2023-07-18T11:00:00+08:00",
          "2023-07-18T12:00:00+08:00",
          "2023-07-18T13:00:00+08:00",
          "2023-07-18T14:00:00+08:00",
          "2023-07-18T15:00:00+08:00",
          "2023-07-18T16:00:00+08:00",
          "2023-07-18T17:00:00+08:00",
          "2023-07-18T18:00:00+08:00",
          "2023-07-18T19:00:00+08:00",
          "2023-07-18T20:00:00+08:00",
          "2023-07-18T21:00:00+08:00",
          "2023-07-18T22:00:00+08:00",
          "2023-07-18T23:00:00+08:00"
         ],
         "xaxis": "x2",
         "y": [
          285,
          183,
          126,
          96,
          135,
          311,
          975,
          2322,
          2868,
          2162,
          1612,
          1513,
          1523,
          1620,
          1318,
          1345,
          1858,
          2293,
          2403,
          1823,
          1518,
          1337,
          982,
          550
         ],
         "yaxis": "y2"
        },
        {
         "alignmentgroup": "True",
         "hovertemplate": "路段名=基湖路<br>行政區=內湖區<br>時段=%{x}<br>車流量=%{y}<extra></extra>",
         "legendgroup": "基湖路",
         "marker": {
          "color": "#19d3f3",
          "pattern": {
           "shape": ""
          }
         },
         "name": "基湖路",
         "offsetgroup": "基湖路",
         "orientation": "v",
         "showlegend": true,
         "textposition": "auto",
         "type": "bar",
         "x": [
          "2023-07-18T00:00:00+08:00",
          "2023-07-18T01:00:00+08:00",
          "2023-07-18T02:00:00+08:00",
          "2023-07-18T03:00:00+08:00",
          "2023-07-18T04:00:00+08:00",
          "2023-07-18T05:00:00+08:00",
          "2023-07-18T06:00:00+08:00",
          "2023-07-18T07:00:00+08:00",
          "2023-07-18T08:00:00+08:00",
          "2023-07-18T09:00:00+08:00",
          "2023-07-18T10:00:00+08:00",
          "2023-07-18T11:00:00+08:00",
          "2023-07-18T12:00:00+08:00",
          "2023-07-18T13:00:00+08:00",
          "2023-07-18T14:00:00+08:00",
          "2023-07-18T15:00:00+08:00",
          "2023-07-18T16:00:00+08:00",
          "2023-07-18T17:00:00+08:00",
          "2023-07-18T18:00:00+08:00",
          "2023-07-18T19:00:00+08:00",
          "2023-07-18T20:00:00+08:00",
          "2023-07-18T21:00:00+08:00",
          "2023-07-18T22:00:00+08:00",
          "2023-07-18T23:00:00+08:00"
         ],
         "xaxis": "x2",
         "y": [
          108,
          55,
          37,
          27,
          36,
          64,
          184,
          672,
          1154,
          1128,
          768,
          759,
          673,
          699,
          756,
          737,
          748,
          911,
          1025,
          733,
          468,
          398,
          312,
          182
         ],
         "yaxis": "y2"
        },
        {
         "alignmentgroup": "True",
         "hovertemplate": "路段名=安康路<br>行政區=內湖區<br>時段=%{x}<br>車流量=%{y}<extra></extra>",
         "legendgroup": "安康路",
         "marker": {
          "color": "#FF6692",
          "pattern": {
           "shape": ""
          }
         },
         "name": "安康路",
         "offsetgroup": "安康路",
         "orientation": "v",
         "showlegend": true,
         "textposition": "auto",
         "type": "bar",
         "x": [
          "2023-07-18T00:00:00+08:00",
          "2023-07-18T01:00:00+08:00",
          "2023-07-18T02:00:00+08:00",
          "2023-07-18T03:00:00+08:00",
          "2023-07-18T04:00:00+08:00",
          "2023-07-18T05:00:00+08:00",
          "2023-07-18T06:00:00+08:00",
          "2023-07-18T07:00:00+08:00",
          "2023-07-18T08:00:00+08:00",
          "2023-07-18T09:00:00+08:00",
          "2023-07-18T10:00:00+08:00",
          "2023-07-18T11:00:00+08:00",
          "2023-07-18T12:00:00+08:00",
          "2023-07-18T13:00:00+08:00",
          "2023-07-18T14:00:00+08:00",
          "2023-07-18T15:00:00+08:00",
          "2023-07-18T16:00:00+08:00",
          "2023-07-18T17:00:00+08:00",
          "2023-07-18T18:00:00+08:00",
          "2023-07-18T19:00:00+08:00",
          "2023-07-18T20:00:00+08:00",
          "2023-07-18T21:00:00+08:00",
          "2023-07-18T22:00:00+08:00",
          "2023-07-18T23:00:00+08:00"
         ],
         "xaxis": "x2",
         "y": [
          443,
          236,
          219,
          226,
          246,
          418,
          932,
          1651,
          1724,
          1528,
          1263,
          1346,
          1335,
          1240,
          1087,
          1115,
          1359,
          1473,
          1426,
          1342,
          1248,
          1284,
          1036,
          725
         ],
         "yaxis": "y2"
        },
        {
         "alignmentgroup": "True",
         "hovertemplate": "路段名=康寧路三段<br>行政區=內湖區<br>時段=%{x}<br>車流量=%{y}<extra></extra>",
         "legendgroup": "康寧路三段",
         "marker": {
          "color": "#B6E880",
          "pattern": {
           "shape": ""
          }
         },
         "name": "康寧路三段",
         "offsetgroup": "康寧路三段",
         "orientation": "v",
         "showlegend": true,
         "textposition": "auto",
         "type": "bar",
         "x": [
          "2023-07-18T00:00:00+08:00",
          "2023-07-18T01:00:00+08:00",
          "2023-07-18T02:00:00+08:00",
          "2023-07-18T03:00:00+08:00",
          "2023-07-18T04:00:00+08:00",
          "2023-07-18T05:00:00+08:00",
          "2023-07-18T06:00:00+08:00",
          "2023-07-18T07:00:00+08:00",
          "2023-07-18T08:00:00+08:00",
          "2023-07-18T09:00:00+08:00",
          "2023-07-18T10:00:00+08:00",
          "2023-07-18T11:00:00+08:00",
          "2023-07-18T12:00:00+08:00",
          "2023-07-18T13:00:00+08:00",
          "2023-07-18T14:00:00+08:00",
          "2023-07-18T15:00:00+08:00",
          "2023-07-18T16:00:00+08:00",
          "2023-07-18T17:00:00+08:00",
          "2023-07-18T18:00:00+08:00",
          "2023-07-18T19:00:00+08:00",
          "2023-07-18T20:00:00+08:00",
          "2023-07-18T21:00:00+08:00",
          "2023-07-18T22:00:00+08:00",
          "2023-07-18T23:00:00+08:00"
         ],
         "xaxis": "x2",
         "y": [
          467,
          276,
          219,
          205,
          203,
          431,
          1057,
          2092,
          2615,
          2224,
          1744,
          1672,
          1799,
          1820,
          1574,
          1706,
          2002,
          2232,
          1971,
          2111,
          1777,
          1767,
          1286,
          792
         ],
         "yaxis": "y2"
        },
        {
         "alignmentgroup": "True",
         "hovertemplate": "路段名=成功路三段<br>行政區=內湖區<br>時段=%{x}<br>車流量=%{y}<extra></extra>",
         "legendgroup": "成功路三段",
         "marker": {
          "color": "#FF97FF",
          "pattern": {
           "shape": ""
          }
         },
         "name": "成功路三段",
         "offsetgroup": "成功路三段",
         "orientation": "v",
         "showlegend": true,
         "textposition": "auto",
         "type": "bar",
         "x": [
          "2023-07-18T00:00:00+08:00",
          "2023-07-18T01:00:00+08:00",
          "2023-07-18T02:00:00+08:00",
          "2023-07-18T03:00:00+08:00",
          "2023-07-18T04:00:00+08:00",
          "2023-07-18T05:00:00+08:00",
          "2023-07-18T06:00:00+08:00",
          "2023-07-18T07:00:00+08:00",
          "2023-07-18T08:00:00+08:00",
          "2023-07-18T09:00:00+08:00",
          "2023-07-18T10:00:00+08:00",
          "2023-07-18T11:00:00+08:00",
          "2023-07-18T12:00:00+08:00",
          "2023-07-18T13:00:00+08:00",
          "2023-07-18T14:00:00+08:00",
          "2023-07-18T15:00:00+08:00",
          "2023-07-18T16:00:00+08:00",
          "2023-07-18T17:00:00+08:00",
          "2023-07-18T18:00:00+08:00",
          "2023-07-18T19:00:00+08:00",
          "2023-07-18T20:00:00+08:00",
          "2023-07-18T21:00:00+08:00",
          "2023-07-18T22:00:00+08:00",
          "2023-07-18T23:00:00+08:00"
         ],
         "xaxis": "x2",
         "y": [
          459,
          262,
          195,
          173,
          254,
          477,
          1388,
          3220,
          3387,
          3027,
          2902,
          2759,
          2564,
          2640,
          2710,
          2488,
          2707,
          2735,
          2503,
          2290,
          2066,
          1816,
          1320,
          718
         ],
         "yaxis": "y2"
        },
        {
         "alignmentgroup": "True",
         "hovertemplate": "路段名=成功路二段<br>行政區=內湖區<br>時段=%{x}<br>車流量=%{y}<extra></extra>",
         "legendgroup": "成功路二段",
         "marker": {
          "color": "#FECB52",
          "pattern": {
           "shape": ""
          }
         },
         "name": "成功路二段",
         "offsetgroup": "成功路二段",
         "orientation": "v",
         "showlegend": true,
         "textposition": "auto",
         "type": "bar",
         "x": [
          "2023-07-18T00:00:00+08:00",
          "2023-07-18T01:00:00+08:00",
          "2023-07-18T02:00:00+08:00",
          "2023-07-18T03:00:00+08:00",
          "2023-07-18T04:00:00+08:00",
          "2023-07-18T05:00:00+08:00",
          "2023-07-18T06:00:00+08:00",
          "2023-07-18T07:00:00+08:00",
          "2023-07-18T08:00:00+08:00",
          "2023-07-18T09:00:00+08:00",
          "2023-07-18T10:00:00+08:00",
          "2023-07-18T11:00:00+08:00",
          "2023-07-18T12:00:00+08:00",
          "2023-07-18T13:00:00+08:00",
          "2023-07-18T14:00:00+08:00",
          "2023-07-18T15:00:00+08:00",
          "2023-07-18T16:00:00+08:00",
          "2023-07-18T17:00:00+08:00",
          "2023-07-18T18:00:00+08:00",
          "2023-07-18T19:00:00+08:00",
          "2023-07-18T20:00:00+08:00",
          "2023-07-18T21:00:00+08:00",
          "2023-07-18T22:00:00+08:00",
          "2023-07-18T23:00:00+08:00"
         ],
         "xaxis": "x2",
         "y": [
          267,
          144,
          82,
          80,
          97,
          227,
          676,
          1309,
          1263,
          1472,
          1478,
          1413,
          1319,
          1311,
          1376,
          1195,
          1385,
          1380,
          1410,
          1388,
          1169,
          1041,
          774,
          402
         ],
         "yaxis": "y2"
        },
        {
         "alignmentgroup": "True",
         "hovertemplate": "路段名=成功路五段<br>行政區=內湖區<br>時段=%{x}<br>車流量=%{y}<extra></extra>",
         "legendgroup": "成功路五段",
         "marker": {
          "color": "#636efa",
          "pattern": {
           "shape": ""
          }
         },
         "name": "成功路五段",
         "offsetgroup": "成功路五段",
         "orientation": "v",
         "showlegend": true,
         "textposition": "auto",
         "type": "bar",
         "x": [
          "2023-07-18T00:00:00+08:00",
          "2023-07-18T01:00:00+08:00",
          "2023-07-18T02:00:00+08:00",
          "2023-07-18T03:00:00+08:00",
          "2023-07-18T04:00:00+08:00",
          "2023-07-18T05:00:00+08:00",
          "2023-07-18T06:00:00+08:00",
          "2023-07-18T07:00:00+08:00",
          "2023-07-18T08:00:00+08:00",
          "2023-07-18T09:00:00+08:00",
          "2023-07-18T10:00:00+08:00",
          "2023-07-18T11:00:00+08:00",
          "2023-07-18T12:00:00+08:00",
          "2023-07-18T13:00:00+08:00",
          "2023-07-18T14:00:00+08:00",
          "2023-07-18T15:00:00+08:00",
          "2023-07-18T16:00:00+08:00",
          "2023-07-18T17:00:00+08:00",
          "2023-07-18T18:00:00+08:00",
          "2023-07-18T19:00:00+08:00",
          "2023-07-18T20:00:00+08:00",
          "2023-07-18T21:00:00+08:00",
          "2023-07-18T22:00:00+08:00",
          "2023-07-18T23:00:00+08:00"
         ],
         "xaxis": "x2",
         "y": [
          40,
          26,
          14,
          5,
          19,
          34,
          81,
          243,
          324,
          287,
          299,
          306,
          276,
          258,
          276,
          322,
          356,
          474,
          493,
          400,
          269,
          266,
          159,
          102
         ],
         "yaxis": "y2"
        },
        {
         "alignmentgroup": "True",
         "hovertemplate": "路段名=成功路四段<br>行政區=內湖區<br>時段=%{x}<br>車流量=%{y}<extra></extra>",
         "legendgroup": "成功路四段",
         "marker": {
          "color": "#EF553B",
          "pattern": {
           "shape": ""
          }
         },
         "name": "成功路四段",
         "offsetgroup": "成功路四段",
         "orientation": "v",
         "showlegend": true,
         "textposition": "auto",
         "type": "bar",
         "x": [
          "2023-07-18T00:00:00+08:00",
          "2023-07-18T01:00:00+08:00",
          "2023-07-18T02:00:00+08:00",
          "2023-07-18T03:00:00+08:00",
          "2023-07-18T04:00:00+08:00",
          "2023-07-18T05:00:00+08:00",
          "2023-07-18T06:00:00+08:00",
          "2023-07-18T07:00:00+08:00",
          "2023-07-18T08:00:00+08:00",
          "2023-07-18T09:00:00+08:00",
          "2023-07-18T10:00:00+08:00",
          "2023-07-18T11:00:00+08:00",
          "2023-07-18T12:00:00+08:00",
          "2023-07-18T13:00:00+08:00",
          "2023-07-18T14:00:00+08:00",
          "2023-07-18T15:00:00+08:00",
          "2023-07-18T16:00:00+08:00",
          "2023-07-18T17:00:00+08:00",
          "2023-07-18T18:00:00+08:00",
          "2023-07-18T19:00:00+08:00",
          "2023-07-18T20:00:00+08:00",
          "2023-07-18T21:00:00+08:00",
          "2023-07-18T22:00:00+08:00",
          "2023-07-18T23:00:00+08:00"
         ],
         "xaxis": "x2",
         "y": [
          178,
          159,
          64,
          41,
          78,
          189,
          351,
          879,
          1162,
          1166,
          1096,
          1070,
          1113,
          982,
          943,
          956,
          1091,
          1234,
          1386,
          1258,
          1017,
          828,
          658,
          365
         ],
         "yaxis": "y2"
        },
        {
         "alignmentgroup": "True",
         "hovertemplate": "路段名=文德路<br>行政區=內湖區<br>時段=%{x}<br>車流量=%{y}<extra></extra>",
         "legendgroup": "文德路",
         "marker": {
          "color": "#00cc96",
          "pattern": {
           "shape": ""
          }
         },
         "name": "文德路",
         "offsetgroup": "文德路",
         "orientation": "v",
         "showlegend": true,
         "textposition": "auto",
         "type": "bar",
         "x": [
          "2023-07-18T00:00:00+08:00",
          "2023-07-18T01:00:00+08:00",
          "2023-07-18T02:00:00+08:00",
          "2023-07-18T03:00:00+08:00",
          "2023-07-18T04:00:00+08:00",
          "2023-07-18T05:00:00+08:00",
          "2023-07-18T06:00:00+08:00",
          "2023-07-18T07:00:00+08:00",
          "2023-07-18T08:00:00+08:00",
          "2023-07-18T09:00:00+08:00",
          "2023-07-18T10:00:00+08:00",
          "2023-07-18T11:00:00+08:00",
          "2023-07-18T12:00:00+08:00",
          "2023-07-18T13:00:00+08:00",
          "2023-07-18T14:00:00+08:00",
          "2023-07-18T15:00:00+08:00",
          "2023-07-18T16:00:00+08:00",
          "2023-07-18T17:00:00+08:00",
          "2023-07-18T18:00:00+08:00",
          "2023-07-18T19:00:00+08:00",
          "2023-07-18T20:00:00+08:00",
          "2023-07-18T21:00:00+08:00",
          "2023-07-18T22:00:00+08:00",
          "2023-07-18T23:00:00+08:00"
         ],
         "xaxis": "x2",
         "y": [
          149,
          136,
          61,
          33,
          77,
          134,
          419,
          1174,
          1393,
          1254,
          1100,
          1069,
          1062,
          1023,
          1019,
          974,
          1157,
          1361,
          1507,
          1106,
          981,
          822,
          577,
          350
         ],
         "yaxis": "y2"
        },
        {
         "alignmentgroup": "True",
         "hovertemplate": "路段名=東湖路<br>行政區=內湖區<br>時段=%{x}<br>車流量=%{y}<extra></extra>",
         "legendgroup": "東湖路",
         "marker": {
          "color": "#ab63fa",
          "pattern": {
           "shape": ""
          }
         },
         "name": "東湖路",
         "offsetgroup": "東湖路",
         "orientation": "v",
         "showlegend": true,
         "textposition": "auto",
         "type": "bar",
         "x": [
          "2023-07-18T00:00:00+08:00",
          "2023-07-18T01:00:00+08:00",
          "2023-07-18T02:00:00+08:00",
          "2023-07-18T03:00:00+08:00",
          "2023-07-18T04:00:00+08:00",
          "2023-07-18T05:00:00+08:00",
          "2023-07-18T06:00:00+08:00",
          "2023-07-18T07:00:00+08:00",
          "2023-07-18T08:00:00+08:00",
          "2023-07-18T09:00:00+08:00",
          "2023-07-18T10:00:00+08:00",
          "2023-07-18T11:00:00+08:00",
          "2023-07-18T12:00:00+08:00",
          "2023-07-18T13:00:00+08:00",
          "2023-07-18T14:00:00+08:00",
          "2023-07-18T15:00:00+08:00",
          "2023-07-18T16:00:00+08:00",
          "2023-07-18T17:00:00+08:00",
          "2023-07-18T18:00:00+08:00",
          "2023-07-18T19:00:00+08:00",
          "2023-07-18T20:00:00+08:00",
          "2023-07-18T21:00:00+08:00",
          "2023-07-18T22:00:00+08:00",
          "2023-07-18T23:00:00+08:00"
         ],
         "xaxis": "x2",
         "y": [
          274,
          145,
          113,
          75,
          96,
          183,
          485,
          777,
          870,
          858,
          777,
          787,
          774,
          832,
          811,
          740,
          699,
          702,
          736,
          775,
          682,
          723,
          568,
          374
         ],
         "yaxis": "y2"
        },
        {
         "alignmentgroup": "True",
         "hovertemplate": "路段名=民權東路六段<br>行政區=內湖區<br>時段=%{x}<br>車流量=%{y}<extra></extra>",
         "legendgroup": "民權東路六段",
         "marker": {
          "color": "#FFA15A",
          "pattern": {
           "shape": ""
          }
         },
         "name": "民權東路六段",
         "offsetgroup": "民權東路六段",
         "orientation": "v",
         "showlegend": true,
         "textposition": "auto",
         "type": "bar",
         "x": [
          "2023-07-18T00:00:00+08:00",
          "2023-07-18T01:00:00+08:00",
          "2023-07-18T02:00:00+08:00",
          "2023-07-18T03:00:00+08:00",
          "2023-07-18T04:00:00+08:00",
          "2023-07-18T05:00:00+08:00",
          "2023-07-18T06:00:00+08:00",
          "2023-07-18T07:00:00+08:00",
          "2023-07-18T08:00:00+08:00",
          "2023-07-18T09:00:00+08:00",
          "2023-07-18T10:00:00+08:00",
          "2023-07-18T11:00:00+08:00",
          "2023-07-18T12:00:00+08:00",
          "2023-07-18T13:00:00+08:00",
          "2023-07-18T14:00:00+08:00",
          "2023-07-18T15:00:00+08:00",
          "2023-07-18T16:00:00+08:00",
          "2023-07-18T17:00:00+08:00",
          "2023-07-18T18:00:00+08:00",
          "2023-07-18T19:00:00+08:00",
          "2023-07-18T20:00:00+08:00",
          "2023-07-18T21:00:00+08:00",
          "2023-07-18T22:00:00+08:00",
          "2023-07-18T23:00:00+08:00"
         ],
         "xaxis": "x2",
         "y": [
          806,
          477,
          354,
          296,
          365,
          789,
          1740,
          4876,
          7545,
          6664,
          6508,
          6171,
          6185,
          6053,
          6106,
          4491,
          5208,
          5951,
          6161,
          5287,
          4409,
          4034,
          2653,
          1600
         ],
         "yaxis": "y2"
        },
        {
         "alignmentgroup": "True",
         "hovertemplate": "路段名=洲子街<br>行政區=內湖區<br>時段=%{x}<br>車流量=%{y}<extra></extra>",
         "legendgroup": "洲子街",
         "marker": {
          "color": "#19d3f3",
          "pattern": {
           "shape": ""
          }
         },
         "name": "洲子街",
         "offsetgroup": "洲子街",
         "orientation": "v",
         "showlegend": true,
         "textposition": "auto",
         "type": "bar",
         "x": [
          "2023-07-18T00:00:00+08:00",
          "2023-07-18T01:00:00+08:00",
          "2023-07-18T02:00:00+08:00",
          "2023-07-18T03:00:00+08:00",
          "2023-07-18T04:00:00+08:00",
          "2023-07-18T05:00:00+08:00",
          "2023-07-18T06:00:00+08:00",
          "2023-07-18T07:00:00+08:00",
          "2023-07-18T08:00:00+08:00",
          "2023-07-18T09:00:00+08:00",
          "2023-07-18T10:00:00+08:00",
          "2023-07-18T11:00:00+08:00",
          "2023-07-18T12:00:00+08:00",
          "2023-07-18T13:00:00+08:00",
          "2023-07-18T14:00:00+08:00",
          "2023-07-18T15:00:00+08:00",
          "2023-07-18T16:00:00+08:00",
          "2023-07-18T17:00:00+08:00",
          "2023-07-18T18:00:00+08:00",
          "2023-07-18T19:00:00+08:00",
          "2023-07-18T20:00:00+08:00",
          "2023-07-18T21:00:00+08:00",
          "2023-07-18T22:00:00+08:00",
          "2023-07-18T23:00:00+08:00"
         ],
         "xaxis": "x2",
         "y": [
          26,
          7,
          14,
          11,
          10,
          15,
          82,
          310,
          514,
          500,
          378,
          373,
          353,
          363,
          350,
          429,
          383,
          599,
          585,
          351,
          248,
          146,
          73,
          57
         ],
         "yaxis": "y2"
        },
        {
         "alignmentgroup": "True",
         "hovertemplate": "路段名=港墘路<br>行政區=內湖區<br>時段=%{x}<br>車流量=%{y}<extra></extra>",
         "legendgroup": "港墘路",
         "marker": {
          "color": "#FF6692",
          "pattern": {
           "shape": ""
          }
         },
         "name": "港墘路",
         "offsetgroup": "港墘路",
         "orientation": "v",
         "showlegend": true,
         "textposition": "auto",
         "type": "bar",
         "x": [
          "2023-07-18T00:00:00+08:00",
          "2023-07-18T01:00:00+08:00",
          "2023-07-18T02:00:00+08:00",
          "2023-07-18T03:00:00+08:00",
          "2023-07-18T04:00:00+08:00",
          "2023-07-18T05:00:00+08:00",
          "2023-07-18T06:00:00+08:00",
          "2023-07-18T07:00:00+08:00",
          "2023-07-18T08:00:00+08:00",
          "2023-07-18T09:00:00+08:00",
          "2023-07-18T10:00:00+08:00",
          "2023-07-18T11:00:00+08:00",
          "2023-07-18T12:00:00+08:00",
          "2023-07-18T13:00:00+08:00",
          "2023-07-18T14:00:00+08:00",
          "2023-07-18T15:00:00+08:00",
          "2023-07-18T16:00:00+08:00",
          "2023-07-18T17:00:00+08:00",
          "2023-07-18T18:00:00+08:00",
          "2023-07-18T19:00:00+08:00",
          "2023-07-18T20:00:00+08:00",
          "2023-07-18T21:00:00+08:00",
          "2023-07-18T22:00:00+08:00",
          "2023-07-18T23:00:00+08:00"
         ],
         "xaxis": "x2",
         "y": [
          519,
          392,
          232,
          199,
          251,
          473,
          1206,
          3216,
          3721,
          3518,
          3207,
          3303,
          3142,
          3315,
          3191,
          3410,
          3473,
          3649,
          3774,
          3471,
          2662,
          2197,
          1612,
          963
         ],
         "yaxis": "y2"
        },
        {
         "alignmentgroup": "True",
         "hovertemplate": "路段名=瑞光路<br>行政區=內湖區<br>時段=%{x}<br>車流量=%{y}<extra></extra>",
         "legendgroup": "瑞光路",
         "marker": {
          "color": "#B6E880",
          "pattern": {
           "shape": ""
          }
         },
         "name": "瑞光路",
         "offsetgroup": "瑞光路",
         "orientation": "v",
         "showlegend": true,
         "textposition": "auto",
         "type": "bar",
         "x": [
          "2023-07-18T00:00:00+08:00",
          "2023-07-18T01:00:00+08:00",
          "2023-07-18T02:00:00+08:00",
          "2023-07-18T03:00:00+08:00",
          "2023-07-18T04:00:00+08:00",
          "2023-07-18T05:00:00+08:00",
          "2023-07-18T06:00:00+08:00",
          "2023-07-18T07:00:00+08:00",
          "2023-07-18T08:00:00+08:00",
          "2023-07-18T09:00:00+08:00",
          "2023-07-18T10:00:00+08:00",
          "2023-07-18T11:00:00+08:00",
          "2023-07-18T12:00:00+08:00",
          "2023-07-18T13:00:00+08:00",
          "2023-07-18T14:00:00+08:00",
          "2023-07-18T15:00:00+08:00",
          "2023-07-18T16:00:00+08:00",
          "2023-07-18T17:00:00+08:00",
          "2023-07-18T18:00:00+08:00",
          "2023-07-18T19:00:00+08:00",
          "2023-07-18T20:00:00+08:00",
          "2023-07-18T21:00:00+08:00",
          "2023-07-18T22:00:00+08:00",
          "2023-07-18T23:00:00+08:00"
         ],
         "xaxis": "x2",
         "y": [
          266,
          133,
          67,
          71,
          109,
          133,
          427,
          1716,
          3075,
          3297,
          2537,
          2512,
          2205,
          2436,
          2666,
          2392,
          2310,
          2680,
          2767,
          2072,
          1409,
          1075,
          698,
          418
         ],
         "yaxis": "y2"
        },
        {
         "alignmentgroup": "True",
         "hovertemplate": "路段名=舊宗路一段<br>行政區=內湖區<br>時段=%{x}<br>車流量=%{y}<extra></extra>",
         "legendgroup": "舊宗路一段",
         "marker": {
          "color": "#FF97FF",
          "pattern": {
           "shape": ""
          }
         },
         "name": "舊宗路一段",
         "offsetgroup": "舊宗路一段",
         "orientation": "v",
         "showlegend": true,
         "textposition": "auto",
         "type": "bar",
         "x": [
          "2023-07-18T00:00:00+08:00",
          "2023-07-18T01:00:00+08:00",
          "2023-07-18T02:00:00+08:00",
          "2023-07-18T03:00:00+08:00",
          "2023-07-18T04:00:00+08:00",
          "2023-07-18T05:00:00+08:00",
          "2023-07-18T06:00:00+08:00",
          "2023-07-18T07:00:00+08:00",
          "2023-07-18T08:00:00+08:00",
          "2023-07-18T09:00:00+08:00",
          "2023-07-18T10:00:00+08:00",
          "2023-07-18T11:00:00+08:00",
          "2023-07-18T12:00:00+08:00",
          "2023-07-18T13:00:00+08:00",
          "2023-07-18T14:00:00+08:00",
          "2023-07-18T15:00:00+08:00",
          "2023-07-18T16:00:00+08:00",
          "2023-07-18T17:00:00+08:00",
          "2023-07-18T18:00:00+08:00",
          "2023-07-18T19:00:00+08:00",
          "2023-07-18T20:00:00+08:00",
          "2023-07-18T21:00:00+08:00",
          "2023-07-18T22:00:00+08:00",
          "2023-07-18T23:00:00+08:00"
         ],
         "xaxis": "x2",
         "y": [
          45,
          25,
          15,
          11,
          35,
          56,
          176,
          489,
          774,
          800,
          871,
          945,
          866,
          954,
          733,
          667,
          764,
          595,
          598,
          711,
          660,
          519,
          225,
          94
         ],
         "yaxis": "y2"
        },
        {
         "alignmentgroup": "True",
         "hovertemplate": "路段名=舊宗路二段<br>行政區=內湖區<br>時段=%{x}<br>車流量=%{y}<extra></extra>",
         "legendgroup": "舊宗路二段",
         "marker": {
          "color": "#FECB52",
          "pattern": {
           "shape": ""
          }
         },
         "name": "舊宗路二段",
         "offsetgroup": "舊宗路二段",
         "orientation": "v",
         "showlegend": true,
         "textposition": "auto",
         "type": "bar",
         "x": [
          "2023-07-18T00:00:00+08:00",
          "2023-07-18T01:00:00+08:00",
          "2023-07-18T02:00:00+08:00",
          "2023-07-18T03:00:00+08:00",
          "2023-07-18T04:00:00+08:00",
          "2023-07-18T05:00:00+08:00",
          "2023-07-18T06:00:00+08:00",
          "2023-07-18T07:00:00+08:00",
          "2023-07-18T08:00:00+08:00",
          "2023-07-18T09:00:00+08:00",
          "2023-07-18T10:00:00+08:00",
          "2023-07-18T11:00:00+08:00",
          "2023-07-18T12:00:00+08:00",
          "2023-07-18T13:00:00+08:00",
          "2023-07-18T14:00:00+08:00",
          "2023-07-18T15:00:00+08:00",
          "2023-07-18T16:00:00+08:00",
          "2023-07-18T17:00:00+08:00",
          "2023-07-18T18:00:00+08:00",
          "2023-07-18T19:00:00+08:00",
          "2023-07-18T20:00:00+08:00",
          "2023-07-18T21:00:00+08:00",
          "2023-07-18T22:00:00+08:00",
          "2023-07-18T23:00:00+08:00"
         ],
         "xaxis": "x2",
         "y": [
          636,
          397,
          273,
          273,
          336,
          802,
          2755,
          6322,
          8070,
          7871,
          6691,
          6519,
          5885,
          6655,
          6321,
          5746,
          5511,
          5748,
          5688,
          6013,
          4446,
          3772,
          2316,
          1292
         ],
         "yaxis": "y2"
        },
        {
         "alignmentgroup": "True",
         "hovertemplate": "路段名=金湖路<br>行政區=內湖區<br>時段=%{x}<br>車流量=%{y}<extra></extra>",
         "legendgroup": "金湖路",
         "marker": {
          "color": "#636efa",
          "pattern": {
           "shape": ""
          }
         },
         "name": "金湖路",
         "offsetgroup": "金湖路",
         "orientation": "v",
         "showlegend": true,
         "textposition": "auto",
         "type": "bar",
         "x": [
          "2023-07-18T00:00:00+08:00",
          "2023-07-18T01:00:00+08:00",
          "2023-07-18T02:00:00+08:00",
          "2023-07-18T04:00:00+08:00",
          "2023-07-18T05:00:00+08:00",
          "2023-07-18T06:00:00+08:00",
          "2023-07-18T07:00:00+08:00",
          "2023-07-18T08:00:00+08:00",
          "2023-07-18T09:00:00+08:00",
          "2023-07-18T10:00:00+08:00",
          "2023-07-18T11:00:00+08:00",
          "2023-07-18T12:00:00+08:00",
          "2023-07-18T13:00:00+08:00",
          "2023-07-18T14:00:00+08:00",
          "2023-07-18T15:00:00+08:00",
          "2023-07-18T16:00:00+08:00",
          "2023-07-18T17:00:00+08:00",
          "2023-07-18T18:00:00+08:00",
          "2023-07-18T19:00:00+08:00",
          "2023-07-18T20:00:00+08:00",
          "2023-07-18T21:00:00+08:00",
          "2023-07-18T22:00:00+08:00",
          "2023-07-18T23:00:00+08:00"
         ],
         "xaxis": "x2",
         "y": [
          65,
          60,
          33,
          37,
          73,
          236,
          572,
          989,
          806,
          646,
          568,
          606,
          572,
          561,
          587,
          674,
          869,
          576,
          600,
          317,
          46,
          218,
          122
         ],
         "yaxis": "y2"
        },
        {
         "alignmentgroup": "True",
         "hovertemplate": "路段名=中山北路五段<br>行政區=士林區<br>時段=%{x}<br>車流量=%{y}<extra></extra>",
         "legendgroup": "中山北路五段",
         "marker": {
          "color": "#EF553B",
          "pattern": {
           "shape": ""
          }
         },
         "name": "中山北路五段",
         "offsetgroup": "中山北路五段",
         "orientation": "v",
         "showlegend": true,
         "textposition": "auto",
         "type": "bar",
         "x": [
          "2023-07-18T00:00:00+08:00",
          "2023-07-18T01:00:00+08:00",
          "2023-07-18T02:00:00+08:00",
          "2023-07-18T03:00:00+08:00",
          "2023-07-18T04:00:00+08:00",
          "2023-07-18T05:00:00+08:00",
          "2023-07-18T06:00:00+08:00",
          "2023-07-18T07:00:00+08:00",
          "2023-07-18T08:00:00+08:00",
          "2023-07-18T09:00:00+08:00",
          "2023-07-18T10:00:00+08:00",
          "2023-07-18T11:00:00+08:00",
          "2023-07-18T12:00:00+08:00",
          "2023-07-18T13:00:00+08:00",
          "2023-07-18T14:00:00+08:00",
          "2023-07-18T15:00:00+08:00",
          "2023-07-18T16:00:00+08:00",
          "2023-07-18T17:00:00+08:00",
          "2023-07-18T18:00:00+08:00",
          "2023-07-18T19:00:00+08:00",
          "2023-07-18T20:00:00+08:00",
          "2023-07-18T21:00:00+08:00",
          "2023-07-18T22:00:00+08:00",
          "2023-07-18T23:00:00+08:00"
         ],
         "xaxis": "x3",
         "y": [
          1426,
          916,
          702,
          544,
          504,
          952,
          2558,
          6505,
          7239,
          7775,
          7464,
          7036,
          7062,
          7409,
          7342,
          7269,
          7331,
          6654,
          7146,
          5977,
          5102,
          4992,
          3526,
          2260
         ],
         "yaxis": "y3"
        },
        {
         "alignmentgroup": "True",
         "hovertemplate": "路段名=中山北路六段<br>行政區=士林區<br>時段=%{x}<br>車流量=%{y}<extra></extra>",
         "legendgroup": "中山北路六段",
         "marker": {
          "color": "#00cc96",
          "pattern": {
           "shape": ""
          }
         },
         "name": "中山北路六段",
         "offsetgroup": "中山北路六段",
         "orientation": "v",
         "showlegend": true,
         "textposition": "auto",
         "type": "bar",
         "x": [
          "2023-07-18T00:00:00+08:00",
          "2023-07-18T01:00:00+08:00",
          "2023-07-18T02:00:00+08:00",
          "2023-07-18T03:00:00+08:00",
          "2023-07-18T04:00:00+08:00",
          "2023-07-18T05:00:00+08:00",
          "2023-07-18T06:00:00+08:00",
          "2023-07-18T07:00:00+08:00",
          "2023-07-18T08:00:00+08:00",
          "2023-07-18T09:00:00+08:00",
          "2023-07-18T10:00:00+08:00",
          "2023-07-18T11:00:00+08:00",
          "2023-07-18T12:00:00+08:00",
          "2023-07-18T13:00:00+08:00",
          "2023-07-18T14:00:00+08:00",
          "2023-07-18T15:00:00+08:00",
          "2023-07-18T16:00:00+08:00",
          "2023-07-18T17:00:00+08:00",
          "2023-07-18T18:00:00+08:00",
          "2023-07-18T19:00:00+08:00",
          "2023-07-18T20:00:00+08:00",
          "2023-07-18T21:00:00+08:00",
          "2023-07-18T22:00:00+08:00",
          "2023-07-18T23:00:00+08:00"
         ],
         "xaxis": "x3",
         "y": [
          654,
          379,
          271,
          221,
          320,
          503,
          1502,
          3103,
          4239,
          3683,
          3985,
          3771,
          3765,
          4141,
          3929,
          3638,
          3793,
          3833,
          3789,
          2871,
          2559,
          2258,
          1817,
          1154
         ],
         "yaxis": "y3"
        },
        {
         "alignmentgroup": "True",
         "hovertemplate": "路段名=中正路<br>行政區=士林區<br>時段=%{x}<br>車流量=%{y}<extra></extra>",
         "legendgroup": "中正路",
         "marker": {
          "color": "#ab63fa",
          "pattern": {
           "shape": ""
          }
         },
         "name": "中正路",
         "offsetgroup": "中正路",
         "orientation": "v",
         "showlegend": true,
         "textposition": "auto",
         "type": "bar",
         "x": [
          "2023-07-18T00:00:00+08:00",
          "2023-07-18T01:00:00+08:00",
          "2023-07-18T02:00:00+08:00",
          "2023-07-18T03:00:00+08:00",
          "2023-07-18T04:00:00+08:00",
          "2023-07-18T05:00:00+08:00",
          "2023-07-18T06:00:00+08:00",
          "2023-07-18T07:00:00+08:00",
          "2023-07-18T08:00:00+08:00",
          "2023-07-18T09:00:00+08:00",
          "2023-07-18T10:00:00+08:00",
          "2023-07-18T11:00:00+08:00",
          "2023-07-18T12:00:00+08:00",
          "2023-07-18T13:00:00+08:00",
          "2023-07-18T14:00:00+08:00",
          "2023-07-18T15:00:00+08:00",
          "2023-07-18T16:00:00+08:00",
          "2023-07-18T17:00:00+08:00",
          "2023-07-18T18:00:00+08:00",
          "2023-07-18T19:00:00+08:00",
          "2023-07-18T20:00:00+08:00",
          "2023-07-18T21:00:00+08:00",
          "2023-07-18T22:00:00+08:00",
          "2023-07-18T23:00:00+08:00"
         ],
         "xaxis": "x3",
         "y": [
          2041,
          1328,
          1125,
          979,
          1297,
          2149,
          5459,
          10899,
          11943,
          10936,
          10396,
          10046,
          9715,
          10001,
          10184,
          9668,
          9950,
          9557,
          10639,
          9185,
          7362,
          6943,
          5101,
          3036
         ],
         "yaxis": "y3"
        },
        {
         "alignmentgroup": "True",
         "hovertemplate": "路段名=基河路<br>行政區=士林區<br>時段=%{x}<br>車流量=%{y}<extra></extra>",
         "legendgroup": "基河路",
         "marker": {
          "color": "#FFA15A",
          "pattern": {
           "shape": ""
          }
         },
         "name": "基河路",
         "offsetgroup": "基河路",
         "orientation": "v",
         "showlegend": true,
         "textposition": "auto",
         "type": "bar",
         "x": [
          "2023-07-18T00:00:00+08:00",
          "2023-07-18T01:00:00+08:00",
          "2023-07-18T02:00:00+08:00",
          "2023-07-18T03:00:00+08:00",
          "2023-07-18T04:00:00+08:00",
          "2023-07-18T05:00:00+08:00",
          "2023-07-18T06:00:00+08:00",
          "2023-07-18T07:00:00+08:00",
          "2023-07-18T08:00:00+08:00",
          "2023-07-18T09:00:00+08:00",
          "2023-07-18T10:00:00+08:00",
          "2023-07-18T11:00:00+08:00",
          "2023-07-18T12:00:00+08:00",
          "2023-07-18T13:00:00+08:00",
          "2023-07-18T14:00:00+08:00",
          "2023-07-18T15:00:00+08:00",
          "2023-07-18T16:00:00+08:00",
          "2023-07-18T17:00:00+08:00",
          "2023-07-18T18:00:00+08:00",
          "2023-07-18T19:00:00+08:00",
          "2023-07-18T20:00:00+08:00",
          "2023-07-18T21:00:00+08:00",
          "2023-07-18T22:00:00+08:00",
          "2023-07-18T23:00:00+08:00"
         ],
         "xaxis": "x3",
         "y": [
          61,
          25,
          27,
          17,
          15,
          36,
          111,
          300,
          406,
          396,
          476,
          480,
          445,
          387,
          500,
          493,
          544,
          442,
          333,
          198,
          204,
          202,
          112,
          74
         ],
         "yaxis": "y3"
        },
        {
         "alignmentgroup": "True",
         "hovertemplate": "路段名=延平北路六段<br>行政區=士林區<br>時段=%{x}<br>車流量=%{y}<extra></extra>",
         "legendgroup": "延平北路六段",
         "marker": {
          "color": "#19d3f3",
          "pattern": {
           "shape": ""
          }
         },
         "name": "延平北路六段",
         "offsetgroup": "延平北路六段",
         "orientation": "v",
         "showlegend": true,
         "textposition": "auto",
         "type": "bar",
         "x": [
          "2023-07-18T00:00:00+08:00",
          "2023-07-18T01:00:00+08:00",
          "2023-07-18T02:00:00+08:00",
          "2023-07-18T03:00:00+08:00",
          "2023-07-18T04:00:00+08:00",
          "2023-07-18T05:00:00+08:00",
          "2023-07-18T06:00:00+08:00",
          "2023-07-18T07:00:00+08:00",
          "2023-07-18T08:00:00+08:00",
          "2023-07-18T09:00:00+08:00",
          "2023-07-18T10:00:00+08:00",
          "2023-07-18T11:00:00+08:00",
          "2023-07-18T12:00:00+08:00",
          "2023-07-18T13:00:00+08:00",
          "2023-07-18T14:00:00+08:00",
          "2023-07-18T15:00:00+08:00",
          "2023-07-18T16:00:00+08:00",
          "2023-07-18T17:00:00+08:00",
          "2023-07-18T18:00:00+08:00",
          "2023-07-18T19:00:00+08:00",
          "2023-07-18T20:00:00+08:00",
          "2023-07-18T21:00:00+08:00",
          "2023-07-18T22:00:00+08:00",
          "2023-07-18T23:00:00+08:00"
         ],
         "xaxis": "x3",
         "y": [
          1247,
          972,
          729,
          707,
          964,
          1522,
          3527,
          6603,
          7028,
          6102,
          6134,
          7235,
          6762,
          7140,
          7500,
          7619,
          7032,
          7376,
          8362,
          7231,
          5397,
          4872,
          3926,
          2485
         ],
         "yaxis": "y3"
        },
        {
         "alignmentgroup": "True",
         "hovertemplate": "路段名=德行東路<br>行政區=士林區<br>時段=%{x}<br>車流量=%{y}<extra></extra>",
         "legendgroup": "德行東路",
         "marker": {
          "color": "#FF6692",
          "pattern": {
           "shape": ""
          }
         },
         "name": "德行東路",
         "offsetgroup": "德行東路",
         "orientation": "v",
         "showlegend": true,
         "textposition": "auto",
         "type": "bar",
         "x": [
          "2023-07-18T00:00:00+08:00",
          "2023-07-18T01:00:00+08:00",
          "2023-07-18T02:00:00+08:00",
          "2023-07-18T03:00:00+08:00",
          "2023-07-18T04:00:00+08:00",
          "2023-07-18T05:00:00+08:00",
          "2023-07-18T06:00:00+08:00",
          "2023-07-18T07:00:00+08:00",
          "2023-07-18T08:00:00+08:00",
          "2023-07-18T09:00:00+08:00",
          "2023-07-18T10:00:00+08:00",
          "2023-07-18T11:00:00+08:00",
          "2023-07-18T12:00:00+08:00",
          "2023-07-18T13:00:00+08:00",
          "2023-07-18T14:00:00+08:00",
          "2023-07-18T15:00:00+08:00",
          "2023-07-18T16:00:00+08:00",
          "2023-07-18T17:00:00+08:00",
          "2023-07-18T18:00:00+08:00",
          "2023-07-18T19:00:00+08:00",
          "2023-07-18T20:00:00+08:00",
          "2023-07-18T21:00:00+08:00",
          "2023-07-18T22:00:00+08:00",
          "2023-07-18T23:00:00+08:00"
         ],
         "xaxis": "x3",
         "y": [
          73,
          32,
          20,
          21,
          36,
          96,
          190,
          427,
          446,
          388,
          357,
          368,
          320,
          286,
          337,
          387,
          445,
          503,
          504,
          395,
          273,
          271,
          217,
          140
         ],
         "yaxis": "y3"
        },
        {
         "alignmentgroup": "True",
         "hovertemplate": "路段名=忠誠路一段<br>行政區=士林區<br>時段=%{x}<br>車流量=%{y}<extra></extra>",
         "legendgroup": "忠誠路一段",
         "marker": {
          "color": "#B6E880",
          "pattern": {
           "shape": ""
          }
         },
         "name": "忠誠路一段",
         "offsetgroup": "忠誠路一段",
         "orientation": "v",
         "showlegend": true,
         "textposition": "auto",
         "type": "bar",
         "x": [
          "2023-07-18T00:00:00+08:00",
          "2023-07-18T01:00:00+08:00",
          "2023-07-18T02:00:00+08:00",
          "2023-07-18T03:00:00+08:00",
          "2023-07-18T04:00:00+08:00",
          "2023-07-18T05:00:00+08:00",
          "2023-07-18T06:00:00+08:00",
          "2023-07-18T07:00:00+08:00",
          "2023-07-18T08:00:00+08:00",
          "2023-07-18T09:00:00+08:00",
          "2023-07-18T10:00:00+08:00",
          "2023-07-18T11:00:00+08:00",
          "2023-07-18T12:00:00+08:00",
          "2023-07-18T13:00:00+08:00",
          "2023-07-18T14:00:00+08:00",
          "2023-07-18T15:00:00+08:00",
          "2023-07-18T16:00:00+08:00",
          "2023-07-18T17:00:00+08:00",
          "2023-07-18T18:00:00+08:00",
          "2023-07-18T19:00:00+08:00",
          "2023-07-18T20:00:00+08:00",
          "2023-07-18T21:00:00+08:00",
          "2023-07-18T22:00:00+08:00",
          "2023-07-18T23:00:00+08:00"
         ],
         "xaxis": "x3",
         "y": [
          241,
          157,
          125,
          94,
          84,
          156,
          509,
          1384,
          1534,
          1401,
          1365,
          1388,
          1343,
          1357,
          1400,
          1391,
          1402,
          1134,
          1101,
          1064,
          843,
          853,
          602,
          384
         ],
         "yaxis": "y3"
        },
        {
         "alignmentgroup": "True",
         "hovertemplate": "路段名=忠誠路二段<br>行政區=士林區<br>時段=%{x}<br>車流量=%{y}<extra></extra>",
         "legendgroup": "忠誠路二段",
         "marker": {
          "color": "#FF97FF",
          "pattern": {
           "shape": ""
          }
         },
         "name": "忠誠路二段",
         "offsetgroup": "忠誠路二段",
         "orientation": "v",
         "showlegend": true,
         "textposition": "auto",
         "type": "bar",
         "x": [
          "2023-07-18T00:00:00+08:00",
          "2023-07-18T01:00:00+08:00",
          "2023-07-18T02:00:00+08:00",
          "2023-07-18T03:00:00+08:00",
          "2023-07-18T04:00:00+08:00",
          "2023-07-18T05:00:00+08:00",
          "2023-07-18T06:00:00+08:00",
          "2023-07-18T07:00:00+08:00",
          "2023-07-18T08:00:00+08:00",
          "2023-07-18T09:00:00+08:00",
          "2023-07-18T10:00:00+08:00",
          "2023-07-18T11:00:00+08:00",
          "2023-07-18T12:00:00+08:00",
          "2023-07-18T13:00:00+08:00",
          "2023-07-18T14:00:00+08:00",
          "2023-07-18T15:00:00+08:00",
          "2023-07-18T16:00:00+08:00",
          "2023-07-18T17:00:00+08:00",
          "2023-07-18T18:00:00+08:00",
          "2023-07-18T19:00:00+08:00",
          "2023-07-18T20:00:00+08:00",
          "2023-07-18T21:00:00+08:00",
          "2023-07-18T22:00:00+08:00",
          "2023-07-18T23:00:00+08:00"
         ],
         "xaxis": "x3",
         "y": [
          83,
          48,
          56,
          26,
          40,
          52,
          211,
          646,
          798,
          673,
          594,
          600,
          640,
          554,
          548,
          570,
          649,
          668,
          564,
          474,
          377,
          347,
          220,
          129
         ],
         "yaxis": "y3"
        },
        {
         "alignmentgroup": "True",
         "hovertemplate": "路段名=承德路五段<br>行政區=士林區<br>時段=%{x}<br>車流量=%{y}<extra></extra>",
         "legendgroup": "承德路五段",
         "marker": {
          "color": "#FECB52",
          "pattern": {
           "shape": ""
          }
         },
         "name": "承德路五段",
         "offsetgroup": "承德路五段",
         "orientation": "v",
         "showlegend": true,
         "textposition": "auto",
         "type": "bar",
         "x": [
          "2023-07-18T00:00:00+08:00",
          "2023-07-18T01:00:00+08:00",
          "2023-07-18T02:00:00+08:00",
          "2023-07-18T03:00:00+08:00",
          "2023-07-18T04:00:00+08:00",
          "2023-07-18T05:00:00+08:00",
          "2023-07-18T06:00:00+08:00",
          "2023-07-18T07:00:00+08:00",
          "2023-07-18T08:00:00+08:00",
          "2023-07-18T09:00:00+08:00",
          "2023-07-18T10:00:00+08:00",
          "2023-07-18T11:00:00+08:00",
          "2023-07-18T12:00:00+08:00",
          "2023-07-18T13:00:00+08:00",
          "2023-07-18T14:00:00+08:00",
          "2023-07-18T15:00:00+08:00",
          "2023-07-18T16:00:00+08:00",
          "2023-07-18T17:00:00+08:00",
          "2023-07-18T18:00:00+08:00",
          "2023-07-18T19:00:00+08:00",
          "2023-07-18T20:00:00+08:00",
          "2023-07-18T21:00:00+08:00",
          "2023-07-18T22:00:00+08:00",
          "2023-07-18T23:00:00+08:00"
         ],
         "xaxis": "x3",
         "y": [
          363,
          293,
          202,
          204,
          386,
          598,
          1179,
          2485,
          2397,
          2251,
          2250,
          2148,
          2007,
          2073,
          2007,
          2197,
          1983,
          2992,
          2569,
          2296,
          1732,
          1396,
          1061,
          831
         ],
         "yaxis": "y3"
        },
        {
         "alignmentgroup": "True",
         "hovertemplate": "路段名=承德路四段<br>行政區=士林區<br>時段=%{x}<br>車流量=%{y}<extra></extra>",
         "legendgroup": "承德路四段",
         "marker": {
          "color": "#636efa",
          "pattern": {
           "shape": ""
          }
         },
         "name": "承德路四段",
         "offsetgroup": "承德路四段",
         "orientation": "v",
         "showlegend": true,
         "textposition": "auto",
         "type": "bar",
         "x": [
          "2023-07-18T00:00:00+08:00",
          "2023-07-18T01:00:00+08:00",
          "2023-07-18T02:00:00+08:00",
          "2023-07-18T03:00:00+08:00",
          "2023-07-18T04:00:00+08:00",
          "2023-07-18T05:00:00+08:00",
          "2023-07-18T06:00:00+08:00",
          "2023-07-18T07:00:00+08:00",
          "2023-07-18T08:00:00+08:00",
          "2023-07-18T09:00:00+08:00",
          "2023-07-18T10:00:00+08:00",
          "2023-07-18T11:00:00+08:00",
          "2023-07-18T12:00:00+08:00",
          "2023-07-18T13:00:00+08:00",
          "2023-07-18T14:00:00+08:00",
          "2023-07-18T15:00:00+08:00",
          "2023-07-18T16:00:00+08:00",
          "2023-07-18T17:00:00+08:00",
          "2023-07-18T18:00:00+08:00",
          "2023-07-18T19:00:00+08:00",
          "2023-07-18T20:00:00+08:00",
          "2023-07-18T21:00:00+08:00",
          "2023-07-18T22:00:00+08:00",
          "2023-07-18T23:00:00+08:00"
         ],
         "xaxis": "x3",
         "y": [
          245,
          376,
          2093,
          947,
          438,
          908,
          1461,
          2754,
          3493,
          3307,
          3229,
          2413,
          2601,
          2393,
          2012,
          2124,
          2103,
          2198,
          1436,
          1744,
          1549,
          1222,
          1642,
          1031
         ],
         "yaxis": "y3"
        },
        {
         "alignmentgroup": "True",
         "hovertemplate": "路段名=文林路<br>行政區=士林區<br>時段=%{x}<br>車流量=%{y}<extra></extra>",
         "legendgroup": "文林路",
         "marker": {
          "color": "#EF553B",
          "pattern": {
           "shape": ""
          }
         },
         "name": "文林路",
         "offsetgroup": "文林路",
         "orientation": "v",
         "showlegend": true,
         "textposition": "auto",
         "type": "bar",
         "x": [
          "2023-07-18T00:00:00+08:00",
          "2023-07-18T01:00:00+08:00",
          "2023-07-18T02:00:00+08:00",
          "2023-07-18T03:00:00+08:00",
          "2023-07-18T04:00:00+08:00",
          "2023-07-18T05:00:00+08:00",
          "2023-07-18T06:00:00+08:00",
          "2023-07-18T07:00:00+08:00",
          "2023-07-18T08:00:00+08:00",
          "2023-07-18T09:00:00+08:00",
          "2023-07-18T10:00:00+08:00",
          "2023-07-18T11:00:00+08:00",
          "2023-07-18T12:00:00+08:00",
          "2023-07-18T13:00:00+08:00",
          "2023-07-18T14:00:00+08:00",
          "2023-07-18T15:00:00+08:00",
          "2023-07-18T16:00:00+08:00",
          "2023-07-18T17:00:00+08:00",
          "2023-07-18T18:00:00+08:00",
          "2023-07-18T19:00:00+08:00",
          "2023-07-18T20:00:00+08:00",
          "2023-07-18T21:00:00+08:00",
          "2023-07-18T22:00:00+08:00",
          "2023-07-18T23:00:00+08:00"
         ],
         "xaxis": "x3",
         "y": [
          179,
          114,
          101,
          63,
          59,
          90,
          183,
          306,
          406,
          365,
          343,
          363,
          429,
          484,
          518,
          467,
          554,
          537,
          428,
          399,
          407,
          432,
          329,
          296
         ],
         "yaxis": "y3"
        },
        {
         "alignmentgroup": "True",
         "hovertemplate": "路段名=福國路<br>行政區=士林區<br>時段=%{x}<br>車流量=%{y}<extra></extra>",
         "legendgroup": "福國路",
         "marker": {
          "color": "#00cc96",
          "pattern": {
           "shape": ""
          }
         },
         "name": "福國路",
         "offsetgroup": "福國路",
         "orientation": "v",
         "showlegend": true,
         "textposition": "auto",
         "type": "bar",
         "x": [
          "2023-07-18T00:00:00+08:00",
          "2023-07-18T01:00:00+08:00",
          "2023-07-18T02:00:00+08:00",
          "2023-07-18T03:00:00+08:00",
          "2023-07-18T04:00:00+08:00",
          "2023-07-18T05:00:00+08:00",
          "2023-07-18T06:00:00+08:00",
          "2023-07-18T07:00:00+08:00",
          "2023-07-18T08:00:00+08:00",
          "2023-07-18T09:00:00+08:00",
          "2023-07-18T10:00:00+08:00",
          "2023-07-18T11:00:00+08:00",
          "2023-07-18T12:00:00+08:00",
          "2023-07-18T13:00:00+08:00",
          "2023-07-18T14:00:00+08:00",
          "2023-07-18T15:00:00+08:00",
          "2023-07-18T16:00:00+08:00",
          "2023-07-18T17:00:00+08:00",
          "2023-07-18T18:00:00+08:00",
          "2023-07-18T19:00:00+08:00",
          "2023-07-18T20:00:00+08:00",
          "2023-07-18T21:00:00+08:00",
          "2023-07-18T22:00:00+08:00",
          "2023-07-18T23:00:00+08:00"
         ],
         "xaxis": "x3",
         "y": [
          92,
          40,
          31,
          33,
          52,
          117,
          317,
          807,
          1024,
          952,
          865,
          875,
          757,
          810,
          818,
          744,
          903,
          813,
          931,
          764,
          519,
          453,
          299,
          156
         ],
         "yaxis": "y3"
        },
        {
         "alignmentgroup": "True",
         "hovertemplate": "路段名=至善路一段<br>行政區=士林區<br>時段=%{x}<br>車流量=%{y}<extra></extra>",
         "legendgroup": "至善路一段",
         "marker": {
          "color": "#ab63fa",
          "pattern": {
           "shape": ""
          }
         },
         "name": "至善路一段",
         "offsetgroup": "至善路一段",
         "orientation": "v",
         "showlegend": true,
         "textposition": "auto",
         "type": "bar",
         "x": [
          "2023-07-18T00:00:00+08:00",
          "2023-07-18T01:00:00+08:00",
          "2023-07-18T02:00:00+08:00",
          "2023-07-18T03:00:00+08:00",
          "2023-07-18T04:00:00+08:00",
          "2023-07-18T05:00:00+08:00",
          "2023-07-18T06:00:00+08:00",
          "2023-07-18T07:00:00+08:00",
          "2023-07-18T08:00:00+08:00",
          "2023-07-18T09:00:00+08:00",
          "2023-07-18T10:00:00+08:00",
          "2023-07-18T11:00:00+08:00",
          "2023-07-18T12:00:00+08:00",
          "2023-07-18T13:00:00+08:00",
          "2023-07-18T14:00:00+08:00",
          "2023-07-18T15:00:00+08:00",
          "2023-07-18T16:00:00+08:00",
          "2023-07-18T17:00:00+08:00",
          "2023-07-18T18:00:00+08:00",
          "2023-07-18T19:00:00+08:00",
          "2023-07-18T20:00:00+08:00",
          "2023-07-18T21:00:00+08:00",
          "2023-07-18T22:00:00+08:00",
          "2023-07-18T23:00:00+08:00"
         ],
         "xaxis": "x3",
         "y": [
          158,
          113,
          83,
          55,
          84,
          176,
          555,
          1487,
          1630,
          1475,
          1238,
          1206,
          1151,
          1150,
          1250,
          709,
          732,
          579,
          1027,
          971,
          709,
          727,
          537,
          295
         ],
         "yaxis": "y3"
        },
        {
         "alignmentgroup": "True",
         "hovertemplate": "路段名=至善路三段<br>行政區=士林區<br>時段=%{x}<br>車流量=%{y}<extra></extra>",
         "legendgroup": "至善路三段",
         "marker": {
          "color": "#FFA15A",
          "pattern": {
           "shape": ""
          }
         },
         "name": "至善路三段",
         "offsetgroup": "至善路三段",
         "orientation": "v",
         "showlegend": true,
         "textposition": "auto",
         "type": "bar",
         "x": [
          "2023-07-18T00:00:00+08:00",
          "2023-07-18T01:00:00+08:00",
          "2023-07-18T02:00:00+08:00",
          "2023-07-18T03:00:00+08:00",
          "2023-07-18T04:00:00+08:00",
          "2023-07-18T05:00:00+08:00",
          "2023-07-18T06:00:00+08:00",
          "2023-07-18T07:00:00+08:00",
          "2023-07-18T08:00:00+08:00",
          "2023-07-18T09:00:00+08:00",
          "2023-07-18T10:00:00+08:00",
          "2023-07-18T11:00:00+08:00",
          "2023-07-18T12:00:00+08:00",
          "2023-07-18T13:00:00+08:00",
          "2023-07-18T14:00:00+08:00",
          "2023-07-18T15:00:00+08:00",
          "2023-07-18T16:00:00+08:00",
          "2023-07-18T17:00:00+08:00",
          "2023-07-18T18:00:00+08:00",
          "2023-07-18T19:00:00+08:00",
          "2023-07-18T20:00:00+08:00",
          "2023-07-18T21:00:00+08:00",
          "2023-07-18T22:00:00+08:00",
          "2023-07-18T23:00:00+08:00"
         ],
         "xaxis": "x3",
         "y": [
          10,
          9,
          3,
          7,
          24,
          53,
          72,
          112,
          105,
          130,
          119,
          117,
          107,
          111,
          139,
          137,
          102,
          76,
          92,
          50,
          63,
          64,
          40,
          20
         ],
         "yaxis": "y3"
        },
        {
         "alignmentgroup": "True",
         "hovertemplate": "路段名=至善路二段<br>行政區=士林區<br>時段=%{x}<br>車流量=%{y}<extra></extra>",
         "legendgroup": "至善路二段",
         "marker": {
          "color": "#19d3f3",
          "pattern": {
           "shape": ""
          }
         },
         "name": "至善路二段",
         "offsetgroup": "至善路二段",
         "orientation": "v",
         "showlegend": true,
         "textposition": "auto",
         "type": "bar",
         "x": [
          "2023-07-18T00:00:00+08:00",
          "2023-07-18T01:00:00+08:00",
          "2023-07-18T02:00:00+08:00",
          "2023-07-18T03:00:00+08:00",
          "2023-07-18T04:00:00+08:00",
          "2023-07-18T05:00:00+08:00",
          "2023-07-18T06:00:00+08:00",
          "2023-07-18T07:00:00+08:00",
          "2023-07-18T08:00:00+08:00",
          "2023-07-18T09:00:00+08:00",
          "2023-07-18T10:00:00+08:00",
          "2023-07-18T11:00:00+08:00",
          "2023-07-18T12:00:00+08:00",
          "2023-07-18T13:00:00+08:00",
          "2023-07-18T14:00:00+08:00",
          "2023-07-18T15:00:00+08:00",
          "2023-07-18T16:00:00+08:00",
          "2023-07-18T17:00:00+08:00",
          "2023-07-18T18:00:00+08:00",
          "2023-07-18T19:00:00+08:00",
          "2023-07-18T20:00:00+08:00",
          "2023-07-18T21:00:00+08:00",
          "2023-07-18T22:00:00+08:00",
          "2023-07-18T23:00:00+08:00"
         ],
         "xaxis": "x3",
         "y": [
          83,
          56,
          37,
          39,
          80,
          198,
          384,
          828,
          838,
          832,
          815,
          796,
          705,
          666,
          748,
          622,
          731,
          769,
          653,
          528,
          472,
          420,
          270,
          187
         ],
         "yaxis": "y3"
        },
        {
         "alignmentgroup": "True",
         "hovertemplate": "路段名=重慶北路四段<br>行政區=士林區<br>時段=%{x}<br>車流量=%{y}<extra></extra>",
         "legendgroup": "重慶北路四段",
         "marker": {
          "color": "#FF6692",
          "pattern": {
           "shape": ""
          }
         },
         "name": "重慶北路四段",
         "offsetgroup": "重慶北路四段",
         "orientation": "v",
         "showlegend": true,
         "textposition": "auto",
         "type": "bar",
         "x": [
          "2023-07-18T00:00:00+08:00",
          "2023-07-18T01:00:00+08:00",
          "2023-07-18T02:00:00+08:00",
          "2023-07-18T03:00:00+08:00",
          "2023-07-18T04:00:00+08:00",
          "2023-07-18T05:00:00+08:00",
          "2023-07-18T06:00:00+08:00",
          "2023-07-18T07:00:00+08:00",
          "2023-07-18T08:00:00+08:00",
          "2023-07-18T09:00:00+08:00",
          "2023-07-18T10:00:00+08:00",
          "2023-07-18T11:00:00+08:00",
          "2023-07-18T12:00:00+08:00",
          "2023-07-18T13:00:00+08:00",
          "2023-07-18T14:00:00+08:00",
          "2023-07-18T15:00:00+08:00",
          "2023-07-18T16:00:00+08:00",
          "2023-07-18T17:00:00+08:00",
          "2023-07-18T18:00:00+08:00",
          "2023-07-18T19:00:00+08:00",
          "2023-07-18T20:00:00+08:00",
          "2023-07-18T21:00:00+08:00",
          "2023-07-18T22:00:00+08:00",
          "2023-07-18T23:00:00+08:00"
         ],
         "xaxis": "x3",
         "y": [
          936,
          646,
          565,
          498,
          614,
          1066,
          2648,
          3640,
          3513,
          3828,
          4047,
          3915,
          4057,
          4139,
          3879,
          3881,
          4522,
          3934,
          4281,
          3892,
          3212,
          3124,
          2423,
          1560
         ],
         "yaxis": "y3"
        },
        {
         "alignmentgroup": "True",
         "hovertemplate": "路段名=仁愛路三段<br>行政區=大安區<br>時段=%{x}<br>車流量=%{y}<extra></extra>",
         "legendgroup": "仁愛路三段",
         "marker": {
          "color": "#B6E880",
          "pattern": {
           "shape": ""
          }
         },
         "name": "仁愛路三段",
         "offsetgroup": "仁愛路三段",
         "orientation": "v",
         "showlegend": true,
         "textposition": "auto",
         "type": "bar",
         "x": [
          "2023-07-18T00:00:00+08:00",
          "2023-07-18T01:00:00+08:00",
          "2023-07-18T02:00:00+08:00",
          "2023-07-18T03:00:00+08:00",
          "2023-07-18T04:00:00+08:00",
          "2023-07-18T05:00:00+08:00",
          "2023-07-18T06:00:00+08:00",
          "2023-07-18T07:00:00+08:00",
          "2023-07-18T08:00:00+08:00",
          "2023-07-18T09:00:00+08:00",
          "2023-07-18T10:00:00+08:00",
          "2023-07-18T11:00:00+08:00",
          "2023-07-18T12:00:00+08:00",
          "2023-07-18T13:00:00+08:00",
          "2023-07-18T14:00:00+08:00",
          "2023-07-18T15:00:00+08:00",
          "2023-07-18T16:00:00+08:00",
          "2023-07-18T17:00:00+08:00",
          "2023-07-18T18:00:00+08:00",
          "2023-07-18T19:00:00+08:00",
          "2023-07-18T20:00:00+08:00",
          "2023-07-18T21:00:00+08:00",
          "2023-07-18T22:00:00+08:00",
          "2023-07-18T23:00:00+08:00"
         ],
         "xaxis": "x4",
         "y": [
          154,
          102,
          69,
          65,
          51,
          85,
          223,
          976,
          1620,
          1188,
          1154,
          1164,
          1150,
          1186,
          1447,
          1414,
          1648,
          2068,
          2072,
          1319,
          848,
          837,
          490,
          280
         ],
         "yaxis": "y4"
        },
        {
         "alignmentgroup": "True",
         "hovertemplate": "路段名=仁愛路四段<br>行政區=大安區<br>時段=%{x}<br>車流量=%{y}<extra></extra>",
         "legendgroup": "仁愛路四段",
         "marker": {
          "color": "#FF97FF",
          "pattern": {
           "shape": ""
          }
         },
         "name": "仁愛路四段",
         "offsetgroup": "仁愛路四段",
         "orientation": "v",
         "showlegend": true,
         "textposition": "auto",
         "type": "bar",
         "x": [
          "2023-07-18T00:00:00+08:00",
          "2023-07-18T01:00:00+08:00",
          "2023-07-18T02:00:00+08:00",
          "2023-07-18T03:00:00+08:00",
          "2023-07-18T04:00:00+08:00",
          "2023-07-18T05:00:00+08:00",
          "2023-07-18T06:00:00+08:00",
          "2023-07-18T07:00:00+08:00",
          "2023-07-18T08:00:00+08:00",
          "2023-07-18T09:00:00+08:00",
          "2023-07-18T10:00:00+08:00",
          "2023-07-18T11:00:00+08:00",
          "2023-07-18T12:00:00+08:00",
          "2023-07-18T13:00:00+08:00",
          "2023-07-18T14:00:00+08:00",
          "2023-07-18T15:00:00+08:00",
          "2023-07-18T16:00:00+08:00",
          "2023-07-18T17:00:00+08:00",
          "2023-07-18T18:00:00+08:00",
          "2023-07-18T19:00:00+08:00",
          "2023-07-18T20:00:00+08:00",
          "2023-07-18T21:00:00+08:00",
          "2023-07-18T22:00:00+08:00",
          "2023-07-18T23:00:00+08:00"
         ],
         "xaxis": "x4",
         "y": [
          185,
          106,
          76,
          61,
          51,
          109,
          216,
          1044,
          1873,
          1662,
          1556,
          1569,
          1551,
          1640,
          1800,
          1673,
          1846,
          2266,
          2357,
          1691,
          1229,
          1171,
          637,
          426
         ],
         "yaxis": "y4"
        },
        {
         "alignmentgroup": "True",
         "hovertemplate": "路段名=信義路三段<br>行政區=大安區<br>時段=%{x}<br>車流量=%{y}<extra></extra>",
         "legendgroup": "信義路三段",
         "marker": {
          "color": "#FECB52",
          "pattern": {
           "shape": ""
          }
         },
         "name": "信義路三段",
         "offsetgroup": "信義路三段",
         "orientation": "v",
         "showlegend": true,
         "textposition": "auto",
         "type": "bar",
         "x": [
          "2023-07-18T00:00:00+08:00",
          "2023-07-18T01:00:00+08:00",
          "2023-07-18T02:00:00+08:00",
          "2023-07-18T03:00:00+08:00",
          "2023-07-18T04:00:00+08:00",
          "2023-07-18T05:00:00+08:00",
          "2023-07-18T06:00:00+08:00",
          "2023-07-18T07:00:00+08:00",
          "2023-07-18T08:00:00+08:00",
          "2023-07-18T09:00:00+08:00",
          "2023-07-18T10:00:00+08:00",
          "2023-07-18T11:00:00+08:00",
          "2023-07-18T12:00:00+08:00",
          "2023-07-18T13:00:00+08:00",
          "2023-07-18T14:00:00+08:00",
          "2023-07-18T15:00:00+08:00",
          "2023-07-18T16:00:00+08:00",
          "2023-07-18T17:00:00+08:00",
          "2023-07-18T18:00:00+08:00",
          "2023-07-18T19:00:00+08:00",
          "2023-07-18T20:00:00+08:00",
          "2023-07-18T21:00:00+08:00",
          "2023-07-18T22:00:00+08:00",
          "2023-07-18T23:00:00+08:00"
         ],
         "xaxis": "x4",
         "y": [
          138,
          64,
          49,
          38,
          34,
          51,
          145,
          744,
          1379,
          1308,
          1047,
          945,
          967,
          969,
          849,
          848,
          947,
          976,
          1172,
          706,
          585,
          563,
          416,
          197
         ],
         "yaxis": "y4"
        },
        {
         "alignmentgroup": "True",
         "hovertemplate": "路段名=信義路二段<br>行政區=大安區<br>時段=%{x}<br>車流量=%{y}<extra></extra>",
         "legendgroup": "信義路二段",
         "marker": {
          "color": "#636efa",
          "pattern": {
           "shape": ""
          }
         },
         "name": "信義路二段",
         "offsetgroup": "信義路二段",
         "orientation": "v",
         "showlegend": true,
         "textposition": "auto",
         "type": "bar",
         "x": [
          "2023-07-18T00:00:00+08:00",
          "2023-07-18T01:00:00+08:00",
          "2023-07-18T02:00:00+08:00",
          "2023-07-18T03:00:00+08:00",
          "2023-07-18T04:00:00+08:00",
          "2023-07-18T05:00:00+08:00",
          "2023-07-18T06:00:00+08:00",
          "2023-07-18T07:00:00+08:00",
          "2023-07-18T08:00:00+08:00",
          "2023-07-18T09:00:00+08:00",
          "2023-07-18T10:00:00+08:00",
          "2023-07-18T11:00:00+08:00",
          "2023-07-18T12:00:00+08:00",
          "2023-07-18T13:00:00+08:00",
          "2023-07-18T14:00:00+08:00",
          "2023-07-18T15:00:00+08:00",
          "2023-07-18T16:00:00+08:00",
          "2023-07-18T17:00:00+08:00",
          "2023-07-18T18:00:00+08:00",
          "2023-07-18T19:00:00+08:00",
          "2023-07-18T20:00:00+08:00",
          "2023-07-18T21:00:00+08:00",
          "2023-07-18T22:00:00+08:00",
          "2023-07-18T23:00:00+08:00"
         ],
         "xaxis": "x4",
         "y": [
          110,
          72,
          65,
          52,
          39,
          84,
          243,
          1119,
          1668,
          1358,
          1133,
          1118,
          1084,
          1058,
          1069,
          1038,
          1158,
          1328,
          1313,
          813,
          633,
          605,
          440,
          225
         ],
         "yaxis": "y4"
        },
        {
         "alignmentgroup": "True",
         "hovertemplate": "路段名=信義路四段<br>行政區=大安區<br>時段=%{x}<br>車流量=%{y}<extra></extra>",
         "legendgroup": "信義路四段",
         "marker": {
          "color": "#EF553B",
          "pattern": {
           "shape": ""
          }
         },
         "name": "信義路四段",
         "offsetgroup": "信義路四段",
         "orientation": "v",
         "showlegend": true,
         "textposition": "auto",
         "type": "bar",
         "x": [
          "2023-07-18T00:00:00+08:00",
          "2023-07-18T01:00:00+08:00",
          "2023-07-18T02:00:00+08:00",
          "2023-07-18T03:00:00+08:00",
          "2023-07-18T04:00:00+08:00",
          "2023-07-18T05:00:00+08:00",
          "2023-07-18T06:00:00+08:00",
          "2023-07-18T07:00:00+08:00",
          "2023-07-18T08:00:00+08:00",
          "2023-07-18T09:00:00+08:00",
          "2023-07-18T10:00:00+08:00",
          "2023-07-18T11:00:00+08:00",
          "2023-07-18T12:00:00+08:00",
          "2023-07-18T13:00:00+08:00",
          "2023-07-18T14:00:00+08:00",
          "2023-07-18T15:00:00+08:00",
          "2023-07-18T16:00:00+08:00",
          "2023-07-18T17:00:00+08:00",
          "2023-07-18T18:00:00+08:00",
          "2023-07-18T19:00:00+08:00",
          "2023-07-18T20:00:00+08:00",
          "2023-07-18T21:00:00+08:00",
          "2023-07-18T22:00:00+08:00",
          "2023-07-18T23:00:00+08:00"
         ],
         "xaxis": "x4",
         "y": [
          88,
          55,
          44,
          21,
          27,
          36,
          95,
          403,
          847,
          773,
          733,
          633,
          619,
          637,
          616,
          615,
          656,
          586,
          682,
          501,
          367,
          336,
          255,
          154
         ],
         "yaxis": "y4"
        },
        {
         "alignmentgroup": "True",
         "hovertemplate": "路段名=光復南路<br>行政區=大安區<br>時段=%{x}<br>車流量=%{y}<extra></extra>",
         "legendgroup": "光復南路",
         "marker": {
          "color": "#00cc96",
          "pattern": {
           "shape": ""
          }
         },
         "name": "光復南路",
         "offsetgroup": "光復南路",
         "orientation": "v",
         "showlegend": true,
         "textposition": "auto",
         "type": "bar",
         "x": [
          "2023-07-18T00:00:00+08:00",
          "2023-07-18T01:00:00+08:00",
          "2023-07-18T02:00:00+08:00",
          "2023-07-18T03:00:00+08:00",
          "2023-07-18T04:00:00+08:00",
          "2023-07-18T05:00:00+08:00",
          "2023-07-18T06:00:00+08:00",
          "2023-07-18T07:00:00+08:00",
          "2023-07-18T08:00:00+08:00",
          "2023-07-18T09:00:00+08:00",
          "2023-07-18T10:00:00+08:00",
          "2023-07-18T11:00:00+08:00",
          "2023-07-18T12:00:00+08:00",
          "2023-07-18T13:00:00+08:00",
          "2023-07-18T14:00:00+08:00",
          "2023-07-18T15:00:00+08:00",
          "2023-07-18T16:00:00+08:00",
          "2023-07-18T17:00:00+08:00",
          "2023-07-18T18:00:00+08:00",
          "2023-07-18T19:00:00+08:00",
          "2023-07-18T20:00:00+08:00",
          "2023-07-18T21:00:00+08:00",
          "2023-07-18T22:00:00+08:00",
          "2023-07-18T23:00:00+08:00"
         ],
         "xaxis": "x4",
         "y": [
          182,
          124,
          97,
          88,
          49,
          82,
          165,
          390,
          526,
          550,
          590,
          541,
          533,
          596,
          553,
          564,
          520,
          521,
          570,
          541,
          425,
          428,
          360,
          326
         ],
         "yaxis": "y4"
        },
        {
         "alignmentgroup": "True",
         "hovertemplate": "路段名=和平東路一段<br>行政區=大安區<br>時段=%{x}<br>車流量=%{y}<extra></extra>",
         "legendgroup": "和平東路一段",
         "marker": {
          "color": "#ab63fa",
          "pattern": {
           "shape": ""
          }
         },
         "name": "和平東路一段",
         "offsetgroup": "和平東路一段",
         "orientation": "v",
         "showlegend": true,
         "textposition": "auto",
         "type": "bar",
         "x": [
          "2023-07-18T00:00:00+08:00",
          "2023-07-18T01:00:00+08:00",
          "2023-07-18T02:00:00+08:00",
          "2023-07-18T03:00:00+08:00",
          "2023-07-18T04:00:00+08:00",
          "2023-07-18T05:00:00+08:00",
          "2023-07-18T06:00:00+08:00",
          "2023-07-18T07:00:00+08:00",
          "2023-07-18T08:00:00+08:00",
          "2023-07-18T09:00:00+08:00",
          "2023-07-18T10:00:00+08:00",
          "2023-07-18T11:00:00+08:00",
          "2023-07-18T12:00:00+08:00",
          "2023-07-18T13:00:00+08:00",
          "2023-07-18T14:00:00+08:00",
          "2023-07-18T15:00:00+08:00",
          "2023-07-18T16:00:00+08:00",
          "2023-07-18T17:00:00+08:00",
          "2023-07-18T18:00:00+08:00",
          "2023-07-18T19:00:00+08:00",
          "2023-07-18T20:00:00+08:00",
          "2023-07-18T21:00:00+08:00",
          "2023-07-18T22:00:00+08:00",
          "2023-07-18T23:00:00+08:00"
         ],
         "xaxis": "x4",
         "y": [
          237,
          142,
          117,
          105,
          78,
          130,
          321,
          1071,
          1601,
          1473,
          1477,
          1516,
          1389,
          1415,
          1602,
          1484,
          1422,
          1524,
          1678,
          1236,
          982,
          972,
          730,
          437
         ],
         "yaxis": "y4"
        },
        {
         "alignmentgroup": "True",
         "hovertemplate": "路段名=和平東路三段<br>行政區=大安區<br>時段=%{x}<br>車流量=%{y}<extra></extra>",
         "legendgroup": "和平東路三段",
         "marker": {
          "color": "#FFA15A",
          "pattern": {
           "shape": ""
          }
         },
         "name": "和平東路三段",
         "offsetgroup": "和平東路三段",
         "orientation": "v",
         "showlegend": true,
         "textposition": "auto",
         "type": "bar",
         "x": [
          "2023-07-18T00:00:00+08:00",
          "2023-07-18T01:00:00+08:00",
          "2023-07-18T02:00:00+08:00",
          "2023-07-18T03:00:00+08:00",
          "2023-07-18T04:00:00+08:00",
          "2023-07-18T05:00:00+08:00",
          "2023-07-18T06:00:00+08:00",
          "2023-07-18T07:00:00+08:00",
          "2023-07-18T08:00:00+08:00",
          "2023-07-18T09:00:00+08:00",
          "2023-07-18T10:00:00+08:00",
          "2023-07-18T11:00:00+08:00",
          "2023-07-18T12:00:00+08:00",
          "2023-07-18T13:00:00+08:00",
          "2023-07-18T14:00:00+08:00",
          "2023-07-18T15:00:00+08:00",
          "2023-07-18T16:00:00+08:00",
          "2023-07-18T17:00:00+08:00",
          "2023-07-18T18:00:00+08:00",
          "2023-07-18T19:00:00+08:00",
          "2023-07-18T20:00:00+08:00",
          "2023-07-18T21:00:00+08:00",
          "2023-07-18T22:00:00+08:00",
          "2023-07-18T23:00:00+08:00"
         ],
         "xaxis": "x4",
         "y": [
          222,
          190,
          104,
          106,
          95,
          149,
          491,
          1091,
          1424,
          1341,
          1412,
          1412,
          1327,
          1355,
          1470,
          1347,
          1318,
          1300,
          1252,
          1128,
          909,
          853,
          686,
          429
         ],
         "yaxis": "y4"
        },
        {
         "alignmentgroup": "True",
         "hovertemplate": "路段名=和平東路二段<br>行政區=大安區<br>時段=%{x}<br>車流量=%{y}<extra></extra>",
         "legendgroup": "和平東路二段",
         "marker": {
          "color": "#19d3f3",
          "pattern": {
           "shape": ""
          }
         },
         "name": "和平東路二段",
         "offsetgroup": "和平東路二段",
         "orientation": "v",
         "showlegend": true,
         "textposition": "auto",
         "type": "bar",
         "x": [
          "2023-07-18T00:00:00+08:00",
          "2023-07-18T01:00:00+08:00",
          "2023-07-18T02:00:00+08:00",
          "2023-07-18T03:00:00+08:00",
          "2023-07-18T04:00:00+08:00",
          "2023-07-18T05:00:00+08:00",
          "2023-07-18T06:00:00+08:00",
          "2023-07-18T07:00:00+08:00",
          "2023-07-18T08:00:00+08:00",
          "2023-07-18T09:00:00+08:00",
          "2023-07-18T10:00:00+08:00",
          "2023-07-18T11:00:00+08:00",
          "2023-07-18T12:00:00+08:00",
          "2023-07-18T13:00:00+08:00",
          "2023-07-18T14:00:00+08:00",
          "2023-07-18T15:00:00+08:00",
          "2023-07-18T16:00:00+08:00",
          "2023-07-18T17:00:00+08:00",
          "2023-07-18T18:00:00+08:00",
          "2023-07-18T19:00:00+08:00",
          "2023-07-18T20:00:00+08:00",
          "2023-07-18T21:00:00+08:00",
          "2023-07-18T22:00:00+08:00",
          "2023-07-18T23:00:00+08:00"
         ],
         "xaxis": "x4",
         "y": [
          411,
          289,
          227,
          182,
          174,
          291,
          782,
          1855,
          2605,
          2406,
          2362,
          2284,
          2145,
          2338,
          1956,
          1887,
          2325,
          2214,
          2185,
          2008,
          1810,
          1681,
          1119,
          706
         ],
         "yaxis": "y4"
        },
        {
         "alignmentgroup": "True",
         "hovertemplate": "路段名=基隆路三段<br>行政區=大安區<br>時段=%{x}<br>車流量=%{y}<extra></extra>",
         "legendgroup": "基隆路三段",
         "marker": {
          "color": "#FF6692",
          "pattern": {
           "shape": ""
          }
         },
         "name": "基隆路三段",
         "offsetgroup": "基隆路三段",
         "orientation": "v",
         "showlegend": true,
         "textposition": "auto",
         "type": "bar",
         "x": [
          "2023-07-18T00:00:00+08:00",
          "2023-07-18T01:00:00+08:00",
          "2023-07-18T02:00:00+08:00",
          "2023-07-18T03:00:00+08:00",
          "2023-07-18T04:00:00+08:00",
          "2023-07-18T05:00:00+08:00",
          "2023-07-18T06:00:00+08:00",
          "2023-07-18T07:00:00+08:00",
          "2023-07-18T08:00:00+08:00",
          "2023-07-18T09:00:00+08:00",
          "2023-07-18T10:00:00+08:00",
          "2023-07-18T11:00:00+08:00",
          "2023-07-18T12:00:00+08:00",
          "2023-07-18T13:00:00+08:00",
          "2023-07-18T14:00:00+08:00",
          "2023-07-18T15:00:00+08:00",
          "2023-07-18T16:00:00+08:00",
          "2023-07-18T17:00:00+08:00",
          "2023-07-18T18:00:00+08:00",
          "2023-07-18T19:00:00+08:00",
          "2023-07-18T20:00:00+08:00",
          "2023-07-18T21:00:00+08:00",
          "2023-07-18T22:00:00+08:00",
          "2023-07-18T23:00:00+08:00"
         ],
         "xaxis": "x4",
         "y": [
          155,
          116,
          74,
          73,
          55,
          115,
          344,
          1174,
          1456,
          1141,
          961,
          923,
          831,
          901,
          796,
          794,
          929,
          969,
          916,
          751,
          643,
          681,
          432,
          291
         ],
         "yaxis": "y4"
        },
        {
         "alignmentgroup": "True",
         "hovertemplate": "路段名=基隆路二段<br>行政區=大安區<br>時段=%{x}<br>車流量=%{y}<extra></extra>",
         "legendgroup": "基隆路二段",
         "marker": {
          "color": "#B6E880",
          "pattern": {
           "shape": ""
          }
         },
         "name": "基隆路二段",
         "offsetgroup": "基隆路二段",
         "orientation": "v",
         "showlegend": true,
         "textposition": "auto",
         "type": "bar",
         "x": [
          "2023-07-18T00:00:00+08:00",
          "2023-07-18T01:00:00+08:00",
          "2023-07-18T02:00:00+08:00",
          "2023-07-18T03:00:00+08:00",
          "2023-07-18T04:00:00+08:00",
          "2023-07-18T05:00:00+08:00",
          "2023-07-18T06:00:00+08:00",
          "2023-07-18T07:00:00+08:00",
          "2023-07-18T08:00:00+08:00",
          "2023-07-18T09:00:00+08:00",
          "2023-07-18T10:00:00+08:00",
          "2023-07-18T11:00:00+08:00",
          "2023-07-18T12:00:00+08:00",
          "2023-07-18T13:00:00+08:00",
          "2023-07-18T14:00:00+08:00",
          "2023-07-18T15:00:00+08:00",
          "2023-07-18T16:00:00+08:00",
          "2023-07-18T17:00:00+08:00",
          "2023-07-18T18:00:00+08:00",
          "2023-07-18T19:00:00+08:00",
          "2023-07-18T20:00:00+08:00",
          "2023-07-18T21:00:00+08:00",
          "2023-07-18T22:00:00+08:00",
          "2023-07-18T23:00:00+08:00"
         ],
         "xaxis": "x4",
         "y": [
          1305,
          814,
          606,
          484,
          457,
          736,
          1942,
          3695,
          4253,
          3793,
          4243,
          4217,
          4087,
          4311,
          3804,
          3585,
          3968,
          3575,
          3737,
          3756,
          3770,
          3935,
          3195,
          1949
         ],
         "yaxis": "y4"
        },
        {
         "alignmentgroup": "True",
         "hovertemplate": "路段名=基隆路四段<br>行政區=大安區<br>時段=%{x}<br>車流量=%{y}<extra></extra>",
         "legendgroup": "基隆路四段",
         "marker": {
          "color": "#FF97FF",
          "pattern": {
           "shape": ""
          }
         },
         "name": "基隆路四段",
         "offsetgroup": "基隆路四段",
         "orientation": "v",
         "showlegend": true,
         "textposition": "auto",
         "type": "bar",
         "x": [
          "2023-07-18T00:00:00+08:00",
          "2023-07-18T01:00:00+08:00",
          "2023-07-18T02:00:00+08:00",
          "2023-07-18T03:00:00+08:00",
          "2023-07-18T04:00:00+08:00",
          "2023-07-18T05:00:00+08:00",
          "2023-07-18T06:00:00+08:00",
          "2023-07-18T07:00:00+08:00",
          "2023-07-18T08:00:00+08:00",
          "2023-07-18T09:00:00+08:00",
          "2023-07-18T10:00:00+08:00",
          "2023-07-18T11:00:00+08:00",
          "2023-07-18T12:00:00+08:00",
          "2023-07-18T13:00:00+08:00",
          "2023-07-18T14:00:00+08:00",
          "2023-07-18T15:00:00+08:00",
          "2023-07-18T16:00:00+08:00",
          "2023-07-18T17:00:00+08:00",
          "2023-07-18T18:00:00+08:00",
          "2023-07-18T19:00:00+08:00",
          "2023-07-18T20:00:00+08:00",
          "2023-07-18T21:00:00+08:00",
          "2023-07-18T22:00:00+08:00",
          "2023-07-18T23:00:00+08:00"
         ],
         "xaxis": "x4",
         "y": [
          196,
          126,
          105,
          87,
          53,
          120,
          380,
          1423,
          1726,
          1332,
          1181,
          1131,
          1017,
          1102,
          1010,
          1104,
          1300,
          1514,
          1384,
          1182,
          825,
          857,
          583,
          354
         ],
         "yaxis": "y4"
        },
        {
         "alignmentgroup": "True",
         "hovertemplate": "路段名=安和路一段<br>行政區=大安區<br>時段=%{x}<br>車流量=%{y}<extra></extra>",
         "legendgroup": "安和路一段",
         "marker": {
          "color": "#FECB52",
          "pattern": {
           "shape": ""
          }
         },
         "name": "安和路一段",
         "offsetgroup": "安和路一段",
         "orientation": "v",
         "showlegend": true,
         "textposition": "auto",
         "type": "bar",
         "x": [
          "2023-07-18T00:00:00+08:00",
          "2023-07-18T01:00:00+08:00",
          "2023-07-18T02:00:00+08:00",
          "2023-07-18T03:00:00+08:00",
          "2023-07-18T04:00:00+08:00",
          "2023-07-18T05:00:00+08:00",
          "2023-07-18T06:00:00+08:00",
          "2023-07-18T07:00:00+08:00",
          "2023-07-18T08:00:00+08:00",
          "2023-07-18T09:00:00+08:00",
          "2023-07-18T10:00:00+08:00",
          "2023-07-18T11:00:00+08:00",
          "2023-07-18T12:00:00+08:00",
          "2023-07-18T13:00:00+08:00",
          "2023-07-18T14:00:00+08:00",
          "2023-07-18T15:00:00+08:00",
          "2023-07-18T16:00:00+08:00",
          "2023-07-18T17:00:00+08:00",
          "2023-07-18T18:00:00+08:00",
          "2023-07-18T19:00:00+08:00",
          "2023-07-18T20:00:00+08:00",
          "2023-07-18T21:00:00+08:00",
          "2023-07-18T22:00:00+08:00",
          "2023-07-18T23:00:00+08:00"
         ],
         "xaxis": "x4",
         "y": [
          54,
          29,
          23,
          9,
          15,
          24,
          49,
          130,
          245,
          186,
          200,
          224,
          223,
          233,
          248,
          224,
          208,
          228,
          242,
          167,
          145,
          132,
          92,
          66
         ],
         "yaxis": "y4"
        },
        {
         "alignmentgroup": "True",
         "hovertemplate": "路段名=安和路二段<br>行政區=大安區<br>時段=%{x}<br>車流量=%{y}<extra></extra>",
         "legendgroup": "安和路二段",
         "marker": {
          "color": "#636efa",
          "pattern": {
           "shape": ""
          }
         },
         "name": "安和路二段",
         "offsetgroup": "安和路二段",
         "orientation": "v",
         "showlegend": true,
         "textposition": "auto",
         "type": "bar",
         "x": [
          "2023-07-18T00:00:00+08:00",
          "2023-07-18T01:00:00+08:00",
          "2023-07-18T02:00:00+08:00",
          "2023-07-18T03:00:00+08:00",
          "2023-07-18T04:00:00+08:00",
          "2023-07-18T05:00:00+08:00",
          "2023-07-18T06:00:00+08:00",
          "2023-07-18T07:00:00+08:00",
          "2023-07-18T08:00:00+08:00",
          "2023-07-18T09:00:00+08:00",
          "2023-07-18T10:00:00+08:00",
          "2023-07-18T11:00:00+08:00",
          "2023-07-18T12:00:00+08:00",
          "2023-07-18T13:00:00+08:00",
          "2023-07-18T14:00:00+08:00",
          "2023-07-18T15:00:00+08:00",
          "2023-07-18T16:00:00+08:00",
          "2023-07-18T17:00:00+08:00",
          "2023-07-18T18:00:00+08:00",
          "2023-07-18T19:00:00+08:00",
          "2023-07-18T20:00:00+08:00",
          "2023-07-18T21:00:00+08:00",
          "2023-07-18T22:00:00+08:00",
          "2023-07-18T23:00:00+08:00"
         ],
         "xaxis": "x4",
         "y": [
          41,
          29,
          18,
          9,
          12,
          14,
          35,
          150,
          306,
          258,
          253,
          273,
          245,
          255,
          281,
          297,
          315,
          323,
          452,
          256,
          145,
          191,
          130,
          72
         ],
         "yaxis": "y4"
        },
        {
         "alignmentgroup": "True",
         "hovertemplate": "路段名=建國南路二段<br>行政區=大安區<br>時段=%{x}<br>車流量=%{y}<extra></extra>",
         "legendgroup": "建國南路二段",
         "marker": {
          "color": "#EF553B",
          "pattern": {
           "shape": ""
          }
         },
         "name": "建國南路二段",
         "offsetgroup": "建國南路二段",
         "orientation": "v",
         "showlegend": true,
         "textposition": "auto",
         "type": "bar",
         "x": [
          "2023-07-18T00:00:00+08:00",
          "2023-07-18T01:00:00+08:00",
          "2023-07-18T02:00:00+08:00",
          "2023-07-18T03:00:00+08:00",
          "2023-07-18T04:00:00+08:00",
          "2023-07-18T05:00:00+08:00",
          "2023-07-18T06:00:00+08:00",
          "2023-07-18T07:00:00+08:00",
          "2023-07-18T08:00:00+08:00",
          "2023-07-18T09:00:00+08:00",
          "2023-07-18T10:00:00+08:00",
          "2023-07-18T11:00:00+08:00",
          "2023-07-18T12:00:00+08:00",
          "2023-07-18T13:00:00+08:00",
          "2023-07-18T14:00:00+08:00",
          "2023-07-18T15:00:00+08:00",
          "2023-07-18T16:00:00+08:00",
          "2023-07-18T17:00:00+08:00",
          "2023-07-18T18:00:00+08:00",
          "2023-07-18T19:00:00+08:00",
          "2023-07-18T20:00:00+08:00",
          "2023-07-18T21:00:00+08:00",
          "2023-07-18T22:00:00+08:00",
          "2023-07-18T23:00:00+08:00"
         ],
         "xaxis": "x4",
         "y": [
          172,
          98,
          71,
          60,
          66,
          148,
          396,
          1203,
          1590,
          1472,
          1325,
          1340,
          1282,
          1246,
          1400,
          1439,
          1435,
          1612,
          1544,
          1099,
          863,
          810,
          562,
          291
         ],
         "yaxis": "y4"
        },
        {
         "alignmentgroup": "True",
         "hovertemplate": "路段名=復興南路一段<br>行政區=大安區<br>時段=%{x}<br>車流量=%{y}<extra></extra>",
         "legendgroup": "復興南路一段",
         "marker": {
          "color": "#00cc96",
          "pattern": {
           "shape": ""
          }
         },
         "name": "復興南路一段",
         "offsetgroup": "復興南路一段",
         "orientation": "v",
         "showlegend": true,
         "textposition": "auto",
         "type": "bar",
         "x": [
          "2023-07-18T00:00:00+08:00",
          "2023-07-18T01:00:00+08:00",
          "2023-07-18T02:00:00+08:00",
          "2023-07-18T03:00:00+08:00",
          "2023-07-18T04:00:00+08:00",
          "2023-07-18T05:00:00+08:00",
          "2023-07-18T06:00:00+08:00",
          "2023-07-18T07:00:00+08:00",
          "2023-07-18T08:00:00+08:00",
          "2023-07-18T09:00:00+08:00",
          "2023-07-18T10:00:00+08:00",
          "2023-07-18T11:00:00+08:00",
          "2023-07-18T12:00:00+08:00",
          "2023-07-18T13:00:00+08:00",
          "2023-07-18T14:00:00+08:00",
          "2023-07-18T15:00:00+08:00",
          "2023-07-18T16:00:00+08:00",
          "2023-07-18T17:00:00+08:00",
          "2023-07-18T18:00:00+08:00",
          "2023-07-18T19:00:00+08:00",
          "2023-07-18T20:00:00+08:00",
          "2023-07-18T21:00:00+08:00",
          "2023-07-18T22:00:00+08:00",
          "2023-07-18T23:00:00+08:00"
         ],
         "xaxis": "x4",
         "y": [
          552,
          421,
          302,
          222,
          186,
          227,
          494,
          1393,
          2403,
          2366,
          2238,
          2439,
          2314,
          2371,
          2414,
          2290,
          2697,
          2746,
          2844,
          2470,
          1846,
          1698,
          1200,
          940
         ],
         "yaxis": "y4"
        },
        {
         "alignmentgroup": "True",
         "hovertemplate": "路段名=復興南路二段<br>行政區=大安區<br>時段=%{x}<br>車流量=%{y}<extra></extra>",
         "legendgroup": "復興南路二段",
         "marker": {
          "color": "#ab63fa",
          "pattern": {
           "shape": ""
          }
         },
         "name": "復興南路二段",
         "offsetgroup": "復興南路二段",
         "orientation": "v",
         "showlegend": true,
         "textposition": "auto",
         "type": "bar",
         "x": [
          "2023-07-18T00:00:00+08:00",
          "2023-07-18T01:00:00+08:00",
          "2023-07-18T02:00:00+08:00",
          "2023-07-18T03:00:00+08:00",
          "2023-07-18T04:00:00+08:00",
          "2023-07-18T05:00:00+08:00",
          "2023-07-18T06:00:00+08:00",
          "2023-07-18T07:00:00+08:00",
          "2023-07-18T08:00:00+08:00",
          "2023-07-18T09:00:00+08:00",
          "2023-07-18T10:00:00+08:00",
          "2023-07-18T11:00:00+08:00",
          "2023-07-18T12:00:00+08:00",
          "2023-07-18T13:00:00+08:00",
          "2023-07-18T14:00:00+08:00",
          "2023-07-18T15:00:00+08:00",
          "2023-07-18T16:00:00+08:00",
          "2023-07-18T17:00:00+08:00",
          "2023-07-18T18:00:00+08:00",
          "2023-07-18T19:00:00+08:00",
          "2023-07-18T20:00:00+08:00",
          "2023-07-18T21:00:00+08:00",
          "2023-07-18T22:00:00+08:00",
          "2023-07-18T23:00:00+08:00"
         ],
         "xaxis": "x4",
         "y": [
          124,
          97,
          59,
          41,
          39,
          73,
          271,
          923,
          1139,
          885,
          870,
          811,
          795,
          890,
          774,
          837,
          890,
          970,
          930,
          738,
          593,
          574,
          390,
          243
         ],
         "yaxis": "y4"
        },
        {
         "alignmentgroup": "True",
         "hovertemplate": "路段名=忠孝東路三段<br>行政區=大安區<br>時段=%{x}<br>車流量=%{y}<extra></extra>",
         "legendgroup": "忠孝東路三段",
         "marker": {
          "color": "#FFA15A",
          "pattern": {
           "shape": ""
          }
         },
         "name": "忠孝東路三段",
         "offsetgroup": "忠孝東路三段",
         "orientation": "v",
         "showlegend": true,
         "textposition": "auto",
         "type": "bar",
         "x": [
          "2023-07-18T00:00:00+08:00",
          "2023-07-18T01:00:00+08:00",
          "2023-07-18T02:00:00+08:00",
          "2023-07-18T03:00:00+08:00",
          "2023-07-18T04:00:00+08:00",
          "2023-07-18T05:00:00+08:00",
          "2023-07-18T06:00:00+08:00",
          "2023-07-18T07:00:00+08:00",
          "2023-07-18T08:00:00+08:00",
          "2023-07-18T09:00:00+08:00",
          "2023-07-18T10:00:00+08:00",
          "2023-07-18T11:00:00+08:00",
          "2023-07-18T12:00:00+08:00",
          "2023-07-18T13:00:00+08:00",
          "2023-07-18T14:00:00+08:00",
          "2023-07-18T15:00:00+08:00",
          "2023-07-18T16:00:00+08:00",
          "2023-07-18T17:00:00+08:00",
          "2023-07-18T18:00:00+08:00",
          "2023-07-18T19:00:00+08:00",
          "2023-07-18T20:00:00+08:00",
          "2023-07-18T21:00:00+08:00",
          "2023-07-18T22:00:00+08:00",
          "2023-07-18T23:00:00+08:00"
         ],
         "xaxis": "x4",
         "y": [
          662,
          509,
          370,
          293,
          228,
          291,
          673,
          2001,
          3128,
          2762,
          2680,
          2848,
          2676,
          2656,
          3011,
          2762,
          2931,
          3053,
          3082,
          2376,
          1929,
          1877,
          1365,
          964
         ],
         "yaxis": "y4"
        },
        {
         "alignmentgroup": "True",
         "hovertemplate": "路段名=忠孝東路四段<br>行政區=大安區<br>時段=%{x}<br>車流量=%{y}<extra></extra>",
         "legendgroup": "忠孝東路四段",
         "marker": {
          "color": "#19d3f3",
          "pattern": {
           "shape": ""
          }
         },
         "name": "忠孝東路四段",
         "offsetgroup": "忠孝東路四段",
         "orientation": "v",
         "showlegend": true,
         "textposition": "auto",
         "type": "bar",
         "x": [
          "2023-07-18T00:00:00+08:00",
          "2023-07-18T01:00:00+08:00",
          "2023-07-18T02:00:00+08:00",
          "2023-07-18T03:00:00+08:00",
          "2023-07-18T04:00:00+08:00",
          "2023-07-18T05:00:00+08:00",
          "2023-07-18T06:00:00+08:00",
          "2023-07-18T07:00:00+08:00",
          "2023-07-18T08:00:00+08:00",
          "2023-07-18T09:00:00+08:00",
          "2023-07-18T10:00:00+08:00",
          "2023-07-18T11:00:00+08:00",
          "2023-07-18T12:00:00+08:00",
          "2023-07-18T13:00:00+08:00",
          "2023-07-18T14:00:00+08:00",
          "2023-07-18T15:00:00+08:00",
          "2023-07-18T16:00:00+08:00",
          "2023-07-18T17:00:00+08:00",
          "2023-07-18T18:00:00+08:00",
          "2023-07-18T19:00:00+08:00",
          "2023-07-18T20:00:00+08:00",
          "2023-07-18T21:00:00+08:00",
          "2023-07-18T22:00:00+08:00",
          "2023-07-18T23:00:00+08:00"
         ],
         "xaxis": "x4",
         "y": [
          1176,
          898,
          693,
          523,
          440,
          474,
          1040,
          2867,
          4749,
          4400,
          4389,
          4591,
          4603,
          4412,
          4990,
          4744,
          4354,
          4913,
          4544,
          4073,
          3366,
          3203,
          2391,
          1747
         ],
         "yaxis": "y4"
        },
        {
         "alignmentgroup": "True",
         "hovertemplate": "路段名=敦化南路一段<br>行政區=大安區<br>時段=%{x}<br>車流量=%{y}<extra></extra>",
         "legendgroup": "敦化南路一段",
         "marker": {
          "color": "#FF6692",
          "pattern": {
           "shape": ""
          }
         },
         "name": "敦化南路一段",
         "offsetgroup": "敦化南路一段",
         "orientation": "v",
         "showlegend": true,
         "textposition": "auto",
         "type": "bar",
         "x": [
          "2023-07-18T00:00:00+08:00",
          "2023-07-18T01:00:00+08:00",
          "2023-07-18T02:00:00+08:00",
          "2023-07-18T03:00:00+08:00",
          "2023-07-18T04:00:00+08:00",
          "2023-07-18T05:00:00+08:00",
          "2023-07-18T06:00:00+08:00",
          "2023-07-18T07:00:00+08:00",
          "2023-07-18T08:00:00+08:00",
          "2023-07-18T09:00:00+08:00",
          "2023-07-18T10:00:00+08:00",
          "2023-07-18T11:00:00+08:00",
          "2023-07-18T12:00:00+08:00",
          "2023-07-18T13:00:00+08:00",
          "2023-07-18T14:00:00+08:00",
          "2023-07-18T15:00:00+08:00",
          "2023-07-18T16:00:00+08:00",
          "2023-07-18T17:00:00+08:00",
          "2023-07-18T18:00:00+08:00",
          "2023-07-18T19:00:00+08:00",
          "2023-07-18T20:00:00+08:00",
          "2023-07-18T21:00:00+08:00",
          "2023-07-18T22:00:00+08:00",
          "2023-07-18T23:00:00+08:00"
         ],
         "xaxis": "x4",
         "y": [
          249,
          168,
          129,
          101,
          104,
          237,
          559,
          1752,
          3126,
          2778,
          2307,
          2310,
          2123,
          2313,
          2316,
          2242,
          2363,
          2812,
          2925,
          2054,
          1450,
          1390,
          925,
          773
         ],
         "yaxis": "y4"
        },
        {
         "alignmentgroup": "True",
         "hovertemplate": "路段名=敦化南路二段<br>行政區=大安區<br>時段=%{x}<br>車流量=%{y}<extra></extra>",
         "legendgroup": "敦化南路二段",
         "marker": {
          "color": "#B6E880",
          "pattern": {
           "shape": ""
          }
         },
         "name": "敦化南路二段",
         "offsetgroup": "敦化南路二段",
         "orientation": "v",
         "showlegend": true,
         "textposition": "auto",
         "type": "bar",
         "x": [
          "2023-07-18T00:00:00+08:00",
          "2023-07-18T01:00:00+08:00",
          "2023-07-18T02:00:00+08:00",
          "2023-07-18T03:00:00+08:00",
          "2023-07-18T04:00:00+08:00",
          "2023-07-18T05:00:00+08:00",
          "2023-07-18T06:00:00+08:00",
          "2023-07-18T07:00:00+08:00",
          "2023-07-18T08:00:00+08:00",
          "2023-07-18T09:00:00+08:00",
          "2023-07-18T10:00:00+08:00",
          "2023-07-18T11:00:00+08:00",
          "2023-07-18T12:00:00+08:00",
          "2023-07-18T13:00:00+08:00",
          "2023-07-18T14:00:00+08:00",
          "2023-07-18T15:00:00+08:00",
          "2023-07-18T16:00:00+08:00",
          "2023-07-18T17:00:00+08:00",
          "2023-07-18T18:00:00+08:00",
          "2023-07-18T19:00:00+08:00",
          "2023-07-18T20:00:00+08:00",
          "2023-07-18T21:00:00+08:00",
          "2023-07-18T22:00:00+08:00",
          "2023-07-18T23:00:00+08:00"
         ],
         "xaxis": "x4",
         "y": [
          114,
          88,
          59,
          49,
          46,
          106,
          268,
          633,
          1139,
          1217,
          989,
          954,
          871,
          969,
          921,
          849,
          989,
          1200,
          1202,
          882,
          655,
          646,
          414,
          330
         ],
         "yaxis": "y4"
        },
        {
         "alignmentgroup": "True",
         "hovertemplate": "路段名=新生南路一段<br>行政區=大安區<br>時段=%{x}<br>車流量=%{y}<extra></extra>",
         "legendgroup": "新生南路一段",
         "marker": {
          "color": "#FF97FF",
          "pattern": {
           "shape": ""
          }
         },
         "name": "新生南路一段",
         "offsetgroup": "新生南路一段",
         "orientation": "v",
         "showlegend": true,
         "textposition": "auto",
         "type": "bar",
         "x": [
          "2023-07-18T00:00:00+08:00",
          "2023-07-18T01:00:00+08:00",
          "2023-07-18T02:00:00+08:00",
          "2023-07-18T03:00:00+08:00",
          "2023-07-18T04:00:00+08:00",
          "2023-07-18T05:00:00+08:00",
          "2023-07-18T06:00:00+08:00",
          "2023-07-18T07:00:00+08:00",
          "2023-07-18T08:00:00+08:00",
          "2023-07-18T09:00:00+08:00",
          "2023-07-18T10:00:00+08:00",
          "2023-07-18T11:00:00+08:00",
          "2023-07-18T12:00:00+08:00",
          "2023-07-18T13:00:00+08:00",
          "2023-07-18T14:00:00+08:00",
          "2023-07-18T15:00:00+08:00",
          "2023-07-18T16:00:00+08:00",
          "2023-07-18T17:00:00+08:00",
          "2023-07-18T18:00:00+08:00",
          "2023-07-18T19:00:00+08:00",
          "2023-07-18T20:00:00+08:00",
          "2023-07-18T21:00:00+08:00",
          "2023-07-18T22:00:00+08:00",
          "2023-07-18T23:00:00+08:00"
         ],
         "xaxis": "x4",
         "y": [
          126,
          80,
          41,
          55,
          64,
          86,
          253,
          1327,
          2158,
          1705,
          1273,
          1219,
          1193,
          1225,
          1326,
          1211,
          1340,
          1635,
          1745,
          1106,
          766,
          820,
          501,
          279
         ],
         "yaxis": "y4"
        },
        {
         "alignmentgroup": "True",
         "hovertemplate": "路段名=新生南路三段<br>行政區=大安區<br>時段=%{x}<br>車流量=%{y}<extra></extra>",
         "legendgroup": "新生南路三段",
         "marker": {
          "color": "#FECB52",
          "pattern": {
           "shape": ""
          }
         },
         "name": "新生南路三段",
         "offsetgroup": "新生南路三段",
         "orientation": "v",
         "showlegend": true,
         "textposition": "auto",
         "type": "bar",
         "x": [
          "2023-07-18T00:00:00+08:00",
          "2023-07-18T01:00:00+08:00",
          "2023-07-18T02:00:00+08:00",
          "2023-07-18T03:00:00+08:00",
          "2023-07-18T04:00:00+08:00",
          "2023-07-18T05:00:00+08:00",
          "2023-07-18T06:00:00+08:00",
          "2023-07-18T07:00:00+08:00",
          "2023-07-18T08:00:00+08:00",
          "2023-07-18T09:00:00+08:00",
          "2023-07-18T10:00:00+08:00",
          "2023-07-18T11:00:00+08:00",
          "2023-07-18T12:00:00+08:00",
          "2023-07-18T13:00:00+08:00",
          "2023-07-18T14:00:00+08:00",
          "2023-07-18T15:00:00+08:00",
          "2023-07-18T16:00:00+08:00",
          "2023-07-18T17:00:00+08:00",
          "2023-07-18T18:00:00+08:00",
          "2023-07-18T19:00:00+08:00",
          "2023-07-18T20:00:00+08:00",
          "2023-07-18T21:00:00+08:00",
          "2023-07-18T22:00:00+08:00",
          "2023-07-18T23:00:00+08:00"
         ],
         "xaxis": "x4",
         "y": [
          250,
          170,
          110,
          114,
          89,
          150,
          454,
          1390,
          1899,
          1823,
          1565,
          1621,
          1649,
          1611,
          1503,
          1594,
          1841,
          2084,
          2096,
          1694,
          1298,
          1134,
          873,
          441
         ],
         "yaxis": "y4"
        },
        {
         "alignmentgroup": "True",
         "hovertemplate": "路段名=新生南路二段<br>行政區=大安區<br>時段=%{x}<br>車流量=%{y}<extra></extra>",
         "legendgroup": "新生南路二段",
         "marker": {
          "color": "#636efa",
          "pattern": {
           "shape": ""
          }
         },
         "name": "新生南路二段",
         "offsetgroup": "新生南路二段",
         "orientation": "v",
         "showlegend": true,
         "textposition": "auto",
         "type": "bar",
         "x": [
          "2023-07-18T00:00:00+08:00",
          "2023-07-18T01:00:00+08:00",
          "2023-07-18T02:00:00+08:00",
          "2023-07-18T03:00:00+08:00",
          "2023-07-18T04:00:00+08:00",
          "2023-07-18T05:00:00+08:00",
          "2023-07-18T06:00:00+08:00",
          "2023-07-18T07:00:00+08:00",
          "2023-07-18T08:00:00+08:00",
          "2023-07-18T09:00:00+08:00",
          "2023-07-18T10:00:00+08:00",
          "2023-07-18T11:00:00+08:00",
          "2023-07-18T12:00:00+08:00",
          "2023-07-18T13:00:00+08:00",
          "2023-07-18T14:00:00+08:00",
          "2023-07-18T15:00:00+08:00",
          "2023-07-18T16:00:00+08:00",
          "2023-07-18T17:00:00+08:00",
          "2023-07-18T18:00:00+08:00",
          "2023-07-18T19:00:00+08:00",
          "2023-07-18T20:00:00+08:00",
          "2023-07-18T21:00:00+08:00",
          "2023-07-18T22:00:00+08:00",
          "2023-07-18T23:00:00+08:00"
         ],
         "xaxis": "x4",
         "y": [
          79,
          51,
          39,
          43,
          33,
          50,
          194,
          706,
          1163,
          1061,
          766,
          714,
          726,
          735,
          872,
          788,
          883,
          1003,
          1000,
          713,
          542,
          475,
          336,
          158
         ],
         "yaxis": "y4"
        },
        {
         "alignmentgroup": "True",
         "hovertemplate": "路段名=杭州南路二段<br>行政區=大安區<br>時段=%{x}<br>車流量=%{y}<extra></extra>",
         "legendgroup": "杭州南路二段",
         "marker": {
          "color": "#EF553B",
          "pattern": {
           "shape": ""
          }
         },
         "name": "杭州南路二段",
         "offsetgroup": "杭州南路二段",
         "orientation": "v",
         "showlegend": true,
         "textposition": "auto",
         "type": "bar",
         "x": [
          "2023-07-18T00:00:00+08:00",
          "2023-07-18T01:00:00+08:00",
          "2023-07-18T02:00:00+08:00",
          "2023-07-18T03:00:00+08:00",
          "2023-07-18T04:00:00+08:00",
          "2023-07-18T05:00:00+08:00",
          "2023-07-18T06:00:00+08:00",
          "2023-07-18T07:00:00+08:00",
          "2023-07-18T08:00:00+08:00",
          "2023-07-18T09:00:00+08:00",
          "2023-07-18T10:00:00+08:00",
          "2023-07-18T11:00:00+08:00",
          "2023-07-18T12:00:00+08:00",
          "2023-07-18T13:00:00+08:00",
          "2023-07-18T14:00:00+08:00",
          "2023-07-18T15:00:00+08:00",
          "2023-07-18T16:00:00+08:00",
          "2023-07-18T17:00:00+08:00",
          "2023-07-18T18:00:00+08:00",
          "2023-07-18T19:00:00+08:00",
          "2023-07-18T20:00:00+08:00",
          "2023-07-18T21:00:00+08:00",
          "2023-07-18T22:00:00+08:00",
          "2023-07-18T23:00:00+08:00"
         ],
         "xaxis": "x4",
         "y": [
          63,
          71,
          55,
          48,
          65,
          138,
          363,
          1347,
          2075,
          1429,
          1059,
          984,
          1042,
          1049,
          1063,
          999,
          985,
          1255,
          1047,
          744,
          502,
          502,
          325,
          160
         ],
         "yaxis": "y4"
        },
        {
         "alignmentgroup": "True",
         "hovertemplate": "路段名=羅斯福路三段<br>行政區=大安區<br>時段=%{x}<br>車流量=%{y}<extra></extra>",
         "legendgroup": "羅斯福路三段",
         "marker": {
          "color": "#00cc96",
          "pattern": {
           "shape": ""
          }
         },
         "name": "羅斯福路三段",
         "offsetgroup": "羅斯福路三段",
         "orientation": "v",
         "showlegend": true,
         "textposition": "auto",
         "type": "bar",
         "x": [
          "2023-07-18T00:00:00+08:00",
          "2023-07-18T01:00:00+08:00",
          "2023-07-18T02:00:00+08:00",
          "2023-07-18T03:00:00+08:00",
          "2023-07-18T04:00:00+08:00",
          "2023-07-18T05:00:00+08:00",
          "2023-07-18T06:00:00+08:00",
          "2023-07-18T07:00:00+08:00",
          "2023-07-18T08:00:00+08:00",
          "2023-07-18T09:00:00+08:00",
          "2023-07-18T10:00:00+08:00",
          "2023-07-18T11:00:00+08:00",
          "2023-07-18T12:00:00+08:00",
          "2023-07-18T13:00:00+08:00",
          "2023-07-18T14:00:00+08:00",
          "2023-07-18T15:00:00+08:00",
          "2023-07-18T16:00:00+08:00",
          "2023-07-18T17:00:00+08:00",
          "2023-07-18T18:00:00+08:00",
          "2023-07-18T19:00:00+08:00",
          "2023-07-18T20:00:00+08:00",
          "2023-07-18T21:00:00+08:00",
          "2023-07-18T22:00:00+08:00",
          "2023-07-18T23:00:00+08:00"
         ],
         "xaxis": "x4",
         "y": [
          411,
          305,
          233,
          174,
          193,
          340,
          922,
          2980,
          4153,
          3637,
          3184,
          3070,
          2942,
          3174,
          2991,
          3168,
          3390,
          3944,
          3478,
          2605,
          2077,
          2128,
          1486,
          802
         ],
         "yaxis": "y4"
        },
        {
         "alignmentgroup": "True",
         "hovertemplate": "路段名=羅斯福路四段<br>行政區=大安區<br>時段=%{x}<br>車流量=%{y}<extra></extra>",
         "legendgroup": "羅斯福路四段",
         "marker": {
          "color": "#ab63fa",
          "pattern": {
           "shape": ""
          }
         },
         "name": "羅斯福路四段",
         "offsetgroup": "羅斯福路四段",
         "orientation": "v",
         "showlegend": true,
         "textposition": "auto",
         "type": "bar",
         "x": [
          "2023-07-18T00:00:00+08:00",
          "2023-07-18T01:00:00+08:00",
          "2023-07-18T02:00:00+08:00",
          "2023-07-18T03:00:00+08:00",
          "2023-07-18T04:00:00+08:00",
          "2023-07-18T05:00:00+08:00",
          "2023-07-18T06:00:00+08:00",
          "2023-07-18T07:00:00+08:00",
          "2023-07-18T08:00:00+08:00",
          "2023-07-18T09:00:00+08:00",
          "2023-07-18T10:00:00+08:00",
          "2023-07-18T11:00:00+08:00",
          "2023-07-18T12:00:00+08:00",
          "2023-07-18T13:00:00+08:00",
          "2023-07-18T14:00:00+08:00",
          "2023-07-18T15:00:00+08:00",
          "2023-07-18T16:00:00+08:00",
          "2023-07-18T17:00:00+08:00",
          "2023-07-18T18:00:00+08:00",
          "2023-07-18T19:00:00+08:00",
          "2023-07-18T20:00:00+08:00",
          "2023-07-18T21:00:00+08:00",
          "2023-07-18T22:00:00+08:00",
          "2023-07-18T23:00:00+08:00"
         ],
         "xaxis": "x4",
         "y": [
          223,
          166,
          120,
          115,
          103,
          188,
          595,
          1758,
          2373,
          2771,
          2435,
          2446,
          2719,
          1662,
          1609,
          1709,
          1826,
          2039,
          1679,
          1274,
          1068,
          1096,
          758,
          421
         ],
         "yaxis": "y4"
        },
        {
         "alignmentgroup": "True",
         "hovertemplate": "路段名=辛亥路一段<br>行政區=大安區<br>時段=%{x}<br>車流量=%{y}<extra></extra>",
         "legendgroup": "辛亥路一段",
         "marker": {
          "color": "#FFA15A",
          "pattern": {
           "shape": ""
          }
         },
         "name": "辛亥路一段",
         "offsetgroup": "辛亥路一段",
         "orientation": "v",
         "showlegend": true,
         "textposition": "auto",
         "type": "bar",
         "x": [
          "2023-07-18T00:00:00+08:00",
          "2023-07-18T01:00:00+08:00",
          "2023-07-18T02:00:00+08:00",
          "2023-07-18T03:00:00+08:00",
          "2023-07-18T04:00:00+08:00",
          "2023-07-18T05:00:00+08:00",
          "2023-07-18T06:00:00+08:00",
          "2023-07-18T07:00:00+08:00",
          "2023-07-18T08:00:00+08:00",
          "2023-07-18T09:00:00+08:00",
          "2023-07-18T10:00:00+08:00",
          "2023-07-18T11:00:00+08:00",
          "2023-07-18T12:00:00+08:00",
          "2023-07-18T13:00:00+08:00",
          "2023-07-18T14:00:00+08:00",
          "2023-07-18T15:00:00+08:00",
          "2023-07-18T16:00:00+08:00",
          "2023-07-18T17:00:00+08:00",
          "2023-07-18T18:00:00+08:00",
          "2023-07-18T19:00:00+08:00",
          "2023-07-18T20:00:00+08:00",
          "2023-07-18T21:00:00+08:00",
          "2023-07-18T22:00:00+08:00",
          "2023-07-18T23:00:00+08:00"
         ],
         "xaxis": "x4",
         "y": [
          36,
          39,
          31,
          28,
          32,
          47,
          129,
          458,
          673,
          539,
          536,
          525,
          506,
          535,
          506,
          584,
          650,
          790,
          785,
          591,
          404,
          348,
          233,
          110
         ],
         "yaxis": "y4"
        },
        {
         "alignmentgroup": "True",
         "hovertemplate": "路段名=辛亥路三段<br>行政區=大安區<br>時段=%{x}<br>車流量=%{y}<extra></extra>",
         "legendgroup": "辛亥路三段",
         "marker": {
          "color": "#19d3f3",
          "pattern": {
           "shape": ""
          }
         },
         "name": "辛亥路三段",
         "offsetgroup": "辛亥路三段",
         "orientation": "v",
         "showlegend": true,
         "textposition": "auto",
         "type": "bar",
         "x": [
          "2023-07-18T00:00:00+08:00",
          "2023-07-18T01:00:00+08:00",
          "2023-07-18T02:00:00+08:00",
          "2023-07-18T03:00:00+08:00",
          "2023-07-18T04:00:00+08:00",
          "2023-07-18T05:00:00+08:00",
          "2023-07-18T06:00:00+08:00",
          "2023-07-18T07:00:00+08:00",
          "2023-07-18T08:00:00+08:00",
          "2023-07-18T09:00:00+08:00",
          "2023-07-18T10:00:00+08:00",
          "2023-07-18T11:00:00+08:00",
          "2023-07-18T12:00:00+08:00",
          "2023-07-18T13:00:00+08:00",
          "2023-07-18T14:00:00+08:00",
          "2023-07-18T15:00:00+08:00",
          "2023-07-18T16:00:00+08:00",
          "2023-07-18T17:00:00+08:00",
          "2023-07-18T18:00:00+08:00",
          "2023-07-18T19:00:00+08:00",
          "2023-07-18T20:00:00+08:00",
          "2023-07-18T21:00:00+08:00",
          "2023-07-18T22:00:00+08:00",
          "2023-07-18T23:00:00+08:00"
         ],
         "xaxis": "x4",
         "y": [
          662,
          472,
          321,
          247,
          234,
          455,
          1587,
          3979,
          4764,
          4283,
          3603,
          3422,
          3444,
          3510,
          3303,
          3337,
          3888,
          4613,
          4608,
          3558,
          2827,
          2570,
          1944,
          1278
         ],
         "yaxis": "y4"
        },
        {
         "alignmentgroup": "True",
         "hovertemplate": "路段名=辛亥路二段<br>行政區=大安區<br>時段=%{x}<br>車流量=%{y}<extra></extra>",
         "legendgroup": "辛亥路二段",
         "marker": {
          "color": "#FF6692",
          "pattern": {
           "shape": ""
          }
         },
         "name": "辛亥路二段",
         "offsetgroup": "辛亥路二段",
         "orientation": "v",
         "showlegend": true,
         "textposition": "auto",
         "type": "bar",
         "x": [
          "2023-07-18T00:00:00+08:00",
          "2023-07-18T01:00:00+08:00",
          "2023-07-18T02:00:00+08:00",
          "2023-07-18T03:00:00+08:00",
          "2023-07-18T04:00:00+08:00",
          "2023-07-18T05:00:00+08:00",
          "2023-07-18T06:00:00+08:00",
          "2023-07-18T07:00:00+08:00",
          "2023-07-18T08:00:00+08:00",
          "2023-07-18T09:00:00+08:00",
          "2023-07-18T10:00:00+08:00",
          "2023-07-18T11:00:00+08:00",
          "2023-07-18T12:00:00+08:00",
          "2023-07-18T13:00:00+08:00",
          "2023-07-18T14:00:00+08:00",
          "2023-07-18T15:00:00+08:00",
          "2023-07-18T16:00:00+08:00",
          "2023-07-18T17:00:00+08:00",
          "2023-07-18T18:00:00+08:00",
          "2023-07-18T19:00:00+08:00",
          "2023-07-18T20:00:00+08:00",
          "2023-07-18T21:00:00+08:00",
          "2023-07-18T22:00:00+08:00",
          "2023-07-18T23:00:00+08:00"
         ],
         "xaxis": "x4",
         "y": [
          282,
          216,
          188,
          151,
          172,
          325,
          815,
          1628,
          1660,
          1774,
          1630,
          1417,
          1456,
          1471,
          1351,
          1396,
          1600,
          1776,
          1741,
          1399,
          1071,
          961,
          731,
          448
         ],
         "yaxis": "y4"
        },
        {
         "alignmentgroup": "True",
         "hovertemplate": "路段名=金山南路二段<br>行政區=大安區<br>時段=%{x}<br>車流量=%{y}<extra></extra>",
         "legendgroup": "金山南路二段",
         "marker": {
          "color": "#B6E880",
          "pattern": {
           "shape": ""
          }
         },
         "name": "金山南路二段",
         "offsetgroup": "金山南路二段",
         "orientation": "v",
         "showlegend": true,
         "textposition": "auto",
         "type": "bar",
         "x": [
          "2023-07-18T00:00:00+08:00",
          "2023-07-18T01:00:00+08:00",
          "2023-07-18T02:00:00+08:00",
          "2023-07-18T03:00:00+08:00",
          "2023-07-18T04:00:00+08:00",
          "2023-07-18T05:00:00+08:00",
          "2023-07-18T06:00:00+08:00",
          "2023-07-18T07:00:00+08:00",
          "2023-07-18T08:00:00+08:00",
          "2023-07-18T09:00:00+08:00",
          "2023-07-18T10:00:00+08:00",
          "2023-07-18T11:00:00+08:00",
          "2023-07-18T12:00:00+08:00",
          "2023-07-18T13:00:00+08:00",
          "2023-07-18T14:00:00+08:00",
          "2023-07-18T15:00:00+08:00",
          "2023-07-18T16:00:00+08:00",
          "2023-07-18T17:00:00+08:00",
          "2023-07-18T18:00:00+08:00",
          "2023-07-18T19:00:00+08:00",
          "2023-07-18T20:00:00+08:00",
          "2023-07-18T21:00:00+08:00",
          "2023-07-18T22:00:00+08:00",
          "2023-07-18T23:00:00+08:00"
         ],
         "xaxis": "x4",
         "y": [
          396,
          298,
          172,
          179,
          185,
          262,
          576,
          1811,
          2382,
          2310,
          2284,
          2309,
          2169,
          2201,
          2232,
          2177,
          2319,
          2657,
          2422,
          1823,
          1650,
          1553,
          1087,
          652
         ],
         "yaxis": "y4"
        }
       ],
       "layout": {
        "annotations": [
         {
          "font": {},
          "showarrow": false,
          "text": "行政區=中山區",
          "x": 0.1175,
          "xanchor": "center",
          "xref": "paper",
          "y": 1,
          "yanchor": "bottom",
          "yref": "paper"
         },
         {
          "font": {},
          "showarrow": false,
          "text": "行政區=內湖區",
          "x": 0.3725,
          "xanchor": "center",
          "xref": "paper",
          "y": 1,
          "yanchor": "bottom",
          "yref": "paper"
         },
         {
          "font": {},
          "showarrow": false,
          "text": "行政區=士林區",
          "x": 0.6275,
          "xanchor": "center",
          "xref": "paper",
          "y": 1,
          "yanchor": "bottom",
          "yref": "paper"
         },
         {
          "font": {},
          "showarrow": false,
          "text": "行政區=大安區",
          "x": 0.8824999999999998,
          "xanchor": "center",
          "xref": "paper",
          "y": 1,
          "yanchor": "bottom",
          "yref": "paper"
         }
        ],
        "barmode": "relative",
        "legend": {
         "title": {
          "text": "路段名"
         },
         "tracegroupgap": 0
        },
        "template": {
         "data": {
          "bar": [
           {
            "error_x": {
             "color": "#2a3f5f"
            },
            "error_y": {
             "color": "#2a3f5f"
            },
            "marker": {
             "line": {
              "color": "#E5ECF6",
              "width": 0.5
             },
             "pattern": {
              "fillmode": "overlay",
              "size": 10,
              "solidity": 0.2
             }
            },
            "type": "bar"
           }
          ],
          "barpolar": [
           {
            "marker": {
             "line": {
              "color": "#E5ECF6",
              "width": 0.5
             },
             "pattern": {
              "fillmode": "overlay",
              "size": 10,
              "solidity": 0.2
             }
            },
            "type": "barpolar"
           }
          ],
          "carpet": [
           {
            "aaxis": {
             "endlinecolor": "#2a3f5f",
             "gridcolor": "white",
             "linecolor": "white",
             "minorgridcolor": "white",
             "startlinecolor": "#2a3f5f"
            },
            "baxis": {
             "endlinecolor": "#2a3f5f",
             "gridcolor": "white",
             "linecolor": "white",
             "minorgridcolor": "white",
             "startlinecolor": "#2a3f5f"
            },
            "type": "carpet"
           }
          ],
          "choropleth": [
           {
            "colorbar": {
             "outlinewidth": 0,
             "ticks": ""
            },
            "type": "choropleth"
           }
          ],
          "contour": [
           {
            "colorbar": {
             "outlinewidth": 0,
             "ticks": ""
            },
            "colorscale": [
             [
              0,
              "#0d0887"
             ],
             [
              0.1111111111111111,
              "#46039f"
             ],
             [
              0.2222222222222222,
              "#7201a8"
             ],
             [
              0.3333333333333333,
              "#9c179e"
             ],
             [
              0.4444444444444444,
              "#bd3786"
             ],
             [
              0.5555555555555556,
              "#d8576b"
             ],
             [
              0.6666666666666666,
              "#ed7953"
             ],
             [
              0.7777777777777778,
              "#fb9f3a"
             ],
             [
              0.8888888888888888,
              "#fdca26"
             ],
             [
              1,
              "#f0f921"
             ]
            ],
            "type": "contour"
           }
          ],
          "contourcarpet": [
           {
            "colorbar": {
             "outlinewidth": 0,
             "ticks": ""
            },
            "type": "contourcarpet"
           }
          ],
          "heatmap": [
           {
            "colorbar": {
             "outlinewidth": 0,
             "ticks": ""
            },
            "colorscale": [
             [
              0,
              "#0d0887"
             ],
             [
              0.1111111111111111,
              "#46039f"
             ],
             [
              0.2222222222222222,
              "#7201a8"
             ],
             [
              0.3333333333333333,
              "#9c179e"
             ],
             [
              0.4444444444444444,
              "#bd3786"
             ],
             [
              0.5555555555555556,
              "#d8576b"
             ],
             [
              0.6666666666666666,
              "#ed7953"
             ],
             [
              0.7777777777777778,
              "#fb9f3a"
             ],
             [
              0.8888888888888888,
              "#fdca26"
             ],
             [
              1,
              "#f0f921"
             ]
            ],
            "type": "heatmap"
           }
          ],
          "heatmapgl": [
           {
            "colorbar": {
             "outlinewidth": 0,
             "ticks": ""
            },
            "colorscale": [
             [
              0,
              "#0d0887"
             ],
             [
              0.1111111111111111,
              "#46039f"
             ],
             [
              0.2222222222222222,
              "#7201a8"
             ],
             [
              0.3333333333333333,
              "#9c179e"
             ],
             [
              0.4444444444444444,
              "#bd3786"
             ],
             [
              0.5555555555555556,
              "#d8576b"
             ],
             [
              0.6666666666666666,
              "#ed7953"
             ],
             [
              0.7777777777777778,
              "#fb9f3a"
             ],
             [
              0.8888888888888888,
              "#fdca26"
             ],
             [
              1,
              "#f0f921"
             ]
            ],
            "type": "heatmapgl"
           }
          ],
          "histogram": [
           {
            "marker": {
             "pattern": {
              "fillmode": "overlay",
              "size": 10,
              "solidity": 0.2
             }
            },
            "type": "histogram"
           }
          ],
          "histogram2d": [
           {
            "colorbar": {
             "outlinewidth": 0,
             "ticks": ""
            },
            "colorscale": [
             [
              0,
              "#0d0887"
             ],
             [
              0.1111111111111111,
              "#46039f"
             ],
             [
              0.2222222222222222,
              "#7201a8"
             ],
             [
              0.3333333333333333,
              "#9c179e"
             ],
             [
              0.4444444444444444,
              "#bd3786"
             ],
             [
              0.5555555555555556,
              "#d8576b"
             ],
             [
              0.6666666666666666,
              "#ed7953"
             ],
             [
              0.7777777777777778,
              "#fb9f3a"
             ],
             [
              0.8888888888888888,
              "#fdca26"
             ],
             [
              1,
              "#f0f921"
             ]
            ],
            "type": "histogram2d"
           }
          ],
          "histogram2dcontour": [
           {
            "colorbar": {
             "outlinewidth": 0,
             "ticks": ""
            },
            "colorscale": [
             [
              0,
              "#0d0887"
             ],
             [
              0.1111111111111111,
              "#46039f"
             ],
             [
              0.2222222222222222,
              "#7201a8"
             ],
             [
              0.3333333333333333,
              "#9c179e"
             ],
             [
              0.4444444444444444,
              "#bd3786"
             ],
             [
              0.5555555555555556,
              "#d8576b"
             ],
             [
              0.6666666666666666,
              "#ed7953"
             ],
             [
              0.7777777777777778,
              "#fb9f3a"
             ],
             [
              0.8888888888888888,
              "#fdca26"
             ],
             [
              1,
              "#f0f921"
             ]
            ],
            "type": "histogram2dcontour"
           }
          ],
          "mesh3d": [
           {
            "colorbar": {
             "outlinewidth": 0,
             "ticks": ""
            },
            "type": "mesh3d"
           }
          ],
          "parcoords": [
           {
            "line": {
             "colorbar": {
              "outlinewidth": 0,
              "ticks": ""
             }
            },
            "type": "parcoords"
           }
          ],
          "pie": [
           {
            "automargin": true,
            "type": "pie"
           }
          ],
          "scatter": [
           {
            "fillpattern": {
             "fillmode": "overlay",
             "size": 10,
             "solidity": 0.2
            },
            "type": "scatter"
           }
          ],
          "scatter3d": [
           {
            "line": {
             "colorbar": {
              "outlinewidth": 0,
              "ticks": ""
             }
            },
            "marker": {
             "colorbar": {
              "outlinewidth": 0,
              "ticks": ""
             }
            },
            "type": "scatter3d"
           }
          ],
          "scattercarpet": [
           {
            "marker": {
             "colorbar": {
              "outlinewidth": 0,
              "ticks": ""
             }
            },
            "type": "scattercarpet"
           }
          ],
          "scattergeo": [
           {
            "marker": {
             "colorbar": {
              "outlinewidth": 0,
              "ticks": ""
             }
            },
            "type": "scattergeo"
           }
          ],
          "scattergl": [
           {
            "marker": {
             "colorbar": {
              "outlinewidth": 0,
              "ticks": ""
             }
            },
            "type": "scattergl"
           }
          ],
          "scattermapbox": [
           {
            "marker": {
             "colorbar": {
              "outlinewidth": 0,
              "ticks": ""
             }
            },
            "type": "scattermapbox"
           }
          ],
          "scatterpolar": [
           {
            "marker": {
             "colorbar": {
              "outlinewidth": 0,
              "ticks": ""
             }
            },
            "type": "scatterpolar"
           }
          ],
          "scatterpolargl": [
           {
            "marker": {
             "colorbar": {
              "outlinewidth": 0,
              "ticks": ""
             }
            },
            "type": "scatterpolargl"
           }
          ],
          "scatterternary": [
           {
            "marker": {
             "colorbar": {
              "outlinewidth": 0,
              "ticks": ""
             }
            },
            "type": "scatterternary"
           }
          ],
          "surface": [
           {
            "colorbar": {
             "outlinewidth": 0,
             "ticks": ""
            },
            "colorscale": [
             [
              0,
              "#0d0887"
             ],
             [
              0.1111111111111111,
              "#46039f"
             ],
             [
              0.2222222222222222,
              "#7201a8"
             ],
             [
              0.3333333333333333,
              "#9c179e"
             ],
             [
              0.4444444444444444,
              "#bd3786"
             ],
             [
              0.5555555555555556,
              "#d8576b"
             ],
             [
              0.6666666666666666,
              "#ed7953"
             ],
             [
              0.7777777777777778,
              "#fb9f3a"
             ],
             [
              0.8888888888888888,
              "#fdca26"
             ],
             [
              1,
              "#f0f921"
             ]
            ],
            "type": "surface"
           }
          ],
          "table": [
           {
            "cells": {
             "fill": {
              "color": "#EBF0F8"
             },
             "line": {
              "color": "white"
             }
            },
            "header": {
             "fill": {
              "color": "#C8D4E3"
             },
             "line": {
              "color": "white"
             }
            },
            "type": "table"
           }
          ]
         },
         "layout": {
          "annotationdefaults": {
           "arrowcolor": "#2a3f5f",
           "arrowhead": 0,
           "arrowwidth": 1
          },
          "autotypenumbers": "strict",
          "coloraxis": {
           "colorbar": {
            "outlinewidth": 0,
            "ticks": ""
           }
          },
          "colorscale": {
           "diverging": [
            [
             0,
             "#8e0152"
            ],
            [
             0.1,
             "#c51b7d"
            ],
            [
             0.2,
             "#de77ae"
            ],
            [
             0.3,
             "#f1b6da"
            ],
            [
             0.4,
             "#fde0ef"
            ],
            [
             0.5,
             "#f7f7f7"
            ],
            [
             0.6,
             "#e6f5d0"
            ],
            [
             0.7,
             "#b8e186"
            ],
            [
             0.8,
             "#7fbc41"
            ],
            [
             0.9,
             "#4d9221"
            ],
            [
             1,
             "#276419"
            ]
           ],
           "sequential": [
            [
             0,
             "#0d0887"
            ],
            [
             0.1111111111111111,
             "#46039f"
            ],
            [
             0.2222222222222222,
             "#7201a8"
            ],
            [
             0.3333333333333333,
             "#9c179e"
            ],
            [
             0.4444444444444444,
             "#bd3786"
            ],
            [
             0.5555555555555556,
             "#d8576b"
            ],
            [
             0.6666666666666666,
             "#ed7953"
            ],
            [
             0.7777777777777778,
             "#fb9f3a"
            ],
            [
             0.8888888888888888,
             "#fdca26"
            ],
            [
             1,
             "#f0f921"
            ]
           ],
           "sequentialminus": [
            [
             0,
             "#0d0887"
            ],
            [
             0.1111111111111111,
             "#46039f"
            ],
            [
             0.2222222222222222,
             "#7201a8"
            ],
            [
             0.3333333333333333,
             "#9c179e"
            ],
            [
             0.4444444444444444,
             "#bd3786"
            ],
            [
             0.5555555555555556,
             "#d8576b"
            ],
            [
             0.6666666666666666,
             "#ed7953"
            ],
            [
             0.7777777777777778,
             "#fb9f3a"
            ],
            [
             0.8888888888888888,
             "#fdca26"
            ],
            [
             1,
             "#f0f921"
            ]
           ]
          },
          "colorway": [
           "#636efa",
           "#EF553B",
           "#00cc96",
           "#ab63fa",
           "#FFA15A",
           "#19d3f3",
           "#FF6692",
           "#B6E880",
           "#FF97FF",
           "#FECB52"
          ],
          "font": {
           "color": "#2a3f5f"
          },
          "geo": {
           "bgcolor": "white",
           "lakecolor": "white",
           "landcolor": "#E5ECF6",
           "showlakes": true,
           "showland": true,
           "subunitcolor": "white"
          },
          "hoverlabel": {
           "align": "left"
          },
          "hovermode": "closest",
          "mapbox": {
           "style": "light"
          },
          "paper_bgcolor": "white",
          "plot_bgcolor": "#E5ECF6",
          "polar": {
           "angularaxis": {
            "gridcolor": "white",
            "linecolor": "white",
            "ticks": ""
           },
           "bgcolor": "#E5ECF6",
           "radialaxis": {
            "gridcolor": "white",
            "linecolor": "white",
            "ticks": ""
           }
          },
          "scene": {
           "xaxis": {
            "backgroundcolor": "#E5ECF6",
            "gridcolor": "white",
            "gridwidth": 2,
            "linecolor": "white",
            "showbackground": true,
            "ticks": "",
            "zerolinecolor": "white"
           },
           "yaxis": {
            "backgroundcolor": "#E5ECF6",
            "gridcolor": "white",
            "gridwidth": 2,
            "linecolor": "white",
            "showbackground": true,
            "ticks": "",
            "zerolinecolor": "white"
           },
           "zaxis": {
            "backgroundcolor": "#E5ECF6",
            "gridcolor": "white",
            "gridwidth": 2,
            "linecolor": "white",
            "showbackground": true,
            "ticks": "",
            "zerolinecolor": "white"
           }
          },
          "shapedefaults": {
           "line": {
            "color": "#2a3f5f"
           }
          },
          "ternary": {
           "aaxis": {
            "gridcolor": "white",
            "linecolor": "white",
            "ticks": ""
           },
           "baxis": {
            "gridcolor": "white",
            "linecolor": "white",
            "ticks": ""
           },
           "bgcolor": "#E5ECF6",
           "caxis": {
            "gridcolor": "white",
            "linecolor": "white",
            "ticks": ""
           }
          },
          "title": {
           "x": 0.05
          },
          "xaxis": {
           "automargin": true,
           "gridcolor": "white",
           "linecolor": "white",
           "ticks": "",
           "title": {
            "standoff": 15
           },
           "zerolinecolor": "white",
           "zerolinewidth": 2
          },
          "yaxis": {
           "automargin": true,
           "gridcolor": "white",
           "linecolor": "white",
           "ticks": "",
           "title": {
            "standoff": 15
           },
           "zerolinecolor": "white",
           "zerolinewidth": 2
          }
         }
        },
        "title": {
         "text": "主要行政區車流量分佈"
        },
        "xaxis": {
         "anchor": "y",
         "domain": [
          0,
          0.235
         ],
         "title": {
          "text": "時段"
         }
        },
        "xaxis2": {
         "anchor": "y2",
         "domain": [
          0.255,
          0.49
         ],
         "matches": "x",
         "title": {
          "text": "時段"
         }
        },
        "xaxis3": {
         "anchor": "y3",
         "domain": [
          0.51,
          0.745
         ],
         "matches": "x",
         "title": {
          "text": "時段"
         }
        },
        "xaxis4": {
         "anchor": "y4",
         "domain": [
          0.7649999999999999,
          0.9999999999999999
         ],
         "matches": "x",
         "title": {
          "text": "時段"
         }
        },
        "yaxis": {
         "anchor": "x",
         "domain": [
          0,
          1
         ],
         "title": {
          "text": "車流量"
         }
        },
        "yaxis2": {
         "anchor": "x2",
         "domain": [
          0,
          1
         ],
         "matches": "y",
         "showticklabels": false
        },
        "yaxis3": {
         "anchor": "x3",
         "domain": [
          0,
          1
         ],
         "matches": "y",
         "showticklabels": false
        },
        "yaxis4": {
         "anchor": "x4",
         "domain": [
          0,
          1
         ],
         "matches": "y",
         "showticklabels": false
        }
       }
      }
     },
     "metadata": {},
     "output_type": "display_data"
    }
   ],
   "source": [
    "px.bar(plot.query(\"TownName in ['中山區', '內湖區', '士林區', '大安區']\"), x=\"DataCollectTime\", y=\"VehicleVolume\", facet_col=\"TownName\", color=\"RoadName\", title=\"主要行政區車流量分佈\", labels={\"DataCollectTime\": \"時段\", \"TownName\": \"行政區\", \"VehicleVolume\": \"車流量\", \"RoadName\": \"路段名\"})"
   ]
  },
  {
   "cell_type": "code",
   "execution_count": 20,
   "metadata": {},
   "outputs": [
    {
     "name": "stderr",
     "output_type": "stream",
     "text": [
      "C:\\Users\\kc.hsu\\AppData\\Local\\Temp\\ipykernel_2596\\2411190092.py:1: DtypeWarning:\n",
      "\n",
      "Columns (9) have mixed types. Specify dtype option on import or set low_memory=False.\n",
      "\n"
     ]
    }
   ],
   "source": [
    "car = pd.read_csv(r\"D:\\kc.hsu\\OneDrive - Bridgestone\\數據\\監理站新車領牌數據\\20221017_監理站領牌數據全.csv\")"
   ]
  },
  {
   "cell_type": "code",
   "execution_count": 21,
   "metadata": {},
   "outputs": [
    {
     "data": {
      "text/plain": [
       "array(['PSV', 'LCV', 'Truck/Bus'], dtype=object)"
      ]
     },
     "execution_count": 21,
     "metadata": {},
     "output_type": "execute_result"
    }
   ],
   "source": [
    "car[\"車輛類型3\"].unique()"
   ]
  },
  {
   "cell_type": "code",
   "execution_count": 22,
   "metadata": {},
   "outputs": [],
   "source": [
    "car = car[(car[\"城市\"] == \"臺北市\") & (car[\"車輛類型3\"] == \"PSV\")]"
   ]
  },
  {
   "cell_type": "code",
   "execution_count": 23,
   "metadata": {},
   "outputs": [],
   "source": [
    "plt = car.groupby([\"來源\", \"區\"]).size().reset_index(name=\"數量\").sort_values(by=[\"來源\", \"數量\"], ascending=False)"
   ]
  },
  {
   "cell_type": "code",
   "execution_count": 24,
   "metadata": {},
   "outputs": [
    {
     "data": {
      "text/html": [
       "<div><div id=e55beaa6-e498-49f6-85db-9e7e9947265d style=\"display:none; background-color:#9D6CFF; color:white; width:200px; height:30px; padding-left:5px; border-radius:4px; flex-direction:row; justify-content:space-around; align-items:center;\" onmouseover=\"this.style.backgroundColor='#BA9BF8'\" onmouseout=\"this.style.backgroundColor='#9D6CFF'\" onclick=\"window.commands?.execute('create-mitosheet-from-dataframe-output');\">See Full Dataframe in Mito</div> <script> if (window.commands?.hasCommand('create-mitosheet-from-dataframe-output')) document.getElementById('e55beaa6-e498-49f6-85db-9e7e9947265d').style.display = 'flex' </script> <table border=\"1\" class=\"dataframe\">\n",
       "  <thead>\n",
       "    <tr style=\"text-align: right;\">\n",
       "      <th></th>\n",
       "      <th>來源</th>\n",
       "      <th>區</th>\n",
       "      <th>數量</th>\n",
       "    </tr>\n",
       "  </thead>\n",
       "  <tbody>\n",
       "    <tr>\n",
       "      <th>12</th>\n",
       "      <td>進口</td>\n",
       "      <td>中山區</td>\n",
       "      <td>16157</td>\n",
       "    </tr>\n",
       "    <tr>\n",
       "      <th>15</th>\n",
       "      <td>進口</td>\n",
       "      <td>內湖區</td>\n",
       "      <td>14562</td>\n",
       "    </tr>\n",
       "    <tr>\n",
       "      <th>20</th>\n",
       "      <td>進口</td>\n",
       "      <td>大安區</td>\n",
       "      <td>13206</td>\n",
       "    </tr>\n",
       "    <tr>\n",
       "      <th>22</th>\n",
       "      <td>進口</td>\n",
       "      <td>松山區</td>\n",
       "      <td>7848</td>\n",
       "    </tr>\n",
       "    <tr>\n",
       "      <th>14</th>\n",
       "      <td>進口</td>\n",
       "      <td>信義區</td>\n",
       "      <td>5017</td>\n",
       "    </tr>\n",
       "    <tr>\n",
       "      <th>...</th>\n",
       "      <td>...</td>\n",
       "      <td>...</td>\n",
       "      <td>...</td>\n",
       "    </tr>\n",
       "    <tr>\n",
       "      <th>5</th>\n",
       "      <td>國產</td>\n",
       "      <td>南港區</td>\n",
       "      <td>2643</td>\n",
       "    </tr>\n",
       "    <tr>\n",
       "      <th>4</th>\n",
       "      <td>國產</td>\n",
       "      <td>北投區</td>\n",
       "      <td>2594</td>\n",
       "    </tr>\n",
       "    <tr>\n",
       "      <th>1</th>\n",
       "      <td>國產</td>\n",
       "      <td>中正區</td>\n",
       "      <td>2225</td>\n",
       "    </tr>\n",
       "    <tr>\n",
       "      <th>7</th>\n",
       "      <td>國產</td>\n",
       "      <td>大同區</td>\n",
       "      <td>1702</td>\n",
       "    </tr>\n",
       "    <tr>\n",
       "      <th>11</th>\n",
       "      <td>國產</td>\n",
       "      <td>萬華區</td>\n",
       "      <td>1661</td>\n",
       "    </tr>\n",
       "  </tbody>\n",
       "</table></div>"
      ],
      "text/plain": [
       "    來源    區     數量\n",
       "12  進口  中山區  16157\n",
       "15  進口  內湖區  14562\n",
       "20  進口  大安區  13206\n",
       "22  進口  松山區   7848\n",
       "14  進口  信義區   5017\n",
       "18  進口  士林區   4128\n",
       "21  進口  文山區   3736\n",
       "16  進口  北投區   3450\n",
       "13  進口  中正區   3430\n",
       "19  進口  大同區   2526\n",
       "17  進口  南港區   2421\n",
       "23  進口  萬華區   1760\n",
       "0   國產  中山區  10723\n",
       "8   國產  大安區  10359\n",
       "3   國產  內湖區   7084\n",
       "10  國產  松山區   4096\n",
       "2   國產  信義區   3001\n",
       "9   國產  文山區   2953\n",
       "6   國產  士林區   2658\n",
       "5   國產  南港區   2643\n",
       "4   國產  北投區   2594\n",
       "1   國產  中正區   2225\n",
       "7   國產  大同區   1702\n",
       "11  國產  萬華區   1661"
      ]
     },
     "execution_count": 24,
     "metadata": {},
     "output_type": "execute_result"
    }
   ],
   "source": [
    "plt"
   ]
  },
  {
   "cell_type": "code",
   "execution_count": 25,
   "metadata": {},
   "outputs": [
    {
     "data": {
      "application/vnd.plotly.v1+json": {
       "config": {
        "plotlyServerURL": "https://plot.ly"
       },
       "data": [
        {
         "alignmentgroup": "True",
         "hovertemplate": "來源=進口<br>區=%{x}<br>數量=%{y}<extra></extra>",
         "legendgroup": "進口",
         "marker": {
          "color": "#636efa",
          "pattern": {
           "shape": ""
          }
         },
         "name": "進口",
         "offsetgroup": "進口",
         "orientation": "v",
         "showlegend": true,
         "textposition": "auto",
         "type": "bar",
         "x": [
          "中山區",
          "內湖區",
          "大安區",
          "松山區",
          "信義區",
          "士林區",
          "文山區",
          "北投區",
          "中正區",
          "大同區",
          "南港區",
          "萬華區"
         ],
         "xaxis": "x",
         "y": [
          16157,
          14562,
          13206,
          7848,
          5017,
          4128,
          3736,
          3450,
          3430,
          2526,
          2421,
          1760
         ],
         "yaxis": "y"
        },
        {
         "alignmentgroup": "True",
         "hovertemplate": "來源=國產<br>區=%{x}<br>數量=%{y}<extra></extra>",
         "legendgroup": "國產",
         "marker": {
          "color": "#EF553B",
          "pattern": {
           "shape": ""
          }
         },
         "name": "國產",
         "offsetgroup": "國產",
         "orientation": "v",
         "showlegend": true,
         "textposition": "auto",
         "type": "bar",
         "x": [
          "中山區",
          "大安區",
          "內湖區",
          "松山區",
          "信義區",
          "文山區",
          "士林區",
          "南港區",
          "北投區",
          "中正區",
          "大同區",
          "萬華區"
         ],
         "xaxis": "x",
         "y": [
          10723,
          10359,
          7084,
          4096,
          3001,
          2953,
          2658,
          2643,
          2594,
          2225,
          1702,
          1661
         ],
         "yaxis": "y"
        }
       ],
       "layout": {
        "barmode": "relative",
        "legend": {
         "title": {
          "text": "來源"
         },
         "tracegroupgap": 0
        },
        "margin": {
         "t": 60
        },
        "template": {
         "data": {
          "bar": [
           {
            "error_x": {
             "color": "#2a3f5f"
            },
            "error_y": {
             "color": "#2a3f5f"
            },
            "marker": {
             "line": {
              "color": "#E5ECF6",
              "width": 0.5
             },
             "pattern": {
              "fillmode": "overlay",
              "size": 10,
              "solidity": 0.2
             }
            },
            "type": "bar"
           }
          ],
          "barpolar": [
           {
            "marker": {
             "line": {
              "color": "#E5ECF6",
              "width": 0.5
             },
             "pattern": {
              "fillmode": "overlay",
              "size": 10,
              "solidity": 0.2
             }
            },
            "type": "barpolar"
           }
          ],
          "carpet": [
           {
            "aaxis": {
             "endlinecolor": "#2a3f5f",
             "gridcolor": "white",
             "linecolor": "white",
             "minorgridcolor": "white",
             "startlinecolor": "#2a3f5f"
            },
            "baxis": {
             "endlinecolor": "#2a3f5f",
             "gridcolor": "white",
             "linecolor": "white",
             "minorgridcolor": "white",
             "startlinecolor": "#2a3f5f"
            },
            "type": "carpet"
           }
          ],
          "choropleth": [
           {
            "colorbar": {
             "outlinewidth": 0,
             "ticks": ""
            },
            "type": "choropleth"
           }
          ],
          "contour": [
           {
            "colorbar": {
             "outlinewidth": 0,
             "ticks": ""
            },
            "colorscale": [
             [
              0,
              "#0d0887"
             ],
             [
              0.1111111111111111,
              "#46039f"
             ],
             [
              0.2222222222222222,
              "#7201a8"
             ],
             [
              0.3333333333333333,
              "#9c179e"
             ],
             [
              0.4444444444444444,
              "#bd3786"
             ],
             [
              0.5555555555555556,
              "#d8576b"
             ],
             [
              0.6666666666666666,
              "#ed7953"
             ],
             [
              0.7777777777777778,
              "#fb9f3a"
             ],
             [
              0.8888888888888888,
              "#fdca26"
             ],
             [
              1,
              "#f0f921"
             ]
            ],
            "type": "contour"
           }
          ],
          "contourcarpet": [
           {
            "colorbar": {
             "outlinewidth": 0,
             "ticks": ""
            },
            "type": "contourcarpet"
           }
          ],
          "heatmap": [
           {
            "colorbar": {
             "outlinewidth": 0,
             "ticks": ""
            },
            "colorscale": [
             [
              0,
              "#0d0887"
             ],
             [
              0.1111111111111111,
              "#46039f"
             ],
             [
              0.2222222222222222,
              "#7201a8"
             ],
             [
              0.3333333333333333,
              "#9c179e"
             ],
             [
              0.4444444444444444,
              "#bd3786"
             ],
             [
              0.5555555555555556,
              "#d8576b"
             ],
             [
              0.6666666666666666,
              "#ed7953"
             ],
             [
              0.7777777777777778,
              "#fb9f3a"
             ],
             [
              0.8888888888888888,
              "#fdca26"
             ],
             [
              1,
              "#f0f921"
             ]
            ],
            "type": "heatmap"
           }
          ],
          "heatmapgl": [
           {
            "colorbar": {
             "outlinewidth": 0,
             "ticks": ""
            },
            "colorscale": [
             [
              0,
              "#0d0887"
             ],
             [
              0.1111111111111111,
              "#46039f"
             ],
             [
              0.2222222222222222,
              "#7201a8"
             ],
             [
              0.3333333333333333,
              "#9c179e"
             ],
             [
              0.4444444444444444,
              "#bd3786"
             ],
             [
              0.5555555555555556,
              "#d8576b"
             ],
             [
              0.6666666666666666,
              "#ed7953"
             ],
             [
              0.7777777777777778,
              "#fb9f3a"
             ],
             [
              0.8888888888888888,
              "#fdca26"
             ],
             [
              1,
              "#f0f921"
             ]
            ],
            "type": "heatmapgl"
           }
          ],
          "histogram": [
           {
            "marker": {
             "pattern": {
              "fillmode": "overlay",
              "size": 10,
              "solidity": 0.2
             }
            },
            "type": "histogram"
           }
          ],
          "histogram2d": [
           {
            "colorbar": {
             "outlinewidth": 0,
             "ticks": ""
            },
            "colorscale": [
             [
              0,
              "#0d0887"
             ],
             [
              0.1111111111111111,
              "#46039f"
             ],
             [
              0.2222222222222222,
              "#7201a8"
             ],
             [
              0.3333333333333333,
              "#9c179e"
             ],
             [
              0.4444444444444444,
              "#bd3786"
             ],
             [
              0.5555555555555556,
              "#d8576b"
             ],
             [
              0.6666666666666666,
              "#ed7953"
             ],
             [
              0.7777777777777778,
              "#fb9f3a"
             ],
             [
              0.8888888888888888,
              "#fdca26"
             ],
             [
              1,
              "#f0f921"
             ]
            ],
            "type": "histogram2d"
           }
          ],
          "histogram2dcontour": [
           {
            "colorbar": {
             "outlinewidth": 0,
             "ticks": ""
            },
            "colorscale": [
             [
              0,
              "#0d0887"
             ],
             [
              0.1111111111111111,
              "#46039f"
             ],
             [
              0.2222222222222222,
              "#7201a8"
             ],
             [
              0.3333333333333333,
              "#9c179e"
             ],
             [
              0.4444444444444444,
              "#bd3786"
             ],
             [
              0.5555555555555556,
              "#d8576b"
             ],
             [
              0.6666666666666666,
              "#ed7953"
             ],
             [
              0.7777777777777778,
              "#fb9f3a"
             ],
             [
              0.8888888888888888,
              "#fdca26"
             ],
             [
              1,
              "#f0f921"
             ]
            ],
            "type": "histogram2dcontour"
           }
          ],
          "mesh3d": [
           {
            "colorbar": {
             "outlinewidth": 0,
             "ticks": ""
            },
            "type": "mesh3d"
           }
          ],
          "parcoords": [
           {
            "line": {
             "colorbar": {
              "outlinewidth": 0,
              "ticks": ""
             }
            },
            "type": "parcoords"
           }
          ],
          "pie": [
           {
            "automargin": true,
            "type": "pie"
           }
          ],
          "scatter": [
           {
            "fillpattern": {
             "fillmode": "overlay",
             "size": 10,
             "solidity": 0.2
            },
            "type": "scatter"
           }
          ],
          "scatter3d": [
           {
            "line": {
             "colorbar": {
              "outlinewidth": 0,
              "ticks": ""
             }
            },
            "marker": {
             "colorbar": {
              "outlinewidth": 0,
              "ticks": ""
             }
            },
            "type": "scatter3d"
           }
          ],
          "scattercarpet": [
           {
            "marker": {
             "colorbar": {
              "outlinewidth": 0,
              "ticks": ""
             }
            },
            "type": "scattercarpet"
           }
          ],
          "scattergeo": [
           {
            "marker": {
             "colorbar": {
              "outlinewidth": 0,
              "ticks": ""
             }
            },
            "type": "scattergeo"
           }
          ],
          "scattergl": [
           {
            "marker": {
             "colorbar": {
              "outlinewidth": 0,
              "ticks": ""
             }
            },
            "type": "scattergl"
           }
          ],
          "scattermapbox": [
           {
            "marker": {
             "colorbar": {
              "outlinewidth": 0,
              "ticks": ""
             }
            },
            "type": "scattermapbox"
           }
          ],
          "scatterpolar": [
           {
            "marker": {
             "colorbar": {
              "outlinewidth": 0,
              "ticks": ""
             }
            },
            "type": "scatterpolar"
           }
          ],
          "scatterpolargl": [
           {
            "marker": {
             "colorbar": {
              "outlinewidth": 0,
              "ticks": ""
             }
            },
            "type": "scatterpolargl"
           }
          ],
          "scatterternary": [
           {
            "marker": {
             "colorbar": {
              "outlinewidth": 0,
              "ticks": ""
             }
            },
            "type": "scatterternary"
           }
          ],
          "surface": [
           {
            "colorbar": {
             "outlinewidth": 0,
             "ticks": ""
            },
            "colorscale": [
             [
              0,
              "#0d0887"
             ],
             [
              0.1111111111111111,
              "#46039f"
             ],
             [
              0.2222222222222222,
              "#7201a8"
             ],
             [
              0.3333333333333333,
              "#9c179e"
             ],
             [
              0.4444444444444444,
              "#bd3786"
             ],
             [
              0.5555555555555556,
              "#d8576b"
             ],
             [
              0.6666666666666666,
              "#ed7953"
             ],
             [
              0.7777777777777778,
              "#fb9f3a"
             ],
             [
              0.8888888888888888,
              "#fdca26"
             ],
             [
              1,
              "#f0f921"
             ]
            ],
            "type": "surface"
           }
          ],
          "table": [
           {
            "cells": {
             "fill": {
              "color": "#EBF0F8"
             },
             "line": {
              "color": "white"
             }
            },
            "header": {
             "fill": {
              "color": "#C8D4E3"
             },
             "line": {
              "color": "white"
             }
            },
            "type": "table"
           }
          ]
         },
         "layout": {
          "annotationdefaults": {
           "arrowcolor": "#2a3f5f",
           "arrowhead": 0,
           "arrowwidth": 1
          },
          "autotypenumbers": "strict",
          "coloraxis": {
           "colorbar": {
            "outlinewidth": 0,
            "ticks": ""
           }
          },
          "colorscale": {
           "diverging": [
            [
             0,
             "#8e0152"
            ],
            [
             0.1,
             "#c51b7d"
            ],
            [
             0.2,
             "#de77ae"
            ],
            [
             0.3,
             "#f1b6da"
            ],
            [
             0.4,
             "#fde0ef"
            ],
            [
             0.5,
             "#f7f7f7"
            ],
            [
             0.6,
             "#e6f5d0"
            ],
            [
             0.7,
             "#b8e186"
            ],
            [
             0.8,
             "#7fbc41"
            ],
            [
             0.9,
             "#4d9221"
            ],
            [
             1,
             "#276419"
            ]
           ],
           "sequential": [
            [
             0,
             "#0d0887"
            ],
            [
             0.1111111111111111,
             "#46039f"
            ],
            [
             0.2222222222222222,
             "#7201a8"
            ],
            [
             0.3333333333333333,
             "#9c179e"
            ],
            [
             0.4444444444444444,
             "#bd3786"
            ],
            [
             0.5555555555555556,
             "#d8576b"
            ],
            [
             0.6666666666666666,
             "#ed7953"
            ],
            [
             0.7777777777777778,
             "#fb9f3a"
            ],
            [
             0.8888888888888888,
             "#fdca26"
            ],
            [
             1,
             "#f0f921"
            ]
           ],
           "sequentialminus": [
            [
             0,
             "#0d0887"
            ],
            [
             0.1111111111111111,
             "#46039f"
            ],
            [
             0.2222222222222222,
             "#7201a8"
            ],
            [
             0.3333333333333333,
             "#9c179e"
            ],
            [
             0.4444444444444444,
             "#bd3786"
            ],
            [
             0.5555555555555556,
             "#d8576b"
            ],
            [
             0.6666666666666666,
             "#ed7953"
            ],
            [
             0.7777777777777778,
             "#fb9f3a"
            ],
            [
             0.8888888888888888,
             "#fdca26"
            ],
            [
             1,
             "#f0f921"
            ]
           ]
          },
          "colorway": [
           "#636efa",
           "#EF553B",
           "#00cc96",
           "#ab63fa",
           "#FFA15A",
           "#19d3f3",
           "#FF6692",
           "#B6E880",
           "#FF97FF",
           "#FECB52"
          ],
          "font": {
           "color": "#2a3f5f"
          },
          "geo": {
           "bgcolor": "white",
           "lakecolor": "white",
           "landcolor": "#E5ECF6",
           "showlakes": true,
           "showland": true,
           "subunitcolor": "white"
          },
          "hoverlabel": {
           "align": "left"
          },
          "hovermode": "closest",
          "mapbox": {
           "style": "light"
          },
          "paper_bgcolor": "white",
          "plot_bgcolor": "#E5ECF6",
          "polar": {
           "angularaxis": {
            "gridcolor": "white",
            "linecolor": "white",
            "ticks": ""
           },
           "bgcolor": "#E5ECF6",
           "radialaxis": {
            "gridcolor": "white",
            "linecolor": "white",
            "ticks": ""
           }
          },
          "scene": {
           "xaxis": {
            "backgroundcolor": "#E5ECF6",
            "gridcolor": "white",
            "gridwidth": 2,
            "linecolor": "white",
            "showbackground": true,
            "ticks": "",
            "zerolinecolor": "white"
           },
           "yaxis": {
            "backgroundcolor": "#E5ECF6",
            "gridcolor": "white",
            "gridwidth": 2,
            "linecolor": "white",
            "showbackground": true,
            "ticks": "",
            "zerolinecolor": "white"
           },
           "zaxis": {
            "backgroundcolor": "#E5ECF6",
            "gridcolor": "white",
            "gridwidth": 2,
            "linecolor": "white",
            "showbackground": true,
            "ticks": "",
            "zerolinecolor": "white"
           }
          },
          "shapedefaults": {
           "line": {
            "color": "#2a3f5f"
           }
          },
          "ternary": {
           "aaxis": {
            "gridcolor": "white",
            "linecolor": "white",
            "ticks": ""
           },
           "baxis": {
            "gridcolor": "white",
            "linecolor": "white",
            "ticks": ""
           },
           "bgcolor": "#E5ECF6",
           "caxis": {
            "gridcolor": "white",
            "linecolor": "white",
            "ticks": ""
           }
          },
          "title": {
           "x": 0.05
          },
          "xaxis": {
           "automargin": true,
           "gridcolor": "white",
           "linecolor": "white",
           "ticks": "",
           "title": {
            "standoff": 15
           },
           "zerolinecolor": "white",
           "zerolinewidth": 2
          },
          "yaxis": {
           "automargin": true,
           "gridcolor": "white",
           "linecolor": "white",
           "ticks": "",
           "title": {
            "standoff": 15
           },
           "zerolinecolor": "white",
           "zerolinewidth": 2
          }
         }
        },
        "xaxis": {
         "anchor": "y",
         "domain": [
          0,
          1
         ],
         "title": {
          "text": "區"
         }
        },
        "yaxis": {
         "anchor": "x",
         "domain": [
          0,
          1
         ],
         "title": {
          "text": "數量"
         }
        }
       }
      }
     },
     "metadata": {},
     "output_type": "display_data"
    }
   ],
   "source": [
    "px.bar(plt, x=\"區\", y=\"數量\", color=\"來源\")"
   ]
  }
 ],
 "metadata": {
  "kernelspec": {
   "display_name": "python_env",
   "language": "python",
   "name": "python3"
  },
  "language_info": {
   "codemirror_mode": {
    "name": "ipython",
    "version": 3
   },
   "file_extension": ".py",
   "mimetype": "text/x-python",
   "name": "python",
   "nbconvert_exporter": "python",
   "pygments_lexer": "ipython3",
   "version": "3.10.6"
  },
  "orig_nbformat": 4
 },
 "nbformat": 4,
 "nbformat_minor": 2
}
