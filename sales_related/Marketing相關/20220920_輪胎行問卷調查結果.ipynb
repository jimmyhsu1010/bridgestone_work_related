{
 "cells": [
  {
   "cell_type": "code",
   "execution_count": null,
   "id": "3859d75e-aacc-436c-ae37-eb10b84fb4ce",
   "metadata": {},
   "outputs": [],
   "source": [
    "import pandas as pd\n",
    "pd.set_option(\"display.max_columns\", None)\n",
    "# pd.set_option(\"display.max_rows\", None)\n",
    "pd.set_option(\"mode.chained_assignment\", None)\n",
    "import plotly.express as px\n",
    "import tkinter as tk\n",
    "from tkinter import filedialog\n",
    "import re\n"
   ]
  },
  {
   "cell_type": "code",
   "execution_count": null,
   "id": "c0ca22b9-31f3-41cd-b756-32a1f2d0b62d",
   "metadata": {},
   "outputs": [],
   "source": [
    "root = tk.Tk()\n",
    "root.withdraw()\n",
    "file_path = filedialog.askopenfilename()"
   ]
  },
  {
   "cell_type": "code",
   "execution_count": null,
   "id": "b771d9e9-3b7d-4b93-b8b0-849b77477dbc",
   "metadata": {},
   "outputs": [],
   "source": [
    "df = pd.read_excel(file_path,None)"
   ]
  },
  {
   "cell_type": "code",
   "execution_count": null,
   "id": "5d2ca089-96da-4473-9c9d-1c7a9dc221db",
   "metadata": {},
   "outputs": [],
   "source": [
    "df = df[\"20220919_輪胎行問卷結果\"]"
   ]
  },
  {
   "cell_type": "code",
   "execution_count": null,
   "id": "cccc5cb4-094c-456f-aa14-9b8b1017d04b",
   "metadata": {},
   "outputs": [],
   "source": [
    "df = df[['公司統一編號', '公司名稱', '年度輪胎進貨量(所有品牌之TBR大胎輪胎總數，含大陸品牌)', '年度輪胎進貨量(僅大陸品牌)',\n",
    "       '陸品share', '年度輪胎銷售量(所有品牌之TBR大胎輪胎總數，含大陸品牌)', '請問您對於目前普利司通的價格是否滿意',\n",
    "       '請問您目前購買的普利司通315/80R22.5 R150的主要產地為何',\n",
    "       '請問您目前該產地普利司通315/80R22.5 R150的裝到好價格為何（含稅）',\n",
    "       '目前該產地的315/80R22.5 R150進貨價格（含稅）', '實際毛利',\n",
    "       '請問您該產地的315/80R22.5 R150期望的裝到好價格為何（含稅）', '期望毛利',\n",
    "       '為什麼您覺得這樣的期望裝到好價格合理 - 品牌知名度', '為什麼您覺得這樣的期望裝到好價格合理 - C/P值（性價比好）',\n",
    "       '為什麼您覺得這樣的期望裝到好價格合理 - 操控性能', '為什麼您覺得這樣的期望裝到好價格合理 - 品質',\n",
    "       '為什麼您覺得這樣的期望裝到好價格合理 - 售後服務', '請問您目前購買的米其林315/80R22.5 X Multi Z產地為何',\n",
    "       '請問您目前該產地米其林315/80R22.5 X Multi Z的裝到好價格為何（含稅）',\n",
    "       '目前該產地315/80R22.5 X Multi Z進貨價格（含稅）', 'MI實際毛利',\n",
    "       '請問您該產地315/80R22.5 X Multi Z期望的裝到好價格為何（含稅）', 'MI期望毛利',\n",
    "       '為什麼您覺得這樣的裝到好價格合理 - 品牌知名度', '為什麼您覺得這樣的裝到好價格合理 - C/P值（性價比好）',\n",
    "       '為什麼您覺得這樣的裝到好價格合理 - 操控性能', '為什麼您覺得這樣的裝到好價格合理 - 品質',\n",
    "       '為什麼您覺得這樣的裝到好價格合理 - 售後服務', '在目前普利司通和米其林的差價下，客戶選擇米其林的原因',\n",
    "       '請問您目前主要購買的瑪吉斯315/80R22.5的花紋為何', '請問您目前該花紋瑪吉斯315/80R22.5裝到好價格為何（含稅）',\n",
    "       '目前該花紋瑪吉斯315/80R22.5進貨價格（含稅）', 'MA實際毛利',\n",
    "       '請問您該花紋瑪吉斯315/80R22.5期望的裝到好價格為何（含稅）', 'MA期望毛利',\n",
    "       '為什麼您覺得這樣的期望裝到好價格合理 - 品牌知名度_1', '為什麼您覺得這樣的期望裝到好價格合理 - C/P值（性價比好）_2',\n",
    "       '為什麼您覺得這樣的期望裝到好價格合理 - 操控性能_3', '為什麼您覺得這樣的期望裝到好價格合理 - 品質_4',\n",
    "       '為什麼您覺得這樣的期望裝到好價格合理 - 售後服務_5', '在目前普利司通和瑪吉斯的差價下，客戶選擇瑪吉斯的原因',\n",
    "       '客戶選擇大陸品牌的原因', '您對於大陸品牌輪胎的評價 - 品牌知名度', '您對於大陸品牌輪胎的評價 - C/P值（性價比好）',\n",
    "       '您對於大陸品牌輪胎的評價 - 操控性能', '您對於大陸品牌輪胎的評價 - 品質', '您對於大陸品牌輪胎的評價 - 售後服務',\n",
    "       '您覺得市場上合理的價格定位排序應該是如何？', '您覺得下列選項中，哪一項是普利司通最迫切可以協助您提高產品銷售的', '其他',\n",
    "       '請問您希望未來普利司通在報價的時候能在價格表上除了牌價和進價以外，一併提供建議批發價格和建議裝到好的價格', '其他_6']]"
   ]
  },
  {
   "cell_type": "code",
   "execution_count": null,
   "id": "602259fd-7476-4fc3-8be1-e74912777be5",
   "metadata": {},
   "outputs": [],
   "source": [
    "df.columns = ['公司統一編號', 'Company', 'Yearly TTL demand', 'Yearly CN demand',\n",
    "       'CN share', 'Yearly sales volume', 'BS price satisfication',\n",
    "       'BS Origin',\n",
    "       'BS sell-out price',\n",
    "       'BS sell-in price', 'BS Margin',\n",
    "       'Expected BS sell-out price', 'BS Expected margin',\n",
    "       'BS brand awareness', 'BS CP ratio',\n",
    "       'BS Handling-Performance', 'BS Quality',\n",
    "       'BS Aftersales service', 'MI Origin',\n",
    "       'MI sell-out price',\n",
    "       'MI sell-in price', 'MI Margin',\n",
    "       'Expected MI sell-out price', 'MI Expected margin',\n",
    "       'MI brand awareness', 'MI CP ratio',\n",
    "       'MI Handling-Performance', 'MI Quality',\n",
    "       'MI Aftersales service', 'Why MI',\n",
    "       'Maxxis Pattern', 'MA sell-out price',\n",
    "       'MA sell-in price', 'MA Margin',\n",
    "       'Expected MA sell-out price', 'MA Expected margin',\n",
    "       'MA brand awareness', 'MA CP ratio',\n",
    "       'MA Handling-Performance', 'MA Quality',\n",
    "       'MA Aftersales service', 'Why MA',\n",
    "       'Why CN product', 'CN brand awareness', 'CN CP ratio',\n",
    "       'CN Handling-Performance', 'CN Quality', 'CN Aftersales service',\n",
    "       'Price ranking', 'How to help', 'Other',\n",
    "       'Need full price list', 'Opinion']"
   ]
  },
  {
   "cell_type": "code",
   "execution_count": null,
   "id": "dc5718a1-0aa2-4813-aa54-68023ae56597",
   "metadata": {},
   "outputs": [],
   "source": [
    "ranking = df[\"Price ranking\"].str.split(\".\", expand=True).applymap(lambda x: x.replace(\"\\n\", \"\")).applymap(lambda x: re.sub(\"\\d\", \"\", x)).applymap(lambda x: x.strip()).reset_index(drop=True)"
   ]
  },
  {
   "cell_type": "code",
   "execution_count": null,
   "id": "219b17cf-7a5b-4ad7-a464-067ad143795c",
   "metadata": {},
   "outputs": [],
   "source": [
    "ranking.columns = [\"0\", \"1\", \"2\", \"3\", \"4\", \"5\", \"6\", \"7\"]"
   ]
  },
  {
   "cell_type": "code",
   "execution_count": null,
   "id": "c2a4e1b8-31a7-470a-aa01-32dafd8f9211",
   "metadata": {},
   "outputs": [],
   "source": [
    "ranking = ranking[[\"1\", \"2\", \"3\", \"4\", \"5\", \"6\", \"7\"]]"
   ]
  },
  {
   "cell_type": "code",
   "execution_count": null,
   "id": "1f2e803b-2e15-4c2b-ab10-aa3e6604d06f",
   "metadata": {},
   "outputs": [],
   "source": [
    "ranking"
   ]
  },
  {
   "cell_type": "code",
   "execution_count": null,
   "id": "0fabdacb-accb-4243-84e1-02b03ac4718f",
   "metadata": {},
   "outputs": [],
   "source": [
    "def scoring(df, brand_name):\n",
    "    score = ((ranking[\"1\"] == brand_name) * 5 + (ranking[\"2\"] == brand_name) * 4 + (ranking[\"3\"] == brand_name) * 3 + (ranking[\"4\"] == brand_name) * 2 + (ranking[\"5\"] == brand_name) * 1 + (ranking[\"6\"] == brand_name) * 1 + (ranking[\"7\"] == brand_name) * 1).sum()\n",
    "    return score"
   ]
  },
  {
   "cell_type": "code",
   "execution_count": null,
   "id": "600c08bf-9cba-4cf0-aadc-f9b8c9707d41",
   "metadata": {},
   "outputs": [],
   "source": [
    "other_eu_score = scoring(ranking, \"其他歐系品牌\")\n",
    "other_tw_score = scoring(ranking, \"其他台灣品牌\")\n",
    "other_cn_score = scoring(ranking, \"其他大陸品牌\")\n",
    "other_jp_score = scoring(ranking, \"其他日系品牌\")\n",
    "bs_score = scoring(ranking, \"普利司通\")\n",
    "mi_score = scoring(ranking, \"米其林\")\n",
    "ma_score = scoring(ranking, \"瑪吉斯\")"
   ]
  },
  {
   "cell_type": "code",
   "execution_count": null,
   "id": "5845e356-1561-4299-9415-c165467fd2b0",
   "metadata": {},
   "outputs": [],
   "source": [
    "pd.DataFrame([other_eu_score, other_jp_score, other_cn_score, other_tw_score, bs_score, mi_score, ma_score], index=[\"其他歐系品牌\", \"其他日系品牌\", \"其他大陸品牌\", \"其他台灣品牌\", \"普利司通\", \"米其林\", \"瑪吉斯\"], columns=[\"Weighted score\"])"
   ]
  },
  {
   "cell_type": "code",
   "execution_count": null,
   "id": "3c1a83aa-9f93-4c8e-b49c-c9c057ae944d",
   "metadata": {},
   "outputs": [],
   "source": [
    "df[[\"BS brand awareness\", \"BS CP ratio\", \"BS Handling-Performance\", \"BS Quality\", \"BS Aftersales service\"]] = df[[\"BS brand awareness\", \"BS CP ratio\", \"BS Handling-Performance\", \"BS Quality\", \"BS Aftersales service\"]].applymap(lambda x: 5 if x == \"很高\" else 4 if x == \"高\" else 3 if x == \"普通\" else 2 if x == \"低\" else 1)"
   ]
  },
  {
   "cell_type": "code",
   "execution_count": null,
   "id": "df61524c-0d5e-4954-ab5c-4208efd6baa1",
   "metadata": {},
   "outputs": [],
   "source": [
    "df[[\"MI brand awareness\", \"MI CP ratio\", \"MI Handling-Performance\", \"MI Quality\", \"MI Aftersales service\"]] = df[[\"MI brand awareness\", \"MI CP ratio\", \"MI Handling-Performance\", \"MI Quality\", \"MI Aftersales service\"]].applymap(lambda x: 5 if x == \"很高\" else 4 if x == \"高\" else 3 if x == \"普通\" else 2 if x == \"低\" else 1)\n",
    "df[[\"MA brand awareness\", \"MA CP ratio\", \"MA Handling-Performance\", \"MA Quality\", \"MA Aftersales service\"]] = df[[\"MA brand awareness\", \"MA CP ratio\", \"MA Handling-Performance\", \"MA Quality\", \"MA Aftersales service\"]].applymap(lambda x: 5 if x == \"很高\" else 4 if x == \"高\" else 3 if x == \"普通\" else 2 if x == \"低\" else 1)\n",
    "df[[\"CN brand awareness\", \"CN CP ratio\", \"BS Handling-Performance\", \"CN Quality\", \"CN Aftersales service\"]] = df[[\"CN brand awareness\", \"CN CP ratio\", \"CN Handling-Performance\", \"CN Quality\", \"CN Aftersales service\"]].applymap(lambda x: 5 if x == \"很高\" else 4 if x == \"高\" else 3 if x == \"普通\" else 2 if x == \"低\" else 1)"
   ]
  },
  {
   "cell_type": "code",
   "execution_count": null,
   "id": "baa30933-ec3f-429d-a5e6-dc78ff9188c3",
   "metadata": {},
   "outputs": [],
   "source": [
    "bs_rating = df.groupby([\"BS Origin\"])[[\"BS brand awareness\", \"BS CP ratio\", \"BS Handling-Performance\", \"BS Quality\", \"BS Aftersales service\"]].sum().reset_index()\n",
    "bs_rating[['BS brand awareness', 'BS CP ratio', 'BS Handling-Performance', 'BS Quality', 'BS Aftersales service']] = bs_rating.apply(lambda x: x[['BS brand awareness', 'BS CP ratio', 'BS Handling-Performance', 'BS Quality', 'BS Aftersales service']] / 5 if x[\"BS Origin\"] == \"中國\" else x[['BS brand awareness', 'BS CP ratio', 'BS Handling-Performance', 'BS Quality', 'BS Aftersales service']] / 4 if x[\"BS Origin\"] == \"日本\" else x[['BS brand awareness', 'BS CP ratio', 'BS Handling-Performance', 'BS Quality', 'BS Aftersales service']] / 24, axis=1)"
   ]
  },
  {
   "cell_type": "code",
   "execution_count": null,
   "id": "47f8d4cf-d120-405c-ad25-a919414597e3",
   "metadata": {},
   "outputs": [],
   "source": []
  },
  {
   "cell_type": "code",
   "execution_count": null,
   "id": "3dd3e837-5442-4cce-a54b-2f85d8b34c13",
   "metadata": {},
   "outputs": [],
   "source": []
  },
  {
   "cell_type": "code",
   "execution_count": null,
   "id": "517e3ee4-408d-4b3f-9138-2282f4820a1d",
   "metadata": {},
   "outputs": [],
   "source": []
  },
  {
   "cell_type": "code",
   "execution_count": null,
   "id": "52d8c9ba-7d6b-409c-b020-b5d704743ac9",
   "metadata": {},
   "outputs": [],
   "source": [
    "df.groupby([\"BS Origin\"]).size()"
   ]
  },
  {
   "cell_type": "code",
   "execution_count": null,
   "id": "8816bce9-40aa-4201-b49b-97fa4a6da02b",
   "metadata": {},
   "outputs": [],
   "source": []
  }
 ],
 "metadata": {
  "kernelspec": {
   "display_name": "Python 3 (ipykernel)",
   "language": "python",
   "name": "python3"
  },
  "language_info": {
   "codemirror_mode": {
    "name": "ipython",
    "version": 3
   },
   "file_extension": ".py",
   "mimetype": "text/x-python",
   "name": "python",
   "nbconvert_exporter": "python",
   "pygments_lexer": "ipython3",
   "version": "3.10.6"
  }
 },
 "nbformat": 4,
 "nbformat_minor": 5
}
