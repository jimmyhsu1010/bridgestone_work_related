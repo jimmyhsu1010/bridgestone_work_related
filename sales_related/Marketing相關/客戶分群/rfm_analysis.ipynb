{
 "cells": [
  {
   "cell_type": "code",
   "execution_count": 225,
   "id": "390ddf66-19f6-4d6b-9779-b98a6caeb168",
   "metadata": {},
   "outputs": [],
   "source": [
    "import pandas as pd \n",
    "pd.set_option(\"display.max_columns\", None)\n",
    "import warnings\n",
    "warnings.filterwarnings(\"ignore\")\n",
    "import plotly.express as px\n",
    "from datetime import datetime\n",
    "import matplotlib.pyplot as plt\n",
    "import numpy as np\n",
    "from lifetimes import BetaGeoFitter"
   ]
  },
  {
   "attachments": {},
   "cell_type": "markdown",
   "id": "a45bac7b-e299-4182-9f8d-e0df1e3a17be",
   "metadata": {},
   "source": [
    "## RFM客戶分群\n",
    "透過此一方法了解在一段時間內的客戶貢獻度。\n",
    "\n",
    "**三個字母分別表示：**\n",
    "\n",
    "- <font color=\"red\">Recency(R)</font>:表示最後一次購買的時間，現在距離最後一次購買的天數。（表示客戶活著的時間）\n",
    "- <font color=\"red\">Seniority(S)</font>:表示觀測資料節點減掉客戶第一次購買時間。（計算客戶的資歷）\n",
    "- <font color=\"red\">Frequency(F)</font>:客戶購買的頻率，表示在一定的區間內購買的總次數。（表示重購次數）\n",
    "- <font color=\"red\">Monetary(M)</font>:客戶的採購總金額加總，表示客戶的總貢獻度。\n",
    "\n",
    "每個變數都各自由2個項目組成，所以總共可以有**125種**(5X5X5)不一樣的客戶segment。\n",
    "\n",
    "|RFM score     |  Description |\n",
    "|--------------|--------------|\n",
    "|111| <font color=\"red\">***Low value customer***</font>: A customer who is the least recent, has placed the least number of orders, and has spend the lowest amount. You may want to try and reactivate these, or market to them less frenquently|\n",
    "|511| <font color=\"red\">***New customer***</font>: A customer who is the most recent, but has placed the least number of orders, and has spent the lowest amount. To prevent them being one-time customers, these can be targeted to get them to return.|\n",
    "|155| <font color=\"red\">***High value lapsed customer***</font>: A customer who is not recent but who has placed a high number of orders and spent a high amount. It would be worthwhile trying to win these repeat customers back.|\n",
    "|555| <font color=\"red\">***High value customer***</font>: A customer who is the most recent, has placed the highest number of orders, and has spent the greatest amount. These big spenders are very valuable and represent your best customers, so will benefit from preferential treatment to retain them.|\n",
    "\n",
    "\n",
    "RFM的步驟：\n",
    "1. 計算每個客戶的Recency, Frequency, Monetary。\n",
    "2. 增加每個類別的組距（可以使用四分位距）。\n",
    "3. 將客戶總分以降序做排名。<font color=\"yellow\">*客戶總分就是RFM各自的分數*</font>\n",
    "\n",
    "\n"
   ]
  },
  {
   "cell_type": "code",
   "execution_count": 16,
   "id": "768dee8f-d649-4ef2-9482-49201e5edca9",
   "metadata": {},
   "outputs": [],
   "source": [
    "df = pd.read_parquet(r\"D:\\kc.hsu\\OneDrive - Bridgestone\\數據\\銷售數據\\長期銷售記錄\\2017-202208.parquet\")"
   ]
  },
  {
   "cell_type": "code",
   "execution_count": 17,
   "id": "566161af-9411-4d76-93b1-680460c54b0c",
   "metadata": {},
   "outputs": [],
   "source": [
    "df[\"營業額\"] = df[\"銷售數量\"] * df[\"銷貨單價\"]"
   ]
  },
  {
   "cell_type": "code",
   "execution_count": 19,
   "id": "7502b1df",
   "metadata": {},
   "outputs": [],
   "source": [
    "df = df[(df[\"大通路\"] == \"BSSC\") & (~df[\"客戶名稱\"].str.contains(\"普利司通|其他\"))]"
   ]
  },
  {
   "cell_type": "code",
   "execution_count": 20,
   "id": "61b2e93b",
   "metadata": {},
   "outputs": [],
   "source": [
    "present = datetime.now()"
   ]
  },
  {
   "attachments": {},
   "cell_type": "markdown",
   "id": "40acf3bc",
   "metadata": {},
   "source": [
    "## RFM Analysis\n",
    "主要邏輯如下：\n",
    "- 因為每筆訂單有多個項次，所以為了避免重複計算，需要先*groupby*```實際出貨日，訂單單號和客戶名稱```\n",
    "  |實際出貨日|訂單單號|客戶名稱|銷售數量|營業額|\n",
    "  |---|---|---|---|---|\n",
    "- **計算Recency**需要將目前的日期減去客戶最後一張訂單的日期。\n",
    "- **Frequency計算**計算每個客戶的總訂單數。\n",
    "- **Monetary**單純的加總每個客戶的下單金額。\n",
    "\n",
    "```python\n",
    "data.groupby([\"客戶名稱\"]).agg({\"實際出貨日\": lambda date: (present - date.max()).days, \n",
    "                                            \"訂單單號\": lambda x: len(x),\n",
    "                                            \"營業額\": sum})\n",
    "```\n",
    "\n"
   ]
  },
  {
   "cell_type": "code",
   "execution_count": 207,
   "id": "6f1d36a5",
   "metadata": {},
   "outputs": [],
   "source": [
    "# rfm_data = df.groupby([\"實際出貨日\", \"訂單單號\", \"客戶名稱\"])[[\"銷售數量\", \"營業額\"]].sum().reset_index()  # 計算客戶每天訂單筆數\n",
    "rfm_data = df.groupby([\"實際出貨日\", \"客戶名稱\"])[[\"銷售數量\", \"營業額\"]].sum().reset_index() # 計算客戶有幾天下單"
   ]
  },
  {
   "cell_type": "code",
   "execution_count": 208,
   "metadata": {},
   "outputs": [
    {
     "data": {
      "text/html": [
       "<div><div id=8b7684ff-0fb7-4f1d-a421-52ad190bec11 style=\"display:none; background-color:#9D6CFF; color:white; width:200px; height:30px; padding-left:5px; border-radius:4px; flex-direction:row; justify-content:space-around; align-items:center;\" onmouseover=\"this.style.backgroundColor='#BA9BF8'\" onmouseout=\"this.style.backgroundColor='#9D6CFF'\" onclick=\"window.commands?.execute('create-mitosheet-from-dataframe-output');\">See Full Dataframe in Mito</div> <script> if (window.commands?.hasCommand('create-mitosheet-from-dataframe-output')) document.getElementById('8b7684ff-0fb7-4f1d-a421-52ad190bec11').style.display = 'flex' </script> <table border=\"1\" class=\"dataframe\">\n",
       "  <thead>\n",
       "    <tr style=\"text-align: right;\">\n",
       "      <th></th>\n",
       "      <th>實際出貨日</th>\n",
       "      <th>客戶名稱</th>\n",
       "      <th>銷售數量</th>\n",
       "      <th>營業額</th>\n",
       "    </tr>\n",
       "  </thead>\n",
       "  <tbody>\n",
       "    <tr>\n",
       "      <th>0</th>\n",
       "      <td>2017-01-02</td>\n",
       "      <td>中華全佑有限公司</td>\n",
       "      <td>1</td>\n",
       "      <td>6755</td>\n",
       "    </tr>\n",
       "    <tr>\n",
       "      <th>1</th>\n",
       "      <td>2017-01-02</td>\n",
       "      <td>仁翔輪胎行</td>\n",
       "      <td>1</td>\n",
       "      <td>5308</td>\n",
       "    </tr>\n",
       "    <tr>\n",
       "      <th>2</th>\n",
       "      <td>2017-01-02</td>\n",
       "      <td>信興輪胎行</td>\n",
       "      <td>10</td>\n",
       "      <td>97898</td>\n",
       "    </tr>\n",
       "    <tr>\n",
       "      <th>3</th>\n",
       "      <td>2017-01-02</td>\n",
       "      <td>偉特輪胎行</td>\n",
       "      <td>3</td>\n",
       "      <td>15849</td>\n",
       "    </tr>\n",
       "    <tr>\n",
       "      <th>4</th>\n",
       "      <td>2017-01-02</td>\n",
       "      <td>元翔輪胎行</td>\n",
       "      <td>2</td>\n",
       "      <td>10566</td>\n",
       "    </tr>\n",
       "    <tr>\n",
       "      <th>...</th>\n",
       "      <td>...</td>\n",
       "      <td>...</td>\n",
       "      <td>...</td>\n",
       "      <td>...</td>\n",
       "    </tr>\n",
       "    <tr>\n",
       "      <th>59070</th>\n",
       "      <td>2023-07-03</td>\n",
       "      <td>華聯輪胎股份有限公司</td>\n",
       "      <td>1</td>\n",
       "      <td>17441</td>\n",
       "    </tr>\n",
       "    <tr>\n",
       "      <th>59071</th>\n",
       "      <td>2023-07-03</td>\n",
       "      <td>萬里達輪胎行</td>\n",
       "      <td>37</td>\n",
       "      <td>387500</td>\n",
       "    </tr>\n",
       "    <tr>\n",
       "      <th>59072</th>\n",
       "      <td>2023-07-03</td>\n",
       "      <td>葆興輪胎行</td>\n",
       "      <td>6</td>\n",
       "      <td>41688</td>\n",
       "    </tr>\n",
       "    <tr>\n",
       "      <th>59073</th>\n",
       "      <td>2023-07-03</td>\n",
       "      <td>隆興輪胎行</td>\n",
       "      <td>8</td>\n",
       "      <td>139528</td>\n",
       "    </tr>\n",
       "    <tr>\n",
       "      <th>59074</th>\n",
       "      <td>2023-07-03</td>\n",
       "      <td>龍城輪胎行</td>\n",
       "      <td>6</td>\n",
       "      <td>104238</td>\n",
       "    </tr>\n",
       "  </tbody>\n",
       "</table></div>"
      ],
      "text/plain": [
       "           實際出貨日        客戶名稱  銷售數量     營業額\n",
       "0     2017-01-02    中華全佑有限公司     1    6755\n",
       "1     2017-01-02       仁翔輪胎行     1    5308\n",
       "2     2017-01-02       信興輪胎行    10   97898\n",
       "3     2017-01-02       偉特輪胎行     3   15849\n",
       "4     2017-01-02       元翔輪胎行     2   10566\n",
       "...          ...         ...   ...     ...\n",
       "59070 2023-07-03  華聯輪胎股份有限公司     1   17441\n",
       "59071 2023-07-03      萬里達輪胎行    37  387500\n",
       "59072 2023-07-03       葆興輪胎行     6   41688\n",
       "59073 2023-07-03       隆興輪胎行     8  139528\n",
       "59074 2023-07-03       龍城輪胎行     6  104238\n",
       "\n",
       "[59075 rows x 4 columns]"
      ]
     },
     "execution_count": 208,
     "metadata": {},
     "output_type": "execute_result"
    }
   ],
   "source": [
    "rfm_data"
   ]
  },
  {
   "cell_type": "code",
   "execution_count": 209,
   "id": "2d6f8f23",
   "metadata": {},
   "outputs": [],
   "source": [
    "# rfm_data.groupby(\"客戶名稱\").agg({\"實際出貨日\": lambda x: (x.max() - x.min()) / np.timedelta64(1, \"Y\")}) # 計算週期設定"
   ]
  },
  {
   "cell_type": "code",
   "execution_count": 217,
   "id": "f5a17e63",
   "metadata": {},
   "outputs": [],
   "source": [
    "# rfm = rfm_data.groupby([\"客戶名稱\"]).agg({\"實際出貨日\": [lambda date: (present - date.max()).days, lambda date: (present - date.min()).days],\n",
    "#                                             \"訂單單號\": lambda x: len(x),\n",
    "#                                             \"營業額\": sum})\n",
    "# rfm = rfm_data.groupby([\"客戶名稱\"]).agg({\"實際出貨日\": [lambda date: (present - date.max()).days, lambda date: (present - date.min()).days, lambda date: len(date)], \"營業額\": sum})\n",
    "rfm = rfm_data.groupby([\"客戶名稱\"]).agg({\"實際出貨日\": [lambda date: (date.max() - date.min()) / np.timedelta64(1, \"D\"), lambda date: (present - date.min()).days, lambda date: len(date)], \"營業額\": \"mean\"})"
   ]
  },
  {
   "cell_type": "code",
   "execution_count": 218,
   "id": "00d6fdda",
   "metadata": {},
   "outputs": [],
   "source": [
    "rfm.columns = [\"Recency\", \"Seniority\", \"Frequency\", \"Monetary\"]"
   ]
  },
  {
   "cell_type": "code",
   "execution_count": 219,
   "id": "28d6e3de",
   "metadata": {},
   "outputs": [
    {
     "data": {
      "text/html": [
       "<div><div id=09bd34c2-6f44-42e8-885c-10ae559c144c style=\"display:none; background-color:#9D6CFF; color:white; width:200px; height:30px; padding-left:5px; border-radius:4px; flex-direction:row; justify-content:space-around; align-items:center;\" onmouseover=\"this.style.backgroundColor='#BA9BF8'\" onmouseout=\"this.style.backgroundColor='#9D6CFF'\" onclick=\"window.commands?.execute('create-mitosheet-from-dataframe-output');\">See Full Dataframe in Mito</div> <script> if (window.commands?.hasCommand('create-mitosheet-from-dataframe-output')) document.getElementById('09bd34c2-6f44-42e8-885c-10ae559c144c').style.display = 'flex' </script> <table border=\"1\" class=\"dataframe\">\n",
       "  <thead>\n",
       "    <tr style=\"text-align: right;\">\n",
       "      <th></th>\n",
       "      <th>Recency</th>\n",
       "      <th>Seniority</th>\n",
       "      <th>Frequency</th>\n",
       "      <th>Monetary</th>\n",
       "    </tr>\n",
       "    <tr>\n",
       "      <th>客戶名稱</th>\n",
       "      <th></th>\n",
       "      <th></th>\n",
       "      <th></th>\n",
       "      <th></th>\n",
       "    </tr>\n",
       "  </thead>\n",
       "  <tbody>\n",
       "    <tr>\n",
       "      <th>一級棒輪胎有限公司</th>\n",
       "      <td>0.0</td>\n",
       "      <td>2177</td>\n",
       "      <td>1</td>\n",
       "      <td>30784.000000</td>\n",
       "    </tr>\n",
       "    <tr>\n",
       "      <th>一誠輪胎行</th>\n",
       "      <td>0.0</td>\n",
       "      <td>1787</td>\n",
       "      <td>1</td>\n",
       "      <td>59970.000000</td>\n",
       "    </tr>\n",
       "    <tr>\n",
       "      <th>三友輪胎行</th>\n",
       "      <td>131.0</td>\n",
       "      <td>2323</td>\n",
       "      <td>3</td>\n",
       "      <td>22933.333333</td>\n",
       "    </tr>\n",
       "    <tr>\n",
       "      <th>三和輪業有限公司</th>\n",
       "      <td>2365.0</td>\n",
       "      <td>2372</td>\n",
       "      <td>746</td>\n",
       "      <td>289112.394102</td>\n",
       "    </tr>\n",
       "    <tr>\n",
       "      <th>三壹汽車精品有限公司</th>\n",
       "      <td>0.0</td>\n",
       "      <td>387</td>\n",
       "      <td>1</td>\n",
       "      <td>13512.000000</td>\n",
       "    </tr>\n",
       "    <tr>\n",
       "      <th>...</th>\n",
       "      <td>...</td>\n",
       "      <td>...</td>\n",
       "      <td>...</td>\n",
       "      <td>...</td>\n",
       "    </tr>\n",
       "    <tr>\n",
       "      <th>鼎鑫輪胎有限公司</th>\n",
       "      <td>67.0</td>\n",
       "      <td>76</td>\n",
       "      <td>10</td>\n",
       "      <td>109850.600000</td>\n",
       "    </tr>\n",
       "    <tr>\n",
       "      <th>鼎鑫輪胎行</th>\n",
       "      <td>2240.0</td>\n",
       "      <td>2374</td>\n",
       "      <td>423</td>\n",
       "      <td>140618.037825</td>\n",
       "    </tr>\n",
       "    <tr>\n",
       "      <th>龍城輪胎行</th>\n",
       "      <td>2373.0</td>\n",
       "      <td>2376</td>\n",
       "      <td>592</td>\n",
       "      <td>73598.354730</td>\n",
       "    </tr>\n",
       "    <tr>\n",
       "      <th>龍宏龍有限公司</th>\n",
       "      <td>32.0</td>\n",
       "      <td>1888</td>\n",
       "      <td>3</td>\n",
       "      <td>24501.333333</td>\n",
       "    </tr>\n",
       "    <tr>\n",
       "      <th>龍御實業有限公司</th>\n",
       "      <td>0.0</td>\n",
       "      <td>1995</td>\n",
       "      <td>1</td>\n",
       "      <td>12400.000000</td>\n",
       "    </tr>\n",
       "  </tbody>\n",
       "</table></div>"
      ],
      "text/plain": [
       "            Recency  Seniority  Frequency       Monetary\n",
       "客戶名稱                                                    \n",
       "一級棒輪胎有限公司       0.0       2177          1   30784.000000\n",
       "一誠輪胎行           0.0       1787          1   59970.000000\n",
       "三友輪胎行         131.0       2323          3   22933.333333\n",
       "三和輪業有限公司     2365.0       2372        746  289112.394102\n",
       "三壹汽車精品有限公司      0.0        387          1   13512.000000\n",
       "...             ...        ...        ...            ...\n",
       "鼎鑫輪胎有限公司       67.0         76         10  109850.600000\n",
       "鼎鑫輪胎行        2240.0       2374        423  140618.037825\n",
       "龍城輪胎行        2373.0       2376        592   73598.354730\n",
       "龍宏龍有限公司        32.0       1888          3   24501.333333\n",
       "龍御實業有限公司        0.0       1995          1   12400.000000\n",
       "\n",
       "[772 rows x 4 columns]"
      ]
     },
     "execution_count": 219,
     "metadata": {},
     "output_type": "execute_result"
    }
   ],
   "source": [
    "rfm"
   ]
  },
  {
   "attachments": {},
   "cell_type": "markdown",
   "id": "888f2851",
   "metadata": {},
   "source": [
    "## 計算RFM值的分數\n",
    "\n",
    "**定義：** Rencency最低（表示最近還有購買），frequency最高（表示下單頻率很高），Monetary最高——這樣的組合表示為最頂級的客戶。\n",
    "\n",
    "這邊可以使用pandas裡面的qcut()"
   ]
  },
  {
   "cell_type": "code",
   "execution_count": 220,
   "id": "2a341db7",
   "metadata": {},
   "outputs": [],
   "source": [
    "rfm[\"r_quartile\"] = pd.qcut(rfm[\"Recency\"], 5, [\"1\", \"2\", \"3\", \"4\", \"5\"])\n",
    "# rfm[\"f_quartile\"] = rfm[\"Frequency\"].transform(lambda x: pd.qcut(x.rank(method=\"first\"), 4, [\"1\", \"2\", \"3\", \"4\"]))\n",
    "rfm[\"f_quartile\"] = pd.qcut(rfm[\"Frequency\"], 5, [\"1\", \"2\", \"3\", \"4\", \"5\"])\n",
    "rfm[\"m_quartile\"] = pd.qcut(rfm[\"Monetary\"], 5, [\"1\", \"2\", \"3\", \"4\", \"5\"])"
   ]
  },
  {
   "cell_type": "code",
   "execution_count": 221,
   "id": "59e491b2",
   "metadata": {},
   "outputs": [],
   "source": [
    "rfm[\"RFM_Score\"] = rfm[[\"r_quartile\", \"f_quartile\", \"m_quartile\"]].apply(tuple, axis=1)"
   ]
  },
  {
   "cell_type": "code",
   "execution_count": 222,
   "id": "9fed5f63",
   "metadata": {},
   "outputs": [],
   "source": [
    "rfm = rfm.reset_index()"
   ]
  },
  {
   "cell_type": "code",
   "execution_count": 223,
   "id": "6ebd9b15",
   "metadata": {},
   "outputs": [
    {
     "data": {
      "text/html": [
       "<div><div id=bdaeacc7-66db-4e75-b188-67dd32dd536f style=\"display:none; background-color:#9D6CFF; color:white; width:200px; height:30px; padding-left:5px; border-radius:4px; flex-direction:row; justify-content:space-around; align-items:center;\" onmouseover=\"this.style.backgroundColor='#BA9BF8'\" onmouseout=\"this.style.backgroundColor='#9D6CFF'\" onclick=\"window.commands?.execute('create-mitosheet-from-dataframe-output');\">See Full Dataframe in Mito</div> <script> if (window.commands?.hasCommand('create-mitosheet-from-dataframe-output')) document.getElementById('bdaeacc7-66db-4e75-b188-67dd32dd536f').style.display = 'flex' </script> <table border=\"1\" class=\"dataframe\">\n",
       "  <thead>\n",
       "    <tr style=\"text-align: right;\">\n",
       "      <th></th>\n",
       "      <th>客戶名稱</th>\n",
       "      <th>Recency</th>\n",
       "      <th>Seniority</th>\n",
       "      <th>Frequency</th>\n",
       "      <th>Monetary</th>\n",
       "      <th>r_quartile</th>\n",
       "      <th>f_quartile</th>\n",
       "      <th>m_quartile</th>\n",
       "      <th>RFM_Score</th>\n",
       "    </tr>\n",
       "  </thead>\n",
       "  <tbody>\n",
       "    <tr>\n",
       "      <th>0</th>\n",
       "      <td>一級棒輪胎有限公司</td>\n",
       "      <td>0.0</td>\n",
       "      <td>2177</td>\n",
       "      <td>1</td>\n",
       "      <td>30784.000000</td>\n",
       "      <td>1</td>\n",
       "      <td>1</td>\n",
       "      <td>3</td>\n",
       "      <td>(1, 1, 3)</td>\n",
       "    </tr>\n",
       "    <tr>\n",
       "      <th>1</th>\n",
       "      <td>一誠輪胎行</td>\n",
       "      <td>0.0</td>\n",
       "      <td>1787</td>\n",
       "      <td>1</td>\n",
       "      <td>59970.000000</td>\n",
       "      <td>1</td>\n",
       "      <td>1</td>\n",
       "      <td>4</td>\n",
       "      <td>(1, 1, 4)</td>\n",
       "    </tr>\n",
       "    <tr>\n",
       "      <th>2</th>\n",
       "      <td>三友輪胎行</td>\n",
       "      <td>131.0</td>\n",
       "      <td>2323</td>\n",
       "      <td>3</td>\n",
       "      <td>22933.333333</td>\n",
       "      <td>2</td>\n",
       "      <td>2</td>\n",
       "      <td>3</td>\n",
       "      <td>(2, 2, 3)</td>\n",
       "    </tr>\n",
       "    <tr>\n",
       "      <th>3</th>\n",
       "      <td>三和輪業有限公司</td>\n",
       "      <td>2365.0</td>\n",
       "      <td>2372</td>\n",
       "      <td>746</td>\n",
       "      <td>289112.394102</td>\n",
       "      <td>5</td>\n",
       "      <td>5</td>\n",
       "      <td>5</td>\n",
       "      <td>(5, 5, 5)</td>\n",
       "    </tr>\n",
       "    <tr>\n",
       "      <th>4</th>\n",
       "      <td>三壹汽車精品有限公司</td>\n",
       "      <td>0.0</td>\n",
       "      <td>387</td>\n",
       "      <td>1</td>\n",
       "      <td>13512.000000</td>\n",
       "      <td>1</td>\n",
       "      <td>1</td>\n",
       "      <td>2</td>\n",
       "      <td>(1, 1, 2)</td>\n",
       "    </tr>\n",
       "    <tr>\n",
       "      <th>...</th>\n",
       "      <td>...</td>\n",
       "      <td>...</td>\n",
       "      <td>...</td>\n",
       "      <td>...</td>\n",
       "      <td>...</td>\n",
       "      <td>...</td>\n",
       "      <td>...</td>\n",
       "      <td>...</td>\n",
       "      <td>...</td>\n",
       "    </tr>\n",
       "    <tr>\n",
       "      <th>767</th>\n",
       "      <td>鼎鑫輪胎有限公司</td>\n",
       "      <td>67.0</td>\n",
       "      <td>76</td>\n",
       "      <td>10</td>\n",
       "      <td>109850.600000</td>\n",
       "      <td>1</td>\n",
       "      <td>3</td>\n",
       "      <td>5</td>\n",
       "      <td>(1, 3, 5)</td>\n",
       "    </tr>\n",
       "    <tr>\n",
       "      <th>768</th>\n",
       "      <td>鼎鑫輪胎行</td>\n",
       "      <td>2240.0</td>\n",
       "      <td>2374</td>\n",
       "      <td>423</td>\n",
       "      <td>140618.037825</td>\n",
       "      <td>4</td>\n",
       "      <td>5</td>\n",
       "      <td>5</td>\n",
       "      <td>(4, 5, 5)</td>\n",
       "    </tr>\n",
       "    <tr>\n",
       "      <th>769</th>\n",
       "      <td>龍城輪胎行</td>\n",
       "      <td>2373.0</td>\n",
       "      <td>2376</td>\n",
       "      <td>592</td>\n",
       "      <td>73598.354730</td>\n",
       "      <td>5</td>\n",
       "      <td>5</td>\n",
       "      <td>5</td>\n",
       "      <td>(5, 5, 5)</td>\n",
       "    </tr>\n",
       "    <tr>\n",
       "      <th>770</th>\n",
       "      <td>龍宏龍有限公司</td>\n",
       "      <td>32.0</td>\n",
       "      <td>1888</td>\n",
       "      <td>3</td>\n",
       "      <td>24501.333333</td>\n",
       "      <td>1</td>\n",
       "      <td>2</td>\n",
       "      <td>3</td>\n",
       "      <td>(1, 2, 3)</td>\n",
       "    </tr>\n",
       "    <tr>\n",
       "      <th>771</th>\n",
       "      <td>龍御實業有限公司</td>\n",
       "      <td>0.0</td>\n",
       "      <td>1995</td>\n",
       "      <td>1</td>\n",
       "      <td>12400.000000</td>\n",
       "      <td>1</td>\n",
       "      <td>1</td>\n",
       "      <td>1</td>\n",
       "      <td>(1, 1, 1)</td>\n",
       "    </tr>\n",
       "  </tbody>\n",
       "</table></div>"
      ],
      "text/plain": [
       "           客戶名稱  Recency  Seniority  Frequency       Monetary r_quartile  \\\n",
       "0     一級棒輪胎有限公司      0.0       2177          1   30784.000000          1   \n",
       "1         一誠輪胎行      0.0       1787          1   59970.000000          1   \n",
       "2         三友輪胎行    131.0       2323          3   22933.333333          2   \n",
       "3      三和輪業有限公司   2365.0       2372        746  289112.394102          5   \n",
       "4    三壹汽車精品有限公司      0.0        387          1   13512.000000          1   \n",
       "..          ...      ...        ...        ...            ...        ...   \n",
       "767    鼎鑫輪胎有限公司     67.0         76         10  109850.600000          1   \n",
       "768       鼎鑫輪胎行   2240.0       2374        423  140618.037825          4   \n",
       "769       龍城輪胎行   2373.0       2376        592   73598.354730          5   \n",
       "770     龍宏龍有限公司     32.0       1888          3   24501.333333          1   \n",
       "771    龍御實業有限公司      0.0       1995          1   12400.000000          1   \n",
       "\n",
       "    f_quartile m_quartile  RFM_Score  \n",
       "0            1          3  (1, 1, 3)  \n",
       "1            1          4  (1, 1, 4)  \n",
       "2            2          3  (2, 2, 3)  \n",
       "3            5          5  (5, 5, 5)  \n",
       "4            1          2  (1, 1, 2)  \n",
       "..         ...        ...        ...  \n",
       "767          3          5  (1, 3, 5)  \n",
       "768          5          5  (4, 5, 5)  \n",
       "769          5          5  (5, 5, 5)  \n",
       "770          2          3  (1, 2, 3)  \n",
       "771          1          1  (1, 1, 1)  \n",
       "\n",
       "[772 rows x 9 columns]"
      ]
     },
     "execution_count": 223,
     "metadata": {},
     "output_type": "execute_result"
    }
   ],
   "source": [
    "rfm"
   ]
  },
  {
   "cell_type": "code",
   "execution_count": 175,
   "id": "2c9a1fd2",
   "metadata": {},
   "outputs": [
    {
     "data": {
      "text/html": [
       "<div><div id=57c16d27-9fcf-4570-9c1e-f0c1cb7c16e2 style=\"display:none; background-color:#9D6CFF; color:white; width:200px; height:30px; padding-left:5px; border-radius:4px; flex-direction:row; justify-content:space-around; align-items:center;\" onmouseover=\"this.style.backgroundColor='#BA9BF8'\" onmouseout=\"this.style.backgroundColor='#9D6CFF'\" onclick=\"window.commands?.execute('create-mitosheet-from-dataframe-output');\">See Full Dataframe in Mito</div> <script> if (window.commands?.hasCommand('create-mitosheet-from-dataframe-output')) document.getElementById('57c16d27-9fcf-4570-9c1e-f0c1cb7c16e2').style.display = 'flex' </script> <table border=\"1\" class=\"dataframe\">\n",
       "  <thead>\n",
       "    <tr style=\"text-align: right;\">\n",
       "      <th></th>\n",
       "      <th>Frequency</th>\n",
       "      <th>Monetary</th>\n",
       "    </tr>\n",
       "  </thead>\n",
       "  <tbody>\n",
       "    <tr>\n",
       "      <th>Frequency</th>\n",
       "      <td>1.000000</td>\n",
       "      <td>0.862415</td>\n",
       "    </tr>\n",
       "    <tr>\n",
       "      <th>Monetary</th>\n",
       "      <td>0.862415</td>\n",
       "      <td>1.000000</td>\n",
       "    </tr>\n",
       "  </tbody>\n",
       "</table></div>"
      ],
      "text/plain": [
       "           Frequency  Monetary\n",
       "Frequency   1.000000  0.862415\n",
       "Monetary    0.862415  1.000000"
      ]
     },
     "execution_count": 175,
     "metadata": {},
     "output_type": "execute_result"
    }
   ],
   "source": [
    "# 計算交易次數和金額的相關性\n",
    "rfm[[\"Frequency\", \"Monetary\"]].corr()"
   ]
  },
  {
   "cell_type": "code",
   "execution_count": 229,
   "id": "ed27571f",
   "metadata": {},
   "outputs": [],
   "source": [
    "bgf = BetaGeoFitter(penalizer_coef=0.05)"
   ]
  },
  {
   "cell_type": "code",
   "execution_count": 230,
   "id": "c4003e95",
   "metadata": {},
   "outputs": [
    {
     "data": {
      "text/plain": [
       "<lifetimes.BetaGeoFitter: fitted with 772 subjects, a: 0.11, alpha: 7.94, b: 0.53, r: 0.57>"
      ]
     },
     "execution_count": 230,
     "metadata": {},
     "output_type": "execute_result"
    }
   ],
   "source": [
    "bgf.fit(rfm[\"Frequency\"], rfm[\"Recency\"], rfm[\"Seniority\"])"
   ]
  },
  {
   "cell_type": "code",
   "execution_count": 231,
   "id": "ae71b79a",
   "metadata": {},
   "outputs": [
    {
     "data": {
      "text/html": [
       "<div><div id=4ee352de-94e6-4c16-a9d4-88005a90ffb3 style=\"display:none; background-color:#9D6CFF; color:white; width:200px; height:30px; padding-left:5px; border-radius:4px; flex-direction:row; justify-content:space-around; align-items:center;\" onmouseover=\"this.style.backgroundColor='#BA9BF8'\" onmouseout=\"this.style.backgroundColor='#9D6CFF'\" onclick=\"window.commands?.execute('create-mitosheet-from-dataframe-output');\">See Full Dataframe in Mito</div> <script> if (window.commands?.hasCommand('create-mitosheet-from-dataframe-output')) document.getElementById('4ee352de-94e6-4c16-a9d4-88005a90ffb3').style.display = 'flex' </script> <table border=\"1\" class=\"dataframe\">\n",
       "  <thead>\n",
       "    <tr style=\"text-align: right;\">\n",
       "      <th></th>\n",
       "      <th>coef</th>\n",
       "      <th>se(coef)</th>\n",
       "      <th>lower 95% bound</th>\n",
       "      <th>upper 95% bound</th>\n",
       "    </tr>\n",
       "  </thead>\n",
       "  <tbody>\n",
       "    <tr>\n",
       "      <th>r</th>\n",
       "      <td>0.573415</td>\n",
       "      <td>0.028582</td>\n",
       "      <td>0.517394</td>\n",
       "      <td>0.629436</td>\n",
       "    </tr>\n",
       "    <tr>\n",
       "      <th>alpha</th>\n",
       "      <td>7.942968</td>\n",
       "      <td>0.786630</td>\n",
       "      <td>6.401173</td>\n",
       "      <td>9.484762</td>\n",
       "    </tr>\n",
       "    <tr>\n",
       "      <th>a</th>\n",
       "      <td>0.114612</td>\n",
       "      <td>0.008509</td>\n",
       "      <td>0.097935</td>\n",
       "      <td>0.131290</td>\n",
       "    </tr>\n",
       "    <tr>\n",
       "      <th>b</th>\n",
       "      <td>0.531003</td>\n",
       "      <td>0.053726</td>\n",
       "      <td>0.425700</td>\n",
       "      <td>0.636305</td>\n",
       "    </tr>\n",
       "  </tbody>\n",
       "</table></div>"
      ],
      "text/plain": [
       "           coef  se(coef)  lower 95% bound  upper 95% bound\n",
       "r      0.573415  0.028582         0.517394         0.629436\n",
       "alpha  7.942968  0.786630         6.401173         9.484762\n",
       "a      0.114612  0.008509         0.097935         0.131290\n",
       "b      0.531003  0.053726         0.425700         0.636305"
      ]
     },
     "execution_count": 231,
     "metadata": {},
     "output_type": "execute_result"
    }
   ],
   "source": [
    "bgf.summary"
   ]
  },
  {
   "cell_type": "code",
   "execution_count": 236,
   "id": "7230d485",
   "metadata": {},
   "outputs": [],
   "source": [
    "# Estimate the expected number of purchases in an arbitrary future time period...\n",
    "t = 30 # days\n",
    "rfm[\"predicted_purchases\"] = bgf.conditional_expected_number_of_purchases_up_to_time(t, rfm[\"Frequency\"], rfm[\"Recency\"], rfm[\"Seniority\"])"
   ]
  },
  {
   "cell_type": "code",
   "execution_count": 241,
   "id": "5e2bfe6a",
   "metadata": {},
   "outputs": [],
   "source": [
    "rfm[\"predicted_purchases\"] = rfm[\"predicted_purchases\"].map(lambda x: \"%.6f\" % x)"
   ]
  },
  {
   "cell_type": "code",
   "execution_count": 242,
   "id": "d0e57ed5",
   "metadata": {},
   "outputs": [],
   "source": [
    "# predict the probability of the sutomer still being \"alive\"\n",
    "rfm[\"alive_prob\"] = bgf.conditional_probability_alive(rfm[\"Frequency\"], rfm[\"Recency\"], rfm[\"Seniority\"])\n",
    "rfm[\"alive_prob\"] = rfm[\"alive_prob\"].map(lambda x: \"%.6f\" % x)"
   ]
  },
  {
   "cell_type": "code",
   "execution_count": 243,
   "id": "64ec3042",
   "metadata": {},
   "outputs": [
    {
     "data": {
      "text/html": [
       "<div><div id=6f2a4ce4-2146-4f06-853b-55a880d9a673 style=\"display:none; background-color:#9D6CFF; color:white; width:200px; height:30px; padding-left:5px; border-radius:4px; flex-direction:row; justify-content:space-around; align-items:center;\" onmouseover=\"this.style.backgroundColor='#BA9BF8'\" onmouseout=\"this.style.backgroundColor='#9D6CFF'\" onclick=\"window.commands?.execute('create-mitosheet-from-dataframe-output');\">See Full Dataframe in Mito</div> <script> if (window.commands?.hasCommand('create-mitosheet-from-dataframe-output')) document.getElementById('6f2a4ce4-2146-4f06-853b-55a880d9a673').style.display = 'flex' </script> <table border=\"1\" class=\"dataframe\">\n",
       "  <thead>\n",
       "    <tr style=\"text-align: right;\">\n",
       "      <th></th>\n",
       "      <th>客戶名稱</th>\n",
       "      <th>Recency</th>\n",
       "      <th>Seniority</th>\n",
       "      <th>Frequency</th>\n",
       "      <th>Monetary</th>\n",
       "      <th>r_quartile</th>\n",
       "      <th>f_quartile</th>\n",
       "      <th>m_quartile</th>\n",
       "      <th>RFM_Score</th>\n",
       "      <th>predicted_purchases</th>\n",
       "      <th>alive_prob</th>\n",
       "    </tr>\n",
       "  </thead>\n",
       "  <tbody>\n",
       "    <tr>\n",
       "      <th>0</th>\n",
       "      <td>一級棒輪胎有限公司</td>\n",
       "      <td>0.0</td>\n",
       "      <td>2177</td>\n",
       "      <td>1</td>\n",
       "      <td>30784.000000</td>\n",
       "      <td>1</td>\n",
       "      <td>1</td>\n",
       "      <td>3</td>\n",
       "      <td>(1, 1, 3)</td>\n",
       "      <td>0.000014</td>\n",
       "      <td>0.000672</td>\n",
       "    </tr>\n",
       "    <tr>\n",
       "      <th>1</th>\n",
       "      <td>一誠輪胎行</td>\n",
       "      <td>0.0</td>\n",
       "      <td>1787</td>\n",
       "      <td>1</td>\n",
       "      <td>59970.000000</td>\n",
       "      <td>1</td>\n",
       "      <td>1</td>\n",
       "      <td>4</td>\n",
       "      <td>(1, 1, 4)</td>\n",
       "      <td>0.000024</td>\n",
       "      <td>0.000915</td>\n",
       "    </tr>\n",
       "    <tr>\n",
       "      <th>2</th>\n",
       "      <td>三友輪胎行</td>\n",
       "      <td>131.0</td>\n",
       "      <td>2323</td>\n",
       "      <td>3</td>\n",
       "      <td>22933.333333</td>\n",
       "      <td>2</td>\n",
       "      <td>2</td>\n",
       "      <td>3</td>\n",
       "      <td>(2, 2, 3)</td>\n",
       "      <td>0.000043</td>\n",
       "      <td>0.000927</td>\n",
       "    </tr>\n",
       "    <tr>\n",
       "      <th>3</th>\n",
       "      <td>三和輪業有限公司</td>\n",
       "      <td>2365.0</td>\n",
       "      <td>2372</td>\n",
       "      <td>746</td>\n",
       "      <td>289112.394102</td>\n",
       "      <td>5</td>\n",
       "      <td>5</td>\n",
       "      <td>5</td>\n",
       "      <td>(5, 5, 5)</td>\n",
       "      <td>9.391022</td>\n",
       "      <td>0.998616</td>\n",
       "    </tr>\n",
       "    <tr>\n",
       "      <th>4</th>\n",
       "      <td>三壹汽車精品有限公司</td>\n",
       "      <td>0.0</td>\n",
       "      <td>387</td>\n",
       "      <td>1</td>\n",
       "      <td>13512.000000</td>\n",
       "      <td>1</td>\n",
       "      <td>1</td>\n",
       "      <td>2</td>\n",
       "      <td>(1, 1, 2)</td>\n",
       "      <td>0.001166</td>\n",
       "      <td>0.009822</td>\n",
       "    </tr>\n",
       "    <tr>\n",
       "      <th>...</th>\n",
       "      <td>...</td>\n",
       "      <td>...</td>\n",
       "      <td>...</td>\n",
       "      <td>...</td>\n",
       "      <td>...</td>\n",
       "      <td>...</td>\n",
       "      <td>...</td>\n",
       "      <td>...</td>\n",
       "      <td>...</td>\n",
       "      <td>...</td>\n",
       "      <td>...</td>\n",
       "    </tr>\n",
       "    <tr>\n",
       "      <th>767</th>\n",
       "      <td>鼎鑫輪胎有限公司</td>\n",
       "      <td>67.0</td>\n",
       "      <td>76</td>\n",
       "      <td>10</td>\n",
       "      <td>109850.600000</td>\n",
       "      <td>1</td>\n",
       "      <td>3</td>\n",
       "      <td>5</td>\n",
       "      <td>(1, 3, 5)</td>\n",
       "      <td>3.562613</td>\n",
       "      <td>0.961640</td>\n",
       "    </tr>\n",
       "    <tr>\n",
       "      <th>768</th>\n",
       "      <td>鼎鑫輪胎行</td>\n",
       "      <td>2240.0</td>\n",
       "      <td>2374</td>\n",
       "      <td>423</td>\n",
       "      <td>140618.037825</td>\n",
       "      <td>4</td>\n",
       "      <td>5</td>\n",
       "      <td>5</td>\n",
       "      <td>(4, 5, 5)</td>\n",
       "      <td>0.000000</td>\n",
       "      <td>0.000000</td>\n",
       "    </tr>\n",
       "    <tr>\n",
       "      <th>769</th>\n",
       "      <td>龍城輪胎行</td>\n",
       "      <td>2373.0</td>\n",
       "      <td>2376</td>\n",
       "      <td>592</td>\n",
       "      <td>73598.354730</td>\n",
       "      <td>5</td>\n",
       "      <td>5</td>\n",
       "      <td>5</td>\n",
       "      <td>(5, 5, 5)</td>\n",
       "      <td>7.448654</td>\n",
       "      <td>0.999592</td>\n",
       "    </tr>\n",
       "    <tr>\n",
       "      <th>770</th>\n",
       "      <td>龍宏龍有限公司</td>\n",
       "      <td>32.0</td>\n",
       "      <td>1888</td>\n",
       "      <td>3</td>\n",
       "      <td>24501.333333</td>\n",
       "      <td>1</td>\n",
       "      <td>2</td>\n",
       "      <td>3</td>\n",
       "      <td>(1, 2, 3)</td>\n",
       "      <td>0.000001</td>\n",
       "      <td>0.000023</td>\n",
       "    </tr>\n",
       "    <tr>\n",
       "      <th>771</th>\n",
       "      <td>龍御實業有限公司</td>\n",
       "      <td>0.0</td>\n",
       "      <td>1995</td>\n",
       "      <td>1</td>\n",
       "      <td>12400.000000</td>\n",
       "      <td>1</td>\n",
       "      <td>1</td>\n",
       "      <td>1</td>\n",
       "      <td>(1, 1, 1)</td>\n",
       "      <td>0.000018</td>\n",
       "      <td>0.000770</td>\n",
       "    </tr>\n",
       "  </tbody>\n",
       "</table></div>"
      ],
      "text/plain": [
       "           客戶名稱  Recency  Seniority  Frequency       Monetary r_quartile  \\\n",
       "0     一級棒輪胎有限公司      0.0       2177          1   30784.000000          1   \n",
       "1         一誠輪胎行      0.0       1787          1   59970.000000          1   \n",
       "2         三友輪胎行    131.0       2323          3   22933.333333          2   \n",
       "3      三和輪業有限公司   2365.0       2372        746  289112.394102          5   \n",
       "4    三壹汽車精品有限公司      0.0        387          1   13512.000000          1   \n",
       "..          ...      ...        ...        ...            ...        ...   \n",
       "767    鼎鑫輪胎有限公司     67.0         76         10  109850.600000          1   \n",
       "768       鼎鑫輪胎行   2240.0       2374        423  140618.037825          4   \n",
       "769       龍城輪胎行   2373.0       2376        592   73598.354730          5   \n",
       "770     龍宏龍有限公司     32.0       1888          3   24501.333333          1   \n",
       "771    龍御實業有限公司      0.0       1995          1   12400.000000          1   \n",
       "\n",
       "    f_quartile m_quartile  RFM_Score predicted_purchases alive_prob  \n",
       "0            1          3  (1, 1, 3)            0.000014   0.000672  \n",
       "1            1          4  (1, 1, 4)            0.000024   0.000915  \n",
       "2            2          3  (2, 2, 3)            0.000043   0.000927  \n",
       "3            5          5  (5, 5, 5)            9.391022   0.998616  \n",
       "4            1          2  (1, 1, 2)            0.001166   0.009822  \n",
       "..         ...        ...        ...                 ...        ...  \n",
       "767          3          5  (1, 3, 5)            3.562613   0.961640  \n",
       "768          5          5  (4, 5, 5)            0.000000   0.000000  \n",
       "769          5          5  (5, 5, 5)            7.448654   0.999592  \n",
       "770          2          3  (1, 2, 3)            0.000001   0.000023  \n",
       "771          1          1  (1, 1, 1)            0.000018   0.000770  \n",
       "\n",
       "[772 rows x 11 columns]"
      ]
     },
     "execution_count": 243,
     "metadata": {},
     "output_type": "execute_result"
    }
   ],
   "source": [
    "rfm"
   ]
  },
  {
   "cell_type": "code",
   "execution_count": 244,
   "id": "f397a554",
   "metadata": {},
   "outputs": [
    {
     "data": {
      "text/plain": [
       "<AxesSubplot: title={'center': 'Frequency of Repeat Transactions'}, xlabel='Number of Calibration Period Transactions', ylabel='Customers'>"
      ]
     },
     "execution_count": 244,
     "metadata": {},
     "output_type": "execute_result"
    },
    {
     "data": {
      "image/png": "[encoded data removed]",
      "text/plain": [
       "<Figure size 432x288 with 1 Axes>"
      ]
     },
     "metadata": {
      "needs_background": "light"
     },
     "output_type": "display_data"
    }
   ],
   "source": [
    "from lifetimes.plotting import plot_period_transactions\n",
    "\n",
    "plot_period_transactions(bgf)"
   ]
  },
  {
   "cell_type": "code",
   "execution_count": 245,
   "id": "f1d3f38a",
   "metadata": {},
   "outputs": [
    {
     "data": {
      "text/plain": [
       "<lifetimes.GammaGammaFitter: fitted with 772 subjects, p: 1.76, q: 2.07, v: 33271.52>"
      ]
     },
     "execution_count": 245,
     "metadata": {},
     "output_type": "execute_result"
    }
   ],
   "source": [
    "from lifetimes import GammaGammaFitter\n",
    "\n",
    "ggf = GammaGammaFitter(penalizer_coef = 0)\n",
    "ggf.fit(rfm['Frequency'],\n",
    "        rfm['Monetary'])"
   ]
  },
  {
   "cell_type": "code",
   "execution_count": 247,
   "id": "893b4bb4",
   "metadata": {},
   "outputs": [],
   "source": [
    "rfm[\"CLV\"] = ggf.conditional_expected_average_profit(rfm[\"Frequency\"], rfm[\"Monetary\"])"
   ]
  },
  {
   "cell_type": "code",
   "execution_count": 248,
   "id": "e378f6b8",
   "metadata": {},
   "outputs": [
    {
     "data": {
      "text/html": [
       "<div><div id=e1e2a2ca-a6b8-4a99-a3d9-c09b426ac1e0 style=\"display:none; background-color:#9D6CFF; color:white; width:200px; height:30px; padding-left:5px; border-radius:4px; flex-direction:row; justify-content:space-around; align-items:center;\" onmouseover=\"this.style.backgroundColor='#BA9BF8'\" onmouseout=\"this.style.backgroundColor='#9D6CFF'\" onclick=\"window.commands?.execute('create-mitosheet-from-dataframe-output');\">See Full Dataframe in Mito</div> <script> if (window.commands?.hasCommand('create-mitosheet-from-dataframe-output')) document.getElementById('e1e2a2ca-a6b8-4a99-a3d9-c09b426ac1e0').style.display = 'flex' </script> <table border=\"1\" class=\"dataframe\">\n",
       "  <thead>\n",
       "    <tr style=\"text-align: right;\">\n",
       "      <th></th>\n",
       "      <th>客戶名稱</th>\n",
       "      <th>Recency</th>\n",
       "      <th>Seniority</th>\n",
       "      <th>Frequency</th>\n",
       "      <th>Monetary</th>\n",
       "      <th>r_quartile</th>\n",
       "      <th>f_quartile</th>\n",
       "      <th>m_quartile</th>\n",
       "      <th>RFM_Score</th>\n",
       "      <th>predicted_purchases</th>\n",
       "      <th>alive_prob</th>\n",
       "      <th>CLV</th>\n",
       "    </tr>\n",
       "  </thead>\n",
       "  <tbody>\n",
       "    <tr>\n",
       "      <th>0</th>\n",
       "      <td>一級棒輪胎有限公司</td>\n",
       "      <td>0.0</td>\n",
       "      <td>2177</td>\n",
       "      <td>1</td>\n",
       "      <td>30784.000000</td>\n",
       "      <td>1</td>\n",
       "      <td>1</td>\n",
       "      <td>3</td>\n",
       "      <td>(1, 1, 3)</td>\n",
       "      <td>0.000014</td>\n",
       "      <td>0.000672</td>\n",
       "      <td>39883.397570</td>\n",
       "    </tr>\n",
       "    <tr>\n",
       "      <th>1</th>\n",
       "      <td>一誠輪胎行</td>\n",
       "      <td>0.0</td>\n",
       "      <td>1787</td>\n",
       "      <td>1</td>\n",
       "      <td>59970.000000</td>\n",
       "      <td>1</td>\n",
       "      <td>1</td>\n",
       "      <td>4</td>\n",
       "      <td>(1, 1, 4)</td>\n",
       "      <td>0.000024</td>\n",
       "      <td>0.000915</td>\n",
       "      <td>58055.707960</td>\n",
       "    </tr>\n",
       "    <tr>\n",
       "      <th>2</th>\n",
       "      <td>三友輪胎行</td>\n",
       "      <td>131.0</td>\n",
       "      <td>2323</td>\n",
       "      <td>3</td>\n",
       "      <td>22933.333333</td>\n",
       "      <td>2</td>\n",
       "      <td>2</td>\n",
       "      <td>3</td>\n",
       "      <td>(2, 2, 3)</td>\n",
       "      <td>0.000043</td>\n",
       "      <td>0.000927</td>\n",
       "      <td>28305.475687</td>\n",
       "    </tr>\n",
       "    <tr>\n",
       "      <th>3</th>\n",
       "      <td>三和輪業有限公司</td>\n",
       "      <td>2365.0</td>\n",
       "      <td>2372</td>\n",
       "      <td>746</td>\n",
       "      <td>289112.394102</td>\n",
       "      <td>5</td>\n",
       "      <td>5</td>\n",
       "      <td>5</td>\n",
       "      <td>(5, 5, 5)</td>\n",
       "      <td>9.391022</td>\n",
       "      <td>0.998616</td>\n",
       "      <td>288922.266013</td>\n",
       "    </tr>\n",
       "    <tr>\n",
       "      <th>4</th>\n",
       "      <td>三壹汽車精品有限公司</td>\n",
       "      <td>0.0</td>\n",
       "      <td>387</td>\n",
       "      <td>1</td>\n",
       "      <td>13512.000000</td>\n",
       "      <td>1</td>\n",
       "      <td>1</td>\n",
       "      <td>2</td>\n",
       "      <td>(1, 1, 2)</td>\n",
       "      <td>0.001166</td>\n",
       "      <td>0.009822</td>\n",
       "      <td>29129.195382</td>\n",
       "    </tr>\n",
       "    <tr>\n",
       "      <th>...</th>\n",
       "      <td>...</td>\n",
       "      <td>...</td>\n",
       "      <td>...</td>\n",
       "      <td>...</td>\n",
       "      <td>...</td>\n",
       "      <td>...</td>\n",
       "      <td>...</td>\n",
       "      <td>...</td>\n",
       "      <td>...</td>\n",
       "      <td>...</td>\n",
       "      <td>...</td>\n",
       "      <td>...</td>\n",
       "    </tr>\n",
       "    <tr>\n",
       "      <th>767</th>\n",
       "      <td>鼎鑫輪胎有限公司</td>\n",
       "      <td>67.0</td>\n",
       "      <td>76</td>\n",
       "      <td>10</td>\n",
       "      <td>109850.600000</td>\n",
       "      <td>1</td>\n",
       "      <td>3</td>\n",
       "      <td>5</td>\n",
       "      <td>(1, 3, 5)</td>\n",
       "      <td>3.562613</td>\n",
       "      <td>0.961640</td>\n",
       "      <td>106710.359040</td>\n",
       "    </tr>\n",
       "    <tr>\n",
       "      <th>768</th>\n",
       "      <td>鼎鑫輪胎行</td>\n",
       "      <td>2240.0</td>\n",
       "      <td>2374</td>\n",
       "      <td>423</td>\n",
       "      <td>140618.037825</td>\n",
       "      <td>4</td>\n",
       "      <td>5</td>\n",
       "      <td>5</td>\n",
       "      <td>(4, 5, 5)</td>\n",
       "      <td>0.000000</td>\n",
       "      <td>0.000000</td>\n",
       "      <td>140495.393615</td>\n",
       "    </tr>\n",
       "    <tr>\n",
       "      <th>769</th>\n",
       "      <td>龍城輪胎行</td>\n",
       "      <td>2373.0</td>\n",
       "      <td>2376</td>\n",
       "      <td>592</td>\n",
       "      <td>73598.354730</td>\n",
       "      <td>5</td>\n",
       "      <td>5</td>\n",
       "      <td>5</td>\n",
       "      <td>(5, 5, 5)</td>\n",
       "      <td>7.448654</td>\n",
       "      <td>0.999592</td>\n",
       "      <td>73579.228665</td>\n",
       "    </tr>\n",
       "    <tr>\n",
       "      <th>770</th>\n",
       "      <td>龍宏龍有限公司</td>\n",
       "      <td>32.0</td>\n",
       "      <td>1888</td>\n",
       "      <td>3</td>\n",
       "      <td>24501.333333</td>\n",
       "      <td>1</td>\n",
       "      <td>2</td>\n",
       "      <td>3</td>\n",
       "      <td>(1, 2, 3)</td>\n",
       "      <td>0.000001</td>\n",
       "      <td>0.000023</td>\n",
       "      <td>29609.942928</td>\n",
       "    </tr>\n",
       "    <tr>\n",
       "      <th>771</th>\n",
       "      <td>龍御實業有限公司</td>\n",
       "      <td>0.0</td>\n",
       "      <td>1995</td>\n",
       "      <td>1</td>\n",
       "      <td>12400.000000</td>\n",
       "      <td>1</td>\n",
       "      <td>1</td>\n",
       "      <td>1</td>\n",
       "      <td>(1, 1, 1)</td>\n",
       "      <td>0.000018</td>\n",
       "      <td>0.000770</td>\n",
       "      <td>28436.822012</td>\n",
       "    </tr>\n",
       "  </tbody>\n",
       "</table></div>"
      ],
      "text/plain": [
       "           客戶名稱  Recency  Seniority  Frequency       Monetary r_quartile  \\\n",
       "0     一級棒輪胎有限公司      0.0       2177          1   30784.000000          1   \n",
       "1         一誠輪胎行      0.0       1787          1   59970.000000          1   \n",
       "2         三友輪胎行    131.0       2323          3   22933.333333          2   \n",
       "3      三和輪業有限公司   2365.0       2372        746  289112.394102          5   \n",
       "4    三壹汽車精品有限公司      0.0        387          1   13512.000000          1   \n",
       "..          ...      ...        ...        ...            ...        ...   \n",
       "767    鼎鑫輪胎有限公司     67.0         76         10  109850.600000          1   \n",
       "768       鼎鑫輪胎行   2240.0       2374        423  140618.037825          4   \n",
       "769       龍城輪胎行   2373.0       2376        592   73598.354730          5   \n",
       "770     龍宏龍有限公司     32.0       1888          3   24501.333333          1   \n",
       "771    龍御實業有限公司      0.0       1995          1   12400.000000          1   \n",
       "\n",
       "    f_quartile m_quartile  RFM_Score predicted_purchases alive_prob  \\\n",
       "0            1          3  (1, 1, 3)            0.000014   0.000672   \n",
       "1            1          4  (1, 1, 4)            0.000024   0.000915   \n",
       "2            2          3  (2, 2, 3)            0.000043   0.000927   \n",
       "3            5          5  (5, 5, 5)            9.391022   0.998616   \n",
       "4            1          2  (1, 1, 2)            0.001166   0.009822   \n",
       "..         ...        ...        ...                 ...        ...   \n",
       "767          3          5  (1, 3, 5)            3.562613   0.961640   \n",
       "768          5          5  (4, 5, 5)            0.000000   0.000000   \n",
       "769          5          5  (5, 5, 5)            7.448654   0.999592   \n",
       "770          2          3  (1, 2, 3)            0.000001   0.000023   \n",
       "771          1          1  (1, 1, 1)            0.000018   0.000770   \n",
       "\n",
       "               CLV  \n",
       "0     39883.397570  \n",
       "1     58055.707960  \n",
       "2     28305.475687  \n",
       "3    288922.266013  \n",
       "4     29129.195382  \n",
       "..             ...  \n",
       "767  106710.359040  \n",
       "768  140495.393615  \n",
       "769   73579.228665  \n",
       "770   29609.942928  \n",
       "771   28436.822012  \n",
       "\n",
       "[772 rows x 12 columns]"
      ]
     },
     "execution_count": 248,
     "metadata": {},
     "output_type": "execute_result"
    }
   ],
   "source": [
    "rfm"
   ]
  },
  {
   "cell_type": "code",
   "execution_count": null,
   "id": "04ce6bbc",
   "metadata": {},
   "outputs": [],
   "source": []
  },
  {
   "cell_type": "code",
   "execution_count": 277,
   "id": "211d22aa",
   "metadata": {},
   "outputs": [],
   "source": [
    "cus_sales_dict = dict(zip(df[\"客戶名稱\"], df[\"業務名稱\"]))"
   ]
  },
  {
   "cell_type": "code",
   "execution_count": 278,
   "id": "64930771",
   "metadata": {},
   "outputs": [],
   "source": [
    "rfm[\"業務名稱\"] = rfm[\"客戶名稱\"].map(cus_sales_dict)"
   ]
  },
  {
   "cell_type": "code",
   "execution_count": 279,
   "id": "dfeb948e",
   "metadata": {},
   "outputs": [],
   "source": [
    "rfm[\"總分\"] = rfm[\"RFM_Score\"].map(lambda x: int(x[0]) + int(x[1]) + int(x[-1]))"
   ]
  },
  {
   "cell_type": "code",
   "execution_count": 280,
   "id": "86361d52",
   "metadata": {},
   "outputs": [],
   "source": [
    "rfm[\"等級\"] = pd.qcut(rfm[\"總分\"], [0, 0.6, 0.7, 0.8, 0.95], [\"C\", \"B\", \"A\", \"S\"])"
   ]
  },
  {
   "cell_type": "code",
   "execution_count": 281,
   "id": "5e580626",
   "metadata": {},
   "outputs": [
    {
     "data": {
      "text/html": [
       "<div>\n",
       "<style scoped>\n",
       "    .dataframe tbody tr th:only-of-type {\n",
       "        vertical-align: middle;\n",
       "    }\n",
       "\n",
       "    .dataframe tbody tr th {\n",
       "        vertical-align: top;\n",
       "    }\n",
       "\n",
       "    .dataframe thead th {\n",
       "        text-align: right;\n",
       "    }\n",
       "</style>\n",
       "<table border=\"1\" class=\"dataframe\">\n",
       "  <thead>\n",
       "    <tr style=\"text-align: right;\">\n",
       "      <th></th>\n",
       "      <th>客戶名稱</th>\n",
       "      <th>Recency</th>\n",
       "      <th>Frequency</th>\n",
       "      <th>Monetary</th>\n",
       "      <th>r_quartile</th>\n",
       "      <th>f_quartile</th>\n",
       "      <th>m_quartile</th>\n",
       "      <th>RFM_Score</th>\n",
       "      <th>業務名稱</th>\n",
       "      <th>總分</th>\n",
       "      <th>等級</th>\n",
       "    </tr>\n",
       "  </thead>\n",
       "  <tbody>\n",
       "    <tr>\n",
       "      <th>0</th>\n",
       "      <td>興東汽車客運股份有限公司</td>\n",
       "      <td>69</td>\n",
       "      <td>1</td>\n",
       "      <td>257040</td>\n",
       "      <td>1</td>\n",
       "      <td>1</td>\n",
       "      <td>3</td>\n",
       "      <td>[1, 1, 3]</td>\n",
       "      <td>何書旭</td>\n",
       "      <td>5</td>\n",
       "      <td>C</td>\n",
       "    </tr>\n",
       "    <tr>\n",
       "      <th>1</th>\n",
       "      <td>一路發國際物流股份有限公司</td>\n",
       "      <td>13</td>\n",
       "      <td>9</td>\n",
       "      <td>683905</td>\n",
       "      <td>4</td>\n",
       "      <td>4</td>\n",
       "      <td>4</td>\n",
       "      <td>[4, 4, 4]</td>\n",
       "      <td>何書旭</td>\n",
       "      <td>12</td>\n",
       "      <td>S</td>\n",
       "    </tr>\n",
       "    <tr>\n",
       "      <th>2</th>\n",
       "      <td>一進汽車貨運有限公司</td>\n",
       "      <td>24</td>\n",
       "      <td>3</td>\n",
       "      <td>304867</td>\n",
       "      <td>3</td>\n",
       "      <td>2</td>\n",
       "      <td>3</td>\n",
       "      <td>[3, 2, 3]</td>\n",
       "      <td>洪智卿</td>\n",
       "      <td>8</td>\n",
       "      <td>C</td>\n",
       "    </tr>\n",
       "    <tr>\n",
       "      <th>3</th>\n",
       "      <td>七王通運股份有限公司</td>\n",
       "      <td>12</td>\n",
       "      <td>10</td>\n",
       "      <td>788647</td>\n",
       "      <td>4</td>\n",
       "      <td>4</td>\n",
       "      <td>4</td>\n",
       "      <td>[4, 4, 4]</td>\n",
       "      <td>何書旭</td>\n",
       "      <td>12</td>\n",
       "      <td>S</td>\n",
       "    </tr>\n",
       "    <tr>\n",
       "      <th>4</th>\n",
       "      <td>中壢汽車客運股份有限公司</td>\n",
       "      <td>42</td>\n",
       "      <td>6</td>\n",
       "      <td>735024</td>\n",
       "      <td>2</td>\n",
       "      <td>3</td>\n",
       "      <td>4</td>\n",
       "      <td>[2, 3, 4]</td>\n",
       "      <td>朱志昌</td>\n",
       "      <td>9</td>\n",
       "      <td>B</td>\n",
       "    </tr>\n",
       "    <tr>\n",
       "      <th>...</th>\n",
       "      <td>...</td>\n",
       "      <td>...</td>\n",
       "      <td>...</td>\n",
       "      <td>...</td>\n",
       "      <td>...</td>\n",
       "      <td>...</td>\n",
       "      <td>...</td>\n",
       "      <td>...</td>\n",
       "      <td>...</td>\n",
       "      <td>...</td>\n",
       "      <td>...</td>\n",
       "    </tr>\n",
       "    <tr>\n",
       "      <th>71</th>\n",
       "      <td>金車物流股份有限公司</td>\n",
       "      <td>39</td>\n",
       "      <td>10</td>\n",
       "      <td>1034026</td>\n",
       "      <td>2</td>\n",
       "      <td>4</td>\n",
       "      <td>4</td>\n",
       "      <td>[2, 4, 4]</td>\n",
       "      <td>朱志昌</td>\n",
       "      <td>10</td>\n",
       "      <td>A</td>\n",
       "    </tr>\n",
       "    <tr>\n",
       "      <th>72</th>\n",
       "      <td>錦源通運股份有限公司</td>\n",
       "      <td>56</td>\n",
       "      <td>4</td>\n",
       "      <td>47000</td>\n",
       "      <td>2</td>\n",
       "      <td>3</td>\n",
       "      <td>1</td>\n",
       "      <td>[2, 3, 1]</td>\n",
       "      <td>何書旭</td>\n",
       "      <td>6</td>\n",
       "      <td>C</td>\n",
       "    </tr>\n",
       "    <tr>\n",
       "      <th>73</th>\n",
       "      <td>隆福行股份有限公司</td>\n",
       "      <td>26</td>\n",
       "      <td>4</td>\n",
       "      <td>180698</td>\n",
       "      <td>3</td>\n",
       "      <td>3</td>\n",
       "      <td>2</td>\n",
       "      <td>[3, 3, 2]</td>\n",
       "      <td>朱志昌</td>\n",
       "      <td>8</td>\n",
       "      <td>C</td>\n",
       "    </tr>\n",
       "    <tr>\n",
       "      <th>74</th>\n",
       "      <td>順翔貨櫃通運有限公司</td>\n",
       "      <td>10</td>\n",
       "      <td>19</td>\n",
       "      <td>1364054</td>\n",
       "      <td>4</td>\n",
       "      <td>4</td>\n",
       "      <td>4</td>\n",
       "      <td>[4, 4, 4]</td>\n",
       "      <td>洪智卿</td>\n",
       "      <td>12</td>\n",
       "      <td>S</td>\n",
       "    </tr>\n",
       "    <tr>\n",
       "      <th>75</th>\n",
       "      <td>龍翔貨櫃運輸股份有限公司</td>\n",
       "      <td>86</td>\n",
       "      <td>2</td>\n",
       "      <td>110378</td>\n",
       "      <td>1</td>\n",
       "      <td>2</td>\n",
       "      <td>1</td>\n",
       "      <td>[1, 2, 1]</td>\n",
       "      <td>朱志昌</td>\n",
       "      <td>4</td>\n",
       "      <td>C</td>\n",
       "    </tr>\n",
       "  </tbody>\n",
       "</table>\n",
       "<p>76 rows × 11 columns</p>\n",
       "</div>"
      ],
      "text/plain": [
       "             客戶名稱  Recency  Frequency  Monetary r_quartile f_quartile  \\\n",
       "0    興東汽車客運股份有限公司       69          1    257040          1          1   \n",
       "1   一路發國際物流股份有限公司       13          9    683905          4          4   \n",
       "2      一進汽車貨運有限公司       24          3    304867          3          2   \n",
       "3      七王通運股份有限公司       12         10    788647          4          4   \n",
       "4    中壢汽車客運股份有限公司       42          6    735024          2          3   \n",
       "..            ...      ...        ...       ...        ...        ...   \n",
       "71     金車物流股份有限公司       39         10   1034026          2          4   \n",
       "72     錦源通運股份有限公司       56          4     47000          2          3   \n",
       "73      隆福行股份有限公司       26          4    180698          3          3   \n",
       "74     順翔貨櫃通運有限公司       10         19   1364054          4          4   \n",
       "75   龍翔貨櫃運輸股份有限公司       86          2    110378          1          2   \n",
       "\n",
       "   m_quartile  RFM_Score 業務名稱  總分 等級  \n",
       "0           3  [1, 1, 3]  何書旭   5  C  \n",
       "1           4  [4, 4, 4]  何書旭  12  S  \n",
       "2           3  [3, 2, 3]  洪智卿   8  C  \n",
       "3           4  [4, 4, 4]  何書旭  12  S  \n",
       "4           4  [2, 3, 4]  朱志昌   9  B  \n",
       "..        ...        ...  ...  .. ..  \n",
       "71          4  [2, 4, 4]  朱志昌  10  A  \n",
       "72          1  [2, 3, 1]  何書旭   6  C  \n",
       "73          2  [3, 3, 2]  朱志昌   8  C  \n",
       "74          4  [4, 4, 4]  洪智卿  12  S  \n",
       "75          1  [1, 2, 1]  朱志昌   4  C  \n",
       "\n",
       "[76 rows x 11 columns]"
      ]
     },
     "execution_count": 281,
     "metadata": {},
     "output_type": "execute_result"
    }
   ],
   "source": [
    "rfm"
   ]
  },
  {
   "cell_type": "code",
   "execution_count": null,
   "id": "e317ea4f",
   "metadata": {},
   "outputs": [],
   "source": []
  },
  {
   "cell_type": "code",
   "execution_count": null,
   "id": "2b7101e9",
   "metadata": {},
   "outputs": [],
   "source": []
  },
  {
   "cell_type": "code",
   "execution_count": null,
   "id": "cd08851b",
   "metadata": {},
   "outputs": [],
   "source": []
  },
  {
   "cell_type": "code",
   "execution_count": null,
   "id": "7752dd91-add8-4fdd-ab42-d92f8ed54c03",
   "metadata": {},
   "outputs": [],
   "source": [
    "# cus_code = pd.read_csv(\"../sales_related/ReferenceTable/category_types.csv\")\n",
    "cus_code = pd.read_excel(\"../sales_related/ReferenceTable/category_types.xlsx\")"
   ]
  },
  {
   "cell_type": "code",
   "execution_count": null,
   "id": "883e8b7a-4af2-440d-9cfb-c22611ec1355",
   "metadata": {},
   "outputs": [],
   "source": [
    "cus_dict = dict(zip(cus_code[\"客戶代號\"], cus_code[\"客戶\"]))"
   ]
  },
  {
   "cell_type": "code",
   "execution_count": null,
   "id": "1047210d-96c4-4380-ab52-4761d282394d",
   "metadata": {},
   "outputs": [],
   "source": [
    "channel_dict = dict(zip(cus_code[\"客戶代號\"], cus_code[\"小通路\"]))"
   ]
  },
  {
   "cell_type": "code",
   "execution_count": null,
   "id": "ccd454d3-8d30-44c2-a7ba-2848e67674b7",
   "metadata": {},
   "outputs": [],
   "source": [
    "area_dict = dict(zip(cus_code[\"客戶代號\"], cus_code[\"區域\"]))"
   ]
  },
  {
   "cell_type": "code",
   "execution_count": null,
   "id": "a5228a58-f98e-49ac-8532-ea9bbb996e42",
   "metadata": {},
   "outputs": [],
   "source": [
    "df.columns"
   ]
  },
  {
   "cell_type": "code",
   "execution_count": null,
   "id": "88a6960b-2f32-4060-98a8-b8d1b70b239d",
   "metadata": {},
   "outputs": [],
   "source": [
    "data = df.groupby([\"實際出貨日\", \"訂單單號\", \"買方\"])[[\"營業額\"]].sum().reset_index()"
   ]
  },
  {
   "cell_type": "code",
   "execution_count": null,
   "id": "cd21f57b-6a46-4f1b-bb3d-5e71fbb0b9b9",
   "metadata": {},
   "outputs": [],
   "source": [
    "data[\"客戶名稱\"] = data[\"買方\"].map(cus_dict)"
   ]
  },
  {
   "cell_type": "code",
   "execution_count": null,
   "id": "dc2e84cc-098f-48df-a10b-6acb31aa0e97",
   "metadata": {},
   "outputs": [],
   "source": [
    "data[\"通路\"] = data[\"買方\"].map(channel_dict)"
   ]
  },
  {
   "cell_type": "code",
   "execution_count": null,
   "id": "52f2280f-3ac9-4ff9-9a4f-94f8b925afca",
   "metadata": {},
   "outputs": [],
   "source": [
    "data[\"實際出貨日\"] = pd.to_datetime(data[\"實際出貨日\"])"
   ]
  },
  {
   "cell_type": "code",
   "execution_count": null,
   "id": "e4df5e87-41f0-42cc-aea2-e30738882895",
   "metadata": {},
   "outputs": [],
   "source": [
    "last_buy = data[\"實際出貨日\"].max()"
   ]
  },
  {
   "cell_type": "code",
   "execution_count": null,
   "id": "f799874a-e550-4dbf-a5d6-a47722d40f0f",
   "metadata": {},
   "outputs": [],
   "source": [
    "rfmTable = data.groupby([\"通路\", \"客戶名稱\"]).agg({\"實際出貨日\": lambda x: (last_buy - x.max()).days, \"訂單單號\": lambda x: len(x), \"營業額\": lambda x: x.sum()})"
   ]
  },
  {
   "cell_type": "code",
   "execution_count": null,
   "id": "9f511e6f-83df-42f7-91a5-82f564949506",
   "metadata": {},
   "outputs": [],
   "source": [
    "rfmTable[\"實際出貨日\"] = rfmTable[\"實際出貨日\"].astype(int)"
   ]
  },
  {
   "cell_type": "code",
   "execution_count": null,
   "id": "ec58c030-3359-4c25-b059-33c99c4ce689",
   "metadata": {},
   "outputs": [],
   "source": [
    "rfmTable.rename(columns={\"實際出貨日\": \"recency\", \"訂單單號\": \"frequency\", \"營業額\": \"amount\"}, inplace=True)"
   ]
  },
  {
   "cell_type": "code",
   "execution_count": null,
   "id": "53f7356c-826b-468e-b6af-cf88ccd228a0",
   "metadata": {},
   "outputs": [],
   "source": [
    "rfmTable.head()"
   ]
  },
  {
   "cell_type": "code",
   "execution_count": null,
   "id": "fbc91da7-50f5-4709-94c7-be56b9a0c78f",
   "metadata": {},
   "outputs": [],
   "source": [
    "data[data[\"客戶名稱\"] == \"一進汽車貨運有限公司\"]"
   ]
  },
  {
   "cell_type": "code",
   "execution_count": null,
   "id": "0042be32-e55b-455e-9ffb-b7e820b71ab9",
   "metadata": {},
   "outputs": [],
   "source": [
    "quantiles = rfmTable.quantile(q=[0.25, 0.5, 0.75])"
   ]
  },
  {
   "cell_type": "code",
   "execution_count": null,
   "id": "b1e7ba28-d355-437e-87a8-e819c98d7693",
   "metadata": {},
   "outputs": [],
   "source": [
    "quantiles"
   ]
  },
  {
   "cell_type": "code",
   "execution_count": null,
   "id": "8f7239df-d498-426d-acbd-2675033ea8bf",
   "metadata": {},
   "outputs": [],
   "source": [
    "quantiles = quantiles.to_dict()"
   ]
  },
  {
   "cell_type": "code",
   "execution_count": null,
   "id": "ae26e243-448d-48bc-a2f6-a72dd3f27ca1",
   "metadata": {},
   "outputs": [],
   "source": [
    "quantiles"
   ]
  },
  {
   "cell_type": "code",
   "execution_count": null,
   "id": "599b218b-2260-4329-b085-ac9921e3e7d5",
   "metadata": {},
   "outputs": [],
   "source": [
    "rfmSegmentation = rfmTable"
   ]
  },
  {
   "cell_type": "code",
   "execution_count": null,
   "id": "33621e02-03e2-4853-915d-e71eba1ff999",
   "metadata": {},
   "outputs": [],
   "source": [
    "# Arguments (x = value, p = recency, monetary_value, frequency, k = quartiles dict)\n",
    "def RClass(x,p,d):\n",
    "    if x <= d[p][0.25]:\n",
    "        return 4\n",
    "    elif x <= d[p][0.50]:\n",
    "        return 3\n",
    "    elif x <= d[p][0.75]: \n",
    "        return 2\n",
    "    else:\n",
    "        return 1\n",
    "    \n",
    "# Arguments (x = value, p = recency, monetary_value, frequency, k = quartiles dict)\n",
    "def FMClass(x,p,d):\n",
    "    if x <= d[p][0.25]:\n",
    "        return 1\n",
    "    elif x <= d[p][0.50]:\n",
    "        return 2\n",
    "    elif x <= d[p][0.75]: \n",
    "        return 3\n",
    "    else:\n",
    "        return 4"
   ]
  },
  {
   "cell_type": "code",
   "execution_count": null,
   "id": "b8b7ac6c-e669-4a48-958b-0d6981b72144",
   "metadata": {},
   "outputs": [],
   "source": [
    "rfmSegmentation['R_Quartile'] = rfmSegmentation['recency'].apply(RClass, args=('recency',quantiles,))\n",
    "rfmSegmentation['F_Quartile'] = rfmSegmentation['frequency'].apply(FMClass, args=('frequency',quantiles,))\n",
    "rfmSegmentation['M_Quartile'] = rfmSegmentation['amount'].apply(FMClass, args=('amount',quantiles,))"
   ]
  },
  {
   "cell_type": "code",
   "execution_count": null,
   "id": "50620edf-3f83-4184-b375-ed9b33f99272",
   "metadata": {},
   "outputs": [],
   "source": [
    "rfmSegmentation[\"RFMClass\"] = rfmSegmentation[\"R_Quartile\"] + rfmSegmentation[\"F_Quartile\"] + rfmSegmentation[\"M_Quartile\"]"
   ]
  },
  {
   "cell_type": "code",
   "execution_count": null,
   "id": "76453863-d091-4076-af22-8a6602f9d0b1",
   "metadata": {},
   "outputs": [],
   "source": [
    "bins = [1, 3, 6, 9, 12]\n",
    "rfmSegmentation[\"客戶等級\"] = pd.cut(rfmSegmentation[\"RFMClass\"], bins, labels=[\"C\", \"B\", \"A\", \"S\"])"
   ]
  },
  {
   "cell_type": "code",
   "execution_count": null,
   "id": "e8f96a52-c063-4a21-83b2-748ff608a954",
   "metadata": {},
   "outputs": [],
   "source": [
    "rfmSegmentation"
   ]
  },
  {
   "cell_type": "code",
   "execution_count": null,
   "id": "74104670-f2e2-40d6-9f4d-bb559700ec17",
   "metadata": {},
   "outputs": [],
   "source": [
    "rfmSegmentation[rfmSegmentation[\"客戶等級\"] == \"S\"]"
   ]
  },
  {
   "cell_type": "code",
   "execution_count": null,
   "id": "2085510b-89f8-43f5-b205-d903c80689ee",
   "metadata": {},
   "outputs": [],
   "source": [
    "result = rfmSegmentation.reset_index()"
   ]
  },
  {
   "cell_type": "code",
   "execution_count": null,
   "id": "deffa08a-da09-4dc8-a91e-63d017603a81",
   "metadata": {},
   "outputs": [],
   "source": [
    "result.to_excel(r\"C:\\Users\\kc.hsu\\Desktop\\RFM_analysis.xlsx\", index=False)"
   ]
  },
  {
   "cell_type": "code",
   "execution_count": null,
   "id": "13845e6c-18e5-404c-af16-5d85ce445d84",
   "metadata": {},
   "outputs": [],
   "source": [
    "import plotly.express as px"
   ]
  },
  {
   "cell_type": "code",
   "execution_count": null,
   "id": "e0e9d278-a410-4e7b-b9fc-6ad5b84ff493",
   "metadata": {},
   "outputs": [],
   "source": [
    "px.scatter_3d(rfmSegmentation, x=\"recency\", y=\"amount\", z=\"frequency\", color=\"客戶等級\", height=1080, log_y=True, log_x=True)"
   ]
  },
  {
   "cell_type": "code",
   "execution_count": null,
   "id": "9c6e9152-8b70-45a5-95a4-728fa037c3c4",
   "metadata": {},
   "outputs": [],
   "source": [
    "px.scatter(rfmSegmentation, x=\"recency\", y=\"frequency\", size=\"amount\", color=\"客戶等級\", log_y=True)"
   ]
  },
  {
   "attachments": {},
   "cell_type": "markdown",
   "id": "fb3abb46-260d-4a6c-9db4-28c6bc692d8f",
   "metadata": {},
   "source": [
    "## 2022 June 7th更新\n",
    "### Method\n",
    "1. Utilize the latest 12 months' sales record to do the customer classification.\n",
    "2. Only classify BSSC customers\n",
    "3. Break down into area(By the responsible territory of the BSSC branch offices)"
   ]
  },
  {
   "cell_type": "code",
   "execution_count": null,
   "id": "9cd2fa75-1742-47f0-a4dd-975cf07f27af",
   "metadata": {},
   "outputs": [],
   "source": [
    "df = pd.read_csv(r\"D:\\kc.hsu\\OneDrive - Bridgestone\\數據\\銷售數據\\2019-202205.csv\")"
   ]
  },
  {
   "cell_type": "code",
   "execution_count": null,
   "id": "47cae625-a13d-4f2e-8d2d-ff7a0b6d530e",
   "metadata": {},
   "outputs": [],
   "source": [
    "df = pd.read_pickle(r\"D:\\kc.hsu\\OneDrive - Bridgestone\\數據\\銷售數據\\長期銷售記錄\\2017-202208.pkl\")"
   ]
  },
  {
   "cell_type": "code",
   "execution_count": null,
   "id": "a3e1941a-f352-4712-8e28-0b069a957b0d",
   "metadata": {},
   "outputs": [],
   "source": [
    "df = df[(df[\"實際出貨日\"].between(\"2021-01-01\", \"2022-06-30\")) & (df[\"大通路\"] == \"BSSC\")]"
   ]
  },
  {
   "cell_type": "code",
   "execution_count": null,
   "id": "2430e0b8-5105-4671-88de-f8d026da973e",
   "metadata": {},
   "outputs": [],
   "source": [
    "df[\"營業額\"] = df[\"銷售數量\"] * df[\"銷貨單價\"]"
   ]
  },
  {
   "cell_type": "code",
   "execution_count": null,
   "id": "0cebc621-2620-430b-ac30-e788c308d1d1",
   "metadata": {},
   "outputs": [],
   "source": [
    "data = df.groupby([\"實際出貨日\", \"訂單單號\", \"買方\", \"客戶名稱\", \"大通路\", \"小通路\",  \"客戶城市\"])[[\"銷售數量\", \"營業額\"]].sum().reset_index()"
   ]
  },
  {
   "cell_type": "code",
   "execution_count": null,
   "id": "17be01ab-6efd-4c00-ab7c-289ce94f8f66",
   "metadata": {},
   "outputs": [],
   "source": [
    "data[\"實際出貨日\"] = pd.to_datetime(data[\"實際出貨日\"], yearfirst=True)"
   ]
  },
  {
   "cell_type": "code",
   "execution_count": null,
   "id": "53e651cf-e53a-406c-a368-62715b9bf6fa",
   "metadata": {},
   "outputs": [],
   "source": [
    "# BSSC-FLT對照表設定\n",
    "sc_flt_code = pd.read_excel(\"../sales_related/ReferenceTable/bssc_flt_category_types.xlsx\")\n",
    "cus_dict = dict(zip(sc_flt_code[\"客戶代號\"], sc_flt_code[\"客戶\"]))\n",
    "channel_dict = dict(zip(sc_flt_code[\"客戶代號\"], sc_flt_code[\"大通路\"]))\n",
    "area_dict = dict(zip(sc_flt_code[\"客戶代號\"], sc_flt_code[\"業態\"]))\n",
    "city_dict = dict(zip(sc_flt_code[\"客戶\"], sc_flt_code[\"區域\"]))           "
   ]
  },
  {
   "cell_type": "code",
   "execution_count": null,
   "id": "30526800-7366-4a71-91b7-1b3eb6773bdd",
   "metadata": {},
   "outputs": [],
   "source": [
    "data[\"客戶名稱\"] = data[\"買方\"].map(cus_dict)\n",
    "data[\"通路\"] = data[\"買方\"].map(channel_dict)\n",
    "data[\"區域\"] = data[\"買方\"].map(area_dict)\n",
    "data[\"實際出貨日\"] = pd.to_datetime(data[\"實際出貨日\"])"
   ]
  },
  {
   "cell_type": "code",
   "execution_count": null,
   "id": "3c1025ed-3b77-433d-b0cd-ca1cef2f2597",
   "metadata": {},
   "outputs": [],
   "source": [
    "data[\"通路\"].unique()\n",
    "# BSSC-FLT條件設定\n",
    "data = data[(data[\"通路\"].isin([\"BSSC-FLT\"])) & (data[\"實際出貨日\"] >= \"2021-01-01\")]"
   ]
  },
  {
   "cell_type": "code",
   "execution_count": null,
   "id": "3166dc86-764f-4494-8d85-6b7ed9f386cb",
   "metadata": {},
   "outputs": [],
   "source": [
    "# 條件設定\n",
    "data = data[~(data[\"通路\"].isin([\"BSSC-FLT\", \"FLT-REP\", \"FLT-OE\", \"台灣普利司通股份有限公司\", \"CD\", \"AG\"])) & (data[\"實際出貨日\"] >= \"2021-06-01\")]"
   ]
  },
  {
   "cell_type": "code",
   "execution_count": null,
   "id": "f54f529a-5a68-4b50-9d5a-7e068f971367",
   "metadata": {},
   "outputs": [],
   "source": [
    "data[\"區域\"] = data[\"區域\"].str.strip()\n",
    "data[\"通路\"] = data[\"通路\"].map(lambda x: \"FMC\" if x == \"TTC\" or x == \"BFP\" else x)"
   ]
  },
  {
   "attachments": {},
   "cell_type": "markdown",
   "id": "d7536639-4efe-40fb-8791-af2a14534b65",
   "metadata": {
    "tags": []
   },
   "source": [
    "## 客戶分類定義：\n",
    "- 重要價值客戶（R高，F高，M高）\n",
    "- 重要發展客戶（R高，F低，M高）\n",
    "- 重要保持客戶（R低，F高，M高）\n",
    "- 重要挽留客戶（R低，F低，M高）\n",
    "- 一般挽留客戶（R低，F低，M低）\n",
    "- 一般發展客戶（R高，F低，M低）\n",
    "- 一般保持客戶（R低，F高，M低）\n",
    "- 一般價值客戶（R高，F高，M低）"
   ]
  },
  {
   "cell_type": "code",
   "execution_count": null,
   "id": "e332c57e-2500-4837-b6c1-0b5fb097d9c4",
   "metadata": {},
   "outputs": [],
   "source": [
    "ranking_category = [\"重要價值客戶\", \"重要發展客戶\", \"重要保持客戶\", \"重要挽留客戶\", \"一般挽留客戶\", \"一般發展客戶\", \"一般保持客戶\", \"一般價值客戶\"]\n",
    "ranking_value = [(1,1,1), (1,0,1), (0,1,1), (0,0,1), (0, 0, 0), (1, 0, 0), (0, 1, 0), (1, 1, 0)]\n",
    "ranking_dict = dict(zip(ranking_value, ranking_category))"
   ]
  },
  {
   "cell_type": "code",
   "execution_count": null,
   "id": "f7d19918-009e-43cf-8eb1-5ea4e1e96931",
   "metadata": {},
   "outputs": [],
   "source": [
    "# 按照區域將各區域切出來個別分析\n",
    "def region_devider(data):\n",
    "    data_list = {}\n",
    "    for i in data[\"客戶城市\"].unique().tolist():\n",
    "        globals()[\"area\" + i] = data[data[\"客戶城市\"] == i]\n",
    "        data_list.setdefault(i + \"_shape\", globals()[\"area\" + i])\n",
    "    return data_list"
   ]
  },
  {
   "cell_type": "code",
   "execution_count": null,
   "id": "3ce11be9-cbe7-4bef-8514-4c72b3c5b564",
   "metadata": {},
   "outputs": [],
   "source": [
    "# 按照各區域通路別切出來分析\n",
    "def channel_devider(data):\n",
    "    data_list = {}\n",
    "    for name in data.keys():\n",
    "        for i in data[name][\"小通路\"].unique().tolist():\n",
    "            globals()[name + i + \"_channel\"] = data[name][data[name][\"小通路\"] == i]\n",
    "            data_list.setdefault(name + \"_\" + i + \"_channel\", globals()[name + i + \"_channel\"])\n",
    "    return data_list\n"
   ]
  },
  {
   "cell_type": "code",
   "execution_count": null,
   "id": "98d4da27-c74c-4380-a881-1e62657f285d",
   "metadata": {},
   "outputs": [],
   "source": [
    "# 各區數據前處理\n",
    "def data_preprocessing(data):\n",
    "    final_data = {}\n",
    "    for i in data.keys():\n",
    "        globals()[i + \"_data\"] = data[i].groupby([pd.Grouper(key=\"實際出貨日\", freq=\"M\"), \"客戶名稱\"]).size().reset_index()[[\"實際出貨日\", \"客戶名稱\"]].drop_duplicates()\n",
    "        globals()[i + \"_revenue\"] = data[i].groupby([pd.Grouper(key=\"實際出貨日\", freq=\"M\"), \"客戶名稱\"])[[\"營業額\", \"銷售數量\"]].sum()\n",
    "        globals()[i + \"_final\"] = globals()[i + \"_data\"].merge(globals()[i + \"_revenue\"], on=[\"實際出貨日\", \"客戶名稱\"])\n",
    "        globals()[i + \"_final\"][\"小通路\"] = data[i][\"小通路\"].unique().tolist()[0]\n",
    "        final_data.setdefault(i + \"_basic\", globals()[i + \"_final\"])\n",
    "    return final_data"
   ]
  },
  {
   "cell_type": "code",
   "execution_count": null,
   "id": "c12773f7-edc8-49f4-b908-93ac32620070",
   "metadata": {},
   "outputs": [],
   "source": [
    "# 最後購買日期\n",
    "last_buy = data[\"實際出貨日\"].max()"
   ]
  },
  {
   "cell_type": "code",
   "execution_count": null,
   "id": "16d63c65-509a-46e9-9f40-994a351c2f40",
   "metadata": {},
   "outputs": [],
   "source": [
    "def score_calculation(data):\n",
    "    sorted_data = {}\n",
    "    for i in data.keys():\n",
    "        globals()[\"rfmTable\" + i] = data[i].groupby([\"客戶名稱\", \"小通路\"]).agg({\"實際出貨日\": lambda x: (last_buy - x.max()).days, \"客戶名稱\": lambda x: len(x), \"營業額\": lambda x: x.sum(), \"銷售數量\": lambda x: x.sum()})\n",
    "        globals()[\"rfmTable\" + i][\"實際出貨日\"] = globals()[\"rfmTable\" + i][\"實際出貨日\"].astype(int)\n",
    "        globals()[\"rfmTable\" + i].rename(columns={\"實際出貨日\": \"recency\", \"客戶名稱\": \"frequency\", \"營業額\": \"amount\", \"銷售數量\": \"volume\"}, inplace=True)\n",
    "        sorted_data.setdefault(i + \"_sorted\", globals()[\"rfmTable\" + i])\n",
    "    return sorted_data"
   ]
  },
  {
   "cell_type": "code",
   "execution_count": null,
   "id": "d3774217-868a-4cca-a39c-60b8209399ae",
   "metadata": {},
   "outputs": [],
   "source": [
    "# Arguments (x = value, p = recency, monetary_value, frequency, k = quartiles dict)\n",
    "def RClass(x,p,d):\n",
    "    if x <= d[p][0.7]:\n",
    "        return 1\n",
    "    else:\n",
    "        return 0\n",
    "    \n",
    "# Arguments (x = value, p = recency, monetary_value, frequency, k = quartiles dict)\n",
    "def FMClass(x,p,d):\n",
    "    if x < d[p][0.7]:\n",
    "        return 0\n",
    "    else:\n",
    "        return 1\n",
    "    \n",
    "# Arguments (x = value, p = frequency)\n",
    "def FreClass(x):\n",
    "    # if x < 8:\n",
    "    if x < 9:\n",
    "        return 0\n",
    "    else: \n",
    "        return 1\n",
    "        \n",
    "    "
   ]
  },
  {
   "cell_type": "code",
   "execution_count": null,
   "id": "e4b1f115-4b42-4fd6-b731-20c79c1a78e9",
   "metadata": {},
   "outputs": [],
   "source": [
    "def quartile_calculation(data):\n",
    "    sorted_data = {}\n",
    "    for i in data.keys():\n",
    "        globals()[\"quantiles\" + i] = data[i].quantile(q=[0.7])\n",
    "        globals()[\"quantiles\" + i] = globals()[\"quantiles\" + i].to_dict()\n",
    "        data[i][\"R_Quartile\"] = data[i][\"recency\"].apply(RClass, args=(\"recency\", globals()[\"quantiles\" + i],))\n",
    "        data[i][\"F_Quartile\"] = data[i][\"frequency\"].apply(FreClass)\n",
    "        data[i][\"M_Quartile\"] = data[i][\"amount\"].apply(FMClass, args=(\"amount\", globals()[\"quantiles\" + i],))\n",
    "        data[i][\"Score\"] = data[i][[\"R_Quartile\", \"F_Quartile\", \"M_Quartile\"]].apply(tuple, axis=1)\n",
    "        data[i][\"客戶等級\"] = data[i][\"Score\"].map(ranking_dict)\n",
    "        data[i].reset_index(inplace=True)\n",
    "        sorted_data.setdefault(i + \"_final\", data[i])\n",
    "    return sorted_data       "
   ]
  },
  {
   "cell_type": "code",
   "execution_count": null,
   "id": "6955df0c-e110-4a4c-a58f-abf6f7dac85a",
   "metadata": {},
   "outputs": [],
   "source": [
    "def combine_data(data):\n",
    "    sorted_data = {}\n",
    "    for i in data.keys():\n",
    "        data[i][\"客戶城市\"] = i[:2]\n",
    "        sorted_data.setdefault(i + \"rfm_model\", data[i])\n",
    "    return sorted_data     \n",
    "        \n",
    "    "
   ]
  },
  {
   "attachments": {},
   "cell_type": "markdown",
   "id": "6d4c14ab-6325-4042-a9fa-578db9a1fda5",
   "metadata": {},
   "source": [
    "## 更換邏輯，用每一區來作為計算比重"
   ]
  },
  {
   "cell_type": "code",
   "execution_count": null,
   "id": "ee9358dd-2dda-4ca2-a2f2-2da801cf5796",
   "metadata": {},
   "outputs": [],
   "source": [
    "def data_preprocessing_2(data):\n",
    "    final_data = {}\n",
    "    for i in data.keys():\n",
    "        chan_dict = dict(zip(data[i][\"客戶名稱\"], data[i][\"通路\"]))\n",
    "        globals()[i + \"_data\"] = data[i].groupby([pd.Grouper(key=\"實際出貨日\", freq=\"M\"), \"客戶名稱\"]).size().reset_index()[[\"實際出貨日\", \"客戶名稱\"]].drop_duplicates()\n",
    "        globals()[i + \"_revenue\"] = data[i].groupby([pd.Grouper(key=\"實際出貨日\", freq=\"M\"), \"客戶名稱\"])[[\"營業額\", \"銷售數量\"]].sum()\n",
    "        globals()[i + \"_final\"] = globals()[i + \"_data\"].merge(globals()[i + \"_revenue\"], on=[\"實際出貨日\", \"客戶名稱\"])\n",
    "        globals()[i + \"_final\"][\"通路\"] = globals()[i + \"_final\"][\"客戶名稱\"].map(chan_dict)\n",
    "        final_data.setdefault(i + \"_basic\", globals()[i + \"_final\"])\n",
    "    return final_data"
   ]
  },
  {
   "cell_type": "code",
   "execution_count": null,
   "id": "4f27731e-7451-432a-8e8d-4720c7ad828d",
   "metadata": {
    "tags": []
   },
   "outputs": [],
   "source": [
    "regions = region_devider(data)\n",
    "# channels = channel_devider(regions)\n",
    "filtered_data = data_preprocessing_2(regions)\n",
    "calculated_data = score_calculation(filtered_data)\n",
    "result = quartile_calculation(calculated_data)\n",
    "combined_data = combine_data(result)\n",
    "final_result = pd.concat(result.values())\n",
    "# final_result.to_excel(r\"C:\\Users\\kc.hsu\\Desktop\\區域別_rfm_model_v2.xlsx\", index=False)\n",
    "# final_result.to_excel(r\"C:\\Users\\kc.hsu\\Desktop\\bssc_flt_rfm_model_v2.xlsx\", index=False)"
   ]
  },
  {
   "cell_type": "code",
   "execution_count": null,
   "id": "a877dc0b-4f8e-4490-b78d-f9c82a165838",
   "metadata": {},
   "outputs": [],
   "source": [
    "final_result[\"營業所\"] = final_result[\"客戶名稱\"].map(city_dict)\n",
    "final_result.to_excel(r\"C:\\Users\\kc.hsu\\Desktop\\bssc_flt_rfm_model_v2.xlsx\", index=False)"
   ]
  },
  {
   "attachments": {},
   "cell_type": "markdown",
   "id": "801da939-6df3-49c8-9fee-09353ee96ebd",
   "metadata": {},
   "source": [
    "## 回到原文"
   ]
  },
  {
   "cell_type": "code",
   "execution_count": null,
   "id": "e0e3d22e-ed79-4991-931f-7b66b7e74c78",
   "metadata": {},
   "outputs": [],
   "source": [
    "regions = region_devider(data)\n",
    "channels = channel_devider(regions)\n",
    "filtered_data = data_preprocessing(channels)\n",
    "calculated_data = score_calculation(filtered_data)\n",
    "result = quartile_calculation(calculated_data)\n",
    "combined_data = combine_data(result)\n",
    "final_result = pd.concat(result.values())\n"
   ]
  },
  {
   "cell_type": "code",
   "execution_count": null,
   "id": "ff8e9d0b-fe6f-41f0-80e8-58a62818e5f1",
   "metadata": {},
   "outputs": [],
   "source": [
    "final_result[\"月平均\"] = final_result[\"volume\"] / 18"
   ]
  },
  {
   "cell_type": "code",
   "execution_count": null,
   "id": "1ea66b0f-8536-41dc-a176-3e116e13bea6",
   "metadata": {},
   "outputs": [],
   "source": [
    "import plotly.express as px\n",
    "px.box(final_result[\"月平均\"])"
   ]
  },
  {
   "cell_type": "code",
   "execution_count": null,
   "id": "4876a079-9bbe-4705-8a0c-fd15a3de2c88",
   "metadata": {},
   "outputs": [],
   "source": [
    "final_result[\"離群值\"] = final_result[\"月平均\"].map(lambda x: \"Yes\" if x > 27.89 else \"No\")"
   ]
  },
  {
   "cell_type": "code",
   "execution_count": null,
   "id": "6bd6dd06-b92a-440a-97ad-ac3ff71af4c1",
   "metadata": {},
   "outputs": [],
   "source": [
    "final_result[\"離群值\"].value_counts()"
   ]
  },
  {
   "cell_type": "code",
   "execution_count": null,
   "id": "5ab97b02-1ab1-435e-abdc-623d47f469c8",
   "metadata": {},
   "outputs": [],
   "source": [
    "final_result.groupby([\"離群值\"])[[\"volume\"]].sum()"
   ]
  },
  {
   "cell_type": "code",
   "execution_count": null,
   "id": "8ab780a8-51c3-41b9-bbf0-b3380ba87dae",
   "metadata": {},
   "outputs": [],
   "source": [
    "final_result[final_result[\"離群值\"] == \"Yes\"][\"月平均\"].quantile([0.2, 0.5, 0.85])"
   ]
  },
  {
   "cell_type": "code",
   "execution_count": null,
   "id": "5e00d7f0-adc9-4d63-b97f-a15bb2ed0cc0",
   "metadata": {},
   "outputs": [],
   "source": [
    "bins = [0, 35, 60, 125, 1000]\n",
    "labels = [\"No contract\", \"B\", \"A\", \"S\"]\n",
    "final_result[\"客戶推定等級\"] = pd.cut(final_result[\"月平均\"], bins=bins, labels=labels)"
   ]
  },
  {
   "cell_type": "code",
   "execution_count": null,
   "id": "e5dfd02c-94d1-425c-a6d0-21c72de726e2",
   "metadata": {},
   "outputs": [],
   "source": [
    "signboard = pd.read_excel(r\"D:\\kc.hsu\\OneDrive - Bridgestone\\行銷推廣\\掛牌店\\2022年FMC店數.xlsx\", sheet_name=\"工作表1\")"
   ]
  },
  {
   "cell_type": "code",
   "execution_count": null,
   "id": "a92e608b-160e-48f8-9961-0be7db0c0999",
   "metadata": {},
   "outputs": [],
   "source": [
    "signboard.columns = ['編號', '營業所', '客戶代號', '通路', '客戶簡稱', '月均需求(BS,MI,MA)', '月均需求(所有品牌)',\n",
    "       'BS signboard', 'BS招牌安裝日', '是否有意願裝BS招牌', 'MI合約到期日', '是否簽附加合約', '簽約等級',\n",
    "       '2021年銷售量', '2022年銷售量', 'Growth rate', '是否保留']"
   ]
  },
  {
   "cell_type": "code",
   "execution_count": null,
   "id": "8e45d158-6b62-4d48-acd5-d3e559d285a5",
   "metadata": {},
   "outputs": [],
   "source": [
    "signboard_dict = dict(zip(signboard[\"客戶簡稱\"], signboard[\"BS signboard\"]))"
   ]
  },
  {
   "cell_type": "code",
   "execution_count": null,
   "id": "69dd1f2b-e78c-479a-b615-536c8c393bc7",
   "metadata": {},
   "outputs": [],
   "source": [
    "final_result[\"FMC\"] = final_result[\"客戶名稱\"].map(signboard_dict).fillna(\"No\")"
   ]
  },
  {
   "cell_type": "code",
   "execution_count": null,
   "id": "5c49359c-6976-4cc7-8398-c1936ca6b680",
   "metadata": {},
   "outputs": [],
   "source": [
    "final_result[\"談約排序\"] = final_result.apply(lambda x: \"最優先\" if x[\"客戶推定等級\"] != \"No contract\" and x[\"FMC\"] != \"No\" else \"優先\" if x[\"客戶推定等級\"] != \"No contract\" and x[\"FMC\"] == \"No\" else \"優先確認意向\" if x[\"客戶推定等級\"] == \"No contract\" and x[\"FMC\"] != \"No\" else \"一般\", axis=1)"
   ]
  },
  {
   "cell_type": "code",
   "execution_count": null,
   "id": "bbdbd025-7789-482c-b71a-96159836c305",
   "metadata": {},
   "outputs": [],
   "source": [
    "final_result.to_excel(r\"C:\\Users\\kc.hsu\\Desktop\\20221206_rfm_model.xlsx\", index=False)"
   ]
  },
  {
   "attachments": {},
   "cell_type": "markdown",
   "id": "1f1e0a34-3452-4a32-b19a-617009c4dd29",
   "metadata": {
    "tags": []
   },
   "source": [
    "## 2019年~2022年4月銷售實績RFM模型建立\n",
    "- 使用K-Means演算法分群\n",
    "- 每個月的頻率只用有無下單來累計，因為有的客戶每月下很多小單，但大客戶一個月只下一張單，這樣Frequency的分數會被影響到，需排除這個問題\n",
    "\n",
    "### 使用手動分群4群和使用K-means來找出最適合的群組"
   ]
  },
  {
   "cell_type": "code",
   "execution_count": null,
   "id": "4b496221-49e0-4978-a5c8-481e03224201",
   "metadata": {},
   "outputs": [],
   "source": [
    "df = pd.read_excel(r\"D:\\kc.hsu\\OneDrive - Bridgestone\\數據\\銷售數據\\2019-202204.xlsx\")"
   ]
  },
  {
   "cell_type": "code",
   "execution_count": null,
   "id": "05713142-a0fc-4ad1-95b2-4fcbc38ba879",
   "metadata": {},
   "outputs": [],
   "source": [
    "df[\"營業額\"] = df[\"銷售數量\"] * df[\"銷貨單價\"]"
   ]
  },
  {
   "cell_type": "code",
   "execution_count": null,
   "id": "99b85974-2063-4d2f-a38b-35a13a74b071",
   "metadata": {},
   "outputs": [],
   "source": [
    "data = df.groupby([\"實際出貨日\", \"訂單單號\", \"買方\"])[[\"銷售數量\", \"營業額\"]].sum().reset_index()"
   ]
  },
  {
   "cell_type": "code",
   "execution_count": null,
   "id": "701cb53c-8dc4-46d7-abf2-918491b00e97",
   "metadata": {},
   "outputs": [],
   "source": [
    "data[\"客戶名稱\"] = data[\"買方\"].map(cus_dict)\n",
    "data[\"通路\"] = data[\"買方\"].map(channel_dict)\n",
    "data[\"實際出貨日\"] = pd.to_datetime(data[\"實際出貨日\"])"
   ]
  },
  {
   "cell_type": "code",
   "execution_count": null,
   "id": "12ad568b-010f-44f8-aa65-be32108baf68",
   "metadata": {},
   "outputs": [],
   "source": [
    "data = data[data[\"通路\"] == \"BSSC\"]"
   ]
  },
  {
   "cell_type": "code",
   "execution_count": null,
   "id": "08ed7fa4-30ae-4564-9b78-291e371e2bde",
   "metadata": {},
   "outputs": [],
   "source": [
    "test_1 = data.groupby([pd.Grouper(key=\"實際出貨日\", freq=\"M\"), \"客戶名稱\"]).size().reset_index()[[\"實際出貨日\", \"客戶名稱\"]].drop_duplicates()"
   ]
  },
  {
   "cell_type": "code",
   "execution_count": null,
   "id": "bb310e97-f749-4db9-ad06-2f677a0a1ded",
   "metadata": {},
   "outputs": [],
   "source": [
    "test_1"
   ]
  },
  {
   "cell_type": "code",
   "execution_count": null,
   "id": "5b035b36-f1ac-4fe0-86d0-d7649e640888",
   "metadata": {},
   "outputs": [],
   "source": [
    "test_2 = data.groupby([pd.Grouper(key=\"實際出貨日\", freq=\"M\"), \"客戶名稱\"])[[\"營業額\", \"銷售數量\"]].sum()"
   ]
  },
  {
   "cell_type": "code",
   "execution_count": null,
   "id": "0f2d1936-4b1a-41a6-ae87-80d8554918eb",
   "metadata": {},
   "outputs": [],
   "source": [
    "test_3 = test_1.merge(test_2, on=[\"實際出貨日\", \"客戶名稱\"])"
   ]
  },
  {
   "cell_type": "code",
   "execution_count": null,
   "id": "08ca28fe-c126-4e3b-b649-e46e9f1199cf",
   "metadata": {},
   "outputs": [],
   "source": [
    "last_buy = data[\"實際出貨日\"].max()"
   ]
  },
  {
   "cell_type": "code",
   "execution_count": null,
   "id": "c75740f8-b4e4-4bb2-853e-3dd767e74961",
   "metadata": {},
   "outputs": [],
   "source": [
    "rfmTable = test_3.groupby([\"客戶名稱\"]).agg({\"實際出貨日\": lambda x: (last_buy - x.max()).days, \"客戶名稱\": lambda x: len(x), \"營業額\": lambda x: x.sum(), \"銷售數量\": lambda x: x.sum()})"
   ]
  },
  {
   "cell_type": "code",
   "execution_count": null,
   "id": "fd8c56ec-f4e6-457c-9a7a-7d936457459c",
   "metadata": {},
   "outputs": [],
   "source": [
    "# rfmTable = data.groupby([\"通路\", \"客戶名稱\"]).agg({\"實際出貨日\": lambda x: (last_buy - x.max()).days, \"訂單單號\": lambda x: len(x), \"營業額\": lambda x: x.sum(), \"銷售數量\": lambda x: x.sum()})"
   ]
  },
  {
   "cell_type": "code",
   "execution_count": null,
   "id": "17518fba-505e-47d7-882d-8ee16e7c13ce",
   "metadata": {},
   "outputs": [],
   "source": [
    "# rfmTable.rename(columns={\"實際出貨日\": \"recency\", \"訂單單號\": \"frequency\", \"營業額\": \"amount\", \"銷售數量\": \"volume\"}, inplace=True)"
   ]
  },
  {
   "cell_type": "code",
   "execution_count": null,
   "id": "ca1a5ab9-16e0-4670-b5b5-2ea4d09e2a72",
   "metadata": {},
   "outputs": [],
   "source": [
    "rfmTable[\"實際出貨日\"] = rfmTable[\"實際出貨日\"].astype(int)"
   ]
  },
  {
   "cell_type": "code",
   "execution_count": null,
   "id": "9d9233ba-7301-4399-8cfc-c000500ff34f",
   "metadata": {},
   "outputs": [],
   "source": [
    "rfmTable.rename(columns={\"實際出貨日\": \"recency\", \"客戶名稱\": \"frequency\", \"營業額\": \"amount\", \"銷售數量\": \"volume\"}, inplace=True)"
   ]
  },
  {
   "attachments": {},
   "cell_type": "markdown",
   "id": "8e29ad17",
   "metadata": {},
   "source": [
    "### 數據前處理後為四個欄位\n",
    "1. Recency(代表客戶最後一次購買距離數據裡面最後面的日期4/30)\n",
    "2. Frequncy(代表客戶購買頻率，扣除掉前面的說明，就是客戶40個月的區間有幾個月有下過訂單)\n",
    "3. Amount(代表客戶在數據區間中累計的營業額貢獻)\n",
    "4. Volume(代表客戶在數據區間中累計的條數）"
   ]
  },
  {
   "cell_type": "code",
   "execution_count": null,
   "id": "f8296f3f-7b93-479f-8141-d0edccf68dce",
   "metadata": {},
   "outputs": [],
   "source": [
    "rfmTable"
   ]
  },
  {
   "cell_type": "code",
   "execution_count": null,
   "id": "706a0cb8-23d4-43eb-b1e1-f5ae7ad48c90",
   "metadata": {},
   "outputs": [],
   "source": [
    "quantiles = rfmTable.quantile(q=[0.2, 0.4, 0.6, 0.8])\n",
    "quantiles = quantiles.to_dict()"
   ]
  },
  {
   "attachments": {},
   "cell_type": "markdown",
   "id": "9d3bc474",
   "metadata": {},
   "source": [
    "### 按照每個特徵值的20%，40%，60%，80%的值來做區間分佈"
   ]
  },
  {
   "cell_type": "code",
   "execution_count": null,
   "id": "6112f9df-4c59-438d-b734-cc16b8620461",
   "metadata": {},
   "outputs": [],
   "source": [
    "quantiles"
   ]
  },
  {
   "cell_type": "code",
   "execution_count": null,
   "id": "a1aa9c94-9c7c-434a-a621-03b87a9e65eb",
   "metadata": {},
   "outputs": [],
   "source": [
    "rfmSegmentation = rfmTable.copy()"
   ]
  },
  {
   "cell_type": "code",
   "execution_count": null,
   "id": "b6e03f23-74fd-435c-a9a9-027f63b1d51d",
   "metadata": {},
   "outputs": [],
   "source": [
    "# Arguments (x = value, p = recency, monetary_value, frequency, k = quartiles dict)\n",
    "def RClass(x,p,d):\n",
    "    if x <= d[p][0.2]:\n",
    "        return 5\n",
    "    elif x <= d[p][0.4]:\n",
    "        return 4\n",
    "    elif x <= d[p][0.6]: \n",
    "        return 3\n",
    "    elif x <=d[p][0.8]:\n",
    "        return 2\n",
    "    else:\n",
    "        return 1\n",
    "    \n",
    "# Arguments (x = value, p = recency, monetary_value, frequency, k = quartiles dict)\n",
    "def FMClass(x,p,d):\n",
    "    if x <= d[p][0.2]:\n",
    "        return 1\n",
    "    elif x <= d[p][0.4]:\n",
    "        return 2\n",
    "    elif x <= d[p][0.6]: \n",
    "        return 3\n",
    "    elif x <= d[p][0.8]:\n",
    "        return 4\n",
    "    else:\n",
    "        return 5"
   ]
  },
  {
   "cell_type": "code",
   "execution_count": null,
   "id": "bb255955-021a-4c4b-960d-ed290f727cec",
   "metadata": {},
   "outputs": [],
   "source": [
    "rfmSegmentation['R_Quartile'] = rfmSegmentation['recency'].apply(RClass, args=('recency',quantiles,))\n",
    "rfmSegmentation['F_Quartile'] = rfmSegmentation['frequency'].apply(FMClass, args=('frequency',quantiles,))\n",
    "rfmSegmentation['M_Quartile'] = rfmSegmentation['amount'].apply(FMClass, args=('amount',quantiles,))\n",
    "rfmSegmentation[\"V_Quartile\"] = rfmSegmentation[\"volume\"].apply(FMClass, args=(\"volume\", quantiles,))"
   ]
  },
  {
   "cell_type": "code",
   "execution_count": null,
   "id": "07cb5a38-3baa-4c44-978d-76302ddfec02",
   "metadata": {},
   "outputs": [],
   "source": [
    "rfmSegmentation"
   ]
  },
  {
   "cell_type": "code",
   "execution_count": null,
   "id": "74567e97-7a44-4f64-862e-e9b35eb1ebc5",
   "metadata": {},
   "outputs": [],
   "source": [
    "rfmSegmentation[\"RFMClass\"] = rfmSegmentation[\"R_Quartile\"] + rfmSegmentation[\"F_Quartile\"] + rfmSegmentation[\"M_Quartile\"] + rfmSegmentation[\"V_Quartile\"]"
   ]
  },
  {
   "cell_type": "code",
   "execution_count": null,
   "id": "078d5e6f-f058-4396-80e7-e974b34a28b4",
   "metadata": {},
   "outputs": [],
   "source": [
    "bins = [3, 8, 12, 16, 20]\n",
    "rfmSegmentation[\"客戶等級\"] = pd.cut(rfmSegmentation[\"RFMClass\"], bins, labels=[\"C\", \"B\", \"A\", \"S\"])"
   ]
  },
  {
   "cell_type": "code",
   "execution_count": null,
   "id": "7968cde0",
   "metadata": {},
   "outputs": [],
   "source": [
    "### 將客戶手動分為4個群組"
   ]
  },
  {
   "cell_type": "code",
   "execution_count": null,
   "id": "c68a0914-1af8-40e9-b4a8-4c04cbffebdf",
   "metadata": {},
   "outputs": [],
   "source": [
    "rfmSegmentation"
   ]
  },
  {
   "attachments": {},
   "cell_type": "markdown",
   "id": "24599907-3c12-46fa-8b82-9ed764731b52",
   "metadata": {},
   "source": [
    "## K-means分群"
   ]
  },
  {
   "cell_type": "code",
   "execution_count": null,
   "id": "78a2b8eb-dbd3-4919-91a2-0ef5cf75280d",
   "metadata": {},
   "outputs": [],
   "source": [
    "rfmSegmentation_k = rfmSegmentation.copy().reset_index()"
   ]
  },
  {
   "cell_type": "code",
   "execution_count": null,
   "id": "01db8e6a-a528-498a-82b7-3ebd8d5d95e7",
   "metadata": {},
   "outputs": [],
   "source": [
    "rfmSegmentation_k"
   ]
  },
  {
   "cell_type": "code",
   "execution_count": null,
   "id": "97a8b20f-b836-48d2-8797-24b72f445e9d",
   "metadata": {},
   "outputs": [],
   "source": [
    "sc_customers = rfmSegmentation_k"
   ]
  },
  {
   "cell_type": "code",
   "execution_count": null,
   "id": "7c8cc57e-8ee1-4aef-969a-0e12795bf417",
   "metadata": {},
   "outputs": [],
   "source": [
    "sc_customers = sc_customers[[\"客戶名稱\", \"R_Quartile\", \"F_Quartile\", \"M_Quartile\", \"V_Quartile\"]]"
   ]
  },
  {
   "cell_type": "code",
   "execution_count": null,
   "id": "906eee3f-0384-461e-a26e-cba626597b1c",
   "metadata": {},
   "outputs": [],
   "source": [
    "sc_customers"
   ]
  },
  {
   "cell_type": "code",
   "execution_count": 7,
   "id": "92429cb9-1417-4ac2-9967-033d1f8ebf67",
   "metadata": {},
   "outputs": [],
   "source": [
    "from sklearn.cluster import KMeans"
   ]
  },
  {
   "cell_type": "code",
   "execution_count": null,
   "id": "5f8e1125-f2e7-4229-aa6c-39df328e3db7",
   "metadata": {},
   "outputs": [],
   "source": [
    "test = sc_customers.drop(sc_customers.columns[0], axis=1)"
   ]
  },
  {
   "cell_type": "code",
   "execution_count": null,
   "id": "93d88f7f-92eb-41ad-b167-91bc61833bd1",
   "metadata": {},
   "outputs": [],
   "source": [
    "wcss = []\n",
    "for i in range(1,30):\n",
    "    kmeans = KMeans(n_clusters=i, init='k-means++', random_state=0)\n",
    "    kmeans.fit(test)\n",
    "    wcss.append(kmeans.inertia_)"
   ]
  },
  {
   "attachments": {},
   "cell_type": "markdown",
   "id": "dd0b8039-e112-415d-964c-f14f1991101f",
   "metadata": {},
   "source": [
    "## 損失函數圖"
   ]
  },
  {
   "cell_type": "code",
   "execution_count": null,
   "id": "6a12acdf-eb79-4eb1-babb-ed12552d0080",
   "metadata": {},
   "outputs": [],
   "source": [
    "%matplotlib inline\n",
    "import matplotlib.pyplot as plt \n",
    "\n",
    "plt.plot(range(1,30), wcss, marker='o')\n",
    "plt.title('Elbow graph')\n",
    "plt.xlabel('Cluster number')\n",
    "plt.ylabel('WCSS')\n",
    "plt.show()"
   ]
  },
  {
   "attachments": {},
   "cell_type": "markdown",
   "id": "80713d2b-ba92-4761-af20-53243fc85759",
   "metadata": {},
   "source": [
    "## 以損失函數來看分8群左右就已經基本可以反應了"
   ]
  },
  {
   "cell_type": "code",
   "execution_count": null,
   "id": "68a31822-1a07-4228-b2a1-7120fcd98e4e",
   "metadata": {},
   "outputs": [],
   "source": [
    "kmeans = KMeans(n_clusters=8, init='k-means++', random_state=0)\n",
    "sc_customers_2=sc_customers.drop(sc_customers.columns[0], axis=1)\n",
    "sc_customers['clusters'] = kmeans.fit_predict(sc_customers_2)\n",
    "sc_customers.tail(10)"
   ]
  },
  {
   "cell_type": "code",
   "execution_count": null,
   "id": "12e1ea15-2746-468b-aa47-21d08f6d3d87",
   "metadata": {},
   "outputs": [],
   "source": [
    "sc_customers_2.head(10)"
   ]
  },
  {
   "attachments": {},
   "cell_type": "markdown",
   "id": "f9c0a76b-04fb-4433-8c56-3adcf8084843",
   "metadata": {},
   "source": [
    "## 檢查最佳的是在第幾群，可以看出最佳在第二群"
   ]
  },
  {
   "cell_type": "code",
   "execution_count": 30,
   "id": "0f6d1408-1af6-409f-a19d-0bf40b0adc51",
   "metadata": {},
   "outputs": [
    {
     "ename": "AttributeError",
     "evalue": "'KMeans' object has no attribute 'cluster_centers_'",
     "output_type": "error",
     "traceback": [
      "\u001b[1;31m---------------------------------------------------------------------------\u001b[0m",
      "\u001b[1;31mAttributeError\u001b[0m                            Traceback (most recent call last)",
      "\u001b[1;32mc:\\Users\\kc.hsu\\Python workspace\\sales_related\\Marketing相關\\客戶分群\\rfm_analysis.ipynb 儲存格 143\u001b[0m in \u001b[0;36m<cell line: 1>\u001b[1;34m()\u001b[0m\n\u001b[1;32m----> <a href='vscode-notebook-cell:/c%3A/Users/kc.hsu/Python%20workspace/sales_related/Marketing%E7%9B%B8%E9%97%9C/%E5%AE%A2%E6%88%B6%E5%88%86%E7%BE%A4/rfm_analysis.ipynb#Y262sZmlsZQ%3D%3D?line=0'>1</a>\u001b[0m \u001b[39mround\u001b[39m(pd\u001b[39m.\u001b[39mDataFrame(kmeans\u001b[39m.\u001b[39;49mcluster_centers_),\u001b[39m2\u001b[39m)\n",
      "\u001b[1;31mAttributeError\u001b[0m: 'KMeans' object has no attribute 'cluster_centers_'"
     ]
    }
   ],
   "source": [
    "round(pd.DataFrame(kmeans.cluster_centers_),2)"
   ]
  },
  {
   "cell_type": "code",
   "execution_count": null,
   "id": "d3de58ea-ce9e-4cf3-ae46-f1075d7d91b6",
   "metadata": {},
   "outputs": [],
   "source": [
    "kmeans_result = round(pd.DataFrame(kmeans.cluster_centers_),2)"
   ]
  },
  {
   "cell_type": "code",
   "execution_count": null,
   "id": "307b433b-b8d6-4849-b6ff-44d4b633971e",
   "metadata": {},
   "outputs": [],
   "source": [
    "kmeans_result[\"score\"] = kmeans_result.sum(axis=1)"
   ]
  },
  {
   "cell_type": "code",
   "execution_count": null,
   "id": "d8b9937f-93aa-4882-9fa4-12b1ea070e54",
   "metadata": {},
   "outputs": [],
   "source": [
    "kmeans_result"
   ]
  },
  {
   "cell_type": "code",
   "execution_count": null,
   "id": "8d1bb7e1-faf6-4384-8f04-35605a6f640a",
   "metadata": {},
   "outputs": [],
   "source": [
    "kmeans_rank_dict = {2: \"VIP\", 4: \"S\", 6: \"A\", 0: \"B\", 7: \"C\", 3: \"D\", 5: \"E\", 1: \"F\"}"
   ]
  },
  {
   "cell_type": "code",
   "execution_count": null,
   "id": "b1cdd666-f862-45c3-9fdf-2e35e0c56755",
   "metadata": {},
   "outputs": [],
   "source": [
    "sc_customers[\"客戶等級\"] = sc_customers[\"clusters\"].map(kmeans_rank_dict)"
   ]
  },
  {
   "cell_type": "code",
   "execution_count": null,
   "id": "7fcafaf3-5527-4d28-aca4-b6f2353baa2f",
   "metadata": {},
   "outputs": [],
   "source": [
    "cluster_result = sc_customers"
   ]
  },
  {
   "cell_type": "code",
   "execution_count": null,
   "id": "13abaa8f-d78c-4976-a335-d9d6a1aae482",
   "metadata": {},
   "outputs": [],
   "source": [
    "cluster_result"
   ]
  },
  {
   "cell_type": "code",
   "execution_count": null,
   "id": "795e2ea2-ccc0-4764-800c-35e7ca71e0b8",
   "metadata": {},
   "outputs": [],
   "source": [
    "rfmSegmentation_k.columns"
   ]
  },
  {
   "cell_type": "code",
   "execution_count": null,
   "id": "2782a89a-b507-4b2c-9cf9-fe292c5a21ad",
   "metadata": {},
   "outputs": [],
   "source": [
    "final_result = sc_customers.merge(rfmSegmentation_k, on=['客戶名稱', 'R_Quartile', 'F_Quartile', 'M_Quartile', 'V_Quartile'])"
   ]
  },
  {
   "cell_type": "code",
   "execution_count": null,
   "id": "5bac25b7-19c1-467f-9331-1dc1959747e8",
   "metadata": {},
   "outputs": [],
   "source": [
    "final_result.to_excel(r\"C:\\Users\\kc.hsu\\Desktop\\kmeans_rfm_model.xlsx\", index=False)"
   ]
  },
  {
   "cell_type": "code",
   "execution_count": null,
   "id": "b620e653-6a59-49dc-af94-4c193e99d7a6",
   "metadata": {},
   "outputs": [],
   "source": [
    "import plotly.express as px\n",
    "import plotly\n",
    "plotly.offline.init_notebook_mode()"
   ]
  },
  {
   "cell_type": "code",
   "execution_count": null,
   "id": "5c94b955-47d2-45d8-a9c9-e37b8ade12e9",
   "metadata": {},
   "outputs": [],
   "source": [
    "k_means_plot = px.scatter_3d(final_result, x=\"recency\", y=\"amount\", z=\"frequency\", color=\"客戶等級_x\", log_y=True, log_x=True, height=1080, title=\"K-means分群\", hover_data=[\"客戶名稱\"])\n",
    "k_means_plot.show()"
   ]
  },
  {
   "cell_type": "code",
   "execution_count": null,
   "id": "d51febad-2f72-4212-b30e-8788540d77be",
   "metadata": {},
   "outputs": [],
   "source": [
    "manual_cluster_plot = px.scatter_3d(final_result, x=\"recency\", y=\"amount\", z=\"frequency\", color=\"客戶等級_y\", log_y=True, log_x=True, height=1080, title=\"人工分群\")\n",
    "manual_cluster_plot.show()"
   ]
  },
  {
   "cell_type": "code",
   "execution_count": null,
   "id": "e9957805",
   "metadata": {},
   "outputs": [],
   "source": []
  },
  {
   "attachments": {},
   "cell_type": "markdown",
   "id": "7bcdea15",
   "metadata": {},
   "source": [
    "### 20230613 Kmeans實作"
   ]
  },
  {
   "cell_type": "code",
   "execution_count": 55,
   "id": "790f3f93",
   "metadata": {},
   "outputs": [],
   "source": [
    "df = pd.read_excel(r\"D:\\kc.hsu\\OneDrive - Bridgestone\\行銷推廣\\客戶分群\\2023年上半年\\20230605_RFM.xlsx\", None)"
   ]
  },
  {
   "cell_type": "code",
   "execution_count": 56,
   "id": "ed468bd6-95ab-44d8-b673-697465676ae0",
   "metadata": {},
   "outputs": [],
   "source": [
    "result = df[\"Sheet1\"]"
   ]
  },
  {
   "cell_type": "code",
   "execution_count": 57,
   "id": "a1c2fc5a",
   "metadata": {},
   "outputs": [],
   "source": [
    "test = result[[\"Recency\", \"Frequency\", \"Monetary\"]]"
   ]
  },
  {
   "cell_type": "code",
   "execution_count": 46,
   "id": "1c5ee9aa",
   "metadata": {},
   "outputs": [],
   "source": [
    "\n",
    "final = KMeans(init=\"k-means++\", n_clusters=4, max_iter=10000, n_init=100).fit(test)"
   ]
  },
  {
   "cell_type": "code",
   "execution_count": 58,
   "id": "4c361d34",
   "metadata": {},
   "outputs": [],
   "source": [
    "wcss = []\n",
    "for i in range(1,30):\n",
    "    kmeans = KMeans(n_clusters=i, init='k-means++', random_state=0, max_iter=10000, n_init=100)\n",
    "    kmeans.fit(test)\n",
    "    wcss.append(kmeans.inertia_)"
   ]
  },
  {
   "cell_type": "code",
   "execution_count": 59,
   "id": "0f2d8510",
   "metadata": {},
   "outputs": [
    {
     "data": {
      "image/png": "[encoded data removed]",
      "text/plain": [
       "<Figure size 432x288 with 1 Axes>"
      ]
     },
     "metadata": {
      "needs_background": "light"
     },
     "output_type": "display_data"
    }
   ],
   "source": [
    "%matplotlib inline\n",
    "import matplotlib.pyplot as plt \n",
    "\n",
    "plt.plot(range(1,30), wcss, marker='o')\n",
    "plt.title('Elbow graph')\n",
    "plt.xlabel('Cluster number')\n",
    "plt.ylabel('WCSS')\n",
    "plt.show()"
   ]
  },
  {
   "cell_type": "code",
   "execution_count": 60,
   "id": "1dbfe4d6",
   "metadata": {},
   "outputs": [
    {
     "name": "stderr",
     "output_type": "stream",
     "text": [
      "C:\\Users\\kc.hsu\\AppData\\Local\\Temp\\ipykernel_17248\\2339854965.py:2: SettingWithCopyWarning: \n",
      "A value is trying to be set on a copy of a slice from a DataFrame.\n",
      "Try using .loc[row_indexer,col_indexer] = value instead\n",
      "\n",
      "See the caveats in the documentation: https://pandas.pydata.org/pandas-docs/stable/user_guide/indexing.html#returning-a-view-versus-a-copy\n",
      "  test['clusters'] = kmeans.fit_predict(test)\n"
     ]
    },
    {
     "data": {
      "text/html": [
       "<div><div id=451cf0c0-e143-41ef-a061-23ca082d5873 style=\"display:none; background-color:#9D6CFF; color:white; width:200px; height:30px; padding-left:5px; border-radius:4px; flex-direction:row; justify-content:space-around; align-items:center;\" onmouseover=\"this.style.backgroundColor='#BA9BF8'\" onmouseout=\"this.style.backgroundColor='#9D6CFF'\" onclick=\"window.commands?.execute('create-mitosheet-from-dataframe-output');\">See Full Dataframe in Mito</div> <script> if (window.commands?.hasCommand('create-mitosheet-from-dataframe-output')) document.getElementById('451cf0c0-e143-41ef-a061-23ca082d5873').style.display = 'flex' </script> <table border=\"1\" class=\"dataframe\">\n",
       "  <thead>\n",
       "    <tr style=\"text-align: right;\">\n",
       "      <th></th>\n",
       "      <th>Recency</th>\n",
       "      <th>Frequency</th>\n",
       "      <th>Monetary</th>\n",
       "      <th>clusters</th>\n",
       "    </tr>\n",
       "  </thead>\n",
       "  <tbody>\n",
       "    <tr>\n",
       "      <th>326</th>\n",
       "      <td>143</td>\n",
       "      <td>1</td>\n",
       "      <td>29336</td>\n",
       "      <td>0</td>\n",
       "    </tr>\n",
       "    <tr>\n",
       "      <th>327</th>\n",
       "      <td>143</td>\n",
       "      <td>1</td>\n",
       "      <td>78900</td>\n",
       "      <td>0</td>\n",
       "    </tr>\n",
       "    <tr>\n",
       "      <th>328</th>\n",
       "      <td>145</td>\n",
       "      <td>1</td>\n",
       "      <td>26636</td>\n",
       "      <td>0</td>\n",
       "    </tr>\n",
       "    <tr>\n",
       "      <th>329</th>\n",
       "      <td>147</td>\n",
       "      <td>3</td>\n",
       "      <td>72498</td>\n",
       "      <td>0</td>\n",
       "    </tr>\n",
       "    <tr>\n",
       "      <th>330</th>\n",
       "      <td>147</td>\n",
       "      <td>2</td>\n",
       "      <td>23642</td>\n",
       "      <td>0</td>\n",
       "    </tr>\n",
       "    <tr>\n",
       "      <th>331</th>\n",
       "      <td>149</td>\n",
       "      <td>1</td>\n",
       "      <td>7527</td>\n",
       "      <td>0</td>\n",
       "    </tr>\n",
       "    <tr>\n",
       "      <th>332</th>\n",
       "      <td>149</td>\n",
       "      <td>1</td>\n",
       "      <td>29336</td>\n",
       "      <td>0</td>\n",
       "    </tr>\n",
       "    <tr>\n",
       "      <th>333</th>\n",
       "      <td>151</td>\n",
       "      <td>1</td>\n",
       "      <td>14860</td>\n",
       "      <td>0</td>\n",
       "    </tr>\n",
       "    <tr>\n",
       "      <th>334</th>\n",
       "      <td>152</td>\n",
       "      <td>1</td>\n",
       "      <td>7430</td>\n",
       "      <td>0</td>\n",
       "    </tr>\n",
       "    <tr>\n",
       "      <th>335</th>\n",
       "      <td>153</td>\n",
       "      <td>1</td>\n",
       "      <td>13896</td>\n",
       "      <td>0</td>\n",
       "    </tr>\n",
       "  </tbody>\n",
       "</table></div>"
      ],
      "text/plain": [
       "     Recency  Frequency  Monetary  clusters\n",
       "326      143          1     29336         0\n",
       "327      143          1     78900         0\n",
       "328      145          1     26636         0\n",
       "329      147          3     72498         0\n",
       "330      147          2     23642         0\n",
       "331      149          1      7527         0\n",
       "332      149          1     29336         0\n",
       "333      151          1     14860         0\n",
       "334      152          1      7430         0\n",
       "335      153          1     13896         0"
      ]
     },
     "execution_count": 60,
     "metadata": {},
     "output_type": "execute_result"
    }
   ],
   "source": [
    "kmeans = KMeans(n_clusters=5, init='k-means++', random_state=0, max_iter=10000, n_init=100)\n",
    "test['clusters'] = kmeans.fit_predict(test)\n",
    "test.tail(10)"
   ]
  },
  {
   "cell_type": "code",
   "execution_count": 62,
   "id": "7920f147",
   "metadata": {},
   "outputs": [
    {
     "name": "stderr",
     "output_type": "stream",
     "text": [
      "c:\\Users\\kc.hsu\\Python workspace\\python_env\\lib\\site-packages\\sklearn\\base.py:420: UserWarning: X does not have valid feature names, but KMeans was fitted with feature names\n",
      "  warnings.warn(\n"
     ]
    },
    {
     "data": {
      "text/plain": [
       "array([3])"
      ]
     },
     "execution_count": 62,
     "metadata": {},
     "output_type": "execute_result"
    }
   ],
   "source": [
    "kmeans.predict([[2, 50, 5000000]])"
   ]
  },
  {
   "cell_type": "code",
   "execution_count": 63,
   "id": "3908eb39",
   "metadata": {},
   "outputs": [
    {
     "data": {
      "text/plain": [
       "array([[5.11423221e+01, 3.26217228e+00, 2.08284719e+05],\n",
       "       [5.66666667e+00, 6.20000000e+01, 1.68914780e+07],\n",
       "       [2.06538462e+01, 1.57884615e+01, 1.96957040e+06],\n",
       "       [8.07692308e+00, 3.92307692e+01, 5.40898562e+06],\n",
       "       [5.00000000e+00, 1.49000000e+02, 2.71951360e+07]])"
      ]
     },
     "execution_count": 63,
     "metadata": {},
     "output_type": "execute_result"
    }
   ],
   "source": [
    "kmeans.cluster_centers_"
   ]
  },
  {
   "cell_type": "code",
   "execution_count": 64,
   "id": "4153b97a",
   "metadata": {},
   "outputs": [
    {
     "data": {
      "text/plain": [
       "array([4, 1, 3, 3, 3, 1, 2, 3, 3, 2, 0, 2, 2, 2, 2, 0, 0, 0, 0, 2, 3, 3,\n",
       "       0, 2, 2, 0, 0, 0, 0, 0, 0, 0, 1, 0, 3, 3, 2, 2, 0, 3, 0, 0, 2, 0,\n",
       "       0, 0, 0, 0, 0, 0, 0, 0, 2, 0, 0, 0, 0, 0, 0, 0, 0, 0, 2, 2, 0, 0,\n",
       "       0, 0, 0, 0, 0, 0, 0, 2, 0, 0, 0, 0, 0, 2, 2, 3, 0, 2, 0, 0, 0, 0,\n",
       "       2, 2, 0, 0, 2, 0, 0, 2, 2, 0, 0, 3, 2, 2, 3, 0, 0, 0, 0, 0, 2, 2,\n",
       "       2, 0, 0, 0, 0, 0, 0, 0, 0, 0, 0, 0, 0, 0, 0, 0, 0, 0, 2, 0, 0, 2,\n",
       "       2, 0, 2, 0, 0, 0, 0, 0, 0, 0, 0, 0, 2, 2, 2, 0, 2, 2, 0, 2, 0, 0,\n",
       "       0, 0, 0, 0, 2, 0, 0, 0, 0, 0, 0, 2, 0, 0, 0, 2, 0, 0, 0, 2, 2, 0,\n",
       "       0, 0, 0, 0, 2, 0, 0, 0, 0, 2, 0, 0, 0, 0, 0, 0, 0, 0, 0, 2, 2, 0,\n",
       "       0, 0, 0, 0, 0, 0, 0, 2, 0, 0, 0, 0, 0, 0, 0, 0, 0, 0, 0, 0, 0, 0,\n",
       "       0, 0, 0, 0, 0, 0, 0, 0, 0, 0, 0, 0, 0, 0, 0, 0, 0, 0, 0, 0, 0, 2,\n",
       "       0, 2, 0, 0, 0, 0, 0, 0, 2, 0, 0, 0, 0, 0, 0, 0, 0, 0, 0, 0, 0, 0,\n",
       "       0, 0, 0, 0, 0, 0, 0, 0, 0, 0, 0, 0, 0, 0, 0, 0, 0, 0, 0, 0, 0, 0,\n",
       "       0, 0, 0, 0, 0, 0, 0, 0, 0, 0, 0, 0, 0, 0, 0, 0, 0, 0, 0, 0, 0, 0,\n",
       "       0, 0, 0, 0, 0, 0, 0, 0, 0, 0, 0, 0, 0, 0, 0, 0, 0, 0, 0, 0, 0, 0,\n",
       "       0, 0, 0, 0, 0, 0])"
      ]
     },
     "execution_count": 64,
     "metadata": {},
     "output_type": "execute_result"
    }
   ],
   "source": [
    "kmeans.labels_"
   ]
  },
  {
   "cell_type": "code",
   "execution_count": 65,
   "id": "d0c03ab3",
   "metadata": {},
   "outputs": [
    {
     "data": {
      "text/html": [
       "<div><div id=786dd731-d171-45a6-bce1-488a600010ca style=\"display:none; background-color:#9D6CFF; color:white; width:200px; height:30px; padding-left:5px; border-radius:4px; flex-direction:row; justify-content:space-around; align-items:center;\" onmouseover=\"this.style.backgroundColor='#BA9BF8'\" onmouseout=\"this.style.backgroundColor='#9D6CFF'\" onclick=\"window.commands?.execute('create-mitosheet-from-dataframe-output');\">See Full Dataframe in Mito</div> <script> if (window.commands?.hasCommand('create-mitosheet-from-dataframe-output')) document.getElementById('786dd731-d171-45a6-bce1-488a600010ca').style.display = 'flex' </script> <table border=\"1\" class=\"dataframe\">\n",
       "  <thead>\n",
       "    <tr style=\"text-align: right;\">\n",
       "      <th></th>\n",
       "      <th>0</th>\n",
       "      <th>1</th>\n",
       "      <th>2</th>\n",
       "    </tr>\n",
       "  </thead>\n",
       "  <tbody>\n",
       "    <tr>\n",
       "      <th>0</th>\n",
       "      <td>51.0</td>\n",
       "      <td>3.0</td>\n",
       "      <td>208285.0</td>\n",
       "    </tr>\n",
       "    <tr>\n",
       "      <th>1</th>\n",
       "      <td>6.0</td>\n",
       "      <td>62.0</td>\n",
       "      <td>16891478.0</td>\n",
       "    </tr>\n",
       "    <tr>\n",
       "      <th>2</th>\n",
       "      <td>21.0</td>\n",
       "      <td>16.0</td>\n",
       "      <td>1969570.0</td>\n",
       "    </tr>\n",
       "    <tr>\n",
       "      <th>3</th>\n",
       "      <td>8.0</td>\n",
       "      <td>39.0</td>\n",
       "      <td>5408986.0</td>\n",
       "    </tr>\n",
       "    <tr>\n",
       "      <th>4</th>\n",
       "      <td>5.0</td>\n",
       "      <td>149.0</td>\n",
       "      <td>27195136.0</td>\n",
       "    </tr>\n",
       "  </tbody>\n",
       "</table></div>"
      ],
      "text/plain": [
       "      0      1           2\n",
       "0  51.0    3.0    208285.0\n",
       "1   6.0   62.0  16891478.0\n",
       "2  21.0   16.0   1969570.0\n",
       "3   8.0   39.0   5408986.0\n",
       "4   5.0  149.0  27195136.0"
      ]
     },
     "execution_count": 65,
     "metadata": {},
     "output_type": "execute_result"
    }
   ],
   "source": [
    "round(pd.DataFrame(kmeans.cluster_centers_), 0)"
   ]
  }
 ],
 "metadata": {
  "kernelspec": {
   "display_name": "Python 3 (ipykernel)",
   "language": "python",
   "name": "python3"
  },
  "language_info": {
   "codemirror_mode": {
    "name": "ipython",
    "version": 3
   },
   "file_extension": ".py",
   "mimetype": "text/x-python",
   "name": "python",
   "nbconvert_exporter": "python",
   "pygments_lexer": "ipython3",
   "version": "3.10.6"
  }
 },
 "nbformat": 4,
 "nbformat_minor": 5
}
