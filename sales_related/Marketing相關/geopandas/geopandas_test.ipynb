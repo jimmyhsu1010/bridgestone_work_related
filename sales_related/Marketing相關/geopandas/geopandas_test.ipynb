{
 "cells": [
  {
   "cell_type": "code",
   "execution_count": 5,
   "metadata": {},
   "outputs": [],
   "source": [
    "import pandas as pd\n",
    "import geopandas as gpd\n",
    "from shapely.geometry import Point\n",
    "pd.set_option(\"display.max_columns\", None)\n",
    "import json\n",
    "import folium\n",
    "import warnings\n",
    "warnings.filterwarnings(\"ignore\")\n",
    "import requests\n",
    "import os\n",
    "import plotly.express as px\n",
    "import tkinter as tk\n",
    "from tkinter import filedialog\n",
    "from selectolax.parser import HTMLParser\n",
    "from folium.features import CustomIcon\n",
    "from folium.plugins import MarkerCluster\n",
    "import branca\n",
    "import altair as alt"
   ]
  },
  {
   "cell_type": "markdown",
   "metadata": {},
   "source": [
    "### 讀取BS的FMC並使用tomtom的api來使用地址返回經緯度"
   ]
  },
  {
   "cell_type": "code",
   "execution_count": 7,
   "metadata": {},
   "outputs": [],
   "source": [
    "# bs_shops = pd.read_csv(r\"D:\\kc.hsu\\OneDrive - Bridgestone\\行銷推廣\\掛牌店\\20230712_FMC全部名單.csv\")\n",
    "bs_shops = pd.read_csv(\"/Users/kai/Library/CloudStorage/OneDrive-Bridgestone/行銷推廣/掛牌店/20230712_FMC全部名單.csv\")"
   ]
  },
  {
   "cell_type": "code",
   "execution_count": 8,
   "metadata": {},
   "outputs": [],
   "source": [
    "def get_geometry(address):\n",
    "        url = 'https://api.tomtom.com/search/2/geocode/{}.json?&key=k0ZVFafBkRAmK0rAWeA2yC2CZTkRCxhc&countrySet=TWN&language=zh-TW&limit=1'.format(\n",
    "                address)\n",
    "        res = requests.get(url)\n",
    "        return tuple(reversed(res.json()[\"results\"][0][\"position\"].values()))"
   ]
  },
  {
   "cell_type": "code",
   "execution_count": 9,
   "metadata": {},
   "outputs": [],
   "source": [
    "bs_shops[\"geometry\"] = bs_shops[\"地址\"].map(get_geometry)"
   ]
  },
  {
   "cell_type": "code",
   "execution_count": 10,
   "metadata": {},
   "outputs": [],
   "source": [
    "bs_shops[\"geometry\"] = bs_shops[\"geometry\"].map(lambda x: Point(x))"
   ]
  },
  {
   "cell_type": "code",
   "execution_count": 11,
   "metadata": {},
   "outputs": [],
   "source": [
    "bs_shops[\"店別\"] = bs_shops[\"大胎契約\"].map(lambda x: \"BFP\" if x == 3 else \"TTC\")"
   ]
  },
  {
   "cell_type": "code",
   "execution_count": 13,
   "metadata": {},
   "outputs": [],
   "source": [
    "bs_shops.to_csv(\"/Users/kai/Library/CloudStorage/OneDrive-Bridgestone/行銷推廣/掛牌店/20230712_FMC全部名單.csv\", index=False, encoding=\"utf-8-sig\")"
   ]
  },
  {
   "cell_type": "markdown",
   "metadata": {},
   "source": [
    "### 2021-2023YTD銷售"
   ]
  },
  {
   "cell_type": "code",
   "execution_count": 15,
   "metadata": {},
   "outputs": [],
   "source": [
    "# sales = pd.read_parquet(r\"D:\\kc.hsu\\OneDrive - Bridgestone\\數據\\銷售數據\\長期銷售記錄\\2017-202208.parquet\")\n",
    "sales = pd.read_parquet(\"/Users/kai/Library/CloudStorage/OneDrive-Bridgestone/數據/銷售數據/長期銷售記錄/2017-202208.parquet\")"
   ]
  },
  {
   "cell_type": "code",
   "execution_count": 16,
   "metadata": {},
   "outputs": [],
   "source": [
    "cus_list = ['C1B10329', 'C1C10413', 'C2A10084', 'C2A10239', 'C2A10526',\n",
    "       'C2A10568', 'C2B10223', 'C2B10766', 'C2B10875', 'E1E10113',\n",
    "       'E1E10333', 'E1E10636', 'E1E10064', 'E1E10120', 'E1E10138',\n",
    "       'E1E10150', 'E1E10276', 'F1F10346', 'F1F10391', 'F1F10426',\n",
    "       'F1F10435', 'F1F10470', 'F1F10139', 'F1F10451', 'H0G1A022',\n",
    "       'H0G1B024', 'H0G1D045', 'H0G1E056', 'H0H1A006', 'H0H1A019',\n",
    "       'H0H1A034', 'H0H1A036', 'H0H1B110', 'H0H1C019', 'I1I1A012',\n",
    "       'I1I1B023', 'I1I1B113', 'I1I1B134', 'J1J10232', 'J1J10279',\n",
    "       'J1J10420', 'J1J10690', 'J1J10763', 'J1J10771', 'K1K10170',\n",
    "       'K1K10989', 'K1K11013', 'L1L1A006', 'L1L1B040', 'L1L1B051',\n",
    "       'L1L1B074', 'L1L1B092', 'L1L1C111', 'L1L1D027', 'L1L1D051',\n",
    "       'L1L1G033', 'L1L1H024', 'L1L1H025', 'L1L1H032', 'N1N1B105']"
   ]
  },
  {
   "cell_type": "code",
   "execution_count": 17,
   "metadata": {},
   "outputs": [],
   "source": [
    "plot_df = sales[(sales[\"實際出貨日\"] >= \"2021-01-01\") & (sales[\"買方\"].isin(cus_list))].groupby([pd.Grouper(key=\"實際出貨日\", freq=\"YS\"), \"買方\"])[[\"銷售數量\"]].sum().reset_index()"
   ]
  },
  {
   "cell_type": "code",
   "execution_count": 26,
   "metadata": {},
   "outputs": [],
   "source": [
    "plot_df[\"year\"] = plot_df[\"實際出貨日\"].dt.year"
   ]
  },
  {
   "cell_type": "code",
   "execution_count": 30,
   "metadata": {},
   "outputs": [],
   "source": [
    "plot_df[\"year\"] = plot_df[\"year\"].astype(str)"
   ]
  },
  {
   "cell_type": "code",
   "execution_count": 49,
   "metadata": {},
   "outputs": [],
   "source": [
    "def plotting(id):\n",
    "    p = plot_df[plot_df[\"買方\"] == id]\n",
    "    fig = px.bar(p, x=\"實際出貨日\", y=\"銷售數量\")\n",
    "    base_path = r\"C:\\Users\\kc.hsu\\Python workspace\\sales_related\\Marketing相關\\geopandas\\plots\"\n",
    "    file_name = \"\\\\\" + id + \".html\"\n",
    "    full_path = base_path + file_name\n",
    "    fig.update_layout(margin=dict(t=30,l=10,b=10,r=10))\n",
    "    fig.to_html(full_path)\n",
    "    return full_path"
   ]
  },
  {
   "cell_type": "code",
   "execution_count": 50,
   "metadata": {},
   "outputs": [],
   "source": [
    "bs_shops[\"plot\"] = bs_shops[\"客戶編號\"].map(plotting)"
   ]
  },
  {
   "cell_type": "code",
   "execution_count": 51,
   "metadata": {},
   "outputs": [
    {
     "data": {
      "text/html": [
       "<div><div id=80a0253a-afa4-4d50-a2b6-b9e461100a6a style=\"display:none; background-color:#9D6CFF; color:white; width:200px; height:30px; padding-left:5px; border-radius:4px; flex-direction:row; justify-content:space-around; align-items:center;\" onmouseover=\"this.style.backgroundColor='#BA9BF8'\" onmouseout=\"this.style.backgroundColor='#9D6CFF'\" onclick=\"window.commands?.execute('create-mitosheet-from-dataframe-output');\">See Full Dataframe in Mito</div> <script> if (window.commands?.hasCommand('create-mitosheet-from-dataframe-output')) document.getElementById('80a0253a-afa4-4d50-a2b6-b9e461100a6a').style.display = 'flex' </script> <table border=\"1\" class=\"dataframe\">\n",
       "  <thead>\n",
       "    <tr style=\"text-align: right;\">\n",
       "      <th></th>\n",
       "      <th>客戶編號</th>\n",
       "      <th>客戶名稱</th>\n",
       "      <th>販社通路</th>\n",
       "      <th>大胎契約</th>\n",
       "      <th>業務名稱</th>\n",
       "      <th>地址</th>\n",
       "      <th>geometry</th>\n",
       "      <th>店別</th>\n",
       "      <th>plot</th>\n",
       "    </tr>\n",
       "  </thead>\n",
       "  <tbody>\n",
       "    <tr>\n",
       "      <th>0</th>\n",
       "      <td>C1B10329</td>\n",
       "      <td>五七輪胎行</td>\n",
       "      <td>H</td>\n",
       "      <td>3</td>\n",
       "      <td>林俊良</td>\n",
       "      <td>桃園市龜山區文化三路416號</td>\n",
       "      <td>POINT (121.36703 25.05366)</td>\n",
       "      <td>BFP</td>\n",
       "      <td>C:\\Users\\kc.hsu\\Python workspace\\sales_related\\Marketing相關\\geopandas\\plots\\C1B10329.html</td>\n",
       "    </tr>\n",
       "    <tr>\n",
       "      <th>1</th>\n",
       "      <td>C1C10413</td>\n",
       "      <td>勇和實業有限公司</td>\n",
       "      <td>H</td>\n",
       "      <td>3</td>\n",
       "      <td>林俊良</td>\n",
       "      <td>新北市泰山區新五路一段20號</td>\n",
       "      <td>POINT (121.44056 25.0616)</td>\n",
       "      <td>BFP</td>\n",
       "      <td>C:\\Users\\kc.hsu\\Python workspace\\sales_related\\Marketing相關\\geopandas\\plots\\C1C10413.html</td>\n",
       "    </tr>\n",
       "    <tr>\n",
       "      <th>2</th>\n",
       "      <td>C2A10084</td>\n",
       "      <td>麒駪輪胎行</td>\n",
       "      <td>H</td>\n",
       "      <td>3</td>\n",
       "      <td>林俊良</td>\n",
       "      <td>新北市新店區安業街155-2號</td>\n",
       "      <td>POINT (121.52157 24.9738)</td>\n",
       "      <td>BFP</td>\n",
       "      <td>C:\\Users\\kc.hsu\\Python workspace\\sales_related\\Marketing相關\\geopandas\\plots\\C2A10084.html</td>\n",
       "    </tr>\n",
       "    <tr>\n",
       "      <th>3</th>\n",
       "      <td>C2A10239</td>\n",
       "      <td>協助輪胎有限公司</td>\n",
       "      <td>H</td>\n",
       "      <td>3</td>\n",
       "      <td>林俊良</td>\n",
       "      <td>新北市三重區環河北路二段330號</td>\n",
       "      <td>POINT (121.49799 25.08364)</td>\n",
       "      <td>BFP</td>\n",
       "      <td>C:\\Users\\kc.hsu\\Python workspace\\sales_related\\Marketing相關\\geopandas\\plots\\C2A10239.html</td>\n",
       "    </tr>\n",
       "    <tr>\n",
       "      <th>4</th>\n",
       "      <td>C2A10526</td>\n",
       "      <td>寬圍輪胎行</td>\n",
       "      <td>H</td>\n",
       "      <td>3</td>\n",
       "      <td>林俊良</td>\n",
       "      <td>新北市汐止區大同路三段453號</td>\n",
       "      <td>POINT (121.67869 25.07145)</td>\n",
       "      <td>BFP</td>\n",
       "      <td>C:\\Users\\kc.hsu\\Python workspace\\sales_related\\Marketing相關\\geopandas\\plots\\C2A10526.html</td>\n",
       "    </tr>\n",
       "    <tr>\n",
       "      <th>...</th>\n",
       "      <td>...</td>\n",
       "      <td>...</td>\n",
       "      <td>...</td>\n",
       "      <td>...</td>\n",
       "      <td>...</td>\n",
       "      <td>...</td>\n",
       "      <td>...</td>\n",
       "      <td>...</td>\n",
       "      <td>...</td>\n",
       "    </tr>\n",
       "    <tr>\n",
       "      <th>55</th>\n",
       "      <td>L1L1G033</td>\n",
       "      <td>安速輪胎有限公司</td>\n",
       "      <td>H</td>\n",
       "      <td>3</td>\n",
       "      <td>張正平</td>\n",
       "      <td>高雄市仁武區鳳仁路72-6號</td>\n",
       "      <td>POINT (120.35524 22.6828)</td>\n",
       "      <td>BFP</td>\n",
       "      <td>C:\\Users\\kc.hsu\\Python workspace\\sales_related\\Marketing相關\\geopandas\\plots\\L1L1G033.html</td>\n",
       "    </tr>\n",
       "    <tr>\n",
       "      <th>56</th>\n",
       "      <td>L1L1H024</td>\n",
       "      <td>信興輪胎行</td>\n",
       "      <td>H</td>\n",
       "      <td>3</td>\n",
       "      <td>張正平</td>\n",
       "      <td>高雄市路竹區中山路1303號</td>\n",
       "      <td>POINT (120.26198 22.85156)</td>\n",
       "      <td>BFP</td>\n",
       "      <td>C:\\Users\\kc.hsu\\Python workspace\\sales_related\\Marketing相關\\geopandas\\plots\\L1L1H024.html</td>\n",
       "    </tr>\n",
       "    <tr>\n",
       "      <th>57</th>\n",
       "      <td>L1L1H025</td>\n",
       "      <td>龍城輪胎行</td>\n",
       "      <td>H</td>\n",
       "      <td>3</td>\n",
       "      <td>張正平</td>\n",
       "      <td>高雄市路竹區環球路86之7號</td>\n",
       "      <td>POINT (120.27179 22.87838)</td>\n",
       "      <td>BFP</td>\n",
       "      <td>C:\\Users\\kc.hsu\\Python workspace\\sales_related\\Marketing相關\\geopandas\\plots\\L1L1H025.html</td>\n",
       "    </tr>\n",
       "    <tr>\n",
       "      <th>58</th>\n",
       "      <td>L1L1H032</td>\n",
       "      <td>越大輪胎有限公司</td>\n",
       "      <td>H</td>\n",
       "      <td>2</td>\n",
       "      <td>張正平</td>\n",
       "      <td>高雄市岡山區介壽東路91-1號</td>\n",
       "      <td>POINT (120.31249 22.78538)</td>\n",
       "      <td>TTC</td>\n",
       "      <td>C:\\Users\\kc.hsu\\Python workspace\\sales_related\\Marketing相關\\geopandas\\plots\\L1L1H032.html</td>\n",
       "    </tr>\n",
       "    <tr>\n",
       "      <th>59</th>\n",
       "      <td>N1N1B105</td>\n",
       "      <td>順發輪胎行</td>\n",
       "      <td>H</td>\n",
       "      <td>3</td>\n",
       "      <td>張正平</td>\n",
       "      <td>屏東縣南州鄉勝利路12-7號</td>\n",
       "      <td>POINT (120.53573 22.49122)</td>\n",
       "      <td>BFP</td>\n",
       "      <td>C:\\Users\\kc.hsu\\Python workspace\\sales_related\\Marketing相關\\geopandas\\plots\\N1N1B105.html</td>\n",
       "    </tr>\n",
       "  </tbody>\n",
       "</table></div>"
      ],
      "text/plain": [
       "        客戶編號         客戶名稱 販社通路  大胎契約 業務名稱                    地址  \\\n",
       "0   C1B10329        五七輪胎行    H     3  林俊良        桃園市龜山區文化三路416號   \n",
       "1   C1C10413     勇和實業有限公司    H     3  林俊良        新北市泰山區新五路一段20號   \n",
       "2   C2A10084        麒駪輪胎行    H     3  林俊良       新北市新店區安業街155-2號   \n",
       "3   C2A10239     協助輪胎有限公司    H     3  林俊良      新北市三重區環河北路二段330號   \n",
       "4   C2A10526        寬圍輪胎行    H     3  林俊良       新北市汐止區大同路三段453號   \n",
       "5   C2A10568   華聯輪胎股份有限公司    C     2  林俊良       新北市八里區中山路三段177號   \n",
       "6   C2B10223     豐車實業有限公司    H     3  林俊良       台北市北投區大度路三段187號   \n",
       "7   C2B10766       萬里達輪胎行    H     3  林俊良       基隆市七堵區堵南街11號之6號   \n",
       "8   C2B10875       健國有限公司    H     3  林俊良         台北市中山區松江路607號   \n",
       "9   E1E10113     文鹿汽車有限公司    H     3  林俊良       桃園市蘆竹區南崁路二段561號   \n",
       "10  E1E10333        歐珂輪胎行    H     3  林俊良        桃園市大園區民生南路7-2號   \n",
       "11  E1E10636        耐吉輪胎行    H     3  林俊良    桃園市蘆竹區富國路三段1082-1號   \n",
       "12  E1E10064     章化輪胎有限公司    H     3  徐烜威      桃園市中壢區內厝里中正路三段3號   \n",
       "13  E1E10120        協泰輪胎行    H     3  徐烜威       桃園市平鎮區延平路二段177號   \n",
       "14  E1E10138     三和輪業有限公司    H     3  徐烜威         桃園市楊梅區永美路361號   \n",
       "15  E1E10150        文建企業社    H     3  徐烜威    桃園市中壢區永福里西園路19巷42號   \n",
       "16  E1E10276     日亨輪胎有限公司    H     3  徐烜威      桃園市楊梅區四維里永美路410號   \n",
       "17  F1F10346   東昇輪胎企業有限公司    H     3  徐烜威        新竹縣竹東鎮北興路一段65號   \n",
       "18  F1F10391        大順輪胎行    H     3  徐烜威       新竹縣湖口鄉八德路1段386號   \n",
       "19  F1F10426     中華全佑有限公司    H     2  徐烜威       苗栗縣竹南鎮保安林52之10號   \n",
       "20  F1F10435     聯碩輪業有限公司    H     3  徐烜威          苗栗縣竹南鎮尖山101號   \n",
       "21  F1F10470        宏達輪胎行    H     3  徐烜威      新竹縣新豐鄉重興村新庄路362號   \n",
       "22  F1F10139        萬豐輪胎行    H     3  黃啟禮        苗栗縣後龍鎮台1線17之5號   \n",
       "23  F1F10451        協成輪胎行    H     3  黃啟禮      苗栗縣通霄鎮中山路15鄰347號   \n",
       "24  H0G1A022     承億輪胎有限公司    H     3  黃啟禮         台中市大雅區中山路136號   \n",
       "25  H0G1B024    托福多輪胎有限公司    H     3  黃啟禮    臺中市豐原區東湳里三豐路2段532號   \n",
       "26  H0G1D045       新永全輪胎行    H     3  黃啟禮    台中市東勢區新盛里東關路六段953號   \n",
       "27  H0G1E056        青益輪胎行    H     3  黃啟禮    臺中市后里區眉山里甲后路2段750號   \n",
       "28  H0H1A006     盟豐輪胎有限公司    H     3  黃啟禮    台中市清水區海濱里臨港路五段522號   \n",
       "29  H0H1A019     有勝車業有限公司    H     3  黃啟禮      台中市梧棲區港埠路一段1008號   \n",
       "30  H0H1A034        順德輪胎行    H     3  黃啟禮       台中市清水區民族路3段201號   \n",
       "31  H0H1A036     順偉輪胎有限公司    H     3  黃啟禮          台中市梧棲區自立路21號   \n",
       "32  H0H1B110  台中輪胎館股份有限公司    H     3  黃啟禮      台中市西屯區福林里玉門路168號   \n",
       "33  H0H1C019    永兆豐輪胎有限公司    H     3  黃啟禮      台中市霧峰區中投東路二段438號   \n",
       "34  I1I1A012        彰化輪胎行    H     2  黃啟禮          彰化縣秀水鄉平安路10號   \n",
       "35  I1I1B023        政茂輪胎行    H     3  黃啟禮    彰化縣埤頭鄉崙子村彰水路3段647號   \n",
       "36  I1I1B113      大銘輪胎企業社    H     3  黃啟禮       彰化縣二林鎮竹林路三段966號   \n",
       "37  I1I1B134    新政茂輪胎有限公司    H     3  黃啟禮    彰化縣埤頭鄉埤頭村東環路三段353號   \n",
       "38  J1J10232        太眾輪胎行    H     3  黃啟禮      雲林縣莿桐鄉興桐村和平路200號   \n",
       "39  J1J10279   旭輝輪胎五金有限公司    H     3  黃啟禮          雲林縣麥寮鄉工業路67號   \n",
       "40  J1J10420        統達輪胎行    H     3  張鴻宗  嘉義縣民雄鄉正大路三段2197號之10號   \n",
       "41  J1J10690        兆億輪胎行    H     3  張鴻宗       嘉義縣水上鄉江竹仔腳3-11號   \n",
       "42  J1J10763        銨贊輪胎行    H     3  張鴻宗      嘉義縣大林鎮平林里中正路763號   \n",
       "43  J1J10771     勁順輪胎有限公司    H     3  張鴻宗         嘉義縣大林鎮中正路800號   \n",
       "44  K1K10170    昇益昌輪胎有限公司    H     3  張鴻宗         高雄市路竹區中山路920號   \n",
       "45  K1K10989        勝弘輪胎行    H     3  張鴻宗        台南市麻豆區新生南路546號   \n",
       "46  K1K11013     榮隆國際有限公司    H     3  張鴻宗      臺南市善化區小新里小新營325號   \n",
       "47  L1L1A006        宏益輪胎行    H     3  張正平         高雄市小港區山明路598號   \n",
       "48  L1L1B040     永益鋼圈有限公司    H     3  張正平     高雄市鳳山區武慶里輜汽北一路19號   \n",
       "49  L1L1B051        宏泰輪胎行    H     3  張正平      高雄市鳳山區武漢里漢慶街138號   \n",
       "50  L1L1B074     新運輪業有限公司    H     3  張正平       高雄市楠梓區學專路599巷6號   \n",
       "51  L1L1B092     鼎鑫輪胎有限公司    H     3  張正平      高雄市岡山區程香里岡燕路631號   \n",
       "52  L1L1C111     興鋐輪胎有限公司    H     3  張正平       高雄市仁武區仁林路151之6號   \n",
       "53  L1L1D027        全佑輪胎行    H     3  張正平         高雄市前鎮區漁港路148號   \n",
       "54  L1L1D051     鍠昇輪胎有限公司    H     3  張正平          高雄市前鎮區佛佑路33號   \n",
       "55  L1L1G033     安速輪胎有限公司    H     3  張正平        高雄市仁武區鳳仁路72-6號   \n",
       "56  L1L1H024        信興輪胎行    H     3  張正平        高雄市路竹區中山路1303號   \n",
       "57  L1L1H025        龍城輪胎行    H     3  張正平        高雄市路竹區環球路86之7號   \n",
       "58  L1L1H032     越大輪胎有限公司    H     2  張正平       高雄市岡山區介壽東路91-1號   \n",
       "59  N1N1B105        順發輪胎行    H     3  張正平        屏東縣南州鄉勝利路12-7號   \n",
       "\n",
       "                      geometry   店別  \\\n",
       "0   POINT (121.36703 25.05366)  BFP   \n",
       "1    POINT (121.44056 25.0616)  BFP   \n",
       "2    POINT (121.52157 24.9738)  BFP   \n",
       "3   POINT (121.49799 25.08364)  BFP   \n",
       "4   POINT (121.67869 25.07145)  BFP   \n",
       "5   POINT (121.38132 25.14028)  TTC   \n",
       "6   POINT (121.46924 25.12271)  BFP   \n",
       "7   POINT (121.68817 25.08242)  BFP   \n",
       "8   POINT (121.53384 25.07071)  BFP   \n",
       "9    POINT (121.26409 25.0636)  BFP   \n",
       "10  POINT (121.20044 25.06734)  BFP   \n",
       "11  POINT (121.27074 25.05463)  BFP   \n",
       "12  POINT (121.18822 24.98383)  BFP   \n",
       "13  POINT (121.21098 24.94762)  BFP   \n",
       "14   POINT (121.18158 24.9167)  BFP   \n",
       "15  POINT (121.23382 24.97381)  BFP   \n",
       "16  POINT (121.18024 24.91594)  BFP   \n",
       "17  POINT (121.09928 24.72553)  BFP   \n",
       "18  POINT (121.03638 24.88008)  BFP   \n",
       "19   POINT (120.8756 24.69454)  TTC   \n",
       "20  POINT (120.87374 24.67716)  BFP   \n",
       "21  POINT (121.01047 24.88292)  BFP   \n",
       "22  POINT (120.79395 24.61437)  BFP   \n",
       "23  POINT (120.69604 24.53912)  BFP   \n",
       "24  POINT (120.64486 24.20962)  BFP   \n",
       "25   POINT (120.72061 24.2653)  BFP   \n",
       "26  POINT (120.83349 24.24165)  BFP   \n",
       "27  POINT (120.71904 24.30973)  BFP   \n",
       "28  POINT (120.53737 24.28264)  BFP   \n",
       "29  POINT (120.53639 24.24842)  BFP   \n",
       "30  POINT (120.53822 24.26986)  BFP   \n",
       "31  POINT (120.54905 24.23977)  BFP   \n",
       "32   POINT (120.6106 24.18802)  BFP   \n",
       "33  POINT (120.66445 24.07783)  BFP   \n",
       "34  POINT (120.50955 24.04889)  TTC   \n",
       "35  POINT (120.45923 23.89015)  BFP   \n",
       "36   POINT (120.3871 23.89816)  BFP   \n",
       "37   POINT (120.47216 23.8949)  BFP   \n",
       "38  POINT (120.50754 23.76824)  BFP   \n",
       "39  POINT (120.26897 23.78928)  BFP   \n",
       "40  POINT (120.48038 23.52091)  BFP   \n",
       "41  POINT (120.40574 23.42987)  BFP   \n",
       "42  POINT (120.45893 23.60727)  BFP   \n",
       "43  POINT (120.45857 23.60664)  BFP   \n",
       "44  POINT (120.26118 22.85243)  BFP   \n",
       "45  POINT (120.24469 23.17637)  BFP   \n",
       "46  POINT (120.30791 23.12425)  BFP   \n",
       "47  POINT (120.36124 22.57084)  BFP   \n",
       "48   POINT (120.3332 22.61755)  BFP   \n",
       "49  POINT (120.33324 22.61323)  BFP   \n",
       "50   POINT (120.3176 22.71739)  BFP   \n",
       "51  POINT (120.30808 22.79049)  BFP   \n",
       "52  POINT (120.37035 22.69766)  BFP   \n",
       "53  POINT (120.32095 22.58007)  BFP   \n",
       "54  POINT (120.32475 22.57326)  BFP   \n",
       "55   POINT (120.35524 22.6828)  BFP   \n",
       "56  POINT (120.26198 22.85156)  BFP   \n",
       "57  POINT (120.27179 22.87838)  BFP   \n",
       "58  POINT (120.31249 22.78538)  TTC   \n",
       "59  POINT (120.53573 22.49122)  BFP   \n",
       "\n",
       "                                                 plot  \n",
       "0   C:\\Users\\kc.hsu\\Python workspace\\sales_related...  \n",
       "1   C:\\Users\\kc.hsu\\Python workspace\\sales_related...  \n",
       "2   C:\\Users\\kc.hsu\\Python workspace\\sales_related...  \n",
       "3   C:\\Users\\kc.hsu\\Python workspace\\sales_related...  \n",
       "4   C:\\Users\\kc.hsu\\Python workspace\\sales_related...  \n",
       "5   C:\\Users\\kc.hsu\\Python workspace\\sales_related...  \n",
       "6   C:\\Users\\kc.hsu\\Python workspace\\sales_related...  \n",
       "7   C:\\Users\\kc.hsu\\Python workspace\\sales_related...  \n",
       "8   C:\\Users\\kc.hsu\\Python workspace\\sales_related...  \n",
       "9   C:\\Users\\kc.hsu\\Python workspace\\sales_related...  \n",
       "10  C:\\Users\\kc.hsu\\Python workspace\\sales_related...  \n",
       "11  C:\\Users\\kc.hsu\\Python workspace\\sales_related...  \n",
       "12  C:\\Users\\kc.hsu\\Python workspace\\sales_related...  \n",
       "13  C:\\Users\\kc.hsu\\Python workspace\\sales_related...  \n",
       "14  C:\\Users\\kc.hsu\\Python workspace\\sales_related...  \n",
       "15  C:\\Users\\kc.hsu\\Python workspace\\sales_related...  \n",
       "16  C:\\Users\\kc.hsu\\Python workspace\\sales_related...  \n",
       "17  C:\\Users\\kc.hsu\\Python workspace\\sales_related...  \n",
       "18  C:\\Users\\kc.hsu\\Python workspace\\sales_related...  \n",
       "19  C:\\Users\\kc.hsu\\Python workspace\\sales_related...  \n",
       "20  C:\\Users\\kc.hsu\\Python workspace\\sales_related...  \n",
       "21  C:\\Users\\kc.hsu\\Python workspace\\sales_related...  \n",
       "22  C:\\Users\\kc.hsu\\Python workspace\\sales_related...  \n",
       "23  C:\\Users\\kc.hsu\\Python workspace\\sales_related...  \n",
       "24  C:\\Users\\kc.hsu\\Python workspace\\sales_related...  \n",
       "25  C:\\Users\\kc.hsu\\Python workspace\\sales_related...  \n",
       "26  C:\\Users\\kc.hsu\\Python workspace\\sales_related...  \n",
       "27  C:\\Users\\kc.hsu\\Python workspace\\sales_related...  \n",
       "28  C:\\Users\\kc.hsu\\Python workspace\\sales_related...  \n",
       "29  C:\\Users\\kc.hsu\\Python workspace\\sales_related...  \n",
       "30  C:\\Users\\kc.hsu\\Python workspace\\sales_related...  \n",
       "31  C:\\Users\\kc.hsu\\Python workspace\\sales_related...  \n",
       "32  C:\\Users\\kc.hsu\\Python workspace\\sales_related...  \n",
       "33  C:\\Users\\kc.hsu\\Python workspace\\sales_related...  \n",
       "34  C:\\Users\\kc.hsu\\Python workspace\\sales_related...  \n",
       "35  C:\\Users\\kc.hsu\\Python workspace\\sales_related...  \n",
       "36  C:\\Users\\kc.hsu\\Python workspace\\sales_related...  \n",
       "37  C:\\Users\\kc.hsu\\Python workspace\\sales_related...  \n",
       "38  C:\\Users\\kc.hsu\\Python workspace\\sales_related...  \n",
       "39  C:\\Users\\kc.hsu\\Python workspace\\sales_related...  \n",
       "40  C:\\Users\\kc.hsu\\Python workspace\\sales_related...  \n",
       "41  C:\\Users\\kc.hsu\\Python workspace\\sales_related...  \n",
       "42  C:\\Users\\kc.hsu\\Python workspace\\sales_related...  \n",
       "43  C:\\Users\\kc.hsu\\Python workspace\\sales_related...  \n",
       "44  C:\\Users\\kc.hsu\\Python workspace\\sales_related...  \n",
       "45  C:\\Users\\kc.hsu\\Python workspace\\sales_related...  \n",
       "46  C:\\Users\\kc.hsu\\Python workspace\\sales_related...  \n",
       "47  C:\\Users\\kc.hsu\\Python workspace\\sales_related...  \n",
       "48  C:\\Users\\kc.hsu\\Python workspace\\sales_related...  \n",
       "49  C:\\Users\\kc.hsu\\Python workspace\\sales_related...  \n",
       "50  C:\\Users\\kc.hsu\\Python workspace\\sales_related...  \n",
       "51  C:\\Users\\kc.hsu\\Python workspace\\sales_related...  \n",
       "52  C:\\Users\\kc.hsu\\Python workspace\\sales_related...  \n",
       "53  C:\\Users\\kc.hsu\\Python workspace\\sales_related...  \n",
       "54  C:\\Users\\kc.hsu\\Python workspace\\sales_related...  \n",
       "55  C:\\Users\\kc.hsu\\Python workspace\\sales_related...  \n",
       "56  C:\\Users\\kc.hsu\\Python workspace\\sales_related...  \n",
       "57  C:\\Users\\kc.hsu\\Python workspace\\sales_related...  \n",
       "58  C:\\Users\\kc.hsu\\Python workspace\\sales_related...  \n",
       "59  C:\\Users\\kc.hsu\\Python workspace\\sales_related...  "
      ]
     },
     "execution_count": 51,
     "metadata": {},
     "output_type": "execute_result"
    }
   ],
   "source": [
    "bs_shops"
   ]
  },
  {
   "cell_type": "code",
   "execution_count": 37,
   "metadata": {},
   "outputs": [],
   "source": [
    "geo_bs_shops = gpd.GeoDataFrame(bs_shops, crs=4326, geometry=bs_shops[\"geometry\"])"
   ]
  },
  {
   "cell_type": "code",
   "execution_count": 38,
   "metadata": {},
   "outputs": [],
   "source": [
    "geojson_bs = json.loads(geo_bs_shops.to_json())"
   ]
  },
  {
   "cell_type": "markdown",
   "metadata": {},
   "source": [
    "### 讀取米其林輪胎店經緯度"
   ]
  },
  {
   "cell_type": "code",
   "execution_count": 39,
   "metadata": {},
   "outputs": [],
   "source": [
    "url = \"https://www.michelin.com.tw/truck/api/getdealer.php\"\n",
    "data = {\"category\": \"tryeplus\"}\n",
    "res = requests.post(url, data=data)\n",
    "mi_shops = pd.DataFrame(res.json()[\"data\"])\n",
    "mi_shops[\"lat\"] = mi_shops[\"lat\"].map(lambda x: x.split(\"+\")[0] if \"+\" in x else x)\n",
    "mi_shops[\"geometry\"] = mi_shops.apply(lambda x: Point(x[\"lng\"], x[\"lat\"]), axis=1)\n",
    "mi_shops = mi_shops[[\"name\", \"county\", \"district\", \"address\", \"geometry\"]]"
   ]
  },
  {
   "cell_type": "code",
   "execution_count": 40,
   "metadata": {},
   "outputs": [],
   "source": [
    "# pd.DataFrame to gpd.GeoDataFrame\n",
    "geo_mi_shops = gpd.GeoDataFrame(mi_shops, crs=4326, geometry=mi_shops[\"geometry\"])"
   ]
  },
  {
   "cell_type": "code",
   "execution_count": 41,
   "metadata": {},
   "outputs": [],
   "source": [
    "geojson_mi = json.loads(geo_mi_shops.to_json())"
   ]
  },
  {
   "cell_type": "markdown",
   "metadata": {},
   "source": [
    "### 讀取瑪吉斯輪胎店經緯度"
   ]
  },
  {
   "cell_type": "code",
   "execution_count": 42,
   "metadata": {},
   "outputs": [],
   "source": [
    "def get_total_pages():\n",
    "    res = requests.get(\"https://www.cst.com.tw/dealers.php?city=0&area=0&tire=32\")\n",
    "    content = HTMLParser(res.text)\n",
    "    page = int(content.css_first(\"ul.pagination.pagination-lg > li:nth-last-child(2)\").text())\n",
    "    page += 1\n",
    "    return page"
   ]
  },
  {
   "cell_type": "code",
   "execution_count": 43,
   "metadata": {},
   "outputs": [],
   "source": [
    "def get_ma_shops():\n",
    "    datas = []\n",
    "    pages = get_total_pages()\n",
    "    for page in range(1, pages):\n",
    "        url = \"https://www.cst.com.tw/dealers.php?city=0&area=0&tire=32&page={}\".format(page)\n",
    "        res = requests.get(url)\n",
    "        content = HTMLParser(res.text)\n",
    "        for c in content.css(\"div.row > div.col-md-6 > div.row > div.col-md-6:nth-child(2n)\"):\n",
    "            name = c.css_first(\"h4\").text()\n",
    "            tel = c.css_first(\"p.txt_org\").text()\n",
    "            address = c.css_first(\"p:nth-last-child(2)\").text()\n",
    "            data = [name, tel, address]\n",
    "            datas.append(data)\n",
    "    df = pd.DataFrame(datas, columns=[\"name\", \"tel\", \"address\"])\n",
    "    return df\n",
    "    "
   ]
  },
  {
   "cell_type": "code",
   "execution_count": 44,
   "metadata": {},
   "outputs": [],
   "source": [
    "ma_shops = get_ma_shops()"
   ]
  },
  {
   "cell_type": "code",
   "execution_count": 45,
   "metadata": {},
   "outputs": [],
   "source": [
    "ma_shops[\"geometry\"] = ma_shops[\"address\"].map(get_geometry)"
   ]
  },
  {
   "cell_type": "code",
   "execution_count": 46,
   "metadata": {},
   "outputs": [],
   "source": [
    "ma_shops[\"geometry\"] = ma_shops[\"geometry\"].map(lambda x: Point(x))"
   ]
  },
  {
   "cell_type": "code",
   "execution_count": 47,
   "metadata": {},
   "outputs": [],
   "source": [
    "geo_ma_shops = gpd.GeoDataFrame(ma_shops, crs=4326, geometry=ma_shops[\"geometry\"])"
   ]
  },
  {
   "cell_type": "code",
   "execution_count": 48,
   "metadata": {},
   "outputs": [],
   "source": [
    "geojson_ma = json.loads(geo_ma_shops.to_json())"
   ]
  },
  {
   "cell_type": "markdown",
   "metadata": {},
   "source": [
    "### 讀取台灣縣市界圖的shp"
   ]
  },
  {
   "cell_type": "code",
   "execution_count": 54,
   "metadata": {},
   "outputs": [],
   "source": [
    "## 縣市界圖\n",
    "# city_map = gpd.read_file(r\"C:\\Users\\kc.hsu\\Downloads\\COUNTY_MOI_1090820.shp\", encoding=\"utf-8\")\n",
    "city_map = gpd.read_file(\"https://data.moi.gov.tw/MoiOD/System/DownloadFile.aspx?DATA=72874C55-884D-4CEA-B7D6-F60B0BE85AB0\", encoding=\"utf-8\")\n",
    "# city_map = city_map.to_crs({\"init\": \"epsg:4326\"})"
   ]
  },
  {
   "cell_type": "code",
   "execution_count": 26,
   "metadata": {},
   "outputs": [],
   "source": [
    "## 鄉鎮市區界圖\n",
    "def get_geo_data():\n",
    "    cc = gpd.read_file(r\"C:\\Users\\kc.hsu\\Python workspace\\sales_related\\Marketing相關\\geopandas\\geo_datasets\\TOWN_MOI_1120317.shp\", encoding=\"utf-8\") # 鄉鎮市區界圖(TWD97經緯度)\n",
    "    cc = cc.to_crs({\"init\": \"epsg:4326\"})\n",
    "    # cc_area = cc.copy()\n",
    "    # cc_area = cc_area.to_crs(epsg=3826)\n",
    "    # cc_area[\"area\"] = round(cc_area[\"geometry\"].area / 10 ** 6, 2)\n",
    "    # cc[\"area\"] = cc_area[\"area\"]\n",
    "    return cc"
   ]
  },
  {
   "cell_type": "code",
   "execution_count": 55,
   "metadata": {},
   "outputs": [
    {
     "data": {
      "text/html": [
       "<div>\n",
       "<style scoped>\n",
       "    .dataframe tbody tr th:only-of-type {\n",
       "        vertical-align: middle;\n",
       "    }\n",
       "\n",
       "    .dataframe tbody tr th {\n",
       "        vertical-align: top;\n",
       "    }\n",
       "\n",
       "    .dataframe thead th {\n",
       "        text-align: right;\n",
       "    }\n",
       "</style>\n",
       "<table border=\"1\" class=\"dataframe\">\n",
       "  <thead>\n",
       "    <tr style=\"text-align: right;\">\n",
       "      <th></th>\n",
       "      <th>COUNTYID</th>\n",
       "      <th>COUNTYCODE</th>\n",
       "      <th>COUNTYNAME</th>\n",
       "      <th>COUNTYENG</th>\n",
       "      <th>geometry</th>\n",
       "    </tr>\n",
       "  </thead>\n",
       "  <tbody>\n",
       "    <tr>\n",
       "      <th>0</th>\n",
       "      <td>Z</td>\n",
       "      <td>09007</td>\n",
       "      <td>連江縣</td>\n",
       "      <td>Lienchiang County</td>\n",
       "      <td>MULTIPOLYGON (((119.96445 25.94552, 119.96427 ...</td>\n",
       "    </tr>\n",
       "    <tr>\n",
       "      <th>1</th>\n",
       "      <td>G</td>\n",
       "      <td>10002</td>\n",
       "      <td>宜蘭縣</td>\n",
       "      <td>Yilan County</td>\n",
       "      <td>MULTIPOLYGON (((121.95971 24.84494, 121.96064 ...</td>\n",
       "    </tr>\n",
       "    <tr>\n",
       "      <th>2</th>\n",
       "      <td>N</td>\n",
       "      <td>10007</td>\n",
       "      <td>彰化縣</td>\n",
       "      <td>Changhua County</td>\n",
       "      <td>POLYGON ((120.45655 24.20719, 120.48589 24.197...</td>\n",
       "    </tr>\n",
       "    <tr>\n",
       "      <th>3</th>\n",
       "      <td>M</td>\n",
       "      <td>10008</td>\n",
       "      <td>南投縣</td>\n",
       "      <td>Nantou County</td>\n",
       "      <td>POLYGON ((121.27086 24.23661, 121.27108 24.236...</td>\n",
       "    </tr>\n",
       "    <tr>\n",
       "      <th>4</th>\n",
       "      <td>P</td>\n",
       "      <td>10009</td>\n",
       "      <td>雲林縣</td>\n",
       "      <td>Yunlin County</td>\n",
       "      <td>MULTIPOLYGON (((120.08108 23.52412, 120.08161 ...</td>\n",
       "    </tr>\n",
       "    <tr>\n",
       "      <th>5</th>\n",
       "      <td>C</td>\n",
       "      <td>10017</td>\n",
       "      <td>基隆市</td>\n",
       "      <td>Keelung City</td>\n",
       "      <td>MULTIPOLYGON (((121.71015 25.17604, 121.71015 ...</td>\n",
       "    </tr>\n",
       "    <tr>\n",
       "      <th>6</th>\n",
       "      <td>A</td>\n",
       "      <td>63000</td>\n",
       "      <td>臺北市</td>\n",
       "      <td>Taipei City</td>\n",
       "      <td>POLYGON ((121.57098 25.19717, 121.57097 25.197...</td>\n",
       "    </tr>\n",
       "    <tr>\n",
       "      <th>7</th>\n",
       "      <td>F</td>\n",
       "      <td>65000</td>\n",
       "      <td>新北市</td>\n",
       "      <td>New Taipei City</td>\n",
       "      <td>POLYGON ((121.53752 25.30003, 121.53768 25.300...</td>\n",
       "    </tr>\n",
       "    <tr>\n",
       "      <th>8</th>\n",
       "      <td>B</td>\n",
       "      <td>66000</td>\n",
       "      <td>臺中市</td>\n",
       "      <td>Taichung City</td>\n",
       "      <td>POLYGON ((121.32834 24.43304, 121.32845 24.432...</td>\n",
       "    </tr>\n",
       "    <tr>\n",
       "      <th>9</th>\n",
       "      <td>D</td>\n",
       "      <td>67000</td>\n",
       "      <td>臺南市</td>\n",
       "      <td>Tainan City</td>\n",
       "      <td>POLYGON ((120.44025 23.41308, 120.44040 23.413...</td>\n",
       "    </tr>\n",
       "    <tr>\n",
       "      <th>10</th>\n",
       "      <td>H</td>\n",
       "      <td>68000</td>\n",
       "      <td>桃園市</td>\n",
       "      <td>Taoyuan City</td>\n",
       "      <td>POLYGON ((121.26381 25.12198, 121.26668 25.120...</td>\n",
       "    </tr>\n",
       "    <tr>\n",
       "      <th>11</th>\n",
       "      <td>K</td>\n",
       "      <td>10005</td>\n",
       "      <td>苗栗縣</td>\n",
       "      <td>Miaoli County</td>\n",
       "      <td>POLYGON ((121.00820 24.64432, 121.00828 24.644...</td>\n",
       "    </tr>\n",
       "    <tr>\n",
       "      <th>12</th>\n",
       "      <td>I</td>\n",
       "      <td>10020</td>\n",
       "      <td>嘉義市</td>\n",
       "      <td>Chiayi City</td>\n",
       "      <td>POLYGON ((120.44758 23.51819, 120.44767 23.518...</td>\n",
       "    </tr>\n",
       "    <tr>\n",
       "      <th>13</th>\n",
       "      <td>Q</td>\n",
       "      <td>10010</td>\n",
       "      <td>嘉義縣</td>\n",
       "      <td>Chiayi County</td>\n",
       "      <td>MULTIPOLYGON (((120.15192 23.39274, 120.15250 ...</td>\n",
       "    </tr>\n",
       "    <tr>\n",
       "      <th>14</th>\n",
       "      <td>W</td>\n",
       "      <td>09020</td>\n",
       "      <td>金門縣</td>\n",
       "      <td>Kinmen County</td>\n",
       "      <td>MULTIPOLYGON (((118.23381 24.16277, 118.23405 ...</td>\n",
       "    </tr>\n",
       "    <tr>\n",
       "      <th>15</th>\n",
       "      <td>E</td>\n",
       "      <td>64000</td>\n",
       "      <td>高雄市</td>\n",
       "      <td>Kaohsiung City</td>\n",
       "      <td>MULTIPOLYGON (((114.36173 10.37280, 114.36174 ...</td>\n",
       "    </tr>\n",
       "    <tr>\n",
       "      <th>16</th>\n",
       "      <td>V</td>\n",
       "      <td>10014</td>\n",
       "      <td>臺東縣</td>\n",
       "      <td>Taitung County</td>\n",
       "      <td>MULTIPOLYGON (((121.61180 21.94290, 121.61133 ...</td>\n",
       "    </tr>\n",
       "    <tr>\n",
       "      <th>17</th>\n",
       "      <td>U</td>\n",
       "      <td>10015</td>\n",
       "      <td>花蓮縣</td>\n",
       "      <td>Hualien County</td>\n",
       "      <td>POLYGON ((121.63127 24.37049, 121.63144 24.370...</td>\n",
       "    </tr>\n",
       "    <tr>\n",
       "      <th>18</th>\n",
       "      <td>X</td>\n",
       "      <td>10016</td>\n",
       "      <td>澎湖縣</td>\n",
       "      <td>Penghu County</td>\n",
       "      <td>MULTIPOLYGON (((119.44025 23.22137, 119.44040 ...</td>\n",
       "    </tr>\n",
       "    <tr>\n",
       "      <th>19</th>\n",
       "      <td>O</td>\n",
       "      <td>10018</td>\n",
       "      <td>新竹市</td>\n",
       "      <td>Hsinchu City</td>\n",
       "      <td>POLYGON ((120.92532 24.85478, 120.92545 24.854...</td>\n",
       "    </tr>\n",
       "    <tr>\n",
       "      <th>20</th>\n",
       "      <td>J</td>\n",
       "      <td>10004</td>\n",
       "      <td>新竹縣</td>\n",
       "      <td>Hsinchu County</td>\n",
       "      <td>POLYGON ((121.03813 24.94638, 121.03822 24.946...</td>\n",
       "    </tr>\n",
       "    <tr>\n",
       "      <th>21</th>\n",
       "      <td>T</td>\n",
       "      <td>10013</td>\n",
       "      <td>屏東縣</td>\n",
       "      <td>Pingtung County</td>\n",
       "      <td>MULTIPOLYGON (((120.82649 21.75615, 120.82646 ...</td>\n",
       "    </tr>\n",
       "  </tbody>\n",
       "</table>\n",
       "</div>"
      ],
      "text/plain": [
       "   COUNTYID COUNTYCODE COUNTYNAME          COUNTYENG  \\\n",
       "0         Z      09007        連江縣  Lienchiang County   \n",
       "1         G      10002        宜蘭縣       Yilan County   \n",
       "2         N      10007        彰化縣    Changhua County   \n",
       "3         M      10008        南投縣      Nantou County   \n",
       "4         P      10009        雲林縣      Yunlin County   \n",
       "5         C      10017        基隆市       Keelung City   \n",
       "6         A      63000        臺北市        Taipei City   \n",
       "7         F      65000        新北市    New Taipei City   \n",
       "8         B      66000        臺中市      Taichung City   \n",
       "9         D      67000        臺南市        Tainan City   \n",
       "10        H      68000        桃園市       Taoyuan City   \n",
       "11        K      10005        苗栗縣      Miaoli County   \n",
       "12        I      10020        嘉義市        Chiayi City   \n",
       "13        Q      10010        嘉義縣      Chiayi County   \n",
       "14        W      09020        金門縣      Kinmen County   \n",
       "15        E      64000        高雄市     Kaohsiung City   \n",
       "16        V      10014        臺東縣     Taitung County   \n",
       "17        U      10015        花蓮縣     Hualien County   \n",
       "18        X      10016        澎湖縣      Penghu County   \n",
       "19        O      10018        新竹市       Hsinchu City   \n",
       "20        J      10004        新竹縣     Hsinchu County   \n",
       "21        T      10013        屏東縣    Pingtung County   \n",
       "\n",
       "                                             geometry  \n",
       "0   MULTIPOLYGON (((119.96445 25.94552, 119.96427 ...  \n",
       "1   MULTIPOLYGON (((121.95971 24.84494, 121.96064 ...  \n",
       "2   POLYGON ((120.45655 24.20719, 120.48589 24.197...  \n",
       "3   POLYGON ((121.27086 24.23661, 121.27108 24.236...  \n",
       "4   MULTIPOLYGON (((120.08108 23.52412, 120.08161 ...  \n",
       "5   MULTIPOLYGON (((121.71015 25.17604, 121.71015 ...  \n",
       "6   POLYGON ((121.57098 25.19717, 121.57097 25.197...  \n",
       "7   POLYGON ((121.53752 25.30003, 121.53768 25.300...  \n",
       "8   POLYGON ((121.32834 24.43304, 121.32845 24.432...  \n",
       "9   POLYGON ((120.44025 23.41308, 120.44040 23.413...  \n",
       "10  POLYGON ((121.26381 25.12198, 121.26668 25.120...  \n",
       "11  POLYGON ((121.00820 24.64432, 121.00828 24.644...  \n",
       "12  POLYGON ((120.44758 23.51819, 120.44767 23.518...  \n",
       "13  MULTIPOLYGON (((120.15192 23.39274, 120.15250 ...  \n",
       "14  MULTIPOLYGON (((118.23381 24.16277, 118.23405 ...  \n",
       "15  MULTIPOLYGON (((114.36173 10.37280, 114.36174 ...  \n",
       "16  MULTIPOLYGON (((121.61180 21.94290, 121.61133 ...  \n",
       "17  POLYGON ((121.63127 24.37049, 121.63144 24.370...  \n",
       "18  MULTIPOLYGON (((119.44025 23.22137, 119.44040 ...  \n",
       "19  POLYGON ((120.92532 24.85478, 120.92545 24.854...  \n",
       "20  POLYGON ((121.03813 24.94638, 121.03822 24.946...  \n",
       "21  MULTIPOLYGON (((120.82649 21.75615, 120.82646 ...  "
      ]
     },
     "execution_count": 55,
     "metadata": {},
     "output_type": "execute_result"
    }
   ],
   "source": [
    "city_map"
   ]
  },
  {
   "cell_type": "code",
   "execution_count": 28,
   "metadata": {},
   "outputs": [],
   "source": [
    "# city_map = get_geo_data()"
   ]
  },
  {
   "cell_type": "markdown",
   "metadata": {},
   "source": [
    "## 取得鄉鎮市區戶數、人口"
   ]
  },
  {
   "cell_type": "code",
   "execution_count": 50,
   "metadata": {},
   "outputs": [],
   "source": [
    "def get_population(geo_data):\n",
    "    people = pd.read_csv(\"https://data.moi.gov.tw/MoiOD/System/DownloadFile.aspx?DATA=CA18EE06-4A50-4861-9D97-7853353D7108\", header=1) # 鄉鎮市區戶數、人口\n",
    "    people = people.dropna()\n",
    "    people = people[(~people[\"人口密度\"].str.contains(\"…\"))].reset_index(drop=True)\n",
    "    people[\"城市\"] = people[\"區域別\"].map(lambda x: x[:3])\n",
    "    people = people.astype({\"年底人口數\": int, \"人口密度\": int})\n",
    "    people = people.groupby('城市')[['年底人口數', '土地面積', '人口密度']].sum().reset_index()\n",
    "    result= pd.merge(people, geo_data, how=\"left\", left_on=[\"城市\"], right_on=[\"COUNTYNAME\"])\n",
    "    result[\"土地面積\"] = result[\"土地面積\"].round(1)\n",
    "    result = result[['城市', '年底人口數', '土地面積', '人口密度']]\n",
    "    return result"
   ]
  },
  {
   "cell_type": "code",
   "execution_count": 56,
   "metadata": {},
   "outputs": [],
   "source": [
    "population = get_population(city_map)"
   ]
  },
  {
   "cell_type": "code",
   "execution_count": 57,
   "metadata": {},
   "outputs": [
    {
     "data": {
      "text/html": [
       "<div>\n",
       "<style scoped>\n",
       "    .dataframe tbody tr th:only-of-type {\n",
       "        vertical-align: middle;\n",
       "    }\n",
       "\n",
       "    .dataframe tbody tr th {\n",
       "        vertical-align: top;\n",
       "    }\n",
       "\n",
       "    .dataframe thead th {\n",
       "        text-align: right;\n",
       "    }\n",
       "</style>\n",
       "<table border=\"1\" class=\"dataframe\">\n",
       "  <thead>\n",
       "    <tr style=\"text-align: right;\">\n",
       "      <th></th>\n",
       "      <th>城市</th>\n",
       "      <th>年底人口數</th>\n",
       "      <th>土地面積</th>\n",
       "      <th>人口密度</th>\n",
       "    </tr>\n",
       "  </thead>\n",
       "  <tbody>\n",
       "    <tr>\n",
       "      <th>0</th>\n",
       "      <td>南投縣</td>\n",
       "      <td>479595</td>\n",
       "      <td>4106.4</td>\n",
       "      <td>4220</td>\n",
       "    </tr>\n",
       "    <tr>\n",
       "      <th>1</th>\n",
       "      <td>嘉義市</td>\n",
       "      <td>262924</td>\n",
       "      <td>60.0</td>\n",
       "      <td>8765</td>\n",
       "    </tr>\n",
       "    <tr>\n",
       "      <th>2</th>\n",
       "      <td>嘉義縣</td>\n",
       "      <td>488158</td>\n",
       "      <td>1903.6</td>\n",
       "      <td>6588</td>\n",
       "    </tr>\n",
       "    <tr>\n",
       "      <th>3</th>\n",
       "      <td>基隆市</td>\n",
       "      <td>361526</td>\n",
       "      <td>132.8</td>\n",
       "      <td>31035</td>\n",
       "    </tr>\n",
       "    <tr>\n",
       "      <th>4</th>\n",
       "      <td>宜蘭縣</td>\n",
       "      <td>449062</td>\n",
       "      <td>2143.6</td>\n",
       "      <td>13231</td>\n",
       "    </tr>\n",
       "    <tr>\n",
       "      <th>5</th>\n",
       "      <td>屏東縣</td>\n",
       "      <td>798703</td>\n",
       "      <td>2775.6</td>\n",
       "      <td>17993</td>\n",
       "    </tr>\n",
       "    <tr>\n",
       "      <th>6</th>\n",
       "      <td>彰化縣</td>\n",
       "      <td>1245239</td>\n",
       "      <td>1074.4</td>\n",
       "      <td>32758</td>\n",
       "    </tr>\n",
       "    <tr>\n",
       "      <th>7</th>\n",
       "      <td>新北市</td>\n",
       "      <td>3995551</td>\n",
       "      <td>2052.6</td>\n",
       "      <td>191976</td>\n",
       "    </tr>\n",
       "    <tr>\n",
       "      <th>8</th>\n",
       "      <td>新竹市</td>\n",
       "      <td>452473</td>\n",
       "      <td>104.2</td>\n",
       "      <td>17709</td>\n",
       "    </tr>\n",
       "    <tr>\n",
       "      <th>9</th>\n",
       "      <td>新竹縣</td>\n",
       "      <td>580503</td>\n",
       "      <td>1427.5</td>\n",
       "      <td>10820</td>\n",
       "    </tr>\n",
       "    <tr>\n",
       "      <th>10</th>\n",
       "      <td>桃園市</td>\n",
       "      <td>2281464</td>\n",
       "      <td>1221.0</td>\n",
       "      <td>41408</td>\n",
       "    </tr>\n",
       "    <tr>\n",
       "      <th>11</th>\n",
       "      <td>澎湖縣</td>\n",
       "      <td>107223</td>\n",
       "      <td>126.9</td>\n",
       "      <td>4249</td>\n",
       "    </tr>\n",
       "    <tr>\n",
       "      <th>12</th>\n",
       "      <td>臺中市</td>\n",
       "      <td>2814459</td>\n",
       "      <td>2214.9</td>\n",
       "      <td>143503</td>\n",
       "    </tr>\n",
       "    <tr>\n",
       "      <th>13</th>\n",
       "      <td>臺北市</td>\n",
       "      <td>2480681</td>\n",
       "      <td>271.8</td>\n",
       "      <td>169664</td>\n",
       "    </tr>\n",
       "    <tr>\n",
       "      <th>14</th>\n",
       "      <td>臺南市</td>\n",
       "      <td>1852997</td>\n",
       "      <td>2191.7</td>\n",
       "      <td>72708</td>\n",
       "    </tr>\n",
       "    <tr>\n",
       "      <th>15</th>\n",
       "      <td>臺東縣</td>\n",
       "      <td>212551</td>\n",
       "      <td>3515.3</td>\n",
       "      <td>2092</td>\n",
       "    </tr>\n",
       "    <tr>\n",
       "      <th>16</th>\n",
       "      <td>花蓮縣</td>\n",
       "      <td>318892</td>\n",
       "      <td>4628.6</td>\n",
       "      <td>5862</td>\n",
       "    </tr>\n",
       "    <tr>\n",
       "      <th>17</th>\n",
       "      <td>苗栗縣</td>\n",
       "      <td>535132</td>\n",
       "      <td>1820.3</td>\n",
       "      <td>10037</td>\n",
       "    </tr>\n",
       "    <tr>\n",
       "      <th>18</th>\n",
       "      <td>連江縣</td>\n",
       "      <td>13983</td>\n",
       "      <td>28.8</td>\n",
       "      <td>1788</td>\n",
       "    </tr>\n",
       "    <tr>\n",
       "      <th>19</th>\n",
       "      <td>金門縣</td>\n",
       "      <td>141295</td>\n",
       "      <td>151.7</td>\n",
       "      <td>5685</td>\n",
       "    </tr>\n",
       "    <tr>\n",
       "      <th>20</th>\n",
       "      <td>雲林縣</td>\n",
       "      <td>664092</td>\n",
       "      <td>1290.8</td>\n",
       "      <td>10723</td>\n",
       "    </tr>\n",
       "    <tr>\n",
       "      <th>21</th>\n",
       "      <td>高雄市</td>\n",
       "      <td>2728137</td>\n",
       "      <td>2951.9</td>\n",
       "      <td>188159</td>\n",
       "    </tr>\n",
       "  </tbody>\n",
       "</table>\n",
       "</div>"
      ],
      "text/plain": [
       "     城市    年底人口數    土地面積    人口密度\n",
       "0   南投縣   479595  4106.4    4220\n",
       "1   嘉義市   262924    60.0    8765\n",
       "2   嘉義縣   488158  1903.6    6588\n",
       "3   基隆市   361526   132.8   31035\n",
       "4   宜蘭縣   449062  2143.6   13231\n",
       "5   屏東縣   798703  2775.6   17993\n",
       "6   彰化縣  1245239  1074.4   32758\n",
       "7   新北市  3995551  2052.6  191976\n",
       "8   新竹市   452473   104.2   17709\n",
       "9   新竹縣   580503  1427.5   10820\n",
       "10  桃園市  2281464  1221.0   41408\n",
       "11  澎湖縣   107223   126.9    4249\n",
       "12  臺中市  2814459  2214.9  143503\n",
       "13  臺北市  2480681   271.8  169664\n",
       "14  臺南市  1852997  2191.7   72708\n",
       "15  臺東縣   212551  3515.3    2092\n",
       "16  花蓮縣   318892  4628.6    5862\n",
       "17  苗栗縣   535132  1820.3   10037\n",
       "18  連江縣    13983    28.8    1788\n",
       "19  金門縣   141295   151.7    5685\n",
       "20  雲林縣   664092  1290.8   10723\n",
       "21  高雄市  2728137  2951.9  188159"
      ]
     },
     "execution_count": 57,
     "metadata": {},
     "output_type": "execute_result"
    }
   ],
   "source": [
    "population"
   ]
  },
  {
   "cell_type": "code",
   "execution_count": null,
   "metadata": {},
   "outputs": [],
   "source": []
  },
  {
   "cell_type": "code",
   "execution_count": 58,
   "metadata": {},
   "outputs": [],
   "source": [
    "city_map = pd.merge(city_map, population, how=\"left\", left_on=\"COUNTYNAME\", right_on=\"城市\")"
   ]
  },
  {
   "cell_type": "code",
   "execution_count": 59,
   "metadata": {},
   "outputs": [],
   "source": [
    "## 建立基本資料底圖\n",
    "cc_geojson = json.loads(city_map.to_json())"
   ]
  },
  {
   "cell_type": "code",
   "execution_count": 70,
   "metadata": {},
   "outputs": [
    {
     "data": {
      "text/plain": [
       "{'客戶編號': 'C1B10329',\n",
       " '客戶名稱': '五七輪胎行',\n",
       " '販社通路': 'H',\n",
       " '大胎契約': 3,\n",
       " '業務名稱': '林俊良',\n",
       " '地址': '桃園市龜山區文化三路416號',\n",
       " '店別': 'BFP'}"
      ]
     },
     "execution_count": 70,
     "metadata": {},
     "output_type": "execute_result"
    }
   ],
   "source": [
    "geojson_bs[\"features\"][0][\"properties\"]"
   ]
  },
  {
   "cell_type": "code",
   "execution_count": 85,
   "metadata": {},
   "outputs": [],
   "source": [
    "def alt_plot(id, shop_name):\n",
    "    p = plot_df[plot_df[\"買方\"] == id]\n",
    "    chart = alt.Chart(p, title=shop_name).mark_bar().encode(\n",
    "        x=\"銷售數量:Q\",\n",
    "        y=\"year:N\",\n",
    "        tooltip=[\"銷售數量\"]\n",
    "    )\n",
    "    return chart.to_dict()\n",
    "    "
   ]
  },
  {
   "cell_type": "code",
   "execution_count": 86,
   "metadata": {},
   "outputs": [
    {
     "data": {
      "text/plain": [
       "<folium.map.LayerControl at 0x7fbc92e8d300>"
      ]
     },
     "execution_count": 86,
     "metadata": {},
     "output_type": "execute_result"
    }
   ],
   "source": [
    "ccToolTip = folium.GeoJsonTooltip([\"COUNTYNAME\", \"年底人口數\", \"土地面積\", \"人口密度\"], [\"縣市\", \"人口數\", \"面積\", \"人口密度\"])\n",
    "map = folium.Map([23, 120], zoom_start=8)\n",
    "folium.GeoJson(cc_geojson, name=\"basic_info.\", tooltip=ccToolTip).add_to(map)\n",
    "feature_group_bs = folium.FeatureGroup(\"BS_shops\")\n",
    "for bs in geojson_bs[\"features\"]:\n",
    "    chart = alt_plot(bs[\"properties\"][\"客戶編號\"], bs[\"properties\"][\"客戶名稱\"])\n",
    "    iframe = folium.IFrame(\"Shop:\" + str(bs[\"properties\"][\"客戶名稱\"]) + \"<br>\" + \"Type:\" + str(bs[\"properties\"][\"店別\"]) + \"<br>\" + \"Address:\" + str(bs[\"properties\"][\"地址\"]))\n",
    "    popup = folium.Popup(iframe, max_width=450).add_child(folium.VegaLite(chart))\n",
    "    folium.Marker(location=list(reversed(bs[\"geometry\"][\"coordinates\"])), \n",
    "                    icon=folium.Icon(color=\"red\"), \n",
    "                    popup=popup).add_to(feature_group_bs)\n",
    "    \n",
    "feature_group_mi = folium.FeatureGroup(\"MI_shops\")\n",
    "for mi in geojson_mi[\"features\"]:\n",
    "    iframe = folium.IFrame(\"Shop:\" + str(mi[\"properties\"][\"name\"]) + \"<br>\" + \"Type:\" + \"TyrePlus\" + \"<br>\" + \"Address:\" + str(mi[\"properties\"][\"address\"]))\n",
    "    popup = folium.Popup(iframe, min_width=300, max_width=300)\n",
    "    folium.Marker(location=list(reversed(mi[\"geometry\"][\"coordinates\"])), \n",
    "                    icon=folium.Icon(color=\"blue\"), \n",
    "                    popup=popup).add_to(feature_group_mi)\n",
    "feature_group_ma = folium.FeatureGroup(\"MA_shops\")\n",
    "for ma in geojson_ma[\"features\"]:\n",
    "    iframe = folium.IFrame(\"Shop:\" + str(ma[\"properties\"][\"name\"]) + \"<br>\" + \"Type:\" + \"\" + \"<br>\" + \"Address:\" + str(ma[\"properties\"][\"address\"]))\n",
    "    popup = folium.Popup(iframe, min_width=300, max_width=300)\n",
    "    folium.Marker(location=list(reversed(ma[\"geometry\"][\"coordinates\"])), \n",
    "                    icon=folium.Icon(color=\"orange\"), \n",
    "                    popup=popup).add_to(feature_group_ma)\n",
    "feature_group_bs.add_to(map)\n",
    "feature_group_mi.add_to(map)\n",
    "feature_group_ma.add_to(map)\n",
    "    \n",
    "# folium.Choropleth(\n",
    "#     geo_data = cc_geojson,\n",
    "#     name=\"各鄉鎮市區人口\",\n",
    "#     data=population,\n",
    "#     columns=[\"TOWNID\", \"人口密度\"],\n",
    "#     key_on=\"feature.properties.TOWNID\",\n",
    "#     fill_color=\"YlGn\",\n",
    "#     fill_opacity=0.7,\n",
    "#     line_opacity=0.2,\n",
    "#     legend_name=\"各鄉鎮市區人口密度\",\n",
    "# ).add_to(map)\n",
    "\n",
    "folium.LayerControl().add_to(map)\n",
    "# map"
   ]
  },
  {
   "cell_type": "code",
   "execution_count": null,
   "metadata": {},
   "outputs": [],
   "source": [
    "map"
   ]
  },
  {
   "cell_type": "code",
   "execution_count": 88,
   "metadata": {},
   "outputs": [],
   "source": [
    "map.save(\"/Users/kai/Desktop/測試地圖.html\")"
   ]
  },
  {
   "cell_type": "code",
   "execution_count": null,
   "metadata": {},
   "outputs": [],
   "source": []
  },
  {
   "cell_type": "code",
   "execution_count": null,
   "metadata": {},
   "outputs": [],
   "source": [
    "ccToolTip = folium.GeoJsonTooltip([\"COUNTYNAME\", \"TOWNNAME\", \"VILLNAME\", \"area\"], [\"縣市\", \"行政區\", \"村里\", \"面積\"])"
   ]
  },
  {
   "cell_type": "code",
   "execution_count": null,
   "metadata": {},
   "outputs": [],
   "source": [
    "y = {'fillColor': '#00FFFFFF', 'color': '#00FFFFFF'}\n",
    "map = folium.Map([23.973874611, 120.982024611], zoom_start=8)\n",
    "folium.GeoJson(cc_geojson, style_function=lambda x: y, tooltip=ccToolTip).add_to(map)"
   ]
  },
  {
   "cell_type": "code",
   "execution_count": null,
   "metadata": {},
   "outputs": [],
   "source": [
    "map"
   ]
  },
  {
   "cell_type": "code",
   "execution_count": null,
   "metadata": {},
   "outputs": [],
   "source": []
  },
  {
   "cell_type": "code",
   "execution_count": null,
   "metadata": {},
   "outputs": [],
   "source": []
  },
  {
   "cell_type": "code",
   "execution_count": null,
   "metadata": {},
   "outputs": [],
   "source": [
    "df = pd.read_excel(\"/Users/kai/Library/CloudStorage/OneDrive-Bridgestone/數據/Google地圖數據/google地圖輪胎店家數據.xlsx\")"
   ]
  },
  {
   "cell_type": "code",
   "execution_count": null,
   "metadata": {},
   "outputs": [],
   "source": [
    "geom = [Point(xy) for xy in zip(df[\"longitude\"], df[\"latitude\"])]"
   ]
  },
  {
   "cell_type": "code",
   "execution_count": null,
   "metadata": {},
   "outputs": [],
   "source": [
    "gdf = gpd.GeoDataFrame(df, geometry=geom)"
   ]
  },
  {
   "cell_type": "code",
   "execution_count": null,
   "metadata": {},
   "outputs": [],
   "source": [
    "gdf.crs = {'init' :'epsg:4326'}"
   ]
  },
  {
   "cell_type": "code",
   "execution_count": null,
   "metadata": {},
   "outputs": [],
   "source": [
    "villiage = gpd.read_file(\"/Users/kai/Documents/playground_python/geo_pandas_practice/geo_datasets/mapdata202303230423/TOWN_MOI_1120317.shp\", encoding=\"utf-8\")\n",
    "villiage = villiage.to_crs({\"init\": \"epsg:4326\"})"
   ]
  },
  {
   "cell_type": "code",
   "execution_count": null,
   "metadata": {},
   "outputs": [],
   "source": [
    "# 計算polygon的面積需要將geometry轉為projection of Cartesian system，所以需要將geometry使用to_crs({'init': 'epsg:3857'})\n",
    "villiage_area = villiage.copy()\n",
    "villiage_area = villiage_area.to_crs({\"init\": \"epsg:3826\"})\n",
    "villiage_area[\"area\"] = round(villiage_area[\"geometry\"].area / 10 ** 6, 2)"
   ]
  },
  {
   "cell_type": "code",
   "execution_count": null,
   "metadata": {},
   "outputs": [],
   "source": [
    "villiage[\"area\"] = villiage_area[\"area\"]"
   ]
  },
  {
   "cell_type": "code",
   "execution_count": null,
   "metadata": {},
   "outputs": [],
   "source": [
    "# villiage_geojson = json.loads(villiage[villiage[\"COUNTYNAME\"] == \"臺北市\"].to_json())\n",
    "villiage_geojson = json.loads(villiage.to_json())"
   ]
  },
  {
   "cell_type": "code",
   "execution_count": null,
   "metadata": {},
   "outputs": [],
   "source": [
    "villToolTip = folium.GeoJsonTooltip([\"COUNTYNAME\", \"TOWNNAME\", \"area\"], [\"縣市\", \"行政區\", \"面積\"])"
   ]
  },
  {
   "cell_type": "code",
   "execution_count": null,
   "metadata": {},
   "outputs": [],
   "source": [
    "myMap = folium.Map([22.73444963475145, 120.28458595275877], zoom_start=14)\n",
    "kaovilliage = folium.GeoJson(villiage_geojson, tooltip=villToolTip).add_to(myMap)\n",
    "myMap.fit_bounds(kaovilliage.get_bounds())\n",
    "myMap"
   ]
  },
  {
   "cell_type": "code",
   "execution_count": null,
   "metadata": {},
   "outputs": [],
   "source": [
    "result = gpd.tools.sjoin(gdf, villiage[[\"COUNTYNAME\", \"TOWNNAME\", \"geometry\"]], how=\"left\")"
   ]
  },
  {
   "cell_type": "code",
   "execution_count": null,
   "metadata": {},
   "outputs": [],
   "source": [
    "result_df = result.groupby([\"COUNTYNAME\", \"TOWNNAME\"]).size().reset_index(name=\"count\")"
   ]
  },
  {
   "cell_type": "code",
   "execution_count": null,
   "metadata": {},
   "outputs": [],
   "source": [
    "result.plot(\"COUNTYNAME\")"
   ]
  },
  {
   "cell_type": "code",
   "execution_count": null,
   "metadata": {},
   "outputs": [],
   "source": []
  },
  {
   "cell_type": "code",
   "execution_count": null,
   "metadata": {},
   "outputs": [],
   "source": [
    "xxx = gdf[gdf[\"state\"] == \"台北市\"]"
   ]
  },
  {
   "cell_type": "code",
   "execution_count": null,
   "metadata": {},
   "outputs": [],
   "source": [
    "m = folium.Map((25.0133904,121.52245), tiles=\"Cartodb Positron\", zoom_start=11)"
   ]
  },
  {
   "cell_type": "code",
   "execution_count": null,
   "metadata": {},
   "outputs": [],
   "source": [
    "taipei = folium.GeoJson(villiage_geojson, tooltip=villToolTip)"
   ]
  },
  {
   "cell_type": "code",
   "execution_count": null,
   "metadata": {},
   "outputs": [],
   "source": [
    "taipei.add_to(m)"
   ]
  },
  {
   "cell_type": "code",
   "execution_count": null,
   "metadata": {},
   "outputs": [],
   "source": [
    "feature_group = folium.FeatureGroup(\"markers\")"
   ]
  },
  {
   "cell_type": "code",
   "execution_count": null,
   "metadata": {},
   "outputs": [],
   "source": [
    "json.loads(xxx.to_json())[\"features\"][0][\"properties\"]"
   ]
  },
  {
   "cell_type": "code",
   "execution_count": null,
   "metadata": {},
   "outputs": [],
   "source": [
    "for i in json.loads(xxx.to_json())[\"features\"]:\n",
    "    if \"MICHELIN\" in i[\"properties\"][\"name\"]:\n",
    "        folium.Marker(location=list(reversed(i[\"geometry\"][\"coordinates\"])), \n",
    "                      icon=folium.Icon(color=\"blue\"), \n",
    "                      popup=\"Michelin\").add_to(feature_group)\n",
    "    elif \"普利司通\" in i[\"properties\"][\"name\"]:\n",
    "        folium.Marker(location=list(reversed(i[\"geometry\"][\"coordinates\"])), \n",
    "                      icon=folium.Icon(color=\"black\"), \n",
    "                      popup=\"Bridgestone\").add_to(feature_group)\n",
    "    else:\n",
    "        iframe = folium.IFrame(\"店名:\" + str(i[\"properties\"][\"name\"]) + \"<br>\" + \"地址:\" + str(i[\"properties\"][\"street\"]) + \"<br>\" + \"電話:\" + str(i[\"properties\"][\"phone\"]))\n",
    "        popup = folium.Popup(iframe, min_width=150, max_width=200)\n",
    "        folium.Marker(location=list(reversed(i[\"geometry\"][\"coordinates\"])), \n",
    "                      icon=folium.Icon(color=\"red\"), \n",
    "                      popup=popup).add_to(feature_group)"
   ]
  },
  {
   "cell_type": "code",
   "execution_count": null,
   "metadata": {},
   "outputs": [],
   "source": [
    "feature_group.add_to(m)"
   ]
  },
  {
   "cell_type": "code",
   "execution_count": null,
   "metadata": {},
   "outputs": [],
   "source": [
    "m.save(\"test.html\")"
   ]
  },
  {
   "cell_type": "code",
   "execution_count": null,
   "metadata": {},
   "outputs": [],
   "source": [
    "# 綜合所得稅\n",
    "tax = pd.read_csv(\"https://eip.fia.gov.tw/data/ias/ias109/109_165-9.csv\")\n"
   ]
  },
  {
   "cell_type": "code",
   "execution_count": null,
   "metadata": {},
   "outputs": [],
   "source": [
    "tax[\"城市\"] = tax[\"鄉鎮市區\"].map(lambda x: x[:3])\n",
    "tax[\"鄉鎮市區\"] = tax[\"鄉鎮市區\"].map(lambda x: x[3:])"
   ]
  },
  {
   "cell_type": "code",
   "execution_count": null,
   "metadata": {},
   "outputs": [],
   "source": [
    "tax_group = tax[(~tax[\"村里\"].isin([\"合計\", \"其他\"]))].groupby([\"城市\", \"鄉鎮市區\", \"村里\"]).agg({\"綜合所得總額\": \"sum\", \"納稅單位(戶)\": \"sum\"}).reset_index()"
   ]
  },
  {
   "cell_type": "code",
   "execution_count": null,
   "metadata": {},
   "outputs": [],
   "source": [
    "tax_group[\"平均所得\"] = (tax_group[\"綜合所得總額\"] /tax_group[\"納稅單位(戶)\"]) * 1000"
   ]
  },
  {
   "cell_type": "code",
   "execution_count": null,
   "metadata": {},
   "outputs": [],
   "source": [
    "tax_group[\"平均所得\"] = tax_group[\"平均所得\"].fillna(0).astype(int)"
   ]
  },
  {
   "cell_type": "code",
   "execution_count": null,
   "metadata": {},
   "outputs": [],
   "source": [
    "tax_group[tax_group[\"城市\"] == \"金門縣\"].sort_values(\"平均所得\", ascending=False).head(10)"
   ]
  },
  {
   "cell_type": "code",
   "execution_count": null,
   "metadata": {},
   "outputs": [],
   "source": [
    "people.head(3)"
   ]
  },
  {
   "cell_type": "code",
   "execution_count": null,
   "metadata": {},
   "outputs": [],
   "source": [
    "result = pd.merge(tax_group, people, how=\"left\", left_on=[\"城市\", \"鄉鎮市區\", \"村里\"], right_on=[\"COUNTYNAME\", \"TOWNNAME\", \"村里名稱\"]).drop([\"COUNTYNAME\", \"TOWNNAME\", \"村里名稱\"], axis=1)"
   ]
  },
  {
   "cell_type": "code",
   "execution_count": null,
   "metadata": {},
   "outputs": [],
   "source": [
    "result = result.fillna(0)"
   ]
  },
  {
   "cell_type": "code",
   "execution_count": null,
   "metadata": {},
   "outputs": [],
   "source": [
    "result[\"納稅比\"] = round(result[\"納稅單位(戶)\"] / result[\"戶數\"], 2)"
   ]
  },
  {
   "cell_type": "code",
   "execution_count": null,
   "metadata": {},
   "outputs": [],
   "source": [
    "result.sort_values(by=[\"平均所得\", \"綜合所得總額\", \"納稅比\"], ascending=False)"
   ]
  },
  {
   "cell_type": "code",
   "execution_count": null,
   "metadata": {},
   "outputs": [],
   "source": [
    "final = pd.merge(cc, result, how=\"left\", left_on=[\"COUNTYNAME\", \"TOWNNAME\", \"VILLNAME\"], right_on=[\"城市\", \"鄉鎮市區\", \"村里\"])"
   ]
  },
  {
   "cell_type": "code",
   "execution_count": null,
   "metadata": {},
   "outputs": [],
   "source": [
    "final[[\"綜合所得總額\", \"納稅單位(戶)\", \"平均所得\", \"戶數\", \"人口數_合計\", \"人口數_男\", \"人口數_女\"]] = final[[\"綜合所得總額\", \"納稅單位(戶)\", \"平均所得\", \"戶數\", \"人口數_合計\", \"人口數_男\", \"人口數_女\"]].fillna(0)"
   ]
  },
  {
   "cell_type": "code",
   "execution_count": null,
   "metadata": {},
   "outputs": [],
   "source": [
    "final = final.astype({\"綜合所得總額\": int, \"納稅單位(戶)\": int, \"平均所得\": int, \"戶數\": int, \"人口數_合計\": int, \"人口數_男\": int, \"人口數_女\": int})"
   ]
  },
  {
   "cell_type": "code",
   "execution_count": null,
   "metadata": {},
   "outputs": [],
   "source": [
    "final[\"人口密度\"] = round(final[\"人口數_合計\"] / final[\"area\"], 0)"
   ]
  },
  {
   "cell_type": "code",
   "execution_count": null,
   "metadata": {},
   "outputs": [],
   "source": [
    "final"
   ]
  }
 ],
 "metadata": {
  "kernelspec": {
   "display_name": "Programming",
   "language": "python",
   "name": "python3"
  },
  "language_info": {
   "codemirror_mode": {
    "name": "ipython",
    "version": 3
   },
   "file_extension": ".py",
   "mimetype": "text/x-python",
   "name": "python",
   "nbconvert_exporter": "python",
   "pygments_lexer": "ipython3",
   "version": "3.10.0"
  },
  "orig_nbformat": 4
 },
 "nbformat": 4,
 "nbformat_minor": 2
}
