{
 "cells": [
  {
   "cell_type": "code",
   "execution_count": 16,
   "metadata": {},
   "outputs": [],
   "source": [
    "import pandas as pd\n",
    "import geopandas as gpd\n",
    "from shapely.geometry import Point\n",
    "pd.set_option(\"display.max_columns\", None)\n",
    "import json\n",
    "import folium\n",
    "import warnings\n",
    "warnings.filterwarnings(\"ignore\")\n",
    "import requests\n",
    "from selectolax.parser import HTMLParser\n",
    "from pprint import pprint\n"
   ]
  },
  {
   "cell_type": "code",
   "execution_count": 12,
   "metadata": {},
   "outputs": [],
   "source": [
    "mi_shops = pd.DataFrame(requests.post(\"https://www.michelin.com.tw/truck/api/getdealer.php\", data={\"category\": \"tryeplus\"}).json()[\"data\"])"
   ]
  },
  {
   "cell_type": "code",
   "execution_count": 86,
   "metadata": {},
   "outputs": [],
   "source": [
    "res = requests.get(\"https://www.cst.com.tw/dealers.php?city=0&area=0&tire=32\")\n",
    "content = HTMLParser(res.text)\n",
    "pages = int(content.css_first(\"ul.pagination > div > ul.pagination.pagination-lg > li:nth-last-child(2)\").text())"
   ]
  },
  {
   "cell_type": "code",
   "execution_count": 98,
   "metadata": {},
   "outputs": [],
   "source": [
    "dfs = []\n",
    "for page in range(1, pages + 1):\n",
    "    res = requests.get(\"https://www.cst.com.tw/dealers.php?city=0&area=0&tire=32&page={}\".format(str(page)))\n",
    "    content = HTMLParser(res.text)\n",
    "    for c in content.css(\"div.row > div.col-md-6 > div.row > div.col-md-6:nth-last-child(1)\"):\n",
    "        s_name = c.css_first(\"h4\").text()\n",
    "        tel_number = c.css_first(\"p:nth-last-child(3)\").text()\n",
    "        address = c.css_first(\"p:nth-last-child(2)\").text()\n",
    "        data = [s_name, tel_number, address[:3], address]\n",
    "        dfs.append(data)\n",
    "    "
   ]
  },
  {
   "cell_type": "code",
   "execution_count": 99,
   "metadata": {},
   "outputs": [],
   "source": [
    "maxxis = pd.DataFrame(dfs, columns=[\"name\", \"tel\", \"city\", \"address\"])"
   ]
  },
  {
   "cell_type": "code",
   "execution_count": 100,
   "metadata": {},
   "outputs": [
    {
     "data": {
      "text/html": [
       "<div><div id=e1b482fc-fb79-42c7-883b-5a6146054e24 style=\"display:none; background-color:#9D6CFF; color:white; width:200px; height:30px; padding-left:5px; border-radius:4px; flex-direction:row; justify-content:space-around; align-items:center;\" onmouseover=\"this.style.backgroundColor='#BA9BF8'\" onmouseout=\"this.style.backgroundColor='#9D6CFF'\" onclick=\"window.commands?.execute('create-mitosheet-from-dataframe-output');\">See Full Dataframe in Mito</div> <script> if (window.commands?.hasCommand('create-mitosheet-from-dataframe-output')) document.getElementById('e1b482fc-fb79-42c7-883b-5a6146054e24').style.display = 'flex' </script> <table border=\"1\" class=\"dataframe\">\n",
       "  <thead>\n",
       "    <tr style=\"text-align: right;\">\n",
       "      <th></th>\n",
       "      <th>name</th>\n",
       "      <th>tel</th>\n",
       "      <th>city</th>\n",
       "      <th>address</th>\n",
       "    </tr>\n",
       "  </thead>\n",
       "  <tbody>\n",
       "    <tr>\n",
       "      <th>0</th>\n",
       "      <td>嘉鴻輪胎行</td>\n",
       "      <td>(04)27051041</td>\n",
       "      <td>台中市</td>\n",
       "      <td>台中市西屯區黎明路3段361號</td>\n",
       "    </tr>\n",
       "    <tr>\n",
       "      <th>1</th>\n",
       "      <td>正豐輪胎行</td>\n",
       "      <td>(06)3556060</td>\n",
       "      <td>台南市</td>\n",
       "      <td>台南市長和路一段3號</td>\n",
       "    </tr>\n",
       "    <tr>\n",
       "      <th>2</th>\n",
       "      <td>慶豐輪胎</td>\n",
       "      <td>(06)5933545</td>\n",
       "      <td>台南市</td>\n",
       "      <td>台南市安定區新吉里50號</td>\n",
       "    </tr>\n",
       "    <tr>\n",
       "      <th>3</th>\n",
       "      <td>登鉅汽車保修輪胎行</td>\n",
       "      <td>(03)5593546</td>\n",
       "      <td>新竹縣</td>\n",
       "      <td>新竹縣湖口鄉新興路336號</td>\n",
       "    </tr>\n",
       "    <tr>\n",
       "      <th>4</th>\n",
       "      <td>捷德輪胎精品企業有限公司</td>\n",
       "      <td>(04)24269689</td>\n",
       "      <td>台中市</td>\n",
       "      <td>台中市北屯區中清路二段899號</td>\n",
       "    </tr>\n",
       "    <tr>\n",
       "      <th>...</th>\n",
       "      <td>...</td>\n",
       "      <td>...</td>\n",
       "      <td>...</td>\n",
       "      <td>...</td>\n",
       "    </tr>\n",
       "    <tr>\n",
       "      <th>6</th>\n",
       "      <td>興源輪胎行</td>\n",
       "      <td>(04)25661355</td>\n",
       "      <td>台中市</td>\n",
       "      <td>台中市大雅區中清路三段1178號</td>\n",
       "    </tr>\n",
       "    <tr>\n",
       "      <th>7</th>\n",
       "      <td>信全輪胎行</td>\n",
       "      <td>(04)23357371</td>\n",
       "      <td>台中市</td>\n",
       "      <td>台中市烏日區太明北路1號</td>\n",
       "    </tr>\n",
       "    <tr>\n",
       "      <th>8</th>\n",
       "      <td>彰南輪胎行</td>\n",
       "      <td>04-8886470</td>\n",
       "      <td>彰化縣</td>\n",
       "      <td>彰化縣北斗鎮地政路346-1號</td>\n",
       "    </tr>\n",
       "    <tr>\n",
       "      <th>9</th>\n",
       "      <td>輪安輪胎行</td>\n",
       "      <td>(04)26350427</td>\n",
       "      <td>台中市</td>\n",
       "      <td>台中市龍井區沙田路四段171號</td>\n",
       "    </tr>\n",
       "    <tr>\n",
       "      <th>10</th>\n",
       "      <td>全皇輪胎有限公司</td>\n",
       "      <td>(02)26091988  (02)26091989</td>\n",
       "      <td>新北市</td>\n",
       "      <td>新北市林口區文化北路一段239號</td>\n",
       "    </tr>\n",
       "  </tbody>\n",
       "</table></div>"
      ],
      "text/plain": [
       "            name                         tel city           address\n",
       "0          嘉鴻輪胎行                (04)27051041  台中市   台中市西屯區黎明路3段361號\n",
       "1          正豐輪胎行                 (06)3556060  台南市        台南市長和路一段3號\n",
       "2           慶豐輪胎                 (06)5933545  台南市      台南市安定區新吉里50號\n",
       "3      登鉅汽車保修輪胎行                 (03)5593546  新竹縣     新竹縣湖口鄉新興路336號\n",
       "4   捷德輪胎精品企業有限公司                (04)24269689  台中市   台中市北屯區中清路二段899號\n",
       "5          鐵馬王車行                 04-25200901  台中市     台中市豐原區豐北街295號\n",
       "6          興源輪胎行                (04)25661355  台中市  台中市大雅區中清路三段1178號\n",
       "7          信全輪胎行                (04)23357371  台中市      台中市烏日區太明北路1號\n",
       "8          彰南輪胎行                  04-8886470  彰化縣   彰化縣北斗鎮地政路346-1號\n",
       "9          輪安輪胎行                (04)26350427  台中市   台中市龍井區沙田路四段171號\n",
       "10      全皇輪胎有限公司  (02)26091988  (02)26091989  新北市  新北市林口區文化北路一段239號"
      ]
     },
     "execution_count": 100,
     "metadata": {},
     "output_type": "execute_result"
    }
   ],
   "source": [
    "maxxis"
   ]
  },
  {
   "cell_type": "code",
   "execution_count": null,
   "metadata": {},
   "outputs": [],
   "source": [
    "def get_population():\n",
    "    people = pd.read_csv(\"https://data.moi.gov.tw/MoiOD/System/DownloadFile.aspx?DATA=CA18EE06-4A50-4861-9D97-7853353D7108\", header=1) # 鄉鎮市區戶數、人口\n",
    "    people = people.dropna()\n",
    "    people = people[(~people[\"人口密度\"].str.contains(\"…\"))].reset_index(drop=True)\n",
    "    people[\"城市\"] = people[\"區域別\"].map(lambda x: x[:3])\n",
    "    people[\"鄉鎮市區\"] = people[\"區域別\"].map(lambda x: x[3:])\n",
    "    geo = gpd.read_file(\"/Users/kai/Documents/playground_python/geo_pandas_practice/geo_datasets/mapdata202303230423/TOWN_MOI_1120317.shp\", encoding=\"utf-8\")\n",
    "    result= pd.merge(people, geo, how=\"left\", left_on=[\"城市\", \"鄉鎮市區\"], right_on=[\"COUNTYNAME\", \"TOWNNAME\"])\n",
    "    result = result[['TOWNID', '城市', '鄉鎮市區', '年底人口數', '土地面積', '人口密度']]\n",
    "    result = result.astype({\"年底人口數\": int, \"人口密度\": int})\n",
    "    return result"
   ]
  },
  {
   "cell_type": "code",
   "execution_count": null,
   "metadata": {},
   "outputs": [],
   "source": [
    "population = get_population()"
   ]
  },
  {
   "cell_type": "code",
   "execution_count": null,
   "metadata": {},
   "outputs": [],
   "source": [
    "def get_geo_data():\n",
    "    cc = gpd.read_file(\"/Users/kai/Documents/playground_python/geo_pandas_practice/geo_datasets/mapdata202303230423/TOWN_MOI_1120317.shp\", encoding=\"utf-8\") # 鄉鎮市區界圖(TWD97經緯度)\n",
    "    cc = cc.to_crs({\"init\": \"epsg:4326\"})\n",
    "    # cc_area = cc.copy()\n",
    "    # cc_area = cc_area.to_crs(epsg=3826)\n",
    "    # cc_area[\"area\"] = round(cc_area[\"geometry\"].area / 10 ** 6, 2)\n",
    "    # cc[\"area\"] = cc_area[\"area\"]\n",
    "    return cc"
   ]
  },
  {
   "cell_type": "code",
   "execution_count": null,
   "metadata": {},
   "outputs": [],
   "source": [
    "tw_geo = get_geo_data()"
   ]
  },
  {
   "cell_type": "code",
   "execution_count": null,
   "metadata": {},
   "outputs": [],
   "source": [
    "cc_geojson = json.loads(tw_geo.to_json())"
   ]
  },
  {
   "cell_type": "code",
   "execution_count": null,
   "metadata": {},
   "outputs": [],
   "source": [
    "tw_geo"
   ]
  },
  {
   "cell_type": "code",
   "execution_count": null,
   "metadata": {},
   "outputs": [],
   "source": [
    "ccToolTip = folium.GeoJsonTooltip([\"COUNTYNAME\", \"TOWNNAME\", \"TOWNENG\"], [\"縣市\", \"行政區\", \"ENG\"])\n",
    "map = folium.Map([23.973874611, 120.982024611], zoom_start=8)\n",
    "folium.GeoJson(cc_geojson, name=\"基本資訊\", tooltip=ccToolTip).add_to(map)\n",
    "folium.Choropleth(\n",
    "    geo_data = cc_geojson,\n",
    "    name=\"各鄉鎮市區人口\",\n",
    "    data=population,\n",
    "    columns=[\"TOWNID\", \"人口密度\"],\n",
    "    key_on=\"feature.properties.TOWNID\",\n",
    "    fill_color=\"YlGn\",\n",
    "    fill_opacity=0.7,\n",
    "    line_opacity=0.2,\n",
    "    legend_name=\"各鄉鎮市區人口密度\",\n",
    ").add_to(map)\n",
    "\n",
    "folium.LayerControl().add_to(map)\n",
    "map"
   ]
  },
  {
   "cell_type": "code",
   "execution_count": null,
   "metadata": {},
   "outputs": [],
   "source": [
    "map.save(\"test.html\")"
   ]
  },
  {
   "cell_type": "code",
   "execution_count": null,
   "metadata": {},
   "outputs": [],
   "source": [
    "ccToolTip = folium.GeoJsonTooltip([\"COUNTYNAME\", \"TOWNNAME\", \"VILLNAME\", \"area\"], [\"縣市\", \"行政區\", \"村里\", \"面積\"])"
   ]
  },
  {
   "cell_type": "code",
   "execution_count": null,
   "metadata": {},
   "outputs": [],
   "source": [
    "y = {'fillColor': '#00FFFFFF', 'color': '#00FFFFFF'}\n",
    "map = folium.Map([23.973874611, 120.982024611], zoom_start=8)\n",
    "folium.GeoJson(cc_geojson, style_function=lambda x: y, tooltip=ccToolTip).add_to(map)"
   ]
  },
  {
   "cell_type": "code",
   "execution_count": null,
   "metadata": {},
   "outputs": [],
   "source": [
    "map"
   ]
  },
  {
   "cell_type": "code",
   "execution_count": null,
   "metadata": {},
   "outputs": [],
   "source": []
  },
  {
   "cell_type": "code",
   "execution_count": null,
   "metadata": {},
   "outputs": [],
   "source": []
  },
  {
   "cell_type": "code",
   "execution_count": null,
   "metadata": {},
   "outputs": [],
   "source": [
    "df = pd.read_excel(\"/Users/kai/Library/CloudStorage/OneDrive-Bridgestone/數據/Google地圖數據/google地圖輪胎店家數據.xlsx\")"
   ]
  },
  {
   "cell_type": "code",
   "execution_count": null,
   "metadata": {},
   "outputs": [],
   "source": [
    "geom = [Point(xy) for xy in zip(df[\"longitude\"], df[\"latitude\"])]"
   ]
  },
  {
   "cell_type": "code",
   "execution_count": null,
   "metadata": {},
   "outputs": [],
   "source": [
    "gdf = gpd.GeoDataFrame(df, geometry=geom)"
   ]
  },
  {
   "cell_type": "code",
   "execution_count": null,
   "metadata": {},
   "outputs": [],
   "source": [
    "gdf.crs = {'init' :'epsg:4326'}"
   ]
  },
  {
   "cell_type": "code",
   "execution_count": null,
   "metadata": {},
   "outputs": [],
   "source": [
    "villiage = gpd.read_file(\"/Users/kai/Documents/playground_python/geo_pandas_practice/geo_datasets/mapdata202303230423/TOWN_MOI_1120317.shp\", encoding=\"utf-8\")\n",
    "villiage = villiage.to_crs({\"init\": \"epsg:4326\"})"
   ]
  },
  {
   "cell_type": "code",
   "execution_count": null,
   "metadata": {},
   "outputs": [],
   "source": [
    "# 計算polygon的面積需要將geometry轉為projection of Cartesian system，所以需要將geometry使用to_crs({'init': 'epsg:3857'})\n",
    "villiage_area = villiage.copy()\n",
    "villiage_area = villiage_area.to_crs({\"init\": \"epsg:3826\"})\n",
    "villiage_area[\"area\"] = round(villiage_area[\"geometry\"].area / 10 ** 6, 2)"
   ]
  },
  {
   "cell_type": "code",
   "execution_count": null,
   "metadata": {},
   "outputs": [],
   "source": [
    "villiage[\"area\"] = villiage_area[\"area\"]"
   ]
  },
  {
   "cell_type": "code",
   "execution_count": null,
   "metadata": {},
   "outputs": [],
   "source": [
    "# villiage_geojson = json.loads(villiage[villiage[\"COUNTYNAME\"] == \"臺北市\"].to_json())\n",
    "villiage_geojson = json.loads(villiage.to_json())"
   ]
  },
  {
   "cell_type": "code",
   "execution_count": null,
   "metadata": {},
   "outputs": [],
   "source": [
    "villToolTip = folium.GeoJsonTooltip([\"COUNTYNAME\", \"TOWNNAME\", \"area\"], [\"縣市\", \"行政區\", \"面積\"])"
   ]
  },
  {
   "cell_type": "code",
   "execution_count": null,
   "metadata": {},
   "outputs": [],
   "source": [
    "myMap = folium.Map([22.73444963475145, 120.28458595275877], zoom_start=14)\n",
    "kaovilliage = folium.GeoJson(villiage_geojson, tooltip=villToolTip).add_to(myMap)\n",
    "myMap.fit_bounds(kaovilliage.get_bounds())\n",
    "myMap"
   ]
  },
  {
   "cell_type": "code",
   "execution_count": null,
   "metadata": {},
   "outputs": [],
   "source": [
    "result = gpd.tools.sjoin(gdf, villiage[[\"COUNTYNAME\", \"TOWNNAME\", \"geometry\"]], how=\"left\")"
   ]
  },
  {
   "cell_type": "code",
   "execution_count": null,
   "metadata": {},
   "outputs": [],
   "source": [
    "result_df = result.groupby([\"COUNTYNAME\", \"TOWNNAME\"]).size().reset_index(name=\"count\")"
   ]
  },
  {
   "cell_type": "code",
   "execution_count": null,
   "metadata": {},
   "outputs": [],
   "source": [
    "result.plot(\"COUNTYNAME\")"
   ]
  },
  {
   "cell_type": "code",
   "execution_count": null,
   "metadata": {},
   "outputs": [],
   "source": []
  },
  {
   "cell_type": "code",
   "execution_count": null,
   "metadata": {},
   "outputs": [],
   "source": [
    "xxx = gdf[gdf[\"state\"] == \"台北市\"]"
   ]
  },
  {
   "cell_type": "code",
   "execution_count": null,
   "metadata": {},
   "outputs": [],
   "source": [
    "m = folium.Map((25.0133904,121.52245), tiles=\"Cartodb Positron\", zoom_start=11)"
   ]
  },
  {
   "cell_type": "code",
   "execution_count": null,
   "metadata": {},
   "outputs": [],
   "source": [
    "taipei = folium.GeoJson(villiage_geojson, tooltip=villToolTip)"
   ]
  },
  {
   "cell_type": "code",
   "execution_count": null,
   "metadata": {},
   "outputs": [],
   "source": [
    "taipei.add_to(m)"
   ]
  },
  {
   "cell_type": "code",
   "execution_count": null,
   "metadata": {},
   "outputs": [],
   "source": [
    "feature_group = folium.FeatureGroup(\"markers\")"
   ]
  },
  {
   "cell_type": "code",
   "execution_count": null,
   "metadata": {},
   "outputs": [],
   "source": [
    "json.loads(xxx.to_json())[\"features\"][0][\"properties\"]"
   ]
  },
  {
   "cell_type": "code",
   "execution_count": null,
   "metadata": {},
   "outputs": [],
   "source": [
    "for i in json.loads(xxx.to_json())[\"features\"]:\n",
    "    if \"MICHELIN\" in i[\"properties\"][\"name\"]:\n",
    "        folium.Marker(location=list(reversed(i[\"geometry\"][\"coordinates\"])), \n",
    "                      icon=folium.Icon(color=\"blue\"), \n",
    "                      popup=\"Michelin\").add_to(feature_group)\n",
    "    elif \"普利司通\" in i[\"properties\"][\"name\"]:\n",
    "        folium.Marker(location=list(reversed(i[\"geometry\"][\"coordinates\"])), \n",
    "                      icon=folium.Icon(color=\"black\"), \n",
    "                      popup=\"Bridgestone\").add_to(feature_group)\n",
    "    else:\n",
    "        iframe = folium.IFrame(\"店名:\" + str(i[\"properties\"][\"name\"]) + \"<br>\" + \"地址:\" + str(i[\"properties\"][\"street\"]) + \"<br>\" + \"電話:\" + str(i[\"properties\"][\"phone\"]))\n",
    "        popup = folium.Popup(iframe, min_width=150, max_width=200)\n",
    "        folium.Marker(location=list(reversed(i[\"geometry\"][\"coordinates\"])), \n",
    "                      icon=folium.Icon(color=\"red\"), \n",
    "                      popup=popup).add_to(feature_group)"
   ]
  },
  {
   "cell_type": "code",
   "execution_count": null,
   "metadata": {},
   "outputs": [],
   "source": [
    "feature_group.add_to(m)"
   ]
  },
  {
   "cell_type": "code",
   "execution_count": null,
   "metadata": {},
   "outputs": [],
   "source": [
    "m.save(\"test.html\")"
   ]
  },
  {
   "cell_type": "code",
   "execution_count": null,
   "metadata": {},
   "outputs": [],
   "source": [
    "# 綜合所得稅\n",
    "tax = pd.read_csv(\"https://eip.fia.gov.tw/data/ias/ias109/109_165-9.csv\")\n"
   ]
  },
  {
   "cell_type": "code",
   "execution_count": null,
   "metadata": {},
   "outputs": [],
   "source": [
    "tax[\"城市\"] = tax[\"鄉鎮市區\"].map(lambda x: x[:3])\n",
    "tax[\"鄉鎮市區\"] = tax[\"鄉鎮市區\"].map(lambda x: x[3:])"
   ]
  },
  {
   "cell_type": "code",
   "execution_count": null,
   "metadata": {},
   "outputs": [],
   "source": [
    "tax_group = tax[(~tax[\"村里\"].isin([\"合計\", \"其他\"]))].groupby([\"城市\", \"鄉鎮市區\", \"村里\"]).agg({\"綜合所得總額\": \"sum\", \"納稅單位(戶)\": \"sum\"}).reset_index()"
   ]
  },
  {
   "cell_type": "code",
   "execution_count": null,
   "metadata": {},
   "outputs": [],
   "source": [
    "tax_group[\"平均所得\"] = (tax_group[\"綜合所得總額\"] /tax_group[\"納稅單位(戶)\"]) * 1000"
   ]
  },
  {
   "cell_type": "code",
   "execution_count": null,
   "metadata": {},
   "outputs": [],
   "source": [
    "tax_group[\"平均所得\"] = tax_group[\"平均所得\"].fillna(0).astype(int)"
   ]
  },
  {
   "cell_type": "code",
   "execution_count": null,
   "metadata": {},
   "outputs": [],
   "source": [
    "tax_group.sort_values(\"平均所得\", ascending=False)"
   ]
  },
  {
   "cell_type": "code",
   "execution_count": null,
   "metadata": {},
   "outputs": [],
   "source": [
    "people.head(3)"
   ]
  },
  {
   "cell_type": "code",
   "execution_count": null,
   "metadata": {},
   "outputs": [],
   "source": [
    "result = pd.merge(tax_group, people, how=\"left\", left_on=[\"城市\", \"鄉鎮市區\", \"村里\"], right_on=[\"COUNTYNAME\", \"TOWNNAME\", \"村里名稱\"]).drop([\"COUNTYNAME\", \"TOWNNAME\", \"村里名稱\"], axis=1)"
   ]
  },
  {
   "cell_type": "code",
   "execution_count": null,
   "metadata": {},
   "outputs": [],
   "source": [
    "result = result.fillna(0)"
   ]
  },
  {
   "cell_type": "code",
   "execution_count": null,
   "metadata": {},
   "outputs": [],
   "source": [
    "result[\"納稅比\"] = round(result[\"納稅單位(戶)\"] / result[\"戶數\"], 2)"
   ]
  },
  {
   "cell_type": "code",
   "execution_count": null,
   "metadata": {},
   "outputs": [],
   "source": [
    "result.sort_values(by=[\"平均所得\", \"綜合所得總額\", \"納稅比\"], ascending=False)"
   ]
  },
  {
   "cell_type": "code",
   "execution_count": null,
   "metadata": {},
   "outputs": [],
   "source": [
    "final = pd.merge(cc, result, how=\"left\", left_on=[\"COUNTYNAME\", \"TOWNNAME\", \"VILLNAME\"], right_on=[\"城市\", \"鄉鎮市區\", \"村里\"])"
   ]
  },
  {
   "cell_type": "code",
   "execution_count": null,
   "metadata": {},
   "outputs": [],
   "source": [
    "final[[\"綜合所得總額\", \"納稅單位(戶)\", \"平均所得\", \"戶數\", \"人口數_合計\", \"人口數_男\", \"人口數_女\"]] = final[[\"綜合所得總額\", \"納稅單位(戶)\", \"平均所得\", \"戶數\", \"人口數_合計\", \"人口數_男\", \"人口數_女\"]].fillna(0)"
   ]
  },
  {
   "cell_type": "code",
   "execution_count": null,
   "metadata": {},
   "outputs": [],
   "source": [
    "final = final.astype({\"綜合所得總額\": int, \"納稅單位(戶)\": int, \"平均所得\": int, \"戶數\": int, \"人口數_合計\": int, \"人口數_男\": int, \"人口數_女\": int})"
   ]
  },
  {
   "cell_type": "code",
   "execution_count": null,
   "metadata": {},
   "outputs": [],
   "source": [
    "final[\"人口密度\"] = round(final[\"人口數_合計\"] / final[\"area\"], 0)"
   ]
  },
  {
   "cell_type": "code",
   "execution_count": null,
   "metadata": {},
   "outputs": [],
   "source": [
    "final"
   ]
  }
 ],
 "metadata": {
  "kernelspec": {
   "display_name": "Programming",
   "language": "python",
   "name": "python3"
  },
  "language_info": {
   "codemirror_mode": {
    "name": "ipython",
    "version": 3
   },
   "file_extension": ".py",
   "mimetype": "text/x-python",
   "name": "python",
   "nbconvert_exporter": "python",
   "pygments_lexer": "ipython3",
   "version": "3.10.6"
  },
  "orig_nbformat": 4
 },
 "nbformat": 4,
 "nbformat_minor": 2
}
