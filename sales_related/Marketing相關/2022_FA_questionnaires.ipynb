{
 "cells": [
  {
   "cell_type": "code",
   "execution_count": 1,
   "id": "8f340905-83a1-49ff-8330-3adfecf46172",
   "metadata": {},
   "outputs": [],
   "source": [
    "import pandas as pd\n",
    "pd.set_option(\"display.max_columns\", None)\n",
    "# pd.set_option(\"display.max_rows\", None)\n",
    "pd.set_option(\"mode.chained_assignment\", None)\n",
    "import plotly.express as px\n",
    "import tkinter as tk\n",
    "from tkinter import filedialog\n",
    "import re"
   ]
  },
  {
   "cell_type": "code",
   "execution_count": 8,
   "id": "72062959-1cb2-4168-a078-dc83163d6349",
   "metadata": {},
   "outputs": [],
   "source": [
    "def get_path(func):\n",
    "    def wrap():\n",
    "        root = tk.Tk()\n",
    "        root.withdraw()\n",
    "        file_path = filedialog.askopenfilename()\n",
    "        df = func(file_path)\n",
    "        return df\n",
    "    return wrap\n",
    "\n",
    "@get_path\n",
    "def open_file(path=None):\n",
    "    df = pd.read_csv(path)\n",
    "    return df"
   ]
  },
  {
   "cell_type": "code",
   "execution_count": 190,
   "id": "a9269ccf-65ec-436d-a7ea-8126cef20a38",
   "metadata": {},
   "outputs": [],
   "source": [
    "df = open_file()"
   ]
  },
  {
   "cell_type": "code",
   "execution_count": 17,
   "id": "9b0f8514-8ed2-47e4-9317-d6cc3f9ad9b6",
   "metadata": {},
   "outputs": [],
   "source": [
    "industry_list = [\"GC\", \"Tanker\", \"Dumper\", \"CC\", \"CB\", \"TB\", \"ICB\"]\n",
    "for industry, col_name in zip(industry_list, df[\"請選擇您的業態\"].unique().tolist()):\n",
    "    globals()[industry] = df[df[\"請選擇您的業態\"] == col_name]"
   ]
  },
  {
   "cell_type": "code",
   "execution_count": 35,
   "id": "da8b90ab-a60c-43c5-8dae-10afaa84e783",
   "metadata": {},
   "outputs": [],
   "source": [
    "first_filter = df[[\"請選擇您的業態\", \"目前前後軸主要使用品牌\", \"目前該品牌的主要使用規格\", \"進價（含稅）\", \"目前使用滿意度 - 壽命\", \"目前使用滿意度 - 吃胎（偏磨耗）\", \"目前使用滿意度 - 胎肩部耐久性\", \n",
    "                   \"目前使用滿意度 - 胎唇部耐久性\", \"目前使用滿意度 - 操控性\", \"目前使用滿意度 - 剎車性\", \"目前使用滿意度 - 舒適性\", \"目前使用滿意度 - 油耗表現\", \"目前是否也使用普利司通輪胎\", \n",
    "                   \"目前米其林的主要使用規格\", \"米其林主要315/80R22.5花紋為何\", \"其他\", \"米其林主要295/80R22.5花紋為何\", \"其他\", \"米其林主要12R22.5花紋為何\", \"其他\", \"米其林主要385/65R22.5花紋為何\", \n",
    "                   \"其他\",  \"米其林主要275/70R22.5花紋為何\", \"其他\", \"進價（含稅）\", \"目前使用滿意度 - 壽命\", \"目前使用滿意度 - 吃胎（偏磨耗）\", \"目前使用滿意度 - 胎肩部耐久性\", \n",
    "                   \"目前使用滿意度 - 胎唇部耐久性\", \"目前使用滿意度 - 操控性\", \"目前使用滿意度 - 剎車性\", \"目前使用滿意度 - 舒適性\", \"目前使用滿意度 - 油耗表現\", \"目前是否也使用普利司通輪胎\", \n",
    "                   \"普利司通主要花紋\", \"其他\", \"目前普利司通的主要使用規格\", \"普利司通主要315/80R22.5花紋為何\", \"其他\",  \"普利司通主要385/65R22.5花紋為何\", \"其他\", \"普利司通主要295/80R22.5花紋為何\", \"其他\", \n",
    "                   \"普利司通主要275/70R22.5花紋為何\", \"其他\", \"普利司通主要12R22.5花紋為何\", \"其他\", \"進價（含稅）\", \"普利司通使用滿意度 - 壽命\",  \"普利司通使用滿意度 - 吃胎（偏磨耗）\", \"普利司通使用滿意度 - 胎肩部耐久性\", \n",
    "                   \"普利司通使用滿意度 - 胎唇部耐久性\", \"普利司通使用滿意度 - 操控性\", \"普利司通使用滿意度 - 剎車性\", \"普利司通使用滿意度 - 舒適性\",  \"普利司通使用滿意度 - 油耗表現\", \"目前瑪吉斯的主要使用規格\", \n",
    "                   \"瑪吉斯主要315/80R22.5花紋為何\", \"其他\", \"瑪吉斯主要295/80R22.5花紋為何\", \"其他\", \"瑪吉斯主要275/70R22.5花紋為何\", \"其他\", \"瑪吉斯主要385/65R22.5花紋為何\",  \"其他\", \"進價（含稅）\", \n",
    "                   \"瑪吉斯使用滿意度 - 壽命\", \"瑪吉斯使用滿意度 - 吃胎（偏磨耗）\", \"瑪吉斯使用滿意度 - 胎肩部耐久性\", \"瑪吉斯使用滿意度 - 胎唇部耐久性\", \"瑪吉斯使用滿意度 - 操控性\", \"瑪吉斯使用滿意度 - 剎車性\", \n",
    "                   \"瑪吉斯使用滿意度 - 舒適性\", \"瑪吉斯使用滿意度 - 油耗表現\", \"目前是否也使用普利司通輪胎\", \"普利司通主要花紋\", \"其他\", \"普利司通使用滿意度 - 壽命\", \"普利司通使用滿意度 - 吃胎（偏磨耗）\", \n",
    "                   \"普利司通使用滿意度 - 胎肩部耐久性\",  \"普利司通使用滿意度 - 胎唇部耐久性\", \"普利司通使用滿意度 - 操控性\", \"普利司通使用滿意度 - 剎車性\", \"普利司通使用滿意度 - 舒適性\", \n",
    "                   \"普利司通使用滿意度 - 油耗表現\", \"目前輪胎使用滿意度 - 壽命\", \"目前輪胎使用滿意度 - 吃胎（偏磨耗）\",  \"目前輪胎使用滿意度 - 胎肩部耐久性\", \"目前輪胎使用滿意度 - 胎唇部耐久性\", \n",
    "                   \"目前輪胎使用滿意度 - 操控性\", \"目前輪胎使用滿意度 - 剎車性\", \"目前輪胎使用滿意度 - 舒適性\", \"目前輪胎使用滿意度 - 油耗表現\",  \"目前您選擇輪胎的各因素重要度排序為何（點擊影片可看操作範例）\"]]"
   ]
  },
  {
   "cell_type": "code",
   "execution_count": 191,
   "id": "cca51dcb-973a-4cbb-8283-87ed876b7cc9",
   "metadata": {},
   "outputs": [],
   "source": [
    "result = df[(df['目前前後軸主要使用品牌'].isin([\"普利司通\", \"瑪吉斯\", \"米其林\", \"其他\"]))]"
   ]
  },
  {
   "cell_type": "code",
   "execution_count": 233,
   "id": "b5040bc1-e2df-4d19-912a-f64929b723f7",
   "metadata": {},
   "outputs": [],
   "source": [
    "bs = result[result[\"目前前後軸主要使用品牌\"] == \"普利司通\"]"
   ]
  },
  {
   "cell_type": "code",
   "execution_count": 234,
   "id": "33d9b515-36b6-4195-beaf-be7cf5ecb32c",
   "metadata": {},
   "outputs": [],
   "source": [
    "bs[\"使用花紋\"] = bs[[\"普利司通主要315/80R22.5花紋為何\", \"普利司通主要385/65R22.5花紋為何\", \"普利司通主要295/80R22.5花紋為何\", \"普利司通主要275/70R22.5花紋為何\", \"普利司通主要12R22.5花紋為何\"]].values.tolist()"
   ]
  },
  {
   "cell_type": "code",
   "execution_count": 291,
   "id": "90d525a3-a4ae-4a52-a528-a988eb21dd6f",
   "metadata": {},
   "outputs": [],
   "source": [
    "def extract_pattern(data):\n",
    "    for i in data:\n",
    "        if type(i) is str and i != \"0\":\n",
    "            return i\n",
    "        else:\n",
    "            pass"
   ]
  },
  {
   "cell_type": "code",
   "execution_count": 236,
   "id": "3769cc9e-2169-43bf-b6cb-b92058d42fcf",
   "metadata": {},
   "outputs": [],
   "source": [
    "bs[\"使用花紋\"] = bs[\"使用花紋\"].map(lambda x: test_1(x))"
   ]
  },
  {
   "cell_type": "code",
   "execution_count": 237,
   "id": "6d9c6b93-2b43-4a16-92ef-0ca57e86f0f8",
   "metadata": {},
   "outputs": [],
   "source": [
    "bs = bs.T.drop_duplicates().T"
   ]
  },
  {
   "cell_type": "code",
   "execution_count": 238,
   "id": "357c76dc-0724-4d2f-b140-112c44eba6ec",
   "metadata": {},
   "outputs": [],
   "source": [
    "mi = result[result[\"目前前後軸主要使用品牌\"] == \"米其林\"]"
   ]
  },
  {
   "cell_type": "code",
   "execution_count": 239,
   "id": "5810735b-049c-4196-864c-6af5e3d1e1e3",
   "metadata": {},
   "outputs": [],
   "source": [
    "mi_mi = mi[[\"請選擇您的業態\", \"主要使用用途\", \"目前前後軸主要使用品牌\", \"目前米其林的主要使用規格\", \"米其林主要295/80R22.5花紋為何\", \"目前使用滿意度 - 壽命.1\", \"目前使用滿意度 - 吃胎（偏磨耗）.1\", \"目前使用滿意度 - 胎肩部耐久性.1\", \n",
    "    \"目前使用滿意度 - 胎唇部耐久性.1\", \"目前使用滿意度 - 操控性.1\", \"目前使用滿意度 - 剎車性.1\", \"目前使用滿意度 - 舒適性.1\", \"目前使用滿意度 - 油耗表現.1\", \"目前您選擇輪胎的各因素重要度排序為何（點擊影片可看操作範例）\"]]"
   ]
  },
  {
   "cell_type": "code",
   "execution_count": 240,
   "id": "aa54aee3-1c08-4ff9-b2ac-c59021a96003",
   "metadata": {},
   "outputs": [],
   "source": [
    "mi_bs = mi[[\"請選擇您的業態\", \"主要使用用途\", \"目前前後軸主要使用品牌\", \"目前米其林的主要使用規格\", \"普利司通主要花紋\", \"普利司通使用滿意度 - 壽命\", \"普利司通使用滿意度 - 吃胎（偏磨耗）\", \"普利司通使用滿意度 - 胎肩部耐久性\", \n",
    "    \"普利司通使用滿意度 - 胎唇部耐久性\", \"普利司通使用滿意度 - 操控性\", \"普利司通使用滿意度 - 剎車性\", \"普利司通使用滿意度 - 舒適性\", \"普利司通使用滿意度 - 油耗表現\", \"目前您選擇輪胎的各因素重要度排序為何（點擊影片可看操作範例）\"]]"
   ]
  },
  {
   "cell_type": "code",
   "execution_count": 241,
   "id": "1821833d-e938-483f-9404-759c27f896fa",
   "metadata": {},
   "outputs": [],
   "source": [
    "mi_bs = mi_bs[mi_bs[\"普利司通主要花紋\"].notna()]"
   ]
  },
  {
   "cell_type": "code",
   "execution_count": 242,
   "id": "cbc418ed-da3b-4c1f-989b-b116cd2591f6",
   "metadata": {},
   "outputs": [],
   "source": [
    "mi_mi.columns = [\"業態\", \"主要使用用途\", \"主要使用品牌\", \"規格\", \"花紋\", \"壽命\", \"偏磨耗\", \"胎肩部耐久性\", \"胎唇部耐久性\", \"操控性\", \"剎車性\", \"舒適性\", \"油耗表現\", \"因素排序\"]\n",
    "mi_bs.columns = [\"業態\", \"主要使用用途\", \"主要使用品牌\", \"規格\", \"花紋\", \"壽命\", \"偏磨耗\", \"胎肩部耐久性\", \"胎唇部耐久性\", \"操控性\", \"剎車性\", \"舒適性\", \"油耗表現\", \"因素排序\"]\n",
    "mi_result = pd.concat([mi_mi, mi_bs])"
   ]
  },
  {
   "cell_type": "code",
   "execution_count": 243,
   "id": "cd4c3623-5f8b-4621-8f9f-f38bea8a4c00",
   "metadata": {},
   "outputs": [
    {
     "data": {
      "text/html": [
       "<div>\n",
       "<style scoped>\n",
       "    .dataframe tbody tr th:only-of-type {\n",
       "        vertical-align: middle;\n",
       "    }\n",
       "\n",
       "    .dataframe tbody tr th {\n",
       "        vertical-align: top;\n",
       "    }\n",
       "\n",
       "    .dataframe thead th {\n",
       "        text-align: right;\n",
       "    }\n",
       "</style>\n",
       "<table border=\"1\" class=\"dataframe\">\n",
       "  <thead>\n",
       "    <tr style=\"text-align: right;\">\n",
       "      <th></th>\n",
       "      <th>業態</th>\n",
       "      <th>主要使用用途</th>\n",
       "      <th>主要使用品牌</th>\n",
       "      <th>規格</th>\n",
       "      <th>花紋</th>\n",
       "      <th>壽命</th>\n",
       "      <th>偏磨耗</th>\n",
       "      <th>胎肩部耐久性</th>\n",
       "      <th>胎唇部耐久性</th>\n",
       "      <th>操控性</th>\n",
       "      <th>剎車性</th>\n",
       "      <th>舒適性</th>\n",
       "      <th>油耗表現</th>\n",
       "      <th>因素排序</th>\n",
       "    </tr>\n",
       "  </thead>\n",
       "  <tbody>\n",
       "    <tr>\n",
       "      <th>22</th>\n",
       "      <td>市區公車</td>\n",
       "      <td>中短途</td>\n",
       "      <td>米其林</td>\n",
       "      <td>295/80R22.5</td>\n",
       "      <td>X Coach Energy Z</td>\n",
       "      <td>4.0</td>\n",
       "      <td>1.0</td>\n",
       "      <td>4.0</td>\n",
       "      <td>4.0</td>\n",
       "      <td>4.0</td>\n",
       "      <td>4.0</td>\n",
       "      <td>4.0</td>\n",
       "      <td>4.0</td>\n",
       "      <td>1. 行駛里程\\n2. 操縱安全性\\n3. 省油性\\n4. 舒適性\\n5. 翻修性能\\n6....</td>\n",
       "    </tr>\n",
       "    <tr>\n",
       "      <th>40</th>\n",
       "      <td>國道客運</td>\n",
       "      <td>長途</td>\n",
       "      <td>米其林</td>\n",
       "      <td>295/80R22.5</td>\n",
       "      <td>X Coach Z</td>\n",
       "      <td>5.0</td>\n",
       "      <td>5.0</td>\n",
       "      <td>5.0</td>\n",
       "      <td>5.0</td>\n",
       "      <td>5.0</td>\n",
       "      <td>5.0</td>\n",
       "      <td>5.0</td>\n",
       "      <td>5.0</td>\n",
       "      <td>1. 行駛里程\\n2. 操縱安全性\\n3. 偏磨耗（吃胎）\\n4. 舒適性\\n5. 省油性\\...</td>\n",
       "    </tr>\n",
       "    <tr>\n",
       "      <th>22</th>\n",
       "      <td>市區公車</td>\n",
       "      <td>中短途</td>\n",
       "      <td>米其林</td>\n",
       "      <td>295/80R22.5</td>\n",
       "      <td>R156</td>\n",
       "      <td>4.0</td>\n",
       "      <td>1.0</td>\n",
       "      <td>5.0</td>\n",
       "      <td>5.0</td>\n",
       "      <td>4.0</td>\n",
       "      <td>5.0</td>\n",
       "      <td>4.0</td>\n",
       "      <td>4.0</td>\n",
       "      <td>1. 行駛里程\\n2. 操縱安全性\\n3. 省油性\\n4. 舒適性\\n5. 翻修性能\\n6....</td>\n",
       "    </tr>\n",
       "  </tbody>\n",
       "</table>\n",
       "</div>"
      ],
      "text/plain": [
       "      業態 主要使用用途 主要使用品牌           規格                花紋   壽命  偏磨耗  胎肩部耐久性  \\\n",
       "22  市區公車    中短途    米其林  295/80R22.5  X Coach Energy Z  4.0  1.0     4.0   \n",
       "40  國道客運     長途    米其林  295/80R22.5         X Coach Z  5.0  5.0     5.0   \n",
       "22  市區公車    中短途    米其林  295/80R22.5              R156  4.0  1.0     5.0   \n",
       "\n",
       "    胎唇部耐久性  操控性  剎車性  舒適性  油耗表現  \\\n",
       "22     4.0  4.0  4.0  4.0   4.0   \n",
       "40     5.0  5.0  5.0  5.0   5.0   \n",
       "22     5.0  4.0  5.0  4.0   4.0   \n",
       "\n",
       "                                                 因素排序  \n",
       "22  1. 行駛里程\\n2. 操縱安全性\\n3. 省油性\\n4. 舒適性\\n5. 翻修性能\\n6....  \n",
       "40  1. 行駛里程\\n2. 操縱安全性\\n3. 偏磨耗（吃胎）\\n4. 舒適性\\n5. 省油性\\...  \n",
       "22  1. 行駛里程\\n2. 操縱安全性\\n3. 省油性\\n4. 舒適性\\n5. 翻修性能\\n6....  "
      ]
     },
     "execution_count": 243,
     "metadata": {},
     "output_type": "execute_result"
    }
   ],
   "source": [
    "mi_result"
   ]
  },
  {
   "cell_type": "code",
   "execution_count": 244,
   "id": "8c48451b-837d-46a7-8d1b-b051bbba928b",
   "metadata": {},
   "outputs": [],
   "source": [
    "bs = bs[['請選擇您的業態', \"主要使用用途\", '目前前後軸主要使用品牌', '目前普利司通的主要使用規格', '使用花紋', '普利司通使用滿意度 - 壽命', '普利司通使用滿意度 - 吃胎（偏磨耗）', '普利司通使用滿意度 - 胎肩部耐久性',\n",
    "       '普利司通使用滿意度 - 胎唇部耐久性', '普利司通使用滿意度 - 操控性', '普利司通使用滿意度 - 剎車性',\n",
    "       '普利司通使用滿意度 - 舒適性', '普利司通使用滿意度 - 油耗表現', '目前您選擇輪胎的各因素重要度排序為何（點擊影片可看操作範例）']]"
   ]
  },
  {
   "cell_type": "code",
   "execution_count": 245,
   "id": "c0f3386c-7230-4818-b41d-f8a527518cb1",
   "metadata": {},
   "outputs": [],
   "source": [
    "bs.columns = [\"業態\", \"主要使用用途\", \"主要使用品牌\", \"規格\", \"花紋\", \"壽命\", \"偏磨耗\", \"胎肩部耐久性\", \"胎唇部耐久性\", \"操控性\", \"剎車性\", \"舒適性\", \"油耗表現\", \"因素排序\"]"
   ]
  },
  {
   "cell_type": "code",
   "execution_count": 246,
   "id": "c54c6ad2-d658-40da-8b29-e3a9fa310d45",
   "metadata": {},
   "outputs": [],
   "source": [
    "new_result = pd.concat([bs, mi_result])"
   ]
  },
  {
   "cell_type": "code",
   "execution_count": 231,
   "id": "1473deb1-89b2-446b-af73-f2e7541b9313",
   "metadata": {},
   "outputs": [],
   "source": [
    "ma = result[result[\"目前前後軸主要使用品牌\"] == \"瑪吉斯\"]"
   ]
  },
  {
   "cell_type": "code",
   "execution_count": 260,
   "id": "2790fb1a-679c-420a-9fc3-2f1a0e2a5712",
   "metadata": {},
   "outputs": [],
   "source": [
    "ma_bs = ma[ma[\"目前是否也使用普利司通輪胎.2\"] == \"是\"]"
   ]
  },
  {
   "cell_type": "code",
   "execution_count": 261,
   "id": "b460d719-38fd-4280-a310-e9f48ed135a9",
   "metadata": {},
   "outputs": [],
   "source": [
    "ma_bs[\"使用花紋\"] = ma_bs[\"普利司通主要花紋.1\"]\n",
    "ma_bs = ma_bs[['請選擇您的業態', \"主要使用用途\", '目前前後軸主要使用品牌', \"目前瑪吉斯的主要使用規格\", \"使用花紋\", \"普利司通使用滿意度 - 壽命.1\", \"普利司通使用滿意度 - 吃胎（偏磨耗）.1\", \"普利司通使用滿意度 - 胎肩部耐久性.1\", \n",
    "               \"普利司通使用滿意度 - 胎唇部耐久性.1\", \"普利司通使用滿意度 - 操控性.1\", \"普利司通使用滿意度 - 剎車性.1\", \"普利司通使用滿意度 - 舒適性.1\", \"普利司通使用滿意度 - 油耗表現.1\", \"目前您選擇輪胎的各因素重要度排序為何（點擊影片可看操作範例）\"]]"
   ]
  },
  {
   "cell_type": "code",
   "execution_count": 262,
   "id": "08c6a734-3e57-47a5-81ca-93b36038fc45",
   "metadata": {},
   "outputs": [],
   "source": [
    "ma_bs.columns = [\"業態\", \"主要使用用途\", \"主要使用品牌\", \"規格\", \"花紋\", \"壽命\", \"偏磨耗\", \"胎肩部耐久性\", \"胎唇部耐久性\", \"操控性\", \"剎車性\", \"舒適性\", \"油耗表現\", \"因素排序\"]"
   ]
  },
  {
   "cell_type": "code",
   "execution_count": 283,
   "id": "f7e52271-b6d0-414f-b48a-86498a3bb4f7",
   "metadata": {},
   "outputs": [],
   "source": [
    "ma[[\"瑪吉斯主要315/80R22.5花紋為何\", \"瑪吉斯主要295/80R22.5花紋為何\", \"瑪吉斯主要275/70R22.5花紋為何\", \"瑪吉斯主要385/65R22.5花紋為何\"]] = ma[[\"瑪吉斯主要315/80R22.5花紋為何\", \"瑪吉斯主要295/80R22.5花紋為何\", \"瑪吉斯主要275/70R22.5花紋為何\", \"瑪吉斯主要385/65R22.5花紋為何\"]].fillna(0)"
   ]
  },
  {
   "cell_type": "code",
   "execution_count": 286,
   "id": "c951a2d7-3fa2-42a6-9f54-9f31782d3f24",
   "metadata": {},
   "outputs": [],
   "source": [
    "ma = ma.astype({\"瑪吉斯主要315/80R22.5花紋為何\": int, \"瑪吉斯主要295/80R22.5花紋為何\": int, \"瑪吉斯主要275/70R22.5花紋為何\": int, \"瑪吉斯主要385/65R22.5花紋為何\": int}).astype({\"瑪吉斯主要315/80R22.5花紋為何\": str, \"瑪吉斯主要295/80R22.5花紋為何\": str, \"瑪吉斯主要275/70R22.5花紋為何\": str, \"瑪吉斯主要385/65R22.5花紋為何\": str})"
   ]
  },
  {
   "cell_type": "code",
   "execution_count": 287,
   "id": "56371ed5-bc74-4844-a771-0dbe17a52c22",
   "metadata": {},
   "outputs": [],
   "source": [
    "ma[\"使用花紋\"] = ma[[\"瑪吉斯主要315/80R22.5花紋為何\", \"瑪吉斯主要295/80R22.5花紋為何\", \"瑪吉斯主要275/70R22.5花紋為何\", \"瑪吉斯主要385/65R22.5花紋為何\"]].values.tolist()"
   ]
  },
  {
   "cell_type": "code",
   "execution_count": 293,
   "id": "77b805a7-ffef-4a49-a0f1-3814420793f3",
   "metadata": {},
   "outputs": [],
   "source": [
    "ma[\"使用花紋\"] = ma[\"使用花紋\"].map(lambda x: extract_pattern(x))"
   ]
  },
  {
   "cell_type": "code",
   "execution_count": 298,
   "id": "afbbebc0-7362-4640-861d-2922cded4ce7",
   "metadata": {},
   "outputs": [],
   "source": [
    "ma_ma = ma[['請選擇您的業態', \"主要使用用途\", '目前前後軸主要使用品牌', '目前瑪吉斯的主要使用規格', '使用花紋', '瑪吉斯使用滿意度 - 壽命', '瑪吉斯使用滿意度 - 吃胎（偏磨耗）', '瑪吉斯使用滿意度 - 胎肩部耐久性', '瑪吉斯使用滿意度 - 胎唇部耐久性', \n",
    "            '瑪吉斯使用滿意度 - 操控性', '瑪吉斯使用滿意度 - 剎車性', '瑪吉斯使用滿意度 - 舒適性', '瑪吉斯使用滿意度 - 油耗表現', '目前您選擇輪胎的各因素重要度排序為何（點擊影片可看操作範例）']]"
   ]
  },
  {
   "cell_type": "code",
   "execution_count": 299,
   "id": "ab655af4-04bf-4921-b300-2bf5da119e80",
   "metadata": {},
   "outputs": [],
   "source": [
    "ma_ma.columns = [\"業態\", \"主要使用用途\", \"主要使用品牌\", \"規格\", \"花紋\", \"壽命\", \"偏磨耗\", \"胎肩部耐久性\", \"胎唇部耐久性\", \"操控性\", \"剎車性\", \"舒適性\", \"油耗表現\", \"因素排序\"]"
   ]
  },
  {
   "cell_type": "code",
   "execution_count": 303,
   "id": "904d5394-d986-40da-b3ea-39f94013dcd0",
   "metadata": {},
   "outputs": [],
   "source": [
    "final_result = pd.concat([new_result, ma_ma, ma_bs]).reset_index(drop=True)"
   ]
  },
  {
   "cell_type": "code",
   "execution_count": 325,
   "id": "1d9ad5d1-9f73-4e6e-8c86-00f7bc3e2439",
   "metadata": {},
   "outputs": [
    {
     "data": {
      "text/html": [
       "<div>\n",
       "<style scoped>\n",
       "    .dataframe tbody tr th:only-of-type {\n",
       "        vertical-align: middle;\n",
       "    }\n",
       "\n",
       "    .dataframe tbody tr th {\n",
       "        vertical-align: top;\n",
       "    }\n",
       "\n",
       "    .dataframe thead th {\n",
       "        text-align: right;\n",
       "    }\n",
       "</style>\n",
       "<table border=\"1\" class=\"dataframe\">\n",
       "  <thead>\n",
       "    <tr style=\"text-align: right;\">\n",
       "      <th></th>\n",
       "      <th></th>\n",
       "      <th>壽命</th>\n",
       "      <th>偏磨耗</th>\n",
       "      <th>胎肩部耐久性</th>\n",
       "      <th>胎唇部耐久性</th>\n",
       "      <th>操控性</th>\n",
       "      <th>剎車性</th>\n",
       "      <th>舒適性</th>\n",
       "      <th>油耗表現</th>\n",
       "    </tr>\n",
       "    <tr>\n",
       "      <th>規格</th>\n",
       "      <th>花紋</th>\n",
       "      <th></th>\n",
       "      <th></th>\n",
       "      <th></th>\n",
       "      <th></th>\n",
       "      <th></th>\n",
       "      <th></th>\n",
       "      <th></th>\n",
       "      <th></th>\n",
       "    </tr>\n",
       "  </thead>\n",
       "  <tbody>\n",
       "    <tr>\n",
       "      <th>12R22.5</th>\n",
       "      <th>R150</th>\n",
       "      <td>3.666667</td>\n",
       "      <td>3.500000</td>\n",
       "      <td>3.166667</td>\n",
       "      <td>3.333333</td>\n",
       "      <td>3.500000</td>\n",
       "      <td>3.666667</td>\n",
       "      <td>3.500000</td>\n",
       "      <td>3.500000</td>\n",
       "    </tr>\n",
       "    <tr>\n",
       "      <th>275/70R22.5</th>\n",
       "      <th>R162</th>\n",
       "      <td>4.285714</td>\n",
       "      <td>4.000000</td>\n",
       "      <td>4.142857</td>\n",
       "      <td>4.285714</td>\n",
       "      <td>4.142857</td>\n",
       "      <td>4.142857</td>\n",
       "      <td>4.285714</td>\n",
       "      <td>4.000000</td>\n",
       "    </tr>\n",
       "    <tr>\n",
       "      <th rowspan=\"5\" valign=\"top\">295/80R22.5</th>\n",
       "      <th>288</th>\n",
       "      <td>5.000000</td>\n",
       "      <td>3.000000</td>\n",
       "      <td>5.000000</td>\n",
       "      <td>5.000000</td>\n",
       "      <td>5.000000</td>\n",
       "      <td>5.000000</td>\n",
       "      <td>3.000000</td>\n",
       "      <td>5.000000</td>\n",
       "    </tr>\n",
       "    <tr>\n",
       "      <th>R150</th>\n",
       "      <td>4.000000</td>\n",
       "      <td>3.800000</td>\n",
       "      <td>3.800000</td>\n",
       "      <td>4.200000</td>\n",
       "      <td>4.200000</td>\n",
       "      <td>4.200000</td>\n",
       "      <td>4.000000</td>\n",
       "      <td>3.800000</td>\n",
       "    </tr>\n",
       "    <tr>\n",
       "      <th>R156</th>\n",
       "      <td>3.500000</td>\n",
       "      <td>2.500000</td>\n",
       "      <td>4.000000</td>\n",
       "      <td>4.500000</td>\n",
       "      <td>3.500000</td>\n",
       "      <td>3.500000</td>\n",
       "      <td>3.500000</td>\n",
       "      <td>3.000000</td>\n",
       "    </tr>\n",
       "    <tr>\n",
       "      <th>X Coach Energy Z</th>\n",
       "      <td>4.000000</td>\n",
       "      <td>1.000000</td>\n",
       "      <td>4.000000</td>\n",
       "      <td>4.000000</td>\n",
       "      <td>4.000000</td>\n",
       "      <td>4.000000</td>\n",
       "      <td>4.000000</td>\n",
       "      <td>4.000000</td>\n",
       "    </tr>\n",
       "    <tr>\n",
       "      <th>X Coach Z</th>\n",
       "      <td>5.000000</td>\n",
       "      <td>5.000000</td>\n",
       "      <td>5.000000</td>\n",
       "      <td>5.000000</td>\n",
       "      <td>5.000000</td>\n",
       "      <td>5.000000</td>\n",
       "      <td>5.000000</td>\n",
       "      <td>5.000000</td>\n",
       "    </tr>\n",
       "    <tr>\n",
       "      <th rowspan=\"4\" valign=\"top\">315/80R22.5</th>\n",
       "      <th>268</th>\n",
       "      <td>5.000000</td>\n",
       "      <td>5.000000</td>\n",
       "      <td>5.000000</td>\n",
       "      <td>5.000000</td>\n",
       "      <td>5.000000</td>\n",
       "      <td>5.000000</td>\n",
       "      <td>5.000000</td>\n",
       "      <td>5.000000</td>\n",
       "    </tr>\n",
       "    <tr>\n",
       "      <th>288</th>\n",
       "      <td>3.428571</td>\n",
       "      <td>3.000000</td>\n",
       "      <td>3.571429</td>\n",
       "      <td>3.428571</td>\n",
       "      <td>3.428571</td>\n",
       "      <td>3.428571</td>\n",
       "      <td>3.285714</td>\n",
       "      <td>3.285714</td>\n",
       "    </tr>\n",
       "    <tr>\n",
       "      <th>R150</th>\n",
       "      <td>3.933333</td>\n",
       "      <td>3.266667</td>\n",
       "      <td>3.666667</td>\n",
       "      <td>3.866667</td>\n",
       "      <td>4.133333</td>\n",
       "      <td>4.000000</td>\n",
       "      <td>3.733333</td>\n",
       "      <td>3.533333</td>\n",
       "    </tr>\n",
       "    <tr>\n",
       "      <th>R294</th>\n",
       "      <td>3.000000</td>\n",
       "      <td>3.000000</td>\n",
       "      <td>3.000000</td>\n",
       "      <td>3.000000</td>\n",
       "      <td>3.000000</td>\n",
       "      <td>3.000000</td>\n",
       "      <td>3.000000</td>\n",
       "      <td>3.000000</td>\n",
       "    </tr>\n",
       "    <tr>\n",
       "      <th>385/65R22.5</th>\n",
       "      <th>R168</th>\n",
       "      <td>3.000000</td>\n",
       "      <td>3.000000</td>\n",
       "      <td>3.000000</td>\n",
       "      <td>3.000000</td>\n",
       "      <td>3.000000</td>\n",
       "      <td>3.000000</td>\n",
       "      <td>3.000000</td>\n",
       "      <td>3.000000</td>\n",
       "    </tr>\n",
       "  </tbody>\n",
       "</table>\n",
       "</div>"
      ],
      "text/plain": [
       "                                    壽命       偏磨耗    胎肩部耐久性    胎唇部耐久性  \\\n",
       "規格          花紋                                                         \n",
       "12R22.5     R150              3.666667  3.500000  3.166667  3.333333   \n",
       "275/70R22.5 R162              4.285714  4.000000  4.142857  4.285714   \n",
       "295/80R22.5 288               5.000000  3.000000  5.000000  5.000000   \n",
       "            R150              4.000000  3.800000  3.800000  4.200000   \n",
       "            R156              3.500000  2.500000  4.000000  4.500000   \n",
       "            X Coach Energy Z  4.000000  1.000000  4.000000  4.000000   \n",
       "            X Coach Z         5.000000  5.000000  5.000000  5.000000   \n",
       "315/80R22.5 268               5.000000  5.000000  5.000000  5.000000   \n",
       "            288               3.428571  3.000000  3.571429  3.428571   \n",
       "            R150              3.933333  3.266667  3.666667  3.866667   \n",
       "            R294              3.000000  3.000000  3.000000  3.000000   \n",
       "385/65R22.5 R168              3.000000  3.000000  3.000000  3.000000   \n",
       "\n",
       "                                   操控性       剎車性       舒適性      油耗表現  \n",
       "規格          花紋                                                        \n",
       "12R22.5     R150              3.500000  3.666667  3.500000  3.500000  \n",
       "275/70R22.5 R162              4.142857  4.142857  4.285714  4.000000  \n",
       "295/80R22.5 288               5.000000  5.000000  3.000000  5.000000  \n",
       "            R150              4.200000  4.200000  4.000000  3.800000  \n",
       "            R156              3.500000  3.500000  3.500000  3.000000  \n",
       "            X Coach Energy Z  4.000000  4.000000  4.000000  4.000000  \n",
       "            X Coach Z         5.000000  5.000000  5.000000  5.000000  \n",
       "315/80R22.5 268               5.000000  5.000000  5.000000  5.000000  \n",
       "            288               3.428571  3.428571  3.285714  3.285714  \n",
       "            R150              4.133333  4.000000  3.733333  3.533333  \n",
       "            R294              3.000000  3.000000  3.000000  3.000000  \n",
       "385/65R22.5 R168              3.000000  3.000000  3.000000  3.000000  "
      ]
     },
     "execution_count": 325,
     "metadata": {},
     "output_type": "execute_result"
    }
   ],
   "source": [
    "final_result.groupby([\"規格\", \"花紋\"])[[\"壽命\", \"偏磨耗\", \"胎肩部耐久性\", \"胎唇部耐久性\", \"操控性\", \"剎車性\", \"舒適性\", \"油耗表現\"]].mean().T.to_excel(r\"C:\\Users\\kc.hsu\\Desktop\\20221214_車隊滿意度調查.xlsx\", index=False)"
   ]
  },
  {
   "cell_type": "code",
   "execution_count": 338,
   "id": "8a65312d-a48c-41dc-bf15-a355f1c3341b",
   "metadata": {},
   "outputs": [
    {
     "name": "stderr",
     "output_type": "stream",
     "text": [
      "C:\\Users\\kc.hsu\\AppData\\Local\\Temp\\ipykernel_20968\\2644237462.py:2: FutureWarning: The default value of regex will change from True to False in a future version.\n",
      "  ranking_result = final_result[\"因素排序\"].str.replace(\"1. \", \"\").str.split(\" \", expand=True).applymap(lambda x: re.sub(\"\\d\", \"\", x)).applymap(lambda x: x.replace(\"\\n.\", \"\")).applymap(lambda x: x.strip())\n"
     ]
    }
   ],
   "source": [
    "# 購買因素排序處理\n",
    "ranking_result = final_result[\"因素排序\"].str.replace(\"1. \", \"\").str.split(\" \", expand=True).applymap(lambda x: re.sub(\"\\d\", \"\", x)).applymap(lambda x: x.replace(\"\\n.\", \"\")).applymap(lambda x: x.strip())"
   ]
  },
  {
   "cell_type": "code",
   "execution_count": 343,
   "id": "b224f1df-a5bc-42da-a381-93ed908137ed",
   "metadata": {},
   "outputs": [],
   "source": [
    "ranking_result.columns = [1, 2, 3, 4, 5, 6]"
   ]
  },
  {
   "cell_type": "code",
   "execution_count": 362,
   "id": "add03aab-2bcd-4211-809d-586fd420f139",
   "metadata": {},
   "outputs": [],
   "source": [
    "rank_result = ranking_result.apply(lambda x: x.value_counts()).reset_index()"
   ]
  },
  {
   "cell_type": "code",
   "execution_count": 365,
   "id": "191c190c-d8d5-4801-b9ee-59ddf73d349a",
   "metadata": {},
   "outputs": [],
   "source": [
    "rank_result.fillna(0, inplace=True)"
   ]
  },
  {
   "cell_type": "code",
   "execution_count": 372,
   "id": "a4ac8139-f226-4adc-82e4-deefeede018b",
   "metadata": {},
   "outputs": [],
   "source": [
    "rank_result[\"分數表\"] = rank_result[[1, 2, 3, 4, 5, 6]].values.tolist()"
   ]
  },
  {
   "cell_type": "code",
   "execution_count": 380,
   "id": "2903651d-d3ed-4a38-88a5-abd58afc0ad6",
   "metadata": {},
   "outputs": [
    {
     "data": {
      "text/html": [
       "<div>\n",
       "<style scoped>\n",
       "    .dataframe tbody tr th:only-of-type {\n",
       "        vertical-align: middle;\n",
       "    }\n",
       "\n",
       "    .dataframe tbody tr th {\n",
       "        vertical-align: top;\n",
       "    }\n",
       "\n",
       "    .dataframe thead th {\n",
       "        text-align: right;\n",
       "    }\n",
       "</style>\n",
       "<table border=\"1\" class=\"dataframe\">\n",
       "  <thead>\n",
       "    <tr style=\"text-align: right;\">\n",
       "      <th></th>\n",
       "      <th>index</th>\n",
       "      <th>1</th>\n",
       "      <th>2</th>\n",
       "      <th>3</th>\n",
       "      <th>4</th>\n",
       "      <th>5</th>\n",
       "      <th>6</th>\n",
       "      <th>分數表</th>\n",
       "    </tr>\n",
       "  </thead>\n",
       "  <tbody>\n",
       "    <tr>\n",
       "      <th>0</th>\n",
       "      <td>偏磨耗（吃胎）</td>\n",
       "      <td>5.0</td>\n",
       "      <td>17</td>\n",
       "      <td>12</td>\n",
       "      <td>6</td>\n",
       "      <td>4</td>\n",
       "      <td>4</td>\n",
       "      <td>[5.0, 17.0, 12.0, 6.0, 4.0, 4.0]</td>\n",
       "    </tr>\n",
       "    <tr>\n",
       "      <th>1</th>\n",
       "      <td>操縱安全性</td>\n",
       "      <td>12.0</td>\n",
       "      <td>16</td>\n",
       "      <td>10</td>\n",
       "      <td>6</td>\n",
       "      <td>2</td>\n",
       "      <td>2</td>\n",
       "      <td>[12.0, 16.0, 10.0, 6.0, 2.0, 2.0]</td>\n",
       "    </tr>\n",
       "    <tr>\n",
       "      <th>2</th>\n",
       "      <td>省油性</td>\n",
       "      <td>2.0</td>\n",
       "      <td>3</td>\n",
       "      <td>10</td>\n",
       "      <td>12</td>\n",
       "      <td>15</td>\n",
       "      <td>6</td>\n",
       "      <td>[2.0, 3.0, 10.0, 12.0, 15.0, 6.0]</td>\n",
       "    </tr>\n",
       "    <tr>\n",
       "      <th>3</th>\n",
       "      <td>翻修性能</td>\n",
       "      <td>0.0</td>\n",
       "      <td>2</td>\n",
       "      <td>5</td>\n",
       "      <td>7</td>\n",
       "      <td>13</td>\n",
       "      <td>21</td>\n",
       "      <td>[0.0, 2.0, 5.0, 7.0, 13.0, 21.0]</td>\n",
       "    </tr>\n",
       "    <tr>\n",
       "      <th>4</th>\n",
       "      <td>舒適性</td>\n",
       "      <td>4.0</td>\n",
       "      <td>2</td>\n",
       "      <td>4</td>\n",
       "      <td>12</td>\n",
       "      <td>12</td>\n",
       "      <td>14</td>\n",
       "      <td>[4.0, 2.0, 4.0, 12.0, 12.0, 14.0]</td>\n",
       "    </tr>\n",
       "    <tr>\n",
       "      <th>5</th>\n",
       "      <td>行駛里程</td>\n",
       "      <td>25.0</td>\n",
       "      <td>8</td>\n",
       "      <td>7</td>\n",
       "      <td>5</td>\n",
       "      <td>2</td>\n",
       "      <td>1</td>\n",
       "      <td>[25.0, 8.0, 7.0, 5.0, 2.0, 1.0]</td>\n",
       "    </tr>\n",
       "  </tbody>\n",
       "</table>\n",
       "</div>"
      ],
      "text/plain": [
       "     index     1   2   3   4   5   6                                分數表\n",
       "0  偏磨耗（吃胎）   5.0  17  12   6   4   4   [5.0, 17.0, 12.0, 6.0, 4.0, 4.0]\n",
       "1    操縱安全性  12.0  16  10   6   2   2  [12.0, 16.0, 10.0, 6.0, 2.0, 2.0]\n",
       "2      省油性   2.0   3  10  12  15   6  [2.0, 3.0, 10.0, 12.0, 15.0, 6.0]\n",
       "3     翻修性能   0.0   2   5   7  13  21   [0.0, 2.0, 5.0, 7.0, 13.0, 21.0]\n",
       "4      舒適性   4.0   2   4  12  12  14  [4.0, 2.0, 4.0, 12.0, 12.0, 14.0]\n",
       "5     行駛里程  25.0   8   7   5   2   1    [25.0, 8.0, 7.0, 5.0, 2.0, 1.0]"
      ]
     },
     "execution_count": 380,
     "metadata": {},
     "output_type": "execute_result"
    }
   ],
   "source": [
    "rank_result"
   ]
  },
  {
   "cell_type": "code",
   "execution_count": 382,
   "id": "38822b2b-6550-40e9-9a84-7f85799b815c",
   "metadata": {},
   "outputs": [],
   "source": [
    "rank_result[\"總分\"] = rank_result.apply(lambda x: sum([i * j for i, j in zip([6, 5, 4, 3, 2, 1], x[\"分數表\"])]), axis=1)"
   ]
  },
  {
   "cell_type": "code",
   "execution_count": 385,
   "id": "be7b3960-f6a3-489e-b08d-4b0065cf1d18",
   "metadata": {},
   "outputs": [],
   "source": [
    "rank_result[[\"index\", \"總分\"]].to_excel(r\"C:\\Users\\kc.hsu\\Desktop\\20221214_車隊選胎排序.xlsx\", index=False)"
   ]
  },
  {
   "cell_type": "code",
   "execution_count": null,
   "id": "07f15edd-af04-4f41-a185-1e104ca0166d",
   "metadata": {},
   "outputs": [],
   "source": []
  }
 ],
 "metadata": {
  "kernelspec": {
   "display_name": "Python 3 (ipykernel)",
   "language": "python",
   "name": "python3"
  },
  "language_info": {
   "codemirror_mode": {
    "name": "ipython",
    "version": 3
   },
   "file_extension": ".py",
   "mimetype": "text/x-python",
   "name": "python",
   "nbconvert_exporter": "python",
   "pygments_lexer": "ipython3",
   "version": "3.10.6"
  }
 },
 "nbformat": 4,
 "nbformat_minor": 5
}
