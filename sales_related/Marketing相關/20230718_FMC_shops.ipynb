{
 "cells": [
  {
   "cell_type": "code",
   "execution_count": 8,
   "metadata": {},
   "outputs": [],
   "source": [
    "import pandas as pd\n",
    "pd.set_option(\"display.max_columns\", None)\n",
    "import requests\n",
    "import plotly.express as px"
   ]
  },
  {
   "cell_type": "code",
   "execution_count": 1,
   "metadata": {},
   "outputs": [],
   "source": [
    "df = pd.read_csv(r\"C:\\Users\\kc.hsu\\Downloads\\STANDARD_aqG6x_BFPTTC店家調查_202307270745_64c22084afd03.csv\")"
   ]
  },
  {
   "cell_type": "code",
   "execution_count": 2,
   "metadata": {},
   "outputs": [],
   "source": [
    "df[['店家外觀照片 - 儲存位置', '店內及工作區照片 - 儲存位置', '服務車照片 - 儲存位置']] = df[['店家外觀照片 - 儲存位置', '店內及工作區照片 - 儲存位置', '服務車照片 - 儲存位置']].applymap(lambda x: x.split(\"&\")[0])"
   ]
  },
  {
   "cell_type": "code",
   "execution_count": 3,
   "metadata": {},
   "outputs": [],
   "source": [
    "data = pd.read_excel(r\"D:\\kc.hsu\\OneDrive - Bridgestone\\數據\\客戶代號通路表\\20230712_客檔.xlsx\")"
   ]
  },
  {
   "cell_type": "code",
   "execution_count": 4,
   "metadata": {},
   "outputs": [],
   "source": [
    "shop_type_dict = dict(zip(data[\"客戶名稱\"], data[\"大胎契約\"].map(lambda x: \"BFP\" if x == 3 else \"TTC\")))\n",
    "sales_dict = dict(zip(data[\"客戶名稱\"], data[\"業務名稱\"]))\n",
    "address_dict = dict(zip(data[\"客戶名稱\"], data[\"住址(發票收受人)\"].map(lambda x: x.replace(\"臺\", \"台\") if \"臺\" in x else x.replace(\"縣\", \"市\") if \"桃園縣\" in x else x)))"
   ]
  },
  {
   "cell_type": "code",
   "execution_count": 5,
   "metadata": {},
   "outputs": [],
   "source": [
    "df[\"店別\"] = df[\"店家名稱\"].map(shop_type_dict)\n",
    "df[\"業務員\"] = df[\"店家名稱\"].map(sales_dict)\n",
    "df[\"地址\"] = df[\"店家名稱\"].map(address_dict)"
   ]
  },
  {
   "cell_type": "code",
   "execution_count": 9,
   "metadata": {},
   "outputs": [],
   "source": [
    "def get_city_by_ip(data: str) -> str:\n",
    "    \"\"\"Get city from the IP\n",
    "\n",
    "    Args:\n",
    "        data (str): IP\n",
    "\n",
    "    Returns:\n",
    "        str: City name\n",
    "    \"\"\"\n",
    "    url = \"https://nordvpn.com/wp-admin/admin-ajax.php?action=get_user_info_data&ip={}\".format(data)\n",
    "    res = requests.get(url)\n",
    "    city = res.json()[\"city\"]\n",
    "    return city\n",
    "    "
   ]
  },
  {
   "cell_type": "code",
   "execution_count": 10,
   "metadata": {},
   "outputs": [],
   "source": [
    "df[\"輸入位置\"] = df[\"IP紀錄\"].map(get_city_by_ip)"
   ]
  },
  {
   "cell_type": "code",
   "execution_count": null,
   "metadata": {},
   "outputs": [],
   "source": [
    "df.to_csv(r\"D:\\kc.hsu\\OneDrive - Bridgestone\\行銷推廣\\掛牌店\\20230718_FMC問卷回覆.csv\", encoding=\"utf-8-sig\", index=False)"
   ]
  },
  {
   "cell_type": "code",
   "execution_count": null,
   "metadata": {},
   "outputs": [],
   "source": []
  }
 ],
 "metadata": {
  "kernelspec": {
   "display_name": "python_env",
   "language": "python",
   "name": "python3"
  },
  "language_info": {
   "codemirror_mode": {
    "name": "ipython",
    "version": 3
   },
   "file_extension": ".py",
   "mimetype": "text/x-python",
   "name": "python",
   "nbconvert_exporter": "python",
   "pygments_lexer": "ipython3",
   "version": "3.10.6"
  },
  "orig_nbformat": 4
 },
 "nbformat": 4,
 "nbformat_minor": 2
}
