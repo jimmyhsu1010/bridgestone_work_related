{
 "cells": [
  {
   "cell_type": "code",
   "execution_count": 49,
   "id": "eeed77ac-61fa-4e82-841d-2f619e823244",
   "metadata": {},
   "outputs": [],
   "source": [
    "import pandas as pd\n",
    "import warnings\n",
    "import sqlite3\n",
    "pd.set_option(\"display.max_columns\", None)\n",
    "pd.set_option(\"mode.chained_assignment\", None)\n",
    "warnings.filterwarnings(\"ignore\")\n",
    "from datetime import datetime"
   ]
  },
  {
   "cell_type": "code",
   "execution_count": 61,
   "id": "42a41fbf",
   "metadata": {},
   "outputs": [],
   "source": [
    "df = pd.read_clipboard()"
   ]
  },
  {
   "cell_type": "code",
   "execution_count": 52,
   "id": "88619e57",
   "metadata": {},
   "outputs": [],
   "source": [
    "df.fillna(0, inplace=True)"
   ]
  },
  {
   "cell_type": "code",
   "execution_count": 57,
   "id": "3d02affc",
   "metadata": {},
   "outputs": [],
   "source": [
    "result = df.groupby(['Group', 'No.1', '規格 ', '花紋', '產地']).sum().stack().reset_index(name=\"volume\")"
   ]
  },
  {
   "cell_type": "code",
   "execution_count": 60,
   "id": "f3de1a97",
   "metadata": {},
   "outputs": [],
   "source": [
    "result.columns = ['Group', 'PCODE', '規格 ', '花紋', '產地', '月份', 'volume']"
   ]
  },
  {
   "cell_type": "code",
   "execution_count": 63,
   "id": "b5371bae",
   "metadata": {},
   "outputs": [],
   "source": [
    "map_dict = dict(zip(df[\"商品代號\"], df[\"分類\"]))"
   ]
  },
  {
   "cell_type": "code",
   "execution_count": 65,
   "id": "f557e724",
   "metadata": {},
   "outputs": [],
   "source": [
    "result[\"Premium\"] = result[\"PCODE\"].map(map_dict)"
   ]
  },
  {
   "cell_type": "code",
   "execution_count": 67,
   "id": "72d43749",
   "metadata": {},
   "outputs": [],
   "source": [
    "result.to_clipboard()"
   ]
  },
  {
   "cell_type": "code",
   "execution_count": null,
   "id": "3d8e2159",
   "metadata": {},
   "outputs": [],
   "source": []
  },
  {
   "cell_type": "code",
   "execution_count": 2,
   "id": "e08929a8-cb9f-457f-9dba-df3980ad9fd8",
   "metadata": {},
   "outputs": [],
   "source": [
    "# Build connection\n",
    "con = sqlite3.connect(r\"C:\\Users\\kc.hsu\\Python workspace\\BS_Spider\\web_scraping\\web_scraping\\scraping_df\")"
   ]
  },
  {
   "cell_type": "code",
   "execution_count": 3,
   "id": "f9837769-a8c1-4bed-b6ae-968f77047abe",
   "metadata": {},
   "outputs": [],
   "source": [
    "# Build cursor\n",
    "cur = con.cursor()"
   ]
  },
  {
   "cell_type": "code",
   "execution_count": 4,
   "id": "a641d932-31cc-4e89-8936-b7be5eb4aae5",
   "metadata": {},
   "outputs": [],
   "source": [
    "# Get all data from the table \"bsmi\"\n",
    "script = \"select * from bsmi\""
   ]
  },
  {
   "cell_type": "code",
   "execution_count": 5,
   "id": "961046a8-71fe-4f7f-b482-c7132a74a025",
   "metadata": {},
   "outputs": [],
   "source": [
    "# Read data from sql with pandas\n",
    "df = pd.read_sql(script, con)"
   ]
  },
  {
   "cell_type": "code",
   "execution_count": 6,
   "id": "708c6534-0373-4812-ba56-d21234e2e997",
   "metadata": {},
   "outputs": [
    {
     "data": {
      "text/plain": [
       "(127058, 11)"
      ]
     },
     "execution_count": 6,
     "metadata": {},
     "output_type": "execute_result"
    }
   ],
   "source": [
    "df.shape"
   ]
  },
  {
   "cell_type": "code",
   "execution_count": 7,
   "id": "0d5a84fb-cadc-4102-adbd-25a36c82c472",
   "metadata": {},
   "outputs": [],
   "source": [
    "df = df.drop_duplicates()"
   ]
  },
  {
   "cell_type": "code",
   "execution_count": 8,
   "id": "9cd4c392-ea46-428e-a177-3b25aee2b03c",
   "metadata": {},
   "outputs": [
    {
     "data": {
      "text/plain": [
       "(127058, 11)"
      ]
     },
     "execution_count": 8,
     "metadata": {},
     "output_type": "execute_result"
    }
   ],
   "source": [
    "df.shape"
   ]
  },
  {
   "cell_type": "code",
   "execution_count": 12,
   "id": "71d1a587",
   "metadata": {},
   "outputs": [],
   "source": [
    "result = df.copy()"
   ]
  },
  {
   "cell_type": "code",
   "execution_count": 13,
   "id": "1583af32-2ff9-4dac-afa6-b0f8fbf9d329",
   "metadata": {},
   "outputs": [],
   "source": [
    "result[\"extract_size\"] = result[\"size\"].str.extract(r\"(\\d{1,3}.?/?\\s?\\d{0,3} ?[R|Z|ZR|RF]+ ?[\\d\\.]+)\")\n",
    "result[\"extract_size_2\"] = result[\"model\"].str.extract(r\"(\\d{1,3}.?/?\\s?\\d{0,3} ?[R|Z|ZR|RF|F]+ ?[\\d\\.]+)\")\n",
    "result[\"final_size\"] = result.apply(lambda x: x[\"extract_size\"] if pd.notna(x[\"extract_size\"]) else x[\"model\"] if pd.notna(x[\"model\"]) else \"na\", axis=1)\n",
    "result[\"final_size\"] = result[\"final_size\"].str.replace(\"Z\", \"\").str.replace(\" \", \"\")\n",
    "filter_list = [\"BRIDGESTONE\", \"R150\", \"R150II\", \"R294\", \"R168\", \"M729\", \"R162\", \"R102\", \"R118\"]\n",
    "result[\"bs1\"] = result[\"en_product_name\"].str.contains(\"BRIDGESTONE|R150|R150II|R294|R168|M729|R162\")\n",
    "result[\"bs2\"] = result[\"size\"].str.contains(\"BRIDGESTONE|R150|R150II|R294|R168|M729|R162\")\n",
    "result[\"bs3\"] = result[\"model\"].str.contains(\"BRIDGESTONE|R150|R150II|R294|R168|M729|R162\")\n",
    "result[\"Date\"] = pd.to_datetime(result[\"month\"].map(lambda x: str(int(x[:3]) + 1911) + x[3:]))"
   ]
  },
  {
   "cell_type": "code",
   "execution_count": 23,
   "id": "5d4ac863",
   "metadata": {},
   "outputs": [],
   "source": [
    "result[\"Verification\"] = result[[\"bs1\", \"bs2\", \"bs3\"]].apply(tuple, axis=1)"
   ]
  },
  {
   "cell_type": "code",
   "execution_count": 27,
   "id": "0e37db43",
   "metadata": {},
   "outputs": [],
   "source": [
    "result[\"BS\"] = result[\"Verification\"].map(lambda x: \"BS\" if True in x else \"No\")"
   ]
  },
  {
   "cell_type": "code",
   "execution_count": 30,
   "id": "8e721da1",
   "metadata": {},
   "outputs": [],
   "source": [
    "result = result[['Date', 'company_name', 'tyre_type', 'category', 'upper_tag',\n",
    "       'lower_tag', 'cn_product_name', 'en_product_name', 'items', 'size',\n",
    "       'model', 'final_size', \"BS\"]]"
   ]
  },
  {
   "cell_type": "code",
   "execution_count": 41,
   "id": "fabaa7a4",
   "metadata": {},
   "outputs": [],
   "source": [
    "result = result[result[\"Date\"] >= \"2021-01-01\"]"
   ]
  },
  {
   "cell_type": "code",
   "execution_count": 42,
   "id": "7ace65ec-e493-4011-b6dc-2154fa343865",
   "metadata": {},
   "outputs": [],
   "source": [
    "today = datetime.today() \\\n",
    "        .strftime(\"%Y%m%d\")\n",
    "export_path = \"D:/kc.hsu\\OneDrive - Bridgestone/數據/標準檢驗局/\" + today + \"_商檢局資料.xlsx\"\n",
    "result.to_excel(export_path, index=False)"
   ]
  }
 ],
 "metadata": {
  "kernelspec": {
   "display_name": "Python 3 (ipykernel)",
   "language": "python",
   "name": "python3"
  },
  "language_info": {
   "codemirror_mode": {
    "name": "ipython",
    "version": 3
   },
   "file_extension": ".py",
   "mimetype": "text/x-python",
   "name": "python",
   "nbconvert_exporter": "python",
   "pygments_lexer": "ipython3",
   "version": "3.10.6"
  }
 },
 "nbformat": 4,
 "nbformat_minor": 5
}
