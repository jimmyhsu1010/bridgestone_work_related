{
 "cells": [
  {
   "cell_type": "code",
   "execution_count": 1,
   "id": "eeed77ac-61fa-4e82-841d-2f619e823244",
   "metadata": {},
   "outputs": [],
   "source": [
    "import pandas as pd\n",
    "import warnings\n",
    "import sqlite3\n",
    "pd.set_option(\"display.max_columns\", None)\n",
    "pd.set_option(\"mode.chained_assignment\", None)\n",
    "warnings.filterwarnings(\"ignore\")"
   ]
  },
  {
   "cell_type": "code",
   "execution_count": 29,
   "id": "e08929a8-cb9f-457f-9dba-df3980ad9fd8",
   "metadata": {},
   "outputs": [],
   "source": [
    "# Build connection\n",
    "con = sqlite3.connect(r\"C:\\Users\\kc.hsu\\Python workspace\\BS_Spider\\web_scraping\\web_scraping\\scraping_df\")"
   ]
  },
  {
   "cell_type": "code",
   "execution_count": 30,
   "id": "f9837769-a8c1-4bed-b6ae-968f77047abe",
   "metadata": {},
   "outputs": [],
   "source": [
    "# Build cursor\n",
    "cur = con.cursor()"
   ]
  },
  {
   "cell_type": "code",
   "execution_count": 31,
   "id": "a641d932-31cc-4e89-8936-b7be5eb4aae5",
   "metadata": {},
   "outputs": [],
   "source": [
    "# Get all data from the table \"bsmi\"\n",
    "script = \"select * from bsmi\""
   ]
  },
  {
   "cell_type": "code",
   "execution_count": 32,
   "id": "961046a8-71fe-4f7f-b482-c7132a74a025",
   "metadata": {},
   "outputs": [],
   "source": [
    "# Read data from sql with pandas\n",
    "df = pd.read_sql(script, con)"
   ]
  },
  {
   "cell_type": "code",
   "execution_count": 33,
   "id": "708c6534-0373-4812-ba56-d21234e2e997",
   "metadata": {},
   "outputs": [
    {
     "data": {
      "text/plain": [
       "(92658, 11)"
      ]
     },
     "execution_count": 33,
     "metadata": {},
     "output_type": "execute_result"
    }
   ],
   "source": [
    "df.shape"
   ]
  },
  {
   "cell_type": "code",
   "execution_count": 34,
   "id": "0d5a84fb-cadc-4102-adbd-25a36c82c472",
   "metadata": {},
   "outputs": [],
   "source": [
    "df = df.drop_duplicates()"
   ]
  },
  {
   "cell_type": "code",
   "execution_count": 36,
   "id": "9cd4c392-ea46-428e-a177-3b25aee2b03c",
   "metadata": {},
   "outputs": [
    {
     "data": {
      "text/plain": [
       "(85817, 11)"
      ]
     },
     "execution_count": 36,
     "metadata": {},
     "output_type": "execute_result"
    }
   ],
   "source": [
    "df.shape"
   ]
  },
  {
   "cell_type": "code",
   "execution_count": 37,
   "id": "1583af32-2ff9-4dac-afa6-b0f8fbf9d329",
   "metadata": {},
   "outputs": [],
   "source": [
    "df.insert(0, \"year_month\", df[\"month\"].map(lambda x: x[:5]))"
   ]
  },
  {
   "cell_type": "code",
   "execution_count": 38,
   "id": "7ace65ec-e493-4011-b6dc-2154fa343865",
   "metadata": {},
   "outputs": [],
   "source": [
    "con.close()"
   ]
  },
  {
   "cell_type": "code",
   "execution_count": 39,
   "id": "918d111e-44cf-4418-80f6-508eaaff5200",
   "metadata": {},
   "outputs": [],
   "source": [
    "df.to_excel(r\"D:\\kc.hsu\\OneDrive - Bridgestone\\數據\\標準檢驗局\\商檢局資料.xlsx\", index=False)"
   ]
  },
  {
   "cell_type": "code",
   "execution_count": null,
   "id": "1e6efa6a-67b7-471b-ad7e-86fdc03b1628",
   "metadata": {},
   "outputs": [],
   "source": []
  }
 ],
 "metadata": {
  "kernelspec": {
   "display_name": "Python 3 (ipykernel)",
   "language": "python",
   "name": "python3"
  },
  "language_info": {
   "codemirror_mode": {
    "name": "ipython",
    "version": 3
   },
   "file_extension": ".py",
   "mimetype": "text/x-python",
   "name": "python",
   "nbconvert_exporter": "python",
   "pygments_lexer": "ipython3",
   "version": "3.10.6"
  }
 },
 "nbformat": 4,
 "nbformat_minor": 5
}
