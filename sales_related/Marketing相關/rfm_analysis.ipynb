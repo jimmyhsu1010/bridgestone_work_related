{
 "cells": [
  {
   "cell_type": "code",
   "execution_count": 1,
   "id": "390ddf66-19f6-4d6b-9779-b98a6caeb168",
   "metadata": {},
   "outputs": [],
   "source": [
    "import pandas as pd \n",
    "pd.set_option(\"display.max_columns\", None)\n",
    "import warnings\n",
    "warnings.filterwarnings(\"ignore\")\n",
    "# import mitosheet"
   ]
  },
  {
   "cell_type": "markdown",
   "id": "a45bac7b-e299-4182-9f8d-e0df1e3a17be",
   "metadata": {},
   "source": [
    "## 正片開始"
   ]
  },
  {
   "cell_type": "code",
   "execution_count": null,
   "id": "768dee8f-d649-4ef2-9482-49201e5edca9",
   "metadata": {},
   "outputs": [],
   "source": [
    "df = pd.read_excel(r\"D:\\kc.hsu\\OneDrive - Bridgestone\\數據\\銷售數據\\202201-04_raw_data.xlsx\")"
   ]
  },
  {
   "cell_type": "code",
   "execution_count": null,
   "id": "566161af-9411-4d76-93b1-680460c54b0c",
   "metadata": {},
   "outputs": [],
   "source": [
    "df[\"營業額\"] = df[\"銷售數量\"] * df[\"銷貨單價\"]"
   ]
  },
  {
   "cell_type": "code",
   "execution_count": null,
   "id": "7752dd91-add8-4fdd-ab42-d92f8ed54c03",
   "metadata": {},
   "outputs": [],
   "source": [
    "# cus_code = pd.read_csv(\"../sales_related/ReferenceTable/category_types.csv\")\n",
    "cus_code = pd.read_excel(\"../sales_related/ReferenceTable/category_types.xlsx\")"
   ]
  },
  {
   "cell_type": "code",
   "execution_count": null,
   "id": "883e8b7a-4af2-440d-9cfb-c22611ec1355",
   "metadata": {},
   "outputs": [],
   "source": [
    "cus_dict = dict(zip(cus_code[\"客戶代號\"], cus_code[\"客戶\"]))"
   ]
  },
  {
   "cell_type": "code",
   "execution_count": null,
   "id": "1047210d-96c4-4380-ab52-4761d282394d",
   "metadata": {},
   "outputs": [],
   "source": [
    "channel_dict = dict(zip(cus_code[\"客戶代號\"], cus_code[\"小通路\"]))"
   ]
  },
  {
   "cell_type": "code",
   "execution_count": null,
   "id": "ccd454d3-8d30-44c2-a7ba-2848e67674b7",
   "metadata": {},
   "outputs": [],
   "source": [
    "area_dict = dict(zip(cus_code[\"客戶代號\"], cus_code[\"區域\"]))"
   ]
  },
  {
   "cell_type": "code",
   "execution_count": null,
   "id": "a5228a58-f98e-49ac-8532-ea9bbb996e42",
   "metadata": {},
   "outputs": [],
   "source": [
    "df.columns"
   ]
  },
  {
   "cell_type": "code",
   "execution_count": null,
   "id": "88a6960b-2f32-4060-98a8-b8d1b70b239d",
   "metadata": {},
   "outputs": [],
   "source": [
    "data = df.groupby([\"實際出貨日\", \"訂單單號\", \"買方\"])[[\"營業額\"]].sum().reset_index()"
   ]
  },
  {
   "cell_type": "code",
   "execution_count": null,
   "id": "cd21f57b-6a46-4f1b-bb3d-5e71fbb0b9b9",
   "metadata": {},
   "outputs": [],
   "source": [
    "data[\"客戶名稱\"] = data[\"買方\"].map(cus_dict)"
   ]
  },
  {
   "cell_type": "code",
   "execution_count": null,
   "id": "dc2e84cc-098f-48df-a10b-6acb31aa0e97",
   "metadata": {},
   "outputs": [],
   "source": [
    "data[\"通路\"] = data[\"買方\"].map(channel_dict)"
   ]
  },
  {
   "cell_type": "code",
   "execution_count": null,
   "id": "52f2280f-3ac9-4ff9-9a4f-94f8b925afca",
   "metadata": {},
   "outputs": [],
   "source": [
    "data[\"實際出貨日\"] = pd.to_datetime(data[\"實際出貨日\"])"
   ]
  },
  {
   "cell_type": "code",
   "execution_count": null,
   "id": "e4df5e87-41f0-42cc-aea2-e30738882895",
   "metadata": {},
   "outputs": [],
   "source": [
    "last_buy = data[\"實際出貨日\"].max()"
   ]
  },
  {
   "cell_type": "code",
   "execution_count": null,
   "id": "f799874a-e550-4dbf-a5d6-a47722d40f0f",
   "metadata": {},
   "outputs": [],
   "source": [
    "rfmTable = data.groupby([\"通路\", \"客戶名稱\"]).agg({\"實際出貨日\": lambda x: (last_buy - x.max()).days, \"訂單單號\": lambda x: len(x), \"營業額\": lambda x: x.sum()})"
   ]
  },
  {
   "cell_type": "code",
   "execution_count": null,
   "id": "9f511e6f-83df-42f7-91a5-82f564949506",
   "metadata": {},
   "outputs": [],
   "source": [
    "rfmTable[\"實際出貨日\"] = rfmTable[\"實際出貨日\"].astype(int)"
   ]
  },
  {
   "cell_type": "code",
   "execution_count": null,
   "id": "ec58c030-3359-4c25-b059-33c99c4ce689",
   "metadata": {},
   "outputs": [],
   "source": [
    "rfmTable.rename(columns={\"實際出貨日\": \"recency\", \"訂單單號\": \"frequency\", \"營業額\": \"amount\"}, inplace=True)"
   ]
  },
  {
   "cell_type": "code",
   "execution_count": null,
   "id": "53f7356c-826b-468e-b6af-cf88ccd228a0",
   "metadata": {},
   "outputs": [],
   "source": [
    "rfmTable.head()"
   ]
  },
  {
   "cell_type": "code",
   "execution_count": null,
   "id": "fbc91da7-50f5-4709-94c7-be56b9a0c78f",
   "metadata": {},
   "outputs": [],
   "source": [
    "data[data[\"客戶名稱\"] == \"一進汽車貨運有限公司\"]"
   ]
  },
  {
   "cell_type": "code",
   "execution_count": null,
   "id": "0042be32-e55b-455e-9ffb-b7e820b71ab9",
   "metadata": {},
   "outputs": [],
   "source": [
    "quantiles = rfmTable.quantile(q=[0.25, 0.5, 0.75])"
   ]
  },
  {
   "cell_type": "code",
   "execution_count": null,
   "id": "b1e7ba28-d355-437e-87a8-e819c98d7693",
   "metadata": {},
   "outputs": [],
   "source": [
    "quantiles"
   ]
  },
  {
   "cell_type": "code",
   "execution_count": null,
   "id": "8f7239df-d498-426d-acbd-2675033ea8bf",
   "metadata": {},
   "outputs": [],
   "source": [
    "quantiles = quantiles.to_dict()"
   ]
  },
  {
   "cell_type": "code",
   "execution_count": null,
   "id": "ae26e243-448d-48bc-a2f6-a72dd3f27ca1",
   "metadata": {},
   "outputs": [],
   "source": [
    "quantiles"
   ]
  },
  {
   "cell_type": "code",
   "execution_count": null,
   "id": "599b218b-2260-4329-b085-ac9921e3e7d5",
   "metadata": {},
   "outputs": [],
   "source": [
    "rfmSegmentation = rfmTable"
   ]
  },
  {
   "cell_type": "code",
   "execution_count": null,
   "id": "33621e02-03e2-4853-915d-e71eba1ff999",
   "metadata": {},
   "outputs": [],
   "source": [
    "# Arguments (x = value, p = recency, monetary_value, frequency, k = quartiles dict)\n",
    "def RClass(x,p,d):\n",
    "    if x <= d[p][0.25]:\n",
    "        return 4\n",
    "    elif x <= d[p][0.50]:\n",
    "        return 3\n",
    "    elif x <= d[p][0.75]: \n",
    "        return 2\n",
    "    else:\n",
    "        return 1\n",
    "    \n",
    "# Arguments (x = value, p = recency, monetary_value, frequency, k = quartiles dict)\n",
    "def FMClass(x,p,d):\n",
    "    if x <= d[p][0.25]:\n",
    "        return 1\n",
    "    elif x <= d[p][0.50]:\n",
    "        return 2\n",
    "    elif x <= d[p][0.75]: \n",
    "        return 3\n",
    "    else:\n",
    "        return 4"
   ]
  },
  {
   "cell_type": "code",
   "execution_count": null,
   "id": "b8b7ac6c-e669-4a48-958b-0d6981b72144",
   "metadata": {},
   "outputs": [],
   "source": [
    "rfmSegmentation['R_Quartile'] = rfmSegmentation['recency'].apply(RClass, args=('recency',quantiles,))\n",
    "rfmSegmentation['F_Quartile'] = rfmSegmentation['frequency'].apply(FMClass, args=('frequency',quantiles,))\n",
    "rfmSegmentation['M_Quartile'] = rfmSegmentation['amount'].apply(FMClass, args=('amount',quantiles,))"
   ]
  },
  {
   "cell_type": "code",
   "execution_count": null,
   "id": "50620edf-3f83-4184-b375-ed9b33f99272",
   "metadata": {},
   "outputs": [],
   "source": [
    "rfmSegmentation[\"RFMClass\"] = rfmSegmentation[\"R_Quartile\"] + rfmSegmentation[\"F_Quartile\"] + rfmSegmentation[\"M_Quartile\"]"
   ]
  },
  {
   "cell_type": "code",
   "execution_count": null,
   "id": "76453863-d091-4076-af22-8a6602f9d0b1",
   "metadata": {},
   "outputs": [],
   "source": [
    "bins = [1, 3, 6, 9, 12]\n",
    "rfmSegmentation[\"客戶等級\"] = pd.cut(rfmSegmentation[\"RFMClass\"], bins, labels=[\"C\", \"B\", \"A\", \"S\"])"
   ]
  },
  {
   "cell_type": "code",
   "execution_count": null,
   "id": "e8f96a52-c063-4a21-83b2-748ff608a954",
   "metadata": {},
   "outputs": [],
   "source": [
    "rfmSegmentation"
   ]
  },
  {
   "cell_type": "code",
   "execution_count": null,
   "id": "74104670-f2e2-40d6-9f4d-bb559700ec17",
   "metadata": {},
   "outputs": [],
   "source": [
    "rfmSegmentation[rfmSegmentation[\"客戶等級\"] == \"S\"]"
   ]
  },
  {
   "cell_type": "code",
   "execution_count": null,
   "id": "2085510b-89f8-43f5-b205-d903c80689ee",
   "metadata": {},
   "outputs": [],
   "source": [
    "result = rfmSegmentation.reset_index()"
   ]
  },
  {
   "cell_type": "code",
   "execution_count": null,
   "id": "deffa08a-da09-4dc8-a91e-63d017603a81",
   "metadata": {},
   "outputs": [],
   "source": [
    "result.to_excel(r\"C:\\Users\\kc.hsu\\Desktop\\RFM_analysis.xlsx\", index=False)"
   ]
  },
  {
   "cell_type": "code",
   "execution_count": null,
   "id": "13845e6c-18e5-404c-af16-5d85ce445d84",
   "metadata": {},
   "outputs": [],
   "source": [
    "import plotly.express as px"
   ]
  },
  {
   "cell_type": "code",
   "execution_count": null,
   "id": "e0e9d278-a410-4e7b-b9fc-6ad5b84ff493",
   "metadata": {},
   "outputs": [],
   "source": [
    "px.scatter_3d(rfmSegmentation, x=\"recency\", y=\"amount\", z=\"frequency\", color=\"客戶等級\", height=1080, log_y=True, log_x=True)"
   ]
  },
  {
   "cell_type": "code",
   "execution_count": null,
   "id": "9c6e9152-8b70-45a5-95a4-728fa037c3c4",
   "metadata": {},
   "outputs": [],
   "source": [
    "px.scatter(rfmSegmentation, x=\"recency\", y=\"frequency\", size=\"amount\", color=\"客戶等級\", log_y=True)"
   ]
  },
  {
   "cell_type": "markdown",
   "id": "fb3abb46-260d-4a6c-9db4-28c6bc692d8f",
   "metadata": {},
   "source": [
    "## 2022 June 7th更新\n",
    "### Method\n",
    "1. Utilize the latest 12 months' sales record to do the customer classification.\n",
    "2. Only classify BSSC customers\n",
    "3. Break down into area(By the responsible territory of the BSSC branch offices)"
   ]
  },
  {
   "cell_type": "code",
   "execution_count": 36,
   "id": "9cd2fa75-1742-47f0-a4dd-975cf07f27af",
   "metadata": {},
   "outputs": [
    {
     "ename": "FileNotFoundError",
     "evalue": "[Errno 2] No such file or directory: 'D:\\\\kc.hsu\\\\OneDrive - Bridgestone\\\\數據\\\\銷售數據\\\\2019-202205.csv'",
     "output_type": "error",
     "traceback": [
      "\u001b[1;31m---------------------------------------------------------------------------\u001b[0m",
      "\u001b[1;31mFileNotFoundError\u001b[0m                         Traceback (most recent call last)",
      "Input \u001b[1;32mIn [36]\u001b[0m, in \u001b[0;36m<cell line: 1>\u001b[1;34m()\u001b[0m\n\u001b[1;32m----> 1\u001b[0m df \u001b[38;5;241m=\u001b[39m \u001b[43mpd\u001b[49m\u001b[38;5;241;43m.\u001b[39;49m\u001b[43mread_csv\u001b[49m\u001b[43m(\u001b[49m\u001b[38;5;124;43mr\u001b[39;49m\u001b[38;5;124;43m\"\u001b[39;49m\u001b[38;5;124;43mD:\u001b[39;49m\u001b[38;5;124;43m\\\u001b[39;49m\u001b[38;5;124;43mkc.hsu\u001b[39;49m\u001b[38;5;124;43m\\\u001b[39;49m\u001b[38;5;124;43mOneDrive - Bridgestone\u001b[39;49m\u001b[38;5;124;43m\\\u001b[39;49m\u001b[38;5;124;43m數據\u001b[39;49m\u001b[38;5;124;43m\\\u001b[39;49m\u001b[38;5;124;43m銷售數據\u001b[39;49m\u001b[38;5;124;43m\\\u001b[39;49m\u001b[38;5;124;43m2019-202205.csv\u001b[39;49m\u001b[38;5;124;43m\"\u001b[39;49m\u001b[43m)\u001b[49m\n",
      "File \u001b[1;32mc:\\users\\kc.hsu\\python workspace\\python_env\\lib\\site-packages\\pandas\\util\\_decorators.py:311\u001b[0m, in \u001b[0;36mdeprecate_nonkeyword_arguments.<locals>.decorate.<locals>.wrapper\u001b[1;34m(*args, **kwargs)\u001b[0m\n\u001b[0;32m    305\u001b[0m \u001b[38;5;28;01mif\u001b[39;00m \u001b[38;5;28mlen\u001b[39m(args) \u001b[38;5;241m>\u001b[39m num_allow_args:\n\u001b[0;32m    306\u001b[0m     warnings\u001b[38;5;241m.\u001b[39mwarn(\n\u001b[0;32m    307\u001b[0m         msg\u001b[38;5;241m.\u001b[39mformat(arguments\u001b[38;5;241m=\u001b[39marguments),\n\u001b[0;32m    308\u001b[0m         \u001b[38;5;167;01mFutureWarning\u001b[39;00m,\n\u001b[0;32m    309\u001b[0m         stacklevel\u001b[38;5;241m=\u001b[39mstacklevel,\n\u001b[0;32m    310\u001b[0m     )\n\u001b[1;32m--> 311\u001b[0m \u001b[38;5;28;01mreturn\u001b[39;00m func(\u001b[38;5;241m*\u001b[39margs, \u001b[38;5;241m*\u001b[39m\u001b[38;5;241m*\u001b[39mkwargs)\n",
      "File \u001b[1;32mc:\\users\\kc.hsu\\python workspace\\python_env\\lib\\site-packages\\pandas\\io\\parsers\\readers.py:680\u001b[0m, in \u001b[0;36mread_csv\u001b[1;34m(filepath_or_buffer, sep, delimiter, header, names, index_col, usecols, squeeze, prefix, mangle_dupe_cols, dtype, engine, converters, true_values, false_values, skipinitialspace, skiprows, skipfooter, nrows, na_values, keep_default_na, na_filter, verbose, skip_blank_lines, parse_dates, infer_datetime_format, keep_date_col, date_parser, dayfirst, cache_dates, iterator, chunksize, compression, thousands, decimal, lineterminator, quotechar, quoting, doublequote, escapechar, comment, encoding, encoding_errors, dialect, error_bad_lines, warn_bad_lines, on_bad_lines, delim_whitespace, low_memory, memory_map, float_precision, storage_options)\u001b[0m\n\u001b[0;32m    665\u001b[0m kwds_defaults \u001b[38;5;241m=\u001b[39m _refine_defaults_read(\n\u001b[0;32m    666\u001b[0m     dialect,\n\u001b[0;32m    667\u001b[0m     delimiter,\n\u001b[1;32m   (...)\u001b[0m\n\u001b[0;32m    676\u001b[0m     defaults\u001b[38;5;241m=\u001b[39m{\u001b[38;5;124m\"\u001b[39m\u001b[38;5;124mdelimiter\u001b[39m\u001b[38;5;124m\"\u001b[39m: \u001b[38;5;124m\"\u001b[39m\u001b[38;5;124m,\u001b[39m\u001b[38;5;124m\"\u001b[39m},\n\u001b[0;32m    677\u001b[0m )\n\u001b[0;32m    678\u001b[0m kwds\u001b[38;5;241m.\u001b[39mupdate(kwds_defaults)\n\u001b[1;32m--> 680\u001b[0m \u001b[38;5;28;01mreturn\u001b[39;00m \u001b[43m_read\u001b[49m\u001b[43m(\u001b[49m\u001b[43mfilepath_or_buffer\u001b[49m\u001b[43m,\u001b[49m\u001b[43m \u001b[49m\u001b[43mkwds\u001b[49m\u001b[43m)\u001b[49m\n",
      "File \u001b[1;32mc:\\users\\kc.hsu\\python workspace\\python_env\\lib\\site-packages\\pandas\\io\\parsers\\readers.py:575\u001b[0m, in \u001b[0;36m_read\u001b[1;34m(filepath_or_buffer, kwds)\u001b[0m\n\u001b[0;32m    572\u001b[0m _validate_names(kwds\u001b[38;5;241m.\u001b[39mget(\u001b[38;5;124m\"\u001b[39m\u001b[38;5;124mnames\u001b[39m\u001b[38;5;124m\"\u001b[39m, \u001b[38;5;28;01mNone\u001b[39;00m))\n\u001b[0;32m    574\u001b[0m \u001b[38;5;66;03m# Create the parser.\u001b[39;00m\n\u001b[1;32m--> 575\u001b[0m parser \u001b[38;5;241m=\u001b[39m TextFileReader(filepath_or_buffer, \u001b[38;5;241m*\u001b[39m\u001b[38;5;241m*\u001b[39mkwds)\n\u001b[0;32m    577\u001b[0m \u001b[38;5;28;01mif\u001b[39;00m chunksize \u001b[38;5;129;01mor\u001b[39;00m iterator:\n\u001b[0;32m    578\u001b[0m     \u001b[38;5;28;01mreturn\u001b[39;00m parser\n",
      "File \u001b[1;32mc:\\users\\kc.hsu\\python workspace\\python_env\\lib\\site-packages\\pandas\\io\\parsers\\readers.py:934\u001b[0m, in \u001b[0;36mTextFileReader.__init__\u001b[1;34m(self, f, engine, **kwds)\u001b[0m\n\u001b[0;32m    931\u001b[0m     \u001b[38;5;28mself\u001b[39m\u001b[38;5;241m.\u001b[39moptions[\u001b[38;5;124m\"\u001b[39m\u001b[38;5;124mhas_index_names\u001b[39m\u001b[38;5;124m\"\u001b[39m] \u001b[38;5;241m=\u001b[39m kwds[\u001b[38;5;124m\"\u001b[39m\u001b[38;5;124mhas_index_names\u001b[39m\u001b[38;5;124m\"\u001b[39m]\n\u001b[0;32m    933\u001b[0m \u001b[38;5;28mself\u001b[39m\u001b[38;5;241m.\u001b[39mhandles: IOHandles \u001b[38;5;241m|\u001b[39m \u001b[38;5;28;01mNone\u001b[39;00m \u001b[38;5;241m=\u001b[39m \u001b[38;5;28;01mNone\u001b[39;00m\n\u001b[1;32m--> 934\u001b[0m \u001b[38;5;28mself\u001b[39m\u001b[38;5;241m.\u001b[39m_engine \u001b[38;5;241m=\u001b[39m \u001b[38;5;28;43mself\u001b[39;49m\u001b[38;5;241;43m.\u001b[39;49m\u001b[43m_make_engine\u001b[49m\u001b[43m(\u001b[49m\u001b[43mf\u001b[49m\u001b[43m,\u001b[49m\u001b[43m \u001b[49m\u001b[38;5;28;43mself\u001b[39;49m\u001b[38;5;241;43m.\u001b[39;49m\u001b[43mengine\u001b[49m\u001b[43m)\u001b[49m\n",
      "File \u001b[1;32mc:\\users\\kc.hsu\\python workspace\\python_env\\lib\\site-packages\\pandas\\io\\parsers\\readers.py:1218\u001b[0m, in \u001b[0;36mTextFileReader._make_engine\u001b[1;34m(self, f, engine)\u001b[0m\n\u001b[0;32m   1214\u001b[0m     mode \u001b[38;5;241m=\u001b[39m \u001b[38;5;124m\"\u001b[39m\u001b[38;5;124mrb\u001b[39m\u001b[38;5;124m\"\u001b[39m\n\u001b[0;32m   1215\u001b[0m \u001b[38;5;66;03m# error: No overload variant of \"get_handle\" matches argument types\u001b[39;00m\n\u001b[0;32m   1216\u001b[0m \u001b[38;5;66;03m# \"Union[str, PathLike[str], ReadCsvBuffer[bytes], ReadCsvBuffer[str]]\"\u001b[39;00m\n\u001b[0;32m   1217\u001b[0m \u001b[38;5;66;03m# , \"str\", \"bool\", \"Any\", \"Any\", \"Any\", \"Any\", \"Any\"\u001b[39;00m\n\u001b[1;32m-> 1218\u001b[0m \u001b[38;5;28mself\u001b[39m\u001b[38;5;241m.\u001b[39mhandles \u001b[38;5;241m=\u001b[39m \u001b[43mget_handle\u001b[49m\u001b[43m(\u001b[49m\u001b[43m  \u001b[49m\u001b[38;5;66;43;03m# type: ignore[call-overload]\u001b[39;49;00m\n\u001b[0;32m   1219\u001b[0m \u001b[43m    \u001b[49m\u001b[43mf\u001b[49m\u001b[43m,\u001b[49m\n\u001b[0;32m   1220\u001b[0m \u001b[43m    \u001b[49m\u001b[43mmode\u001b[49m\u001b[43m,\u001b[49m\n\u001b[0;32m   1221\u001b[0m \u001b[43m    \u001b[49m\u001b[43mencoding\u001b[49m\u001b[38;5;241;43m=\u001b[39;49m\u001b[38;5;28;43mself\u001b[39;49m\u001b[38;5;241;43m.\u001b[39;49m\u001b[43moptions\u001b[49m\u001b[38;5;241;43m.\u001b[39;49m\u001b[43mget\u001b[49m\u001b[43m(\u001b[49m\u001b[38;5;124;43m\"\u001b[39;49m\u001b[38;5;124;43mencoding\u001b[39;49m\u001b[38;5;124;43m\"\u001b[39;49m\u001b[43m,\u001b[49m\u001b[43m \u001b[49m\u001b[38;5;28;43;01mNone\u001b[39;49;00m\u001b[43m)\u001b[49m\u001b[43m,\u001b[49m\n\u001b[0;32m   1222\u001b[0m \u001b[43m    \u001b[49m\u001b[43mcompression\u001b[49m\u001b[38;5;241;43m=\u001b[39;49m\u001b[38;5;28;43mself\u001b[39;49m\u001b[38;5;241;43m.\u001b[39;49m\u001b[43moptions\u001b[49m\u001b[38;5;241;43m.\u001b[39;49m\u001b[43mget\u001b[49m\u001b[43m(\u001b[49m\u001b[38;5;124;43m\"\u001b[39;49m\u001b[38;5;124;43mcompression\u001b[39;49m\u001b[38;5;124;43m\"\u001b[39;49m\u001b[43m,\u001b[49m\u001b[43m \u001b[49m\u001b[38;5;28;43;01mNone\u001b[39;49;00m\u001b[43m)\u001b[49m\u001b[43m,\u001b[49m\n\u001b[0;32m   1223\u001b[0m \u001b[43m    \u001b[49m\u001b[43mmemory_map\u001b[49m\u001b[38;5;241;43m=\u001b[39;49m\u001b[38;5;28;43mself\u001b[39;49m\u001b[38;5;241;43m.\u001b[39;49m\u001b[43moptions\u001b[49m\u001b[38;5;241;43m.\u001b[39;49m\u001b[43mget\u001b[49m\u001b[43m(\u001b[49m\u001b[38;5;124;43m\"\u001b[39;49m\u001b[38;5;124;43mmemory_map\u001b[39;49m\u001b[38;5;124;43m\"\u001b[39;49m\u001b[43m,\u001b[49m\u001b[43m \u001b[49m\u001b[38;5;28;43;01mFalse\u001b[39;49;00m\u001b[43m)\u001b[49m\u001b[43m,\u001b[49m\n\u001b[0;32m   1224\u001b[0m \u001b[43m    \u001b[49m\u001b[43mis_text\u001b[49m\u001b[38;5;241;43m=\u001b[39;49m\u001b[43mis_text\u001b[49m\u001b[43m,\u001b[49m\n\u001b[0;32m   1225\u001b[0m \u001b[43m    \u001b[49m\u001b[43merrors\u001b[49m\u001b[38;5;241;43m=\u001b[39;49m\u001b[38;5;28;43mself\u001b[39;49m\u001b[38;5;241;43m.\u001b[39;49m\u001b[43moptions\u001b[49m\u001b[38;5;241;43m.\u001b[39;49m\u001b[43mget\u001b[49m\u001b[43m(\u001b[49m\u001b[38;5;124;43m\"\u001b[39;49m\u001b[38;5;124;43mencoding_errors\u001b[39;49m\u001b[38;5;124;43m\"\u001b[39;49m\u001b[43m,\u001b[49m\u001b[43m \u001b[49m\u001b[38;5;124;43m\"\u001b[39;49m\u001b[38;5;124;43mstrict\u001b[39;49m\u001b[38;5;124;43m\"\u001b[39;49m\u001b[43m)\u001b[49m\u001b[43m,\u001b[49m\n\u001b[0;32m   1226\u001b[0m \u001b[43m    \u001b[49m\u001b[43mstorage_options\u001b[49m\u001b[38;5;241;43m=\u001b[39;49m\u001b[38;5;28;43mself\u001b[39;49m\u001b[38;5;241;43m.\u001b[39;49m\u001b[43moptions\u001b[49m\u001b[38;5;241;43m.\u001b[39;49m\u001b[43mget\u001b[49m\u001b[43m(\u001b[49m\u001b[38;5;124;43m\"\u001b[39;49m\u001b[38;5;124;43mstorage_options\u001b[39;49m\u001b[38;5;124;43m\"\u001b[39;49m\u001b[43m,\u001b[49m\u001b[43m \u001b[49m\u001b[38;5;28;43;01mNone\u001b[39;49;00m\u001b[43m)\u001b[49m\u001b[43m,\u001b[49m\n\u001b[0;32m   1227\u001b[0m \u001b[43m\u001b[49m\u001b[43m)\u001b[49m\n\u001b[0;32m   1228\u001b[0m \u001b[38;5;28;01massert\u001b[39;00m \u001b[38;5;28mself\u001b[39m\u001b[38;5;241m.\u001b[39mhandles \u001b[38;5;129;01mis\u001b[39;00m \u001b[38;5;129;01mnot\u001b[39;00m \u001b[38;5;28;01mNone\u001b[39;00m\n\u001b[0;32m   1229\u001b[0m f \u001b[38;5;241m=\u001b[39m \u001b[38;5;28mself\u001b[39m\u001b[38;5;241m.\u001b[39mhandles\u001b[38;5;241m.\u001b[39mhandle\n",
      "File \u001b[1;32mc:\\users\\kc.hsu\\python workspace\\python_env\\lib\\site-packages\\pandas\\io\\common.py:786\u001b[0m, in \u001b[0;36mget_handle\u001b[1;34m(path_or_buf, mode, encoding, compression, memory_map, is_text, errors, storage_options)\u001b[0m\n\u001b[0;32m    781\u001b[0m \u001b[38;5;28;01melif\u001b[39;00m \u001b[38;5;28misinstance\u001b[39m(handle, \u001b[38;5;28mstr\u001b[39m):\n\u001b[0;32m    782\u001b[0m     \u001b[38;5;66;03m# Check whether the filename is to be opened in binary mode.\u001b[39;00m\n\u001b[0;32m    783\u001b[0m     \u001b[38;5;66;03m# Binary mode does not support 'encoding' and 'newline'.\u001b[39;00m\n\u001b[0;32m    784\u001b[0m     \u001b[38;5;28;01mif\u001b[39;00m ioargs\u001b[38;5;241m.\u001b[39mencoding \u001b[38;5;129;01mand\u001b[39;00m \u001b[38;5;124m\"\u001b[39m\u001b[38;5;124mb\u001b[39m\u001b[38;5;124m\"\u001b[39m \u001b[38;5;129;01mnot\u001b[39;00m \u001b[38;5;129;01min\u001b[39;00m ioargs\u001b[38;5;241m.\u001b[39mmode:\n\u001b[0;32m    785\u001b[0m         \u001b[38;5;66;03m# Encoding\u001b[39;00m\n\u001b[1;32m--> 786\u001b[0m         handle \u001b[38;5;241m=\u001b[39m \u001b[38;5;28;43mopen\u001b[39;49m\u001b[43m(\u001b[49m\n\u001b[0;32m    787\u001b[0m \u001b[43m            \u001b[49m\u001b[43mhandle\u001b[49m\u001b[43m,\u001b[49m\n\u001b[0;32m    788\u001b[0m \u001b[43m            \u001b[49m\u001b[43mioargs\u001b[49m\u001b[38;5;241;43m.\u001b[39;49m\u001b[43mmode\u001b[49m\u001b[43m,\u001b[49m\n\u001b[0;32m    789\u001b[0m \u001b[43m            \u001b[49m\u001b[43mencoding\u001b[49m\u001b[38;5;241;43m=\u001b[39;49m\u001b[43mioargs\u001b[49m\u001b[38;5;241;43m.\u001b[39;49m\u001b[43mencoding\u001b[49m\u001b[43m,\u001b[49m\n\u001b[0;32m    790\u001b[0m \u001b[43m            \u001b[49m\u001b[43merrors\u001b[49m\u001b[38;5;241;43m=\u001b[39;49m\u001b[43merrors\u001b[49m\u001b[43m,\u001b[49m\n\u001b[0;32m    791\u001b[0m \u001b[43m            \u001b[49m\u001b[43mnewline\u001b[49m\u001b[38;5;241;43m=\u001b[39;49m\u001b[38;5;124;43m\"\u001b[39;49m\u001b[38;5;124;43m\"\u001b[39;49m\u001b[43m,\u001b[49m\n\u001b[0;32m    792\u001b[0m \u001b[43m        \u001b[49m\u001b[43m)\u001b[49m\n\u001b[0;32m    793\u001b[0m     \u001b[38;5;28;01melse\u001b[39;00m:\n\u001b[0;32m    794\u001b[0m         \u001b[38;5;66;03m# Binary mode\u001b[39;00m\n\u001b[0;32m    795\u001b[0m         handle \u001b[38;5;241m=\u001b[39m \u001b[38;5;28mopen\u001b[39m(handle, ioargs\u001b[38;5;241m.\u001b[39mmode)\n",
      "\u001b[1;31mFileNotFoundError\u001b[0m: [Errno 2] No such file or directory: 'D:\\\\kc.hsu\\\\OneDrive - Bridgestone\\\\數據\\\\銷售數據\\\\2019-202205.csv'"
     ]
    }
   ],
   "source": [
    "df = pd.read_csv(r\"D:\\kc.hsu\\OneDrive - Bridgestone\\數據\\銷售數據\\2019-202205.csv\")"
   ]
  },
  {
   "cell_type": "code",
   "execution_count": 163,
   "id": "47cae625-a13d-4f2e-8d2d-ff7a0b6d530e",
   "metadata": {},
   "outputs": [],
   "source": [
    "df = pd.read_pickle(r\"D:\\kc.hsu\\OneDrive - Bridgestone\\數據\\銷售數據\\長期銷售記錄\\2017-202208.pkl\")"
   ]
  },
  {
   "cell_type": "code",
   "execution_count": 164,
   "id": "a3e1941a-f352-4712-8e28-0b069a957b0d",
   "metadata": {},
   "outputs": [],
   "source": [
    "df = df[(df[\"實際出貨日\"].between(\"2021-01-01\", \"2022-06-30\")) & (df[\"大通路\"] == \"BSSC\")]"
   ]
  },
  {
   "cell_type": "code",
   "execution_count": 165,
   "id": "2430e0b8-5105-4671-88de-f8d026da973e",
   "metadata": {},
   "outputs": [],
   "source": [
    "df[\"營業額\"] = df[\"銷售數量\"] * df[\"銷貨單價\"]"
   ]
  },
  {
   "cell_type": "code",
   "execution_count": 166,
   "id": "0cebc621-2620-430b-ac30-e788c308d1d1",
   "metadata": {},
   "outputs": [],
   "source": [
    "data = df.groupby([\"實際出貨日\", \"訂單單號\", \"買方\", \"客戶名稱\", \"大通路\", \"小通路\",  \"客戶城市\"])[[\"銷售數量\", \"營業額\"]].sum().reset_index()"
   ]
  },
  {
   "cell_type": "code",
   "execution_count": 167,
   "id": "17be01ab-6efd-4c00-ab7c-289ce94f8f66",
   "metadata": {},
   "outputs": [],
   "source": [
    "data[\"實際出貨日\"] = pd.to_datetime(data[\"實際出貨日\"], yearfirst=True)"
   ]
  },
  {
   "cell_type": "code",
   "execution_count": null,
   "id": "53e651cf-e53a-406c-a368-62715b9bf6fa",
   "metadata": {},
   "outputs": [],
   "source": [
    "# BSSC-FLT對照表設定\n",
    "sc_flt_code = pd.read_excel(\"../sales_related/ReferenceTable/bssc_flt_category_types.xlsx\")\n",
    "cus_dict = dict(zip(sc_flt_code[\"客戶代號\"], sc_flt_code[\"客戶\"]))\n",
    "channel_dict = dict(zip(sc_flt_code[\"客戶代號\"], sc_flt_code[\"大通路\"]))\n",
    "area_dict = dict(zip(sc_flt_code[\"客戶代號\"], sc_flt_code[\"業態\"]))\n",
    "city_dict = dict(zip(sc_flt_code[\"客戶\"], sc_flt_code[\"區域\"]))           "
   ]
  },
  {
   "cell_type": "code",
   "execution_count": null,
   "id": "30526800-7366-4a71-91b7-1b3eb6773bdd",
   "metadata": {},
   "outputs": [],
   "source": [
    "data[\"客戶名稱\"] = data[\"買方\"].map(cus_dict)\n",
    "data[\"通路\"] = data[\"買方\"].map(channel_dict)\n",
    "data[\"區域\"] = data[\"買方\"].map(area_dict)\n",
    "data[\"實際出貨日\"] = pd.to_datetime(data[\"實際出貨日\"])"
   ]
  },
  {
   "cell_type": "code",
   "execution_count": null,
   "id": "3c1025ed-3b77-433d-b0cd-ca1cef2f2597",
   "metadata": {},
   "outputs": [],
   "source": [
    "data[\"通路\"].unique()\n",
    "# BSSC-FLT條件設定\n",
    "data = data[(data[\"通路\"].isin([\"BSSC-FLT\"])) & (data[\"實際出貨日\"] >= \"2021-01-01\")]"
   ]
  },
  {
   "cell_type": "code",
   "execution_count": null,
   "id": "3166dc86-764f-4494-8d85-6b7ed9f386cb",
   "metadata": {},
   "outputs": [],
   "source": [
    "# 條件設定\n",
    "data = data[~(data[\"通路\"].isin([\"BSSC-FLT\", \"FLT-REP\", \"FLT-OE\", \"台灣普利司通股份有限公司\", \"CD\", \"AG\"])) & (data[\"實際出貨日\"] >= \"2021-06-01\")]"
   ]
  },
  {
   "cell_type": "code",
   "execution_count": null,
   "id": "f54f529a-5a68-4b50-9d5a-7e068f971367",
   "metadata": {},
   "outputs": [],
   "source": [
    "data[\"區域\"] = data[\"區域\"].str.strip()\n",
    "data[\"通路\"] = data[\"通路\"].map(lambda x: \"FMC\" if x == \"TTC\" or x == \"BFP\" else x)"
   ]
  },
  {
   "cell_type": "markdown",
   "id": "d7536639-4efe-40fb-8791-af2a14534b65",
   "metadata": {
    "tags": []
   },
   "source": [
    "## 客戶分類定義：\n",
    "- 重要價值客戶（R高，F高，M高）\n",
    "- 重要發展客戶（R高，F低，M高）\n",
    "- 重要保持客戶（R低，F高，M高）\n",
    "- 重要挽留客戶（R低，F低，M高）\n",
    "- 一般挽留客戶（R低，F低，M低）\n",
    "- 一般發展客戶（R高，F低，M低）\n",
    "- 一般保持客戶（R低，F高，M低）\n",
    "- 一般價值客戶（R高，F高，M低）"
   ]
  },
  {
   "cell_type": "code",
   "execution_count": 12,
   "id": "e332c57e-2500-4837-b6c1-0b5fb097d9c4",
   "metadata": {},
   "outputs": [],
   "source": [
    "ranking_category = [\"重要價值客戶\", \"重要發展客戶\", \"重要保持客戶\", \"重要挽留客戶\", \"一般挽留客戶\", \"一般發展客戶\", \"一般保持客戶\", \"一般價值客戶\"]\n",
    "ranking_value = [(1,1,1), (1,0,1), (0,1,1), (0,0,1), (0, 0, 0), (1, 0, 0), (0, 1, 0), (1, 1, 0)]\n",
    "ranking_dict = dict(zip(ranking_value, ranking_category))"
   ]
  },
  {
   "cell_type": "code",
   "execution_count": 14,
   "id": "f7d19918-009e-43cf-8eb1-5ea4e1e96931",
   "metadata": {},
   "outputs": [],
   "source": [
    "# 按照區域將各區域切出來個別分析\n",
    "def region_devider(data):\n",
    "    data_list = {}\n",
    "    for i in data[\"客戶城市\"].unique().tolist():\n",
    "        globals()[\"area\" + i] = data[data[\"客戶城市\"] == i]\n",
    "        data_list.setdefault(i + \"_shape\", globals()[\"area\" + i])\n",
    "    return data_list"
   ]
  },
  {
   "cell_type": "code",
   "execution_count": 44,
   "id": "3ce11be9-cbe7-4bef-8514-4c72b3c5b564",
   "metadata": {},
   "outputs": [],
   "source": [
    "# 按照各區域通路別切出來分析\n",
    "def channel_devider(data):\n",
    "    data_list = {}\n",
    "    for name in data.keys():\n",
    "        for i in data[name][\"小通路\"].unique().tolist():\n",
    "            globals()[name + i + \"_channel\"] = data[name][data[name][\"小通路\"] == i]\n",
    "            data_list.setdefault(name + \"_\" + i + \"_channel\", globals()[name + i + \"_channel\"])\n",
    "    return data_list\n"
   ]
  },
  {
   "cell_type": "code",
   "execution_count": 45,
   "id": "98d4da27-c74c-4380-a881-1e62657f285d",
   "metadata": {},
   "outputs": [],
   "source": [
    "# 各區數據前處理\n",
    "def data_preprocessing(data):\n",
    "    final_data = {}\n",
    "    for i in data.keys():\n",
    "        globals()[i + \"_data\"] = data[i].groupby([pd.Grouper(key=\"實際出貨日\", freq=\"M\"), \"客戶名稱\"]).size().reset_index()[[\"實際出貨日\", \"客戶名稱\"]].drop_duplicates()\n",
    "        globals()[i + \"_revenue\"] = data[i].groupby([pd.Grouper(key=\"實際出貨日\", freq=\"M\"), \"客戶名稱\"])[[\"營業額\", \"銷售數量\"]].sum()\n",
    "        globals()[i + \"_final\"] = globals()[i + \"_data\"].merge(globals()[i + \"_revenue\"], on=[\"實際出貨日\", \"客戶名稱\"])\n",
    "        globals()[i + \"_final\"][\"小通路\"] = data[i][\"小通路\"].unique().tolist()[0]\n",
    "        final_data.setdefault(i + \"_basic\", globals()[i + \"_final\"])\n",
    "    return final_data"
   ]
  },
  {
   "cell_type": "code",
   "execution_count": 168,
   "id": "c12773f7-edc8-49f4-b908-93ac32620070",
   "metadata": {},
   "outputs": [],
   "source": [
    "# 最後購買日期\n",
    "last_buy = data[\"實際出貨日\"].max()"
   ]
  },
  {
   "cell_type": "code",
   "execution_count": 47,
   "id": "16d63c65-509a-46e9-9f40-994a351c2f40",
   "metadata": {},
   "outputs": [],
   "source": [
    "def score_calculation(data):\n",
    "    sorted_data = {}\n",
    "    for i in data.keys():\n",
    "        globals()[\"rfmTable\" + i] = data[i].groupby([\"客戶名稱\", \"小通路\"]).agg({\"實際出貨日\": lambda x: (last_buy - x.max()).days, \"客戶名稱\": lambda x: len(x), \"營業額\": lambda x: x.sum(), \"銷售數量\": lambda x: x.sum()})\n",
    "        globals()[\"rfmTable\" + i][\"實際出貨日\"] = globals()[\"rfmTable\" + i][\"實際出貨日\"].astype(int)\n",
    "        globals()[\"rfmTable\" + i].rename(columns={\"實際出貨日\": \"recency\", \"客戶名稱\": \"frequency\", \"營業額\": \"amount\", \"銷售數量\": \"volume\"}, inplace=True)\n",
    "        sorted_data.setdefault(i + \"_sorted\", globals()[\"rfmTable\" + i])\n",
    "    return sorted_data"
   ]
  },
  {
   "cell_type": "code",
   "execution_count": 62,
   "id": "d3774217-868a-4cca-a39c-60b8209399ae",
   "metadata": {},
   "outputs": [],
   "source": [
    "# Arguments (x = value, p = recency, monetary_value, frequency, k = quartiles dict)\n",
    "def RClass(x,p,d):\n",
    "    if x <= d[p][0.7]:\n",
    "        return 1\n",
    "    else:\n",
    "        return 0\n",
    "    \n",
    "# Arguments (x = value, p = recency, monetary_value, frequency, k = quartiles dict)\n",
    "def FMClass(x,p,d):\n",
    "    if x < d[p][0.7]:\n",
    "        return 0\n",
    "    else:\n",
    "        return 1\n",
    "    \n",
    "# Arguments (x = value, p = frequency)\n",
    "def FreClass(x):\n",
    "    # if x < 8:\n",
    "    if x < 9:\n",
    "        return 0\n",
    "    else: \n",
    "        return 1\n",
    "        \n",
    "    "
   ]
  },
  {
   "cell_type": "code",
   "execution_count": 49,
   "id": "e4b1f115-4b42-4fd6-b731-20c79c1a78e9",
   "metadata": {},
   "outputs": [],
   "source": [
    "def quartile_calculation(data):\n",
    "    sorted_data = {}\n",
    "    for i in data.keys():\n",
    "        globals()[\"quantiles\" + i] = data[i].quantile(q=[0.7])\n",
    "        globals()[\"quantiles\" + i] = globals()[\"quantiles\" + i].to_dict()\n",
    "        data[i][\"R_Quartile\"] = data[i][\"recency\"].apply(RClass, args=(\"recency\", globals()[\"quantiles\" + i],))\n",
    "        data[i][\"F_Quartile\"] = data[i][\"frequency\"].apply(FreClass)\n",
    "        data[i][\"M_Quartile\"] = data[i][\"amount\"].apply(FMClass, args=(\"amount\", globals()[\"quantiles\" + i],))\n",
    "        data[i][\"Score\"] = data[i][[\"R_Quartile\", \"F_Quartile\", \"M_Quartile\"]].apply(tuple, axis=1)\n",
    "        data[i][\"客戶等級\"] = data[i][\"Score\"].map(ranking_dict)\n",
    "        data[i].reset_index(inplace=True)\n",
    "        sorted_data.setdefault(i + \"_final\", data[i])\n",
    "    return sorted_data       "
   ]
  },
  {
   "cell_type": "code",
   "execution_count": 50,
   "id": "6955df0c-e110-4a4c-a58f-abf6f7dac85a",
   "metadata": {},
   "outputs": [],
   "source": [
    "def combine_data(data):\n",
    "    sorted_data = {}\n",
    "    for i in data.keys():\n",
    "        data[i][\"客戶城市\"] = i[:2]\n",
    "        sorted_data.setdefault(i + \"rfm_model\", data[i])\n",
    "    return sorted_data     \n",
    "        \n",
    "    "
   ]
  },
  {
   "cell_type": "markdown",
   "id": "6d4c14ab-6325-4042-a9fa-578db9a1fda5",
   "metadata": {},
   "source": [
    "## 更換邏輯，用每一區來作為計算比重"
   ]
  },
  {
   "cell_type": "code",
   "execution_count": null,
   "id": "ee9358dd-2dda-4ca2-a2f2-2da801cf5796",
   "metadata": {},
   "outputs": [],
   "source": [
    "def data_preprocessing_2(data):\n",
    "    final_data = {}\n",
    "    for i in data.keys():\n",
    "        chan_dict = dict(zip(data[i][\"客戶名稱\"], data[i][\"通路\"]))\n",
    "        globals()[i + \"_data\"] = data[i].groupby([pd.Grouper(key=\"實際出貨日\", freq=\"M\"), \"客戶名稱\"]).size().reset_index()[[\"實際出貨日\", \"客戶名稱\"]].drop_duplicates()\n",
    "        globals()[i + \"_revenue\"] = data[i].groupby([pd.Grouper(key=\"實際出貨日\", freq=\"M\"), \"客戶名稱\"])[[\"營業額\", \"銷售數量\"]].sum()\n",
    "        globals()[i + \"_final\"] = globals()[i + \"_data\"].merge(globals()[i + \"_revenue\"], on=[\"實際出貨日\", \"客戶名稱\"])\n",
    "        globals()[i + \"_final\"][\"通路\"] = globals()[i + \"_final\"][\"客戶名稱\"].map(chan_dict)\n",
    "        final_data.setdefault(i + \"_basic\", globals()[i + \"_final\"])\n",
    "    return final_data"
   ]
  },
  {
   "cell_type": "code",
   "execution_count": null,
   "id": "4f27731e-7451-432a-8e8d-4720c7ad828d",
   "metadata": {
    "tags": []
   },
   "outputs": [],
   "source": [
    "regions = region_devider(data)\n",
    "# channels = channel_devider(regions)\n",
    "filtered_data = data_preprocessing_2(regions)\n",
    "calculated_data = score_calculation(filtered_data)\n",
    "result = quartile_calculation(calculated_data)\n",
    "combined_data = combine_data(result)\n",
    "final_result = pd.concat(result.values())\n",
    "# final_result.to_excel(r\"C:\\Users\\kc.hsu\\Desktop\\區域別_rfm_model_v2.xlsx\", index=False)\n",
    "# final_result.to_excel(r\"C:\\Users\\kc.hsu\\Desktop\\bssc_flt_rfm_model_v2.xlsx\", index=False)"
   ]
  },
  {
   "cell_type": "code",
   "execution_count": null,
   "id": "a877dc0b-4f8e-4490-b78d-f9c82a165838",
   "metadata": {},
   "outputs": [],
   "source": [
    "final_result[\"營業所\"] = final_result[\"客戶名稱\"].map(city_dict)\n",
    "final_result.to_excel(r\"C:\\Users\\kc.hsu\\Desktop\\bssc_flt_rfm_model_v2.xlsx\", index=False)"
   ]
  },
  {
   "cell_type": "markdown",
   "id": "801da939-6df3-49c8-9fee-09353ee96ebd",
   "metadata": {},
   "source": [
    "## 回到原文"
   ]
  },
  {
   "cell_type": "code",
   "execution_count": 169,
   "id": "e0e3d22e-ed79-4991-931f-7b66b7e74c78",
   "metadata": {},
   "outputs": [],
   "source": [
    "regions = region_devider(data)\n",
    "channels = channel_devider(regions)\n",
    "filtered_data = data_preprocessing(channels)\n",
    "calculated_data = score_calculation(filtered_data)\n",
    "result = quartile_calculation(calculated_data)\n",
    "combined_data = combine_data(result)\n",
    "final_result = pd.concat(result.values())\n"
   ]
  },
  {
   "cell_type": "code",
   "execution_count": 170,
   "id": "ff8e9d0b-fe6f-41f0-80e8-58a62818e5f1",
   "metadata": {},
   "outputs": [],
   "source": [
    "final_result[\"月平均\"] = final_result[\"volume\"] / 18"
   ]
  },
  {
   "cell_type": "code",
   "execution_count": 171,
   "id": "1ea66b0f-8536-41dc-a176-3e116e13bea6",
   "metadata": {},
   "outputs": [
    {
     "data": {
      "application/vnd.plotly.v1+json": {
       "config": {
        "plotlyServerURL": "https://plot.ly"
       },
       "data": [
        {
         "alignmentgroup": "True",
         "hovertemplate": "variable=%{x}<br>value=%{y}<extra></extra>",
         "legendgroup": "",
         "marker": {
          "color": "#636efa"
         },
         "name": "",
         "notched": false,
         "offsetgroup": "",
         "orientation": "v",
         "showlegend": false,
         "type": "box",
         "x": [
          "月平均",
          "月平均",
          "月平均",
          "月平均",
          "月平均",
          "月平均",
          "月平均",
          "月平均",
          "月平均",
          "月平均",
          "月平均",
          "月平均",
          "月平均",
          "月平均",
          "月平均",
          "月平均",
          "月平均",
          "月平均",
          "月平均",
          "月平均",
          "月平均",
          "月平均",
          "月平均",
          "月平均",
          "月平均",
          "月平均",
          "月平均",
          "月平均",
          "月平均",
          "月平均",
          "月平均",
          "月平均",
          "月平均",
          "月平均",
          "月平均",
          "月平均",
          "月平均",
          "月平均",
          "月平均",
          "月平均",
          "月平均",
          "月平均",
          "月平均",
          "月平均",
          "月平均",
          "月平均",
          "月平均",
          "月平均",
          "月平均",
          "月平均",
          "月平均",
          "月平均",
          "月平均",
          "月平均",
          "月平均",
          "月平均",
          "月平均",
          "月平均",
          "月平均",
          "月平均",
          "月平均",
          "月平均",
          "月平均",
          "月平均",
          "月平均",
          "月平均",
          "月平均",
          "月平均",
          "月平均",
          "月平均",
          "月平均",
          "月平均",
          "月平均",
          "月平均",
          "月平均",
          "月平均",
          "月平均",
          "月平均",
          "月平均",
          "月平均",
          "月平均",
          "月平均",
          "月平均",
          "月平均",
          "月平均",
          "月平均",
          "月平均",
          "月平均",
          "月平均",
          "月平均",
          "月平均",
          "月平均",
          "月平均",
          "月平均",
          "月平均",
          "月平均",
          "月平均",
          "月平均",
          "月平均",
          "月平均",
          "月平均",
          "月平均",
          "月平均",
          "月平均",
          "月平均",
          "月平均",
          "月平均",
          "月平均",
          "月平均",
          "月平均",
          "月平均",
          "月平均",
          "月平均",
          "月平均",
          "月平均",
          "月平均",
          "月平均",
          "月平均",
          "月平均",
          "月平均",
          "月平均",
          "月平均",
          "月平均",
          "月平均",
          "月平均",
          "月平均",
          "月平均",
          "月平均",
          "月平均",
          "月平均",
          "月平均",
          "月平均",
          "月平均",
          "月平均",
          "月平均",
          "月平均",
          "月平均",
          "月平均",
          "月平均",
          "月平均",
          "月平均",
          "月平均",
          "月平均",
          "月平均",
          "月平均",
          "月平均",
          "月平均",
          "月平均",
          "月平均",
          "月平均",
          "月平均",
          "月平均",
          "月平均",
          "月平均",
          "月平均",
          "月平均",
          "月平均",
          "月平均",
          "月平均",
          "月平均",
          "月平均",
          "月平均",
          "月平均",
          "月平均",
          "月平均",
          "月平均",
          "月平均",
          "月平均",
          "月平均",
          "月平均",
          "月平均",
          "月平均",
          "月平均",
          "月平均",
          "月平均",
          "月平均",
          "月平均",
          "月平均",
          "月平均",
          "月平均",
          "月平均",
          "月平均",
          "月平均",
          "月平均",
          "月平均",
          "月平均",
          "月平均",
          "月平均",
          "月平均",
          "月平均",
          "月平均",
          "月平均",
          "月平均",
          "月平均",
          "月平均",
          "月平均",
          "月平均",
          "月平均",
          "月平均",
          "月平均",
          "月平均",
          "月平均",
          "月平均",
          "月平均",
          "月平均",
          "月平均",
          "月平均",
          "月平均",
          "月平均",
          "月平均",
          "月平均",
          "月平均",
          "月平均",
          "月平均",
          "月平均",
          "月平均",
          "月平均",
          "月平均",
          "月平均",
          "月平均",
          "月平均",
          "月平均",
          "月平均",
          "月平均",
          "月平均",
          "月平均",
          "月平均",
          "月平均",
          "月平均",
          "月平均",
          "月平均",
          "月平均",
          "月平均",
          "月平均",
          "月平均",
          "月平均",
          "月平均",
          "月平均",
          "月平均",
          "月平均",
          "月平均",
          "月平均",
          "月平均",
          "月平均",
          "月平均",
          "月平均",
          "月平均",
          "月平均",
          "月平均",
          "月平均",
          "月平均",
          "月平均",
          "月平均",
          "月平均",
          "月平均",
          "月平均",
          "月平均",
          "月平均",
          "月平均",
          "月平均",
          "月平均",
          "月平均",
          "月平均",
          "月平均",
          "月平均",
          "月平均",
          "月平均",
          "月平均",
          "月平均",
          "月平均",
          "月平均",
          "月平均",
          "月平均",
          "月平均",
          "月平均",
          "月平均",
          "月平均",
          "月平均",
          "月平均",
          "月平均",
          "月平均",
          "月平均",
          "月平均",
          "月平均",
          "月平均",
          "月平均",
          "月平均",
          "月平均",
          "月平均",
          "月平均",
          "月平均",
          "月平均",
          "月平均",
          "月平均",
          "月平均",
          "月平均",
          "月平均",
          "月平均",
          "月平均",
          "月平均",
          "月平均",
          "月平均",
          "月平均",
          "月平均",
          "月平均",
          "月平均",
          "月平均",
          "月平均",
          "月平均",
          "月平均",
          "月平均",
          "月平均",
          "月平均",
          "月平均",
          "月平均",
          "月平均",
          "月平均",
          "月平均",
          "月平均",
          "月平均",
          "月平均",
          "月平均",
          "月平均",
          "月平均",
          "月平均",
          "月平均",
          "月平均",
          "月平均",
          "月平均",
          "月平均",
          "月平均",
          "月平均",
          "月平均",
          "月平均",
          "月平均",
          "月平均",
          "月平均",
          "月平均",
          "月平均",
          "月平均",
          "月平均",
          "月平均",
          "月平均",
          "月平均",
          "月平均",
          "月平均",
          "月平均",
          "月平均",
          "月平均",
          "月平均",
          "月平均",
          "月平均",
          "月平均",
          "月平均",
          "月平均",
          "月平均",
          "月平均",
          "月平均",
          "月平均",
          "月平均",
          "月平均",
          "月平均",
          "月平均",
          "月平均",
          "月平均",
          "月平均",
          "月平均",
          "月平均",
          "月平均",
          "月平均",
          "月平均",
          "月平均",
          "月平均",
          "月平均",
          "月平均",
          "月平均",
          "月平均",
          "月平均",
          "月平均",
          "月平均",
          "月平均",
          "月平均",
          "月平均",
          "月平均",
          "月平均",
          "月平均",
          "月平均",
          "月平均",
          "月平均",
          "月平均",
          "月平均",
          "月平均",
          "月平均",
          "月平均",
          "月平均",
          "月平均",
          "月平均",
          "月平均",
          "月平均",
          "月平均",
          "月平均",
          "月平均",
          "月平均",
          "月平均",
          "月平均",
          "月平均",
          "月平均",
          "月平均",
          "月平均",
          "月平均",
          "月平均",
          "月平均",
          "月平均",
          "月平均",
          "月平均",
          "月平均",
          "月平均",
          "月平均",
          "月平均",
          "月平均",
          "月平均",
          "月平均",
          "月平均",
          "月平均",
          "月平均",
          "月平均",
          "月平均",
          "月平均",
          "月平均",
          "月平均",
          "月平均",
          "月平均",
          "月平均",
          "月平均",
          "月平均",
          "月平均",
          "月平均",
          "月平均",
          "月平均",
          "月平均",
          "月平均",
          "月平均",
          "月平均",
          "月平均",
          "月平均",
          "月平均",
          "月平均",
          "月平均",
          "月平均",
          "月平均",
          "月平均",
          "月平均",
          "月平均",
          "月平均",
          "月平均",
          "月平均",
          "月平均",
          "月平均",
          "月平均",
          "月平均",
          "月平均",
          "月平均",
          "月平均"
         ],
         "x0": " ",
         "xaxis": "x",
         "y": [
          0.2222222222222222,
          0.5555555555555556,
          2.3333333333333335,
          0.8888888888888888,
          0.5555555555555556,
          7.222222222222222,
          19.444444444444443,
          0.2777777777777778,
          0.7222222222222222,
          1.3333333333333333,
          1.1111111111111112,
          0.1111111111111111,
          2.2222222222222223,
          0.7777777777777778,
          5.666666666666667,
          0.1111111111111111,
          1.1111111111111112,
          31.61111111111111,
          3.7222222222222223,
          10.944444444444445,
          0.6666666666666666,
          0.1111111111111111,
          3.3333333333333335,
          0.05555555555555555,
          0.5555555555555556,
          0.2777777777777778,
          1.2777777777777777,
          8.444444444444445,
          8.11111111111111,
          11.38888888888889,
          139.22222222222223,
          8.5,
          1.1111111111111112,
          8.333333333333334,
          16.5,
          3.9444444444444446,
          2.3333333333333335,
          10.88888888888889,
          10.944444444444445,
          15.38888888888889,
          0.1111111111111111,
          0.5555555555555556,
          25.333333333333332,
          9.055555555555555,
          56.333333333333336,
          121.38888888888889,
          107.38888888888889,
          90.5,
          42.333333333333336,
          8,
          0.2222222222222222,
          5.5,
          4.444444444444445,
          39.666666666666664,
          0.1111111111111111,
          2.7777777777777777,
          12.055555555555555,
          0.7777777777777778,
          1.6666666666666667,
          6.222222222222222,
          14.38888888888889,
          6.111111111111111,
          15.11111111111111,
          4.5,
          6.222222222222222,
          21.944444444444443,
          7.777777777777778,
          7.444444444444445,
          59.44444444444444,
          16.833333333333332,
          3.8333333333333335,
          1.5,
          2.7777777777777777,
          13.555555555555555,
          0.1111111111111111,
          30,
          18.444444444444443,
          2.2222222222222223,
          29.333333333333332,
          7.222222222222222,
          123.55555555555556,
          198.61111111111111,
          1.6666666666666667,
          8.944444444444445,
          0.05555555555555555,
          1.6666666666666667,
          0.4444444444444444,
          0.3333333333333333,
          4.666666666666667,
          3.3333333333333335,
          0.1111111111111111,
          0.3333333333333333,
          0.6666666666666666,
          2.3333333333333335,
          2,
          0.2777777777777778,
          13.38888888888889,
          7.444444444444445,
          6.666666666666667,
          0.05555555555555555,
          26.22222222222222,
          73,
          74.83333333333333,
          57.72222222222222,
          27.38888888888889,
          32.333333333333336,
          57.94444444444444,
          0.1111111111111111,
          1.7777777777777777,
          0.05555555555555555,
          1.6666666666666667,
          3.111111111111111,
          0.1111111111111111,
          2.5555555555555554,
          0.6666666666666666,
          2.611111111111111,
          0.5,
          0.2222222222222222,
          0.6666666666666666,
          3.3333333333333335,
          7.777777777777778,
          0.6666666666666666,
          0.8888888888888888,
          0.1111111111111111,
          7.388888888888889,
          4.111111111111111,
          0.5,
          0.3333333333333333,
          0.1111111111111111,
          4.444444444444445,
          0.1111111111111111,
          0.1111111111111111,
          3.0555555555555554,
          11.222222222222221,
          0.6666666666666666,
          0.1111111111111111,
          0.2222222222222222,
          0.6666666666666666,
          0.16666666666666666,
          0.2222222222222222,
          0.2222222222222222,
          0.1111111111111111,
          0.5555555555555556,
          4.444444444444445,
          4.5,
          9.722222222222221,
          13.333333333333334,
          12.61111111111111,
          24.055555555555557,
          2.7777777777777777,
          17.833333333333332,
          11.722222222222221,
          0.05555555555555555,
          0.8888888888888888,
          21.5,
          3.6666666666666665,
          2.3333333333333335,
          0.5555555555555556,
          5.944444444444445,
          0.5,
          9.055555555555555,
          2.2222222222222223,
          1.8333333333333333,
          8.5,
          5.555555555555555,
          32.94444444444444,
          11.5,
          64.66666666666667,
          36.22222222222222,
          180.88888888888889,
          0.4444444444444444,
          0.1111111111111111,
          9.166666666666666,
          0.6666666666666666,
          0.2222222222222222,
          0.1111111111111111,
          0.1111111111111111,
          0.8888888888888888,
          0.5555555555555556,
          0.3333333333333333,
          0.1111111111111111,
          32.666666666666664,
          224.83333333333334,
          49.388888888888886,
          2.9444444444444446,
          179.88888888888889,
          58.888888888888886,
          74.27777777777777,
          29.72222222222222,
          78.27777777777777,
          121.05555555555556,
          46.611111111111114,
          125.72222222222223,
          5.722222222222222,
          1.6666666666666667,
          0.4444444444444444,
          0.6666666666666666,
          2.888888888888889,
          0.5555555555555556,
          3.4444444444444446,
          2.4444444444444446,
          27.77777777777778,
          1.6666666666666667,
          1.9444444444444444,
          4.444444444444445,
          6.111111111111111,
          0.1111111111111111,
          8.333333333333334,
          33.44444444444444,
          11.5,
          2.111111111111111,
          0.2222222222222222,
          3.888888888888889,
          0.3333333333333333,
          11.88888888888889,
          0.2222222222222222,
          0.3333333333333333,
          3.9444444444444446,
          0.2222222222222222,
          0.1111111111111111,
          0.05555555555555555,
          0.3333333333333333,
          0.3333333333333333,
          0.3333333333333333,
          0.1111111111111111,
          0.05555555555555555,
          1.6666666666666667,
          0.5555555555555556,
          0.5,
          0.1111111111111111,
          0.1111111111111111,
          0.4444444444444444,
          2.5555555555555554,
          2.111111111111111,
          143.5,
          33.5,
          7.555555555555555,
          7.722222222222222,
          13.333333333333334,
          0.5555555555555556,
          2.4444444444444446,
          4.166666666666667,
          1.7777777777777777,
          3.111111111111111,
          20.333333333333332,
          0.05555555555555555,
          0.3888888888888889,
          0.16666666666666666,
          0.1111111111111111,
          47.333333333333336,
          65.83333333333333,
          92.44444444444444,
          26.055555555555557,
          90.27777777777777,
          296.05555555555554,
          45.5,
          100.83333333333333,
          29.333333333333332,
          2.3333333333333335,
          0.1111111111111111,
          3.5555555555555554,
          0.2777777777777778,
          3,
          6.611111111111111,
          4.055555555555555,
          2.9444444444444446,
          3.388888888888889,
          0.2222222222222222,
          0.1111111111111111,
          0.5555555555555556,
          0.5555555555555556,
          0.1111111111111111,
          6.166666666666667,
          0.1111111111111111,
          0.6666666666666666,
          2.9444444444444446,
          0.6666666666666666,
          9.61111111111111,
          0.2777777777777778,
          1.0555555555555556,
          1.9444444444444444,
          15.5,
          16.444444444444443,
          12.944444444444445,
          1.1111111111111112,
          10,
          0.16666666666666666,
          2.2222222222222223,
          0.1111111111111111,
          4.833333333333333,
          0.05555555555555555,
          4,
          0.8888888888888888,
          16.944444444444443,
          1.5555555555555556,
          1.1111111111111112,
          2.611111111111111,
          6.888888888888889,
          35.166666666666664,
          3.888888888888889,
          32.44444444444444,
          10.055555555555555,
          41.388888888888886,
          0.2222222222222222,
          10.11111111111111,
          14.88888888888889,
          3.388888888888889,
          7.222222222222222,
          11.277777777777779,
          9.944444444444445,
          0.16666666666666666,
          4.722222222222222,
          17.77777777777778,
          0,
          0.7777777777777778,
          10,
          7.777777777777778,
          66.27777777777777,
          2.4444444444444446,
          0.5555555555555556,
          0.1111111111111111,
          46.22222222222222,
          0.2222222222222222,
          1.6111111111111112,
          0.16666666666666666,
          0.6666666666666666,
          1.1666666666666667,
          12.944444444444445,
          3.2222222222222223,
          0.2222222222222222,
          5.277777777777778,
          1.1111111111111112,
          0.1111111111111111,
          0.2222222222222222,
          0.1111111111111111,
          26.38888888888889,
          4.611111111111111,
          0.4444444444444444,
          1.2222222222222223,
          1.6111111111111112,
          3.611111111111111,
          0.3333333333333333,
          0.4444444444444444,
          38.72222222222222,
          92.72222222222223,
          417.1111111111111,
          1.8888888888888888,
          0.1111111111111111,
          0.3333333333333333,
          1.4444444444444444,
          13.277777777777779,
          9.666666666666666,
          1.2222222222222223,
          1.4444444444444444,
          0.9444444444444444,
          122.77777777777777,
          18.5,
          118.61111111111111,
          85.72222222222223,
          57.5,
          103.44444444444444,
          403.22222222222223,
          84.83333333333333,
          0.2222222222222222,
          52.388888888888886,
          57.5,
          2.0555555555555554,
          7.111111111111111,
          1.6666666666666667,
          9.777777777777779,
          8.222222222222221,
          35.94444444444444,
          0.6666666666666666,
          27.88888888888889,
          30.77777777777778,
          7.333333333333333,
          18.944444444444443,
          20.5,
          33.27777777777778,
          6.388888888888889,
          7.888888888888889,
          20.77777777777778,
          16.38888888888889,
          6.111111111111111,
          1.2222222222222223,
          3.5,
          41.888888888888886,
          20.77777777777778,
          0.7777777777777778,
          0.8333333333333334,
          19.5,
          39.111111111111114,
          2.2222222222222223,
          0.9444444444444444,
          356.6666666666667,
          0.9444444444444444,
          48.666666666666664,
          1,
          0.1111111111111111,
          0.1111111111111111,
          1.1111111111111112,
          0.7777777777777778,
          4.5,
          0.2222222222222222,
          3.4444444444444446,
          0.2777777777777778,
          0.3333333333333333,
          5,
          0.1111111111111111,
          0.1111111111111111,
          0.1111111111111111,
          0.2222222222222222,
          0.4444444444444444,
          0.3333333333333333,
          4.444444444444445,
          0.1111111111111111,
          0.5555555555555556,
          0.1111111111111111,
          2.7222222222222223,
          0.1111111111111111,
          34.666666666666664,
          98.11111111111111,
          89.27777777777777,
          42.333333333333336,
          4.444444444444445,
          2.9444444444444446,
          1.1111111111111112,
          13.055555555555555,
          1.6666666666666667,
          1.5,
          10.11111111111111,
          2.2777777777777777,
          9.444444444444445,
          3.3333333333333335,
          5.5,
          5.611111111111111,
          12.88888888888889,
          1.1111111111111112,
          1.8333333333333333,
          1.1111111111111112,
          1.1111111111111112,
          0.2222222222222222,
          0.1111111111111111,
          0.5555555555555556,
          1.1111111111111112,
          8.555555555555555,
          0.2222222222222222,
          5.833333333333333,
          0.2222222222222222,
          6.222222222222222,
          21.666666666666668,
          0.1111111111111111,
          1.1111111111111112,
          6.833333333333333,
          5.666666666666667,
          1.6666666666666667,
          7.222222222222222,
          4,
          0.05555555555555555,
          0.1111111111111111,
          0.05555555555555555,
          2.7777777777777777,
          1.2777777777777777
         ],
         "y0": " ",
         "yaxis": "y"
        }
       ],
       "layout": {
        "autosize": true,
        "boxmode": "group",
        "legend": {
         "tracegroupgap": 0
        },
        "margin": {
         "t": 60
        },
        "template": {
         "data": {
          "bar": [
           {
            "error_x": {
             "color": "#2a3f5f"
            },
            "error_y": {
             "color": "#2a3f5f"
            },
            "marker": {
             "line": {
              "color": "#E5ECF6",
              "width": 0.5
             },
             "pattern": {
              "fillmode": "overlay",
              "size": 10,
              "solidity": 0.2
             }
            },
            "type": "bar"
           }
          ],
          "barpolar": [
           {
            "marker": {
             "line": {
              "color": "#E5ECF6",
              "width": 0.5
             },
             "pattern": {
              "fillmode": "overlay",
              "size": 10,
              "solidity": 0.2
             }
            },
            "type": "barpolar"
           }
          ],
          "carpet": [
           {
            "aaxis": {
             "endlinecolor": "#2a3f5f",
             "gridcolor": "white",
             "linecolor": "white",
             "minorgridcolor": "white",
             "startlinecolor": "#2a3f5f"
            },
            "baxis": {
             "endlinecolor": "#2a3f5f",
             "gridcolor": "white",
             "linecolor": "white",
             "minorgridcolor": "white",
             "startlinecolor": "#2a3f5f"
            },
            "type": "carpet"
           }
          ],
          "choropleth": [
           {
            "colorbar": {
             "outlinewidth": 0,
             "ticks": ""
            },
            "type": "choropleth"
           }
          ],
          "contour": [
           {
            "colorbar": {
             "outlinewidth": 0,
             "ticks": ""
            },
            "colorscale": [
             [
              0,
              "#0d0887"
             ],
             [
              0.1111111111111111,
              "#46039f"
             ],
             [
              0.2222222222222222,
              "#7201a8"
             ],
             [
              0.3333333333333333,
              "#9c179e"
             ],
             [
              0.4444444444444444,
              "#bd3786"
             ],
             [
              0.5555555555555556,
              "#d8576b"
             ],
             [
              0.6666666666666666,
              "#ed7953"
             ],
             [
              0.7777777777777778,
              "#fb9f3a"
             ],
             [
              0.8888888888888888,
              "#fdca26"
             ],
             [
              1,
              "#f0f921"
             ]
            ],
            "type": "contour"
           }
          ],
          "contourcarpet": [
           {
            "colorbar": {
             "outlinewidth": 0,
             "ticks": ""
            },
            "type": "contourcarpet"
           }
          ],
          "heatmap": [
           {
            "colorbar": {
             "outlinewidth": 0,
             "ticks": ""
            },
            "colorscale": [
             [
              0,
              "#0d0887"
             ],
             [
              0.1111111111111111,
              "#46039f"
             ],
             [
              0.2222222222222222,
              "#7201a8"
             ],
             [
              0.3333333333333333,
              "#9c179e"
             ],
             [
              0.4444444444444444,
              "#bd3786"
             ],
             [
              0.5555555555555556,
              "#d8576b"
             ],
             [
              0.6666666666666666,
              "#ed7953"
             ],
             [
              0.7777777777777778,
              "#fb9f3a"
             ],
             [
              0.8888888888888888,
              "#fdca26"
             ],
             [
              1,
              "#f0f921"
             ]
            ],
            "type": "heatmap"
           }
          ],
          "heatmapgl": [
           {
            "colorbar": {
             "outlinewidth": 0,
             "ticks": ""
            },
            "colorscale": [
             [
              0,
              "#0d0887"
             ],
             [
              0.1111111111111111,
              "#46039f"
             ],
             [
              0.2222222222222222,
              "#7201a8"
             ],
             [
              0.3333333333333333,
              "#9c179e"
             ],
             [
              0.4444444444444444,
              "#bd3786"
             ],
             [
              0.5555555555555556,
              "#d8576b"
             ],
             [
              0.6666666666666666,
              "#ed7953"
             ],
             [
              0.7777777777777778,
              "#fb9f3a"
             ],
             [
              0.8888888888888888,
              "#fdca26"
             ],
             [
              1,
              "#f0f921"
             ]
            ],
            "type": "heatmapgl"
           }
          ],
          "histogram": [
           {
            "marker": {
             "pattern": {
              "fillmode": "overlay",
              "size": 10,
              "solidity": 0.2
             }
            },
            "type": "histogram"
           }
          ],
          "histogram2d": [
           {
            "colorbar": {
             "outlinewidth": 0,
             "ticks": ""
            },
            "colorscale": [
             [
              0,
              "#0d0887"
             ],
             [
              0.1111111111111111,
              "#46039f"
             ],
             [
              0.2222222222222222,
              "#7201a8"
             ],
             [
              0.3333333333333333,
              "#9c179e"
             ],
             [
              0.4444444444444444,
              "#bd3786"
             ],
             [
              0.5555555555555556,
              "#d8576b"
             ],
             [
              0.6666666666666666,
              "#ed7953"
             ],
             [
              0.7777777777777778,
              "#fb9f3a"
             ],
             [
              0.8888888888888888,
              "#fdca26"
             ],
             [
              1,
              "#f0f921"
             ]
            ],
            "type": "histogram2d"
           }
          ],
          "histogram2dcontour": [
           {
            "colorbar": {
             "outlinewidth": 0,
             "ticks": ""
            },
            "colorscale": [
             [
              0,
              "#0d0887"
             ],
             [
              0.1111111111111111,
              "#46039f"
             ],
             [
              0.2222222222222222,
              "#7201a8"
             ],
             [
              0.3333333333333333,
              "#9c179e"
             ],
             [
              0.4444444444444444,
              "#bd3786"
             ],
             [
              0.5555555555555556,
              "#d8576b"
             ],
             [
              0.6666666666666666,
              "#ed7953"
             ],
             [
              0.7777777777777778,
              "#fb9f3a"
             ],
             [
              0.8888888888888888,
              "#fdca26"
             ],
             [
              1,
              "#f0f921"
             ]
            ],
            "type": "histogram2dcontour"
           }
          ],
          "mesh3d": [
           {
            "colorbar": {
             "outlinewidth": 0,
             "ticks": ""
            },
            "type": "mesh3d"
           }
          ],
          "parcoords": [
           {
            "line": {
             "colorbar": {
              "outlinewidth": 0,
              "ticks": ""
             }
            },
            "type": "parcoords"
           }
          ],
          "pie": [
           {
            "automargin": true,
            "type": "pie"
           }
          ],
          "scatter": [
           {
            "fillpattern": {
             "fillmode": "overlay",
             "size": 10,
             "solidity": 0.2
            },
            "type": "scatter"
           }
          ],
          "scatter3d": [
           {
            "line": {
             "colorbar": {
              "outlinewidth": 0,
              "ticks": ""
             }
            },
            "marker": {
             "colorbar": {
              "outlinewidth": 0,
              "ticks": ""
             }
            },
            "type": "scatter3d"
           }
          ],
          "scattercarpet": [
           {
            "marker": {
             "colorbar": {
              "outlinewidth": 0,
              "ticks": ""
             }
            },
            "type": "scattercarpet"
           }
          ],
          "scattergeo": [
           {
            "marker": {
             "colorbar": {
              "outlinewidth": 0,
              "ticks": ""
             }
            },
            "type": "scattergeo"
           }
          ],
          "scattergl": [
           {
            "marker": {
             "colorbar": {
              "outlinewidth": 0,
              "ticks": ""
             }
            },
            "type": "scattergl"
           }
          ],
          "scattermapbox": [
           {
            "marker": {
             "colorbar": {
              "outlinewidth": 0,
              "ticks": ""
             }
            },
            "type": "scattermapbox"
           }
          ],
          "scatterpolar": [
           {
            "marker": {
             "colorbar": {
              "outlinewidth": 0,
              "ticks": ""
             }
            },
            "type": "scatterpolar"
           }
          ],
          "scatterpolargl": [
           {
            "marker": {
             "colorbar": {
              "outlinewidth": 0,
              "ticks": ""
             }
            },
            "type": "scatterpolargl"
           }
          ],
          "scatterternary": [
           {
            "marker": {
             "colorbar": {
              "outlinewidth": 0,
              "ticks": ""
             }
            },
            "type": "scatterternary"
           }
          ],
          "surface": [
           {
            "colorbar": {
             "outlinewidth": 0,
             "ticks": ""
            },
            "colorscale": [
             [
              0,
              "#0d0887"
             ],
             [
              0.1111111111111111,
              "#46039f"
             ],
             [
              0.2222222222222222,
              "#7201a8"
             ],
             [
              0.3333333333333333,
              "#9c179e"
             ],
             [
              0.4444444444444444,
              "#bd3786"
             ],
             [
              0.5555555555555556,
              "#d8576b"
             ],
             [
              0.6666666666666666,
              "#ed7953"
             ],
             [
              0.7777777777777778,
              "#fb9f3a"
             ],
             [
              0.8888888888888888,
              "#fdca26"
             ],
             [
              1,
              "#f0f921"
             ]
            ],
            "type": "surface"
           }
          ],
          "table": [
           {
            "cells": {
             "fill": {
              "color": "#EBF0F8"
             },
             "line": {
              "color": "white"
             }
            },
            "header": {
             "fill": {
              "color": "#C8D4E3"
             },
             "line": {
              "color": "white"
             }
            },
            "type": "table"
           }
          ]
         },
         "layout": {
          "annotationdefaults": {
           "arrowcolor": "#2a3f5f",
           "arrowhead": 0,
           "arrowwidth": 1
          },
          "autotypenumbers": "strict",
          "coloraxis": {
           "colorbar": {
            "outlinewidth": 0,
            "ticks": ""
           }
          },
          "colorscale": {
           "diverging": [
            [
             0,
             "#8e0152"
            ],
            [
             0.1,
             "#c51b7d"
            ],
            [
             0.2,
             "#de77ae"
            ],
            [
             0.3,
             "#f1b6da"
            ],
            [
             0.4,
             "#fde0ef"
            ],
            [
             0.5,
             "#f7f7f7"
            ],
            [
             0.6,
             "#e6f5d0"
            ],
            [
             0.7,
             "#b8e186"
            ],
            [
             0.8,
             "#7fbc41"
            ],
            [
             0.9,
             "#4d9221"
            ],
            [
             1,
             "#276419"
            ]
           ],
           "sequential": [
            [
             0,
             "#0d0887"
            ],
            [
             0.1111111111111111,
             "#46039f"
            ],
            [
             0.2222222222222222,
             "#7201a8"
            ],
            [
             0.3333333333333333,
             "#9c179e"
            ],
            [
             0.4444444444444444,
             "#bd3786"
            ],
            [
             0.5555555555555556,
             "#d8576b"
            ],
            [
             0.6666666666666666,
             "#ed7953"
            ],
            [
             0.7777777777777778,
             "#fb9f3a"
            ],
            [
             0.8888888888888888,
             "#fdca26"
            ],
            [
             1,
             "#f0f921"
            ]
           ],
           "sequentialminus": [
            [
             0,
             "#0d0887"
            ],
            [
             0.1111111111111111,
             "#46039f"
            ],
            [
             0.2222222222222222,
             "#7201a8"
            ],
            [
             0.3333333333333333,
             "#9c179e"
            ],
            [
             0.4444444444444444,
             "#bd3786"
            ],
            [
             0.5555555555555556,
             "#d8576b"
            ],
            [
             0.6666666666666666,
             "#ed7953"
            ],
            [
             0.7777777777777778,
             "#fb9f3a"
            ],
            [
             0.8888888888888888,
             "#fdca26"
            ],
            [
             1,
             "#f0f921"
            ]
           ]
          },
          "colorway": [
           "#636efa",
           "#EF553B",
           "#00cc96",
           "#ab63fa",
           "#FFA15A",
           "#19d3f3",
           "#FF6692",
           "#B6E880",
           "#FF97FF",
           "#FECB52"
          ],
          "font": {
           "color": "#2a3f5f"
          },
          "geo": {
           "bgcolor": "white",
           "lakecolor": "white",
           "landcolor": "#E5ECF6",
           "showlakes": true,
           "showland": true,
           "subunitcolor": "white"
          },
          "hoverlabel": {
           "align": "left"
          },
          "hovermode": "closest",
          "mapbox": {
           "style": "light"
          },
          "paper_bgcolor": "white",
          "plot_bgcolor": "#E5ECF6",
          "polar": {
           "angularaxis": {
            "gridcolor": "white",
            "linecolor": "white",
            "ticks": ""
           },
           "bgcolor": "#E5ECF6",
           "radialaxis": {
            "gridcolor": "white",
            "linecolor": "white",
            "ticks": ""
           }
          },
          "scene": {
           "xaxis": {
            "backgroundcolor": "#E5ECF6",
            "gridcolor": "white",
            "gridwidth": 2,
            "linecolor": "white",
            "showbackground": true,
            "ticks": "",
            "zerolinecolor": "white"
           },
           "yaxis": {
            "backgroundcolor": "#E5ECF6",
            "gridcolor": "white",
            "gridwidth": 2,
            "linecolor": "white",
            "showbackground": true,
            "ticks": "",
            "zerolinecolor": "white"
           },
           "zaxis": {
            "backgroundcolor": "#E5ECF6",
            "gridcolor": "white",
            "gridwidth": 2,
            "linecolor": "white",
            "showbackground": true,
            "ticks": "",
            "zerolinecolor": "white"
           }
          },
          "shapedefaults": {
           "line": {
            "color": "#2a3f5f"
           }
          },
          "ternary": {
           "aaxis": {
            "gridcolor": "white",
            "linecolor": "white",
            "ticks": ""
           },
           "baxis": {
            "gridcolor": "white",
            "linecolor": "white",
            "ticks": ""
           },
           "bgcolor": "#E5ECF6",
           "caxis": {
            "gridcolor": "white",
            "linecolor": "white",
            "ticks": ""
           }
          },
          "title": {
           "x": 0.05
          },
          "xaxis": {
           "automargin": true,
           "gridcolor": "white",
           "linecolor": "white",
           "ticks": "",
           "title": {
            "standoff": 15
           },
           "zerolinecolor": "white",
           "zerolinewidth": 2
          },
          "yaxis": {
           "automargin": true,
           "gridcolor": "white",
           "linecolor": "white",
           "ticks": "",
           "title": {
            "standoff": 15
           },
           "zerolinecolor": "white",
           "zerolinewidth": 2
          }
         }
        },
        "xaxis": {
         "anchor": "y",
         "autorange": true,
         "domain": [
          0,
          1
         ],
         "range": [
          -0.5,
          0.5
         ],
         "title": {
          "text": "variable"
         },
         "type": "category"
        },
        "yaxis": {
         "anchor": "x",
         "autorange": true,
         "domain": [
          0,
          1
         ],
         "range": [
          -23.172839506172842,
          440.28395061728395
         ],
         "title": {
          "text": "value"
         },
         "type": "linear"
        }
       }
      },
      "image/png": "[encoded data removed]",
      "text/html": [
       "<div>                            <div id=\"fbf9718a-e536-4298-a61d-04facdaf8a26\" class=\"plotly-graph-div\" style=\"height:525px; width:100%;\"></div>            <script type=\"text/javascript\">                require([\"plotly\"], function(Plotly) {                    window.PLOTLYENV=window.PLOTLYENV || {};                                    if (document.getElementById(\"fbf9718a-e536-4298-a61d-04facdaf8a26\")) {                    Plotly.newPlot(                        \"fbf9718a-e536-4298-a61d-04facdaf8a26\",                        [{\"alignmentgroup\":\"True\",\"hovertemplate\":\"variable=%{x}<br>value=%{y}<extra></extra>\",\"legendgroup\":\"\",\"marker\":{\"color\":\"#636efa\"},\"name\":\"\",\"notched\":false,\"offsetgroup\":\"\",\"orientation\":\"v\",\"showlegend\":false,\"x\":[\"\\u6708\\u5e73\\u5747\",\"\\u6708\\u5e73\\u5747\",\"\\u6708\\u5e73\\u5747\",\"\\u6708\\u5e73\\u5747\",\"\\u6708\\u5e73\\u5747\",\"\\u6708\\u5e73\\u5747\",\"\\u6708\\u5e73\\u5747\",\"\\u6708\\u5e73\\u5747\",\"\\u6708\\u5e73\\u5747\",\"\\u6708\\u5e73\\u5747\",\"\\u6708\\u5e73\\u5747\",\"\\u6708\\u5e73\\u5747\",\"\\u6708\\u5e73\\u5747\",\"\\u6708\\u5e73\\u5747\",\"\\u6708\\u5e73\\u5747\",\"\\u6708\\u5e73\\u5747\",\"\\u6708\\u5e73\\u5747\",\"\\u6708\\u5e73\\u5747\",\"\\u6708\\u5e73\\u5747\",\"\\u6708\\u5e73\\u5747\",\"\\u6708\\u5e73\\u5747\",\"\\u6708\\u5e73\\u5747\",\"\\u6708\\u5e73\\u5747\",\"\\u6708\\u5e73\\u5747\",\"\\u6708\\u5e73\\u5747\",\"\\u6708\\u5e73\\u5747\",\"\\u6708\\u5e73\\u5747\",\"\\u6708\\u5e73\\u5747\",\"\\u6708\\u5e73\\u5747\",\"\\u6708\\u5e73\\u5747\",\"\\u6708\\u5e73\\u5747\",\"\\u6708\\u5e73\\u5747\",\"\\u6708\\u5e73\\u5747\",\"\\u6708\\u5e73\\u5747\",\"\\u6708\\u5e73\\u5747\",\"\\u6708\\u5e73\\u5747\",\"\\u6708\\u5e73\\u5747\",\"\\u6708\\u5e73\\u5747\",\"\\u6708\\u5e73\\u5747\",\"\\u6708\\u5e73\\u5747\",\"\\u6708\\u5e73\\u5747\",\"\\u6708\\u5e73\\u5747\",\"\\u6708\\u5e73\\u5747\",\"\\u6708\\u5e73\\u5747\",\"\\u6708\\u5e73\\u5747\",\"\\u6708\\u5e73\\u5747\",\"\\u6708\\u5e73\\u5747\",\"\\u6708\\u5e73\\u5747\",\"\\u6708\\u5e73\\u5747\",\"\\u6708\\u5e73\\u5747\",\"\\u6708\\u5e73\\u5747\",\"\\u6708\\u5e73\\u5747\",\"\\u6708\\u5e73\\u5747\",\"\\u6708\\u5e73\\u5747\",\"\\u6708\\u5e73\\u5747\",\"\\u6708\\u5e73\\u5747\",\"\\u6708\\u5e73\\u5747\",\"\\u6708\\u5e73\\u5747\",\"\\u6708\\u5e73\\u5747\",\"\\u6708\\u5e73\\u5747\",\"\\u6708\\u5e73\\u5747\",\"\\u6708\\u5e73\\u5747\",\"\\u6708\\u5e73\\u5747\",\"\\u6708\\u5e73\\u5747\",\"\\u6708\\u5e73\\u5747\",\"\\u6708\\u5e73\\u5747\",\"\\u6708\\u5e73\\u5747\",\"\\u6708\\u5e73\\u5747\",\"\\u6708\\u5e73\\u5747\",\"\\u6708\\u5e73\\u5747\",\"\\u6708\\u5e73\\u5747\",\"\\u6708\\u5e73\\u5747\",\"\\u6708\\u5e73\\u5747\",\"\\u6708\\u5e73\\u5747\",\"\\u6708\\u5e73\\u5747\",\"\\u6708\\u5e73\\u5747\",\"\\u6708\\u5e73\\u5747\",\"\\u6708\\u5e73\\u5747\",\"\\u6708\\u5e73\\u5747\",\"\\u6708\\u5e73\\u5747\",\"\\u6708\\u5e73\\u5747\",\"\\u6708\\u5e73\\u5747\",\"\\u6708\\u5e73\\u5747\",\"\\u6708\\u5e73\\u5747\",\"\\u6708\\u5e73\\u5747\",\"\\u6708\\u5e73\\u5747\",\"\\u6708\\u5e73\\u5747\",\"\\u6708\\u5e73\\u5747\",\"\\u6708\\u5e73\\u5747\",\"\\u6708\\u5e73\\u5747\",\"\\u6708\\u5e73\\u5747\",\"\\u6708\\u5e73\\u5747\",\"\\u6708\\u5e73\\u5747\",\"\\u6708\\u5e73\\u5747\",\"\\u6708\\u5e73\\u5747\",\"\\u6708\\u5e73\\u5747\",\"\\u6708\\u5e73\\u5747\",\"\\u6708\\u5e73\\u5747\",\"\\u6708\\u5e73\\u5747\",\"\\u6708\\u5e73\\u5747\",\"\\u6708\\u5e73\\u5747\",\"\\u6708\\u5e73\\u5747\",\"\\u6708\\u5e73\\u5747\",\"\\u6708\\u5e73\\u5747\",\"\\u6708\\u5e73\\u5747\",\"\\u6708\\u5e73\\u5747\",\"\\u6708\\u5e73\\u5747\",\"\\u6708\\u5e73\\u5747\",\"\\u6708\\u5e73\\u5747\",\"\\u6708\\u5e73\\u5747\",\"\\u6708\\u5e73\\u5747\",\"\\u6708\\u5e73\\u5747\",\"\\u6708\\u5e73\\u5747\",\"\\u6708\\u5e73\\u5747\",\"\\u6708\\u5e73\\u5747\",\"\\u6708\\u5e73\\u5747\",\"\\u6708\\u5e73\\u5747\",\"\\u6708\\u5e73\\u5747\",\"\\u6708\\u5e73\\u5747\",\"\\u6708\\u5e73\\u5747\",\"\\u6708\\u5e73\\u5747\",\"\\u6708\\u5e73\\u5747\",\"\\u6708\\u5e73\\u5747\",\"\\u6708\\u5e73\\u5747\",\"\\u6708\\u5e73\\u5747\",\"\\u6708\\u5e73\\u5747\",\"\\u6708\\u5e73\\u5747\",\"\\u6708\\u5e73\\u5747\",\"\\u6708\\u5e73\\u5747\",\"\\u6708\\u5e73\\u5747\",\"\\u6708\\u5e73\\u5747\",\"\\u6708\\u5e73\\u5747\",\"\\u6708\\u5e73\\u5747\",\"\\u6708\\u5e73\\u5747\",\"\\u6708\\u5e73\\u5747\",\"\\u6708\\u5e73\\u5747\",\"\\u6708\\u5e73\\u5747\",\"\\u6708\\u5e73\\u5747\",\"\\u6708\\u5e73\\u5747\",\"\\u6708\\u5e73\\u5747\",\"\\u6708\\u5e73\\u5747\",\"\\u6708\\u5e73\\u5747\",\"\\u6708\\u5e73\\u5747\",\"\\u6708\\u5e73\\u5747\",\"\\u6708\\u5e73\\u5747\",\"\\u6708\\u5e73\\u5747\",\"\\u6708\\u5e73\\u5747\",\"\\u6708\\u5e73\\u5747\",\"\\u6708\\u5e73\\u5747\",\"\\u6708\\u5e73\\u5747\",\"\\u6708\\u5e73\\u5747\",\"\\u6708\\u5e73\\u5747\",\"\\u6708\\u5e73\\u5747\",\"\\u6708\\u5e73\\u5747\",\"\\u6708\\u5e73\\u5747\",\"\\u6708\\u5e73\\u5747\",\"\\u6708\\u5e73\\u5747\",\"\\u6708\\u5e73\\u5747\",\"\\u6708\\u5e73\\u5747\",\"\\u6708\\u5e73\\u5747\",\"\\u6708\\u5e73\\u5747\",\"\\u6708\\u5e73\\u5747\",\"\\u6708\\u5e73\\u5747\",\"\\u6708\\u5e73\\u5747\",\"\\u6708\\u5e73\\u5747\",\"\\u6708\\u5e73\\u5747\",\"\\u6708\\u5e73\\u5747\",\"\\u6708\\u5e73\\u5747\",\"\\u6708\\u5e73\\u5747\",\"\\u6708\\u5e73\\u5747\",\"\\u6708\\u5e73\\u5747\",\"\\u6708\\u5e73\\u5747\",\"\\u6708\\u5e73\\u5747\",\"\\u6708\\u5e73\\u5747\",\"\\u6708\\u5e73\\u5747\",\"\\u6708\\u5e73\\u5747\",\"\\u6708\\u5e73\\u5747\",\"\\u6708\\u5e73\\u5747\",\"\\u6708\\u5e73\\u5747\",\"\\u6708\\u5e73\\u5747\",\"\\u6708\\u5e73\\u5747\",\"\\u6708\\u5e73\\u5747\",\"\\u6708\\u5e73\\u5747\",\"\\u6708\\u5e73\\u5747\",\"\\u6708\\u5e73\\u5747\",\"\\u6708\\u5e73\\u5747\",\"\\u6708\\u5e73\\u5747\",\"\\u6708\\u5e73\\u5747\",\"\\u6708\\u5e73\\u5747\",\"\\u6708\\u5e73\\u5747\",\"\\u6708\\u5e73\\u5747\",\"\\u6708\\u5e73\\u5747\",\"\\u6708\\u5e73\\u5747\",\"\\u6708\\u5e73\\u5747\",\"\\u6708\\u5e73\\u5747\",\"\\u6708\\u5e73\\u5747\",\"\\u6708\\u5e73\\u5747\",\"\\u6708\\u5e73\\u5747\",\"\\u6708\\u5e73\\u5747\",\"\\u6708\\u5e73\\u5747\",\"\\u6708\\u5e73\\u5747\",\"\\u6708\\u5e73\\u5747\",\"\\u6708\\u5e73\\u5747\",\"\\u6708\\u5e73\\u5747\",\"\\u6708\\u5e73\\u5747\",\"\\u6708\\u5e73\\u5747\",\"\\u6708\\u5e73\\u5747\",\"\\u6708\\u5e73\\u5747\",\"\\u6708\\u5e73\\u5747\",\"\\u6708\\u5e73\\u5747\",\"\\u6708\\u5e73\\u5747\",\"\\u6708\\u5e73\\u5747\",\"\\u6708\\u5e73\\u5747\",\"\\u6708\\u5e73\\u5747\",\"\\u6708\\u5e73\\u5747\",\"\\u6708\\u5e73\\u5747\",\"\\u6708\\u5e73\\u5747\",\"\\u6708\\u5e73\\u5747\",\"\\u6708\\u5e73\\u5747\",\"\\u6708\\u5e73\\u5747\",\"\\u6708\\u5e73\\u5747\",\"\\u6708\\u5e73\\u5747\",\"\\u6708\\u5e73\\u5747\",\"\\u6708\\u5e73\\u5747\",\"\\u6708\\u5e73\\u5747\",\"\\u6708\\u5e73\\u5747\",\"\\u6708\\u5e73\\u5747\",\"\\u6708\\u5e73\\u5747\",\"\\u6708\\u5e73\\u5747\",\"\\u6708\\u5e73\\u5747\",\"\\u6708\\u5e73\\u5747\",\"\\u6708\\u5e73\\u5747\",\"\\u6708\\u5e73\\u5747\",\"\\u6708\\u5e73\\u5747\",\"\\u6708\\u5e73\\u5747\",\"\\u6708\\u5e73\\u5747\",\"\\u6708\\u5e73\\u5747\",\"\\u6708\\u5e73\\u5747\",\"\\u6708\\u5e73\\u5747\",\"\\u6708\\u5e73\\u5747\",\"\\u6708\\u5e73\\u5747\",\"\\u6708\\u5e73\\u5747\",\"\\u6708\\u5e73\\u5747\",\"\\u6708\\u5e73\\u5747\",\"\\u6708\\u5e73\\u5747\",\"\\u6708\\u5e73\\u5747\",\"\\u6708\\u5e73\\u5747\",\"\\u6708\\u5e73\\u5747\",\"\\u6708\\u5e73\\u5747\",\"\\u6708\\u5e73\\u5747\",\"\\u6708\\u5e73\\u5747\",\"\\u6708\\u5e73\\u5747\",\"\\u6708\\u5e73\\u5747\",\"\\u6708\\u5e73\\u5747\",\"\\u6708\\u5e73\\u5747\",\"\\u6708\\u5e73\\u5747\",\"\\u6708\\u5e73\\u5747\",\"\\u6708\\u5e73\\u5747\",\"\\u6708\\u5e73\\u5747\",\"\\u6708\\u5e73\\u5747\",\"\\u6708\\u5e73\\u5747\",\"\\u6708\\u5e73\\u5747\",\"\\u6708\\u5e73\\u5747\",\"\\u6708\\u5e73\\u5747\",\"\\u6708\\u5e73\\u5747\",\"\\u6708\\u5e73\\u5747\",\"\\u6708\\u5e73\\u5747\",\"\\u6708\\u5e73\\u5747\",\"\\u6708\\u5e73\\u5747\",\"\\u6708\\u5e73\\u5747\",\"\\u6708\\u5e73\\u5747\",\"\\u6708\\u5e73\\u5747\",\"\\u6708\\u5e73\\u5747\",\"\\u6708\\u5e73\\u5747\",\"\\u6708\\u5e73\\u5747\",\"\\u6708\\u5e73\\u5747\",\"\\u6708\\u5e73\\u5747\",\"\\u6708\\u5e73\\u5747\",\"\\u6708\\u5e73\\u5747\",\"\\u6708\\u5e73\\u5747\",\"\\u6708\\u5e73\\u5747\",\"\\u6708\\u5e73\\u5747\",\"\\u6708\\u5e73\\u5747\",\"\\u6708\\u5e73\\u5747\",\"\\u6708\\u5e73\\u5747\",\"\\u6708\\u5e73\\u5747\",\"\\u6708\\u5e73\\u5747\",\"\\u6708\\u5e73\\u5747\",\"\\u6708\\u5e73\\u5747\",\"\\u6708\\u5e73\\u5747\",\"\\u6708\\u5e73\\u5747\",\"\\u6708\\u5e73\\u5747\",\"\\u6708\\u5e73\\u5747\",\"\\u6708\\u5e73\\u5747\",\"\\u6708\\u5e73\\u5747\",\"\\u6708\\u5e73\\u5747\",\"\\u6708\\u5e73\\u5747\",\"\\u6708\\u5e73\\u5747\",\"\\u6708\\u5e73\\u5747\",\"\\u6708\\u5e73\\u5747\",\"\\u6708\\u5e73\\u5747\",\"\\u6708\\u5e73\\u5747\",\"\\u6708\\u5e73\\u5747\",\"\\u6708\\u5e73\\u5747\",\"\\u6708\\u5e73\\u5747\",\"\\u6708\\u5e73\\u5747\",\"\\u6708\\u5e73\\u5747\",\"\\u6708\\u5e73\\u5747\",\"\\u6708\\u5e73\\u5747\",\"\\u6708\\u5e73\\u5747\",\"\\u6708\\u5e73\\u5747\",\"\\u6708\\u5e73\\u5747\",\"\\u6708\\u5e73\\u5747\",\"\\u6708\\u5e73\\u5747\",\"\\u6708\\u5e73\\u5747\",\"\\u6708\\u5e73\\u5747\",\"\\u6708\\u5e73\\u5747\",\"\\u6708\\u5e73\\u5747\",\"\\u6708\\u5e73\\u5747\",\"\\u6708\\u5e73\\u5747\",\"\\u6708\\u5e73\\u5747\",\"\\u6708\\u5e73\\u5747\",\"\\u6708\\u5e73\\u5747\",\"\\u6708\\u5e73\\u5747\",\"\\u6708\\u5e73\\u5747\",\"\\u6708\\u5e73\\u5747\",\"\\u6708\\u5e73\\u5747\",\"\\u6708\\u5e73\\u5747\",\"\\u6708\\u5e73\\u5747\",\"\\u6708\\u5e73\\u5747\",\"\\u6708\\u5e73\\u5747\",\"\\u6708\\u5e73\\u5747\",\"\\u6708\\u5e73\\u5747\",\"\\u6708\\u5e73\\u5747\",\"\\u6708\\u5e73\\u5747\",\"\\u6708\\u5e73\\u5747\",\"\\u6708\\u5e73\\u5747\",\"\\u6708\\u5e73\\u5747\",\"\\u6708\\u5e73\\u5747\",\"\\u6708\\u5e73\\u5747\",\"\\u6708\\u5e73\\u5747\",\"\\u6708\\u5e73\\u5747\",\"\\u6708\\u5e73\\u5747\",\"\\u6708\\u5e73\\u5747\",\"\\u6708\\u5e73\\u5747\",\"\\u6708\\u5e73\\u5747\",\"\\u6708\\u5e73\\u5747\",\"\\u6708\\u5e73\\u5747\",\"\\u6708\\u5e73\\u5747\",\"\\u6708\\u5e73\\u5747\",\"\\u6708\\u5e73\\u5747\",\"\\u6708\\u5e73\\u5747\",\"\\u6708\\u5e73\\u5747\",\"\\u6708\\u5e73\\u5747\",\"\\u6708\\u5e73\\u5747\",\"\\u6708\\u5e73\\u5747\",\"\\u6708\\u5e73\\u5747\",\"\\u6708\\u5e73\\u5747\",\"\\u6708\\u5e73\\u5747\",\"\\u6708\\u5e73\\u5747\",\"\\u6708\\u5e73\\u5747\",\"\\u6708\\u5e73\\u5747\",\"\\u6708\\u5e73\\u5747\",\"\\u6708\\u5e73\\u5747\",\"\\u6708\\u5e73\\u5747\",\"\\u6708\\u5e73\\u5747\",\"\\u6708\\u5e73\\u5747\",\"\\u6708\\u5e73\\u5747\",\"\\u6708\\u5e73\\u5747\",\"\\u6708\\u5e73\\u5747\",\"\\u6708\\u5e73\\u5747\",\"\\u6708\\u5e73\\u5747\",\"\\u6708\\u5e73\\u5747\",\"\\u6708\\u5e73\\u5747\",\"\\u6708\\u5e73\\u5747\",\"\\u6708\\u5e73\\u5747\",\"\\u6708\\u5e73\\u5747\",\"\\u6708\\u5e73\\u5747\",\"\\u6708\\u5e73\\u5747\",\"\\u6708\\u5e73\\u5747\",\"\\u6708\\u5e73\\u5747\",\"\\u6708\\u5e73\\u5747\",\"\\u6708\\u5e73\\u5747\",\"\\u6708\\u5e73\\u5747\",\"\\u6708\\u5e73\\u5747\",\"\\u6708\\u5e73\\u5747\",\"\\u6708\\u5e73\\u5747\",\"\\u6708\\u5e73\\u5747\",\"\\u6708\\u5e73\\u5747\",\"\\u6708\\u5e73\\u5747\",\"\\u6708\\u5e73\\u5747\",\"\\u6708\\u5e73\\u5747\",\"\\u6708\\u5e73\\u5747\",\"\\u6708\\u5e73\\u5747\",\"\\u6708\\u5e73\\u5747\",\"\\u6708\\u5e73\\u5747\",\"\\u6708\\u5e73\\u5747\",\"\\u6708\\u5e73\\u5747\",\"\\u6708\\u5e73\\u5747\",\"\\u6708\\u5e73\\u5747\",\"\\u6708\\u5e73\\u5747\",\"\\u6708\\u5e73\\u5747\",\"\\u6708\\u5e73\\u5747\",\"\\u6708\\u5e73\\u5747\",\"\\u6708\\u5e73\\u5747\",\"\\u6708\\u5e73\\u5747\",\"\\u6708\\u5e73\\u5747\",\"\\u6708\\u5e73\\u5747\",\"\\u6708\\u5e73\\u5747\",\"\\u6708\\u5e73\\u5747\",\"\\u6708\\u5e73\\u5747\",\"\\u6708\\u5e73\\u5747\",\"\\u6708\\u5e73\\u5747\",\"\\u6708\\u5e73\\u5747\",\"\\u6708\\u5e73\\u5747\",\"\\u6708\\u5e73\\u5747\",\"\\u6708\\u5e73\\u5747\",\"\\u6708\\u5e73\\u5747\",\"\\u6708\\u5e73\\u5747\",\"\\u6708\\u5e73\\u5747\",\"\\u6708\\u5e73\\u5747\",\"\\u6708\\u5e73\\u5747\",\"\\u6708\\u5e73\\u5747\",\"\\u6708\\u5e73\\u5747\",\"\\u6708\\u5e73\\u5747\",\"\\u6708\\u5e73\\u5747\",\"\\u6708\\u5e73\\u5747\",\"\\u6708\\u5e73\\u5747\",\"\\u6708\\u5e73\\u5747\",\"\\u6708\\u5e73\\u5747\",\"\\u6708\\u5e73\\u5747\",\"\\u6708\\u5e73\\u5747\",\"\\u6708\\u5e73\\u5747\",\"\\u6708\\u5e73\\u5747\",\"\\u6708\\u5e73\\u5747\",\"\\u6708\\u5e73\\u5747\",\"\\u6708\\u5e73\\u5747\",\"\\u6708\\u5e73\\u5747\",\"\\u6708\\u5e73\\u5747\",\"\\u6708\\u5e73\\u5747\",\"\\u6708\\u5e73\\u5747\",\"\\u6708\\u5e73\\u5747\",\"\\u6708\\u5e73\\u5747\",\"\\u6708\\u5e73\\u5747\",\"\\u6708\\u5e73\\u5747\",\"\\u6708\\u5e73\\u5747\",\"\\u6708\\u5e73\\u5747\",\"\\u6708\\u5e73\\u5747\",\"\\u6708\\u5e73\\u5747\",\"\\u6708\\u5e73\\u5747\",\"\\u6708\\u5e73\\u5747\",\"\\u6708\\u5e73\\u5747\",\"\\u6708\\u5e73\\u5747\",\"\\u6708\\u5e73\\u5747\",\"\\u6708\\u5e73\\u5747\",\"\\u6708\\u5e73\\u5747\",\"\\u6708\\u5e73\\u5747\",\"\\u6708\\u5e73\\u5747\",\"\\u6708\\u5e73\\u5747\",\"\\u6708\\u5e73\\u5747\",\"\\u6708\\u5e73\\u5747\",\"\\u6708\\u5e73\\u5747\",\"\\u6708\\u5e73\\u5747\"],\"x0\":\" \",\"xaxis\":\"x\",\"y\":[0.2222222222222222,0.5555555555555556,2.3333333333333335,0.8888888888888888,0.5555555555555556,7.222222222222222,19.444444444444443,0.2777777777777778,0.7222222222222222,1.3333333333333333,1.1111111111111112,0.1111111111111111,2.2222222222222223,0.7777777777777778,5.666666666666667,0.1111111111111111,1.1111111111111112,31.61111111111111,3.7222222222222223,10.944444444444445,0.6666666666666666,0.1111111111111111,3.3333333333333335,0.05555555555555555,0.5555555555555556,0.2777777777777778,1.2777777777777777,8.444444444444445,8.11111111111111,11.38888888888889,139.22222222222223,8.5,1.1111111111111112,8.333333333333334,16.5,3.9444444444444446,2.3333333333333335,10.88888888888889,10.944444444444445,15.38888888888889,0.1111111111111111,0.5555555555555556,25.333333333333332,9.055555555555555,56.333333333333336,121.38888888888889,107.38888888888889,90.5,42.333333333333336,8.0,0.2222222222222222,5.5,4.444444444444445,39.666666666666664,0.1111111111111111,2.7777777777777777,12.055555555555555,0.7777777777777778,1.6666666666666667,6.222222222222222,14.38888888888889,6.111111111111111,15.11111111111111,4.5,6.222222222222222,21.944444444444443,7.777777777777778,7.444444444444445,59.44444444444444,16.833333333333332,3.8333333333333335,1.5,2.7777777777777777,13.555555555555555,0.1111111111111111,30.0,18.444444444444443,2.2222222222222223,29.333333333333332,7.222222222222222,123.55555555555556,198.61111111111111,1.6666666666666667,8.944444444444445,0.05555555555555555,1.6666666666666667,0.4444444444444444,0.3333333333333333,4.666666666666667,3.3333333333333335,0.1111111111111111,0.3333333333333333,0.6666666666666666,2.3333333333333335,2.0,0.2777777777777778,13.38888888888889,7.444444444444445,6.666666666666667,0.05555555555555555,26.22222222222222,73.0,74.83333333333333,57.72222222222222,27.38888888888889,32.333333333333336,57.94444444444444,0.1111111111111111,1.7777777777777777,0.05555555555555555,1.6666666666666667,3.111111111111111,0.1111111111111111,2.5555555555555554,0.6666666666666666,2.611111111111111,0.5,0.2222222222222222,0.6666666666666666,3.3333333333333335,7.777777777777778,0.6666666666666666,0.8888888888888888,0.1111111111111111,7.388888888888889,4.111111111111111,0.5,0.3333333333333333,0.1111111111111111,4.444444444444445,0.1111111111111111,0.1111111111111111,3.0555555555555554,11.222222222222221,0.6666666666666666,0.1111111111111111,0.2222222222222222,0.6666666666666666,0.16666666666666666,0.2222222222222222,0.2222222222222222,0.1111111111111111,0.5555555555555556,4.444444444444445,4.5,9.722222222222221,13.333333333333334,12.61111111111111,24.055555555555557,2.7777777777777777,17.833333333333332,11.722222222222221,0.05555555555555555,0.8888888888888888,21.5,3.6666666666666665,2.3333333333333335,0.5555555555555556,5.944444444444445,0.5,9.055555555555555,2.2222222222222223,1.8333333333333333,8.5,5.555555555555555,32.94444444444444,11.5,64.66666666666667,36.22222222222222,180.88888888888889,0.4444444444444444,0.1111111111111111,9.166666666666666,0.6666666666666666,0.2222222222222222,0.1111111111111111,0.1111111111111111,0.8888888888888888,0.5555555555555556,0.3333333333333333,0.1111111111111111,32.666666666666664,224.83333333333334,49.388888888888886,2.9444444444444446,179.88888888888889,58.888888888888886,74.27777777777777,29.72222222222222,78.27777777777777,121.05555555555556,46.611111111111114,125.72222222222223,5.722222222222222,1.6666666666666667,0.4444444444444444,0.6666666666666666,2.888888888888889,0.5555555555555556,3.4444444444444446,2.4444444444444446,27.77777777777778,1.6666666666666667,1.9444444444444444,4.444444444444445,6.111111111111111,0.1111111111111111,8.333333333333334,33.44444444444444,11.5,2.111111111111111,0.2222222222222222,3.888888888888889,0.3333333333333333,11.88888888888889,0.2222222222222222,0.3333333333333333,3.9444444444444446,0.2222222222222222,0.1111111111111111,0.05555555555555555,0.3333333333333333,0.3333333333333333,0.3333333333333333,0.1111111111111111,0.05555555555555555,1.6666666666666667,0.5555555555555556,0.5,0.1111111111111111,0.1111111111111111,0.4444444444444444,2.5555555555555554,2.111111111111111,143.5,33.5,7.555555555555555,7.722222222222222,13.333333333333334,0.5555555555555556,2.4444444444444446,4.166666666666667,1.7777777777777777,3.111111111111111,20.333333333333332,0.05555555555555555,0.3888888888888889,0.16666666666666666,0.1111111111111111,47.333333333333336,65.83333333333333,92.44444444444444,26.055555555555557,90.27777777777777,296.05555555555554,45.5,100.83333333333333,29.333333333333332,2.3333333333333335,0.1111111111111111,3.5555555555555554,0.2777777777777778,3.0,6.611111111111111,4.055555555555555,2.9444444444444446,3.388888888888889,0.2222222222222222,0.1111111111111111,0.5555555555555556,0.5555555555555556,0.1111111111111111,6.166666666666667,0.1111111111111111,0.6666666666666666,2.9444444444444446,0.6666666666666666,9.61111111111111,0.2777777777777778,1.0555555555555556,1.9444444444444444,15.5,16.444444444444443,12.944444444444445,1.1111111111111112,10.0,0.16666666666666666,2.2222222222222223,0.1111111111111111,4.833333333333333,0.05555555555555555,4.0,0.8888888888888888,16.944444444444443,1.5555555555555556,1.1111111111111112,2.611111111111111,6.888888888888889,35.166666666666664,3.888888888888889,32.44444444444444,10.055555555555555,41.388888888888886,0.2222222222222222,10.11111111111111,14.88888888888889,3.388888888888889,7.222222222222222,11.277777777777779,9.944444444444445,0.16666666666666666,4.722222222222222,17.77777777777778,0.0,0.7777777777777778,10.0,7.777777777777778,66.27777777777777,2.4444444444444446,0.5555555555555556,0.1111111111111111,46.22222222222222,0.2222222222222222,1.6111111111111112,0.16666666666666666,0.6666666666666666,1.1666666666666667,12.944444444444445,3.2222222222222223,0.2222222222222222,5.277777777777778,1.1111111111111112,0.1111111111111111,0.2222222222222222,0.1111111111111111,26.38888888888889,4.611111111111111,0.4444444444444444,1.2222222222222223,1.6111111111111112,3.611111111111111,0.3333333333333333,0.4444444444444444,38.72222222222222,92.72222222222223,417.1111111111111,1.8888888888888888,0.1111111111111111,0.3333333333333333,1.4444444444444444,13.277777777777779,9.666666666666666,1.2222222222222223,1.4444444444444444,0.9444444444444444,122.77777777777777,18.5,118.61111111111111,85.72222222222223,57.5,103.44444444444444,403.22222222222223,84.83333333333333,0.2222222222222222,52.388888888888886,57.5,2.0555555555555554,7.111111111111111,1.6666666666666667,9.777777777777779,8.222222222222221,35.94444444444444,0.6666666666666666,27.88888888888889,30.77777777777778,7.333333333333333,18.944444444444443,20.5,33.27777777777778,6.388888888888889,7.888888888888889,20.77777777777778,16.38888888888889,6.111111111111111,1.2222222222222223,3.5,41.888888888888886,20.77777777777778,0.7777777777777778,0.8333333333333334,19.5,39.111111111111114,2.2222222222222223,0.9444444444444444,356.6666666666667,0.9444444444444444,48.666666666666664,1.0,0.1111111111111111,0.1111111111111111,1.1111111111111112,0.7777777777777778,4.5,0.2222222222222222,3.4444444444444446,0.2777777777777778,0.3333333333333333,5.0,0.1111111111111111,0.1111111111111111,0.1111111111111111,0.2222222222222222,0.4444444444444444,0.3333333333333333,4.444444444444445,0.1111111111111111,0.5555555555555556,0.1111111111111111,2.7222222222222223,0.1111111111111111,34.666666666666664,98.11111111111111,89.27777777777777,42.333333333333336,4.444444444444445,2.9444444444444446,1.1111111111111112,13.055555555555555,1.6666666666666667,1.5,10.11111111111111,2.2777777777777777,9.444444444444445,3.3333333333333335,5.5,5.611111111111111,12.88888888888889,1.1111111111111112,1.8333333333333333,1.1111111111111112,1.1111111111111112,0.2222222222222222,0.1111111111111111,0.5555555555555556,1.1111111111111112,8.555555555555555,0.2222222222222222,5.833333333333333,0.2222222222222222,6.222222222222222,21.666666666666668,0.1111111111111111,1.1111111111111112,6.833333333333333,5.666666666666667,1.6666666666666667,7.222222222222222,4.0,0.05555555555555555,0.1111111111111111,0.05555555555555555,2.7777777777777777,1.2777777777777777],\"y0\":\" \",\"yaxis\":\"y\",\"type\":\"box\"}],                        {\"template\":{\"data\":{\"histogram2dcontour\":[{\"type\":\"histogram2dcontour\",\"colorbar\":{\"outlinewidth\":0,\"ticks\":\"\"},\"colorscale\":[[0.0,\"#0d0887\"],[0.1111111111111111,\"#46039f\"],[0.2222222222222222,\"#7201a8\"],[0.3333333333333333,\"#9c179e\"],[0.4444444444444444,\"#bd3786\"],[0.5555555555555556,\"#d8576b\"],[0.6666666666666666,\"#ed7953\"],[0.7777777777777778,\"#fb9f3a\"],[0.8888888888888888,\"#fdca26\"],[1.0,\"#f0f921\"]]}],\"choropleth\":[{\"type\":\"choropleth\",\"colorbar\":{\"outlinewidth\":0,\"ticks\":\"\"}}],\"histogram2d\":[{\"type\":\"histogram2d\",\"colorbar\":{\"outlinewidth\":0,\"ticks\":\"\"},\"colorscale\":[[0.0,\"#0d0887\"],[0.1111111111111111,\"#46039f\"],[0.2222222222222222,\"#7201a8\"],[0.3333333333333333,\"#9c179e\"],[0.4444444444444444,\"#bd3786\"],[0.5555555555555556,\"#d8576b\"],[0.6666666666666666,\"#ed7953\"],[0.7777777777777778,\"#fb9f3a\"],[0.8888888888888888,\"#fdca26\"],[1.0,\"#f0f921\"]]}],\"heatmap\":[{\"type\":\"heatmap\",\"colorbar\":{\"outlinewidth\":0,\"ticks\":\"\"},\"colorscale\":[[0.0,\"#0d0887\"],[0.1111111111111111,\"#46039f\"],[0.2222222222222222,\"#7201a8\"],[0.3333333333333333,\"#9c179e\"],[0.4444444444444444,\"#bd3786\"],[0.5555555555555556,\"#d8576b\"],[0.6666666666666666,\"#ed7953\"],[0.7777777777777778,\"#fb9f3a\"],[0.8888888888888888,\"#fdca26\"],[1.0,\"#f0f921\"]]}],\"heatmapgl\":[{\"type\":\"heatmapgl\",\"colorbar\":{\"outlinewidth\":0,\"ticks\":\"\"},\"colorscale\":[[0.0,\"#0d0887\"],[0.1111111111111111,\"#46039f\"],[0.2222222222222222,\"#7201a8\"],[0.3333333333333333,\"#9c179e\"],[0.4444444444444444,\"#bd3786\"],[0.5555555555555556,\"#d8576b\"],[0.6666666666666666,\"#ed7953\"],[0.7777777777777778,\"#fb9f3a\"],[0.8888888888888888,\"#fdca26\"],[1.0,\"#f0f921\"]]}],\"contourcarpet\":[{\"type\":\"contourcarpet\",\"colorbar\":{\"outlinewidth\":0,\"ticks\":\"\"}}],\"contour\":[{\"type\":\"contour\",\"colorbar\":{\"outlinewidth\":0,\"ticks\":\"\"},\"colorscale\":[[0.0,\"#0d0887\"],[0.1111111111111111,\"#46039f\"],[0.2222222222222222,\"#7201a8\"],[0.3333333333333333,\"#9c179e\"],[0.4444444444444444,\"#bd3786\"],[0.5555555555555556,\"#d8576b\"],[0.6666666666666666,\"#ed7953\"],[0.7777777777777778,\"#fb9f3a\"],[0.8888888888888888,\"#fdca26\"],[1.0,\"#f0f921\"]]}],\"surface\":[{\"type\":\"surface\",\"colorbar\":{\"outlinewidth\":0,\"ticks\":\"\"},\"colorscale\":[[0.0,\"#0d0887\"],[0.1111111111111111,\"#46039f\"],[0.2222222222222222,\"#7201a8\"],[0.3333333333333333,\"#9c179e\"],[0.4444444444444444,\"#bd3786\"],[0.5555555555555556,\"#d8576b\"],[0.6666666666666666,\"#ed7953\"],[0.7777777777777778,\"#fb9f3a\"],[0.8888888888888888,\"#fdca26\"],[1.0,\"#f0f921\"]]}],\"mesh3d\":[{\"type\":\"mesh3d\",\"colorbar\":{\"outlinewidth\":0,\"ticks\":\"\"}}],\"scatter\":[{\"fillpattern\":{\"fillmode\":\"overlay\",\"size\":10,\"solidity\":0.2},\"type\":\"scatter\"}],\"parcoords\":[{\"type\":\"parcoords\",\"line\":{\"colorbar\":{\"outlinewidth\":0,\"ticks\":\"\"}}}],\"scatterpolargl\":[{\"type\":\"scatterpolargl\",\"marker\":{\"colorbar\":{\"outlinewidth\":0,\"ticks\":\"\"}}}],\"bar\":[{\"error_x\":{\"color\":\"#2a3f5f\"},\"error_y\":{\"color\":\"#2a3f5f\"},\"marker\":{\"line\":{\"color\":\"#E5ECF6\",\"width\":0.5},\"pattern\":{\"fillmode\":\"overlay\",\"size\":10,\"solidity\":0.2}},\"type\":\"bar\"}],\"scattergeo\":[{\"type\":\"scattergeo\",\"marker\":{\"colorbar\":{\"outlinewidth\":0,\"ticks\":\"\"}}}],\"scatterpolar\":[{\"type\":\"scatterpolar\",\"marker\":{\"colorbar\":{\"outlinewidth\":0,\"ticks\":\"\"}}}],\"histogram\":[{\"marker\":{\"pattern\":{\"fillmode\":\"overlay\",\"size\":10,\"solidity\":0.2}},\"type\":\"histogram\"}],\"scattergl\":[{\"type\":\"scattergl\",\"marker\":{\"colorbar\":{\"outlinewidth\":0,\"ticks\":\"\"}}}],\"scatter3d\":[{\"type\":\"scatter3d\",\"line\":{\"colorbar\":{\"outlinewidth\":0,\"ticks\":\"\"}},\"marker\":{\"colorbar\":{\"outlinewidth\":0,\"ticks\":\"\"}}}],\"scattermapbox\":[{\"type\":\"scattermapbox\",\"marker\":{\"colorbar\":{\"outlinewidth\":0,\"ticks\":\"\"}}}],\"scatterternary\":[{\"type\":\"scatterternary\",\"marker\":{\"colorbar\":{\"outlinewidth\":0,\"ticks\":\"\"}}}],\"scattercarpet\":[{\"type\":\"scattercarpet\",\"marker\":{\"colorbar\":{\"outlinewidth\":0,\"ticks\":\"\"}}}],\"carpet\":[{\"aaxis\":{\"endlinecolor\":\"#2a3f5f\",\"gridcolor\":\"white\",\"linecolor\":\"white\",\"minorgridcolor\":\"white\",\"startlinecolor\":\"#2a3f5f\"},\"baxis\":{\"endlinecolor\":\"#2a3f5f\",\"gridcolor\":\"white\",\"linecolor\":\"white\",\"minorgridcolor\":\"white\",\"startlinecolor\":\"#2a3f5f\"},\"type\":\"carpet\"}],\"table\":[{\"cells\":{\"fill\":{\"color\":\"#EBF0F8\"},\"line\":{\"color\":\"white\"}},\"header\":{\"fill\":{\"color\":\"#C8D4E3\"},\"line\":{\"color\":\"white\"}},\"type\":\"table\"}],\"barpolar\":[{\"marker\":{\"line\":{\"color\":\"#E5ECF6\",\"width\":0.5},\"pattern\":{\"fillmode\":\"overlay\",\"size\":10,\"solidity\":0.2}},\"type\":\"barpolar\"}],\"pie\":[{\"automargin\":true,\"type\":\"pie\"}]},\"layout\":{\"autotypenumbers\":\"strict\",\"colorway\":[\"#636efa\",\"#EF553B\",\"#00cc96\",\"#ab63fa\",\"#FFA15A\",\"#19d3f3\",\"#FF6692\",\"#B6E880\",\"#FF97FF\",\"#FECB52\"],\"font\":{\"color\":\"#2a3f5f\"},\"hovermode\":\"closest\",\"hoverlabel\":{\"align\":\"left\"},\"paper_bgcolor\":\"white\",\"plot_bgcolor\":\"#E5ECF6\",\"polar\":{\"bgcolor\":\"#E5ECF6\",\"angularaxis\":{\"gridcolor\":\"white\",\"linecolor\":\"white\",\"ticks\":\"\"},\"radialaxis\":{\"gridcolor\":\"white\",\"linecolor\":\"white\",\"ticks\":\"\"}},\"ternary\":{\"bgcolor\":\"#E5ECF6\",\"aaxis\":{\"gridcolor\":\"white\",\"linecolor\":\"white\",\"ticks\":\"\"},\"baxis\":{\"gridcolor\":\"white\",\"linecolor\":\"white\",\"ticks\":\"\"},\"caxis\":{\"gridcolor\":\"white\",\"linecolor\":\"white\",\"ticks\":\"\"}},\"coloraxis\":{\"colorbar\":{\"outlinewidth\":0,\"ticks\":\"\"}},\"colorscale\":{\"sequential\":[[0.0,\"#0d0887\"],[0.1111111111111111,\"#46039f\"],[0.2222222222222222,\"#7201a8\"],[0.3333333333333333,\"#9c179e\"],[0.4444444444444444,\"#bd3786\"],[0.5555555555555556,\"#d8576b\"],[0.6666666666666666,\"#ed7953\"],[0.7777777777777778,\"#fb9f3a\"],[0.8888888888888888,\"#fdca26\"],[1.0,\"#f0f921\"]],\"sequentialminus\":[[0.0,\"#0d0887\"],[0.1111111111111111,\"#46039f\"],[0.2222222222222222,\"#7201a8\"],[0.3333333333333333,\"#9c179e\"],[0.4444444444444444,\"#bd3786\"],[0.5555555555555556,\"#d8576b\"],[0.6666666666666666,\"#ed7953\"],[0.7777777777777778,\"#fb9f3a\"],[0.8888888888888888,\"#fdca26\"],[1.0,\"#f0f921\"]],\"diverging\":[[0,\"#8e0152\"],[0.1,\"#c51b7d\"],[0.2,\"#de77ae\"],[0.3,\"#f1b6da\"],[0.4,\"#fde0ef\"],[0.5,\"#f7f7f7\"],[0.6,\"#e6f5d0\"],[0.7,\"#b8e186\"],[0.8,\"#7fbc41\"],[0.9,\"#4d9221\"],[1,\"#276419\"]]},\"xaxis\":{\"gridcolor\":\"white\",\"linecolor\":\"white\",\"ticks\":\"\",\"title\":{\"standoff\":15},\"zerolinecolor\":\"white\",\"automargin\":true,\"zerolinewidth\":2},\"yaxis\":{\"gridcolor\":\"white\",\"linecolor\":\"white\",\"ticks\":\"\",\"title\":{\"standoff\":15},\"zerolinecolor\":\"white\",\"automargin\":true,\"zerolinewidth\":2},\"scene\":{\"xaxis\":{\"backgroundcolor\":\"#E5ECF6\",\"gridcolor\":\"white\",\"linecolor\":\"white\",\"showbackground\":true,\"ticks\":\"\",\"zerolinecolor\":\"white\",\"gridwidth\":2},\"yaxis\":{\"backgroundcolor\":\"#E5ECF6\",\"gridcolor\":\"white\",\"linecolor\":\"white\",\"showbackground\":true,\"ticks\":\"\",\"zerolinecolor\":\"white\",\"gridwidth\":2},\"zaxis\":{\"backgroundcolor\":\"#E5ECF6\",\"gridcolor\":\"white\",\"linecolor\":\"white\",\"showbackground\":true,\"ticks\":\"\",\"zerolinecolor\":\"white\",\"gridwidth\":2}},\"shapedefaults\":{\"line\":{\"color\":\"#2a3f5f\"}},\"annotationdefaults\":{\"arrowcolor\":\"#2a3f5f\",\"arrowhead\":0,\"arrowwidth\":1},\"geo\":{\"bgcolor\":\"white\",\"landcolor\":\"#E5ECF6\",\"subunitcolor\":\"white\",\"showland\":true,\"showlakes\":true,\"lakecolor\":\"white\"},\"title\":{\"x\":0.05},\"mapbox\":{\"style\":\"light\"}}},\"xaxis\":{\"anchor\":\"y\",\"domain\":[0.0,1.0],\"title\":{\"text\":\"variable\"}},\"yaxis\":{\"anchor\":\"x\",\"domain\":[0.0,1.0],\"title\":{\"text\":\"value\"}},\"legend\":{\"tracegroupgap\":0},\"margin\":{\"t\":60},\"boxmode\":\"group\"},                        {\"responsive\": true}                    ).then(function(){\n",
       "                            \n",
       "var gd = document.getElementById('fbf9718a-e536-4298-a61d-04facdaf8a26');\n",
       "var x = new MutationObserver(function (mutations, observer) {{\n",
       "        var display = window.getComputedStyle(gd).display;\n",
       "        if (!display || display === 'none') {{\n",
       "            console.log([gd, 'removed!']);\n",
       "            Plotly.purge(gd);\n",
       "            observer.disconnect();\n",
       "        }}\n",
       "}});\n",
       "\n",
       "// Listen for the removal of the full notebook cells\n",
       "var notebookContainer = gd.closest('#notebook-container');\n",
       "if (notebookContainer) {{\n",
       "    x.observe(notebookContainer, {childList: true});\n",
       "}}\n",
       "\n",
       "// Listen for the clearing of the current output cell\n",
       "var outputEl = gd.closest('.output');\n",
       "if (outputEl) {{\n",
       "    x.observe(outputEl, {childList: true});\n",
       "}}\n",
       "\n",
       "                        })                };                });            </script>        </div>"
      ]
     },
     "metadata": {},
     "output_type": "display_data"
    }
   ],
   "source": [
    "import plotly.express as px\n",
    "px.box(final_result[\"月平均\"])"
   ]
  },
  {
   "cell_type": "code",
   "execution_count": 172,
   "id": "4876a079-9bbe-4705-8a0c-fd15a3de2c88",
   "metadata": {},
   "outputs": [],
   "source": [
    "final_result[\"離群值\"] = final_result[\"月平均\"].map(lambda x: \"Yes\" if x > 27.89 else \"No\")"
   ]
  },
  {
   "cell_type": "code",
   "execution_count": 173,
   "id": "6bd6dd06-b92a-440a-97ad-ac3ff71af4c1",
   "metadata": {},
   "outputs": [
    {
     "data": {
      "text/plain": [
       "No     391\n",
       "Yes     72\n",
       "Name: 離群值, dtype: int64"
      ]
     },
     "execution_count": 173,
     "metadata": {},
     "output_type": "execute_result"
    }
   ],
   "source": [
    "final_result[\"離群值\"].value_counts()"
   ]
  },
  {
   "cell_type": "code",
   "execution_count": 174,
   "id": "5ab97b02-1ab1-435e-abdc-623d47f469c8",
   "metadata": {},
   "outputs": [
    {
     "data": {
      "text/html": [
       "<div>\n",
       "<style scoped>\n",
       "    .dataframe tbody tr th:only-of-type {\n",
       "        vertical-align: middle;\n",
       "    }\n",
       "\n",
       "    .dataframe tbody tr th {\n",
       "        vertical-align: top;\n",
       "    }\n",
       "\n",
       "    .dataframe thead th {\n",
       "        text-align: right;\n",
       "    }\n",
       "</style>\n",
       "<table border=\"1\" class=\"dataframe\">\n",
       "  <thead>\n",
       "    <tr style=\"text-align: right;\">\n",
       "      <th></th>\n",
       "      <th>volume</th>\n",
       "    </tr>\n",
       "    <tr>\n",
       "      <th>離群值</th>\n",
       "      <th></th>\n",
       "    </tr>\n",
       "  </thead>\n",
       "  <tbody>\n",
       "    <tr>\n",
       "      <th>No</th>\n",
       "      <td>31149</td>\n",
       "    </tr>\n",
       "    <tr>\n",
       "      <th>Yes</th>\n",
       "      <td>114950</td>\n",
       "    </tr>\n",
       "  </tbody>\n",
       "</table>\n",
       "</div>"
      ],
      "text/plain": [
       "     volume\n",
       "離群值        \n",
       "No    31149\n",
       "Yes  114950"
      ]
     },
     "execution_count": 174,
     "metadata": {},
     "output_type": "execute_result"
    }
   ],
   "source": [
    "final_result.groupby([\"離群值\"])[[\"volume\"]].sum()"
   ]
  },
  {
   "cell_type": "code",
   "execution_count": 175,
   "id": "8ab780a8-51c3-41b9-bbf0-b3380ba87dae",
   "metadata": {},
   "outputs": [
    {
     "data": {
      "text/plain": [
       "0.20     35.322222\n",
       "0.50     58.416667\n",
       "0.85    124.313889\n",
       "Name: 月平均, dtype: float64"
      ]
     },
     "execution_count": 175,
     "metadata": {},
     "output_type": "execute_result"
    }
   ],
   "source": [
    "final_result[final_result[\"離群值\"] == \"Yes\"][\"月平均\"].quantile([0.2, 0.5, 0.85])"
   ]
  },
  {
   "cell_type": "code",
   "execution_count": 176,
   "id": "5e00d7f0-adc9-4d63-b97f-a15bb2ed0cc0",
   "metadata": {},
   "outputs": [],
   "source": [
    "bins = [0, 35, 60, 125, 1000]\n",
    "labels = [\"No contract\", \"B\", \"A\", \"S\"]\n",
    "final_result[\"客戶推定等級\"] = pd.cut(final_result[\"月平均\"], bins=bins, labels=labels)"
   ]
  },
  {
   "cell_type": "code",
   "execution_count": 178,
   "id": "e5dfd02c-94d1-425c-a6d0-21c72de726e2",
   "metadata": {},
   "outputs": [],
   "source": [
    "signboard = pd.read_excel(r\"D:\\kc.hsu\\OneDrive - Bridgestone\\行銷推廣\\掛牌店\\2022年FMC店數.xlsx\", sheet_name=\"工作表1\")"
   ]
  },
  {
   "cell_type": "code",
   "execution_count": 179,
   "id": "a92e608b-160e-48f8-9961-0be7db0c0999",
   "metadata": {},
   "outputs": [],
   "source": [
    "signboard.columns = ['編號', '營業所', '客戶代號', '通路', '客戶簡稱', '月均需求(BS,MI,MA)', '月均需求(所有品牌)',\n",
    "       'BS signboard', 'BS招牌安裝日', '是否有意願裝BS招牌', 'MI合約到期日', '是否簽附加合約', '簽約等級',\n",
    "       '2021年銷售量', '2022年銷售量', 'Growth rate', '是否保留']"
   ]
  },
  {
   "cell_type": "code",
   "execution_count": 180,
   "id": "8e45d158-6b62-4d48-acd5-d3e559d285a5",
   "metadata": {},
   "outputs": [],
   "source": [
    "signboard_dict = dict(zip(signboard[\"客戶簡稱\"], signboard[\"BS signboard\"]))"
   ]
  },
  {
   "cell_type": "code",
   "execution_count": 181,
   "id": "69dd1f2b-e78c-479a-b615-536c8c393bc7",
   "metadata": {},
   "outputs": [],
   "source": [
    "final_result[\"FMC\"] = final_result[\"客戶名稱\"].map(signboard_dict).fillna(\"No\")"
   ]
  },
  {
   "cell_type": "code",
   "execution_count": 190,
   "id": "5c49359c-6976-4cc7-8398-c1936ca6b680",
   "metadata": {},
   "outputs": [],
   "source": [
    "final_result[\"談約排序\"] = final_result.apply(lambda x: \"最優先\" if x[\"客戶推定等級\"] != \"No contract\" and x[\"FMC\"] != \"No\" else \"優先\" if x[\"客戶推定等級\"] != \"No contract\" and x[\"FMC\"] == \"No\" else \"優先確認意向\" if x[\"客戶推定等級\"] == \"No contract\" and x[\"FMC\"] != \"No\" else \"一般\", axis=1)"
   ]
  },
  {
   "cell_type": "code",
   "execution_count": 191,
   "id": "bbdbd025-7789-482c-b71a-96159836c305",
   "metadata": {},
   "outputs": [],
   "source": [
    "final_result.to_excel(r\"C:\\Users\\kc.hsu\\Desktop\\20221206_rfm_model.xlsx\", index=False)"
   ]
  },
  {
   "cell_type": "markdown",
   "id": "1f1e0a34-3452-4a32-b19a-617009c4dd29",
   "metadata": {
    "tags": []
   },
   "source": [
    "## 2019年~2022年4月銷售實績RFM模型建立\n",
    "- 使用K-Means演算法分群\n",
    "- 每個月的頻率只用有無下單來累計，因為有的客戶每月下很多小單，但大客戶一個月只下一張單，這樣Frequency的分數會被影響到，需排除這個問題\n",
    "\n",
    "### 使用手動分群4群和使用K-means來找出最適合的群組"
   ]
  },
  {
   "cell_type": "code",
   "execution_count": null,
   "id": "4b496221-49e0-4978-a5c8-481e03224201",
   "metadata": {},
   "outputs": [],
   "source": [
    "df = pd.read_excel(r\"D:\\kc.hsu\\OneDrive - Bridgestone\\數據\\銷售數據\\2019-202204.xlsx\")"
   ]
  },
  {
   "cell_type": "code",
   "execution_count": null,
   "id": "05713142-a0fc-4ad1-95b2-4fcbc38ba879",
   "metadata": {},
   "outputs": [],
   "source": [
    "df[\"營業額\"] = df[\"銷售數量\"] * df[\"銷貨單價\"]"
   ]
  },
  {
   "cell_type": "code",
   "execution_count": null,
   "id": "99b85974-2063-4d2f-a38b-35a13a74b071",
   "metadata": {},
   "outputs": [],
   "source": [
    "data = df.groupby([\"實際出貨日\", \"訂單單號\", \"買方\"])[[\"銷售數量\", \"營業額\"]].sum().reset_index()"
   ]
  },
  {
   "cell_type": "code",
   "execution_count": null,
   "id": "701cb53c-8dc4-46d7-abf2-918491b00e97",
   "metadata": {},
   "outputs": [],
   "source": [
    "data[\"客戶名稱\"] = data[\"買方\"].map(cus_dict)\n",
    "data[\"通路\"] = data[\"買方\"].map(channel_dict)\n",
    "data[\"實際出貨日\"] = pd.to_datetime(data[\"實際出貨日\"])"
   ]
  },
  {
   "cell_type": "code",
   "execution_count": null,
   "id": "12ad568b-010f-44f8-aa65-be32108baf68",
   "metadata": {},
   "outputs": [],
   "source": [
    "data = data[data[\"通路\"] == \"BSSC\"]"
   ]
  },
  {
   "cell_type": "code",
   "execution_count": null,
   "id": "08ed7fa4-30ae-4564-9b78-291e371e2bde",
   "metadata": {},
   "outputs": [],
   "source": [
    "test_1 = data.groupby([pd.Grouper(key=\"實際出貨日\", freq=\"M\"), \"客戶名稱\"]).size().reset_index()[[\"實際出貨日\", \"客戶名稱\"]].drop_duplicates()"
   ]
  },
  {
   "cell_type": "code",
   "execution_count": null,
   "id": "bb310e97-f749-4db9-ad06-2f677a0a1ded",
   "metadata": {},
   "outputs": [],
   "source": [
    "test_1"
   ]
  },
  {
   "cell_type": "code",
   "execution_count": null,
   "id": "5b035b36-f1ac-4fe0-86d0-d7649e640888",
   "metadata": {},
   "outputs": [],
   "source": [
    "test_2 = data.groupby([pd.Grouper(key=\"實際出貨日\", freq=\"M\"), \"客戶名稱\"])[[\"營業額\", \"銷售數量\"]].sum()"
   ]
  },
  {
   "cell_type": "code",
   "execution_count": null,
   "id": "0f2d1936-4b1a-41a6-ae87-80d8554918eb",
   "metadata": {},
   "outputs": [],
   "source": [
    "test_3 = test_1.merge(test_2, on=[\"實際出貨日\", \"客戶名稱\"])"
   ]
  },
  {
   "cell_type": "code",
   "execution_count": null,
   "id": "08ca28fe-c126-4e3b-b649-e46e9f1199cf",
   "metadata": {},
   "outputs": [],
   "source": [
    "last_buy = data[\"實際出貨日\"].max()"
   ]
  },
  {
   "cell_type": "code",
   "execution_count": null,
   "id": "c75740f8-b4e4-4bb2-853e-3dd767e74961",
   "metadata": {},
   "outputs": [],
   "source": [
    "rfmTable = test_3.groupby([\"客戶名稱\"]).agg({\"實際出貨日\": lambda x: (last_buy - x.max()).days, \"客戶名稱\": lambda x: len(x), \"營業額\": lambda x: x.sum(), \"銷售數量\": lambda x: x.sum()})"
   ]
  },
  {
   "cell_type": "code",
   "execution_count": null,
   "id": "fd8c56ec-f4e6-457c-9a7a-7d936457459c",
   "metadata": {},
   "outputs": [],
   "source": [
    "# rfmTable = data.groupby([\"通路\", \"客戶名稱\"]).agg({\"實際出貨日\": lambda x: (last_buy - x.max()).days, \"訂單單號\": lambda x: len(x), \"營業額\": lambda x: x.sum(), \"銷售數量\": lambda x: x.sum()})"
   ]
  },
  {
   "cell_type": "code",
   "execution_count": null,
   "id": "17518fba-505e-47d7-882d-8ee16e7c13ce",
   "metadata": {},
   "outputs": [],
   "source": [
    "# rfmTable.rename(columns={\"實際出貨日\": \"recency\", \"訂單單號\": \"frequency\", \"營業額\": \"amount\", \"銷售數量\": \"volume\"}, inplace=True)"
   ]
  },
  {
   "cell_type": "code",
   "execution_count": null,
   "id": "ca1a5ab9-16e0-4670-b5b5-2ea4d09e2a72",
   "metadata": {},
   "outputs": [],
   "source": [
    "rfmTable[\"實際出貨日\"] = rfmTable[\"實際出貨日\"].astype(int)"
   ]
  },
  {
   "cell_type": "code",
   "execution_count": null,
   "id": "9d9233ba-7301-4399-8cfc-c000500ff34f",
   "metadata": {},
   "outputs": [],
   "source": [
    "rfmTable.rename(columns={\"實際出貨日\": \"recency\", \"客戶名稱\": \"frequency\", \"營業額\": \"amount\", \"銷售數量\": \"volume\"}, inplace=True)"
   ]
  },
  {
   "cell_type": "markdown",
   "id": "8e29ad17",
   "metadata": {},
   "source": [
    "### 數據前處理後為四個欄位\n",
    "1. Recency(代表客戶最後一次購買距離數據裡面最後面的日期4/30)\n",
    "2. Frequncy(代表客戶購買頻率，扣除掉前面的說明，就是客戶40個月的區間有幾個月有下過訂單)\n",
    "3. Amount(代表客戶在數據區間中累計的營業額貢獻)\n",
    "4. Volume(代表客戶在數據區間中累計的條數）"
   ]
  },
  {
   "cell_type": "code",
   "execution_count": null,
   "id": "f8296f3f-7b93-479f-8141-d0edccf68dce",
   "metadata": {},
   "outputs": [],
   "source": [
    "rfmTable"
   ]
  },
  {
   "cell_type": "code",
   "execution_count": null,
   "id": "706a0cb8-23d4-43eb-b1e1-f5ae7ad48c90",
   "metadata": {},
   "outputs": [],
   "source": [
    "quantiles = rfmTable.quantile(q=[0.2, 0.4, 0.6, 0.8])\n",
    "quantiles = quantiles.to_dict()"
   ]
  },
  {
   "cell_type": "markdown",
   "id": "9d3bc474",
   "metadata": {},
   "source": [
    "### 按照每個特徵值的20%，40%，60%，80%的值來做區間分佈"
   ]
  },
  {
   "cell_type": "code",
   "execution_count": null,
   "id": "6112f9df-4c59-438d-b734-cc16b8620461",
   "metadata": {},
   "outputs": [],
   "source": [
    "quantiles"
   ]
  },
  {
   "cell_type": "code",
   "execution_count": null,
   "id": "a1aa9c94-9c7c-434a-a621-03b87a9e65eb",
   "metadata": {},
   "outputs": [],
   "source": [
    "rfmSegmentation = rfmTable.copy()"
   ]
  },
  {
   "cell_type": "code",
   "execution_count": null,
   "id": "b6e03f23-74fd-435c-a9a9-027f63b1d51d",
   "metadata": {},
   "outputs": [],
   "source": [
    "# Arguments (x = value, p = recency, monetary_value, frequency, k = quartiles dict)\n",
    "def RClass(x,p,d):\n",
    "    if x <= d[p][0.2]:\n",
    "        return 5\n",
    "    elif x <= d[p][0.4]:\n",
    "        return 4\n",
    "    elif x <= d[p][0.6]: \n",
    "        return 3\n",
    "    elif x <=d[p][0.8]:\n",
    "        return 2\n",
    "    else:\n",
    "        return 1\n",
    "    \n",
    "# Arguments (x = value, p = recency, monetary_value, frequency, k = quartiles dict)\n",
    "def FMClass(x,p,d):\n",
    "    if x <= d[p][0.2]:\n",
    "        return 1\n",
    "    elif x <= d[p][0.4]:\n",
    "        return 2\n",
    "    elif x <= d[p][0.6]: \n",
    "        return 3\n",
    "    elif x <= d[p][0.8]:\n",
    "        return 4\n",
    "    else:\n",
    "        return 5"
   ]
  },
  {
   "cell_type": "code",
   "execution_count": null,
   "id": "bb255955-021a-4c4b-960d-ed290f727cec",
   "metadata": {},
   "outputs": [],
   "source": [
    "rfmSegmentation['R_Quartile'] = rfmSegmentation['recency'].apply(RClass, args=('recency',quantiles,))\n",
    "rfmSegmentation['F_Quartile'] = rfmSegmentation['frequency'].apply(FMClass, args=('frequency',quantiles,))\n",
    "rfmSegmentation['M_Quartile'] = rfmSegmentation['amount'].apply(FMClass, args=('amount',quantiles,))\n",
    "rfmSegmentation[\"V_Quartile\"] = rfmSegmentation[\"volume\"].apply(FMClass, args=(\"volume\", quantiles,))"
   ]
  },
  {
   "cell_type": "code",
   "execution_count": null,
   "id": "07cb5a38-3baa-4c44-978d-76302ddfec02",
   "metadata": {},
   "outputs": [],
   "source": [
    "rfmSegmentation"
   ]
  },
  {
   "cell_type": "code",
   "execution_count": null,
   "id": "74567e97-7a44-4f64-862e-e9b35eb1ebc5",
   "metadata": {},
   "outputs": [],
   "source": [
    "rfmSegmentation[\"RFMClass\"] = rfmSegmentation[\"R_Quartile\"] + rfmSegmentation[\"F_Quartile\"] + rfmSegmentation[\"M_Quartile\"] + rfmSegmentation[\"V_Quartile\"]"
   ]
  },
  {
   "cell_type": "code",
   "execution_count": null,
   "id": "078d5e6f-f058-4396-80e7-e974b34a28b4",
   "metadata": {},
   "outputs": [],
   "source": [
    "bins = [3, 8, 12, 16, 20]\n",
    "rfmSegmentation[\"客戶等級\"] = pd.cut(rfmSegmentation[\"RFMClass\"], bins, labels=[\"C\", \"B\", \"A\", \"S\"])"
   ]
  },
  {
   "cell_type": "code",
   "execution_count": null,
   "id": "7968cde0",
   "metadata": {},
   "outputs": [],
   "source": [
    "### 將客戶手動分為4個群組"
   ]
  },
  {
   "cell_type": "code",
   "execution_count": null,
   "id": "c68a0914-1af8-40e9-b4a8-4c04cbffebdf",
   "metadata": {},
   "outputs": [],
   "source": [
    "rfmSegmentation"
   ]
  },
  {
   "cell_type": "markdown",
   "id": "24599907-3c12-46fa-8b82-9ed764731b52",
   "metadata": {},
   "source": [
    "## K-means分群"
   ]
  },
  {
   "cell_type": "code",
   "execution_count": null,
   "id": "78a2b8eb-dbd3-4919-91a2-0ef5cf75280d",
   "metadata": {},
   "outputs": [],
   "source": [
    "rfmSegmentation_k = rfmSegmentation.copy().reset_index()"
   ]
  },
  {
   "cell_type": "code",
   "execution_count": null,
   "id": "01db8e6a-a528-498a-82b7-3ebd8d5d95e7",
   "metadata": {},
   "outputs": [],
   "source": [
    "rfmSegmentation_k"
   ]
  },
  {
   "cell_type": "code",
   "execution_count": null,
   "id": "97a8b20f-b836-48d2-8797-24b72f445e9d",
   "metadata": {},
   "outputs": [],
   "source": [
    "sc_customers = rfmSegmentation_k"
   ]
  },
  {
   "cell_type": "code",
   "execution_count": null,
   "id": "7c8cc57e-8ee1-4aef-969a-0e12795bf417",
   "metadata": {},
   "outputs": [],
   "source": [
    "sc_customers = sc_customers[[\"客戶名稱\", \"R_Quartile\", \"F_Quartile\", \"M_Quartile\", \"V_Quartile\"]]"
   ]
  },
  {
   "cell_type": "code",
   "execution_count": null,
   "id": "906eee3f-0384-461e-a26e-cba626597b1c",
   "metadata": {},
   "outputs": [],
   "source": [
    "sc_customers"
   ]
  },
  {
   "cell_type": "code",
   "execution_count": null,
   "id": "92429cb9-1417-4ac2-9967-033d1f8ebf67",
   "metadata": {},
   "outputs": [],
   "source": [
    "from sklearn.cluster import KMeans"
   ]
  },
  {
   "cell_type": "code",
   "execution_count": null,
   "id": "5f8e1125-f2e7-4229-aa6c-39df328e3db7",
   "metadata": {},
   "outputs": [],
   "source": [
    "test = sc_customers.drop(sc_customers.columns[0], axis=1)"
   ]
  },
  {
   "cell_type": "code",
   "execution_count": null,
   "id": "93d88f7f-92eb-41ad-b167-91bc61833bd1",
   "metadata": {},
   "outputs": [],
   "source": [
    "wcss = []\n",
    "for i in range(1,30):\n",
    "    kmeans = KMeans(n_clusters=i, init='k-means++', random_state=0)\n",
    "    kmeans.fit(test)\n",
    "    wcss.append(kmeans.inertia_)"
   ]
  },
  {
   "cell_type": "markdown",
   "id": "dd0b8039-e112-415d-964c-f14f1991101f",
   "metadata": {},
   "source": [
    "## 損失函數圖"
   ]
  },
  {
   "cell_type": "code",
   "execution_count": null,
   "id": "6a12acdf-eb79-4eb1-babb-ed12552d0080",
   "metadata": {},
   "outputs": [],
   "source": [
    "%matplotlib inline\n",
    "import matplotlib.pyplot as plt \n",
    "\n",
    "plt.plot(range(1,30), wcss, marker='o')\n",
    "plt.title('Elbow graph')\n",
    "plt.xlabel('Cluster number')\n",
    "plt.ylabel('WCSS')\n",
    "plt.show()"
   ]
  },
  {
   "cell_type": "markdown",
   "id": "80713d2b-ba92-4761-af20-53243fc85759",
   "metadata": {},
   "source": [
    "## 以損失函數來看分8群左右就已經基本可以反應了"
   ]
  },
  {
   "cell_type": "code",
   "execution_count": null,
   "id": "68a31822-1a07-4228-b2a1-7120fcd98e4e",
   "metadata": {},
   "outputs": [],
   "source": [
    "kmeans = KMeans(n_clusters=8, init='k-means++', random_state=0)\n",
    "sc_customers_2=sc_customers.drop(sc_customers.columns[0], axis=1)\n",
    "sc_customers['clusters'] = kmeans.fit_predict(sc_customers_2)\n",
    "sc_customers.tail(10)"
   ]
  },
  {
   "cell_type": "code",
   "execution_count": null,
   "id": "12e1ea15-2746-468b-aa47-21d08f6d3d87",
   "metadata": {},
   "outputs": [],
   "source": [
    "sc_customers_2.head(10)"
   ]
  },
  {
   "cell_type": "markdown",
   "id": "f9c0a76b-04fb-4433-8c56-3adcf8084843",
   "metadata": {},
   "source": [
    "## 檢查最佳的是在第幾群，可以看出最佳在第二群"
   ]
  },
  {
   "cell_type": "code",
   "execution_count": null,
   "id": "0f6d1408-1af6-409f-a19d-0bf40b0adc51",
   "metadata": {},
   "outputs": [],
   "source": [
    "round(pd.DataFrame(kmeans.cluster_centers_),2)"
   ]
  },
  {
   "cell_type": "code",
   "execution_count": null,
   "id": "d3de58ea-ce9e-4cf3-ae46-f1075d7d91b6",
   "metadata": {},
   "outputs": [],
   "source": [
    "kmeans_result = round(pd.DataFrame(kmeans.cluster_centers_),2)"
   ]
  },
  {
   "cell_type": "code",
   "execution_count": null,
   "id": "307b433b-b8d6-4849-b6ff-44d4b633971e",
   "metadata": {},
   "outputs": [],
   "source": [
    "kmeans_result[\"score\"] = kmeans_result.sum(axis=1)"
   ]
  },
  {
   "cell_type": "code",
   "execution_count": null,
   "id": "d8b9937f-93aa-4882-9fa4-12b1ea070e54",
   "metadata": {},
   "outputs": [],
   "source": [
    "kmeans_result"
   ]
  },
  {
   "cell_type": "code",
   "execution_count": null,
   "id": "8d1bb7e1-faf6-4384-8f04-35605a6f640a",
   "metadata": {},
   "outputs": [],
   "source": [
    "kmeans_rank_dict = {2: \"VIP\", 4: \"S\", 6: \"A\", 0: \"B\", 7: \"C\", 3: \"D\", 5: \"E\", 1: \"F\"}"
   ]
  },
  {
   "cell_type": "code",
   "execution_count": null,
   "id": "b1cdd666-f862-45c3-9fdf-2e35e0c56755",
   "metadata": {},
   "outputs": [],
   "source": [
    "sc_customers[\"客戶等級\"] = sc_customers[\"clusters\"].map(kmeans_rank_dict)"
   ]
  },
  {
   "cell_type": "code",
   "execution_count": null,
   "id": "7fcafaf3-5527-4d28-aca4-b6f2353baa2f",
   "metadata": {},
   "outputs": [],
   "source": [
    "cluster_result = sc_customers"
   ]
  },
  {
   "cell_type": "code",
   "execution_count": null,
   "id": "13abaa8f-d78c-4976-a335-d9d6a1aae482",
   "metadata": {},
   "outputs": [],
   "source": [
    "cluster_result"
   ]
  },
  {
   "cell_type": "code",
   "execution_count": null,
   "id": "795e2ea2-ccc0-4764-800c-35e7ca71e0b8",
   "metadata": {},
   "outputs": [],
   "source": [
    "rfmSegmentation_k.columns"
   ]
  },
  {
   "cell_type": "code",
   "execution_count": null,
   "id": "2782a89a-b507-4b2c-9cf9-fe292c5a21ad",
   "metadata": {},
   "outputs": [],
   "source": [
    "final_result = sc_customers.merge(rfmSegmentation_k, on=['客戶名稱', 'R_Quartile', 'F_Quartile', 'M_Quartile', 'V_Quartile'])"
   ]
  },
  {
   "cell_type": "code",
   "execution_count": null,
   "id": "5bac25b7-19c1-467f-9331-1dc1959747e8",
   "metadata": {},
   "outputs": [],
   "source": [
    "final_result.to_excel(r\"C:\\Users\\kc.hsu\\Desktop\\kmeans_rfm_model.xlsx\", index=False)"
   ]
  },
  {
   "cell_type": "code",
   "execution_count": null,
   "id": "b620e653-6a59-49dc-af94-4c193e99d7a6",
   "metadata": {},
   "outputs": [],
   "source": [
    "import plotly.express as px\n",
    "import plotly\n",
    "plotly.offline.init_notebook_mode()"
   ]
  },
  {
   "cell_type": "code",
   "execution_count": null,
   "id": "5c94b955-47d2-45d8-a9c9-e37b8ade12e9",
   "metadata": {},
   "outputs": [],
   "source": [
    "k_means_plot = px.scatter_3d(final_result, x=\"recency\", y=\"amount\", z=\"frequency\", color=\"客戶等級_x\", log_y=True, log_x=True, height=1080, title=\"K-means分群\", hover_data=[\"客戶名稱\"])\n",
    "k_means_plot.show()"
   ]
  },
  {
   "cell_type": "code",
   "execution_count": null,
   "id": "d51febad-2f72-4212-b30e-8788540d77be",
   "metadata": {},
   "outputs": [],
   "source": [
    "manual_cluster_plot = px.scatter_3d(final_result, x=\"recency\", y=\"amount\", z=\"frequency\", color=\"客戶等級_y\", log_y=True, log_x=True, height=1080, title=\"人工分群\")\n",
    "manual_cluster_plot.show()"
   ]
  },
  {
   "cell_type": "code",
   "execution_count": null,
   "id": "ed468bd6-95ab-44d8-b673-697465676ae0",
   "metadata": {},
   "outputs": [],
   "source": []
  }
 ],
 "metadata": {
  "kernelspec": {
   "display_name": "Python 3 (ipykernel)",
   "language": "python",
   "name": "python3"
  },
  "language_info": {
   "codemirror_mode": {
    "name": "ipython",
    "version": 3
   },
   "file_extension": ".py",
   "mimetype": "text/x-python",
   "name": "python",
   "nbconvert_exporter": "python",
   "pygments_lexer": "ipython3",
   "version": "3.10.6"
  }
 },
 "nbformat": 4,
 "nbformat_minor": 5
}
