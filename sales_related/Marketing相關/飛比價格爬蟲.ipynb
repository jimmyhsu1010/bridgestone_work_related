{
 "cells": [
  {
   "cell_type": "code",
   "execution_count": null,
   "id": "bdd59f61-f30a-4fff-b808-6d76903ccfed",
   "metadata": {},
   "outputs": [],
   "source": [
    "import requests\n",
    "from selectolax.parser import HTMLParser\n",
    "import pandas as pd\n",
    "pd.set_option(\"display.max_columns\", None)\n",
    "pd.set_option(\"mode.chained_assignment\", None)\n",
    "import warnings\n",
    "warnings.filterwarnings('ignore')"
   ]
  },
  {
   "cell_type": "markdown",
   "id": "09015187-f35e-4141-8ec9-dbfa6932f975",
   "metadata": {
    "tags": []
   },
   "source": [
    "## 正文開始\n",
    "1. 確認總共有幾個頁面來設定需要抓多少\n",
    "2. 確認title，價格，店家來源\n",
    "3. 寫入pandas"
   ]
  },
  {
   "cell_type": "code",
   "execution_count": null,
   "id": "7b78d611-fb22-432c-90d0-5a8f23b8df70",
   "metadata": {},
   "outputs": [],
   "source": [
    "class Feebee:\n",
    "    headers = {\"User-Agent\": \"Mozilla/5.0 (Windows NT 10.0; Win64; x64) AppleWebKit/537.36 (KHTML, like Gecko) Chrome/107.0.0.0 Safari/537.36\"}\n",
    "    init_url = \"https://feebee.com.tw/all/?inventoryOn=0&ptab=1&sort=d&mode=l&best=&cat%5B%5D=3086&pl=&ph=&q=%E8%BC%AA%E8%83%8E&pr%5B%5D=24hpchome&pr%5B%5D=momoshop&pr%5B%5D=etmall&pr%5B%5D=umall&pr%5B%5D=car1&pr%5B%5D=secar\"\n",
    "    \n",
    "    def __init__(self):\n",
    "        self.page_num = self.get_pageNum()\n",
    "        \n",
    "    def get_response(self, url):\n",
    "        html = requests.get(url, headers=headers).text\n",
    "        return html\n",
    "        \n",
    "    def get_pageNum(self):\n",
    "        init_html = self.get_response(init_url)\n",
    "        parser = HTMLParser(init_html)\n",
    "        item_nums = int(parser.css_first(\"em#result_total\").text().replace(\",\", \"\"))\n",
    "        # print(item_nums)\n",
    "        page_nums = (item_nums / 37) + 1\n",
    "        return int(page_nums)\n",
    "    \n",
    "    def parse_item(self, html):\n",
    "        df = pd.DataFrame(columns=[\"價格來源\", \"名稱規格\", \"價格\"])\n",
    "        parser = HTMLParser(html)\n",
    "        for store, title, price in zip(parser.css(\"span.shop\"), parser.css(\"h3.large\"), parser.css(\"span.price.ellipsis.xlarge\")):\n",
    "            print(store.text().strip(), title.text(), price.text().replace(\",\", \"\"))\n",
    "            data = pd.Series([store.text().strip(), title.text(), price.text().replace(\",\", \"\")], index=[\"價格來源\", \"名稱規格\", \"價格\"])\n",
    "            df = df.append(data, ignore_index=True)\n",
    "        # print(df)\n",
    "        return df\n",
    "    "
   ]
  },
  {
   "cell_type": "code",
   "execution_count": null,
   "id": "e458840b-a778-4b6a-a1e2-edefbd61377f",
   "metadata": {},
   "outputs": [],
   "source": [
    "df_list = []\n",
    "crawler = Feebee()\n",
    "page_nums = crawler.page_num\n",
    "for page in range(1, page_nums + 1):\n",
    "    print(\"第\" + str(page) + \"頁\")\n",
    "    url = \"https://feebee.com.tw/all/%E8%BC%AA%E8%83%8E/?cat[]=3086&pr[]=24hpchome&pr[]=momoshop&pr[]=etmall&pr[]=umall&pr[]=car1&pr[]=secar&ptab=1&page=\"  + str(page)\n",
    "    html = crawler.get_response(url)\n",
    "    data = crawler.parse_item(html)\n",
    "    df_list.append(data)\n",
    "result = pd.concat(df_list).reset_index(drop=True).drop_duplicates()"
   ]
  },
  {
   "cell_type": "code",
   "execution_count": null,
   "id": "21746796-9c3c-493e-8015-e911e577a207",
   "metadata": {},
   "outputs": [],
   "source": [
    "result = result.drop_duplicates()"
   ]
  },
  {
   "cell_type": "code",
   "execution_count": null,
   "id": "086eb1de-317f-4c1d-907d-06e3782d2647",
   "metadata": {},
   "outputs": [],
   "source": [
    "result.to_excel(r\"C:\\Users\\kc.hsu\\Desktop\\tests.xlsx\", index=False)"
   ]
  },
  {
   "cell_type": "code",
   "execution_count": null,
   "id": "309ac473-47ca-4505-ad89-9ac8a9becfcd",
   "metadata": {},
   "outputs": [],
   "source": []
  }
 ],
 "metadata": {
  "kernelspec": {
   "display_name": "python_env",
   "language": "python",
   "name": "python3"
  },
  "language_info": {
   "codemirror_mode": {
    "name": "ipython",
    "version": 3
   },
   "file_extension": ".py",
   "mimetype": "text/x-python",
   "name": "python",
   "nbconvert_exporter": "python",
   "pygments_lexer": "ipython3",
   "version": "3.10.6"
  },
  "vscode": {
   "interpreter": {
    "hash": "0441e2ad242e60eb4d55752f5dea0f12731bd2d50ab9154f01b1a5615d7cc10b"
   }
  }
 },
 "nbformat": 4,
 "nbformat_minor": 5
}
