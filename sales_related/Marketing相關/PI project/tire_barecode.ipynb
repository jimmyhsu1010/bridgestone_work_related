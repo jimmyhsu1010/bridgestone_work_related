{
 "cells": [
  {
   "cell_type": "code",
   "execution_count": 8,
   "metadata": {},
   "outputs": [],
   "source": [
    "import tkinter as tk\n",
    "from tkinter import filedialog\n",
    "import pandas as pd\n",
    "import pyodbc\n",
    "import numpy as np\n",
    "import os\n",
    "from pyzbar import pyzbar\n",
    "from PIL import Image, ImageDraw, ImageFont, ImageFilter\n",
    "# import cv2\n",
    "from aspose.barcode import barcoderecognition\n",
    "from dbr import *"
   ]
  },
  {
   "cell_type": "code",
   "execution_count": 82,
   "metadata": {},
   "outputs": [],
   "source": [
    "root = tk.Tk()\n",
    "root.withdraw()\n",
    "files = filedialog.askopenfilenames()"
   ]
  },
  {
   "cell_type": "code",
   "execution_count": 83,
   "metadata": {},
   "outputs": [],
   "source": [
    "for path in files:\n",
    "    img = Image.open(path).filter(ImageFilter.GaussianBlur(2))\n",
    "    \n",
    "    draw = ImageDraw.Draw(img)\n",
    "\n",
    "    font = ImageFont.truetype(\"C:/Windows/Fonts/Calibri.ttf\", size=100)\n",
    "\n",
    "    for d in pyzbar.decode(img):\n",
    "        draw.rectangle(((d.rect.left, d.rect.top), (d.rect.left + d.rect.width, d.rect.top + d.rect.height)),\n",
    "                    outline=(0, 0, 255), width=3)\n",
    "        draw.polygon(d.polygon, outline=(0, 255, 0), width=3)\n",
    "        draw.text((d.rect.left, d.rect.top + d.rect.height), d.data.decode(),\n",
    "                (255, 0, 0), font=font)\n",
    "    img = img.resize((768, 768))\n",
    "    img.show()\n",
    "    # img.save('./barcode_qrcode_pillow.jpg')"
   ]
  },
  {
   "attachments": {},
   "cell_type": "markdown",
   "metadata": {},
   "source": [
    "## ASPOSE barcode detector\n",
    "\n",
    "https://products.aspose.com/total/python-net/recognize-barcode/code39/"
   ]
  },
  {
   "cell_type": "code",
   "execution_count": 60,
   "metadata": {},
   "outputs": [
    {
     "name": "stdout",
     "output_type": "stream",
     "text": [
      "J0AZHY3\n"
     ]
    }
   ],
   "source": [
    "reader = barcoderecognition.BarCodeReader(\"./barcode3.jpg\", barcoderecognition.DecodeType.CODE_39_STANDARD)\n",
    "recognized_results = reader.read_bar_codes()\n",
    "for barcode in recognized_results:\n",
    "    print(barcode.code_text)"
   ]
  },
  {
   "attachments": {},
   "cell_type": "markdown",
   "metadata": {},
   "source": [
    "## Dynamsoft dbr barcode detector\n",
    "\n",
    "https://github.com/Dynamsoft/barcode-reader-python-samples/blob/master/samples/image-decoding.py"
   ]
  },
  {
   "cell_type": "code",
   "execution_count": 13,
   "metadata": {},
   "outputs": [],
   "source": [
    "# get the picture\n",
    "def get_photo():\n",
    "    root = tk.Tk()\n",
    "    root.withdraw()\n",
    "    path = filedialog.askopenfilename()\n",
    "    path = \"../\" + path.split(\"/\")[-2:][0] + \"/\" + path.split(\"/\")[-2:][-1]\n",
    "    return path"
   ]
  },
  {
   "cell_type": "code",
   "execution_count": 24,
   "metadata": {},
   "outputs": [],
   "source": [
    "def detectBarcode(pic_path):\n",
    "    error = BarcodeReader.init_license(\"t0073oQAAAFWxk2YxRpwXy62E0z2cGPuWUca1mhC6dbsiqIzy3i5ropGhN9cEE7uRc2jjOKncUzrtZrpquVYLTT7SZ15FwlneArgjAg==\")\n",
    "    if error[0] != EnumErrorCode.DBR_OK:\n",
    "        print(\"License error: \"+ error[1])\n",
    "    dbr = BarcodeReader()\n",
    "    image_path = pic_path\n",
    "    result = dbr.decode_file(image_path)\n",
    "    for res in result:\n",
    "        if res.barcode_text:\n",
    "            content = res.barcode_text\n",
    "    return content\n",
    "\n",
    "# i = 0\n",
    "# for res in result:\n",
    "#     barcode_format = res.barcode_format_string\n",
    "#     print(\"Barcode \" + str(i) + \":\" + barcode_format + \",\" + res.barcode_text)\n",
    "#     i += 1"
   ]
  },
  {
   "cell_type": "code",
   "execution_count": 25,
   "metadata": {},
   "outputs": [],
   "source": [
    "path = get_photo()"
   ]
  },
  {
   "cell_type": "code",
   "execution_count": 26,
   "metadata": {},
   "outputs": [
    {
     "data": {
      "text/plain": [
       "'[Attention(exceptionCode:-20111)] J*AZ**3'"
      ]
     },
     "execution_count": 26,
     "metadata": {},
     "output_type": "execute_result"
    }
   ],
   "source": [
    "detectBarcode(path)"
   ]
  },
  {
   "attachments": {},
   "cell_type": "markdown",
   "metadata": {},
   "source": [
    "## barcode raw data整理"
   ]
  },
  {
   "cell_type": "code",
   "execution_count": 14,
   "metadata": {},
   "outputs": [],
   "source": [
    "def get_path():\n",
    "    root = tk.Tk()\n",
    "    root.withdraw()\n",
    "    path = filedialog.askopenfilename()\n",
    "    return path"
   ]
  },
  {
   "cell_type": "code",
   "execution_count": 15,
   "metadata": {},
   "outputs": [],
   "source": [
    "path = get_path()"
   ]
  },
  {
   "cell_type": "code",
   "execution_count": 16,
   "metadata": {},
   "outputs": [],
   "source": [
    "dfs = pd.read_excel(path, None)"
   ]
  },
  {
   "cell_type": "code",
   "execution_count": 17,
   "metadata": {},
   "outputs": [
    {
     "data": {
      "text/plain": [
       "dict_keys(['INVOICE', 'INV-GCOS', 'Y2018', 'Y2019', 'Y2020', 'Y2021', 'Y2022', 'Y2023'])"
      ]
     },
     "execution_count": 17,
     "metadata": {},
     "output_type": "execute_result"
    }
   ],
   "source": [
    "dfs.keys()"
   ]
  },
  {
   "cell_type": "code",
   "execution_count": 18,
   "metadata": {},
   "outputs": [],
   "source": [
    "gcos_dict = dict(zip(dfs[\"INV-GCOS\"][\"GCOS_No\"], dfs[\"INV-GCOS\"][\"InvoiceNo\"]))"
   ]
  },
  {
   "cell_type": "code",
   "execution_count": 19,
   "metadata": {},
   "outputs": [],
   "source": [
    "invoice = dfs[\"INVOICE\"]\n",
    "invoice_dict = dict(zip(invoice[\"InvoiceNo\"], list(zip(invoice[\"LoadingDate\"], invoice[\"ETA\"]))))"
   ]
  },
  {
   "cell_type": "code",
   "execution_count": 20,
   "metadata": {},
   "outputs": [],
   "source": [
    "result = pd.concat([dfs[i] for i in dfs.keys() if \"Y\" in i])"
   ]
  },
  {
   "cell_type": "code",
   "execution_count": 21,
   "metadata": {},
   "outputs": [],
   "source": [
    "result[\"GCOS_NO\"] = result[\"GCOS_NO\"].str.strip()"
   ]
  },
  {
   "cell_type": "code",
   "execution_count": 22,
   "metadata": {},
   "outputs": [],
   "source": [
    "result[\"GT_CODE\"] = result[\"GT_CODE\"].str.strip()"
   ]
  },
  {
   "cell_type": "code",
   "execution_count": 23,
   "metadata": {},
   "outputs": [],
   "source": [
    "result[\"INVOICE_NO\"] = result[\"GCOS_NO\"].map(gcos_dict)"
   ]
  },
  {
   "cell_type": "code",
   "execution_count": 24,
   "metadata": {},
   "outputs": [],
   "source": [
    "result[\"INVOICE_INFO\"] = result[\"INVOICE_NO\"].map(invoice_dict)"
   ]
  },
  {
   "cell_type": "code",
   "execution_count": 25,
   "metadata": {},
   "outputs": [],
   "source": [
    "result[[\"LOADING_DATE\", \"ETA\"]] = pd.DataFrame(result[\"INVOICE_INFO\"].tolist(), index=result.index, columns=[\"LOADING_DATE\", \"ETA\"])"
   ]
  },
  {
   "cell_type": "code",
   "execution_count": 26,
   "metadata": {},
   "outputs": [],
   "source": [
    "result = result.astype({\"SAVE_DATE\": \"datetime64[D]\", \"ETA\": \"datetime64[D]\"})"
   ]
  },
  {
   "cell_type": "code",
   "execution_count": 27,
   "metadata": {},
   "outputs": [],
   "source": [
    "result = result[['SAVE_DATE', 'GCOS_NO', 'GT_CODE', 'BARCODE', 'SERIAL', 'YEAR',\n",
    "       'INVOICE_NO', 'LOADING_DATE', 'ETA']]"
   ]
  },
  {
   "cell_type": "code",
   "execution_count": 29,
   "metadata": {},
   "outputs": [],
   "source": [
    "path = get_path()"
   ]
  },
  {
   "cell_type": "code",
   "execution_count": 33,
   "metadata": {},
   "outputs": [],
   "source": [
    "ref_data = pd.read_excel(path, header=1)"
   ]
  },
  {
   "cell_type": "code",
   "execution_count": 36,
   "metadata": {},
   "outputs": [],
   "source": [
    "ref_data = ref_data[ref_data[\"P.Code\"].notna()]"
   ]
  },
  {
   "cell_type": "code",
   "execution_count": 44,
   "metadata": {},
   "outputs": [],
   "source": [
    "ref_data = ref_data.astype({\"P.Code\": str, \"Code\": str, \"Section\": str, \"Rim\": str, \"Pattern\": str})"
   ]
  },
  {
   "cell_type": "code",
   "execution_count": 49,
   "metadata": {},
   "outputs": [],
   "source": [
    "ref_data = ref_data[['P.Code', 'Code', 'Section', 'Rim', 'Pattern']]"
   ]
  },
  {
   "cell_type": "code",
   "execution_count": 55,
   "metadata": {},
   "outputs": [
    {
     "name": "stderr",
     "output_type": "stream",
     "text": [
      "C:\\Users\\kc.hsu\\AppData\\Local\\Temp\\ipykernel_16244\\1245005433.py:2: SettingWithCopyWarning: \n",
      "A value is trying to be set on a copy of a slice from a DataFrame.\n",
      "Try using .loc[row_indexer,col_indexer] = value instead\n",
      "\n",
      "See the caveats in the documentation: https://pandas.pydata.org/pandas-docs/stable/user_guide/indexing.html#returning-a-view-versus-a-copy\n",
      "  ref_data[column] = ref_data[column].map(lambda x: x.strip())\n"
     ]
    }
   ],
   "source": [
    "for column in ref_data.columns:\n",
    "    ref_data[column] = ref_data[column].map(lambda x: x.strip())"
   ]
  },
  {
   "cell_type": "code",
   "execution_count": 58,
   "metadata": {},
   "outputs": [],
   "source": [
    "ref_data[\"Size\"] = ref_data[\"Section\"] + ref_data[\"Rim\"]"
   ]
  },
  {
   "cell_type": "code",
   "execution_count": 63,
   "metadata": {},
   "outputs": [],
   "source": [
    "ref_data[\"values\"] = ref_data[[\"Code\", \"Size\", \"Pattern\"]].apply(tuple, axis=1)"
   ]
  },
  {
   "cell_type": "code",
   "execution_count": 66,
   "metadata": {},
   "outputs": [],
   "source": [
    "gt_code_dict = dict(zip(ref_data[\"P.Code\"], ref_data[\"values\"]))"
   ]
  },
  {
   "cell_type": "code",
   "execution_count": 68,
   "metadata": {},
   "outputs": [],
   "source": [
    "result[\"GT_CODE\"] = result[\"GT_CODE\"].map(lambda x: x.strip())"
   ]
  },
  {
   "cell_type": "code",
   "execution_count": 71,
   "metadata": {},
   "outputs": [],
   "source": [
    "result[\"Infos\"] = result[\"GT_CODE\"].map(gt_code_dict)"
   ]
  },
  {
   "cell_type": "code",
   "execution_count": 75,
   "metadata": {},
   "outputs": [],
   "source": [
    "result[[\"PCODE\", \"Size\", \"Pattern\"]] = pd.DataFrame(result[\"Infos\"].tolist(), index=result.index, columns=[\"PCODE\", \"Size\", \"Pattern\"])"
   ]
  },
  {
   "cell_type": "code",
   "execution_count": 78,
   "metadata": {},
   "outputs": [],
   "source": [
    "result = result[['SAVE_DATE', 'GCOS_NO', 'GT_CODE', 'BARCODE', 'SERIAL', 'YEAR',\n",
    "       'INVOICE_NO', 'LOADING_DATE', 'ETA', 'PCODE', 'Size',\n",
    "       'Pattern']]"
   ]
  },
  {
   "cell_type": "code",
   "execution_count": 79,
   "metadata": {},
   "outputs": [
    {
     "data": {
      "text/html": [
       "<div>\n",
       "<style scoped>\n",
       "    .dataframe tbody tr th:only-of-type {\n",
       "        vertical-align: middle;\n",
       "    }\n",
       "\n",
       "    .dataframe tbody tr th {\n",
       "        vertical-align: top;\n",
       "    }\n",
       "\n",
       "    .dataframe thead th {\n",
       "        text-align: right;\n",
       "    }\n",
       "</style>\n",
       "<table border=\"1\" class=\"dataframe\">\n",
       "  <thead>\n",
       "    <tr style=\"text-align: right;\">\n",
       "      <th></th>\n",
       "      <th>SAVE_DATE</th>\n",
       "      <th>GCOS_NO</th>\n",
       "      <th>GT_CODE</th>\n",
       "      <th>BARCODE</th>\n",
       "      <th>SERIAL</th>\n",
       "      <th>YEAR</th>\n",
       "      <th>INVOICE_NO</th>\n",
       "      <th>LOADING_DATE</th>\n",
       "      <th>ETA</th>\n",
       "      <th>PCODE</th>\n",
       "      <th>Size</th>\n",
       "      <th>Pattern</th>\n",
       "    </tr>\n",
       "  </thead>\n",
       "  <tbody>\n",
       "    <tr>\n",
       "      <th>0</th>\n",
       "      <td>2018-08-04</td>\n",
       "      <td>GC1800007051</td>\n",
       "      <td>EG05</td>\n",
       "      <td>JHRUVTW</td>\n",
       "      <td>28</td>\n",
       "      <td>2018</td>\n",
       "      <td>8T8A09</td>\n",
       "      <td>2018-08-05</td>\n",
       "      <td>2018-08-19</td>\n",
       "      <td>TBR0J085</td>\n",
       "      <td>12R22.5</td>\n",
       "      <td>R224FZ</td>\n",
       "    </tr>\n",
       "    <tr>\n",
       "      <th>1</th>\n",
       "      <td>2018-08-04</td>\n",
       "      <td>GC1800007051</td>\n",
       "      <td>EG05</td>\n",
       "      <td>JHRUVT2</td>\n",
       "      <td>28</td>\n",
       "      <td>2018</td>\n",
       "      <td>8T8A09</td>\n",
       "      <td>2018-08-05</td>\n",
       "      <td>2018-08-19</td>\n",
       "      <td>TBR0J085</td>\n",
       "      <td>12R22.5</td>\n",
       "      <td>R224FZ</td>\n",
       "    </tr>\n",
       "    <tr>\n",
       "      <th>2</th>\n",
       "      <td>2018-08-04</td>\n",
       "      <td>GC1800007051</td>\n",
       "      <td>EG05</td>\n",
       "      <td>JHRUVTX</td>\n",
       "      <td>28</td>\n",
       "      <td>2018</td>\n",
       "      <td>8T8A09</td>\n",
       "      <td>2018-08-05</td>\n",
       "      <td>2018-08-19</td>\n",
       "      <td>TBR0J085</td>\n",
       "      <td>12R22.5</td>\n",
       "      <td>R224FZ</td>\n",
       "    </tr>\n",
       "    <tr>\n",
       "      <th>3</th>\n",
       "      <td>2018-08-04</td>\n",
       "      <td>GC1800007051</td>\n",
       "      <td>EG05</td>\n",
       "      <td>JHRUVTY</td>\n",
       "      <td>28</td>\n",
       "      <td>2018</td>\n",
       "      <td>8T8A09</td>\n",
       "      <td>2018-08-05</td>\n",
       "      <td>2018-08-19</td>\n",
       "      <td>TBR0J085</td>\n",
       "      <td>12R22.5</td>\n",
       "      <td>R224FZ</td>\n",
       "    </tr>\n",
       "    <tr>\n",
       "      <th>4</th>\n",
       "      <td>2018-08-04</td>\n",
       "      <td>GC1800007051</td>\n",
       "      <td>EG05</td>\n",
       "      <td>JHRUVTU</td>\n",
       "      <td>28</td>\n",
       "      <td>2018</td>\n",
       "      <td>8T8A09</td>\n",
       "      <td>2018-08-05</td>\n",
       "      <td>2018-08-19</td>\n",
       "      <td>TBR0J085</td>\n",
       "      <td>12R22.5</td>\n",
       "      <td>R224FZ</td>\n",
       "    </tr>\n",
       "    <tr>\n",
       "      <th>...</th>\n",
       "      <td>...</td>\n",
       "      <td>...</td>\n",
       "      <td>...</td>\n",
       "      <td>...</td>\n",
       "      <td>...</td>\n",
       "      <td>...</td>\n",
       "      <td>...</td>\n",
       "      <td>...</td>\n",
       "      <td>...</td>\n",
       "      <td>...</td>\n",
       "      <td>...</td>\n",
       "      <td>...</td>\n",
       "    </tr>\n",
       "    <tr>\n",
       "      <th>25456</th>\n",
       "      <td>2023-05-21</td>\n",
       "      <td>GC2300005618</td>\n",
       "      <td>FM32</td>\n",
       "      <td>J7XW2WS</td>\n",
       "      <td>20</td>\n",
       "      <td>2023</td>\n",
       "      <td>3T5B3V</td>\n",
       "      <td>NaT</td>\n",
       "      <td>NaT</td>\n",
       "      <td>TBR0J795</td>\n",
       "      <td>315/80R22.5</td>\n",
       "      <td>R150Z</td>\n",
       "    </tr>\n",
       "    <tr>\n",
       "      <th>25457</th>\n",
       "      <td>2023-05-21</td>\n",
       "      <td>GC2300005618</td>\n",
       "      <td>FM32</td>\n",
       "      <td>J7XW2Y3</td>\n",
       "      <td>20</td>\n",
       "      <td>2023</td>\n",
       "      <td>3T5B3V</td>\n",
       "      <td>NaT</td>\n",
       "      <td>NaT</td>\n",
       "      <td>TBR0J795</td>\n",
       "      <td>315/80R22.5</td>\n",
       "      <td>R150Z</td>\n",
       "    </tr>\n",
       "    <tr>\n",
       "      <th>25458</th>\n",
       "      <td>2023-05-21</td>\n",
       "      <td>GC2300005618</td>\n",
       "      <td>FM32</td>\n",
       "      <td>J7XW2XV</td>\n",
       "      <td>20</td>\n",
       "      <td>2023</td>\n",
       "      <td>3T5B3V</td>\n",
       "      <td>NaT</td>\n",
       "      <td>NaT</td>\n",
       "      <td>TBR0J795</td>\n",
       "      <td>315/80R22.5</td>\n",
       "      <td>R150Z</td>\n",
       "    </tr>\n",
       "    <tr>\n",
       "      <th>25459</th>\n",
       "      <td>2023-05-21</td>\n",
       "      <td>GC2300005618</td>\n",
       "      <td>FM32</td>\n",
       "      <td>J7XW2Y9</td>\n",
       "      <td>20</td>\n",
       "      <td>2023</td>\n",
       "      <td>3T5B3V</td>\n",
       "      <td>NaT</td>\n",
       "      <td>NaT</td>\n",
       "      <td>TBR0J795</td>\n",
       "      <td>315/80R22.5</td>\n",
       "      <td>R150Z</td>\n",
       "    </tr>\n",
       "    <tr>\n",
       "      <th>25460</th>\n",
       "      <td>2023-05-21</td>\n",
       "      <td>GC2300005618</td>\n",
       "      <td>FM32</td>\n",
       "      <td>J7XW2Y6</td>\n",
       "      <td>20</td>\n",
       "      <td>2023</td>\n",
       "      <td>3T5B3V</td>\n",
       "      <td>NaT</td>\n",
       "      <td>NaT</td>\n",
       "      <td>TBR0J795</td>\n",
       "      <td>315/80R22.5</td>\n",
       "      <td>R150Z</td>\n",
       "    </tr>\n",
       "  </tbody>\n",
       "</table>\n",
       "<p>365453 rows × 12 columns</p>\n",
       "</div>"
      ],
      "text/plain": [
       "       SAVE_DATE       GCOS_NO GT_CODE  BARCODE  SERIAL  YEAR INVOICE_NO  \\\n",
       "0     2018-08-04  GC1800007051    EG05  JHRUVTW      28  2018     8T8A09   \n",
       "1     2018-08-04  GC1800007051    EG05  JHRUVT2      28  2018     8T8A09   \n",
       "2     2018-08-04  GC1800007051    EG05  JHRUVTX      28  2018     8T8A09   \n",
       "3     2018-08-04  GC1800007051    EG05  JHRUVTY      28  2018     8T8A09   \n",
       "4     2018-08-04  GC1800007051    EG05  JHRUVTU      28  2018     8T8A09   \n",
       "...          ...           ...     ...      ...     ...   ...        ...   \n",
       "25456 2023-05-21  GC2300005618    FM32  J7XW2WS      20  2023     3T5B3V   \n",
       "25457 2023-05-21  GC2300005618    FM32  J7XW2Y3      20  2023     3T5B3V   \n",
       "25458 2023-05-21  GC2300005618    FM32  J7XW2XV      20  2023     3T5B3V   \n",
       "25459 2023-05-21  GC2300005618    FM32  J7XW2Y9      20  2023     3T5B3V   \n",
       "25460 2023-05-21  GC2300005618    FM32  J7XW2Y6      20  2023     3T5B3V   \n",
       "\n",
       "      LOADING_DATE        ETA     PCODE         Size Pattern  \n",
       "0       2018-08-05 2018-08-19  TBR0J085      12R22.5  R224FZ  \n",
       "1       2018-08-05 2018-08-19  TBR0J085      12R22.5  R224FZ  \n",
       "2       2018-08-05 2018-08-19  TBR0J085      12R22.5  R224FZ  \n",
       "3       2018-08-05 2018-08-19  TBR0J085      12R22.5  R224FZ  \n",
       "4       2018-08-05 2018-08-19  TBR0J085      12R22.5  R224FZ  \n",
       "...            ...        ...       ...          ...     ...  \n",
       "25456          NaT        NaT  TBR0J795  315/80R22.5   R150Z  \n",
       "25457          NaT        NaT  TBR0J795  315/80R22.5   R150Z  \n",
       "25458          NaT        NaT  TBR0J795  315/80R22.5   R150Z  \n",
       "25459          NaT        NaT  TBR0J795  315/80R22.5   R150Z  \n",
       "25460          NaT        NaT  TBR0J795  315/80R22.5   R150Z  \n",
       "\n",
       "[365453 rows x 12 columns]"
      ]
     },
     "execution_count": 79,
     "metadata": {},
     "output_type": "execute_result"
    }
   ],
   "source": [
    "result"
   ]
  },
  {
   "cell_type": "code",
   "execution_count": 199,
   "metadata": {},
   "outputs": [],
   "source": [
    "def menu():\n",
    "    os.system(\"cls\")\n",
    "    # os.system('clear')\n",
    "    print()\n",
    "    print(\"水貨查詢小幫手\")\n",
    "    print(\"---------------------------\")\n",
    "    print(\"1. 條碼檢查和履歷\")\n",
    "    print(\"2. 資料匯出\")\n",
    "    print(\"0. 結束程式\")\n",
    "    print(\"---------------------------\")"
   ]
  },
  {
   "cell_type": "code",
   "execution_count": 200,
   "metadata": {},
   "outputs": [],
   "source": [
    "def pi_detection(res):\n",
    "    if res.empty is True:\n",
    "        print(\"這條是水貨，請選購有保障的公司貨\")\n",
    "    else:\n",
    "        print(\"普利司通公司貨無誤~~~\")"
   ]
  },
  {
   "cell_type": "code",
   "execution_count": 206,
   "metadata": {},
   "outputs": [],
   "source": [
    "def check_bcode():\n",
    "    pi_list = []\n",
    "    while True:\n",
    "        # bcode = str(input(\"請輸入要查詢的BarCode:\\n\"))\n",
    "        # filter = (result[\"BARCODE\"] == bcode.upper().strip())\n",
    "        path = get_photo()\n",
    "        barcode_text = detectBarcode(path)\n",
    "        filter = (result[\"BARCODE\"] == barcode_text.upper().strip())\n",
    "        response = result[filter]\n",
    "        pi_detection(response)\n",
    "        try:\n",
    "            print(response.iloc[0, :])\n",
    "        except:\n",
    "            print(\"無輪胎履歷可以提供\")\n",
    "            # pi_list.append(bcode)\n",
    "            pi_list.append(barcode_text)\n",
    "        finally:\n",
    "            os.system(\"cls\")\n",
    "            try:\n",
    "                ans = eval(input(\"要查下一條請按[1]，結束請按任意鍵\\n\"))\n",
    "            except:\n",
    "                print(\"謝謝使用\")\n",
    "                break\n",
    "            else:\n",
    "                if ans == 1:\n",
    "                    os.system(\"cls\")\n",
    "                    continue\n",
    "                else:\n",
    "                    print(\"謝謝使用\")\n",
    "                    break\n",
    "    return pi_list\n"
   ]
  },
  {
   "cell_type": "code",
   "execution_count": 210,
   "metadata": {},
   "outputs": [
    {
     "name": "stdout",
     "output_type": "stream",
     "text": [
      "\n",
      "水貨查詢小幫手\n",
      "---------------------------\n",
      "1. 條碼檢查和履歷\n",
      "2. 資料匯出\n",
      "0. 結束程式\n",
      "---------------------------\n",
      "../PI project/liang5.jpg\n",
      "普利司通公司貨無誤~~~\n",
      "SAVE_DATE       2018-11-19 00:00:00\n",
      "GCOS_NO                GC1800011152\n",
      "GT_CODE                        NK28\n",
      "BARCODE                     J15D4Y6\n",
      "SERIAL                           45\n",
      "YEAR                           2018\n",
      "INVOICE_NO                   8TYA31\n",
      "LOADING_DATE    2018-11-17 00:00:00\n",
      "ETA             2018-12-02 00:00:00\n",
      "Name: 29800, dtype: object\n",
      "../PI project/liang6.jpg\n"
     ]
    },
    {
     "ename": "TypeError",
     "evalue": "'NoneType' object is not iterable",
     "output_type": "error",
     "traceback": [
      "\u001b[1;31m---------------------------------------------------------------------------\u001b[0m",
      "\u001b[1;31mTypeError\u001b[0m                                 Traceback (most recent call last)",
      "\u001b[1;32mc:\\Users\\kc.hsu\\Python workspace\\sales_related\\Marketing相關\\PI project\\tire_barecode.ipynb 儲存格 24\u001b[0m in \u001b[0;36m<cell line: 2>\u001b[1;34m()\u001b[0m\n\u001b[0;32m      <a href='vscode-notebook-cell:/c%3A/Users/kc.hsu/Python%20workspace/sales_related/Marketing%E7%9B%B8%E9%97%9C/PI%20project/tire_barecode.ipynb#X56sZmlsZQ%3D%3D?line=3'>4</a>\u001b[0m ans \u001b[39m=\u001b[39m \u001b[39mint\u001b[39m(\u001b[39minput\u001b[39m((\u001b[39m\"\u001b[39m\u001b[39m請輸入您的選擇：\u001b[39m\u001b[39m\\n\u001b[39;00m\u001b[39m\"\u001b[39m)))\n\u001b[0;32m      <a href='vscode-notebook-cell:/c%3A/Users/kc.hsu/Python%20workspace/sales_related/Marketing%E7%9B%B8%E9%97%9C/PI%20project/tire_barecode.ipynb#X56sZmlsZQ%3D%3D?line=4'>5</a>\u001b[0m \u001b[39mif\u001b[39;00m ans \u001b[39m==\u001b[39m \u001b[39m1\u001b[39m:\n\u001b[1;32m----> <a href='vscode-notebook-cell:/c%3A/Users/kc.hsu/Python%20workspace/sales_related/Marketing%E7%9B%B8%E9%97%9C/PI%20project/tire_barecode.ipynb#X56sZmlsZQ%3D%3D?line=5'>6</a>\u001b[0m     df \u001b[39m=\u001b[39m check_bcode()\n\u001b[0;32m      <a href='vscode-notebook-cell:/c%3A/Users/kc.hsu/Python%20workspace/sales_related/Marketing%E7%9B%B8%E9%97%9C/PI%20project/tire_barecode.ipynb#X56sZmlsZQ%3D%3D?line=6'>7</a>\u001b[0m \u001b[39melif\u001b[39;00m ans \u001b[39m==\u001b[39m \u001b[39m2\u001b[39m:\n\u001b[0;32m      <a href='vscode-notebook-cell:/c%3A/Users/kc.hsu/Python%20workspace/sales_related/Marketing%E7%9B%B8%E9%97%9C/PI%20project/tire_barecode.ipynb#X56sZmlsZQ%3D%3D?line=7'>8</a>\u001b[0m     \u001b[39mprint\u001b[39m(\u001b[39m\"\u001b[39m\u001b[39m資料輸出\u001b[39m\u001b[39m\"\u001b[39m)\n",
      "\u001b[1;32mc:\\Users\\kc.hsu\\Python workspace\\sales_related\\Marketing相關\\PI project\\tire_barecode.ipynb 儲存格 24\u001b[0m in \u001b[0;36mcheck_bcode\u001b[1;34m()\u001b[0m\n\u001b[0;32m      <a href='vscode-notebook-cell:/c%3A/Users/kc.hsu/Python%20workspace/sales_related/Marketing%E7%9B%B8%E9%97%9C/PI%20project/tire_barecode.ipynb#X56sZmlsZQ%3D%3D?line=5'>6</a>\u001b[0m path \u001b[39m=\u001b[39m get_photo()\n\u001b[0;32m      <a href='vscode-notebook-cell:/c%3A/Users/kc.hsu/Python%20workspace/sales_related/Marketing%E7%9B%B8%E9%97%9C/PI%20project/tire_barecode.ipynb#X56sZmlsZQ%3D%3D?line=6'>7</a>\u001b[0m \u001b[39mprint\u001b[39m(path)\n\u001b[1;32m----> <a href='vscode-notebook-cell:/c%3A/Users/kc.hsu/Python%20workspace/sales_related/Marketing%E7%9B%B8%E9%97%9C/PI%20project/tire_barecode.ipynb#X56sZmlsZQ%3D%3D?line=7'>8</a>\u001b[0m barcode_text \u001b[39m=\u001b[39m detectBarcode(path)\n\u001b[0;32m      <a href='vscode-notebook-cell:/c%3A/Users/kc.hsu/Python%20workspace/sales_related/Marketing%E7%9B%B8%E9%97%9C/PI%20project/tire_barecode.ipynb#X56sZmlsZQ%3D%3D?line=8'>9</a>\u001b[0m \u001b[39mfilter\u001b[39m \u001b[39m=\u001b[39m (result[\u001b[39m\"\u001b[39m\u001b[39mBARCODE\u001b[39m\u001b[39m\"\u001b[39m] \u001b[39m==\u001b[39m barcode_text\u001b[39m.\u001b[39mupper()\u001b[39m.\u001b[39mstrip())\n\u001b[0;32m     <a href='vscode-notebook-cell:/c%3A/Users/kc.hsu/Python%20workspace/sales_related/Marketing%E7%9B%B8%E9%97%9C/PI%20project/tire_barecode.ipynb#X56sZmlsZQ%3D%3D?line=9'>10</a>\u001b[0m response \u001b[39m=\u001b[39m result[\u001b[39mfilter\u001b[39m]\n",
      "\u001b[1;32mc:\\Users\\kc.hsu\\Python workspace\\sales_related\\Marketing相關\\PI project\\tire_barecode.ipynb 儲存格 24\u001b[0m in \u001b[0;36mdetectBarcode\u001b[1;34m(pic_path)\u001b[0m\n\u001b[0;32m      <a href='vscode-notebook-cell:/c%3A/Users/kc.hsu/Python%20workspace/sales_related/Marketing%E7%9B%B8%E9%97%9C/PI%20project/tire_barecode.ipynb#X56sZmlsZQ%3D%3D?line=5'>6</a>\u001b[0m image_path \u001b[39m=\u001b[39m pic_path\n\u001b[0;32m      <a href='vscode-notebook-cell:/c%3A/Users/kc.hsu/Python%20workspace/sales_related/Marketing%E7%9B%B8%E9%97%9C/PI%20project/tire_barecode.ipynb#X56sZmlsZQ%3D%3D?line=6'>7</a>\u001b[0m result \u001b[39m=\u001b[39m dbr\u001b[39m.\u001b[39mdecode_file(image_path)\n\u001b[1;32m----> <a href='vscode-notebook-cell:/c%3A/Users/kc.hsu/Python%20workspace/sales_related/Marketing%E7%9B%B8%E9%97%9C/PI%20project/tire_barecode.ipynb#X56sZmlsZQ%3D%3D?line=7'>8</a>\u001b[0m \u001b[39mfor\u001b[39;00m res \u001b[39min\u001b[39;00m result:\n\u001b[0;32m      <a href='vscode-notebook-cell:/c%3A/Users/kc.hsu/Python%20workspace/sales_related/Marketing%E7%9B%B8%E9%97%9C/PI%20project/tire_barecode.ipynb#X56sZmlsZQ%3D%3D?line=8'>9</a>\u001b[0m     \u001b[39mif\u001b[39;00m res\u001b[39m.\u001b[39mbarcode_text:\n\u001b[0;32m     <a href='vscode-notebook-cell:/c%3A/Users/kc.hsu/Python%20workspace/sales_related/Marketing%E7%9B%B8%E9%97%9C/PI%20project/tire_barecode.ipynb#X56sZmlsZQ%3D%3D?line=9'>10</a>\u001b[0m         content \u001b[39m=\u001b[39m res\u001b[39m.\u001b[39mbarcode_text\n",
      "\u001b[1;31mTypeError\u001b[0m: 'NoneType' object is not iterable"
     ]
    }
   ],
   "source": [
    "df = None\n",
    "while True:\n",
    "    menu()\n",
    "    ans = int(input((\"請輸入您的選擇：\\n\")))\n",
    "    if ans == 1:\n",
    "        df = check_bcode()\n",
    "    elif ans == 2:\n",
    "        print(\"資料輸出\")\n",
    "        print(pd.DataFrame({\"水貨BARCODE\": df}))\n",
    "        break\n",
    "    else:\n",
    "        print(\"謝謝使用\")\n",
    "        break\n",
    "\n",
    "    \n",
    "    \n",
    "    "
   ]
  },
  {
   "cell_type": "code",
   "execution_count": 174,
   "metadata": {},
   "outputs": [],
   "source": [
    "img = cv2.imread(r\"C:\\Users\\kc.hsu\\Downloads\\barcode.png\")\n",
    "barcode = pyzbar.decode(img)"
   ]
  },
  {
   "cell_type": "code",
   "execution_count": 185,
   "metadata": {},
   "outputs": [
    {
     "name": "stdout",
     "output_type": "stream",
     "text": [
      "b'15DU8R'\n",
      "CODE39\n"
     ]
    }
   ],
   "source": [
    "for b in barcode:\n",
    "    (x, y, w, h) = b.rect\n",
    "    cv2.rectangle(img, (x, y), (x + w, y + h), (255,0,0), 5)\n",
    "    print(b.data)\n",
    "    print(b.type)"
   ]
  },
  {
   "cell_type": "code",
   "execution_count": 2,
   "metadata": {},
   "outputs": [],
   "source": [
    "server = \"10.226.0.53\"\n",
    "database = \"SAP_DW\"\n",
    "username = \"BI_User\"\n",
    "password = \"BsSQLDB\"\n",
    "driver='SQL Server'"
   ]
  },
  {
   "cell_type": "code",
   "execution_count": 3,
   "metadata": {},
   "outputs": [],
   "source": [
    "cnxn = pyodbc.connect(driver=driver, server=server, database=database, uid=username, password=password)"
   ]
  },
  {
   "cell_type": "code",
   "execution_count": 4,
   "metadata": {},
   "outputs": [],
   "source": [
    "script = \"select * from [10.212.27.198].FC0.dbo.V_BI_ZMAW where 實際出貨日 >= '20230101'\""
   ]
  },
  {
   "cell_type": "code",
   "execution_count": 5,
   "metadata": {},
   "outputs": [
    {
     "name": "stderr",
     "output_type": "stream",
     "text": [
      "c:\\Users\\kc.hsu\\Python workspace\\python_env\\lib\\site-packages\\pandas\\io\\sql.py:761: UserWarning: pandas only support SQLAlchemy connectable(engine/connection) ordatabase string URI or sqlite3 DBAPI2 connectionother DBAPI2 objects are not tested, please consider using SQLAlchemy\n",
      "  warnings.warn(\n"
     ]
    }
   ],
   "source": [
    "df = pd.read_sql(script, cnxn)"
   ]
  },
  {
   "cell_type": "code",
   "execution_count": null,
   "metadata": {},
   "outputs": [],
   "source": []
  }
 ],
 "metadata": {
  "kernelspec": {
   "display_name": "python_env",
   "language": "python",
   "name": "python3"
  },
  "language_info": {
   "codemirror_mode": {
    "name": "ipython",
    "version": 3
   },
   "file_extension": ".py",
   "mimetype": "text/x-python",
   "name": "python",
   "nbconvert_exporter": "python",
   "pygments_lexer": "ipython3",
   "version": "3.10.6"
  },
  "orig_nbformat": 4
 },
 "nbformat": 4,
 "nbformat_minor": 2
}
