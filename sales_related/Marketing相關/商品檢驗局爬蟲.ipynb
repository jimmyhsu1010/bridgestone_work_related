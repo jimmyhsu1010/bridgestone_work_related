{
 "cells": [
  {
   "cell_type": "code",
   "execution_count": 2,
   "id": "73117d88-2431-46b6-ba3c-85f873587b25",
   "metadata": {},
   "outputs": [],
   "source": [
    "import requests\n",
    "from bs4 import BeautifulSoup\n",
    "import pandas as pd\n",
    "pd.set_option(\"display.max_columns\", None)\n",
    "pd.set_option(\"mode.chained_assignment\", None)\n",
    "import warnings\n",
    "warnings.filterwarnings('ignore')\n",
    "import tkinter as tk\n",
    "from tkinter import filedialog\n",
    "from pprint import pprint\n",
    "from selectolax.parser import HTMLParser\n",
    "from datetime import datetime\n",
    "from concurrent.futures import ThreadPoolExecutor\n",
    "import time\n",
    "import asyncio\n",
    "import aiohttp\n",
    "import sqlite3\n"
   ]
  },
  {
   "cell_type": "code",
   "execution_count": null,
   "id": "f9d7d7ee-0e02-4338-80f6-3dc49bda8d7c",
   "metadata": {},
   "outputs": [],
   "source": [
    "url = \"https://civil.bsmi.gov.tw/bsmi_pqn/pqn/uqi1105f.do\"\n",
    "payload = {\"state\": \"queryAll\", \"progID\": \"UQI1105F\", \"progName\": \"各類貨品檢驗合格名單查詢\", \"currentPage\": 1, \"yearMonth\": \"11110\", \"kindTypes\": \"J401\"}\n",
    "headers = headers = {\n",
    "    \"Accept\": \"text/html,application/xhtml+xml,application/xml;q=0.9,image/avif,image/webp,image/apng,*/*;q=0.8,application/signed-exchange;v=b3;q=0.9\",\n",
    "    \"Accept-Language\": \"zh-TW,zh;q=0.9,ru;q=0.8,en-US;q=0.7,en;q=0.6,ja;q=0.5\",\n",
    "    \"Cache-Control\": \"max-age=0\",\n",
    "    \"Connection\": \"keep-alive\",\n",
    "    \"Content-Type\": \"application/x-www-form-urlencoded\",\n",
    "    \"Cookie\": \"JSESSIONID=DCNTAqZ2c45Hw2NsEz1fR_U3qKiK1amgTDCcGy14.tp-pqn-01; JSESSIONID=wDhArJ3bibaIKLDENRci8pQwuqUSVVwtUux3sg7e.tp-pqn-01\",\n",
    "    \"Origin\": \"https://civil.bsmi.gov.tw\",\n",
    "    \"Referer\": \"https://civil.bsmi.gov.tw/bsmi_pqn/pqn/uqi1105f.do\",\n",
    "    \"Sec-Fetch-Dest\": \"document\",\n",
    "    \"Sec-Fetch-Mode\": \"navigate\",\n",
    "    \"Sec-Fetch-Site\": \"same-origin\",\n",
    "    \"Sec-Fetch-User\": \"?1\",\n",
    "    \"Upgrade-Insecure-Requests\": \"1\",\n",
    "    \"User-Agent\": \"Mozilla/5.0 (Windows NT 10.0; Win64; x64) AppleWebKit/537.36 (KHTML, like Gecko) Chrome/107.0.0.0 Safari/537.36\",\n",
    "    \"sec-ch-ua\": 'Google Chrome\";v=\"107\", \"Chromium\";v=\"107\", \"Not=A?Brand\";v=\"24\"',\n",
    "    \"sec-ch-ua-mobile\": \"?0\",\n",
    "    \"sec-ch-ua-platform\": '\"Windows\"'\n",
    "}"
   ]
  },
  {
   "cell_type": "code",
   "execution_count": null,
   "id": "55c0039f-bc79-47c3-b855-af0916f46621",
   "metadata": {},
   "outputs": [],
   "source": [
    "res = requests.post(url, headers=headers, params=payload)"
   ]
  },
  {
   "cell_type": "code",
   "execution_count": null,
   "id": "a71e8d58-6ea0-45be-b57f-068051d0a17a",
   "metadata": {},
   "outputs": [],
   "source": [
    "parser = HTMLParser(res.text)"
   ]
  },
  {
   "cell_type": "code",
   "execution_count": null,
   "id": "9d608c06-8b1a-4f1d-b4df-a6d82b7ccf29",
   "metadata": {},
   "outputs": [],
   "source": [
    "ttl_pages = int(parser.css_first(\"div.form-group.row.dataRows > div:nth-child(1) > div > span:nth-child(3)\").text().split(\",\")[1].strip().replace(\"共\",\"\").replace(\"頁\", \"\"))"
   ]
  },
  {
   "cell_type": "code",
   "execution_count": null,
   "id": "4f16f421-cb91-495d-b8b1-72f488ee88cf",
   "metadata": {},
   "outputs": [],
   "source": [
    "page_list = [i for i in range(1, ttl_pages + 1)]"
   ]
  },
  {
   "cell_type": "code",
   "execution_count": null,
   "id": "2bb5f455-29b3-4cbc-ad07-dfbc5757661d",
   "metadata": {},
   "outputs": [],
   "source": [
    "def get_data(page):\n",
    "    test = list()\n",
    "    url = \"https://civil.bsmi.gov.tw/bsmi_pqn/pqn/uqi1105f.do\"\n",
    "    payload = {\"state\": \"queryAll\", \"progID\": \"UQI1105F\", \"progName\": \"各類貨品檢驗合格名單查詢\", \"currentPage\": page, \"yearMonth\": \"11110\", \"kindTypes\": \"J401\"}\n",
    "    headers = {\n",
    "    \"Accept\": \"text/html,application/xhtml+xml,application/xml;q=0.9,image/avif,image/webp,image/apng,*/*;q=0.8,application/signed-exchange;v=b3;q=0.9\",\n",
    "    \"Accept-Language\": \"zh-TW,zh;q=0.9,ru;q=0.8,en-US;q=0.7,en;q=0.6,ja;q=0.5\",\n",
    "    \"Cache-Control\": \"max-age=0\",\n",
    "    \"Connection\": \"keep-alive\",\n",
    "    \"Content-Type\": \"application/x-www-form-urlencoded\",\n",
    "    \"Cookie\": \"JSESSIONID=DCNTAqZ2c45Hw2NsEz1fR_U3qKiK1amgTDCcGy14.tp-pqn-01; JSESSIONID=wDhArJ3bibaIKLDENRci8pQwuqUSVVwtUux3sg7e.tp-pqn-01\",\n",
    "    \"Origin\": \"https://civil.bsmi.gov.tw\",\n",
    "    \"Referer\": \"https://civil.bsmi.gov.tw/bsmi_pqn/pqn/uqi1105f.do\",\n",
    "    \"Sec-Fetch-Dest\": \"document\",\n",
    "    \"Sec-Fetch-Mode\": \"navigate\",\n",
    "    \"Sec-Fetch-Site\": \"same-origin\",\n",
    "    \"Sec-Fetch-User\": \"?1\",\n",
    "    \"Upgrade-Insecure-Requests\": \"1\",\n",
    "    \"User-Agent\": \"Mozilla/5.0 (Windows NT 10.0; Win64; x64) AppleWebKit/537.36 (KHTML, like Gecko) Chrome/107.0.0.0 Safari/537.36\",\n",
    "    \"sec-ch-ua\": 'Google Chrome\";v=\"107\", \"Chromium\";v=\"107\", \"Not=A?Brand\";v=\"24\"',\n",
    "    \"sec-ch-ua-mobile\": \"?0\",\n",
    "    \"sec-ch-ua-platform\": '\"Windows\"'}\n",
    "    res = requests.post(url, headers=headers, params=payload).text\n",
    "    parser = HTMLParser(res)\n",
    "    for content in parser.css(\"#listContainer > div.panel-body.listRows > div:nth-child(n+2)\"):\n",
    "                company_content = content.css(\"div.col-xs-12.col-sm-6.col-md-6.col-lg-4\")\n",
    "                company_name = company_content[0].text().strip() #公司名稱\n",
    "                other_content = content.css(\"div.col-xs-12.col-sm-12.col-md-12.col-lg-4\")\n",
    "                id_type = other_content[0].text().strip().replace(\" \", \"\").split(\"\\u3000\")[0] #類型\n",
    "                serial_num = other_content[0].text().strip().replace(\" \", \"\").split(\"\\u3000\")[-1]\n",
    "                num1 = serial_num.split(\"~\")[0] #上排標籤\n",
    "                num2 = serial_num.split(\"~\")[-1] #下排標籤\n",
    "                # print(company_content, company_name, other_content, id_type, serial_num, num1, num2)\n",
    "                line_list = [company_name, id_type, serial_num, num1, num2]\n",
    "                test.append(line_list)\n",
    "    return test\n",
    "                \n",
    "    time.sleep(0, 1)\n",
    "    \n",
    "    "
   ]
  },
  {
   "cell_type": "code",
   "execution_count": null,
   "id": "f87bfe29-45a6-4116-b162-46b36306216f",
   "metadata": {},
   "outputs": [],
   "source": [
    "dfs = list()\n",
    "with ThreadPoolExecutor(max_workers=20) as executor:\n",
    "    results = executor.map(get_data, page_list)\n",
    "for r in results:\n",
    "    df = pd.DataFrame(r, columns = [\"公司名稱\", \"id_type\", \"serial_num\", \"num1\", \"num2\"])\n",
    "    dfs.append(df)\n",
    "results = pd.concat(dfs).reset_index(drop=True)\n",
    "results"
   ]
  },
  {
   "cell_type": "code",
   "execution_count": 2,
   "id": "426adc70-ea97-4ff7-ab60-6f68d889a225",
   "metadata": {
    "tags": []
   },
   "outputs": [],
   "source": [
    "class BSMI:\n",
    "    \n",
    "    init_url = \"https://civil.bsmi.gov.tw/bsmi_pqn/pqn/uqi1105f.do\"\n",
    "    \n",
    "    payload = {\"state\": \"queryAll\", \"progID\": \"UQI5101F\", \"progName\": \"檢驗標識-標準檢驗局印製\", \"currentPage\": 1, \"yearMonth\": \"11110\", \"kindTypes\": \"J401\"}\n",
    "\n",
    "    headers = {\n",
    "    \"Accept\": \"text/html,application/xhtml+xml,application/xml;q=0.9,image/avif,image/webp,image/apng,*/*;q=0.8,application/signed-exchange;v=b3;q=0.9\",\n",
    "    \"Accept-Language\": \"zh-TW,zh;q=0.9,ru;q=0.8,en-US;q=0.7,en;q=0.6,ja;q=0.5\",\n",
    "    \"Cache-Control\": \"max-age=0\",\n",
    "    \"Connection\": \"keep-alive\",\n",
    "    \"Content-Type\": \"application/x-www-form-urlencoded\",\n",
    "    \"Cookie\": \"JSESSIONID=DCNTAqZ2c45Hw2NsEz1fR_U3qKiK1amgTDCcGy14.tp-pqn-01; JSESSIONID=wDhArJ3bibaIKLDENRci8pQwuqUSVVwtUux3sg7e.tp-pqn-01\",\n",
    "    \"Origin\": \"https://civil.bsmi.gov.tw\",\n",
    "    \"Referer\": \"https://civil.bsmi.gov.tw/bsmi_pqn/pqn/uqi1105f.do\",\n",
    "    \"Sec-Fetch-Dest\": \"document\",\n",
    "    \"Sec-Fetch-Mode\": \"navigate\",\n",
    "    \"Sec-Fetch-Site\": \"same-origin\",\n",
    "    \"Sec-Fetch-User\": \"?1\",\n",
    "    \"Upgrade-Insecure-Requests\": \"1\",\n",
    "    \"User-Agent\": \"Mozilla/5.0 (Windows NT 10.0; Win64; x64) AppleWebKit/537.36 (KHTML, like Gecko) Chrome/107.0.0.0 Safari/537.36\",\n",
    "    \"sec-ch-ua\": 'Google Chrome\";v=\"107\", \"Chromium\";v=\"107\", \"Not=A?Brand\";v=\"24\"',\n",
    "    \"sec-ch-ua-mobile\": \"?0\",\n",
    "    \"sec-ch-ua-platform\": '\"Windows\"'\n",
    "}\n",
    "    \n",
    "    \n",
    "    def __init__(self):\n",
    "        self.months = self.get_months()\n",
    "        self.df = self.create_df()\n",
    "    \n",
    "    def get_months(self):\n",
    "        response = requests.post(self.init_url, headers=self.headers)\n",
    "        parser = HTMLParser(response.text)\n",
    "        available_mon = [i.text() for i in parser.css(\"#yearMonth > option:nth-child(n+1)\")]\n",
    "        return available_mon\n",
    "    \n",
    "    def parse(self, url, payload, header):\n",
    "        response = requests.post(url, data=payload, headers=header)\n",
    "        parser = HTMLParser(response.text)\n",
    "        return parser\n",
    "    \n",
    "    def get_ttl_pages(self, parser):\n",
    "        ttl_page_num = parser.css_first(\"#form1 > div.form-group.row.dataRows > div:nth-child(1) > div > span:nth-child(3)\").text().split(\",\")[1].strip().replace(\"共\", \"\").replace(\"頁\", \"\")\n",
    "        return ttl_page_num\n",
    "        \n",
    "    \n",
    "    def create_df(self):\n",
    "        df = pd.DataFrame(columns=[\"年月\", \"公司名稱\", \"類型\", \"上排標籤\", \"下排標籤\", \"品名中文\", \"品名英文\", \"項次\", \"規格\", \"型號\"])\n",
    "        return df\n",
    "    \n",
    "    def extract_data(self, ttl_pages, month):\n",
    "        df = self.df\n",
    "        payload = self.payload\n",
    "        for page in range(1, int(ttl_pages) + 1):\n",
    "            payload[\"currentPage\"] = page\n",
    "            parser = self.parse(self.init_url, payload, self.headers)\n",
    "            for content in parser.css(\"#listContainer > div.panel-body.listRows > div:nth-child(n+2)\"):\n",
    "                company_content = content.css(\"div.col-xs-12.col-sm-6.col-md-6.col-lg-4\")\n",
    "                company_name = company_content[0].text().strip() #公司名稱\n",
    "                other_content = content.css(\"div.col-xs-12.col-sm-12.col-md-12.col-lg-4\")\n",
    "                id_type = other_content[0].text().strip().replace(\" \", \"\").split(\"\\u3000\")[0] #類型\n",
    "                serial_num = other_content[0].text().strip().replace(\" \", \"\").split(\"\\u3000\")[-1]\n",
    "                num1 = serial_num.split(\"~\")[0] #上排標籤\n",
    "                num2 = serial_num.split(\"~\")[-1] #下排標籤\n",
    "                # print(company_name, id_type, serial_num, num1, num2)\n",
    "                payload_detail = {\"state\": \"queryAll\", \"progID\": \"UQI5101F\", \"progName\": \"檢驗標識-標準檢驗局印製\", \"q_markYearPer\": id_type, \"q_markNo\": num1, \"currentPage\": 1}\n",
    "                check_url = \"https://civil.bsmi.gov.tw/bsmi_pqn/pqn/uqi5101f.do\"\n",
    "                parser_detail = self.parse(check_url, payload_detail, self.headers)\n",
    "                cn_name = []\n",
    "                en_name = []\n",
    "                item = []\n",
    "                size = []\n",
    "                model = []\n",
    "                for detail in parser_detail.css(\"#listDetailContainer > div > div\"):\n",
    "                    keys = detail.css(\"label.control-label.col-xs-4.col-sm-3.col-md-3.col-lg-3\")[0].text().strip()\n",
    "                    values = detail.css(\"div.col-xs-8.col-sm-9.col-md-9.col-lg-9\")[0].text().strip()\n",
    "                    if \"品名中文\" in keys:\n",
    "                        cn_name.append(values)\n",
    "                    elif \"品名英文\" in keys:\n",
    "                        en_name.append(values)\n",
    "                    elif \"項次\" in keys:\n",
    "                        item.append(values)\n",
    "                    elif \"規格\" in keys:\n",
    "                        size.append(values)\n",
    "                    else:\n",
    "                        model.append(values)  \n",
    "                s = pd.Series([month, company_name, id_type, num1, num2, cn_name, en_name, item, size, model], index=[\"年月\", \"公司名稱\", \"類型\", \"上排標籤\", \"下排標籤\", \"品名中文\", \"品名英文\", \"項次\", \"規格\", \"型號\"])\n",
    "                # print(s)\n",
    "                df = df.append(s, ignore_index=True)\n",
    "                # print(df)\n",
    "        return df\n",
    "    \n",
    "    \n",
    "    def get_companies_info(self, month=None):\n",
    "        start_time = datetime.now()\n",
    "        print(\"開始爬取數據\")\n",
    "        payload = self.payload\n",
    "        if month == None:\n",
    "            dfs = []\n",
    "            for month in self.months:\n",
    "                payload[\"yearMonth\"] = month\n",
    "                # print(payload)\n",
    "                parser = self.parse(self.init_url, payload, self.headers)\n",
    "                ttl_pages = self.get_ttl_pages(parser)\n",
    "                year_month = month\n",
    "                # print(ttl_pages)\n",
    "                df = self.extract_data(ttl_pages, year_month)\n",
    "                dfs.append(df)\n",
    "            df = pd.concat(dfs).reset_index(drop=True)\n",
    "            df = self.get_result(df)\n",
    "            end_time = datetime.now()\n",
    "            print(end_time - start_time)\n",
    "            return df\n",
    "        else:\n",
    "            payload[\"yearMonth\"] = month\n",
    "            # print(payload)\n",
    "            parser = self.parse(self.init_url, payload, self.headers)\n",
    "            ttl_pages = self.get_ttl_pages(parser)\n",
    "            year_month = month\n",
    "            df = self.extract_data(ttl_pages, year_month)\n",
    "            end_time = datetime.now()\n",
    "            df = self.get_result(df)\n",
    "            print(end_time - start_time)\n",
    "            return df\n",
    "        \n",
    "        \n",
    "        \n",
    "    def get_result(self, df):\n",
    "        df = df.explode([\"品名中文\", \"品名英文\", \"項次\", \"規格\", \"型號\"], ignore_index=True)\n",
    "        df = df.astype({\"上排標籤\": int, \"下排標籤\": int})\n",
    "        df.insert(5, \"批次數量\", df.apply(lambda x: x[\"下排標籤\"] - x[\"上排標籤\"], axis=1))\n",
    "        return df\n",
    "        \n",
    "            \n",
    "                    \n",
    "                \n",
    "                \n",
    "            \n",
    "            \n",
    "        \n",
    "    "
   ]
  },
  {
   "cell_type": "code",
   "execution_count": 3,
   "id": "88dfb5bb-6f62-4874-b71b-7ce31d74651f",
   "metadata": {},
   "outputs": [],
   "source": [
    "df = BSMI()"
   ]
  },
  {
   "cell_type": "code",
   "execution_count": 4,
   "id": "e4287e5f-9fd8-405a-b7a6-07b6d04ce096",
   "metadata": {},
   "outputs": [
    {
     "name": "stdout",
     "output_type": "stream",
     "text": [
      "開始爬取數據\n"
     ]
    },
    {
     "ename": "AttributeError",
     "evalue": "'DataFrame' object has no attribute 'self'",
     "output_type": "error",
     "traceback": [
      "\u001b[1;31m---------------------------------------------------------------------------\u001b[0m",
      "\u001b[1;31mAttributeError\u001b[0m                            Traceback (most recent call last)",
      "\u001b[1;32mc:\\Users\\kc.hsu\\Python workspace\\sales_related\\Marketing相關\\商品檢驗局爬蟲.ipynb 儲存格 11\u001b[0m in \u001b[0;36m<cell line: 1>\u001b[1;34m()\u001b[0m\n\u001b[1;32m----> <a href='vscode-notebook-cell:/c%3A/Users/kc.hsu/Python%20workspace/sales_related/Marketing%E7%9B%B8%E9%97%9C/%E5%95%86%E5%93%81%E6%AA%A2%E9%A9%97%E5%B1%80%E7%88%AC%E8%9F%B2.ipynb#X13sZmlsZQ%3D%3D?line=0'>1</a>\u001b[0m result \u001b[39m=\u001b[39m df\u001b[39m.\u001b[39;49mget_companies_info()\n",
      "\u001b[1;32mc:\\Users\\kc.hsu\\Python workspace\\sales_related\\Marketing相關\\商品檢驗局爬蟲.ipynb 儲存格 11\u001b[0m in \u001b[0;36mBSMI.get_companies_info\u001b[1;34m(self, month)\u001b[0m\n\u001b[0;32m    <a href='vscode-notebook-cell:/c%3A/Users/kc.hsu/Python%20workspace/sales_related/Marketing%E7%9B%B8%E9%97%9C/%E5%95%86%E5%93%81%E6%AA%A2%E9%A9%97%E5%B1%80%E7%88%AC%E8%9F%B2.ipynb#X13sZmlsZQ%3D%3D?line=108'>109</a>\u001b[0m     dfs\u001b[39m.\u001b[39mappend(df)\n\u001b[0;32m    <a href='vscode-notebook-cell:/c%3A/Users/kc.hsu/Python%20workspace/sales_related/Marketing%E7%9B%B8%E9%97%9C/%E5%95%86%E5%93%81%E6%AA%A2%E9%A9%97%E5%B1%80%E7%88%AC%E8%9F%B2.ipynb#X13sZmlsZQ%3D%3D?line=109'>110</a>\u001b[0m df \u001b[39m=\u001b[39m pd\u001b[39m.\u001b[39mconcat(dfs)\u001b[39m.\u001b[39mreset_index(drop\u001b[39m=\u001b[39m\u001b[39mTrue\u001b[39;00m)\n\u001b[1;32m--> <a href='vscode-notebook-cell:/c%3A/Users/kc.hsu/Python%20workspace/sales_related/Marketing%E7%9B%B8%E9%97%9C/%E5%95%86%E5%93%81%E6%AA%A2%E9%A9%97%E5%B1%80%E7%88%AC%E8%9F%B2.ipynb#X13sZmlsZQ%3D%3D?line=110'>111</a>\u001b[0m df \u001b[39m=\u001b[39m df\u001b[39m.\u001b[39;49mself\u001b[39m.\u001b[39mget_result(df)\n\u001b[0;32m    <a href='vscode-notebook-cell:/c%3A/Users/kc.hsu/Python%20workspace/sales_related/Marketing%E7%9B%B8%E9%97%9C/%E5%95%86%E5%93%81%E6%AA%A2%E9%A9%97%E5%B1%80%E7%88%AC%E8%9F%B2.ipynb#X13sZmlsZQ%3D%3D?line=111'>112</a>\u001b[0m end_time \u001b[39m=\u001b[39m datetime\u001b[39m.\u001b[39mnow()\n\u001b[0;32m    <a href='vscode-notebook-cell:/c%3A/Users/kc.hsu/Python%20workspace/sales_related/Marketing%E7%9B%B8%E9%97%9C/%E5%95%86%E5%93%81%E6%AA%A2%E9%A9%97%E5%B1%80%E7%88%AC%E8%9F%B2.ipynb#X13sZmlsZQ%3D%3D?line=112'>113</a>\u001b[0m \u001b[39mprint\u001b[39m(end_time \u001b[39m-\u001b[39m start_time)\n",
      "File \u001b[1;32mc:\\Users\\kc.hsu\\Python workspace\\python_env\\lib\\site-packages\\pandas\\core\\generic.py:5575\u001b[0m, in \u001b[0;36mNDFrame.__getattr__\u001b[1;34m(self, name)\u001b[0m\n\u001b[0;32m   5568\u001b[0m \u001b[39mif\u001b[39;00m (\n\u001b[0;32m   5569\u001b[0m     name \u001b[39mnot\u001b[39;00m \u001b[39min\u001b[39;00m \u001b[39mself\u001b[39m\u001b[39m.\u001b[39m_internal_names_set\n\u001b[0;32m   5570\u001b[0m     \u001b[39mand\u001b[39;00m name \u001b[39mnot\u001b[39;00m \u001b[39min\u001b[39;00m \u001b[39mself\u001b[39m\u001b[39m.\u001b[39m_metadata\n\u001b[0;32m   5571\u001b[0m     \u001b[39mand\u001b[39;00m name \u001b[39mnot\u001b[39;00m \u001b[39min\u001b[39;00m \u001b[39mself\u001b[39m\u001b[39m.\u001b[39m_accessors\n\u001b[0;32m   5572\u001b[0m     \u001b[39mand\u001b[39;00m \u001b[39mself\u001b[39m\u001b[39m.\u001b[39m_info_axis\u001b[39m.\u001b[39m_can_hold_identifiers_and_holds_name(name)\n\u001b[0;32m   5573\u001b[0m ):\n\u001b[0;32m   5574\u001b[0m     \u001b[39mreturn\u001b[39;00m \u001b[39mself\u001b[39m[name]\n\u001b[1;32m-> 5575\u001b[0m \u001b[39mreturn\u001b[39;00m \u001b[39mobject\u001b[39;49m\u001b[39m.\u001b[39;49m\u001b[39m__getattribute__\u001b[39;49m(\u001b[39mself\u001b[39;49m, name)\n",
      "\u001b[1;31mAttributeError\u001b[0m: 'DataFrame' object has no attribute 'self'"
     ]
    }
   ],
   "source": [
    "result = df.get_companies_info()"
   ]
  },
  {
   "cell_type": "code",
   "execution_count": null,
   "id": "93b6ac66-4fcf-4cf1-b59b-860863f9f75b",
   "metadata": {},
   "outputs": [],
   "source": [
    "url = \"https://civil.bsmi.gov.tw/bsmi_pqn/pqn/uqi1105f.do\"\n",
    "test = requests.post(url, data={\"state\":\"queryAll\", \"progID\":\"UQI1105F\", \"progName\":\"各類貨品檢驗合格名單查詢\", \"yearMonth\": \"11109\", \"kindTypes\": \"J401\", \"currentPage\": 1})\n",
    "test = BeautifulSoup(test.text)\n",
    "pages = int(test.find(\"div\", class_=\"col-xs-12 col-sm-6 col-md-6 col-lg-6\").getText().strip().split(\",\")[1].replace(\"共\", \",\").replace(\"頁\", \",\").split(\",\")[-2])"
   ]
  },
  {
   "cell_type": "code",
   "execution_count": null,
   "id": "4c9b1845-44e8-4c18-905d-abaa97900a60",
   "metadata": {},
   "outputs": [],
   "source": [
    "columns = [\"公司\", \"類型\", \"證號\"]\n",
    "df = pd.DataFrame(columns=columns)\n",
    "official = requests.post(url, data={\"state\":\"queryAll\", \"progID\":\"UQI1105F\", \"progName\":\"各類貨品檢驗合格名單查詢\", \"yearMonth\": \"11109\", \"kindTypes\": \"J401\", \"currentPage\": 1})\n",
    "res = BeautifulSoup(official.text)\n",
    "for i in res.select(\"#listContainer > div.panel-body.listRows > div.row\"):\n",
    "    # pprint(i)\n",
    "    y = i.findAll(\"div\", class_=\"col-xs-12 col-sm-6 col-md-6 col-lg-4\")\n",
    "    serial = i.find(\"div\", class_=\"col-xs-12 col-sm-12 col-md-12 col-lg-4\").get_text()\n",
    "    data = [y[0].get_text().strip(), y[-1].get_text().strip(), serial.strip()]\n",
    "    s = pd.Series(data, index=[\"公司\", \"類型\", \"證號\"])\n",
    "    df = df.append(s, ignore_index=True)"
   ]
  },
  {
   "cell_type": "code",
   "execution_count": null,
   "id": "192e1183-94b8-4c07-9718-f877e7b1e61d",
   "metadata": {},
   "outputs": [],
   "source": [
    "df = df[~(df[\"公司\"] == \"廠商名稱\")]\n",
    "df[\"證號\"] = df[\"證號\"].map(lambda x: x.replace(\" \", \"\"))\n",
    "df[\"證號長度\"] = df[\"證號\"].map(lambda x: len(x))\n",
    "df = df[df[\"證號長度\"] != 0]\n",
    "df[\"證號\"] = df[\"證號\"].str.strip()\n",
    "serial_numbers = df[\"證號\"].str.split(expand=True)\n",
    "volume_cal = serial_numbers[1].str.split(\"~\", expand=True)\n",
    "df[\"上排標籤\"] = serial_numbers[0]\n",
    "df[\"起始序號\"] = volume_cal[0]\n",
    "df[\"結束序號\"] = volume_cal[1]\n",
    "df[\"數量\"] = df[\"結束序號\"].astype(int) - df[\"起始序號\"].astype(int)\n",
    "df[\"日期\"] = \"11109\"\n",
    "df = df[[\"日期\", \"公司\", \"類型\", \"上排標籤\", \"起始序號\", \"結束序號\", \"數量\"]]\n",
    "df[\"批次\"] = df.groupby([\"公司\"]).cumcount() + 1"
   ]
  },
  {
   "cell_type": "code",
   "execution_count": null,
   "id": "473c906f-b76c-4849-bf6d-abffd2846bfe",
   "metadata": {},
   "outputs": [],
   "source": [
    "df.to_excel(r\"D:\\kc.hsu\\OneDrive - Bridgestone\\數據\\標準檢驗局\\測試資料.xlsx\", index=False)"
   ]
  },
  {
   "cell_type": "code",
   "execution_count": null,
   "id": "d9c0e838-4e54-448b-9f37-767551c40d31",
   "metadata": {},
   "outputs": [],
   "source": []
  },
  {
   "cell_type": "code",
   "execution_count": null,
   "id": "7915a1b3-dea4-42cf-a54b-a1a1603cf20f",
   "metadata": {},
   "outputs": [],
   "source": []
  },
  {
   "cell_type": "code",
   "execution_count": null,
   "id": "d0fb4f68-39bc-48c1-871c-bc4bee10661f",
   "metadata": {},
   "outputs": [],
   "source": [
    "requests.post(\"https://civil.bsmi.gov.tw/bsmi_pqn/ajax/jsonGetBrowseByProgID.jsp\", headers=headers, params={\"q\": \"UQI1105F\"}).text()"
   ]
  },
  {
   "cell_type": "code",
   "execution_count": null,
   "id": "b1cf5eb8-03ac-4593-84a1-2084192e1786",
   "metadata": {},
   "outputs": [],
   "source": []
  },
  {
   "cell_type": "code",
   "execution_count": 9,
   "id": "b91334d4-0b2f-478d-a3f7-42833a3ede20",
   "metadata": {},
   "outputs": [],
   "source": [
    "\n",
    "conn = sqlite3.connect(r\"C:\\Users\\kc.hsu\\Python workspace\\BS_Spider\\web_scraping\\web_scraping\\scraping_df\")\n",
    "df = pd.read_sql(\"select * from bsmi\", con=conn)"
   ]
  },
  {
   "cell_type": "code",
   "execution_count": 12,
   "id": "60a5e5b3",
   "metadata": {},
   "outputs": [
    {
     "data": {
      "text/plain": [
       "(172148, 11)"
      ]
     },
     "execution_count": 12,
     "metadata": {},
     "output_type": "execute_result"
    }
   ],
   "source": [
    "df.shape"
   ]
  },
  {
   "cell_type": "code",
   "execution_count": 14,
   "id": "f3617864",
   "metadata": {},
   "outputs": [],
   "source": [
    "result = df.drop_duplicates()"
   ]
  },
  {
   "cell_type": "code",
   "execution_count": 16,
   "id": "ee63e1aa",
   "metadata": {},
   "outputs": [],
   "source": [
    "cursor = conn.cursor()"
   ]
  },
  {
   "cell_type": "code",
   "execution_count": 17,
   "id": "acb6a504",
   "metadata": {},
   "outputs": [
    {
     "data": {
      "text/plain": [
       "<sqlite3.Cursor at 0x2bb8e10f5c0>"
      ]
     },
     "execution_count": 17,
     "metadata": {},
     "output_type": "execute_result"
    }
   ],
   "source": [
    "cursor.execute(\"delete from bsmi\")"
   ]
  },
  {
   "cell_type": "code",
   "execution_count": 19,
   "id": "0b69c638",
   "metadata": {},
   "outputs": [],
   "source": [
    "conn.commit()"
   ]
  },
  {
   "cell_type": "code",
   "execution_count": 22,
   "id": "ba00aaaf",
   "metadata": {},
   "outputs": [],
   "source": [
    "for index, row in result.iterrows():\n",
    "    cursor.execute('insert into bsmi (month, company_name, tyre_type, category, upper_tag, lower_tag, cn_product_name, en_product_name, items, size, model) values (?, ?, ?, ?, ?, ?, ?, ?, ?, ?, ?)', tuple(row))\n",
    "conn.commit()"
   ]
  },
  {
   "cell_type": "code",
   "execution_count": 24,
   "id": "3bb0cf29",
   "metadata": {},
   "outputs": [],
   "source": [
    "cursor.close()"
   ]
  },
  {
   "cell_type": "code",
   "execution_count": 25,
   "id": "ae61bb5d",
   "metadata": {},
   "outputs": [],
   "source": [
    "result.to_excel(r\"D:\\kc.hsu\\OneDrive - Bridgestone\\數據\\標準檢驗局\\20230221_商檢局資料.xlsx\", index=False)"
   ]
  },
  {
   "cell_type": "code",
   "execution_count": null,
   "id": "ba28d86b",
   "metadata": {},
   "outputs": [],
   "source": []
  }
 ],
 "metadata": {
  "kernelspec": {
   "display_name": "python_env",
   "language": "python",
   "name": "python3"
  },
  "language_info": {
   "codemirror_mode": {
    "name": "ipython",
    "version": 3
   },
   "file_extension": ".py",
   "mimetype": "text/x-python",
   "name": "python",
   "nbconvert_exporter": "python",
   "pygments_lexer": "ipython3",
   "version": "3.10.6"
  },
  "vscode": {
   "interpreter": {
    "hash": "0441e2ad242e60eb4d55752f5dea0f12731bd2d50ab9154f01b1a5615d7cc10b"
   }
  }
 },
 "nbformat": 4,
 "nbformat_minor": 5
}
