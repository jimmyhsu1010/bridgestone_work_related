{
 "cells": [
  {
   "cell_type": "code",
   "execution_count": 6,
   "metadata": {},
   "outputs": [],
   "source": [
    "import requests\n",
    "import pandas as pd\n",
    "pd.set_option(\"display.max_columns\", None)\n",
    "pd.set_option(\"mode.chained_assignment\", None)\n",
    "from datetime import datetime, date\n",
    "import playwright\n",
    "from concurrent.futures import ThreadPoolExecutor\n"
   ]
  },
  {
   "attachments": {},
   "cell_type": "markdown",
   "metadata": {},
   "source": [
    " \n",
    "### 車輛登記數&新領牌照數量\n",
    "- 檔案路徑：`\"D:\\kc.hsu\\OneDrive - Bridgestone\\數據\\市場資訊\\交通運輸市場數據\\車輛市場數據_power_bi.xlsx\"`\n",
    "\n",
    "\n",
    "|大類|小類|城市|資料類型|數量|年月日|區域|\n",
    "|----|---|----|-------|----|-----|----|\n",
    "\n",
    "1. 大類：大客車，大貨車，小客車，小貨車\n",
    "2. 小類：大客車自用……分類\n",
    "3. 資料類型：車輛登記數，新領牌照數量\n",
    "4. 年月日：西元\n",
    "\n",
    "\n",
    "#### function設計概念為由一個list來儲放新車和車輛總數的api，並準備一個全台顯示和區域的dictionary \n",
    "\n"
   ]
  },
  {
   "cell_type": "code",
   "execution_count": 40,
   "metadata": {},
   "outputs": [],
   "source": [
    "# 創建一個需要爬取的網址list並帶上年月參數\n",
    "today = date.today().strftime(\"%Y%m\")\n",
    "query_date = str(int(today[:4]) - 1911) + today[4:]\n",
    "site_list = {\"registered_vehicle\": \"https://stat.motc.gov.tw/mocdb/stmain.jsp?sys=220&ym=10201&ymt={}&kind=21&type=9&funid=b330102&cycle=1&outmode=0&compmode=0&outkind=6&fldlst=0001011011010111010110000000000&codspc0=2,4,8,1,11,1,14,14,29,2,&rdm=ULceLxXx\", \n",
    "\"new_vehicle\": \"https://stat.motc.gov.tw/mocdb/stmain.jsp?sys=220&ym=10201&ymt={}&kind=21&type=9&funid=b330105&cycle=1&outmode=0&compmode=0&outkind=6&fldlst=0001011011010111010110000000000&codspc0=2,20,23,2,&rdm=A7Wniqtn\",\n",
    "\"tourist\": \"https://stat.motc.gov.tw/mocdb/stmain.jsp?sys=220&ym=10201&ymt={}&kind=21&type=1&funid=b710401&cycle=1&outmode=0&compmode=0&outkind=6&fldspc=2,10,13,2,16,5,22,1,24,1,&codspc0=1,8,&rdm=rrxgjjqj\",\n",
    "\"trans_num\": \"https://stat.thb.gov.tw/hb01/webMain.aspx?sys=220&ym=10201&ymt={}&kind=21&type=1&funid=3130005&cycle=1&outmode=0&compmode=0&outkind=6&fldspc=0,17,&codspc0=1,22,&rdm=R49947\",\n",
    "\"trans_vehicle\": \"https://stat.thb.gov.tw/hb01/webMain.aspx?sys=220&ym=10201&ymt={}&kind=21&type=1&funid=3130003&cycle=1&outmode=0&compmode=0&outkind=6&fldspc=0,17,&codspc0=1,22,&rdm=R156357\", \n",
    "\"trans_business\": \"https://stat.thb.gov.tw/hb01/webMain.aspx?sys=220&ym=10201&ymt={}&kind=21&type=1&funid=3120001&cycle=1&outmode=0&compmode=0&outkind=6&fldspc=0,13,&rdm=R161428\",\n",
    "\"bus_business\": \"https://stat.thb.gov.tw/hb01/webMain.aspx?sys=220&ym=10201&ymt={}&kind=21&type=1&funid=3110001&cycle=1&outmode=0&compmode=0&outkind=6&fldspc=0,16,&rdm=R166517\",\n",
    "\"sea_shipment\": \"https://stat.motc.gov.tw/mocdb/stmain.jsp?sys=220&ym=10201&ymt={}&kind=21&type=1&funid=b420502&cycle=1&outmode=0&compmode=0&outkind=6&fldlst=011&codspc0=1,5,&codlst1=011&rdm=hyiom9pa\"}\n",
    "\n",
    "# 準備好headers\n",
    "headers = {\"User-Agent\": \"Mozilla/5.0 (Windows NT 10.0; Win64; x64) AppleWebKit/537.36 (KHTML, like Gecko) Chrome/113.0.0.0 Safari/537.36\"}\n",
    "\n",
    "# 區域字典\n",
    "area_dict = {'新北市': '北北基', '台北市': '北北基', '桃園市': '桃竹苗', '台中市': '中彰投', '台南市': '雲嘉南', '高雄市': '高屏東', '宜蘭縣': '宜花',\n",
    "            '新竹縣': '桃竹苗', '苗栗縣': '桃竹苗', '彰化縣': '中彰投', '南投縣': '中彰投', '雲林縣': '雲嘉南', '嘉義縣': '雲嘉南', '屏東縣': '高屏東',\n",
    "            '台東縣': '高屏東', '花蓮縣': '宜花', '澎湖縣': '離島', '基隆市': '北北基', '新竹市': '桃竹苗', '金門縣': '外島', '連江縣': '外島', '嘉義市': '雲嘉南'}\n",
    "\n",
    "# 建立最新的類型和連結字典\n",
    "latest_date = {k: v.format(query_date) for k, v in site_list.items()}\n"
   ]
  },
  {
   "cell_type": "code",
   "execution_count": 41,
   "metadata": {},
   "outputs": [],
   "source": [
    "# 建立回應的function\n",
    "def get_data(url):\n",
    "    res = requests.get(url, headers=headers)\n",
    "    return(res.text)"
   ]
  },
  {
   "cell_type": "code",
   "execution_count": 42,
   "metadata": {},
   "outputs": [],
   "source": [
    "# 建立function來獲取所有的數據存入字典中\n",
    "def retrieveData(data_dict):\n",
    "    for key, value in data_dict.items():\n",
    "        data_dict[key] = get_data(value)\n",
    "    return data_dict"
   ]
  },
  {
   "cell_type": "code",
   "execution_count": 45,
   "metadata": {},
   "outputs": [
    {
     "data": {
      "text/plain": [
       "dict_keys(['registerd_vehicle', 'new_vehicle', 'tourist', 'trans_num', 'trans_vehicle', 'trans_business', 'bus_business', 'sea_shipment'])"
      ]
     },
     "execution_count": 45,
     "metadata": {},
     "output_type": "execute_result"
    }
   ],
   "source": [
    "def registered_vehicle(content):\n",
    "    df = pd.read_html(content)[1]\n",
    "    df.rename(columns={\"Unnamed: 0\": \"大類\", \"Unnamed: 1\": \"城市\"}, inplace=True)\n",
    "    df[\"城市\"] = df[\"城市\"].map(lambda x: x.replace(\"臺\", \"台\"))\n",
    "    reshape_df = df.groupby([\"大類\", \"城市\"]).sum().stack().reset_index(name=\"數量\")\n",
    "    filtered_df = reshape_df[(~reshape_df[\"level_2\"].str.endswith(\"年\")) & (~reshape_df[\"level_2\"].str.contains(\"~\"))]\n",
    "    filtered_df[\"月\"] = filtered_df.loc[:, \"level_2\"].map(lambda x: \"0\" + x.split(\" \")[-1].replace(\"月\", \"\") if len(x.split(\" \")[-1].replace(\"月\", \"\")) == 1 else x.split(\" \")[-1].replace(\"月\", \"\"))\n",
    "    filtered_df[\"資料類型\"] = \"車輛登記數\"  \n",
    "    filtered_df[\"年\"] = filtered_df.loc[:, \"level_2\"].map(lambda x: str(int(x.split(\"年\")[0]) + 1911))\n",
    "    filtered_df[\"年月\"] = filtered_df[\"年\"] + filtered_df[\"月\"]\n",
    "    filtered_df[\"年月日\"] = pd.to_datetime(filtered_df[\"年月\"], format=\"%Y%m\")\n",
    "    filtered_df[\"catg_list\"] = filtered_df.loc[:, \"大類\"].map(lambda x: x.split(\" \"))\n",
    "    filtered_df[\"車輛類型\"] = filtered_df.loc[:, \"catg_list\"].map(lambda x: x[-1] if len(x) == 3 else x[0])\n",
    "    filtered_df[\"小類\"] = filtered_df.loc[:, \"車輛類型\"].map(lambda x: x.replace(\"/\", \"\")).map(lambda x: \"其他大客車\" if \"(不含遊覽車)\" in x else \"小貨車\" if \"(不含租賃)\" in x else x)\n",
    "    filtered_df[\"用途\"] = filtered_df.loc[:, \"catg_list\"].map(lambda x: x[-1]).map(lambda x: x.replace(\"/\", \"\")).map(lambda x: \"營業\" if \"營業\" in x else x)\n",
    "    filtered_df[\"大類\"] = filtered_df.loc[:, \"catg_list\"].map(lambda x: x[0])\n",
    "    filtered_df[\"區域\"] = filtered_df[\"城市\"].map(area_dict)\n",
    "    result = filtered_df[[\"大類\", \"用途\", \"小類\", \"城市\", \"資料類型\", \"數量\", \"年月日\", \"區域\"]]\n",
    "    result = result[result[\"數量\"] != \"-\"]\n",
    "    return result\n",
    "\n",
    "def new_vehicle(content):\n",
    "    df = pd.read_html(content)[1]\n",
    "    df.rename(columns={\"Unnamed: 0\": \"大類\", \"Unnamed: 1\": \"城市\"}, inplace=True)\n",
    "    df[\"城市\"] = df[\"城市\"].map(lambda x: x.replace(\"臺\", \"台\"))\n",
    "    reshape_df = df.groupby([\"大類\", \"城市\"]).sum().stack().reset_index(name=\"數量\")\n",
    "    filtered_df = reshape_df[(~reshape_df[\"level_2\"].str.endswith(\"年\")) & (~reshape_df[\"level_2\"].str.contains(\"~\"))]\n",
    "    filtered_df[\"月\"] = filtered_df.loc[:, \"level_2\"].map(lambda x: \"0\" + x.split(\" \")[-1].replace(\"月\", \"\") if len(x.split(\" \")[-1].replace(\"月\", \"\")) == 1 else x.split(\" \")[-1].replace(\"月\", \"\"))\n",
    "    filtered_df[\"資料類型\"] = \"新領牌照數量\"  \n",
    "    filtered_df[\"年\"] = filtered_df.loc[:, \"level_2\"].map(lambda x: str(int(x.split(\"年\")[0]) + 1911))\n",
    "    filtered_df[\"年月\"] = filtered_df[\"年\"] + filtered_df[\"月\"]\n",
    "    filtered_df[\"年月日\"] = pd.to_datetime(filtered_df[\"年月\"], format=\"%Y%m\")\n",
    "    filtered_df[\"catg_list\"] = filtered_df.loc[:, \"大類\"].map(lambda x: x.split(\" \"))\n",
    "    filtered_df[\"車輛類型\"] = filtered_df.loc[:, \"catg_list\"].map(lambda x: x[-1] if len(x) == 3 else x[0])\n",
    "    filtered_df[\"小類\"] = filtered_df.loc[:, \"車輛類型\"].map(lambda x: x.replace(\"/\", \"\")).map(lambda x: \"其他大客車\" if \"(不含遊覽車)\" in x else \"小貨車\" if \"(不含租賃)\" in x else x)\n",
    "    filtered_df[\"用途\"] = filtered_df.loc[:, \"catg_list\"].map(lambda x: x[-1]).map(lambda x: x.replace(\"/\", \"\")).map(lambda x: \"營業\" if \"營業\" in x else x)\n",
    "    filtered_df[\"大類\"] = filtered_df.loc[:, \"catg_list\"].map(lambda x: x[0])\n",
    "    filtered_df[\"區域\"] = filtered_df[\"城市\"].map(area_dict)\n",
    "    result = filtered_df[[\"大類\", \"用途\", \"小類\", \"城市\", \"資料類型\", \"數量\", \"年月日\", \"區域\"]]\n",
    "    result = result[result[\"數量\"] != \"-\"]\n",
    "    return result\n",
    "\n",
    "def tourist(data):\n",
    "    pass\n",
    "\n",
    "def trans_num(data):\n",
    "    pass\n",
    "\n",
    "def trans_vehicle(data):\n",
    "    pass\n",
    "\n",
    "def trans_business(data):\n",
    "    pass\n",
    "\n",
    "def bus_business(data):\n",
    "    pass\n",
    "\n",
    "def sea_shipment(data):\n",
    "    pass"
   ]
  },
  {
   "cell_type": "code",
   "execution_count": null,
   "metadata": {},
   "outputs": [],
   "source": [
    "# 建立key為數據類型名稱，value為對應處理function的字典\n"
   ]
  }
 ],
 "metadata": {
  "kernelspec": {
   "display_name": "python_env",
   "language": "python",
   "name": "python3"
  },
  "language_info": {
   "codemirror_mode": {
    "name": "ipython",
    "version": 3
   },
   "file_extension": ".py",
   "mimetype": "text/x-python",
   "name": "python",
   "nbconvert_exporter": "python",
   "pygments_lexer": "ipython3",
   "version": "3.10.6"
  },
  "orig_nbformat": 4
 },
 "nbformat": 4,
 "nbformat_minor": 2
}
