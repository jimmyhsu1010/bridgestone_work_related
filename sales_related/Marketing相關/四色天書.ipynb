{
 "cells": [
  {
   "cell_type": "code",
   "execution_count": 1,
   "id": "64d0008c-4fee-4c27-a313-1ac12f98e61d",
   "metadata": {},
   "outputs": [],
   "source": [
    "import requests\n",
    "from requests.exceptions import SSLError\n",
    "from requests.exceptions import ConnectionError\n",
    "from requests.packages.urllib3.exceptions import MaxRetryError\n",
    "from requests.packages.urllib3.exceptions import ProxyError as urllib3_ProxyError\n",
    "import pandas as pd\n",
    "import random\n",
    "import time\n",
    "pd.set_option(\"display.max_columns\", None)"
   ]
  },
  {
   "cell_type": "code",
   "execution_count": null,
   "id": "e74d8a0f-2d48-4a17-9d81-c6538e686d31",
   "metadata": {},
   "outputs": [],
   "source": [
    "def get_proxy():\n",
    "    response = requests.get(\"https://free-proxy-list.net/\")\n",
    "    df = pd.read_html(response.text)[0]\n",
    "    df = df[df[\"Https\"] == \"yes\"]\n",
    "    df[\"Proxy\"] = \"http://\" + df[\"IP Address\"] + \":\" + df[\"Port\"].astype(str)\n",
    "    return df\n",
    "    "
   ]
  },
  {
   "cell_type": "code",
   "execution_count": null,
   "id": "ff01eab2-eeaf-449e-b987-596318d01ff3",
   "metadata": {},
   "outputs": [],
   "source": [
    "def verify_proxy(data):\n",
    "    ips = data[\"IP Address\"].tolist()\n",
    "    proxies = data[\"Proxy\"].tolist()\n",
    "    ok_list = []\n",
    "    for ip, proxy in zip(ips, proxies):\n",
    "        try:\n",
    "            response = requests.get(\"https://httpbin.org/ip\", proxies={\"http\": proxy, \"https\": proxy})\n",
    "        except SSLError:\n",
    "            pass\n",
    "        except:\n",
    "            pass\n",
    "    else:\n",
    "        if ip == response.json()[\"origin\"]:\n",
    "            ok_list.append(proxy)\n",
    "        else:\n",
    "            pass\n",
    "    return ok_list"
   ]
  },
  {
   "cell_type": "code",
   "execution_count": 4,
   "id": "d06bf270-5ff3-4b87-99e1-4004661b68e1",
   "metadata": {},
   "outputs": [],
   "source": [
    "def get_content(proxy_list=None):\n",
    "    dfs = []\n",
    "    headers = {\"user-agent\": \"Mozilla/5.0 (Windows NT 10.0; Win64; x64) AppleWebKit/537.36 (KHTML, like Gecko) Chrome/107.0.0.0 Safari/537.36\"}\n",
    "    base_url = \"https://leak.gewohler.icu/hpvdb.php?strs=%20\"\n",
    "    city_list = [\"臺北市區監理所\", \"士林監理站\", \"基隆監理站\", \"金門監理站\", \"臺北區監理所\", \"宜蘭監理站\", \"花蓮監理站\", \"新竹區監理所\", \"新竹市監理站\", \"桃園監理站\", \"中壢監理站\", \"苗栗監理站\", \"臺中區監理所\", \n",
    "             \"豐原監理站\", \"彰化監理站\", \"南投監理站\", \"雲林監理站\", \"嘉義市監理站\", \"麻豆監理站\", \"臺南監理站\", \"高雄市區監理所\", \"旗山監理站\", \"高雄區監理所\", \"屏東監理站\", \"臺東監理站\"]\n",
    "    for city in city_list:\n",
    "        # proxy = random.choice(proxy_list)\n",
    "        response = requests.get(base_url, headers=headers)\n",
    "        try:\n",
    "            df = pd.read_html(response.text)[0]\n",
    "        except ValueError:\n",
    "            pass\n",
    "        except Exception:\n",
    "            pass\n",
    "        except:\n",
    "            pass\n",
    "        else:\n",
    "            dfs.append(df)\n",
    "            print(df)\n",
    "            time.sleep(random.randint(300, 360))\n",
    "    return dfs\n",
    "    "
   ]
  },
  {
   "cell_type": "code",
   "execution_count": 5,
   "id": "c2bde95a-57bc-44c2-a4a8-2339bfb3808f",
   "metadata": {},
   "outputs": [],
   "source": [
    "df = get_content()"
   ]
  },
  {
   "cell_type": "code",
   "execution_count": 6,
   "id": "96a7a5ff-5e25-4f08-9078-f1f764b3eebd",
   "metadata": {},
   "outputs": [
    {
     "data": {
      "text/plain": [
       "[]"
      ]
     },
     "execution_count": 6,
     "metadata": {},
     "output_type": "execute_result"
    }
   ],
   "source": []
  }
 ],
 "metadata": {
  "kernelspec": {
   "display_name": "Python 3 (ipykernel)",
   "language": "python",
   "name": "python3"
  },
  "language_info": {
   "codemirror_mode": {
    "name": "ipython",
    "version": 3
   },
   "file_extension": ".py",
   "mimetype": "text/x-python",
   "name": "python",
   "nbconvert_exporter": "python",
   "pygments_lexer": "ipython3",
   "version": "3.10.6"
  }
 },
 "nbformat": 4,
 "nbformat_minor": 5
}
