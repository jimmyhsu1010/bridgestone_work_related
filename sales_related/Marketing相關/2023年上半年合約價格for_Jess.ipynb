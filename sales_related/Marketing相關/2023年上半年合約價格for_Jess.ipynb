{
 "cells": [
  {
   "cell_type": "code",
   "execution_count": 1,
   "metadata": {},
   "outputs": [],
   "source": [
    "import pandas as pd\n",
    "pd.set_option(\"display.max_columns\", None)\n",
    "pd.set_option(\"mode.chained_assignment\", None)\n",
    "import warnings\n",
    "warnings.filterwarnings(\"ignore\")\n",
    "import numpy as np"
   ]
  },
  {
   "cell_type": "code",
   "execution_count": 31,
   "metadata": {},
   "outputs": [],
   "source": [
    "df = pd.read_clipboard()"
   ]
  },
  {
   "cell_type": "code",
   "execution_count": 80,
   "metadata": {},
   "outputs": [],
   "source": [
    "df[[1, 2, 3, 4]] = df[\"客編\"].str[1:-1].str.replace(\"'\",\"\").str.split(\",\", expand=True)"
   ]
  },
  {
   "cell_type": "code",
   "execution_count": 90,
   "metadata": {},
   "outputs": [],
   "source": [
    "signed_cuscode = df[1].unique().tolist() + df[2].dropna().unique().tolist() + df[3].dropna().unique().tolist() + df[4].dropna().unique().tolist()"
   ]
  },
  {
   "cell_type": "code",
   "execution_count": 92,
   "metadata": {},
   "outputs": [],
   "source": [
    "jess_material = pd.read_clipboard()"
   ]
  },
  {
   "cell_type": "code",
   "execution_count": 104,
   "metadata": {},
   "outputs": [],
   "source": [
    "# 將list作為value寫進去欄位裡面\n",
    "jess_material[\"CUSTOM\"] = [signed_cuscode for i in jess_material.index]"
   ]
  },
  {
   "cell_type": "code",
   "execution_count": 109,
   "metadata": {},
   "outputs": [],
   "source": [
    "jess_material.explode(\"CUSTOM\").reset_index(drop=True).to_clipboard()"
   ]
  },
  {
   "cell_type": "code",
   "execution_count": null,
   "metadata": {},
   "outputs": [],
   "source": []
  },
  {
   "cell_type": "code",
   "execution_count": 169,
   "metadata": {},
   "outputs": [],
   "source": [
    "citys = ['新北市', '台北市', '桃園市', '台中市', '台南市', '高雄市', '宜蘭縣', '新竹縣', '苗栗縣', '彰化縣', '南投縣', '雲林縣', '嘉義縣', '屏東縣', '台東縣', '花蓮縣', '澎湖縣', '基隆市', '新竹市', '金門縣', '連江縣', '嘉義市']\n",
    "area = ['北北基', '北北基', '桃竹苗', '中彰投', '雲嘉南', '高屏東', '宜花', '桃竹苗', '桃竹苗', '中彰投', '中彰投', '雲嘉南', '雲嘉南', '高屏東', '高屏東', '宜花', '離島', '北北基', '桃竹苗', '外島', '外島', '雲嘉南']\n",
    "area_dict = dict(zip(citys, area))"
   ]
  },
  {
   "cell_type": "code",
   "execution_count": 40,
   "metadata": {},
   "outputs": [],
   "source": [
    "df = pd.read_clipboard()"
   ]
  },
  {
   "cell_type": "code",
   "execution_count": 192,
   "metadata": {},
   "outputs": [],
   "source": [
    "df = df.apply(lambda x: x.str.replace(\",\", \"\"))"
   ]
  },
  {
   "cell_type": "code",
   "execution_count": 193,
   "metadata": {},
   "outputs": [],
   "source": [
    "df = df.set_index([\"類型\", \"城市\"]).stack().reset_index()"
   ]
  },
  {
   "cell_type": "code",
   "execution_count": 194,
   "metadata": {},
   "outputs": [],
   "source": [
    "df[0] = df[0].map(lambda x: \"0\" if x == \"-\" else x).astype(int)"
   ]
  },
  {
   "cell_type": "code",
   "execution_count": 195,
   "metadata": {},
   "outputs": [],
   "source": [
    "df[\"大類\"] = df[\"類型\"].map(lambda x: x.split(\"/\")[0].strip())"
   ]
  },
  {
   "cell_type": "code",
   "execution_count": 196,
   "metadata": {},
   "outputs": [],
   "source": [
    "df[\"資料類型\"] = \"新領牌照數量\""
   ]
  },
  {
   "cell_type": "code",
   "execution_count": 197,
   "metadata": {},
   "outputs": [],
   "source": [
    "df[\"城市\"] = df[\"城市\"].map(lambda x: x.replace(\"臺\", \"台\"))"
   ]
  },
  {
   "cell_type": "code",
   "execution_count": 198,
   "metadata": {},
   "outputs": [],
   "source": [
    "df[\"區域\"] = df[\"城市\"].map(area_dict)"
   ]
  },
  {
   "cell_type": "code",
   "execution_count": null,
   "metadata": {},
   "outputs": [],
   "source": []
  },
  {
   "cell_type": "code",
   "execution_count": 26,
   "metadata": {},
   "outputs": [],
   "source": [
    "df[\"國道整理後\"] = df[\"國道\"].str.split(\"/\").map(lambda x: x[0].strip())\n",
    "df[\"車輛類型\"] = df[\"國道\"].str.split(\"/\").map(lambda x: x[-1].strip())"
   ]
  },
  {
   "cell_type": "code",
   "execution_count": 27,
   "metadata": {},
   "outputs": [],
   "source": [
    "df = df[[\"方向\", \"2022/10/1\", \"2022/11/1\", \"2022/12/1\", \"2023/1/1\", \"國道整理後\", \"車輛類型\"]]"
   ]
  },
  {
   "cell_type": "code",
   "execution_count": 28,
   "metadata": {},
   "outputs": [],
   "source": [
    "df = df.set_index([\"方向\", \"國道整理後\", \"車輛類型\"]).stack().reset_index()"
   ]
  },
  {
   "cell_type": "code",
   "execution_count": 29,
   "metadata": {},
   "outputs": [
    {
     "data": {
      "text/html": [
       "<div>\n",
       "<style scoped>\n",
       "    .dataframe tbody tr th:only-of-type {\n",
       "        vertical-align: middle;\n",
       "    }\n",
       "\n",
       "    .dataframe tbody tr th {\n",
       "        vertical-align: top;\n",
       "    }\n",
       "\n",
       "    .dataframe thead th {\n",
       "        text-align: right;\n",
       "    }\n",
       "</style>\n",
       "<table border=\"1\" class=\"dataframe\">\n",
       "  <thead>\n",
       "    <tr style=\"text-align: right;\">\n",
       "      <th></th>\n",
       "      <th>方向</th>\n",
       "      <th>國道整理後</th>\n",
       "      <th>車輛類型</th>\n",
       "      <th>level_3</th>\n",
       "      <th>0</th>\n",
       "    </tr>\n",
       "  </thead>\n",
       "  <tbody>\n",
       "    <tr>\n",
       "      <th>0</th>\n",
       "      <td>南下</td>\n",
       "      <td>國道1號</td>\n",
       "      <td>小型車</td>\n",
       "      <td>2022/10/1</td>\n",
       "      <td>129354534</td>\n",
       "    </tr>\n",
       "    <tr>\n",
       "      <th>1</th>\n",
       "      <td>南下</td>\n",
       "      <td>國道1號</td>\n",
       "      <td>小型車</td>\n",
       "      <td>2022/11/1</td>\n",
       "      <td>123882190</td>\n",
       "    </tr>\n",
       "    <tr>\n",
       "      <th>2</th>\n",
       "      <td>南下</td>\n",
       "      <td>國道1號</td>\n",
       "      <td>小型車</td>\n",
       "      <td>2022/12/1</td>\n",
       "      <td>131946081</td>\n",
       "    </tr>\n",
       "    <tr>\n",
       "      <th>3</th>\n",
       "      <td>南下</td>\n",
       "      <td>國道1號</td>\n",
       "      <td>小型車</td>\n",
       "      <td>2023/1/1</td>\n",
       "      <td>137850856</td>\n",
       "    </tr>\n",
       "    <tr>\n",
       "      <th>4</th>\n",
       "      <td>南下</td>\n",
       "      <td>國道1號</td>\n",
       "      <td>大型車</td>\n",
       "      <td>2022/10/1</td>\n",
       "      <td>10692223</td>\n",
       "    </tr>\n",
       "    <tr>\n",
       "      <th>...</th>\n",
       "      <td>...</td>\n",
       "      <td>...</td>\n",
       "      <td>...</td>\n",
       "      <td>...</td>\n",
       "      <td>...</td>\n",
       "    </tr>\n",
       "    <tr>\n",
       "      <th>115</th>\n",
       "      <td>北上</td>\n",
       "      <td>國道5號</td>\n",
       "      <td>大型車</td>\n",
       "      <td>2023/1/1</td>\n",
       "      <td>148255</td>\n",
       "    </tr>\n",
       "    <tr>\n",
       "      <th>116</th>\n",
       "      <td>北上</td>\n",
       "      <td>國道5號</td>\n",
       "      <td>聯結車</td>\n",
       "      <td>2022/10/1</td>\n",
       "      <td>66089</td>\n",
       "    </tr>\n",
       "    <tr>\n",
       "      <th>117</th>\n",
       "      <td>北上</td>\n",
       "      <td>國道5號</td>\n",
       "      <td>聯結車</td>\n",
       "      <td>2022/11/1</td>\n",
       "      <td>70573</td>\n",
       "    </tr>\n",
       "    <tr>\n",
       "      <th>118</th>\n",
       "      <td>北上</td>\n",
       "      <td>國道5號</td>\n",
       "      <td>聯結車</td>\n",
       "      <td>2022/12/1</td>\n",
       "      <td>77448</td>\n",
       "    </tr>\n",
       "    <tr>\n",
       "      <th>119</th>\n",
       "      <td>北上</td>\n",
       "      <td>國道5號</td>\n",
       "      <td>聯結車</td>\n",
       "      <td>2023/1/1</td>\n",
       "      <td>51957</td>\n",
       "    </tr>\n",
       "  </tbody>\n",
       "</table>\n",
       "<p>120 rows × 5 columns</p>\n",
       "</div>"
      ],
      "text/plain": [
       "     方向 國道整理後 車輛類型    level_3          0\n",
       "0    南下  國道1號  小型車  2022/10/1  129354534\n",
       "1    南下  國道1號  小型車  2022/11/1  123882190\n",
       "2    南下  國道1號  小型車  2022/12/1  131946081\n",
       "3    南下  國道1號  小型車   2023/1/1  137850856\n",
       "4    南下  國道1號  大型車  2022/10/1   10692223\n",
       "..   ..   ...  ...        ...        ...\n",
       "115  北上  國道5號  大型車   2023/1/1     148255\n",
       "116  北上  國道5號  聯結車  2022/10/1      66089\n",
       "117  北上  國道5號  聯結車  2022/11/1      70573\n",
       "118  北上  國道5號  聯結車  2022/12/1      77448\n",
       "119  北上  國道5號  聯結車   2023/1/1      51957\n",
       "\n",
       "[120 rows x 5 columns]"
      ]
     },
     "execution_count": 29,
     "metadata": {},
     "output_type": "execute_result"
    }
   ],
   "source": [
    "df"
   ]
  },
  {
   "cell_type": "code",
   "execution_count": 50,
   "metadata": {},
   "outputs": [],
   "source": [
    "df.to_clipboard()"
   ]
  },
  {
   "cell_type": "code",
   "execution_count": null,
   "metadata": {},
   "outputs": [],
   "source": []
  },
  {
   "cell_type": "code",
   "execution_count": 41,
   "metadata": {},
   "outputs": [
    {
     "data": {
      "text/html": [
       "<div>\n",
       "<style scoped>\n",
       "    .dataframe tbody tr th:only-of-type {\n",
       "        vertical-align: middle;\n",
       "    }\n",
       "\n",
       "    .dataframe tbody tr th {\n",
       "        vertical-align: top;\n",
       "    }\n",
       "\n",
       "    .dataframe thead th {\n",
       "        text-align: right;\n",
       "    }\n",
       "</style>\n",
       "<table border=\"1\" class=\"dataframe\">\n",
       "  <thead>\n",
       "    <tr style=\"text-align: right;\">\n",
       "      <th></th>\n",
       "      <th>類別</th>\n",
       "      <th>港口</th>\n",
       "      <th>2022/10/1</th>\n",
       "      <th>2022/11/1</th>\n",
       "      <th>2022/12/1</th>\n",
       "      <th>2023/1/1</th>\n",
       "    </tr>\n",
       "  </thead>\n",
       "  <tbody>\n",
       "    <tr>\n",
       "      <th>0</th>\n",
       "      <td>進港</td>\n",
       "      <td>基隆港 / 實櫃</td>\n",
       "      <td>64542</td>\n",
       "      <td>72460</td>\n",
       "      <td>71149</td>\n",
       "      <td>53032</td>\n",
       "    </tr>\n",
       "    <tr>\n",
       "      <th>1</th>\n",
       "      <td>進港</td>\n",
       "      <td>基隆港 / 空櫃</td>\n",
       "      <td>1087</td>\n",
       "      <td>1777</td>\n",
       "      <td>1889</td>\n",
       "      <td>1831</td>\n",
       "    </tr>\n",
       "    <tr>\n",
       "      <th>2</th>\n",
       "      <td>進港</td>\n",
       "      <td>高雄港 / 實櫃</td>\n",
       "      <td>308457</td>\n",
       "      <td>312305</td>\n",
       "      <td>329670</td>\n",
       "      <td>276977</td>\n",
       "    </tr>\n",
       "    <tr>\n",
       "      <th>3</th>\n",
       "      <td>進港</td>\n",
       "      <td>高雄港 / 空櫃</td>\n",
       "      <td>63312</td>\n",
       "      <td>64654</td>\n",
       "      <td>54495</td>\n",
       "      <td>56083</td>\n",
       "    </tr>\n",
       "    <tr>\n",
       "      <th>4</th>\n",
       "      <td>進港</td>\n",
       "      <td>臺中港 / 實櫃</td>\n",
       "      <td>40380</td>\n",
       "      <td>49591</td>\n",
       "      <td>53186</td>\n",
       "      <td>41844</td>\n",
       "    </tr>\n",
       "    <tr>\n",
       "      <th>5</th>\n",
       "      <td>進港</td>\n",
       "      <td>臺中港 / 空櫃</td>\n",
       "      <td>21205</td>\n",
       "      <td>23240</td>\n",
       "      <td>18097</td>\n",
       "      <td>15056</td>\n",
       "    </tr>\n",
       "    <tr>\n",
       "      <th>6</th>\n",
       "      <td>進港</td>\n",
       "      <td>臺北港 / 實櫃</td>\n",
       "      <td>55845</td>\n",
       "      <td>65666</td>\n",
       "      <td>63936</td>\n",
       "      <td>53118</td>\n",
       "    </tr>\n",
       "    <tr>\n",
       "      <th>7</th>\n",
       "      <td>進港</td>\n",
       "      <td>臺北港 / 空櫃</td>\n",
       "      <td>12839</td>\n",
       "      <td>13802</td>\n",
       "      <td>10686</td>\n",
       "      <td>13813</td>\n",
       "    </tr>\n",
       "    <tr>\n",
       "      <th>8</th>\n",
       "      <td>進港</td>\n",
       "      <td>安平港 / 實櫃</td>\n",
       "      <td>0</td>\n",
       "      <td>2</td>\n",
       "      <td>6</td>\n",
       "      <td>38</td>\n",
       "    </tr>\n",
       "    <tr>\n",
       "      <th>9</th>\n",
       "      <td>進港</td>\n",
       "      <td>安平港 / 空櫃</td>\n",
       "      <td>40</td>\n",
       "      <td>56</td>\n",
       "      <td>85</td>\n",
       "      <td>82</td>\n",
       "    </tr>\n",
       "    <tr>\n",
       "      <th>10</th>\n",
       "      <td>出港</td>\n",
       "      <td>基隆港 / 實櫃</td>\n",
       "      <td>32582</td>\n",
       "      <td>32684</td>\n",
       "      <td>33018</td>\n",
       "      <td>25874</td>\n",
       "    </tr>\n",
       "    <tr>\n",
       "      <th>11</th>\n",
       "      <td>出港</td>\n",
       "      <td>基隆港 / 空櫃</td>\n",
       "      <td>27644</td>\n",
       "      <td>29117</td>\n",
       "      <td>31356</td>\n",
       "      <td>26426</td>\n",
       "    </tr>\n",
       "    <tr>\n",
       "      <th>12</th>\n",
       "      <td>出港</td>\n",
       "      <td>高雄港 / 實櫃</td>\n",
       "      <td>330879</td>\n",
       "      <td>330498</td>\n",
       "      <td>328196</td>\n",
       "      <td>315842</td>\n",
       "    </tr>\n",
       "    <tr>\n",
       "      <th>13</th>\n",
       "      <td>出港</td>\n",
       "      <td>高雄港 / 空櫃</td>\n",
       "      <td>31997</td>\n",
       "      <td>40948</td>\n",
       "      <td>44047</td>\n",
       "      <td>42556</td>\n",
       "    </tr>\n",
       "    <tr>\n",
       "      <th>14</th>\n",
       "      <td>出港</td>\n",
       "      <td>臺中港 / 實櫃</td>\n",
       "      <td>62830</td>\n",
       "      <td>71571</td>\n",
       "      <td>65296</td>\n",
       "      <td>50162</td>\n",
       "    </tr>\n",
       "    <tr>\n",
       "      <th>15</th>\n",
       "      <td>出港</td>\n",
       "      <td>臺中港 / 空櫃</td>\n",
       "      <td>4385</td>\n",
       "      <td>4780</td>\n",
       "      <td>5126</td>\n",
       "      <td>7278</td>\n",
       "    </tr>\n",
       "    <tr>\n",
       "      <th>16</th>\n",
       "      <td>出港</td>\n",
       "      <td>臺北港 / 實櫃</td>\n",
       "      <td>57424</td>\n",
       "      <td>60100</td>\n",
       "      <td>58465</td>\n",
       "      <td>56160</td>\n",
       "    </tr>\n",
       "    <tr>\n",
       "      <th>17</th>\n",
       "      <td>出港</td>\n",
       "      <td>臺北港 / 空櫃</td>\n",
       "      <td>16601</td>\n",
       "      <td>17153</td>\n",
       "      <td>14013</td>\n",
       "      <td>17993</td>\n",
       "    </tr>\n",
       "    <tr>\n",
       "      <th>18</th>\n",
       "      <td>出港</td>\n",
       "      <td>安平港 / 實櫃</td>\n",
       "      <td>52</td>\n",
       "      <td>171</td>\n",
       "      <td>286</td>\n",
       "      <td>154</td>\n",
       "    </tr>\n",
       "    <tr>\n",
       "      <th>19</th>\n",
       "      <td>出港</td>\n",
       "      <td>安平港 / 空櫃</td>\n",
       "      <td>0</td>\n",
       "      <td>0</td>\n",
       "      <td>0</td>\n",
       "      <td>0</td>\n",
       "    </tr>\n",
       "  </tbody>\n",
       "</table>\n",
       "</div>"
      ],
      "text/plain": [
       "    類別        港口  2022/10/1  2022/11/1  2022/12/1  2023/1/1\n",
       "0   進港  基隆港 / 實櫃      64542      72460      71149     53032\n",
       "1   進港  基隆港 / 空櫃       1087       1777       1889      1831\n",
       "2   進港  高雄港 / 實櫃     308457     312305     329670    276977\n",
       "3   進港  高雄港 / 空櫃      63312      64654      54495     56083\n",
       "4   進港  臺中港 / 實櫃      40380      49591      53186     41844\n",
       "5   進港  臺中港 / 空櫃      21205      23240      18097     15056\n",
       "6   進港  臺北港 / 實櫃      55845      65666      63936     53118\n",
       "7   進港  臺北港 / 空櫃      12839      13802      10686     13813\n",
       "8   進港  安平港 / 實櫃          0          2          6        38\n",
       "9   進港  安平港 / 空櫃         40         56         85        82\n",
       "10  出港  基隆港 / 實櫃      32582      32684      33018     25874\n",
       "11  出港  基隆港 / 空櫃      27644      29117      31356     26426\n",
       "12  出港  高雄港 / 實櫃     330879     330498     328196    315842\n",
       "13  出港  高雄港 / 空櫃      31997      40948      44047     42556\n",
       "14  出港  臺中港 / 實櫃      62830      71571      65296     50162\n",
       "15  出港  臺中港 / 空櫃       4385       4780       5126      7278\n",
       "16  出港  臺北港 / 實櫃      57424      60100      58465     56160\n",
       "17  出港  臺北港 / 空櫃      16601      17153      14013     17993\n",
       "18  出港  安平港 / 實櫃         52        171        286       154\n",
       "19  出港  安平港 / 空櫃          0          0          0         0"
      ]
     },
     "execution_count": 41,
     "metadata": {},
     "output_type": "execute_result"
    }
   ],
   "source": [
    "df"
   ]
  },
  {
   "cell_type": "code",
   "execution_count": 44,
   "metadata": {},
   "outputs": [],
   "source": [
    "df[\"港\"] = df[\"港口\"].str.split(\"/\").map(lambda x: x[0].strip())\n",
    "df[\"櫃別\"] = df[\"港口\"].str.split(\"/\").map(lambda x: x[-1].strip())"
   ]
  },
  {
   "cell_type": "code",
   "execution_count": 46,
   "metadata": {},
   "outputs": [],
   "source": [
    "df = df[[\"類別\", \"港\", \"櫃別\", \"2022/10/1\", \"2022/11/1\", \"2022/12/1\", \"2023/1/1\"]]"
   ]
  },
  {
   "cell_type": "code",
   "execution_count": 48,
   "metadata": {},
   "outputs": [],
   "source": [
    "df = df.set_index([\"類別\", '港', \"櫃別\"]).stack().reset_index()"
   ]
  },
  {
   "cell_type": "code",
   "execution_count": null,
   "metadata": {},
   "outputs": [],
   "source": []
  },
  {
   "cell_type": "code",
   "execution_count": 205,
   "metadata": {},
   "outputs": [],
   "source": [
    "df = df.set_index([\"國家\", \"目的\"]).stack().reset_index()"
   ]
  },
  {
   "cell_type": "code",
   "execution_count": 208,
   "metadata": {},
   "outputs": [],
   "source": [
    "df[0] = df[0].map(lambda x: x.replace(\",\", \"\")).astype(int)"
   ]
  },
  {
   "cell_type": "code",
   "execution_count": 209,
   "metadata": {},
   "outputs": [
    {
     "data": {
      "text/html": [
       "<div>\n",
       "<style scoped>\n",
       "    .dataframe tbody tr th:only-of-type {\n",
       "        vertical-align: middle;\n",
       "    }\n",
       "\n",
       "    .dataframe tbody tr th {\n",
       "        vertical-align: top;\n",
       "    }\n",
       "\n",
       "    .dataframe thead th {\n",
       "        text-align: right;\n",
       "    }\n",
       "</style>\n",
       "<table border=\"1\" class=\"dataframe\">\n",
       "  <thead>\n",
       "    <tr style=\"text-align: right;\">\n",
       "      <th></th>\n",
       "      <th>國家</th>\n",
       "      <th>目的</th>\n",
       "      <th>level_2</th>\n",
       "      <th>0</th>\n",
       "    </tr>\n",
       "  </thead>\n",
       "  <tbody>\n",
       "    <tr>\n",
       "      <th>0</th>\n",
       "      <td>香港、澳門</td>\n",
       "      <td>業務</td>\n",
       "      <td>2022/10/1</td>\n",
       "      <td>555</td>\n",
       "    </tr>\n",
       "    <tr>\n",
       "      <th>1</th>\n",
       "      <td>香港、澳門</td>\n",
       "      <td>業務</td>\n",
       "      <td>2022/11/1</td>\n",
       "      <td>1399</td>\n",
       "    </tr>\n",
       "    <tr>\n",
       "      <th>2</th>\n",
       "      <td>香港、澳門</td>\n",
       "      <td>業務</td>\n",
       "      <td>2022/12/1</td>\n",
       "      <td>1252</td>\n",
       "    </tr>\n",
       "    <tr>\n",
       "      <th>3</th>\n",
       "      <td>香港、澳門</td>\n",
       "      <td>業務</td>\n",
       "      <td>2023/1/1</td>\n",
       "      <td>1122</td>\n",
       "    </tr>\n",
       "    <tr>\n",
       "      <th>4</th>\n",
       "      <td>香港、澳門</td>\n",
       "      <td>觀光</td>\n",
       "      <td>2022/10/1</td>\n",
       "      <td>207</td>\n",
       "    </tr>\n",
       "    <tr>\n",
       "      <th>...</th>\n",
       "      <td>...</td>\n",
       "      <td>...</td>\n",
       "      <td>...</td>\n",
       "      <td>...</td>\n",
       "    </tr>\n",
       "    <tr>\n",
       "      <th>679</th>\n",
       "      <td>南非</td>\n",
       "      <td>其他</td>\n",
       "      <td>2023/1/1</td>\n",
       "      <td>253</td>\n",
       "    </tr>\n",
       "    <tr>\n",
       "      <th>680</th>\n",
       "      <td>南非</td>\n",
       "      <td>未列明</td>\n",
       "      <td>2022/10/1</td>\n",
       "      <td>0</td>\n",
       "    </tr>\n",
       "    <tr>\n",
       "      <th>681</th>\n",
       "      <td>南非</td>\n",
       "      <td>未列明</td>\n",
       "      <td>2022/11/1</td>\n",
       "      <td>0</td>\n",
       "    </tr>\n",
       "    <tr>\n",
       "      <th>682</th>\n",
       "      <td>南非</td>\n",
       "      <td>未列明</td>\n",
       "      <td>2022/12/1</td>\n",
       "      <td>0</td>\n",
       "    </tr>\n",
       "    <tr>\n",
       "      <th>683</th>\n",
       "      <td>南非</td>\n",
       "      <td>未列明</td>\n",
       "      <td>2023/1/1</td>\n",
       "      <td>0</td>\n",
       "    </tr>\n",
       "  </tbody>\n",
       "</table>\n",
       "<p>684 rows × 4 columns</p>\n",
       "</div>"
      ],
      "text/plain": [
       "        國家   目的    level_2     0\n",
       "0    香港、澳門   業務  2022/10/1   555\n",
       "1    香港、澳門   業務  2022/11/1  1399\n",
       "2    香港、澳門   業務  2022/12/1  1252\n",
       "3    香港、澳門   業務   2023/1/1  1122\n",
       "4    香港、澳門   觀光  2022/10/1   207\n",
       "..     ...  ...        ...   ...\n",
       "679     南非   其他   2023/1/1   253\n",
       "680     南非  未列明  2022/10/1     0\n",
       "681     南非  未列明  2022/11/1     0\n",
       "682     南非  未列明  2022/12/1     0\n",
       "683     南非  未列明   2023/1/1     0\n",
       "\n",
       "[684 rows x 4 columns]"
      ]
     },
     "execution_count": 209,
     "metadata": {},
     "output_type": "execute_result"
    }
   ],
   "source": [
    "df"
   ]
  },
  {
   "cell_type": "code",
   "execution_count": null,
   "metadata": {},
   "outputs": [],
   "source": []
  },
  {
   "cell_type": "code",
   "execution_count": null,
   "metadata": {},
   "outputs": [],
   "source": []
  },
  {
   "cell_type": "code",
   "execution_count": 2,
   "metadata": {},
   "outputs": [],
   "source": [
    "df = pd.read_clipboard()"
   ]
  },
  {
   "cell_type": "code",
   "execution_count": 5,
   "metadata": {},
   "outputs": [],
   "source": [
    "import re"
   ]
  },
  {
   "attachments": {},
   "cell_type": "markdown",
   "metadata": {},
   "source": [
    "## 商檢局輪胎規格提取"
   ]
  },
  {
   "cell_type": "code",
   "execution_count": 41,
   "metadata": {},
   "outputs": [],
   "source": [
    "pattern = r'(\\d{3}\\/\\d{2}\\s?[Rr]\\s?\\d{2,3}\\.?\\d{0,1})'"
   ]
  },
  {
   "cell_type": "code",
   "execution_count": 43,
   "metadata": {},
   "outputs": [],
   "source": [
    "df[\"規格\"] = df[\"size\"].str.extract(pattern)"
   ]
  },
  {
   "cell_type": "code",
   "execution_count": 47,
   "metadata": {},
   "outputs": [],
   "source": [
    "keywords = ['R150', 'M729', 'R168', 'R294']\n",
    "df[\"Contain_BS\"] = df[\"size\"].str.contains('R150|M729|R168|R294|bridgestone', case=False)"
   ]
  },
  {
   "cell_type": "code",
   "execution_count": 53,
   "metadata": {},
   "outputs": [],
   "source": [
    "df[\"Model_check\"] = df[\"model\"].str.contains('R150|M729|R168|R294|bridgestone', case=False)"
   ]
  },
  {
   "cell_type": "code",
   "execution_count": 59,
   "metadata": {},
   "outputs": [],
   "source": [
    "df[\"BS_Product\"] = df.apply(lambda x: \"Yes\" if x[\"Contain_BS\"] == True or x[\"Model_check\"] == True else \"No\", axis=1)"
   ]
  },
  {
   "cell_type": "code",
   "execution_count": 60,
   "metadata": {},
   "outputs": [
    {
     "data": {
      "text/html": [
       "<div>\n",
       "<style scoped>\n",
       "    .dataframe tbody tr th:only-of-type {\n",
       "        vertical-align: middle;\n",
       "    }\n",
       "\n",
       "    .dataframe tbody tr th {\n",
       "        vertical-align: top;\n",
       "    }\n",
       "\n",
       "    .dataframe thead th {\n",
       "        text-align: right;\n",
       "    }\n",
       "</style>\n",
       "<table border=\"1\" class=\"dataframe\">\n",
       "  <thead>\n",
       "    <tr style=\"text-align: right;\">\n",
       "      <th></th>\n",
       "      <th>month</th>\n",
       "      <th>company_name</th>\n",
       "      <th>tyre_type</th>\n",
       "      <th>category</th>\n",
       "      <th>upper_tag</th>\n",
       "      <th>lower_tag</th>\n",
       "      <th>cn_product_name</th>\n",
       "      <th>en_product_name</th>\n",
       "      <th>items</th>\n",
       "      <th>size</th>\n",
       "      <th>model</th>\n",
       "      <th>輪胎規格</th>\n",
       "      <th>寸別</th>\n",
       "      <th>規格</th>\n",
       "      <th>Contain_BS</th>\n",
       "      <th>Model_check</th>\n",
       "      <th>BS_Product</th>\n",
       "    </tr>\n",
       "  </thead>\n",
       "  <tbody>\n",
       "    <tr>\n",
       "      <th>0</th>\n",
       "      <td>1101210</td>\n",
       "      <td>台灣米其林輪胎股份有限公司</td>\n",
       "      <td>轎車用輪胎</td>\n",
       "      <td>IC1</td>\n",
       "      <td>7254921</td>\n",
       "      <td>7255673</td>\n",
       "      <td>轎車用輪胎</td>\n",
       "      <td>PASSENGER CAR RADIAL TYRE</td>\n",
       "      <td>1</td>\n",
       "      <td>235/40 R18 95W EXTRA LOAD TL PILOT SPORT 4 ST MI</td>\n",
       "      <td>NaN</td>\n",
       "      <td>235/40</td>\n",
       "      <td>18</td>\n",
       "      <td>235/40 R18</td>\n",
       "      <td>False</td>\n",
       "      <td>NaN</td>\n",
       "      <td>No</td>\n",
       "    </tr>\n",
       "    <tr>\n",
       "      <th>1</th>\n",
       "      <td>1101210</td>\n",
       "      <td>台灣米其林輪胎股份有限公司</td>\n",
       "      <td>轎車用輪胎</td>\n",
       "      <td>IC1</td>\n",
       "      <td>7254921</td>\n",
       "      <td>7255673</td>\n",
       "      <td>轎車用輪胎</td>\n",
       "      <td>PASSENGER CAR RADIAL TYRE</td>\n",
       "      <td>2</td>\n",
       "      <td>235/40 R18 95W EXTRA LOAD TL PILOT SPORT 4 ST MI</td>\n",
       "      <td>NaN</td>\n",
       "      <td>235/40</td>\n",
       "      <td>18</td>\n",
       "      <td>235/40 R18</td>\n",
       "      <td>False</td>\n",
       "      <td>NaN</td>\n",
       "      <td>No</td>\n",
       "    </tr>\n",
       "    <tr>\n",
       "      <th>2</th>\n",
       "      <td>1101210</td>\n",
       "      <td>台灣米其林輪胎股份有限公司</td>\n",
       "      <td>轎車用輪胎</td>\n",
       "      <td>IC1</td>\n",
       "      <td>7254921</td>\n",
       "      <td>7255673</td>\n",
       "      <td>轎車用輪胎</td>\n",
       "      <td>PASSENGER CAR RADIAL TYRE</td>\n",
       "      <td>3</td>\n",
       "      <td>235/45 ZR18 98Y EXTRA LOAD TL PILOT SPORT 4 ST MI</td>\n",
       "      <td>NaN</td>\n",
       "      <td>235/45 Z</td>\n",
       "      <td>18</td>\n",
       "      <td>NaN</td>\n",
       "      <td>False</td>\n",
       "      <td>NaN</td>\n",
       "      <td>No</td>\n",
       "    </tr>\n",
       "    <tr>\n",
       "      <th>3</th>\n",
       "      <td>1101210</td>\n",
       "      <td>台灣米其林輪胎股份有限公司</td>\n",
       "      <td>轎車用輪胎</td>\n",
       "      <td>IC1</td>\n",
       "      <td>7254921</td>\n",
       "      <td>7255673</td>\n",
       "      <td>轎車用輪胎</td>\n",
       "      <td>PASSENGER CAR RADIAL TYRE</td>\n",
       "      <td>4</td>\n",
       "      <td>215/55 R17 94V TL PRIMACY 4 ST AO MI</td>\n",
       "      <td>NaN</td>\n",
       "      <td>215/55</td>\n",
       "      <td>17</td>\n",
       "      <td>215/55 R17</td>\n",
       "      <td>False</td>\n",
       "      <td>NaN</td>\n",
       "      <td>No</td>\n",
       "    </tr>\n",
       "    <tr>\n",
       "      <th>4</th>\n",
       "      <td>1101210</td>\n",
       "      <td>台灣米其林輪胎股份有限公司</td>\n",
       "      <td>轎車用輪胎</td>\n",
       "      <td>IC1</td>\n",
       "      <td>7254921</td>\n",
       "      <td>7255673</td>\n",
       "      <td>轎車用輪胎</td>\n",
       "      <td>PASSENGER CAR RADIAL TYRE</td>\n",
       "      <td>5</td>\n",
       "      <td>265/50 R19 110Y XL TL PILOT SPORT 4 SUV FRV MI</td>\n",
       "      <td>NaN</td>\n",
       "      <td>265/50</td>\n",
       "      <td>19</td>\n",
       "      <td>265/50 R19</td>\n",
       "      <td>False</td>\n",
       "      <td>NaN</td>\n",
       "      <td>No</td>\n",
       "    </tr>\n",
       "    <tr>\n",
       "      <th>...</th>\n",
       "      <td>...</td>\n",
       "      <td>...</td>\n",
       "      <td>...</td>\n",
       "      <td>...</td>\n",
       "      <td>...</td>\n",
       "      <td>...</td>\n",
       "      <td>...</td>\n",
       "      <td>...</td>\n",
       "      <td>...</td>\n",
       "      <td>...</td>\n",
       "      <td>...</td>\n",
       "      <td>...</td>\n",
       "      <td>...</td>\n",
       "      <td>...</td>\n",
       "      <td>...</td>\n",
       "      <td>...</td>\n",
       "      <td>...</td>\n",
       "    </tr>\n",
       "    <tr>\n",
       "      <th>104665</th>\n",
       "      <td>1020411</td>\n",
       "      <td>米其林忠欣股份有限公司</td>\n",
       "      <td>卡客車用輪胎</td>\n",
       "      <td>HC3</td>\n",
       "      <td>1929880</td>\n",
       "      <td>1932365</td>\n",
       "      <td>輻射層輪胎</td>\n",
       "      <td>PASSENGER CAR RADIAL TYRE</td>\n",
       "      <td>11</td>\n",
       "      <td>235/55R18 100V TL LATTOURHP MI</td>\n",
       "      <td>NaN</td>\n",
       "      <td>235/55</td>\n",
       "      <td>18</td>\n",
       "      <td>235/55R18</td>\n",
       "      <td>False</td>\n",
       "      <td>NaN</td>\n",
       "      <td>No</td>\n",
       "    </tr>\n",
       "    <tr>\n",
       "      <th>104666</th>\n",
       "      <td>1020411</td>\n",
       "      <td>米其林忠欣股份有限公司</td>\n",
       "      <td>卡客車用輪胎</td>\n",
       "      <td>HC3</td>\n",
       "      <td>1929880</td>\n",
       "      <td>1932365</td>\n",
       "      <td>輻射層輪胎</td>\n",
       "      <td>PASSENGER CAR RADIAL TYRE</td>\n",
       "      <td>14</td>\n",
       "      <td>225/45ZR17 91W TL PILSP3 STMI</td>\n",
       "      <td>NaN</td>\n",
       "      <td>225/45Z</td>\n",
       "      <td>17</td>\n",
       "      <td>NaN</td>\n",
       "      <td>False</td>\n",
       "      <td>NaN</td>\n",
       "      <td>No</td>\n",
       "    </tr>\n",
       "    <tr>\n",
       "      <th>104667</th>\n",
       "      <td>1020411</td>\n",
       "      <td>米其林忠欣股份有限公司</td>\n",
       "      <td>卡客車用輪胎</td>\n",
       "      <td>HC3</td>\n",
       "      <td>1929880</td>\n",
       "      <td>1932365</td>\n",
       "      <td>輻射層輪胎</td>\n",
       "      <td>PASSENGER CAR RADIAL TYRE</td>\n",
       "      <td>15</td>\n",
       "      <td>215/45ZR17 91W XLTL PILSP3 ST MI</td>\n",
       "      <td>NaN</td>\n",
       "      <td>215/45Z</td>\n",
       "      <td>17</td>\n",
       "      <td>NaN</td>\n",
       "      <td>False</td>\n",
       "      <td>NaN</td>\n",
       "      <td>No</td>\n",
       "    </tr>\n",
       "    <tr>\n",
       "      <th>104668</th>\n",
       "      <td>1020411</td>\n",
       "      <td>米其林忠欣股份有限公司</td>\n",
       "      <td>卡客車用輪胎</td>\n",
       "      <td>HC3</td>\n",
       "      <td>1929880</td>\n",
       "      <td>1932365</td>\n",
       "      <td>輻射層輪胎</td>\n",
       "      <td>PASSENGER CAR RADIAL TYRE</td>\n",
       "      <td>16</td>\n",
       "      <td>235/50R17 96W TL PRIMACY LC MI</td>\n",
       "      <td>NaN</td>\n",
       "      <td>235/50</td>\n",
       "      <td>17</td>\n",
       "      <td>235/50R17</td>\n",
       "      <td>False</td>\n",
       "      <td>NaN</td>\n",
       "      <td>No</td>\n",
       "    </tr>\n",
       "    <tr>\n",
       "      <th>104669</th>\n",
       "      <td>1020411</td>\n",
       "      <td>米其林忠欣股份有限公司</td>\n",
       "      <td>卡客車用輪胎</td>\n",
       "      <td>HC3</td>\n",
       "      <td>1929880</td>\n",
       "      <td>1932365</td>\n",
       "      <td>輻射層輪胎</td>\n",
       "      <td>PASSENGER CAR RADIAL TYRE</td>\n",
       "      <td>17</td>\n",
       "      <td>195/55R15 85V TL PILSP3 STMI</td>\n",
       "      <td>NaN</td>\n",
       "      <td>195/55</td>\n",
       "      <td>15</td>\n",
       "      <td>195/55R15</td>\n",
       "      <td>False</td>\n",
       "      <td>NaN</td>\n",
       "      <td>No</td>\n",
       "    </tr>\n",
       "  </tbody>\n",
       "</table>\n",
       "<p>104670 rows × 17 columns</p>\n",
       "</div>"
      ],
      "text/plain": [
       "          month   company_name tyre_type category  upper_tag  lower_tag  \\\n",
       "0       1101210  台灣米其林輪胎股份有限公司     轎車用輪胎      IC1    7254921    7255673   \n",
       "1       1101210  台灣米其林輪胎股份有限公司     轎車用輪胎      IC1    7254921    7255673   \n",
       "2       1101210  台灣米其林輪胎股份有限公司     轎車用輪胎      IC1    7254921    7255673   \n",
       "3       1101210  台灣米其林輪胎股份有限公司     轎車用輪胎      IC1    7254921    7255673   \n",
       "4       1101210  台灣米其林輪胎股份有限公司     轎車用輪胎      IC1    7254921    7255673   \n",
       "...         ...            ...       ...      ...        ...        ...   \n",
       "104665  1020411    米其林忠欣股份有限公司    卡客車用輪胎      HC3    1929880    1932365   \n",
       "104666  1020411    米其林忠欣股份有限公司    卡客車用輪胎      HC3    1929880    1932365   \n",
       "104667  1020411    米其林忠欣股份有限公司    卡客車用輪胎      HC3    1929880    1932365   \n",
       "104668  1020411    米其林忠欣股份有限公司    卡客車用輪胎      HC3    1929880    1932365   \n",
       "104669  1020411    米其林忠欣股份有限公司    卡客車用輪胎      HC3    1929880    1932365   \n",
       "\n",
       "       cn_product_name            en_product_name  items  \\\n",
       "0                轎車用輪胎  PASSENGER CAR RADIAL TYRE      1   \n",
       "1                轎車用輪胎  PASSENGER CAR RADIAL TYRE      2   \n",
       "2                轎車用輪胎  PASSENGER CAR RADIAL TYRE      3   \n",
       "3                轎車用輪胎  PASSENGER CAR RADIAL TYRE      4   \n",
       "4                轎車用輪胎  PASSENGER CAR RADIAL TYRE      5   \n",
       "...                ...                        ...    ...   \n",
       "104665           輻射層輪胎  PASSENGER CAR RADIAL TYRE     11   \n",
       "104666           輻射層輪胎  PASSENGER CAR RADIAL TYRE     14   \n",
       "104667           輻射層輪胎  PASSENGER CAR RADIAL TYRE     15   \n",
       "104668           輻射層輪胎  PASSENGER CAR RADIAL TYRE     16   \n",
       "104669           輻射層輪胎  PASSENGER CAR RADIAL TYRE     17   \n",
       "\n",
       "                                                     size model      輪胎規格  \\\n",
       "0        235/40 R18 95W EXTRA LOAD TL PILOT SPORT 4 ST MI   NaN   235/40    \n",
       "1        235/40 R18 95W EXTRA LOAD TL PILOT SPORT 4 ST MI   NaN   235/40    \n",
       "2       235/45 ZR18 98Y EXTRA LOAD TL PILOT SPORT 4 ST MI   NaN  235/45 Z   \n",
       "3                    215/55 R17 94V TL PRIMACY 4 ST AO MI   NaN   215/55    \n",
       "4          265/50 R19 110Y XL TL PILOT SPORT 4 SUV FRV MI   NaN   265/50    \n",
       "...                                                   ...   ...       ...   \n",
       "104665                     235/55R18 100V TL LATTOURHP MI   NaN    235/55   \n",
       "104666                      225/45ZR17 91W TL PILSP3 STMI   NaN   225/45Z   \n",
       "104667                   215/45ZR17 91W XLTL PILSP3 ST MI   NaN   215/45Z   \n",
       "104668                     235/50R17 96W TL PRIMACY LC MI   NaN    235/50   \n",
       "104669                       195/55R15 85V TL PILSP3 STMI   NaN    195/55   \n",
       "\n",
       "         寸別          規格 Contain_BS Model_check BS_Product  \n",
       "0       18   235/40 R18      False         NaN         No  \n",
       "1       18   235/40 R18      False         NaN         No  \n",
       "2       18          NaN      False         NaN         No  \n",
       "3       17   215/55 R17      False         NaN         No  \n",
       "4       19   265/50 R19      False         NaN         No  \n",
       "...     ...         ...        ...         ...        ...  \n",
       "104665  18    235/55R18      False         NaN         No  \n",
       "104666  17          NaN      False         NaN         No  \n",
       "104667  17          NaN      False         NaN         No  \n",
       "104668  17    235/50R17      False         NaN         No  \n",
       "104669  15    195/55R15      False         NaN         No  \n",
       "\n",
       "[104670 rows x 17 columns]"
      ]
     },
     "execution_count": 60,
     "metadata": {},
     "output_type": "execute_result"
    }
   ],
   "source": [
    "df"
   ]
  },
  {
   "cell_type": "code",
   "execution_count": 61,
   "metadata": {},
   "outputs": [],
   "source": [
    "df.to_clipboard()"
   ]
  },
  {
   "attachments": {},
   "cell_type": "markdown",
   "metadata": {},
   "source": [
    "# 給GfK Jason的客戶名單"
   ]
  },
  {
   "cell_type": "code",
   "execution_count": 62,
   "metadata": {},
   "outputs": [],
   "source": [
    "df = pd.read_parquet(r\"D:\\kc.hsu\\OneDrive - Bridgestone\\數據\\銷售數據\\長期銷售記錄\\2017-202208.parquet\")"
   ]
  },
  {
   "cell_type": "code",
   "execution_count": 66,
   "metadata": {},
   "outputs": [],
   "source": [
    "df[\"實際出貨日\"] = pd.to_datetime(df[\"實際出貨日\"])"
   ]
  },
  {
   "cell_type": "code",
   "execution_count": 94,
   "metadata": {},
   "outputs": [
    {
     "data": {
      "text/plain": [
       "<pandas.core.groupby.generic.DataFrameGroupBy object at 0x000001D4DAA370A0>"
      ]
     },
     "execution_count": 94,
     "metadata": {},
     "output_type": "execute_result"
    }
   ],
   "source": [
    "df.groupby([pd.Grouper(key=\"實際出貨日\", freq=\"y\"), \"客戶名稱\", \"客戶登記地址\"])[[\"銷售數量\"]].sum().sort_values(by=[\"實際出貨日\", \"銷售數量\"], ascending=False).groupby(\"實際出貨日\")"
   ]
  },
  {
   "cell_type": "code",
   "execution_count": 136,
   "metadata": {},
   "outputs": [],
   "source": [
    "cum_df = df.groupby([pd.Grouper(key=\"實際出貨日\", freq=\"M\"), \"客戶名稱\"])[[\"銷售數量\"]].sum().reset_index()"
   ]
  },
  {
   "cell_type": "code",
   "execution_count": 139,
   "metadata": {},
   "outputs": [],
   "source": [
    "cum_df[\"累計條數\"] = cum_df[[\"客戶名稱\", \"銷售數量\"]].groupby(\"客戶名稱\").cumsum()"
   ]
  },
  {
   "cell_type": "code",
   "execution_count": 145,
   "metadata": {},
   "outputs": [],
   "source": [
    "cum_df.groupby([\"實際出貨日\", \"客戶名稱\"])[[\"累計條數\"]].sum().unstack(0).fillna(0).to_clipboard()"
   ]
  },
  {
   "cell_type": "code",
   "execution_count": null,
   "metadata": {},
   "outputs": [],
   "source": [
    "df.groupby([pd.Grouper(key=\"實際出貨日\", freq=\"M\"), \"客戶名稱\"])[[\"銷售數量\"]].sum().unstack(0).fillna(0)"
   ]
  },
  {
   "cell_type": "code",
   "execution_count": null,
   "metadata": {},
   "outputs": [],
   "source": []
  },
  {
   "cell_type": "code",
   "execution_count": null,
   "metadata": {},
   "outputs": [],
   "source": []
  },
  {
   "cell_type": "code",
   "execution_count": 146,
   "metadata": {},
   "outputs": [],
   "source": [
    "# 需求價格彈性\n",
    "df = pd.read_clipboard()"
   ]
  },
  {
   "cell_type": "code",
   "execution_count": 151,
   "metadata": {},
   "outputs": [],
   "source": [
    "df[\"日期\"] = pd.to_datetime(df[\"日期\"])"
   ]
  },
  {
   "cell_type": "code",
   "execution_count": 152,
   "metadata": {},
   "outputs": [
    {
     "data": {
      "text/html": [
       "<div>\n",
       "<style scoped>\n",
       "    .dataframe tbody tr th:only-of-type {\n",
       "        vertical-align: middle;\n",
       "    }\n",
       "\n",
       "    .dataframe tbody tr th {\n",
       "        vertical-align: top;\n",
       "    }\n",
       "\n",
       "    .dataframe thead th {\n",
       "        text-align: right;\n",
       "    }\n",
       "</style>\n",
       "<table border=\"1\" class=\"dataframe\">\n",
       "  <thead>\n",
       "    <tr style=\"text-align: right;\">\n",
       "      <th></th>\n",
       "      <th>日期</th>\n",
       "      <th>銷售數量</th>\n",
       "      <th>價格</th>\n",
       "      <th>銷售數量變化率</th>\n",
       "      <th>價格變化率</th>\n",
       "    </tr>\n",
       "  </thead>\n",
       "  <tbody>\n",
       "    <tr>\n",
       "      <th>0</th>\n",
       "      <td>2021-01-31</td>\n",
       "      <td>200</td>\n",
       "      <td>10</td>\n",
       "      <td>NaN</td>\n",
       "      <td>NaN</td>\n",
       "    </tr>\n",
       "    <tr>\n",
       "      <th>1</th>\n",
       "      <td>2021-02-28</td>\n",
       "      <td>180</td>\n",
       "      <td>12</td>\n",
       "      <td>-0.100000</td>\n",
       "      <td>0.200000</td>\n",
       "    </tr>\n",
       "    <tr>\n",
       "      <th>2</th>\n",
       "      <td>2021-03-31</td>\n",
       "      <td>150</td>\n",
       "      <td>14</td>\n",
       "      <td>-0.166667</td>\n",
       "      <td>0.166667</td>\n",
       "    </tr>\n",
       "    <tr>\n",
       "      <th>3</th>\n",
       "      <td>2021-04-30</td>\n",
       "      <td>120</td>\n",
       "      <td>16</td>\n",
       "      <td>-0.200000</td>\n",
       "      <td>0.142857</td>\n",
       "    </tr>\n",
       "    <tr>\n",
       "      <th>4</th>\n",
       "      <td>2021-05-31</td>\n",
       "      <td>100</td>\n",
       "      <td>18</td>\n",
       "      <td>-0.166667</td>\n",
       "      <td>0.125000</td>\n",
       "    </tr>\n",
       "  </tbody>\n",
       "</table>\n",
       "</div>"
      ],
      "text/plain": [
       "          日期  銷售數量  價格   銷售數量變化率     價格變化率\n",
       "0 2021-01-31   200  10       NaN       NaN\n",
       "1 2021-02-28   180  12 -0.100000  0.200000\n",
       "2 2021-03-31   150  14 -0.166667  0.166667\n",
       "3 2021-04-30   120  16 -0.200000  0.142857\n",
       "4 2021-05-31   100  18 -0.166667  0.125000"
      ]
     },
     "execution_count": 152,
     "metadata": {},
     "output_type": "execute_result"
    }
   ],
   "source": [
    "# 計算百分比變化\n",
    "df[\"銷售數量變化率\"] = df[\"銷售數量\"].pct_change()\n",
    "df[\"價格變化率\"] = df[\"價格\"].pct_change()\n",
    "df"
   ]
  },
  {
   "cell_type": "code",
   "execution_count": 154,
   "metadata": {},
   "outputs": [],
   "source": [
    "df = df.dropna()"
   ]
  },
  {
   "cell_type": "code",
   "execution_count": 159,
   "metadata": {},
   "outputs": [
    {
     "data": {
      "text/html": [
       "<div>\n",
       "<style scoped>\n",
       "    .dataframe tbody tr th:only-of-type {\n",
       "        vertical-align: middle;\n",
       "    }\n",
       "\n",
       "    .dataframe tbody tr th {\n",
       "        vertical-align: top;\n",
       "    }\n",
       "\n",
       "    .dataframe thead th {\n",
       "        text-align: right;\n",
       "    }\n",
       "</style>\n",
       "<table border=\"1\" class=\"dataframe\">\n",
       "  <thead>\n",
       "    <tr style=\"text-align: right;\">\n",
       "      <th></th>\n",
       "      <th>日期</th>\n",
       "      <th>銷售數量</th>\n",
       "      <th>價格</th>\n",
       "      <th>銷售數量變化率</th>\n",
       "      <th>價格變化率</th>\n",
       "      <th>需求彈性價格</th>\n",
       "    </tr>\n",
       "  </thead>\n",
       "  <tbody>\n",
       "    <tr>\n",
       "      <th>1</th>\n",
       "      <td>2021-02-28</td>\n",
       "      <td>180</td>\n",
       "      <td>12</td>\n",
       "      <td>-0.100000</td>\n",
       "      <td>0.200000</td>\n",
       "      <td>0.033333</td>\n",
       "    </tr>\n",
       "    <tr>\n",
       "      <th>2</th>\n",
       "      <td>2021-03-31</td>\n",
       "      <td>150</td>\n",
       "      <td>14</td>\n",
       "      <td>-0.166667</td>\n",
       "      <td>0.166667</td>\n",
       "      <td>0.093333</td>\n",
       "    </tr>\n",
       "    <tr>\n",
       "      <th>3</th>\n",
       "      <td>2021-04-30</td>\n",
       "      <td>120</td>\n",
       "      <td>16</td>\n",
       "      <td>-0.200000</td>\n",
       "      <td>0.142857</td>\n",
       "      <td>0.186667</td>\n",
       "    </tr>\n",
       "    <tr>\n",
       "      <th>4</th>\n",
       "      <td>2021-05-31</td>\n",
       "      <td>100</td>\n",
       "      <td>18</td>\n",
       "      <td>-0.166667</td>\n",
       "      <td>0.125000</td>\n",
       "      <td>0.240000</td>\n",
       "    </tr>\n",
       "  </tbody>\n",
       "</table>\n",
       "</div>"
      ],
      "text/plain": [
       "          日期  銷售數量  價格   銷售數量變化率     價格變化率    需求彈性價格\n",
       "1 2021-02-28   180  12 -0.100000  0.200000  0.033333\n",
       "2 2021-03-31   150  14 -0.166667  0.166667  0.093333\n",
       "3 2021-04-30   120  16 -0.200000  0.142857  0.186667\n",
       "4 2021-05-31   100  18 -0.166667  0.125000  0.240000"
      ]
     },
     "execution_count": 159,
     "metadata": {},
     "output_type": "execute_result"
    }
   ],
   "source": [
    "# 計算需求彈性價格\n",
    "df[\"需求彈性價格\"] = abs((df[\"銷售數量變化率\"] / df[\"價格變化率\"]) * (df[\"價格\"] / df[\"銷售數量\"]))\n",
    "df"
   ]
  },
  {
   "cell_type": "code",
   "execution_count": 160,
   "metadata": {},
   "outputs": [
    {
     "data": {
      "text/plain": [
       "count    4.000000\n",
       "mean     0.138333\n",
       "std      0.092596\n",
       "min      0.033333\n",
       "25%      0.078333\n",
       "50%      0.140000\n",
       "75%      0.200000\n",
       "max      0.240000\n",
       "Name: 需求彈性價格, dtype: float64"
      ]
     },
     "execution_count": 160,
     "metadata": {},
     "output_type": "execute_result"
    }
   ],
   "source": [
    "df[\"需求彈性價格\"].describe()"
   ]
  },
  {
   "cell_type": "code",
   "execution_count": 161,
   "metadata": {},
   "outputs": [
    {
     "data": {
      "text/plain": [
       "<AxesSubplot: xlabel='日期'>"
      ]
     },
     "execution_count": 161,
     "metadata": {},
     "output_type": "execute_result"
    },
    {
     "data": {
      "image/png": "[encoded data removed]",
      "text/plain": [
       "<Figure size 432x288 with 1 Axes>"
      ]
     },
     "metadata": {
      "needs_background": "light"
     },
     "output_type": "display_data"
    }
   ],
   "source": [
    "df.plot(x=\"日期\", y=\"需求彈性價格\")"
   ]
  }
 ],
 "metadata": {
  "kernelspec": {
   "display_name": "python_env",
   "language": "python",
   "name": "python3"
  },
  "language_info": {
   "codemirror_mode": {
    "name": "ipython",
    "version": 3
   },
   "file_extension": ".py",
   "mimetype": "text/x-python",
   "name": "python",
   "nbconvert_exporter": "python",
   "pygments_lexer": "ipython3",
   "version": "3.10.6"
  },
  "orig_nbformat": 4,
  "vscode": {
   "interpreter": {
    "hash": "0441e2ad242e60eb4d55752f5dea0f12731bd2d50ab9154f01b1a5615d7cc10b"
   }
  }
 },
 "nbformat": 4,
 "nbformat_minor": 2
}
