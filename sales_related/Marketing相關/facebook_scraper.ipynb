{
 "cells": [
  {
   "cell_type": "markdown",
   "id": "c4799afc-78d6-472d-a2d6-7b245b5c3752",
   "metadata": {},
   "source": [
    "## Usage\n",
    "[Github說明](https://github.com/TLYu0419/facebook_crawler)\n",
    "\n",
    "- Facebook Fanspage\n",
    "**範例**\n",
    "```python\n",
    "import facebook_crawler\n",
    "pageurl = \"your_link\"\n",
    "facebook_crawler.Crawl_PagePosts(pageurl=pageurl, until_date=\"2021-01-01\")\n",
    "```\n",
    "![範例圖片](https://raw.githubusercontent.com/TLYu0419/facebook_crawler/main/images/quickstart_fanspage.png)\n",
    "\n",
    "- Group\n",
    "**範例**\n",
    "```python\n",
    "import facebook_crawler\n",
    "groupurl = \"yourlink\"\n",
    "facebook_crawler.Crawl_GroupPosts(groupurl, until_date=\"2021-01-01\")\n",
    "```\n",
    "![範例圖片](https://raw.githubusercontent.com/TLYu0419/facebook_crawler/main/images/quickstart_group.png)"
   ]
  },
  {
   "cell_type": "code",
   "execution_count": null,
   "id": "b2546268-648c-4925-a56f-2689d32fe671",
   "metadata": {},
   "outputs": [],
   "source": [
    "import facebook_crawler"
   ]
  },
  {
   "cell_type": "code",
   "execution_count": null,
   "id": "ac692264-225d-4366-a433-17192be01b0f",
   "metadata": {},
   "outputs": [],
   "source": [
    "pageurl = \"https://zh-tw.facebook.com/BridgestoneTW/\"\n",
    "result = facebook_crawler.Crawl_PagePosts(pageurl=pageurl, until_date=\"2021-12-31\")"
   ]
  },
  {
   "cell_type": "code",
   "execution_count": null,
   "id": "6f032d7d-e956-4547-a488-76fdb8c7a63e",
   "metadata": {},
   "outputs": [],
   "source": [
    "result"
   ]
  },
  {
   "cell_type": "code",
   "execution_count": null,
   "id": "231940d8-9391-4aed-9bd5-6894903be10f",
   "metadata": {},
   "outputs": [],
   "source": [
    "pageurl = \"https://zh-tw.facebook.com/MichelinTireTaiwan/\"\n",
    "michelin = facebook_crawler.Crawl_PagePosts(pageurl=pageurl, until_date=\"2021-12-31\")"
   ]
  },
  {
   "cell_type": "code",
   "execution_count": null,
   "id": "50bd61ef-24af-4242-a6aa-539ad7dbf091",
   "metadata": {},
   "outputs": [],
   "source": [
    "michelin"
   ]
  },
  {
   "cell_type": "code",
   "execution_count": null,
   "id": "31823fa9-3abb-41d0-a399-2bd6c47fedef",
   "metadata": {},
   "outputs": [],
   "source": []
  }
 ],
 "metadata": {
  "kernelspec": {
   "display_name": "Python 3 (ipykernel)",
   "language": "python",
   "name": "python3"
  },
  "language_info": {
   "codemirror_mode": {
    "name": "ipython",
    "version": 3
   },
   "file_extension": ".py",
   "mimetype": "text/x-python",
   "name": "python",
   "nbconvert_exporter": "python",
   "pygments_lexer": "ipython3",
   "version": "3.9.7"
  }
 },
 "nbformat": 4,
 "nbformat_minor": 5
}
