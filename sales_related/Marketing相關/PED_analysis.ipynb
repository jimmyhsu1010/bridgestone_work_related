{
 "cells": [
  {
   "cell_type": "code",
   "execution_count": null,
   "metadata": {},
   "outputs": [],
   "source": [
    "# import numpy as np\n",
    "import pandas as pd\n",
    "pd.set_option(\"display.max_columns\", None)\n",
    "pd.set_option(\"mode.chained_assignment\", None)\n",
    "\n",
    "import warnings\n",
    "warnings.filterwarnings(\"ignore\")\n",
    "\n",
    "import matplotlib.pyplot as plt\n",
    "\n",
    "import tkinter as tk\n",
    "from tkinter import filedialog\n",
    "\n",
    "import statsmodels.api as sm\n",
    "# from statsmodels.formula.api import ols\n",
    "# from statsmodels.compat import lzip\n",
    "# from __future__ import print_function"
   ]
  },
  {
   "attachments": {},
   "cell_type": "markdown",
   "metadata": {},
   "source": [
    "$$ Price \\ Elasticity \\ of \\ Demand = \\frac{\\% \\ Change \\ in \\ \\color{red}{Quantity} \\ \\color{white}{Demand} \\ of \\ Product \\ \\color{red}{A}}{\\% \\ Change \\ in \\ \\color{red}{Price} \\ \\color{white}{of} \\ Product \\ \\color{red}{A}} $$\n",
    "$$ Cross \\ Price \\ Elasticity \\ of \\ Demand = \\frac{\\% \\ Change \\ in \\ \\color{red}{Quantity} \\ \\color{white}{Demand} \\ of \\ Product \\ \\color{red}{A}}{\\% \\ Change \\ in \\ \\color{red}{Price} \\ \\color{white}{of} \\ Product \\ \\color{red}{B}} $$"
   ]
  },
  {
   "attachments": {},
   "cell_type": "markdown",
   "metadata": {},
   "source": [
    "#### **Competitors/substitutes:**\n",
    "We would have a **positive** cross-price correlation:\n",
    "> ## When one product <font color=\"red\">decreases</font> price, another one's quantity sold <font color=\"red\">decreases</font>\n",
    "\n",
    "#### **Complements:**\n",
    "Getting a **negtive** cross-price correlation:\n",
    "> ## When one product <font color=\"red\">decreases</font> price, another one's quantity sold <font color=\"red\">increases</font>\n",
    "\n"
   ]
  },
  {
   "cell_type": "code",
   "execution_count": null,
   "metadata": {},
   "outputs": [],
   "source": [
    "root = tk.Tk()\n",
    "root.withdraw()\n",
    "path = filedialog.askopenfilename()"
   ]
  },
  {
   "cell_type": "code",
   "execution_count": null,
   "metadata": {},
   "outputs": [],
   "source": [
    "df = pd.read_csv(path, encoding=\"ISO-8859-1\")\n",
    "df_tbr = df[(df[\"BRIDGESTONE TYPE\"] == \"TBR\") & (df[\"DIMENSION (Truck Tyres)\"].str.contains(\"315/80/22.5\")) & (df[\"BRAND\"].isin([\"MAXXIS\", \"MICHELIN\", \"BRIDGESTONE\"]))]"
   ]
  },
  {
   "cell_type": "code",
   "execution_count": null,
   "metadata": {},
   "outputs": [],
   "source": [
    "df_tbr.columns"
   ]
  },
  {
   "cell_type": "code",
   "execution_count": null,
   "metadata": {},
   "outputs": [],
   "source": [
    "df_tbr[\"Product\"] = df_tbr[\"BRAND\"] + \" \" + df_tbr[\"Item\"] + \" \" + df_tbr[\"DIMENSION (Truck Tyres)\"]\n",
    "test1 = df_tbr.groupby([\"Period\", \"Product\"]).agg({\"PRICE TWD/UN.\": \"mean\", \"SALES UNITS\": \"sum\"}).reset_index()\n",
    "x_pivot = test1.pivot(index=\"Period\", columns=\"Product\", values=\"PRICE TWD/UN.\")\n",
    "y = test1.pivot(index=\"Period\", columns=\"Product\", values=\"SALES UNITS\")\n"
   ]
  },
  {
   "cell_type": "code",
   "execution_count": null,
   "metadata": {},
   "outputs": [],
   "source": [
    "x_values = pd.DataFrame(x_pivot.to_records())\n",
    "x_values.fillna(method=\"ffill\", inplace=True)\n",
    "x_values"
   ]
  },
  {
   "cell_type": "code",
   "execution_count": null,
   "metadata": {},
   "outputs": [],
   "source": [
    "y = y[[\"BRIDGESTONE R150 315/80/22.5\"]]\n",
    "y.columns = [\"R150 sales\"]\n",
    "y = y.reset_index()\n",
    "y"
   ]
  },
  {
   "cell_type": "code",
   "execution_count": null,
   "metadata": {},
   "outputs": [],
   "source": [
    "result = pd.merge(x_values, y, on=\"Period\")"
   ]
  },
  {
   "cell_type": "code",
   "execution_count": null,
   "metadata": {},
   "outputs": [],
   "source": [
    "result.dropna(inplace=True)"
   ]
  },
  {
   "cell_type": "code",
   "execution_count": null,
   "metadata": {},
   "outputs": [],
   "source": [
    "x_values = result.loc[:, result.columns[1:-1]]\n",
    "y = result.loc[:, result.columns[-1]]"
   ]
  },
  {
   "cell_type": "code",
   "execution_count": null,
   "metadata": {},
   "outputs": [],
   "source": [
    "mean_xvalues = x_values.mean()\n",
    "mean_yvalues = y.mean()"
   ]
  },
  {
   "cell_type": "code",
   "execution_count": null,
   "metadata": {},
   "outputs": [],
   "source": [
    "X = sm.add_constant(x_values)\n",
    "model = sm.OLS(y, X)\n",
    "result = model.fit()\n",
    "\n",
    "results_summry = result.summary()\n",
    "results_summry"
   ]
  },
  {
   "cell_type": "code",
   "execution_count": null,
   "metadata": {},
   "outputs": [],
   "source": [
    "result.pvalues"
   ]
  }
 ],
 "metadata": {
  "kernelspec": {
   "display_name": "Python 3",
   "language": "python",
   "name": "python3"
  },
  "language_info": {
   "codemirror_mode": {
    "name": "ipython",
    "version": 3
   },
   "file_extension": ".py",
   "mimetype": "text/x-python",
   "name": "python",
   "nbconvert_exporter": "python",
   "pygments_lexer": "ipython3",
   "version": "3.10.0"
  },
  "orig_nbformat": 4,
  "vscode": {
   "interpreter": {
    "hash": "83bcd499f304cb2df560b11dd702066b15552171a264d7f28fbe16386dba717d"
   }
  }
 },
 "nbformat": 4,
 "nbformat_minor": 2
}
