{
 "cells": [
  {
   "cell_type": "code",
   "execution_count": null,
   "id": "73117d88-2431-46b6-ba3c-85f873587b25",
   "metadata": {},
   "outputs": [],
   "source": [
    "import requests\n",
    "from bs4 import BeautifulSoup\n",
    "import pandas as pd\n",
    "pd.set_option(\"mode.chained_assignment\", None)\n",
    "import warnings\n",
    "warnings.filterwarnings('ignore')\n",
    "import tkinter as tk\n",
    "from tkinter import filedialog"
   ]
  },
  {
   "cell_type": "code",
   "execution_count": null,
   "id": "fbb700f9-6e56-4437-b687-542a64d1696d",
   "metadata": {},
   "outputs": [],
   "source": [
    "class BSMI:\n",
    "    def __init__(self, month):\n",
    "        self.month = int(month)\n",
    "        \n",
    "        \n",
    "    def get_company_info(self):\n",
    "        url = \"https://civil.bsmi.gov.tw/bsmi_pqn/pqn/uqi1105f.do\"\n",
    "        test = requests.post(url, data={\"state\":\"queryAll\", \"progID\":\"UQI1105F\", \"progName\":\"各類貨品檢驗合格名單查詢\", \"yearMonth\": self.month, \"kindTypes\": \"J401\", \"currentPage\": 1})\n",
    "        test = BeautifulSoup(test.text)\n",
    "        pages = int(test.find(\"div\", class_=\"col-xs-12 col-sm-6 col-md-6 col-lg-6\").getText().strip().split(\",\")[1].replace(\"共\", \",\").replace(\"頁\", \",\").split(\",\")[-2])\n",
    "        columns = [\"公司\", \"類型\", \"證號\"]\n",
    "        df = pd.DataFrame(columns=columns)\n",
    "        for page in range(1, pages + 1):\n",
    "            official = requests.post(url, data={\"state\":\"queryAll\", \"progID\":\"UQI1105F\", \"progName\":\"各類貨品檢驗合格名單查詢\", \"yearMonth\": self.month, \"kindTypes\": \"J401\", \"currentPage\": page})\n",
    "            res = BeautifulSoup(official.text)\n",
    "            for i in res.select(\"#listContainer > div.panel-body.listRows > div.row\"):\n",
    "                y = i.findAll(\"div\", class_=\"col-xs-12 col-sm-6 col-md-6 col-lg-4\")\n",
    "                serial = i.find(\"div\", class_=\"col-xs-12 col-sm-12 col-md-12 col-lg-4\").get_text()\n",
    "                data = [y[0].get_text().strip(), y[-1].get_text().strip(), serial.strip()]\n",
    "                s = pd.Series(data, index=[\"公司\", \"類型\", \"證號\"])\n",
    "                df = df.append(s, ignore_index=True)\n",
    "            # print(df)\n",
    "        df = df[~(df[\"公司\"] == \"廠商名稱\")]\n",
    "        df[\"證號\"] = df[\"證號\"].map(lambda x: x.replace(\" \", \"\"))\n",
    "        df[\"證號長度\"] = df[\"證號\"].map(lambda x: len(x))\n",
    "        df = df[df[\"證號長度\"] != 0]\n",
    "        df[\"證號\"] = df[\"證號\"].str.strip()\n",
    "        serial_numbers = df[\"證號\"].str.split(expand=True)\n",
    "        volume_cal = serial_numbers[1].str.split(\"~\", expand=True)\n",
    "        df[\"上排標籤\"] = serial_numbers[0]\n",
    "        df[\"下排標籤\"] = serial_numbers[1]\n",
    "        volume_cal[\"數量\"] = volume_cal[1].astype(int) - volume_cal[0].astype(int)\n",
    "        df[\"下排標籤\"] = df[\"下排標籤\"].map(lambda x: x.split(\"~\")[0])\n",
    "        df[\"日期\"] = self.month\n",
    "        df = df[[\"日期\", \"公司\", \"類型\", \"上排標籤\", \"下排標籤\"]]\n",
    "        df = pd.concat([df, volume_cal[\"數量\"]], axis=1)\n",
    "        file_path = \"D:/kc.hsu/OneDrive - Bridgestone/數據/標準檢驗局/20221011_\" + str(self.month) + \"所有公司清單.xlsx\"\n",
    "        df.to_excel(file_path, index=False)\n",
    "        return df"
   ]
  },
  {
   "cell_type": "code",
   "execution_count": null,
   "id": "0761f19a-8f64-4a86-89dd-7000a695ca6d",
   "metadata": {},
   "outputs": [],
   "source": [
    "months = [\"11010\", \"11011\", \"11012\", \"11101\", \"11102\", \"11103\", \"11104\"]"
   ]
  },
  {
   "cell_type": "code",
   "execution_count": null,
   "id": "770fad58-9a9c-49c1-a236-199e63360aee",
   "metadata": {},
   "outputs": [],
   "source": [
    "for month in months:\n",
    "    result = BSMI(month)\n",
    "    result.get_company_info()"
   ]
  },
  {
   "cell_type": "code",
   "execution_count": null,
   "id": "9c60309c-b9c4-4688-9632-f3866b0ccb60",
   "metadata": {
    "tags": []
   },
   "outputs": [],
   "source": [
    "url = \"https://civil.bsmi.gov.tw/bsmi_pqn/pqn/uqi1105f.do\""
   ]
  },
  {
   "cell_type": "code",
   "execution_count": null,
   "id": "cd5b99c2-17bc-4381-9b98-47b0801e3a1e",
   "metadata": {},
   "outputs": [],
   "source": [
    "# 取得月份和頁面數\n",
    "month = int(input(\"input month(ex:11109):\"))\n",
    "test = requests.post(url, data={\"state\":\"queryAll\", \"progID\":\"UQI1105F\", \"progName\":\"各類貨品檢驗合格名單查詢\", \"yearMonth\": month, \"kindTypes\": \"J401\", \"currentPage\": 1})\n",
    "test = BeautifulSoup(test.text)\n",
    "pages = int(test.find(\"div\", class_=\"col-xs-12 col-sm-6 col-md-6 col-lg-6\").getText().strip().split(\",\")[1].replace(\"共\", \",\").replace(\"頁\", \",\").split(\",\")[-2])"
   ]
  },
  {
   "cell_type": "code",
   "execution_count": null,
   "id": "9e67ba24-742c-4d8d-a5a3-812dd452adb4",
   "metadata": {},
   "outputs": [],
   "source": [
    "columns = [\"公司\", \"類型\", \"證號\"]\n",
    "df = pd.DataFrame(columns=columns)\n",
    "for page in range(1, pages + 1):\n",
    "    official = requests.post(url, data={\"state\":\"queryAll\", \"progID\":\"UQI1105F\", \"progName\":\"各類貨品檢驗合格名單查詢\", \"yearMonth\": month, \"kindTypes\": \"J401\", \"currentPage\": page})\n",
    "    test = BeautifulSoup(official.text)\n",
    "    for i in test.select(\"#listContainer > div.panel-body.listRows > div.row\"):\n",
    "        y = i.findAll(\"div\", class_=\"col-xs-12 col-sm-6 col-md-6 col-lg-4\")\n",
    "        serial = i.find(\"div\", class_=\"col-xs-12 col-sm-12 col-md-12 col-lg-4\").get_text()\n",
    "        data = [y[0].get_text().strip(), y[-1].get_text().strip(), serial.strip()]\n",
    "        s = pd.Series(data, index=[\"公司\", \"類型\", \"證號\"])\n",
    "        df = df.append(s, ignore_index=True)"
   ]
  },
  {
   "cell_type": "code",
   "execution_count": null,
   "id": "06de6a13-bd38-493f-a13b-73f93b163016",
   "metadata": {},
   "outputs": [],
   "source": [
    "df = df[~(df[\"公司\"] == \"廠商名稱\")]"
   ]
  },
  {
   "cell_type": "code",
   "execution_count": null,
   "id": "b497ee03-106c-4841-8711-39d9b6b42139",
   "metadata": {},
   "outputs": [],
   "source": [
    "df[\"證號\"] = df[\"證號\"].map(lambda x: x.replace(\" \", \"\"))"
   ]
  },
  {
   "cell_type": "code",
   "execution_count": null,
   "id": "dcaecc49-6183-4850-b6ac-a327e5a84d8d",
   "metadata": {},
   "outputs": [],
   "source": [
    "df[\"證號長度\"] = df[\"證號\"].map(lambda x: len(x))"
   ]
  },
  {
   "cell_type": "code",
   "execution_count": null,
   "id": "b1b40834-b43c-43c4-b31d-c6b9daa179ed",
   "metadata": {},
   "outputs": [],
   "source": [
    "df = df[df[\"證號長度\"] != 0]"
   ]
  },
  {
   "cell_type": "code",
   "execution_count": null,
   "id": "0c00573a-1dd2-45d3-942e-7cdcbc76dc30",
   "metadata": {},
   "outputs": [],
   "source": [
    "df[\"證號\"] = df[\"證號\"].str.strip()"
   ]
  },
  {
   "cell_type": "code",
   "execution_count": null,
   "id": "6bf0d83d-1cee-43b3-9afe-27299dc45b44",
   "metadata": {},
   "outputs": [],
   "source": [
    "test = df[\"證號\"].str.split(expand=True)"
   ]
  },
  {
   "cell_type": "code",
   "execution_count": null,
   "id": "7ba32181-c8b4-43a6-aeba-5a97c68d5087",
   "metadata": {},
   "outputs": [],
   "source": [
    "volume_cal = test[1].str.split(\"~\", expand=True)"
   ]
  },
  {
   "cell_type": "code",
   "execution_count": null,
   "id": "683d1737-7ced-439e-b075-c198c7af0336",
   "metadata": {},
   "outputs": [],
   "source": [
    "df[\"上排標籤\"] = test[0]"
   ]
  },
  {
   "cell_type": "code",
   "execution_count": null,
   "id": "c2aaeb30-3ee3-4e73-9606-537f7db66997",
   "metadata": {},
   "outputs": [],
   "source": [
    "df[\"下排標籤\"] = test[1]"
   ]
  },
  {
   "cell_type": "code",
   "execution_count": null,
   "id": "df17227a-5467-4106-96e0-ce3033bdff1e",
   "metadata": {},
   "outputs": [],
   "source": [
    "volume_cal[\"數量\"] = volume_cal[1].astype(int) - volume_cal[0].astype(int)"
   ]
  },
  {
   "cell_type": "code",
   "execution_count": null,
   "id": "e4cd788d-780f-4890-b451-bfc080bbe121",
   "metadata": {},
   "outputs": [],
   "source": [
    "volume_cal"
   ]
  },
  {
   "cell_type": "code",
   "execution_count": null,
   "id": "138b7d57-60a5-420d-aca2-714a48d76642",
   "metadata": {},
   "outputs": [],
   "source": [
    "df[\"下排標籤\"] = df[\"下排標籤\"].map(lambda x: x.split(\"~\")[0])"
   ]
  },
  {
   "cell_type": "code",
   "execution_count": null,
   "id": "cd250871-a585-4e6c-b04d-a28d493a1c8e",
   "metadata": {},
   "outputs": [],
   "source": [
    "df[\"日期\"] = month"
   ]
  },
  {
   "cell_type": "code",
   "execution_count": null,
   "id": "6449eda3-fb51-4dd3-9f4e-307c1e4ce992",
   "metadata": {},
   "outputs": [],
   "source": [
    "df = df[[\"日期\", \"公司\", \"類型\", \"上排標籤\", \"下排標籤\"]]"
   ]
  },
  {
   "cell_type": "code",
   "execution_count": null,
   "id": "df37ac29-88c4-4850-acf2-e10a4993b359",
   "metadata": {},
   "outputs": [],
   "source": [
    "df = pd.concat([df, volume_cal[\"數量\"]], axis=1)"
   ]
  },
  {
   "cell_type": "code",
   "execution_count": null,
   "id": "b4007ac5-002f-493f-87fd-396a79dba212",
   "metadata": {},
   "outputs": [],
   "source": [
    "df"
   ]
  },
  {
   "cell_type": "code",
   "execution_count": null,
   "id": "d2f1e3b3-d5d3-4d59-a842-7a161787019c",
   "metadata": {},
   "outputs": [],
   "source": [
    "file_path = \"D:/kc.hsu/OneDrive - Bridgestone/數據/標準檢驗局/20221011_\" + str(month) + \"所有公司清單.xlsx\""
   ]
  },
  {
   "cell_type": "code",
   "execution_count": null,
   "id": "44200157-75cd-4843-82ae-fed31601fcfe",
   "metadata": {},
   "outputs": [],
   "source": [
    "file_path"
   ]
  },
  {
   "cell_type": "code",
   "execution_count": null,
   "id": "251dceed-75fa-43ee-9c96-a2c5a9d656ef",
   "metadata": {},
   "outputs": [],
   "source": [
    "df.to_excel(file_path, index=False)"
   ]
  },
  {
   "cell_type": "markdown",
   "id": "4f9f3e46-6efc-4156-a6ed-325f75a2dd02",
   "metadata": {},
   "source": [
    "## 使用公司清單爬取詳細數據"
   ]
  },
  {
   "cell_type": "code",
   "execution_count": null,
   "id": "bfc1b011-1e75-4a8b-ad86-bb9322db7aa8",
   "metadata": {},
   "outputs": [],
   "source": [
    "root = tk.Tk()\n",
    "root.withdraw()\n",
    "file_paths = filedialog.askopenfilenames()"
   ]
  },
  {
   "cell_type": "code",
   "execution_count": null,
   "id": "09910bfe-b645-43b0-9340-26021fed7918",
   "metadata": {},
   "outputs": [],
   "source": [
    "months = [\"11105\", \"11106\", \"11107\"]"
   ]
  },
  {
   "cell_type": "code",
   "execution_count": null,
   "id": "11d6c10a-51b2-4a69-ac76-09f96443292f",
   "metadata": {},
   "outputs": [],
   "source": [
    "for path, month in zip(file_paths, months):\n",
    "    source = pd.read_excel(path)\n",
    "    source[\"合併\"] = source[[\"上排標籤\", \"下排標籤\"]].apply(tuple, axis=1)\n",
    "    dataframe_list = []\n",
    "    for x, j in zip(source[\"公司\"], source[\"合併\"]):\n",
    "        check_url = \"https://civil.bsmi.gov.tw/bsmi_pqn/pqn/uqi5101f.do\"\n",
    "        result = requests.post(check_url, data={\"state\": \"queryAll\", \"progID\": \"UQI5101F\", \"progName\": \"檢驗標識-標準檢驗局印製\", \"q_markYearPer\": j[0], \"q_markNo\": j[-1], \"currenPage\": 1})\n",
    "        bs = BeautifulSoup(result.text, \"html.parser\")\n",
    "        detail = bs.find(\"div\", id=\"listDetailContainer\", class_=\"panel panel-default panel-collapse\")\n",
    "        date = []\n",
    "        company_names = []\n",
    "        cn_names = []\n",
    "        en_names = []\n",
    "        no = []\n",
    "        size = []\n",
    "        pattern = []\n",
    "        try:\n",
    "            for i in detail.find_all(\"div\", class_=\"form-group row\"):\n",
    "                text = i.find(\"div\", class_=\"col-xs-8 col-sm-9 col-md-9 col-lg-9\")\n",
    "                title = i.find(\"label\", class_=\"control-label col-xs-4 col-sm-3 col-md-3 col-lg-3\").get_text()\n",
    "                text = text.get_text().strip()\n",
    "                result = [title, text]\n",
    "                date.append(str(month))\n",
    "                company_names.append(x)\n",
    "                # print(result)\n",
    "                if \"品名中文\" in result[0]:\n",
    "                    cn_names.append(text)\n",
    "                elif \"品名英文\" in result[0]:\n",
    "                    en_names.append(text)\n",
    "                elif \"項次\" in result[0]:\n",
    "                    no.append(text)\n",
    "                elif \"規格\" in result[0]:\n",
    "                    size.append(text)\n",
    "                else:\n",
    "                    pattern.append(text)    \n",
    "            df = pd.DataFrame(zip(date, company_names, cn_names, en_names, no, size, pattern), columns=[\"日期\", \"公司名\", \"中文品名\", \"英文品名\", \"項次\", \"規格\", \"型號\"])\n",
    "            dataframe_list.append(df)\n",
    "        except:\n",
    "            pass\n",
    "    final_result = pd.concat(dataframe_list).reset_index(drop=True)\n",
    "    file_path = \"D:/kc.hsu/OneDrive - Bridgestone/數據/標準檢驗局/20221011_\" + str(month) + \"所有商品檢驗局清單.xlsx\"\n",
    "    final_result.to_excel(file_path, index=False)\n",
    "    "
   ]
  },
  {
   "cell_type": "markdown",
   "id": "276d83fe-b130-49fb-8020-85beff97150b",
   "metadata": {},
   "source": [
    "## 合併所有的公司清單和完整商品清單"
   ]
  },
  {
   "cell_type": "code",
   "execution_count": null,
   "id": "fc81df87-cd58-45ec-8efd-880d9ade574e",
   "metadata": {},
   "outputs": [],
   "source": [
    "root = tk.Tk()\n",
    "root.withdraw()\n",
    "file_paths = filedialog.askopenfilenames()\n",
    "dfs = []\n",
    "for path in file_paths:\n",
    "    df = pd.read_excel(path)\n",
    "    dfs.append(df)\n",
    "result = pd.concat(dfs)\n",
    "result.to_excel(r\"D:\\kc.hsu\\OneDrive - Bridgestone\\數據\\標準檢驗局\\202110-202209合併所有商品檢驗局清單.xlsx\", index=False)"
   ]
  },
  {
   "cell_type": "code",
   "execution_count": null,
   "id": "2947b472-0004-401f-98e5-b92c0050dd54",
   "metadata": {},
   "outputs": [],
   "source": []
  }
 ],
 "metadata": {
  "kernelspec": {
   "display_name": "Python 3 (ipykernel)",
   "language": "python",
   "name": "python3"
  },
  "language_info": {
   "codemirror_mode": {
    "name": "ipython",
    "version": 3
   },
   "file_extension": ".py",
   "mimetype": "text/x-python",
   "name": "python",
   "nbconvert_exporter": "python",
   "pygments_lexer": "ipython3",
   "version": "3.10.6"
  }
 },
 "nbformat": 4,
 "nbformat_minor": 5
}
