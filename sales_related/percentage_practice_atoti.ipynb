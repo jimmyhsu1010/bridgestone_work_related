{
 "cells": [
  {
   "cell_type": "code",
   "execution_count": null,
   "id": "2ea034a9-d22c-43d8-8a4c-1f5117c35fda",
   "metadata": {},
   "outputs": [],
   "source": [
    "import pandas as pd\n",
    "import atoti as tt\n",
    "import calendar\n",
    "pd.set_option(\"display.max_columns\", None)"
   ]
  },
  {
   "cell_type": "code",
   "execution_count": null,
   "id": "98fedd0f-f849-406d-8b3b-64cd028c2506",
   "metadata": {},
   "outputs": [],
   "source": [
    "df = pd.read_csv(\"GFK_CUSTOMREPORT_TRUCKTIRE_TW_BRIDGESTONE_Feb22 2.csv\")"
   ]
  },
  {
   "cell_type": "code",
   "execution_count": null,
   "id": "9fca458d-7eb6-46d8-8ee1-0e30c490ad55",
   "metadata": {},
   "outputs": [],
   "source": [
    "df.columns = df.columns.str.replace(\"/\", \"\")"
   ]
  },
  {
   "cell_type": "code",
   "execution_count": null,
   "id": "3413a892-3244-4f7f-bd9f-4e3066722bd6",
   "metadata": {},
   "outputs": [],
   "source": [
    "df.columns = df.columns.str.replace(\"'\", \"\")"
   ]
  },
  {
   "cell_type": "code",
   "execution_count": null,
   "id": "294bfbed-99ce-4dff-ad08-780dcd847558",
   "metadata": {},
   "outputs": [],
   "source": [
    "df = df[['Period', 'Item', 'BRAND', 'REGION', 'BRIDGESTONE TYPE',\n",
    "       'DIMENSION (Truck Tyres)', 'RIMDIAMET.MM', 'WIDTH IN INCH',\n",
    "       'WIDTH IN MM', 'ASPECT RATIO', 'TUBE  TUBLESS', 'LOADINDEX',\n",
    "       'SPEEDINDEX', 'FirstActivity', 'SALES UNITS', 'SALES <LC>',\n",
    "       'PRICE TWDUN.']]"
   ]
  },
  {
   "cell_type": "code",
   "execution_count": null,
   "id": "d4c5babb-a0b5-441a-8427-9daf577a2023",
   "metadata": {},
   "outputs": [],
   "source": [
    "month = [calendar.month_name[i].upper()[:3] for i in range(1, 13)]\n",
    "mon_num = [str(i) if len(str(i)) > 1 else \"0\" + str(i) for i in range(1, 13)]\n",
    "mon_dict = dict(zip(month, mon_num))\n",
    "year_dict = {\"22\": \"2022\", \"21\": \"2021\", \"20\": \"2020\"}"
   ]
  },
  {
   "cell_type": "code",
   "execution_count": null,
   "id": "e81306ea-f56e-40b6-9cb1-4d7be8a5ad09",
   "metadata": {},
   "outputs": [],
   "source": [
    "def normalize_date(x):\n",
    "    month = x[:3]\n",
    "    year = x[-2:]\n",
    "    mon = mon_dict[month]\n",
    "    yr = year_dict[year]\n",
    "    date = yr + mon + \"15\"\n",
    "    return date"
   ]
  },
  {
   "cell_type": "code",
   "execution_count": null,
   "id": "06034639-9b53-4454-a1bc-041fca64d139",
   "metadata": {},
   "outputs": [],
   "source": [
    "df[\"Period\"] = df[\"Period\"].map(normalize_date)"
   ]
  },
  {
   "cell_type": "code",
   "execution_count": null,
   "id": "b4f2cdf5-3f20-499b-a128-8c9da4da8d74",
   "metadata": {},
   "outputs": [],
   "source": [
    "df[\"Period\"] = pd.to_datetime(df[\"Period\"], yearfirst=True)"
   ]
  },
  {
   "cell_type": "code",
   "execution_count": null,
   "id": "eaaf873b-33e4-4801-a69e-5fe688fbde04",
   "metadata": {},
   "outputs": [],
   "source": [
    "top_5 = df[(df[\"Period\"] == \"2022-02-15\")].groupby([\"BRAND\"])[\"SALES UNITS\"].sum().reset_index().sort_values(by=\"SALES UNITS\", ascending=False)[\"BRAND\"].tolist()[:5]"
   ]
  },
  {
   "cell_type": "code",
   "execution_count": null,
   "id": "7a8d0021-f349-47fe-8728-2151f3540004",
   "metadata": {},
   "outputs": [],
   "source": [
    "df[\"Category\"] = df[\"BRAND\"].map(lambda x: x if x in top_5 else \"THE OTHERS\")"
   ]
  },
  {
   "cell_type": "code",
   "execution_count": null,
   "id": "253bd5c2-8da2-4d6f-898a-8cee6f2510a2",
   "metadata": {},
   "outputs": [],
   "source": [
    "df[\"Year\"] = df[\"Period\"].dt.year\n",
    "df[\"Month\"] = df[\"Period\"].dt.month_name()\n",
    "df[\"Date\"] = df[\"Period\"].dt.date"
   ]
  },
  {
   "cell_type": "code",
   "execution_count": null,
   "id": "91a65620-631c-4a90-85de-17339ecd6b35",
   "metadata": {},
   "outputs": [],
   "source": [
    "df = df.astype({\"SALES UNITS\": int, \"SALES <LC>\": int, \"PRICE TWDUN.\": int, \"Year\": str, \"Month\": str})"
   ]
  },
  {
   "cell_type": "markdown",
   "id": "a889bf6f-c97d-41db-800e-08b6ee4e755c",
   "metadata": {},
   "source": [
    "## Create the session for Atoti"
   ]
  },
  {
   "cell_type": "code",
   "execution_count": null,
   "id": "96f2ce23-2900-4749-be02-3a4911c7c31f",
   "metadata": {},
   "outputs": [],
   "source": [
    "keys = [\"Period\", \"Item\", \"BRAND\", \"DIMENSION (Truck Tyres)\", \"REGION\"]"
   ]
  },
  {
   "cell_type": "code",
   "execution_count": null,
   "id": "83d7554b-17a1-4f3a-b4bb-b04412adab77",
   "metadata": {},
   "outputs": [],
   "source": [
    "session = tt.create_session()"
   ]
  },
  {
   "cell_type": "code",
   "execution_count": null,
   "id": "890987af-6903-43bb-83c9-9f288ed2015f",
   "metadata": {},
   "outputs": [],
   "source": [
    "data = session.read_pandas(df, keys=keys, table_name=\"gfk\", types={\"SALES UNITS\": tt.type.INT, \"SALES <LC>\": tt.type.INT, \"PRICE TWDUN.\": tt.type.INT})"
   ]
  },
  {
   "cell_type": "code",
   "execution_count": null,
   "id": "8279bfef-b3b4-42ec-8010-b6828f433b56",
   "metadata": {},
   "outputs": [],
   "source": [
    "cube = session.create_cube(data, \"GFK\")"
   ]
  },
  {
   "cell_type": "code",
   "execution_count": null,
   "id": "edb79cbd-65b0-4ef8-b15c-f6f490076a09",
   "metadata": {},
   "outputs": [],
   "source": [
    "h, l, m = cube.hierarchies, cube.levels, cube.measures"
   ]
  },
  {
   "cell_type": "code",
   "execution_count": null,
   "id": "4be06869-ebab-424a-836c-05ca38c66dc7",
   "metadata": {},
   "outputs": [],
   "source": [
    "session.link()"
   ]
  },
  {
   "cell_type": "code",
   "execution_count": null,
   "id": "0aff5a42-a790-471b-82aa-ad507b9be4ff",
   "metadata": {},
   "outputs": [],
   "source": [
    "h[\"Period\"] = [data[\"Year\"], data[\"Month\"], data[\"Date\"]]"
   ]
  },
  {
   "cell_type": "code",
   "execution_count": null,
   "id": "3a311807-fbbb-4e82-8364-d2e9d7866e3a",
   "metadata": {},
   "outputs": [],
   "source": [
    "orders = [str(i) for i in range(1, 13)]"
   ]
  },
  {
   "cell_type": "code",
   "execution_count": null,
   "id": "06d5ea8a-93d8-4422-bbae-ddc09f3ea828",
   "metadata": {},
   "outputs": [],
   "source": [
    "month_names = [calendar.month_name[i] for i in range(1, 13)]"
   ]
  },
  {
   "cell_type": "code",
   "execution_count": null,
   "id": "22701a5c-1310-45c8-9b67-102423f142f5",
   "metadata": {},
   "outputs": [],
   "source": [
    "month_names"
   ]
  },
  {
   "cell_type": "code",
   "execution_count": null,
   "id": "a313824d-5e43-4340-a3f4-5b8b4b1dd4f5",
   "metadata": {},
   "outputs": [],
   "source": [
    "## 對於String類型的值，要建立順序的話，可以用comparator.first_members來指定順序。\n",
    "## 但是如果level裡面有重複的欄位名稱的話，需要將l[\"\", \"\", \"\"]的層級指定出來再呼叫.comparator\n",
    "\n",
    "l[\"gfk\", \"Period\", \"Month\"].comparator = tt.comparator.first_members('January', 'February', 'March', 'April', 'May', 'June', 'July', 'August', 'September', 'October', 'November', 'December')"
   ]
  },
  {
   "cell_type": "code",
   "execution_count": null,
   "id": "c1ee8253-0a27-43d0-addc-10c2ce8d6726",
   "metadata": {},
   "outputs": [],
   "source": [
    "m"
   ]
  },
  {
   "cell_type": "code",
   "execution_count": null,
   "id": "ae319302-da05-4aee-9480-5e71aee270a8",
   "metadata": {},
   "outputs": [],
   "source": [
    "help(tt.parent_value)"
   ]
  },
  {
   "cell_type": "code",
   "execution_count": null,
   "id": "471ce42d-6333-49b2-9c27-d775195c3e76",
   "metadata": {},
   "outputs": [],
   "source": [
    "m[\"SALES UNIT in % of Parent\"] = m[\"SALES UNITS.SUM\"] / tt.parent_value(m[\"SALES UNITS.SUM\"], degrees={h[\"Period\"]: 1}, apply_filters=True, total_value=m[\"SALES UNITS.SUM\"])"
   ]
  },
  {
   "cell_type": "code",
   "execution_count": null,
   "id": "fb8874de-be36-432c-9f59-5e55040d5eab",
   "metadata": {},
   "outputs": [],
   "source": [
    "m[\"SALES UNIT in % of Parent\"].formatter = \"DOUBLE[0.0%]\""
   ]
  },
  {
   "cell_type": "code",
   "execution_count": null,
   "id": "ce7da2cd-5960-40eb-9ba0-fb3019f0ab64",
   "metadata": {},
   "outputs": [],
   "source": [
    "m[\"SALES UNIT in % of Parent for categories\"] = m[\"SALES UNITS.SUM\"] / tt.parent_value(m[\"SALES UNITS.SUM\"], degrees={h[\"Category\"]: 1}, apply_filters=True, total_value=m[\"SALES UNITS.SUM\"])"
   ]
  },
  {
   "cell_type": "code",
   "execution_count": null,
   "id": "83848884-5787-419c-8f8a-1088e623411f",
   "metadata": {},
   "outputs": [],
   "source": [
    "m[\"SALES UNIT in % of Parent for categories\"].formatter = \"DOUBLE[0.0%]\""
   ]
  },
  {
   "cell_type": "code",
   "execution_count": null,
   "id": "48c1a467-080d-4acd-a59a-f1afd5876c91",
   "metadata": {},
   "outputs": [],
   "source": []
  }
 ],
 "metadata": {
  "kernelspec": {
   "display_name": "Python 3",
   "language": "python",
   "name": "python3"
  },
  "language_info": {
   "codemirror_mode": {
    "name": "ipython",
    "version": 3
   },
   "file_extension": ".py",
   "mimetype": "text/x-python",
   "name": "python",
   "nbconvert_exporter": "python",
   "pygments_lexer": "ipython3",
   "version": "3.8.3"
  }
 },
 "nbformat": 4,
 "nbformat_minor": 5
}
