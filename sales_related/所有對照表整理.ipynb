{
 "cells": [
  {
   "cell_type": "code",
   "execution_count": null,
   "id": "42936c34-6c59-4d21-af05-616ff6212da6",
   "metadata": {},
   "outputs": [],
   "source": [
    "import pandas as pd\n",
    "pd.set_option(\"display.max_columns\", None)"
   ]
  },
  {
   "cell_type": "markdown",
   "id": "1f2e570f-57d6-4950-ab60-641e23222d3e",
   "metadata": {},
   "source": [
    "## 整理PCODE順序表"
   ]
  },
  {
   "cell_type": "markdown",
   "id": "8ee235a8-a582-4257-84ed-5e0e46465a4d",
   "metadata": {},
   "source": [
    "#### 整理李濰的POS對照表"
   ]
  },
  {
   "cell_type": "code",
   "execution_count": null,
   "id": "dedfd1e2-e112-4581-80be-3a3c87ba55c9",
   "metadata": {},
   "outputs": [],
   "source": [
    "tbr_premium_list = [\"R102\", \"R108\", \"R156\", \"R159\", \"M749\", \"R109\", \"R118\", \"R218\", \"UAP1Z\", \"M729\", \"M766\", \"M798\", \"M866\", \"M840\",\n",
    "                    \"M851\", \"R150\", \"R154\", \"R156\", \"R157\", \"R162\", \"R192\", \"R249\", \"UAP001\", \"U-AP1\", \"R154 LRR\", \"R150BZ\", \"R150AZ\", \"UAP1\",\n",
    "                   \"R150EZ\"]"
   ]
  },
  {
   "cell_type": "code",
   "execution_count": null,
   "id": "87c4bcd5-5703-487e-ad4d-c22d2d5e225e",
   "metadata": {},
   "outputs": [],
   "source": [
    "df = pd.read_clipboard()"
   ]
  },
  {
   "cell_type": "code",
   "execution_count": null,
   "id": "ba5c784b-f6d7-44d0-9f1c-57e164d02318",
   "metadata": {},
   "outputs": [],
   "source": [
    "x = df[[\"Latest PCODE\", \"PCODE 2\", \"PCODE 3\"]].values.tolist()"
   ]
  },
  {
   "cell_type": "code",
   "execution_count": null,
   "id": "a34a012c-2bba-4f88-a828-18aaf6d009b2",
   "metadata": {},
   "outputs": [],
   "source": [
    "df[\"new\"] = x"
   ]
  },
  {
   "cell_type": "code",
   "execution_count": null,
   "id": "e9ce8dde-b13c-4002-97c3-5184cae966c1",
   "metadata": {},
   "outputs": [],
   "source": [
    "result = df.explode(\"new\")"
   ]
  },
  {
   "cell_type": "code",
   "execution_count": null,
   "id": "a7d88ad5-8c9d-4c8c-a58d-3313da72d1e6",
   "metadata": {},
   "outputs": [],
   "source": [
    "result = result[[\"new\", \"Size\", \"Pattern\", \"Origin\"]]"
   ]
  },
  {
   "cell_type": "code",
   "execution_count": null,
   "id": "06b9677e-6385-49a6-bca6-afd2e954948f",
   "metadata": {},
   "outputs": [],
   "source": [
    "result = result[~(result[\"new\"] == \"0\")]"
   ]
  },
  {
   "cell_type": "code",
   "execution_count": null,
   "id": "e5de9fa1-ee01-48b8-b797-418ad69de561",
   "metadata": {},
   "outputs": [],
   "source": [
    "result[\"Pattern\"].unique()"
   ]
  },
  {
   "cell_type": "code",
   "execution_count": null,
   "id": "837b9689-ad98-4a26-984e-fd19e4228563",
   "metadata": {},
   "outputs": [],
   "source": [
    "result[\"TBR Premium\"] = result[\"Pattern\"].map(lambda x: \"Yes\" if x in tbr_premium_list else \"No\")"
   ]
  },
  {
   "cell_type": "code",
   "execution_count": null,
   "id": "0c8e6e15-adf5-45d8-a122-9ca0f6d1cfa0",
   "metadata": {},
   "outputs": [],
   "source": [
    "result.to_excel(r\"D:\\kc.hsu\\OneDrive - Bridgestone\\Products management\\PCODE整理表格\\20220808_TBR-Premium-list.xlsx\", index=False)"
   ]
  },
  {
   "cell_type": "markdown",
   "id": "20e8d619-bf80-4767-b0d7-7086f385caa7",
   "metadata": {},
   "source": [
    "#### 這邊是正文"
   ]
  },
  {
   "cell_type": "code",
   "execution_count": null,
   "id": "02e30a28-2a90-4371-8c27-e3d06a7680fb",
   "metadata": {},
   "outputs": [],
   "source": [
    "df = pd.read_excel(r\"C:\\Users\\kc.hsu\\Desktop\\PCODE整理表.xlsx\", None)"
   ]
  },
  {
   "cell_type": "code",
   "execution_count": null,
   "id": "e544d798-8556-4fb2-b18b-34d394db2942",
   "metadata": {},
   "outputs": [],
   "source": [
    "discon_table = df[\"Discontinue items\"]\n",
    "pcode_table = df[\"PCODE對照表\"] "
   ]
  },
  {
   "cell_type": "code",
   "execution_count": null,
   "id": "b7d2eb4d-3a2f-45c6-80cc-3b2a21e42c62",
   "metadata": {},
   "outputs": [],
   "source": [
    "pcode_table[\"new\"] = pcode_table[[\"PCODE2\", \"PCODE3\", \"PCODE4\"]].values.tolist()"
   ]
  },
  {
   "cell_type": "code",
   "execution_count": null,
   "id": "d955e494-72b2-45e2-8ea1-2280917c8f36",
   "metadata": {},
   "outputs": [],
   "source": [
    "pcode_table = pcode_table.explode(\"new\")"
   ]
  },
  {
   "cell_type": "code",
   "execution_count": null,
   "id": "c4137b1e-8b2b-467e-b1d1-2976f0bb8895",
   "metadata": {},
   "outputs": [],
   "source": [
    "pcode_table = pcode_table[[\"group\", \"new\", \"Main PCODE\", \"size\", \"pattern\", \"p_origin\"]]"
   ]
  },
  {
   "cell_type": "code",
   "execution_count": null,
   "id": "d3019d7b-a114-4ec0-a409-703ffd68c671",
   "metadata": {},
   "outputs": [],
   "source": [
    "pcode_table[\"new\"] =  pcode_table.apply(lambda x: x[\"Main PCODE\"] if pd.isna(x[\"new\"]) else x[\"new\"], axis=1)"
   ]
  },
  {
   "cell_type": "code",
   "execution_count": null,
   "id": "c62190a8-f0b4-4dda-9297-63860b7fc420",
   "metadata": {},
   "outputs": [],
   "source": [
    "pcode_table = pcode_table.drop_duplicates()"
   ]
  },
  {
   "cell_type": "code",
   "execution_count": null,
   "id": "91b827f2-7e8b-4969-8292-ff0dee95c8bc",
   "metadata": {},
   "outputs": [],
   "source": [
    "pcode_table.to_excel(r\"C:\\Users\\kc.hsu\\Desktop\\new_pcode.xlsx\", index=False)"
   ]
  },
  {
   "cell_type": "markdown",
   "id": "877f1c78-6799-41ba-98ed-f2e616a0642a",
   "metadata": {},
   "source": [
    "#### 整理discontinue對照表"
   ]
  },
  {
   "cell_type": "code",
   "execution_count": null,
   "id": "35199896-3ebd-46c0-a4e1-9aba05d3c6a5",
   "metadata": {},
   "outputs": [],
   "source": [
    "def pcode2origin(data):\n",
    "    if \"H\" in data:\n",
    "        data = \"CN\"\n",
    "        return data\n",
    "    elif \"0L\" or \"J\" in data:\n",
    "        data = \"Thai\"\n",
    "        return data\n",
    "    elif data.endswith(\"F\"):\n",
    "        data = \"CN\"\n",
    "        return data\n",
    "    else:\n",
    "        data = \"JP\"\n",
    "        return data"
   ]
  },
  {
   "cell_type": "code",
   "execution_count": null,
   "id": "e5a30daa-00d7-4fdd-a155-3e1fa19c51d3",
   "metadata": {},
   "outputs": [],
   "source": []
  },
  {
   "cell_type": "code",
   "execution_count": null,
   "id": "ffd5ec95-9905-4a1c-811b-6f83cb3a9e3d",
   "metadata": {},
   "outputs": [],
   "source": [
    "discon_table"
   ]
  }
 ],
 "metadata": {
  "kernelspec": {
   "display_name": "Python 3 (ipykernel)",
   "language": "python",
   "name": "python3"
  },
  "language_info": {
   "codemirror_mode": {
    "name": "ipython",
    "version": 3
   },
   "file_extension": ".py",
   "mimetype": "text/x-python",
   "name": "python",
   "nbconvert_exporter": "python",
   "pygments_lexer": "ipython3",
   "version": "3.10.6"
  }
 },
 "nbformat": 4,
 "nbformat_minor": 5
}
