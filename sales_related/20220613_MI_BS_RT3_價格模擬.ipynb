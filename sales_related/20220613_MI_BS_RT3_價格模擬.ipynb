{
 "cells": [
  {
   "cell_type": "code",
   "execution_count": 9,
   "id": "b7559383-0237-4268-9f9e-65a138f8e1b0",
   "metadata": {},
   "outputs": [],
   "source": [
    "import pandas as pd\n",
    "pd.set_option(\"display.max_columns\", None)\n",
    "pd.set_option(\"mode.chained_assignment\", None)\n",
    "import mitosheet"
   ]
  },
  {
   "cell_type": "code",
   "execution_count": 27,
   "id": "8800af51-652a-4d55-b1f3-28dd591a5731",
   "metadata": {},
   "outputs": [],
   "source": [
    "# read RT3\n",
    "rt3 = pd.read_clipboard()"
   ]
  },
  {
   "cell_type": "code",
   "execution_count": 46,
   "id": "fb26b320-ed70-4bb2-ad1f-9ffac4327bc8",
   "metadata": {},
   "outputs": [],
   "source": [
    "mi_june = pd.read_clipboard()"
   ]
  },
  {
   "cell_type": "code",
   "execution_count": 53,
   "id": "10caefe1-9e48-4ccd-a1e5-f0c80b6d3d8d",
   "metadata": {},
   "outputs": [],
   "source": [
    "mi_mar = pd.read_clipboard()"
   ]
  },
  {
   "cell_type": "code",
   "execution_count": 47,
   "id": "c03cbb89-e908-4898-aebb-bf60f97cef5e",
   "metadata": {},
   "outputs": [],
   "source": [
    "bs_origin = ['BSJ', 'TBSC', 'BSCN', 'BTMT']\n",
    "country_origin = ['JPN', 'TH', 'CN', 'TH']\n",
    "country_dict = dict(zip(bs_origin, country_origin))"
   ]
  },
  {
   "cell_type": "code",
   "execution_count": 48,
   "id": "2facd26d-0198-43cd-b204-66ce8c35c3a6",
   "metadata": {},
   "outputs": [],
   "source": [
    "rt3[\"國家\"] = rt3[\"產地\"].map(country_dict)"
   ]
  },
  {
   "cell_type": "code",
   "execution_count": 54,
   "id": "0539b17b-ca8e-4463-9c80-69c24c119e52",
   "metadata": {},
   "outputs": [],
   "source": [
    "rt3_may = rt3[(rt3[\"通路\"].isin([\"AG\", \"BSSC\", \"BSSC-FLT\"])) & (rt3[\"月份\"] == \"5月\")]"
   ]
  },
  {
   "cell_type": "code",
   "execution_count": 49,
   "id": "8e559780-bb75-43b0-9d0f-e8d1c2f4be5d",
   "metadata": {},
   "outputs": [],
   "source": [
    "mi_june[\"國家\"] = mi_june[\"Origin\"].map(lambda x: \"JPN\" if x == \"EU\" else \"TH\" if x == \"CN\" else \"TH\")"
   ]
  },
  {
   "cell_type": "code",
   "execution_count": 50,
   "id": "a755400b-941c-4a5c-8f8a-5d5f7ada5022",
   "metadata": {},
   "outputs": [],
   "source": [
    "mi_june.rename(columns={\"BS Pattern\": \"花紋\", \"Size\": \"規格\"}, inplace=True)"
   ]
  },
  {
   "cell_type": "code",
   "execution_count": 51,
   "id": "47a77522-66ca-45be-8a31-d56a7eef5cf2",
   "metadata": {},
   "outputs": [],
   "source": [
    "final = rt3.merge(mi_june, on=[\"花紋\", \"規格\", \"國家\"])"
   ]
  },
  {
   "cell_type": "code",
   "execution_count": 52,
   "id": "e1016d15-93e2-4906-8c1e-cb5ec5ce73a5",
   "metadata": {},
   "outputs": [],
   "source": [
    "final.to_excel(r\"D:\\kc.hsu\\OneDrive - Bridgestone\\價格相關\\202207漲價\\20220613_BS_MI_RT3價格對比.xlsx\", index=False)"
   ]
  },
  {
   "cell_type": "code",
   "execution_count": 55,
   "id": "f246da85-2ae8-4f21-acd1-acdde246ca7c",
   "metadata": {},
   "outputs": [],
   "source": [
    "mi_mar[\"國家\"] = mi_mar[\"Origin\"].map(lambda x: \"JPN\" if x == \"EU\" else \"TH\" if x == \"CN\" else \"TH\")"
   ]
  },
  {
   "cell_type": "code",
   "execution_count": 56,
   "id": "03951abd-ec2d-4d9b-b269-977aea2a4cb7",
   "metadata": {},
   "outputs": [],
   "source": [
    "mi_mar.rename(columns={\"BS Pattern\": \"花紋\", \"Size\": \"規格\"}, inplace=True)"
   ]
  },
  {
   "cell_type": "code",
   "execution_count": 57,
   "id": "01ab1854-833d-4372-ae71-3909fcbb6a9f",
   "metadata": {},
   "outputs": [],
   "source": [
    "final = rt3_may.merge(mi_mar, on=[\"花紋\", \"規格\", \"國家\"])"
   ]
  },
  {
   "cell_type": "code",
   "execution_count": 58,
   "id": "ad740c41-612a-43b6-a2d8-1aa48fe63309",
   "metadata": {},
   "outputs": [],
   "source": [
    "final.to_excel(r\"D:\\kc.hsu\\OneDrive - Bridgestone\\價格相關\\202207漲價\\20220613_BS_MI_RT3_3月價格對比.xlsx\", index=False)"
   ]
  },
  {
   "cell_type": "code",
   "execution_count": null,
   "id": "5341f843-6d44-4a18-b794-9aff47db19ef",
   "metadata": {},
   "outputs": [],
   "source": []
  }
 ],
 "metadata": {
  "kernelspec": {
   "display_name": "Python 3 (ipykernel)",
   "language": "python",
   "name": "python3"
  },
  "language_info": {
   "codemirror_mode": {
    "name": "ipython",
    "version": 3
   },
   "file_extension": ".py",
   "mimetype": "text/x-python",
   "name": "python",
   "nbconvert_exporter": "python",
   "pygments_lexer": "ipython3",
   "version": "3.10.0"
  }
 },
 "nbformat": 4,
 "nbformat_minor": 5
}
