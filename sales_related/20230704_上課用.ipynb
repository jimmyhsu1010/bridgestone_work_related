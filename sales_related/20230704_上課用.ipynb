{
 "cells": [
  {
   "cell_type": "code",
   "execution_count": null,
   "metadata": {},
   "outputs": [],
   "source": [
    "import pandas as pd\n",
    "pd.set_option(\"display.max_columns\", None)\n",
    "from pprint import pprint\n",
    "import warnings\n",
    "warnings.filterwarnings(\"ignore\")"
   ]
  },
  {
   "attachments": {},
   "cell_type": "markdown",
   "metadata": {},
   "source": [
    "### TBR六月份販促計算實戰\n",
    "條件：\n",
    "- FMC通路另享有TBR販促規格每條100元未稅直走價折扣\n",
    "- 100條以上價格為隱藏價格，供業務彈性使用\n",
    "- LSR2保持上月價格，但口數不限，賣完為止，沒有下個月補貨的規則\n",
    "- TBR取消口數限制，讓客戶靈活搭配下單\n",
    "\n",
    "### 思路拆解\n",
    "> 1. 需要先將輪胎行通路和活動期間篩選出來\n",
    "> 2. 將所有TBR可以享有100元未稅直走價折扣的店家篩選並建立新欄位顯示可以扣的金額\n",
    "> 3. 使用groupby來用買方分組來看TBR總共買幾條\n",
    "> 4. 使用pd.cut來分箱才知道客戶的條數使用那個級距的價格，不在販促的商品就是用原本的價格\n",
    "> 5. LSR2使用一樣的幾個，數量不限"
   ]
  },
  {
   "cell_type": "code",
   "execution_count": null,
   "metadata": {},
   "outputs": [],
   "source": [
    "# 載入實績\n",
    "df = pd.read_excel(r\"D:\\kc.hsu\\OneDrive - Bridgestone\\數據\\銷售數據\\2022全年銷售\\Rolling_sc_實績.xlsx\")"
   ]
  },
  {
   "cell_type": "code",
   "execution_count": null,
   "metadata": {},
   "outputs": [],
   "source": [
    "# 載入6月直走價表\n",
    "tbr_price = pd.read_excel(r\"D:\\kc.hsu\\OneDrive - Bridgestone\\價格相關\\2023年\\2023價格調整都在這\\Июнь\\202306販促直走價表.xlsx\", sheet_name=\"TBR\")\n",
    "lsr_price = pd.read_excel(r\"D:\\kc.hsu\\OneDrive - Bridgestone\\價格相關\\2023年\\2023價格調整都在這\\Июнь\\202306販促直走價表.xlsx\", sheet_name=\"LSR2\")"
   ]
  },
  {
   "cell_type": "code",
   "execution_count": null,
   "metadata": {},
   "outputs": [],
   "source": [
    "# 建立TBR和LSR2的字典\n",
    "tbr_price_dict = dict(zip(tbr_price[\"PCODE\"], tbr_price.apply(lambda x: {\"a\": x[\"1-19\"], \"b\": x[\"20-49\"], \"c\": x[\"50-\"], \"d\": x[\"100-\"]}, axis=1)))\n",
    "lsr_price_dict = dict(zip(lsr_price[\"PCODE\"], lsr_price[\"Price\"]))"
   ]
  },
  {
   "cell_type": "code",
   "execution_count": null,
   "metadata": {},
   "outputs": [],
   "source": [
    "# 將販社實績拆出來\n",
    "# 通路不等於B1和G（CD和販社車隊)\n",
    "\n",
    "bssc = df[(df[\"實際出貨日\"].between(\"2023-06-01\", \"2023-06-30\")) & (~df[\"通路\"].isin([\"B1\", \"G\"])) & (df[\"訂單類型\"].isin([\"ZSO1\", \"ZKE\"]))]\n",
    "bssc.columns = bssc.columns.str.strip()"
   ]
  },
  {
   "cell_type": "code",
   "execution_count": null,
   "metadata": {},
   "outputs": [],
   "source": [
    "# 建立輪胎類別欄位\n",
    "bssc[\"輪胎類別\"] = bssc[\"中計\"].map(lambda x: x[:3])"
   ]
  },
  {
   "cell_type": "code",
   "execution_count": null,
   "metadata": {},
   "outputs": [],
   "source": [
    "# 計算FMC可以多100元\n",
    "bssc[\"FMC單條獎勵\"] = bssc.apply(lambda x: 100 if x[\"大胎\"] in [2, 3] and x[\"輪胎類別\"] == \"TBR\" else 0, axis=1)"
   ]
  },
  {
   "cell_type": "code",
   "execution_count": null,
   "metadata": {},
   "outputs": [],
   "source": [
    "# 將bssc拆成TBR和LSR分開計算，最後再合併\n",
    "tbr_bssc = bssc[bssc[\"輪胎類別\"] == \"TBR\"]\n",
    "lsr_bssc = bssc[bssc[\"輪胎類別\"] == \"LSR\"]"
   ]
  },
  {
   "cell_type": "code",
   "execution_count": null,
   "metadata": {},
   "outputs": [],
   "source": [
    "tbr_price_dict.keys()"
   ]
  },
  {
   "cell_type": "code",
   "execution_count": null,
   "metadata": {},
   "outputs": [],
   "source": [
    "tbr_bssc[\"販促商品\"] = tbr_bssc[\"物料\"].map(lambda x: \"Y\" if x in tbr_price_dict.keys() else \"N\")"
   ]
  },
  {
   "cell_type": "code",
   "execution_count": null,
   "metadata": {},
   "outputs": [],
   "source": [
    "tbr_bssc.shape"
   ]
  },
  {
   "cell_type": "code",
   "execution_count": null,
   "metadata": {},
   "outputs": [],
   "source": [
    "tbr_prom = tbr_bssc[tbr_bssc[\"販促商品\"] == \"Y\"]"
   ]
  },
  {
   "cell_type": "code",
   "execution_count": null,
   "metadata": {},
   "outputs": [],
   "source": [
    "tbr_prom[\"販促商品總數量\"] = tbr_prom.groupby(\"買方\")[\"銷售數量\"].transform(\"sum\")"
   ]
  },
  {
   "cell_type": "code",
   "execution_count": null,
   "metadata": {},
   "outputs": [],
   "source": [
    "tbr_prom.shape"
   ]
  },
  {
   "cell_type": "code",
   "execution_count": null,
   "metadata": {},
   "outputs": [],
   "source": [
    "tbr_bssc = pd.merge(tbr_bssc, tbr_prom, how=\"outer\")"
   ]
  },
  {
   "cell_type": "code",
   "execution_count": null,
   "metadata": {},
   "outputs": [],
   "source": [
    "tbr_bssc[\"販促商品總數量\"].fillna(0, inplace=True)"
   ]
  },
  {
   "cell_type": "code",
   "execution_count": null,
   "metadata": {},
   "outputs": [],
   "source": [
    "tbr_bssc[\"販促商品總數量\"] = tbr_bssc[\"販促商品總數量\"].astype(int)"
   ]
  },
  {
   "cell_type": "code",
   "execution_count": null,
   "metadata": {},
   "outputs": [],
   "source": [
    "tbr_bssc[\"販促商品總數量\"]"
   ]
  },
  {
   "cell_type": "code",
   "execution_count": null,
   "metadata": {},
   "outputs": [],
   "source": [
    "tbr_bssc[\"價格級距\"] = pd.cut(tbr_bssc[\"販促商品總數量\"], bins=[1, 20, 50, 100, 1000], right=False, labels=[\"a\", \"b\", \"c\", \"d\"])"
   ]
  },
  {
   "cell_type": "code",
   "execution_count": null,
   "metadata": {},
   "outputs": [],
   "source": [
    "tbr_price_dict"
   ]
  },
  {
   "cell_type": "code",
   "execution_count": null,
   "metadata": {},
   "outputs": [],
   "source": [
    "def prom_price_cal(df):\n",
    "    df[\"物料\"]"
   ]
  },
  {
   "cell_type": "code",
   "execution_count": null,
   "metadata": {},
   "outputs": [],
   "source": []
  },
  {
   "cell_type": "code",
   "execution_count": null,
   "metadata": {},
   "outputs": [],
   "source": []
  },
  {
   "cell_type": "code",
   "execution_count": null,
   "metadata": {},
   "outputs": [],
   "source": []
  },
  {
   "cell_type": "code",
   "execution_count": null,
   "metadata": {},
   "outputs": [],
   "source": []
  }
 ],
 "metadata": {
  "kernelspec": {
   "display_name": "python_env",
   "language": "python",
   "name": "python3"
  },
  "language_info": {
   "codemirror_mode": {
    "name": "ipython",
    "version": 3
   },
   "file_extension": ".py",
   "mimetype": "text/x-python",
   "name": "python",
   "nbconvert_exporter": "python",
   "pygments_lexer": "ipython3",
   "version": "3.10.6"
  },
  "orig_nbformat": 4
 },
 "nbformat": 4,
 "nbformat_minor": 2
}
