{
 "cells": [
  {
   "cell_type": "code",
   "execution_count": 1,
   "metadata": {},
   "outputs": [],
   "source": [
    "import pandas as pd\n",
    "pd.set_option(\"display.max_columns\", None)\n",
    "pd.set_option(\"mode.chained_assignment\", None)\n",
    "import warnings\n",
    "warnings.filterwarnings(\"ignore\")\n"
   ]
  },
  {
   "attachments": {},
   "cell_type": "markdown",
   "metadata": {},
   "source": [
    "## 開啟\"D:\\kc.hsu\\OneDrive - Bridgestone\\價格相關\\預算\\2023\\RT2\\20230320_RT2_assumption.xlsx\"\n",
    "- 將Rolling明細中的規格和每月數量複製出來\n",
    "- 將23OB的每月數量複製出來 "
   ]
  },
  {
   "cell_type": "code",
   "execution_count": 57,
   "metadata": {},
   "outputs": [
    {
     "data": {
      "text/html": [
       "<div>\n",
       "<style scoped>\n",
       "    .dataframe tbody tr th:only-of-type {\n",
       "        vertical-align: middle;\n",
       "    }\n",
       "\n",
       "    .dataframe tbody tr th {\n",
       "        vertical-align: top;\n",
       "    }\n",
       "\n",
       "    .dataframe thead th {\n",
       "        text-align: right;\n",
       "    }\n",
       "</style>\n",
       "<table border=\"1\" class=\"dataframe\">\n",
       "  <thead>\n",
       "    <tr style=\"text-align: right;\">\n",
       "      <th></th>\n",
       "      <th>PCODE</th>\n",
       "      <th>規格</th>\n",
       "      <th>花紋</th>\n",
       "      <th>產地</th>\n",
       "      <th>月份</th>\n",
       "      <th>數量</th>\n",
       "    </tr>\n",
       "  </thead>\n",
       "  <tbody>\n",
       "    <tr>\n",
       "      <th>0</th>\n",
       "      <td>TBR06465</td>\n",
       "      <td>825R20</td>\n",
       "      <td>R210</td>\n",
       "      <td>BSJ</td>\n",
       "      <td>3月</td>\n",
       "      <td>0.0</td>\n",
       "    </tr>\n",
       "    <tr>\n",
       "      <th>1</th>\n",
       "      <td>TBR06465</td>\n",
       "      <td>825R20</td>\n",
       "      <td>R210</td>\n",
       "      <td>BSJ</td>\n",
       "      <td>4月</td>\n",
       "      <td>1579.0</td>\n",
       "    </tr>\n",
       "    <tr>\n",
       "      <th>2</th>\n",
       "      <td>TBR06465</td>\n",
       "      <td>825R20</td>\n",
       "      <td>R210</td>\n",
       "      <td>BSJ</td>\n",
       "      <td>5月</td>\n",
       "      <td>939.0</td>\n",
       "    </tr>\n",
       "    <tr>\n",
       "      <th>3</th>\n",
       "      <td>TBR06465</td>\n",
       "      <td>825R20</td>\n",
       "      <td>R210</td>\n",
       "      <td>BSJ</td>\n",
       "      <td>6月</td>\n",
       "      <td>605.0</td>\n",
       "    </tr>\n",
       "    <tr>\n",
       "      <th>4</th>\n",
       "      <td>TBR06465</td>\n",
       "      <td>825R20</td>\n",
       "      <td>R210</td>\n",
       "      <td>BSJ</td>\n",
       "      <td>7月</td>\n",
       "      <td>2463.0</td>\n",
       "    </tr>\n",
       "    <tr>\n",
       "      <th>...</th>\n",
       "      <td>...</td>\n",
       "      <td>...</td>\n",
       "      <td>...</td>\n",
       "      <td>...</td>\n",
       "      <td>...</td>\n",
       "      <td>...</td>\n",
       "    </tr>\n",
       "    <tr>\n",
       "      <th>1045</th>\n",
       "      <td>LSR03765</td>\n",
       "      <td>235/75R17.5</td>\n",
       "      <td>R294</td>\n",
       "      <td>BSJ</td>\n",
       "      <td>8月</td>\n",
       "      <td>180.0</td>\n",
       "    </tr>\n",
       "    <tr>\n",
       "      <th>1046</th>\n",
       "      <td>LSR03765</td>\n",
       "      <td>235/75R17.5</td>\n",
       "      <td>R294</td>\n",
       "      <td>BSJ</td>\n",
       "      <td>9月</td>\n",
       "      <td>250.0</td>\n",
       "    </tr>\n",
       "    <tr>\n",
       "      <th>1047</th>\n",
       "      <td>LSR03765</td>\n",
       "      <td>235/75R17.5</td>\n",
       "      <td>R294</td>\n",
       "      <td>BSJ</td>\n",
       "      <td>10月</td>\n",
       "      <td>250.0</td>\n",
       "    </tr>\n",
       "    <tr>\n",
       "      <th>1048</th>\n",
       "      <td>LSR03765</td>\n",
       "      <td>235/75R17.5</td>\n",
       "      <td>R294</td>\n",
       "      <td>BSJ</td>\n",
       "      <td>11月</td>\n",
       "      <td>280.0</td>\n",
       "    </tr>\n",
       "    <tr>\n",
       "      <th>1049</th>\n",
       "      <td>LSR03765</td>\n",
       "      <td>235/75R17.5</td>\n",
       "      <td>R294</td>\n",
       "      <td>BSJ</td>\n",
       "      <td>12月</td>\n",
       "      <td>300.0</td>\n",
       "    </tr>\n",
       "  </tbody>\n",
       "</table>\n",
       "<p>1050 rows × 6 columns</p>\n",
       "</div>"
      ],
      "text/plain": [
       "         PCODE           規格    花紋   產地   月份      數量\n",
       "0     TBR06465       825R20  R210  BSJ   3月     0.0\n",
       "1     TBR06465       825R20  R210  BSJ   4月  1579.0\n",
       "2     TBR06465       825R20  R210  BSJ   5月   939.0\n",
       "3     TBR06465       825R20  R210  BSJ   6月   605.0\n",
       "4     TBR06465       825R20  R210  BSJ   7月  2463.0\n",
       "...        ...          ...   ...  ...  ...     ...\n",
       "1045  LSR03765  235/75R17.5  R294  BSJ   8月   180.0\n",
       "1046  LSR03765  235/75R17.5  R294  BSJ   9月   250.0\n",
       "1047  LSR03765  235/75R17.5  R294  BSJ  10月   250.0\n",
       "1048  LSR03765  235/75R17.5  R294  BSJ  11月   280.0\n",
       "1049  LSR03765  235/75R17.5  R294  BSJ  12月   300.0\n",
       "\n",
       "[1050 rows x 6 columns]"
      ]
     },
     "execution_count": 57,
     "metadata": {},
     "output_type": "execute_result"
    }
   ],
   "source": [
    "# 貼上Rolling明細，並轉置成可使用的數據格式\n",
    "df = pd.read_clipboard()\n",
    "df = df.set_index([\"PCODE\", \"規格\", \"花紋\", \"產地\"]).stack().reset_index(name=\"數量\")\n",
    "df.columns = [\"PCODE\", \"規格\", \"花紋\", \"產地\", \"月份\", \"數量\"]\n",
    "df"
   ]
  },
  {
   "cell_type": "code",
   "execution_count": 71,
   "metadata": {},
   "outputs": [],
   "source": [
    "ob_pat_dict = dict(zip(ob[\"商品代號\"], ob[\"花紋\"]))\n",
    "df[\"花紋\"] = df[\"PCODE\"].map(ob_pat_dict)"
   ]
  },
  {
   "cell_type": "code",
   "execution_count": 81,
   "metadata": {},
   "outputs": [],
   "source": [
    "rolling_result = df.groupby([\"規格\", \"花紋\", \"產地\", \"月份\"])[[\"數量\"]].sum().reset_index()"
   ]
  },
  {
   "cell_type": "code",
   "execution_count": 67,
   "metadata": {},
   "outputs": [],
   "source": [
    "# 確認OB商品代號都存在於rolling的PCODE裡面\n",
    "for item in ob[\"商品代號\"].unique():\n",
    "    if item in df[\"PCODE\"].unique():\n",
    "        pass\n",
    "    else:\n",
    "        print(item)"
   ]
  },
  {
   "attachments": {},
   "cell_type": "markdown",
   "metadata": {},
   "source": [
    "# 處理OB數據\n",
    "- 讀取檔案\n",
    "- 將INCH和SECTION整合為規格加寸別\n",
    "- 篩選出輪胎行通路\n",
    "- 將PCODE整理為Rolling目前訂貨的PCODE"
   ]
  },
  {
   "cell_type": "code",
   "execution_count": 8,
   "metadata": {},
   "outputs": [],
   "source": [
    "# 讀取size_data的23OB數據\n",
    "ob = pd.read_excel(r\"D:\\kc.hsu\\OneDrive - Bridgestone\\價格相關\\預算\\2023\\RT2\\20230320_RT2_assumption.xlsx\", sheet_name=\"size_data\")"
   ]
  },
  {
   "cell_type": "code",
   "execution_count": 30,
   "metadata": {},
   "outputs": [],
   "source": [
    "ob[\"寸別\"] = ob[\"INCH\"].astype(str).map(lambda x: \"R\" + x[0:-1] + \".\" + x[-1] if len(x) > 2 else \"R\" + x)"
   ]
  },
  {
   "cell_type": "code",
   "execution_count": 105,
   "metadata": {},
   "outputs": [],
   "source": [
    "ob[\"SECTION\"] = ob[\"SECTION\"].astype(str).map(lambda x: \"9.5\" if x == \"95\" else x)"
   ]
  },
  {
   "cell_type": "code",
   "execution_count": 106,
   "metadata": {},
   "outputs": [],
   "source": [
    "ob[\"size\"] = ob[\"SECTION\"] + ob[\"寸別\"]"
   ]
  },
  {
   "cell_type": "code",
   "execution_count": 82,
   "metadata": {},
   "outputs": [],
   "source": [
    "ob = ob[(ob[\"大通路分類\"] == \"REP\") & (ob[\"營業所\"] != \"本社\") & (ob[\"通路明細\"].isin(['A', 'FMC', '一般店', 'CD', '中盤', 'DS',\n",
    "       'TK', 'MM', 'FMC BFP', 'TTC', 'BFP', '量販店', 'OT', '加油站', '輪胎行'])) & (ob[\"預算/前實績\"] == \"23OB\") & (~ob[\"月份\"].isin([\"Jan\", \"Feb\"]))]"
   ]
  },
  {
   "cell_type": "code",
   "execution_count": 61,
   "metadata": {},
   "outputs": [],
   "source": [
    "trans_dict = {\"LSR08406\": \"LSR03459\", \"TBR0J600\": \"TBR0J795\", \"TBR05258\": \"TBR00328\", \"TBR0J394\": \"TBR0J660\", \"TBR0J458\": \"TBR0J658\", \"TBR0J52F\": \"TBR0JA4F\"}"
   ]
  },
  {
   "cell_type": "code",
   "execution_count": 64,
   "metadata": {},
   "outputs": [],
   "source": [
    "ob[\"商品代號\"] = ob[\"商品代號\"].map(lambda x: trans_dict[x] if x in trans_dict.keys() else x)"
   ]
  },
  {
   "cell_type": "code",
   "execution_count": 77,
   "metadata": {},
   "outputs": [],
   "source": [
    "ob[\"產地\"] = ob[\"商品代號\"].map(lambda x: \"BTMT\" if x.endswith(\"F\") else \"BTMT\" if \"0J\" in x else \"TBSC\" if \"0L\" in x else \"BSCN\" if \"0H\" in x else \"BSJ\")"
   ]
  },
  {
   "cell_type": "code",
   "execution_count": 90,
   "metadata": {},
   "outputs": [],
   "source": [
    "en_mon = ['Mar', 'Apr', 'May', 'Jun', 'Jul', 'Aug', 'Sep', 'Oct', 'Nov', 'Dec']\n",
    "cn_mon = ['3月', '4月', '5月', '6月', '7月', '8月', '9月', '10月', '11月', '12月']\n",
    "mon_dict = dict(zip(en_mon, cn_mon))\n",
    "ob[\"月份\"] = ob[\"月份\"].map(mon_dict)"
   ]
  },
  {
   "cell_type": "code",
   "execution_count": 108,
   "metadata": {},
   "outputs": [],
   "source": [
    "ob_result = ob.groupby([\"size\", \"花紋\", \"產地\", \"月份\"])[[\"條數\"]].sum().reset_index()"
   ]
  },
  {
   "cell_type": "code",
   "execution_count": 109,
   "metadata": {},
   "outputs": [],
   "source": [
    "ob_result.columns = [\"規格\", \"花紋\", \"產地\", \"月份\", \"OB條數\"]"
   ]
  },
  {
   "cell_type": "code",
   "execution_count": 110,
   "metadata": {},
   "outputs": [],
   "source": [
    "rolling_result.columns = [\"規格\", \"花紋\", \"產地\", \"月份\", \"rolling條數\"]"
   ]
  },
  {
   "cell_type": "code",
   "execution_count": 119,
   "metadata": {},
   "outputs": [],
   "source": [
    "final_result = pd.merge(ob_result, rolling_result, on=[\"規格\", \"花紋\", \"產地\", \"月份\"], how=\"left\").fillna(0)"
   ]
  },
  {
   "cell_type": "code",
   "execution_count": 123,
   "metadata": {},
   "outputs": [],
   "source": [
    "final_result.to_clipboard()"
   ]
  },
  {
   "cell_type": "code",
   "execution_count": 121,
   "metadata": {},
   "outputs": [
    {
     "data": {
      "text/plain": [
       "76087"
      ]
     },
     "execution_count": 121,
     "metadata": {},
     "output_type": "execute_result"
    }
   ],
   "source": [
    "ob_result[\"OB條數\"].sum()"
   ]
  },
  {
   "cell_type": "code",
   "execution_count": 122,
   "metadata": {},
   "outputs": [
    {
     "data": {
      "text/plain": [
       "99043.5"
      ]
     },
     "execution_count": 122,
     "metadata": {},
     "output_type": "execute_result"
    }
   ],
   "source": [
    "rolling_result[\"rolling條數\"].sum()"
   ]
  },
  {
   "cell_type": "code",
   "execution_count": null,
   "metadata": {},
   "outputs": [],
   "source": []
  },
  {
   "cell_type": "code",
   "execution_count": null,
   "metadata": {},
   "outputs": [],
   "source": []
  },
  {
   "cell_type": "code",
   "execution_count": null,
   "metadata": {},
   "outputs": [],
   "source": []
  },
  {
   "cell_type": "code",
   "execution_count": null,
   "metadata": {},
   "outputs": [],
   "source": []
  }
 ],
 "metadata": {
  "kernelspec": {
   "display_name": "python_env",
   "language": "python",
   "name": "python3"
  },
  "language_info": {
   "codemirror_mode": {
    "name": "ipython",
    "version": 3
   },
   "file_extension": ".py",
   "mimetype": "text/x-python",
   "name": "python",
   "nbconvert_exporter": "python",
   "pygments_lexer": "ipython3",
   "version": "3.10.6"
  },
  "orig_nbformat": 4
 },
 "nbformat": 4,
 "nbformat_minor": 2
}
