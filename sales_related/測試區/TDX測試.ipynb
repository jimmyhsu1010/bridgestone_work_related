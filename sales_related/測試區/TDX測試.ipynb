{
 "cells": [
  {
   "cell_type": "code",
   "execution_count": null,
   "id": "902bf646-c078-493b-b92d-0033397e228a",
   "metadata": {},
   "outputs": [],
   "source": [
    "import requests\n",
    "import pandas as pd"
   ]
  },
  {
   "cell_type": "code",
   "execution_count": null,
   "id": "ab0c156c-d117-4fad-8bac-e8a5b0b5cc4d",
   "metadata": {},
   "outputs": [],
   "source": [
    "client_id = \"kc.hsu-e51d77a0-5d9b-418b\"\n",
    "client_secret = \"afbb6a0a-f69d-4556-bd0b-4e53eae46379\""
   ]
  },
  {
   "cell_type": "code",
   "execution_count": null,
   "id": "ad2c7d23-54e8-4d4e-b4d9-a491f748937f",
   "metadata": {},
   "outputs": [],
   "source": [
    "class TDX():\n",
    "    def __init__(self, client_id, client_secret):\n",
    "        self.client_id = client_id\n",
    "        self.client_secret = client_secret\n",
    "\n",
    "    def get_token(self):\n",
    "        token_url = 'https://tdx.transportdata.tw/auth/realms/TDXConnect/protocol/openid-connect/token'\n",
    "        headers = {'content-type': 'application/x-www-form-urlencoded'}\n",
    "        data = {\n",
    "            'grant_type': 'client_credentials',\n",
    "            'client_id': self.client_id,\n",
    "            'client_secret': self.client_secret\n",
    "        }\n",
    "        response = requests.post(token_url, headers=headers, data=data)\n",
    "        # print(response.status_code)\n",
    "        # print(response.json())\n",
    "        return response.json()['access_token']\n",
    "\n",
    "    def get_response(self, url):\n",
    "        headers = {'authorization': f'Bearer {self.get_token()}'}\n",
    "        response = requests.get(url, headers=headers)\n",
    "        return response.json()\n",
    "\n",
    "\n",
    "if __name__ == '__main__':\n",
    "    tdx = TDX(client_id, client_secret)\n",
    "\n",
    "    # url = 'https://tdx.transportdata.tw/api/basic/v2/Rail/TRA/LiveBoard/Station/1000?$filter=Direction eq 1&$format=JSON'\n",
    "    base_url = \"https://tdx.transportdata.tw/api/basic\"\n",
    "    # 取得指定[車站]列車即時到離站電子看板(動態前後30分鐘的車次)\n",
    "    # endpoint = \"/basic/v2/Rail/TRA/LiveBoard/Station/1000\"\n",
    "    endpoint = \"/v2/Bus/RealTimeByFrequency/InterCity\"\n",
    "    # filter = \"Direction eq 1\"  # 順逆行: [0:'順行', 1:'逆行']\n",
    "    # url = f\"{base_url}{endpoint}?$filter={filter}&$format=JSON\"\n",
    "    # url = \"https://tdx.transportdata.tw/api/historical/v2/Historical/Bus/RealTimeByFrequency/InterCity?Dates=2022-07-12&$formate=JSON\"\n",
    "    url = base_url + endpoint\n",
    "    response = tdx.get_response(url)"
   ]
  },
  {
   "cell_type": "code",
   "execution_count": null,
   "id": "9818ae22-fd8a-4537-8289-0d51490cc9d8",
   "metadata": {},
   "outputs": [],
   "source": [
    "pd.DataFrame.from_dict(response)"
   ]
  },
  {
   "cell_type": "code",
   "execution_count": null,
   "id": "87746a0a-38af-44b2-8337-5c6504c3ff0d",
   "metadata": {},
   "outputs": [],
   "source": []
  }
 ],
 "metadata": {
  "kernelspec": {
   "display_name": "Python 3 (ipykernel)",
   "language": "python",
   "name": "python3"
  },
  "language_info": {
   "codemirror_mode": {
    "name": "ipython",
    "version": 3
   },
   "file_extension": ".py",
   "mimetype": "text/x-python",
   "name": "python",
   "nbconvert_exporter": "python",
   "pygments_lexer": "ipython3",
   "version": "3.10.6"
  }
 },
 "nbformat": 4,
 "nbformat_minor": 5
}
