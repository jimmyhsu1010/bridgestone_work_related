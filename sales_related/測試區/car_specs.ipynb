{
 "cells": [
  {
   "cell_type": "code",
   "execution_count": null,
   "id": "fbdd38ea-f979-443e-aa4c-642499b4fa93",
   "metadata": {},
   "outputs": [],
   "source": [
    "import pandas as pd\n",
    "pd.set_option(\"display.max_columns\", None)"
   ]
  },
  {
   "cell_type": "code",
   "execution_count": null,
   "id": "64fe39d5-8eeb-483a-8bc6-b680703a2899",
   "metadata": {},
   "outputs": [],
   "source": [
    "df = pd.read_excel(\"/Users/kai/Desktop/所有車輛OE規格.xlsx\")"
   ]
  },
  {
   "cell_type": "code",
   "execution_count": null,
   "id": "ff8fd8ce-cc01-4893-b5b9-07188da41c82",
   "metadata": {},
   "outputs": [],
   "source": [
    "df[\"Tire size\"] = df[\"Tire size\"].str.replace(\"ˊ\",\"\").str.replace(\"、\", \" \").str.replace(\"  \", \" \").str.replace(\"煞\", \"\")"
   ]
  },
  {
   "cell_type": "code",
   "execution_count": null,
   "id": "a9d7be5e-8601-4f5a-8a56-2d9d63d22cfb",
   "metadata": {},
   "outputs": [],
   "source": [
    "df[[\"Tire size 1\", \"Tire size 2\"]] = df[\"Tire size\"].str.split(\" \", expand=True)"
   ]
  },
  {
   "cell_type": "code",
   "execution_count": null,
   "id": "c7f236af-d6ac-41a6-bfce-5c4a8eec72a2",
   "metadata": {},
   "outputs": [],
   "source": [
    "df.dropna(subset=[\"Tire size\"], inplace=True)"
   ]
  },
  {
   "cell_type": "code",
   "execution_count": null,
   "id": "bb5f0301-e26c-4a0b-a56b-a6936da37761",
   "metadata": {},
   "outputs": [],
   "source": [
    "result = df[[\"Year\", \"Brand\", \"Category\", \"Model\", \"Exhaust volume\", \"Tire size 1\", \"Tire size 2\"]]"
   ]
  },
  {
   "cell_type": "code",
   "execution_count": null,
   "id": "2458c024-fa01-4ea8-9cfa-8a566f417a12",
   "metadata": {},
   "outputs": [],
   "source": [
    "result.to_excel(\"/Users/kai/Desktop/所有車輛OE規格.xlsx\", index=False)"
   ]
  },
  {
   "cell_type": "code",
   "execution_count": null,
   "id": "4e90af2f-7f40-4dd2-86bd-aa53b036d8b1",
   "metadata": {},
   "outputs": [],
   "source": []
  }
 ],
 "metadata": {
  "kernelspec": {
   "display_name": "Python 3 (ipykernel)",
   "language": "python",
   "name": "python3"
  },
  "language_info": {
   "codemirror_mode": {
    "name": "ipython",
    "version": 3
   },
   "file_extension": ".py",
   "mimetype": "text/x-python",
   "name": "python",
   "nbconvert_exporter": "python",
   "pygments_lexer": "ipython3",
   "version": "3.10.6"
  }
 },
 "nbformat": 4,
 "nbformat_minor": 5
}
