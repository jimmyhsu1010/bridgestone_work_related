{
 "cells": [
  {
   "cell_type": "code",
   "execution_count": null,
   "id": "542ba06a-16f8-4467-a3a0-6d7da6bf5e8c",
   "metadata": {},
   "outputs": [],
   "source": [
    "import pandas as pd\n",
    "import atoti as tt\n",
    "pd.set_option(\"display.max_columns\", None)\n",
    "import calendar"
   ]
  },
  {
   "cell_type": "markdown",
   "id": "c71def49-c9c9-41f3-a23f-e899582ad7c6",
   "metadata": {},
   "source": [
    "### Read the sales raw data\n",
    "- BSSC raw data\n",
    "- AG raw data\n",
    "\n",
    "### Read the category cross table to map the customer code"
   ]
  },
  {
   "cell_type": "code",
   "execution_count": null,
   "id": "8064540b-2b01-40c4-876f-13b3f0340b64",
   "metadata": {},
   "outputs": [],
   "source": [
    "bssc = pd.read_csv(\"../SalesData/BSSC_raw_data.csv\")\n",
    "ag = pd.read_csv(\"../SalesData/ag_raw_data.csv\")\n",
    "category_table = pd.read_csv(\"../ReferenceTable/category_types.csv\")"
   ]
  },
  {
   "cell_type": "code",
   "execution_count": null,
   "id": "3bfaf653-c291-4947-a544-c1f0cb842857",
   "metadata": {},
   "outputs": [],
   "source": [
    "# Strip the space\n",
    "bssc.columns = bssc.columns.str.strip()\n",
    "ag.columns = ag.columns.str.strip()"
   ]
  },
  {
   "cell_type": "code",
   "execution_count": null,
   "id": "208a7fb3-b41b-4d2a-9b0c-bc54667ab712",
   "metadata": {},
   "outputs": [],
   "source": [
    "# Filter the data\n",
    "ag = ag[(ag[\"S_配銷通路\"].isin([\"AG\", \"FT\"])) & (ag[\"S_中計商品代號1\"].isin([\"LR2\", \"TR2\", \"TR3\", \"TR5\"]))]\n",
    "bssc = bssc[bssc[\"中計\"].str.contains(\"LSR2|TBR\")]"
   ]
  },
  {
   "cell_type": "code",
   "execution_count": null,
   "id": "c1b972b0-e029-419d-9c07-058b8cf2c9ec",
   "metadata": {},
   "outputs": [],
   "source": [
    "# Select the columns to keep\n",
    "ag = ag[[\"D_實際發貨日期\", \"S_訂單單號\", \"S_項次\", \"S_買方(客戶號碼)\", \"S_物料編號\", \"S_物料說明\", \"S_國別\", \"S_數量\", \"S_項目淨值\"]]\n",
    "bssc = bssc[[\"實際出貨日\", \"訂單單號\", \"訂單項次\", \"買方\", \"物料\", \"物料說明\", \"國別\", \"銷售數量\", \"銷貨單價\"]]"
   ]
  },
  {
   "cell_type": "code",
   "execution_count": null,
   "id": "f739d746-02ca-42f5-afc4-2354d39dc666",
   "metadata": {},
   "outputs": [],
   "source": [
    "ag.columns = bssc.columns"
   ]
  },
  {
   "cell_type": "code",
   "execution_count": null,
   "id": "666ce79d-b1c3-4afd-92b5-08ee92d63f2f",
   "metadata": {},
   "outputs": [],
   "source": [
    "type_keys = ['實際出貨日', '訂單單號', '訂單項次', '買方', '物料', '物料說明', '國別', '銷售數量', '銷貨單價']\n",
    "type_values = [str, str, str, str, str, str, str, int, int]\n",
    "type_dict = dict(zip(type_keys, type_values))"
   ]
  },
  {
   "cell_type": "code",
   "execution_count": null,
   "id": "2ab8021c-5e51-478d-abb6-f3259c53b53b",
   "metadata": {},
   "outputs": [],
   "source": [
    "ag = ag.astype(type_dict)\n",
    "bssc = bssc.astype(type_dict)"
   ]
  },
  {
   "cell_type": "code",
   "execution_count": null,
   "id": "53a99ccc-fe60-4812-a620-8defa158bcef",
   "metadata": {},
   "outputs": [],
   "source": [
    "combined_data = pd.concat([bssc, ag])"
   ]
  },
  {
   "cell_type": "code",
   "execution_count": null,
   "id": "a25ca588-d5e3-4303-b540-a1e6fe0f9350",
   "metadata": {},
   "outputs": [],
   "source": [
    "category_dict = dict(zip(category_table[\"客戶代號\"], category_table[\"大分類\"]))\n",
    "channel_dict = dict(zip(category_table[\"客戶代號\"], category_table[\"小通路\"]))"
   ]
  },
  {
   "cell_type": "code",
   "execution_count": null,
   "id": "1772ec27-f5c8-4cac-808d-5b81391c3289",
   "metadata": {},
   "outputs": [],
   "source": [
    "combined_data[\"大分類\"] = combined_data[\"買方\"].map(category_dict)\n",
    "combined_data[\"小通路\"] = combined_data[\"買方\"].map(channel_dict)"
   ]
  },
  {
   "cell_type": "code",
   "execution_count": null,
   "id": "4328a363-531d-4acb-9b24-89a11fb73419",
   "metadata": {},
   "outputs": [],
   "source": [
    "combined_data[\"Tire Types\"] = combined_data[\"物料\"].map(lambda x: \"TBR\" if x[:3] == \"TBR\" else \"LSR2\")"
   ]
  },
  {
   "cell_type": "code",
   "execution_count": null,
   "id": "48b5e430-adb2-427d-83af-ae2124297455",
   "metadata": {},
   "outputs": [],
   "source": [
    "combined_data[\"實際出貨日\"] = pd.to_datetime(combined_data[\"實際出貨日\"], yearfirst=True)"
   ]
  },
  {
   "cell_type": "code",
   "execution_count": null,
   "id": "207c4c43-9548-4397-89f1-b06332928387",
   "metadata": {},
   "outputs": [],
   "source": [
    "combined_data[\"年份\"] = combined_data[\"實際出貨日\"].dt.year\n",
    "combined_data[\"月份\"] = combined_data[\"實際出貨日\"].dt.month_name()"
   ]
  },
  {
   "cell_type": "code",
   "execution_count": null,
   "id": "abcff80e-d631-45d8-9a08-2dc89fae2cf9",
   "metadata": {},
   "outputs": [],
   "source": [
    "combined_data[\"年份\"] = combined_data[\"年份\"].astype(str)"
   ]
  },
  {
   "cell_type": "code",
   "execution_count": null,
   "id": "4cb19fdc-58dd-489f-84dc-043985320657",
   "metadata": {},
   "outputs": [],
   "source": [
    "combined_data[\"類型\"] = \"實績\""
   ]
  },
  {
   "cell_type": "markdown",
   "id": "c93dcef2-7f31-45ef-a56d-3eb408f2b91b",
   "metadata": {},
   "source": [
    "### 合併實績和OB數據"
   ]
  },
  {
   "cell_type": "code",
   "execution_count": null,
   "id": "d4412662-c427-4420-b99f-5356566c6e3d",
   "metadata": {},
   "outputs": [],
   "source": [
    "ob22 = pd.read_excel(\"../ReferenceTable/ob22_20220412.xlsx\")"
   ]
  },
  {
   "cell_type": "code",
   "execution_count": null,
   "id": "65d3f15a-fa04-4855-a5c7-59071d95744f",
   "metadata": {},
   "outputs": [],
   "source": [
    "ob22 = ob22.groupby(['Tire Types', '類型', '大分類', '小通路', '年份']).sum().stack().reset_index(name=\"數量\")"
   ]
  },
  {
   "cell_type": "code",
   "execution_count": null,
   "id": "981d4e00-66ce-41a6-93e4-6981fc18861e",
   "metadata": {},
   "outputs": [],
   "source": [
    "ob22.columns = ['Tire Types', '類型', '大分類', '小通路', '年份', '月份', '數量']"
   ]
  },
  {
   "cell_type": "code",
   "execution_count": null,
   "id": "d7702ce6-b8ac-4cc2-917a-ef6f2260837f",
   "metadata": {},
   "outputs": [],
   "source": [
    "ob22 = ob22.astype({\"年份\": str, \"數量\": int})"
   ]
  },
  {
   "cell_type": "code",
   "execution_count": null,
   "id": "e8ed2643-c09f-4536-a1c4-4f208aea96e7",
   "metadata": {},
   "outputs": [],
   "source": [
    "sales22 = combined_data[[\"Tire Types\", \"類型\", \"大分類\", \"小通路\", \"年份\", \"月份\", \"銷售數量\"]]"
   ]
  },
  {
   "cell_type": "code",
   "execution_count": null,
   "id": "e41b37c0-c506-491e-82cf-3a58ed07e0a3",
   "metadata": {},
   "outputs": [],
   "source": [
    "sales22.columns = ob22.columns"
   ]
  },
  {
   "cell_type": "code",
   "execution_count": null,
   "id": "d3079668-d691-424b-93a8-eff7743b8ca0",
   "metadata": {},
   "outputs": [],
   "source": [
    "sales22 = sales22.groupby([\"Tire Types\", \"類型\", \"大分類\", \"小通路\", \"年份\", \"月份\"])[\"數量\"].sum().reset_index()"
   ]
  },
  {
   "cell_type": "code",
   "execution_count": null,
   "id": "dccb3840-6367-4438-b142-cf7117f60040",
   "metadata": {},
   "outputs": [],
   "source": [
    "# Combine the data for atoti analysis\n",
    "atoti = pd.concat([sales22, ob22])"
   ]
  },
  {
   "cell_type": "markdown",
   "id": "3e9d3599-6941-4a9e-aa61-6bce859ede95",
   "metadata": {
    "tags": []
   },
   "source": [
    "### 建立Atoti session\n",
    "1. 建立session\n",
    "2. 建立cube\n",
    "3. 建立hierarchy, level, measure"
   ]
  },
  {
   "cell_type": "code",
   "execution_count": null,
   "id": "9581e804-745f-49df-a358-feafa4620aa3",
   "metadata": {},
   "outputs": [],
   "source": [
    "session = tt.create_session(config={\"user_content_storage\": \"./atoti_pages\", \"port\": 12345})"
   ]
  },
  {
   "cell_type": "code",
   "execution_count": null,
   "id": "86057d99-37ad-403c-abab-8e0858b48ce6",
   "metadata": {},
   "outputs": [],
   "source": [
    "sales = session.read_pandas(atoti, keys=[\"Tire Types\", \"類型\", \"大分類\", \"小通路\", \"年份\", \"月份\"], table_name=\"Sales\")"
   ]
  },
  {
   "cell_type": "code",
   "execution_count": null,
   "id": "c2e34e80-52f9-4262-8741-283b2f973b78",
   "metadata": {},
   "outputs": [],
   "source": [
    "cube = session.create_cube(sales)"
   ]
  },
  {
   "cell_type": "code",
   "execution_count": null,
   "id": "cf07ca24-a1ca-4ba9-a70d-e491ca34ee37",
   "metadata": {},
   "outputs": [],
   "source": [
    "h, l, m = cube.hierarchies, cube.levels, cube.measures"
   ]
  },
  {
   "cell_type": "code",
   "execution_count": null,
   "id": "dcc63909-4ddc-4cce-811a-fae96ad7e810",
   "metadata": {},
   "outputs": [],
   "source": [
    "h[\"通路別\"] = [l[\"Tire Types\"], l[\"大分類\"], l[\"小通路\"]]\n",
    "h[\"時間\"] = [l[\"年份\"], l[\"月份\"]]"
   ]
  },
  {
   "cell_type": "code",
   "execution_count": null,
   "id": "1b3bf1d4-3273-428b-9dde-caf3a88cfceb",
   "metadata": {},
   "outputs": [],
   "source": [
    "h[\"TBR(G)\"] = [sales[\"大分類\"], sales[\"小通路\"]]"
   ]
  },
  {
   "cell_type": "code",
   "execution_count": null,
   "id": "5296b2e9-b98d-4432-a84a-abca0463e2b8",
   "metadata": {},
   "outputs": [],
   "source": [
    "h[\"數據排序\"] = [sales[\"年份\"], sales[\"類型\"], sales[\"月份\"]]"
   ]
  },
  {
   "cell_type": "code",
   "execution_count": null,
   "id": "c6cd740c-e031-467b-81cd-5ceca49e5836",
   "metadata": {},
   "outputs": [],
   "source": [
    "months = [calendar.month_name[i] for i in range(1, 13)]\n",
    "months"
   ]
  },
  {
   "cell_type": "code",
   "execution_count": null,
   "id": "cd372294-a428-4a14-8f62-f74300f38be1",
   "metadata": {},
   "outputs": [],
   "source": [
    "l[\"Sales\", \"數據排序\", \"月份\"].comparator = tt.comparator.first_members('January', 'February', 'March', 'April', 'May', 'June', 'July', 'August', 'September', 'October', 'November', 'December')\n",
    "l[\"Sales\", \"月份\", \"月份\"].comparator = tt.comparator.first_members('January', 'February', 'March', 'April', 'May', 'June', 'July', 'August', 'September', 'October', 'November', 'December')\n",
    "l[\"Sales\", \"時間\", \"月份\"].comparator = tt.comparator.first_members('January', 'February', 'March', 'April', 'May', 'June', 'July', 'August', 'September', 'October', 'November', 'December')"
   ]
  },
  {
   "cell_type": "code",
   "execution_count": null,
   "id": "6a4037b8-49fc-4fdb-b1fa-4dc34a1070cf",
   "metadata": {},
   "outputs": [],
   "source": [
    "session.link()"
   ]
  },
  {
   "cell_type": "code",
   "execution_count": null,
   "id": "d8d9c461-08c8-4d0f-bb24-13a18b1d04a5",
   "metadata": {},
   "outputs": [],
   "source": [
    "m"
   ]
  },
  {
   "cell_type": "code",
   "execution_count": null,
   "id": "e65f85a6-21cb-4980-884c-031d90f87db5",
   "metadata": {},
   "outputs": [],
   "source": [
    "m[\"21 sales.SUM\"] = tt.where((l[\"Sales\", \"類型\", \"類型\"] == \"實績\") & (l[\"Sales\", \"年份\", \"年份\"] == \"2021\"), tt.agg.sum(sales[\"數量\"]), 0)"
   ]
  },
  {
   "cell_type": "code",
   "execution_count": null,
   "id": "e3976797-6f84-4081-9e56-d97e57676cca",
   "metadata": {},
   "outputs": [],
   "source": [
    "m[\"22 OB.SUM\"] = tt.where((l[\"Sales\", \"類型\", \"類型\"] == \"OB\"), tt.agg.sum(sales[\"數量\"]), 0)"
   ]
  },
  {
   "cell_type": "code",
   "execution_count": null,
   "id": "f4fbf5ec-7ad5-4db6-b616-a018210e6ff8",
   "metadata": {},
   "outputs": [],
   "source": [
    "m[\"22 SALES.SUM\"] = tt.where((l[\"Sales\", \"類型\", \"類型\"] == \"實績\") & (l[\"Sales\", \"年份\", \"年份\"] == \"2022\"), tt.agg.sum(sales[\"數量\"]), 0)"
   ]
  }
 ],
 "metadata": {
  "kernelspec": {
   "display_name": "Python 3 (ipykernel)",
   "language": "python",
   "name": "python3"
  },
  "language_info": {
   "codemirror_mode": {
    "name": "ipython",
    "version": 3
   },
   "file_extension": ".py",
   "mimetype": "text/x-python",
   "name": "python",
   "nbconvert_exporter": "python",
   "pygments_lexer": "ipython3",
   "version": "3.10.0"
  }
 },
 "nbformat": 4,
 "nbformat_minor": 5
}
