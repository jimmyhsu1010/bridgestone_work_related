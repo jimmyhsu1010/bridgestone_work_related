{
 "cells": [
  {
   "cell_type": "code",
   "execution_count": null,
   "id": "32b5dafd-a390-462e-a7ff-6f47c748c9a2",
   "metadata": {},
   "outputs": [],
   "source": [
    "import pandas as pd\n",
    "pd.set_option(\"display.max_columns\", None)"
   ]
  },
  {
   "cell_type": "code",
   "execution_count": null,
   "id": "3ca141e4-3f87-429c-94f9-ea6a7b1c2974",
   "metadata": {},
   "outputs": [],
   "source": [
    "df = pd.read_excel(r\"C:\\Users\\kc.hsu\\Desktop\\實績.xlsx\")"
   ]
  },
  {
   "cell_type": "code",
   "execution_count": null,
   "id": "ff89d4ad-92a2-443b-b35e-20c767359e56",
   "metadata": {},
   "outputs": [],
   "source": [
    "type_keys = ['訂單單號', '訂單項次', '買方', '物料', '銷售數量', '銷貨單價']\n",
    "type_values = [int, int, str, str, int, int]\n",
    "types = dict(zip(type_keys, type_values))"
   ]
  },
  {
   "cell_type": "code",
   "execution_count": null,
   "id": "9b4b0bf4-9eda-4ca1-80d1-7852efec109b",
   "metadata": {},
   "outputs": [],
   "source": [
    "df = df.astype(types)"
   ]
  },
  {
   "cell_type": "code",
   "execution_count": null,
   "id": "e00b7b5d-83af-48db-bede-6f4b0e82c121",
   "metadata": {},
   "outputs": [],
   "source": [
    "df = df[df[\"小通路\"].isin([\"BSSC-FLT\", \"FLT-OE\", \"FLT-REP\"])]"
   ]
  },
  {
   "cell_type": "code",
   "execution_count": null,
   "id": "73cfc3e8-7ec7-4642-a0ca-7050c510bf34",
   "metadata": {},
   "outputs": [],
   "source": [
    "df"
   ]
  },
  {
   "cell_type": "code",
   "execution_count": null,
   "id": "ffcc2f5d-a7a1-40ce-bc30-713727fe8cd9",
   "metadata": {},
   "outputs": [],
   "source": [
    "result = pd.DataFrame(df.pivot_table(index=[\"物料\", \"物料說明\"], columns=[\"小通路\"], values=[\"銷貨單價\", \"銷售數量\"], aggfunc={\"銷貨單價\": min, \"銷售數量\": sum}, dropna=True).to_records())"
   ]
  },
  {
   "cell_type": "code",
   "execution_count": null,
   "id": "9640b39c-7f2d-492f-b0a0-11f9a1997104",
   "metadata": {},
   "outputs": [],
   "source": [
    "result.to_excel(r\"C:\\Users\\kc.hsu\\Desktop\\實績.xlsx\", index=False)"
   ]
  },
  {
   "cell_type": "code",
   "execution_count": null,
   "id": "02860aad-6e6f-49c5-9db6-c8b27a964e42",
   "metadata": {},
   "outputs": [],
   "source": [
    "price = pd.read_excel(r\"C:\\Users\\kc.hsu\\Desktop\\20220412_價格表_初版.xlsx\", None)"
   ]
  },
  {
   "cell_type": "code",
   "execution_count": null,
   "id": "7dd181dd-6aff-498c-8edb-69dbe60e40e9",
   "metadata": {},
   "outputs": [],
   "source": [
    "tbr_price = price[\"TBR\"]\n",
    "lsr_price = price[\"LSR\"]"
   ]
  },
  {
   "cell_type": "code",
   "execution_count": null,
   "id": "8e1ec62e-f492-428e-9a6e-1aa9e2e9d816",
   "metadata": {},
   "outputs": [],
   "source": [
    "p_keys = ['未稅牌價', '現金折扣', '契約店獎勵', '條數獎金', '直送獎金', '季獎金', '設備補助金', 'Net價格', 'FLT-REP價格', 'FLT-OE價格']\n",
    "p_values = [int, int, int, int, int, int, int, int, int, int]\n",
    "p_dict = dict(zip(p_keys, p_values))"
   ]
  },
  {
   "cell_type": "code",
   "execution_count": null,
   "id": "53099e70-cc50-442f-869d-cde5a67b9cc3",
   "metadata": {},
   "outputs": [],
   "source": [
    "result.columns = [\"料號\", \"說明\", \"販社車隊數量\", \"OE數量\", \"REP數量\", \"販社車隊最低價\", \"OE最低價\", \"REP最低價\"]"
   ]
  },
  {
   "cell_type": "code",
   "execution_count": null,
   "id": "6d3452af-bea8-4c63-9881-c8cc7e01d4d5",
   "metadata": {},
   "outputs": [],
   "source": [
    "tbr_price = tbr_price.merge(result, on=\"料號\")"
   ]
  },
  {
   "cell_type": "code",
   "execution_count": null,
   "id": "2373a5c0-0d67-485d-8c59-da61220345c7",
   "metadata": {},
   "outputs": [],
   "source": [
    "lsr_price = lsr_price.merge(result, on=\"料號\")"
   ]
  },
  {
   "cell_type": "code",
   "execution_count": null,
   "id": "da5b1ba2-9630-4eda-bb93-d987a5a800a5",
   "metadata": {},
   "outputs": [],
   "source": [
    "tbr_price.to_excel(r\"C:\\Users\\kc.hsu\\Desktop\\tbr價格.xlsx\", index=False)\n",
    "lsr_price.to_excel(r\"C:\\Users\\kc.hsu\\Desktop\\lsr價格.xlsx\", index=False)"
   ]
  },
  {
   "cell_type": "code",
   "execution_count": null,
   "id": "ab1ab155-8b38-4bdc-82f0-df41d4f232fb",
   "metadata": {},
   "outputs": [],
   "source": []
  }
 ],
 "metadata": {
  "kernelspec": {
   "display_name": "Python 3 (ipykernel)",
   "language": "python",
   "name": "python3"
  },
  "language_info": {
   "codemirror_mode": {
    "name": "ipython",
    "version": 3
   },
   "file_extension": ".py",
   "mimetype": "text/x-python",
   "name": "python",
   "nbconvert_exporter": "python",
   "pygments_lexer": "ipython3",
   "version": "3.9.7"
  }
 },
 "nbformat": 4,
 "nbformat_minor": 5
}
