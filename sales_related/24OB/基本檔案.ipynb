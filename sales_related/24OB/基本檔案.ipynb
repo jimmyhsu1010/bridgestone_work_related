{
 "cells": [
  {
   "cell_type": "code",
   "execution_count": 1,
   "metadata": {},
   "outputs": [],
   "source": [
    "import pandas as pd\n",
    "pd.set_option(\"display.max_columns\", None)"
   ]
  },
  {
   "cell_type": "code",
   "execution_count": 32,
   "metadata": {},
   "outputs": [],
   "source": [
    "# 全部的PCODE表（CAP提供）\n",
    "pcode = pd.read_excel(r\"D:\\kc.hsu\\OneDrive - Bridgestone\\產品規格相關\\BPCOM\\BPCOM_20230103.xlsx\")\n",
    "pcode = pcode[[\"PrCode\", \"GRP\", \"Section\", \"Rim\", \"BP\", \"Product Name\"]]"
   ]
  },
  {
   "cell_type": "code",
   "execution_count": 5,
   "metadata": {},
   "outputs": [],
   "source": [
    "# 全部的Premium list\n",
    "premium = pd.read_excel(r\"D:\\kc.hsu\\OneDrive - Bridgestone\\KPI\\2023 GKPI\\20230710_GKPI BSFC_June 2023.xlsx\", sheet_name=\"Premium Products - BPCs\")\n",
    "premium = premium.iloc[1:]\n",
    "premium = premium[[\"製品ｺｰﾄﾞ\", \"BSCAP definition\"]]"
   ]
  },
  {
   "cell_type": "code",
   "execution_count": 34,
   "metadata": {},
   "outputs": [],
   "source": [
    "# 產品總表\n",
    "pro_df = pd.merge(pcode, premium, how=\"left\", left_on=\"PrCode\", right_on=\"製品ｺｰﾄﾞ\").drop(\"製品ｺｰﾄﾞ\", axis=1)"
   ]
  },
  {
   "cell_type": "code",
   "execution_count": 5,
   "metadata": {},
   "outputs": [
    {
     "data": {
      "text/plain": [
       "array(['V-STEEL RIB R150', 'V-STEEL MIX M729', 'V-STEEL RIB R224',\n",
       "       'V-STEEL RIB LUG G540', 'V-STEEL RIB R250 ED', 'V-STEEL RIB R162',\n",
       "       'U-AP 001', 'V-STEEL MIX M888', 'ECOPIA R156', 'V-STEEL RIB R192',\n",
       "       'V-STEEL RIB R154', 'V-STEEL RIB 294', 'V-STEEL MIX M798',\n",
       "       'V-STEEL RIB LUG G515', 'V-STEEL RIB LUG G582', 'V-STEEL MIX M805',\n",
       "       'V-STEEL RIB R168', 'V-STEEL RIB R249', 'V-STEEL RIB R294',\n",
       "       'V-STEEL RIB R225', 'V-STEEL MIX M810', 'V-STEEL RIB R227',\n",
       "       'V-STEEL RIB R156', nan, 'R-STEER 002'], dtype=object)"
      ]
     },
     "execution_count": 5,
     "metadata": {},
     "output_type": "execute_result"
    }
   ],
   "source": [
    "# 整理實績和下半年RT3"
   ]
  }
 ],
 "metadata": {
  "kernelspec": {
   "display_name": "python_env",
   "language": "python",
   "name": "python3"
  },
  "language_info": {
   "codemirror_mode": {
    "name": "ipython",
    "version": 3
   },
   "file_extension": ".py",
   "mimetype": "text/x-python",
   "name": "python",
   "nbconvert_exporter": "python",
   "pygments_lexer": "ipython3",
   "version": "3.10.6"
  },
  "orig_nbformat": 4
 },
 "nbformat": 4,
 "nbformat_minor": 2
}
