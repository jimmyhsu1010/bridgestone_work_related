{
 "cells": [
  {
   "cell_type": "code",
   "execution_count": 1,
   "metadata": {},
   "outputs": [],
   "source": [
    "import pandas as pd\n",
    "pd.set_option(\"display.max_columns\", None)\n",
    "import warnings\n",
    "warnings.filterwarnings(\"ignore\")\n",
    "import json"
   ]
  },
  {
   "cell_type": "code",
   "execution_count": 2,
   "metadata": {},
   "outputs": [],
   "source": [
    "# 全部的PCODE表（CAP提供）\n",
    "pcode = pd.read_excel(r\"D:\\kc.hsu\\OneDrive - Bridgestone\\產品規格相關\\BPCOM\\BPCOM_20230103.xlsx\")\n",
    "pcode = pcode[[\"PrCode\", \"GRP\", \"Section\", \"Rim\", \"BP\", \"Product Name\"]]"
   ]
  },
  {
   "cell_type": "code",
   "execution_count": 3,
   "metadata": {},
   "outputs": [],
   "source": [
    "# 全部的Premium list\n",
    "premium = pd.read_excel(r\"D:\\kc.hsu\\OneDrive - Bridgestone\\KPI\\2023 GKPI\\20230710_GKPI BSFC_June 2023.xlsx\", sheet_name=\"Premium Products - BPCs\")\n",
    "premium = premium.iloc[1:]\n",
    "premium = premium[[\"BPC\", \"Premium\"]]"
   ]
  },
  {
   "cell_type": "code",
   "execution_count": 4,
   "metadata": {},
   "outputs": [],
   "source": [
    "# 產品總表\n",
    "pro_df = pd.merge(pcode, premium, how=\"left\", left_on=\"PrCode\", right_on=\"BPC\").drop(\"BPC\", axis=1)"
   ]
  },
  {
   "cell_type": "code",
   "execution_count": 72,
   "metadata": {},
   "outputs": [],
   "source": [
    "# 整理實績和下半年RT3\n",
    "# 實績整理\n",
    "\n",
    "act = pd.read_excel(r\"D:\\kc.hsu\\OneDrive - Bridgestone\\數據\\2023ACT\\20230710_SizeData.xlsx\", sheet_name=\"Sheet1\")"
   ]
  },
  {
   "cell_type": "code",
   "execution_count": 73,
   "metadata": {},
   "outputs": [],
   "source": [
    "act = act[(act[\"預算/前實績\"] == \"23ACT\") & (act[\"通路明細\"] != \"LSCM\") & (act[\"客戶名稱\"] != \"普利司通\")]"
   ]
  },
  {
   "cell_type": "code",
   "execution_count": 74,
   "metadata": {},
   "outputs": [
    {
     "data": {
      "text/html": [
       "<div><div id=6a825313-d456-4fa6-ad0f-f1659e060d16 style=\"display:none; background-color:#9D6CFF; color:white; width:200px; height:30px; padding-left:5px; border-radius:4px; flex-direction:row; justify-content:space-around; align-items:center;\" onmouseover=\"this.style.backgroundColor='#BA9BF8'\" onmouseout=\"this.style.backgroundColor='#9D6CFF'\" onclick=\"window.commands?.execute('create-mitosheet-from-dataframe-output');\">See Full Dataframe in Mito</div> <script> if (window.commands?.hasCommand('create-mitosheet-from-dataframe-output')) document.getElementById('6a825313-d456-4fa6-ad0f-f1659e060d16').style.display = 'flex' </script> <table border=\"1\" class=\"dataframe\">\n",
       "  <thead>\n",
       "    <tr style=\"text-align: right;\">\n",
       "      <th></th>\n",
       "      <th>條數</th>\n",
       "    </tr>\n",
       "    <tr>\n",
       "      <th>通路明細</th>\n",
       "      <th></th>\n",
       "    </tr>\n",
       "  </thead>\n",
       "  <tbody>\n",
       "    <tr>\n",
       "      <th>AG</th>\n",
       "      <td>186</td>\n",
       "    </tr>\n",
       "    <tr>\n",
       "      <th>CD</th>\n",
       "      <td>515</td>\n",
       "    </tr>\n",
       "    <tr>\n",
       "      <th>FLT-BSSC</th>\n",
       "      <td>6502</td>\n",
       "    </tr>\n",
       "    <tr>\n",
       "      <th>FLT-REP</th>\n",
       "      <td>1598</td>\n",
       "    </tr>\n",
       "    <tr>\n",
       "      <th>FT</th>\n",
       "      <td>4857</td>\n",
       "    </tr>\n",
       "    <tr>\n",
       "      <th>MM</th>\n",
       "      <td>0</td>\n",
       "    </tr>\n",
       "    <tr>\n",
       "      <th>OT</th>\n",
       "      <td>2</td>\n",
       "    </tr>\n",
       "    <tr>\n",
       "      <th>中盤</th>\n",
       "      <td>988</td>\n",
       "    </tr>\n",
       "    <tr>\n",
       "      <th>加油站</th>\n",
       "      <td>10</td>\n",
       "    </tr>\n",
       "    <tr>\n",
       "      <th>輪胎行</th>\n",
       "      <td>30589</td>\n",
       "    </tr>\n",
       "  </tbody>\n",
       "</table></div>"
      ],
      "text/plain": [
       "             條數\n",
       "通路明細           \n",
       "AG          186\n",
       "CD          515\n",
       "FLT-BSSC   6502\n",
       "FLT-REP    1598\n",
       "FT         4857\n",
       "MM            0\n",
       "OT            2\n",
       "中盤          988\n",
       "加油站          10\n",
       "輪胎行       30589"
      ]
     },
     "execution_count": 74,
     "metadata": {},
     "output_type": "execute_result"
    }
   ],
   "source": [
    "act.groupby([\"通路明細\"])[[\"條數\"]].sum()"
   ]
  },
  {
   "cell_type": "code",
   "execution_count": 75,
   "metadata": {},
   "outputs": [],
   "source": [
    "channel_keys = ['FLT-REP', 'CD', 'FLT-BSSC', 'OT', '中盤', '加油站', 'AG', '輪胎行', 'FT', 'MM', 'BSSC', 'BSSC-FLT']\n",
    "channel_values = ['FLT-REP', 'T/S', 'BSSC-FLT', 'T/S', 'T/S', 'T/S', 'T/S', 'T/S', 'FLT-REP', 'T/S', 'T/S', 'BSSC-FLT']\n",
    "channel_dict = dict(zip(channel_keys, channel_values))"
   ]
  },
  {
   "cell_type": "code",
   "execution_count": 76,
   "metadata": {},
   "outputs": [],
   "source": [
    "act[\"通路明細\"] = act[\"通路明細\"].map(channel_dict)"
   ]
  },
  {
   "cell_type": "code",
   "execution_count": 45,
   "metadata": {},
   "outputs": [],
   "source": [
    "act_result = act.groupby([pd.Grouper(key=\"整理後的日期\", freq=\"MS\"), \"商品代號\", \"通路明細\"])[[\"條數\"]].sum().reset_index()"
   ]
  },
  {
   "cell_type": "code",
   "execution_count": 46,
   "metadata": {},
   "outputs": [],
   "source": [
    "act_result[\"整理後的日期\"] = act_result[\"整理後的日期\"].dt.month_name()"
   ]
  },
  {
   "cell_type": "code",
   "execution_count": 109,
   "metadata": {},
   "outputs": [],
   "source": [
    "## RBC3整理\n",
    "rba = pd.read_excel(r\"D:\\kc.hsu\\OneDrive - Bridgestone\\價格相關\\預算\\2023\\20230801_RBAC3_final.xlsx\", sheet_name=\"工作表1\")"
   ]
  },
  {
   "cell_type": "code",
   "execution_count": 110,
   "metadata": {},
   "outputs": [],
   "source": [
    "rba[\"整理後的日期\"] = pd.to_datetime(rba[\"年月\"], format=\"%Y%m\")"
   ]
  },
  {
   "cell_type": "code",
   "execution_count": 111,
   "metadata": {},
   "outputs": [],
   "source": [
    "rba = rba[(rba[\"國內市場財別\"] == \"TBR(G)\") & (rba[\"預算/前實績\"] == \"23RBAC3\") & (rba[\"大通路分類\"] != \"OE\") & (rba[\"通路明細\"] != \"LSCM\") & (rba[\"客戶名稱\"] != \"普利司通\") & (rba[\"整理後的日期\"] >= \"2023-07-01\")]"
   ]
  },
  {
   "cell_type": "code",
   "execution_count": 112,
   "metadata": {},
   "outputs": [],
   "source": [
    "rba[\"通路明細\"] = rba[\"通路明細\"].map(lambda x: \"T/S\" if x in [\"AG\", \"BSSC\"] else x)"
   ]
  },
  {
   "cell_type": "code",
   "execution_count": 65,
   "metadata": {},
   "outputs": [],
   "source": [
    "rba_result = rba.groupby([pd.Grouper(key=\"整理後的日期\", freq=\"MS\"), \"商品代號\", \"通路明細\"])[[\"條數\"]].sum().reset_index()"
   ]
  },
  {
   "cell_type": "code",
   "execution_count": 66,
   "metadata": {},
   "outputs": [],
   "source": [
    "rba_result[\"條數\"] = rba_result[\"條數\"].astype(int)"
   ]
  },
  {
   "cell_type": "code",
   "execution_count": 67,
   "metadata": {},
   "outputs": [],
   "source": [
    "rba_result[\"整理後的日期\"] = rba_result[\"整理後的日期\"].dt.month_name()"
   ]
  },
  {
   "cell_type": "code",
   "execution_count": 68,
   "metadata": {},
   "outputs": [],
   "source": [
    "## 整理業務填回的數據\n",
    "ob = pd.read_excel(r\"D:\\kc.hsu\\OneDrive - Bridgestone\\OB\\24OB\\24OB_業務填寫表格.xlsx\", None)"
   ]
  },
  {
   "cell_type": "code",
   "execution_count": 69,
   "metadata": {},
   "outputs": [],
   "source": [
    "dfs = []\n",
    "columns = [\"PCODE\",\t\"中計\", \"上市時間\",\t\"GRP\", \"大通路\", \"客戶通路\", \"規格\", \"吋別\", \"花紋\", \"產地\", \"Product Name\", \"BSCAP definition\", \"1月\",\t\"2月\", \"3月\", \"4月\", \"5月\",\t\"6月\", \"7月\", \"8月\", \"9月\",\t\"10月\",\t\"11月\",\t\"12月\",\t\"2025年\", \"2026年\"]\n",
    "for sheet in ob.keys():\n",
    "    if sheet not in ['歷史數據樞紐', 'Raw data', 'Demand_Sales', 'TBR premium定義', '總表', '24OB表格']:\n",
    "        df = ob[sheet].iloc[8:]\n",
    "        df.columns = columns\n",
    "        # df[\"業務名稱\"] = sheet\n",
    "        dfs.append(df)"
   ]
  },
  {
   "cell_type": "code",
   "execution_count": 70,
   "metadata": {},
   "outputs": [],
   "source": [
    "ob_result = pd.concat(dfs)"
   ]
  },
  {
   "cell_type": "code",
   "execution_count": 71,
   "metadata": {},
   "outputs": [],
   "source": [
    "ob_result = ob_result[['PCODE', '客戶通路', '1月', '2月', '3月', '4月', '5月', '6月', '7月', '8月', '9月', '10月', '11月', '12月', '2025年', '2026年']]"
   ]
  },
  {
   "cell_type": "code",
   "execution_count": 72,
   "metadata": {},
   "outputs": [],
   "source": [
    "ob_result[\"客戶通路\"] = ob_result[\"客戶通路\"].map(lambda x: \"T/S\" if x in [\"FMC\", \"其他\"] else x)"
   ]
  },
  {
   "cell_type": "code",
   "execution_count": 73,
   "metadata": {},
   "outputs": [],
   "source": [
    "ob_result = ob_result.groupby(['PCODE', '客戶通路']).sum().stack().reset_index(name=\"條數\")"
   ]
  },
  {
   "cell_type": "code",
   "execution_count": 74,
   "metadata": {},
   "outputs": [],
   "source": [
    "ob_result.columns = [\"商品代號\", \"通路明細\", \"整理後的日期\", \"條數\"]"
   ]
  },
  {
   "cell_type": "code",
   "execution_count": 75,
   "metadata": {},
   "outputs": [],
   "source": [
    "ob_result = ob_result[[\"整理後的日期\", \"商品代號\", \"通路明細\", \"條數\"]]"
   ]
  },
  {
   "cell_type": "code",
   "execution_count": 76,
   "metadata": {},
   "outputs": [],
   "source": [
    "# 合併表格\n",
    "final = pd.concat([act_result, rba_result, ob_result], ignore_index=True)"
   ]
  },
  {
   "cell_type": "code",
   "execution_count": 77,
   "metadata": {},
   "outputs": [],
   "source": [
    "final = final.set_index([\"商品代號\", \"通路明細\", \"整理後的日期\"]).unstack(\"整理後的日期\", fill_value=0).droplevel(level=0, axis=1).reset_index()"
   ]
  },
  {
   "cell_type": "code",
   "execution_count": 78,
   "metadata": {},
   "outputs": [],
   "source": [
    "final = final.rename_axis(None, axis=1)"
   ]
  },
  {
   "cell_type": "code",
   "execution_count": 79,
   "metadata": {},
   "outputs": [],
   "source": [
    "final = final[['商品代號', '通路明細', 'January', 'February', 'March', 'April', 'May', 'June', 'July', 'August', 'September', 'October', 'November', 'December', '1月', '2月', '3月', '4月', '5月', '6月', '7月', '8月', '9月', '10月', '11月', '12月', '2025年', '2026年']]"
   ]
  },
  {
   "cell_type": "code",
   "execution_count": 80,
   "metadata": {},
   "outputs": [],
   "source": [
    "## 讀取產品總表\n",
    "pro_table = pd.read_csv(r\"D:\\kc.hsu\\OneDrive - Bridgestone\\OB\\24OB\\24OB_product_table_updated.csv\")"
   ]
  },
  {
   "cell_type": "code",
   "execution_count": 81,
   "metadata": {},
   "outputs": [],
   "source": [
    "def rim_transform(df):\n",
    "    if df == \"16C\" or len(df) == 2:\n",
    "        return df\n",
    "    else:\n",
    "        return df[:2] + \".\" + df[-1]"
   ]
  },
  {
   "cell_type": "code",
   "execution_count": 82,
   "metadata": {},
   "outputs": [],
   "source": [
    "pro_table[\"Rim\"] = pro_table[\"Rim\"].map(rim_transform)"
   ]
  },
  {
   "cell_type": "code",
   "execution_count": 83,
   "metadata": {},
   "outputs": [],
   "source": [
    "pro_table[\"size\"] = pro_table[\"Section\"] + \"R\" + pro_table[\"Rim\"]"
   ]
  },
  {
   "cell_type": "code",
   "execution_count": 84,
   "metadata": {},
   "outputs": [],
   "source": [
    "pcode_dict = dict(zip(pro_table[\"PrCode\"], pro_table[[\"size\", \"BP\"]].apply(tuple, axis=1)))"
   ]
  },
  {
   "cell_type": "code",
   "execution_count": 85,
   "metadata": {},
   "outputs": [],
   "source": [
    "final[\"產品規格\"] = final[\"商品代號\"].map(pcode_dict)"
   ]
  },
  {
   "cell_type": "code",
   "execution_count": 86,
   "metadata": {},
   "outputs": [],
   "source": [
    "final[[\"Size\", \"Pattern\"]] = pd.DataFrame(final[\"產品規格\"].tolist(), columns=[\"Size\", \"Pattern\"])"
   ]
  },
  {
   "cell_type": "code",
   "execution_count": 87,
   "metadata": {},
   "outputs": [],
   "source": [
    "final = final[['商品代號', '通路明細', 'Size', 'Pattern', 'January', 'February', 'March', 'April', 'May', 'June',\n",
    "       'July', 'August', 'September', 'October', 'November', 'December', '1月',\n",
    "       '2月', '3月', '4月', '5月', '6月', '7月', '8月', '9月', '10月', '11月', '12月',\n",
    "       '2025年', '2026年']]"
   ]
  },
  {
   "cell_type": "code",
   "execution_count": 88,
   "metadata": {},
   "outputs": [],
   "source": [
    "final.to_excel(r\"D:\\kc.hsu\\OneDrive - Bridgestone\\OB\\24OB\\20230803_24OB第三版數量總表格.xlsx\", index=False)"
   ]
  },
  {
   "cell_type": "code",
   "execution_count": 192,
   "metadata": {},
   "outputs": [],
   "source": [
    "pro_dict = dict(zip(pro_table[\"PrCode\"], pro_table[\"GRP\"]))"
   ]
  },
  {
   "cell_type": "code",
   "execution_count": 195,
   "metadata": {},
   "outputs": [],
   "source": [
    "final[\"分類\"] = final[\"商品代號\"].map(pro_dict)"
   ]
  },
  {
   "cell_type": "code",
   "execution_count": 204,
   "metadata": {},
   "outputs": [],
   "source": [
    "f_w = final[['分類', '1月', '2月', '3月', '4月', '5月', '6月', '7月', '8月',\n",
    "       '9月', '10月', '11月', '12月', '2025年', '2026年']]"
   ]
  },
  {
   "cell_type": "code",
   "execution_count": 212,
   "metadata": {},
   "outputs": [],
   "source": [
    "f_w.set_index([\"分類\"]).stack().reset_index(name=\"數量\").rename(columns={\"level_1\": \"年月\"}).to_clipboard(index=False)"
   ]
  },
  {
   "cell_type": "code",
   "execution_count": null,
   "metadata": {},
   "outputs": [],
   "source": []
  }
 ],
 "metadata": {
  "kernelspec": {
   "display_name": "python_env",
   "language": "python",
   "name": "python3"
  },
  "language_info": {
   "codemirror_mode": {
    "name": "ipython",
    "version": 3
   },
   "file_extension": ".py",
   "mimetype": "text/x-python",
   "name": "python",
   "nbconvert_exporter": "python",
   "pygments_lexer": "ipython3",
   "version": "3.10.6"
  },
  "orig_nbformat": 4
 },
 "nbformat": 4,
 "nbformat_minor": 2
}
