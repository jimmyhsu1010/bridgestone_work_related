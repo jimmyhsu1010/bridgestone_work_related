{
 "cells": [
  {
   "cell_type": "code",
   "execution_count": 1,
   "metadata": {},
   "outputs": [],
   "source": [
    "import pandas as pd\n",
    "pd.set_option(\"display.max_columns\", None)"
   ]
  },
  {
   "cell_type": "code",
   "execution_count": 32,
   "metadata": {},
   "outputs": [],
   "source": [
    "# 全部的PCODE表（CAP提供）\n",
    "pcode = pd.read_excel(r\"D:\\kc.hsu\\OneDrive - Bridgestone\\產品規格相關\\BPCOM\\BPCOM_20230103.xlsx\")\n",
    "pcode = pcode[[\"PrCode\", \"GRP\", \"Section\", \"Rim\", \"BP\", \"Product Name\"]]"
   ]
  },
  {
   "cell_type": "code",
   "execution_count": 5,
   "metadata": {},
   "outputs": [],
   "source": [
    "# 全部的Premium list\n",
    "premium = pd.read_excel(r\"D:\\kc.hsu\\OneDrive - Bridgestone\\KPI\\2023 GKPI\\20230710_GKPI BSFC_June 2023.xlsx\", sheet_name=\"Premium Products - BPCs\")\n",
    "premium = premium.iloc[1:]\n",
    "premium = premium[[\"製品ｺｰﾄﾞ\", \"BSCAP definition\"]]"
   ]
  },
  {
   "cell_type": "code",
   "execution_count": 34,
   "metadata": {},
   "outputs": [],
   "source": [
    "# 產品總表\n",
    "pro_df = pd.merge(pcode, premium, how=\"left\", left_on=\"PrCode\", right_on=\"製品ｺｰﾄﾞ\").drop(\"製品ｺｰﾄﾞ\", axis=1)"
   ]
  }
 ],
 "metadata": {
  "kernelspec": {
   "display_name": "python_env",
   "language": "python",
   "name": "python3"
  },
  "language_info": {
   "codemirror_mode": {
    "name": "ipython",
    "version": 3
   },
   "file_extension": ".py",
   "mimetype": "text/x-python",
   "name": "python",
   "nbconvert_exporter": "python",
   "pygments_lexer": "ipython3",
   "version": "3.10.6"
  },
  "orig_nbformat": 4
 },
 "nbformat": 4,
 "nbformat_minor": 2
}
