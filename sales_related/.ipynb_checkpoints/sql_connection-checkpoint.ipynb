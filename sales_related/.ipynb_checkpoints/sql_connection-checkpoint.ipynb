{
 "cells": [
  {
   "cell_type": "code",
   "execution_count": 1,
   "id": "18605158",
   "metadata": {},
   "outputs": [],
   "source": [
    "import sqlite3\n",
    "import pandas as pd\n",
    "pd.set_option(\"display.max_columns\", None)\n",
    "import plotly.express as px"
   ]
  },
  {
   "cell_type": "code",
   "execution_count": 2,
   "id": "ff2440f9",
   "metadata": {},
   "outputs": [],
   "source": [
    "# Create the connection\n",
    "connect = sqlite3.connect(r\"D:\\kc.hsu\\OneDrive - Bridgestone\\數據\\new_car.db\")"
   ]
  },
  {
   "cell_type": "code",
   "execution_count": 3,
   "id": "f0c95496",
   "metadata": {
    "scrolled": true
   },
   "outputs": [],
   "source": [
    "df = pd.read_sql_query(\"SELECT * FROM DATA_01_TRANSFORM\", con=connect)"
   ]
  },
  {
   "cell_type": "code",
   "execution_count": 4,
   "id": "b414ba46",
   "metadata": {},
   "outputs": [
    {
     "data": {
      "text/plain": [
       "Index(['BRAND_RAW', 'BRAND_1', 'BRAND_2', 'SOURCE', 'LICENSE_DATE', 'LOCATION',\n",
       "       'CAR_TYPE_RAW', 'CAR_TYPE', 'CAR_TYPE_by_MODEL', 'USAGE', 'MODEL_RAW',\n",
       "       'MODEL', 'PRODUCTION_DATE', 'GENDER', 'WEIGHT', 'TIRE_SIZE_RAW',\n",
       "       'TIRE_SIZE', 'WIDTH', 'HEIGHT', 'INCH', 'BIRTHDAY_YEAR', 'MOV', 'ID'],\n",
       "      dtype='object')"
      ]
     },
     "execution_count": 4,
     "metadata": {},
     "output_type": "execute_result"
    }
   ],
   "source": [
    "df.columns"
   ]
  },
  {
   "cell_type": "code",
   "execution_count": 5,
   "id": "71d7bf2c",
   "metadata": {
    "scrolled": true
   },
   "outputs": [],
   "source": [
    "tbr_df = df[~df[\"CAR_TYPE\"].isin([\"小客貨\", \"小客車\"])]"
   ]
  },
  {
   "cell_type": "code",
   "execution_count": null,
   "id": "a776f198",
   "metadata": {},
   "outputs": [],
   "source": [
    "tbr_df[\"LICENSE_DATE\"] = pd.to_datetime(tbr_df[\"LICENSE_DATE\"], yearfirst=True)"
   ]
  },
  {
   "cell_type": "code",
   "execution_count": null,
   "id": "a8750cf9",
   "metadata": {},
   "outputs": [],
   "source": [
    "brand_distribution = tbr_df[tbr_df[\"CAR_TYPE\"].isin([\"大客車\", \"大貨車\"])].groupby([pd.Grouper(key=\"LICENSE_DATE\", freq=\"M\"), \"BRAND_RAW\", \"CAR_TYPE\"]).size().reset_index(name=\"數量\")"
   ]
  },
  {
   "cell_type": "code",
   "execution_count": null,
   "id": "20dcce77",
   "metadata": {},
   "outputs": [],
   "source": [
    "px.bar(brand_distribution, x=\"LICENSE_DATE\", y=\"數量\", color=\"BRAND_RAW\", facet_col=\"CAR_TYPE\", text_auto=True)"
   ]
  },
  {
   "cell_type": "code",
   "execution_count": null,
   "id": "03d3283f",
   "metadata": {
    "scrolled": false
   },
   "outputs": [],
   "source": [
    "filter_result = tbr_df.groupby([pd.Grouper(key=\"LICENSE_DATE\", freq=\"M\"), \"CAR_TYPE\"]).size().reset_index(name=\"總數\")"
   ]
  },
  {
   "cell_type": "code",
   "execution_count": null,
   "id": "12f417c2",
   "metadata": {},
   "outputs": [],
   "source": [
    "px.bar(filter_result, x=\"LICENSE_DATE\", y=\"總數\", color=\"CAR_TYPE\", text=\"總數\")"
   ]
  },
  {
   "cell_type": "code",
   "execution_count": null,
   "id": "4aa3dad5",
   "metadata": {},
   "outputs": [],
   "source": []
  },
  {
   "cell_type": "code",
   "execution_count": null,
   "id": "60e33794",
   "metadata": {},
   "outputs": [],
   "source": []
  },
  {
   "cell_type": "code",
   "execution_count": 7,
   "id": "00e9d820",
   "metadata": {},
   "outputs": [],
   "source": [
    "test = pd.read_clipboard()"
   ]
  },
  {
   "cell_type": "code",
   "execution_count": 25,
   "id": "ac3845f2",
   "metadata": {},
   "outputs": [],
   "source": [
    "fig = px.histogram(test[test[\"輪胎規格\"] == \"95R175\"].groupby([\"車種\", \"車型\", \"GVW\"]).size().reset_index(name=\"總數\"), x=\"車種\", y=\"總數\")"
   ]
  },
  {
   "cell_type": "code",
   "execution_count": 26,
   "id": "df6a28fd",
   "metadata": {},
   "outputs": [],
   "source": [
    "with open('test_file.html', 'a') as f:\n",
    "#     f.write(table.render()) # Styler之後要用Render\n",
    "    f.write(fig.to_html(full_html=False, include_plotlyjs='cdn'))\n",
    "#     f.write(yoy_fig.to_html(full_html=False, include_plotlyjs='cdn'))\n",
    "    f.close()"
   ]
  },
  {
   "cell_type": "code",
   "execution_count": null,
   "id": "9c26bce5",
   "metadata": {},
   "outputs": [],
   "source": []
  }
 ],
 "metadata": {
  "kernelspec": {
   "display_name": "Python 3 (ipykernel)",
   "language": "python",
   "name": "python3"
  },
  "language_info": {
   "codemirror_mode": {
    "name": "ipython",
    "version": 3
   },
   "file_extension": ".py",
   "mimetype": "text/x-python",
   "name": "python",
   "nbconvert_exporter": "python",
   "pygments_lexer": "ipython3",
   "version": "3.9.7"
  }
 },
 "nbformat": 4,
 "nbformat_minor": 5
}
