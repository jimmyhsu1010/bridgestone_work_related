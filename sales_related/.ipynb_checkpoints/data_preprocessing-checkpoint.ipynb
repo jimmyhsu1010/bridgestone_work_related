{
 "cells": [
  {
   "cell_type": "code",
   "execution_count": 29,
   "id": "32a46eea-4139-4b78-a55a-fa17168ed00b",
   "metadata": {},
   "outputs": [],
   "source": [
    "import pandas as pd\n",
    "pd.set_option(\"display.max_columns\", None)\n",
    "import calendar"
   ]
  },
  {
   "cell_type": "markdown",
   "id": "4e93519e-8922-4ecc-8db3-0e818746d247",
   "metadata": {},
   "source": [
    "## 處理22OB"
   ]
  },
  {
   "cell_type": "code",
   "execution_count": 2,
   "id": "2121f633-ecc3-4cca-aee9-f3294f63c11a",
   "metadata": {},
   "outputs": [],
   "source": [
    "df = pd.read_clipboard()"
   ]
  },
  {
   "cell_type": "code",
   "execution_count": 15,
   "id": "76ef4feb-aad0-4585-98af-22e1f3505055",
   "metadata": {},
   "outputs": [],
   "source": [
    "forecast = df.groupby(['MTP２', '製品編碼', 'Channel', 'Customer Group', 'Description', 'Pattern']).sum().stack().reset_index()"
   ]
  },
  {
   "cell_type": "code",
   "execution_count": 18,
   "id": "2ec7b91b-d13a-45ce-bf0d-ce05bb126786",
   "metadata": {},
   "outputs": [],
   "source": [
    "forecast.columns = ['MTP２', '製品編碼', 'Channel', 'Customer Group', 'Description', 'Pattern', 'Year_Month', 'Qty']"
   ]
  },
  {
   "cell_type": "code",
   "execution_count": 20,
   "id": "a9d28e7d-b4ff-4fb1-8166-2742b24de5be",
   "metadata": {},
   "outputs": [
    {
     "name": "stdout",
     "output_type": "stream",
     "text": [
      "<class 'pandas.core.frame.DataFrame'>\n",
      "RangeIndex: 4032 entries, 0 to 4031\n",
      "Data columns (total 8 columns):\n",
      " #   Column          Non-Null Count  Dtype  \n",
      "---  ------          --------------  -----  \n",
      " 0   MTP２            4032 non-null   object \n",
      " 1   製品編碼            4032 non-null   object \n",
      " 2   Channel         4032 non-null   object \n",
      " 3   Customer Group  4032 non-null   object \n",
      " 4   Description     4032 non-null   object \n",
      " 5   Pattern         4032 non-null   object \n",
      " 6   Year_Month      4032 non-null   object \n",
      " 7   Qty             4032 non-null   float64\n",
      "dtypes: float64(1), object(7)\n",
      "memory usage: 252.1+ KB\n"
     ]
    }
   ],
   "source": [
    "forecast.info()"
   ]
  },
  {
   "cell_type": "code",
   "execution_count": 21,
   "id": "0ff78ed3-746b-408b-8954-d1caa3e84600",
   "metadata": {},
   "outputs": [],
   "source": [
    "def separate_date(data):\n",
    "    year = data[:4]\n",
    "    month = data[-2:]\n",
    "    return year, month"
   ]
  },
  {
   "cell_type": "code",
   "execution_count": 27,
   "id": "67fb9363-1f56-4f3c-9738-9813a5f8bf1b",
   "metadata": {},
   "outputs": [],
   "source": [
    "forecast[\"Year\"] = forecast[\"Year_Month\"].map(separate_date).map(lambda x: x[0])\n",
    "forecast[\"Month\"] = forecast[\"Year_Month\"].map(separate_date).map(lambda x: x[1])"
   ]
  },
  {
   "cell_type": "code",
   "execution_count": 33,
   "id": "eb68ee81-7cb9-4cfa-8b41-855f42e6ef23",
   "metadata": {},
   "outputs": [],
   "source": [
    "keys = [\"0\" + str(i) if len(str(i)) != 2 else str(i) for i in range(1, 13)]\n",
    "values = [calendar.month_name[i] for i in range(1, 13)]\n",
    "month_dict = dict(zip(keys, values))"
   ]
  },
  {
   "cell_type": "code",
   "execution_count": 35,
   "id": "facb303f-f85d-498d-aa52-39cd63ec07d6",
   "metadata": {},
   "outputs": [],
   "source": [
    "forecast[\"Month\"] = forecast[\"Month\"].map(month_dict)"
   ]
  },
  {
   "cell_type": "code",
   "execution_count": 39,
   "id": "98168b6d-8f4d-45b3-a892-36e48f9435c5",
   "metadata": {},
   "outputs": [],
   "source": [
    "forecast = forecast[['MTP２', '製品編碼', 'Channel', 'Customer Group', 'Description', 'Pattern', 'Qty', 'Year', 'Month']]"
   ]
  },
  {
   "cell_type": "code",
   "execution_count": 41,
   "id": "9b3215a3-63b8-425a-aed4-626897aa031a",
   "metadata": {},
   "outputs": [
    {
     "name": "stderr",
     "output_type": "stream",
     "text": [
      "<ipython-input-41-d22743c444a8>:1: SettingWithCopyWarning: \n",
      "A value is trying to be set on a copy of a slice from a DataFrame.\n",
      "Try using .loc[row_indexer,col_indexer] = value instead\n",
      "\n",
      "See the caveats in the documentation: https://pandas.pydata.org/pandas-docs/stable/user_guide/indexing.html#returning-a-view-versus-a-copy\n",
      "  forecast[\"Qty\"] = forecast[\"Qty\"].astype(int)\n"
     ]
    }
   ],
   "source": [
    "forecast[\"Qty\"] = forecast[\"Qty\"].astype(int)"
   ]
  },
  {
   "cell_type": "code",
   "execution_count": 43,
   "id": "0d88456a-d1ab-4d2e-b27f-d4280c44eb7c",
   "metadata": {},
   "outputs": [],
   "source": [
    "forecast.to_csv(\"./TyreCategory/OB22_volume.csv\", index=False)"
   ]
  },
  {
   "cell_type": "code",
   "execution_count": null,
   "id": "8647780c-c002-4722-91d1-10cc1b81dc5d",
   "metadata": {},
   "outputs": [],
   "source": []
  }
 ],
 "metadata": {
  "kernelspec": {
   "display_name": "Python 3",
   "language": "python",
   "name": "python3"
  },
  "language_info": {
   "codemirror_mode": {
    "name": "ipython",
    "version": 3
   },
   "file_extension": ".py",
   "mimetype": "text/x-python",
   "name": "python",
   "nbconvert_exporter": "python",
   "pygments_lexer": "ipython3",
   "version": "3.8.3"
  }
 },
 "nbformat": 4,
 "nbformat_minor": 5
}
