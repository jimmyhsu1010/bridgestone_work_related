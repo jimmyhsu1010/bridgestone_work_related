{
 "cells": [
  {
   "cell_type": "code",
   "execution_count": null,
   "id": "e1ce2751-2e1d-4ae1-8b1e-03c2e69a3f82",
   "metadata": {},
   "outputs": [],
   "source": [
    "import pandas as pd\n",
    "pd.set_option(\"display.max_columns\", None)\n",
    "import atoti as tt"
   ]
  },
  {
   "cell_type": "code",
   "execution_count": null,
   "id": "dfaac1d4-ed50-4d4a-af8f-f9a4e2d28b29",
   "metadata": {},
   "outputs": [],
   "source": [
    "priceList = pd.read_excel(\"PriceList/202204價格表.xlsx\", None)"
   ]
  },
  {
   "cell_type": "code",
   "execution_count": null,
   "id": "bf86d4f0-e5b3-48b0-b5bf-8e0df4968d4b",
   "metadata": {},
   "outputs": [],
   "source": [
    "priceTBR = priceList[\"TBR\"]"
   ]
  },
  {
   "cell_type": "code",
   "execution_count": null,
   "id": "888ea6dc-ec5e-4be1-9d36-81b91064a6f7",
   "metadata": {},
   "outputs": [],
   "source": [
    "priceLSR = priceList[\"LSR\"]"
   ]
  },
  {
   "cell_type": "code",
   "execution_count": null,
   "id": "4633ffae-90a3-4722-84e2-1600f41732e4",
   "metadata": {},
   "outputs": [],
   "source": [
    "priceTBR = priceTBR[['規格', '花紋', 'ISO', '層數', '進 / 國', '國別', 'RFT', '料號', '含稅價']]"
   ]
  },
  {
   "cell_type": "code",
   "execution_count": null,
   "id": "254964f4-8eac-43a3-8f93-c0b91fbe913a",
   "metadata": {},
   "outputs": [],
   "source": [
    "priceLSR = priceLSR[['規格', '花紋', 'ISO', '層數', '進 / 國', '國別', 'RFT', '料號', '含稅價']]"
   ]
  },
  {
   "cell_type": "code",
   "execution_count": null,
   "id": "5de6ab7a-8b2f-46c3-a6e1-3023d26427ed",
   "metadata": {},
   "outputs": [],
   "source": [
    "priceList = pd.concat([priceTBR, priceLSR], axis=0).reset_index(drop=True)"
   ]
  },
  {
   "cell_type": "code",
   "execution_count": null,
   "id": "67e64530-2edc-45a5-ada6-daa9017e80d6",
   "metadata": {},
   "outputs": [],
   "source": [
    "priceList[\"含稅價\"] = round(priceList[\"含稅價\"],0)"
   ]
  },
  {
   "cell_type": "code",
   "execution_count": null,
   "id": "fe628b16-e45e-43fc-8c93-35281d9dc19e",
   "metadata": {},
   "outputs": [],
   "source": [
    "priceList[\"含稅價\"] = priceList[\"含稅價\"].astype(int)"
   ]
  },
  {
   "cell_type": "code",
   "execution_count": null,
   "id": "77969d8f-7e2c-48f1-a676-b32096758d9e",
   "metadata": {},
   "outputs": [],
   "source": [
    "priceList.columns = priceList.columns.str.replace(\"/\", \"\")"
   ]
  },
  {
   "cell_type": "markdown",
   "id": "e399f62c-e84a-4c47-a6b4-2167ddc197ad",
   "metadata": {},
   "source": [
    "## 處理OB22"
   ]
  },
  {
   "cell_type": "code",
   "execution_count": null,
   "id": "1d8051df-075d-4bc8-b4fc-3413f3265b7e",
   "metadata": {},
   "outputs": [],
   "source": [
    "df = pd.read_csv(\"TyreCategory/OB22_volume.csv\")"
   ]
  },
  {
   "cell_type": "markdown",
   "id": "b61a87b0-9bd2-4cfe-a8d0-c42b60b53d1b",
   "metadata": {},
   "source": [
    "## 建立atoti"
   ]
  },
  {
   "cell_type": "code",
   "execution_count": null,
   "id": "32673342-e2cf-45b7-b10d-d61e32b93e4c",
   "metadata": {},
   "outputs": [],
   "source": [
    "keys = ['MTP２', '製品編碼', 'Channel', 'Customer Group', 'Description', 'Pattern', 'Year', 'Month']"
   ]
  },
  {
   "cell_type": "code",
   "execution_count": null,
   "id": "63209953-0945-41f1-9dc6-bfc78e510db6",
   "metadata": {},
   "outputs": [],
   "source": [
    "session = tt.Session()"
   ]
  },
  {
   "cell_type": "code",
   "execution_count": null,
   "id": "04b70573-bfb0-4401-a69c-0f413a3ddcff",
   "metadata": {},
   "outputs": [],
   "source": [
    "ob = session.read_pandas(df, keys=keys, table_name=\"OB\")"
   ]
  },
  {
   "cell_type": "code",
   "execution_count": null,
   "id": "1a67f015-e19b-454d-af55-b527313e3b6b",
   "metadata": {},
   "outputs": [],
   "source": [
    "price = session.read_pandas(priceList, keys=[\"料號\"], table_name=\"Price\")"
   ]
  },
  {
   "cell_type": "code",
   "execution_count": null,
   "id": "27aa137c-19d0-420d-9005-af363657c1d7",
   "metadata": {},
   "outputs": [],
   "source": [
    "ob.join(price, mapping={\"製品編碼\": \"料號\"})"
   ]
  },
  {
   "cell_type": "code",
   "execution_count": null,
   "id": "3746b015-7208-4e27-ad68-554f29ea65ae",
   "metadata": {},
   "outputs": [],
   "source": [
    "cube = session.create_cube(ob, \"OB_Analysis\")"
   ]
  },
  {
   "cell_type": "code",
   "execution_count": null,
   "id": "e4c39cfa-ca7c-40c9-a38a-382afef00252",
   "metadata": {},
   "outputs": [],
   "source": [
    "cube.schema"
   ]
  },
  {
   "cell_type": "code",
   "execution_count": null,
   "id": "87f8ac60-a3c7-4c76-b7ae-f9ffd8da31e2",
   "metadata": {},
   "outputs": [],
   "source": [
    "h, l, m = cube.hierarchies, cube.levels, cube.measures"
   ]
  },
  {
   "cell_type": "code",
   "execution_count": null,
   "id": "28a034f1-6935-47b5-a466-15dfa7286f66",
   "metadata": {},
   "outputs": [],
   "source": [
    "m[\"Unit Price.Value\"] = tt.value(price[\"含稅價\"])"
   ]
  },
  {
   "cell_type": "code",
   "execution_count": null,
   "id": "77ace048-37e8-4626-baa5-5d340ec35f96",
   "metadata": {},
   "outputs": [],
   "source": [
    "m"
   ]
  },
  {
   "cell_type": "code",
   "execution_count": null,
   "id": "3c566ed9-868d-49d9-815d-a727a89932c1",
   "metadata": {},
   "outputs": [],
   "source": [
    "m[\"Amout.SUM\"] = tt.agg.sum(m[\"Unit Price.Value\"] * m[\"Qty.SUM\"], scope=tt.scope.origin(l[\"製品編碼\"]))"
   ]
  },
  {
   "cell_type": "code",
   "execution_count": null,
   "id": "e8f193b9-2294-45de-92dc-ee87af29b0a4",
   "metadata": {},
   "outputs": [],
   "source": [
    "session.link()"
   ]
  }
 ],
 "metadata": {
  "kernelspec": {
   "display_name": "Python 3",
   "language": "python",
   "name": "python3"
  },
  "language_info": {
   "codemirror_mode": {
    "name": "ipython",
    "version": 3
   },
   "file_extension": ".py",
   "mimetype": "text/x-python",
   "name": "python",
   "nbconvert_exporter": "python",
   "pygments_lexer": "ipython3",
   "version": "3.8.3"
  }
 },
 "nbformat": 4,
 "nbformat_minor": 5
}
