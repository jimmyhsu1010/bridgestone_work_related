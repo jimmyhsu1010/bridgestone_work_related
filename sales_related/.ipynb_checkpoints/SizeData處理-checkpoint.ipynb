{
 "cells": [
  {
   "cell_type": "code",
   "execution_count": null,
   "id": "543ba893-fbd9-4eea-a48e-8af5c5090705",
   "metadata": {},
   "outputs": [],
   "source": [
    "import pandas as pd\n",
    "import tkinter as tk\n",
    "from tkinter import filedialog\n",
    "pd.set_option(\"display.max_columns\", None)\n",
    "pd.set_option(\"mode.chained_assignment\", None)"
   ]
  },
  {
   "cell_type": "code",
   "execution_count": null,
   "id": "4d58c3d9-4137-4395-a560-311617e58a61",
   "metadata": {},
   "outputs": [],
   "source": [
    "root = tk.Tk()\n",
    "root.withdraw()\n",
    "file_path = filedialog.askopenfilename()"
   ]
  },
  {
   "cell_type": "code",
   "execution_count": null,
   "id": "6673a9e2-5283-4476-b099-70ce071bcb7f",
   "metadata": {},
   "outputs": [],
   "source": [
    "class SizeDataTransformer:\n",
    "    \n",
    "    def __init__(self, path):\n",
    "        self.path = path\n",
    "        \n",
    "    def read_data(self):\n",
    "        if self.path.split(\".\")[-1] == \"xlsx\":\n",
    "            df = pd.read_excel(self.path, None)\n",
    "            catalog = {}\n",
    "            for i, j in enumerate(list(df.keys())):\n",
    "                catalog.setdefault(i + 1, j)\n",
    "                print(i + 1, j)\n",
    "            answer = int(input(\"Please select the sheet\"))\n",
    "            df = df[catalog[answer]]\n",
    "        else:\n",
    "            df = pd.read_csv(self.path)\n",
    "        return df\n",
    "    \n",
    "    @staticmethod\n",
    "    def tire_type(df, category, channel=None):\n",
    "        df = df[(df[\"KA分類\"] == category) & (df[\"大通路分類\"] == channel) & (df[\"年月\"].astype(str).str.contains(\"2022|2023\"))]\n",
    "        df[\"整理後的日期\"] = pd.to_datetime(df[\"年月\"], format=\"%Y%m\")\n",
    "        return df\n",
    "        \n",
    "        \n",
    "        \n",
    "    \n",
    "    "
   ]
  },
  {
   "cell_type": "code",
   "execution_count": null,
   "id": "c99d3a34-20de-4341-82e9-59e0fc67fa69",
   "metadata": {},
   "outputs": [],
   "source": [
    "df = SizeDataTransformer(file_path)"
   ]
  },
  {
   "cell_type": "code",
   "execution_count": null,
   "id": "25076481-cfcc-4d4b-98dd-274d3d941843",
   "metadata": {},
   "outputs": [],
   "source": [
    "df = df.read_data()"
   ]
  },
  {
   "cell_type": "code",
   "execution_count": null,
   "id": "6724517a-e128-483c-bd1f-3e8251184c5b",
   "metadata": {},
   "outputs": [],
   "source": [
    "result = SizeDataTransformer.tire_type(df, \"TBR(G)\", \"REP\")"
   ]
  },
  {
   "cell_type": "code",
   "execution_count": null,
   "id": "aff8d847-f9a4-42cd-8ada-33914288fa51",
   "metadata": {},
   "outputs": [],
   "source": [
    "result[\"條數\"] = result[\"條數\"].fillna(0)"
   ]
  },
  {
   "cell_type": "code",
   "execution_count": null,
   "id": "9f19ebd4-8f09-451b-a182-7f6e9947b1ae",
   "metadata": {},
   "outputs": [],
   "source": [
    "result.info()"
   ]
  },
  {
   "cell_type": "code",
   "execution_count": null,
   "id": "9e9b7c6a-f0cb-48c8-9878-03966dddca10",
   "metadata": {},
   "outputs": [],
   "source": [
    "result.to_excel(r\"D:\\kc.hsu\\OneDrive - Bridgestone\\數據\\2022ACT\\2021-2022_Size Data_All_TBR_rawling_data.xlsx\", index=False)"
   ]
  },
  {
   "cell_type": "code",
   "execution_count": null,
   "id": "1b4b2da9-216c-42a8-b79e-213996630025",
   "metadata": {},
   "outputs": [],
   "source": []
  }
 ],
 "metadata": {
  "kernelspec": {
   "display_name": "Python 3 (ipykernel)",
   "language": "python",
   "name": "python3"
  },
  "language_info": {
   "codemirror_mode": {
    "name": "ipython",
    "version": 3
   },
   "file_extension": ".py",
   "mimetype": "text/x-python",
   "name": "python",
   "nbconvert_exporter": "python",
   "pygments_lexer": "ipython3",
   "version": "3.9.7"
  }
 },
 "nbformat": 4,
 "nbformat_minor": 5
}
