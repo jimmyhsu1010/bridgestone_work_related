{
 "cells": [
  {
   "cell_type": "code",
   "execution_count": null,
   "id": "cbc5e8cb",
   "metadata": {},
   "outputs": [],
   "source": [
    "import pandas as pd\n",
    "# from pivottablejs import pivot_ui\n",
    "# import qgrid\n",
    "\n",
    "pd.set_option(\"display.max_columns\", None)\n",
    "# pd.set_option(\"display.max_rows\", None)\n",
    "pd.set_option(\"mode.chained_assignment\", None)\n",
    "import plotly.express as px\n",
    "import tkinter as tk\n",
    "from tkinter import filedialog\n",
    "from datetime import datetime"
   ]
  },
  {
   "cell_type": "code",
   "execution_count": null,
   "id": "e38788fe-1716-4527-99b8-fb50c75a836c",
   "metadata": {},
   "outputs": [],
   "source": [
    "cur_month = datetime.today().date().strftime(\"%Y-%m\") + \"-01\""
   ]
  },
  {
   "cell_type": "markdown",
   "id": "a7176cba",
   "metadata": {
    "tags": []
   },
   "source": [
    "## 數據轉換function"
   ]
  },
  {
   "cell_type": "code",
   "execution_count": null,
   "id": "17591b46",
   "metadata": {},
   "outputs": [],
   "source": [
    "class DataExtract:\n",
    "    \n",
    "    type_keys = ['訂單日期', '實際出貨日', '訂單單號', '訂單項次', '買方', '物料', '物料說明', '國別', '銷售數量', '銷貨單價']\n",
    "    type_values = [str, str, str, str, str, str, str, str, int, int]\n",
    "    type_dict = dict(zip(type_keys, type_values))\n",
    "    \n",
    "    def __init__(self):\n",
    "        self.path = self.get_path()\n",
    "        \n",
    "    def get_path(self):\n",
    "        paths = []\n",
    "        while True:\n",
    "            answer = input(\"選擇路徑?(Y/N)\").upper()\n",
    "            if answer == \"Y\":\n",
    "                root = tk.Tk()\n",
    "                root.withdraw()\n",
    "                file_path = filedialog.askopenfilenames()\n",
    "                paths += file_path    \n",
    "            else:\n",
    "                break\n",
    "        return paths\n",
    "            \n",
    "        \n",
    "    def read_data(self):\n",
    "        dfs = []\n",
    "        # path = self.path.replace(\"\\\\\", \"/\")\n",
    "        for path in self.path:\n",
    "            if path.split(\".\")[-1] == \"csv\" and \"ag\" in path:\n",
    "                ag = pd.read_csv(path)\n",
    "                ag = self.ag_extract(ag)\n",
    "                dfs.append(ag)\n",
    "            elif path.split(\".\")[-1] == \"pkl\" and \"ag\" in path:\n",
    "                ag = pd.read_pickle(path)\n",
    "                ag = self.ag_extract(ag)\n",
    "                dfs.append(ag)\n",
    "            elif path.split(\".\")[-1] == \"csv\" and \"sc\" in path:\n",
    "                sc = pd.read_csv(path)\n",
    "                sc = self.sc_extract(sc)\n",
    "                dfs.append(sc)\n",
    "            elif path.split(\".\")[-1] == \"pkl\" and \"sc\" in path:\n",
    "                sc = pd.read_pickle(path)\n",
    "                sc = self.sc_extract(sc)\n",
    "                dfs.append(sc)\n",
    "            elif path.split(\".\")[-1] == \"xlsx\" and \"ag\" in path:\n",
    "                ag = pd.read_excel(path)\n",
    "                ag = self.ag_extract(ag)\n",
    "                dfs.append(ag)\n",
    "            else:\n",
    "                sc = pd.read_excel(path)\n",
    "                sc = self.sc_extract(sc)\n",
    "                dfs.append(sc)\n",
    "        data = pd.concat(dfs)\n",
    "        data = data.drop_duplicates(subset=[\"實際出貨日\", \"訂單單號\", \"訂單項次\"], keep=\"last\")\n",
    "        return data\n",
    "\n",
    "    def ag_extract(self, df):\n",
    "        # ag = self.read_data()\n",
    "        ag = df\n",
    "        ag.columns = ag.columns.str.strip()\n",
    "        ag = ag[(ag[\"S_配銷通路\"].isin([\"AG\", \"FT\"])) & (ag[\"S_中計商品代號1\"].isin([\"LR2\", \"TR2\", \"TR3\", \"TR5\", \"TR4\"]))]\n",
    "        ag = ag[[\"D_文件日期\", \"D_實際發貨日期\", \"S_訂單單號\", \"S_項次\", \"S_買方(客戶號碼)\", \"S_物料編號\", \"S_物料說明\", \"S_國別\", \"S_數量\", \"S_項目淨值\"]]\n",
    "        ag.columns = self.type_keys\n",
    "        # ag = ag.astype(self.type_dict)\n",
    "        return ag\n",
    "    \n",
    "    def sc_extract(self, df):\n",
    "        # sc = self.read_data()\n",
    "        sc = df\n",
    "        sc.columns = sc.columns.str.strip()\n",
    "        sc = sc[sc[\"中計\"].isin([\"LSR2\", \"TBR3\", \"TBR5\", \"TBR2\", \"TBR4\"])]\n",
    "        sc = sc[[\"訂單建立日\", \"實際出貨日\", \"訂單單號\", \"訂單項次\", \"買方\", \"物料\", \"物料說明\", \"國別\", \"銷售數量\", \"銷貨單價\"]]\n",
    "        sc.columns = self.type_keys\n",
    "        # sc = sc.astype(self.type_dict)\n",
    "        return sc\n",
    "    \n",
    "    def sales_preprocessing(self):\n",
    "        df = self.read_data()\n",
    "        df[\"訂單日期\"] = df[\"訂單日期\"].dt.date\n",
    "        df[\"實際出貨日\"] = df[\"實際出貨日\"].dt.date\n",
    "        df = df.astype(self.type_dict)\n",
    "        df[\"訂單單號\"] = df[\"訂單單號\"].map(lambda x: x.replace(\".0\", \"\") if \".\" in x else x)\n",
    "        df[\"訂單項次\"] = df[\"訂單項次\"].map(lambda x: x.replace(\".0\", \"\") if \".\" in x else x)\n",
    "        df[\"銷貨單價\"] = df[\"銷貨單價\"].fillna(0).astype(int)\n",
    "        return df"
   ]
  },
  {
   "cell_type": "code",
   "execution_count": null,
   "id": "9b9bdb42-ac8c-4673-9fff-5dae1c5b67cd",
   "metadata": {},
   "outputs": [],
   "source": [
    "result = DataExtract().sales_preprocessing()"
   ]
  },
  {
   "cell_type": "markdown",
   "id": "a0718c91-5a88-43b1-a686-8ec1777880b4",
   "metadata": {},
   "source": [
    "### 開啟客戶對照表"
   ]
  },
  {
   "cell_type": "code",
   "execution_count": null,
   "id": "0010ce4c",
   "metadata": {
    "scrolled": true
   },
   "outputs": [],
   "source": [
    "# 開啟客編客戶對照表\n",
    "# category_table = pd.read_csv(\"./ReferenceTable/category_types.csv\")\n",
    "category_table = pd.read_excel(\"./ReferenceTable/20220801_category_types.xlsx\")\n",
    "# cat_table = qgrid.show_grid(category_table, show_toolbar=True)\n",
    "# cat_table\n",
    "\n",
    "# 如果有修改的話，修改完可以用.get_changed_df()來獲得修改過後的表格"
   ]
  },
  {
   "cell_type": "code",
   "execution_count": null,
   "id": "b813dcce",
   "metadata": {},
   "outputs": [],
   "source": [
    "cuscode_cus = dict(zip(category_table[\"客戶代號\"], category_table[\"合併客戶名稱\"]))\n",
    "cuscode_type = dict(zip(category_table[\"客戶代號\"], category_table[\"大通路\"]))\n",
    "cuscode_channel = dict(zip(category_table[\"客戶代號\"], category_table[\"小通路\"]))\n",
    "sales_dict = dict(zip(category_table[\"客戶代號\"], category_table[\"業務名稱\"]))\n",
    "sales_area = dict(zip(category_table[\"客戶代號\"], category_table[\"負責區域\"]))\n",
    "sales_branch = dict(zip(category_table[\"客戶代號\"], category_table[\"所屬區域\"]))\n",
    "cus_address = dict(zip(category_table[\"客戶代號\"], category_table[\"住址\"]))\n",
    "cus_city = dict(zip(category_table[\"客戶代號\"], category_table[\"城市\"]))\n",
    "rep_dict = dict(zip(category_table[\"客戶代號\"], category_table[\"母通路\"]))\n",
    "liwei_dict = dict(zip(category_table[\"客戶代號\"], category_table[\"liwei\"]))\n",
    "ranking = dict(zip(category_table[\"客戶代號\"], category_table[\"Ranking\"]))\n",
    "cus_area = dict(zip(category_table[\"客戶代號\"], category_table[\"客戶所在地分區\"]))"
   ]
  },
  {
   "cell_type": "code",
   "execution_count": null,
   "id": "40300d2b-5783-4cbd-9444-6ac2362763dd",
   "metadata": {},
   "outputs": [],
   "source": [
    "pcode = pd.read_excel(\"./ReferenceTable/20220721_PCODE整理表.xlsx\")\n",
    "size_dict = dict(zip(pcode[\"Old PCODEs\"], pcode[\"size\"]))\n",
    "pattern_dict = dict(zip(pcode[\"Old PCODEs\"], pcode[\"pattern\"]))\n",
    "origin_dict = dict(zip(pcode[\"Old PCODEs\"], pcode[\"p_origin\"]))\n",
    "tbr_prem = dict(zip(pcode[\"Old PCODEs\"], pcode[\"TBR Premium\"]))\n",
    "group = dict(zip(pcode[\"Old PCODEs\"], pcode[\"group\"]))"
   ]
  },
  {
   "cell_type": "code",
   "execution_count": null,
   "id": "f7cf6958-c27f-4bf4-a0d2-d1777e196713",
   "metadata": {},
   "outputs": [],
   "source": [
    "result.reset_index(drop=True).to_pickle(r\"D:\\kc.hsu\\OneDrive - Bridgestone\\數據\\銷售數據\\2022全年銷售\\rolling_sales_data.pkl\")\n",
    "long = pd.read_pickle(r\"D:\\kc.hsu\\OneDrive - Bridgestone\\數據\\銷售數據\\2022全年銷售\\rolling_sales_data.pkl\")"
   ]
  },
  {
   "cell_type": "code",
   "execution_count": null,
   "id": "d7d9b476-a511-46cc-9f27-f9a91a3e27e0",
   "metadata": {},
   "outputs": [],
   "source": [
    "long[\"客戶名稱\"] = long[\"買方\"].map(cuscode_cus)\n",
    "long[\"母通路\"] = long[\"買方\"].map(rep_dict)\n",
    "long[\"大通路\"] = long[\"買方\"].map(cuscode_type)\n",
    "long[\"小通路\"] = long[\"買方\"].map(cuscode_channel)\n",
    "long[\"日報通路\"] = long[\"買方\"].map(liwei_dict)\n",
    "long[\"業務名稱\"] = long[\"買方\"].map(sales_dict)\n",
    "long[\"業務負責區域\"] = long[\"買方\"].map(sales_area)\n",
    "long[\"業務所屬區域\"] = long[\"買方\"].map(sales_branch)\n",
    "long[\"客戶登記地址\"] = long[\"買方\"].map(cus_address)\n",
    "long[\"客戶城市\"] = long[\"買方\"].map(cus_city)\n",
    "long[\"客戶等級\"] = long[\"買方\"].map(ranking)\n",
    "long[\"規格\"] = long[\"物料\"].map(size_dict)\n",
    "long[\"花紋\"] = long[\"物料\"].map(pattern_dict)\n",
    "long[\"工廠\"] = long[\"物料\"].map(origin_dict)\n",
    "long[\"TBR Premium\"] = long[\"物料\"].map(tbr_prem)\n",
    "long[\"輪胎類別\"] = long[\"物料\"].map(group)\n",
    "long[\"品牌\"] = long[\"物料\"].map(lambda x: \"FS\" if x.endswith(\"F\") else \"BS\")\n",
    "long[\"客戶所在地區分區\"] = long[\"買方\"].map(cus_area)"
   ]
  },
  {
   "cell_type": "code",
   "execution_count": null,
   "id": "4af68a9a-757c-442f-b766-17f6fbae0778",
   "metadata": {},
   "outputs": [],
   "source": [
    "long[long[\"客戶名稱\"].isna()][\"買方\"].unique()"
   ]
  },
  {
   "cell_type": "code",
   "execution_count": null,
   "id": "b47792a0-7dac-4eb8-8ae6-189b5266fd22",
   "metadata": {},
   "outputs": [],
   "source": [
    "long[\"銷售數量\"].sum()"
   ]
  },
  {
   "cell_type": "code",
   "execution_count": null,
   "id": "ceebde0c-0511-41ff-abda-25bf6a6dac17",
   "metadata": {},
   "outputs": [],
   "source": [
    "long[long[\"大通路\"] != \"OE\"][\"銷售數量\"].sum()"
   ]
  },
  {
   "cell_type": "code",
   "execution_count": null,
   "id": "30ca479d-e05a-40aa-9f82-09d0665e3864",
   "metadata": {},
   "outputs": [],
   "source": [
    "historical = pd.read_pickle(r\"D:\\kc.hsu\\OneDrive - Bridgestone\\數據\\銷售數據\\長期銷售記錄\\2017-202208.pkl\")"
   ]
  },
  {
   "cell_type": "code",
   "execution_count": null,
   "id": "155ff387-8be1-4543-92e1-b4284691c5d0",
   "metadata": {},
   "outputs": [],
   "source": [
    "historical[\"客戶名稱\"] = historical[\"買方\"].map(cuscode_cus)\n",
    "historical[\"業務名稱\"] = historical[\"買方\"].map(sales_dict)\n",
    "historical[\"客戶等級\"] = historical[\"買方\"].map(ranking)\n",
    "historical[\"業務負責區域\"] = historical[\"買方\"].map(sales_area)\n",
    "historical[\"業務所屬區域\"] = historical[\"買方\"].map(sales_branch)\n",
    "historical[\"客戶城市\"] = historical[\"買方\"].map(cus_city)\n",
    "historical[\"母通路\"] = historical[\"買方\"].map(rep_dict)\n",
    "historical[\"大通路\"] = historical[\"買方\"].map(cuscode_type)\n",
    "historical[\"小通路\"] = historical[\"買方\"].map(cuscode_channel)\n",
    "historical[\"日報通路\"] = historical[\"買方\"].map(liwei_dict)\n",
    "historical[\"客戶所在地區分區\"] = historical[\"買方\"].map(cus_area)"
   ]
  },
  {
   "cell_type": "code",
   "execution_count": null,
   "id": "8435106e-c2cd-4002-8af8-b5a99291dee3",
   "metadata": {},
   "outputs": [],
   "source": [
    "historical[\"訂單單號\"] = historical[\"訂單單號\"].map(lambda x: x.replace(\".0\", \"\") if \".\" in x else x)\n",
    "historical[\"訂單項次\"] = historical[\"訂單項次\"].map(lambda x: x.replace(\".0\", \"\") if \".\" in x else x)"
   ]
  },
  {
   "cell_type": "code",
   "execution_count": null,
   "id": "c98b8cd3-eb98-4f49-830e-17afe93d78a6",
   "metadata": {},
   "outputs": [],
   "source": [
    "historical = historical.drop_duplicates(subset=[\"實際出貨日\", \"訂單單號\", \"訂單項次\"], keep=\"last\")"
   ]
  },
  {
   "cell_type": "code",
   "execution_count": null,
   "id": "0445a3a6-5679-4063-9f14-df02b7952672",
   "metadata": {},
   "outputs": [],
   "source": [
    "historical = historical[historical[\"實際出貨日\"] < cur_month]"
   ]
  },
  {
   "cell_type": "code",
   "execution_count": null,
   "id": "daa48761-4242-4dfe-9ca2-8164ed37a816",
   "metadata": {},
   "outputs": [],
   "source": [
    "# historical.to_pickle(r\"D:\\kc.hsu\\OneDrive - Bridgestone\\數據\\銷售數據\\長期銷售記錄\\2017-202208.pkl\")\n",
    "# historical.to_excel(r\"D:\\kc.hsu\\OneDrive - Bridgestone\\數據\\銷售數據\\長期銷售記錄\\2017-202208.xlsx\", index=False)"
   ]
  },
  {
   "cell_type": "code",
   "execution_count": null,
   "id": "1947b426-6007-4d56-91fe-4ad8900c0a3d",
   "metadata": {
    "tags": []
   },
   "outputs": [],
   "source": [
    "pd.concat([historical, long]).drop_duplicates(subset=[\"實際出貨日\", \"訂單單號\", \"訂單項次\"], keep=\"last\").to_pickle(r\"D:\\kc.hsu\\OneDrive - Bridgestone\\數據\\銷售數據\\長期銷售記錄\\2017-202208.pkl\")\n",
    "pd.concat([historical, long]).drop_duplicates(subset=[\"實際出貨日\", \"訂單單號\", \"訂單項次\"], keep=\"last\").to_excel(r\"D:\\kc.hsu\\OneDrive - Bridgestone\\數據\\銷售數據\\長期銷售記錄\\2017-202208.xlsx\", index=False)"
   ]
  },
  {
   "cell_type": "markdown",
   "id": "7fde433b-486b-4778-af05-5b52c020bc5a",
   "metadata": {
    "tags": []
   },
   "source": [
    "### 每日庫存整理"
   ]
  },
  {
   "cell_type": "code",
   "execution_count": null,
   "id": "29fe33c5-5050-48a1-937c-1e759dca0588",
   "metadata": {},
   "outputs": [],
   "source": [
    "df = pd.read_excel(r\"D:\\kc.hsu\\OneDrive - Bridgestone\\數據\\庫存\\inventory_status.xlsx\")"
   ]
  },
  {
   "cell_type": "code",
   "execution_count": null,
   "id": "13b85f30-d98a-4c95-bee4-2b5982598001",
   "metadata": {},
   "outputs": [],
   "source": [
    "df[\"類別\"] = df[\"物料\"].map(group)"
   ]
  },
  {
   "cell_type": "code",
   "execution_count": null,
   "id": "77a4b142-4dcd-425a-93c4-53286796a963",
   "metadata": {},
   "outputs": [],
   "source": [
    "df = df[~df[\"類別\"].isna()]"
   ]
  },
  {
   "cell_type": "code",
   "execution_count": null,
   "id": "98e454b3-3b90-4c84-9a4c-cfe588134183",
   "metadata": {},
   "outputs": [],
   "source": [
    "df.columns = df.columns.str.strip()"
   ]
  },
  {
   "cell_type": "code",
   "execution_count": null,
   "id": "626c1441-760b-4021-8b03-e20da4dad25d",
   "metadata": {},
   "outputs": [],
   "source": [
    "df[\"花紋\"] = df[\"物料\"].map(pattern_dict)\n",
    "df[\"規格\"] = df[\"物料\"].map(size_dict)\n",
    "df[\"工廠\"] = df[\"物料\"].map(origin_dict)\n",
    "df[\"TBR Premium\"] = df[\"物料\"].map(tbr_prem)\n",
    "df[\"品牌\"] = df[\"物料\"].map(lambda x: \"FS\" if x.endswith(\"F\") else \"BS\")\n",
    "df[\"收貨日期\"] = df[\"收貨日期\"].dt.date"
   ]
  },
  {
   "cell_type": "code",
   "execution_count": null,
   "id": "46070441-339d-4368-accb-02c6ab12882c",
   "metadata": {},
   "outputs": [],
   "source": [
    "df = df[[\"物料\", \"類別\", \"花紋\", \"規格\", \"工廠\", \"TBR Premium\", \"品牌\", \"可用的庫存\", \"收貨日期\", \"總庫存\", \"入庫庫存\", \"撿貨數量\"]]"
   ]
  },
  {
   "cell_type": "code",
   "execution_count": null,
   "id": "73221fc8-a08c-40e8-92fa-eedb5d54a8a5",
   "metadata": {},
   "outputs": [],
   "source": [
    "df[\"撿貨數量\"] = df[\"撿貨數量\"] * -1"
   ]
  },
  {
   "cell_type": "code",
   "execution_count": null,
   "id": "88fc5f57-dc1d-42aa-9b7d-f81ae45f0ebe",
   "metadata": {},
   "outputs": [],
   "source": [
    "df.to_excel(r\"D:\\kc.hsu\\OneDrive - Bridgestone\\數據\\庫存\\inventory_status_處理過.xlsx\", index=False)"
   ]
  },
  {
   "cell_type": "markdown",
   "id": "e9301991-83f9-496c-9968-edac8eb5873a",
   "metadata": {
    "tags": []
   },
   "source": [
    "### 將xlsx批次轉csv或pkl檔"
   ]
  },
  {
   "cell_type": "code",
   "execution_count": null,
   "id": "bbb4816e-83a2-4107-ac77-8537e4ec5c6a",
   "metadata": {},
   "outputs": [],
   "source": [
    "\"ag\" in paths[1]"
   ]
  },
  {
   "cell_type": "code",
   "execution_count": null,
   "id": "5dcef242-b365-4bf9-b973-7c063f802330",
   "metadata": {},
   "outputs": [],
   "source": [
    "paths = []\n",
    "while True:\n",
    "    answer = input(\"選擇路徑?(Y/N)\").upper()\n",
    "    if answer == \"Y\":\n",
    "        root = tk.Tk()\n",
    "        root.withdraw()\n",
    "        file_path = filedialog.askopenfilenames()\n",
    "        paths += file_path    \n",
    "    else:\n",
    "        break"
   ]
  },
  {
   "cell_type": "code",
   "execution_count": null,
   "id": "88b774de-5c43-42d6-8e80-1ba20cddf461",
   "metadata": {},
   "outputs": [],
   "source": [
    "for path in paths:\n",
    "    pd.read_excel(path).to_csv(path.split(\".\")[0] + \".csv\", index=False)"
   ]
  },
  {
   "cell_type": "code",
   "execution_count": null,
   "id": "ff1b6470-49ba-4f8f-b139-2c918d4f505b",
   "metadata": {},
   "outputs": [],
   "source": [
    "for path in paths:\n",
    "    pd.read_csv(path).to_pickle(path.split(\".\")[0] + \".pkl\")"
   ]
  },
  {
   "cell_type": "code",
   "execution_count": null,
   "id": "6042924a-0847-4edb-8e20-e7ef30399c2d",
   "metadata": {},
   "outputs": [],
   "source": [
    "sc_data = pd.concat([DataExtract(path).sc_extract() for path in paths])"
   ]
  },
  {
   "cell_type": "code",
   "execution_count": null,
   "id": "5831ca93-443d-40f7-ba11-d6f56b7ff340",
   "metadata": {},
   "outputs": [],
   "source": [
    "ag_data = pd.concat([DataExtract(path).ag_extract() for path in paths])"
   ]
  },
  {
   "cell_type": "code",
   "execution_count": null,
   "id": "eb9cf4f0-0f4e-4e2f-8301-3cce883f9d73",
   "metadata": {},
   "outputs": [],
   "source": [
    "ag_data[\"訂單日期\"] = ag_data[\"訂單日期\"].map(lambda x: x.split(\" \")[0] if len(x) > 10 else x)"
   ]
  },
  {
   "cell_type": "code",
   "execution_count": null,
   "id": "3227624b-6fc2-4db7-a034-66ec391a5dcd",
   "metadata": {},
   "outputs": [],
   "source": [
    "sc_data[\"銷售數量\"] = sc_data[\"銷售數量\"].astype(int)"
   ]
  },
  {
   "cell_type": "code",
   "execution_count": null,
   "id": "0e393fec-1241-4667-a1ac-c1aaf087ecff",
   "metadata": {},
   "outputs": [],
   "source": [
    "result = pd.concat([sc_data, ag_data])"
   ]
  },
  {
   "cell_type": "code",
   "execution_count": null,
   "id": "6d1ac187-4afd-4fdc-aafc-c8695f25257e",
   "metadata": {},
   "outputs": [],
   "source": [
    "result[\"訂單項次\"] = result[\"訂單項次\"].astype(str).map(lambda x: x.split(\".\")[0])"
   ]
  },
  {
   "cell_type": "code",
   "execution_count": null,
   "id": "2dbb697e-5cda-4f6a-a08b-f238a763494a",
   "metadata": {},
   "outputs": [],
   "source": [
    "result[\"銷貨單價\"] = result[\"銷貨單價\"].fillna(0).astype(int)"
   ]
  },
  {
   "cell_type": "code",
   "execution_count": null,
   "id": "538277ec-4078-43d5-b1b4-69247ce66047",
   "metadata": {},
   "outputs": [],
   "source": [
    "result[\"訂單單號\"] = result[\"訂單單號\"].astype(str).map(lambda x: x.split(\".\")[0])"
   ]
  },
  {
   "cell_type": "code",
   "execution_count": null,
   "id": "274862d5-39ca-42ff-aaca-35cd8f3b5e9a",
   "metadata": {},
   "outputs": [],
   "source": [
    "result.reset_index(drop=True).to_pickle(r\"D:\\kc.hsu\\OneDrive - Bridgestone\\數據\\銷售數據\\2022全年銷售\\202201-08.pkl\")"
   ]
  },
  {
   "cell_type": "code",
   "execution_count": null,
   "id": "a569e5d0-4bd1-499c-a89d-9d55ec8c83bf",
   "metadata": {},
   "outputs": [],
   "source": [
    "long = pd.read_pickle(r\"D:\\kc.hsu\\OneDrive - Bridgestone\\數據\\銷售數據\\長期銷售記錄\\2017-202208.pkl\")"
   ]
  },
  {
   "cell_type": "code",
   "execution_count": null,
   "id": "c60e36d8-f02b-47d3-9b31-3f7b193e0ece",
   "metadata": {},
   "outputs": [],
   "source": [
    "long[\"客戶名稱\"] = long[\"買方\"].map(cuscode_cus)\n",
    "long[\"母通路\"] = long[\"買方\"].map(rep_dict)\n",
    "long[\"大通路\"] = long[\"買方\"].map(cuscode_type)\n",
    "long[\"小通路\"] = long[\"買方\"].map(cuscode_channel)\n",
    "long[\"日報通路\"] = long[\"買方\"].map(liwei_dict)\n",
    "long[\"業務名稱\"] = long[\"買方\"].map(sales_dict)\n",
    "long[\"業務負責區域\"] = long[\"買方\"].map(sales_area)\n",
    "long[\"業務所屬區域\"] = long[\"買方\"].map(sales_branch)\n",
    "long[\"客戶登記地址\"] = long[\"買方\"].map(cus_address)\n",
    "long[\"客戶城市\"] = long[\"買方\"].map(cus_city)\n",
    "long[\"客戶等級\"] = long[\"買方\"].map(ranking)"
   ]
  },
  {
   "cell_type": "code",
   "execution_count": null,
   "id": "44754da7-fc1a-4176-9b16-7e5463293237",
   "metadata": {},
   "outputs": [],
   "source": [
    "long[\"規格\"] = long[\"物料\"].map(size_dict)\n",
    "long[\"花紋\"] = long[\"物料\"].map(pattern_dict)\n",
    "long[\"工廠\"] = long[\"物料\"].map(origin_dict)\n",
    "long[\"TBR Premium\"] = long[\"物料\"].map(tbr_prem)\n",
    "long[\"輪胎類別\"] = long[\"物料\"].map(group)\n",
    "long[\"品牌\"] = long[\"物料\"].map(lambda x: \"FS\" if x.endswith(\"F\") else \"BS\")"
   ]
  },
  {
   "cell_type": "code",
   "execution_count": null,
   "id": "e9ee6643-949a-4f5e-9391-fe82bc2151c7",
   "metadata": {},
   "outputs": [],
   "source": [
    "long"
   ]
  },
  {
   "cell_type": "code",
   "execution_count": null,
   "id": "a7362113-7c89-4b23-8e77-8a81726b362a",
   "metadata": {},
   "outputs": [],
   "source": [
    "long.to_pickle(r\"D:\\kc.hsu\\OneDrive - Bridgestone\\數據\\銷售數據\\長期銷售記錄\\2017-202208.pkl\")\n",
    "long.to_excel(r\"D:\\kc.hsu\\OneDrive - Bridgestone\\數據\\銷售數據\\長期銷售記錄\\2017-202208.xlsx\", index=False)"
   ]
  },
  {
   "cell_type": "markdown",
   "id": "17b7d893-c4fd-43ff-96dc-e2bf538b4ba9",
   "metadata": {},
   "source": [
    "## 相關係數分析"
   ]
  },
  {
   "cell_type": "code",
   "execution_count": null,
   "id": "3cec4ae4-b2c4-4f48-822f-30d23da08fa6",
   "metadata": {},
   "outputs": [],
   "source": [
    "test = historical[['物料', '國別', '銷售數量', '銷貨單價', '客戶名稱', '小通路', '業務名稱', '業務負責區域', '業務所屬區域', '客戶城市', '規格', '花紋', '工廠', 'TBR Premium', '輪胎類別', '品牌',\n",
    "       '客戶等級']]"
   ]
  },
  {
   "cell_type": "code",
   "execution_count": null,
   "id": "5043bbfc-c607-4708-9627-52116cf58a0a",
   "metadata": {},
   "outputs": [],
   "source": [
    "pd.get_dummies(test).corr(method=\"spearman\")"
   ]
  },
  {
   "cell_type": "code",
   "execution_count": null,
   "id": "c3e57287-41f3-4f32-b6a3-4d4df4610eaf",
   "metadata": {},
   "outputs": [],
   "source": []
  },
  {
   "cell_type": "code",
   "execution_count": null,
   "id": "2020c2fb-4a10-44df-b5f7-24f41b7af050",
   "metadata": {},
   "outputs": [],
   "source": []
  },
  {
   "cell_type": "code",
   "execution_count": null,
   "id": "a1b00a18-4e7e-45cd-b8e2-4ffb871087ce",
   "metadata": {},
   "outputs": [],
   "source": []
  }
 ],
 "metadata": {
  "kernelspec": {
   "display_name": "Python 3 (ipykernel)",
   "language": "python",
   "name": "python3"
  },
  "language_info": {
   "codemirror_mode": {
    "name": "ipython",
    "version": 3
   },
   "file_extension": ".py",
   "mimetype": "text/x-python",
   "name": "python",
   "nbconvert_exporter": "python",
   "pygments_lexer": "ipython3",
   "version": "3.10.6"
  }
 },
 "nbformat": 4,
 "nbformat_minor": 5
}
