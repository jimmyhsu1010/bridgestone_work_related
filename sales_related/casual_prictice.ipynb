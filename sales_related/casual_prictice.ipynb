{
 "cells": [
  {
   "cell_type": "code",
   "execution_count": 38,
   "metadata": {},
   "outputs": [],
   "source": [
    "import pandas as pd\n",
    "pd.set_option(\"display.max_columns\", None)"
   ]
  },
  {
   "cell_type": "code",
   "execution_count": 72,
   "metadata": {},
   "outputs": [],
   "source": [
    "df = pd.read_clipboard()"
   ]
  },
  {
   "cell_type": "code",
   "execution_count": 73,
   "metadata": {},
   "outputs": [],
   "source": [
    "df = df.reset_index()"
   ]
  },
  {
   "cell_type": "code",
   "execution_count": 74,
   "metadata": {},
   "outputs": [],
   "source": [
    "df.columns = df.columns.str.strip()"
   ]
  },
  {
   "cell_type": "code",
   "execution_count": 75,
   "metadata": {},
   "outputs": [],
   "source": [
    "df = df.dropna(subset=[\"統一編號\"])"
   ]
  },
  {
   "cell_type": "code",
   "execution_count": 76,
   "metadata": {},
   "outputs": [],
   "source": [
    "df[\"統一編號\"] = df[\"統一編號\"].astype(int).astype(str)"
   ]
  },
  {
   "cell_type": "code",
   "execution_count": 84,
   "metadata": {},
   "outputs": [],
   "source": [
    "df[\"出貨條件\"] = df[\"出貨條件\"].map(lambda x: str(x).replace(\".0\", \"\") if pd.notna(x) else x)"
   ]
  },
  {
   "cell_type": "code",
   "execution_count": 85,
   "metadata": {},
   "outputs": [],
   "source": [
    "deliver_place = {\"11\": \"北區\", \"73\": \"高雄\", \"62\": \"台中\", \"71\": \"嘉義\", \"72\": \"台南\"}"
   ]
  },
  {
   "cell_type": "code",
   "execution_count": 88,
   "metadata": {},
   "outputs": [],
   "source": [
    "df[\"出貨點\"] = df[\"出貨條件\"].map(deliver_place)"
   ]
  },
  {
   "cell_type": "code",
   "execution_count": 94,
   "metadata": {},
   "outputs": [],
   "source": [
    "df[\"販社通路\"] = df[\"販社通路\"].str.strip()"
   ]
  },
  {
   "cell_type": "code",
   "execution_count": 100,
   "metadata": {},
   "outputs": [],
   "source": [
    "df[df[[\"統一編號\", \"出貨點\"]].duplicated(keep=False) & pd.notna(df[\"大胎契約\"]) & (~df[\"客戶名稱\"].str.contains(\"普利司通\"))].to_clipboard()"
   ]
  },
  {
   "cell_type": "code",
   "execution_count": 109,
   "metadata": {},
   "outputs": [],
   "source": [
    "result = df[df[\"大胎契約\"].isin([2, 3])]"
   ]
  },
  {
   "cell_type": "code",
   "execution_count": 112,
   "metadata": {},
   "outputs": [],
   "source": [
    "result[result[\"客戶簡稱\"].duplicated(keep=False)].to_clipboard()"
   ]
  },
  {
   "cell_type": "code",
   "execution_count": 113,
   "metadata": {},
   "outputs": [],
   "source": [
    "df = pd.read_clipboard()"
   ]
  },
  {
   "cell_type": "code",
   "execution_count": 119,
   "metadata": {},
   "outputs": [],
   "source": [
    "result = df[[\"客戶編號\", \"客戶名稱\", \"販社通路\", \"大胎契約\", \"業務名稱\"]]"
   ]
  },
  {
   "cell_type": "code",
   "execution_count": 129,
   "metadata": {},
   "outputs": [],
   "source": [
    "with pd.ExcelWriter(r\"D:\\kc.hsu\\OneDrive - Bridgestone\\行銷推廣\\掛牌店\\20230712_FMC名單1.xlsx\") as writer:\n",
    "    for name in result[\"業務名稱\"].unique():\n",
    "        result[result[\"業務名稱\"] == name].to_excel(writer, sheet_name=name, index=False)"
   ]
  },
  {
   "cell_type": "code",
   "execution_count": 81,
   "metadata": {},
   "outputs": [],
   "source": [
    "\n",
    "import pandas as pd\n",
    "\n",
    "class Student:\n",
    "    \n",
    "    # 建立學生計數的變數\n",
    "    student_count = 0\n",
    "    avg_score = 30\n",
    "    score_data = []\n",
    "    \n",
    "    def __init__(self, name: str, score: dict, avg_score: int=30) -> None:\n",
    "        \"\"\"學生類別可以用來比較不同學生之間的成績。\n",
    "\n",
    "        Args:\n",
    "            name (str): 學生姓名\n",
    "            score (dict): 學生成績\n",
    "        \"\"\"\n",
    "        self.name = name\n",
    "        self.score = score\n",
    "        Student.avg_score = avg_score\n",
    "        Student.student_count += 1 # 每次建立新的物件的時候就會自動增加學生數的計數\n",
    "        Student.score_data.append(self.score)\n",
    "        \n",
    "    def compare(self, name: object) -> None:\n",
    "        diff = (sum(self.score.values()) - sum(name.score.values()))\n",
    "        if diff > 0:\n",
    "            print(self.name + \"成績比較好\")\n",
    "        elif diff == 0:\n",
    "            print(\"平手\")\n",
    "        else:\n",
    "            print(name.name + \"真的很厲害\")\n",
    "    \n",
    "    @classmethod        \n",
    "    def getCount(cls): # 類別方法中的第一個參數是用cls來調用類別屬性\n",
    "        print(\"目前登記學生人數為{}人\".format(cls.student_count))\n",
    "        \n",
    "    \n",
    "    @classmethod\n",
    "    def getDataFrame(cls) -> pd.DataFrame:\n",
    "        return pd.DataFrame(cls.score_data)"
   ]
  },
  {
   "cell_type": "code",
   "execution_count": 82,
   "metadata": {},
   "outputs": [],
   "source": [
    "liang = Student(\"阿良\", {\"數學\": 50, \"英文\": 100})"
   ]
  },
  {
   "cell_type": "code",
   "execution_count": 83,
   "metadata": {},
   "outputs": [],
   "source": [
    "fenlan = Student(\"芬蘭\", {\"數學\": 100, \"英文\": 100})"
   ]
  },
  {
   "cell_type": "code",
   "execution_count": 84,
   "metadata": {},
   "outputs": [
    {
     "data": {
      "text/html": [
       "<div><div id=d877e869-7c60-48f5-be12-373fec9b842d style=\"display:none; background-color:#9D6CFF; color:white; width:200px; height:30px; padding-left:5px; border-radius:4px; flex-direction:row; justify-content:space-around; align-items:center;\" onmouseover=\"this.style.backgroundColor='#BA9BF8'\" onmouseout=\"this.style.backgroundColor='#9D6CFF'\" onclick=\"window.commands?.execute('create-mitosheet-from-dataframe-output');\">See Full Dataframe in Mito</div> <script> if (window.commands?.hasCommand('create-mitosheet-from-dataframe-output')) document.getElementById('d877e869-7c60-48f5-be12-373fec9b842d').style.display = 'flex' </script> <table border=\"1\" class=\"dataframe\">\n",
       "  <thead>\n",
       "    <tr style=\"text-align: right;\">\n",
       "      <th></th>\n",
       "      <th>數學</th>\n",
       "      <th>英文</th>\n",
       "    </tr>\n",
       "  </thead>\n",
       "  <tbody>\n",
       "    <tr>\n",
       "      <th>0</th>\n",
       "      <td>50</td>\n",
       "      <td>100</td>\n",
       "    </tr>\n",
       "    <tr>\n",
       "      <th>1</th>\n",
       "      <td>100</td>\n",
       "      <td>100</td>\n",
       "    </tr>\n",
       "  </tbody>\n",
       "</table></div>"
      ],
      "text/plain": [
       "    數學   英文\n",
       "0   50  100\n",
       "1  100  100"
      ]
     },
     "execution_count": 84,
     "metadata": {},
     "output_type": "execute_result"
    }
   ],
   "source": [
    "Student.getDataFrame()"
   ]
  }
 ],
 "metadata": {
  "kernelspec": {
   "display_name": "python_env",
   "language": "python",
   "name": "python3"
  },
  "language_info": {
   "codemirror_mode": {
    "name": "ipython",
    "version": 3
   },
   "file_extension": ".py",
   "mimetype": "text/x-python",
   "name": "python",
   "nbconvert_exporter": "python",
   "pygments_lexer": "ipython3",
   "version": "3.10.6"
  },
  "orig_nbformat": 4
 },
 "nbformat": 4,
 "nbformat_minor": 2
}
