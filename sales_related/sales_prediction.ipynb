{
 "cells": [
  {
   "cell_type": "code",
   "execution_count": 79,
   "id": "56650c26",
   "metadata": {},
   "outputs": [],
   "source": [
    "import pandas as pd\n",
    "import plotly.express as px\n",
    "pd.set_option(\"display.max_columns\", None)\n",
    "pd.set_option(\"mode.chained_assignment\", None)\n",
    "import plotly.graph_objs as go"
   ]
  },
  {
   "cell_type": "code",
   "execution_count": 38,
   "id": "967ba8a5",
   "metadata": {},
   "outputs": [],
   "source": [
    "category_table = pd.read_excel(\"./ReferenceTable/category_types.xlsx\")\n",
    "cuscode_cus = dict(zip(category_table[\"客戶代號\"], category_table[\"客戶\"]))\n",
    "cuscode_type = dict(zip(category_table[\"客戶代號\"], category_table[\"大通路\"]))\n",
    "cuscode_channel = dict(zip(category_table[\"客戶代號\"], category_table[\"小通路\"]))"
   ]
  },
  {
   "cell_type": "code",
   "execution_count": 2,
   "id": "bd263096",
   "metadata": {},
   "outputs": [],
   "source": [
    "sales22 = pd.read_csv(r\"D:\\kc.hsu\\OneDrive - Bridgestone\\數據\\銷售數據\\202201-04_raw_data.csv\")"
   ]
  },
  {
   "cell_type": "code",
   "execution_count": 3,
   "id": "3ef97ba2",
   "metadata": {},
   "outputs": [],
   "source": [
    "sales21 = pd.read_csv(r\"D:\\kc.hsu\\OneDrive - Bridgestone\\數據\\銷售數據\\2021_raw_data.csv\")"
   ]
  },
  {
   "cell_type": "code",
   "execution_count": 39,
   "id": "e2bf63a8",
   "metadata": {},
   "outputs": [],
   "source": [
    "df = pd.concat([sales21, sales22])"
   ]
  },
  {
   "cell_type": "code",
   "execution_count": 40,
   "id": "ba34eee1",
   "metadata": {},
   "outputs": [],
   "source": [
    "df[\"實際出貨日\"] = pd.to_datetime(df[\"實際出貨日\"])"
   ]
  },
  {
   "cell_type": "code",
   "execution_count": 41,
   "id": "60195e40",
   "metadata": {
    "scrolled": true
   },
   "outputs": [],
   "source": [
    "df[\"客戶名稱\"] = df[\"買方\"].map(cuscode_cus)\n",
    "df[\"大通路\"] = df[\"買方\"].map(cuscode_type)\n",
    "df[\"小通路\"] = df[\"買方\"].map(cuscode_channel)"
   ]
  },
  {
   "cell_type": "code",
   "execution_count": 44,
   "id": "80e1d785",
   "metadata": {},
   "outputs": [],
   "source": [
    "monthly_active_customers = df.groupby([pd.Grouper(key=\"實際出貨日\", freq=\"MS\"), \"客戶名稱\", \"大通路\"]).size().reset_index().groupby([\"實際出貨日\", \"大通路\"]).size().reset_index(name=\"家數\")"
   ]
  },
  {
   "cell_type": "code",
   "execution_count": 48,
   "id": "301d426d",
   "metadata": {
    "scrolled": false
   },
   "outputs": [
    {
     "data": {
      "application/vnd.plotly.v1+json": {
       "config": {
        "plotlyServerURL": "https://plot.ly"
       },
       "data": [
        {
         "alignmentgroup": "True",
         "hovertemplate": "大通路=AG<br>實際出貨日=%{x}<br>家數=%{text}<extra></extra>",
         "legendgroup": "AG",
         "marker": {
          "color": "#636efa",
          "pattern": {
           "shape": ""
          }
         },
         "name": "AG",
         "offsetgroup": "AG",
         "orientation": "v",
         "showlegend": true,
         "text": [
          3,
          3,
          3,
          3,
          3,
          3,
          4,
          4,
          3,
          3,
          2,
          3,
          3,
          3,
          3,
          3
         ],
         "textposition": "auto",
         "type": "bar",
         "x": [
          "2021-01-01T00:00:00",
          "2021-02-01T00:00:00",
          "2021-03-01T00:00:00",
          "2021-04-01T00:00:00",
          "2021-05-01T00:00:00",
          "2021-06-01T00:00:00",
          "2021-07-01T00:00:00",
          "2021-08-01T00:00:00",
          "2021-09-01T00:00:00",
          "2021-10-01T00:00:00",
          "2021-11-01T00:00:00",
          "2021-12-01T00:00:00",
          "2022-01-01T00:00:00",
          "2022-02-01T00:00:00",
          "2022-03-01T00:00:00",
          "2022-04-01T00:00:00"
         ],
         "xaxis": "x",
         "y": [
          3,
          3,
          3,
          3,
          3,
          3,
          4,
          4,
          3,
          3,
          2,
          3,
          3,
          3,
          3,
          3
         ],
         "yaxis": "y"
        },
        {
         "alignmentgroup": "True",
         "hovertemplate": "大通路=BSSC<br>實際出貨日=%{x}<br>家數=%{text}<extra></extra>",
         "legendgroup": "BSSC",
         "marker": {
          "color": "#EF553B",
          "pattern": {
           "shape": ""
          }
         },
         "name": "BSSC",
         "offsetgroup": "BSSC",
         "orientation": "v",
         "showlegend": true,
         "text": [
          191,
          149,
          230,
          200,
          187,
          190,
          204,
          223,
          227,
          161,
          198,
          176,
          187,
          197,
          176,
          137
         ],
         "textposition": "auto",
         "type": "bar",
         "x": [
          "2021-01-01T00:00:00",
          "2021-02-01T00:00:00",
          "2021-03-01T00:00:00",
          "2021-04-01T00:00:00",
          "2021-05-01T00:00:00",
          "2021-06-01T00:00:00",
          "2021-07-01T00:00:00",
          "2021-08-01T00:00:00",
          "2021-09-01T00:00:00",
          "2021-10-01T00:00:00",
          "2021-11-01T00:00:00",
          "2021-12-01T00:00:00",
          "2022-01-01T00:00:00",
          "2022-02-01T00:00:00",
          "2022-03-01T00:00:00",
          "2022-04-01T00:00:00"
         ],
         "xaxis": "x",
         "y": [
          191,
          149,
          230,
          200,
          187,
          190,
          204,
          223,
          227,
          161,
          198,
          176,
          187,
          197,
          176,
          137
         ],
         "yaxis": "y"
        },
        {
         "alignmentgroup": "True",
         "hovertemplate": "大通路=BSSC-FLT<br>實際出貨日=%{x}<br>家數=%{text}<extra></extra>",
         "legendgroup": "BSSC-FLT",
         "marker": {
          "color": "#00cc96",
          "pattern": {
           "shape": ""
          }
         },
         "name": "BSSC-FLT",
         "offsetgroup": "BSSC-FLT",
         "orientation": "v",
         "showlegend": true,
         "text": [
          54,
          53,
          59,
          56,
          50,
          47,
          59,
          62,
          60,
          49,
          60,
          55,
          59,
          45,
          66,
          61
         ],
         "textposition": "auto",
         "type": "bar",
         "x": [
          "2021-01-01T00:00:00",
          "2021-02-01T00:00:00",
          "2021-03-01T00:00:00",
          "2021-04-01T00:00:00",
          "2021-05-01T00:00:00",
          "2021-06-01T00:00:00",
          "2021-07-01T00:00:00",
          "2021-08-01T00:00:00",
          "2021-09-01T00:00:00",
          "2021-10-01T00:00:00",
          "2021-11-01T00:00:00",
          "2021-12-01T00:00:00",
          "2022-01-01T00:00:00",
          "2022-02-01T00:00:00",
          "2022-03-01T00:00:00",
          "2022-04-01T00:00:00"
         ],
         "xaxis": "x",
         "y": [
          54,
          53,
          59,
          56,
          50,
          47,
          59,
          62,
          60,
          49,
          60,
          55,
          59,
          45,
          66,
          61
         ],
         "yaxis": "y"
        },
        {
         "alignmentgroup": "True",
         "hovertemplate": "大通路=FLT-REP<br>實際出貨日=%{x}<br>家數=%{text}<extra></extra>",
         "legendgroup": "FLT-REP",
         "marker": {
          "color": "#ab63fa",
          "pattern": {
           "shape": ""
          }
         },
         "name": "FLT-REP",
         "offsetgroup": "FLT-REP",
         "orientation": "v",
         "showlegend": true,
         "text": [
          11,
          11,
          14,
          13,
          12,
          13,
          13,
          13,
          11,
          12,
          13,
          14,
          13,
          11,
          14,
          12
         ],
         "textposition": "auto",
         "type": "bar",
         "x": [
          "2021-01-01T00:00:00",
          "2021-02-01T00:00:00",
          "2021-03-01T00:00:00",
          "2021-04-01T00:00:00",
          "2021-05-01T00:00:00",
          "2021-06-01T00:00:00",
          "2021-07-01T00:00:00",
          "2021-08-01T00:00:00",
          "2021-09-01T00:00:00",
          "2021-10-01T00:00:00",
          "2021-11-01T00:00:00",
          "2021-12-01T00:00:00",
          "2022-01-01T00:00:00",
          "2022-02-01T00:00:00",
          "2022-03-01T00:00:00",
          "2022-04-01T00:00:00"
         ],
         "xaxis": "x",
         "y": [
          11,
          11,
          14,
          13,
          12,
          13,
          13,
          13,
          11,
          12,
          13,
          14,
          13,
          11,
          14,
          12
         ],
         "yaxis": "y"
        },
        {
         "alignmentgroup": "True",
         "hovertemplate": "大通路=OE<br>實際出貨日=%{x}<br>家數=%{text}<extra></extra>",
         "legendgroup": "OE",
         "marker": {
          "color": "#FFA15A",
          "pattern": {
           "shape": ""
          }
         },
         "name": "OE",
         "offsetgroup": "OE",
         "orientation": "v",
         "showlegend": true,
         "text": [
          4,
          6,
          4,
          3,
          5,
          5,
          4,
          6,
          5,
          5,
          4,
          7,
          3,
          2,
          2,
          4
         ],
         "textposition": "auto",
         "type": "bar",
         "x": [
          "2021-01-01T00:00:00",
          "2021-02-01T00:00:00",
          "2021-03-01T00:00:00",
          "2021-04-01T00:00:00",
          "2021-05-01T00:00:00",
          "2021-06-01T00:00:00",
          "2021-07-01T00:00:00",
          "2021-08-01T00:00:00",
          "2021-09-01T00:00:00",
          "2021-10-01T00:00:00",
          "2021-11-01T00:00:00",
          "2021-12-01T00:00:00",
          "2022-01-01T00:00:00",
          "2022-02-01T00:00:00",
          "2022-03-01T00:00:00",
          "2022-04-01T00:00:00"
         ],
         "xaxis": "x",
         "y": [
          4,
          6,
          4,
          3,
          5,
          5,
          4,
          6,
          5,
          5,
          4,
          7,
          3,
          2,
          2,
          4
         ],
         "yaxis": "y"
        }
       ],
       "layout": {
        "barmode": "relative",
        "legend": {
         "title": {
          "text": "大通路"
         },
         "tracegroupgap": 0
        },
        "margin": {
         "t": 60
        },
        "template": {
         "data": {
          "bar": [
           {
            "error_x": {
             "color": "#2a3f5f"
            },
            "error_y": {
             "color": "#2a3f5f"
            },
            "marker": {
             "line": {
              "color": "#E5ECF6",
              "width": 0.5
             },
             "pattern": {
              "fillmode": "overlay",
              "size": 10,
              "solidity": 0.2
             }
            },
            "type": "bar"
           }
          ],
          "barpolar": [
           {
            "marker": {
             "line": {
              "color": "#E5ECF6",
              "width": 0.5
             },
             "pattern": {
              "fillmode": "overlay",
              "size": 10,
              "solidity": 0.2
             }
            },
            "type": "barpolar"
           }
          ],
          "carpet": [
           {
            "aaxis": {
             "endlinecolor": "#2a3f5f",
             "gridcolor": "white",
             "linecolor": "white",
             "minorgridcolor": "white",
             "startlinecolor": "#2a3f5f"
            },
            "baxis": {
             "endlinecolor": "#2a3f5f",
             "gridcolor": "white",
             "linecolor": "white",
             "minorgridcolor": "white",
             "startlinecolor": "#2a3f5f"
            },
            "type": "carpet"
           }
          ],
          "choropleth": [
           {
            "colorbar": {
             "outlinewidth": 0,
             "ticks": ""
            },
            "type": "choropleth"
           }
          ],
          "contour": [
           {
            "colorbar": {
             "outlinewidth": 0,
             "ticks": ""
            },
            "colorscale": [
             [
              0,
              "#0d0887"
             ],
             [
              0.1111111111111111,
              "#46039f"
             ],
             [
              0.2222222222222222,
              "#7201a8"
             ],
             [
              0.3333333333333333,
              "#9c179e"
             ],
             [
              0.4444444444444444,
              "#bd3786"
             ],
             [
              0.5555555555555556,
              "#d8576b"
             ],
             [
              0.6666666666666666,
              "#ed7953"
             ],
             [
              0.7777777777777778,
              "#fb9f3a"
             ],
             [
              0.8888888888888888,
              "#fdca26"
             ],
             [
              1,
              "#f0f921"
             ]
            ],
            "type": "contour"
           }
          ],
          "contourcarpet": [
           {
            "colorbar": {
             "outlinewidth": 0,
             "ticks": ""
            },
            "type": "contourcarpet"
           }
          ],
          "heatmap": [
           {
            "colorbar": {
             "outlinewidth": 0,
             "ticks": ""
            },
            "colorscale": [
             [
              0,
              "#0d0887"
             ],
             [
              0.1111111111111111,
              "#46039f"
             ],
             [
              0.2222222222222222,
              "#7201a8"
             ],
             [
              0.3333333333333333,
              "#9c179e"
             ],
             [
              0.4444444444444444,
              "#bd3786"
             ],
             [
              0.5555555555555556,
              "#d8576b"
             ],
             [
              0.6666666666666666,
              "#ed7953"
             ],
             [
              0.7777777777777778,
              "#fb9f3a"
             ],
             [
              0.8888888888888888,
              "#fdca26"
             ],
             [
              1,
              "#f0f921"
             ]
            ],
            "type": "heatmap"
           }
          ],
          "heatmapgl": [
           {
            "colorbar": {
             "outlinewidth": 0,
             "ticks": ""
            },
            "colorscale": [
             [
              0,
              "#0d0887"
             ],
             [
              0.1111111111111111,
              "#46039f"
             ],
             [
              0.2222222222222222,
              "#7201a8"
             ],
             [
              0.3333333333333333,
              "#9c179e"
             ],
             [
              0.4444444444444444,
              "#bd3786"
             ],
             [
              0.5555555555555556,
              "#d8576b"
             ],
             [
              0.6666666666666666,
              "#ed7953"
             ],
             [
              0.7777777777777778,
              "#fb9f3a"
             ],
             [
              0.8888888888888888,
              "#fdca26"
             ],
             [
              1,
              "#f0f921"
             ]
            ],
            "type": "heatmapgl"
           }
          ],
          "histogram": [
           {
            "marker": {
             "pattern": {
              "fillmode": "overlay",
              "size": 10,
              "solidity": 0.2
             }
            },
            "type": "histogram"
           }
          ],
          "histogram2d": [
           {
            "colorbar": {
             "outlinewidth": 0,
             "ticks": ""
            },
            "colorscale": [
             [
              0,
              "#0d0887"
             ],
             [
              0.1111111111111111,
              "#46039f"
             ],
             [
              0.2222222222222222,
              "#7201a8"
             ],
             [
              0.3333333333333333,
              "#9c179e"
             ],
             [
              0.4444444444444444,
              "#bd3786"
             ],
             [
              0.5555555555555556,
              "#d8576b"
             ],
             [
              0.6666666666666666,
              "#ed7953"
             ],
             [
              0.7777777777777778,
              "#fb9f3a"
             ],
             [
              0.8888888888888888,
              "#fdca26"
             ],
             [
              1,
              "#f0f921"
             ]
            ],
            "type": "histogram2d"
           }
          ],
          "histogram2dcontour": [
           {
            "colorbar": {
             "outlinewidth": 0,
             "ticks": ""
            },
            "colorscale": [
             [
              0,
              "#0d0887"
             ],
             [
              0.1111111111111111,
              "#46039f"
             ],
             [
              0.2222222222222222,
              "#7201a8"
             ],
             [
              0.3333333333333333,
              "#9c179e"
             ],
             [
              0.4444444444444444,
              "#bd3786"
             ],
             [
              0.5555555555555556,
              "#d8576b"
             ],
             [
              0.6666666666666666,
              "#ed7953"
             ],
             [
              0.7777777777777778,
              "#fb9f3a"
             ],
             [
              0.8888888888888888,
              "#fdca26"
             ],
             [
              1,
              "#f0f921"
             ]
            ],
            "type": "histogram2dcontour"
           }
          ],
          "mesh3d": [
           {
            "colorbar": {
             "outlinewidth": 0,
             "ticks": ""
            },
            "type": "mesh3d"
           }
          ],
          "parcoords": [
           {
            "line": {
             "colorbar": {
              "outlinewidth": 0,
              "ticks": ""
             }
            },
            "type": "parcoords"
           }
          ],
          "pie": [
           {
            "automargin": true,
            "type": "pie"
           }
          ],
          "scatter": [
           {
            "marker": {
             "colorbar": {
              "outlinewidth": 0,
              "ticks": ""
             }
            },
            "type": "scatter"
           }
          ],
          "scatter3d": [
           {
            "line": {
             "colorbar": {
              "outlinewidth": 0,
              "ticks": ""
             }
            },
            "marker": {
             "colorbar": {
              "outlinewidth": 0,
              "ticks": ""
             }
            },
            "type": "scatter3d"
           }
          ],
          "scattercarpet": [
           {
            "marker": {
             "colorbar": {
              "outlinewidth": 0,
              "ticks": ""
             }
            },
            "type": "scattercarpet"
           }
          ],
          "scattergeo": [
           {
            "marker": {
             "colorbar": {
              "outlinewidth": 0,
              "ticks": ""
             }
            },
            "type": "scattergeo"
           }
          ],
          "scattergl": [
           {
            "marker": {
             "colorbar": {
              "outlinewidth": 0,
              "ticks": ""
             }
            },
            "type": "scattergl"
           }
          ],
          "scattermapbox": [
           {
            "marker": {
             "colorbar": {
              "outlinewidth": 0,
              "ticks": ""
             }
            },
            "type": "scattermapbox"
           }
          ],
          "scatterpolar": [
           {
            "marker": {
             "colorbar": {
              "outlinewidth": 0,
              "ticks": ""
             }
            },
            "type": "scatterpolar"
           }
          ],
          "scatterpolargl": [
           {
            "marker": {
             "colorbar": {
              "outlinewidth": 0,
              "ticks": ""
             }
            },
            "type": "scatterpolargl"
           }
          ],
          "scatterternary": [
           {
            "marker": {
             "colorbar": {
              "outlinewidth": 0,
              "ticks": ""
             }
            },
            "type": "scatterternary"
           }
          ],
          "surface": [
           {
            "colorbar": {
             "outlinewidth": 0,
             "ticks": ""
            },
            "colorscale": [
             [
              0,
              "#0d0887"
             ],
             [
              0.1111111111111111,
              "#46039f"
             ],
             [
              0.2222222222222222,
              "#7201a8"
             ],
             [
              0.3333333333333333,
              "#9c179e"
             ],
             [
              0.4444444444444444,
              "#bd3786"
             ],
             [
              0.5555555555555556,
              "#d8576b"
             ],
             [
              0.6666666666666666,
              "#ed7953"
             ],
             [
              0.7777777777777778,
              "#fb9f3a"
             ],
             [
              0.8888888888888888,
              "#fdca26"
             ],
             [
              1,
              "#f0f921"
             ]
            ],
            "type": "surface"
           }
          ],
          "table": [
           {
            "cells": {
             "fill": {
              "color": "#EBF0F8"
             },
             "line": {
              "color": "white"
             }
            },
            "header": {
             "fill": {
              "color": "#C8D4E3"
             },
             "line": {
              "color": "white"
             }
            },
            "type": "table"
           }
          ]
         },
         "layout": {
          "annotationdefaults": {
           "arrowcolor": "#2a3f5f",
           "arrowhead": 0,
           "arrowwidth": 1
          },
          "autotypenumbers": "strict",
          "coloraxis": {
           "colorbar": {
            "outlinewidth": 0,
            "ticks": ""
           }
          },
          "colorscale": {
           "diverging": [
            [
             0,
             "#8e0152"
            ],
            [
             0.1,
             "#c51b7d"
            ],
            [
             0.2,
             "#de77ae"
            ],
            [
             0.3,
             "#f1b6da"
            ],
            [
             0.4,
             "#fde0ef"
            ],
            [
             0.5,
             "#f7f7f7"
            ],
            [
             0.6,
             "#e6f5d0"
            ],
            [
             0.7,
             "#b8e186"
            ],
            [
             0.8,
             "#7fbc41"
            ],
            [
             0.9,
             "#4d9221"
            ],
            [
             1,
             "#276419"
            ]
           ],
           "sequential": [
            [
             0,
             "#0d0887"
            ],
            [
             0.1111111111111111,
             "#46039f"
            ],
            [
             0.2222222222222222,
             "#7201a8"
            ],
            [
             0.3333333333333333,
             "#9c179e"
            ],
            [
             0.4444444444444444,
             "#bd3786"
            ],
            [
             0.5555555555555556,
             "#d8576b"
            ],
            [
             0.6666666666666666,
             "#ed7953"
            ],
            [
             0.7777777777777778,
             "#fb9f3a"
            ],
            [
             0.8888888888888888,
             "#fdca26"
            ],
            [
             1,
             "#f0f921"
            ]
           ],
           "sequentialminus": [
            [
             0,
             "#0d0887"
            ],
            [
             0.1111111111111111,
             "#46039f"
            ],
            [
             0.2222222222222222,
             "#7201a8"
            ],
            [
             0.3333333333333333,
             "#9c179e"
            ],
            [
             0.4444444444444444,
             "#bd3786"
            ],
            [
             0.5555555555555556,
             "#d8576b"
            ],
            [
             0.6666666666666666,
             "#ed7953"
            ],
            [
             0.7777777777777778,
             "#fb9f3a"
            ],
            [
             0.8888888888888888,
             "#fdca26"
            ],
            [
             1,
             "#f0f921"
            ]
           ]
          },
          "colorway": [
           "#636efa",
           "#EF553B",
           "#00cc96",
           "#ab63fa",
           "#FFA15A",
           "#19d3f3",
           "#FF6692",
           "#B6E880",
           "#FF97FF",
           "#FECB52"
          ],
          "font": {
           "color": "#2a3f5f"
          },
          "geo": {
           "bgcolor": "white",
           "lakecolor": "white",
           "landcolor": "#E5ECF6",
           "showlakes": true,
           "showland": true,
           "subunitcolor": "white"
          },
          "hoverlabel": {
           "align": "left"
          },
          "hovermode": "closest",
          "mapbox": {
           "style": "light"
          },
          "paper_bgcolor": "white",
          "plot_bgcolor": "#E5ECF6",
          "polar": {
           "angularaxis": {
            "gridcolor": "white",
            "linecolor": "white",
            "ticks": ""
           },
           "bgcolor": "#E5ECF6",
           "radialaxis": {
            "gridcolor": "white",
            "linecolor": "white",
            "ticks": ""
           }
          },
          "scene": {
           "xaxis": {
            "backgroundcolor": "#E5ECF6",
            "gridcolor": "white",
            "gridwidth": 2,
            "linecolor": "white",
            "showbackground": true,
            "ticks": "",
            "zerolinecolor": "white"
           },
           "yaxis": {
            "backgroundcolor": "#E5ECF6",
            "gridcolor": "white",
            "gridwidth": 2,
            "linecolor": "white",
            "showbackground": true,
            "ticks": "",
            "zerolinecolor": "white"
           },
           "zaxis": {
            "backgroundcolor": "#E5ECF6",
            "gridcolor": "white",
            "gridwidth": 2,
            "linecolor": "white",
            "showbackground": true,
            "ticks": "",
            "zerolinecolor": "white"
           }
          },
          "shapedefaults": {
           "line": {
            "color": "#2a3f5f"
           }
          },
          "ternary": {
           "aaxis": {
            "gridcolor": "white",
            "linecolor": "white",
            "ticks": ""
           },
           "baxis": {
            "gridcolor": "white",
            "linecolor": "white",
            "ticks": ""
           },
           "bgcolor": "#E5ECF6",
           "caxis": {
            "gridcolor": "white",
            "linecolor": "white",
            "ticks": ""
           }
          },
          "title": {
           "x": 0.05
          },
          "xaxis": {
           "automargin": true,
           "gridcolor": "white",
           "linecolor": "white",
           "ticks": "",
           "title": {
            "standoff": 15
           },
           "zerolinecolor": "white",
           "zerolinewidth": 2
          },
          "yaxis": {
           "automargin": true,
           "gridcolor": "white",
           "linecolor": "white",
           "ticks": "",
           "title": {
            "standoff": 15
           },
           "zerolinecolor": "white",
           "zerolinewidth": 2
          }
         }
        },
        "xaxis": {
         "anchor": "y",
         "domain": [
          0,
          1
         ],
         "title": {
          "text": "實際出貨日"
         }
        },
        "yaxis": {
         "anchor": "x",
         "domain": [
          0,
          1
         ],
         "title": {
          "text": "家數"
         }
        }
       }
      },
      "text/html": [
       "<div>                            <div id=\"fab9be4b-fbfb-4f3d-ba9a-3ba20a3d2832\" class=\"plotly-graph-div\" style=\"height:525px; width:100%;\"></div>            <script type=\"text/javascript\">                require([\"plotly\"], function(Plotly) {                    window.PLOTLYENV=window.PLOTLYENV || {};                                    if (document.getElementById(\"fab9be4b-fbfb-4f3d-ba9a-3ba20a3d2832\")) {                    Plotly.newPlot(                        \"fab9be4b-fbfb-4f3d-ba9a-3ba20a3d2832\",                        [{\"alignmentgroup\":\"True\",\"hovertemplate\":\"\\u5927\\u901a\\u8def=AG<br>\\u5be6\\u969b\\u51fa\\u8ca8\\u65e5=%{x}<br>\\u5bb6\\u6578=%{text}<extra></extra>\",\"legendgroup\":\"AG\",\"marker\":{\"color\":\"#636efa\",\"pattern\":{\"shape\":\"\"}},\"name\":\"AG\",\"offsetgroup\":\"AG\",\"orientation\":\"v\",\"showlegend\":true,\"text\":[3.0,3.0,3.0,3.0,3.0,3.0,4.0,4.0,3.0,3.0,2.0,3.0,3.0,3.0,3.0,3.0],\"textposition\":\"auto\",\"type\":\"bar\",\"x\":[\"2021-01-01T00:00:00\",\"2021-02-01T00:00:00\",\"2021-03-01T00:00:00\",\"2021-04-01T00:00:00\",\"2021-05-01T00:00:00\",\"2021-06-01T00:00:00\",\"2021-07-01T00:00:00\",\"2021-08-01T00:00:00\",\"2021-09-01T00:00:00\",\"2021-10-01T00:00:00\",\"2021-11-01T00:00:00\",\"2021-12-01T00:00:00\",\"2022-01-01T00:00:00\",\"2022-02-01T00:00:00\",\"2022-03-01T00:00:00\",\"2022-04-01T00:00:00\"],\"xaxis\":\"x\",\"y\":[3,3,3,3,3,3,4,4,3,3,2,3,3,3,3,3],\"yaxis\":\"y\"},{\"alignmentgroup\":\"True\",\"hovertemplate\":\"\\u5927\\u901a\\u8def=BSSC<br>\\u5be6\\u969b\\u51fa\\u8ca8\\u65e5=%{x}<br>\\u5bb6\\u6578=%{text}<extra></extra>\",\"legendgroup\":\"BSSC\",\"marker\":{\"color\":\"#EF553B\",\"pattern\":{\"shape\":\"\"}},\"name\":\"BSSC\",\"offsetgroup\":\"BSSC\",\"orientation\":\"v\",\"showlegend\":true,\"text\":[191.0,149.0,230.0,200.0,187.0,190.0,204.0,223.0,227.0,161.0,198.0,176.0,187.0,197.0,176.0,137.0],\"textposition\":\"auto\",\"type\":\"bar\",\"x\":[\"2021-01-01T00:00:00\",\"2021-02-01T00:00:00\",\"2021-03-01T00:00:00\",\"2021-04-01T00:00:00\",\"2021-05-01T00:00:00\",\"2021-06-01T00:00:00\",\"2021-07-01T00:00:00\",\"2021-08-01T00:00:00\",\"2021-09-01T00:00:00\",\"2021-10-01T00:00:00\",\"2021-11-01T00:00:00\",\"2021-12-01T00:00:00\",\"2022-01-01T00:00:00\",\"2022-02-01T00:00:00\",\"2022-03-01T00:00:00\",\"2022-04-01T00:00:00\"],\"xaxis\":\"x\",\"y\":[191,149,230,200,187,190,204,223,227,161,198,176,187,197,176,137],\"yaxis\":\"y\"},{\"alignmentgroup\":\"True\",\"hovertemplate\":\"\\u5927\\u901a\\u8def=BSSC-FLT<br>\\u5be6\\u969b\\u51fa\\u8ca8\\u65e5=%{x}<br>\\u5bb6\\u6578=%{text}<extra></extra>\",\"legendgroup\":\"BSSC-FLT\",\"marker\":{\"color\":\"#00cc96\",\"pattern\":{\"shape\":\"\"}},\"name\":\"BSSC-FLT\",\"offsetgroup\":\"BSSC-FLT\",\"orientation\":\"v\",\"showlegend\":true,\"text\":[54.0,53.0,59.0,56.0,50.0,47.0,59.0,62.0,60.0,49.0,60.0,55.0,59.0,45.0,66.0,61.0],\"textposition\":\"auto\",\"type\":\"bar\",\"x\":[\"2021-01-01T00:00:00\",\"2021-02-01T00:00:00\",\"2021-03-01T00:00:00\",\"2021-04-01T00:00:00\",\"2021-05-01T00:00:00\",\"2021-06-01T00:00:00\",\"2021-07-01T00:00:00\",\"2021-08-01T00:00:00\",\"2021-09-01T00:00:00\",\"2021-10-01T00:00:00\",\"2021-11-01T00:00:00\",\"2021-12-01T00:00:00\",\"2022-01-01T00:00:00\",\"2022-02-01T00:00:00\",\"2022-03-01T00:00:00\",\"2022-04-01T00:00:00\"],\"xaxis\":\"x\",\"y\":[54,53,59,56,50,47,59,62,60,49,60,55,59,45,66,61],\"yaxis\":\"y\"},{\"alignmentgroup\":\"True\",\"hovertemplate\":\"\\u5927\\u901a\\u8def=FLT-REP<br>\\u5be6\\u969b\\u51fa\\u8ca8\\u65e5=%{x}<br>\\u5bb6\\u6578=%{text}<extra></extra>\",\"legendgroup\":\"FLT-REP\",\"marker\":{\"color\":\"#ab63fa\",\"pattern\":{\"shape\":\"\"}},\"name\":\"FLT-REP\",\"offsetgroup\":\"FLT-REP\",\"orientation\":\"v\",\"showlegend\":true,\"text\":[11.0,11.0,14.0,13.0,12.0,13.0,13.0,13.0,11.0,12.0,13.0,14.0,13.0,11.0,14.0,12.0],\"textposition\":\"auto\",\"type\":\"bar\",\"x\":[\"2021-01-01T00:00:00\",\"2021-02-01T00:00:00\",\"2021-03-01T00:00:00\",\"2021-04-01T00:00:00\",\"2021-05-01T00:00:00\",\"2021-06-01T00:00:00\",\"2021-07-01T00:00:00\",\"2021-08-01T00:00:00\",\"2021-09-01T00:00:00\",\"2021-10-01T00:00:00\",\"2021-11-01T00:00:00\",\"2021-12-01T00:00:00\",\"2022-01-01T00:00:00\",\"2022-02-01T00:00:00\",\"2022-03-01T00:00:00\",\"2022-04-01T00:00:00\"],\"xaxis\":\"x\",\"y\":[11,11,14,13,12,13,13,13,11,12,13,14,13,11,14,12],\"yaxis\":\"y\"},{\"alignmentgroup\":\"True\",\"hovertemplate\":\"\\u5927\\u901a\\u8def=OE<br>\\u5be6\\u969b\\u51fa\\u8ca8\\u65e5=%{x}<br>\\u5bb6\\u6578=%{text}<extra></extra>\",\"legendgroup\":\"OE\",\"marker\":{\"color\":\"#FFA15A\",\"pattern\":{\"shape\":\"\"}},\"name\":\"OE\",\"offsetgroup\":\"OE\",\"orientation\":\"v\",\"showlegend\":true,\"text\":[4.0,6.0,4.0,3.0,5.0,5.0,4.0,6.0,5.0,5.0,4.0,7.0,3.0,2.0,2.0,4.0],\"textposition\":\"auto\",\"type\":\"bar\",\"x\":[\"2021-01-01T00:00:00\",\"2021-02-01T00:00:00\",\"2021-03-01T00:00:00\",\"2021-04-01T00:00:00\",\"2021-05-01T00:00:00\",\"2021-06-01T00:00:00\",\"2021-07-01T00:00:00\",\"2021-08-01T00:00:00\",\"2021-09-01T00:00:00\",\"2021-10-01T00:00:00\",\"2021-11-01T00:00:00\",\"2021-12-01T00:00:00\",\"2022-01-01T00:00:00\",\"2022-02-01T00:00:00\",\"2022-03-01T00:00:00\",\"2022-04-01T00:00:00\"],\"xaxis\":\"x\",\"y\":[4,6,4,3,5,5,4,6,5,5,4,7,3,2,2,4],\"yaxis\":\"y\"}],                        {\"barmode\":\"relative\",\"legend\":{\"title\":{\"text\":\"\\u5927\\u901a\\u8def\"},\"tracegroupgap\":0},\"margin\":{\"t\":60},\"template\":{\"data\":{\"bar\":[{\"error_x\":{\"color\":\"#2a3f5f\"},\"error_y\":{\"color\":\"#2a3f5f\"},\"marker\":{\"line\":{\"color\":\"#E5ECF6\",\"width\":0.5},\"pattern\":{\"fillmode\":\"overlay\",\"size\":10,\"solidity\":0.2}},\"type\":\"bar\"}],\"barpolar\":[{\"marker\":{\"line\":{\"color\":\"#E5ECF6\",\"width\":0.5},\"pattern\":{\"fillmode\":\"overlay\",\"size\":10,\"solidity\":0.2}},\"type\":\"barpolar\"}],\"carpet\":[{\"aaxis\":{\"endlinecolor\":\"#2a3f5f\",\"gridcolor\":\"white\",\"linecolor\":\"white\",\"minorgridcolor\":\"white\",\"startlinecolor\":\"#2a3f5f\"},\"baxis\":{\"endlinecolor\":\"#2a3f5f\",\"gridcolor\":\"white\",\"linecolor\":\"white\",\"minorgridcolor\":\"white\",\"startlinecolor\":\"#2a3f5f\"},\"type\":\"carpet\"}],\"choropleth\":[{\"colorbar\":{\"outlinewidth\":0,\"ticks\":\"\"},\"type\":\"choropleth\"}],\"contour\":[{\"colorbar\":{\"outlinewidth\":0,\"ticks\":\"\"},\"colorscale\":[[0.0,\"#0d0887\"],[0.1111111111111111,\"#46039f\"],[0.2222222222222222,\"#7201a8\"],[0.3333333333333333,\"#9c179e\"],[0.4444444444444444,\"#bd3786\"],[0.5555555555555556,\"#d8576b\"],[0.6666666666666666,\"#ed7953\"],[0.7777777777777778,\"#fb9f3a\"],[0.8888888888888888,\"#fdca26\"],[1.0,\"#f0f921\"]],\"type\":\"contour\"}],\"contourcarpet\":[{\"colorbar\":{\"outlinewidth\":0,\"ticks\":\"\"},\"type\":\"contourcarpet\"}],\"heatmap\":[{\"colorbar\":{\"outlinewidth\":0,\"ticks\":\"\"},\"colorscale\":[[0.0,\"#0d0887\"],[0.1111111111111111,\"#46039f\"],[0.2222222222222222,\"#7201a8\"],[0.3333333333333333,\"#9c179e\"],[0.4444444444444444,\"#bd3786\"],[0.5555555555555556,\"#d8576b\"],[0.6666666666666666,\"#ed7953\"],[0.7777777777777778,\"#fb9f3a\"],[0.8888888888888888,\"#fdca26\"],[1.0,\"#f0f921\"]],\"type\":\"heatmap\"}],\"heatmapgl\":[{\"colorbar\":{\"outlinewidth\":0,\"ticks\":\"\"},\"colorscale\":[[0.0,\"#0d0887\"],[0.1111111111111111,\"#46039f\"],[0.2222222222222222,\"#7201a8\"],[0.3333333333333333,\"#9c179e\"],[0.4444444444444444,\"#bd3786\"],[0.5555555555555556,\"#d8576b\"],[0.6666666666666666,\"#ed7953\"],[0.7777777777777778,\"#fb9f3a\"],[0.8888888888888888,\"#fdca26\"],[1.0,\"#f0f921\"]],\"type\":\"heatmapgl\"}],\"histogram\":[{\"marker\":{\"pattern\":{\"fillmode\":\"overlay\",\"size\":10,\"solidity\":0.2}},\"type\":\"histogram\"}],\"histogram2d\":[{\"colorbar\":{\"outlinewidth\":0,\"ticks\":\"\"},\"colorscale\":[[0.0,\"#0d0887\"],[0.1111111111111111,\"#46039f\"],[0.2222222222222222,\"#7201a8\"],[0.3333333333333333,\"#9c179e\"],[0.4444444444444444,\"#bd3786\"],[0.5555555555555556,\"#d8576b\"],[0.6666666666666666,\"#ed7953\"],[0.7777777777777778,\"#fb9f3a\"],[0.8888888888888888,\"#fdca26\"],[1.0,\"#f0f921\"]],\"type\":\"histogram2d\"}],\"histogram2dcontour\":[{\"colorbar\":{\"outlinewidth\":0,\"ticks\":\"\"},\"colorscale\":[[0.0,\"#0d0887\"],[0.1111111111111111,\"#46039f\"],[0.2222222222222222,\"#7201a8\"],[0.3333333333333333,\"#9c179e\"],[0.4444444444444444,\"#bd3786\"],[0.5555555555555556,\"#d8576b\"],[0.6666666666666666,\"#ed7953\"],[0.7777777777777778,\"#fb9f3a\"],[0.8888888888888888,\"#fdca26\"],[1.0,\"#f0f921\"]],\"type\":\"histogram2dcontour\"}],\"mesh3d\":[{\"colorbar\":{\"outlinewidth\":0,\"ticks\":\"\"},\"type\":\"mesh3d\"}],\"parcoords\":[{\"line\":{\"colorbar\":{\"outlinewidth\":0,\"ticks\":\"\"}},\"type\":\"parcoords\"}],\"pie\":[{\"automargin\":true,\"type\":\"pie\"}],\"scatter\":[{\"marker\":{\"colorbar\":{\"outlinewidth\":0,\"ticks\":\"\"}},\"type\":\"scatter\"}],\"scatter3d\":[{\"line\":{\"colorbar\":{\"outlinewidth\":0,\"ticks\":\"\"}},\"marker\":{\"colorbar\":{\"outlinewidth\":0,\"ticks\":\"\"}},\"type\":\"scatter3d\"}],\"scattercarpet\":[{\"marker\":{\"colorbar\":{\"outlinewidth\":0,\"ticks\":\"\"}},\"type\":\"scattercarpet\"}],\"scattergeo\":[{\"marker\":{\"colorbar\":{\"outlinewidth\":0,\"ticks\":\"\"}},\"type\":\"scattergeo\"}],\"scattergl\":[{\"marker\":{\"colorbar\":{\"outlinewidth\":0,\"ticks\":\"\"}},\"type\":\"scattergl\"}],\"scattermapbox\":[{\"marker\":{\"colorbar\":{\"outlinewidth\":0,\"ticks\":\"\"}},\"type\":\"scattermapbox\"}],\"scatterpolar\":[{\"marker\":{\"colorbar\":{\"outlinewidth\":0,\"ticks\":\"\"}},\"type\":\"scatterpolar\"}],\"scatterpolargl\":[{\"marker\":{\"colorbar\":{\"outlinewidth\":0,\"ticks\":\"\"}},\"type\":\"scatterpolargl\"}],\"scatterternary\":[{\"marker\":{\"colorbar\":{\"outlinewidth\":0,\"ticks\":\"\"}},\"type\":\"scatterternary\"}],\"surface\":[{\"colorbar\":{\"outlinewidth\":0,\"ticks\":\"\"},\"colorscale\":[[0.0,\"#0d0887\"],[0.1111111111111111,\"#46039f\"],[0.2222222222222222,\"#7201a8\"],[0.3333333333333333,\"#9c179e\"],[0.4444444444444444,\"#bd3786\"],[0.5555555555555556,\"#d8576b\"],[0.6666666666666666,\"#ed7953\"],[0.7777777777777778,\"#fb9f3a\"],[0.8888888888888888,\"#fdca26\"],[1.0,\"#f0f921\"]],\"type\":\"surface\"}],\"table\":[{\"cells\":{\"fill\":{\"color\":\"#EBF0F8\"},\"line\":{\"color\":\"white\"}},\"header\":{\"fill\":{\"color\":\"#C8D4E3\"},\"line\":{\"color\":\"white\"}},\"type\":\"table\"}]},\"layout\":{\"annotationdefaults\":{\"arrowcolor\":\"#2a3f5f\",\"arrowhead\":0,\"arrowwidth\":1},\"autotypenumbers\":\"strict\",\"coloraxis\":{\"colorbar\":{\"outlinewidth\":0,\"ticks\":\"\"}},\"colorscale\":{\"diverging\":[[0,\"#8e0152\"],[0.1,\"#c51b7d\"],[0.2,\"#de77ae\"],[0.3,\"#f1b6da\"],[0.4,\"#fde0ef\"],[0.5,\"#f7f7f7\"],[0.6,\"#e6f5d0\"],[0.7,\"#b8e186\"],[0.8,\"#7fbc41\"],[0.9,\"#4d9221\"],[1,\"#276419\"]],\"sequential\":[[0.0,\"#0d0887\"],[0.1111111111111111,\"#46039f\"],[0.2222222222222222,\"#7201a8\"],[0.3333333333333333,\"#9c179e\"],[0.4444444444444444,\"#bd3786\"],[0.5555555555555556,\"#d8576b\"],[0.6666666666666666,\"#ed7953\"],[0.7777777777777778,\"#fb9f3a\"],[0.8888888888888888,\"#fdca26\"],[1.0,\"#f0f921\"]],\"sequentialminus\":[[0.0,\"#0d0887\"],[0.1111111111111111,\"#46039f\"],[0.2222222222222222,\"#7201a8\"],[0.3333333333333333,\"#9c179e\"],[0.4444444444444444,\"#bd3786\"],[0.5555555555555556,\"#d8576b\"],[0.6666666666666666,\"#ed7953\"],[0.7777777777777778,\"#fb9f3a\"],[0.8888888888888888,\"#fdca26\"],[1.0,\"#f0f921\"]]},\"colorway\":[\"#636efa\",\"#EF553B\",\"#00cc96\",\"#ab63fa\",\"#FFA15A\",\"#19d3f3\",\"#FF6692\",\"#B6E880\",\"#FF97FF\",\"#FECB52\"],\"font\":{\"color\":\"#2a3f5f\"},\"geo\":{\"bgcolor\":\"white\",\"lakecolor\":\"white\",\"landcolor\":\"#E5ECF6\",\"showlakes\":true,\"showland\":true,\"subunitcolor\":\"white\"},\"hoverlabel\":{\"align\":\"left\"},\"hovermode\":\"closest\",\"mapbox\":{\"style\":\"light\"},\"paper_bgcolor\":\"white\",\"plot_bgcolor\":\"#E5ECF6\",\"polar\":{\"angularaxis\":{\"gridcolor\":\"white\",\"linecolor\":\"white\",\"ticks\":\"\"},\"bgcolor\":\"#E5ECF6\",\"radialaxis\":{\"gridcolor\":\"white\",\"linecolor\":\"white\",\"ticks\":\"\"}},\"scene\":{\"xaxis\":{\"backgroundcolor\":\"#E5ECF6\",\"gridcolor\":\"white\",\"gridwidth\":2,\"linecolor\":\"white\",\"showbackground\":true,\"ticks\":\"\",\"zerolinecolor\":\"white\"},\"yaxis\":{\"backgroundcolor\":\"#E5ECF6\",\"gridcolor\":\"white\",\"gridwidth\":2,\"linecolor\":\"white\",\"showbackground\":true,\"ticks\":\"\",\"zerolinecolor\":\"white\"},\"zaxis\":{\"backgroundcolor\":\"#E5ECF6\",\"gridcolor\":\"white\",\"gridwidth\":2,\"linecolor\":\"white\",\"showbackground\":true,\"ticks\":\"\",\"zerolinecolor\":\"white\"}},\"shapedefaults\":{\"line\":{\"color\":\"#2a3f5f\"}},\"ternary\":{\"aaxis\":{\"gridcolor\":\"white\",\"linecolor\":\"white\",\"ticks\":\"\"},\"baxis\":{\"gridcolor\":\"white\",\"linecolor\":\"white\",\"ticks\":\"\"},\"bgcolor\":\"#E5ECF6\",\"caxis\":{\"gridcolor\":\"white\",\"linecolor\":\"white\",\"ticks\":\"\"}},\"title\":{\"x\":0.05},\"xaxis\":{\"automargin\":true,\"gridcolor\":\"white\",\"linecolor\":\"white\",\"ticks\":\"\",\"title\":{\"standoff\":15},\"zerolinecolor\":\"white\",\"zerolinewidth\":2},\"yaxis\":{\"automargin\":true,\"gridcolor\":\"white\",\"linecolor\":\"white\",\"ticks\":\"\",\"title\":{\"standoff\":15},\"zerolinecolor\":\"white\",\"zerolinewidth\":2}}},\"xaxis\":{\"anchor\":\"y\",\"domain\":[0.0,1.0],\"title\":{\"text\":\"\\u5be6\\u969b\\u51fa\\u8ca8\\u65e5\"}},\"yaxis\":{\"anchor\":\"x\",\"domain\":[0.0,1.0],\"title\":{\"text\":\"\\u5bb6\\u6578\"}}},                        {\"responsive\": true}                    ).then(function(){\n",
       "                            \n",
       "var gd = document.getElementById('fab9be4b-fbfb-4f3d-ba9a-3ba20a3d2832');\n",
       "var x = new MutationObserver(function (mutations, observer) {{\n",
       "        var display = window.getComputedStyle(gd).display;\n",
       "        if (!display || display === 'none') {{\n",
       "            console.log([gd, 'removed!']);\n",
       "            Plotly.purge(gd);\n",
       "            observer.disconnect();\n",
       "        }}\n",
       "}});\n",
       "\n",
       "// Listen for the removal of the full notebook cells\n",
       "var notebookContainer = gd.closest('#notebook-container');\n",
       "if (notebookContainer) {{\n",
       "    x.observe(notebookContainer, {childList: true});\n",
       "}}\n",
       "\n",
       "// Listen for the clearing of the current output cell\n",
       "var outputEl = gd.closest('.output');\n",
       "if (outputEl) {{\n",
       "    x.observe(outputEl, {childList: true});\n",
       "}}\n",
       "\n",
       "                        })                };                });            </script>        </div>"
      ]
     },
     "metadata": {},
     "output_type": "display_data"
    }
   ],
   "source": [
    "fig_monthly_active_customer = px.bar(monthly_active_customers, x=\"實際出貨日\", y=\"家數\", color=\"大通路\", text=\"家數\")\n",
    "fig_monthly_active_customer.show()"
   ]
  },
  {
   "cell_type": "code",
   "execution_count": 53,
   "id": "c1ce3d4a",
   "metadata": {
    "scrolled": true
   },
   "outputs": [],
   "source": [
    "monthly_sales_volume = df.groupby([pd.Grouper(key=\"實際出貨日\", freq=\"MS\"), \"大通路\"])[[\"銷售數量\"]].sum().reset_index()"
   ]
  },
  {
   "cell_type": "code",
   "execution_count": 56,
   "id": "001b7e22",
   "metadata": {},
   "outputs": [
    {
     "data": {
      "application/vnd.plotly.v1+json": {
       "config": {
        "plotlyServerURL": "https://plot.ly"
       },
       "data": [
        {
         "alignmentgroup": "True",
         "hovertemplate": "大通路=AG<br>實際出貨日=%{x}<br>銷售數量=%{text}<extra></extra>",
         "legendgroup": "AG",
         "marker": {
          "color": "#636efa",
          "pattern": {
           "shape": ""
          }
         },
         "name": "AG",
         "offsetgroup": "AG",
         "orientation": "v",
         "showlegend": true,
         "text": [
          389,
          255,
          805,
          461,
          527,
          582,
          252,
          328,
          649,
          180,
          498,
          393,
          447,
          494,
          292,
          178
         ],
         "textposition": "auto",
         "type": "bar",
         "x": [
          "2021-01-01T00:00:00",
          "2021-02-01T00:00:00",
          "2021-03-01T00:00:00",
          "2021-04-01T00:00:00",
          "2021-05-01T00:00:00",
          "2021-06-01T00:00:00",
          "2021-07-01T00:00:00",
          "2021-08-01T00:00:00",
          "2021-09-01T00:00:00",
          "2021-10-01T00:00:00",
          "2021-11-01T00:00:00",
          "2021-12-01T00:00:00",
          "2022-01-01T00:00:00",
          "2022-02-01T00:00:00",
          "2022-03-01T00:00:00",
          "2022-04-01T00:00:00"
         ],
         "xaxis": "x",
         "y": [
          389,
          255,
          805,
          461,
          527,
          582,
          252,
          328,
          649,
          180,
          498,
          393,
          447,
          494,
          292,
          178
         ],
         "yaxis": "y"
        },
        {
         "alignmentgroup": "True",
         "hovertemplate": "大通路=BSSC<br>實際出貨日=%{x}<br>銷售數量=%{text}<extra></extra>",
         "legendgroup": "BSSC",
         "marker": {
          "color": "#EF553B",
          "pattern": {
           "shape": ""
          }
         },
         "name": "BSSC",
         "offsetgroup": "BSSC",
         "orientation": "v",
         "showlegend": true,
         "text": [
          7513,
          5862,
          12424,
          6177,
          7665,
          7313,
          8334,
          10480,
          12562,
          5314,
          8732,
          6353,
          8346,
          10477,
          9225,
          3920
         ],
         "textposition": "auto",
         "type": "bar",
         "x": [
          "2021-01-01T00:00:00",
          "2021-02-01T00:00:00",
          "2021-03-01T00:00:00",
          "2021-04-01T00:00:00",
          "2021-05-01T00:00:00",
          "2021-06-01T00:00:00",
          "2021-07-01T00:00:00",
          "2021-08-01T00:00:00",
          "2021-09-01T00:00:00",
          "2021-10-01T00:00:00",
          "2021-11-01T00:00:00",
          "2021-12-01T00:00:00",
          "2022-01-01T00:00:00",
          "2022-02-01T00:00:00",
          "2022-03-01T00:00:00",
          "2022-04-01T00:00:00"
         ],
         "xaxis": "x",
         "y": [
          7513,
          5862,
          12424,
          6177,
          7665,
          7313,
          8334,
          10480,
          12562,
          5314,
          8732,
          6353,
          8346,
          10477,
          9225,
          3920
         ],
         "yaxis": "y"
        },
        {
         "alignmentgroup": "True",
         "hovertemplate": "大通路=BSSC-FLT<br>實際出貨日=%{x}<br>銷售數量=%{text}<extra></extra>",
         "legendgroup": "BSSC-FLT",
         "marker": {
          "color": "#00cc96",
          "pattern": {
           "shape": ""
          }
         },
         "name": "BSSC-FLT",
         "offsetgroup": "BSSC-FLT",
         "orientation": "v",
         "showlegend": true,
         "text": [
          920,
          762,
          1012,
          972,
          801,
          1033,
          1077,
          1139,
          915,
          946,
          989,
          1101,
          977,
          689,
          1336,
          1373
         ],
         "textposition": "auto",
         "type": "bar",
         "x": [
          "2021-01-01T00:00:00",
          "2021-02-01T00:00:00",
          "2021-03-01T00:00:00",
          "2021-04-01T00:00:00",
          "2021-05-01T00:00:00",
          "2021-06-01T00:00:00",
          "2021-07-01T00:00:00",
          "2021-08-01T00:00:00",
          "2021-09-01T00:00:00",
          "2021-10-01T00:00:00",
          "2021-11-01T00:00:00",
          "2021-12-01T00:00:00",
          "2022-01-01T00:00:00",
          "2022-02-01T00:00:00",
          "2022-03-01T00:00:00",
          "2022-04-01T00:00:00"
         ],
         "xaxis": "x",
         "y": [
          920,
          762,
          1012,
          972,
          801,
          1033,
          1077,
          1139,
          915,
          946,
          989,
          1101,
          977,
          689,
          1336,
          1373
         ],
         "yaxis": "y"
        },
        {
         "alignmentgroup": "True",
         "hovertemplate": "大通路=FLT-REP<br>實際出貨日=%{x}<br>銷售數量=%{text}<extra></extra>",
         "legendgroup": "FLT-REP",
         "marker": {
          "color": "#ab63fa",
          "pattern": {
           "shape": ""
          }
         },
         "name": "FLT-REP",
         "offsetgroup": "FLT-REP",
         "orientation": "v",
         "showlegend": true,
         "text": [
          1162,
          833,
          1126,
          1038,
          1296,
          877,
          751,
          962,
          986,
          1281,
          1153,
          1463,
          1062,
          493,
          951,
          968
         ],
         "textposition": "auto",
         "type": "bar",
         "x": [
          "2021-01-01T00:00:00",
          "2021-02-01T00:00:00",
          "2021-03-01T00:00:00",
          "2021-04-01T00:00:00",
          "2021-05-01T00:00:00",
          "2021-06-01T00:00:00",
          "2021-07-01T00:00:00",
          "2021-08-01T00:00:00",
          "2021-09-01T00:00:00",
          "2021-10-01T00:00:00",
          "2021-11-01T00:00:00",
          "2021-12-01T00:00:00",
          "2022-01-01T00:00:00",
          "2022-02-01T00:00:00",
          "2022-03-01T00:00:00",
          "2022-04-01T00:00:00"
         ],
         "xaxis": "x",
         "y": [
          1162,
          833,
          1126,
          1038,
          1296,
          877,
          751,
          962,
          986,
          1281,
          1153,
          1463,
          1062,
          493,
          951,
          968
         ],
         "yaxis": "y"
        },
        {
         "alignmentgroup": "True",
         "hovertemplate": "大通路=OE<br>實際出貨日=%{x}<br>銷售數量=%{text}<extra></extra>",
         "legendgroup": "OE",
         "marker": {
          "color": "#FFA15A",
          "pattern": {
           "shape": ""
          }
         },
         "name": "OE",
         "offsetgroup": "OE",
         "orientation": "v",
         "showlegend": true,
         "text": [
          884,
          494,
          822,
          742,
          820,
          966,
          996,
          1102,
          704,
          883,
          200,
          534,
          393,
          78,
          138,
          368
         ],
         "textposition": "auto",
         "type": "bar",
         "x": [
          "2021-01-01T00:00:00",
          "2021-02-01T00:00:00",
          "2021-03-01T00:00:00",
          "2021-04-01T00:00:00",
          "2021-05-01T00:00:00",
          "2021-06-01T00:00:00",
          "2021-07-01T00:00:00",
          "2021-08-01T00:00:00",
          "2021-09-01T00:00:00",
          "2021-10-01T00:00:00",
          "2021-11-01T00:00:00",
          "2021-12-01T00:00:00",
          "2022-01-01T00:00:00",
          "2022-02-01T00:00:00",
          "2022-03-01T00:00:00",
          "2022-04-01T00:00:00"
         ],
         "xaxis": "x",
         "y": [
          884,
          494,
          822,
          742,
          820,
          966,
          996,
          1102,
          704,
          883,
          200,
          534,
          393,
          78,
          138,
          368
         ],
         "yaxis": "y"
        }
       ],
       "layout": {
        "barmode": "relative",
        "legend": {
         "title": {
          "text": "大通路"
         },
         "tracegroupgap": 0
        },
        "margin": {
         "t": 60
        },
        "template": {
         "data": {
          "bar": [
           {
            "error_x": {
             "color": "#2a3f5f"
            },
            "error_y": {
             "color": "#2a3f5f"
            },
            "marker": {
             "line": {
              "color": "#E5ECF6",
              "width": 0.5
             },
             "pattern": {
              "fillmode": "overlay",
              "size": 10,
              "solidity": 0.2
             }
            },
            "type": "bar"
           }
          ],
          "barpolar": [
           {
            "marker": {
             "line": {
              "color": "#E5ECF6",
              "width": 0.5
             },
             "pattern": {
              "fillmode": "overlay",
              "size": 10,
              "solidity": 0.2
             }
            },
            "type": "barpolar"
           }
          ],
          "carpet": [
           {
            "aaxis": {
             "endlinecolor": "#2a3f5f",
             "gridcolor": "white",
             "linecolor": "white",
             "minorgridcolor": "white",
             "startlinecolor": "#2a3f5f"
            },
            "baxis": {
             "endlinecolor": "#2a3f5f",
             "gridcolor": "white",
             "linecolor": "white",
             "minorgridcolor": "white",
             "startlinecolor": "#2a3f5f"
            },
            "type": "carpet"
           }
          ],
          "choropleth": [
           {
            "colorbar": {
             "outlinewidth": 0,
             "ticks": ""
            },
            "type": "choropleth"
           }
          ],
          "contour": [
           {
            "colorbar": {
             "outlinewidth": 0,
             "ticks": ""
            },
            "colorscale": [
             [
              0,
              "#0d0887"
             ],
             [
              0.1111111111111111,
              "#46039f"
             ],
             [
              0.2222222222222222,
              "#7201a8"
             ],
             [
              0.3333333333333333,
              "#9c179e"
             ],
             [
              0.4444444444444444,
              "#bd3786"
             ],
             [
              0.5555555555555556,
              "#d8576b"
             ],
             [
              0.6666666666666666,
              "#ed7953"
             ],
             [
              0.7777777777777778,
              "#fb9f3a"
             ],
             [
              0.8888888888888888,
              "#fdca26"
             ],
             [
              1,
              "#f0f921"
             ]
            ],
            "type": "contour"
           }
          ],
          "contourcarpet": [
           {
            "colorbar": {
             "outlinewidth": 0,
             "ticks": ""
            },
            "type": "contourcarpet"
           }
          ],
          "heatmap": [
           {
            "colorbar": {
             "outlinewidth": 0,
             "ticks": ""
            },
            "colorscale": [
             [
              0,
              "#0d0887"
             ],
             [
              0.1111111111111111,
              "#46039f"
             ],
             [
              0.2222222222222222,
              "#7201a8"
             ],
             [
              0.3333333333333333,
              "#9c179e"
             ],
             [
              0.4444444444444444,
              "#bd3786"
             ],
             [
              0.5555555555555556,
              "#d8576b"
             ],
             [
              0.6666666666666666,
              "#ed7953"
             ],
             [
              0.7777777777777778,
              "#fb9f3a"
             ],
             [
              0.8888888888888888,
              "#fdca26"
             ],
             [
              1,
              "#f0f921"
             ]
            ],
            "type": "heatmap"
           }
          ],
          "heatmapgl": [
           {
            "colorbar": {
             "outlinewidth": 0,
             "ticks": ""
            },
            "colorscale": [
             [
              0,
              "#0d0887"
             ],
             [
              0.1111111111111111,
              "#46039f"
             ],
             [
              0.2222222222222222,
              "#7201a8"
             ],
             [
              0.3333333333333333,
              "#9c179e"
             ],
             [
              0.4444444444444444,
              "#bd3786"
             ],
             [
              0.5555555555555556,
              "#d8576b"
             ],
             [
              0.6666666666666666,
              "#ed7953"
             ],
             [
              0.7777777777777778,
              "#fb9f3a"
             ],
             [
              0.8888888888888888,
              "#fdca26"
             ],
             [
              1,
              "#f0f921"
             ]
            ],
            "type": "heatmapgl"
           }
          ],
          "histogram": [
           {
            "marker": {
             "pattern": {
              "fillmode": "overlay",
              "size": 10,
              "solidity": 0.2
             }
            },
            "type": "histogram"
           }
          ],
          "histogram2d": [
           {
            "colorbar": {
             "outlinewidth": 0,
             "ticks": ""
            },
            "colorscale": [
             [
              0,
              "#0d0887"
             ],
             [
              0.1111111111111111,
              "#46039f"
             ],
             [
              0.2222222222222222,
              "#7201a8"
             ],
             [
              0.3333333333333333,
              "#9c179e"
             ],
             [
              0.4444444444444444,
              "#bd3786"
             ],
             [
              0.5555555555555556,
              "#d8576b"
             ],
             [
              0.6666666666666666,
              "#ed7953"
             ],
             [
              0.7777777777777778,
              "#fb9f3a"
             ],
             [
              0.8888888888888888,
              "#fdca26"
             ],
             [
              1,
              "#f0f921"
             ]
            ],
            "type": "histogram2d"
           }
          ],
          "histogram2dcontour": [
           {
            "colorbar": {
             "outlinewidth": 0,
             "ticks": ""
            },
            "colorscale": [
             [
              0,
              "#0d0887"
             ],
             [
              0.1111111111111111,
              "#46039f"
             ],
             [
              0.2222222222222222,
              "#7201a8"
             ],
             [
              0.3333333333333333,
              "#9c179e"
             ],
             [
              0.4444444444444444,
              "#bd3786"
             ],
             [
              0.5555555555555556,
              "#d8576b"
             ],
             [
              0.6666666666666666,
              "#ed7953"
             ],
             [
              0.7777777777777778,
              "#fb9f3a"
             ],
             [
              0.8888888888888888,
              "#fdca26"
             ],
             [
              1,
              "#f0f921"
             ]
            ],
            "type": "histogram2dcontour"
           }
          ],
          "mesh3d": [
           {
            "colorbar": {
             "outlinewidth": 0,
             "ticks": ""
            },
            "type": "mesh3d"
           }
          ],
          "parcoords": [
           {
            "line": {
             "colorbar": {
              "outlinewidth": 0,
              "ticks": ""
             }
            },
            "type": "parcoords"
           }
          ],
          "pie": [
           {
            "automargin": true,
            "type": "pie"
           }
          ],
          "scatter": [
           {
            "marker": {
             "colorbar": {
              "outlinewidth": 0,
              "ticks": ""
             }
            },
            "type": "scatter"
           }
          ],
          "scatter3d": [
           {
            "line": {
             "colorbar": {
              "outlinewidth": 0,
              "ticks": ""
             }
            },
            "marker": {
             "colorbar": {
              "outlinewidth": 0,
              "ticks": ""
             }
            },
            "type": "scatter3d"
           }
          ],
          "scattercarpet": [
           {
            "marker": {
             "colorbar": {
              "outlinewidth": 0,
              "ticks": ""
             }
            },
            "type": "scattercarpet"
           }
          ],
          "scattergeo": [
           {
            "marker": {
             "colorbar": {
              "outlinewidth": 0,
              "ticks": ""
             }
            },
            "type": "scattergeo"
           }
          ],
          "scattergl": [
           {
            "marker": {
             "colorbar": {
              "outlinewidth": 0,
              "ticks": ""
             }
            },
            "type": "scattergl"
           }
          ],
          "scattermapbox": [
           {
            "marker": {
             "colorbar": {
              "outlinewidth": 0,
              "ticks": ""
             }
            },
            "type": "scattermapbox"
           }
          ],
          "scatterpolar": [
           {
            "marker": {
             "colorbar": {
              "outlinewidth": 0,
              "ticks": ""
             }
            },
            "type": "scatterpolar"
           }
          ],
          "scatterpolargl": [
           {
            "marker": {
             "colorbar": {
              "outlinewidth": 0,
              "ticks": ""
             }
            },
            "type": "scatterpolargl"
           }
          ],
          "scatterternary": [
           {
            "marker": {
             "colorbar": {
              "outlinewidth": 0,
              "ticks": ""
             }
            },
            "type": "scatterternary"
           }
          ],
          "surface": [
           {
            "colorbar": {
             "outlinewidth": 0,
             "ticks": ""
            },
            "colorscale": [
             [
              0,
              "#0d0887"
             ],
             [
              0.1111111111111111,
              "#46039f"
             ],
             [
              0.2222222222222222,
              "#7201a8"
             ],
             [
              0.3333333333333333,
              "#9c179e"
             ],
             [
              0.4444444444444444,
              "#bd3786"
             ],
             [
              0.5555555555555556,
              "#d8576b"
             ],
             [
              0.6666666666666666,
              "#ed7953"
             ],
             [
              0.7777777777777778,
              "#fb9f3a"
             ],
             [
              0.8888888888888888,
              "#fdca26"
             ],
             [
              1,
              "#f0f921"
             ]
            ],
            "type": "surface"
           }
          ],
          "table": [
           {
            "cells": {
             "fill": {
              "color": "#EBF0F8"
             },
             "line": {
              "color": "white"
             }
            },
            "header": {
             "fill": {
              "color": "#C8D4E3"
             },
             "line": {
              "color": "white"
             }
            },
            "type": "table"
           }
          ]
         },
         "layout": {
          "annotationdefaults": {
           "arrowcolor": "#2a3f5f",
           "arrowhead": 0,
           "arrowwidth": 1
          },
          "autotypenumbers": "strict",
          "coloraxis": {
           "colorbar": {
            "outlinewidth": 0,
            "ticks": ""
           }
          },
          "colorscale": {
           "diverging": [
            [
             0,
             "#8e0152"
            ],
            [
             0.1,
             "#c51b7d"
            ],
            [
             0.2,
             "#de77ae"
            ],
            [
             0.3,
             "#f1b6da"
            ],
            [
             0.4,
             "#fde0ef"
            ],
            [
             0.5,
             "#f7f7f7"
            ],
            [
             0.6,
             "#e6f5d0"
            ],
            [
             0.7,
             "#b8e186"
            ],
            [
             0.8,
             "#7fbc41"
            ],
            [
             0.9,
             "#4d9221"
            ],
            [
             1,
             "#276419"
            ]
           ],
           "sequential": [
            [
             0,
             "#0d0887"
            ],
            [
             0.1111111111111111,
             "#46039f"
            ],
            [
             0.2222222222222222,
             "#7201a8"
            ],
            [
             0.3333333333333333,
             "#9c179e"
            ],
            [
             0.4444444444444444,
             "#bd3786"
            ],
            [
             0.5555555555555556,
             "#d8576b"
            ],
            [
             0.6666666666666666,
             "#ed7953"
            ],
            [
             0.7777777777777778,
             "#fb9f3a"
            ],
            [
             0.8888888888888888,
             "#fdca26"
            ],
            [
             1,
             "#f0f921"
            ]
           ],
           "sequentialminus": [
            [
             0,
             "#0d0887"
            ],
            [
             0.1111111111111111,
             "#46039f"
            ],
            [
             0.2222222222222222,
             "#7201a8"
            ],
            [
             0.3333333333333333,
             "#9c179e"
            ],
            [
             0.4444444444444444,
             "#bd3786"
            ],
            [
             0.5555555555555556,
             "#d8576b"
            ],
            [
             0.6666666666666666,
             "#ed7953"
            ],
            [
             0.7777777777777778,
             "#fb9f3a"
            ],
            [
             0.8888888888888888,
             "#fdca26"
            ],
            [
             1,
             "#f0f921"
            ]
           ]
          },
          "colorway": [
           "#636efa",
           "#EF553B",
           "#00cc96",
           "#ab63fa",
           "#FFA15A",
           "#19d3f3",
           "#FF6692",
           "#B6E880",
           "#FF97FF",
           "#FECB52"
          ],
          "font": {
           "color": "#2a3f5f"
          },
          "geo": {
           "bgcolor": "white",
           "lakecolor": "white",
           "landcolor": "#E5ECF6",
           "showlakes": true,
           "showland": true,
           "subunitcolor": "white"
          },
          "hoverlabel": {
           "align": "left"
          },
          "hovermode": "closest",
          "mapbox": {
           "style": "light"
          },
          "paper_bgcolor": "white",
          "plot_bgcolor": "#E5ECF6",
          "polar": {
           "angularaxis": {
            "gridcolor": "white",
            "linecolor": "white",
            "ticks": ""
           },
           "bgcolor": "#E5ECF6",
           "radialaxis": {
            "gridcolor": "white",
            "linecolor": "white",
            "ticks": ""
           }
          },
          "scene": {
           "xaxis": {
            "backgroundcolor": "#E5ECF6",
            "gridcolor": "white",
            "gridwidth": 2,
            "linecolor": "white",
            "showbackground": true,
            "ticks": "",
            "zerolinecolor": "white"
           },
           "yaxis": {
            "backgroundcolor": "#E5ECF6",
            "gridcolor": "white",
            "gridwidth": 2,
            "linecolor": "white",
            "showbackground": true,
            "ticks": "",
            "zerolinecolor": "white"
           },
           "zaxis": {
            "backgroundcolor": "#E5ECF6",
            "gridcolor": "white",
            "gridwidth": 2,
            "linecolor": "white",
            "showbackground": true,
            "ticks": "",
            "zerolinecolor": "white"
           }
          },
          "shapedefaults": {
           "line": {
            "color": "#2a3f5f"
           }
          },
          "ternary": {
           "aaxis": {
            "gridcolor": "white",
            "linecolor": "white",
            "ticks": ""
           },
           "baxis": {
            "gridcolor": "white",
            "linecolor": "white",
            "ticks": ""
           },
           "bgcolor": "#E5ECF6",
           "caxis": {
            "gridcolor": "white",
            "linecolor": "white",
            "ticks": ""
           }
          },
          "title": {
           "x": 0.05
          },
          "xaxis": {
           "automargin": true,
           "gridcolor": "white",
           "linecolor": "white",
           "ticks": "",
           "title": {
            "standoff": 15
           },
           "zerolinecolor": "white",
           "zerolinewidth": 2
          },
          "yaxis": {
           "automargin": true,
           "gridcolor": "white",
           "linecolor": "white",
           "ticks": "",
           "title": {
            "standoff": 15
           },
           "zerolinecolor": "white",
           "zerolinewidth": 2
          }
         }
        },
        "xaxis": {
         "anchor": "y",
         "domain": [
          0,
          1
         ],
         "title": {
          "text": "實際出貨日"
         }
        },
        "yaxis": {
         "anchor": "x",
         "domain": [
          0,
          1
         ],
         "title": {
          "text": "銷售數量"
         }
        }
       }
      },
      "text/html": [
       "<div>                            <div id=\"a048e217-25e6-4cd1-99d9-febe29ee21a3\" class=\"plotly-graph-div\" style=\"height:525px; width:100%;\"></div>            <script type=\"text/javascript\">                require([\"plotly\"], function(Plotly) {                    window.PLOTLYENV=window.PLOTLYENV || {};                                    if (document.getElementById(\"a048e217-25e6-4cd1-99d9-febe29ee21a3\")) {                    Plotly.newPlot(                        \"a048e217-25e6-4cd1-99d9-febe29ee21a3\",                        [{\"alignmentgroup\":\"True\",\"hovertemplate\":\"\\u5927\\u901a\\u8def=AG<br>\\u5be6\\u969b\\u51fa\\u8ca8\\u65e5=%{x}<br>\\u92b7\\u552e\\u6578\\u91cf=%{text}<extra></extra>\",\"legendgroup\":\"AG\",\"marker\":{\"color\":\"#636efa\",\"pattern\":{\"shape\":\"\"}},\"name\":\"AG\",\"offsetgroup\":\"AG\",\"orientation\":\"v\",\"showlegend\":true,\"text\":[389.0,255.0,805.0,461.0,527.0,582.0,252.0,328.0,649.0,180.0,498.0,393.0,447.0,494.0,292.0,178.0],\"textposition\":\"auto\",\"type\":\"bar\",\"x\":[\"2021-01-01T00:00:00\",\"2021-02-01T00:00:00\",\"2021-03-01T00:00:00\",\"2021-04-01T00:00:00\",\"2021-05-01T00:00:00\",\"2021-06-01T00:00:00\",\"2021-07-01T00:00:00\",\"2021-08-01T00:00:00\",\"2021-09-01T00:00:00\",\"2021-10-01T00:00:00\",\"2021-11-01T00:00:00\",\"2021-12-01T00:00:00\",\"2022-01-01T00:00:00\",\"2022-02-01T00:00:00\",\"2022-03-01T00:00:00\",\"2022-04-01T00:00:00\"],\"xaxis\":\"x\",\"y\":[389,255,805,461,527,582,252,328,649,180,498,393,447,494,292,178],\"yaxis\":\"y\"},{\"alignmentgroup\":\"True\",\"hovertemplate\":\"\\u5927\\u901a\\u8def=BSSC<br>\\u5be6\\u969b\\u51fa\\u8ca8\\u65e5=%{x}<br>\\u92b7\\u552e\\u6578\\u91cf=%{text}<extra></extra>\",\"legendgroup\":\"BSSC\",\"marker\":{\"color\":\"#EF553B\",\"pattern\":{\"shape\":\"\"}},\"name\":\"BSSC\",\"offsetgroup\":\"BSSC\",\"orientation\":\"v\",\"showlegend\":true,\"text\":[7513.0,5862.0,12424.0,6177.0,7665.0,7313.0,8334.0,10480.0,12562.0,5314.0,8732.0,6353.0,8346.0,10477.0,9225.0,3920.0],\"textposition\":\"auto\",\"type\":\"bar\",\"x\":[\"2021-01-01T00:00:00\",\"2021-02-01T00:00:00\",\"2021-03-01T00:00:00\",\"2021-04-01T00:00:00\",\"2021-05-01T00:00:00\",\"2021-06-01T00:00:00\",\"2021-07-01T00:00:00\",\"2021-08-01T00:00:00\",\"2021-09-01T00:00:00\",\"2021-10-01T00:00:00\",\"2021-11-01T00:00:00\",\"2021-12-01T00:00:00\",\"2022-01-01T00:00:00\",\"2022-02-01T00:00:00\",\"2022-03-01T00:00:00\",\"2022-04-01T00:00:00\"],\"xaxis\":\"x\",\"y\":[7513,5862,12424,6177,7665,7313,8334,10480,12562,5314,8732,6353,8346,10477,9225,3920],\"yaxis\":\"y\"},{\"alignmentgroup\":\"True\",\"hovertemplate\":\"\\u5927\\u901a\\u8def=BSSC-FLT<br>\\u5be6\\u969b\\u51fa\\u8ca8\\u65e5=%{x}<br>\\u92b7\\u552e\\u6578\\u91cf=%{text}<extra></extra>\",\"legendgroup\":\"BSSC-FLT\",\"marker\":{\"color\":\"#00cc96\",\"pattern\":{\"shape\":\"\"}},\"name\":\"BSSC-FLT\",\"offsetgroup\":\"BSSC-FLT\",\"orientation\":\"v\",\"showlegend\":true,\"text\":[920.0,762.0,1012.0,972.0,801.0,1033.0,1077.0,1139.0,915.0,946.0,989.0,1101.0,977.0,689.0,1336.0,1373.0],\"textposition\":\"auto\",\"type\":\"bar\",\"x\":[\"2021-01-01T00:00:00\",\"2021-02-01T00:00:00\",\"2021-03-01T00:00:00\",\"2021-04-01T00:00:00\",\"2021-05-01T00:00:00\",\"2021-06-01T00:00:00\",\"2021-07-01T00:00:00\",\"2021-08-01T00:00:00\",\"2021-09-01T00:00:00\",\"2021-10-01T00:00:00\",\"2021-11-01T00:00:00\",\"2021-12-01T00:00:00\",\"2022-01-01T00:00:00\",\"2022-02-01T00:00:00\",\"2022-03-01T00:00:00\",\"2022-04-01T00:00:00\"],\"xaxis\":\"x\",\"y\":[920,762,1012,972,801,1033,1077,1139,915,946,989,1101,977,689,1336,1373],\"yaxis\":\"y\"},{\"alignmentgroup\":\"True\",\"hovertemplate\":\"\\u5927\\u901a\\u8def=FLT-REP<br>\\u5be6\\u969b\\u51fa\\u8ca8\\u65e5=%{x}<br>\\u92b7\\u552e\\u6578\\u91cf=%{text}<extra></extra>\",\"legendgroup\":\"FLT-REP\",\"marker\":{\"color\":\"#ab63fa\",\"pattern\":{\"shape\":\"\"}},\"name\":\"FLT-REP\",\"offsetgroup\":\"FLT-REP\",\"orientation\":\"v\",\"showlegend\":true,\"text\":[1162.0,833.0,1126.0,1038.0,1296.0,877.0,751.0,962.0,986.0,1281.0,1153.0,1463.0,1062.0,493.0,951.0,968.0],\"textposition\":\"auto\",\"type\":\"bar\",\"x\":[\"2021-01-01T00:00:00\",\"2021-02-01T00:00:00\",\"2021-03-01T00:00:00\",\"2021-04-01T00:00:00\",\"2021-05-01T00:00:00\",\"2021-06-01T00:00:00\",\"2021-07-01T00:00:00\",\"2021-08-01T00:00:00\",\"2021-09-01T00:00:00\",\"2021-10-01T00:00:00\",\"2021-11-01T00:00:00\",\"2021-12-01T00:00:00\",\"2022-01-01T00:00:00\",\"2022-02-01T00:00:00\",\"2022-03-01T00:00:00\",\"2022-04-01T00:00:00\"],\"xaxis\":\"x\",\"y\":[1162,833,1126,1038,1296,877,751,962,986,1281,1153,1463,1062,493,951,968],\"yaxis\":\"y\"},{\"alignmentgroup\":\"True\",\"hovertemplate\":\"\\u5927\\u901a\\u8def=OE<br>\\u5be6\\u969b\\u51fa\\u8ca8\\u65e5=%{x}<br>\\u92b7\\u552e\\u6578\\u91cf=%{text}<extra></extra>\",\"legendgroup\":\"OE\",\"marker\":{\"color\":\"#FFA15A\",\"pattern\":{\"shape\":\"\"}},\"name\":\"OE\",\"offsetgroup\":\"OE\",\"orientation\":\"v\",\"showlegend\":true,\"text\":[884.0,494.0,822.0,742.0,820.0,966.0,996.0,1102.0,704.0,883.0,200.0,534.0,393.0,78.0,138.0,368.0],\"textposition\":\"auto\",\"type\":\"bar\",\"x\":[\"2021-01-01T00:00:00\",\"2021-02-01T00:00:00\",\"2021-03-01T00:00:00\",\"2021-04-01T00:00:00\",\"2021-05-01T00:00:00\",\"2021-06-01T00:00:00\",\"2021-07-01T00:00:00\",\"2021-08-01T00:00:00\",\"2021-09-01T00:00:00\",\"2021-10-01T00:00:00\",\"2021-11-01T00:00:00\",\"2021-12-01T00:00:00\",\"2022-01-01T00:00:00\",\"2022-02-01T00:00:00\",\"2022-03-01T00:00:00\",\"2022-04-01T00:00:00\"],\"xaxis\":\"x\",\"y\":[884,494,822,742,820,966,996,1102,704,883,200,534,393,78,138,368],\"yaxis\":\"y\"}],                        {\"barmode\":\"relative\",\"legend\":{\"title\":{\"text\":\"\\u5927\\u901a\\u8def\"},\"tracegroupgap\":0},\"margin\":{\"t\":60},\"template\":{\"data\":{\"bar\":[{\"error_x\":{\"color\":\"#2a3f5f\"},\"error_y\":{\"color\":\"#2a3f5f\"},\"marker\":{\"line\":{\"color\":\"#E5ECF6\",\"width\":0.5},\"pattern\":{\"fillmode\":\"overlay\",\"size\":10,\"solidity\":0.2}},\"type\":\"bar\"}],\"barpolar\":[{\"marker\":{\"line\":{\"color\":\"#E5ECF6\",\"width\":0.5},\"pattern\":{\"fillmode\":\"overlay\",\"size\":10,\"solidity\":0.2}},\"type\":\"barpolar\"}],\"carpet\":[{\"aaxis\":{\"endlinecolor\":\"#2a3f5f\",\"gridcolor\":\"white\",\"linecolor\":\"white\",\"minorgridcolor\":\"white\",\"startlinecolor\":\"#2a3f5f\"},\"baxis\":{\"endlinecolor\":\"#2a3f5f\",\"gridcolor\":\"white\",\"linecolor\":\"white\",\"minorgridcolor\":\"white\",\"startlinecolor\":\"#2a3f5f\"},\"type\":\"carpet\"}],\"choropleth\":[{\"colorbar\":{\"outlinewidth\":0,\"ticks\":\"\"},\"type\":\"choropleth\"}],\"contour\":[{\"colorbar\":{\"outlinewidth\":0,\"ticks\":\"\"},\"colorscale\":[[0.0,\"#0d0887\"],[0.1111111111111111,\"#46039f\"],[0.2222222222222222,\"#7201a8\"],[0.3333333333333333,\"#9c179e\"],[0.4444444444444444,\"#bd3786\"],[0.5555555555555556,\"#d8576b\"],[0.6666666666666666,\"#ed7953\"],[0.7777777777777778,\"#fb9f3a\"],[0.8888888888888888,\"#fdca26\"],[1.0,\"#f0f921\"]],\"type\":\"contour\"}],\"contourcarpet\":[{\"colorbar\":{\"outlinewidth\":0,\"ticks\":\"\"},\"type\":\"contourcarpet\"}],\"heatmap\":[{\"colorbar\":{\"outlinewidth\":0,\"ticks\":\"\"},\"colorscale\":[[0.0,\"#0d0887\"],[0.1111111111111111,\"#46039f\"],[0.2222222222222222,\"#7201a8\"],[0.3333333333333333,\"#9c179e\"],[0.4444444444444444,\"#bd3786\"],[0.5555555555555556,\"#d8576b\"],[0.6666666666666666,\"#ed7953\"],[0.7777777777777778,\"#fb9f3a\"],[0.8888888888888888,\"#fdca26\"],[1.0,\"#f0f921\"]],\"type\":\"heatmap\"}],\"heatmapgl\":[{\"colorbar\":{\"outlinewidth\":0,\"ticks\":\"\"},\"colorscale\":[[0.0,\"#0d0887\"],[0.1111111111111111,\"#46039f\"],[0.2222222222222222,\"#7201a8\"],[0.3333333333333333,\"#9c179e\"],[0.4444444444444444,\"#bd3786\"],[0.5555555555555556,\"#d8576b\"],[0.6666666666666666,\"#ed7953\"],[0.7777777777777778,\"#fb9f3a\"],[0.8888888888888888,\"#fdca26\"],[1.0,\"#f0f921\"]],\"type\":\"heatmapgl\"}],\"histogram\":[{\"marker\":{\"pattern\":{\"fillmode\":\"overlay\",\"size\":10,\"solidity\":0.2}},\"type\":\"histogram\"}],\"histogram2d\":[{\"colorbar\":{\"outlinewidth\":0,\"ticks\":\"\"},\"colorscale\":[[0.0,\"#0d0887\"],[0.1111111111111111,\"#46039f\"],[0.2222222222222222,\"#7201a8\"],[0.3333333333333333,\"#9c179e\"],[0.4444444444444444,\"#bd3786\"],[0.5555555555555556,\"#d8576b\"],[0.6666666666666666,\"#ed7953\"],[0.7777777777777778,\"#fb9f3a\"],[0.8888888888888888,\"#fdca26\"],[1.0,\"#f0f921\"]],\"type\":\"histogram2d\"}],\"histogram2dcontour\":[{\"colorbar\":{\"outlinewidth\":0,\"ticks\":\"\"},\"colorscale\":[[0.0,\"#0d0887\"],[0.1111111111111111,\"#46039f\"],[0.2222222222222222,\"#7201a8\"],[0.3333333333333333,\"#9c179e\"],[0.4444444444444444,\"#bd3786\"],[0.5555555555555556,\"#d8576b\"],[0.6666666666666666,\"#ed7953\"],[0.7777777777777778,\"#fb9f3a\"],[0.8888888888888888,\"#fdca26\"],[1.0,\"#f0f921\"]],\"type\":\"histogram2dcontour\"}],\"mesh3d\":[{\"colorbar\":{\"outlinewidth\":0,\"ticks\":\"\"},\"type\":\"mesh3d\"}],\"parcoords\":[{\"line\":{\"colorbar\":{\"outlinewidth\":0,\"ticks\":\"\"}},\"type\":\"parcoords\"}],\"pie\":[{\"automargin\":true,\"type\":\"pie\"}],\"scatter\":[{\"marker\":{\"colorbar\":{\"outlinewidth\":0,\"ticks\":\"\"}},\"type\":\"scatter\"}],\"scatter3d\":[{\"line\":{\"colorbar\":{\"outlinewidth\":0,\"ticks\":\"\"}},\"marker\":{\"colorbar\":{\"outlinewidth\":0,\"ticks\":\"\"}},\"type\":\"scatter3d\"}],\"scattercarpet\":[{\"marker\":{\"colorbar\":{\"outlinewidth\":0,\"ticks\":\"\"}},\"type\":\"scattercarpet\"}],\"scattergeo\":[{\"marker\":{\"colorbar\":{\"outlinewidth\":0,\"ticks\":\"\"}},\"type\":\"scattergeo\"}],\"scattergl\":[{\"marker\":{\"colorbar\":{\"outlinewidth\":0,\"ticks\":\"\"}},\"type\":\"scattergl\"}],\"scattermapbox\":[{\"marker\":{\"colorbar\":{\"outlinewidth\":0,\"ticks\":\"\"}},\"type\":\"scattermapbox\"}],\"scatterpolar\":[{\"marker\":{\"colorbar\":{\"outlinewidth\":0,\"ticks\":\"\"}},\"type\":\"scatterpolar\"}],\"scatterpolargl\":[{\"marker\":{\"colorbar\":{\"outlinewidth\":0,\"ticks\":\"\"}},\"type\":\"scatterpolargl\"}],\"scatterternary\":[{\"marker\":{\"colorbar\":{\"outlinewidth\":0,\"ticks\":\"\"}},\"type\":\"scatterternary\"}],\"surface\":[{\"colorbar\":{\"outlinewidth\":0,\"ticks\":\"\"},\"colorscale\":[[0.0,\"#0d0887\"],[0.1111111111111111,\"#46039f\"],[0.2222222222222222,\"#7201a8\"],[0.3333333333333333,\"#9c179e\"],[0.4444444444444444,\"#bd3786\"],[0.5555555555555556,\"#d8576b\"],[0.6666666666666666,\"#ed7953\"],[0.7777777777777778,\"#fb9f3a\"],[0.8888888888888888,\"#fdca26\"],[1.0,\"#f0f921\"]],\"type\":\"surface\"}],\"table\":[{\"cells\":{\"fill\":{\"color\":\"#EBF0F8\"},\"line\":{\"color\":\"white\"}},\"header\":{\"fill\":{\"color\":\"#C8D4E3\"},\"line\":{\"color\":\"white\"}},\"type\":\"table\"}]},\"layout\":{\"annotationdefaults\":{\"arrowcolor\":\"#2a3f5f\",\"arrowhead\":0,\"arrowwidth\":1},\"autotypenumbers\":\"strict\",\"coloraxis\":{\"colorbar\":{\"outlinewidth\":0,\"ticks\":\"\"}},\"colorscale\":{\"diverging\":[[0,\"#8e0152\"],[0.1,\"#c51b7d\"],[0.2,\"#de77ae\"],[0.3,\"#f1b6da\"],[0.4,\"#fde0ef\"],[0.5,\"#f7f7f7\"],[0.6,\"#e6f5d0\"],[0.7,\"#b8e186\"],[0.8,\"#7fbc41\"],[0.9,\"#4d9221\"],[1,\"#276419\"]],\"sequential\":[[0.0,\"#0d0887\"],[0.1111111111111111,\"#46039f\"],[0.2222222222222222,\"#7201a8\"],[0.3333333333333333,\"#9c179e\"],[0.4444444444444444,\"#bd3786\"],[0.5555555555555556,\"#d8576b\"],[0.6666666666666666,\"#ed7953\"],[0.7777777777777778,\"#fb9f3a\"],[0.8888888888888888,\"#fdca26\"],[1.0,\"#f0f921\"]],\"sequentialminus\":[[0.0,\"#0d0887\"],[0.1111111111111111,\"#46039f\"],[0.2222222222222222,\"#7201a8\"],[0.3333333333333333,\"#9c179e\"],[0.4444444444444444,\"#bd3786\"],[0.5555555555555556,\"#d8576b\"],[0.6666666666666666,\"#ed7953\"],[0.7777777777777778,\"#fb9f3a\"],[0.8888888888888888,\"#fdca26\"],[1.0,\"#f0f921\"]]},\"colorway\":[\"#636efa\",\"#EF553B\",\"#00cc96\",\"#ab63fa\",\"#FFA15A\",\"#19d3f3\",\"#FF6692\",\"#B6E880\",\"#FF97FF\",\"#FECB52\"],\"font\":{\"color\":\"#2a3f5f\"},\"geo\":{\"bgcolor\":\"white\",\"lakecolor\":\"white\",\"landcolor\":\"#E5ECF6\",\"showlakes\":true,\"showland\":true,\"subunitcolor\":\"white\"},\"hoverlabel\":{\"align\":\"left\"},\"hovermode\":\"closest\",\"mapbox\":{\"style\":\"light\"},\"paper_bgcolor\":\"white\",\"plot_bgcolor\":\"#E5ECF6\",\"polar\":{\"angularaxis\":{\"gridcolor\":\"white\",\"linecolor\":\"white\",\"ticks\":\"\"},\"bgcolor\":\"#E5ECF6\",\"radialaxis\":{\"gridcolor\":\"white\",\"linecolor\":\"white\",\"ticks\":\"\"}},\"scene\":{\"xaxis\":{\"backgroundcolor\":\"#E5ECF6\",\"gridcolor\":\"white\",\"gridwidth\":2,\"linecolor\":\"white\",\"showbackground\":true,\"ticks\":\"\",\"zerolinecolor\":\"white\"},\"yaxis\":{\"backgroundcolor\":\"#E5ECF6\",\"gridcolor\":\"white\",\"gridwidth\":2,\"linecolor\":\"white\",\"showbackground\":true,\"ticks\":\"\",\"zerolinecolor\":\"white\"},\"zaxis\":{\"backgroundcolor\":\"#E5ECF6\",\"gridcolor\":\"white\",\"gridwidth\":2,\"linecolor\":\"white\",\"showbackground\":true,\"ticks\":\"\",\"zerolinecolor\":\"white\"}},\"shapedefaults\":{\"line\":{\"color\":\"#2a3f5f\"}},\"ternary\":{\"aaxis\":{\"gridcolor\":\"white\",\"linecolor\":\"white\",\"ticks\":\"\"},\"baxis\":{\"gridcolor\":\"white\",\"linecolor\":\"white\",\"ticks\":\"\"},\"bgcolor\":\"#E5ECF6\",\"caxis\":{\"gridcolor\":\"white\",\"linecolor\":\"white\",\"ticks\":\"\"}},\"title\":{\"x\":0.05},\"xaxis\":{\"automargin\":true,\"gridcolor\":\"white\",\"linecolor\":\"white\",\"ticks\":\"\",\"title\":{\"standoff\":15},\"zerolinecolor\":\"white\",\"zerolinewidth\":2},\"yaxis\":{\"automargin\":true,\"gridcolor\":\"white\",\"linecolor\":\"white\",\"ticks\":\"\",\"title\":{\"standoff\":15},\"zerolinecolor\":\"white\",\"zerolinewidth\":2}}},\"xaxis\":{\"anchor\":\"y\",\"domain\":[0.0,1.0],\"title\":{\"text\":\"\\u5be6\\u969b\\u51fa\\u8ca8\\u65e5\"}},\"yaxis\":{\"anchor\":\"x\",\"domain\":[0.0,1.0],\"title\":{\"text\":\"\\u92b7\\u552e\\u6578\\u91cf\"}}},                        {\"responsive\": true}                    ).then(function(){\n",
       "                            \n",
       "var gd = document.getElementById('a048e217-25e6-4cd1-99d9-febe29ee21a3');\n",
       "var x = new MutationObserver(function (mutations, observer) {{\n",
       "        var display = window.getComputedStyle(gd).display;\n",
       "        if (!display || display === 'none') {{\n",
       "            console.log([gd, 'removed!']);\n",
       "            Plotly.purge(gd);\n",
       "            observer.disconnect();\n",
       "        }}\n",
       "}});\n",
       "\n",
       "// Listen for the removal of the full notebook cells\n",
       "var notebookContainer = gd.closest('#notebook-container');\n",
       "if (notebookContainer) {{\n",
       "    x.observe(notebookContainer, {childList: true});\n",
       "}}\n",
       "\n",
       "// Listen for the clearing of the current output cell\n",
       "var outputEl = gd.closest('.output');\n",
       "if (outputEl) {{\n",
       "    x.observe(outputEl, {childList: true});\n",
       "}}\n",
       "\n",
       "                        })                };                });            </script>        </div>"
      ]
     },
     "metadata": {},
     "output_type": "display_data"
    }
   ],
   "source": [
    "fig_monthly_sales_volume = px.bar(monthly_sales_volume, x=\"實際出貨日\", y=\"銷售數量\", color=\"大通路\", text=\"銷售數量\")\n",
    "fig_monthly_sales_volume.show()"
   ]
  },
  {
   "cell_type": "code",
   "execution_count": 61,
   "id": "92714565",
   "metadata": {},
   "outputs": [],
   "source": [
    "customer_purchase = df.groupby([pd.Grouper(key=\"實際出貨日\", freq=\"MS\"), \"客戶名稱\"])[[\"銷售數量\"]].sum().reset_index()"
   ]
  },
  {
   "cell_type": "code",
   "execution_count": 71,
   "id": "4c379a84",
   "metadata": {
    "scrolled": false
   },
   "outputs": [
    {
     "data": {
      "text/html": [
       "<div>\n",
       "<style scoped>\n",
       "    .dataframe tbody tr th:only-of-type {\n",
       "        vertical-align: middle;\n",
       "    }\n",
       "\n",
       "    .dataframe tbody tr th {\n",
       "        vertical-align: top;\n",
       "    }\n",
       "\n",
       "    .dataframe thead th {\n",
       "        text-align: right;\n",
       "    }\n",
       "</style>\n",
       "<table border=\"1\" class=\"dataframe\">\n",
       "  <thead>\n",
       "    <tr style=\"text-align: right;\">\n",
       "      <th>實際出貨日</th>\n",
       "      <th>2021-01-01</th>\n",
       "      <th>2021-02-01</th>\n",
       "      <th>2021-03-01</th>\n",
       "      <th>2021-04-01</th>\n",
       "      <th>2021-05-01</th>\n",
       "      <th>2021-06-01</th>\n",
       "      <th>2021-07-01</th>\n",
       "      <th>2021-08-01</th>\n",
       "      <th>2021-09-01</th>\n",
       "      <th>2021-10-01</th>\n",
       "      <th>2021-11-01</th>\n",
       "      <th>2021-12-01</th>\n",
       "      <th>2022-01-01</th>\n",
       "      <th>2022-02-01</th>\n",
       "      <th>2022-03-01</th>\n",
       "      <th>2022-04-01</th>\n",
       "    </tr>\n",
       "    <tr>\n",
       "      <th>客戶名稱</th>\n",
       "      <th></th>\n",
       "      <th></th>\n",
       "      <th></th>\n",
       "      <th></th>\n",
       "      <th></th>\n",
       "      <th></th>\n",
       "      <th></th>\n",
       "      <th></th>\n",
       "      <th></th>\n",
       "      <th></th>\n",
       "      <th></th>\n",
       "      <th></th>\n",
       "      <th></th>\n",
       "      <th></th>\n",
       "      <th></th>\n",
       "      <th></th>\n",
       "    </tr>\n",
       "  </thead>\n",
       "  <tbody>\n",
       "    <tr>\n",
       "      <th>一路發國際物流股份有限公司</th>\n",
       "      <td>1</td>\n",
       "      <td>1</td>\n",
       "      <td>1</td>\n",
       "      <td>1</td>\n",
       "      <td>1</td>\n",
       "      <td>1</td>\n",
       "      <td>1</td>\n",
       "      <td>1</td>\n",
       "      <td>1</td>\n",
       "      <td>1</td>\n",
       "      <td>1</td>\n",
       "      <td>1</td>\n",
       "      <td>1</td>\n",
       "      <td>1</td>\n",
       "      <td>1</td>\n",
       "      <td>1</td>\n",
       "    </tr>\n",
       "    <tr>\n",
       "      <th>一進汽車貨運有限公司</th>\n",
       "      <td>0</td>\n",
       "      <td>0</td>\n",
       "      <td>0</td>\n",
       "      <td>1</td>\n",
       "      <td>1</td>\n",
       "      <td>0</td>\n",
       "      <td>0</td>\n",
       "      <td>1</td>\n",
       "      <td>0</td>\n",
       "      <td>0</td>\n",
       "      <td>0</td>\n",
       "      <td>1</td>\n",
       "      <td>1</td>\n",
       "      <td>0</td>\n",
       "      <td>0</td>\n",
       "      <td>0</td>\n",
       "    </tr>\n",
       "    <tr>\n",
       "      <th>七王通運股份有限公司</th>\n",
       "      <td>1</td>\n",
       "      <td>1</td>\n",
       "      <td>1</td>\n",
       "      <td>1</td>\n",
       "      <td>1</td>\n",
       "      <td>1</td>\n",
       "      <td>1</td>\n",
       "      <td>1</td>\n",
       "      <td>1</td>\n",
       "      <td>1</td>\n",
       "      <td>1</td>\n",
       "      <td>1</td>\n",
       "      <td>1</td>\n",
       "      <td>0</td>\n",
       "      <td>1</td>\n",
       "      <td>1</td>\n",
       "    </tr>\n",
       "    <tr>\n",
       "      <th>三和輪業有限公司(久揚)</th>\n",
       "      <td>1</td>\n",
       "      <td>1</td>\n",
       "      <td>1</td>\n",
       "      <td>1</td>\n",
       "      <td>1</td>\n",
       "      <td>1</td>\n",
       "      <td>1</td>\n",
       "      <td>1</td>\n",
       "      <td>1</td>\n",
       "      <td>1</td>\n",
       "      <td>1</td>\n",
       "      <td>1</td>\n",
       "      <td>1</td>\n",
       "      <td>1</td>\n",
       "      <td>1</td>\n",
       "      <td>1</td>\n",
       "    </tr>\n",
       "    <tr>\n",
       "      <th>三益輪胎行</th>\n",
       "      <td>0</td>\n",
       "      <td>0</td>\n",
       "      <td>0</td>\n",
       "      <td>0</td>\n",
       "      <td>0</td>\n",
       "      <td>0</td>\n",
       "      <td>0</td>\n",
       "      <td>0</td>\n",
       "      <td>0</td>\n",
       "      <td>1</td>\n",
       "      <td>0</td>\n",
       "      <td>0</td>\n",
       "      <td>0</td>\n",
       "      <td>0</td>\n",
       "      <td>0</td>\n",
       "      <td>0</td>\n",
       "    </tr>\n",
       "    <tr>\n",
       "      <th>...</th>\n",
       "      <td>...</td>\n",
       "      <td>...</td>\n",
       "      <td>...</td>\n",
       "      <td>...</td>\n",
       "      <td>...</td>\n",
       "      <td>...</td>\n",
       "      <td>...</td>\n",
       "      <td>...</td>\n",
       "      <td>...</td>\n",
       "      <td>...</td>\n",
       "      <td>...</td>\n",
       "      <td>...</td>\n",
       "      <td>...</td>\n",
       "      <td>...</td>\n",
       "      <td>...</td>\n",
       "      <td>...</td>\n",
       "    </tr>\n",
       "    <tr>\n",
       "      <th>鼎東汽車客運股份有限公司</th>\n",
       "      <td>0</td>\n",
       "      <td>0</td>\n",
       "      <td>1</td>\n",
       "      <td>0</td>\n",
       "      <td>0</td>\n",
       "      <td>0</td>\n",
       "      <td>0</td>\n",
       "      <td>0</td>\n",
       "      <td>0</td>\n",
       "      <td>0</td>\n",
       "      <td>1</td>\n",
       "      <td>0</td>\n",
       "      <td>0</td>\n",
       "      <td>0</td>\n",
       "      <td>0</td>\n",
       "      <td>0</td>\n",
       "    </tr>\n",
       "    <tr>\n",
       "      <th>鼎鑫輪胎行</th>\n",
       "      <td>1</td>\n",
       "      <td>1</td>\n",
       "      <td>1</td>\n",
       "      <td>1</td>\n",
       "      <td>1</td>\n",
       "      <td>1</td>\n",
       "      <td>1</td>\n",
       "      <td>1</td>\n",
       "      <td>1</td>\n",
       "      <td>0</td>\n",
       "      <td>1</td>\n",
       "      <td>1</td>\n",
       "      <td>1</td>\n",
       "      <td>1</td>\n",
       "      <td>1</td>\n",
       "      <td>0</td>\n",
       "    </tr>\n",
       "    <tr>\n",
       "      <th>龍城輪胎行</th>\n",
       "      <td>1</td>\n",
       "      <td>1</td>\n",
       "      <td>1</td>\n",
       "      <td>1</td>\n",
       "      <td>1</td>\n",
       "      <td>1</td>\n",
       "      <td>1</td>\n",
       "      <td>1</td>\n",
       "      <td>1</td>\n",
       "      <td>1</td>\n",
       "      <td>1</td>\n",
       "      <td>1</td>\n",
       "      <td>1</td>\n",
       "      <td>1</td>\n",
       "      <td>1</td>\n",
       "      <td>1</td>\n",
       "    </tr>\n",
       "    <tr>\n",
       "      <th>龍福</th>\n",
       "      <td>1</td>\n",
       "      <td>0</td>\n",
       "      <td>1</td>\n",
       "      <td>0</td>\n",
       "      <td>1</td>\n",
       "      <td>0</td>\n",
       "      <td>1</td>\n",
       "      <td>0</td>\n",
       "      <td>0</td>\n",
       "      <td>0</td>\n",
       "      <td>1</td>\n",
       "      <td>0</td>\n",
       "      <td>1</td>\n",
       "      <td>1</td>\n",
       "      <td>0</td>\n",
       "      <td>1</td>\n",
       "    </tr>\n",
       "    <tr>\n",
       "      <th>龍翔貨櫃運輸股份有限公司</th>\n",
       "      <td>0</td>\n",
       "      <td>0</td>\n",
       "      <td>0</td>\n",
       "      <td>0</td>\n",
       "      <td>0</td>\n",
       "      <td>0</td>\n",
       "      <td>1</td>\n",
       "      <td>0</td>\n",
       "      <td>0</td>\n",
       "      <td>0</td>\n",
       "      <td>0</td>\n",
       "      <td>0</td>\n",
       "      <td>0</td>\n",
       "      <td>0</td>\n",
       "      <td>1</td>\n",
       "      <td>0</td>\n",
       "    </tr>\n",
       "  </tbody>\n",
       "</table>\n",
       "<p>590 rows × 16 columns</p>\n",
       "</div>"
      ],
      "text/plain": [
       "實際出貨日          2021-01-01  2021-02-01  2021-03-01  2021-04-01  2021-05-01  \\\n",
       "客戶名稱                                                                        \n",
       "一路發國際物流股份有限公司           1           1           1           1           1   \n",
       "一進汽車貨運有限公司              0           0           0           1           1   \n",
       "七王通運股份有限公司              1           1           1           1           1   \n",
       "三和輪業有限公司(久揚)            1           1           1           1           1   \n",
       "三益輪胎行                   0           0           0           0           0   \n",
       "...                   ...         ...         ...         ...         ...   \n",
       "鼎東汽車客運股份有限公司            0           0           1           0           0   \n",
       "鼎鑫輪胎行                   1           1           1           1           1   \n",
       "龍城輪胎行                   1           1           1           1           1   \n",
       "龍福                      1           0           1           0           1   \n",
       "龍翔貨櫃運輸股份有限公司            0           0           0           0           0   \n",
       "\n",
       "實際出貨日          2021-06-01  2021-07-01  2021-08-01  2021-09-01  2021-10-01  \\\n",
       "客戶名稱                                                                        \n",
       "一路發國際物流股份有限公司           1           1           1           1           1   \n",
       "一進汽車貨運有限公司              0           0           1           0           0   \n",
       "七王通運股份有限公司              1           1           1           1           1   \n",
       "三和輪業有限公司(久揚)            1           1           1           1           1   \n",
       "三益輪胎行                   0           0           0           0           1   \n",
       "...                   ...         ...         ...         ...         ...   \n",
       "鼎東汽車客運股份有限公司            0           0           0           0           0   \n",
       "鼎鑫輪胎行                   1           1           1           1           0   \n",
       "龍城輪胎行                   1           1           1           1           1   \n",
       "龍福                      0           1           0           0           0   \n",
       "龍翔貨櫃運輸股份有限公司            0           1           0           0           0   \n",
       "\n",
       "實際出貨日          2021-11-01  2021-12-01  2022-01-01  2022-02-01  2022-03-01  \\\n",
       "客戶名稱                                                                        \n",
       "一路發國際物流股份有限公司           1           1           1           1           1   \n",
       "一進汽車貨運有限公司              0           1           1           0           0   \n",
       "七王通運股份有限公司              1           1           1           0           1   \n",
       "三和輪業有限公司(久揚)            1           1           1           1           1   \n",
       "三益輪胎行                   0           0           0           0           0   \n",
       "...                   ...         ...         ...         ...         ...   \n",
       "鼎東汽車客運股份有限公司            1           0           0           0           0   \n",
       "鼎鑫輪胎行                   1           1           1           1           1   \n",
       "龍城輪胎行                   1           1           1           1           1   \n",
       "龍福                      1           0           1           1           0   \n",
       "龍翔貨櫃運輸股份有限公司            0           0           0           0           1   \n",
       "\n",
       "實際出貨日          2022-04-01  \n",
       "客戶名稱                       \n",
       "一路發國際物流股份有限公司           1  \n",
       "一進汽車貨運有限公司              0  \n",
       "七王通運股份有限公司              1  \n",
       "三和輪業有限公司(久揚)            1  \n",
       "三益輪胎行                   0  \n",
       "...                   ...  \n",
       "鼎東汽車客運股份有限公司            0  \n",
       "鼎鑫輪胎行                   0  \n",
       "龍城輪胎行                   1  \n",
       "龍福                      1  \n",
       "龍翔貨櫃運輸股份有限公司            0  \n",
       "\n",
       "[590 rows x 16 columns]"
      ]
     },
     "execution_count": 71,
     "metadata": {},
     "output_type": "execute_result"
    }
   ],
   "source": [
    "pd.crosstab(customer_purchase[\"客戶名稱\"], customer_purchase[\"實際出貨日\"])"
   ]
  },
  {
   "cell_type": "code",
   "execution_count": 76,
   "id": "5fb8e91e",
   "metadata": {},
   "outputs": [],
   "source": [
    "import keras\n",
    "from keras.layers import Dense\n",
    "from keras.models import Sequential\n",
    "from tensorflow.keras.optimizers import Adam\n",
    "from keras.callbacks import EarlyStopping\n",
    "from keras.utils import np_utils\n",
    "from keras.layers import LSTM\n",
    "from sklearn.model_selection import KFold, cross_val_score, train_test_split"
   ]
  },
  {
   "cell_type": "code",
   "execution_count": 162,
   "id": "abf8d854",
   "metadata": {},
   "outputs": [],
   "source": [
    "df_sales = df.groupby(\"實際出貨日\")[[\"銷售數量\"]].sum().reset_index()"
   ]
  },
  {
   "cell_type": "code",
   "execution_count": 163,
   "id": "a8fd7ad1",
   "metadata": {},
   "outputs": [],
   "source": [
    "plot_data = [go.Scatter(x=df_sales[\"實際出貨日\"], y=df_sales[\"銷售數量\"],)]"
   ]
  },
  {
   "cell_type": "code",
   "execution_count": 164,
   "id": "c5defd05",
   "metadata": {},
   "outputs": [],
   "source": [
    "fig = go.Figure(data=plot_data)"
   ]
  },
  {
   "cell_type": "code",
   "execution_count": 165,
   "id": "0c6d3c3a",
   "metadata": {},
   "outputs": [
    {
     "data": {
      "application/vnd.plotly.v1+json": {
       "config": {
        "plotlyServerURL": "https://plot.ly"
       },
       "data": [
        {
         "type": "scatter",
         "x": [
          "2021-01-04T00:00:00",
          "2021-01-05T00:00:00",
          "2021-01-06T00:00:00",
          "2021-01-07T00:00:00",
          "2021-01-08T00:00:00",
          "2021-01-09T00:00:00",
          "2021-01-11T00:00:00",
          "2021-01-12T00:00:00",
          "2021-01-13T00:00:00",
          "2021-01-14T00:00:00",
          "2021-01-15T00:00:00",
          "2021-01-16T00:00:00",
          "2021-01-18T00:00:00",
          "2021-01-19T00:00:00",
          "2021-01-20T00:00:00",
          "2021-01-21T00:00:00",
          "2021-01-22T00:00:00",
          "2021-01-23T00:00:00",
          "2021-01-25T00:00:00",
          "2021-01-26T00:00:00",
          "2021-01-27T00:00:00",
          "2021-01-28T00:00:00",
          "2021-01-29T00:00:00",
          "2021-01-30T00:00:00",
          "2021-02-01T00:00:00",
          "2021-02-02T00:00:00",
          "2021-02-03T00:00:00",
          "2021-02-04T00:00:00",
          "2021-02-05T00:00:00",
          "2021-02-06T00:00:00",
          "2021-02-07T00:00:00",
          "2021-02-08T00:00:00",
          "2021-02-09T00:00:00",
          "2021-02-10T00:00:00",
          "2021-02-17T00:00:00",
          "2021-02-18T00:00:00",
          "2021-02-19T00:00:00",
          "2021-02-20T00:00:00",
          "2021-02-22T00:00:00",
          "2021-02-23T00:00:00",
          "2021-02-24T00:00:00",
          "2021-02-25T00:00:00",
          "2021-02-26T00:00:00",
          "2021-02-27T00:00:00",
          "2021-02-28T00:00:00",
          "2021-03-01T00:00:00",
          "2021-03-02T00:00:00",
          "2021-03-03T00:00:00",
          "2021-03-04T00:00:00",
          "2021-03-05T00:00:00",
          "2021-03-08T00:00:00",
          "2021-03-09T00:00:00",
          "2021-03-10T00:00:00",
          "2021-03-11T00:00:00",
          "2021-03-12T00:00:00",
          "2021-03-13T00:00:00",
          "2021-03-15T00:00:00",
          "2021-03-16T00:00:00",
          "2021-03-17T00:00:00",
          "2021-03-18T00:00:00",
          "2021-03-19T00:00:00",
          "2021-03-20T00:00:00",
          "2021-03-22T00:00:00",
          "2021-03-23T00:00:00",
          "2021-03-24T00:00:00",
          "2021-03-25T00:00:00",
          "2021-03-26T00:00:00",
          "2021-03-27T00:00:00",
          "2021-03-29T00:00:00",
          "2021-03-30T00:00:00",
          "2021-03-31T00:00:00",
          "2021-04-01T00:00:00",
          "2021-04-02T00:00:00",
          "2021-04-05T00:00:00",
          "2021-04-06T00:00:00",
          "2021-04-07T00:00:00",
          "2021-04-08T00:00:00",
          "2021-04-09T00:00:00",
          "2021-04-10T00:00:00",
          "2021-04-12T00:00:00",
          "2021-04-13T00:00:00",
          "2021-04-14T00:00:00",
          "2021-04-15T00:00:00",
          "2021-04-16T00:00:00",
          "2021-04-17T00:00:00",
          "2021-04-19T00:00:00",
          "2021-04-20T00:00:00",
          "2021-04-21T00:00:00",
          "2021-04-22T00:00:00",
          "2021-04-23T00:00:00",
          "2021-04-24T00:00:00",
          "2021-04-26T00:00:00",
          "2021-04-27T00:00:00",
          "2021-04-28T00:00:00",
          "2021-04-29T00:00:00",
          "2021-04-30T00:00:00",
          "2021-05-03T00:00:00",
          "2021-05-04T00:00:00",
          "2021-05-05T00:00:00",
          "2021-05-06T00:00:00",
          "2021-05-07T00:00:00",
          "2021-05-08T00:00:00",
          "2021-05-10T00:00:00",
          "2021-05-11T00:00:00",
          "2021-05-12T00:00:00",
          "2021-05-13T00:00:00",
          "2021-05-14T00:00:00",
          "2021-05-15T00:00:00",
          "2021-05-17T00:00:00",
          "2021-05-18T00:00:00",
          "2021-05-19T00:00:00",
          "2021-05-20T00:00:00",
          "2021-05-21T00:00:00",
          "2021-05-22T00:00:00",
          "2021-05-24T00:00:00",
          "2021-05-25T00:00:00",
          "2021-05-26T00:00:00",
          "2021-05-27T00:00:00",
          "2021-05-28T00:00:00",
          "2021-05-29T00:00:00",
          "2021-05-31T00:00:00",
          "2021-06-01T00:00:00",
          "2021-06-02T00:00:00",
          "2021-06-03T00:00:00",
          "2021-06-04T00:00:00",
          "2021-06-05T00:00:00",
          "2021-06-07T00:00:00",
          "2021-06-08T00:00:00",
          "2021-06-09T00:00:00",
          "2021-06-10T00:00:00",
          "2021-06-11T00:00:00",
          "2021-06-12T00:00:00",
          "2021-06-15T00:00:00",
          "2021-06-16T00:00:00",
          "2021-06-17T00:00:00",
          "2021-06-18T00:00:00",
          "2021-06-19T00:00:00",
          "2021-06-21T00:00:00",
          "2021-06-22T00:00:00",
          "2021-06-23T00:00:00",
          "2021-06-24T00:00:00",
          "2021-06-25T00:00:00",
          "2021-06-26T00:00:00",
          "2021-06-28T00:00:00",
          "2021-06-29T00:00:00",
          "2021-06-30T00:00:00",
          "2021-07-01T00:00:00",
          "2021-07-02T00:00:00",
          "2021-07-03T00:00:00",
          "2021-07-05T00:00:00",
          "2021-07-06T00:00:00",
          "2021-07-07T00:00:00",
          "2021-07-08T00:00:00",
          "2021-07-09T00:00:00",
          "2021-07-10T00:00:00",
          "2021-07-12T00:00:00",
          "2021-07-13T00:00:00",
          "2021-07-14T00:00:00",
          "2021-07-15T00:00:00",
          "2021-07-16T00:00:00",
          "2021-07-17T00:00:00",
          "2021-07-19T00:00:00",
          "2021-07-20T00:00:00",
          "2021-07-21T00:00:00",
          "2021-07-22T00:00:00",
          "2021-07-23T00:00:00",
          "2021-07-24T00:00:00",
          "2021-07-26T00:00:00",
          "2021-07-27T00:00:00",
          "2021-07-28T00:00:00",
          "2021-07-29T00:00:00",
          "2021-07-30T00:00:00",
          "2021-07-31T00:00:00",
          "2021-08-02T00:00:00",
          "2021-08-03T00:00:00",
          "2021-08-04T00:00:00",
          "2021-08-05T00:00:00",
          "2021-08-06T00:00:00",
          "2021-08-07T00:00:00",
          "2021-08-09T00:00:00",
          "2021-08-10T00:00:00",
          "2021-08-11T00:00:00",
          "2021-08-12T00:00:00",
          "2021-08-13T00:00:00",
          "2021-08-14T00:00:00",
          "2021-08-16T00:00:00",
          "2021-08-17T00:00:00",
          "2021-08-18T00:00:00",
          "2021-08-19T00:00:00",
          "2021-08-20T00:00:00",
          "2021-08-21T00:00:00",
          "2021-08-23T00:00:00",
          "2021-08-24T00:00:00",
          "2021-08-25T00:00:00",
          "2021-08-26T00:00:00",
          "2021-08-27T00:00:00",
          "2021-08-28T00:00:00",
          "2021-08-30T00:00:00",
          "2021-08-31T00:00:00",
          "2021-09-01T00:00:00",
          "2021-09-02T00:00:00",
          "2021-09-03T00:00:00",
          "2021-09-04T00:00:00",
          "2021-09-06T00:00:00",
          "2021-09-07T00:00:00",
          "2021-09-08T00:00:00",
          "2021-09-09T00:00:00",
          "2021-09-10T00:00:00",
          "2021-09-11T00:00:00",
          "2021-09-13T00:00:00",
          "2021-09-14T00:00:00",
          "2021-09-15T00:00:00",
          "2021-09-16T00:00:00",
          "2021-09-17T00:00:00",
          "2021-09-18T00:00:00",
          "2021-09-20T00:00:00",
          "2021-09-22T00:00:00",
          "2021-09-23T00:00:00",
          "2021-09-24T00:00:00",
          "2021-09-25T00:00:00",
          "2021-09-27T00:00:00",
          "2021-09-28T00:00:00",
          "2021-09-29T00:00:00",
          "2021-09-30T00:00:00",
          "2021-10-01T00:00:00",
          "2021-10-02T00:00:00",
          "2021-10-04T00:00:00",
          "2021-10-05T00:00:00",
          "2021-10-06T00:00:00",
          "2021-10-07T00:00:00",
          "2021-10-08T00:00:00",
          "2021-10-12T00:00:00",
          "2021-10-13T00:00:00",
          "2021-10-14T00:00:00",
          "2021-10-15T00:00:00",
          "2021-10-16T00:00:00",
          "2021-10-18T00:00:00",
          "2021-10-19T00:00:00",
          "2021-10-20T00:00:00",
          "2021-10-21T00:00:00",
          "2021-10-22T00:00:00",
          "2021-10-23T00:00:00",
          "2021-10-25T00:00:00",
          "2021-10-26T00:00:00",
          "2021-10-27T00:00:00",
          "2021-10-28T00:00:00",
          "2021-10-29T00:00:00",
          "2021-10-30T00:00:00",
          "2021-10-31T00:00:00",
          "2021-11-01T00:00:00",
          "2021-11-02T00:00:00",
          "2021-11-03T00:00:00",
          "2021-11-04T00:00:00",
          "2021-11-05T00:00:00",
          "2021-11-06T00:00:00",
          "2021-11-08T00:00:00",
          "2021-11-09T00:00:00",
          "2021-11-10T00:00:00",
          "2021-11-11T00:00:00",
          "2021-11-12T00:00:00",
          "2021-11-13T00:00:00",
          "2021-11-15T00:00:00",
          "2021-11-16T00:00:00",
          "2021-11-17T00:00:00",
          "2021-11-18T00:00:00",
          "2021-11-19T00:00:00",
          "2021-11-20T00:00:00",
          "2021-11-22T00:00:00",
          "2021-11-23T00:00:00",
          "2021-11-24T00:00:00",
          "2021-11-25T00:00:00",
          "2021-11-26T00:00:00",
          "2021-11-27T00:00:00",
          "2021-11-29T00:00:00",
          "2021-11-30T00:00:00",
          "2021-12-01T00:00:00",
          "2021-12-02T00:00:00",
          "2021-12-03T00:00:00",
          "2021-12-04T00:00:00",
          "2021-12-06T00:00:00",
          "2021-12-07T00:00:00",
          "2021-12-08T00:00:00",
          "2021-12-09T00:00:00",
          "2021-12-10T00:00:00",
          "2021-12-11T00:00:00",
          "2021-12-13T00:00:00",
          "2021-12-14T00:00:00",
          "2021-12-15T00:00:00",
          "2021-12-16T00:00:00",
          "2021-12-17T00:00:00",
          "2021-12-19T00:00:00",
          "2021-12-20T00:00:00",
          "2021-12-21T00:00:00",
          "2021-12-22T00:00:00",
          "2021-12-23T00:00:00",
          "2021-12-24T00:00:00",
          "2021-12-25T00:00:00",
          "2021-12-27T00:00:00",
          "2021-12-28T00:00:00",
          "2021-12-29T00:00:00",
          "2021-12-30T00:00:00",
          "2021-12-31T00:00:00",
          "2022-01-03T00:00:00",
          "2022-01-04T00:00:00",
          "2022-01-05T00:00:00",
          "2022-01-06T00:00:00",
          "2022-01-07T00:00:00",
          "2022-01-08T00:00:00",
          "2022-01-10T00:00:00",
          "2022-01-11T00:00:00",
          "2022-01-12T00:00:00",
          "2022-01-13T00:00:00",
          "2022-01-14T00:00:00",
          "2022-01-15T00:00:00",
          "2022-01-17T00:00:00",
          "2022-01-18T00:00:00",
          "2022-01-19T00:00:00",
          "2022-01-20T00:00:00",
          "2022-01-21T00:00:00",
          "2022-01-22T00:00:00",
          "2022-01-23T00:00:00",
          "2022-01-24T00:00:00",
          "2022-01-25T00:00:00",
          "2022-01-26T00:00:00",
          "2022-01-27T00:00:00",
          "2022-01-28T00:00:00",
          "2022-01-29T00:00:00",
          "2022-02-07T00:00:00",
          "2022-02-08T00:00:00",
          "2022-02-09T00:00:00",
          "2022-02-10T00:00:00",
          "2022-02-11T00:00:00",
          "2022-02-12T00:00:00",
          "2022-02-14T00:00:00",
          "2022-02-15T00:00:00",
          "2022-02-16T00:00:00",
          "2022-02-17T00:00:00",
          "2022-02-18T00:00:00",
          "2022-02-19T00:00:00",
          "2022-02-21T00:00:00",
          "2022-02-22T00:00:00",
          "2022-02-23T00:00:00",
          "2022-02-24T00:00:00",
          "2022-02-25T00:00:00",
          "2022-02-26T00:00:00",
          "2022-03-01T00:00:00",
          "2022-03-02T00:00:00",
          "2022-03-03T00:00:00",
          "2022-03-04T00:00:00",
          "2022-03-07T00:00:00",
          "2022-03-08T00:00:00",
          "2022-03-09T00:00:00",
          "2022-03-10T00:00:00",
          "2022-03-11T00:00:00",
          "2022-03-12T00:00:00",
          "2022-03-14T00:00:00",
          "2022-03-15T00:00:00",
          "2022-03-16T00:00:00",
          "2022-03-17T00:00:00",
          "2022-03-18T00:00:00",
          "2022-03-19T00:00:00",
          "2022-03-21T00:00:00",
          "2022-03-22T00:00:00",
          "2022-03-23T00:00:00",
          "2022-03-24T00:00:00",
          "2022-03-25T00:00:00",
          "2022-03-26T00:00:00",
          "2022-03-28T00:00:00",
          "2022-03-29T00:00:00",
          "2022-03-30T00:00:00",
          "2022-03-31T00:00:00",
          "2022-04-01T00:00:00",
          "2022-04-06T00:00:00",
          "2022-04-07T00:00:00",
          "2022-04-08T00:00:00",
          "2022-04-09T00:00:00",
          "2022-04-11T00:00:00",
          "2022-04-12T00:00:00",
          "2022-04-13T00:00:00",
          "2022-04-14T00:00:00",
          "2022-04-15T00:00:00",
          "2022-04-16T00:00:00",
          "2022-04-18T00:00:00",
          "2022-04-19T00:00:00",
          "2022-04-20T00:00:00",
          "2022-04-21T00:00:00",
          "2022-04-22T00:00:00",
          "2022-04-23T00:00:00",
          "2022-04-25T00:00:00",
          "2022-04-26T00:00:00",
          "2022-04-27T00:00:00",
          "2022-04-28T00:00:00",
          "2022-04-29T00:00:00",
          "2022-04-30T00:00:00"
         ],
         "y": [
          732,
          599,
          576,
          328,
          504,
          34,
          561,
          337,
          555,
          386,
          304,
          39,
          335,
          553,
          652,
          551,
          487,
          43,
          435,
          366,
          365,
          610,
          1140,
          376,
          318,
          525,
          486,
          371,
          354,
          193,
          23,
          384,
          304,
          156,
          82,
          429,
          257,
          108,
          415,
          540,
          867,
          500,
          1001,
          891,
          22,
          30,
          984,
          524,
          312,
          325,
          317,
          332,
          322,
          531,
          316,
          20,
          581,
          386,
          592,
          941,
          816,
          28,
          629,
          556,
          1136,
          689,
          891,
          190,
          1735,
          1444,
          1564,
          222,
          71,
          31,
          701,
          442,
          458,
          225,
          57,
          136,
          533,
          435,
          259,
          273,
          6,
          433,
          591,
          479,
          725,
          430,
          30,
          773,
          492,
          585,
          509,
          504,
          763,
          226,
          673,
          233,
          538,
          76,
          626,
          456,
          459,
          276,
          360,
          27,
          1112,
          432,
          334,
          655,
          507,
          84,
          279,
          713,
          371,
          554,
          532,
          6,
          817,
          360,
          524,
          708,
          348,
          60,
          216,
          569,
          164,
          928,
          538,
          23,
          349,
          515,
          348,
          1011,
          46,
          251,
          546,
          395,
          421,
          372,
          22,
          528,
          603,
          926,
          748,
          279,
          25,
          502,
          186,
          224,
          426,
          390,
          68,
          380,
          265,
          463,
          477,
          397,
          22,
          655,
          266,
          525,
          553,
          730,
          4,
          556,
          662,
          503,
          580,
          552,
          990,
          730,
          511,
          303,
          486,
          493,
          90,
          275,
          566,
          582,
          679,
          310,
          28,
          518,
          218,
          820,
          320,
          490,
          22,
          580,
          376,
          731,
          760,
          439,
          36,
          904,
          2756,
          534,
          361,
          290,
          33,
          528,
          535,
          912,
          826,
          864,
          72,
          794,
          629,
          940,
          897,
          519,
          23,
          142,
          648,
          530,
          460,
          30,
          1328,
          878,
          1058,
          2000,
          455,
          3,
          306,
          302,
          528,
          162,
          276,
          321,
          430,
          338,
          262,
          39,
          408,
          406,
          354,
          681,
          446,
          23,
          274,
          368,
          218,
          666,
          941,
          396,
          1,
          531,
          383,
          393,
          366,
          414,
          56,
          244,
          395,
          373,
          213,
          344,
          158,
          519,
          440,
          689,
          593,
          438,
          44,
          700,
          579,
          430,
          283,
          287,
          18,
          1155,
          1527,
          698,
          285,
          189,
          51,
          308,
          312,
          302,
          386,
          410,
          43,
          258,
          689,
          294,
          355,
          376,
          2,
          435,
          383,
          496,
          347,
          204,
          11,
          289,
          500,
          714,
          1051,
          472,
          466,
          706,
          323,
          399,
          685,
          14,
          346,
          269,
          374,
          350,
          387,
          26,
          527,
          799,
          613,
          351,
          802,
          47,
          27,
          562,
          392,
          845,
          507,
          683,
          725,
          418,
          235,
          287,
          427,
          275,
          66,
          658,
          249,
          486,
          529,
          1196,
          34,
          969,
          1239,
          1368,
          1389,
          1441,
          965,
          241,
          237,
          73,
          337,
          284,
          156,
          346,
          289,
          349,
          12,
          315,
          707,
          369,
          444,
          394,
          40,
          217,
          708,
          431,
          1203,
          573,
          8,
          712,
          921,
          968,
          1608,
          569,
          182,
          208,
          187,
          8,
          262,
          156,
          241,
          544,
          130,
          20,
          225,
          197,
          377,
          367,
          338,
          5,
          129,
          311,
          566,
          611,
          873,
          313
         ]
        }
       ],
       "layout": {
        "template": {
         "data": {
          "bar": [
           {
            "error_x": {
             "color": "#2a3f5f"
            },
            "error_y": {
             "color": "#2a3f5f"
            },
            "marker": {
             "line": {
              "color": "#E5ECF6",
              "width": 0.5
             },
             "pattern": {
              "fillmode": "overlay",
              "size": 10,
              "solidity": 0.2
             }
            },
            "type": "bar"
           }
          ],
          "barpolar": [
           {
            "marker": {
             "line": {
              "color": "#E5ECF6",
              "width": 0.5
             },
             "pattern": {
              "fillmode": "overlay",
              "size": 10,
              "solidity": 0.2
             }
            },
            "type": "barpolar"
           }
          ],
          "carpet": [
           {
            "aaxis": {
             "endlinecolor": "#2a3f5f",
             "gridcolor": "white",
             "linecolor": "white",
             "minorgridcolor": "white",
             "startlinecolor": "#2a3f5f"
            },
            "baxis": {
             "endlinecolor": "#2a3f5f",
             "gridcolor": "white",
             "linecolor": "white",
             "minorgridcolor": "white",
             "startlinecolor": "#2a3f5f"
            },
            "type": "carpet"
           }
          ],
          "choropleth": [
           {
            "colorbar": {
             "outlinewidth": 0,
             "ticks": ""
            },
            "type": "choropleth"
           }
          ],
          "contour": [
           {
            "colorbar": {
             "outlinewidth": 0,
             "ticks": ""
            },
            "colorscale": [
             [
              0,
              "#0d0887"
             ],
             [
              0.1111111111111111,
              "#46039f"
             ],
             [
              0.2222222222222222,
              "#7201a8"
             ],
             [
              0.3333333333333333,
              "#9c179e"
             ],
             [
              0.4444444444444444,
              "#bd3786"
             ],
             [
              0.5555555555555556,
              "#d8576b"
             ],
             [
              0.6666666666666666,
              "#ed7953"
             ],
             [
              0.7777777777777778,
              "#fb9f3a"
             ],
             [
              0.8888888888888888,
              "#fdca26"
             ],
             [
              1,
              "#f0f921"
             ]
            ],
            "type": "contour"
           }
          ],
          "contourcarpet": [
           {
            "colorbar": {
             "outlinewidth": 0,
             "ticks": ""
            },
            "type": "contourcarpet"
           }
          ],
          "heatmap": [
           {
            "colorbar": {
             "outlinewidth": 0,
             "ticks": ""
            },
            "colorscale": [
             [
              0,
              "#0d0887"
             ],
             [
              0.1111111111111111,
              "#46039f"
             ],
             [
              0.2222222222222222,
              "#7201a8"
             ],
             [
              0.3333333333333333,
              "#9c179e"
             ],
             [
              0.4444444444444444,
              "#bd3786"
             ],
             [
              0.5555555555555556,
              "#d8576b"
             ],
             [
              0.6666666666666666,
              "#ed7953"
             ],
             [
              0.7777777777777778,
              "#fb9f3a"
             ],
             [
              0.8888888888888888,
              "#fdca26"
             ],
             [
              1,
              "#f0f921"
             ]
            ],
            "type": "heatmap"
           }
          ],
          "heatmapgl": [
           {
            "colorbar": {
             "outlinewidth": 0,
             "ticks": ""
            },
            "colorscale": [
             [
              0,
              "#0d0887"
             ],
             [
              0.1111111111111111,
              "#46039f"
             ],
             [
              0.2222222222222222,
              "#7201a8"
             ],
             [
              0.3333333333333333,
              "#9c179e"
             ],
             [
              0.4444444444444444,
              "#bd3786"
             ],
             [
              0.5555555555555556,
              "#d8576b"
             ],
             [
              0.6666666666666666,
              "#ed7953"
             ],
             [
              0.7777777777777778,
              "#fb9f3a"
             ],
             [
              0.8888888888888888,
              "#fdca26"
             ],
             [
              1,
              "#f0f921"
             ]
            ],
            "type": "heatmapgl"
           }
          ],
          "histogram": [
           {
            "marker": {
             "pattern": {
              "fillmode": "overlay",
              "size": 10,
              "solidity": 0.2
             }
            },
            "type": "histogram"
           }
          ],
          "histogram2d": [
           {
            "colorbar": {
             "outlinewidth": 0,
             "ticks": ""
            },
            "colorscale": [
             [
              0,
              "#0d0887"
             ],
             [
              0.1111111111111111,
              "#46039f"
             ],
             [
              0.2222222222222222,
              "#7201a8"
             ],
             [
              0.3333333333333333,
              "#9c179e"
             ],
             [
              0.4444444444444444,
              "#bd3786"
             ],
             [
              0.5555555555555556,
              "#d8576b"
             ],
             [
              0.6666666666666666,
              "#ed7953"
             ],
             [
              0.7777777777777778,
              "#fb9f3a"
             ],
             [
              0.8888888888888888,
              "#fdca26"
             ],
             [
              1,
              "#f0f921"
             ]
            ],
            "type": "histogram2d"
           }
          ],
          "histogram2dcontour": [
           {
            "colorbar": {
             "outlinewidth": 0,
             "ticks": ""
            },
            "colorscale": [
             [
              0,
              "#0d0887"
             ],
             [
              0.1111111111111111,
              "#46039f"
             ],
             [
              0.2222222222222222,
              "#7201a8"
             ],
             [
              0.3333333333333333,
              "#9c179e"
             ],
             [
              0.4444444444444444,
              "#bd3786"
             ],
             [
              0.5555555555555556,
              "#d8576b"
             ],
             [
              0.6666666666666666,
              "#ed7953"
             ],
             [
              0.7777777777777778,
              "#fb9f3a"
             ],
             [
              0.8888888888888888,
              "#fdca26"
             ],
             [
              1,
              "#f0f921"
             ]
            ],
            "type": "histogram2dcontour"
           }
          ],
          "mesh3d": [
           {
            "colorbar": {
             "outlinewidth": 0,
             "ticks": ""
            },
            "type": "mesh3d"
           }
          ],
          "parcoords": [
           {
            "line": {
             "colorbar": {
              "outlinewidth": 0,
              "ticks": ""
             }
            },
            "type": "parcoords"
           }
          ],
          "pie": [
           {
            "automargin": true,
            "type": "pie"
           }
          ],
          "scatter": [
           {
            "marker": {
             "colorbar": {
              "outlinewidth": 0,
              "ticks": ""
             }
            },
            "type": "scatter"
           }
          ],
          "scatter3d": [
           {
            "line": {
             "colorbar": {
              "outlinewidth": 0,
              "ticks": ""
             }
            },
            "marker": {
             "colorbar": {
              "outlinewidth": 0,
              "ticks": ""
             }
            },
            "type": "scatter3d"
           }
          ],
          "scattercarpet": [
           {
            "marker": {
             "colorbar": {
              "outlinewidth": 0,
              "ticks": ""
             }
            },
            "type": "scattercarpet"
           }
          ],
          "scattergeo": [
           {
            "marker": {
             "colorbar": {
              "outlinewidth": 0,
              "ticks": ""
             }
            },
            "type": "scattergeo"
           }
          ],
          "scattergl": [
           {
            "marker": {
             "colorbar": {
              "outlinewidth": 0,
              "ticks": ""
             }
            },
            "type": "scattergl"
           }
          ],
          "scattermapbox": [
           {
            "marker": {
             "colorbar": {
              "outlinewidth": 0,
              "ticks": ""
             }
            },
            "type": "scattermapbox"
           }
          ],
          "scatterpolar": [
           {
            "marker": {
             "colorbar": {
              "outlinewidth": 0,
              "ticks": ""
             }
            },
            "type": "scatterpolar"
           }
          ],
          "scatterpolargl": [
           {
            "marker": {
             "colorbar": {
              "outlinewidth": 0,
              "ticks": ""
             }
            },
            "type": "scatterpolargl"
           }
          ],
          "scatterternary": [
           {
            "marker": {
             "colorbar": {
              "outlinewidth": 0,
              "ticks": ""
             }
            },
            "type": "scatterternary"
           }
          ],
          "surface": [
           {
            "colorbar": {
             "outlinewidth": 0,
             "ticks": ""
            },
            "colorscale": [
             [
              0,
              "#0d0887"
             ],
             [
              0.1111111111111111,
              "#46039f"
             ],
             [
              0.2222222222222222,
              "#7201a8"
             ],
             [
              0.3333333333333333,
              "#9c179e"
             ],
             [
              0.4444444444444444,
              "#bd3786"
             ],
             [
              0.5555555555555556,
              "#d8576b"
             ],
             [
              0.6666666666666666,
              "#ed7953"
             ],
             [
              0.7777777777777778,
              "#fb9f3a"
             ],
             [
              0.8888888888888888,
              "#fdca26"
             ],
             [
              1,
              "#f0f921"
             ]
            ],
            "type": "surface"
           }
          ],
          "table": [
           {
            "cells": {
             "fill": {
              "color": "#EBF0F8"
             },
             "line": {
              "color": "white"
             }
            },
            "header": {
             "fill": {
              "color": "#C8D4E3"
             },
             "line": {
              "color": "white"
             }
            },
            "type": "table"
           }
          ]
         },
         "layout": {
          "annotationdefaults": {
           "arrowcolor": "#2a3f5f",
           "arrowhead": 0,
           "arrowwidth": 1
          },
          "autotypenumbers": "strict",
          "coloraxis": {
           "colorbar": {
            "outlinewidth": 0,
            "ticks": ""
           }
          },
          "colorscale": {
           "diverging": [
            [
             0,
             "#8e0152"
            ],
            [
             0.1,
             "#c51b7d"
            ],
            [
             0.2,
             "#de77ae"
            ],
            [
             0.3,
             "#f1b6da"
            ],
            [
             0.4,
             "#fde0ef"
            ],
            [
             0.5,
             "#f7f7f7"
            ],
            [
             0.6,
             "#e6f5d0"
            ],
            [
             0.7,
             "#b8e186"
            ],
            [
             0.8,
             "#7fbc41"
            ],
            [
             0.9,
             "#4d9221"
            ],
            [
             1,
             "#276419"
            ]
           ],
           "sequential": [
            [
             0,
             "#0d0887"
            ],
            [
             0.1111111111111111,
             "#46039f"
            ],
            [
             0.2222222222222222,
             "#7201a8"
            ],
            [
             0.3333333333333333,
             "#9c179e"
            ],
            [
             0.4444444444444444,
             "#bd3786"
            ],
            [
             0.5555555555555556,
             "#d8576b"
            ],
            [
             0.6666666666666666,
             "#ed7953"
            ],
            [
             0.7777777777777778,
             "#fb9f3a"
            ],
            [
             0.8888888888888888,
             "#fdca26"
            ],
            [
             1,
             "#f0f921"
            ]
           ],
           "sequentialminus": [
            [
             0,
             "#0d0887"
            ],
            [
             0.1111111111111111,
             "#46039f"
            ],
            [
             0.2222222222222222,
             "#7201a8"
            ],
            [
             0.3333333333333333,
             "#9c179e"
            ],
            [
             0.4444444444444444,
             "#bd3786"
            ],
            [
             0.5555555555555556,
             "#d8576b"
            ],
            [
             0.6666666666666666,
             "#ed7953"
            ],
            [
             0.7777777777777778,
             "#fb9f3a"
            ],
            [
             0.8888888888888888,
             "#fdca26"
            ],
            [
             1,
             "#f0f921"
            ]
           ]
          },
          "colorway": [
           "#636efa",
           "#EF553B",
           "#00cc96",
           "#ab63fa",
           "#FFA15A",
           "#19d3f3",
           "#FF6692",
           "#B6E880",
           "#FF97FF",
           "#FECB52"
          ],
          "font": {
           "color": "#2a3f5f"
          },
          "geo": {
           "bgcolor": "white",
           "lakecolor": "white",
           "landcolor": "#E5ECF6",
           "showlakes": true,
           "showland": true,
           "subunitcolor": "white"
          },
          "hoverlabel": {
           "align": "left"
          },
          "hovermode": "closest",
          "mapbox": {
           "style": "light"
          },
          "paper_bgcolor": "white",
          "plot_bgcolor": "#E5ECF6",
          "polar": {
           "angularaxis": {
            "gridcolor": "white",
            "linecolor": "white",
            "ticks": ""
           },
           "bgcolor": "#E5ECF6",
           "radialaxis": {
            "gridcolor": "white",
            "linecolor": "white",
            "ticks": ""
           }
          },
          "scene": {
           "xaxis": {
            "backgroundcolor": "#E5ECF6",
            "gridcolor": "white",
            "gridwidth": 2,
            "linecolor": "white",
            "showbackground": true,
            "ticks": "",
            "zerolinecolor": "white"
           },
           "yaxis": {
            "backgroundcolor": "#E5ECF6",
            "gridcolor": "white",
            "gridwidth": 2,
            "linecolor": "white",
            "showbackground": true,
            "ticks": "",
            "zerolinecolor": "white"
           },
           "zaxis": {
            "backgroundcolor": "#E5ECF6",
            "gridcolor": "white",
            "gridwidth": 2,
            "linecolor": "white",
            "showbackground": true,
            "ticks": "",
            "zerolinecolor": "white"
           }
          },
          "shapedefaults": {
           "line": {
            "color": "#2a3f5f"
           }
          },
          "ternary": {
           "aaxis": {
            "gridcolor": "white",
            "linecolor": "white",
            "ticks": ""
           },
           "baxis": {
            "gridcolor": "white",
            "linecolor": "white",
            "ticks": ""
           },
           "bgcolor": "#E5ECF6",
           "caxis": {
            "gridcolor": "white",
            "linecolor": "white",
            "ticks": ""
           }
          },
          "title": {
           "x": 0.05
          },
          "xaxis": {
           "automargin": true,
           "gridcolor": "white",
           "linecolor": "white",
           "ticks": "",
           "title": {
            "standoff": 15
           },
           "zerolinecolor": "white",
           "zerolinewidth": 2
          },
          "yaxis": {
           "automargin": true,
           "gridcolor": "white",
           "linecolor": "white",
           "ticks": "",
           "title": {
            "standoff": 15
           },
           "zerolinecolor": "white",
           "zerolinewidth": 2
          }
         }
        }
       }
      },
      "text/html": [
       "<div>                            <div id=\"386cd3d6-f911-45f7-b7c0-053799dc67bc\" class=\"plotly-graph-div\" style=\"height:525px; width:100%;\"></div>            <script type=\"text/javascript\">                require([\"plotly\"], function(Plotly) {                    window.PLOTLYENV=window.PLOTLYENV || {};                                    if (document.getElementById(\"386cd3d6-f911-45f7-b7c0-053799dc67bc\")) {                    Plotly.newPlot(                        \"386cd3d6-f911-45f7-b7c0-053799dc67bc\",                        [{\"type\":\"scatter\",\"x\":[\"2021-01-04T00:00:00\",\"2021-01-05T00:00:00\",\"2021-01-06T00:00:00\",\"2021-01-07T00:00:00\",\"2021-01-08T00:00:00\",\"2021-01-09T00:00:00\",\"2021-01-11T00:00:00\",\"2021-01-12T00:00:00\",\"2021-01-13T00:00:00\",\"2021-01-14T00:00:00\",\"2021-01-15T00:00:00\",\"2021-01-16T00:00:00\",\"2021-01-18T00:00:00\",\"2021-01-19T00:00:00\",\"2021-01-20T00:00:00\",\"2021-01-21T00:00:00\",\"2021-01-22T00:00:00\",\"2021-01-23T00:00:00\",\"2021-01-25T00:00:00\",\"2021-01-26T00:00:00\",\"2021-01-27T00:00:00\",\"2021-01-28T00:00:00\",\"2021-01-29T00:00:00\",\"2021-01-30T00:00:00\",\"2021-02-01T00:00:00\",\"2021-02-02T00:00:00\",\"2021-02-03T00:00:00\",\"2021-02-04T00:00:00\",\"2021-02-05T00:00:00\",\"2021-02-06T00:00:00\",\"2021-02-07T00:00:00\",\"2021-02-08T00:00:00\",\"2021-02-09T00:00:00\",\"2021-02-10T00:00:00\",\"2021-02-17T00:00:00\",\"2021-02-18T00:00:00\",\"2021-02-19T00:00:00\",\"2021-02-20T00:00:00\",\"2021-02-22T00:00:00\",\"2021-02-23T00:00:00\",\"2021-02-24T00:00:00\",\"2021-02-25T00:00:00\",\"2021-02-26T00:00:00\",\"2021-02-27T00:00:00\",\"2021-02-28T00:00:00\",\"2021-03-01T00:00:00\",\"2021-03-02T00:00:00\",\"2021-03-03T00:00:00\",\"2021-03-04T00:00:00\",\"2021-03-05T00:00:00\",\"2021-03-08T00:00:00\",\"2021-03-09T00:00:00\",\"2021-03-10T00:00:00\",\"2021-03-11T00:00:00\",\"2021-03-12T00:00:00\",\"2021-03-13T00:00:00\",\"2021-03-15T00:00:00\",\"2021-03-16T00:00:00\",\"2021-03-17T00:00:00\",\"2021-03-18T00:00:00\",\"2021-03-19T00:00:00\",\"2021-03-20T00:00:00\",\"2021-03-22T00:00:00\",\"2021-03-23T00:00:00\",\"2021-03-24T00:00:00\",\"2021-03-25T00:00:00\",\"2021-03-26T00:00:00\",\"2021-03-27T00:00:00\",\"2021-03-29T00:00:00\",\"2021-03-30T00:00:00\",\"2021-03-31T00:00:00\",\"2021-04-01T00:00:00\",\"2021-04-02T00:00:00\",\"2021-04-05T00:00:00\",\"2021-04-06T00:00:00\",\"2021-04-07T00:00:00\",\"2021-04-08T00:00:00\",\"2021-04-09T00:00:00\",\"2021-04-10T00:00:00\",\"2021-04-12T00:00:00\",\"2021-04-13T00:00:00\",\"2021-04-14T00:00:00\",\"2021-04-15T00:00:00\",\"2021-04-16T00:00:00\",\"2021-04-17T00:00:00\",\"2021-04-19T00:00:00\",\"2021-04-20T00:00:00\",\"2021-04-21T00:00:00\",\"2021-04-22T00:00:00\",\"2021-04-23T00:00:00\",\"2021-04-24T00:00:00\",\"2021-04-26T00:00:00\",\"2021-04-27T00:00:00\",\"2021-04-28T00:00:00\",\"2021-04-29T00:00:00\",\"2021-04-30T00:00:00\",\"2021-05-03T00:00:00\",\"2021-05-04T00:00:00\",\"2021-05-05T00:00:00\",\"2021-05-06T00:00:00\",\"2021-05-07T00:00:00\",\"2021-05-08T00:00:00\",\"2021-05-10T00:00:00\",\"2021-05-11T00:00:00\",\"2021-05-12T00:00:00\",\"2021-05-13T00:00:00\",\"2021-05-14T00:00:00\",\"2021-05-15T00:00:00\",\"2021-05-17T00:00:00\",\"2021-05-18T00:00:00\",\"2021-05-19T00:00:00\",\"2021-05-20T00:00:00\",\"2021-05-21T00:00:00\",\"2021-05-22T00:00:00\",\"2021-05-24T00:00:00\",\"2021-05-25T00:00:00\",\"2021-05-26T00:00:00\",\"2021-05-27T00:00:00\",\"2021-05-28T00:00:00\",\"2021-05-29T00:00:00\",\"2021-05-31T00:00:00\",\"2021-06-01T00:00:00\",\"2021-06-02T00:00:00\",\"2021-06-03T00:00:00\",\"2021-06-04T00:00:00\",\"2021-06-05T00:00:00\",\"2021-06-07T00:00:00\",\"2021-06-08T00:00:00\",\"2021-06-09T00:00:00\",\"2021-06-10T00:00:00\",\"2021-06-11T00:00:00\",\"2021-06-12T00:00:00\",\"2021-06-15T00:00:00\",\"2021-06-16T00:00:00\",\"2021-06-17T00:00:00\",\"2021-06-18T00:00:00\",\"2021-06-19T00:00:00\",\"2021-06-21T00:00:00\",\"2021-06-22T00:00:00\",\"2021-06-23T00:00:00\",\"2021-06-24T00:00:00\",\"2021-06-25T00:00:00\",\"2021-06-26T00:00:00\",\"2021-06-28T00:00:00\",\"2021-06-29T00:00:00\",\"2021-06-30T00:00:00\",\"2021-07-01T00:00:00\",\"2021-07-02T00:00:00\",\"2021-07-03T00:00:00\",\"2021-07-05T00:00:00\",\"2021-07-06T00:00:00\",\"2021-07-07T00:00:00\",\"2021-07-08T00:00:00\",\"2021-07-09T00:00:00\",\"2021-07-10T00:00:00\",\"2021-07-12T00:00:00\",\"2021-07-13T00:00:00\",\"2021-07-14T00:00:00\",\"2021-07-15T00:00:00\",\"2021-07-16T00:00:00\",\"2021-07-17T00:00:00\",\"2021-07-19T00:00:00\",\"2021-07-20T00:00:00\",\"2021-07-21T00:00:00\",\"2021-07-22T00:00:00\",\"2021-07-23T00:00:00\",\"2021-07-24T00:00:00\",\"2021-07-26T00:00:00\",\"2021-07-27T00:00:00\",\"2021-07-28T00:00:00\",\"2021-07-29T00:00:00\",\"2021-07-30T00:00:00\",\"2021-07-31T00:00:00\",\"2021-08-02T00:00:00\",\"2021-08-03T00:00:00\",\"2021-08-04T00:00:00\",\"2021-08-05T00:00:00\",\"2021-08-06T00:00:00\",\"2021-08-07T00:00:00\",\"2021-08-09T00:00:00\",\"2021-08-10T00:00:00\",\"2021-08-11T00:00:00\",\"2021-08-12T00:00:00\",\"2021-08-13T00:00:00\",\"2021-08-14T00:00:00\",\"2021-08-16T00:00:00\",\"2021-08-17T00:00:00\",\"2021-08-18T00:00:00\",\"2021-08-19T00:00:00\",\"2021-08-20T00:00:00\",\"2021-08-21T00:00:00\",\"2021-08-23T00:00:00\",\"2021-08-24T00:00:00\",\"2021-08-25T00:00:00\",\"2021-08-26T00:00:00\",\"2021-08-27T00:00:00\",\"2021-08-28T00:00:00\",\"2021-08-30T00:00:00\",\"2021-08-31T00:00:00\",\"2021-09-01T00:00:00\",\"2021-09-02T00:00:00\",\"2021-09-03T00:00:00\",\"2021-09-04T00:00:00\",\"2021-09-06T00:00:00\",\"2021-09-07T00:00:00\",\"2021-09-08T00:00:00\",\"2021-09-09T00:00:00\",\"2021-09-10T00:00:00\",\"2021-09-11T00:00:00\",\"2021-09-13T00:00:00\",\"2021-09-14T00:00:00\",\"2021-09-15T00:00:00\",\"2021-09-16T00:00:00\",\"2021-09-17T00:00:00\",\"2021-09-18T00:00:00\",\"2021-09-20T00:00:00\",\"2021-09-22T00:00:00\",\"2021-09-23T00:00:00\",\"2021-09-24T00:00:00\",\"2021-09-25T00:00:00\",\"2021-09-27T00:00:00\",\"2021-09-28T00:00:00\",\"2021-09-29T00:00:00\",\"2021-09-30T00:00:00\",\"2021-10-01T00:00:00\",\"2021-10-02T00:00:00\",\"2021-10-04T00:00:00\",\"2021-10-05T00:00:00\",\"2021-10-06T00:00:00\",\"2021-10-07T00:00:00\",\"2021-10-08T00:00:00\",\"2021-10-12T00:00:00\",\"2021-10-13T00:00:00\",\"2021-10-14T00:00:00\",\"2021-10-15T00:00:00\",\"2021-10-16T00:00:00\",\"2021-10-18T00:00:00\",\"2021-10-19T00:00:00\",\"2021-10-20T00:00:00\",\"2021-10-21T00:00:00\",\"2021-10-22T00:00:00\",\"2021-10-23T00:00:00\",\"2021-10-25T00:00:00\",\"2021-10-26T00:00:00\",\"2021-10-27T00:00:00\",\"2021-10-28T00:00:00\",\"2021-10-29T00:00:00\",\"2021-10-30T00:00:00\",\"2021-10-31T00:00:00\",\"2021-11-01T00:00:00\",\"2021-11-02T00:00:00\",\"2021-11-03T00:00:00\",\"2021-11-04T00:00:00\",\"2021-11-05T00:00:00\",\"2021-11-06T00:00:00\",\"2021-11-08T00:00:00\",\"2021-11-09T00:00:00\",\"2021-11-10T00:00:00\",\"2021-11-11T00:00:00\",\"2021-11-12T00:00:00\",\"2021-11-13T00:00:00\",\"2021-11-15T00:00:00\",\"2021-11-16T00:00:00\",\"2021-11-17T00:00:00\",\"2021-11-18T00:00:00\",\"2021-11-19T00:00:00\",\"2021-11-20T00:00:00\",\"2021-11-22T00:00:00\",\"2021-11-23T00:00:00\",\"2021-11-24T00:00:00\",\"2021-11-25T00:00:00\",\"2021-11-26T00:00:00\",\"2021-11-27T00:00:00\",\"2021-11-29T00:00:00\",\"2021-11-30T00:00:00\",\"2021-12-01T00:00:00\",\"2021-12-02T00:00:00\",\"2021-12-03T00:00:00\",\"2021-12-04T00:00:00\",\"2021-12-06T00:00:00\",\"2021-12-07T00:00:00\",\"2021-12-08T00:00:00\",\"2021-12-09T00:00:00\",\"2021-12-10T00:00:00\",\"2021-12-11T00:00:00\",\"2021-12-13T00:00:00\",\"2021-12-14T00:00:00\",\"2021-12-15T00:00:00\",\"2021-12-16T00:00:00\",\"2021-12-17T00:00:00\",\"2021-12-19T00:00:00\",\"2021-12-20T00:00:00\",\"2021-12-21T00:00:00\",\"2021-12-22T00:00:00\",\"2021-12-23T00:00:00\",\"2021-12-24T00:00:00\",\"2021-12-25T00:00:00\",\"2021-12-27T00:00:00\",\"2021-12-28T00:00:00\",\"2021-12-29T00:00:00\",\"2021-12-30T00:00:00\",\"2021-12-31T00:00:00\",\"2022-01-03T00:00:00\",\"2022-01-04T00:00:00\",\"2022-01-05T00:00:00\",\"2022-01-06T00:00:00\",\"2022-01-07T00:00:00\",\"2022-01-08T00:00:00\",\"2022-01-10T00:00:00\",\"2022-01-11T00:00:00\",\"2022-01-12T00:00:00\",\"2022-01-13T00:00:00\",\"2022-01-14T00:00:00\",\"2022-01-15T00:00:00\",\"2022-01-17T00:00:00\",\"2022-01-18T00:00:00\",\"2022-01-19T00:00:00\",\"2022-01-20T00:00:00\",\"2022-01-21T00:00:00\",\"2022-01-22T00:00:00\",\"2022-01-23T00:00:00\",\"2022-01-24T00:00:00\",\"2022-01-25T00:00:00\",\"2022-01-26T00:00:00\",\"2022-01-27T00:00:00\",\"2022-01-28T00:00:00\",\"2022-01-29T00:00:00\",\"2022-02-07T00:00:00\",\"2022-02-08T00:00:00\",\"2022-02-09T00:00:00\",\"2022-02-10T00:00:00\",\"2022-02-11T00:00:00\",\"2022-02-12T00:00:00\",\"2022-02-14T00:00:00\",\"2022-02-15T00:00:00\",\"2022-02-16T00:00:00\",\"2022-02-17T00:00:00\",\"2022-02-18T00:00:00\",\"2022-02-19T00:00:00\",\"2022-02-21T00:00:00\",\"2022-02-22T00:00:00\",\"2022-02-23T00:00:00\",\"2022-02-24T00:00:00\",\"2022-02-25T00:00:00\",\"2022-02-26T00:00:00\",\"2022-03-01T00:00:00\",\"2022-03-02T00:00:00\",\"2022-03-03T00:00:00\",\"2022-03-04T00:00:00\",\"2022-03-07T00:00:00\",\"2022-03-08T00:00:00\",\"2022-03-09T00:00:00\",\"2022-03-10T00:00:00\",\"2022-03-11T00:00:00\",\"2022-03-12T00:00:00\",\"2022-03-14T00:00:00\",\"2022-03-15T00:00:00\",\"2022-03-16T00:00:00\",\"2022-03-17T00:00:00\",\"2022-03-18T00:00:00\",\"2022-03-19T00:00:00\",\"2022-03-21T00:00:00\",\"2022-03-22T00:00:00\",\"2022-03-23T00:00:00\",\"2022-03-24T00:00:00\",\"2022-03-25T00:00:00\",\"2022-03-26T00:00:00\",\"2022-03-28T00:00:00\",\"2022-03-29T00:00:00\",\"2022-03-30T00:00:00\",\"2022-03-31T00:00:00\",\"2022-04-01T00:00:00\",\"2022-04-06T00:00:00\",\"2022-04-07T00:00:00\",\"2022-04-08T00:00:00\",\"2022-04-09T00:00:00\",\"2022-04-11T00:00:00\",\"2022-04-12T00:00:00\",\"2022-04-13T00:00:00\",\"2022-04-14T00:00:00\",\"2022-04-15T00:00:00\",\"2022-04-16T00:00:00\",\"2022-04-18T00:00:00\",\"2022-04-19T00:00:00\",\"2022-04-20T00:00:00\",\"2022-04-21T00:00:00\",\"2022-04-22T00:00:00\",\"2022-04-23T00:00:00\",\"2022-04-25T00:00:00\",\"2022-04-26T00:00:00\",\"2022-04-27T00:00:00\",\"2022-04-28T00:00:00\",\"2022-04-29T00:00:00\",\"2022-04-30T00:00:00\"],\"y\":[732,599,576,328,504,34,561,337,555,386,304,39,335,553,652,551,487,43,435,366,365,610,1140,376,318,525,486,371,354,193,23,384,304,156,82,429,257,108,415,540,867,500,1001,891,22,30,984,524,312,325,317,332,322,531,316,20,581,386,592,941,816,28,629,556,1136,689,891,190,1735,1444,1564,222,71,31,701,442,458,225,57,136,533,435,259,273,6,433,591,479,725,430,30,773,492,585,509,504,763,226,673,233,538,76,626,456,459,276,360,27,1112,432,334,655,507,84,279,713,371,554,532,6,817,360,524,708,348,60,216,569,164,928,538,23,349,515,348,1011,46,251,546,395,421,372,22,528,603,926,748,279,25,502,186,224,426,390,68,380,265,463,477,397,22,655,266,525,553,730,4,556,662,503,580,552,990,730,511,303,486,493,90,275,566,582,679,310,28,518,218,820,320,490,22,580,376,731,760,439,36,904,2756,534,361,290,33,528,535,912,826,864,72,794,629,940,897,519,23,142,648,530,460,30,1328,878,1058,2000,455,3,306,302,528,162,276,321,430,338,262,39,408,406,354,681,446,23,274,368,218,666,941,396,1,531,383,393,366,414,56,244,395,373,213,344,158,519,440,689,593,438,44,700,579,430,283,287,18,1155,1527,698,285,189,51,308,312,302,386,410,43,258,689,294,355,376,2,435,383,496,347,204,11,289,500,714,1051,472,466,706,323,399,685,14,346,269,374,350,387,26,527,799,613,351,802,47,27,562,392,845,507,683,725,418,235,287,427,275,66,658,249,486,529,1196,34,969,1239,1368,1389,1441,965,241,237,73,337,284,156,346,289,349,12,315,707,369,444,394,40,217,708,431,1203,573,8,712,921,968,1608,569,182,208,187,8,262,156,241,544,130,20,225,197,377,367,338,5,129,311,566,611,873,313]}],                        {\"template\":{\"data\":{\"bar\":[{\"error_x\":{\"color\":\"#2a3f5f\"},\"error_y\":{\"color\":\"#2a3f5f\"},\"marker\":{\"line\":{\"color\":\"#E5ECF6\",\"width\":0.5},\"pattern\":{\"fillmode\":\"overlay\",\"size\":10,\"solidity\":0.2}},\"type\":\"bar\"}],\"barpolar\":[{\"marker\":{\"line\":{\"color\":\"#E5ECF6\",\"width\":0.5},\"pattern\":{\"fillmode\":\"overlay\",\"size\":10,\"solidity\":0.2}},\"type\":\"barpolar\"}],\"carpet\":[{\"aaxis\":{\"endlinecolor\":\"#2a3f5f\",\"gridcolor\":\"white\",\"linecolor\":\"white\",\"minorgridcolor\":\"white\",\"startlinecolor\":\"#2a3f5f\"},\"baxis\":{\"endlinecolor\":\"#2a3f5f\",\"gridcolor\":\"white\",\"linecolor\":\"white\",\"minorgridcolor\":\"white\",\"startlinecolor\":\"#2a3f5f\"},\"type\":\"carpet\"}],\"choropleth\":[{\"colorbar\":{\"outlinewidth\":0,\"ticks\":\"\"},\"type\":\"choropleth\"}],\"contour\":[{\"colorbar\":{\"outlinewidth\":0,\"ticks\":\"\"},\"colorscale\":[[0.0,\"#0d0887\"],[0.1111111111111111,\"#46039f\"],[0.2222222222222222,\"#7201a8\"],[0.3333333333333333,\"#9c179e\"],[0.4444444444444444,\"#bd3786\"],[0.5555555555555556,\"#d8576b\"],[0.6666666666666666,\"#ed7953\"],[0.7777777777777778,\"#fb9f3a\"],[0.8888888888888888,\"#fdca26\"],[1.0,\"#f0f921\"]],\"type\":\"contour\"}],\"contourcarpet\":[{\"colorbar\":{\"outlinewidth\":0,\"ticks\":\"\"},\"type\":\"contourcarpet\"}],\"heatmap\":[{\"colorbar\":{\"outlinewidth\":0,\"ticks\":\"\"},\"colorscale\":[[0.0,\"#0d0887\"],[0.1111111111111111,\"#46039f\"],[0.2222222222222222,\"#7201a8\"],[0.3333333333333333,\"#9c179e\"],[0.4444444444444444,\"#bd3786\"],[0.5555555555555556,\"#d8576b\"],[0.6666666666666666,\"#ed7953\"],[0.7777777777777778,\"#fb9f3a\"],[0.8888888888888888,\"#fdca26\"],[1.0,\"#f0f921\"]],\"type\":\"heatmap\"}],\"heatmapgl\":[{\"colorbar\":{\"outlinewidth\":0,\"ticks\":\"\"},\"colorscale\":[[0.0,\"#0d0887\"],[0.1111111111111111,\"#46039f\"],[0.2222222222222222,\"#7201a8\"],[0.3333333333333333,\"#9c179e\"],[0.4444444444444444,\"#bd3786\"],[0.5555555555555556,\"#d8576b\"],[0.6666666666666666,\"#ed7953\"],[0.7777777777777778,\"#fb9f3a\"],[0.8888888888888888,\"#fdca26\"],[1.0,\"#f0f921\"]],\"type\":\"heatmapgl\"}],\"histogram\":[{\"marker\":{\"pattern\":{\"fillmode\":\"overlay\",\"size\":10,\"solidity\":0.2}},\"type\":\"histogram\"}],\"histogram2d\":[{\"colorbar\":{\"outlinewidth\":0,\"ticks\":\"\"},\"colorscale\":[[0.0,\"#0d0887\"],[0.1111111111111111,\"#46039f\"],[0.2222222222222222,\"#7201a8\"],[0.3333333333333333,\"#9c179e\"],[0.4444444444444444,\"#bd3786\"],[0.5555555555555556,\"#d8576b\"],[0.6666666666666666,\"#ed7953\"],[0.7777777777777778,\"#fb9f3a\"],[0.8888888888888888,\"#fdca26\"],[1.0,\"#f0f921\"]],\"type\":\"histogram2d\"}],\"histogram2dcontour\":[{\"colorbar\":{\"outlinewidth\":0,\"ticks\":\"\"},\"colorscale\":[[0.0,\"#0d0887\"],[0.1111111111111111,\"#46039f\"],[0.2222222222222222,\"#7201a8\"],[0.3333333333333333,\"#9c179e\"],[0.4444444444444444,\"#bd3786\"],[0.5555555555555556,\"#d8576b\"],[0.6666666666666666,\"#ed7953\"],[0.7777777777777778,\"#fb9f3a\"],[0.8888888888888888,\"#fdca26\"],[1.0,\"#f0f921\"]],\"type\":\"histogram2dcontour\"}],\"mesh3d\":[{\"colorbar\":{\"outlinewidth\":0,\"ticks\":\"\"},\"type\":\"mesh3d\"}],\"parcoords\":[{\"line\":{\"colorbar\":{\"outlinewidth\":0,\"ticks\":\"\"}},\"type\":\"parcoords\"}],\"pie\":[{\"automargin\":true,\"type\":\"pie\"}],\"scatter\":[{\"marker\":{\"colorbar\":{\"outlinewidth\":0,\"ticks\":\"\"}},\"type\":\"scatter\"}],\"scatter3d\":[{\"line\":{\"colorbar\":{\"outlinewidth\":0,\"ticks\":\"\"}},\"marker\":{\"colorbar\":{\"outlinewidth\":0,\"ticks\":\"\"}},\"type\":\"scatter3d\"}],\"scattercarpet\":[{\"marker\":{\"colorbar\":{\"outlinewidth\":0,\"ticks\":\"\"}},\"type\":\"scattercarpet\"}],\"scattergeo\":[{\"marker\":{\"colorbar\":{\"outlinewidth\":0,\"ticks\":\"\"}},\"type\":\"scattergeo\"}],\"scattergl\":[{\"marker\":{\"colorbar\":{\"outlinewidth\":0,\"ticks\":\"\"}},\"type\":\"scattergl\"}],\"scattermapbox\":[{\"marker\":{\"colorbar\":{\"outlinewidth\":0,\"ticks\":\"\"}},\"type\":\"scattermapbox\"}],\"scatterpolar\":[{\"marker\":{\"colorbar\":{\"outlinewidth\":0,\"ticks\":\"\"}},\"type\":\"scatterpolar\"}],\"scatterpolargl\":[{\"marker\":{\"colorbar\":{\"outlinewidth\":0,\"ticks\":\"\"}},\"type\":\"scatterpolargl\"}],\"scatterternary\":[{\"marker\":{\"colorbar\":{\"outlinewidth\":0,\"ticks\":\"\"}},\"type\":\"scatterternary\"}],\"surface\":[{\"colorbar\":{\"outlinewidth\":0,\"ticks\":\"\"},\"colorscale\":[[0.0,\"#0d0887\"],[0.1111111111111111,\"#46039f\"],[0.2222222222222222,\"#7201a8\"],[0.3333333333333333,\"#9c179e\"],[0.4444444444444444,\"#bd3786\"],[0.5555555555555556,\"#d8576b\"],[0.6666666666666666,\"#ed7953\"],[0.7777777777777778,\"#fb9f3a\"],[0.8888888888888888,\"#fdca26\"],[1.0,\"#f0f921\"]],\"type\":\"surface\"}],\"table\":[{\"cells\":{\"fill\":{\"color\":\"#EBF0F8\"},\"line\":{\"color\":\"white\"}},\"header\":{\"fill\":{\"color\":\"#C8D4E3\"},\"line\":{\"color\":\"white\"}},\"type\":\"table\"}]},\"layout\":{\"annotationdefaults\":{\"arrowcolor\":\"#2a3f5f\",\"arrowhead\":0,\"arrowwidth\":1},\"autotypenumbers\":\"strict\",\"coloraxis\":{\"colorbar\":{\"outlinewidth\":0,\"ticks\":\"\"}},\"colorscale\":{\"diverging\":[[0,\"#8e0152\"],[0.1,\"#c51b7d\"],[0.2,\"#de77ae\"],[0.3,\"#f1b6da\"],[0.4,\"#fde0ef\"],[0.5,\"#f7f7f7\"],[0.6,\"#e6f5d0\"],[0.7,\"#b8e186\"],[0.8,\"#7fbc41\"],[0.9,\"#4d9221\"],[1,\"#276419\"]],\"sequential\":[[0.0,\"#0d0887\"],[0.1111111111111111,\"#46039f\"],[0.2222222222222222,\"#7201a8\"],[0.3333333333333333,\"#9c179e\"],[0.4444444444444444,\"#bd3786\"],[0.5555555555555556,\"#d8576b\"],[0.6666666666666666,\"#ed7953\"],[0.7777777777777778,\"#fb9f3a\"],[0.8888888888888888,\"#fdca26\"],[1.0,\"#f0f921\"]],\"sequentialminus\":[[0.0,\"#0d0887\"],[0.1111111111111111,\"#46039f\"],[0.2222222222222222,\"#7201a8\"],[0.3333333333333333,\"#9c179e\"],[0.4444444444444444,\"#bd3786\"],[0.5555555555555556,\"#d8576b\"],[0.6666666666666666,\"#ed7953\"],[0.7777777777777778,\"#fb9f3a\"],[0.8888888888888888,\"#fdca26\"],[1.0,\"#f0f921\"]]},\"colorway\":[\"#636efa\",\"#EF553B\",\"#00cc96\",\"#ab63fa\",\"#FFA15A\",\"#19d3f3\",\"#FF6692\",\"#B6E880\",\"#FF97FF\",\"#FECB52\"],\"font\":{\"color\":\"#2a3f5f\"},\"geo\":{\"bgcolor\":\"white\",\"lakecolor\":\"white\",\"landcolor\":\"#E5ECF6\",\"showlakes\":true,\"showland\":true,\"subunitcolor\":\"white\"},\"hoverlabel\":{\"align\":\"left\"},\"hovermode\":\"closest\",\"mapbox\":{\"style\":\"light\"},\"paper_bgcolor\":\"white\",\"plot_bgcolor\":\"#E5ECF6\",\"polar\":{\"angularaxis\":{\"gridcolor\":\"white\",\"linecolor\":\"white\",\"ticks\":\"\"},\"bgcolor\":\"#E5ECF6\",\"radialaxis\":{\"gridcolor\":\"white\",\"linecolor\":\"white\",\"ticks\":\"\"}},\"scene\":{\"xaxis\":{\"backgroundcolor\":\"#E5ECF6\",\"gridcolor\":\"white\",\"gridwidth\":2,\"linecolor\":\"white\",\"showbackground\":true,\"ticks\":\"\",\"zerolinecolor\":\"white\"},\"yaxis\":{\"backgroundcolor\":\"#E5ECF6\",\"gridcolor\":\"white\",\"gridwidth\":2,\"linecolor\":\"white\",\"showbackground\":true,\"ticks\":\"\",\"zerolinecolor\":\"white\"},\"zaxis\":{\"backgroundcolor\":\"#E5ECF6\",\"gridcolor\":\"white\",\"gridwidth\":2,\"linecolor\":\"white\",\"showbackground\":true,\"ticks\":\"\",\"zerolinecolor\":\"white\"}},\"shapedefaults\":{\"line\":{\"color\":\"#2a3f5f\"}},\"ternary\":{\"aaxis\":{\"gridcolor\":\"white\",\"linecolor\":\"white\",\"ticks\":\"\"},\"baxis\":{\"gridcolor\":\"white\",\"linecolor\":\"white\",\"ticks\":\"\"},\"bgcolor\":\"#E5ECF6\",\"caxis\":{\"gridcolor\":\"white\",\"linecolor\":\"white\",\"ticks\":\"\"}},\"title\":{\"x\":0.05},\"xaxis\":{\"automargin\":true,\"gridcolor\":\"white\",\"linecolor\":\"white\",\"ticks\":\"\",\"title\":{\"standoff\":15},\"zerolinecolor\":\"white\",\"zerolinewidth\":2},\"yaxis\":{\"automargin\":true,\"gridcolor\":\"white\",\"linecolor\":\"white\",\"ticks\":\"\",\"title\":{\"standoff\":15},\"zerolinecolor\":\"white\",\"zerolinewidth\":2}}}},                        {\"responsive\": true}                    ).then(function(){\n",
       "                            \n",
       "var gd = document.getElementById('386cd3d6-f911-45f7-b7c0-053799dc67bc');\n",
       "var x = new MutationObserver(function (mutations, observer) {{\n",
       "        var display = window.getComputedStyle(gd).display;\n",
       "        if (!display || display === 'none') {{\n",
       "            console.log([gd, 'removed!']);\n",
       "            Plotly.purge(gd);\n",
       "            observer.disconnect();\n",
       "        }}\n",
       "}});\n",
       "\n",
       "// Listen for the removal of the full notebook cells\n",
       "var notebookContainer = gd.closest('#notebook-container');\n",
       "if (notebookContainer) {{\n",
       "    x.observe(notebookContainer, {childList: true});\n",
       "}}\n",
       "\n",
       "// Listen for the clearing of the current output cell\n",
       "var outputEl = gd.closest('.output');\n",
       "if (outputEl) {{\n",
       "    x.observe(outputEl, {childList: true});\n",
       "}}\n",
       "\n",
       "                        })                };                });            </script>        </div>"
      ]
     },
     "metadata": {},
     "output_type": "display_data"
    }
   ],
   "source": [
    "fig.show()"
   ]
  },
  {
   "cell_type": "code",
   "execution_count": 166,
   "id": "1ae7e83f",
   "metadata": {},
   "outputs": [],
   "source": [
    "df_diff = df_sales.copy()"
   ]
  },
  {
   "cell_type": "code",
   "execution_count": 167,
   "id": "e545031e",
   "metadata": {},
   "outputs": [],
   "source": [
    "df_diff[\"prev_sales\"] = df_diff[\"銷售數量\"].shift(1)"
   ]
  },
  {
   "cell_type": "code",
   "execution_count": 168,
   "id": "1381a75c",
   "metadata": {},
   "outputs": [],
   "source": [
    "df_diff = df_diff.dropna()"
   ]
  },
  {
   "cell_type": "code",
   "execution_count": 169,
   "id": "520d0664",
   "metadata": {},
   "outputs": [],
   "source": [
    "df_diff[\"diff\"] = (df_diff[\"銷售數量\"] - df_diff[\"prev_sales\"])"
   ]
  },
  {
   "cell_type": "code",
   "execution_count": 170,
   "id": "242d8dc0",
   "metadata": {},
   "outputs": [
    {
     "data": {
      "application/vnd.plotly.v1+json": {
       "config": {
        "plotlyServerURL": "https://plot.ly"
       },
       "data": [
        {
         "type": "scatter",
         "x": [
          "2021-01-05T00:00:00",
          "2021-01-06T00:00:00",
          "2021-01-07T00:00:00",
          "2021-01-08T00:00:00",
          "2021-01-09T00:00:00",
          "2021-01-11T00:00:00",
          "2021-01-12T00:00:00",
          "2021-01-13T00:00:00",
          "2021-01-14T00:00:00",
          "2021-01-15T00:00:00",
          "2021-01-16T00:00:00",
          "2021-01-18T00:00:00",
          "2021-01-19T00:00:00",
          "2021-01-20T00:00:00",
          "2021-01-21T00:00:00",
          "2021-01-22T00:00:00",
          "2021-01-23T00:00:00",
          "2021-01-25T00:00:00",
          "2021-01-26T00:00:00",
          "2021-01-27T00:00:00",
          "2021-01-28T00:00:00",
          "2021-01-29T00:00:00",
          "2021-01-30T00:00:00",
          "2021-02-01T00:00:00",
          "2021-02-02T00:00:00",
          "2021-02-03T00:00:00",
          "2021-02-04T00:00:00",
          "2021-02-05T00:00:00",
          "2021-02-06T00:00:00",
          "2021-02-07T00:00:00",
          "2021-02-08T00:00:00",
          "2021-02-09T00:00:00",
          "2021-02-10T00:00:00",
          "2021-02-17T00:00:00",
          "2021-02-18T00:00:00",
          "2021-02-19T00:00:00",
          "2021-02-20T00:00:00",
          "2021-02-22T00:00:00",
          "2021-02-23T00:00:00",
          "2021-02-24T00:00:00",
          "2021-02-25T00:00:00",
          "2021-02-26T00:00:00",
          "2021-02-27T00:00:00",
          "2021-02-28T00:00:00",
          "2021-03-01T00:00:00",
          "2021-03-02T00:00:00",
          "2021-03-03T00:00:00",
          "2021-03-04T00:00:00",
          "2021-03-05T00:00:00",
          "2021-03-08T00:00:00",
          "2021-03-09T00:00:00",
          "2021-03-10T00:00:00",
          "2021-03-11T00:00:00",
          "2021-03-12T00:00:00",
          "2021-03-13T00:00:00",
          "2021-03-15T00:00:00",
          "2021-03-16T00:00:00",
          "2021-03-17T00:00:00",
          "2021-03-18T00:00:00",
          "2021-03-19T00:00:00",
          "2021-03-20T00:00:00",
          "2021-03-22T00:00:00",
          "2021-03-23T00:00:00",
          "2021-03-24T00:00:00",
          "2021-03-25T00:00:00",
          "2021-03-26T00:00:00",
          "2021-03-27T00:00:00",
          "2021-03-29T00:00:00",
          "2021-03-30T00:00:00",
          "2021-03-31T00:00:00",
          "2021-04-01T00:00:00",
          "2021-04-02T00:00:00",
          "2021-04-05T00:00:00",
          "2021-04-06T00:00:00",
          "2021-04-07T00:00:00",
          "2021-04-08T00:00:00",
          "2021-04-09T00:00:00",
          "2021-04-10T00:00:00",
          "2021-04-12T00:00:00",
          "2021-04-13T00:00:00",
          "2021-04-14T00:00:00",
          "2021-04-15T00:00:00",
          "2021-04-16T00:00:00",
          "2021-04-17T00:00:00",
          "2021-04-19T00:00:00",
          "2021-04-20T00:00:00",
          "2021-04-21T00:00:00",
          "2021-04-22T00:00:00",
          "2021-04-23T00:00:00",
          "2021-04-24T00:00:00",
          "2021-04-26T00:00:00",
          "2021-04-27T00:00:00",
          "2021-04-28T00:00:00",
          "2021-04-29T00:00:00",
          "2021-04-30T00:00:00",
          "2021-05-03T00:00:00",
          "2021-05-04T00:00:00",
          "2021-05-05T00:00:00",
          "2021-05-06T00:00:00",
          "2021-05-07T00:00:00",
          "2021-05-08T00:00:00",
          "2021-05-10T00:00:00",
          "2021-05-11T00:00:00",
          "2021-05-12T00:00:00",
          "2021-05-13T00:00:00",
          "2021-05-14T00:00:00",
          "2021-05-15T00:00:00",
          "2021-05-17T00:00:00",
          "2021-05-18T00:00:00",
          "2021-05-19T00:00:00",
          "2021-05-20T00:00:00",
          "2021-05-21T00:00:00",
          "2021-05-22T00:00:00",
          "2021-05-24T00:00:00",
          "2021-05-25T00:00:00",
          "2021-05-26T00:00:00",
          "2021-05-27T00:00:00",
          "2021-05-28T00:00:00",
          "2021-05-29T00:00:00",
          "2021-05-31T00:00:00",
          "2021-06-01T00:00:00",
          "2021-06-02T00:00:00",
          "2021-06-03T00:00:00",
          "2021-06-04T00:00:00",
          "2021-06-05T00:00:00",
          "2021-06-07T00:00:00",
          "2021-06-08T00:00:00",
          "2021-06-09T00:00:00",
          "2021-06-10T00:00:00",
          "2021-06-11T00:00:00",
          "2021-06-12T00:00:00",
          "2021-06-15T00:00:00",
          "2021-06-16T00:00:00",
          "2021-06-17T00:00:00",
          "2021-06-18T00:00:00",
          "2021-06-19T00:00:00",
          "2021-06-21T00:00:00",
          "2021-06-22T00:00:00",
          "2021-06-23T00:00:00",
          "2021-06-24T00:00:00",
          "2021-06-25T00:00:00",
          "2021-06-26T00:00:00",
          "2021-06-28T00:00:00",
          "2021-06-29T00:00:00",
          "2021-06-30T00:00:00",
          "2021-07-01T00:00:00",
          "2021-07-02T00:00:00",
          "2021-07-03T00:00:00",
          "2021-07-05T00:00:00",
          "2021-07-06T00:00:00",
          "2021-07-07T00:00:00",
          "2021-07-08T00:00:00",
          "2021-07-09T00:00:00",
          "2021-07-10T00:00:00",
          "2021-07-12T00:00:00",
          "2021-07-13T00:00:00",
          "2021-07-14T00:00:00",
          "2021-07-15T00:00:00",
          "2021-07-16T00:00:00",
          "2021-07-17T00:00:00",
          "2021-07-19T00:00:00",
          "2021-07-20T00:00:00",
          "2021-07-21T00:00:00",
          "2021-07-22T00:00:00",
          "2021-07-23T00:00:00",
          "2021-07-24T00:00:00",
          "2021-07-26T00:00:00",
          "2021-07-27T00:00:00",
          "2021-07-28T00:00:00",
          "2021-07-29T00:00:00",
          "2021-07-30T00:00:00",
          "2021-07-31T00:00:00",
          "2021-08-02T00:00:00",
          "2021-08-03T00:00:00",
          "2021-08-04T00:00:00",
          "2021-08-05T00:00:00",
          "2021-08-06T00:00:00",
          "2021-08-07T00:00:00",
          "2021-08-09T00:00:00",
          "2021-08-10T00:00:00",
          "2021-08-11T00:00:00",
          "2021-08-12T00:00:00",
          "2021-08-13T00:00:00",
          "2021-08-14T00:00:00",
          "2021-08-16T00:00:00",
          "2021-08-17T00:00:00",
          "2021-08-18T00:00:00",
          "2021-08-19T00:00:00",
          "2021-08-20T00:00:00",
          "2021-08-21T00:00:00",
          "2021-08-23T00:00:00",
          "2021-08-24T00:00:00",
          "2021-08-25T00:00:00",
          "2021-08-26T00:00:00",
          "2021-08-27T00:00:00",
          "2021-08-28T00:00:00",
          "2021-08-30T00:00:00",
          "2021-08-31T00:00:00",
          "2021-09-01T00:00:00",
          "2021-09-02T00:00:00",
          "2021-09-03T00:00:00",
          "2021-09-04T00:00:00",
          "2021-09-06T00:00:00",
          "2021-09-07T00:00:00",
          "2021-09-08T00:00:00",
          "2021-09-09T00:00:00",
          "2021-09-10T00:00:00",
          "2021-09-11T00:00:00",
          "2021-09-13T00:00:00",
          "2021-09-14T00:00:00",
          "2021-09-15T00:00:00",
          "2021-09-16T00:00:00",
          "2021-09-17T00:00:00",
          "2021-09-18T00:00:00",
          "2021-09-20T00:00:00",
          "2021-09-22T00:00:00",
          "2021-09-23T00:00:00",
          "2021-09-24T00:00:00",
          "2021-09-25T00:00:00",
          "2021-09-27T00:00:00",
          "2021-09-28T00:00:00",
          "2021-09-29T00:00:00",
          "2021-09-30T00:00:00",
          "2021-10-01T00:00:00",
          "2021-10-02T00:00:00",
          "2021-10-04T00:00:00",
          "2021-10-05T00:00:00",
          "2021-10-06T00:00:00",
          "2021-10-07T00:00:00",
          "2021-10-08T00:00:00",
          "2021-10-12T00:00:00",
          "2021-10-13T00:00:00",
          "2021-10-14T00:00:00",
          "2021-10-15T00:00:00",
          "2021-10-16T00:00:00",
          "2021-10-18T00:00:00",
          "2021-10-19T00:00:00",
          "2021-10-20T00:00:00",
          "2021-10-21T00:00:00",
          "2021-10-22T00:00:00",
          "2021-10-23T00:00:00",
          "2021-10-25T00:00:00",
          "2021-10-26T00:00:00",
          "2021-10-27T00:00:00",
          "2021-10-28T00:00:00",
          "2021-10-29T00:00:00",
          "2021-10-30T00:00:00",
          "2021-10-31T00:00:00",
          "2021-11-01T00:00:00",
          "2021-11-02T00:00:00",
          "2021-11-03T00:00:00",
          "2021-11-04T00:00:00",
          "2021-11-05T00:00:00",
          "2021-11-06T00:00:00",
          "2021-11-08T00:00:00",
          "2021-11-09T00:00:00",
          "2021-11-10T00:00:00",
          "2021-11-11T00:00:00",
          "2021-11-12T00:00:00",
          "2021-11-13T00:00:00",
          "2021-11-15T00:00:00",
          "2021-11-16T00:00:00",
          "2021-11-17T00:00:00",
          "2021-11-18T00:00:00",
          "2021-11-19T00:00:00",
          "2021-11-20T00:00:00",
          "2021-11-22T00:00:00",
          "2021-11-23T00:00:00",
          "2021-11-24T00:00:00",
          "2021-11-25T00:00:00",
          "2021-11-26T00:00:00",
          "2021-11-27T00:00:00",
          "2021-11-29T00:00:00",
          "2021-11-30T00:00:00",
          "2021-12-01T00:00:00",
          "2021-12-02T00:00:00",
          "2021-12-03T00:00:00",
          "2021-12-04T00:00:00",
          "2021-12-06T00:00:00",
          "2021-12-07T00:00:00",
          "2021-12-08T00:00:00",
          "2021-12-09T00:00:00",
          "2021-12-10T00:00:00",
          "2021-12-11T00:00:00",
          "2021-12-13T00:00:00",
          "2021-12-14T00:00:00",
          "2021-12-15T00:00:00",
          "2021-12-16T00:00:00",
          "2021-12-17T00:00:00",
          "2021-12-19T00:00:00",
          "2021-12-20T00:00:00",
          "2021-12-21T00:00:00",
          "2021-12-22T00:00:00",
          "2021-12-23T00:00:00",
          "2021-12-24T00:00:00",
          "2021-12-25T00:00:00",
          "2021-12-27T00:00:00",
          "2021-12-28T00:00:00",
          "2021-12-29T00:00:00",
          "2021-12-30T00:00:00",
          "2021-12-31T00:00:00",
          "2022-01-03T00:00:00",
          "2022-01-04T00:00:00",
          "2022-01-05T00:00:00",
          "2022-01-06T00:00:00",
          "2022-01-07T00:00:00",
          "2022-01-08T00:00:00",
          "2022-01-10T00:00:00",
          "2022-01-11T00:00:00",
          "2022-01-12T00:00:00",
          "2022-01-13T00:00:00",
          "2022-01-14T00:00:00",
          "2022-01-15T00:00:00",
          "2022-01-17T00:00:00",
          "2022-01-18T00:00:00",
          "2022-01-19T00:00:00",
          "2022-01-20T00:00:00",
          "2022-01-21T00:00:00",
          "2022-01-22T00:00:00",
          "2022-01-23T00:00:00",
          "2022-01-24T00:00:00",
          "2022-01-25T00:00:00",
          "2022-01-26T00:00:00",
          "2022-01-27T00:00:00",
          "2022-01-28T00:00:00",
          "2022-01-29T00:00:00",
          "2022-02-07T00:00:00",
          "2022-02-08T00:00:00",
          "2022-02-09T00:00:00",
          "2022-02-10T00:00:00",
          "2022-02-11T00:00:00",
          "2022-02-12T00:00:00",
          "2022-02-14T00:00:00",
          "2022-02-15T00:00:00",
          "2022-02-16T00:00:00",
          "2022-02-17T00:00:00",
          "2022-02-18T00:00:00",
          "2022-02-19T00:00:00",
          "2022-02-21T00:00:00",
          "2022-02-22T00:00:00",
          "2022-02-23T00:00:00",
          "2022-02-24T00:00:00",
          "2022-02-25T00:00:00",
          "2022-02-26T00:00:00",
          "2022-03-01T00:00:00",
          "2022-03-02T00:00:00",
          "2022-03-03T00:00:00",
          "2022-03-04T00:00:00",
          "2022-03-07T00:00:00",
          "2022-03-08T00:00:00",
          "2022-03-09T00:00:00",
          "2022-03-10T00:00:00",
          "2022-03-11T00:00:00",
          "2022-03-12T00:00:00",
          "2022-03-14T00:00:00",
          "2022-03-15T00:00:00",
          "2022-03-16T00:00:00",
          "2022-03-17T00:00:00",
          "2022-03-18T00:00:00",
          "2022-03-19T00:00:00",
          "2022-03-21T00:00:00",
          "2022-03-22T00:00:00",
          "2022-03-23T00:00:00",
          "2022-03-24T00:00:00",
          "2022-03-25T00:00:00",
          "2022-03-26T00:00:00",
          "2022-03-28T00:00:00",
          "2022-03-29T00:00:00",
          "2022-03-30T00:00:00",
          "2022-03-31T00:00:00",
          "2022-04-01T00:00:00",
          "2022-04-06T00:00:00",
          "2022-04-07T00:00:00",
          "2022-04-08T00:00:00",
          "2022-04-09T00:00:00",
          "2022-04-11T00:00:00",
          "2022-04-12T00:00:00",
          "2022-04-13T00:00:00",
          "2022-04-14T00:00:00",
          "2022-04-15T00:00:00",
          "2022-04-16T00:00:00",
          "2022-04-18T00:00:00",
          "2022-04-19T00:00:00",
          "2022-04-20T00:00:00",
          "2022-04-21T00:00:00",
          "2022-04-22T00:00:00",
          "2022-04-23T00:00:00",
          "2022-04-25T00:00:00",
          "2022-04-26T00:00:00",
          "2022-04-27T00:00:00",
          "2022-04-28T00:00:00",
          "2022-04-29T00:00:00",
          "2022-04-30T00:00:00"
         ],
         "y": [
          -133,
          -23,
          -248,
          176,
          -470,
          527,
          -224,
          218,
          -169,
          -82,
          -265,
          296,
          218,
          99,
          -101,
          -64,
          -444,
          392,
          -69,
          -1,
          245,
          530,
          -764,
          -58,
          207,
          -39,
          -115,
          -17,
          -161,
          -170,
          361,
          -80,
          -148,
          -74,
          347,
          -172,
          -149,
          307,
          125,
          327,
          -367,
          501,
          -110,
          -869,
          8,
          954,
          -460,
          -212,
          13,
          -8,
          15,
          -10,
          209,
          -215,
          -296,
          561,
          -195,
          206,
          349,
          -125,
          -788,
          601,
          -73,
          580,
          -447,
          202,
          -701,
          1545,
          -291,
          120,
          -1342,
          -151,
          -40,
          670,
          -259,
          16,
          -233,
          -168,
          79,
          397,
          -98,
          -176,
          14,
          -267,
          427,
          158,
          -112,
          246,
          -295,
          -400,
          743,
          -281,
          93,
          -76,
          -5,
          259,
          -537,
          447,
          -440,
          305,
          -462,
          550,
          -170,
          3,
          -183,
          84,
          -333,
          1085,
          -680,
          -98,
          321,
          -148,
          -423,
          195,
          434,
          -342,
          183,
          -22,
          -526,
          811,
          -457,
          164,
          184,
          -360,
          -288,
          156,
          353,
          -405,
          764,
          -390,
          -515,
          326,
          166,
          -167,
          663,
          -965,
          205,
          295,
          -151,
          26,
          -49,
          -350,
          506,
          75,
          323,
          -178,
          -469,
          -254,
          477,
          -316,
          38,
          202,
          -36,
          -322,
          312,
          -115,
          198,
          14,
          -80,
          -375,
          633,
          -389,
          259,
          28,
          177,
          -726,
          552,
          106,
          -159,
          77,
          -28,
          438,
          -260,
          -219,
          -208,
          183,
          7,
          -403,
          185,
          291,
          16,
          97,
          -369,
          -282,
          490,
          -300,
          602,
          -500,
          170,
          -468,
          558,
          -204,
          355,
          29,
          -321,
          -403,
          868,
          1852,
          -2222,
          -173,
          -71,
          -257,
          495,
          7,
          377,
          -86,
          38,
          -792,
          722,
          -165,
          311,
          -43,
          -378,
          -496,
          119,
          506,
          -118,
          -70,
          -430,
          1298,
          -450,
          180,
          942,
          -1545,
          -452,
          303,
          -4,
          226,
          -366,
          114,
          45,
          109,
          -92,
          -76,
          -223,
          369,
          -2,
          -52,
          327,
          -235,
          -423,
          251,
          94,
          -150,
          448,
          275,
          -545,
          -395,
          530,
          -148,
          10,
          -27,
          48,
          -358,
          188,
          151,
          -22,
          -160,
          131,
          -186,
          361,
          -79,
          249,
          -96,
          -155,
          -394,
          656,
          -121,
          -149,
          -147,
          4,
          -269,
          1137,
          372,
          -829,
          -413,
          -96,
          -138,
          257,
          4,
          -10,
          84,
          24,
          -367,
          215,
          431,
          -395,
          61,
          21,
          -374,
          433,
          -52,
          113,
          -149,
          -143,
          -193,
          278,
          211,
          214,
          337,
          -579,
          -6,
          240,
          -383,
          76,
          286,
          -671,
          332,
          -77,
          105,
          -24,
          37,
          -361,
          501,
          272,
          -186,
          -262,
          451,
          -755,
          -20,
          535,
          -170,
          453,
          -338,
          176,
          42,
          -307,
          -183,
          52,
          140,
          -152,
          -209,
          592,
          -409,
          237,
          43,
          667,
          -1162,
          935,
          270,
          129,
          21,
          52,
          -476,
          -724,
          -4,
          -164,
          264,
          -53,
          -128,
          190,
          -57,
          60,
          -337,
          303,
          392,
          -338,
          75,
          -50,
          -354,
          177,
          491,
          -277,
          772,
          -630,
          -565,
          704,
          209,
          47,
          640,
          -1039,
          -387,
          26,
          -21,
          -179,
          254,
          -106,
          85,
          303,
          -414,
          -110,
          205,
          -28,
          180,
          -10,
          -29,
          -333,
          124,
          182,
          255,
          45,
          262,
          -560
         ]
        }
       ],
       "layout": {
        "template": {
         "data": {
          "bar": [
           {
            "error_x": {
             "color": "#2a3f5f"
            },
            "error_y": {
             "color": "#2a3f5f"
            },
            "marker": {
             "line": {
              "color": "#E5ECF6",
              "width": 0.5
             },
             "pattern": {
              "fillmode": "overlay",
              "size": 10,
              "solidity": 0.2
             }
            },
            "type": "bar"
           }
          ],
          "barpolar": [
           {
            "marker": {
             "line": {
              "color": "#E5ECF6",
              "width": 0.5
             },
             "pattern": {
              "fillmode": "overlay",
              "size": 10,
              "solidity": 0.2
             }
            },
            "type": "barpolar"
           }
          ],
          "carpet": [
           {
            "aaxis": {
             "endlinecolor": "#2a3f5f",
             "gridcolor": "white",
             "linecolor": "white",
             "minorgridcolor": "white",
             "startlinecolor": "#2a3f5f"
            },
            "baxis": {
             "endlinecolor": "#2a3f5f",
             "gridcolor": "white",
             "linecolor": "white",
             "minorgridcolor": "white",
             "startlinecolor": "#2a3f5f"
            },
            "type": "carpet"
           }
          ],
          "choropleth": [
           {
            "colorbar": {
             "outlinewidth": 0,
             "ticks": ""
            },
            "type": "choropleth"
           }
          ],
          "contour": [
           {
            "colorbar": {
             "outlinewidth": 0,
             "ticks": ""
            },
            "colorscale": [
             [
              0,
              "#0d0887"
             ],
             [
              0.1111111111111111,
              "#46039f"
             ],
             [
              0.2222222222222222,
              "#7201a8"
             ],
             [
              0.3333333333333333,
              "#9c179e"
             ],
             [
              0.4444444444444444,
              "#bd3786"
             ],
             [
              0.5555555555555556,
              "#d8576b"
             ],
             [
              0.6666666666666666,
              "#ed7953"
             ],
             [
              0.7777777777777778,
              "#fb9f3a"
             ],
             [
              0.8888888888888888,
              "#fdca26"
             ],
             [
              1,
              "#f0f921"
             ]
            ],
            "type": "contour"
           }
          ],
          "contourcarpet": [
           {
            "colorbar": {
             "outlinewidth": 0,
             "ticks": ""
            },
            "type": "contourcarpet"
           }
          ],
          "heatmap": [
           {
            "colorbar": {
             "outlinewidth": 0,
             "ticks": ""
            },
            "colorscale": [
             [
              0,
              "#0d0887"
             ],
             [
              0.1111111111111111,
              "#46039f"
             ],
             [
              0.2222222222222222,
              "#7201a8"
             ],
             [
              0.3333333333333333,
              "#9c179e"
             ],
             [
              0.4444444444444444,
              "#bd3786"
             ],
             [
              0.5555555555555556,
              "#d8576b"
             ],
             [
              0.6666666666666666,
              "#ed7953"
             ],
             [
              0.7777777777777778,
              "#fb9f3a"
             ],
             [
              0.8888888888888888,
              "#fdca26"
             ],
             [
              1,
              "#f0f921"
             ]
            ],
            "type": "heatmap"
           }
          ],
          "heatmapgl": [
           {
            "colorbar": {
             "outlinewidth": 0,
             "ticks": ""
            },
            "colorscale": [
             [
              0,
              "#0d0887"
             ],
             [
              0.1111111111111111,
              "#46039f"
             ],
             [
              0.2222222222222222,
              "#7201a8"
             ],
             [
              0.3333333333333333,
              "#9c179e"
             ],
             [
              0.4444444444444444,
              "#bd3786"
             ],
             [
              0.5555555555555556,
              "#d8576b"
             ],
             [
              0.6666666666666666,
              "#ed7953"
             ],
             [
              0.7777777777777778,
              "#fb9f3a"
             ],
             [
              0.8888888888888888,
              "#fdca26"
             ],
             [
              1,
              "#f0f921"
             ]
            ],
            "type": "heatmapgl"
           }
          ],
          "histogram": [
           {
            "marker": {
             "pattern": {
              "fillmode": "overlay",
              "size": 10,
              "solidity": 0.2
             }
            },
            "type": "histogram"
           }
          ],
          "histogram2d": [
           {
            "colorbar": {
             "outlinewidth": 0,
             "ticks": ""
            },
            "colorscale": [
             [
              0,
              "#0d0887"
             ],
             [
              0.1111111111111111,
              "#46039f"
             ],
             [
              0.2222222222222222,
              "#7201a8"
             ],
             [
              0.3333333333333333,
              "#9c179e"
             ],
             [
              0.4444444444444444,
              "#bd3786"
             ],
             [
              0.5555555555555556,
              "#d8576b"
             ],
             [
              0.6666666666666666,
              "#ed7953"
             ],
             [
              0.7777777777777778,
              "#fb9f3a"
             ],
             [
              0.8888888888888888,
              "#fdca26"
             ],
             [
              1,
              "#f0f921"
             ]
            ],
            "type": "histogram2d"
           }
          ],
          "histogram2dcontour": [
           {
            "colorbar": {
             "outlinewidth": 0,
             "ticks": ""
            },
            "colorscale": [
             [
              0,
              "#0d0887"
             ],
             [
              0.1111111111111111,
              "#46039f"
             ],
             [
              0.2222222222222222,
              "#7201a8"
             ],
             [
              0.3333333333333333,
              "#9c179e"
             ],
             [
              0.4444444444444444,
              "#bd3786"
             ],
             [
              0.5555555555555556,
              "#d8576b"
             ],
             [
              0.6666666666666666,
              "#ed7953"
             ],
             [
              0.7777777777777778,
              "#fb9f3a"
             ],
             [
              0.8888888888888888,
              "#fdca26"
             ],
             [
              1,
              "#f0f921"
             ]
            ],
            "type": "histogram2dcontour"
           }
          ],
          "mesh3d": [
           {
            "colorbar": {
             "outlinewidth": 0,
             "ticks": ""
            },
            "type": "mesh3d"
           }
          ],
          "parcoords": [
           {
            "line": {
             "colorbar": {
              "outlinewidth": 0,
              "ticks": ""
             }
            },
            "type": "parcoords"
           }
          ],
          "pie": [
           {
            "automargin": true,
            "type": "pie"
           }
          ],
          "scatter": [
           {
            "marker": {
             "colorbar": {
              "outlinewidth": 0,
              "ticks": ""
             }
            },
            "type": "scatter"
           }
          ],
          "scatter3d": [
           {
            "line": {
             "colorbar": {
              "outlinewidth": 0,
              "ticks": ""
             }
            },
            "marker": {
             "colorbar": {
              "outlinewidth": 0,
              "ticks": ""
             }
            },
            "type": "scatter3d"
           }
          ],
          "scattercarpet": [
           {
            "marker": {
             "colorbar": {
              "outlinewidth": 0,
              "ticks": ""
             }
            },
            "type": "scattercarpet"
           }
          ],
          "scattergeo": [
           {
            "marker": {
             "colorbar": {
              "outlinewidth": 0,
              "ticks": ""
             }
            },
            "type": "scattergeo"
           }
          ],
          "scattergl": [
           {
            "marker": {
             "colorbar": {
              "outlinewidth": 0,
              "ticks": ""
             }
            },
            "type": "scattergl"
           }
          ],
          "scattermapbox": [
           {
            "marker": {
             "colorbar": {
              "outlinewidth": 0,
              "ticks": ""
             }
            },
            "type": "scattermapbox"
           }
          ],
          "scatterpolar": [
           {
            "marker": {
             "colorbar": {
              "outlinewidth": 0,
              "ticks": ""
             }
            },
            "type": "scatterpolar"
           }
          ],
          "scatterpolargl": [
           {
            "marker": {
             "colorbar": {
              "outlinewidth": 0,
              "ticks": ""
             }
            },
            "type": "scatterpolargl"
           }
          ],
          "scatterternary": [
           {
            "marker": {
             "colorbar": {
              "outlinewidth": 0,
              "ticks": ""
             }
            },
            "type": "scatterternary"
           }
          ],
          "surface": [
           {
            "colorbar": {
             "outlinewidth": 0,
             "ticks": ""
            },
            "colorscale": [
             [
              0,
              "#0d0887"
             ],
             [
              0.1111111111111111,
              "#46039f"
             ],
             [
              0.2222222222222222,
              "#7201a8"
             ],
             [
              0.3333333333333333,
              "#9c179e"
             ],
             [
              0.4444444444444444,
              "#bd3786"
             ],
             [
              0.5555555555555556,
              "#d8576b"
             ],
             [
              0.6666666666666666,
              "#ed7953"
             ],
             [
              0.7777777777777778,
              "#fb9f3a"
             ],
             [
              0.8888888888888888,
              "#fdca26"
             ],
             [
              1,
              "#f0f921"
             ]
            ],
            "type": "surface"
           }
          ],
          "table": [
           {
            "cells": {
             "fill": {
              "color": "#EBF0F8"
             },
             "line": {
              "color": "white"
             }
            },
            "header": {
             "fill": {
              "color": "#C8D4E3"
             },
             "line": {
              "color": "white"
             }
            },
            "type": "table"
           }
          ]
         },
         "layout": {
          "annotationdefaults": {
           "arrowcolor": "#2a3f5f",
           "arrowhead": 0,
           "arrowwidth": 1
          },
          "autotypenumbers": "strict",
          "coloraxis": {
           "colorbar": {
            "outlinewidth": 0,
            "ticks": ""
           }
          },
          "colorscale": {
           "diverging": [
            [
             0,
             "#8e0152"
            ],
            [
             0.1,
             "#c51b7d"
            ],
            [
             0.2,
             "#de77ae"
            ],
            [
             0.3,
             "#f1b6da"
            ],
            [
             0.4,
             "#fde0ef"
            ],
            [
             0.5,
             "#f7f7f7"
            ],
            [
             0.6,
             "#e6f5d0"
            ],
            [
             0.7,
             "#b8e186"
            ],
            [
             0.8,
             "#7fbc41"
            ],
            [
             0.9,
             "#4d9221"
            ],
            [
             1,
             "#276419"
            ]
           ],
           "sequential": [
            [
             0,
             "#0d0887"
            ],
            [
             0.1111111111111111,
             "#46039f"
            ],
            [
             0.2222222222222222,
             "#7201a8"
            ],
            [
             0.3333333333333333,
             "#9c179e"
            ],
            [
             0.4444444444444444,
             "#bd3786"
            ],
            [
             0.5555555555555556,
             "#d8576b"
            ],
            [
             0.6666666666666666,
             "#ed7953"
            ],
            [
             0.7777777777777778,
             "#fb9f3a"
            ],
            [
             0.8888888888888888,
             "#fdca26"
            ],
            [
             1,
             "#f0f921"
            ]
           ],
           "sequentialminus": [
            [
             0,
             "#0d0887"
            ],
            [
             0.1111111111111111,
             "#46039f"
            ],
            [
             0.2222222222222222,
             "#7201a8"
            ],
            [
             0.3333333333333333,
             "#9c179e"
            ],
            [
             0.4444444444444444,
             "#bd3786"
            ],
            [
             0.5555555555555556,
             "#d8576b"
            ],
            [
             0.6666666666666666,
             "#ed7953"
            ],
            [
             0.7777777777777778,
             "#fb9f3a"
            ],
            [
             0.8888888888888888,
             "#fdca26"
            ],
            [
             1,
             "#f0f921"
            ]
           ]
          },
          "colorway": [
           "#636efa",
           "#EF553B",
           "#00cc96",
           "#ab63fa",
           "#FFA15A",
           "#19d3f3",
           "#FF6692",
           "#B6E880",
           "#FF97FF",
           "#FECB52"
          ],
          "font": {
           "color": "#2a3f5f"
          },
          "geo": {
           "bgcolor": "white",
           "lakecolor": "white",
           "landcolor": "#E5ECF6",
           "showlakes": true,
           "showland": true,
           "subunitcolor": "white"
          },
          "hoverlabel": {
           "align": "left"
          },
          "hovermode": "closest",
          "mapbox": {
           "style": "light"
          },
          "paper_bgcolor": "white",
          "plot_bgcolor": "#E5ECF6",
          "polar": {
           "angularaxis": {
            "gridcolor": "white",
            "linecolor": "white",
            "ticks": ""
           },
           "bgcolor": "#E5ECF6",
           "radialaxis": {
            "gridcolor": "white",
            "linecolor": "white",
            "ticks": ""
           }
          },
          "scene": {
           "xaxis": {
            "backgroundcolor": "#E5ECF6",
            "gridcolor": "white",
            "gridwidth": 2,
            "linecolor": "white",
            "showbackground": true,
            "ticks": "",
            "zerolinecolor": "white"
           },
           "yaxis": {
            "backgroundcolor": "#E5ECF6",
            "gridcolor": "white",
            "gridwidth": 2,
            "linecolor": "white",
            "showbackground": true,
            "ticks": "",
            "zerolinecolor": "white"
           },
           "zaxis": {
            "backgroundcolor": "#E5ECF6",
            "gridcolor": "white",
            "gridwidth": 2,
            "linecolor": "white",
            "showbackground": true,
            "ticks": "",
            "zerolinecolor": "white"
           }
          },
          "shapedefaults": {
           "line": {
            "color": "#2a3f5f"
           }
          },
          "ternary": {
           "aaxis": {
            "gridcolor": "white",
            "linecolor": "white",
            "ticks": ""
           },
           "baxis": {
            "gridcolor": "white",
            "linecolor": "white",
            "ticks": ""
           },
           "bgcolor": "#E5ECF6",
           "caxis": {
            "gridcolor": "white",
            "linecolor": "white",
            "ticks": ""
           }
          },
          "title": {
           "x": 0.05
          },
          "xaxis": {
           "automargin": true,
           "gridcolor": "white",
           "linecolor": "white",
           "ticks": "",
           "title": {
            "standoff": 15
           },
           "zerolinecolor": "white",
           "zerolinewidth": 2
          },
          "yaxis": {
           "automargin": true,
           "gridcolor": "white",
           "linecolor": "white",
           "ticks": "",
           "title": {
            "standoff": 15
           },
           "zerolinecolor": "white",
           "zerolinewidth": 2
          }
         }
        }
       }
      },
      "text/html": [
       "<div>                            <div id=\"b6d82fc1-05de-4dde-a91f-7e23fa0d066c\" class=\"plotly-graph-div\" style=\"height:525px; width:100%;\"></div>            <script type=\"text/javascript\">                require([\"plotly\"], function(Plotly) {                    window.PLOTLYENV=window.PLOTLYENV || {};                                    if (document.getElementById(\"b6d82fc1-05de-4dde-a91f-7e23fa0d066c\")) {                    Plotly.newPlot(                        \"b6d82fc1-05de-4dde-a91f-7e23fa0d066c\",                        [{\"type\":\"scatter\",\"x\":[\"2021-01-05T00:00:00\",\"2021-01-06T00:00:00\",\"2021-01-07T00:00:00\",\"2021-01-08T00:00:00\",\"2021-01-09T00:00:00\",\"2021-01-11T00:00:00\",\"2021-01-12T00:00:00\",\"2021-01-13T00:00:00\",\"2021-01-14T00:00:00\",\"2021-01-15T00:00:00\",\"2021-01-16T00:00:00\",\"2021-01-18T00:00:00\",\"2021-01-19T00:00:00\",\"2021-01-20T00:00:00\",\"2021-01-21T00:00:00\",\"2021-01-22T00:00:00\",\"2021-01-23T00:00:00\",\"2021-01-25T00:00:00\",\"2021-01-26T00:00:00\",\"2021-01-27T00:00:00\",\"2021-01-28T00:00:00\",\"2021-01-29T00:00:00\",\"2021-01-30T00:00:00\",\"2021-02-01T00:00:00\",\"2021-02-02T00:00:00\",\"2021-02-03T00:00:00\",\"2021-02-04T00:00:00\",\"2021-02-05T00:00:00\",\"2021-02-06T00:00:00\",\"2021-02-07T00:00:00\",\"2021-02-08T00:00:00\",\"2021-02-09T00:00:00\",\"2021-02-10T00:00:00\",\"2021-02-17T00:00:00\",\"2021-02-18T00:00:00\",\"2021-02-19T00:00:00\",\"2021-02-20T00:00:00\",\"2021-02-22T00:00:00\",\"2021-02-23T00:00:00\",\"2021-02-24T00:00:00\",\"2021-02-25T00:00:00\",\"2021-02-26T00:00:00\",\"2021-02-27T00:00:00\",\"2021-02-28T00:00:00\",\"2021-03-01T00:00:00\",\"2021-03-02T00:00:00\",\"2021-03-03T00:00:00\",\"2021-03-04T00:00:00\",\"2021-03-05T00:00:00\",\"2021-03-08T00:00:00\",\"2021-03-09T00:00:00\",\"2021-03-10T00:00:00\",\"2021-03-11T00:00:00\",\"2021-03-12T00:00:00\",\"2021-03-13T00:00:00\",\"2021-03-15T00:00:00\",\"2021-03-16T00:00:00\",\"2021-03-17T00:00:00\",\"2021-03-18T00:00:00\",\"2021-03-19T00:00:00\",\"2021-03-20T00:00:00\",\"2021-03-22T00:00:00\",\"2021-03-23T00:00:00\",\"2021-03-24T00:00:00\",\"2021-03-25T00:00:00\",\"2021-03-26T00:00:00\",\"2021-03-27T00:00:00\",\"2021-03-29T00:00:00\",\"2021-03-30T00:00:00\",\"2021-03-31T00:00:00\",\"2021-04-01T00:00:00\",\"2021-04-02T00:00:00\",\"2021-04-05T00:00:00\",\"2021-04-06T00:00:00\",\"2021-04-07T00:00:00\",\"2021-04-08T00:00:00\",\"2021-04-09T00:00:00\",\"2021-04-10T00:00:00\",\"2021-04-12T00:00:00\",\"2021-04-13T00:00:00\",\"2021-04-14T00:00:00\",\"2021-04-15T00:00:00\",\"2021-04-16T00:00:00\",\"2021-04-17T00:00:00\",\"2021-04-19T00:00:00\",\"2021-04-20T00:00:00\",\"2021-04-21T00:00:00\",\"2021-04-22T00:00:00\",\"2021-04-23T00:00:00\",\"2021-04-24T00:00:00\",\"2021-04-26T00:00:00\",\"2021-04-27T00:00:00\",\"2021-04-28T00:00:00\",\"2021-04-29T00:00:00\",\"2021-04-30T00:00:00\",\"2021-05-03T00:00:00\",\"2021-05-04T00:00:00\",\"2021-05-05T00:00:00\",\"2021-05-06T00:00:00\",\"2021-05-07T00:00:00\",\"2021-05-08T00:00:00\",\"2021-05-10T00:00:00\",\"2021-05-11T00:00:00\",\"2021-05-12T00:00:00\",\"2021-05-13T00:00:00\",\"2021-05-14T00:00:00\",\"2021-05-15T00:00:00\",\"2021-05-17T00:00:00\",\"2021-05-18T00:00:00\",\"2021-05-19T00:00:00\",\"2021-05-20T00:00:00\",\"2021-05-21T00:00:00\",\"2021-05-22T00:00:00\",\"2021-05-24T00:00:00\",\"2021-05-25T00:00:00\",\"2021-05-26T00:00:00\",\"2021-05-27T00:00:00\",\"2021-05-28T00:00:00\",\"2021-05-29T00:00:00\",\"2021-05-31T00:00:00\",\"2021-06-01T00:00:00\",\"2021-06-02T00:00:00\",\"2021-06-03T00:00:00\",\"2021-06-04T00:00:00\",\"2021-06-05T00:00:00\",\"2021-06-07T00:00:00\",\"2021-06-08T00:00:00\",\"2021-06-09T00:00:00\",\"2021-06-10T00:00:00\",\"2021-06-11T00:00:00\",\"2021-06-12T00:00:00\",\"2021-06-15T00:00:00\",\"2021-06-16T00:00:00\",\"2021-06-17T00:00:00\",\"2021-06-18T00:00:00\",\"2021-06-19T00:00:00\",\"2021-06-21T00:00:00\",\"2021-06-22T00:00:00\",\"2021-06-23T00:00:00\",\"2021-06-24T00:00:00\",\"2021-06-25T00:00:00\",\"2021-06-26T00:00:00\",\"2021-06-28T00:00:00\",\"2021-06-29T00:00:00\",\"2021-06-30T00:00:00\",\"2021-07-01T00:00:00\",\"2021-07-02T00:00:00\",\"2021-07-03T00:00:00\",\"2021-07-05T00:00:00\",\"2021-07-06T00:00:00\",\"2021-07-07T00:00:00\",\"2021-07-08T00:00:00\",\"2021-07-09T00:00:00\",\"2021-07-10T00:00:00\",\"2021-07-12T00:00:00\",\"2021-07-13T00:00:00\",\"2021-07-14T00:00:00\",\"2021-07-15T00:00:00\",\"2021-07-16T00:00:00\",\"2021-07-17T00:00:00\",\"2021-07-19T00:00:00\",\"2021-07-20T00:00:00\",\"2021-07-21T00:00:00\",\"2021-07-22T00:00:00\",\"2021-07-23T00:00:00\",\"2021-07-24T00:00:00\",\"2021-07-26T00:00:00\",\"2021-07-27T00:00:00\",\"2021-07-28T00:00:00\",\"2021-07-29T00:00:00\",\"2021-07-30T00:00:00\",\"2021-07-31T00:00:00\",\"2021-08-02T00:00:00\",\"2021-08-03T00:00:00\",\"2021-08-04T00:00:00\",\"2021-08-05T00:00:00\",\"2021-08-06T00:00:00\",\"2021-08-07T00:00:00\",\"2021-08-09T00:00:00\",\"2021-08-10T00:00:00\",\"2021-08-11T00:00:00\",\"2021-08-12T00:00:00\",\"2021-08-13T00:00:00\",\"2021-08-14T00:00:00\",\"2021-08-16T00:00:00\",\"2021-08-17T00:00:00\",\"2021-08-18T00:00:00\",\"2021-08-19T00:00:00\",\"2021-08-20T00:00:00\",\"2021-08-21T00:00:00\",\"2021-08-23T00:00:00\",\"2021-08-24T00:00:00\",\"2021-08-25T00:00:00\",\"2021-08-26T00:00:00\",\"2021-08-27T00:00:00\",\"2021-08-28T00:00:00\",\"2021-08-30T00:00:00\",\"2021-08-31T00:00:00\",\"2021-09-01T00:00:00\",\"2021-09-02T00:00:00\",\"2021-09-03T00:00:00\",\"2021-09-04T00:00:00\",\"2021-09-06T00:00:00\",\"2021-09-07T00:00:00\",\"2021-09-08T00:00:00\",\"2021-09-09T00:00:00\",\"2021-09-10T00:00:00\",\"2021-09-11T00:00:00\",\"2021-09-13T00:00:00\",\"2021-09-14T00:00:00\",\"2021-09-15T00:00:00\",\"2021-09-16T00:00:00\",\"2021-09-17T00:00:00\",\"2021-09-18T00:00:00\",\"2021-09-20T00:00:00\",\"2021-09-22T00:00:00\",\"2021-09-23T00:00:00\",\"2021-09-24T00:00:00\",\"2021-09-25T00:00:00\",\"2021-09-27T00:00:00\",\"2021-09-28T00:00:00\",\"2021-09-29T00:00:00\",\"2021-09-30T00:00:00\",\"2021-10-01T00:00:00\",\"2021-10-02T00:00:00\",\"2021-10-04T00:00:00\",\"2021-10-05T00:00:00\",\"2021-10-06T00:00:00\",\"2021-10-07T00:00:00\",\"2021-10-08T00:00:00\",\"2021-10-12T00:00:00\",\"2021-10-13T00:00:00\",\"2021-10-14T00:00:00\",\"2021-10-15T00:00:00\",\"2021-10-16T00:00:00\",\"2021-10-18T00:00:00\",\"2021-10-19T00:00:00\",\"2021-10-20T00:00:00\",\"2021-10-21T00:00:00\",\"2021-10-22T00:00:00\",\"2021-10-23T00:00:00\",\"2021-10-25T00:00:00\",\"2021-10-26T00:00:00\",\"2021-10-27T00:00:00\",\"2021-10-28T00:00:00\",\"2021-10-29T00:00:00\",\"2021-10-30T00:00:00\",\"2021-10-31T00:00:00\",\"2021-11-01T00:00:00\",\"2021-11-02T00:00:00\",\"2021-11-03T00:00:00\",\"2021-11-04T00:00:00\",\"2021-11-05T00:00:00\",\"2021-11-06T00:00:00\",\"2021-11-08T00:00:00\",\"2021-11-09T00:00:00\",\"2021-11-10T00:00:00\",\"2021-11-11T00:00:00\",\"2021-11-12T00:00:00\",\"2021-11-13T00:00:00\",\"2021-11-15T00:00:00\",\"2021-11-16T00:00:00\",\"2021-11-17T00:00:00\",\"2021-11-18T00:00:00\",\"2021-11-19T00:00:00\",\"2021-11-20T00:00:00\",\"2021-11-22T00:00:00\",\"2021-11-23T00:00:00\",\"2021-11-24T00:00:00\",\"2021-11-25T00:00:00\",\"2021-11-26T00:00:00\",\"2021-11-27T00:00:00\",\"2021-11-29T00:00:00\",\"2021-11-30T00:00:00\",\"2021-12-01T00:00:00\",\"2021-12-02T00:00:00\",\"2021-12-03T00:00:00\",\"2021-12-04T00:00:00\",\"2021-12-06T00:00:00\",\"2021-12-07T00:00:00\",\"2021-12-08T00:00:00\",\"2021-12-09T00:00:00\",\"2021-12-10T00:00:00\",\"2021-12-11T00:00:00\",\"2021-12-13T00:00:00\",\"2021-12-14T00:00:00\",\"2021-12-15T00:00:00\",\"2021-12-16T00:00:00\",\"2021-12-17T00:00:00\",\"2021-12-19T00:00:00\",\"2021-12-20T00:00:00\",\"2021-12-21T00:00:00\",\"2021-12-22T00:00:00\",\"2021-12-23T00:00:00\",\"2021-12-24T00:00:00\",\"2021-12-25T00:00:00\",\"2021-12-27T00:00:00\",\"2021-12-28T00:00:00\",\"2021-12-29T00:00:00\",\"2021-12-30T00:00:00\",\"2021-12-31T00:00:00\",\"2022-01-03T00:00:00\",\"2022-01-04T00:00:00\",\"2022-01-05T00:00:00\",\"2022-01-06T00:00:00\",\"2022-01-07T00:00:00\",\"2022-01-08T00:00:00\",\"2022-01-10T00:00:00\",\"2022-01-11T00:00:00\",\"2022-01-12T00:00:00\",\"2022-01-13T00:00:00\",\"2022-01-14T00:00:00\",\"2022-01-15T00:00:00\",\"2022-01-17T00:00:00\",\"2022-01-18T00:00:00\",\"2022-01-19T00:00:00\",\"2022-01-20T00:00:00\",\"2022-01-21T00:00:00\",\"2022-01-22T00:00:00\",\"2022-01-23T00:00:00\",\"2022-01-24T00:00:00\",\"2022-01-25T00:00:00\",\"2022-01-26T00:00:00\",\"2022-01-27T00:00:00\",\"2022-01-28T00:00:00\",\"2022-01-29T00:00:00\",\"2022-02-07T00:00:00\",\"2022-02-08T00:00:00\",\"2022-02-09T00:00:00\",\"2022-02-10T00:00:00\",\"2022-02-11T00:00:00\",\"2022-02-12T00:00:00\",\"2022-02-14T00:00:00\",\"2022-02-15T00:00:00\",\"2022-02-16T00:00:00\",\"2022-02-17T00:00:00\",\"2022-02-18T00:00:00\",\"2022-02-19T00:00:00\",\"2022-02-21T00:00:00\",\"2022-02-22T00:00:00\",\"2022-02-23T00:00:00\",\"2022-02-24T00:00:00\",\"2022-02-25T00:00:00\",\"2022-02-26T00:00:00\",\"2022-03-01T00:00:00\",\"2022-03-02T00:00:00\",\"2022-03-03T00:00:00\",\"2022-03-04T00:00:00\",\"2022-03-07T00:00:00\",\"2022-03-08T00:00:00\",\"2022-03-09T00:00:00\",\"2022-03-10T00:00:00\",\"2022-03-11T00:00:00\",\"2022-03-12T00:00:00\",\"2022-03-14T00:00:00\",\"2022-03-15T00:00:00\",\"2022-03-16T00:00:00\",\"2022-03-17T00:00:00\",\"2022-03-18T00:00:00\",\"2022-03-19T00:00:00\",\"2022-03-21T00:00:00\",\"2022-03-22T00:00:00\",\"2022-03-23T00:00:00\",\"2022-03-24T00:00:00\",\"2022-03-25T00:00:00\",\"2022-03-26T00:00:00\",\"2022-03-28T00:00:00\",\"2022-03-29T00:00:00\",\"2022-03-30T00:00:00\",\"2022-03-31T00:00:00\",\"2022-04-01T00:00:00\",\"2022-04-06T00:00:00\",\"2022-04-07T00:00:00\",\"2022-04-08T00:00:00\",\"2022-04-09T00:00:00\",\"2022-04-11T00:00:00\",\"2022-04-12T00:00:00\",\"2022-04-13T00:00:00\",\"2022-04-14T00:00:00\",\"2022-04-15T00:00:00\",\"2022-04-16T00:00:00\",\"2022-04-18T00:00:00\",\"2022-04-19T00:00:00\",\"2022-04-20T00:00:00\",\"2022-04-21T00:00:00\",\"2022-04-22T00:00:00\",\"2022-04-23T00:00:00\",\"2022-04-25T00:00:00\",\"2022-04-26T00:00:00\",\"2022-04-27T00:00:00\",\"2022-04-28T00:00:00\",\"2022-04-29T00:00:00\",\"2022-04-30T00:00:00\"],\"y\":[-133.0,-23.0,-248.0,176.0,-470.0,527.0,-224.0,218.0,-169.0,-82.0,-265.0,296.0,218.0,99.0,-101.0,-64.0,-444.0,392.0,-69.0,-1.0,245.0,530.0,-764.0,-58.0,207.0,-39.0,-115.0,-17.0,-161.0,-170.0,361.0,-80.0,-148.0,-74.0,347.0,-172.0,-149.0,307.0,125.0,327.0,-367.0,501.0,-110.0,-869.0,8.0,954.0,-460.0,-212.0,13.0,-8.0,15.0,-10.0,209.0,-215.0,-296.0,561.0,-195.0,206.0,349.0,-125.0,-788.0,601.0,-73.0,580.0,-447.0,202.0,-701.0,1545.0,-291.0,120.0,-1342.0,-151.0,-40.0,670.0,-259.0,16.0,-233.0,-168.0,79.0,397.0,-98.0,-176.0,14.0,-267.0,427.0,158.0,-112.0,246.0,-295.0,-400.0,743.0,-281.0,93.0,-76.0,-5.0,259.0,-537.0,447.0,-440.0,305.0,-462.0,550.0,-170.0,3.0,-183.0,84.0,-333.0,1085.0,-680.0,-98.0,321.0,-148.0,-423.0,195.0,434.0,-342.0,183.0,-22.0,-526.0,811.0,-457.0,164.0,184.0,-360.0,-288.0,156.0,353.0,-405.0,764.0,-390.0,-515.0,326.0,166.0,-167.0,663.0,-965.0,205.0,295.0,-151.0,26.0,-49.0,-350.0,506.0,75.0,323.0,-178.0,-469.0,-254.0,477.0,-316.0,38.0,202.0,-36.0,-322.0,312.0,-115.0,198.0,14.0,-80.0,-375.0,633.0,-389.0,259.0,28.0,177.0,-726.0,552.0,106.0,-159.0,77.0,-28.0,438.0,-260.0,-219.0,-208.0,183.0,7.0,-403.0,185.0,291.0,16.0,97.0,-369.0,-282.0,490.0,-300.0,602.0,-500.0,170.0,-468.0,558.0,-204.0,355.0,29.0,-321.0,-403.0,868.0,1852.0,-2222.0,-173.0,-71.0,-257.0,495.0,7.0,377.0,-86.0,38.0,-792.0,722.0,-165.0,311.0,-43.0,-378.0,-496.0,119.0,506.0,-118.0,-70.0,-430.0,1298.0,-450.0,180.0,942.0,-1545.0,-452.0,303.0,-4.0,226.0,-366.0,114.0,45.0,109.0,-92.0,-76.0,-223.0,369.0,-2.0,-52.0,327.0,-235.0,-423.0,251.0,94.0,-150.0,448.0,275.0,-545.0,-395.0,530.0,-148.0,10.0,-27.0,48.0,-358.0,188.0,151.0,-22.0,-160.0,131.0,-186.0,361.0,-79.0,249.0,-96.0,-155.0,-394.0,656.0,-121.0,-149.0,-147.0,4.0,-269.0,1137.0,372.0,-829.0,-413.0,-96.0,-138.0,257.0,4.0,-10.0,84.0,24.0,-367.0,215.0,431.0,-395.0,61.0,21.0,-374.0,433.0,-52.0,113.0,-149.0,-143.0,-193.0,278.0,211.0,214.0,337.0,-579.0,-6.0,240.0,-383.0,76.0,286.0,-671.0,332.0,-77.0,105.0,-24.0,37.0,-361.0,501.0,272.0,-186.0,-262.0,451.0,-755.0,-20.0,535.0,-170.0,453.0,-338.0,176.0,42.0,-307.0,-183.0,52.0,140.0,-152.0,-209.0,592.0,-409.0,237.0,43.0,667.0,-1162.0,935.0,270.0,129.0,21.0,52.0,-476.0,-724.0,-4.0,-164.0,264.0,-53.0,-128.0,190.0,-57.0,60.0,-337.0,303.0,392.0,-338.0,75.0,-50.0,-354.0,177.0,491.0,-277.0,772.0,-630.0,-565.0,704.0,209.0,47.0,640.0,-1039.0,-387.0,26.0,-21.0,-179.0,254.0,-106.0,85.0,303.0,-414.0,-110.0,205.0,-28.0,180.0,-10.0,-29.0,-333.0,124.0,182.0,255.0,45.0,262.0,-560.0]}],                        {\"template\":{\"data\":{\"bar\":[{\"error_x\":{\"color\":\"#2a3f5f\"},\"error_y\":{\"color\":\"#2a3f5f\"},\"marker\":{\"line\":{\"color\":\"#E5ECF6\",\"width\":0.5},\"pattern\":{\"fillmode\":\"overlay\",\"size\":10,\"solidity\":0.2}},\"type\":\"bar\"}],\"barpolar\":[{\"marker\":{\"line\":{\"color\":\"#E5ECF6\",\"width\":0.5},\"pattern\":{\"fillmode\":\"overlay\",\"size\":10,\"solidity\":0.2}},\"type\":\"barpolar\"}],\"carpet\":[{\"aaxis\":{\"endlinecolor\":\"#2a3f5f\",\"gridcolor\":\"white\",\"linecolor\":\"white\",\"minorgridcolor\":\"white\",\"startlinecolor\":\"#2a3f5f\"},\"baxis\":{\"endlinecolor\":\"#2a3f5f\",\"gridcolor\":\"white\",\"linecolor\":\"white\",\"minorgridcolor\":\"white\",\"startlinecolor\":\"#2a3f5f\"},\"type\":\"carpet\"}],\"choropleth\":[{\"colorbar\":{\"outlinewidth\":0,\"ticks\":\"\"},\"type\":\"choropleth\"}],\"contour\":[{\"colorbar\":{\"outlinewidth\":0,\"ticks\":\"\"},\"colorscale\":[[0.0,\"#0d0887\"],[0.1111111111111111,\"#46039f\"],[0.2222222222222222,\"#7201a8\"],[0.3333333333333333,\"#9c179e\"],[0.4444444444444444,\"#bd3786\"],[0.5555555555555556,\"#d8576b\"],[0.6666666666666666,\"#ed7953\"],[0.7777777777777778,\"#fb9f3a\"],[0.8888888888888888,\"#fdca26\"],[1.0,\"#f0f921\"]],\"type\":\"contour\"}],\"contourcarpet\":[{\"colorbar\":{\"outlinewidth\":0,\"ticks\":\"\"},\"type\":\"contourcarpet\"}],\"heatmap\":[{\"colorbar\":{\"outlinewidth\":0,\"ticks\":\"\"},\"colorscale\":[[0.0,\"#0d0887\"],[0.1111111111111111,\"#46039f\"],[0.2222222222222222,\"#7201a8\"],[0.3333333333333333,\"#9c179e\"],[0.4444444444444444,\"#bd3786\"],[0.5555555555555556,\"#d8576b\"],[0.6666666666666666,\"#ed7953\"],[0.7777777777777778,\"#fb9f3a\"],[0.8888888888888888,\"#fdca26\"],[1.0,\"#f0f921\"]],\"type\":\"heatmap\"}],\"heatmapgl\":[{\"colorbar\":{\"outlinewidth\":0,\"ticks\":\"\"},\"colorscale\":[[0.0,\"#0d0887\"],[0.1111111111111111,\"#46039f\"],[0.2222222222222222,\"#7201a8\"],[0.3333333333333333,\"#9c179e\"],[0.4444444444444444,\"#bd3786\"],[0.5555555555555556,\"#d8576b\"],[0.6666666666666666,\"#ed7953\"],[0.7777777777777778,\"#fb9f3a\"],[0.8888888888888888,\"#fdca26\"],[1.0,\"#f0f921\"]],\"type\":\"heatmapgl\"}],\"histogram\":[{\"marker\":{\"pattern\":{\"fillmode\":\"overlay\",\"size\":10,\"solidity\":0.2}},\"type\":\"histogram\"}],\"histogram2d\":[{\"colorbar\":{\"outlinewidth\":0,\"ticks\":\"\"},\"colorscale\":[[0.0,\"#0d0887\"],[0.1111111111111111,\"#46039f\"],[0.2222222222222222,\"#7201a8\"],[0.3333333333333333,\"#9c179e\"],[0.4444444444444444,\"#bd3786\"],[0.5555555555555556,\"#d8576b\"],[0.6666666666666666,\"#ed7953\"],[0.7777777777777778,\"#fb9f3a\"],[0.8888888888888888,\"#fdca26\"],[1.0,\"#f0f921\"]],\"type\":\"histogram2d\"}],\"histogram2dcontour\":[{\"colorbar\":{\"outlinewidth\":0,\"ticks\":\"\"},\"colorscale\":[[0.0,\"#0d0887\"],[0.1111111111111111,\"#46039f\"],[0.2222222222222222,\"#7201a8\"],[0.3333333333333333,\"#9c179e\"],[0.4444444444444444,\"#bd3786\"],[0.5555555555555556,\"#d8576b\"],[0.6666666666666666,\"#ed7953\"],[0.7777777777777778,\"#fb9f3a\"],[0.8888888888888888,\"#fdca26\"],[1.0,\"#f0f921\"]],\"type\":\"histogram2dcontour\"}],\"mesh3d\":[{\"colorbar\":{\"outlinewidth\":0,\"ticks\":\"\"},\"type\":\"mesh3d\"}],\"parcoords\":[{\"line\":{\"colorbar\":{\"outlinewidth\":0,\"ticks\":\"\"}},\"type\":\"parcoords\"}],\"pie\":[{\"automargin\":true,\"type\":\"pie\"}],\"scatter\":[{\"marker\":{\"colorbar\":{\"outlinewidth\":0,\"ticks\":\"\"}},\"type\":\"scatter\"}],\"scatter3d\":[{\"line\":{\"colorbar\":{\"outlinewidth\":0,\"ticks\":\"\"}},\"marker\":{\"colorbar\":{\"outlinewidth\":0,\"ticks\":\"\"}},\"type\":\"scatter3d\"}],\"scattercarpet\":[{\"marker\":{\"colorbar\":{\"outlinewidth\":0,\"ticks\":\"\"}},\"type\":\"scattercarpet\"}],\"scattergeo\":[{\"marker\":{\"colorbar\":{\"outlinewidth\":0,\"ticks\":\"\"}},\"type\":\"scattergeo\"}],\"scattergl\":[{\"marker\":{\"colorbar\":{\"outlinewidth\":0,\"ticks\":\"\"}},\"type\":\"scattergl\"}],\"scattermapbox\":[{\"marker\":{\"colorbar\":{\"outlinewidth\":0,\"ticks\":\"\"}},\"type\":\"scattermapbox\"}],\"scatterpolar\":[{\"marker\":{\"colorbar\":{\"outlinewidth\":0,\"ticks\":\"\"}},\"type\":\"scatterpolar\"}],\"scatterpolargl\":[{\"marker\":{\"colorbar\":{\"outlinewidth\":0,\"ticks\":\"\"}},\"type\":\"scatterpolargl\"}],\"scatterternary\":[{\"marker\":{\"colorbar\":{\"outlinewidth\":0,\"ticks\":\"\"}},\"type\":\"scatterternary\"}],\"surface\":[{\"colorbar\":{\"outlinewidth\":0,\"ticks\":\"\"},\"colorscale\":[[0.0,\"#0d0887\"],[0.1111111111111111,\"#46039f\"],[0.2222222222222222,\"#7201a8\"],[0.3333333333333333,\"#9c179e\"],[0.4444444444444444,\"#bd3786\"],[0.5555555555555556,\"#d8576b\"],[0.6666666666666666,\"#ed7953\"],[0.7777777777777778,\"#fb9f3a\"],[0.8888888888888888,\"#fdca26\"],[1.0,\"#f0f921\"]],\"type\":\"surface\"}],\"table\":[{\"cells\":{\"fill\":{\"color\":\"#EBF0F8\"},\"line\":{\"color\":\"white\"}},\"header\":{\"fill\":{\"color\":\"#C8D4E3\"},\"line\":{\"color\":\"white\"}},\"type\":\"table\"}]},\"layout\":{\"annotationdefaults\":{\"arrowcolor\":\"#2a3f5f\",\"arrowhead\":0,\"arrowwidth\":1},\"autotypenumbers\":\"strict\",\"coloraxis\":{\"colorbar\":{\"outlinewidth\":0,\"ticks\":\"\"}},\"colorscale\":{\"diverging\":[[0,\"#8e0152\"],[0.1,\"#c51b7d\"],[0.2,\"#de77ae\"],[0.3,\"#f1b6da\"],[0.4,\"#fde0ef\"],[0.5,\"#f7f7f7\"],[0.6,\"#e6f5d0\"],[0.7,\"#b8e186\"],[0.8,\"#7fbc41\"],[0.9,\"#4d9221\"],[1,\"#276419\"]],\"sequential\":[[0.0,\"#0d0887\"],[0.1111111111111111,\"#46039f\"],[0.2222222222222222,\"#7201a8\"],[0.3333333333333333,\"#9c179e\"],[0.4444444444444444,\"#bd3786\"],[0.5555555555555556,\"#d8576b\"],[0.6666666666666666,\"#ed7953\"],[0.7777777777777778,\"#fb9f3a\"],[0.8888888888888888,\"#fdca26\"],[1.0,\"#f0f921\"]],\"sequentialminus\":[[0.0,\"#0d0887\"],[0.1111111111111111,\"#46039f\"],[0.2222222222222222,\"#7201a8\"],[0.3333333333333333,\"#9c179e\"],[0.4444444444444444,\"#bd3786\"],[0.5555555555555556,\"#d8576b\"],[0.6666666666666666,\"#ed7953\"],[0.7777777777777778,\"#fb9f3a\"],[0.8888888888888888,\"#fdca26\"],[1.0,\"#f0f921\"]]},\"colorway\":[\"#636efa\",\"#EF553B\",\"#00cc96\",\"#ab63fa\",\"#FFA15A\",\"#19d3f3\",\"#FF6692\",\"#B6E880\",\"#FF97FF\",\"#FECB52\"],\"font\":{\"color\":\"#2a3f5f\"},\"geo\":{\"bgcolor\":\"white\",\"lakecolor\":\"white\",\"landcolor\":\"#E5ECF6\",\"showlakes\":true,\"showland\":true,\"subunitcolor\":\"white\"},\"hoverlabel\":{\"align\":\"left\"},\"hovermode\":\"closest\",\"mapbox\":{\"style\":\"light\"},\"paper_bgcolor\":\"white\",\"plot_bgcolor\":\"#E5ECF6\",\"polar\":{\"angularaxis\":{\"gridcolor\":\"white\",\"linecolor\":\"white\",\"ticks\":\"\"},\"bgcolor\":\"#E5ECF6\",\"radialaxis\":{\"gridcolor\":\"white\",\"linecolor\":\"white\",\"ticks\":\"\"}},\"scene\":{\"xaxis\":{\"backgroundcolor\":\"#E5ECF6\",\"gridcolor\":\"white\",\"gridwidth\":2,\"linecolor\":\"white\",\"showbackground\":true,\"ticks\":\"\",\"zerolinecolor\":\"white\"},\"yaxis\":{\"backgroundcolor\":\"#E5ECF6\",\"gridcolor\":\"white\",\"gridwidth\":2,\"linecolor\":\"white\",\"showbackground\":true,\"ticks\":\"\",\"zerolinecolor\":\"white\"},\"zaxis\":{\"backgroundcolor\":\"#E5ECF6\",\"gridcolor\":\"white\",\"gridwidth\":2,\"linecolor\":\"white\",\"showbackground\":true,\"ticks\":\"\",\"zerolinecolor\":\"white\"}},\"shapedefaults\":{\"line\":{\"color\":\"#2a3f5f\"}},\"ternary\":{\"aaxis\":{\"gridcolor\":\"white\",\"linecolor\":\"white\",\"ticks\":\"\"},\"baxis\":{\"gridcolor\":\"white\",\"linecolor\":\"white\",\"ticks\":\"\"},\"bgcolor\":\"#E5ECF6\",\"caxis\":{\"gridcolor\":\"white\",\"linecolor\":\"white\",\"ticks\":\"\"}},\"title\":{\"x\":0.05},\"xaxis\":{\"automargin\":true,\"gridcolor\":\"white\",\"linecolor\":\"white\",\"ticks\":\"\",\"title\":{\"standoff\":15},\"zerolinecolor\":\"white\",\"zerolinewidth\":2},\"yaxis\":{\"automargin\":true,\"gridcolor\":\"white\",\"linecolor\":\"white\",\"ticks\":\"\",\"title\":{\"standoff\":15},\"zerolinecolor\":\"white\",\"zerolinewidth\":2}}}},                        {\"responsive\": true}                    ).then(function(){\n",
       "                            \n",
       "var gd = document.getElementById('b6d82fc1-05de-4dde-a91f-7e23fa0d066c');\n",
       "var x = new MutationObserver(function (mutations, observer) {{\n",
       "        var display = window.getComputedStyle(gd).display;\n",
       "        if (!display || display === 'none') {{\n",
       "            console.log([gd, 'removed!']);\n",
       "            Plotly.purge(gd);\n",
       "            observer.disconnect();\n",
       "        }}\n",
       "}});\n",
       "\n",
       "// Listen for the removal of the full notebook cells\n",
       "var notebookContainer = gd.closest('#notebook-container');\n",
       "if (notebookContainer) {{\n",
       "    x.observe(notebookContainer, {childList: true});\n",
       "}}\n",
       "\n",
       "// Listen for the clearing of the current output cell\n",
       "var outputEl = gd.closest('.output');\n",
       "if (outputEl) {{\n",
       "    x.observe(outputEl, {childList: true});\n",
       "}}\n",
       "\n",
       "                        })                };                });            </script>        </div>"
      ]
     },
     "metadata": {},
     "output_type": "display_data"
    }
   ],
   "source": [
    "plt_data= [go.Scatter(x=df_diff[\"實際出貨日\"], y=df_diff[\"diff\"],)]\n",
    "fig2 = go.Figure(data=plt_data)\n",
    "fig2.show()"
   ]
  },
  {
   "cell_type": "code",
   "execution_count": 171,
   "id": "aba16364",
   "metadata": {},
   "outputs": [],
   "source": [
    "df_supervised= df_diff.drop([\"prev_sales\"], axis=1)"
   ]
  },
  {
   "cell_type": "code",
   "execution_count": 199,
   "id": "6207df9e",
   "metadata": {},
   "outputs": [],
   "source": [
    "for inc in range(1, 31):\n",
    "    filed_name = \"lag_\" + str(inc)\n",
    "    df_supervised[filed_name] = df_supervised[\"diff\"].shift(inc)\n",
    "    "
   ]
  },
  {
   "cell_type": "code",
   "execution_count": 200,
   "id": "a38f91b9",
   "metadata": {},
   "outputs": [],
   "source": [
    "df_supervised = df_supervised.dropna().reset_index(drop=True)"
   ]
  },
  {
   "cell_type": "code",
   "execution_count": 201,
   "id": "57a97484",
   "metadata": {
    "scrolled": true
   },
   "outputs": [
    {
     "data": {
      "text/html": [
       "<div>\n",
       "<style scoped>\n",
       "    .dataframe tbody tr th:only-of-type {\n",
       "        vertical-align: middle;\n",
       "    }\n",
       "\n",
       "    .dataframe tbody tr th {\n",
       "        vertical-align: top;\n",
       "    }\n",
       "\n",
       "    .dataframe thead th {\n",
       "        text-align: right;\n",
       "    }\n",
       "</style>\n",
       "<table border=\"1\" class=\"dataframe\">\n",
       "  <thead>\n",
       "    <tr style=\"text-align: right;\">\n",
       "      <th></th>\n",
       "      <th>實際出貨日</th>\n",
       "      <th>銷售數量</th>\n",
       "      <th>diff</th>\n",
       "      <th>lag_1</th>\n",
       "      <th>lag_2</th>\n",
       "      <th>lag_3</th>\n",
       "      <th>lag_4</th>\n",
       "      <th>lag_5</th>\n",
       "      <th>lag_6</th>\n",
       "      <th>lag_7</th>\n",
       "      <th>lag_8</th>\n",
       "      <th>lag_9</th>\n",
       "      <th>lag_10</th>\n",
       "      <th>lag_11</th>\n",
       "      <th>lag_12</th>\n",
       "      <th>lag_13</th>\n",
       "      <th>lag_14</th>\n",
       "      <th>lag_15</th>\n",
       "      <th>lag_16</th>\n",
       "      <th>lag_17</th>\n",
       "      <th>lag_18</th>\n",
       "      <th>lag_19</th>\n",
       "      <th>lag_20</th>\n",
       "      <th>lag_21</th>\n",
       "      <th>lag_22</th>\n",
       "      <th>lag_23</th>\n",
       "      <th>lag_24</th>\n",
       "      <th>lag_25</th>\n",
       "      <th>lag_26</th>\n",
       "      <th>lag_27</th>\n",
       "      <th>lag_28</th>\n",
       "      <th>lag_29</th>\n",
       "      <th>lag_30</th>\n",
       "    </tr>\n",
       "  </thead>\n",
       "  <tbody>\n",
       "    <tr>\n",
       "      <th>0</th>\n",
       "      <td>2021-03-08</td>\n",
       "      <td>317</td>\n",
       "      <td>-8.0</td>\n",
       "      <td>13.0</td>\n",
       "      <td>-212.0</td>\n",
       "      <td>-460.0</td>\n",
       "      <td>954.0</td>\n",
       "      <td>8.0</td>\n",
       "      <td>-869.0</td>\n",
       "      <td>-110.0</td>\n",
       "      <td>501.0</td>\n",
       "      <td>-367.0</td>\n",
       "      <td>327.0</td>\n",
       "      <td>125.0</td>\n",
       "      <td>307.0</td>\n",
       "      <td>-149.0</td>\n",
       "      <td>-172.0</td>\n",
       "      <td>347.0</td>\n",
       "      <td>-74.0</td>\n",
       "      <td>-148.0</td>\n",
       "      <td>-80.0</td>\n",
       "      <td>361.0</td>\n",
       "      <td>-170.0</td>\n",
       "      <td>-161.0</td>\n",
       "      <td>-17.0</td>\n",
       "      <td>-115.0</td>\n",
       "      <td>-39.0</td>\n",
       "      <td>207.0</td>\n",
       "      <td>-58.0</td>\n",
       "      <td>-764.0</td>\n",
       "      <td>530.0</td>\n",
       "      <td>245.0</td>\n",
       "      <td>-1.0</td>\n",
       "    </tr>\n",
       "    <tr>\n",
       "      <th>1</th>\n",
       "      <td>2021-03-09</td>\n",
       "      <td>332</td>\n",
       "      <td>15.0</td>\n",
       "      <td>-8.0</td>\n",
       "      <td>13.0</td>\n",
       "      <td>-212.0</td>\n",
       "      <td>-460.0</td>\n",
       "      <td>954.0</td>\n",
       "      <td>8.0</td>\n",
       "      <td>-869.0</td>\n",
       "      <td>-110.0</td>\n",
       "      <td>501.0</td>\n",
       "      <td>-367.0</td>\n",
       "      <td>327.0</td>\n",
       "      <td>125.0</td>\n",
       "      <td>307.0</td>\n",
       "      <td>-149.0</td>\n",
       "      <td>-172.0</td>\n",
       "      <td>347.0</td>\n",
       "      <td>-74.0</td>\n",
       "      <td>-148.0</td>\n",
       "      <td>-80.0</td>\n",
       "      <td>361.0</td>\n",
       "      <td>-170.0</td>\n",
       "      <td>-161.0</td>\n",
       "      <td>-17.0</td>\n",
       "      <td>-115.0</td>\n",
       "      <td>-39.0</td>\n",
       "      <td>207.0</td>\n",
       "      <td>-58.0</td>\n",
       "      <td>-764.0</td>\n",
       "      <td>530.0</td>\n",
       "      <td>245.0</td>\n",
       "    </tr>\n",
       "    <tr>\n",
       "      <th>2</th>\n",
       "      <td>2021-03-10</td>\n",
       "      <td>322</td>\n",
       "      <td>-10.0</td>\n",
       "      <td>15.0</td>\n",
       "      <td>-8.0</td>\n",
       "      <td>13.0</td>\n",
       "      <td>-212.0</td>\n",
       "      <td>-460.0</td>\n",
       "      <td>954.0</td>\n",
       "      <td>8.0</td>\n",
       "      <td>-869.0</td>\n",
       "      <td>-110.0</td>\n",
       "      <td>501.0</td>\n",
       "      <td>-367.0</td>\n",
       "      <td>327.0</td>\n",
       "      <td>125.0</td>\n",
       "      <td>307.0</td>\n",
       "      <td>-149.0</td>\n",
       "      <td>-172.0</td>\n",
       "      <td>347.0</td>\n",
       "      <td>-74.0</td>\n",
       "      <td>-148.0</td>\n",
       "      <td>-80.0</td>\n",
       "      <td>361.0</td>\n",
       "      <td>-170.0</td>\n",
       "      <td>-161.0</td>\n",
       "      <td>-17.0</td>\n",
       "      <td>-115.0</td>\n",
       "      <td>-39.0</td>\n",
       "      <td>207.0</td>\n",
       "      <td>-58.0</td>\n",
       "      <td>-764.0</td>\n",
       "      <td>530.0</td>\n",
       "    </tr>\n",
       "    <tr>\n",
       "      <th>3</th>\n",
       "      <td>2021-03-11</td>\n",
       "      <td>531</td>\n",
       "      <td>209.0</td>\n",
       "      <td>-10.0</td>\n",
       "      <td>15.0</td>\n",
       "      <td>-8.0</td>\n",
       "      <td>13.0</td>\n",
       "      <td>-212.0</td>\n",
       "      <td>-460.0</td>\n",
       "      <td>954.0</td>\n",
       "      <td>8.0</td>\n",
       "      <td>-869.0</td>\n",
       "      <td>-110.0</td>\n",
       "      <td>501.0</td>\n",
       "      <td>-367.0</td>\n",
       "      <td>327.0</td>\n",
       "      <td>125.0</td>\n",
       "      <td>307.0</td>\n",
       "      <td>-149.0</td>\n",
       "      <td>-172.0</td>\n",
       "      <td>347.0</td>\n",
       "      <td>-74.0</td>\n",
       "      <td>-148.0</td>\n",
       "      <td>-80.0</td>\n",
       "      <td>361.0</td>\n",
       "      <td>-170.0</td>\n",
       "      <td>-161.0</td>\n",
       "      <td>-17.0</td>\n",
       "      <td>-115.0</td>\n",
       "      <td>-39.0</td>\n",
       "      <td>207.0</td>\n",
       "      <td>-58.0</td>\n",
       "      <td>-764.0</td>\n",
       "    </tr>\n",
       "    <tr>\n",
       "      <th>4</th>\n",
       "      <td>2021-03-12</td>\n",
       "      <td>316</td>\n",
       "      <td>-215.0</td>\n",
       "      <td>209.0</td>\n",
       "      <td>-10.0</td>\n",
       "      <td>15.0</td>\n",
       "      <td>-8.0</td>\n",
       "      <td>13.0</td>\n",
       "      <td>-212.0</td>\n",
       "      <td>-460.0</td>\n",
       "      <td>954.0</td>\n",
       "      <td>8.0</td>\n",
       "      <td>-869.0</td>\n",
       "      <td>-110.0</td>\n",
       "      <td>501.0</td>\n",
       "      <td>-367.0</td>\n",
       "      <td>327.0</td>\n",
       "      <td>125.0</td>\n",
       "      <td>307.0</td>\n",
       "      <td>-149.0</td>\n",
       "      <td>-172.0</td>\n",
       "      <td>347.0</td>\n",
       "      <td>-74.0</td>\n",
       "      <td>-148.0</td>\n",
       "      <td>-80.0</td>\n",
       "      <td>361.0</td>\n",
       "      <td>-170.0</td>\n",
       "      <td>-161.0</td>\n",
       "      <td>-17.0</td>\n",
       "      <td>-115.0</td>\n",
       "      <td>-39.0</td>\n",
       "      <td>207.0</td>\n",
       "      <td>-58.0</td>\n",
       "    </tr>\n",
       "    <tr>\n",
       "      <th>...</th>\n",
       "      <td>...</td>\n",
       "      <td>...</td>\n",
       "      <td>...</td>\n",
       "      <td>...</td>\n",
       "      <td>...</td>\n",
       "      <td>...</td>\n",
       "      <td>...</td>\n",
       "      <td>...</td>\n",
       "      <td>...</td>\n",
       "      <td>...</td>\n",
       "      <td>...</td>\n",
       "      <td>...</td>\n",
       "      <td>...</td>\n",
       "      <td>...</td>\n",
       "      <td>...</td>\n",
       "      <td>...</td>\n",
       "      <td>...</td>\n",
       "      <td>...</td>\n",
       "      <td>...</td>\n",
       "      <td>...</td>\n",
       "      <td>...</td>\n",
       "      <td>...</td>\n",
       "      <td>...</td>\n",
       "      <td>...</td>\n",
       "      <td>...</td>\n",
       "      <td>...</td>\n",
       "      <td>...</td>\n",
       "      <td>...</td>\n",
       "      <td>...</td>\n",
       "      <td>...</td>\n",
       "      <td>...</td>\n",
       "      <td>...</td>\n",
       "      <td>...</td>\n",
       "    </tr>\n",
       "    <tr>\n",
       "      <th>339</th>\n",
       "      <td>2022-04-26</td>\n",
       "      <td>311</td>\n",
       "      <td>182.0</td>\n",
       "      <td>124.0</td>\n",
       "      <td>-333.0</td>\n",
       "      <td>-29.0</td>\n",
       "      <td>-10.0</td>\n",
       "      <td>180.0</td>\n",
       "      <td>-28.0</td>\n",
       "      <td>205.0</td>\n",
       "      <td>-110.0</td>\n",
       "      <td>-414.0</td>\n",
       "      <td>303.0</td>\n",
       "      <td>85.0</td>\n",
       "      <td>-106.0</td>\n",
       "      <td>254.0</td>\n",
       "      <td>-179.0</td>\n",
       "      <td>-21.0</td>\n",
       "      <td>26.0</td>\n",
       "      <td>-387.0</td>\n",
       "      <td>-1039.0</td>\n",
       "      <td>640.0</td>\n",
       "      <td>47.0</td>\n",
       "      <td>209.0</td>\n",
       "      <td>704.0</td>\n",
       "      <td>-565.0</td>\n",
       "      <td>-630.0</td>\n",
       "      <td>772.0</td>\n",
       "      <td>-277.0</td>\n",
       "      <td>491.0</td>\n",
       "      <td>177.0</td>\n",
       "      <td>-354.0</td>\n",
       "      <td>-50.0</td>\n",
       "    </tr>\n",
       "    <tr>\n",
       "      <th>340</th>\n",
       "      <td>2022-04-27</td>\n",
       "      <td>566</td>\n",
       "      <td>255.0</td>\n",
       "      <td>182.0</td>\n",
       "      <td>124.0</td>\n",
       "      <td>-333.0</td>\n",
       "      <td>-29.0</td>\n",
       "      <td>-10.0</td>\n",
       "      <td>180.0</td>\n",
       "      <td>-28.0</td>\n",
       "      <td>205.0</td>\n",
       "      <td>-110.0</td>\n",
       "      <td>-414.0</td>\n",
       "      <td>303.0</td>\n",
       "      <td>85.0</td>\n",
       "      <td>-106.0</td>\n",
       "      <td>254.0</td>\n",
       "      <td>-179.0</td>\n",
       "      <td>-21.0</td>\n",
       "      <td>26.0</td>\n",
       "      <td>-387.0</td>\n",
       "      <td>-1039.0</td>\n",
       "      <td>640.0</td>\n",
       "      <td>47.0</td>\n",
       "      <td>209.0</td>\n",
       "      <td>704.0</td>\n",
       "      <td>-565.0</td>\n",
       "      <td>-630.0</td>\n",
       "      <td>772.0</td>\n",
       "      <td>-277.0</td>\n",
       "      <td>491.0</td>\n",
       "      <td>177.0</td>\n",
       "      <td>-354.0</td>\n",
       "    </tr>\n",
       "    <tr>\n",
       "      <th>341</th>\n",
       "      <td>2022-04-28</td>\n",
       "      <td>611</td>\n",
       "      <td>45.0</td>\n",
       "      <td>255.0</td>\n",
       "      <td>182.0</td>\n",
       "      <td>124.0</td>\n",
       "      <td>-333.0</td>\n",
       "      <td>-29.0</td>\n",
       "      <td>-10.0</td>\n",
       "      <td>180.0</td>\n",
       "      <td>-28.0</td>\n",
       "      <td>205.0</td>\n",
       "      <td>-110.0</td>\n",
       "      <td>-414.0</td>\n",
       "      <td>303.0</td>\n",
       "      <td>85.0</td>\n",
       "      <td>-106.0</td>\n",
       "      <td>254.0</td>\n",
       "      <td>-179.0</td>\n",
       "      <td>-21.0</td>\n",
       "      <td>26.0</td>\n",
       "      <td>-387.0</td>\n",
       "      <td>-1039.0</td>\n",
       "      <td>640.0</td>\n",
       "      <td>47.0</td>\n",
       "      <td>209.0</td>\n",
       "      <td>704.0</td>\n",
       "      <td>-565.0</td>\n",
       "      <td>-630.0</td>\n",
       "      <td>772.0</td>\n",
       "      <td>-277.0</td>\n",
       "      <td>491.0</td>\n",
       "      <td>177.0</td>\n",
       "    </tr>\n",
       "    <tr>\n",
       "      <th>342</th>\n",
       "      <td>2022-04-29</td>\n",
       "      <td>873</td>\n",
       "      <td>262.0</td>\n",
       "      <td>45.0</td>\n",
       "      <td>255.0</td>\n",
       "      <td>182.0</td>\n",
       "      <td>124.0</td>\n",
       "      <td>-333.0</td>\n",
       "      <td>-29.0</td>\n",
       "      <td>-10.0</td>\n",
       "      <td>180.0</td>\n",
       "      <td>-28.0</td>\n",
       "      <td>205.0</td>\n",
       "      <td>-110.0</td>\n",
       "      <td>-414.0</td>\n",
       "      <td>303.0</td>\n",
       "      <td>85.0</td>\n",
       "      <td>-106.0</td>\n",
       "      <td>254.0</td>\n",
       "      <td>-179.0</td>\n",
       "      <td>-21.0</td>\n",
       "      <td>26.0</td>\n",
       "      <td>-387.0</td>\n",
       "      <td>-1039.0</td>\n",
       "      <td>640.0</td>\n",
       "      <td>47.0</td>\n",
       "      <td>209.0</td>\n",
       "      <td>704.0</td>\n",
       "      <td>-565.0</td>\n",
       "      <td>-630.0</td>\n",
       "      <td>772.0</td>\n",
       "      <td>-277.0</td>\n",
       "      <td>491.0</td>\n",
       "    </tr>\n",
       "    <tr>\n",
       "      <th>343</th>\n",
       "      <td>2022-04-30</td>\n",
       "      <td>313</td>\n",
       "      <td>-560.0</td>\n",
       "      <td>262.0</td>\n",
       "      <td>45.0</td>\n",
       "      <td>255.0</td>\n",
       "      <td>182.0</td>\n",
       "      <td>124.0</td>\n",
       "      <td>-333.0</td>\n",
       "      <td>-29.0</td>\n",
       "      <td>-10.0</td>\n",
       "      <td>180.0</td>\n",
       "      <td>-28.0</td>\n",
       "      <td>205.0</td>\n",
       "      <td>-110.0</td>\n",
       "      <td>-414.0</td>\n",
       "      <td>303.0</td>\n",
       "      <td>85.0</td>\n",
       "      <td>-106.0</td>\n",
       "      <td>254.0</td>\n",
       "      <td>-179.0</td>\n",
       "      <td>-21.0</td>\n",
       "      <td>26.0</td>\n",
       "      <td>-387.0</td>\n",
       "      <td>-1039.0</td>\n",
       "      <td>640.0</td>\n",
       "      <td>47.0</td>\n",
       "      <td>209.0</td>\n",
       "      <td>704.0</td>\n",
       "      <td>-565.0</td>\n",
       "      <td>-630.0</td>\n",
       "      <td>772.0</td>\n",
       "      <td>-277.0</td>\n",
       "    </tr>\n",
       "  </tbody>\n",
       "</table>\n",
       "<p>344 rows × 33 columns</p>\n",
       "</div>"
      ],
      "text/plain": [
       "         實際出貨日  銷售數量   diff  lag_1  lag_2  lag_3  lag_4  lag_5  lag_6  lag_7  \\\n",
       "0   2021-03-08   317   -8.0   13.0 -212.0 -460.0  954.0    8.0 -869.0 -110.0   \n",
       "1   2021-03-09   332   15.0   -8.0   13.0 -212.0 -460.0  954.0    8.0 -869.0   \n",
       "2   2021-03-10   322  -10.0   15.0   -8.0   13.0 -212.0 -460.0  954.0    8.0   \n",
       "3   2021-03-11   531  209.0  -10.0   15.0   -8.0   13.0 -212.0 -460.0  954.0   \n",
       "4   2021-03-12   316 -215.0  209.0  -10.0   15.0   -8.0   13.0 -212.0 -460.0   \n",
       "..         ...   ...    ...    ...    ...    ...    ...    ...    ...    ...   \n",
       "339 2022-04-26   311  182.0  124.0 -333.0  -29.0  -10.0  180.0  -28.0  205.0   \n",
       "340 2022-04-27   566  255.0  182.0  124.0 -333.0  -29.0  -10.0  180.0  -28.0   \n",
       "341 2022-04-28   611   45.0  255.0  182.0  124.0 -333.0  -29.0  -10.0  180.0   \n",
       "342 2022-04-29   873  262.0   45.0  255.0  182.0  124.0 -333.0  -29.0  -10.0   \n",
       "343 2022-04-30   313 -560.0  262.0   45.0  255.0  182.0  124.0 -333.0  -29.0   \n",
       "\n",
       "     lag_8  lag_9  lag_10  lag_11  lag_12  lag_13  lag_14  lag_15  lag_16  \\\n",
       "0    501.0 -367.0   327.0   125.0   307.0  -149.0  -172.0   347.0   -74.0   \n",
       "1   -110.0  501.0  -367.0   327.0   125.0   307.0  -149.0  -172.0   347.0   \n",
       "2   -869.0 -110.0   501.0  -367.0   327.0   125.0   307.0  -149.0  -172.0   \n",
       "3      8.0 -869.0  -110.0   501.0  -367.0   327.0   125.0   307.0  -149.0   \n",
       "4    954.0    8.0  -869.0  -110.0   501.0  -367.0   327.0   125.0   307.0   \n",
       "..     ...    ...     ...     ...     ...     ...     ...     ...     ...   \n",
       "339 -110.0 -414.0   303.0    85.0  -106.0   254.0  -179.0   -21.0    26.0   \n",
       "340  205.0 -110.0  -414.0   303.0    85.0  -106.0   254.0  -179.0   -21.0   \n",
       "341  -28.0  205.0  -110.0  -414.0   303.0    85.0  -106.0   254.0  -179.0   \n",
       "342  180.0  -28.0   205.0  -110.0  -414.0   303.0    85.0  -106.0   254.0   \n",
       "343  -10.0  180.0   -28.0   205.0  -110.0  -414.0   303.0    85.0  -106.0   \n",
       "\n",
       "     lag_17  lag_18  lag_19  lag_20  lag_21  lag_22  lag_23  lag_24  lag_25  \\\n",
       "0    -148.0   -80.0   361.0  -170.0  -161.0   -17.0  -115.0   -39.0   207.0   \n",
       "1     -74.0  -148.0   -80.0   361.0  -170.0  -161.0   -17.0  -115.0   -39.0   \n",
       "2     347.0   -74.0  -148.0   -80.0   361.0  -170.0  -161.0   -17.0  -115.0   \n",
       "3    -172.0   347.0   -74.0  -148.0   -80.0   361.0  -170.0  -161.0   -17.0   \n",
       "4    -149.0  -172.0   347.0   -74.0  -148.0   -80.0   361.0  -170.0  -161.0   \n",
       "..      ...     ...     ...     ...     ...     ...     ...     ...     ...   \n",
       "339  -387.0 -1039.0   640.0    47.0   209.0   704.0  -565.0  -630.0   772.0   \n",
       "340    26.0  -387.0 -1039.0   640.0    47.0   209.0   704.0  -565.0  -630.0   \n",
       "341   -21.0    26.0  -387.0 -1039.0   640.0    47.0   209.0   704.0  -565.0   \n",
       "342  -179.0   -21.0    26.0  -387.0 -1039.0   640.0    47.0   209.0   704.0   \n",
       "343   254.0  -179.0   -21.0    26.0  -387.0 -1039.0   640.0    47.0   209.0   \n",
       "\n",
       "     lag_26  lag_27  lag_28  lag_29  lag_30  \n",
       "0     -58.0  -764.0   530.0   245.0    -1.0  \n",
       "1     207.0   -58.0  -764.0   530.0   245.0  \n",
       "2     -39.0   207.0   -58.0  -764.0   530.0  \n",
       "3    -115.0   -39.0   207.0   -58.0  -764.0  \n",
       "4     -17.0  -115.0   -39.0   207.0   -58.0  \n",
       "..      ...     ...     ...     ...     ...  \n",
       "339  -277.0   491.0   177.0  -354.0   -50.0  \n",
       "340   772.0  -277.0   491.0   177.0  -354.0  \n",
       "341  -630.0   772.0  -277.0   491.0   177.0  \n",
       "342  -565.0  -630.0   772.0  -277.0   491.0  \n",
       "343   704.0  -565.0  -630.0   772.0  -277.0  \n",
       "\n",
       "[344 rows x 33 columns]"
      ]
     },
     "execution_count": 201,
     "metadata": {},
     "output_type": "execute_result"
    }
   ],
   "source": [
    "df_supervised"
   ]
  },
  {
   "cell_type": "code",
   "execution_count": 190,
   "id": "3608a590",
   "metadata": {},
   "outputs": [],
   "source": [
    "import statsmodels.formula.api as smf"
   ]
  },
  {
   "cell_type": "code",
   "execution_count": 210,
   "id": "05aa66d1",
   "metadata": {},
   "outputs": [],
   "source": [
    "model = smf.ols(formula=\"diff ~ lag_1 + lag_2 + lag_3 + lag_4 + lag_5 + lag_6 + lag_7 + lag_8 + lag_9 + lag_10 + lag_11 + lag_12 + lag_13 + lag_14 + lag_15 + lag_16 + lag_17 + lag_18 + lag_19 + lag_20  + lag_21 + lag_22 + lag_23 + lag_24 + lag_25 + lag_26 + lag_27 + lag_28 + lag_29 + lag_30\", data=df_supervised)"
   ]
  },
  {
   "cell_type": "code",
   "execution_count": 211,
   "id": "8b74c61c",
   "metadata": {},
   "outputs": [],
   "source": [
    "model_fit = model.fit()"
   ]
  },
  {
   "cell_type": "code",
   "execution_count": 212,
   "id": "f696d761",
   "metadata": {},
   "outputs": [],
   "source": [
    "regression_adj_rsq = model_fit.rsquared_adj"
   ]
  },
  {
   "cell_type": "code",
   "execution_count": 213,
   "id": "ee9a5cfc",
   "metadata": {},
   "outputs": [
    {
     "name": "stdout",
     "output_type": "stream",
     "text": [
      "0.3989642554751267\n"
     ]
    }
   ],
   "source": [
    "print(regression_adj_rsq)"
   ]
  },
  {
   "cell_type": "code",
   "execution_count": 214,
   "id": "80ae2b5f",
   "metadata": {},
   "outputs": [],
   "source": [
    "from sklearn.preprocessing import MinMaxScaler"
   ]
  },
  {
   "cell_type": "code",
   "execution_count": 215,
   "id": "5bb8654b",
   "metadata": {},
   "outputs": [],
   "source": [
    "df_model = df_supervised.drop([\"銷售數量\", \"實際出貨日\"], axis=1)"
   ]
  },
  {
   "cell_type": "code",
   "execution_count": 230,
   "id": "e527501a",
   "metadata": {
    "scrolled": true
   },
   "outputs": [],
   "source": [
    "train_set, test_set = df_model[0:239].values, df_model[239:].values"
   ]
  },
  {
   "cell_type": "code",
   "execution_count": 231,
   "id": "3d478e76",
   "metadata": {},
   "outputs": [],
   "source": [
    "scaler = MinMaxScaler(feature_range=(-1, 1))\n",
    "scaler = scaler.fit(train_set)"
   ]
  },
  {
   "cell_type": "code",
   "execution_count": 227,
   "id": "995860a7",
   "metadata": {},
   "outputs": [],
   "source": [
    "train_set = scaler.fit(train_set)"
   ]
  },
  {
   "cell_type": "code",
   "execution_count": 236,
   "id": "5408af23",
   "metadata": {
    "scrolled": true
   },
   "outputs": [],
   "source": [
    "train_set = train_set.reshape(train_set.shape[0], train_set.shape[1])"
   ]
  },
  {
   "cell_type": "code",
   "execution_count": 237,
   "id": "43eec401",
   "metadata": {},
   "outputs": [],
   "source": [
    "train_set_scaled = scaler.transform(train_set)"
   ]
  },
  {
   "cell_type": "code",
   "execution_count": 242,
   "id": "f420612f",
   "metadata": {},
   "outputs": [],
   "source": [
    "test_set = test_set.reshape(test_set.shape[0], test_set.shape[1])\n",
    "test_set_scaled = scaler.transform(test_set)"
   ]
  },
  {
   "cell_type": "code",
   "execution_count": 239,
   "id": "95d3c7b7",
   "metadata": {},
   "outputs": [],
   "source": [
    "x_train, y_train = train_set_scaled[:, 1:], train_set_scaled[:, 0:1]"
   ]
  },
  {
   "cell_type": "code",
   "execution_count": 240,
   "id": "692fa7b6",
   "metadata": {},
   "outputs": [],
   "source": [
    "x_train = x_train.reshape(x_train.shape[0], 1, x_train.shape[1])"
   ]
  },
  {
   "cell_type": "code",
   "execution_count": 243,
   "id": "520f4fe7",
   "metadata": {},
   "outputs": [],
   "source": [
    "x_test, y_test = test_set_scaled[:, 1:], test_set_scaled[:, 0:1]"
   ]
  },
  {
   "cell_type": "code",
   "execution_count": 244,
   "id": "68f215b7",
   "metadata": {},
   "outputs": [],
   "source": [
    "x_test = x_test.reshape(x_test.shape[0], 1, x_test.shape[1])"
   ]
  },
  {
   "cell_type": "code",
   "execution_count": 246,
   "id": "be9402a3",
   "metadata": {},
   "outputs": [
    {
     "name": "stdout",
     "output_type": "stream",
     "text": [
      "Epoch 1/100\n",
      "239/239 [==============================] - 2s 1ms/step - loss: 0.0540\n",
      "Epoch 2/100\n",
      "239/239 [==============================] - 0s 1ms/step - loss: 0.0469\n",
      "Epoch 3/100\n",
      "239/239 [==============================] - 0s 1ms/step - loss: 0.0445\n",
      "Epoch 4/100\n",
      "239/239 [==============================] - 0s 1ms/step - loss: 0.0424\n",
      "Epoch 5/100\n",
      "239/239 [==============================] - 0s 1ms/step - loss: 0.0402\n",
      "Epoch 6/100\n",
      "239/239 [==============================] - 1s 3ms/step - loss: 0.0380\n",
      "Epoch 7/100\n",
      "239/239 [==============================] - 0s 1ms/step - loss: 0.0359\n",
      "Epoch 8/100\n",
      "239/239 [==============================] - 0s 1ms/step - loss: 0.0340\n",
      "Epoch 9/100\n",
      "239/239 [==============================] - 0s 1ms/step - loss: 0.0323\n",
      "Epoch 10/100\n",
      "239/239 [==============================] - 0s 2ms/step - loss: 0.0308\n",
      "Epoch 11/100\n",
      "239/239 [==============================] - 0s 1ms/step - loss: 0.0295\n",
      "Epoch 12/100\n",
      "239/239 [==============================] - 0s 1ms/step - loss: 0.0284\n",
      "Epoch 13/100\n",
      "239/239 [==============================] - 0s 1ms/step - loss: 0.0274\n",
      "Epoch 14/100\n",
      "239/239 [==============================] - 0s 1ms/step - loss: 0.0265\n",
      "Epoch 15/100\n",
      "239/239 [==============================] - 0s 1ms/step - loss: 0.0257\n",
      "Epoch 16/100\n",
      "239/239 [==============================] - 0s 1ms/step - loss: 0.0249\n",
      "Epoch 17/100\n",
      "239/239 [==============================] - 0s 1ms/step - loss: 0.0242\n",
      "Epoch 18/100\n",
      "239/239 [==============================] - 0s 1ms/step - loss: 0.0235\n",
      "Epoch 19/100\n",
      "239/239 [==============================] - 0s 1ms/step - loss: 0.0229\n",
      "Epoch 20/100\n",
      "239/239 [==============================] - 0s 1ms/step - loss: 0.0223\n",
      "Epoch 21/100\n",
      "239/239 [==============================] - 0s 1ms/step - loss: 0.0217\n",
      "Epoch 22/100\n",
      "239/239 [==============================] - 0s 1ms/step - loss: 0.0212\n",
      "Epoch 23/100\n",
      "239/239 [==============================] - 0s 1ms/step - loss: 0.0208\n",
      "Epoch 24/100\n",
      "239/239 [==============================] - 0s 1ms/step - loss: 0.0204\n",
      "Epoch 25/100\n",
      "239/239 [==============================] - 0s 1ms/step - loss: 0.0200\n",
      "Epoch 26/100\n",
      "239/239 [==============================] - 0s 2ms/step - loss: 0.0196\n",
      "Epoch 27/100\n",
      "239/239 [==============================] - 0s 1ms/step - loss: 0.0193\n",
      "Epoch 28/100\n",
      "239/239 [==============================] - 0s 1ms/step - loss: 0.0190\n",
      "Epoch 29/100\n",
      "239/239 [==============================] - 0s 1ms/step - loss: 0.0187\n",
      "Epoch 30/100\n",
      "239/239 [==============================] - 0s 1ms/step - loss: 0.0185\n",
      "Epoch 31/100\n",
      "239/239 [==============================] - 0s 1ms/step - loss: 0.0182\n",
      "Epoch 32/100\n",
      "239/239 [==============================] - 0s 1ms/step - loss: 0.0180\n",
      "Epoch 33/100\n",
      "239/239 [==============================] - 0s 1ms/step - loss: 0.0177\n",
      "Epoch 34/100\n",
      "239/239 [==============================] - 0s 1ms/step - loss: 0.0175\n",
      "Epoch 35/100\n",
      "239/239 [==============================] - 0s 1ms/step - loss: 0.0173\n",
      "Epoch 36/100\n",
      "239/239 [==============================] - 0s 1ms/step - loss: 0.0170\n",
      "Epoch 37/100\n",
      "239/239 [==============================] - 0s 1ms/step - loss: 0.0168\n",
      "Epoch 38/100\n",
      "239/239 [==============================] - 0s 1ms/step - loss: 0.0166\n",
      "Epoch 39/100\n",
      "239/239 [==============================] - 0s 1ms/step - loss: 0.0164\n",
      "Epoch 40/100\n",
      "239/239 [==============================] - 0s 1ms/step - loss: 0.0162\n",
      "Epoch 41/100\n",
      "239/239 [==============================] - 0s 1ms/step - loss: 0.0160\n",
      "Epoch 42/100\n",
      "239/239 [==============================] - 0s 1ms/step - loss: 0.0158\n",
      "Epoch 43/100\n",
      "239/239 [==============================] - 0s 1ms/step - loss: 0.0156\n",
      "Epoch 44/100\n",
      "239/239 [==============================] - 0s 1ms/step - loss: 0.0154\n",
      "Epoch 45/100\n",
      "239/239 [==============================] - 0s 1ms/step - loss: 0.0152\n",
      "Epoch 46/100\n",
      "239/239 [==============================] - 0s 1ms/step - loss: 0.0150\n",
      "Epoch 47/100\n",
      "239/239 [==============================] - 0s 1ms/step - loss: 0.0149\n",
      "Epoch 48/100\n",
      "239/239 [==============================] - 0s 1ms/step - loss: 0.0147\n",
      "Epoch 49/100\n",
      "239/239 [==============================] - 0s 1ms/step - loss: 0.0145\n",
      "Epoch 50/100\n",
      "239/239 [==============================] - 0s 1ms/step - loss: 0.0143\n",
      "Epoch 51/100\n",
      "239/239 [==============================] - 0s 1ms/step - loss: 0.0142\n",
      "Epoch 52/100\n",
      "239/239 [==============================] - 0s 1ms/step - loss: 0.0140\n",
      "Epoch 53/100\n",
      "239/239 [==============================] - 0s 2ms/step - loss: 0.0138\n",
      "Epoch 54/100\n",
      "239/239 [==============================] - 0s 2ms/step - loss: 0.0137\n",
      "Epoch 55/100\n",
      "239/239 [==============================] - 0s 2ms/step - loss: 0.0135\n",
      "Epoch 56/100\n",
      "239/239 [==============================] - 0s 2ms/step - loss: 0.0134\n",
      "Epoch 57/100\n",
      "239/239 [==============================] - 0s 2ms/step - loss: 0.0132\n",
      "Epoch 58/100\n",
      "239/239 [==============================] - 0s 2ms/step - loss: 0.0130\n",
      "Epoch 59/100\n",
      "239/239 [==============================] - 0s 2ms/step - loss: 0.0129\n",
      "Epoch 60/100\n",
      "239/239 [==============================] - 0s 2ms/step - loss: 0.0127\n",
      "Epoch 61/100\n",
      "239/239 [==============================] - 0s 2ms/step - loss: 0.0126\n",
      "Epoch 62/100\n",
      "239/239 [==============================] - 0s 2ms/step - loss: 0.0124\n",
      "Epoch 63/100\n",
      "239/239 [==============================] - 0s 2ms/step - loss: 0.0123\n",
      "Epoch 64/100\n",
      "239/239 [==============================] - 0s 2ms/step - loss: 0.0121\n",
      "Epoch 65/100\n",
      "239/239 [==============================] - 0s 2ms/step - loss: 0.0120\n",
      "Epoch 66/100\n",
      "239/239 [==============================] - 0s 2ms/step - loss: 0.0118\n",
      "Epoch 67/100\n",
      "239/239 [==============================] - 0s 2ms/step - loss: 0.0117\n",
      "Epoch 68/100\n",
      "239/239 [==============================] - 0s 2ms/step - loss: 0.0115\n",
      "Epoch 69/100\n",
      "239/239 [==============================] - 0s 2ms/step - loss: 0.0114\n",
      "Epoch 70/100\n",
      "239/239 [==============================] - 0s 2ms/step - loss: 0.0113\n",
      "Epoch 71/100\n",
      "239/239 [==============================] - 0s 2ms/step - loss: 0.0111\n",
      "Epoch 72/100\n",
      "239/239 [==============================] - 0s 2ms/step - loss: 0.0110\n",
      "Epoch 73/100\n",
      "239/239 [==============================] - 0s 2ms/step - loss: 0.0108\n",
      "Epoch 74/100\n",
      "239/239 [==============================] - 0s 2ms/step - loss: 0.0107\n",
      "Epoch 75/100\n",
      "239/239 [==============================] - 0s 2ms/step - loss: 0.0106\n",
      "Epoch 76/100\n",
      "239/239 [==============================] - 0s 2ms/step - loss: 0.0104\n",
      "Epoch 77/100\n",
      "239/239 [==============================] - 0s 2ms/step - loss: 0.0103\n",
      "Epoch 78/100\n",
      "239/239 [==============================] - 0s 2ms/step - loss: 0.0102\n",
      "Epoch 79/100\n",
      "239/239 [==============================] - 1s 2ms/step - loss: 0.0101\n",
      "Epoch 80/100\n",
      "239/239 [==============================] - 1s 2ms/step - loss: 0.0099\n",
      "Epoch 81/100\n",
      "239/239 [==============================] - 1s 2ms/step - loss: 0.0098\n",
      "Epoch 82/100\n",
      "239/239 [==============================] - 1s 2ms/step - loss: 0.0097\n",
      "Epoch 83/100\n",
      "239/239 [==============================] - 1s 2ms/step - loss: 0.0096\n",
      "Epoch 84/100\n",
      "239/239 [==============================] - 1s 2ms/step - loss: 0.0095\n",
      "Epoch 85/100\n",
      "239/239 [==============================] - 1s 2ms/step - loss: 0.0093\n",
      "Epoch 86/100\n",
      "239/239 [==============================] - 0s 2ms/step - loss: 0.0092\n",
      "Epoch 87/100\n",
      "239/239 [==============================] - 0s 2ms/step - loss: 0.0091\n",
      "Epoch 88/100\n",
      "239/239 [==============================] - 0s 2ms/step - loss: 0.0090\n",
      "Epoch 89/100\n",
      "239/239 [==============================] - 0s 2ms/step - loss: 0.0089\n",
      "Epoch 90/100\n",
      "239/239 [==============================] - 0s 2ms/step - loss: 0.0088\n",
      "Epoch 91/100\n",
      "239/239 [==============================] - 0s 2ms/step - loss: 0.0087\n",
      "Epoch 92/100\n",
      "239/239 [==============================] - 0s 2ms/step - loss: 0.0086\n",
      "Epoch 93/100\n",
      "239/239 [==============================] - 0s 2ms/step - loss: 0.0085\n",
      "Epoch 94/100\n",
      "239/239 [==============================] - 0s 2ms/step - loss: 0.0084\n",
      "Epoch 95/100\n",
      "239/239 [==============================] - 0s 2ms/step - loss: 0.0083\n",
      "Epoch 96/100\n",
      "239/239 [==============================] - 0s 2ms/step - loss: 0.0082\n",
      "Epoch 97/100\n",
      "239/239 [==============================] - 0s 2ms/step - loss: 0.0081\n",
      "Epoch 98/100\n",
      "239/239 [==============================] - 1s 2ms/step - loss: 0.0080\n",
      "Epoch 99/100\n"
     ]
    },
    {
     "name": "stdout",
     "output_type": "stream",
     "text": [
      "239/239 [==============================] - 0s 2ms/step - loss: 0.0079\n",
      "Epoch 100/100\n",
      "239/239 [==============================] - 0s 2ms/step - loss: 0.0078\n"
     ]
    },
    {
     "data": {
      "text/plain": [
       "<keras.callbacks.History at 0x28c1d178af0>"
      ]
     },
     "execution_count": 246,
     "metadata": {},
     "output_type": "execute_result"
    }
   ],
   "source": [
    "model = Sequential()\n",
    "model.add(LSTM(4, batch_input_shape=(1, x_train.shape[1], x_train.shape[2]), stateful=True))\n",
    "model.add(Dense(1))\n",
    "model.compile(loss='mean_squared_error', optimizer='adam')\n",
    "model.fit(x_train, y_train, epochs=100, batch_size=1, verbose=1, shuffle=False)"
   ]
  },
  {
   "cell_type": "code",
   "execution_count": 247,
   "id": "b856ccbd",
   "metadata": {},
   "outputs": [],
   "source": [
    "y_pred = model.predict(x_test,batch_size=1)"
   ]
  },
  {
   "cell_type": "code",
   "execution_count": 249,
   "id": "671d4855",
   "metadata": {},
   "outputs": [],
   "source": [
    "y_pred = y_pred.reshape(y_pred.shape[0], 1, y_pred.shape[1])"
   ]
  },
  {
   "cell_type": "code",
   "execution_count": 251,
   "id": "49aa71a5",
   "metadata": {},
   "outputs": [],
   "source": [
    "import numpy as np"
   ]
  },
  {
   "cell_type": "code",
   "execution_count": 254,
   "id": "d2a87f56",
   "metadata": {},
   "outputs": [
    {
     "name": "stdout",
     "output_type": "stream",
     "text": [
      "[[-4.05829214e-02  1.20765832e-01 -1.03092784e-01  3.02405498e-01\n",
      "   1.96367207e-01 -8.93470790e-02  1.02601865e-01  1.32056946e-01\n",
      "   8.59106529e-02  9.27835052e-02  2.16985763e-01  2.30731468e-02\n",
      "   4.36917035e-02 -1.11929308e-01 -3.16151203e-01  2.73441335e-01\n",
      "   6.48993618e-01 -4.12371134e-02  9.27835052e-02  1.86548846e-02\n",
      "   1.76730486e-02  3.14187531e-02  4.12862052e-01 -1.02601865e-01\n",
      "   1.47275405e-02  4.36917035e-02  2.13058419e-01  5.20373098e-02\n",
      "   2.68041237e-01 -4.90918017e-04  1.55130093e-01]]\n",
      "[[-4.68607061e-02  1.01129111e-01  1.20765832e-01 -1.03092784e-01\n",
      "   3.02405498e-01  1.96367207e-01 -8.93470790e-02  1.02601865e-01\n",
      "   1.32056946e-01  8.59106529e-02  9.27835052e-02  2.16985763e-01\n",
      "   2.30731468e-02  4.36917035e-02 -1.11929308e-01 -3.16151203e-01\n",
      "   2.73441335e-01  6.48993618e-01 -4.12371134e-02  9.27835052e-02\n",
      "   1.86548846e-02  1.76730486e-02  3.14187531e-02  4.12862052e-01\n",
      "  -1.02601865e-01  1.47275405e-02  4.36917035e-02  2.13058419e-01\n",
      "   5.20373098e-02  2.68041237e-01 -4.90918017e-04]]\n",
      "[[ 0.29883856 -0.09278351  0.10112911  0.12076583 -0.10309278  0.3024055\n",
      "   0.19636721 -0.08934708  0.10260187  0.13205695  0.08591065  0.09278351\n",
      "   0.21698576  0.02307315  0.0436917  -0.11192931 -0.3161512   0.27344134\n",
      "   0.64899362 -0.04123711  0.09278351  0.01865488  0.01767305  0.03141875\n",
      "   0.41286205 -0.10260187  0.01472754  0.0436917   0.21305842  0.05203731\n",
      "   0.26804124]]\n",
      "[[ 0.16155142  0.30338733 -0.09278351  0.10112911  0.12076583 -0.10309278\n",
      "   0.3024055   0.19636721 -0.08934708  0.10260187  0.13205695  0.08591065\n",
      "   0.09278351  0.21698576  0.02307315  0.0436917  -0.11192931 -0.3161512\n",
      "   0.27344134  0.64899362 -0.04123711  0.09278351  0.01865488  0.01767305\n",
      "   0.03141875  0.41286205 -0.10260187  0.01472754  0.0436917   0.21305842\n",
      "   0.05203731]]\n",
      "[[ 0.1863198   0.0652921   0.30338733 -0.09278351  0.10112911  0.12076583\n",
      "  -0.10309278  0.3024055   0.19636721 -0.08934708  0.10260187  0.13205695\n",
      "   0.08591065  0.09278351  0.21698576  0.02307315  0.0436917  -0.11192931\n",
      "  -0.3161512   0.27344134  0.64899362 -0.04123711  0.09278351  0.01865488\n",
      "   0.01767305  0.03141875  0.41286205 -0.10260187  0.01472754  0.0436917\n",
      "   0.21305842]]\n",
      "[[ 0.03478718  0.14629357  0.0652921   0.30338733 -0.09278351  0.10112911\n",
      "   0.12076583 -0.10309278  0.3024055   0.19636721 -0.08934708  0.10260187\n",
      "   0.13205695  0.08591065  0.09278351  0.21698576  0.02307315  0.0436917\n",
      "  -0.11192931 -0.3161512   0.27344134  0.64899362 -0.04123711  0.09278351\n",
      "   0.01865488  0.01767305  0.03141875  0.41286205 -0.10260187  0.01472754\n",
      "   0.0436917 ]]\n",
      "[[-0.04020822  0.01767305  0.14629357  0.0652921   0.30338733 -0.09278351\n",
      "   0.10112911  0.12076583 -0.10309278  0.3024055   0.19636721 -0.08934708\n",
      "   0.10260187  0.13205695  0.08591065  0.09278351  0.21698576  0.02307315\n",
      "   0.0436917  -0.11192931 -0.3161512   0.27344134  0.64899362 -0.04123711\n",
      "   0.09278351  0.01865488  0.01767305  0.03141875  0.41286205 -0.10260187\n",
      "   0.01472754]]\n",
      "[[-0.01001149  0.02061856  0.01767305  0.14629357  0.0652921   0.30338733\n",
      "  -0.09278351  0.10112911  0.12076583 -0.10309278  0.3024055   0.19636721\n",
      "  -0.08934708  0.10260187  0.13205695  0.08591065  0.09278351  0.21698576\n",
      "   0.02307315  0.0436917  -0.11192931 -0.3161512   0.27344134  0.64899362\n",
      "  -0.04123711  0.09278351  0.01865488  0.01767305  0.03141875  0.41286205\n",
      "  -0.10260187]]\n",
      "[[ 0.1720894  -0.00392734  0.02061856  0.01767305  0.14629357  0.0652921\n",
      "   0.30338733 -0.09278351  0.10112911  0.12076583 -0.10309278  0.3024055\n",
      "   0.19636721 -0.08934708  0.10260187  0.13205695  0.08591065  0.09278351\n",
      "   0.21698576  0.02307315  0.0436917  -0.11192931 -0.3161512   0.27344134\n",
      "   0.64899362 -0.04123711  0.09278351  0.01865488  0.01767305  0.03141875\n",
      "   0.41286205]]\n",
      "[[ 0.15833107  0.22729504 -0.00392734  0.02061856  0.01767305  0.14629357\n",
      "   0.0652921   0.30338733 -0.09278351  0.10112911  0.12076583 -0.10309278\n",
      "   0.3024055   0.19636721 -0.08934708  0.10260187  0.13205695  0.08591065\n",
      "   0.09278351  0.21698576  0.02307315  0.0436917  -0.11192931 -0.3161512\n",
      "   0.27344134  0.64899362 -0.04123711  0.09278351  0.01865488  0.01767305\n",
      "   0.03141875]]\n",
      "[[ 0.19849356  0.19440353  0.22729504 -0.00392734  0.02061856  0.01767305\n",
      "   0.14629357  0.0652921   0.30338733 -0.09278351  0.10112911  0.12076583\n",
      "  -0.10309278  0.3024055   0.19636721 -0.08934708  0.10260187  0.13205695\n",
      "   0.08591065  0.09278351  0.21698576  0.02307315  0.0436917  -0.11192931\n",
      "  -0.3161512   0.27344134  0.64899362 -0.04123711  0.09278351  0.01865488\n",
      "   0.01767305]]\n",
      "[[ 0.0612354   0.19587629  0.19440353  0.22729504 -0.00392734  0.02061856\n",
      "   0.01767305  0.14629357  0.0652921   0.30338733 -0.09278351  0.10112911\n",
      "   0.12076583 -0.10309278  0.3024055   0.19636721 -0.08934708  0.10260187\n",
      "   0.13205695  0.08591065  0.09278351  0.21698576  0.02307315  0.0436917\n",
      "  -0.11192931 -0.3161512   0.27344134  0.64899362 -0.04123711  0.09278351\n",
      "   0.01865488]]\n",
      "[[-0.32910755  0.2562592   0.19587629  0.19440353  0.22729504 -0.00392734\n",
      "   0.02061856  0.01767305  0.14629357  0.0652921   0.30338733 -0.09278351\n",
      "   0.10112911  0.12076583 -0.10309278  0.3024055   0.19636721 -0.08934708\n",
      "   0.10260187  0.13205695  0.08591065  0.09278351  0.21698576  0.02307315\n",
      "   0.0436917  -0.11192931 -0.3161512   0.27344134  0.64899362 -0.04123711\n",
      "   0.09278351]]\n",
      "[[-0.10637048 -0.1934217   0.2562592   0.19587629  0.19440353  0.22729504\n",
      "  -0.00392734  0.02061856  0.01767305  0.14629357  0.0652921   0.30338733\n",
      "  -0.09278351  0.10112911  0.12076583 -0.10309278  0.3024055   0.19636721\n",
      "  -0.08934708  0.10260187  0.13205695  0.08591065  0.09278351  0.21698576\n",
      "   0.02307315  0.0436917  -0.11192931 -0.3161512   0.27344134  0.64899362\n",
      "  -0.04123711]]\n",
      "[[-0.0771874   0.08787432 -0.1934217   0.2562592   0.19587629  0.19440353\n",
      "   0.22729504 -0.00392734  0.02061856  0.01767305  0.14629357  0.0652921\n",
      "   0.30338733 -0.09278351  0.10112911  0.12076583 -0.10309278  0.3024055\n",
      "   0.19636721 -0.08934708  0.10260187  0.13205695  0.08591065  0.09278351\n",
      "   0.21698576  0.02307315  0.0436917  -0.11192931 -0.3161512   0.27344134\n",
      "   0.64899362]]\n",
      "[[ 0.06718989  0.20864016  0.08787432 -0.1934217   0.2562592   0.19587629\n",
      "   0.19440353  0.22729504 -0.00392734  0.02061856  0.01767305  0.14629357\n",
      "   0.0652921   0.30338733 -0.09278351  0.10112911  0.12076583 -0.10309278\n",
      "   0.3024055   0.19636721 -0.08934708  0.10260187  0.13205695  0.08591065\n",
      "   0.09278351  0.21698576  0.02307315  0.0436917  -0.11192931 -0.3161512\n",
      "   0.27344134]]\n",
      "[[ 0.15840307 -0.09720177  0.20864016  0.08787432 -0.1934217   0.2562592\n",
      "   0.19587629  0.19440353  0.22729504 -0.00392734  0.02061856  0.01767305\n",
      "   0.14629357  0.0652921   0.30338733 -0.09278351  0.10112911  0.12076583\n",
      "  -0.10309278  0.3024055   0.19636721 -0.08934708  0.10260187  0.13205695\n",
      "   0.08591065  0.09278351  0.21698576  0.02307315  0.0436917  -0.11192931\n",
      "  -0.3161512 ]]\n",
      "[[ 0.15978046  0.1281296  -0.09720177  0.20864016  0.08787432 -0.1934217\n",
      "   0.2562592   0.19587629  0.19440353  0.22729504 -0.00392734  0.02061856\n",
      "   0.01767305  0.14629357  0.0652921   0.30338733 -0.09278351  0.10112911\n",
      "   0.12076583 -0.10309278  0.3024055   0.19636721 -0.08934708  0.10260187\n",
      "   0.13205695  0.08591065  0.09278351  0.21698576  0.02307315  0.0436917\n",
      "  -0.11192931]]\n",
      "[[-0.08661458  0.23122239  0.1281296  -0.09720177  0.20864016  0.08787432\n",
      "  -0.1934217   0.2562592   0.19587629  0.19440353  0.22729504 -0.00392734\n",
      "   0.02061856  0.01767305  0.14629357  0.0652921   0.30338733 -0.09278351\n",
      "   0.10112911  0.12076583 -0.10309278  0.3024055   0.19636721 -0.08934708\n",
      "   0.10260187  0.13205695  0.08591065  0.09278351  0.21698576  0.02307315\n",
      "   0.0436917 ]]\n",
      "[[ 0.51728183 -0.23858616  0.23122239  0.1281296  -0.09720177  0.20864016\n",
      "   0.08787432 -0.1934217   0.2562592   0.19587629  0.19440353  0.22729504\n",
      "  -0.00392734  0.02061856  0.01767305  0.14629357  0.0652921   0.30338733\n",
      "  -0.09278351  0.10112911  0.12076583 -0.10309278  0.3024055   0.19636721\n",
      "  -0.08934708  0.10260187  0.13205695  0.08591065  0.09278351  0.21698576\n",
      "   0.02307315]]\n",
      "[[ 0.27700734  0.25380461 -0.23858616  0.23122239  0.1281296  -0.09720177\n",
      "   0.20864016  0.08787432 -0.1934217   0.2562592   0.19587629  0.19440353\n",
      "   0.22729504 -0.00392734  0.02061856  0.01767305  0.14629357  0.0652921\n",
      "   0.30338733 -0.09278351  0.10112911  0.12076583 -0.10309278  0.3024055\n",
      "   0.19636721 -0.08934708  0.10260187  0.13205695  0.08591065  0.09278351\n",
      "   0.21698576]]\n",
      "[[ 0.19187799  0.05301915  0.25380461 -0.23858616  0.23122239  0.1281296\n",
      "  -0.09720177  0.20864016  0.08787432 -0.1934217   0.2562592   0.19587629\n",
      "   0.19440353  0.22729504 -0.00392734  0.02061856  0.01767305  0.14629357\n",
      "   0.0652921   0.30338733 -0.09278351  0.10112911  0.12076583 -0.10309278\n",
      "   0.3024055   0.19636721 -0.08934708  0.10260187  0.13205695  0.08591065\n",
      "   0.09278351]]\n",
      "[[ 0.10765205  0.14236622  0.05301915  0.25380461 -0.23858616  0.23122239\n",
      "   0.1281296  -0.09720177  0.20864016  0.08787432 -0.1934217   0.2562592\n",
      "   0.19587629  0.19440353  0.22729504 -0.00392734  0.02061856  0.01767305\n",
      "   0.14629357  0.0652921   0.30338733 -0.09278351  0.10112911  0.12076583\n",
      "  -0.10309278  0.3024055   0.19636721 -0.08934708  0.10260187  0.13205695\n",
      "   0.08591065]]\n",
      "[[ 0.09405483  0.0790378   0.14236622  0.05301915  0.25380461 -0.23858616\n",
      "   0.23122239  0.1281296  -0.09720177  0.20864016  0.08787432 -0.1934217\n",
      "   0.2562592   0.19587629  0.19440353  0.22729504 -0.00392734  0.02061856\n",
      "   0.01767305  0.14629357  0.0652921   0.30338733 -0.09278351  0.10112911\n",
      "   0.12076583 -0.10309278  0.3024055   0.19636721 -0.08934708  0.10260187\n",
      "   0.13205695]]\n",
      "[[-0.02649957  0.1089838   0.0790378   0.14236622  0.05301915  0.25380461\n",
      "  -0.23858616  0.23122239  0.1281296  -0.09720177  0.20864016  0.08787432\n",
      "  -0.1934217   0.2562592   0.19587629  0.19440353  0.22729504 -0.00392734\n",
      "   0.02061856  0.01767305  0.14629357  0.0652921   0.30338733 -0.09278351\n",
      "   0.10112911  0.12076583 -0.10309278  0.3024055   0.19636721 -0.08934708\n",
      "   0.10260187]]\n",
      "[[ 0.41524166 -0.08640157  0.1089838   0.0790378   0.14236622  0.05301915\n",
      "   0.25380461 -0.23858616  0.23122239  0.1281296  -0.09720177  0.20864016\n",
      "   0.08787432 -0.1934217   0.2562592   0.19587629  0.19440353  0.22729504\n",
      "  -0.00392734  0.02061856  0.01767305  0.14629357  0.0652921   0.30338733\n",
      "  -0.09278351  0.10112911  0.12076583 -0.10309278  0.3024055   0.19636721\n",
      "  -0.08934708]]\n",
      "[[ 0.09092447  0.33676976 -0.08640157  0.1089838   0.0790378   0.14236622\n",
      "   0.05301915  0.25380461 -0.23858616  0.23122239  0.1281296  -0.09720177\n",
      "   0.20864016  0.08787432 -0.1934217   0.2562592   0.19587629  0.19440353\n",
      "   0.22729504 -0.00392734  0.02061856  0.01767305  0.14629357  0.0652921\n",
      "   0.30338733 -0.09278351  0.10112911  0.12076583 -0.10309278  0.3024055\n",
      "   0.19636721]]\n",
      "[[ 0.016188    0.22434953  0.33676976 -0.08640157  0.1089838   0.0790378\n",
      "   0.14236622  0.05301915  0.25380461 -0.23858616  0.23122239  0.1281296\n",
      "  -0.09720177  0.20864016  0.08787432 -0.1934217   0.2562592   0.19587629\n",
      "   0.19440353  0.22729504 -0.00392734  0.02061856  0.01767305  0.14629357\n",
      "   0.0652921   0.30338733 -0.09278351  0.10112911  0.12076583 -0.10309278\n",
      "   0.3024055 ]]\n",
      "[[ 0.11667518 -0.00049092  0.22434953  0.33676976 -0.08640157  0.1089838\n",
      "   0.0790378   0.14236622  0.05301915  0.25380461 -0.23858616  0.23122239\n",
      "   0.1281296  -0.09720177  0.20864016  0.08787432 -0.1934217   0.2562592\n",
      "   0.19587629  0.19440353  0.22729504 -0.00392734  0.02061856  0.01767305\n",
      "   0.14629357  0.0652921   0.30338733 -0.09278351  0.10112911  0.12076583\n",
      "  -0.10309278]]\n",
      "[[ 0.15700933 -0.03780069 -0.00049092  0.22434953  0.33676976 -0.08640157\n",
      "   0.1089838   0.0790378   0.14236622  0.05301915  0.25380461 -0.23858616\n",
      "   0.23122239  0.1281296  -0.09720177  0.20864016  0.08787432 -0.1934217\n",
      "   0.2562592   0.19587629  0.19440353  0.22729504 -0.00392734  0.02061856\n",
      "   0.01767305  0.14629357  0.0652921   0.30338733 -0.09278351  0.10112911\n",
      "   0.12076583]]\n",
      "[[ 0.0313235   0.31222386 -0.03780069 -0.00049092  0.22434953  0.33676976\n",
      "  -0.08640157  0.1089838   0.0790378   0.14236622  0.05301915  0.25380461\n",
      "  -0.23858616  0.23122239  0.1281296  -0.09720177  0.20864016  0.08787432\n",
      "  -0.1934217   0.2562592   0.19587629  0.19440353  0.22729504 -0.00392734\n",
      "   0.02061856  0.01767305  0.14629357  0.0652921   0.30338733 -0.09278351\n",
      "   0.10112911]]\n",
      "[[ 6.84393704e-01 -2.79823270e-01  3.12223859e-01 -3.78006873e-02\n",
      "  -4.90918017e-04  2.24349534e-01  3.36769759e-01 -8.64015709e-02\n",
      "   1.08983800e-01  7.90378007e-02  1.42366225e-01  5.30191458e-02\n",
      "   2.53804615e-01 -2.38586156e-01  2.31222386e-01  1.28129602e-01\n",
      "  -9.72017673e-02  2.08640157e-01  8.78743250e-02 -1.93421699e-01\n",
      "   2.56259205e-01  1.95876289e-01  1.94403535e-01  2.27295042e-01\n",
      "  -3.92734413e-03  2.06185567e-02  1.76730486e-02  1.46293569e-01\n",
      "   6.52920962e-02  3.03387334e-01 -9.27835052e-02]]\n",
      "[[ 0.40747735  0.08100147 -0.27982327  0.31222386 -0.03780069 -0.00049092\n",
      "   0.22434953  0.33676976 -0.08640157  0.1089838   0.0790378   0.14236622\n",
      "   0.05301915  0.25380461 -0.23858616  0.23122239  0.1281296  -0.09720177\n",
      "   0.20864016  0.08787432 -0.1934217   0.2562592   0.19587629  0.19440353\n",
      "   0.22729504 -0.00392734  0.02061856  0.01767305  0.14629357  0.0652921\n",
      "   0.30338733]]\n",
      "[[ 0.04988513  0.35346097  0.08100147 -0.27982327  0.31222386 -0.03780069\n",
      "  -0.00049092  0.22434953  0.33676976 -0.08640157  0.1089838   0.0790378\n",
      "   0.14236622  0.05301915  0.25380461 -0.23858616  0.23122239  0.1281296\n",
      "  -0.09720177  0.20864016  0.08787432 -0.1934217   0.2562592   0.19587629\n",
      "   0.19440353  0.22729504 -0.00392734  0.02061856  0.01767305  0.14629357\n",
      "   0.0652921 ]]\n",
      "[[ 0.10571992  0.00736377  0.35346097  0.08100147 -0.27982327  0.31222386\n",
      "  -0.03780069 -0.00049092  0.22434953  0.33676976 -0.08640157  0.1089838\n",
      "   0.0790378   0.14236622  0.05301915  0.25380461 -0.23858616  0.23122239\n",
      "   0.1281296  -0.09720177  0.20864016  0.08787432 -0.1934217   0.2562592\n",
      "   0.19587629  0.19440353  0.22729504 -0.00392734  0.02061856  0.01767305\n",
      "   0.14629357]]\n",
      "[[-0.22922072  0.31320569  0.00736377  0.35346097  0.08100147 -0.27982327\n",
      "   0.31222386 -0.03780069 -0.00049092  0.22434953  0.33676976 -0.08640157\n",
      "   0.1089838   0.0790378   0.14236622  0.05301915  0.25380461 -0.23858616\n",
      "   0.23122239  0.1281296  -0.09720177  0.20864016  0.08787432 -0.1934217\n",
      "   0.2562592   0.19587629  0.19440353  0.22729504 -0.00392734  0.02061856\n",
      "   0.01767305]]\n",
      "[[-0.00243239 -0.07511046  0.31320569  0.00736377  0.35346097  0.08100147\n",
      "  -0.27982327  0.31222386 -0.03780069 -0.00049092  0.22434953  0.33676976\n",
      "  -0.08640157  0.1089838   0.0790378   0.14236622  0.05301915  0.25380461\n",
      "  -0.23858616  0.23122239  0.1281296  -0.09720177  0.20864016  0.08787432\n",
      "  -0.1934217   0.2562592   0.19587629  0.19440353  0.22729504 -0.00392734\n",
      "   0.02061856]]\n",
      "[[-0.02230918  0.1772214  -0.07511046  0.31320569  0.00736377  0.35346097\n",
      "   0.08100147 -0.27982327  0.31222386 -0.03780069 -0.00049092  0.22434953\n",
      "   0.33676976 -0.08640157  0.1089838   0.0790378   0.14236622  0.05301915\n",
      "   0.25380461 -0.23858616  0.23122239  0.1281296  -0.09720177  0.20864016\n",
      "   0.08787432 -0.1934217   0.2562592   0.19587629  0.19440353  0.22729504\n",
      "  -0.00392734]]\n",
      "[[ 0.11032994  0.11143839  0.1772214  -0.07511046  0.31320569  0.00736377\n",
      "   0.35346097  0.08100147 -0.27982327  0.31222386 -0.03780069 -0.00049092\n",
      "   0.22434953  0.33676976 -0.08640157  0.1089838   0.0790378   0.14236622\n",
      "   0.05301915  0.25380461 -0.23858616  0.23122239  0.1281296  -0.09720177\n",
      "   0.20864016  0.08787432 -0.1934217   0.2562592   0.19587629  0.19440353\n",
      "   0.22729504]]\n",
      "[[ 0.23771735 -0.059892    0.11143839  0.1772214  -0.07511046  0.31320569\n",
      "   0.00736377  0.35346097  0.08100147 -0.27982327  0.31222386 -0.03780069\n",
      "  -0.00049092  0.22434953  0.33676976 -0.08640157  0.1089838   0.0790378\n",
      "   0.14236622  0.05301915  0.25380461 -0.23858616  0.23122239  0.1281296\n",
      "  -0.09720177  0.20864016  0.08787432 -0.1934217   0.2562592   0.19587629\n",
      "   0.19440353]]\n",
      "[[ 0.27525556  0.00098184 -0.059892    0.11143839  0.1772214  -0.07511046\n",
      "   0.31320569  0.00736377  0.35346097  0.08100147 -0.27982327  0.31222386\n",
      "  -0.03780069 -0.00049092  0.22434953  0.33676976 -0.08640157  0.1089838\n",
      "   0.0790378   0.14236622  0.05301915  0.25380461 -0.23858616  0.23122239\n",
      "   0.1281296  -0.09720177  0.20864016  0.08787432 -0.1934217   0.2562592\n",
      "   0.19587629]]\n",
      "[[ 0.1711783   0.11634757  0.00098184 -0.059892    0.11143839  0.1772214\n",
      "  -0.07511046  0.31320569  0.00736377  0.35346097  0.08100147 -0.27982327\n",
      "   0.31222386 -0.03780069 -0.00049092  0.22434953  0.33676976 -0.08640157\n",
      "   0.1089838   0.0790378   0.14236622  0.05301915  0.25380461 -0.23858616\n",
      "   0.23122239  0.1281296  -0.09720177  0.20864016  0.08787432 -0.1934217\n",
      "   0.2562592 ]]\n",
      "[[ 0.01550164  0.15954836  0.11634757  0.00098184 -0.059892    0.11143839\n",
      "   0.1772214  -0.07511046  0.31320569  0.00736377  0.35346097  0.08100147\n",
      "  -0.27982327  0.31222386 -0.03780069 -0.00049092  0.22434953  0.33676976\n",
      "  -0.08640157  0.1089838   0.0790378   0.14236622  0.05301915  0.25380461\n",
      "  -0.23858616  0.23122239  0.1281296  -0.09720177  0.20864016  0.08787432\n",
      "  -0.1934217 ]]\n",
      "[[ 0.19779246  0.01620029  0.15954836  0.11634757  0.00098184 -0.059892\n",
      "   0.11143839  0.1772214  -0.07511046  0.31320569  0.00736377  0.35346097\n",
      "   0.08100147 -0.27982327  0.31222386 -0.03780069 -0.00049092  0.22434953\n",
      "   0.33676976 -0.08640157  0.1089838   0.0790378   0.14236622  0.05301915\n",
      "   0.25380461 -0.23858616  0.23122239  0.1281296  -0.09720177  0.20864016\n",
      "   0.08787432]]\n",
      "[[ 0.24657997 -0.01178203  0.01620029  0.15954836  0.11634757  0.00098184\n",
      "  -0.059892    0.11143839  0.1772214  -0.07511046  0.31320569  0.00736377\n",
      "   0.35346097  0.08100147 -0.27982327  0.31222386 -0.03780069 -0.00049092\n",
      "   0.22434953  0.33676976 -0.08640157  0.1089838   0.0790378   0.14236622\n",
      "   0.05301915  0.25380461 -0.23858616  0.23122239  0.1281296  -0.09720177\n",
      "   0.20864016]]\n",
      "[[ 0.0228217   0.3814433  -0.01178203  0.01620029  0.15954836  0.11634757\n",
      "   0.00098184 -0.059892    0.11143839  0.1772214  -0.07511046  0.31320569\n",
      "   0.00736377  0.35346097  0.08100147 -0.27982327  0.31222386 -0.03780069\n",
      "  -0.00049092  0.22434953  0.33676976 -0.08640157  0.1089838   0.0790378\n",
      "   0.14236622  0.05301915  0.25380461 -0.23858616  0.23122239  0.1281296\n",
      "  -0.09720177]]\n",
      "[[ 0.03682294 -0.10996564  0.3814433  -0.01178203  0.01620029  0.15954836\n",
      "   0.11634757  0.00098184 -0.059892    0.11143839  0.1772214  -0.07511046\n",
      "   0.31320569  0.00736377  0.35346097  0.08100147 -0.27982327  0.31222386\n",
      "  -0.03780069 -0.00049092  0.22434953  0.33676976 -0.08640157  0.1089838\n",
      "   0.0790378   0.14236622  0.05301915  0.25380461 -0.23858616  0.23122239\n",
      "   0.1281296 ]]\n",
      "[[-0.04868985  0.2071674  -0.10996564  0.3814433  -0.01178203  0.01620029\n",
      "   0.15954836  0.11634757  0.00098184 -0.059892    0.11143839  0.1772214\n",
      "  -0.07511046  0.31320569  0.00736377  0.35346097  0.08100147 -0.27982327\n",
      "   0.31222386 -0.03780069 -0.00049092  0.22434953  0.33676976 -0.08640157\n",
      "   0.1089838   0.0790378   0.14236622  0.05301915  0.25380461 -0.23858616\n",
      "   0.23122239]]\n",
      "[[-0.19686727  0.11192931  0.2071674  -0.10996564  0.3814433  -0.01178203\n",
      "   0.01620029  0.15954836  0.11634757  0.00098184 -0.059892    0.11143839\n",
      "   0.1772214  -0.07511046  0.31320569  0.00736377  0.35346097  0.08100147\n",
      "  -0.27982327  0.31222386 -0.03780069 -0.00049092  0.22434953  0.33676976\n",
      "  -0.08640157  0.1089838   0.0790378   0.14236622  0.05301915  0.25380461\n",
      "  -0.23858616]]\n",
      "[[-0.46859872  0.41826215  0.11192931  0.2071674  -0.10996564  0.3814433\n",
      "  -0.01178203  0.01620029  0.15954836  0.11634757  0.00098184 -0.059892\n",
      "   0.11143839  0.1772214  -0.07511046  0.31320569  0.00736377  0.35346097\n",
      "   0.08100147 -0.27982327  0.31222386 -0.03780069 -0.00049092  0.22434953\n",
      "   0.33676976 -0.08640157  0.1089838   0.0790378   0.14236622  0.05301915\n",
      "   0.25380461]]\n",
      "[[ 0.27935201 -0.4796269   0.41826215  0.11192931  0.2071674  -0.10996564\n",
      "   0.3814433  -0.01178203  0.01620029  0.15954836  0.11634757  0.00098184\n",
      "  -0.059892    0.11143839  0.1772214  -0.07511046  0.31320569  0.00736377\n",
      "   0.35346097  0.08100147 -0.27982327  0.31222386 -0.03780069 -0.00049092\n",
      "   0.22434953  0.33676976 -0.08640157  0.1089838   0.0790378   0.14236622\n",
      "   0.05301915]]\n",
      "[[ 2.30688289e-01  5.49828179e-01 -4.79626902e-01  4.18262150e-01\n",
      "   1.11929308e-01  2.07167403e-01 -1.09965636e-01  3.81443299e-01\n",
      "  -1.17820324e-02  1.62002946e-02  1.59548355e-01  1.16347570e-01\n",
      "   9.81836033e-04 -5.98919980e-02  1.11438390e-01  1.77221404e-01\n",
      "  -7.51104566e-02  3.13205695e-01  7.36377025e-03  3.53460972e-01\n",
      "   8.10014728e-02 -2.79823270e-01  3.12223859e-01 -3.78006873e-02\n",
      "  -4.90918017e-04  2.24349534e-01  3.36769759e-01 -8.64015709e-02\n",
      "   1.08983800e-01  7.90378007e-02  1.42366225e-01]]\n",
      "[[-2.33389735e-01  2.23367698e-01  5.49828179e-01 -4.79626902e-01\n",
      "   4.18262150e-01  1.11929308e-01  2.07167403e-01 -1.09965636e-01\n",
      "   3.81443299e-01 -1.17820324e-02  1.62002946e-02  1.59548355e-01\n",
      "   1.16347570e-01  9.81836033e-04 -5.98919980e-02  1.11438390e-01\n",
      "   1.77221404e-01 -7.51104566e-02  3.13205695e-01  7.36377025e-03\n",
      "   3.53460972e-01  8.10014728e-02 -2.79823270e-01  3.12223859e-01\n",
      "  -3.78006873e-02 -4.90918017e-04  2.24349534e-01  3.36769759e-01\n",
      "  -8.64015709e-02  1.08983800e-01  7.90378007e-02]]\n",
      "[[-2.46222556e-01  1.54148257e-01  2.23367698e-01  5.49828179e-01\n",
      "  -4.79626902e-01  4.18262150e-01  1.11929308e-01  2.07167403e-01\n",
      "  -1.09965636e-01  3.81443299e-01 -1.17820324e-02  1.62002946e-02\n",
      "   1.59548355e-01  1.16347570e-01  9.81836033e-04 -5.98919980e-02\n",
      "   1.11438390e-01  1.77221404e-01 -7.51104566e-02  3.13205695e-01\n",
      "   7.36377025e-03  3.53460972e-01  8.10014728e-02 -2.79823270e-01\n",
      "   3.12223859e-01 -3.78006873e-02 -4.90918017e-04  2.24349534e-01\n",
      "   3.36769759e-01 -8.64015709e-02  1.08983800e-01]]\n",
      "[[-2.16878057e-01  1.01129111e-01  1.54148257e-01  2.23367698e-01\n",
      "   5.49828179e-01 -4.79626902e-01  4.18262150e-01  1.11929308e-01\n",
      "   2.07167403e-01 -1.09965636e-01  3.81443299e-01 -1.17820324e-02\n",
      "   1.62002946e-02  1.59548355e-01  1.16347570e-01  9.81836033e-04\n",
      "  -5.98919980e-02  1.11438390e-01  1.77221404e-01 -7.51104566e-02\n",
      "   3.13205695e-01  7.36377025e-03  3.53460972e-01  8.10014728e-02\n",
      "  -2.79823270e-01  3.12223859e-01 -3.78006873e-02 -4.90918017e-04\n",
      "   2.24349534e-01  3.36769759e-01 -8.64015709e-02]]\n",
      "[[-1.35045677e-01  1.16347570e-01  1.01129111e-01  1.54148257e-01\n",
      "   2.23367698e-01  5.49828179e-01 -4.79626902e-01  4.18262150e-01\n",
      "   1.11929308e-01  2.07167403e-01 -1.09965636e-01  3.81443299e-01\n",
      "  -1.17820324e-02  1.62002946e-02  1.59548355e-01  1.16347570e-01\n",
      "   9.81836033e-04 -5.98919980e-02  1.11438390e-01  1.77221404e-01\n",
      "  -7.51104566e-02  3.13205695e-01  7.36377025e-03  3.53460972e-01\n",
      "   8.10014728e-02 -2.79823270e-01  3.12223859e-01 -3.78006873e-02\n",
      "  -4.90918017e-04  2.24349534e-01  3.36769759e-01]]\n",
      "[[ 6.50122881e-01 -1.42857143e-01  1.16347570e-01  1.01129111e-01\n",
      "   1.54148257e-01  2.23367698e-01  5.49828179e-01 -4.79626902e-01\n",
      "   4.18262150e-01  1.11929308e-01  2.07167403e-01 -1.09965636e-01\n",
      "   3.81443299e-01 -1.17820324e-02  1.62002946e-02  1.59548355e-01\n",
      "   1.16347570e-01  9.81836033e-04 -5.98919980e-02  1.11438390e-01\n",
      "   1.77221404e-01 -7.51104566e-02  3.13205695e-01  7.36377025e-03\n",
      "   3.53460972e-01  8.10014728e-02 -2.79823270e-01  3.12223859e-01\n",
      "  -3.78006873e-02 -4.90918017e-04  2.24349534e-01]]\n",
      "[[ 4.49512631e-01 -2.64604811e-01 -1.42857143e-01  1.16347570e-01\n",
      "   1.01129111e-01  1.54148257e-01  2.23367698e-01  5.49828179e-01\n",
      "  -4.79626902e-01  4.18262150e-01  1.11929308e-01  2.07167403e-01\n",
      "  -1.09965636e-01  3.81443299e-01 -1.17820324e-02  1.62002946e-02\n",
      "   1.59548355e-01  1.16347570e-01  9.81836033e-04 -5.98919980e-02\n",
      "   1.11438390e-01  1.77221404e-01 -7.51104566e-02  3.13205695e-01\n",
      "   7.36377025e-03  3.53460972e-01  8.10014728e-02 -2.79823270e-01\n",
      "   3.12223859e-01 -3.78006873e-02 -4.90918017e-04]]\n",
      "[[ 0.20992035  0.08885616 -0.26460481 -0.14285714  0.11634757  0.10112911\n",
      "   0.15414826  0.2233677   0.54982818 -0.4796269   0.41826215  0.11192931\n",
      "   0.2071674  -0.10996564  0.3814433  -0.01178203  0.01620029  0.15954836\n",
      "   0.11634757  0.00098184 -0.059892    0.11143839  0.1772214  -0.07511046\n",
      "   0.31320569  0.00736377  0.35346097  0.08100147 -0.27982327  0.31222386\n",
      "  -0.03780069]]\n",
      "[[ 0.51009917  0.01030928  0.08885616 -0.26460481 -0.14285714  0.11634757\n",
      "   0.10112911  0.15414826  0.2233677   0.54982818 -0.4796269   0.41826215\n",
      "   0.11192931  0.2071674  -0.10996564  0.3814433  -0.01178203  0.01620029\n",
      "   0.15954836  0.11634757  0.00098184 -0.059892    0.11143839  0.1772214\n",
      "  -0.07511046  0.31320569  0.00736377  0.35346097  0.08100147 -0.27982327\n",
      "   0.31222386]]\n",
      "[[ 0.08998865  0.22042219  0.01030928  0.08885616 -0.26460481 -0.14285714\n",
      "   0.11634757  0.10112911  0.15414826  0.2233677   0.54982818 -0.4796269\n",
      "   0.41826215  0.11192931  0.2071674  -0.10996564  0.3814433  -0.01178203\n",
      "   0.01620029  0.15954836  0.11634757  0.00098184 -0.059892    0.11143839\n",
      "   0.1772214  -0.07511046  0.31320569  0.00736377  0.35346097  0.08100147\n",
      "  -0.27982327]]\n",
      "[[ 0.20056534  0.06480118  0.22042219  0.01030928  0.08885616 -0.26460481\n",
      "  -0.14285714  0.11634757  0.10112911  0.15414826  0.2233677   0.54982818\n",
      "  -0.4796269   0.41826215  0.11192931  0.2071674  -0.10996564  0.3814433\n",
      "  -0.01178203  0.01620029  0.15954836  0.11634757  0.00098184 -0.059892\n",
      "   0.11143839  0.1772214  -0.07511046  0.31320569  0.00736377  0.35346097\n",
      "   0.08100147]]\n",
      "[[ 0.16419275  0.02798233  0.06480118  0.22042219  0.01030928  0.08885616\n",
      "  -0.26460481 -0.14285714  0.11634757  0.10112911  0.15414826  0.2233677\n",
      "   0.54982818 -0.4796269   0.41826215  0.11192931  0.2071674  -0.10996564\n",
      "   0.3814433  -0.01178203  0.01620029  0.15954836  0.11634757  0.00098184\n",
      "  -0.059892    0.11143839  0.1772214  -0.07511046  0.31320569  0.00736377\n",
      "   0.35346097]]\n",
      "[[ 0.30153203  0.18409426  0.02798233  0.06480118  0.22042219  0.01030928\n",
      "   0.08885616 -0.26460481 -0.14285714  0.11634757  0.10112911  0.15414826\n",
      "   0.2233677   0.54982818 -0.4796269   0.41826215  0.11192931  0.2071674\n",
      "  -0.10996564  0.3814433  -0.01178203  0.01620029  0.15954836  0.11634757\n",
      "   0.00098184 -0.059892    0.11143839  0.1772214  -0.07511046  0.31320569\n",
      "   0.00736377]]\n",
      "[[ 0.21722816  0.06283751  0.18409426  0.02798233  0.06480118  0.22042219\n",
      "   0.01030928  0.08885616 -0.26460481 -0.14285714  0.11634757  0.10112911\n",
      "   0.15414826  0.2233677   0.54982818 -0.4796269   0.41826215  0.11192931\n",
      "   0.2071674  -0.10996564  0.3814433  -0.01178203  0.01620029  0.15954836\n",
      "   0.11634757  0.00098184 -0.059892    0.11143839  0.1772214  -0.07511046\n",
      "   0.31320569]]\n",
      "[[ 0.17277354  0.12027491  0.06283751  0.18409426  0.02798233  0.06480118\n",
      "   0.22042219  0.01030928  0.08885616 -0.26460481 -0.14285714  0.11634757\n",
      "   0.10112911  0.15414826  0.2233677   0.54982818 -0.4796269   0.41826215\n",
      "   0.11192931  0.2071674  -0.10996564  0.3814433  -0.01178203  0.01620029\n",
      "   0.15954836  0.11634757  0.00098184 -0.059892    0.11143839  0.1772214\n",
      "  -0.07511046]]\n",
      "[[ 0.15718138 -0.07461954  0.12027491  0.06283751  0.18409426  0.02798233\n",
      "   0.06480118  0.22042219  0.01030928  0.08885616 -0.26460481 -0.14285714\n",
      "   0.11634757  0.10112911  0.15414826  0.2233677   0.54982818 -0.4796269\n",
      "   0.41826215  0.11192931  0.2071674  -0.10996564  0.3814433  -0.01178203\n",
      "   0.01620029  0.15954836  0.11634757  0.00098184 -0.059892    0.11143839\n",
      "   0.1772214 ]]\n",
      "[[-0.13818005  0.23956799 -0.07461954  0.12027491  0.06283751  0.18409426\n",
      "   0.02798233  0.06480118  0.22042219  0.01030928  0.08885616 -0.26460481\n",
      "  -0.14285714  0.11634757  0.10112911  0.15414826  0.2233677   0.54982818\n",
      "  -0.4796269   0.41826215  0.11192931  0.2071674  -0.10996564  0.3814433\n",
      "  -0.01178203  0.01620029  0.15954836  0.11634757  0.00098184 -0.059892\n",
      "   0.11143839]]\n",
      "[[-0.13973758  0.2832597   0.23956799 -0.07461954  0.12027491  0.06283751\n",
      "   0.18409426  0.02798233  0.06480118  0.22042219  0.01030928  0.08885616\n",
      "  -0.26460481 -0.14285714  0.11634757  0.10112911  0.15414826  0.2233677\n",
      "   0.54982818 -0.4796269   0.41826215  0.11192931  0.2071674  -0.10996564\n",
      "   0.3814433  -0.01178203  0.01620029  0.15954836  0.11634757  0.00098184\n",
      "  -0.059892  ]]\n",
      "[[-0.08563507 -0.07511046  0.2832597   0.23956799 -0.07461954  0.12027491\n",
      "   0.06283751  0.18409426  0.02798233  0.06480118  0.22042219  0.01030928\n",
      "   0.08885616 -0.26460481 -0.14285714  0.11634757  0.10112911  0.15414826\n",
      "   0.2233677   0.54982818 -0.4796269   0.41826215  0.11192931  0.2071674\n",
      "  -0.10996564  0.3814433  -0.01178203  0.01620029  0.15954836  0.11634757\n",
      "   0.00098184]]\n",
      "[[ 0.12472337  0.12763868 -0.07511046  0.2832597   0.23956799 -0.07461954\n",
      "   0.12027491  0.06283751  0.18409426  0.02798233  0.06480118  0.22042219\n",
      "   0.01030928  0.08885616 -0.26460481 -0.14285714  0.11634757  0.10112911\n",
      "   0.15414826  0.2233677   0.54982818 -0.4796269   0.41826215  0.11192931\n",
      "   0.2071674  -0.10996564  0.3814433  -0.01178203  0.01620029  0.15954836\n",
      "   0.11634757]]\n",
      "[[ 0.06220322  0.06627393  0.12763868 -0.07511046  0.2832597   0.23956799\n",
      "  -0.07461954  0.12027491  0.06283751  0.18409426  0.02798233  0.06480118\n",
      "   0.22042219  0.01030928  0.08885616 -0.26460481 -0.14285714  0.11634757\n",
      "   0.10112911  0.15414826  0.2233677   0.54982818 -0.4796269   0.41826215\n",
      "   0.11192931  0.2071674  -0.10996564  0.3814433  -0.01178203  0.01620029\n",
      "   0.15954836]]\n",
      "[[ 0.24386269 -0.08296514  0.06627393  0.12763868 -0.07511046  0.2832597\n",
      "   0.23956799 -0.07461954  0.12027491  0.06283751  0.18409426  0.02798233\n",
      "   0.06480118  0.22042219  0.01030928  0.08885616 -0.26460481 -0.14285714\n",
      "   0.11634757  0.10112911  0.15414826  0.2233677   0.54982818 -0.4796269\n",
      "   0.41826215  0.11192931  0.2071674  -0.10996564  0.3814433  -0.01178203\n",
      "   0.01620029]]\n",
      "[[ 0.16970572  0.17771232 -0.08296514  0.06627393  0.12763868 -0.07511046\n",
      "   0.2832597   0.23956799 -0.07461954  0.12027491  0.06283751  0.18409426\n",
      "   0.02798233  0.06480118  0.22042219  0.01030928  0.08885616 -0.26460481\n",
      "  -0.14285714  0.11634757  0.10112911  0.15414826  0.2233677   0.54982818\n",
      "  -0.4796269   0.41826215  0.11192931  0.2071674  -0.10996564  0.3814433\n",
      "  -0.01178203]]\n",
      "[[-0.1259746   0.33186058  0.17771232 -0.08296514  0.06627393  0.12763868\n",
      "  -0.07511046  0.2832597   0.23956799 -0.07461954  0.12027491  0.06283751\n",
      "   0.18409426  0.02798233  0.06480118  0.22042219  0.01030928  0.08885616\n",
      "  -0.26460481 -0.14285714  0.11634757  0.10112911  0.15414826  0.2233677\n",
      "   0.54982818 -0.4796269   0.41826215  0.11192931  0.2071674  -0.10996564\n",
      "   0.3814433 ]]\n",
      "[[-0.07282227 -0.04516446  0.33186058  0.17771232 -0.08296514  0.06627393\n",
      "   0.12763868 -0.07511046  0.2832597   0.23956799 -0.07461954  0.12027491\n",
      "   0.06283751  0.18409426  0.02798233  0.06480118  0.22042219  0.01030928\n",
      "   0.08885616 -0.26460481 -0.14285714  0.11634757  0.10112911  0.15414826\n",
      "   0.2233677   0.54982818 -0.4796269   0.41826215  0.11192931  0.2071674\n",
      "  -0.10996564]]\n",
      "[[-0.25892967  0.46980854 -0.04516446  0.33186058  0.17771232 -0.08296514\n",
      "   0.06627393  0.12763868 -0.07511046  0.2832597   0.23956799 -0.07461954\n",
      "   0.12027491  0.06283751  0.18409426  0.02798233  0.06480118  0.22042219\n",
      "   0.01030928  0.08885616 -0.26460481 -0.14285714  0.11634757  0.10112911\n",
      "   0.15414826  0.2233677   0.54982818 -0.4796269   0.41826215  0.11192931\n",
      "   0.2071674 ]]\n",
      "[[-0.15425101 -0.21845852  0.46980854 -0.04516446  0.33186058  0.17771232\n",
      "  -0.08296514  0.06627393  0.12763868 -0.07511046  0.2832597   0.23956799\n",
      "  -0.07461954  0.12027491  0.06283751  0.18409426  0.02798233  0.06480118\n",
      "   0.22042219  0.01030928  0.08885616 -0.26460481 -0.14285714  0.11634757\n",
      "   0.10112911  0.15414826  0.2233677   0.54982818 -0.4796269   0.41826215\n",
      "   0.11192931]]\n",
      "[[ 0.27941367 -0.18654885 -0.21845852  0.46980854 -0.04516446  0.33186058\n",
      "   0.17771232 -0.08296514  0.06627393  0.12763868 -0.07511046  0.2832597\n",
      "   0.23956799 -0.07461954  0.12027491  0.06283751  0.18409426  0.02798233\n",
      "   0.06480118  0.22042219  0.01030928  0.08885616 -0.26460481 -0.14285714\n",
      "   0.11634757  0.10112911  0.15414826  0.2233677   0.54982818 -0.4796269\n",
      "   0.41826215]]\n",
      "[[ 0.11320183  0.43642612 -0.18654885 -0.21845852  0.46980854 -0.04516446\n",
      "   0.33186058  0.17771232 -0.08296514  0.06627393  0.12763868 -0.07511046\n",
      "   0.2832597   0.23956799 -0.07461954  0.12027491  0.06283751  0.18409426\n",
      "   0.02798233  0.06480118  0.22042219  0.01030928  0.08885616 -0.26460481\n",
      "  -0.14285714  0.11634757  0.10112911  0.15414826  0.2233677   0.54982818\n",
      "  -0.4796269 ]]\n",
      "[[ 0.10320115  0.1934217   0.43642612 -0.18654885 -0.21845852  0.46980854\n",
      "  -0.04516446  0.33186058  0.17771232 -0.08296514  0.06627393  0.12763868\n",
      "  -0.07511046  0.2832597   0.23956799 -0.07461954  0.12027491  0.06283751\n",
      "   0.18409426  0.02798233  0.06480118  0.22042219  0.01030928  0.08885616\n",
      "  -0.26460481 -0.14285714  0.11634757  0.10112911  0.15414826  0.2233677\n",
      "   0.54982818]]\n",
      "[[ 0.09578136  0.11389298  0.1934217   0.43642612 -0.18654885 -0.21845852\n",
      "   0.46980854 -0.04516446  0.33186058  0.17771232 -0.08296514  0.06627393\n",
      "   0.12763868 -0.07511046  0.2832597   0.23956799 -0.07461954  0.12027491\n",
      "   0.06283751  0.18409426  0.02798233  0.06480118  0.22042219  0.01030928\n",
      "   0.08885616 -0.26460481 -0.14285714  0.11634757  0.10112911  0.15414826\n",
      "   0.2233677 ]]\n",
      "[[-0.41025379  0.40500736  0.11389298  0.1934217   0.43642612 -0.18654885\n",
      "  -0.21845852  0.46980854 -0.04516446  0.33186058  0.17771232 -0.08296514\n",
      "   0.06627393  0.12763868 -0.07511046  0.2832597   0.23956799 -0.07461954\n",
      "   0.12027491  0.06283751  0.18409426  0.02798233  0.06480118  0.22042219\n",
      "   0.01030928  0.08885616 -0.26460481 -0.14285714  0.11634757  0.10112911\n",
      "   0.15414826]]\n",
      "[[-0.18545911 -0.41924399  0.40500736  0.11389298  0.1934217   0.43642612\n",
      "  -0.18654885 -0.21845852  0.46980854 -0.04516446  0.33186058  0.17771232\n",
      "  -0.08296514  0.06627393  0.12763868 -0.07511046  0.2832597   0.23956799\n",
      "  -0.07461954  0.12027491  0.06283751  0.18409426  0.02798233  0.06480118\n",
      "   0.22042219  0.01030928  0.08885616 -0.26460481 -0.14285714  0.11634757\n",
      "   0.10112911]]\n",
      "[[ 0.27677506 -0.09916544 -0.41924399  0.40500736  0.11389298  0.1934217\n",
      "   0.43642612 -0.18654885 -0.21845852  0.46980854 -0.04516446  0.33186058\n",
      "   0.17771232 -0.08296514  0.06627393  0.12763868 -0.07511046  0.2832597\n",
      "   0.23956799 -0.07461954  0.12027491  0.06283751  0.18409426  0.02798233\n",
      "   0.06480118  0.22042219  0.01030928  0.08885616 -0.26460481 -0.14285714\n",
      "   0.11634757]]\n",
      "[[ 0.36752236  0.1035837  -0.09916544 -0.41924399  0.40500736  0.11389298\n",
      "   0.1934217   0.43642612 -0.18654885 -0.21845852  0.46980854 -0.04516446\n",
      "   0.33186058  0.17771232 -0.08296514  0.06627393  0.12763868 -0.07511046\n",
      "   0.2832597   0.23956799 -0.07461954  0.12027491  0.06283751  0.18409426\n",
      "   0.02798233  0.06480118  0.22042219  0.01030928  0.08885616 -0.26460481\n",
      "  -0.14285714]]\n",
      "[[ 0.19754697  0.08051055  0.1035837  -0.09916544 -0.41924399  0.40500736\n",
      "   0.11389298  0.1934217   0.43642612 -0.18654885 -0.21845852  0.46980854\n",
      "  -0.04516446  0.33186058  0.17771232 -0.08296514  0.06627393  0.12763868\n",
      "  -0.07511046  0.2832597   0.23956799 -0.07461954  0.12027491  0.06283751\n",
      "   0.18409426  0.02798233  0.06480118  0.22042219  0.01030928  0.08885616\n",
      "  -0.26460481]]\n",
      "[[ 0.51152515  0.00294551  0.08051055  0.1035837  -0.09916544 -0.41924399\n",
      "   0.40500736  0.11389298  0.1934217   0.43642612 -0.18654885 -0.21845852\n",
      "   0.46980854 -0.04516446  0.33186058  0.17771232 -0.08296514  0.06627393\n",
      "   0.12763868 -0.07511046  0.2832597   0.23956799 -0.07461954  0.12027491\n",
      "   0.06283751  0.18409426  0.02798233  0.06480118  0.22042219  0.01030928\n",
      "   0.08885616]]\n",
      "[[ 0.12097363  0.21551301  0.00294551  0.08051055  0.1035837  -0.09916544\n",
      "  -0.41924399  0.40500736  0.11389298  0.1934217   0.43642612 -0.18654885\n",
      "  -0.21845852  0.46980854 -0.04516446  0.33186058  0.17771232 -0.08296514\n",
      "   0.06627393  0.12763868 -0.07511046  0.2832597   0.23956799 -0.07461954\n",
      "   0.12027491  0.06283751  0.18409426  0.02798233  0.06480118  0.22042219\n",
      "   0.01030928]]\n",
      "[[ 0.12995687  0.03878252  0.21551301  0.00294551  0.08051055  0.1035837\n",
      "  -0.09916544 -0.41924399  0.40500736  0.11389298  0.1934217   0.43642612\n",
      "  -0.18654885 -0.21845852  0.46980854 -0.04516446  0.33186058  0.17771232\n",
      "  -0.08296514  0.06627393  0.12763868 -0.07511046  0.2832597   0.23956799\n",
      "  -0.07461954  0.12027491  0.06283751  0.18409426  0.02798233  0.06480118\n",
      "   0.22042219]]\n",
      "[[ 0.30658418  0.13254786  0.03878252  0.21551301  0.00294551  0.08051055\n",
      "   0.1035837  -0.09916544 -0.41924399  0.40500736  0.11389298  0.1934217\n",
      "   0.43642612 -0.18654885 -0.21845852  0.46980854 -0.04516446  0.33186058\n",
      "   0.17771232 -0.08296514  0.06627393  0.12763868 -0.07511046  0.2832597\n",
      "   0.23956799 -0.07461954  0.12027491  0.06283751  0.18409426  0.02798233\n",
      "   0.06480118]]\n",
      "[[ 0.16099451  0.23956799  0.13254786  0.03878252  0.21551301  0.00294551\n",
      "   0.08051055  0.1035837  -0.09916544 -0.41924399  0.40500736  0.11389298\n",
      "   0.1934217   0.43642612 -0.18654885 -0.21845852  0.46980854 -0.04516446\n",
      "   0.33186058  0.17771232 -0.08296514  0.06627393  0.12763868 -0.07511046\n",
      "   0.2832597   0.23956799 -0.07461954  0.12027491  0.06283751  0.18409426\n",
      "   0.02798233]]\n",
      "[[ 0.28338426 -0.11242023  0.23956799  0.13254786  0.03878252  0.21551301\n",
      "   0.00294551  0.08051055  0.1035837  -0.09916544 -0.41924399  0.40500736\n",
      "   0.11389298  0.1934217   0.43642612 -0.18654885 -0.21845852  0.46980854\n",
      "  -0.04516446  0.33186058  0.17771232 -0.08296514  0.06627393  0.12763868\n",
      "  -0.07511046  0.2832597   0.23956799 -0.07461954  0.12027491  0.06283751\n",
      "   0.18409426]]\n",
      "[[ 0.16636343  0.03681885 -0.11242023  0.23956799  0.13254786  0.03878252\n",
      "   0.21551301  0.00294551  0.08051055  0.1035837  -0.09916544 -0.41924399\n",
      "   0.40500736  0.11389298  0.1934217   0.43642612 -0.18654885 -0.21845852\n",
      "   0.46980854 -0.04516446  0.33186058  0.17771232 -0.08296514  0.06627393\n",
      "   0.12763868 -0.07511046  0.2832597   0.23956799 -0.07461954  0.12027491\n",
      "   0.06283751]]\n",
      "[[-0.04453344  0.19145803  0.03681885 -0.11242023  0.23956799  0.13254786\n",
      "   0.03878252  0.21551301  0.00294551  0.08051055  0.1035837  -0.09916544\n",
      "  -0.41924399  0.40500736  0.11389298  0.1934217   0.43642612 -0.18654885\n",
      "  -0.21845852  0.46980854 -0.04516446  0.33186058  0.17771232 -0.08296514\n",
      "   0.06627393  0.12763868 -0.07511046  0.2832597   0.23956799 -0.07461954\n",
      "   0.12027491]]\n",
      "[[ 0.14914431  0.07707413  0.19145803  0.03681885 -0.11242023  0.23956799\n",
      "   0.13254786  0.03878252  0.21551301  0.00294551  0.08051055  0.1035837\n",
      "  -0.09916544 -0.41924399  0.40500736  0.11389298  0.1934217   0.43642612\n",
      "  -0.18654885 -0.21845852  0.46980854 -0.04516446  0.33186058  0.17771232\n",
      "  -0.08296514  0.06627393  0.12763868 -0.07511046  0.2832597   0.23956799\n",
      "  -0.07461954]]\n",
      "[[-0.00872627  0.17918508  0.07707413  0.19145803  0.03681885 -0.11242023\n",
      "   0.23956799  0.13254786  0.03878252  0.21551301  0.00294551  0.08051055\n",
      "   0.1035837  -0.09916544 -0.41924399  0.40500736  0.11389298  0.1934217\n",
      "   0.43642612 -0.18654885 -0.21845852  0.46980854 -0.04516446  0.33186058\n",
      "   0.17771232 -0.08296514  0.06627393  0.12763868 -0.07511046  0.2832597\n",
      "   0.23956799]]\n",
      "[[ 0.15645432  0.08591065  0.17918508  0.07707413  0.19145803  0.03681885\n",
      "  -0.11242023  0.23956799  0.13254786  0.03878252  0.21551301  0.00294551\n",
      "   0.08051055  0.1035837  -0.09916544 -0.41924399  0.40500736  0.11389298\n",
      "   0.1934217   0.43642612 -0.18654885 -0.21845852  0.46980854 -0.04516446\n",
      "   0.33186058  0.17771232 -0.08296514  0.06627393  0.12763868 -0.07511046\n",
      "   0.2832597 ]]\n",
      "[[ 0.08118236  0.07658321  0.08591065  0.17918508  0.07707413  0.19145803\n",
      "   0.03681885 -0.11242023  0.23956799  0.13254786  0.03878252  0.21551301\n",
      "   0.00294551  0.08051055  0.1035837  -0.09916544 -0.41924399  0.40500736\n",
      "   0.11389298  0.1934217   0.43642612 -0.18654885 -0.21845852  0.46980854\n",
      "  -0.04516446  0.33186058  0.17771232 -0.08296514  0.06627393  0.12763868\n",
      "  -0.07511046]]\n",
      "[[ 0.25593022 -0.07265587  0.07658321  0.08591065  0.17918508  0.07707413\n",
      "   0.19145803  0.03681885 -0.11242023  0.23956799  0.13254786  0.03878252\n",
      "   0.21551301  0.00294551  0.08051055  0.1035837  -0.09916544 -0.41924399\n",
      "   0.40500736  0.11389298  0.1934217   0.43642612 -0.18654885 -0.21845852\n",
      "   0.46980854 -0.04516446  0.33186058  0.17771232 -0.08296514  0.06627393\n",
      "   0.12763868]]\n",
      "[[ 0.25051311  0.15169367 -0.07265587  0.07658321  0.08591065  0.17918508\n",
      "   0.07707413  0.19145803  0.03681885 -0.11242023  0.23956799  0.13254786\n",
      "   0.03878252  0.21551301  0.00294551  0.08051055  0.1035837  -0.09916544\n",
      "  -0.41924399  0.40500736  0.11389298  0.1934217   0.43642612 -0.18654885\n",
      "  -0.21845852  0.46980854 -0.04516446  0.33186058  0.17771232 -0.08296514\n",
      "   0.06627393]]\n",
      "[[ 0.15732279  0.18016691  0.15169367 -0.07265587  0.07658321  0.08591065\n",
      "   0.17918508  0.07707413  0.19145803  0.03681885 -0.11242023  0.23956799\n",
      "   0.13254786  0.03878252  0.21551301  0.00294551  0.08051055  0.1035837\n",
      "  -0.09916544 -0.41924399  0.40500736  0.11389298  0.1934217   0.43642612\n",
      "  -0.18654885 -0.21845852  0.46980854 -0.04516446  0.33186058  0.17771232\n",
      "  -0.08296514]]\n",
      "[[-0.13633756  0.21600393  0.18016691  0.15169367 -0.07265587  0.07658321\n",
      "   0.08591065  0.17918508  0.07707413  0.19145803  0.03681885 -0.11242023\n",
      "   0.23956799  0.13254786  0.03878252  0.21551301  0.00294551  0.08051055\n",
      "   0.1035837  -0.09916544 -0.41924399  0.40500736  0.11389298  0.1934217\n",
      "   0.43642612 -0.18654885 -0.21845852  0.46980854 -0.04516446  0.33186058\n",
      "   0.17771232]]\n",
      "[[-0.12071337  0.11291114  0.21600393  0.18016691  0.15169367 -0.07265587\n",
      "   0.07658321  0.08591065  0.17918508  0.07707413  0.19145803  0.03681885\n",
      "  -0.11242023  0.23956799  0.13254786  0.03878252  0.21551301  0.00294551\n",
      "   0.08051055  0.1035837  -0.09916544 -0.41924399  0.40500736  0.11389298\n",
      "   0.1934217   0.43642612 -0.18654885 -0.21845852  0.46980854 -0.04516446\n",
      "   0.33186058]]\n",
      "[[-0.29465914  0.21944035  0.11291114  0.21600393  0.18016691  0.15169367\n",
      "  -0.07265587  0.07658321  0.08591065  0.17918508  0.07707413  0.19145803\n",
      "   0.03681885 -0.11242023  0.23956799  0.13254786  0.03878252  0.21551301\n",
      "   0.00294551  0.08051055  0.1035837  -0.09916544 -0.41924399  0.40500736\n",
      "   0.11389298  0.1934217   0.43642612 -0.18654885 -0.21845852  0.46980854\n",
      "  -0.04516446]]\n"
     ]
    }
   ],
   "source": [
    "pred_test_set = []\n",
    "for index in range(0,len(y_pred)):\n",
    "    print(np.concatenate([y_pred[index],x_test[index]],axis=1))\n",
    "    pred_test_set.append(np.concatenate([y_pred[index],x_test[index]],axis=1))"
   ]
  },
  {
   "cell_type": "code",
   "execution_count": 256,
   "id": "813ab5ce",
   "metadata": {},
   "outputs": [],
   "source": [
    "pred_test_set.append(np.concatenate([y_pred[index],x_test[index]],axis=1))"
   ]
  },
  {
   "cell_type": "code",
   "execution_count": 257,
   "id": "b2af21b4",
   "metadata": {},
   "outputs": [],
   "source": [
    "pred_test_set = np.array(pred_test_set)\n",
    "pred_test_set = pred_test_set.reshape(pred_test_set.shape[0], pred_test_set.shape[2])"
   ]
  },
  {
   "cell_type": "code",
   "execution_count": 258,
   "id": "4e4c1ea0",
   "metadata": {},
   "outputs": [],
   "source": [
    "pred_test_set_inverted = scaler.inverse_transform(pred_test_set)"
   ]
  },
  {
   "cell_type": "code",
   "execution_count": 262,
   "id": "6ee6ed31",
   "metadata": {},
   "outputs": [
    {
     "data": {
      "text/plain": [
       "[Timestamp('2022-04-23 00:00:00'),\n",
       " Timestamp('2022-04-25 00:00:00'),\n",
       " Timestamp('2022-04-26 00:00:00'),\n",
       " Timestamp('2022-04-27 00:00:00'),\n",
       " Timestamp('2022-04-28 00:00:00'),\n",
       " Timestamp('2022-04-29 00:00:00'),\n",
       " Timestamp('2022-04-30 00:00:00')]"
      ]
     },
     "execution_count": 262,
     "metadata": {},
     "output_type": "execute_result"
    }
   ],
   "source": [
    "sales_dates"
   ]
  },
  {
   "cell_type": "code",
   "execution_count": 272,
   "id": "e509d904",
   "metadata": {},
   "outputs": [],
   "source": [
    "result_list = []\n",
    "sales_dates = list(df_sales[-107:].實際出貨日)\n",
    "act_sales = list(df_sales[-107:].銷售數量)\n",
    "for index in range(0,len(pred_test_set_inverted)):\n",
    "    result_dict = {}\n",
    "    result_dict['pred_value'] = int(pred_test_set_inverted[index][0] + act_sales[index])\n",
    "    result_dict['實際出貨日'] = sales_dates[index+1]\n",
    "    result_list.append(result_dict)\n",
    "df_result = pd.DataFrame(result_list)"
   ]
  },
  {
   "cell_type": "code",
   "execution_count": 274,
   "id": "f01be54a",
   "metadata": {},
   "outputs": [],
   "source": [
    "df_sales_pred = pd.merge(df_sales,df_result,on='實際出貨日',how='left')"
   ]
  },
  {
   "cell_type": "code",
   "execution_count": 276,
   "id": "16b0d191",
   "metadata": {},
   "outputs": [
    {
     "data": {
      "text/html": [
       "<div>\n",
       "<style scoped>\n",
       "    .dataframe tbody tr th:only-of-type {\n",
       "        vertical-align: middle;\n",
       "    }\n",
       "\n",
       "    .dataframe tbody tr th {\n",
       "        vertical-align: top;\n",
       "    }\n",
       "\n",
       "    .dataframe thead th {\n",
       "        text-align: right;\n",
       "    }\n",
       "</style>\n",
       "<table border=\"1\" class=\"dataframe\">\n",
       "  <thead>\n",
       "    <tr style=\"text-align: right;\">\n",
       "      <th></th>\n",
       "      <th>實際出貨日</th>\n",
       "      <th>銷售數量</th>\n",
       "      <th>pred_value</th>\n",
       "    </tr>\n",
       "  </thead>\n",
       "  <tbody>\n",
       "    <tr>\n",
       "      <th>0</th>\n",
       "      <td>2021-01-04</td>\n",
       "      <td>732</td>\n",
       "      <td>NaN</td>\n",
       "    </tr>\n",
       "    <tr>\n",
       "      <th>1</th>\n",
       "      <td>2021-01-05</td>\n",
       "      <td>599</td>\n",
       "      <td>NaN</td>\n",
       "    </tr>\n",
       "    <tr>\n",
       "      <th>2</th>\n",
       "      <td>2021-01-06</td>\n",
       "      <td>576</td>\n",
       "      <td>NaN</td>\n",
       "    </tr>\n",
       "    <tr>\n",
       "      <th>3</th>\n",
       "      <td>2021-01-07</td>\n",
       "      <td>328</td>\n",
       "      <td>NaN</td>\n",
       "    </tr>\n",
       "    <tr>\n",
       "      <th>4</th>\n",
       "      <td>2021-01-08</td>\n",
       "      <td>504</td>\n",
       "      <td>NaN</td>\n",
       "    </tr>\n",
       "    <tr>\n",
       "      <th>...</th>\n",
       "      <td>...</td>\n",
       "      <td>...</td>\n",
       "      <td>...</td>\n",
       "    </tr>\n",
       "    <tr>\n",
       "      <th>389</th>\n",
       "      <td>2022-04-26</td>\n",
       "      <td>311</td>\n",
       "      <td>264.0</td>\n",
       "    </tr>\n",
       "    <tr>\n",
       "      <th>390</th>\n",
       "      <td>2022-04-27</td>\n",
       "      <td>566</td>\n",
       "      <td>-151.0</td>\n",
       "    </tr>\n",
       "    <tr>\n",
       "      <th>391</th>\n",
       "      <td>2022-04-28</td>\n",
       "      <td>611</td>\n",
       "      <td>135.0</td>\n",
       "    </tr>\n",
       "    <tr>\n",
       "      <th>392</th>\n",
       "      <td>2022-04-29</td>\n",
       "      <td>873</td>\n",
       "      <td>-174.0</td>\n",
       "    </tr>\n",
       "    <tr>\n",
       "      <th>393</th>\n",
       "      <td>2022-04-30</td>\n",
       "      <td>313</td>\n",
       "      <td>87.0</td>\n",
       "    </tr>\n",
       "  </tbody>\n",
       "</table>\n",
       "<p>394 rows × 3 columns</p>\n",
       "</div>"
      ],
      "text/plain": [
       "         實際出貨日  銷售數量  pred_value\n",
       "0   2021-01-04   732         NaN\n",
       "1   2021-01-05   599         NaN\n",
       "2   2021-01-06   576         NaN\n",
       "3   2021-01-07   328         NaN\n",
       "4   2021-01-08   504         NaN\n",
       "..         ...   ...         ...\n",
       "389 2022-04-26   311       264.0\n",
       "390 2022-04-27   566      -151.0\n",
       "391 2022-04-28   611       135.0\n",
       "392 2022-04-29   873      -174.0\n",
       "393 2022-04-30   313        87.0\n",
       "\n",
       "[394 rows x 3 columns]"
      ]
     },
     "execution_count": 276,
     "metadata": {},
     "output_type": "execute_result"
    }
   ],
   "source": [
    "df_sales_pred"
   ]
  },
  {
   "cell_type": "code",
   "execution_count": 277,
   "id": "c9b90456",
   "metadata": {},
   "outputs": [],
   "source": [
    "p_data = [go.Scatter(x=df_sales_pred[\"實際出貨日\"], y=df_sales_pred[\"銷售數量\"], name=\"actual\"), go.Scatter(x=df_sales_pred[\"實際出貨日\"], y=df_sales_pred[\"pred_value\"], name=\"predicted\")]"
   ]
  },
  {
   "cell_type": "code",
   "execution_count": 278,
   "id": "fdb1301a",
   "metadata": {},
   "outputs": [
    {
     "data": {
      "application/vnd.plotly.v1+json": {
       "config": {
        "plotlyServerURL": "https://plot.ly"
       },
       "data": [
        {
         "name": "actual",
         "type": "scatter",
         "x": [
          "2021-01-04T00:00:00",
          "2021-01-05T00:00:00",
          "2021-01-06T00:00:00",
          "2021-01-07T00:00:00",
          "2021-01-08T00:00:00",
          "2021-01-09T00:00:00",
          "2021-01-11T00:00:00",
          "2021-01-12T00:00:00",
          "2021-01-13T00:00:00",
          "2021-01-14T00:00:00",
          "2021-01-15T00:00:00",
          "2021-01-16T00:00:00",
          "2021-01-18T00:00:00",
          "2021-01-19T00:00:00",
          "2021-01-20T00:00:00",
          "2021-01-21T00:00:00",
          "2021-01-22T00:00:00",
          "2021-01-23T00:00:00",
          "2021-01-25T00:00:00",
          "2021-01-26T00:00:00",
          "2021-01-27T00:00:00",
          "2021-01-28T00:00:00",
          "2021-01-29T00:00:00",
          "2021-01-30T00:00:00",
          "2021-02-01T00:00:00",
          "2021-02-02T00:00:00",
          "2021-02-03T00:00:00",
          "2021-02-04T00:00:00",
          "2021-02-05T00:00:00",
          "2021-02-06T00:00:00",
          "2021-02-07T00:00:00",
          "2021-02-08T00:00:00",
          "2021-02-09T00:00:00",
          "2021-02-10T00:00:00",
          "2021-02-17T00:00:00",
          "2021-02-18T00:00:00",
          "2021-02-19T00:00:00",
          "2021-02-20T00:00:00",
          "2021-02-22T00:00:00",
          "2021-02-23T00:00:00",
          "2021-02-24T00:00:00",
          "2021-02-25T00:00:00",
          "2021-02-26T00:00:00",
          "2021-02-27T00:00:00",
          "2021-02-28T00:00:00",
          "2021-03-01T00:00:00",
          "2021-03-02T00:00:00",
          "2021-03-03T00:00:00",
          "2021-03-04T00:00:00",
          "2021-03-05T00:00:00",
          "2021-03-08T00:00:00",
          "2021-03-09T00:00:00",
          "2021-03-10T00:00:00",
          "2021-03-11T00:00:00",
          "2021-03-12T00:00:00",
          "2021-03-13T00:00:00",
          "2021-03-15T00:00:00",
          "2021-03-16T00:00:00",
          "2021-03-17T00:00:00",
          "2021-03-18T00:00:00",
          "2021-03-19T00:00:00",
          "2021-03-20T00:00:00",
          "2021-03-22T00:00:00",
          "2021-03-23T00:00:00",
          "2021-03-24T00:00:00",
          "2021-03-25T00:00:00",
          "2021-03-26T00:00:00",
          "2021-03-27T00:00:00",
          "2021-03-29T00:00:00",
          "2021-03-30T00:00:00",
          "2021-03-31T00:00:00",
          "2021-04-01T00:00:00",
          "2021-04-02T00:00:00",
          "2021-04-05T00:00:00",
          "2021-04-06T00:00:00",
          "2021-04-07T00:00:00",
          "2021-04-08T00:00:00",
          "2021-04-09T00:00:00",
          "2021-04-10T00:00:00",
          "2021-04-12T00:00:00",
          "2021-04-13T00:00:00",
          "2021-04-14T00:00:00",
          "2021-04-15T00:00:00",
          "2021-04-16T00:00:00",
          "2021-04-17T00:00:00",
          "2021-04-19T00:00:00",
          "2021-04-20T00:00:00",
          "2021-04-21T00:00:00",
          "2021-04-22T00:00:00",
          "2021-04-23T00:00:00",
          "2021-04-24T00:00:00",
          "2021-04-26T00:00:00",
          "2021-04-27T00:00:00",
          "2021-04-28T00:00:00",
          "2021-04-29T00:00:00",
          "2021-04-30T00:00:00",
          "2021-05-03T00:00:00",
          "2021-05-04T00:00:00",
          "2021-05-05T00:00:00",
          "2021-05-06T00:00:00",
          "2021-05-07T00:00:00",
          "2021-05-08T00:00:00",
          "2021-05-10T00:00:00",
          "2021-05-11T00:00:00",
          "2021-05-12T00:00:00",
          "2021-05-13T00:00:00",
          "2021-05-14T00:00:00",
          "2021-05-15T00:00:00",
          "2021-05-17T00:00:00",
          "2021-05-18T00:00:00",
          "2021-05-19T00:00:00",
          "2021-05-20T00:00:00",
          "2021-05-21T00:00:00",
          "2021-05-22T00:00:00",
          "2021-05-24T00:00:00",
          "2021-05-25T00:00:00",
          "2021-05-26T00:00:00",
          "2021-05-27T00:00:00",
          "2021-05-28T00:00:00",
          "2021-05-29T00:00:00",
          "2021-05-31T00:00:00",
          "2021-06-01T00:00:00",
          "2021-06-02T00:00:00",
          "2021-06-03T00:00:00",
          "2021-06-04T00:00:00",
          "2021-06-05T00:00:00",
          "2021-06-07T00:00:00",
          "2021-06-08T00:00:00",
          "2021-06-09T00:00:00",
          "2021-06-10T00:00:00",
          "2021-06-11T00:00:00",
          "2021-06-12T00:00:00",
          "2021-06-15T00:00:00",
          "2021-06-16T00:00:00",
          "2021-06-17T00:00:00",
          "2021-06-18T00:00:00",
          "2021-06-19T00:00:00",
          "2021-06-21T00:00:00",
          "2021-06-22T00:00:00",
          "2021-06-23T00:00:00",
          "2021-06-24T00:00:00",
          "2021-06-25T00:00:00",
          "2021-06-26T00:00:00",
          "2021-06-28T00:00:00",
          "2021-06-29T00:00:00",
          "2021-06-30T00:00:00",
          "2021-07-01T00:00:00",
          "2021-07-02T00:00:00",
          "2021-07-03T00:00:00",
          "2021-07-05T00:00:00",
          "2021-07-06T00:00:00",
          "2021-07-07T00:00:00",
          "2021-07-08T00:00:00",
          "2021-07-09T00:00:00",
          "2021-07-10T00:00:00",
          "2021-07-12T00:00:00",
          "2021-07-13T00:00:00",
          "2021-07-14T00:00:00",
          "2021-07-15T00:00:00",
          "2021-07-16T00:00:00",
          "2021-07-17T00:00:00",
          "2021-07-19T00:00:00",
          "2021-07-20T00:00:00",
          "2021-07-21T00:00:00",
          "2021-07-22T00:00:00",
          "2021-07-23T00:00:00",
          "2021-07-24T00:00:00",
          "2021-07-26T00:00:00",
          "2021-07-27T00:00:00",
          "2021-07-28T00:00:00",
          "2021-07-29T00:00:00",
          "2021-07-30T00:00:00",
          "2021-07-31T00:00:00",
          "2021-08-02T00:00:00",
          "2021-08-03T00:00:00",
          "2021-08-04T00:00:00",
          "2021-08-05T00:00:00",
          "2021-08-06T00:00:00",
          "2021-08-07T00:00:00",
          "2021-08-09T00:00:00",
          "2021-08-10T00:00:00",
          "2021-08-11T00:00:00",
          "2021-08-12T00:00:00",
          "2021-08-13T00:00:00",
          "2021-08-14T00:00:00",
          "2021-08-16T00:00:00",
          "2021-08-17T00:00:00",
          "2021-08-18T00:00:00",
          "2021-08-19T00:00:00",
          "2021-08-20T00:00:00",
          "2021-08-21T00:00:00",
          "2021-08-23T00:00:00",
          "2021-08-24T00:00:00",
          "2021-08-25T00:00:00",
          "2021-08-26T00:00:00",
          "2021-08-27T00:00:00",
          "2021-08-28T00:00:00",
          "2021-08-30T00:00:00",
          "2021-08-31T00:00:00",
          "2021-09-01T00:00:00",
          "2021-09-02T00:00:00",
          "2021-09-03T00:00:00",
          "2021-09-04T00:00:00",
          "2021-09-06T00:00:00",
          "2021-09-07T00:00:00",
          "2021-09-08T00:00:00",
          "2021-09-09T00:00:00",
          "2021-09-10T00:00:00",
          "2021-09-11T00:00:00",
          "2021-09-13T00:00:00",
          "2021-09-14T00:00:00",
          "2021-09-15T00:00:00",
          "2021-09-16T00:00:00",
          "2021-09-17T00:00:00",
          "2021-09-18T00:00:00",
          "2021-09-20T00:00:00",
          "2021-09-22T00:00:00",
          "2021-09-23T00:00:00",
          "2021-09-24T00:00:00",
          "2021-09-25T00:00:00",
          "2021-09-27T00:00:00",
          "2021-09-28T00:00:00",
          "2021-09-29T00:00:00",
          "2021-09-30T00:00:00",
          "2021-10-01T00:00:00",
          "2021-10-02T00:00:00",
          "2021-10-04T00:00:00",
          "2021-10-05T00:00:00",
          "2021-10-06T00:00:00",
          "2021-10-07T00:00:00",
          "2021-10-08T00:00:00",
          "2021-10-12T00:00:00",
          "2021-10-13T00:00:00",
          "2021-10-14T00:00:00",
          "2021-10-15T00:00:00",
          "2021-10-16T00:00:00",
          "2021-10-18T00:00:00",
          "2021-10-19T00:00:00",
          "2021-10-20T00:00:00",
          "2021-10-21T00:00:00",
          "2021-10-22T00:00:00",
          "2021-10-23T00:00:00",
          "2021-10-25T00:00:00",
          "2021-10-26T00:00:00",
          "2021-10-27T00:00:00",
          "2021-10-28T00:00:00",
          "2021-10-29T00:00:00",
          "2021-10-30T00:00:00",
          "2021-10-31T00:00:00",
          "2021-11-01T00:00:00",
          "2021-11-02T00:00:00",
          "2021-11-03T00:00:00",
          "2021-11-04T00:00:00",
          "2021-11-05T00:00:00",
          "2021-11-06T00:00:00",
          "2021-11-08T00:00:00",
          "2021-11-09T00:00:00",
          "2021-11-10T00:00:00",
          "2021-11-11T00:00:00",
          "2021-11-12T00:00:00",
          "2021-11-13T00:00:00",
          "2021-11-15T00:00:00",
          "2021-11-16T00:00:00",
          "2021-11-17T00:00:00",
          "2021-11-18T00:00:00",
          "2021-11-19T00:00:00",
          "2021-11-20T00:00:00",
          "2021-11-22T00:00:00",
          "2021-11-23T00:00:00",
          "2021-11-24T00:00:00",
          "2021-11-25T00:00:00",
          "2021-11-26T00:00:00",
          "2021-11-27T00:00:00",
          "2021-11-29T00:00:00",
          "2021-11-30T00:00:00",
          "2021-12-01T00:00:00",
          "2021-12-02T00:00:00",
          "2021-12-03T00:00:00",
          "2021-12-04T00:00:00",
          "2021-12-06T00:00:00",
          "2021-12-07T00:00:00",
          "2021-12-08T00:00:00",
          "2021-12-09T00:00:00",
          "2021-12-10T00:00:00",
          "2021-12-11T00:00:00",
          "2021-12-13T00:00:00",
          "2021-12-14T00:00:00",
          "2021-12-15T00:00:00",
          "2021-12-16T00:00:00",
          "2021-12-17T00:00:00",
          "2021-12-19T00:00:00",
          "2021-12-20T00:00:00",
          "2021-12-21T00:00:00",
          "2021-12-22T00:00:00",
          "2021-12-23T00:00:00",
          "2021-12-24T00:00:00",
          "2021-12-25T00:00:00",
          "2021-12-27T00:00:00",
          "2021-12-28T00:00:00",
          "2021-12-29T00:00:00",
          "2021-12-30T00:00:00",
          "2021-12-31T00:00:00",
          "2022-01-03T00:00:00",
          "2022-01-04T00:00:00",
          "2022-01-05T00:00:00",
          "2022-01-06T00:00:00",
          "2022-01-07T00:00:00",
          "2022-01-08T00:00:00",
          "2022-01-10T00:00:00",
          "2022-01-11T00:00:00",
          "2022-01-12T00:00:00",
          "2022-01-13T00:00:00",
          "2022-01-14T00:00:00",
          "2022-01-15T00:00:00",
          "2022-01-17T00:00:00",
          "2022-01-18T00:00:00",
          "2022-01-19T00:00:00",
          "2022-01-20T00:00:00",
          "2022-01-21T00:00:00",
          "2022-01-22T00:00:00",
          "2022-01-23T00:00:00",
          "2022-01-24T00:00:00",
          "2022-01-25T00:00:00",
          "2022-01-26T00:00:00",
          "2022-01-27T00:00:00",
          "2022-01-28T00:00:00",
          "2022-01-29T00:00:00",
          "2022-02-07T00:00:00",
          "2022-02-08T00:00:00",
          "2022-02-09T00:00:00",
          "2022-02-10T00:00:00",
          "2022-02-11T00:00:00",
          "2022-02-12T00:00:00",
          "2022-02-14T00:00:00",
          "2022-02-15T00:00:00",
          "2022-02-16T00:00:00",
          "2022-02-17T00:00:00",
          "2022-02-18T00:00:00",
          "2022-02-19T00:00:00",
          "2022-02-21T00:00:00",
          "2022-02-22T00:00:00",
          "2022-02-23T00:00:00",
          "2022-02-24T00:00:00",
          "2022-02-25T00:00:00",
          "2022-02-26T00:00:00",
          "2022-03-01T00:00:00",
          "2022-03-02T00:00:00",
          "2022-03-03T00:00:00",
          "2022-03-04T00:00:00",
          "2022-03-07T00:00:00",
          "2022-03-08T00:00:00",
          "2022-03-09T00:00:00",
          "2022-03-10T00:00:00",
          "2022-03-11T00:00:00",
          "2022-03-12T00:00:00",
          "2022-03-14T00:00:00",
          "2022-03-15T00:00:00",
          "2022-03-16T00:00:00",
          "2022-03-17T00:00:00",
          "2022-03-18T00:00:00",
          "2022-03-19T00:00:00",
          "2022-03-21T00:00:00",
          "2022-03-22T00:00:00",
          "2022-03-23T00:00:00",
          "2022-03-24T00:00:00",
          "2022-03-25T00:00:00",
          "2022-03-26T00:00:00",
          "2022-03-28T00:00:00",
          "2022-03-29T00:00:00",
          "2022-03-30T00:00:00",
          "2022-03-31T00:00:00",
          "2022-04-01T00:00:00",
          "2022-04-06T00:00:00",
          "2022-04-07T00:00:00",
          "2022-04-08T00:00:00",
          "2022-04-09T00:00:00",
          "2022-04-11T00:00:00",
          "2022-04-12T00:00:00",
          "2022-04-13T00:00:00",
          "2022-04-14T00:00:00",
          "2022-04-15T00:00:00",
          "2022-04-16T00:00:00",
          "2022-04-18T00:00:00",
          "2022-04-19T00:00:00",
          "2022-04-20T00:00:00",
          "2022-04-21T00:00:00",
          "2022-04-22T00:00:00",
          "2022-04-23T00:00:00",
          "2022-04-25T00:00:00",
          "2022-04-26T00:00:00",
          "2022-04-27T00:00:00",
          "2022-04-28T00:00:00",
          "2022-04-29T00:00:00",
          "2022-04-30T00:00:00"
         ],
         "y": [
          732,
          599,
          576,
          328,
          504,
          34,
          561,
          337,
          555,
          386,
          304,
          39,
          335,
          553,
          652,
          551,
          487,
          43,
          435,
          366,
          365,
          610,
          1140,
          376,
          318,
          525,
          486,
          371,
          354,
          193,
          23,
          384,
          304,
          156,
          82,
          429,
          257,
          108,
          415,
          540,
          867,
          500,
          1001,
          891,
          22,
          30,
          984,
          524,
          312,
          325,
          317,
          332,
          322,
          531,
          316,
          20,
          581,
          386,
          592,
          941,
          816,
          28,
          629,
          556,
          1136,
          689,
          891,
          190,
          1735,
          1444,
          1564,
          222,
          71,
          31,
          701,
          442,
          458,
          225,
          57,
          136,
          533,
          435,
          259,
          273,
          6,
          433,
          591,
          479,
          725,
          430,
          30,
          773,
          492,
          585,
          509,
          504,
          763,
          226,
          673,
          233,
          538,
          76,
          626,
          456,
          459,
          276,
          360,
          27,
          1112,
          432,
          334,
          655,
          507,
          84,
          279,
          713,
          371,
          554,
          532,
          6,
          817,
          360,
          524,
          708,
          348,
          60,
          216,
          569,
          164,
          928,
          538,
          23,
          349,
          515,
          348,
          1011,
          46,
          251,
          546,
          395,
          421,
          372,
          22,
          528,
          603,
          926,
          748,
          279,
          25,
          502,
          186,
          224,
          426,
          390,
          68,
          380,
          265,
          463,
          477,
          397,
          22,
          655,
          266,
          525,
          553,
          730,
          4,
          556,
          662,
          503,
          580,
          552,
          990,
          730,
          511,
          303,
          486,
          493,
          90,
          275,
          566,
          582,
          679,
          310,
          28,
          518,
          218,
          820,
          320,
          490,
          22,
          580,
          376,
          731,
          760,
          439,
          36,
          904,
          2756,
          534,
          361,
          290,
          33,
          528,
          535,
          912,
          826,
          864,
          72,
          794,
          629,
          940,
          897,
          519,
          23,
          142,
          648,
          530,
          460,
          30,
          1328,
          878,
          1058,
          2000,
          455,
          3,
          306,
          302,
          528,
          162,
          276,
          321,
          430,
          338,
          262,
          39,
          408,
          406,
          354,
          681,
          446,
          23,
          274,
          368,
          218,
          666,
          941,
          396,
          1,
          531,
          383,
          393,
          366,
          414,
          56,
          244,
          395,
          373,
          213,
          344,
          158,
          519,
          440,
          689,
          593,
          438,
          44,
          700,
          579,
          430,
          283,
          287,
          18,
          1155,
          1527,
          698,
          285,
          189,
          51,
          308,
          312,
          302,
          386,
          410,
          43,
          258,
          689,
          294,
          355,
          376,
          2,
          435,
          383,
          496,
          347,
          204,
          11,
          289,
          500,
          714,
          1051,
          472,
          466,
          706,
          323,
          399,
          685,
          14,
          346,
          269,
          374,
          350,
          387,
          26,
          527,
          799,
          613,
          351,
          802,
          47,
          27,
          562,
          392,
          845,
          507,
          683,
          725,
          418,
          235,
          287,
          427,
          275,
          66,
          658,
          249,
          486,
          529,
          1196,
          34,
          969,
          1239,
          1368,
          1389,
          1441,
          965,
          241,
          237,
          73,
          337,
          284,
          156,
          346,
          289,
          349,
          12,
          315,
          707,
          369,
          444,
          394,
          40,
          217,
          708,
          431,
          1203,
          573,
          8,
          712,
          921,
          968,
          1608,
          569,
          182,
          208,
          187,
          8,
          262,
          156,
          241,
          544,
          130,
          20,
          225,
          197,
          377,
          367,
          338,
          5,
          129,
          311,
          566,
          611,
          873,
          313
         ]
        },
        {
         "name": "predicted",
         "type": "scatter",
         "x": [
          "2021-01-04T00:00:00",
          "2021-01-05T00:00:00",
          "2021-01-06T00:00:00",
          "2021-01-07T00:00:00",
          "2021-01-08T00:00:00",
          "2021-01-09T00:00:00",
          "2021-01-11T00:00:00",
          "2021-01-12T00:00:00",
          "2021-01-13T00:00:00",
          "2021-01-14T00:00:00",
          "2021-01-15T00:00:00",
          "2021-01-16T00:00:00",
          "2021-01-18T00:00:00",
          "2021-01-19T00:00:00",
          "2021-01-20T00:00:00",
          "2021-01-21T00:00:00",
          "2021-01-22T00:00:00",
          "2021-01-23T00:00:00",
          "2021-01-25T00:00:00",
          "2021-01-26T00:00:00",
          "2021-01-27T00:00:00",
          "2021-01-28T00:00:00",
          "2021-01-29T00:00:00",
          "2021-01-30T00:00:00",
          "2021-02-01T00:00:00",
          "2021-02-02T00:00:00",
          "2021-02-03T00:00:00",
          "2021-02-04T00:00:00",
          "2021-02-05T00:00:00",
          "2021-02-06T00:00:00",
          "2021-02-07T00:00:00",
          "2021-02-08T00:00:00",
          "2021-02-09T00:00:00",
          "2021-02-10T00:00:00",
          "2021-02-17T00:00:00",
          "2021-02-18T00:00:00",
          "2021-02-19T00:00:00",
          "2021-02-20T00:00:00",
          "2021-02-22T00:00:00",
          "2021-02-23T00:00:00",
          "2021-02-24T00:00:00",
          "2021-02-25T00:00:00",
          "2021-02-26T00:00:00",
          "2021-02-27T00:00:00",
          "2021-02-28T00:00:00",
          "2021-03-01T00:00:00",
          "2021-03-02T00:00:00",
          "2021-03-03T00:00:00",
          "2021-03-04T00:00:00",
          "2021-03-05T00:00:00",
          "2021-03-08T00:00:00",
          "2021-03-09T00:00:00",
          "2021-03-10T00:00:00",
          "2021-03-11T00:00:00",
          "2021-03-12T00:00:00",
          "2021-03-13T00:00:00",
          "2021-03-15T00:00:00",
          "2021-03-16T00:00:00",
          "2021-03-17T00:00:00",
          "2021-03-18T00:00:00",
          "2021-03-19T00:00:00",
          "2021-03-20T00:00:00",
          "2021-03-22T00:00:00",
          "2021-03-23T00:00:00",
          "2021-03-24T00:00:00",
          "2021-03-25T00:00:00",
          "2021-03-26T00:00:00",
          "2021-03-27T00:00:00",
          "2021-03-29T00:00:00",
          "2021-03-30T00:00:00",
          "2021-03-31T00:00:00",
          "2021-04-01T00:00:00",
          "2021-04-02T00:00:00",
          "2021-04-05T00:00:00",
          "2021-04-06T00:00:00",
          "2021-04-07T00:00:00",
          "2021-04-08T00:00:00",
          "2021-04-09T00:00:00",
          "2021-04-10T00:00:00",
          "2021-04-12T00:00:00",
          "2021-04-13T00:00:00",
          "2021-04-14T00:00:00",
          "2021-04-15T00:00:00",
          "2021-04-16T00:00:00",
          "2021-04-17T00:00:00",
          "2021-04-19T00:00:00",
          "2021-04-20T00:00:00",
          "2021-04-21T00:00:00",
          "2021-04-22T00:00:00",
          "2021-04-23T00:00:00",
          "2021-04-24T00:00:00",
          "2021-04-26T00:00:00",
          "2021-04-27T00:00:00",
          "2021-04-28T00:00:00",
          "2021-04-29T00:00:00",
          "2021-04-30T00:00:00",
          "2021-05-03T00:00:00",
          "2021-05-04T00:00:00",
          "2021-05-05T00:00:00",
          "2021-05-06T00:00:00",
          "2021-05-07T00:00:00",
          "2021-05-08T00:00:00",
          "2021-05-10T00:00:00",
          "2021-05-11T00:00:00",
          "2021-05-12T00:00:00",
          "2021-05-13T00:00:00",
          "2021-05-14T00:00:00",
          "2021-05-15T00:00:00",
          "2021-05-17T00:00:00",
          "2021-05-18T00:00:00",
          "2021-05-19T00:00:00",
          "2021-05-20T00:00:00",
          "2021-05-21T00:00:00",
          "2021-05-22T00:00:00",
          "2021-05-24T00:00:00",
          "2021-05-25T00:00:00",
          "2021-05-26T00:00:00",
          "2021-05-27T00:00:00",
          "2021-05-28T00:00:00",
          "2021-05-29T00:00:00",
          "2021-05-31T00:00:00",
          "2021-06-01T00:00:00",
          "2021-06-02T00:00:00",
          "2021-06-03T00:00:00",
          "2021-06-04T00:00:00",
          "2021-06-05T00:00:00",
          "2021-06-07T00:00:00",
          "2021-06-08T00:00:00",
          "2021-06-09T00:00:00",
          "2021-06-10T00:00:00",
          "2021-06-11T00:00:00",
          "2021-06-12T00:00:00",
          "2021-06-15T00:00:00",
          "2021-06-16T00:00:00",
          "2021-06-17T00:00:00",
          "2021-06-18T00:00:00",
          "2021-06-19T00:00:00",
          "2021-06-21T00:00:00",
          "2021-06-22T00:00:00",
          "2021-06-23T00:00:00",
          "2021-06-24T00:00:00",
          "2021-06-25T00:00:00",
          "2021-06-26T00:00:00",
          "2021-06-28T00:00:00",
          "2021-06-29T00:00:00",
          "2021-06-30T00:00:00",
          "2021-07-01T00:00:00",
          "2021-07-02T00:00:00",
          "2021-07-03T00:00:00",
          "2021-07-05T00:00:00",
          "2021-07-06T00:00:00",
          "2021-07-07T00:00:00",
          "2021-07-08T00:00:00",
          "2021-07-09T00:00:00",
          "2021-07-10T00:00:00",
          "2021-07-12T00:00:00",
          "2021-07-13T00:00:00",
          "2021-07-14T00:00:00",
          "2021-07-15T00:00:00",
          "2021-07-16T00:00:00",
          "2021-07-17T00:00:00",
          "2021-07-19T00:00:00",
          "2021-07-20T00:00:00",
          "2021-07-21T00:00:00",
          "2021-07-22T00:00:00",
          "2021-07-23T00:00:00",
          "2021-07-24T00:00:00",
          "2021-07-26T00:00:00",
          "2021-07-27T00:00:00",
          "2021-07-28T00:00:00",
          "2021-07-29T00:00:00",
          "2021-07-30T00:00:00",
          "2021-07-31T00:00:00",
          "2021-08-02T00:00:00",
          "2021-08-03T00:00:00",
          "2021-08-04T00:00:00",
          "2021-08-05T00:00:00",
          "2021-08-06T00:00:00",
          "2021-08-07T00:00:00",
          "2021-08-09T00:00:00",
          "2021-08-10T00:00:00",
          "2021-08-11T00:00:00",
          "2021-08-12T00:00:00",
          "2021-08-13T00:00:00",
          "2021-08-14T00:00:00",
          "2021-08-16T00:00:00",
          "2021-08-17T00:00:00",
          "2021-08-18T00:00:00",
          "2021-08-19T00:00:00",
          "2021-08-20T00:00:00",
          "2021-08-21T00:00:00",
          "2021-08-23T00:00:00",
          "2021-08-24T00:00:00",
          "2021-08-25T00:00:00",
          "2021-08-26T00:00:00",
          "2021-08-27T00:00:00",
          "2021-08-28T00:00:00",
          "2021-08-30T00:00:00",
          "2021-08-31T00:00:00",
          "2021-09-01T00:00:00",
          "2021-09-02T00:00:00",
          "2021-09-03T00:00:00",
          "2021-09-04T00:00:00",
          "2021-09-06T00:00:00",
          "2021-09-07T00:00:00",
          "2021-09-08T00:00:00",
          "2021-09-09T00:00:00",
          "2021-09-10T00:00:00",
          "2021-09-11T00:00:00",
          "2021-09-13T00:00:00",
          "2021-09-14T00:00:00",
          "2021-09-15T00:00:00",
          "2021-09-16T00:00:00",
          "2021-09-17T00:00:00",
          "2021-09-18T00:00:00",
          "2021-09-20T00:00:00",
          "2021-09-22T00:00:00",
          "2021-09-23T00:00:00",
          "2021-09-24T00:00:00",
          "2021-09-25T00:00:00",
          "2021-09-27T00:00:00",
          "2021-09-28T00:00:00",
          "2021-09-29T00:00:00",
          "2021-09-30T00:00:00",
          "2021-10-01T00:00:00",
          "2021-10-02T00:00:00",
          "2021-10-04T00:00:00",
          "2021-10-05T00:00:00",
          "2021-10-06T00:00:00",
          "2021-10-07T00:00:00",
          "2021-10-08T00:00:00",
          "2021-10-12T00:00:00",
          "2021-10-13T00:00:00",
          "2021-10-14T00:00:00",
          "2021-10-15T00:00:00",
          "2021-10-16T00:00:00",
          "2021-10-18T00:00:00",
          "2021-10-19T00:00:00",
          "2021-10-20T00:00:00",
          "2021-10-21T00:00:00",
          "2021-10-22T00:00:00",
          "2021-10-23T00:00:00",
          "2021-10-25T00:00:00",
          "2021-10-26T00:00:00",
          "2021-10-27T00:00:00",
          "2021-10-28T00:00:00",
          "2021-10-29T00:00:00",
          "2021-10-30T00:00:00",
          "2021-10-31T00:00:00",
          "2021-11-01T00:00:00",
          "2021-11-02T00:00:00",
          "2021-11-03T00:00:00",
          "2021-11-04T00:00:00",
          "2021-11-05T00:00:00",
          "2021-11-06T00:00:00",
          "2021-11-08T00:00:00",
          "2021-11-09T00:00:00",
          "2021-11-10T00:00:00",
          "2021-11-11T00:00:00",
          "2021-11-12T00:00:00",
          "2021-11-13T00:00:00",
          "2021-11-15T00:00:00",
          "2021-11-16T00:00:00",
          "2021-11-17T00:00:00",
          "2021-11-18T00:00:00",
          "2021-11-19T00:00:00",
          "2021-11-20T00:00:00",
          "2021-11-22T00:00:00",
          "2021-11-23T00:00:00",
          "2021-11-24T00:00:00",
          "2021-11-25T00:00:00",
          "2021-11-26T00:00:00",
          "2021-11-27T00:00:00",
          "2021-11-29T00:00:00",
          "2021-11-30T00:00:00",
          "2021-12-01T00:00:00",
          "2021-12-02T00:00:00",
          "2021-12-03T00:00:00",
          "2021-12-04T00:00:00",
          "2021-12-06T00:00:00",
          "2021-12-07T00:00:00",
          "2021-12-08T00:00:00",
          "2021-12-09T00:00:00",
          "2021-12-10T00:00:00",
          "2021-12-11T00:00:00",
          "2021-12-13T00:00:00",
          "2021-12-14T00:00:00",
          "2021-12-15T00:00:00",
          "2021-12-16T00:00:00",
          "2021-12-17T00:00:00",
          "2021-12-19T00:00:00",
          "2021-12-20T00:00:00",
          "2021-12-21T00:00:00",
          "2021-12-22T00:00:00",
          "2021-12-23T00:00:00",
          "2021-12-24T00:00:00",
          "2021-12-25T00:00:00",
          "2021-12-27T00:00:00",
          "2021-12-28T00:00:00",
          "2021-12-29T00:00:00",
          "2021-12-30T00:00:00",
          "2021-12-31T00:00:00",
          "2022-01-03T00:00:00",
          "2022-01-04T00:00:00",
          "2022-01-05T00:00:00",
          "2022-01-06T00:00:00",
          "2022-01-07T00:00:00",
          "2022-01-08T00:00:00",
          "2022-01-10T00:00:00",
          "2022-01-11T00:00:00",
          "2022-01-12T00:00:00",
          "2022-01-13T00:00:00",
          "2022-01-14T00:00:00",
          "2022-01-15T00:00:00",
          "2022-01-17T00:00:00",
          "2022-01-18T00:00:00",
          "2022-01-19T00:00:00",
          "2022-01-20T00:00:00",
          "2022-01-21T00:00:00",
          "2022-01-22T00:00:00",
          "2022-01-23T00:00:00",
          "2022-01-24T00:00:00",
          "2022-01-25T00:00:00",
          "2022-01-26T00:00:00",
          "2022-01-27T00:00:00",
          "2022-01-28T00:00:00",
          "2022-01-29T00:00:00",
          "2022-02-07T00:00:00",
          "2022-02-08T00:00:00",
          "2022-02-09T00:00:00",
          "2022-02-10T00:00:00",
          "2022-02-11T00:00:00",
          "2022-02-12T00:00:00",
          "2022-02-14T00:00:00",
          "2022-02-15T00:00:00",
          "2022-02-16T00:00:00",
          "2022-02-17T00:00:00",
          "2022-02-18T00:00:00",
          "2022-02-19T00:00:00",
          "2022-02-21T00:00:00",
          "2022-02-22T00:00:00",
          "2022-02-23T00:00:00",
          "2022-02-24T00:00:00",
          "2022-02-25T00:00:00",
          "2022-02-26T00:00:00",
          "2022-03-01T00:00:00",
          "2022-03-02T00:00:00",
          "2022-03-03T00:00:00",
          "2022-03-04T00:00:00",
          "2022-03-07T00:00:00",
          "2022-03-08T00:00:00",
          "2022-03-09T00:00:00",
          "2022-03-10T00:00:00",
          "2022-03-11T00:00:00",
          "2022-03-12T00:00:00",
          "2022-03-14T00:00:00",
          "2022-03-15T00:00:00",
          "2022-03-16T00:00:00",
          "2022-03-17T00:00:00",
          "2022-03-18T00:00:00",
          "2022-03-19T00:00:00",
          "2022-03-21T00:00:00",
          "2022-03-22T00:00:00",
          "2022-03-23T00:00:00",
          "2022-03-24T00:00:00",
          "2022-03-25T00:00:00",
          "2022-03-26T00:00:00",
          "2022-03-28T00:00:00",
          "2022-03-29T00:00:00",
          "2022-03-30T00:00:00",
          "2022-03-31T00:00:00",
          "2022-04-01T00:00:00",
          "2022-04-06T00:00:00",
          "2022-04-07T00:00:00",
          "2022-04-08T00:00:00",
          "2022-04-09T00:00:00",
          "2022-04-11T00:00:00",
          "2022-04-12T00:00:00",
          "2022-04-13T00:00:00",
          "2022-04-14T00:00:00",
          "2022-04-15T00:00:00",
          "2022-04-16T00:00:00",
          "2022-04-18T00:00:00",
          "2022-04-19T00:00:00",
          "2022-04-20T00:00:00",
          "2022-04-21T00:00:00",
          "2022-04-22T00:00:00",
          "2022-04-23T00:00:00",
          "2022-04-25T00:00:00",
          "2022-04-26T00:00:00",
          "2022-04-27T00:00:00",
          "2022-04-28T00:00:00",
          "2022-04-29T00:00:00",
          "2022-04-30T00:00:00"
         ],
         "y": [
          null,
          null,
          null,
          null,
          null,
          null,
          null,
          null,
          null,
          null,
          null,
          null,
          null,
          null,
          null,
          null,
          null,
          null,
          null,
          null,
          null,
          null,
          null,
          null,
          null,
          null,
          null,
          null,
          null,
          null,
          null,
          null,
          null,
          null,
          null,
          null,
          null,
          null,
          null,
          null,
          null,
          null,
          null,
          null,
          null,
          null,
          null,
          null,
          null,
          null,
          null,
          null,
          null,
          null,
          null,
          null,
          null,
          null,
          null,
          null,
          null,
          null,
          null,
          null,
          null,
          null,
          null,
          null,
          null,
          null,
          null,
          null,
          null,
          null,
          null,
          null,
          null,
          null,
          null,
          null,
          null,
          null,
          null,
          null,
          null,
          null,
          null,
          null,
          null,
          null,
          null,
          null,
          null,
          null,
          null,
          null,
          null,
          null,
          null,
          null,
          null,
          null,
          null,
          null,
          null,
          null,
          null,
          null,
          null,
          null,
          null,
          null,
          null,
          null,
          null,
          null,
          null,
          null,
          null,
          null,
          null,
          null,
          null,
          null,
          null,
          null,
          null,
          null,
          null,
          null,
          null,
          null,
          null,
          null,
          null,
          null,
          null,
          null,
          null,
          null,
          null,
          null,
          null,
          null,
          null,
          null,
          null,
          null,
          null,
          null,
          null,
          null,
          null,
          null,
          null,
          null,
          null,
          null,
          null,
          null,
          null,
          null,
          null,
          null,
          null,
          null,
          null,
          null,
          null,
          null,
          null,
          null,
          null,
          null,
          null,
          null,
          null,
          null,
          null,
          null,
          null,
          null,
          null,
          null,
          null,
          null,
          null,
          null,
          null,
          null,
          null,
          null,
          null,
          null,
          null,
          null,
          null,
          null,
          null,
          null,
          null,
          null,
          null,
          null,
          null,
          null,
          null,
          null,
          null,
          null,
          null,
          null,
          null,
          null,
          null,
          null,
          null,
          null,
          null,
          null,
          null,
          null,
          null,
          null,
          null,
          null,
          null,
          null,
          null,
          null,
          null,
          null,
          null,
          null,
          null,
          null,
          null,
          null,
          null,
          null,
          null,
          null,
          null,
          null,
          null,
          null,
          null,
          null,
          null,
          null,
          null,
          null,
          null,
          null,
          null,
          null,
          null,
          null,
          null,
          null,
          null,
          null,
          null,
          null,
          null,
          null,
          null,
          null,
          null,
          null,
          null,
          null,
          null,
          null,
          null,
          null,
          null,
          null,
          null,
          null,
          null,
          null,
          null,
          null,
          null,
          null,
          null,
          null,
          26,
          74,
          799,
          146,
          629,
          268,
          229,
          141,
          369,
          148,
          508,
          439,
          -141,
          649,
          129,
          417,
          843,
          463,
          37,
          1553,
          393,
          551,
          303,
          380,
          111,
          1047,
          26,
          374,
          851,
          747,
          229,
          2011,
          692,
          -56,
          592,
          -259,
          655,
          276,
          722,
          1024,
          793,
          398,
          133,
          644,
          592,
          -72,
          548,
          -35,
          -100,
          -610,
          1580,
          318,
          308,
          552,
          741,
          928,
          2580,
          1695,
          483,
          1091,
          71,
          560,
          433,
          585,
          603,
          455,
          484,
          -454,
          -154,
          347,
          438,
          385,
          705,
          200,
          -224,
          374,
          -281,
          703,
          957,
          53,
          737,
          931,
          -52,
          1045,
          947,
          745,
          425,
          1043,
          69,
          341,
          595,
          383,
          936,
          283,
          -255,
          343,
          -5,
          510,
          347,
          674,
          330,
          264,
          -151,
          135,
          -174,
          87
         ]
        }
       ],
       "layout": {
        "template": {
         "data": {
          "bar": [
           {
            "error_x": {
             "color": "#2a3f5f"
            },
            "error_y": {
             "color": "#2a3f5f"
            },
            "marker": {
             "line": {
              "color": "#E5ECF6",
              "width": 0.5
             },
             "pattern": {
              "fillmode": "overlay",
              "size": 10,
              "solidity": 0.2
             }
            },
            "type": "bar"
           }
          ],
          "barpolar": [
           {
            "marker": {
             "line": {
              "color": "#E5ECF6",
              "width": 0.5
             },
             "pattern": {
              "fillmode": "overlay",
              "size": 10,
              "solidity": 0.2
             }
            },
            "type": "barpolar"
           }
          ],
          "carpet": [
           {
            "aaxis": {
             "endlinecolor": "#2a3f5f",
             "gridcolor": "white",
             "linecolor": "white",
             "minorgridcolor": "white",
             "startlinecolor": "#2a3f5f"
            },
            "baxis": {
             "endlinecolor": "#2a3f5f",
             "gridcolor": "white",
             "linecolor": "white",
             "minorgridcolor": "white",
             "startlinecolor": "#2a3f5f"
            },
            "type": "carpet"
           }
          ],
          "choropleth": [
           {
            "colorbar": {
             "outlinewidth": 0,
             "ticks": ""
            },
            "type": "choropleth"
           }
          ],
          "contour": [
           {
            "colorbar": {
             "outlinewidth": 0,
             "ticks": ""
            },
            "colorscale": [
             [
              0,
              "#0d0887"
             ],
             [
              0.1111111111111111,
              "#46039f"
             ],
             [
              0.2222222222222222,
              "#7201a8"
             ],
             [
              0.3333333333333333,
              "#9c179e"
             ],
             [
              0.4444444444444444,
              "#bd3786"
             ],
             [
              0.5555555555555556,
              "#d8576b"
             ],
             [
              0.6666666666666666,
              "#ed7953"
             ],
             [
              0.7777777777777778,
              "#fb9f3a"
             ],
             [
              0.8888888888888888,
              "#fdca26"
             ],
             [
              1,
              "#f0f921"
             ]
            ],
            "type": "contour"
           }
          ],
          "contourcarpet": [
           {
            "colorbar": {
             "outlinewidth": 0,
             "ticks": ""
            },
            "type": "contourcarpet"
           }
          ],
          "heatmap": [
           {
            "colorbar": {
             "outlinewidth": 0,
             "ticks": ""
            },
            "colorscale": [
             [
              0,
              "#0d0887"
             ],
             [
              0.1111111111111111,
              "#46039f"
             ],
             [
              0.2222222222222222,
              "#7201a8"
             ],
             [
              0.3333333333333333,
              "#9c179e"
             ],
             [
              0.4444444444444444,
              "#bd3786"
             ],
             [
              0.5555555555555556,
              "#d8576b"
             ],
             [
              0.6666666666666666,
              "#ed7953"
             ],
             [
              0.7777777777777778,
              "#fb9f3a"
             ],
             [
              0.8888888888888888,
              "#fdca26"
             ],
             [
              1,
              "#f0f921"
             ]
            ],
            "type": "heatmap"
           }
          ],
          "heatmapgl": [
           {
            "colorbar": {
             "outlinewidth": 0,
             "ticks": ""
            },
            "colorscale": [
             [
              0,
              "#0d0887"
             ],
             [
              0.1111111111111111,
              "#46039f"
             ],
             [
              0.2222222222222222,
              "#7201a8"
             ],
             [
              0.3333333333333333,
              "#9c179e"
             ],
             [
              0.4444444444444444,
              "#bd3786"
             ],
             [
              0.5555555555555556,
              "#d8576b"
             ],
             [
              0.6666666666666666,
              "#ed7953"
             ],
             [
              0.7777777777777778,
              "#fb9f3a"
             ],
             [
              0.8888888888888888,
              "#fdca26"
             ],
             [
              1,
              "#f0f921"
             ]
            ],
            "type": "heatmapgl"
           }
          ],
          "histogram": [
           {
            "marker": {
             "pattern": {
              "fillmode": "overlay",
              "size": 10,
              "solidity": 0.2
             }
            },
            "type": "histogram"
           }
          ],
          "histogram2d": [
           {
            "colorbar": {
             "outlinewidth": 0,
             "ticks": ""
            },
            "colorscale": [
             [
              0,
              "#0d0887"
             ],
             [
              0.1111111111111111,
              "#46039f"
             ],
             [
              0.2222222222222222,
              "#7201a8"
             ],
             [
              0.3333333333333333,
              "#9c179e"
             ],
             [
              0.4444444444444444,
              "#bd3786"
             ],
             [
              0.5555555555555556,
              "#d8576b"
             ],
             [
              0.6666666666666666,
              "#ed7953"
             ],
             [
              0.7777777777777778,
              "#fb9f3a"
             ],
             [
              0.8888888888888888,
              "#fdca26"
             ],
             [
              1,
              "#f0f921"
             ]
            ],
            "type": "histogram2d"
           }
          ],
          "histogram2dcontour": [
           {
            "colorbar": {
             "outlinewidth": 0,
             "ticks": ""
            },
            "colorscale": [
             [
              0,
              "#0d0887"
             ],
             [
              0.1111111111111111,
              "#46039f"
             ],
             [
              0.2222222222222222,
              "#7201a8"
             ],
             [
              0.3333333333333333,
              "#9c179e"
             ],
             [
              0.4444444444444444,
              "#bd3786"
             ],
             [
              0.5555555555555556,
              "#d8576b"
             ],
             [
              0.6666666666666666,
              "#ed7953"
             ],
             [
              0.7777777777777778,
              "#fb9f3a"
             ],
             [
              0.8888888888888888,
              "#fdca26"
             ],
             [
              1,
              "#f0f921"
             ]
            ],
            "type": "histogram2dcontour"
           }
          ],
          "mesh3d": [
           {
            "colorbar": {
             "outlinewidth": 0,
             "ticks": ""
            },
            "type": "mesh3d"
           }
          ],
          "parcoords": [
           {
            "line": {
             "colorbar": {
              "outlinewidth": 0,
              "ticks": ""
             }
            },
            "type": "parcoords"
           }
          ],
          "pie": [
           {
            "automargin": true,
            "type": "pie"
           }
          ],
          "scatter": [
           {
            "marker": {
             "colorbar": {
              "outlinewidth": 0,
              "ticks": ""
             }
            },
            "type": "scatter"
           }
          ],
          "scatter3d": [
           {
            "line": {
             "colorbar": {
              "outlinewidth": 0,
              "ticks": ""
             }
            },
            "marker": {
             "colorbar": {
              "outlinewidth": 0,
              "ticks": ""
             }
            },
            "type": "scatter3d"
           }
          ],
          "scattercarpet": [
           {
            "marker": {
             "colorbar": {
              "outlinewidth": 0,
              "ticks": ""
             }
            },
            "type": "scattercarpet"
           }
          ],
          "scattergeo": [
           {
            "marker": {
             "colorbar": {
              "outlinewidth": 0,
              "ticks": ""
             }
            },
            "type": "scattergeo"
           }
          ],
          "scattergl": [
           {
            "marker": {
             "colorbar": {
              "outlinewidth": 0,
              "ticks": ""
             }
            },
            "type": "scattergl"
           }
          ],
          "scattermapbox": [
           {
            "marker": {
             "colorbar": {
              "outlinewidth": 0,
              "ticks": ""
             }
            },
            "type": "scattermapbox"
           }
          ],
          "scatterpolar": [
           {
            "marker": {
             "colorbar": {
              "outlinewidth": 0,
              "ticks": ""
             }
            },
            "type": "scatterpolar"
           }
          ],
          "scatterpolargl": [
           {
            "marker": {
             "colorbar": {
              "outlinewidth": 0,
              "ticks": ""
             }
            },
            "type": "scatterpolargl"
           }
          ],
          "scatterternary": [
           {
            "marker": {
             "colorbar": {
              "outlinewidth": 0,
              "ticks": ""
             }
            },
            "type": "scatterternary"
           }
          ],
          "surface": [
           {
            "colorbar": {
             "outlinewidth": 0,
             "ticks": ""
            },
            "colorscale": [
             [
              0,
              "#0d0887"
             ],
             [
              0.1111111111111111,
              "#46039f"
             ],
             [
              0.2222222222222222,
              "#7201a8"
             ],
             [
              0.3333333333333333,
              "#9c179e"
             ],
             [
              0.4444444444444444,
              "#bd3786"
             ],
             [
              0.5555555555555556,
              "#d8576b"
             ],
             [
              0.6666666666666666,
              "#ed7953"
             ],
             [
              0.7777777777777778,
              "#fb9f3a"
             ],
             [
              0.8888888888888888,
              "#fdca26"
             ],
             [
              1,
              "#f0f921"
             ]
            ],
            "type": "surface"
           }
          ],
          "table": [
           {
            "cells": {
             "fill": {
              "color": "#EBF0F8"
             },
             "line": {
              "color": "white"
             }
            },
            "header": {
             "fill": {
              "color": "#C8D4E3"
             },
             "line": {
              "color": "white"
             }
            },
            "type": "table"
           }
          ]
         },
         "layout": {
          "annotationdefaults": {
           "arrowcolor": "#2a3f5f",
           "arrowhead": 0,
           "arrowwidth": 1
          },
          "autotypenumbers": "strict",
          "coloraxis": {
           "colorbar": {
            "outlinewidth": 0,
            "ticks": ""
           }
          },
          "colorscale": {
           "diverging": [
            [
             0,
             "#8e0152"
            ],
            [
             0.1,
             "#c51b7d"
            ],
            [
             0.2,
             "#de77ae"
            ],
            [
             0.3,
             "#f1b6da"
            ],
            [
             0.4,
             "#fde0ef"
            ],
            [
             0.5,
             "#f7f7f7"
            ],
            [
             0.6,
             "#e6f5d0"
            ],
            [
             0.7,
             "#b8e186"
            ],
            [
             0.8,
             "#7fbc41"
            ],
            [
             0.9,
             "#4d9221"
            ],
            [
             1,
             "#276419"
            ]
           ],
           "sequential": [
            [
             0,
             "#0d0887"
            ],
            [
             0.1111111111111111,
             "#46039f"
            ],
            [
             0.2222222222222222,
             "#7201a8"
            ],
            [
             0.3333333333333333,
             "#9c179e"
            ],
            [
             0.4444444444444444,
             "#bd3786"
            ],
            [
             0.5555555555555556,
             "#d8576b"
            ],
            [
             0.6666666666666666,
             "#ed7953"
            ],
            [
             0.7777777777777778,
             "#fb9f3a"
            ],
            [
             0.8888888888888888,
             "#fdca26"
            ],
            [
             1,
             "#f0f921"
            ]
           ],
           "sequentialminus": [
            [
             0,
             "#0d0887"
            ],
            [
             0.1111111111111111,
             "#46039f"
            ],
            [
             0.2222222222222222,
             "#7201a8"
            ],
            [
             0.3333333333333333,
             "#9c179e"
            ],
            [
             0.4444444444444444,
             "#bd3786"
            ],
            [
             0.5555555555555556,
             "#d8576b"
            ],
            [
             0.6666666666666666,
             "#ed7953"
            ],
            [
             0.7777777777777778,
             "#fb9f3a"
            ],
            [
             0.8888888888888888,
             "#fdca26"
            ],
            [
             1,
             "#f0f921"
            ]
           ]
          },
          "colorway": [
           "#636efa",
           "#EF553B",
           "#00cc96",
           "#ab63fa",
           "#FFA15A",
           "#19d3f3",
           "#FF6692",
           "#B6E880",
           "#FF97FF",
           "#FECB52"
          ],
          "font": {
           "color": "#2a3f5f"
          },
          "geo": {
           "bgcolor": "white",
           "lakecolor": "white",
           "landcolor": "#E5ECF6",
           "showlakes": true,
           "showland": true,
           "subunitcolor": "white"
          },
          "hoverlabel": {
           "align": "left"
          },
          "hovermode": "closest",
          "mapbox": {
           "style": "light"
          },
          "paper_bgcolor": "white",
          "plot_bgcolor": "#E5ECF6",
          "polar": {
           "angularaxis": {
            "gridcolor": "white",
            "linecolor": "white",
            "ticks": ""
           },
           "bgcolor": "#E5ECF6",
           "radialaxis": {
            "gridcolor": "white",
            "linecolor": "white",
            "ticks": ""
           }
          },
          "scene": {
           "xaxis": {
            "backgroundcolor": "#E5ECF6",
            "gridcolor": "white",
            "gridwidth": 2,
            "linecolor": "white",
            "showbackground": true,
            "ticks": "",
            "zerolinecolor": "white"
           },
           "yaxis": {
            "backgroundcolor": "#E5ECF6",
            "gridcolor": "white",
            "gridwidth": 2,
            "linecolor": "white",
            "showbackground": true,
            "ticks": "",
            "zerolinecolor": "white"
           },
           "zaxis": {
            "backgroundcolor": "#E5ECF6",
            "gridcolor": "white",
            "gridwidth": 2,
            "linecolor": "white",
            "showbackground": true,
            "ticks": "",
            "zerolinecolor": "white"
           }
          },
          "shapedefaults": {
           "line": {
            "color": "#2a3f5f"
           }
          },
          "ternary": {
           "aaxis": {
            "gridcolor": "white",
            "linecolor": "white",
            "ticks": ""
           },
           "baxis": {
            "gridcolor": "white",
            "linecolor": "white",
            "ticks": ""
           },
           "bgcolor": "#E5ECF6",
           "caxis": {
            "gridcolor": "white",
            "linecolor": "white",
            "ticks": ""
           }
          },
          "title": {
           "x": 0.05
          },
          "xaxis": {
           "automargin": true,
           "gridcolor": "white",
           "linecolor": "white",
           "ticks": "",
           "title": {
            "standoff": 15
           },
           "zerolinecolor": "white",
           "zerolinewidth": 2
          },
          "yaxis": {
           "automargin": true,
           "gridcolor": "white",
           "linecolor": "white",
           "ticks": "",
           "title": {
            "standoff": 15
           },
           "zerolinecolor": "white",
           "zerolinewidth": 2
          }
         }
        }
       }
      },
      "text/html": [
       "<div>                            <div id=\"41164098-31cc-459e-aa01-b33816121d4a\" class=\"plotly-graph-div\" style=\"height:525px; width:100%;\"></div>            <script type=\"text/javascript\">                require([\"plotly\"], function(Plotly) {                    window.PLOTLYENV=window.PLOTLYENV || {};                                    if (document.getElementById(\"41164098-31cc-459e-aa01-b33816121d4a\")) {                    Plotly.newPlot(                        \"41164098-31cc-459e-aa01-b33816121d4a\",                        [{\"name\":\"actual\",\"type\":\"scatter\",\"x\":[\"2021-01-04T00:00:00\",\"2021-01-05T00:00:00\",\"2021-01-06T00:00:00\",\"2021-01-07T00:00:00\",\"2021-01-08T00:00:00\",\"2021-01-09T00:00:00\",\"2021-01-11T00:00:00\",\"2021-01-12T00:00:00\",\"2021-01-13T00:00:00\",\"2021-01-14T00:00:00\",\"2021-01-15T00:00:00\",\"2021-01-16T00:00:00\",\"2021-01-18T00:00:00\",\"2021-01-19T00:00:00\",\"2021-01-20T00:00:00\",\"2021-01-21T00:00:00\",\"2021-01-22T00:00:00\",\"2021-01-23T00:00:00\",\"2021-01-25T00:00:00\",\"2021-01-26T00:00:00\",\"2021-01-27T00:00:00\",\"2021-01-28T00:00:00\",\"2021-01-29T00:00:00\",\"2021-01-30T00:00:00\",\"2021-02-01T00:00:00\",\"2021-02-02T00:00:00\",\"2021-02-03T00:00:00\",\"2021-02-04T00:00:00\",\"2021-02-05T00:00:00\",\"2021-02-06T00:00:00\",\"2021-02-07T00:00:00\",\"2021-02-08T00:00:00\",\"2021-02-09T00:00:00\",\"2021-02-10T00:00:00\",\"2021-02-17T00:00:00\",\"2021-02-18T00:00:00\",\"2021-02-19T00:00:00\",\"2021-02-20T00:00:00\",\"2021-02-22T00:00:00\",\"2021-02-23T00:00:00\",\"2021-02-24T00:00:00\",\"2021-02-25T00:00:00\",\"2021-02-26T00:00:00\",\"2021-02-27T00:00:00\",\"2021-02-28T00:00:00\",\"2021-03-01T00:00:00\",\"2021-03-02T00:00:00\",\"2021-03-03T00:00:00\",\"2021-03-04T00:00:00\",\"2021-03-05T00:00:00\",\"2021-03-08T00:00:00\",\"2021-03-09T00:00:00\",\"2021-03-10T00:00:00\",\"2021-03-11T00:00:00\",\"2021-03-12T00:00:00\",\"2021-03-13T00:00:00\",\"2021-03-15T00:00:00\",\"2021-03-16T00:00:00\",\"2021-03-17T00:00:00\",\"2021-03-18T00:00:00\",\"2021-03-19T00:00:00\",\"2021-03-20T00:00:00\",\"2021-03-22T00:00:00\",\"2021-03-23T00:00:00\",\"2021-03-24T00:00:00\",\"2021-03-25T00:00:00\",\"2021-03-26T00:00:00\",\"2021-03-27T00:00:00\",\"2021-03-29T00:00:00\",\"2021-03-30T00:00:00\",\"2021-03-31T00:00:00\",\"2021-04-01T00:00:00\",\"2021-04-02T00:00:00\",\"2021-04-05T00:00:00\",\"2021-04-06T00:00:00\",\"2021-04-07T00:00:00\",\"2021-04-08T00:00:00\",\"2021-04-09T00:00:00\",\"2021-04-10T00:00:00\",\"2021-04-12T00:00:00\",\"2021-04-13T00:00:00\",\"2021-04-14T00:00:00\",\"2021-04-15T00:00:00\",\"2021-04-16T00:00:00\",\"2021-04-17T00:00:00\",\"2021-04-19T00:00:00\",\"2021-04-20T00:00:00\",\"2021-04-21T00:00:00\",\"2021-04-22T00:00:00\",\"2021-04-23T00:00:00\",\"2021-04-24T00:00:00\",\"2021-04-26T00:00:00\",\"2021-04-27T00:00:00\",\"2021-04-28T00:00:00\",\"2021-04-29T00:00:00\",\"2021-04-30T00:00:00\",\"2021-05-03T00:00:00\",\"2021-05-04T00:00:00\",\"2021-05-05T00:00:00\",\"2021-05-06T00:00:00\",\"2021-05-07T00:00:00\",\"2021-05-08T00:00:00\",\"2021-05-10T00:00:00\",\"2021-05-11T00:00:00\",\"2021-05-12T00:00:00\",\"2021-05-13T00:00:00\",\"2021-05-14T00:00:00\",\"2021-05-15T00:00:00\",\"2021-05-17T00:00:00\",\"2021-05-18T00:00:00\",\"2021-05-19T00:00:00\",\"2021-05-20T00:00:00\",\"2021-05-21T00:00:00\",\"2021-05-22T00:00:00\",\"2021-05-24T00:00:00\",\"2021-05-25T00:00:00\",\"2021-05-26T00:00:00\",\"2021-05-27T00:00:00\",\"2021-05-28T00:00:00\",\"2021-05-29T00:00:00\",\"2021-05-31T00:00:00\",\"2021-06-01T00:00:00\",\"2021-06-02T00:00:00\",\"2021-06-03T00:00:00\",\"2021-06-04T00:00:00\",\"2021-06-05T00:00:00\",\"2021-06-07T00:00:00\",\"2021-06-08T00:00:00\",\"2021-06-09T00:00:00\",\"2021-06-10T00:00:00\",\"2021-06-11T00:00:00\",\"2021-06-12T00:00:00\",\"2021-06-15T00:00:00\",\"2021-06-16T00:00:00\",\"2021-06-17T00:00:00\",\"2021-06-18T00:00:00\",\"2021-06-19T00:00:00\",\"2021-06-21T00:00:00\",\"2021-06-22T00:00:00\",\"2021-06-23T00:00:00\",\"2021-06-24T00:00:00\",\"2021-06-25T00:00:00\",\"2021-06-26T00:00:00\",\"2021-06-28T00:00:00\",\"2021-06-29T00:00:00\",\"2021-06-30T00:00:00\",\"2021-07-01T00:00:00\",\"2021-07-02T00:00:00\",\"2021-07-03T00:00:00\",\"2021-07-05T00:00:00\",\"2021-07-06T00:00:00\",\"2021-07-07T00:00:00\",\"2021-07-08T00:00:00\",\"2021-07-09T00:00:00\",\"2021-07-10T00:00:00\",\"2021-07-12T00:00:00\",\"2021-07-13T00:00:00\",\"2021-07-14T00:00:00\",\"2021-07-15T00:00:00\",\"2021-07-16T00:00:00\",\"2021-07-17T00:00:00\",\"2021-07-19T00:00:00\",\"2021-07-20T00:00:00\",\"2021-07-21T00:00:00\",\"2021-07-22T00:00:00\",\"2021-07-23T00:00:00\",\"2021-07-24T00:00:00\",\"2021-07-26T00:00:00\",\"2021-07-27T00:00:00\",\"2021-07-28T00:00:00\",\"2021-07-29T00:00:00\",\"2021-07-30T00:00:00\",\"2021-07-31T00:00:00\",\"2021-08-02T00:00:00\",\"2021-08-03T00:00:00\",\"2021-08-04T00:00:00\",\"2021-08-05T00:00:00\",\"2021-08-06T00:00:00\",\"2021-08-07T00:00:00\",\"2021-08-09T00:00:00\",\"2021-08-10T00:00:00\",\"2021-08-11T00:00:00\",\"2021-08-12T00:00:00\",\"2021-08-13T00:00:00\",\"2021-08-14T00:00:00\",\"2021-08-16T00:00:00\",\"2021-08-17T00:00:00\",\"2021-08-18T00:00:00\",\"2021-08-19T00:00:00\",\"2021-08-20T00:00:00\",\"2021-08-21T00:00:00\",\"2021-08-23T00:00:00\",\"2021-08-24T00:00:00\",\"2021-08-25T00:00:00\",\"2021-08-26T00:00:00\",\"2021-08-27T00:00:00\",\"2021-08-28T00:00:00\",\"2021-08-30T00:00:00\",\"2021-08-31T00:00:00\",\"2021-09-01T00:00:00\",\"2021-09-02T00:00:00\",\"2021-09-03T00:00:00\",\"2021-09-04T00:00:00\",\"2021-09-06T00:00:00\",\"2021-09-07T00:00:00\",\"2021-09-08T00:00:00\",\"2021-09-09T00:00:00\",\"2021-09-10T00:00:00\",\"2021-09-11T00:00:00\",\"2021-09-13T00:00:00\",\"2021-09-14T00:00:00\",\"2021-09-15T00:00:00\",\"2021-09-16T00:00:00\",\"2021-09-17T00:00:00\",\"2021-09-18T00:00:00\",\"2021-09-20T00:00:00\",\"2021-09-22T00:00:00\",\"2021-09-23T00:00:00\",\"2021-09-24T00:00:00\",\"2021-09-25T00:00:00\",\"2021-09-27T00:00:00\",\"2021-09-28T00:00:00\",\"2021-09-29T00:00:00\",\"2021-09-30T00:00:00\",\"2021-10-01T00:00:00\",\"2021-10-02T00:00:00\",\"2021-10-04T00:00:00\",\"2021-10-05T00:00:00\",\"2021-10-06T00:00:00\",\"2021-10-07T00:00:00\",\"2021-10-08T00:00:00\",\"2021-10-12T00:00:00\",\"2021-10-13T00:00:00\",\"2021-10-14T00:00:00\",\"2021-10-15T00:00:00\",\"2021-10-16T00:00:00\",\"2021-10-18T00:00:00\",\"2021-10-19T00:00:00\",\"2021-10-20T00:00:00\",\"2021-10-21T00:00:00\",\"2021-10-22T00:00:00\",\"2021-10-23T00:00:00\",\"2021-10-25T00:00:00\",\"2021-10-26T00:00:00\",\"2021-10-27T00:00:00\",\"2021-10-28T00:00:00\",\"2021-10-29T00:00:00\",\"2021-10-30T00:00:00\",\"2021-10-31T00:00:00\",\"2021-11-01T00:00:00\",\"2021-11-02T00:00:00\",\"2021-11-03T00:00:00\",\"2021-11-04T00:00:00\",\"2021-11-05T00:00:00\",\"2021-11-06T00:00:00\",\"2021-11-08T00:00:00\",\"2021-11-09T00:00:00\",\"2021-11-10T00:00:00\",\"2021-11-11T00:00:00\",\"2021-11-12T00:00:00\",\"2021-11-13T00:00:00\",\"2021-11-15T00:00:00\",\"2021-11-16T00:00:00\",\"2021-11-17T00:00:00\",\"2021-11-18T00:00:00\",\"2021-11-19T00:00:00\",\"2021-11-20T00:00:00\",\"2021-11-22T00:00:00\",\"2021-11-23T00:00:00\",\"2021-11-24T00:00:00\",\"2021-11-25T00:00:00\",\"2021-11-26T00:00:00\",\"2021-11-27T00:00:00\",\"2021-11-29T00:00:00\",\"2021-11-30T00:00:00\",\"2021-12-01T00:00:00\",\"2021-12-02T00:00:00\",\"2021-12-03T00:00:00\",\"2021-12-04T00:00:00\",\"2021-12-06T00:00:00\",\"2021-12-07T00:00:00\",\"2021-12-08T00:00:00\",\"2021-12-09T00:00:00\",\"2021-12-10T00:00:00\",\"2021-12-11T00:00:00\",\"2021-12-13T00:00:00\",\"2021-12-14T00:00:00\",\"2021-12-15T00:00:00\",\"2021-12-16T00:00:00\",\"2021-12-17T00:00:00\",\"2021-12-19T00:00:00\",\"2021-12-20T00:00:00\",\"2021-12-21T00:00:00\",\"2021-12-22T00:00:00\",\"2021-12-23T00:00:00\",\"2021-12-24T00:00:00\",\"2021-12-25T00:00:00\",\"2021-12-27T00:00:00\",\"2021-12-28T00:00:00\",\"2021-12-29T00:00:00\",\"2021-12-30T00:00:00\",\"2021-12-31T00:00:00\",\"2022-01-03T00:00:00\",\"2022-01-04T00:00:00\",\"2022-01-05T00:00:00\",\"2022-01-06T00:00:00\",\"2022-01-07T00:00:00\",\"2022-01-08T00:00:00\",\"2022-01-10T00:00:00\",\"2022-01-11T00:00:00\",\"2022-01-12T00:00:00\",\"2022-01-13T00:00:00\",\"2022-01-14T00:00:00\",\"2022-01-15T00:00:00\",\"2022-01-17T00:00:00\",\"2022-01-18T00:00:00\",\"2022-01-19T00:00:00\",\"2022-01-20T00:00:00\",\"2022-01-21T00:00:00\",\"2022-01-22T00:00:00\",\"2022-01-23T00:00:00\",\"2022-01-24T00:00:00\",\"2022-01-25T00:00:00\",\"2022-01-26T00:00:00\",\"2022-01-27T00:00:00\",\"2022-01-28T00:00:00\",\"2022-01-29T00:00:00\",\"2022-02-07T00:00:00\",\"2022-02-08T00:00:00\",\"2022-02-09T00:00:00\",\"2022-02-10T00:00:00\",\"2022-02-11T00:00:00\",\"2022-02-12T00:00:00\",\"2022-02-14T00:00:00\",\"2022-02-15T00:00:00\",\"2022-02-16T00:00:00\",\"2022-02-17T00:00:00\",\"2022-02-18T00:00:00\",\"2022-02-19T00:00:00\",\"2022-02-21T00:00:00\",\"2022-02-22T00:00:00\",\"2022-02-23T00:00:00\",\"2022-02-24T00:00:00\",\"2022-02-25T00:00:00\",\"2022-02-26T00:00:00\",\"2022-03-01T00:00:00\",\"2022-03-02T00:00:00\",\"2022-03-03T00:00:00\",\"2022-03-04T00:00:00\",\"2022-03-07T00:00:00\",\"2022-03-08T00:00:00\",\"2022-03-09T00:00:00\",\"2022-03-10T00:00:00\",\"2022-03-11T00:00:00\",\"2022-03-12T00:00:00\",\"2022-03-14T00:00:00\",\"2022-03-15T00:00:00\",\"2022-03-16T00:00:00\",\"2022-03-17T00:00:00\",\"2022-03-18T00:00:00\",\"2022-03-19T00:00:00\",\"2022-03-21T00:00:00\",\"2022-03-22T00:00:00\",\"2022-03-23T00:00:00\",\"2022-03-24T00:00:00\",\"2022-03-25T00:00:00\",\"2022-03-26T00:00:00\",\"2022-03-28T00:00:00\",\"2022-03-29T00:00:00\",\"2022-03-30T00:00:00\",\"2022-03-31T00:00:00\",\"2022-04-01T00:00:00\",\"2022-04-06T00:00:00\",\"2022-04-07T00:00:00\",\"2022-04-08T00:00:00\",\"2022-04-09T00:00:00\",\"2022-04-11T00:00:00\",\"2022-04-12T00:00:00\",\"2022-04-13T00:00:00\",\"2022-04-14T00:00:00\",\"2022-04-15T00:00:00\",\"2022-04-16T00:00:00\",\"2022-04-18T00:00:00\",\"2022-04-19T00:00:00\",\"2022-04-20T00:00:00\",\"2022-04-21T00:00:00\",\"2022-04-22T00:00:00\",\"2022-04-23T00:00:00\",\"2022-04-25T00:00:00\",\"2022-04-26T00:00:00\",\"2022-04-27T00:00:00\",\"2022-04-28T00:00:00\",\"2022-04-29T00:00:00\",\"2022-04-30T00:00:00\"],\"y\":[732,599,576,328,504,34,561,337,555,386,304,39,335,553,652,551,487,43,435,366,365,610,1140,376,318,525,486,371,354,193,23,384,304,156,82,429,257,108,415,540,867,500,1001,891,22,30,984,524,312,325,317,332,322,531,316,20,581,386,592,941,816,28,629,556,1136,689,891,190,1735,1444,1564,222,71,31,701,442,458,225,57,136,533,435,259,273,6,433,591,479,725,430,30,773,492,585,509,504,763,226,673,233,538,76,626,456,459,276,360,27,1112,432,334,655,507,84,279,713,371,554,532,6,817,360,524,708,348,60,216,569,164,928,538,23,349,515,348,1011,46,251,546,395,421,372,22,528,603,926,748,279,25,502,186,224,426,390,68,380,265,463,477,397,22,655,266,525,553,730,4,556,662,503,580,552,990,730,511,303,486,493,90,275,566,582,679,310,28,518,218,820,320,490,22,580,376,731,760,439,36,904,2756,534,361,290,33,528,535,912,826,864,72,794,629,940,897,519,23,142,648,530,460,30,1328,878,1058,2000,455,3,306,302,528,162,276,321,430,338,262,39,408,406,354,681,446,23,274,368,218,666,941,396,1,531,383,393,366,414,56,244,395,373,213,344,158,519,440,689,593,438,44,700,579,430,283,287,18,1155,1527,698,285,189,51,308,312,302,386,410,43,258,689,294,355,376,2,435,383,496,347,204,11,289,500,714,1051,472,466,706,323,399,685,14,346,269,374,350,387,26,527,799,613,351,802,47,27,562,392,845,507,683,725,418,235,287,427,275,66,658,249,486,529,1196,34,969,1239,1368,1389,1441,965,241,237,73,337,284,156,346,289,349,12,315,707,369,444,394,40,217,708,431,1203,573,8,712,921,968,1608,569,182,208,187,8,262,156,241,544,130,20,225,197,377,367,338,5,129,311,566,611,873,313]},{\"name\":\"predicted\",\"type\":\"scatter\",\"x\":[\"2021-01-04T00:00:00\",\"2021-01-05T00:00:00\",\"2021-01-06T00:00:00\",\"2021-01-07T00:00:00\",\"2021-01-08T00:00:00\",\"2021-01-09T00:00:00\",\"2021-01-11T00:00:00\",\"2021-01-12T00:00:00\",\"2021-01-13T00:00:00\",\"2021-01-14T00:00:00\",\"2021-01-15T00:00:00\",\"2021-01-16T00:00:00\",\"2021-01-18T00:00:00\",\"2021-01-19T00:00:00\",\"2021-01-20T00:00:00\",\"2021-01-21T00:00:00\",\"2021-01-22T00:00:00\",\"2021-01-23T00:00:00\",\"2021-01-25T00:00:00\",\"2021-01-26T00:00:00\",\"2021-01-27T00:00:00\",\"2021-01-28T00:00:00\",\"2021-01-29T00:00:00\",\"2021-01-30T00:00:00\",\"2021-02-01T00:00:00\",\"2021-02-02T00:00:00\",\"2021-02-03T00:00:00\",\"2021-02-04T00:00:00\",\"2021-02-05T00:00:00\",\"2021-02-06T00:00:00\",\"2021-02-07T00:00:00\",\"2021-02-08T00:00:00\",\"2021-02-09T00:00:00\",\"2021-02-10T00:00:00\",\"2021-02-17T00:00:00\",\"2021-02-18T00:00:00\",\"2021-02-19T00:00:00\",\"2021-02-20T00:00:00\",\"2021-02-22T00:00:00\",\"2021-02-23T00:00:00\",\"2021-02-24T00:00:00\",\"2021-02-25T00:00:00\",\"2021-02-26T00:00:00\",\"2021-02-27T00:00:00\",\"2021-02-28T00:00:00\",\"2021-03-01T00:00:00\",\"2021-03-02T00:00:00\",\"2021-03-03T00:00:00\",\"2021-03-04T00:00:00\",\"2021-03-05T00:00:00\",\"2021-03-08T00:00:00\",\"2021-03-09T00:00:00\",\"2021-03-10T00:00:00\",\"2021-03-11T00:00:00\",\"2021-03-12T00:00:00\",\"2021-03-13T00:00:00\",\"2021-03-15T00:00:00\",\"2021-03-16T00:00:00\",\"2021-03-17T00:00:00\",\"2021-03-18T00:00:00\",\"2021-03-19T00:00:00\",\"2021-03-20T00:00:00\",\"2021-03-22T00:00:00\",\"2021-03-23T00:00:00\",\"2021-03-24T00:00:00\",\"2021-03-25T00:00:00\",\"2021-03-26T00:00:00\",\"2021-03-27T00:00:00\",\"2021-03-29T00:00:00\",\"2021-03-30T00:00:00\",\"2021-03-31T00:00:00\",\"2021-04-01T00:00:00\",\"2021-04-02T00:00:00\",\"2021-04-05T00:00:00\",\"2021-04-06T00:00:00\",\"2021-04-07T00:00:00\",\"2021-04-08T00:00:00\",\"2021-04-09T00:00:00\",\"2021-04-10T00:00:00\",\"2021-04-12T00:00:00\",\"2021-04-13T00:00:00\",\"2021-04-14T00:00:00\",\"2021-04-15T00:00:00\",\"2021-04-16T00:00:00\",\"2021-04-17T00:00:00\",\"2021-04-19T00:00:00\",\"2021-04-20T00:00:00\",\"2021-04-21T00:00:00\",\"2021-04-22T00:00:00\",\"2021-04-23T00:00:00\",\"2021-04-24T00:00:00\",\"2021-04-26T00:00:00\",\"2021-04-27T00:00:00\",\"2021-04-28T00:00:00\",\"2021-04-29T00:00:00\",\"2021-04-30T00:00:00\",\"2021-05-03T00:00:00\",\"2021-05-04T00:00:00\",\"2021-05-05T00:00:00\",\"2021-05-06T00:00:00\",\"2021-05-07T00:00:00\",\"2021-05-08T00:00:00\",\"2021-05-10T00:00:00\",\"2021-05-11T00:00:00\",\"2021-05-12T00:00:00\",\"2021-05-13T00:00:00\",\"2021-05-14T00:00:00\",\"2021-05-15T00:00:00\",\"2021-05-17T00:00:00\",\"2021-05-18T00:00:00\",\"2021-05-19T00:00:00\",\"2021-05-20T00:00:00\",\"2021-05-21T00:00:00\",\"2021-05-22T00:00:00\",\"2021-05-24T00:00:00\",\"2021-05-25T00:00:00\",\"2021-05-26T00:00:00\",\"2021-05-27T00:00:00\",\"2021-05-28T00:00:00\",\"2021-05-29T00:00:00\",\"2021-05-31T00:00:00\",\"2021-06-01T00:00:00\",\"2021-06-02T00:00:00\",\"2021-06-03T00:00:00\",\"2021-06-04T00:00:00\",\"2021-06-05T00:00:00\",\"2021-06-07T00:00:00\",\"2021-06-08T00:00:00\",\"2021-06-09T00:00:00\",\"2021-06-10T00:00:00\",\"2021-06-11T00:00:00\",\"2021-06-12T00:00:00\",\"2021-06-15T00:00:00\",\"2021-06-16T00:00:00\",\"2021-06-17T00:00:00\",\"2021-06-18T00:00:00\",\"2021-06-19T00:00:00\",\"2021-06-21T00:00:00\",\"2021-06-22T00:00:00\",\"2021-06-23T00:00:00\",\"2021-06-24T00:00:00\",\"2021-06-25T00:00:00\",\"2021-06-26T00:00:00\",\"2021-06-28T00:00:00\",\"2021-06-29T00:00:00\",\"2021-06-30T00:00:00\",\"2021-07-01T00:00:00\",\"2021-07-02T00:00:00\",\"2021-07-03T00:00:00\",\"2021-07-05T00:00:00\",\"2021-07-06T00:00:00\",\"2021-07-07T00:00:00\",\"2021-07-08T00:00:00\",\"2021-07-09T00:00:00\",\"2021-07-10T00:00:00\",\"2021-07-12T00:00:00\",\"2021-07-13T00:00:00\",\"2021-07-14T00:00:00\",\"2021-07-15T00:00:00\",\"2021-07-16T00:00:00\",\"2021-07-17T00:00:00\",\"2021-07-19T00:00:00\",\"2021-07-20T00:00:00\",\"2021-07-21T00:00:00\",\"2021-07-22T00:00:00\",\"2021-07-23T00:00:00\",\"2021-07-24T00:00:00\",\"2021-07-26T00:00:00\",\"2021-07-27T00:00:00\",\"2021-07-28T00:00:00\",\"2021-07-29T00:00:00\",\"2021-07-30T00:00:00\",\"2021-07-31T00:00:00\",\"2021-08-02T00:00:00\",\"2021-08-03T00:00:00\",\"2021-08-04T00:00:00\",\"2021-08-05T00:00:00\",\"2021-08-06T00:00:00\",\"2021-08-07T00:00:00\",\"2021-08-09T00:00:00\",\"2021-08-10T00:00:00\",\"2021-08-11T00:00:00\",\"2021-08-12T00:00:00\",\"2021-08-13T00:00:00\",\"2021-08-14T00:00:00\",\"2021-08-16T00:00:00\",\"2021-08-17T00:00:00\",\"2021-08-18T00:00:00\",\"2021-08-19T00:00:00\",\"2021-08-20T00:00:00\",\"2021-08-21T00:00:00\",\"2021-08-23T00:00:00\",\"2021-08-24T00:00:00\",\"2021-08-25T00:00:00\",\"2021-08-26T00:00:00\",\"2021-08-27T00:00:00\",\"2021-08-28T00:00:00\",\"2021-08-30T00:00:00\",\"2021-08-31T00:00:00\",\"2021-09-01T00:00:00\",\"2021-09-02T00:00:00\",\"2021-09-03T00:00:00\",\"2021-09-04T00:00:00\",\"2021-09-06T00:00:00\",\"2021-09-07T00:00:00\",\"2021-09-08T00:00:00\",\"2021-09-09T00:00:00\",\"2021-09-10T00:00:00\",\"2021-09-11T00:00:00\",\"2021-09-13T00:00:00\",\"2021-09-14T00:00:00\",\"2021-09-15T00:00:00\",\"2021-09-16T00:00:00\",\"2021-09-17T00:00:00\",\"2021-09-18T00:00:00\",\"2021-09-20T00:00:00\",\"2021-09-22T00:00:00\",\"2021-09-23T00:00:00\",\"2021-09-24T00:00:00\",\"2021-09-25T00:00:00\",\"2021-09-27T00:00:00\",\"2021-09-28T00:00:00\",\"2021-09-29T00:00:00\",\"2021-09-30T00:00:00\",\"2021-10-01T00:00:00\",\"2021-10-02T00:00:00\",\"2021-10-04T00:00:00\",\"2021-10-05T00:00:00\",\"2021-10-06T00:00:00\",\"2021-10-07T00:00:00\",\"2021-10-08T00:00:00\",\"2021-10-12T00:00:00\",\"2021-10-13T00:00:00\",\"2021-10-14T00:00:00\",\"2021-10-15T00:00:00\",\"2021-10-16T00:00:00\",\"2021-10-18T00:00:00\",\"2021-10-19T00:00:00\",\"2021-10-20T00:00:00\",\"2021-10-21T00:00:00\",\"2021-10-22T00:00:00\",\"2021-10-23T00:00:00\",\"2021-10-25T00:00:00\",\"2021-10-26T00:00:00\",\"2021-10-27T00:00:00\",\"2021-10-28T00:00:00\",\"2021-10-29T00:00:00\",\"2021-10-30T00:00:00\",\"2021-10-31T00:00:00\",\"2021-11-01T00:00:00\",\"2021-11-02T00:00:00\",\"2021-11-03T00:00:00\",\"2021-11-04T00:00:00\",\"2021-11-05T00:00:00\",\"2021-11-06T00:00:00\",\"2021-11-08T00:00:00\",\"2021-11-09T00:00:00\",\"2021-11-10T00:00:00\",\"2021-11-11T00:00:00\",\"2021-11-12T00:00:00\",\"2021-11-13T00:00:00\",\"2021-11-15T00:00:00\",\"2021-11-16T00:00:00\",\"2021-11-17T00:00:00\",\"2021-11-18T00:00:00\",\"2021-11-19T00:00:00\",\"2021-11-20T00:00:00\",\"2021-11-22T00:00:00\",\"2021-11-23T00:00:00\",\"2021-11-24T00:00:00\",\"2021-11-25T00:00:00\",\"2021-11-26T00:00:00\",\"2021-11-27T00:00:00\",\"2021-11-29T00:00:00\",\"2021-11-30T00:00:00\",\"2021-12-01T00:00:00\",\"2021-12-02T00:00:00\",\"2021-12-03T00:00:00\",\"2021-12-04T00:00:00\",\"2021-12-06T00:00:00\",\"2021-12-07T00:00:00\",\"2021-12-08T00:00:00\",\"2021-12-09T00:00:00\",\"2021-12-10T00:00:00\",\"2021-12-11T00:00:00\",\"2021-12-13T00:00:00\",\"2021-12-14T00:00:00\",\"2021-12-15T00:00:00\",\"2021-12-16T00:00:00\",\"2021-12-17T00:00:00\",\"2021-12-19T00:00:00\",\"2021-12-20T00:00:00\",\"2021-12-21T00:00:00\",\"2021-12-22T00:00:00\",\"2021-12-23T00:00:00\",\"2021-12-24T00:00:00\",\"2021-12-25T00:00:00\",\"2021-12-27T00:00:00\",\"2021-12-28T00:00:00\",\"2021-12-29T00:00:00\",\"2021-12-30T00:00:00\",\"2021-12-31T00:00:00\",\"2022-01-03T00:00:00\",\"2022-01-04T00:00:00\",\"2022-01-05T00:00:00\",\"2022-01-06T00:00:00\",\"2022-01-07T00:00:00\",\"2022-01-08T00:00:00\",\"2022-01-10T00:00:00\",\"2022-01-11T00:00:00\",\"2022-01-12T00:00:00\",\"2022-01-13T00:00:00\",\"2022-01-14T00:00:00\",\"2022-01-15T00:00:00\",\"2022-01-17T00:00:00\",\"2022-01-18T00:00:00\",\"2022-01-19T00:00:00\",\"2022-01-20T00:00:00\",\"2022-01-21T00:00:00\",\"2022-01-22T00:00:00\",\"2022-01-23T00:00:00\",\"2022-01-24T00:00:00\",\"2022-01-25T00:00:00\",\"2022-01-26T00:00:00\",\"2022-01-27T00:00:00\",\"2022-01-28T00:00:00\",\"2022-01-29T00:00:00\",\"2022-02-07T00:00:00\",\"2022-02-08T00:00:00\",\"2022-02-09T00:00:00\",\"2022-02-10T00:00:00\",\"2022-02-11T00:00:00\",\"2022-02-12T00:00:00\",\"2022-02-14T00:00:00\",\"2022-02-15T00:00:00\",\"2022-02-16T00:00:00\",\"2022-02-17T00:00:00\",\"2022-02-18T00:00:00\",\"2022-02-19T00:00:00\",\"2022-02-21T00:00:00\",\"2022-02-22T00:00:00\",\"2022-02-23T00:00:00\",\"2022-02-24T00:00:00\",\"2022-02-25T00:00:00\",\"2022-02-26T00:00:00\",\"2022-03-01T00:00:00\",\"2022-03-02T00:00:00\",\"2022-03-03T00:00:00\",\"2022-03-04T00:00:00\",\"2022-03-07T00:00:00\",\"2022-03-08T00:00:00\",\"2022-03-09T00:00:00\",\"2022-03-10T00:00:00\",\"2022-03-11T00:00:00\",\"2022-03-12T00:00:00\",\"2022-03-14T00:00:00\",\"2022-03-15T00:00:00\",\"2022-03-16T00:00:00\",\"2022-03-17T00:00:00\",\"2022-03-18T00:00:00\",\"2022-03-19T00:00:00\",\"2022-03-21T00:00:00\",\"2022-03-22T00:00:00\",\"2022-03-23T00:00:00\",\"2022-03-24T00:00:00\",\"2022-03-25T00:00:00\",\"2022-03-26T00:00:00\",\"2022-03-28T00:00:00\",\"2022-03-29T00:00:00\",\"2022-03-30T00:00:00\",\"2022-03-31T00:00:00\",\"2022-04-01T00:00:00\",\"2022-04-06T00:00:00\",\"2022-04-07T00:00:00\",\"2022-04-08T00:00:00\",\"2022-04-09T00:00:00\",\"2022-04-11T00:00:00\",\"2022-04-12T00:00:00\",\"2022-04-13T00:00:00\",\"2022-04-14T00:00:00\",\"2022-04-15T00:00:00\",\"2022-04-16T00:00:00\",\"2022-04-18T00:00:00\",\"2022-04-19T00:00:00\",\"2022-04-20T00:00:00\",\"2022-04-21T00:00:00\",\"2022-04-22T00:00:00\",\"2022-04-23T00:00:00\",\"2022-04-25T00:00:00\",\"2022-04-26T00:00:00\",\"2022-04-27T00:00:00\",\"2022-04-28T00:00:00\",\"2022-04-29T00:00:00\",\"2022-04-30T00:00:00\"],\"y\":[null,null,null,null,null,null,null,null,null,null,null,null,null,null,null,null,null,null,null,null,null,null,null,null,null,null,null,null,null,null,null,null,null,null,null,null,null,null,null,null,null,null,null,null,null,null,null,null,null,null,null,null,null,null,null,null,null,null,null,null,null,null,null,null,null,null,null,null,null,null,null,null,null,null,null,null,null,null,null,null,null,null,null,null,null,null,null,null,null,null,null,null,null,null,null,null,null,null,null,null,null,null,null,null,null,null,null,null,null,null,null,null,null,null,null,null,null,null,null,null,null,null,null,null,null,null,null,null,null,null,null,null,null,null,null,null,null,null,null,null,null,null,null,null,null,null,null,null,null,null,null,null,null,null,null,null,null,null,null,null,null,null,null,null,null,null,null,null,null,null,null,null,null,null,null,null,null,null,null,null,null,null,null,null,null,null,null,null,null,null,null,null,null,null,null,null,null,null,null,null,null,null,null,null,null,null,null,null,null,null,null,null,null,null,null,null,null,null,null,null,null,null,null,null,null,null,null,null,null,null,null,null,null,null,null,null,null,null,null,null,null,null,null,null,null,null,null,null,null,null,null,null,null,null,null,null,null,null,null,null,null,null,null,null,null,null,null,null,null,null,null,null,null,null,null,null,null,null,null,null,null,null,null,null,null,null,null,null,26.0,74.0,799.0,146.0,629.0,268.0,229.0,141.0,369.0,148.0,508.0,439.0,-141.0,649.0,129.0,417.0,843.0,463.0,37.0,1553.0,393.0,551.0,303.0,380.0,111.0,1047.0,26.0,374.0,851.0,747.0,229.0,2011.0,692.0,-56.0,592.0,-259.0,655.0,276.0,722.0,1024.0,793.0,398.0,133.0,644.0,592.0,-72.0,548.0,-35.0,-100.0,-610.0,1580.0,318.0,308.0,552.0,741.0,928.0,2580.0,1695.0,483.0,1091.0,71.0,560.0,433.0,585.0,603.0,455.0,484.0,-454.0,-154.0,347.0,438.0,385.0,705.0,200.0,-224.0,374.0,-281.0,703.0,957.0,53.0,737.0,931.0,-52.0,1045.0,947.0,745.0,425.0,1043.0,69.0,341.0,595.0,383.0,936.0,283.0,-255.0,343.0,-5.0,510.0,347.0,674.0,330.0,264.0,-151.0,135.0,-174.0,87.0]}],                        {\"template\":{\"data\":{\"bar\":[{\"error_x\":{\"color\":\"#2a3f5f\"},\"error_y\":{\"color\":\"#2a3f5f\"},\"marker\":{\"line\":{\"color\":\"#E5ECF6\",\"width\":0.5},\"pattern\":{\"fillmode\":\"overlay\",\"size\":10,\"solidity\":0.2}},\"type\":\"bar\"}],\"barpolar\":[{\"marker\":{\"line\":{\"color\":\"#E5ECF6\",\"width\":0.5},\"pattern\":{\"fillmode\":\"overlay\",\"size\":10,\"solidity\":0.2}},\"type\":\"barpolar\"}],\"carpet\":[{\"aaxis\":{\"endlinecolor\":\"#2a3f5f\",\"gridcolor\":\"white\",\"linecolor\":\"white\",\"minorgridcolor\":\"white\",\"startlinecolor\":\"#2a3f5f\"},\"baxis\":{\"endlinecolor\":\"#2a3f5f\",\"gridcolor\":\"white\",\"linecolor\":\"white\",\"minorgridcolor\":\"white\",\"startlinecolor\":\"#2a3f5f\"},\"type\":\"carpet\"}],\"choropleth\":[{\"colorbar\":{\"outlinewidth\":0,\"ticks\":\"\"},\"type\":\"choropleth\"}],\"contour\":[{\"colorbar\":{\"outlinewidth\":0,\"ticks\":\"\"},\"colorscale\":[[0.0,\"#0d0887\"],[0.1111111111111111,\"#46039f\"],[0.2222222222222222,\"#7201a8\"],[0.3333333333333333,\"#9c179e\"],[0.4444444444444444,\"#bd3786\"],[0.5555555555555556,\"#d8576b\"],[0.6666666666666666,\"#ed7953\"],[0.7777777777777778,\"#fb9f3a\"],[0.8888888888888888,\"#fdca26\"],[1.0,\"#f0f921\"]],\"type\":\"contour\"}],\"contourcarpet\":[{\"colorbar\":{\"outlinewidth\":0,\"ticks\":\"\"},\"type\":\"contourcarpet\"}],\"heatmap\":[{\"colorbar\":{\"outlinewidth\":0,\"ticks\":\"\"},\"colorscale\":[[0.0,\"#0d0887\"],[0.1111111111111111,\"#46039f\"],[0.2222222222222222,\"#7201a8\"],[0.3333333333333333,\"#9c179e\"],[0.4444444444444444,\"#bd3786\"],[0.5555555555555556,\"#d8576b\"],[0.6666666666666666,\"#ed7953\"],[0.7777777777777778,\"#fb9f3a\"],[0.8888888888888888,\"#fdca26\"],[1.0,\"#f0f921\"]],\"type\":\"heatmap\"}],\"heatmapgl\":[{\"colorbar\":{\"outlinewidth\":0,\"ticks\":\"\"},\"colorscale\":[[0.0,\"#0d0887\"],[0.1111111111111111,\"#46039f\"],[0.2222222222222222,\"#7201a8\"],[0.3333333333333333,\"#9c179e\"],[0.4444444444444444,\"#bd3786\"],[0.5555555555555556,\"#d8576b\"],[0.6666666666666666,\"#ed7953\"],[0.7777777777777778,\"#fb9f3a\"],[0.8888888888888888,\"#fdca26\"],[1.0,\"#f0f921\"]],\"type\":\"heatmapgl\"}],\"histogram\":[{\"marker\":{\"pattern\":{\"fillmode\":\"overlay\",\"size\":10,\"solidity\":0.2}},\"type\":\"histogram\"}],\"histogram2d\":[{\"colorbar\":{\"outlinewidth\":0,\"ticks\":\"\"},\"colorscale\":[[0.0,\"#0d0887\"],[0.1111111111111111,\"#46039f\"],[0.2222222222222222,\"#7201a8\"],[0.3333333333333333,\"#9c179e\"],[0.4444444444444444,\"#bd3786\"],[0.5555555555555556,\"#d8576b\"],[0.6666666666666666,\"#ed7953\"],[0.7777777777777778,\"#fb9f3a\"],[0.8888888888888888,\"#fdca26\"],[1.0,\"#f0f921\"]],\"type\":\"histogram2d\"}],\"histogram2dcontour\":[{\"colorbar\":{\"outlinewidth\":0,\"ticks\":\"\"},\"colorscale\":[[0.0,\"#0d0887\"],[0.1111111111111111,\"#46039f\"],[0.2222222222222222,\"#7201a8\"],[0.3333333333333333,\"#9c179e\"],[0.4444444444444444,\"#bd3786\"],[0.5555555555555556,\"#d8576b\"],[0.6666666666666666,\"#ed7953\"],[0.7777777777777778,\"#fb9f3a\"],[0.8888888888888888,\"#fdca26\"],[1.0,\"#f0f921\"]],\"type\":\"histogram2dcontour\"}],\"mesh3d\":[{\"colorbar\":{\"outlinewidth\":0,\"ticks\":\"\"},\"type\":\"mesh3d\"}],\"parcoords\":[{\"line\":{\"colorbar\":{\"outlinewidth\":0,\"ticks\":\"\"}},\"type\":\"parcoords\"}],\"pie\":[{\"automargin\":true,\"type\":\"pie\"}],\"scatter\":[{\"marker\":{\"colorbar\":{\"outlinewidth\":0,\"ticks\":\"\"}},\"type\":\"scatter\"}],\"scatter3d\":[{\"line\":{\"colorbar\":{\"outlinewidth\":0,\"ticks\":\"\"}},\"marker\":{\"colorbar\":{\"outlinewidth\":0,\"ticks\":\"\"}},\"type\":\"scatter3d\"}],\"scattercarpet\":[{\"marker\":{\"colorbar\":{\"outlinewidth\":0,\"ticks\":\"\"}},\"type\":\"scattercarpet\"}],\"scattergeo\":[{\"marker\":{\"colorbar\":{\"outlinewidth\":0,\"ticks\":\"\"}},\"type\":\"scattergeo\"}],\"scattergl\":[{\"marker\":{\"colorbar\":{\"outlinewidth\":0,\"ticks\":\"\"}},\"type\":\"scattergl\"}],\"scattermapbox\":[{\"marker\":{\"colorbar\":{\"outlinewidth\":0,\"ticks\":\"\"}},\"type\":\"scattermapbox\"}],\"scatterpolar\":[{\"marker\":{\"colorbar\":{\"outlinewidth\":0,\"ticks\":\"\"}},\"type\":\"scatterpolar\"}],\"scatterpolargl\":[{\"marker\":{\"colorbar\":{\"outlinewidth\":0,\"ticks\":\"\"}},\"type\":\"scatterpolargl\"}],\"scatterternary\":[{\"marker\":{\"colorbar\":{\"outlinewidth\":0,\"ticks\":\"\"}},\"type\":\"scatterternary\"}],\"surface\":[{\"colorbar\":{\"outlinewidth\":0,\"ticks\":\"\"},\"colorscale\":[[0.0,\"#0d0887\"],[0.1111111111111111,\"#46039f\"],[0.2222222222222222,\"#7201a8\"],[0.3333333333333333,\"#9c179e\"],[0.4444444444444444,\"#bd3786\"],[0.5555555555555556,\"#d8576b\"],[0.6666666666666666,\"#ed7953\"],[0.7777777777777778,\"#fb9f3a\"],[0.8888888888888888,\"#fdca26\"],[1.0,\"#f0f921\"]],\"type\":\"surface\"}],\"table\":[{\"cells\":{\"fill\":{\"color\":\"#EBF0F8\"},\"line\":{\"color\":\"white\"}},\"header\":{\"fill\":{\"color\":\"#C8D4E3\"},\"line\":{\"color\":\"white\"}},\"type\":\"table\"}]},\"layout\":{\"annotationdefaults\":{\"arrowcolor\":\"#2a3f5f\",\"arrowhead\":0,\"arrowwidth\":1},\"autotypenumbers\":\"strict\",\"coloraxis\":{\"colorbar\":{\"outlinewidth\":0,\"ticks\":\"\"}},\"colorscale\":{\"diverging\":[[0,\"#8e0152\"],[0.1,\"#c51b7d\"],[0.2,\"#de77ae\"],[0.3,\"#f1b6da\"],[0.4,\"#fde0ef\"],[0.5,\"#f7f7f7\"],[0.6,\"#e6f5d0\"],[0.7,\"#b8e186\"],[0.8,\"#7fbc41\"],[0.9,\"#4d9221\"],[1,\"#276419\"]],\"sequential\":[[0.0,\"#0d0887\"],[0.1111111111111111,\"#46039f\"],[0.2222222222222222,\"#7201a8\"],[0.3333333333333333,\"#9c179e\"],[0.4444444444444444,\"#bd3786\"],[0.5555555555555556,\"#d8576b\"],[0.6666666666666666,\"#ed7953\"],[0.7777777777777778,\"#fb9f3a\"],[0.8888888888888888,\"#fdca26\"],[1.0,\"#f0f921\"]],\"sequentialminus\":[[0.0,\"#0d0887\"],[0.1111111111111111,\"#46039f\"],[0.2222222222222222,\"#7201a8\"],[0.3333333333333333,\"#9c179e\"],[0.4444444444444444,\"#bd3786\"],[0.5555555555555556,\"#d8576b\"],[0.6666666666666666,\"#ed7953\"],[0.7777777777777778,\"#fb9f3a\"],[0.8888888888888888,\"#fdca26\"],[1.0,\"#f0f921\"]]},\"colorway\":[\"#636efa\",\"#EF553B\",\"#00cc96\",\"#ab63fa\",\"#FFA15A\",\"#19d3f3\",\"#FF6692\",\"#B6E880\",\"#FF97FF\",\"#FECB52\"],\"font\":{\"color\":\"#2a3f5f\"},\"geo\":{\"bgcolor\":\"white\",\"lakecolor\":\"white\",\"landcolor\":\"#E5ECF6\",\"showlakes\":true,\"showland\":true,\"subunitcolor\":\"white\"},\"hoverlabel\":{\"align\":\"left\"},\"hovermode\":\"closest\",\"mapbox\":{\"style\":\"light\"},\"paper_bgcolor\":\"white\",\"plot_bgcolor\":\"#E5ECF6\",\"polar\":{\"angularaxis\":{\"gridcolor\":\"white\",\"linecolor\":\"white\",\"ticks\":\"\"},\"bgcolor\":\"#E5ECF6\",\"radialaxis\":{\"gridcolor\":\"white\",\"linecolor\":\"white\",\"ticks\":\"\"}},\"scene\":{\"xaxis\":{\"backgroundcolor\":\"#E5ECF6\",\"gridcolor\":\"white\",\"gridwidth\":2,\"linecolor\":\"white\",\"showbackground\":true,\"ticks\":\"\",\"zerolinecolor\":\"white\"},\"yaxis\":{\"backgroundcolor\":\"#E5ECF6\",\"gridcolor\":\"white\",\"gridwidth\":2,\"linecolor\":\"white\",\"showbackground\":true,\"ticks\":\"\",\"zerolinecolor\":\"white\"},\"zaxis\":{\"backgroundcolor\":\"#E5ECF6\",\"gridcolor\":\"white\",\"gridwidth\":2,\"linecolor\":\"white\",\"showbackground\":true,\"ticks\":\"\",\"zerolinecolor\":\"white\"}},\"shapedefaults\":{\"line\":{\"color\":\"#2a3f5f\"}},\"ternary\":{\"aaxis\":{\"gridcolor\":\"white\",\"linecolor\":\"white\",\"ticks\":\"\"},\"baxis\":{\"gridcolor\":\"white\",\"linecolor\":\"white\",\"ticks\":\"\"},\"bgcolor\":\"#E5ECF6\",\"caxis\":{\"gridcolor\":\"white\",\"linecolor\":\"white\",\"ticks\":\"\"}},\"title\":{\"x\":0.05},\"xaxis\":{\"automargin\":true,\"gridcolor\":\"white\",\"linecolor\":\"white\",\"ticks\":\"\",\"title\":{\"standoff\":15},\"zerolinecolor\":\"white\",\"zerolinewidth\":2},\"yaxis\":{\"automargin\":true,\"gridcolor\":\"white\",\"linecolor\":\"white\",\"ticks\":\"\",\"title\":{\"standoff\":15},\"zerolinecolor\":\"white\",\"zerolinewidth\":2}}}},                        {\"responsive\": true}                    ).then(function(){\n",
       "                            \n",
       "var gd = document.getElementById('41164098-31cc-459e-aa01-b33816121d4a');\n",
       "var x = new MutationObserver(function (mutations, observer) {{\n",
       "        var display = window.getComputedStyle(gd).display;\n",
       "        if (!display || display === 'none') {{\n",
       "            console.log([gd, 'removed!']);\n",
       "            Plotly.purge(gd);\n",
       "            observer.disconnect();\n",
       "        }}\n",
       "}});\n",
       "\n",
       "// Listen for the removal of the full notebook cells\n",
       "var notebookContainer = gd.closest('#notebook-container');\n",
       "if (notebookContainer) {{\n",
       "    x.observe(notebookContainer, {childList: true});\n",
       "}}\n",
       "\n",
       "// Listen for the clearing of the current output cell\n",
       "var outputEl = gd.closest('.output');\n",
       "if (outputEl) {{\n",
       "    x.observe(outputEl, {childList: true});\n",
       "}}\n",
       "\n",
       "                        })                };                });            </script>        </div>"
      ]
     },
     "metadata": {},
     "output_type": "display_data"
    }
   ],
   "source": [
    "fig_predic = go.Figure(data=p_data)\n",
    "fig_predic.show()"
   ]
  },
  {
   "cell_type": "code",
   "execution_count": 281,
   "id": "14e5d6f3",
   "metadata": {},
   "outputs": [
    {
     "data": {
      "text/plain": [
       "8917.0"
      ]
     },
     "execution_count": 281,
     "metadata": {},
     "output_type": "execute_result"
    }
   ],
   "source": [
    "df_sales_pred[df_sales_pred[\"實際出貨日\"] >= \"2022-04-01\"][\"pred_value\"].sum()"
   ]
  }
 ],
 "metadata": {
  "kernelspec": {
   "display_name": "Python 3 (ipykernel)",
   "language": "python",
   "name": "python3"
  },
  "language_info": {
   "codemirror_mode": {
    "name": "ipython",
    "version": 3
   },
   "file_extension": ".py",
   "mimetype": "text/x-python",
   "name": "python",
   "nbconvert_exporter": "python",
   "pygments_lexer": "ipython3",
   "version": "3.9.7"
  }
 },
 "nbformat": 4,
 "nbformat_minor": 5
}
