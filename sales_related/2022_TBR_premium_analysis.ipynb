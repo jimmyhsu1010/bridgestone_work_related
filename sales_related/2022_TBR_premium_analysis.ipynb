{
 "cells": [
  {
   "cell_type": "code",
   "execution_count": 1,
   "id": "7ee63c6a-a6d2-4fc2-8b44-a64920ad3de7",
   "metadata": {},
   "outputs": [],
   "source": [
    "import pandas as pd\n",
    "pd.set_option(\"display.max_columns\", None)\n",
    "pd.set_option(\"mode.chained_assignment\", None)"
   ]
  },
  {
   "cell_type": "code",
   "execution_count": 2,
   "id": "5007a2d7-4af7-49a8-b328-2a1c3ae2b2d2",
   "metadata": {},
   "outputs": [],
   "source": [
    "tbr_premium_list = [\"R102\", \"R108\", \"R156\", \"R159\", \"M749\", \"R109\", \"R118\", \"R218\", \"UAP1Z\", \"M729\", \"M766\", \"M798\", \"M866\", \"M840\", \"M851\", \"R150\", \"R154\", \"R156\", \"R157\", \"R162\", \"R192\", \"R249\", \"UAP001\", \"U-AP1\", \"R154 LRR\"]"
   ]
  },
  {
   "cell_type": "markdown",
   "id": "6b2f3a1c-592d-4e11-ba22-62ef27b99af3",
   "metadata": {
    "tags": []
   },
   "source": [
    "## 讀取202201-04實績"
   ]
  },
  {
   "cell_type": "code",
   "execution_count": 3,
   "id": "b75946f0-8506-43c4-9fc6-69e726697c12",
   "metadata": {},
   "outputs": [],
   "source": [
    "df = pd.read_clipboard()"
   ]
  },
  {
   "cell_type": "code",
   "execution_count": 4,
   "id": "9f52917c-2168-4289-8c76-d1735025e935",
   "metadata": {},
   "outputs": [],
   "source": [
    "df.columns = df.columns.str.strip()"
   ]
  },
  {
   "cell_type": "code",
   "execution_count": 5,
   "id": "893fce49-5ce7-448c-a42b-a6aaecb88eb8",
   "metadata": {},
   "outputs": [],
   "source": [
    "df[\"年月\"] = df[\"年月\"].astype(str)"
   ]
  },
  {
   "cell_type": "code",
   "execution_count": 6,
   "id": "514fc332-6d98-4334-a7ec-747c69748092",
   "metadata": {},
   "outputs": [
    {
     "name": "stdout",
     "output_type": "stream",
     "text": [
      "<class 'pandas.core.frame.DataFrame'>\n",
      "RangeIndex: 3988 entries, 0 to 3987\n",
      "Data columns (total 24 columns):\n",
      " #   Column    Non-Null Count  Dtype  \n",
      "---  ------    --------------  -----  \n",
      " 0   年月        3988 non-null   object \n",
      " 1   種類        3988 non-null   object \n",
      " 2   通路明細      3988 non-null   object \n",
      " 3   通路-客戶     3988 non-null   object \n",
      " 4   營業所       3988 non-null   object \n",
      " 5   舊分類       3988 non-null   object \n",
      " 6   國別        3988 non-null   object \n",
      " 7   商品代號      3988 non-null   object \n",
      " 8   規格        3988 non-null   object \n",
      " 9   條數        3899 non-null   float64\n",
      " 10  Gross     3988 non-null   float64\n",
      " 11  discount  3988 non-null   float64\n",
      " 12  NET金額     3988 non-null   object \n",
      " 13  大通路分類     3988 non-null   object \n",
      " 14  單位膠重      3988 non-null   float64\n",
      " 15  總膠重       3988 non-null   float64\n",
      " 16  MTP       3988 non-null   object \n",
      " 17  預算/前實績    3988 non-null   object \n",
      " 18  INCH      3988 non-null   object \n",
      " 19  成本        3988 non-null   object \n",
      " 20  營業費       3988 non-null   float64\n",
      " 21  花紋        3988 non-null   object \n",
      " 22  花紋系列      3988 non-null   object \n",
      " 23  SECTION   3988 non-null   object \n",
      "dtypes: float64(6), object(18)\n",
      "memory usage: 747.9+ KB\n"
     ]
    }
   ],
   "source": [
    "df.info()"
   ]
  },
  {
   "cell_type": "code",
   "execution_count": 7,
   "id": "045a89be-255d-4f24-bdec-3d3888ffb79c",
   "metadata": {},
   "outputs": [],
   "source": [
    "df[\"TBR Premium\"] = df[\"花紋\"].map(lambda x: \"Yes\" if x in tbr_premium_list else \"No\")"
   ]
  },
  {
   "cell_type": "code",
   "execution_count": 8,
   "id": "f7fad6b6-6d08-4fa5-9d88-38084272faaa",
   "metadata": {},
   "outputs": [],
   "source": [
    "df.to_excel(r\"D:\\kc.hsu\\OneDrive - Bridgestone\\Products management\\TBR Premium homework from BSCAP\\TBR premium_BSFC_2023_RT3.xlsx\", index=False)"
   ]
  },
  {
   "cell_type": "code",
   "execution_count": 37,
   "id": "b86de070-7bc1-48b1-9ba5-4ce7db73047d",
   "metadata": {},
   "outputs": [],
   "source": [
    "result = df[df[\"TBR Premium\"] == \"Yes\"]"
   ]
  },
  {
   "cell_type": "code",
   "execution_count": 38,
   "id": "62b6af5a-3a19-4bc8-9cf2-a69796027907",
   "metadata": {},
   "outputs": [
    {
     "data": {
      "text/plain": [
       "26360"
      ]
     },
     "execution_count": 38,
     "metadata": {},
     "output_type": "execute_result"
    }
   ],
   "source": [
    "result[\"條數\"].sum()"
   ]
  },
  {
   "cell_type": "code",
   "execution_count": 39,
   "id": "a842b68b-7f6b-4327-9258-51bbd86fe378",
   "metadata": {},
   "outputs": [],
   "source": [
    "result_all = result.groupby([\"年月\", \"花紋\", \"商品代號\", \"MTP\", \"SECTION\"])[[\"條數\"]].sum().unstack(\"年月\")[\"條數\"].reset_index()"
   ]
  },
  {
   "cell_type": "code",
   "execution_count": 40,
   "id": "31be98be-fd62-4c1c-a429-8a2369c3ee0f",
   "metadata": {},
   "outputs": [],
   "source": [
    "result_tbrg = df[(df[\"通路明細\"] != \"OE\")]"
   ]
  },
  {
   "cell_type": "code",
   "execution_count": 41,
   "id": "77700b75-a441-4038-884a-563e2b5d899d",
   "metadata": {},
   "outputs": [],
   "source": [
    "result_tbrg = result_tbrg.groupby([\"年月\", \"花紋\", \"商品代號\", \"MTP\", \"SECTION\", \"TBR Premium\"])[[\"條數\"]].sum().unstack(\"年月\")[\"條數\"].reset_index()"
   ]
  },
  {
   "cell_type": "code",
   "execution_count": 42,
   "id": "21ad148c-4490-4ad3-95ad-d023112c4557",
   "metadata": {},
   "outputs": [],
   "source": [
    "result_tbrg.fillna(0, inplace=True)"
   ]
  },
  {
   "cell_type": "code",
   "execution_count": 43,
   "id": "ea44134d-5249-4fa0-8269-b5916a41a673",
   "metadata": {},
   "outputs": [
    {
     "data": {
      "text/html": [
       "<div>\n",
       "<style scoped>\n",
       "    .dataframe tbody tr th:only-of-type {\n",
       "        vertical-align: middle;\n",
       "    }\n",
       "\n",
       "    .dataframe tbody tr th {\n",
       "        vertical-align: top;\n",
       "    }\n",
       "\n",
       "    .dataframe thead th {\n",
       "        text-align: right;\n",
       "    }\n",
       "</style>\n",
       "<table border=\"1\" class=\"dataframe\">\n",
       "  <thead>\n",
       "    <tr style=\"text-align: right;\">\n",
       "      <th>年月</th>\n",
       "      <th>花紋</th>\n",
       "      <th>商品代號</th>\n",
       "      <th>MTP</th>\n",
       "      <th>SECTION</th>\n",
       "      <th>TBR Premium</th>\n",
       "      <th>202201</th>\n",
       "      <th>202202</th>\n",
       "      <th>202203</th>\n",
       "      <th>202204</th>\n",
       "      <th>202205</th>\n",
       "    </tr>\n",
       "  </thead>\n",
       "  <tbody>\n",
       "    <tr>\n",
       "      <th>0</th>\n",
       "      <td>D600</td>\n",
       "      <td>TBR0J53F</td>\n",
       "      <td>TR3</td>\n",
       "      <td>315/80</td>\n",
       "      <td>No</td>\n",
       "      <td>250.0</td>\n",
       "      <td>165.0</td>\n",
       "      <td>319.0</td>\n",
       "      <td>0.0</td>\n",
       "      <td>47.0</td>\n",
       "    </tr>\n",
       "    <tr>\n",
       "      <th>1</th>\n",
       "      <td>D600</td>\n",
       "      <td>TBR0J77F</td>\n",
       "      <td>TR3</td>\n",
       "      <td>12</td>\n",
       "      <td>No</td>\n",
       "      <td>7.0</td>\n",
       "      <td>29.0</td>\n",
       "      <td>100.0</td>\n",
       "      <td>0.0</td>\n",
       "      <td>8.0</td>\n",
       "    </tr>\n",
       "    <tr>\n",
       "      <th>2</th>\n",
       "      <td>FS400</td>\n",
       "      <td>TBR0J37F</td>\n",
       "      <td>TR3</td>\n",
       "      <td>12</td>\n",
       "      <td>No</td>\n",
       "      <td>34.0</td>\n",
       "      <td>37.0</td>\n",
       "      <td>66.0</td>\n",
       "      <td>50.0</td>\n",
       "      <td>60.0</td>\n",
       "    </tr>\n",
       "    <tr>\n",
       "      <th>3</th>\n",
       "      <td>FS400</td>\n",
       "      <td>TBR0J52F</td>\n",
       "      <td>TR3</td>\n",
       "      <td>315/80</td>\n",
       "      <td>No</td>\n",
       "      <td>103.0</td>\n",
       "      <td>54.0</td>\n",
       "      <td>1.0</td>\n",
       "      <td>0.0</td>\n",
       "      <td>0.0</td>\n",
       "    </tr>\n",
       "    <tr>\n",
       "      <th>4</th>\n",
       "      <td>FS400</td>\n",
       "      <td>TBR0JA4F</td>\n",
       "      <td>TR3</td>\n",
       "      <td>315/80</td>\n",
       "      <td>No</td>\n",
       "      <td>0.0</td>\n",
       "      <td>139.0</td>\n",
       "      <td>284.0</td>\n",
       "      <td>32.0</td>\n",
       "      <td>35.0</td>\n",
       "    </tr>\n",
       "    <tr>\n",
       "      <th>...</th>\n",
       "      <td>...</td>\n",
       "      <td>...</td>\n",
       "      <td>...</td>\n",
       "      <td>...</td>\n",
       "      <td>...</td>\n",
       "      <td>...</td>\n",
       "      <td>...</td>\n",
       "      <td>...</td>\n",
       "      <td>...</td>\n",
       "      <td>...</td>\n",
       "    </tr>\n",
       "    <tr>\n",
       "      <th>87</th>\n",
       "      <td>R294</td>\n",
       "      <td>TBR0J058</td>\n",
       "      <td>TR4</td>\n",
       "      <td>265/70</td>\n",
       "      <td>No</td>\n",
       "      <td>0.0</td>\n",
       "      <td>0.0</td>\n",
       "      <td>0.0</td>\n",
       "      <td>0.0</td>\n",
       "      <td>0.0</td>\n",
       "    </tr>\n",
       "    <tr>\n",
       "      <th>88</th>\n",
       "      <td>R294</td>\n",
       "      <td>TBR0J136</td>\n",
       "      <td>29.71</td>\n",
       "      <td>315/80</td>\n",
       "      <td>No</td>\n",
       "      <td>0.0</td>\n",
       "      <td>0.0</td>\n",
       "      <td>0.0</td>\n",
       "      <td>0.0</td>\n",
       "      <td>1.0</td>\n",
       "    </tr>\n",
       "    <tr>\n",
       "      <th>89</th>\n",
       "      <td>R294</td>\n",
       "      <td>TBR0J136</td>\n",
       "      <td>TR3</td>\n",
       "      <td>315/80</td>\n",
       "      <td>No</td>\n",
       "      <td>418.0</td>\n",
       "      <td>665.0</td>\n",
       "      <td>484.0</td>\n",
       "      <td>423.0</td>\n",
       "      <td>451.0</td>\n",
       "    </tr>\n",
       "    <tr>\n",
       "      <th>90</th>\n",
       "      <td>UAP1Z</td>\n",
       "      <td>TBR0J642</td>\n",
       "      <td>TR3</td>\n",
       "      <td>275/70</td>\n",
       "      <td>Yes</td>\n",
       "      <td>0.0</td>\n",
       "      <td>0.0</td>\n",
       "      <td>5.0</td>\n",
       "      <td>0.0</td>\n",
       "      <td>0.0</td>\n",
       "    </tr>\n",
       "    <tr>\n",
       "      <th>91</th>\n",
       "      <td>VETZ</td>\n",
       "      <td>TBR08308</td>\n",
       "      <td>TR2</td>\n",
       "      <td>1300</td>\n",
       "      <td>No</td>\n",
       "      <td>0.0</td>\n",
       "      <td>0.0</td>\n",
       "      <td>0.0</td>\n",
       "      <td>0.0</td>\n",
       "      <td>0.0</td>\n",
       "    </tr>\n",
       "  </tbody>\n",
       "</table>\n",
       "<p>92 rows × 10 columns</p>\n",
       "</div>"
      ],
      "text/plain": [
       "年月     花紋      商品代號    MTP SECTION TBR Premium  202201  202202  202203  \\\n",
       "0    D600  TBR0J53F    TR3  315/80          No   250.0   165.0   319.0   \n",
       "1    D600  TBR0J77F    TR3      12          No     7.0    29.0   100.0   \n",
       "2   FS400  TBR0J37F    TR3      12          No    34.0    37.0    66.0   \n",
       "3   FS400  TBR0J52F    TR3  315/80          No   103.0    54.0     1.0   \n",
       "4   FS400  TBR0JA4F    TR3  315/80          No     0.0   139.0   284.0   \n",
       "..    ...       ...    ...     ...         ...     ...     ...     ...   \n",
       "87   R294  TBR0J058    TR4  265/70          No     0.0     0.0     0.0   \n",
       "88   R294  TBR0J136  29.71  315/80          No     0.0     0.0     0.0   \n",
       "89   R294  TBR0J136    TR3  315/80          No   418.0   665.0   484.0   \n",
       "90  UAP1Z  TBR0J642    TR3  275/70         Yes     0.0     0.0     5.0   \n",
       "91   VETZ  TBR08308    TR2    1300          No     0.0     0.0     0.0   \n",
       "\n",
       "年月  202204  202205  \n",
       "0      0.0    47.0  \n",
       "1      0.0     8.0  \n",
       "2     50.0    60.0  \n",
       "3      0.0     0.0  \n",
       "4     32.0    35.0  \n",
       "..     ...     ...  \n",
       "87     0.0     0.0  \n",
       "88     0.0     1.0  \n",
       "89   423.0   451.0  \n",
       "90     0.0     0.0  \n",
       "91     0.0     0.0  \n",
       "\n",
       "[92 rows x 10 columns]"
      ]
     },
     "execution_count": 43,
     "metadata": {},
     "output_type": "execute_result"
    }
   ],
   "source": [
    "result_tbrg"
   ]
  },
  {
   "cell_type": "code",
   "execution_count": 44,
   "id": "f71d52f7-7e21-4309-adf5-4c74bf7b0a7b",
   "metadata": {},
   "outputs": [],
   "source": [
    "result_tbrg = result_tbrg.astype({\"202201\": int, \"202202\": int, \"202203\": int, \"202204\": int, \"202205\": int})"
   ]
  },
  {
   "cell_type": "code",
   "execution_count": 45,
   "id": "8acdb0ea-7078-4659-b9ed-e15b24d62a86",
   "metadata": {},
   "outputs": [],
   "source": [
    "result_tbrg.to_excel(r\"D:\\kc.hsu\\OneDrive - Bridgestone\\KPI\\2022 GKPI\\20220608_TBR premium_202201-05ACT.xlsx\", index=False)"
   ]
  },
  {
   "cell_type": "markdown",
   "id": "7a43ba37-befe-42d3-95af-addd39caf0b3",
   "metadata": {},
   "source": [
    "## 2021實績TBR Premium計算"
   ]
  },
  {
   "cell_type": "code",
   "execution_count": 151,
   "id": "5ab7dc6c-5783-41e7-bc20-d8e459f23781",
   "metadata": {},
   "outputs": [],
   "source": [
    "sales21 = pd.read_clipboard()"
   ]
  },
  {
   "cell_type": "code",
   "execution_count": 152,
   "id": "35aa52e7-68af-4eee-b548-6ac062c6fffe",
   "metadata": {},
   "outputs": [],
   "source": [
    "sales21.columns = sales21.columns.str.strip()"
   ]
  },
  {
   "cell_type": "code",
   "execution_count": 153,
   "id": "05874d3d-777c-497f-b240-80b3cf02ab3f",
   "metadata": {},
   "outputs": [],
   "source": [
    "sales21[\"TBR Premium\"] = sales21[\"花紋\"].map(lambda x: \"Yes\" if x in tbr_premium_list else \"No\")"
   ]
  },
  {
   "cell_type": "code",
   "execution_count": 158,
   "id": "d5922955-929a-4141-9a11-359c5dbccaee",
   "metadata": {},
   "outputs": [],
   "source": [
    "sales21 = sales21[sales21[\"通路明細\"] != \"OE\"]"
   ]
  },
  {
   "cell_type": "code",
   "execution_count": 159,
   "id": "2ced30d5-ec47-40e9-a5f1-c71a4a14407b",
   "metadata": {},
   "outputs": [],
   "source": [
    "sales21_tbrg = sales21.groupby([\"年月\", \"花紋\", \"商品代號\", \"MTP\", \"SECTION\", \"TBR Premium\"])[[\"條數\"]].sum().unstack(\"年月\")[\"條數\"].reset_index()"
   ]
  },
  {
   "cell_type": "code",
   "execution_count": 160,
   "id": "98e8024b-2c41-41f3-9bb8-823f470c9418",
   "metadata": {},
   "outputs": [],
   "source": [
    "sales21_tbrg.fillna(0, inplace=True)"
   ]
  },
  {
   "cell_type": "code",
   "execution_count": 161,
   "id": "d12cb02d-103c-431d-8028-693ce55ca734",
   "metadata": {},
   "outputs": [],
   "source": [
    "sales21_tbrg.to_excel(r\"D:\\kc.hsu\\OneDrive - Bridgestone\\KPI\\2022 GKPI\\20220601_TBR premium_2021ACT - BSFC.xlsx\", index=False)"
   ]
  },
  {
   "cell_type": "markdown",
   "id": "a6a00bb0-7d0e-4570-be47-565ba9df780e",
   "metadata": {},
   "source": [
    "## 2019 2020實績TBR Premium計算"
   ]
  },
  {
   "cell_type": "code",
   "execution_count": 162,
   "id": "6357f733-bd56-4429-ba91-f78935097598",
   "metadata": {},
   "outputs": [],
   "source": [
    "sales1920 = pd.read_clipboard()"
   ]
  },
  {
   "cell_type": "code",
   "execution_count": 163,
   "id": "49fdc9f6-9125-4b33-86e7-09d0ce802af4",
   "metadata": {},
   "outputs": [],
   "source": [
    "sales1920.columns = sales1920.columns.str.strip()"
   ]
  },
  {
   "cell_type": "code",
   "execution_count": 164,
   "id": "5616c744-c9cb-42a8-8a3d-e1858fb82c41",
   "metadata": {},
   "outputs": [],
   "source": [
    "sales1920[\"TBR Premium\"] = sales1920[\"花紋\"].map(lambda x: \"Yes\" if x in tbr_premium_list else \"No\")"
   ]
  },
  {
   "cell_type": "code",
   "execution_count": 165,
   "id": "18083c0e-8665-4731-8433-b0f71c0f6e83",
   "metadata": {},
   "outputs": [],
   "source": [
    "sales1920[\"年月\"] = sales1920[\"年月\"].astype(str)"
   ]
  },
  {
   "cell_type": "code",
   "execution_count": 166,
   "id": "46916a73-d795-42d0-91d3-52e47854b46c",
   "metadata": {},
   "outputs": [],
   "source": [
    "sales1920[\"年月\"] = sales1920[\"年月\"].map(lambda x: x.replace(\"108\", \"2019\") if \"108\" in x else x.replace(\"109\", \"2020\"))"
   ]
  },
  {
   "cell_type": "code",
   "execution_count": 167,
   "id": "a005c5a1-0b6c-4c6a-9899-40c12f36c7f1",
   "metadata": {},
   "outputs": [],
   "source": [
    "sales19 = sales1920[sales1920[\"年月\"].str.contains(\"2019\")]"
   ]
  },
  {
   "cell_type": "code",
   "execution_count": 168,
   "id": "0f1f2c99-9e19-4048-9cbf-0d0326b80a12",
   "metadata": {},
   "outputs": [],
   "source": [
    "sales19_tbrg = sales19.groupby([\"年月\", \"花紋\", \"商品代號\", \"MTP\", \"SECTION\", \"TBR Premium\"])[[\"條數\"]].sum().unstack(\"年月\")[\"條數\"].reset_index()"
   ]
  },
  {
   "cell_type": "code",
   "execution_count": 169,
   "id": "1f1b2e43-0097-4cf7-8e7d-e2bd8cb7e050",
   "metadata": {},
   "outputs": [],
   "source": [
    "sales20 = sales1920[sales1920[\"年月\"].str.contains(\"2020\")]"
   ]
  },
  {
   "cell_type": "code",
   "execution_count": 170,
   "id": "34ad4d48-152e-4f4a-ae5a-e517e242d5d4",
   "metadata": {},
   "outputs": [],
   "source": [
    "sales20_tbrg = sales20.groupby([\"年月\", \"花紋\", \"商品代號\", \"MTP\", \"SECTION\", \"TBR Premium\"])[[\"條數\"]].sum().unstack(\"年月\")[\"條數\"].reset_index()"
   ]
  },
  {
   "cell_type": "code",
   "execution_count": 171,
   "id": "f0c9c7c8-f854-4411-afc1-5d59b93b7341",
   "metadata": {},
   "outputs": [],
   "source": [
    "sales19_tbrg.fillna(0, inplace=True)\n",
    "sales20_tbrg.fillna(0, inplace=True)"
   ]
  },
  {
   "cell_type": "code",
   "execution_count": 172,
   "id": "5e409125-9833-4d91-ab1f-bfc647f4c75f",
   "metadata": {},
   "outputs": [],
   "source": [
    "sales19_tbrg.to_excel(r\"D:\\kc.hsu\\OneDrive - Bridgestone\\KPI\\2022 GKPI\\20220601_TBR premium_2019ACT - BSFC.xlsx\", index=False)\n",
    "sales20_tbrg.to_excel(r\"D:\\kc.hsu\\OneDrive - Bridgestone\\KPI\\2022 GKPI\\20220601_TBR premium_2020ACT - BSFC.xlsx\", index=False)"
   ]
  },
  {
   "cell_type": "markdown",
   "id": "4e92e30b-b3c9-4d1b-bf56-6a32f68d562f",
   "metadata": {},
   "source": [
    "## 22OB TBR premium計算"
   ]
  },
  {
   "cell_type": "code",
   "execution_count": 14,
   "id": "dca77655-e3f5-4a7f-9596-6d0aaf1b75e9",
   "metadata": {},
   "outputs": [],
   "source": [
    "ob = pd.read_clipboard()"
   ]
  },
  {
   "cell_type": "code",
   "execution_count": 15,
   "id": "94043d49-0f37-4c82-94cc-d2019de65be9",
   "metadata": {},
   "outputs": [],
   "source": [
    "ob.columns = ob.columns.str.strip()"
   ]
  },
  {
   "cell_type": "code",
   "execution_count": 18,
   "id": "390bc23c-9c71-4ff5-8998-92c70f6e596e",
   "metadata": {},
   "outputs": [],
   "source": [
    "ob[\"TBR Premium\"] = ob[\"花紋\"].map(lambda x: \"Yes\" if x in tbr_premium_list else \"No\")"
   ]
  },
  {
   "cell_type": "code",
   "execution_count": 19,
   "id": "553311db-781c-4147-bd03-8736e8298632",
   "metadata": {},
   "outputs": [],
   "source": [
    "ob[\"年月\"] = ob[\"年月\"].astype(str)"
   ]
  },
  {
   "cell_type": "code",
   "execution_count": 20,
   "id": "5da0fb83-dd41-4a7e-ba93-d123495ef1b9",
   "metadata": {},
   "outputs": [],
   "source": [
    "ob_tbrg = ob.groupby([\"年月\", \"花紋\", \"商品代號\", \"MTP\", \"SECTION\", \"TBR Premium\"])[[\"條數\"]].sum().unstack(\"年月\")[\"條數\"].reset_index()"
   ]
  },
  {
   "cell_type": "code",
   "execution_count": 21,
   "id": "f3391240-5266-43c9-aa19-ef131987f2fb",
   "metadata": {},
   "outputs": [],
   "source": [
    "ob_tbrg.fillna(0, inplace=True)"
   ]
  },
  {
   "cell_type": "code",
   "execution_count": 23,
   "id": "1e7fbeb3-01fb-4811-a9e7-bdc4f4a09928",
   "metadata": {},
   "outputs": [],
   "source": [
    "ob_tbrg.to_excel(r\"D:\\kc.hsu\\OneDrive - Bridgestone\\KPI\\2022 GKPI\\20220607_TBR premium_22OB - BSFC.xlsx\", index=False)"
   ]
  },
  {
   "cell_type": "markdown",
   "id": "e687f174-c79a-41dd-b83f-48b6d711bc42",
   "metadata": {},
   "source": [
    "## 計算2023和2024的TBR Premium ratio"
   ]
  },
  {
   "cell_type": "code",
   "execution_count": 46,
   "id": "6cd73eb6-93de-4186-a173-6ac906808e09",
   "metadata": {},
   "outputs": [],
   "source": [
    "df = pd.read_clipboard()"
   ]
  },
  {
   "cell_type": "code",
   "execution_count": 48,
   "id": "6d76db00-f99b-4371-bd2f-bd427c2305b2",
   "metadata": {},
   "outputs": [],
   "source": [
    "df.columns = [\"類別\", \"type\", \"pattern\", \"2023\", \"2024\"]"
   ]
  },
  {
   "cell_type": "code",
   "execution_count": 55,
   "id": "f1dafd60-0890-4d97-bb05-05c3d4148632",
   "metadata": {},
   "outputs": [],
   "source": [
    "df.fillna(0, inplace=True)"
   ]
  },
  {
   "cell_type": "code",
   "execution_count": 58,
   "id": "31af90fa-9739-4061-8819-69eba14281c1",
   "metadata": {},
   "outputs": [],
   "source": [
    "df = df.astype({\"2023\": int, \"2024\": int})"
   ]
  },
  {
   "cell_type": "code",
   "execution_count": 59,
   "id": "c8a18975-0fdd-4b29-8cce-49dd6aee6869",
   "metadata": {},
   "outputs": [
    {
     "data": {
      "text/plain": [
       "array(['R225', 'R294', 'R156', 'R150', 'G515', 'M810', 'R168', 'M778',\n",
       "       'R102', 'R224', 'R249', 'M729', 'G582', 'FS400', 'M805', 'R179',\n",
       "       'D600', 'R162', 'U-AP1', 'M866', 'R154', 'R154 LRR', 'FS FT469',\n",
       "       'BSCN EV', 'R208', 'UAP001', 'R180', 'R184', 'R227', 'R192',\n",
       "       'G610', 'G558', 'VSJA', 'G623', 'M840', 'M749', 'M798'],\n",
       "      dtype=object)"
      ]
     },
     "execution_count": 59,
     "metadata": {},
     "output_type": "execute_result"
    }
   ],
   "source": [
    "df[\"pattern\"].unique()"
   ]
  },
  {
   "cell_type": "code",
   "execution_count": 62,
   "id": "7c162f0a-f718-4bf0-8b76-2bd1ba5d9d2a",
   "metadata": {},
   "outputs": [],
   "source": [
    "df[\"TBR Premium\"] = df[\"pattern\"].map(lambda x: \"Yes\" if x in tbr_premium_list else \"No\")"
   ]
  },
  {
   "cell_type": "code",
   "execution_count": 71,
   "id": "c07663ce-dc18-475a-a848-d5a8b8f15e4d",
   "metadata": {},
   "outputs": [],
   "source": [
    "df.to_excel(r\"D:\\kc.hsu\\OneDrive - Bridgestone\\Products management\\TBR Premium homework from BSCAP\\TBR premium_BSFC_2023_2024.xlsx\", index=False)"
   ]
  },
  {
   "cell_type": "markdown",
   "id": "26d899a1-55d8-45bd-a800-0042d6ec94a5",
   "metadata": {},
   "source": [
    "## 計算當月TBR Premium ratio"
   ]
  },
  {
   "cell_type": "code",
   "execution_count": 5,
   "id": "ab8e99a4-ae63-435f-83ad-ba1b4fa7687a",
   "metadata": {},
   "outputs": [],
   "source": [
    "import mitosheet"
   ]
  },
  {
   "cell_type": "code",
   "execution_count": 4,
   "id": "936b8c59-b646-4566-bf2f-da2823a403f8",
   "metadata": {},
   "outputs": [],
   "source": [
    "df = pd.read_excel(r\"C:\\Users\\kc.hsu\\Desktop\\202206_ACTSizeData.xlsx\")"
   ]
  },
  {
   "cell_type": "code",
   "execution_count": 40,
   "id": "12870ad4-d987-4127-a6bc-8cccefab42e7",
   "metadata": {},
   "outputs": [],
   "source": [
    "def gkpi_figure(data:\"size data\"):\n",
    "    act_sales = data[(data[\"國內市場財別\"] == \"TBR(G)\") & (data[\"預算/前實績\"] == \"22ACT\") & (data[\"大通路分類\"] == \"REP\")]\n",
    "    tbr_rep_volume = act_sales[\"條數\"].sum() / 1000\n",
    "    tbr_rep_monetary = act_sales[\"NET金額\"].sum()\n",
    "    act_sales[\"TBR Premium\"] = act_sales[\"花紋\"].map(lambda x: \"Yes\" if x in tbr_premium_list else \"No\")\n",
    "    tbr_premium_volume = act_sales[act_sales[\"TBR Premium\"] == \"Yes\"][\"條數\"].sum() / 1000\n",
    "    print(\"TBR REP volume in June is {:.3f}\".format(tbr_rep_volume))\n",
    "    print(\"TBR REP act NET sales(local currency) is {:,.3f}\".format(tbr_rep_monetary))\n",
    "    print(\"TBR Premium volume is {:.3f}\".format(tbr_premium_volume))"
   ]
  },
  {
   "cell_type": "code",
   "execution_count": 41,
   "id": "a672bca8-bff5-4ac1-90aa-563b5da7cf28",
   "metadata": {},
   "outputs": [
    {
     "name": "stdout",
     "output_type": "stream",
     "text": [
      "TBR REP volume in June is 11.946\n",
      "TBR REP act NET sales(local currency) is 107,063,113.000\n",
      "TBR Premium volume is 5.148\n"
     ]
    }
   ],
   "source": [
    "gkpi_figure(df)"
   ]
  },
  {
   "cell_type": "code",
   "execution_count": null,
   "id": "ffb2cf04-60a1-43d0-b4dd-36a89be7a2f4",
   "metadata": {},
   "outputs": [],
   "source": []
  }
 ],
 "metadata": {
  "kernelspec": {
   "display_name": "Python 3 (ipykernel)",
   "language": "python",
   "name": "python3"
  },
  "language_info": {
   "codemirror_mode": {
    "name": "ipython",
    "version": 3
   },
   "file_extension": ".py",
   "mimetype": "text/x-python",
   "name": "python",
   "nbconvert_exporter": "python",
   "pygments_lexer": "ipython3",
   "version": "3.10.6"
  }
 },
 "nbformat": 4,
 "nbformat_minor": 5
}
