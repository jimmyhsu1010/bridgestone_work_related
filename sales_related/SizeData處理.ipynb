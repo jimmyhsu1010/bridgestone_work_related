{
 "cells": [
  {
   "cell_type": "code",
   "execution_count": null,
   "id": "543ba893-fbd9-4eea-a48e-8af5c5090705",
   "metadata": {},
   "outputs": [],
   "source": [
    "import pandas as pd\n",
    "import tkinter as tk\n",
    "from tkinter import filedialog\n",
    "pd.set_option(\"display.max_columns\", None)\n",
    "pd.set_option(\"mode.chained_assignment\", None)\n",
    "\n",
    "import warnings\n",
    "warnings.filterwarnings(\"ignore\")\n",
    "from thefuzz import fuzz\n",
    "from thefuzz import process"
   ]
  },
  {
   "cell_type": "code",
   "execution_count": null,
   "id": "6673a9e2-5283-4476-b099-70ce071bcb7f",
   "metadata": {},
   "outputs": [],
   "source": [
    "class SizeDataTransformer:\n",
    "    \n",
    "    def __init__(self, path):\n",
    "        self.path = path\n",
    "        \n",
    "    def read_data(self):\n",
    "        if self.path.split(\".\")[-1] == \"xlsx\":\n",
    "            df = pd.read_excel(self.path, None)\n",
    "            catalog = {}\n",
    "            for i, j in enumerate(list(df.keys())):\n",
    "                catalog.setdefault(i + 1, j)\n",
    "                print(i + 1, j)\n",
    "            answer = int(input(\"Please select the sheet\"))\n",
    "            df = df[catalog[answer]]\n",
    "        else:\n",
    "            df = pd.read_csv(self.path)\n",
    "        return df\n",
    "    \n",
    "    @staticmethod\n",
    "    def tire_type(df, category, channel=None, years=True):\n",
    "        if years == True:\n",
    "            df = df[(df[\"KA分類\"] == category) & (df[\"大通路分類\"] == channel) & (df[\"年月\"].astype(str).str.contains(\"2022|2023\"))]\n",
    "        else:\n",
    "            df = df[(df[\"KA分類\"] == category) & (df[\"大通路分類\"] == channel)]\n",
    "        df[\"整理後的日期\"] = pd.to_datetime(df[\"年月\"], format=\"%Y%m\")\n",
    "        return df\n",
    "        \n",
    "        \n",
    "        \n",
    "    \n",
    "    "
   ]
  },
  {
   "cell_type": "code",
   "execution_count": null,
   "id": "4d58c3d9-4137-4395-a560-311617e58a61",
   "metadata": {},
   "outputs": [],
   "source": [
    "root = tk.Tk()\n",
    "root.withdraw()\n",
    "file_path = filedialog.askopenfilename()"
   ]
  },
  {
   "cell_type": "code",
   "execution_count": null,
   "id": "c99d3a34-20de-4341-82e9-59e0fc67fa69",
   "metadata": {},
   "outputs": [],
   "source": [
    "df = SizeDataTransformer(file_path)"
   ]
  },
  {
   "cell_type": "code",
   "execution_count": null,
   "id": "25076481-cfcc-4d4b-98dd-274d3d941843",
   "metadata": {},
   "outputs": [],
   "source": [
    "df = df.read_data()"
   ]
  },
  {
   "cell_type": "code",
   "execution_count": null,
   "id": "6724517a-e128-483c-bd1f-3e8251184c5b",
   "metadata": {},
   "outputs": [],
   "source": [
    "result = SizeDataTransformer.tire_type(df, \"TBR(G)\", \"REP\", False)"
   ]
  },
  {
   "cell_type": "code",
   "execution_count": null,
   "id": "aff8d847-f9a4-42cd-8ada-33914288fa51",
   "metadata": {},
   "outputs": [],
   "source": [
    "result[\"條數\"] = result[\"條數\"].fillna(0)"
   ]
  },
  {
   "cell_type": "code",
   "execution_count": null,
   "id": "9f19ebd4-8f09-451b-a182-7f6e9947b1ae",
   "metadata": {},
   "outputs": [],
   "source": [
    "result.info()"
   ]
  },
  {
   "cell_type": "code",
   "execution_count": null,
   "id": "9e9b7c6a-f0cb-48c8-9878-03966dddca10",
   "metadata": {},
   "outputs": [],
   "source": [
    "result.to_excel(r\"D:\\kc.hsu\\OneDrive - Bridgestone\\數據\\2022ACT\\2021-2022_Size Data_All_TBR_rawling_data.xlsx\", index=False)\n"
   ]
  },
  {
   "cell_type": "code",
   "execution_count": null,
   "id": "16bd6baf",
   "metadata": {},
   "outputs": [],
   "source": []
  },
  {
   "cell_type": "code",
   "execution_count": null,
   "id": "6eb933ca",
   "metadata": {},
   "outputs": [],
   "source": [
    "df = pd.read_excel(r\"D:\\kc.hsu\\OneDrive - Bridgestone\\數據\\2022ACT\\202301 ISOM Size data.xlsx\", None)\n",
    "df.keys()"
   ]
  },
  {
   "cell_type": "code",
   "execution_count": null,
   "id": "f4cd0fc5",
   "metadata": {},
   "outputs": [],
   "source": [
    "df = df[\"工作表1\"]"
   ]
  },
  {
   "cell_type": "code",
   "execution_count": null,
   "id": "ca380d79",
   "metadata": {},
   "outputs": [],
   "source": [
    "df = df[(df[\"大通路分類\"] == \"REP\") & (df[\"國內市場財別\"] == \"TBR(G)\")]\n",
    "df.to_excel(r\"D:\\kc.hsu\\OneDrive - Bridgestone\\數據\\2022ACT\\202301 ISOM Size data_TBR版本.xlsx\", index=False)"
   ]
  },
  {
   "cell_type": "code",
   "execution_count": null,
   "id": "15e069b2",
   "metadata": {},
   "outputs": [],
   "source": []
  },
  {
   "cell_type": "code",
   "execution_count": null,
   "id": "f64af4e8",
   "metadata": {},
   "outputs": [],
   "source": [
    "df = pd.read_clipboard()"
   ]
  },
  {
   "cell_type": "code",
   "execution_count": null,
   "id": "be052218",
   "metadata": {},
   "outputs": [],
   "source": [
    "result = df[(df[\"Size Designation\"].str.startswith(\"P\") == False) & (df[\"PrCode\"].str.contains(\"TBR|LSR\"))]"
   ]
  },
  {
   "cell_type": "code",
   "execution_count": null,
   "id": "04abd64e",
   "metadata": {},
   "outputs": [],
   "source": [
    "bpcom_dict = dict(zip(result[\"PrCode\"], result[\"Product Name\"]))"
   ]
  },
  {
   "cell_type": "code",
   "execution_count": null,
   "id": "42fe2c3b",
   "metadata": {},
   "outputs": [],
   "source": [
    "new_rule = pd.read_clipboard()"
   ]
  },
  {
   "cell_type": "code",
   "execution_count": null,
   "id": "bdeb687e",
   "metadata": {},
   "outputs": [],
   "source": [
    "new_rule_dict = dict(zip(new_rule[\"Product name\"], new_rule[\"Category\"]))"
   ]
  },
  {
   "cell_type": "code",
   "execution_count": null,
   "id": "9443a44e",
   "metadata": {},
   "outputs": [],
   "source": [
    "product_list = new_rule[\"Product name\"].values.tolist()"
   ]
  },
  {
   "cell_type": "code",
   "execution_count": null,
   "id": "16c9b7da",
   "metadata": {},
   "outputs": [],
   "source": [
    "isom = pd.read_excel(r\"D:\\kc.hsu\\OneDrive - Bridgestone\\數據\\2022ACT\\202301 ISOM Size data_TBR版本.xlsx\")\n",
    "isom"
   ]
  },
  {
   "cell_type": "code",
   "execution_count": null,
   "id": "a70e9efc",
   "metadata": {},
   "outputs": [],
   "source": [
    "isom[\"Product Name\"] = isom[\"商品代號\"].map(bpcom_dict)"
   ]
  },
  {
   "cell_type": "code",
   "execution_count": null,
   "id": "7bcc46d6",
   "metadata": {},
   "outputs": [],
   "source": [
    "isom[\"Product Name\"] = isom[\"Product Name\"].fillna(\"na\")"
   ]
  },
  {
   "cell_type": "code",
   "execution_count": null,
   "id": "a79d0502",
   "metadata": {},
   "outputs": [],
   "source": [
    "final_result = pd.concat([isom, pd.DataFrame(isom[\"Product Name\"].map(lambda x: process.extractOne(x, product_list)).tolist(), columns=[\"匹配商品名稱\", \"Confidence\"])], axis=1)"
   ]
  },
  {
   "cell_type": "code",
   "execution_count": null,
   "id": "9e0a4dc9",
   "metadata": {},
   "outputs": [],
   "source": [
    "final_result[\"New Category\"] = final_result[\"匹配商品名稱\"].map(new_rule_dict)"
   ]
  },
  {
   "cell_type": "code",
   "execution_count": null,
   "id": "6c977a32",
   "metadata": {},
   "outputs": [],
   "source": [
    "final_result.to_excel(r\"D:\\kc.hsu\\OneDrive - Bridgestone\\數據\\2022ACT\\202301 ISOM Size data_TBR版本.xlsx\", index=False)"
   ]
  },
  {
   "cell_type": "code",
   "execution_count": null,
   "id": "19b6464c",
   "metadata": {},
   "outputs": [],
   "source": []
  }
 ],
 "metadata": {
  "kernelspec": {
   "display_name": "python_env",
   "language": "python",
   "name": "python3"
  },
  "language_info": {
   "codemirror_mode": {
    "name": "ipython",
    "version": 3
   },
   "file_extension": ".py",
   "mimetype": "text/x-python",
   "name": "python",
   "nbconvert_exporter": "python",
   "pygments_lexer": "ipython3",
   "version": "3.10.6"
  },
  "vscode": {
   "interpreter": {
    "hash": "0441e2ad242e60eb4d55752f5dea0f12731bd2d50ab9154f01b1a5615d7cc10b"
   }
  }
 },
 "nbformat": 4,
 "nbformat_minor": 5
}
