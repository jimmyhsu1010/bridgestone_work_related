{
 "cells": [
  {
   "cell_type": "code",
   "execution_count": 1,
   "id": "543ba893-fbd9-4eea-a48e-8af5c5090705",
   "metadata": {},
   "outputs": [],
   "source": [
    "import pandas as pd\n",
    "import tkinter as tk\n",
    "from tkinter import filedialog\n",
    "pd.set_option(\"display.max_columns\", None)\n",
    "pd.set_option(\"mode.chained_assignment\", None)"
   ]
  },
  {
   "cell_type": "code",
   "execution_count": 2,
   "id": "4d58c3d9-4137-4395-a560-311617e58a61",
   "metadata": {},
   "outputs": [],
   "source": [
    "root = tk.Tk()\n",
    "root.withdraw()\n",
    "file_path = filedialog.askopenfilename()"
   ]
  },
  {
   "cell_type": "code",
   "execution_count": 3,
   "id": "6673a9e2-5283-4476-b099-70ce071bcb7f",
   "metadata": {},
   "outputs": [],
   "source": [
    "class SizeDataTransformer:\n",
    "    \n",
    "    def __init__(self, path):\n",
    "        self.path = path\n",
    "        \n",
    "    def read_data(self):\n",
    "        if self.path.split(\".\")[-1] == \"xlsx\":\n",
    "            df = pd.read_excel(self.path, None)\n",
    "            catalog = {}\n",
    "            for i, j in enumerate(list(df.keys())):\n",
    "                catalog.setdefault(i + 1, j)\n",
    "                print(i + 1, j)\n",
    "            answer = int(input(\"Please select the sheet\"))\n",
    "            df = df[catalog[answer]]\n",
    "        else:\n",
    "            df = pd.read_csv(self.path)\n",
    "        return df\n",
    "    \n",
    "    @staticmethod\n",
    "    def tire_type(df, category, channel=None):\n",
    "        df = df[(df[\"KA分類\"] == category) & (df[\"大通路分類\"] == channel) & (df[\"年月\"].astype(str).str.contains(\"2022|2023\"))]\n",
    "        df[\"整理後的日期\"] = pd.to_datetime(df[\"年月\"], format=\"%Y%m\")\n",
    "        return df\n",
    "        \n",
    "        \n",
    "        \n",
    "    \n",
    "    "
   ]
  },
  {
   "cell_type": "code",
   "execution_count": 4,
   "id": "c99d3a34-20de-4341-82e9-59e0fc67fa69",
   "metadata": {},
   "outputs": [],
   "source": [
    "df = SizeDataTransformer(file_path)"
   ]
  },
  {
   "cell_type": "code",
   "execution_count": 5,
   "id": "25076481-cfcc-4d4b-98dd-274d3d941843",
   "metadata": {},
   "outputs": [
    {
     "name": "stdout",
     "output_type": "stream",
     "text": [
      "1 SIZE DATA\n"
     ]
    },
    {
     "name": "stdin",
     "output_type": "stream",
     "text": [
      "Please select the sheet 1\n"
     ]
    }
   ],
   "source": [
    "df = df.read_data()"
   ]
  },
  {
   "cell_type": "code",
   "execution_count": 6,
   "id": "6724517a-e128-483c-bd1f-3e8251184c5b",
   "metadata": {},
   "outputs": [],
   "source": [
    "result = SizeDataTransformer.tire_type(df, \"TBR(G)\", \"REP\")"
   ]
  },
  {
   "cell_type": "code",
   "execution_count": 7,
   "id": "aff8d847-f9a4-42cd-8ada-33914288fa51",
   "metadata": {},
   "outputs": [],
   "source": [
    "result[\"條數\"] = result[\"條數\"].fillna(0)"
   ]
  },
  {
   "cell_type": "code",
   "execution_count": 8,
   "id": "9f19ebd4-8f09-451b-a182-7f6e9947b1ae",
   "metadata": {},
   "outputs": [
    {
     "name": "stdout",
     "output_type": "stream",
     "text": [
      "<class 'pandas.core.frame.DataFrame'>\n",
      "Int64Index: 31368 entries, 90420 to 608023\n",
      "Data columns (total 35 columns):\n",
      " #   Column    Non-Null Count  Dtype         \n",
      "---  ------    --------------  -----         \n",
      " 0   年度        31368 non-null  int64         \n",
      " 1   季度        31368 non-null  object        \n",
      " 2   月份        31368 non-null  object        \n",
      " 3   年月        31368 non-null  int64         \n",
      " 4   種類        31368 non-null  object        \n",
      " 5   客戶類別      11552 non-null  object        \n",
      " 6   客戶契約      8770 non-null   object        \n",
      " 7   通路明細      31368 non-null  object        \n",
      " 8   客戶代號      8770 non-null   object        \n",
      " 9   客戶名稱      30048 non-null  object        \n",
      " 10  營業所       31368 non-null  object        \n",
      " 11  舊分類       31368 non-null  object        \n",
      " 12  國別　       31368 non-null  object        \n",
      " 13  商品代號      31368 non-null  object        \n",
      " 14  規格        31368 non-null  object        \n",
      " 15  條數        31368 non-null  float64       \n",
      " 16  Gross     31368 non-null  float64       \n",
      " 17  discount  31368 non-null  float64       \n",
      " 18  NET金額     31368 non-null  float64       \n",
      " 19  大通路分類     31368 non-null  object        \n",
      " 20  單位膠重      31368 non-null  float64       \n",
      " 21  總膠重       31368 non-null  float64       \n",
      " 22  MTP       31368 non-null  object        \n",
      " 23  預算/前實績    31368 non-null  object        \n",
      " 24  INCH      31368 non-null  object        \n",
      " 25  成本        30615 non-null  float64       \n",
      " 26  營業費       30579 non-null  float64       \n",
      " 27  花紋        31368 non-null  object        \n",
      " 28  花紋系列      31368 non-null  object        \n",
      " 29  SECTION   31368 non-null  object        \n",
      " 30  GROUP別    31368 non-null  object        \n",
      " 31  KA分類      31368 non-null  object        \n",
      " 32  國內市場財別    31368 non-null  object        \n",
      " 33  其他業外調整    27962 non-null  float64       \n",
      " 34  整理後的日期    31368 non-null  datetime64[ns]\n",
      "dtypes: datetime64[ns](1), float64(9), int64(2), object(23)\n",
      "memory usage: 8.6+ MB\n"
     ]
    }
   ],
   "source": [
    "result.info()"
   ]
  },
  {
   "cell_type": "code",
   "execution_count": 9,
   "id": "9e9b7c6a-f0cb-48c8-9878-03966dddca10",
   "metadata": {},
   "outputs": [],
   "source": [
    "result.to_excel(r\"D:\\kc.hsu\\OneDrive - Bridgestone\\數據\\2022ACT\\2021-2022_Size Data_All_TBR_rawling_data.xlsx\", index=False)"
   ]
  },
  {
   "cell_type": "code",
   "execution_count": null,
   "id": "1b4b2da9-216c-42a8-b79e-213996630025",
   "metadata": {},
   "outputs": [],
   "source": []
  }
 ],
 "metadata": {
  "kernelspec": {
   "display_name": "Python 3 (ipykernel)",
   "language": "python",
   "name": "python3"
  },
  "language_info": {
   "codemirror_mode": {
    "name": "ipython",
    "version": 3
   },
   "file_extension": ".py",
   "mimetype": "text/x-python",
   "name": "python",
   "nbconvert_exporter": "python",
   "pygments_lexer": "ipython3",
   "version": "3.10.6"
  }
 },
 "nbformat": 4,
 "nbformat_minor": 5
}
