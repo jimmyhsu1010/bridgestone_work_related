{
 "cells": [
  {
   "cell_type": "code",
   "execution_count": 1,
   "id": "543ba893-fbd9-4eea-a48e-8af5c5090705",
   "metadata": {},
   "outputs": [],
   "source": [
    "import pandas as pd\n",
    "import tkinter as tk\n",
    "from tkinter import filedialog\n",
    "pd.set_option(\"display.max_columns\", None)\n",
    "pd.set_option(\"mode.chained_assignment\", None)\n",
    "\n",
    "import warnings\n",
    "warnings.filterwarnings(\"ignore\")\n",
    "from thefuzz import fuzz\n",
    "from thefuzz import process\n",
    "import datetime"
   ]
  },
  {
   "cell_type": "code",
   "execution_count": 2,
   "id": "6673a9e2-5283-4476-b099-70ce071bcb7f",
   "metadata": {},
   "outputs": [],
   "source": [
    "class SizeDataTransformer:\n",
    "    \n",
    "    def __init__(self, path):\n",
    "        self.path = path\n",
    "        \n",
    "    def read_data(self):\n",
    "        if self.path.split(\".\")[-1] == \"xlsx\":\n",
    "            df = pd.read_excel(self.path, None)\n",
    "            catalog = {}\n",
    "            for i, j in enumerate(list(df.keys())):\n",
    "                catalog.setdefault(i + 1, j)\n",
    "                print(i + 1, j)\n",
    "            answer = int(input(\"Please select the sheet\"))\n",
    "            df = df[catalog[answer]]\n",
    "        else:\n",
    "            df = pd.read_csv(self.path)\n",
    "        return df\n",
    "    \n",
    "    @staticmethod\n",
    "    def tire_type(df, category, channel=None, years=True):\n",
    "        if years == True:\n",
    "            df = df[(df[\"KA分類\"] == category) & (df[\"大通路分類\"] == channel) & (df[\"年月\"].astype(str).str.contains(\"2022|2023\"))]\n",
    "        else:\n",
    "            df = df[(df[\"KA分類\"] == category) & (df[\"大通路分類\"] == channel) & (~df[\"年月\"].isin([2024, 2025, 2026]))]\n",
    "        \n",
    "        df[\"整理後的日期\"] = pd.to_datetime(df[\"年月\"], format=\"%Y%m\")\n",
    "        return df\n",
    "        \n",
    "        \n",
    "        \n",
    "    \n",
    "    "
   ]
  },
  {
   "cell_type": "code",
   "execution_count": 3,
   "id": "4d58c3d9-4137-4395-a560-311617e58a61",
   "metadata": {},
   "outputs": [
    {
     "name": "stdout",
     "output_type": "stream",
     "text": [
      "1 工作表2\n",
      "2 樞紐 for I-SOM\n",
      "3 樞紐for通路別\n",
      "4 工作表1\n"
     ]
    }
   ],
   "source": [
    "root = tk.Tk()\n",
    "root.withdraw()\n",
    "file_path = filedialog.askopenfilename()\n",
    "df = SizeDataTransformer(file_path)\n",
    "df = df.read_data()"
   ]
  },
  {
   "cell_type": "code",
   "execution_count": 4,
   "id": "6724517a-e128-483c-bd1f-3e8251184c5b",
   "metadata": {},
   "outputs": [],
   "source": [
    "result = SizeDataTransformer.tire_type(df, \"TBR(G)\", \"REP\", False)"
   ]
  },
  {
   "cell_type": "code",
   "execution_count": 5,
   "id": "aff8d847-f9a4-42cd-8ada-33914288fa51",
   "metadata": {},
   "outputs": [],
   "source": [
    "result[\"條數\"] = result[\"條數\"].fillna(0)"
   ]
  },
  {
   "cell_type": "code",
   "execution_count": 6,
   "id": "9f19ebd4-8f09-451b-a182-7f6e9947b1ae",
   "metadata": {},
   "outputs": [],
   "source": [
    "result[\"舊分類\"] = result[\"舊分類\"].map(lambda x: \"LSR\" if \"LSR\" in x else x)"
   ]
  },
  {
   "cell_type": "code",
   "execution_count": null,
   "id": "b2c97e73",
   "metadata": {},
   "outputs": [],
   "source": [
    "\"D:\\kc.hsu\\OneDrive - Bridgestone\\數據\\2023ACT\\2023_Size Data_All 的複本.xlsx\""
   ]
  },
  {
   "cell_type": "code",
   "execution_count": 7,
   "id": "d5e3827c",
   "metadata": {},
   "outputs": [],
   "source": [
    "today = datetime.date.today().strftime('%Y%m%d')\n",
    "path = r\"D:\\kc.hsu\\OneDrive - Bridgestone\\數據\\2023ACT\\{}{}\".format(today, \"_SizeData.xlsx\")"
   ]
  },
  {
   "cell_type": "code",
   "execution_count": 8,
   "id": "9add76a4",
   "metadata": {},
   "outputs": [],
   "source": [
    "result.to_excel(path, index=False)"
   ]
  },
  {
   "cell_type": "code",
   "execution_count": null,
   "id": "2f4d846a",
   "metadata": {},
   "outputs": [],
   "source": []
  },
  {
   "cell_type": "code",
   "execution_count": null,
   "id": "8b3196d9",
   "metadata": {},
   "outputs": [],
   "source": []
  },
  {
   "cell_type": "code",
   "execution_count": 14,
   "id": "d11f0204",
   "metadata": {},
   "outputs": [],
   "source": [
    "result.to_excel(r\"D:\\kc.hsu\\OneDrive - Bridgestone\\數據\\2023ACT\\20230609_power_bi_2022-2023_Size Data_All_TBR_rawling_data.xlsx\", index=False)"
   ]
  },
  {
   "cell_type": "code",
   "execution_count": null,
   "id": "16bd6baf",
   "metadata": {},
   "outputs": [],
   "source": []
  },
  {
   "cell_type": "code",
   "execution_count": null,
   "id": "6eb933ca",
   "metadata": {},
   "outputs": [],
   "source": [
    "df = pd.read_excel(r\"D:\\kc.hsu\\OneDrive - Bridgestone\\數據\\2022ACT\\202301 ISOM Size data.xlsx\", None)\n",
    "df.keys()"
   ]
  },
  {
   "cell_type": "code",
   "execution_count": null,
   "id": "f4cd0fc5",
   "metadata": {},
   "outputs": [],
   "source": [
    "df = df[\"工作表1\"]"
   ]
  },
  {
   "cell_type": "code",
   "execution_count": null,
   "id": "ca380d79",
   "metadata": {},
   "outputs": [],
   "source": [
    "df = df[(df[\"大通路分類\"] == \"REP\") & (df[\"國內市場財別\"] == \"TBR(G)\")]\n",
    "df.to_excel(r\"D:\\kc.hsu\\OneDrive - Bridgestone\\數據\\2022ACT\\202301 ISOM Size data_TBR版本.xlsx\", index=False)"
   ]
  },
  {
   "cell_type": "code",
   "execution_count": null,
   "id": "15e069b2",
   "metadata": {},
   "outputs": [],
   "source": []
  },
  {
   "cell_type": "code",
   "execution_count": null,
   "id": "f64af4e8",
   "metadata": {},
   "outputs": [],
   "source": [
    "df = pd.read_clipboard()"
   ]
  },
  {
   "cell_type": "code",
   "execution_count": null,
   "id": "be052218",
   "metadata": {},
   "outputs": [],
   "source": [
    "result = df[(df[\"Size Designation\"].str.startswith(\"P\") == False) & (df[\"PrCode\"].str.contains(\"TBR|LSR\"))]"
   ]
  },
  {
   "cell_type": "code",
   "execution_count": null,
   "id": "04abd64e",
   "metadata": {},
   "outputs": [],
   "source": [
    "bpcom_dict = dict(zip(result[\"PrCode\"], result[\"Product Name\"]))"
   ]
  },
  {
   "cell_type": "code",
   "execution_count": null,
   "id": "42fe2c3b",
   "metadata": {},
   "outputs": [],
   "source": [
    "new_rule = pd.read_clipboard()"
   ]
  },
  {
   "cell_type": "code",
   "execution_count": null,
   "id": "bdeb687e",
   "metadata": {},
   "outputs": [],
   "source": [
    "new_rule_dict = dict(zip(new_rule[\"Product name\"], new_rule[\"Category\"]))"
   ]
  },
  {
   "cell_type": "code",
   "execution_count": null,
   "id": "9443a44e",
   "metadata": {},
   "outputs": [],
   "source": [
    "product_list = new_rule[\"Product name\"].values.tolist()"
   ]
  },
  {
   "cell_type": "code",
   "execution_count": null,
   "id": "16c9b7da",
   "metadata": {},
   "outputs": [],
   "source": [
    "isom = pd.read_excel(r\"D:\\kc.hsu\\OneDrive - Bridgestone\\數據\\2022ACT\\202301 ISOM Size data_TBR版本.xlsx\")\n",
    "isom"
   ]
  },
  {
   "cell_type": "code",
   "execution_count": null,
   "id": "a70e9efc",
   "metadata": {},
   "outputs": [],
   "source": [
    "isom[\"Product Name\"] = isom[\"商品代號\"].map(bpcom_dict)"
   ]
  },
  {
   "cell_type": "code",
   "execution_count": null,
   "id": "7bcc46d6",
   "metadata": {},
   "outputs": [],
   "source": [
    "isom[\"Product Name\"] = isom[\"Product Name\"].fillna(\"na\")"
   ]
  },
  {
   "cell_type": "code",
   "execution_count": null,
   "id": "a79d0502",
   "metadata": {},
   "outputs": [],
   "source": [
    "final_result = pd.concat([isom, pd.DataFrame(isom[\"Product Name\"].map(lambda x: process.extractOne(x, product_list)).tolist(), columns=[\"匹配商品名稱\", \"Confidence\"])], axis=1)"
   ]
  },
  {
   "cell_type": "code",
   "execution_count": null,
   "id": "9e0a4dc9",
   "metadata": {},
   "outputs": [],
   "source": [
    "final_result[\"New Category\"] = final_result[\"匹配商品名稱\"].map(new_rule_dict)"
   ]
  },
  {
   "cell_type": "code",
   "execution_count": null,
   "id": "6c977a32",
   "metadata": {},
   "outputs": [],
   "source": [
    "final_result.to_excel(r\"D:\\kc.hsu\\OneDrive - Bridgestone\\數據\\2022ACT\\202301 ISOM Size data_TBR版本.xlsx\", index=False)"
   ]
  },
  {
   "cell_type": "code",
   "execution_count": null,
   "id": "19b6464c",
   "metadata": {},
   "outputs": [],
   "source": []
  },
  {
   "cell_type": "code",
   "execution_count": null,
   "id": "3902c4d6",
   "metadata": {},
   "outputs": [],
   "source": []
  },
  {
   "cell_type": "code",
   "execution_count": null,
   "id": "c09ec58f",
   "metadata": {},
   "outputs": [],
   "source": []
  },
  {
   "cell_type": "code",
   "execution_count": null,
   "id": "d7e9b432",
   "metadata": {},
   "outputs": [],
   "source": []
  },
  {
   "cell_type": "code",
   "execution_count": 2,
   "id": "44a925a8",
   "metadata": {},
   "outputs": [],
   "source": [
    "df = pd.read_excel(r\"D:\\kc.hsu\\OneDrive - Bridgestone\\數據\\2023ACT\\2023_Size Data_All 的複本.xlsx\", None)"
   ]
  },
  {
   "cell_type": "code",
   "execution_count": 5,
   "id": "d1e6a2fd",
   "metadata": {},
   "outputs": [],
   "source": [
    "df = df[\"工作表1\"]"
   ]
  },
  {
   "cell_type": "code",
   "execution_count": 11,
   "id": "f1a32e77",
   "metadata": {},
   "outputs": [],
   "source": [
    "df = df[(df[\"國內市場財別\"] == \"TBR(G)\") & (df[\"大通路分類\"] == \"REP\")]"
   ]
  },
  {
   "cell_type": "code",
   "execution_count": 13,
   "id": "fa31db58",
   "metadata": {},
   "outputs": [],
   "source": [
    "category_table = pd.read_excel(\"./ReferenceTable/20220801_category_types.xlsx\")\n",
    "cuscode_type = dict(zip(category_table[\"客戶代號\"], category_table[\"大通路\"]))"
   ]
  },
  {
   "cell_type": "code",
   "execution_count": 17,
   "id": "2d481259",
   "metadata": {},
   "outputs": [],
   "source": [
    "df[\"客戶大通路別\"] = df[\"客戶代號\"].map(cuscode_type)"
   ]
  },
  {
   "cell_type": "code",
   "execution_count": 22,
   "id": "abb25434",
   "metadata": {},
   "outputs": [],
   "source": [
    "df = df[df[\"年月\"].astype(str).str.contains(\"2022|2023\")]"
   ]
  },
  {
   "cell_type": "code",
   "execution_count": 24,
   "id": "33bc535f",
   "metadata": {},
   "outputs": [],
   "source": [
    "df[\"修正後日期\"] = pd.to_datetime(df[\"年月\"], format=\"%Y%m\")"
   ]
  },
  {
   "cell_type": "code",
   "execution_count": 26,
   "id": "d0acd0dc",
   "metadata": {},
   "outputs": [],
   "source": [
    "df.to_clipboard()"
   ]
  },
  {
   "cell_type": "code",
   "execution_count": 2,
   "id": "9b609914",
   "metadata": {},
   "outputs": [],
   "source": [
    "df = pd.read_clipboard()"
   ]
  },
  {
   "cell_type": "code",
   "execution_count": 19,
   "id": "08d5d192",
   "metadata": {},
   "outputs": [
    {
     "data": {
      "text/html": [
       "<div>\n",
       "<style scoped>\n",
       "    .dataframe tbody tr th:only-of-type {\n",
       "        vertical-align: middle;\n",
       "    }\n",
       "\n",
       "    .dataframe tbody tr th {\n",
       "        vertical-align: top;\n",
       "    }\n",
       "\n",
       "    .dataframe thead th {\n",
       "        text-align: right;\n",
       "    }\n",
       "</style>\n",
       "<table border=\"1\" class=\"dataframe\">\n",
       "  <thead>\n",
       "    <tr style=\"text-align: right;\">\n",
       "      <th></th>\n",
       "      <th>month</th>\n",
       "      <th>company_name</th>\n",
       "      <th>tyre_type</th>\n",
       "      <th>category</th>\n",
       "      <th>upper_tag</th>\n",
       "      <th>lower_tag</th>\n",
       "      <th>0</th>\n",
       "    </tr>\n",
       "  </thead>\n",
       "  <tbody>\n",
       "    <tr>\n",
       "      <th>0</th>\n",
       "      <td>1110106</td>\n",
       "      <td>昆翔國際股份有限公司</td>\n",
       "      <td>輪胎</td>\n",
       "      <td>IC1</td>\n",
       "      <td>8897376</td>\n",
       "      <td>8897785</td>\n",
       "      <td>[en_product_name, items, size, model]</td>\n",
       "    </tr>\n",
       "  </tbody>\n",
       "</table>\n",
       "</div>"
      ],
      "text/plain": [
       "     month company_name tyre_type category  upper_tag  lower_tag  \\\n",
       "0  1110106   昆翔國際股份有限公司        輪胎      IC1    8897376    8897785   \n",
       "\n",
       "                                       0  \n",
       "0  [en_product_name, items, size, model]  "
      ]
     },
     "execution_count": 19,
     "metadata": {},
     "output_type": "execute_result"
    }
   ],
   "source": [
    "df.groupby([\"month\", \"company_name\", \"tyre_type\", \"category\", \"upper_tag\", \"lower_tag\"])[\"en_product_name\", \"items\", \"size\", \"model\"].apply(list).reset_index()"
   ]
  },
  {
   "cell_type": "code",
   "execution_count": 20,
   "id": "2054df00",
   "metadata": {},
   "outputs": [
    {
     "data": {
      "text/plain": [
       "[['TYRES - RADIAL 315/80R22.5 154/150M M729',\n",
       "  1,\n",
       "  '315/80R22.5 154/150M',\n",
       "  'M729'],\n",
       " ['315/80R22.5 154/150M R150', 3, '315/80R22.5 154/150M', 'R150']]"
      ]
     },
     "execution_count": 20,
     "metadata": {},
     "output_type": "execute_result"
    }
   ],
   "source": [
    "df.set_index([\"month\", \"company_name\", \"tyre_type\", \"category\", \"upper_tag\", \"lower_tag\"])[[\"en_product_name\", \"items\", \"size\", \"model\"]].values.tolist()"
   ]
  }
 ],
 "metadata": {
  "kernelspec": {
   "display_name": "python_env",
   "language": "python",
   "name": "python3"
  },
  "language_info": {
   "codemirror_mode": {
    "name": "ipython",
    "version": 3
   },
   "file_extension": ".py",
   "mimetype": "text/x-python",
   "name": "python",
   "nbconvert_exporter": "python",
   "pygments_lexer": "ipython3",
   "version": "3.10.6"
  },
  "vscode": {
   "interpreter": {
    "hash": "0441e2ad242e60eb4d55752f5dea0f12731bd2d50ab9154f01b1a5615d7cc10b"
   }
  }
 },
 "nbformat": 4,
 "nbformat_minor": 5
}
