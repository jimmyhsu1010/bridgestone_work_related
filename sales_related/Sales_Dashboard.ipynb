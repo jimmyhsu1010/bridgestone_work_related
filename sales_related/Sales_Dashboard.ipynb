{
 "cells": [
  {
   "cell_type": "code",
   "execution_count": 1,
   "id": "e1ce2751-2e1d-4ae1-8b1e-03c2e69a3f82",
   "metadata": {},
   "outputs": [
    {
     "name": "stdout",
     "output_type": "stream",
     "text": [
      "Welcome to atoti 0.6.5!\n",
      "\n",
      "By using this community edition, you agree with the license available at https://docs.atoti.io/latest/eula.html.\n",
      "Browse the official documentation at https://docs.atoti.io.\n",
      "Join the community at https://www.atoti.io/register.\n",
      "\n",
      "atoti collects telemetry data, which is used to help understand how to improve the product.\n",
      "If you don't wish to send usage data, set the ATOTI_DISABLE_TELEMETRY environment variable to True.\n",
      "\n",
      "You can hide this message by setting the ATOTI_HIDE_EULA_MESSAGE environment variable to True.\n"
     ]
    }
   ],
   "source": [
    "import pandas as pd\n",
    "pd.set_option(\"display.max_columns\", None)\n",
    "import atoti as tt\n",
    "import calendar"
   ]
  },
  {
   "cell_type": "code",
   "execution_count": 2,
   "id": "dfaac1d4-ed50-4d4a-af8f-f9a4e2d28b29",
   "metadata": {},
   "outputs": [],
   "source": [
    "priceList = pd.read_excel(\"PriceList/202204價格表.xlsx\", None)"
   ]
  },
  {
   "cell_type": "code",
   "execution_count": 3,
   "id": "bf86d4f0-e5b3-48b0-b5bf-8e0df4968d4b",
   "metadata": {},
   "outputs": [],
   "source": [
    "priceTBR = priceList[\"TBR\"]"
   ]
  },
  {
   "cell_type": "code",
   "execution_count": 4,
   "id": "888ea6dc-ec5e-4be1-9d36-81b91064a6f7",
   "metadata": {},
   "outputs": [],
   "source": [
    "priceLSR = priceList[\"LSR\"]"
   ]
  },
  {
   "cell_type": "code",
   "execution_count": 5,
   "id": "4633ffae-90a3-4722-84e2-1600f41732e4",
   "metadata": {},
   "outputs": [],
   "source": [
    "priceTBR = priceTBR[['規格', '花紋', 'ISO', '層數', '進 / 國', '國別', 'RFT', '料號', '含稅價']]"
   ]
  },
  {
   "cell_type": "code",
   "execution_count": 6,
   "id": "254964f4-8eac-43a3-8f93-c0b91fbe913a",
   "metadata": {},
   "outputs": [],
   "source": [
    "priceLSR = priceLSR[['規格', '花紋', 'ISO', '層數', '進 / 國', '國別', 'RFT', '料號', '含稅價']]"
   ]
  },
  {
   "cell_type": "code",
   "execution_count": 7,
   "id": "5de6ab7a-8b2f-46c3-a6e1-3023d26427ed",
   "metadata": {},
   "outputs": [],
   "source": [
    "priceList = pd.concat([priceTBR, priceLSR], axis=0).reset_index(drop=True)"
   ]
  },
  {
   "cell_type": "code",
   "execution_count": 8,
   "id": "67e64530-2edc-45a5-ada6-daa9017e80d6",
   "metadata": {},
   "outputs": [],
   "source": [
    "priceList[\"含稅價\"] = round(priceList[\"含稅價\"],0)"
   ]
  },
  {
   "cell_type": "code",
   "execution_count": 9,
   "id": "fe628b16-e45e-43fc-8c93-35281d9dc19e",
   "metadata": {},
   "outputs": [],
   "source": [
    "priceList[\"含稅價\"] = priceList[\"含稅價\"].astype(int)"
   ]
  },
  {
   "cell_type": "code",
   "execution_count": 10,
   "id": "77969d8f-7e2c-48f1-a676-b32096758d9e",
   "metadata": {},
   "outputs": [],
   "source": [
    "priceList.columns = priceList.columns.str.replace(\"/\", \"\")"
   ]
  },
  {
   "cell_type": "code",
   "execution_count": 11,
   "id": "b49e769c-a03f-4b5d-b337-ecedf4f5aaf6",
   "metadata": {},
   "outputs": [],
   "source": [
    "priceList[\"未稅價\"] = round(priceList[\"含稅價\"] / 1.05, 0)"
   ]
  },
  {
   "cell_type": "code",
   "execution_count": 12,
   "id": "e3783031-2723-4390-bfff-1d1283bf3864",
   "metadata": {},
   "outputs": [],
   "source": [
    "priceList[\"未稅價\"] = priceList[\"未稅價\"].astype(int)"
   ]
  },
  {
   "cell_type": "code",
   "execution_count": 13,
   "id": "9c5fafdf-66fc-4dd3-8905-2ace0ad0a6e4",
   "metadata": {},
   "outputs": [
    {
     "data": {
      "text/html": [
       "<div>\n",
       "<style scoped>\n",
       "    .dataframe tbody tr th:only-of-type {\n",
       "        vertical-align: middle;\n",
       "    }\n",
       "\n",
       "    .dataframe tbody tr th {\n",
       "        vertical-align: top;\n",
       "    }\n",
       "\n",
       "    .dataframe thead th {\n",
       "        text-align: right;\n",
       "    }\n",
       "</style>\n",
       "<table border=\"1\" class=\"dataframe\">\n",
       "  <thead>\n",
       "    <tr style=\"text-align: right;\">\n",
       "      <th></th>\n",
       "      <th>規格</th>\n",
       "      <th>花紋</th>\n",
       "      <th>ISO</th>\n",
       "      <th>層數</th>\n",
       "      <th>進  國</th>\n",
       "      <th>國別</th>\n",
       "      <th>RFT</th>\n",
       "      <th>料號</th>\n",
       "      <th>含稅價</th>\n",
       "      <th>未稅價</th>\n",
       "    </tr>\n",
       "  </thead>\n",
       "  <tbody>\n",
       "    <tr>\n",
       "      <th>0</th>\n",
       "      <td>215/70R17.5</td>\n",
       "      <td>R225</td>\n",
       "      <td>123J</td>\n",
       "      <td></td>\n",
       "      <td>進</td>\n",
       "      <td>JP</td>\n",
       "      <td>T</td>\n",
       "      <td>TBR06242</td>\n",
       "      <td>9800</td>\n",
       "      <td>9333</td>\n",
       "    </tr>\n",
       "    <tr>\n",
       "      <th>1</th>\n",
       "      <td>215/70R17.5</td>\n",
       "      <td>R184</td>\n",
       "      <td>135J</td>\n",
       "      <td></td>\n",
       "      <td>進</td>\n",
       "      <td>JP</td>\n",
       "      <td>T</td>\n",
       "      <td>TBR02847</td>\n",
       "      <td>9800</td>\n",
       "      <td>9333</td>\n",
       "    </tr>\n",
       "    <tr>\n",
       "      <th>2</th>\n",
       "      <td>225/80R17.5</td>\n",
       "      <td>R225</td>\n",
       "      <td>123L</td>\n",
       "      <td></td>\n",
       "      <td>進</td>\n",
       "      <td>JP</td>\n",
       "      <td>T</td>\n",
       "      <td>TBR06435</td>\n",
       "      <td>8600</td>\n",
       "      <td>8190</td>\n",
       "    </tr>\n",
       "    <tr>\n",
       "      <th>3</th>\n",
       "      <td>225/90R17.5</td>\n",
       "      <td>R225</td>\n",
       "      <td>127L</td>\n",
       "      <td></td>\n",
       "      <td>進</td>\n",
       "      <td>JP</td>\n",
       "      <td>T</td>\n",
       "      <td>TBR06254</td>\n",
       "      <td>8500</td>\n",
       "      <td>8095</td>\n",
       "    </tr>\n",
       "    <tr>\n",
       "      <th>4</th>\n",
       "      <td>225/90R17.5</td>\n",
       "      <td>M810</td>\n",
       "      <td>127L</td>\n",
       "      <td></td>\n",
       "      <td>進</td>\n",
       "      <td>JP</td>\n",
       "      <td>T</td>\n",
       "      <td>TBR06042</td>\n",
       "      <td>8900</td>\n",
       "      <td>8476</td>\n",
       "    </tr>\n",
       "    <tr>\n",
       "      <th>...</th>\n",
       "      <td>...</td>\n",
       "      <td>...</td>\n",
       "      <td>...</td>\n",
       "      <td>...</td>\n",
       "      <td>...</td>\n",
       "      <td>...</td>\n",
       "      <td>...</td>\n",
       "      <td>...</td>\n",
       "      <td>...</td>\n",
       "      <td>...</td>\n",
       "    </tr>\n",
       "    <tr>\n",
       "      <th>118</th>\n",
       "      <td>235/75R17.5</td>\n",
       "      <td>R156</td>\n",
       "      <td>132M</td>\n",
       "      <td></td>\n",
       "      <td>進</td>\n",
       "      <td>TH</td>\n",
       "      <td>T</td>\n",
       "      <td>LSR0L018</td>\n",
       "      <td>6900</td>\n",
       "      <td>6571</td>\n",
       "    </tr>\n",
       "    <tr>\n",
       "      <th>119</th>\n",
       "      <td>235/75R175</td>\n",
       "      <td>R156</td>\n",
       "      <td>132M</td>\n",
       "      <td></td>\n",
       "      <td>進</td>\n",
       "      <td>TH</td>\n",
       "      <td>T</td>\n",
       "      <td>LSR0L041</td>\n",
       "      <td>6900</td>\n",
       "      <td>6571</td>\n",
       "    </tr>\n",
       "    <tr>\n",
       "      <th>120</th>\n",
       "      <td>9.5R17.5</td>\n",
       "      <td>R294</td>\n",
       "      <td>129M</td>\n",
       "      <td></td>\n",
       "      <td>進</td>\n",
       "      <td>JP</td>\n",
       "      <td>T</td>\n",
       "      <td>LSR03459</td>\n",
       "      <td>7900</td>\n",
       "      <td>7524</td>\n",
       "    </tr>\n",
       "    <tr>\n",
       "      <th>121</th>\n",
       "      <td>9.5R17.5</td>\n",
       "      <td>R294</td>\n",
       "      <td>129M</td>\n",
       "      <td></td>\n",
       "      <td>進</td>\n",
       "      <td>TH</td>\n",
       "      <td>T</td>\n",
       "      <td>LSR0L035</td>\n",
       "      <td>7900</td>\n",
       "      <td>7524</td>\n",
       "    </tr>\n",
       "    <tr>\n",
       "      <th>122</th>\n",
       "      <td>205/75R175</td>\n",
       "      <td>R227</td>\n",
       "      <td>124M</td>\n",
       "      <td></td>\n",
       "      <td>進</td>\n",
       "      <td>JP</td>\n",
       "      <td>T</td>\n",
       "      <td>LSR08328</td>\n",
       "      <td>5050</td>\n",
       "      <td>4810</td>\n",
       "    </tr>\n",
       "  </tbody>\n",
       "</table>\n",
       "<p>123 rows × 10 columns</p>\n",
       "</div>"
      ],
      "text/plain": [
       "              規格    花紋   ISO 層數 進  國  國別 RFT        料號   含稅價   未稅價\n",
       "0    215/70R17.5  R225  123J       進  JP   T  TBR06242  9800  9333\n",
       "1    215/70R17.5  R184  135J       進  JP   T  TBR02847  9800  9333\n",
       "2    225/80R17.5  R225  123L       進  JP   T  TBR06435  8600  8190\n",
       "3    225/90R17.5  R225  127L       進  JP   T  TBR06254  8500  8095\n",
       "4    225/90R17.5  M810  127L       進  JP   T  TBR06042  8900  8476\n",
       "..           ...   ...   ... ..  ...  ..  ..       ...   ...   ...\n",
       "118  235/75R17.5  R156  132M       進  TH   T  LSR0L018  6900  6571\n",
       "119   235/75R175  R156  132M       進  TH   T  LSR0L041  6900  6571\n",
       "120     9.5R17.5  R294  129M       進  JP   T  LSR03459  7900  7524\n",
       "121     9.5R17.5  R294  129M       進  TH   T  LSR0L035  7900  7524\n",
       "122   205/75R175  R227  124M       進  JP   T  LSR08328  5050  4810\n",
       "\n",
       "[123 rows x 10 columns]"
      ]
     },
     "execution_count": 13,
     "metadata": {},
     "output_type": "execute_result"
    }
   ],
   "source": [
    "priceList"
   ]
  },
  {
   "cell_type": "markdown",
   "id": "e399f62c-e84a-4c47-a6b4-2167ddc197ad",
   "metadata": {},
   "source": [
    "## 處理OB22"
   ]
  },
  {
   "cell_type": "code",
   "execution_count": 14,
   "id": "99d8d016-a7eb-4ce2-9f67-cfd13343ad1e",
   "metadata": {},
   "outputs": [],
   "source": [
    "new_ob = pd.read_csv(\"./ReferenceTable/22OB_revised.csv\")"
   ]
  },
  {
   "cell_type": "code",
   "execution_count": 15,
   "id": "e0770a6a-cb2d-4c67-ab41-849328cfb7cd",
   "metadata": {},
   "outputs": [],
   "source": [
    "sales_2021 = pd.read_csv(\"./ReferenceTable/2021實績.csv\")"
   ]
  },
  {
   "cell_type": "code",
   "execution_count": 16,
   "id": "8820ebdc-9309-4b32-baf8-1dee15a9fee5",
   "metadata": {},
   "outputs": [],
   "source": [
    "# new_ob.columns = ['輪胎類型', 'Channel', 'Group', 'Month', 'Qty']\n",
    "sales_2021.columns = ['Tire Types', '通路', '細分類', 'Month', '總數']"
   ]
  },
  {
   "cell_type": "code",
   "execution_count": 17,
   "id": "980cbfa6-fc89-426a-aac6-28be549cec0c",
   "metadata": {},
   "outputs": [],
   "source": [
    "sales_2021[\"總數\"] = sales_2021[\"總數\"].astype(int)"
   ]
  },
  {
   "cell_type": "markdown",
   "id": "215fae37-4dd2-4c3c-ae1d-e63723200749",
   "metadata": {},
   "source": [
    "## 原始OB數據"
   ]
  },
  {
   "cell_type": "code",
   "execution_count": 18,
   "id": "1d8051df-075d-4bc8-b4fc-3413f3265b7e",
   "metadata": {},
   "outputs": [],
   "source": [
    "df = pd.read_csv(\"./ReferenceTable/OB22_volume.csv\")"
   ]
  },
  {
   "cell_type": "code",
   "execution_count": 19,
   "id": "3796aa21-688d-42fb-86d8-9f9478c592a8",
   "metadata": {},
   "outputs": [
    {
     "data": {
      "text/plain": [
       "array(['BSSC', 'AG', 'FLT-REP', 'FLT-OE'], dtype=object)"
      ]
     },
     "execution_count": 19,
     "metadata": {},
     "output_type": "execute_result"
    }
   ],
   "source": [
    "df[\"Customer Group\"].unique()"
   ]
  },
  {
   "cell_type": "code",
   "execution_count": 20,
   "id": "538440c6-5241-4312-8113-3b020d51619c",
   "metadata": {},
   "outputs": [
    {
     "data": {
      "text/plain": [
       "array(['REP', 'OE '], dtype=object)"
      ]
     },
     "execution_count": 20,
     "metadata": {},
     "output_type": "execute_result"
    }
   ],
   "source": [
    "df[\"Channel\"].unique()"
   ]
  },
  {
   "cell_type": "markdown",
   "id": "c6f27b86-9797-4da9-8d74-ca58f362f1ef",
   "metadata": {},
   "source": [
    "## 22OB從Billy資料整理"
   ]
  },
  {
   "cell_type": "code",
   "execution_count": 21,
   "id": "6639d558-2d44-4884-822b-73cc1b8a59fc",
   "metadata": {},
   "outputs": [],
   "source": [
    "ob22 = pd.read_excel(\"./ReferenceTable/ob22_20220412.xlsx\")"
   ]
  },
  {
   "cell_type": "code",
   "execution_count": 22,
   "id": "74c10c43-b574-4fd5-91bd-7b0016f8407e",
   "metadata": {},
   "outputs": [],
   "source": [
    "ob22 = ob22.groupby([\"Tire Types\", \"大分類\", \"小通路\", \"年份\"]).sum().stack().reset_index(name=\"Qty\")"
   ]
  },
  {
   "cell_type": "code",
   "execution_count": 23,
   "id": "e9f75fbe-d5c2-4d55-b65e-51088c0f348c",
   "metadata": {},
   "outputs": [],
   "source": [
    "ob22.columns = ['Tire Types', '大分類', '小通路', '年份', 'Month', 'Qty']"
   ]
  },
  {
   "cell_type": "code",
   "execution_count": 24,
   "id": "8c9c6a1c-a19b-4d3e-b9d3-63598eacbce7",
   "metadata": {},
   "outputs": [],
   "source": [
    "ob22 = ob22.astype({\"年份\": str})"
   ]
  },
  {
   "cell_type": "code",
   "execution_count": 25,
   "id": "20e6730a-a376-4060-9437-23e0813978dd",
   "metadata": {},
   "outputs": [],
   "source": [
    "# df.shape"
   ]
  },
  {
   "cell_type": "code",
   "execution_count": 26,
   "id": "7d225db3-9904-437a-b456-c8b04b94b2f2",
   "metadata": {},
   "outputs": [],
   "source": [
    "# df = df[df[\"Qty\"] != 0]"
   ]
  },
  {
   "cell_type": "code",
   "execution_count": 27,
   "id": "3cc2930e-a688-44bd-9dbf-722654e02457",
   "metadata": {},
   "outputs": [],
   "source": [
    "# df[\"Customer Group\"].unique()"
   ]
  },
  {
   "cell_type": "code",
   "execution_count": 28,
   "id": "0253b4d8-59fd-457b-87f9-0c5d69d1e094",
   "metadata": {},
   "outputs": [],
   "source": [
    "# df.columns = [\"Tire type\", \"PCODE\", \"Channel\", \"Customer Group\", \"Description\", \"Pattern\", \"Qty\", \"Year\", \"Month\"]"
   ]
  },
  {
   "cell_type": "code",
   "execution_count": 29,
   "id": "1d40bf8f-5c58-4f16-9761-2fcd67ea4257",
   "metadata": {},
   "outputs": [],
   "source": [
    "# df = df.astype({\"Year\": str})"
   ]
  },
  {
   "cell_type": "code",
   "execution_count": 30,
   "id": "f1e7852e-f886-419f-a7c3-49ff5e7ebc52",
   "metadata": {},
   "outputs": [],
   "source": [
    "# df[\"Channel\"].unique()"
   ]
  },
  {
   "cell_type": "code",
   "execution_count": 31,
   "id": "ecd754e0-fcfb-40da-bf9b-095e538b6df1",
   "metadata": {},
   "outputs": [],
   "source": [
    "# df[\"Customer Group\"].unique()"
   ]
  },
  {
   "cell_type": "markdown",
   "id": "168d2a86-ffff-44c8-b878-17afdcb290e7",
   "metadata": {},
   "source": [
    "## 加入SAP BSSC和AG銷售數據\n",
    "### 均為含稅單價"
   ]
  },
  {
   "cell_type": "code",
   "execution_count": 32,
   "id": "8246cfcb-ea7c-4292-a275-5e9cbc4391cb",
   "metadata": {},
   "outputs": [
    {
     "name": "stderr",
     "output_type": "stream",
     "text": [
      "/opt/anaconda3/lib/python3.8/site-packages/IPython/core/interactiveshell.py:3071: DtypeWarning: Columns (16,19) have mixed types.Specify dtype option on import or set low_memory=False.\n",
      "  has_raised = await self.run_ast_nodes(code_ast.body, cell_name,\n"
     ]
    }
   ],
   "source": [
    "bssc_sales = pd.read_csv(\"./SalesData/BSSC_raw_data.csv\")"
   ]
  },
  {
   "cell_type": "code",
   "execution_count": 33,
   "id": "b76fdb17-bea3-4c53-b422-513afd8896c2",
   "metadata": {},
   "outputs": [],
   "source": [
    "ag_sales = pd.read_csv(\"./SalesData/ag_raw_data.csv\")"
   ]
  },
  {
   "cell_type": "code",
   "execution_count": 34,
   "id": "178f3049-bf07-4962-8e12-9297a6c14f0c",
   "metadata": {},
   "outputs": [],
   "source": [
    "pcode_table = pd.read_csv(\"./ReferenceTable/pcode_dimension.csv\")"
   ]
  },
  {
   "cell_type": "code",
   "execution_count": 35,
   "id": "d597199d-7dc3-4048-89fe-ea56315ee49e",
   "metadata": {},
   "outputs": [],
   "source": [
    "category_table = pd.read_csv(\"./ReferenceTable/category_types.csv\")"
   ]
  },
  {
   "cell_type": "code",
   "execution_count": 36,
   "id": "29cef7f7-1e9c-4a50-9617-7bb09d2e659e",
   "metadata": {},
   "outputs": [],
   "source": [
    "category_table[\"區域\"] = category_table[\"區域\"].str.strip()\n",
    "category_table[\"營業所\"] = category_table[\"營業所\"].str.strip()"
   ]
  },
  {
   "cell_type": "code",
   "execution_count": 37,
   "id": "d9d56109-e605-49f0-92c2-05c2f20fc04d",
   "metadata": {},
   "outputs": [],
   "source": [
    "category_table = category_table.drop_duplicates(subset=[\"客戶代號\"])"
   ]
  },
  {
   "cell_type": "code",
   "execution_count": 38,
   "id": "e5ab12de-426a-4631-afe7-d5b15d393517",
   "metadata": {},
   "outputs": [],
   "source": [
    "ag_sales.columns = ag_sales.columns.str.strip()"
   ]
  },
  {
   "cell_type": "code",
   "execution_count": 39,
   "id": "649f216c-672f-4ada-a74f-41efa7c21f3f",
   "metadata": {},
   "outputs": [],
   "source": [
    "bssc_sales.columns = bssc_sales.columns.str.strip()"
   ]
  },
  {
   "cell_type": "code",
   "execution_count": 40,
   "id": "a556a522-322c-4b79-8b46-c60482702f13",
   "metadata": {},
   "outputs": [],
   "source": [
    "ag_sales = ag_sales[(ag_sales[\"S_配銷通路\"].isin([\"AG\", \"FT\"])) & (ag_sales[\"S_中計商品代號1\"].isin([\"LR2\", \"TR2\", \"TR3\", \"TR5\"]))]"
   ]
  },
  {
   "cell_type": "code",
   "execution_count": 41,
   "id": "a056d45b-7258-4824-a9bc-eba6102e714d",
   "metadata": {},
   "outputs": [],
   "source": [
    "ag_sales = ag_sales[[\"D_實際發貨日期\", \"S_訂單單號\", \"S_項次\", \"S_買方(客戶號碼)\", \"S_物料編號\", \"S_物料說明\", \"S_國別\", \"S_數量\", \"S_項目淨值\"]]"
   ]
  },
  {
   "cell_type": "code",
   "execution_count": 42,
   "id": "1d198760-5775-4a0d-998c-28216686e54f",
   "metadata": {},
   "outputs": [],
   "source": [
    "bssc_sales = bssc_sales[bssc_sales[\"中計\"].str.contains(\"LSR2|TBR\")]"
   ]
  },
  {
   "cell_type": "code",
   "execution_count": 43,
   "id": "54129306-c4ea-400c-bbd8-c02eda940688",
   "metadata": {},
   "outputs": [],
   "source": [
    "bssc_sales = bssc_sales[[\"實際出貨日\", \"訂單單號\", \"訂單項次\", \"買方\", \"物料\", \"物料說明\", \"國別\", \"銷售數量\", \"銷貨單價\"]]"
   ]
  },
  {
   "cell_type": "code",
   "execution_count": 44,
   "id": "ab70a9b2-a1e5-46d5-b8f4-6035c2080947",
   "metadata": {},
   "outputs": [],
   "source": [
    "ag_sales[\"S_訂單單號\"] = ag_sales[\"S_訂單單號\"].astype(int).astype(str)"
   ]
  },
  {
   "cell_type": "code",
   "execution_count": 45,
   "id": "b4e6630b-4a90-4e27-8d4a-c86ef9d5be62",
   "metadata": {},
   "outputs": [],
   "source": [
    "ag_sales.columns = bssc_sales.columns"
   ]
  },
  {
   "cell_type": "code",
   "execution_count": 46,
   "id": "a5bcef3e-1590-4c55-8e36-feaeb4d3feb7",
   "metadata": {},
   "outputs": [
    {
     "ename": "AttributeError",
     "evalue": "Can only use .str accessor with string values!",
     "output_type": "error",
     "traceback": [
      "\u001b[0;31m---------------------------------------------------------------------------\u001b[0m",
      "\u001b[0;31mAttributeError\u001b[0m                            Traceback (most recent call last)",
      "\u001b[0;32m<ipython-input-46-f9b37abe6954>\u001b[0m in \u001b[0;36m<module>\u001b[0;34m\u001b[0m\n\u001b[0;32m----> 1\u001b[0;31m \u001b[0mbssc_sales\u001b[0m\u001b[0;34m[\u001b[0m\u001b[0;34m\"銷貨單價\"\u001b[0m\u001b[0;34m]\u001b[0m \u001b[0;34m=\u001b[0m \u001b[0mbssc_sales\u001b[0m\u001b[0;34m[\u001b[0m\u001b[0;34m\"銷貨單價\"\u001b[0m\u001b[0;34m]\u001b[0m\u001b[0;34m.\u001b[0m\u001b[0mstr\u001b[0m\u001b[0;34m.\u001b[0m\u001b[0mreplace\u001b[0m\u001b[0;34m(\u001b[0m\u001b[0;34m\",\"\u001b[0m\u001b[0;34m,\u001b[0m \u001b[0;34m\"\"\u001b[0m\u001b[0;34m)\u001b[0m\u001b[0;34m\u001b[0m\u001b[0;34m\u001b[0m\u001b[0m\n\u001b[0m\u001b[1;32m      2\u001b[0m \u001b[0mag_sales\u001b[0m\u001b[0;34m[\u001b[0m\u001b[0;34m\"銷貨單價\"\u001b[0m\u001b[0;34m]\u001b[0m \u001b[0;34m=\u001b[0m \u001b[0mag_sales\u001b[0m\u001b[0;34m[\u001b[0m\u001b[0;34m\"銷貨單價\"\u001b[0m\u001b[0;34m]\u001b[0m\u001b[0;34m.\u001b[0m\u001b[0mstr\u001b[0m\u001b[0;34m.\u001b[0m\u001b[0mreplace\u001b[0m\u001b[0;34m(\u001b[0m\u001b[0;34m\",\"\u001b[0m\u001b[0;34m,\u001b[0m \u001b[0;34m\"\"\u001b[0m\u001b[0;34m)\u001b[0m\u001b[0;34m\u001b[0m\u001b[0;34m\u001b[0m\u001b[0m\n",
      "\u001b[0;32m/opt/anaconda3/lib/python3.8/site-packages/pandas/core/generic.py\u001b[0m in \u001b[0;36m__getattr__\u001b[0;34m(self, name)\u001b[0m\n\u001b[1;32m   5268\u001b[0m             \u001b[0;32mor\u001b[0m \u001b[0mname\u001b[0m \u001b[0;32min\u001b[0m \u001b[0mself\u001b[0m\u001b[0;34m.\u001b[0m\u001b[0m_accessors\u001b[0m\u001b[0;34m\u001b[0m\u001b[0;34m\u001b[0m\u001b[0m\n\u001b[1;32m   5269\u001b[0m         ):\n\u001b[0;32m-> 5270\u001b[0;31m             \u001b[0;32mreturn\u001b[0m \u001b[0mobject\u001b[0m\u001b[0;34m.\u001b[0m\u001b[0m__getattribute__\u001b[0m\u001b[0;34m(\u001b[0m\u001b[0mself\u001b[0m\u001b[0;34m,\u001b[0m \u001b[0mname\u001b[0m\u001b[0;34m)\u001b[0m\u001b[0;34m\u001b[0m\u001b[0;34m\u001b[0m\u001b[0m\n\u001b[0m\u001b[1;32m   5271\u001b[0m         \u001b[0;32melse\u001b[0m\u001b[0;34m:\u001b[0m\u001b[0;34m\u001b[0m\u001b[0;34m\u001b[0m\u001b[0m\n\u001b[1;32m   5272\u001b[0m             \u001b[0;32mif\u001b[0m \u001b[0mself\u001b[0m\u001b[0;34m.\u001b[0m\u001b[0m_info_axis\u001b[0m\u001b[0;34m.\u001b[0m\u001b[0m_can_hold_identifiers_and_holds_name\u001b[0m\u001b[0;34m(\u001b[0m\u001b[0mname\u001b[0m\u001b[0;34m)\u001b[0m\u001b[0;34m:\u001b[0m\u001b[0;34m\u001b[0m\u001b[0;34m\u001b[0m\u001b[0m\n",
      "\u001b[0;32m/opt/anaconda3/lib/python3.8/site-packages/pandas/core/accessor.py\u001b[0m in \u001b[0;36m__get__\u001b[0;34m(self, obj, cls)\u001b[0m\n\u001b[1;32m    185\u001b[0m             \u001b[0;31m# we're accessing the attribute of the class, i.e., Dataset.geo\u001b[0m\u001b[0;34m\u001b[0m\u001b[0;34m\u001b[0m\u001b[0;34m\u001b[0m\u001b[0m\n\u001b[1;32m    186\u001b[0m             \u001b[0;32mreturn\u001b[0m \u001b[0mself\u001b[0m\u001b[0;34m.\u001b[0m\u001b[0m_accessor\u001b[0m\u001b[0;34m\u001b[0m\u001b[0;34m\u001b[0m\u001b[0m\n\u001b[0;32m--> 187\u001b[0;31m         \u001b[0maccessor_obj\u001b[0m \u001b[0;34m=\u001b[0m \u001b[0mself\u001b[0m\u001b[0;34m.\u001b[0m\u001b[0m_accessor\u001b[0m\u001b[0;34m(\u001b[0m\u001b[0mobj\u001b[0m\u001b[0;34m)\u001b[0m\u001b[0;34m\u001b[0m\u001b[0;34m\u001b[0m\u001b[0m\n\u001b[0m\u001b[1;32m    188\u001b[0m         \u001b[0;31m# Replace the property with the accessor object. Inspired by:\u001b[0m\u001b[0;34m\u001b[0m\u001b[0;34m\u001b[0m\u001b[0;34m\u001b[0m\u001b[0m\n\u001b[1;32m    189\u001b[0m         \u001b[0;31m# http://www.pydanny.com/cached-property.html\u001b[0m\u001b[0;34m\u001b[0m\u001b[0;34m\u001b[0m\u001b[0;34m\u001b[0m\u001b[0m\n",
      "\u001b[0;32m/opt/anaconda3/lib/python3.8/site-packages/pandas/core/strings.py\u001b[0m in \u001b[0;36m__init__\u001b[0;34m(self, data)\u001b[0m\n\u001b[1;32m   2039\u001b[0m \u001b[0;34m\u001b[0m\u001b[0m\n\u001b[1;32m   2040\u001b[0m     \u001b[0;32mdef\u001b[0m \u001b[0m__init__\u001b[0m\u001b[0;34m(\u001b[0m\u001b[0mself\u001b[0m\u001b[0;34m,\u001b[0m \u001b[0mdata\u001b[0m\u001b[0;34m)\u001b[0m\u001b[0;34m:\u001b[0m\u001b[0;34m\u001b[0m\u001b[0;34m\u001b[0m\u001b[0m\n\u001b[0;32m-> 2041\u001b[0;31m         \u001b[0mself\u001b[0m\u001b[0;34m.\u001b[0m\u001b[0m_inferred_dtype\u001b[0m \u001b[0;34m=\u001b[0m \u001b[0mself\u001b[0m\u001b[0;34m.\u001b[0m\u001b[0m_validate\u001b[0m\u001b[0;34m(\u001b[0m\u001b[0mdata\u001b[0m\u001b[0;34m)\u001b[0m\u001b[0;34m\u001b[0m\u001b[0;34m\u001b[0m\u001b[0m\n\u001b[0m\u001b[1;32m   2042\u001b[0m         \u001b[0mself\u001b[0m\u001b[0;34m.\u001b[0m\u001b[0m_is_categorical\u001b[0m \u001b[0;34m=\u001b[0m \u001b[0mis_categorical_dtype\u001b[0m\u001b[0;34m(\u001b[0m\u001b[0mdata\u001b[0m\u001b[0;34m)\u001b[0m\u001b[0;34m\u001b[0m\u001b[0;34m\u001b[0m\u001b[0m\n\u001b[1;32m   2043\u001b[0m         \u001b[0mself\u001b[0m\u001b[0;34m.\u001b[0m\u001b[0m_is_string\u001b[0m \u001b[0;34m=\u001b[0m \u001b[0mdata\u001b[0m\u001b[0;34m.\u001b[0m\u001b[0mdtype\u001b[0m\u001b[0;34m.\u001b[0m\u001b[0mname\u001b[0m \u001b[0;34m==\u001b[0m \u001b[0;34m\"string\"\u001b[0m\u001b[0;34m\u001b[0m\u001b[0;34m\u001b[0m\u001b[0m\n",
      "\u001b[0;32m/opt/anaconda3/lib/python3.8/site-packages/pandas/core/strings.py\u001b[0m in \u001b[0;36m_validate\u001b[0;34m(data)\u001b[0m\n\u001b[1;32m   2096\u001b[0m \u001b[0;34m\u001b[0m\u001b[0m\n\u001b[1;32m   2097\u001b[0m         \u001b[0;32mif\u001b[0m \u001b[0minferred_dtype\u001b[0m \u001b[0;32mnot\u001b[0m \u001b[0;32min\u001b[0m \u001b[0mallowed_types\u001b[0m\u001b[0;34m:\u001b[0m\u001b[0;34m\u001b[0m\u001b[0;34m\u001b[0m\u001b[0m\n\u001b[0;32m-> 2098\u001b[0;31m             \u001b[0;32mraise\u001b[0m \u001b[0mAttributeError\u001b[0m\u001b[0;34m(\u001b[0m\u001b[0;34m\"Can only use .str accessor with string values!\"\u001b[0m\u001b[0;34m)\u001b[0m\u001b[0;34m\u001b[0m\u001b[0;34m\u001b[0m\u001b[0m\n\u001b[0m\u001b[1;32m   2099\u001b[0m         \u001b[0;32mreturn\u001b[0m \u001b[0minferred_dtype\u001b[0m\u001b[0;34m\u001b[0m\u001b[0;34m\u001b[0m\u001b[0m\n\u001b[1;32m   2100\u001b[0m \u001b[0;34m\u001b[0m\u001b[0m\n",
      "\u001b[0;31mAttributeError\u001b[0m: Can only use .str accessor with string values!"
     ]
    }
   ],
   "source": [
    "bssc_sales[\"銷貨單價\"] = bssc_sales[\"銷貨單價\"].str.replace(\",\", \"\")\n",
    "ag_sales[\"銷貨單價\"] = ag_sales[\"銷貨單價\"].str.replace(\",\", \"\")"
   ]
  },
  {
   "cell_type": "code",
   "execution_count": 47,
   "id": "f5e636b9-8516-4a65-a783-f39bfd049ef7",
   "metadata": {},
   "outputs": [],
   "source": [
    "type_keys = ['實際出貨日', '訂單單號', '訂單項次', '買方', '物料', '物料說明', '國別', '銷售數量', '銷貨單價']\n",
    "type_values = [str, str, str, str, str, str, str, int, int]\n",
    "type_dict = dict(zip(type_keys, type_values))"
   ]
  },
  {
   "cell_type": "code",
   "execution_count": 48,
   "id": "12a374a5-4c7b-4b23-873e-41f1a9fabb82",
   "metadata": {},
   "outputs": [],
   "source": [
    "bssc_sales = bssc_sales.astype(type_dict)\n",
    "ag_sales = ag_sales.astype(type_dict)"
   ]
  },
  {
   "cell_type": "code",
   "execution_count": 49,
   "id": "52e947d6-fce4-4cb1-92ec-7c741fd54eec",
   "metadata": {},
   "outputs": [],
   "source": [
    "combined_sales = pd.concat([bssc_sales, ag_sales])"
   ]
  },
  {
   "cell_type": "code",
   "execution_count": 50,
   "id": "f51a22b5-ef25-47d5-9481-7e5b7b5d343b",
   "metadata": {},
   "outputs": [],
   "source": [
    "combined_sales[\"實際出貨日\"] = pd.to_datetime(combined_sales[\"實際出貨日\"], yearfirst=True)"
   ]
  },
  {
   "cell_type": "code",
   "execution_count": 51,
   "id": "0973a9ff-eef0-4703-a754-1b3ae2dae1fd",
   "metadata": {},
   "outputs": [],
   "source": [
    "# combined_sales[\"實際出貨日\"].dt.quarter"
   ]
  },
  {
   "cell_type": "code",
   "execution_count": 52,
   "id": "3106208c-ec84-4c1e-a1b3-f9bafb332bda",
   "metadata": {},
   "outputs": [],
   "source": [
    "combined_sales[\"年份\"] = combined_sales[\"實際出貨日\"].dt.year.astype(str)\n",
    "combined_sales[\"日期\"] = combined_sales[\"實際出貨日\"].dt.date\n",
    "combined_sales[\"月份\"] = combined_sales[\"實際出貨日\"].dt.month_name()"
   ]
  },
  {
   "cell_type": "code",
   "execution_count": 53,
   "id": "66d0e11a-f8cd-4d8f-a476-53178ac40a81",
   "metadata": {},
   "outputs": [],
   "source": [
    "keys = [\"買方\", \"訂單單號\", \"訂單項次\", \"實際出貨日\"]"
   ]
  },
  {
   "cell_type": "code",
   "execution_count": 54,
   "id": "63c72053-8932-451e-a955-e08f0edc0fed",
   "metadata": {},
   "outputs": [],
   "source": [
    "combined_sales[\"Tire Types\"] = combined_sales[\"物料\"].map(lambda x: \"TBR\" if x[:3] == \"TBR\" else \"LSR2\")"
   ]
  },
  {
   "cell_type": "code",
   "execution_count": 55,
   "id": "fc1654cc-7816-4c6d-8df7-81f5112eb943",
   "metadata": {},
   "outputs": [],
   "source": [
    "# client_name_dict = dict(zip(category_table[\"客戶代號\"], category_table[\"客戶\"]))\n",
    "# channel_dict = dict(zip(category_table[\"客戶代號\"], category_table[\"大分類\"]))\n",
    "# category_dict = dict(zip(category_table[\"客戶代號\"], category_table[\"大通路\"]))\n",
    "# group_dict = dict(zip(category_table[\"客戶代號\"], category_table[\"小通路\"]))\n",
    "# area_dict = dict(zip(category_table[\"客戶代號\"], category_table[\"區域\"]))"
   ]
  },
  {
   "cell_type": "code",
   "execution_count": 56,
   "id": "c6060033-b0a7-416d-8801-929c377d1884",
   "metadata": {},
   "outputs": [],
   "source": [
    "# combined_sales[\"客戶名稱\"] = combined_sales[\"買方\"].map(client_name_dict)\n",
    "# combined_sales[\"大分類\"] = combined_sales[\"買方\"].map(channel_dict)\n",
    "# combined_sales[\"大通路\"] = combined_sales[\"買方\"].map(category_dict)\n",
    "# combined_sales[\"小通路\"] = combined_sales[\"買方\"].map(group_dict)\n",
    "# combined_sales[\"區域\"] = combined_sales[\"買方\"].map(area_dict)"
   ]
  },
  {
   "cell_type": "code",
   "execution_count": 57,
   "id": "b631e89d-7312-4f61-a31b-1def9c34b672",
   "metadata": {},
   "outputs": [],
   "source": [
    "combined_sales = combined_sales.drop_duplicates()"
   ]
  },
  {
   "cell_type": "markdown",
   "id": "5562658b-9ad8-4eaf-abe8-088815d2e85a",
   "metadata": {},
   "source": [
    "## 建立Atoti Session"
   ]
  },
  {
   "cell_type": "code",
   "execution_count": 245,
   "id": "74aea1de-2281-4906-b009-1e72f192e8c9",
   "metadata": {},
   "outputs": [],
   "source": [
    "test = pd.read_clipboard()"
   ]
  },
  {
   "cell_type": "code",
   "execution_count": 246,
   "id": "033a2892-5feb-4259-a7a6-32bd03f97319",
   "metadata": {},
   "outputs": [],
   "source": [
    "test = test.astype({\"Year\": str})"
   ]
  },
  {
   "cell_type": "code",
   "execution_count": 247,
   "id": "2424a161-eb86-4094-9b2d-96ea087a65c4",
   "metadata": {},
   "outputs": [
    {
     "name": "stderr",
     "output_type": "stream",
     "text": [
      "/opt/anaconda3/lib/python3.8/site-packages/atoti/_create_session.py:16: FutureWarning: Creating sessions with `create_session()` is deprecated, use `Session()` directly instead.\n",
      "  deprecated(\n",
      "Deleting existing \"Unnamed\" session to create the new one.\n"
     ]
    }
   ],
   "source": [
    "# n_session = tt.create_session(config={\"user_content_storage\": \"./atoti_pages\", \"port\": 12345})\n",
    "n_session = tt.create_session()"
   ]
  },
  {
   "cell_type": "markdown",
   "id": "38d8e9e1-2fa8-4376-b4d4-28777685e1f7",
   "metadata": {},
   "source": [
    "- 建立銷售實績Table(From SAP)\n",
    "- 建立PCODE對照表\n",
    "- 建立新價格表\n",
    "- 建立22OB表格\n",
    "- 建立2021實績表格"
   ]
  },
  {
   "cell_type": "code",
   "execution_count": 248,
   "id": "d412cd32-9ca4-4636-9e5c-c5e49e75b34b",
   "metadata": {},
   "outputs": [],
   "source": [
    "root = n_session.read_pandas(test, keys=[\"Tire Types\", \"類型\", \"Year\", \"Month\"], table_name=\"Root\", types={\"Year\": tt.type.STRING})"
   ]
  },
  {
   "cell_type": "code",
   "execution_count": 249,
   "id": "1d990f84-b30f-40be-94d8-35e20d5d3aab",
   "metadata": {},
   "outputs": [],
   "source": [
    "combined_sales[\"類型\"] = \"實績\""
   ]
  },
  {
   "cell_type": "code",
   "execution_count": 250,
   "id": "80127920-59b6-4105-86cd-408edb10bda2",
   "metadata": {},
   "outputs": [],
   "source": [
    "bssc = n_session.read_pandas(combined_sales, keys=[\"訂單單號\", \"訂單項次\"], table_name=\"TOTAL SALES\", types={\"年份\": tt.type.STRING})"
   ]
  },
  {
   "cell_type": "code",
   "execution_count": 251,
   "id": "4b7df0d7-a60a-4b92-a8af-b675fa4521a2",
   "metadata": {},
   "outputs": [],
   "source": [
    "pcode = n_session.read_pandas(pcode_table, keys=[\"PrCode\"], table_name=\"PCODE\")"
   ]
  },
  {
   "cell_type": "code",
   "execution_count": 252,
   "id": "56eef360-60c2-4c92-882d-3665a3ed4154",
   "metadata": {},
   "outputs": [],
   "source": [
    "category = n_session.read_pandas(category_table, keys=[\"客戶代號\"], table_name=\"CUSTOMER TABLE\")"
   ]
  },
  {
   "cell_type": "code",
   "execution_count": null,
   "id": "8302802c-c14e-4c59-882d-109d0234c4f6",
   "metadata": {},
   "outputs": [],
   "source": [
    "ob = n_session.read_pandas(new_ob, keys=[\"Tire Types\", \"Channel\", \"Group\", \"Month\"], table_name=\"22OB\")"
   ]
  },
  {
   "cell_type": "code",
   "execution_count": null,
   "id": "61d80df2-8c7c-4486-a5fc-ce4745736764",
   "metadata": {},
   "outputs": [],
   "source": [
    "sales_21 = n_session.read_pandas(sales_2021, keys=[\"Tire Types\", \"通路\", \"細分類\", \"Month\"], table_name=\"22 Sales\")"
   ]
  },
  {
   "cell_type": "code",
   "execution_count": 253,
   "id": "f4f61557-8c9f-425b-a0cd-e18ffe6a3cd3",
   "metadata": {},
   "outputs": [],
   "source": [
    "new_price = n_session.read_pandas(priceList, keys=[\"料號\"], table_name=\"New Price\")"
   ]
  },
  {
   "cell_type": "code",
   "execution_count": 254,
   "id": "93d590fc-3822-4ac1-81b8-a489bd75edae",
   "metadata": {},
   "outputs": [],
   "source": [
    "ob22[\"類型\"] = \"預算\""
   ]
  },
  {
   "cell_type": "code",
   "execution_count": 255,
   "id": "a4acfcd9-f98b-4125-ab1d-4a4ac8acaeb3",
   "metadata": {},
   "outputs": [],
   "source": [
    "ob22.columns = [\"輪胎類型\", \"大分類\", \"小通路\", \"Year\", \"Month\", \"Qty\", \"類型\"]"
   ]
  },
  {
   "cell_type": "code",
   "execution_count": 256,
   "id": "cd61bc5c-f0cd-4506-9652-ac10bec91098",
   "metadata": {},
   "outputs": [],
   "source": [
    "ob = n_session.read_pandas(ob22, keys=['輪胎類型', '大分類', '小通路', 'Year', 'Month', \"類型\"], table_name=\"22OB\")"
   ]
  },
  {
   "cell_type": "code",
   "execution_count": 257,
   "id": "ba8428cd-3433-462f-8e88-093103fe8912",
   "metadata": {},
   "outputs": [],
   "source": [
    "root.join(ob, mapping={\"Tire Types\": \"輪胎類型\", \"類型\": \"類型\", \"Year\": \"Year\", \"Month\": \"Month\"})\n",
    "root.join(bssc, mapping={\"Tire Types\": \"Tire Types\", \"類型\": \"類型\", \"Year\": \"年份\", \"Month\": \"月份\"})\n",
    "bssc.join(category, mapping={\"買方\": \"客戶代號\"})\n",
    "bssc.join(new_price, mapping={\"物料\": \"料號\"})\n",
    "new_price.join(pcode, mapping={\"料號\": \"PrCode\"})\n",
    "# category.join(ob, mapping={\"大分類\": \"大分類\", \"小通路\": \"小通路\"})"
   ]
  },
  {
   "cell_type": "markdown",
   "id": "0a1119ae-e814-457b-a841-df27cdacd411",
   "metadata": {
    "tags": []
   },
   "source": [
    "## 建立Cube魔方\n",
    "1. 建立Cube\n",
    "2. 建立Hierarchy, Levels, Measures"
   ]
  },
  {
   "cell_type": "code",
   "execution_count": 258,
   "id": "24101e36-3af1-4cc7-957d-839737de7222",
   "metadata": {},
   "outputs": [],
   "source": [
    "# new_cube = n_session.create_cube(bssc, \"BSSC SALES ANALYSIS\")\n",
    "new_cube = n_session.create_cube(root, \"BSSC SALES ANALYSIS\")"
   ]
  },
  {
   "cell_type": "code",
   "execution_count": 259,
   "id": "7f8c8c1a-0b8f-49a3-aa4e-dbce4ae921de",
   "metadata": {},
   "outputs": [
    {
     "data": {
      "image/svg+xml": [
       "<svg xmlns=\"http://www.w3.org/2000/svg\" xmlns:xlink=\"http://www.w3.org/1999/xlink\" width=\"1126px\" height=\"678px\" viewBox=\"0.00 0.00 1126.00 678.00\">\n",
       "<g id=\"graph0\" class=\"graph\" transform=\"scale(1.0 1.0) rotate(0) translate(4 674)\">\n",
       "<title>BSSC SALES ANALYSIS schema</title>\n",
       "<polygon fill=\"white\" stroke=\"transparent\" points=\"-4,4 -4,-674 1122,-674 1122,4 -4,4\"/>\n",
       "<!-- Root -->\n",
       "<g id=\"node1\" class=\"node\">\n",
       "<title>Root</title>\n",
       "<text text-anchor=\"start\" x=\"69.5\" y=\"-462.6\" font-family=\"-apple-system, BlinkMacSystemFont, 'Segoe UI', Helvetica, Arial, sans-serif, 'Apple Color Emoji', 'Segoe UI Emoji', 'Segoe UI Symbol'\" font-weight=\"bold\" font-size=\"13.00\">Root</text>\n",
       "<polygon fill=\"#f5f5f5\" stroke=\"transparent\" points=\"9.5,-429 9.5,-453 42.5,-453 42.5,-429 9.5,-429\"/>\n",
       "<text text-anchor=\"start\" x=\"14.5\" y=\"-438.6\" font-family=\"-apple-system, BlinkMacSystemFont, 'Segoe UI', Helvetica, Arial, sans-serif, 'Apple Color Emoji', 'Segoe UI Emoji', 'Segoe UI Symbol'\" font-weight=\"bold\" font-size=\"13.00\">key</text>\n",
       "<polygon fill=\"#f5f5f5\" stroke=\"transparent\" points=\"42.5,-429 42.5,-453 114.5,-453 114.5,-429 42.5,-429\"/>\n",
       "<text text-anchor=\"start\" x=\"47.5\" y=\"-437.6\" font-family=\"-apple-system, BlinkMacSystemFont, 'Segoe UI', Helvetica, Arial, sans-serif, 'Apple Color Emoji', 'Segoe UI Emoji', 'Segoe UI Symbol'\" font-size=\"13.00\">Tire Types</text>\n",
       "<polygon fill=\"#f5f5f5\" stroke=\"transparent\" points=\"114.5,-429 114.5,-453 160.5,-453 160.5,-429 114.5,-429\"/>\n",
       "<text text-anchor=\"start\" x=\"119.5\" y=\"-438.6\" font-family=\"-apple-system, BlinkMacSystemFont, 'Segoe UI', Helvetica, Arial, sans-serif, 'Apple Color Emoji', 'Segoe UI Emoji', 'Segoe UI Symbol'\" font-style=\"italic\" font-size=\"13.00\">String</text>\n",
       "<polygon fill=\"#ffffff\" stroke=\"transparent\" points=\"9.5,-405 9.5,-429 42.5,-429 42.5,-405 9.5,-405\"/>\n",
       "<text text-anchor=\"start\" x=\"14.5\" y=\"-414.6\" font-family=\"-apple-system, BlinkMacSystemFont, 'Segoe UI', Helvetica, Arial, sans-serif, 'Apple Color Emoji', 'Segoe UI Emoji', 'Segoe UI Symbol'\" font-weight=\"bold\" font-size=\"13.00\">key</text>\n",
       "<polygon fill=\"#ffffff\" stroke=\"transparent\" points=\"42.5,-405 42.5,-429 114.5,-429 114.5,-405 42.5,-405\"/>\n",
       "<text text-anchor=\"start\" x=\"47.5\" y=\"-413.6\" font-family=\"-apple-system, BlinkMacSystemFont, 'Segoe UI', Helvetica, Arial, sans-serif, 'Apple Color Emoji', 'Segoe UI Emoji', 'Segoe UI Symbol'\" font-size=\"13.00\">類型</text>\n",
       "<polygon fill=\"#ffffff\" stroke=\"transparent\" points=\"114.5,-405 114.5,-429 160.5,-429 160.5,-405 114.5,-405\"/>\n",
       "<text text-anchor=\"start\" x=\"119.5\" y=\"-414.6\" font-family=\"-apple-system, BlinkMacSystemFont, 'Segoe UI', Helvetica, Arial, sans-serif, 'Apple Color Emoji', 'Segoe UI Emoji', 'Segoe UI Symbol'\" font-style=\"italic\" font-size=\"13.00\">String</text>\n",
       "<polygon fill=\"#f5f5f5\" stroke=\"transparent\" points=\"9.5,-381 9.5,-405 42.5,-405 42.5,-381 9.5,-381\"/>\n",
       "<text text-anchor=\"start\" x=\"14.5\" y=\"-390.6\" font-family=\"-apple-system, BlinkMacSystemFont, 'Segoe UI', Helvetica, Arial, sans-serif, 'Apple Color Emoji', 'Segoe UI Emoji', 'Segoe UI Symbol'\" font-weight=\"bold\" font-size=\"13.00\">key</text>\n",
       "<polygon fill=\"#f5f5f5\" stroke=\"transparent\" points=\"42.5,-381 42.5,-405 114.5,-405 114.5,-381 42.5,-381\"/>\n",
       "<text text-anchor=\"start\" x=\"47.5\" y=\"-389.6\" font-family=\"-apple-system, BlinkMacSystemFont, 'Segoe UI', Helvetica, Arial, sans-serif, 'Apple Color Emoji', 'Segoe UI Emoji', 'Segoe UI Symbol'\" font-size=\"13.00\">Year</text>\n",
       "<polygon fill=\"#f5f5f5\" stroke=\"transparent\" points=\"114.5,-381 114.5,-405 160.5,-405 160.5,-381 114.5,-381\"/>\n",
       "<text text-anchor=\"start\" x=\"119.5\" y=\"-390.6\" font-family=\"-apple-system, BlinkMacSystemFont, 'Segoe UI', Helvetica, Arial, sans-serif, 'Apple Color Emoji', 'Segoe UI Emoji', 'Segoe UI Symbol'\" font-style=\"italic\" font-size=\"13.00\">String</text>\n",
       "<polygon fill=\"#ffffff\" stroke=\"transparent\" points=\"9.5,-357 9.5,-381 42.5,-381 42.5,-357 9.5,-357\"/>\n",
       "<text text-anchor=\"start\" x=\"14.5\" y=\"-366.6\" font-family=\"-apple-system, BlinkMacSystemFont, 'Segoe UI', Helvetica, Arial, sans-serif, 'Apple Color Emoji', 'Segoe UI Emoji', 'Segoe UI Symbol'\" font-weight=\"bold\" font-size=\"13.00\">key</text>\n",
       "<polygon fill=\"#ffffff\" stroke=\"transparent\" points=\"42.5,-357 42.5,-381 114.5,-381 114.5,-357 42.5,-357\"/>\n",
       "<text text-anchor=\"start\" x=\"47.5\" y=\"-365.6\" font-family=\"-apple-system, BlinkMacSystemFont, 'Segoe UI', Helvetica, Arial, sans-serif, 'Apple Color Emoji', 'Segoe UI Emoji', 'Segoe UI Symbol'\" font-size=\"13.00\">Month</text>\n",
       "<polygon fill=\"#ffffff\" stroke=\"transparent\" points=\"114.5,-357 114.5,-381 160.5,-381 160.5,-357 114.5,-357\"/>\n",
       "<text text-anchor=\"start\" x=\"119.5\" y=\"-366.6\" font-family=\"-apple-system, BlinkMacSystemFont, 'Segoe UI', Helvetica, Arial, sans-serif, 'Apple Color Emoji', 'Segoe UI Emoji', 'Segoe UI Symbol'\" font-style=\"italic\" font-size=\"13.00\">String</text>\n",
       "<polygon fill=\"none\" stroke=\"black\" points=\"8,-356 8,-478 161,-478 161,-356 8,-356\"/>\n",
       "</g>\n",
       "<!-- 22OB -->\n",
       "<g id=\"node2\" class=\"node\">\n",
       "<title>22OB</title>\n",
       "<text text-anchor=\"start\" x=\"429.5\" y=\"-650.6\" font-family=\"-apple-system, BlinkMacSystemFont, 'Segoe UI', Helvetica, Arial, sans-serif, 'Apple Color Emoji', 'Segoe UI Emoji', 'Segoe UI Symbol'\" font-weight=\"bold\" font-size=\"13.00\">22OB</text>\n",
       "<polygon fill=\"#f5f5f5\" stroke=\"transparent\" points=\"374,-617 374,-641 407,-641 407,-617 374,-617\"/>\n",
       "<text text-anchor=\"start\" x=\"379\" y=\"-626.6\" font-family=\"-apple-system, BlinkMacSystemFont, 'Segoe UI', Helvetica, Arial, sans-serif, 'Apple Color Emoji', 'Segoe UI Emoji', 'Segoe UI Symbol'\" font-weight=\"bold\" font-size=\"13.00\">key</text>\n",
       "<polygon fill=\"#f5f5f5\" stroke=\"transparent\" points=\"407,-617 407,-641 469,-641 469,-617 407,-617\"/>\n",
       "<text text-anchor=\"start\" x=\"412\" y=\"-625.6\" font-family=\"-apple-system, BlinkMacSystemFont, 'Segoe UI', Helvetica, Arial, sans-serif, 'Apple Color Emoji', 'Segoe UI Emoji', 'Segoe UI Symbol'\" font-size=\"13.00\">輪胎類型</text>\n",
       "<polygon fill=\"#f5f5f5\" stroke=\"transparent\" points=\"469,-617 469,-641 520,-641 520,-617 469,-617\"/>\n",
       "<text text-anchor=\"start\" x=\"479\" y=\"-626.6\" font-family=\"-apple-system, BlinkMacSystemFont, 'Segoe UI', Helvetica, Arial, sans-serif, 'Apple Color Emoji', 'Segoe UI Emoji', 'Segoe UI Symbol'\" font-style=\"italic\" font-size=\"13.00\">String</text>\n",
       "<polygon fill=\"#ffffff\" stroke=\"transparent\" points=\"374,-593 374,-617 407,-617 407,-593 374,-593\"/>\n",
       "<text text-anchor=\"start\" x=\"379\" y=\"-602.6\" font-family=\"-apple-system, BlinkMacSystemFont, 'Segoe UI', Helvetica, Arial, sans-serif, 'Apple Color Emoji', 'Segoe UI Emoji', 'Segoe UI Symbol'\" font-weight=\"bold\" font-size=\"13.00\">key</text>\n",
       "<polygon fill=\"#ffffff\" stroke=\"transparent\" points=\"407,-593 407,-617 469,-617 469,-593 407,-593\"/>\n",
       "<text text-anchor=\"start\" x=\"412\" y=\"-601.6\" font-family=\"-apple-system, BlinkMacSystemFont, 'Segoe UI', Helvetica, Arial, sans-serif, 'Apple Color Emoji', 'Segoe UI Emoji', 'Segoe UI Symbol'\" font-size=\"13.00\">大分類</text>\n",
       "<polygon fill=\"#ffffff\" stroke=\"transparent\" points=\"469,-593 469,-617 520,-617 520,-593 469,-593\"/>\n",
       "<text text-anchor=\"start\" x=\"479\" y=\"-602.6\" font-family=\"-apple-system, BlinkMacSystemFont, 'Segoe UI', Helvetica, Arial, sans-serif, 'Apple Color Emoji', 'Segoe UI Emoji', 'Segoe UI Symbol'\" font-style=\"italic\" font-size=\"13.00\">String</text>\n",
       "<polygon fill=\"#f5f5f5\" stroke=\"transparent\" points=\"374,-569 374,-593 407,-593 407,-569 374,-569\"/>\n",
       "<text text-anchor=\"start\" x=\"379\" y=\"-578.6\" font-family=\"-apple-system, BlinkMacSystemFont, 'Segoe UI', Helvetica, Arial, sans-serif, 'Apple Color Emoji', 'Segoe UI Emoji', 'Segoe UI Symbol'\" font-weight=\"bold\" font-size=\"13.00\">key</text>\n",
       "<polygon fill=\"#f5f5f5\" stroke=\"transparent\" points=\"407,-569 407,-593 469,-593 469,-569 407,-569\"/>\n",
       "<text text-anchor=\"start\" x=\"412\" y=\"-577.6\" font-family=\"-apple-system, BlinkMacSystemFont, 'Segoe UI', Helvetica, Arial, sans-serif, 'Apple Color Emoji', 'Segoe UI Emoji', 'Segoe UI Symbol'\" font-size=\"13.00\">小通路</text>\n",
       "<polygon fill=\"#f5f5f5\" stroke=\"transparent\" points=\"469,-569 469,-593 520,-593 520,-569 469,-569\"/>\n",
       "<text text-anchor=\"start\" x=\"479\" y=\"-578.6\" font-family=\"-apple-system, BlinkMacSystemFont, 'Segoe UI', Helvetica, Arial, sans-serif, 'Apple Color Emoji', 'Segoe UI Emoji', 'Segoe UI Symbol'\" font-style=\"italic\" font-size=\"13.00\">String</text>\n",
       "<polygon fill=\"#ffffff\" stroke=\"transparent\" points=\"374,-545 374,-569 407,-569 407,-545 374,-545\"/>\n",
       "<text text-anchor=\"start\" x=\"379\" y=\"-554.6\" font-family=\"-apple-system, BlinkMacSystemFont, 'Segoe UI', Helvetica, Arial, sans-serif, 'Apple Color Emoji', 'Segoe UI Emoji', 'Segoe UI Symbol'\" font-weight=\"bold\" font-size=\"13.00\">key</text>\n",
       "<polygon fill=\"#ffffff\" stroke=\"transparent\" points=\"407,-545 407,-569 469,-569 469,-545 407,-545\"/>\n",
       "<text text-anchor=\"start\" x=\"412\" y=\"-553.6\" font-family=\"-apple-system, BlinkMacSystemFont, 'Segoe UI', Helvetica, Arial, sans-serif, 'Apple Color Emoji', 'Segoe UI Emoji', 'Segoe UI Symbol'\" font-size=\"13.00\">Year</text>\n",
       "<polygon fill=\"#ffffff\" stroke=\"transparent\" points=\"469,-545 469,-569 520,-569 520,-545 469,-545\"/>\n",
       "<text text-anchor=\"start\" x=\"479\" y=\"-554.6\" font-family=\"-apple-system, BlinkMacSystemFont, 'Segoe UI', Helvetica, Arial, sans-serif, 'Apple Color Emoji', 'Segoe UI Emoji', 'Segoe UI Symbol'\" font-style=\"italic\" font-size=\"13.00\">String</text>\n",
       "<polygon fill=\"#f5f5f5\" stroke=\"transparent\" points=\"374,-521 374,-545 407,-545 407,-521 374,-521\"/>\n",
       "<text text-anchor=\"start\" x=\"379\" y=\"-530.6\" font-family=\"-apple-system, BlinkMacSystemFont, 'Segoe UI', Helvetica, Arial, sans-serif, 'Apple Color Emoji', 'Segoe UI Emoji', 'Segoe UI Symbol'\" font-weight=\"bold\" font-size=\"13.00\">key</text>\n",
       "<polygon fill=\"#f5f5f5\" stroke=\"transparent\" points=\"407,-521 407,-545 469,-545 469,-521 407,-521\"/>\n",
       "<text text-anchor=\"start\" x=\"412\" y=\"-529.6\" font-family=\"-apple-system, BlinkMacSystemFont, 'Segoe UI', Helvetica, Arial, sans-serif, 'Apple Color Emoji', 'Segoe UI Emoji', 'Segoe UI Symbol'\" font-size=\"13.00\">Month</text>\n",
       "<polygon fill=\"#f5f5f5\" stroke=\"transparent\" points=\"469,-521 469,-545 520,-545 520,-521 469,-521\"/>\n",
       "<text text-anchor=\"start\" x=\"479\" y=\"-530.6\" font-family=\"-apple-system, BlinkMacSystemFont, 'Segoe UI', Helvetica, Arial, sans-serif, 'Apple Color Emoji', 'Segoe UI Emoji', 'Segoe UI Symbol'\" font-style=\"italic\" font-size=\"13.00\">String</text>\n",
       "<polygon fill=\"#ffffff\" stroke=\"transparent\" points=\"374,-497 374,-521 407,-521 407,-497 374,-497\"/>\n",
       "<polygon fill=\"#ffffff\" stroke=\"transparent\" points=\"407,-497 407,-521 469,-521 469,-497 407,-497\"/>\n",
       "<text text-anchor=\"start\" x=\"412\" y=\"-505.6\" font-family=\"-apple-system, BlinkMacSystemFont, 'Segoe UI', Helvetica, Arial, sans-serif, 'Apple Color Emoji', 'Segoe UI Emoji', 'Segoe UI Symbol'\" font-size=\"13.00\">Qty</text>\n",
       "<polygon fill=\"#ffffff\" stroke=\"transparent\" points=\"469,-497 469,-521 520,-521 520,-497 469,-497\"/>\n",
       "<text text-anchor=\"start\" x=\"474\" y=\"-506.6\" font-family=\"-apple-system, BlinkMacSystemFont, 'Segoe UI', Helvetica, Arial, sans-serif, 'Apple Color Emoji', 'Segoe UI Emoji', 'Segoe UI Symbol'\" font-style=\"italic\" font-size=\"13.00\">double</text>\n",
       "<polygon fill=\"#f5f5f5\" stroke=\"transparent\" points=\"374,-473 374,-497 407,-497 407,-473 374,-473\"/>\n",
       "<text text-anchor=\"start\" x=\"379\" y=\"-482.6\" font-family=\"-apple-system, BlinkMacSystemFont, 'Segoe UI', Helvetica, Arial, sans-serif, 'Apple Color Emoji', 'Segoe UI Emoji', 'Segoe UI Symbol'\" font-weight=\"bold\" font-size=\"13.00\">key</text>\n",
       "<polygon fill=\"#f5f5f5\" stroke=\"transparent\" points=\"407,-473 407,-497 469,-497 469,-473 407,-473\"/>\n",
       "<text text-anchor=\"start\" x=\"412\" y=\"-481.6\" font-family=\"-apple-system, BlinkMacSystemFont, 'Segoe UI', Helvetica, Arial, sans-serif, 'Apple Color Emoji', 'Segoe UI Emoji', 'Segoe UI Symbol'\" font-size=\"13.00\">類型</text>\n",
       "<polygon fill=\"#f5f5f5\" stroke=\"transparent\" points=\"469,-473 469,-497 520,-497 520,-473 469,-473\"/>\n",
       "<text text-anchor=\"start\" x=\"479\" y=\"-482.6\" font-family=\"-apple-system, BlinkMacSystemFont, 'Segoe UI', Helvetica, Arial, sans-serif, 'Apple Color Emoji', 'Segoe UI Emoji', 'Segoe UI Symbol'\" font-style=\"italic\" font-size=\"13.00\">String</text>\n",
       "<polygon fill=\"none\" stroke=\"black\" points=\"373,-472 373,-666 521,-666 521,-472 373,-472\"/>\n",
       "</g>\n",
       "<!-- Root&#45;&gt;22OB -->\n",
       "<g id=\"edge2\" class=\"edge\">\n",
       "<title>Root-&gt;22OB</title>\n",
       "<path fill=\"none\" stroke=\"black\" stroke-dasharray=\"5,2\" d=\"M169.11,-452.25C224.87,-475.76 298.15,-506.66 355.31,-530.76\"/>\n",
       "<polygon fill=\"black\" stroke=\"black\" points=\"354.13,-534.06 364.7,-534.72 356.85,-527.61 354.13,-534.06\"/>\n",
       "<text text-anchor=\"middle\" x=\"259\" y=\"-564.6\" font-family=\"-apple-system, BlinkMacSystemFont, 'Segoe UI', Helvetica, Arial, sans-serif, 'Apple Color Emoji', 'Segoe UI Emoji', 'Segoe UI Symbol'\" font-size=\"13.00\">Tire Types → 輪胎類型</text>\n",
       "<text text-anchor=\"middle\" x=\"259\" y=\"-550.6\" font-family=\"-apple-system, BlinkMacSystemFont, 'Segoe UI', Helvetica, Arial, sans-serif, 'Apple Color Emoji', 'Segoe UI Emoji', 'Segoe UI Symbol'\" font-size=\"13.00\">類型 → 類型</text>\n",
       "<text text-anchor=\"middle\" x=\"259\" y=\"-536.6\" font-family=\"-apple-system, BlinkMacSystemFont, 'Segoe UI', Helvetica, Arial, sans-serif, 'Apple Color Emoji', 'Segoe UI Emoji', 'Segoe UI Symbol'\" font-size=\"13.00\">Year → Year</text>\n",
       "<text text-anchor=\"middle\" x=\"259\" y=\"-522.6\" font-family=\"-apple-system, BlinkMacSystemFont, 'Segoe UI', Helvetica, Arial, sans-serif, 'Apple Color Emoji', 'Segoe UI Emoji', 'Segoe UI Symbol'\" font-size=\"13.00\">Month → Month</text>\n",
       "</g>\n",
       "<!-- TOTAL SALES -->\n",
       "<g id=\"node3\" class=\"node\">\n",
       "<title>TOTAL SALES</title>\n",
       "<text text-anchor=\"start\" x=\"401.5\" y=\"-430.6\" font-family=\"-apple-system, BlinkMacSystemFont, 'Segoe UI', Helvetica, Arial, sans-serif, 'Apple Color Emoji', 'Segoe UI Emoji', 'Segoe UI Symbol'\" font-weight=\"bold\" font-size=\"13.00\">TOTAL SALES</text>\n",
       "<polygon fill=\"#f5f5f5\" stroke=\"transparent\" points=\"358,-397 358,-421 391,-421 391,-397 358,-397\"/>\n",
       "<polygon fill=\"#f5f5f5\" stroke=\"transparent\" points=\"391,-397 391,-421 465,-421 465,-397 391,-397\"/>\n",
       "<text text-anchor=\"start\" x=\"396\" y=\"-405.6\" font-family=\"-apple-system, BlinkMacSystemFont, 'Segoe UI', Helvetica, Arial, sans-serif, 'Apple Color Emoji', 'Segoe UI Emoji', 'Segoe UI Symbol'\" font-size=\"13.00\">實際出貨日</text>\n",
       "<polygon fill=\"#f5f5f5\" stroke=\"transparent\" points=\"465,-397 465,-421 536,-421 536,-397 465,-397\"/>\n",
       "<text text-anchor=\"start\" x=\"470\" y=\"-406.6\" font-family=\"-apple-system, BlinkMacSystemFont, 'Segoe UI', Helvetica, Arial, sans-serif, 'Apple Color Emoji', 'Segoe UI Emoji', 'Segoe UI Symbol'\" font-style=\"italic\" font-size=\"13.00\">LocalDate</text>\n",
       "<polygon fill=\"#ffffff\" stroke=\"transparent\" points=\"358,-373 358,-397 391,-397 391,-373 358,-373\"/>\n",
       "<text text-anchor=\"start\" x=\"363\" y=\"-382.6\" font-family=\"-apple-system, BlinkMacSystemFont, 'Segoe UI', Helvetica, Arial, sans-serif, 'Apple Color Emoji', 'Segoe UI Emoji', 'Segoe UI Symbol'\" font-weight=\"bold\" font-size=\"13.00\">key</text>\n",
       "<polygon fill=\"#ffffff\" stroke=\"transparent\" points=\"391,-373 391,-397 465,-397 465,-373 391,-373\"/>\n",
       "<text text-anchor=\"start\" x=\"396\" y=\"-381.6\" font-family=\"-apple-system, BlinkMacSystemFont, 'Segoe UI', Helvetica, Arial, sans-serif, 'Apple Color Emoji', 'Segoe UI Emoji', 'Segoe UI Symbol'\" font-size=\"13.00\">訂單單號</text>\n",
       "<polygon fill=\"#ffffff\" stroke=\"transparent\" points=\"465,-373 465,-397 536,-397 536,-373 465,-373\"/>\n",
       "<text text-anchor=\"start\" x=\"495\" y=\"-382.6\" font-family=\"-apple-system, BlinkMacSystemFont, 'Segoe UI', Helvetica, Arial, sans-serif, 'Apple Color Emoji', 'Segoe UI Emoji', 'Segoe UI Symbol'\" font-style=\"italic\" font-size=\"13.00\">String</text>\n",
       "<polygon fill=\"#f5f5f5\" stroke=\"transparent\" points=\"358,-349 358,-373 391,-373 391,-349 358,-349\"/>\n",
       "<text text-anchor=\"start\" x=\"363\" y=\"-358.6\" font-family=\"-apple-system, BlinkMacSystemFont, 'Segoe UI', Helvetica, Arial, sans-serif, 'Apple Color Emoji', 'Segoe UI Emoji', 'Segoe UI Symbol'\" font-weight=\"bold\" font-size=\"13.00\">key</text>\n",
       "<polygon fill=\"#f5f5f5\" stroke=\"transparent\" points=\"391,-349 391,-373 465,-373 465,-349 391,-349\"/>\n",
       "<text text-anchor=\"start\" x=\"396\" y=\"-357.6\" font-family=\"-apple-system, BlinkMacSystemFont, 'Segoe UI', Helvetica, Arial, sans-serif, 'Apple Color Emoji', 'Segoe UI Emoji', 'Segoe UI Symbol'\" font-size=\"13.00\">訂單項次</text>\n",
       "<polygon fill=\"#f5f5f5\" stroke=\"transparent\" points=\"465,-349 465,-373 536,-373 536,-349 465,-349\"/>\n",
       "<text text-anchor=\"start\" x=\"495\" y=\"-358.6\" font-family=\"-apple-system, BlinkMacSystemFont, 'Segoe UI', Helvetica, Arial, sans-serif, 'Apple Color Emoji', 'Segoe UI Emoji', 'Segoe UI Symbol'\" font-style=\"italic\" font-size=\"13.00\">String</text>\n",
       "<polygon fill=\"#ffffff\" stroke=\"transparent\" points=\"358,-325 358,-349 391,-349 391,-325 358,-325\"/>\n",
       "<polygon fill=\"#ffffff\" stroke=\"transparent\" points=\"391,-325 391,-349 465,-349 465,-325 391,-325\"/>\n",
       "<text text-anchor=\"start\" x=\"396\" y=\"-333.6\" font-family=\"-apple-system, BlinkMacSystemFont, 'Segoe UI', Helvetica, Arial, sans-serif, 'Apple Color Emoji', 'Segoe UI Emoji', 'Segoe UI Symbol'\" font-size=\"13.00\">買方</text>\n",
       "<polygon fill=\"#ffffff\" stroke=\"transparent\" points=\"465,-325 465,-349 536,-349 536,-325 465,-325\"/>\n",
       "<text text-anchor=\"start\" x=\"495\" y=\"-334.6\" font-family=\"-apple-system, BlinkMacSystemFont, 'Segoe UI', Helvetica, Arial, sans-serif, 'Apple Color Emoji', 'Segoe UI Emoji', 'Segoe UI Symbol'\" font-style=\"italic\" font-size=\"13.00\">String</text>\n",
       "<polygon fill=\"#f5f5f5\" stroke=\"transparent\" points=\"358,-301 358,-325 391,-325 391,-301 358,-301\"/>\n",
       "<polygon fill=\"#f5f5f5\" stroke=\"transparent\" points=\"391,-301 391,-325 465,-325 465,-301 391,-301\"/>\n",
       "<text text-anchor=\"start\" x=\"396\" y=\"-309.6\" font-family=\"-apple-system, BlinkMacSystemFont, 'Segoe UI', Helvetica, Arial, sans-serif, 'Apple Color Emoji', 'Segoe UI Emoji', 'Segoe UI Symbol'\" font-size=\"13.00\">物料</text>\n",
       "<polygon fill=\"#f5f5f5\" stroke=\"transparent\" points=\"465,-301 465,-325 536,-325 536,-301 465,-301\"/>\n",
       "<text text-anchor=\"start\" x=\"495\" y=\"-310.6\" font-family=\"-apple-system, BlinkMacSystemFont, 'Segoe UI', Helvetica, Arial, sans-serif, 'Apple Color Emoji', 'Segoe UI Emoji', 'Segoe UI Symbol'\" font-style=\"italic\" font-size=\"13.00\">String</text>\n",
       "<polygon fill=\"#ffffff\" stroke=\"transparent\" points=\"358,-277 358,-301 391,-301 391,-277 358,-277\"/>\n",
       "<polygon fill=\"#ffffff\" stroke=\"transparent\" points=\"391,-277 391,-301 465,-301 465,-277 391,-277\"/>\n",
       "<text text-anchor=\"start\" x=\"396\" y=\"-285.6\" font-family=\"-apple-system, BlinkMacSystemFont, 'Segoe UI', Helvetica, Arial, sans-serif, 'Apple Color Emoji', 'Segoe UI Emoji', 'Segoe UI Symbol'\" font-size=\"13.00\">物料說明</text>\n",
       "<polygon fill=\"#ffffff\" stroke=\"transparent\" points=\"465,-277 465,-301 536,-301 536,-277 465,-277\"/>\n",
       "<text text-anchor=\"start\" x=\"495\" y=\"-286.6\" font-family=\"-apple-system, BlinkMacSystemFont, 'Segoe UI', Helvetica, Arial, sans-serif, 'Apple Color Emoji', 'Segoe UI Emoji', 'Segoe UI Symbol'\" font-style=\"italic\" font-size=\"13.00\">String</text>\n",
       "<polygon fill=\"#f5f5f5\" stroke=\"transparent\" points=\"358,-253 358,-277 391,-277 391,-253 358,-253\"/>\n",
       "<polygon fill=\"#f5f5f5\" stroke=\"transparent\" points=\"391,-253 391,-277 465,-277 465,-253 391,-253\"/>\n",
       "<text text-anchor=\"start\" x=\"396\" y=\"-261.6\" font-family=\"-apple-system, BlinkMacSystemFont, 'Segoe UI', Helvetica, Arial, sans-serif, 'Apple Color Emoji', 'Segoe UI Emoji', 'Segoe UI Symbol'\" font-size=\"13.00\">國別</text>\n",
       "<polygon fill=\"#f5f5f5\" stroke=\"transparent\" points=\"465,-253 465,-277 536,-277 536,-253 465,-253\"/>\n",
       "<text text-anchor=\"start\" x=\"495\" y=\"-262.6\" font-family=\"-apple-system, BlinkMacSystemFont, 'Segoe UI', Helvetica, Arial, sans-serif, 'Apple Color Emoji', 'Segoe UI Emoji', 'Segoe UI Symbol'\" font-style=\"italic\" font-size=\"13.00\">String</text>\n",
       "<polygon fill=\"#ffffff\" stroke=\"transparent\" points=\"358,-229 358,-253 391,-253 391,-229 358,-229\"/>\n",
       "<polygon fill=\"#ffffff\" stroke=\"transparent\" points=\"391,-229 391,-253 465,-253 465,-229 391,-229\"/>\n",
       "<text text-anchor=\"start\" x=\"396\" y=\"-237.6\" font-family=\"-apple-system, BlinkMacSystemFont, 'Segoe UI', Helvetica, Arial, sans-serif, 'Apple Color Emoji', 'Segoe UI Emoji', 'Segoe UI Symbol'\" font-size=\"13.00\">銷售數量</text>\n",
       "<polygon fill=\"#ffffff\" stroke=\"transparent\" points=\"465,-229 465,-253 536,-253 536,-229 465,-229\"/>\n",
       "<text text-anchor=\"start\" x=\"505\" y=\"-238.6\" font-family=\"-apple-system, BlinkMacSystemFont, 'Segoe UI', Helvetica, Arial, sans-serif, 'Apple Color Emoji', 'Segoe UI Emoji', 'Segoe UI Symbol'\" font-style=\"italic\" font-size=\"13.00\">long</text>\n",
       "<polygon fill=\"#f5f5f5\" stroke=\"transparent\" points=\"358,-205 358,-229 391,-229 391,-205 358,-205\"/>\n",
       "<polygon fill=\"#f5f5f5\" stroke=\"transparent\" points=\"391,-205 391,-229 465,-229 465,-205 391,-205\"/>\n",
       "<text text-anchor=\"start\" x=\"396\" y=\"-213.6\" font-family=\"-apple-system, BlinkMacSystemFont, 'Segoe UI', Helvetica, Arial, sans-serif, 'Apple Color Emoji', 'Segoe UI Emoji', 'Segoe UI Symbol'\" font-size=\"13.00\">銷貨單價</text>\n",
       "<polygon fill=\"#f5f5f5\" stroke=\"transparent\" points=\"465,-205 465,-229 536,-229 536,-205 465,-205\"/>\n",
       "<text text-anchor=\"start\" x=\"505\" y=\"-214.6\" font-family=\"-apple-system, BlinkMacSystemFont, 'Segoe UI', Helvetica, Arial, sans-serif, 'Apple Color Emoji', 'Segoe UI Emoji', 'Segoe UI Symbol'\" font-style=\"italic\" font-size=\"13.00\">long</text>\n",
       "<polygon fill=\"#ffffff\" stroke=\"transparent\" points=\"358,-181 358,-205 391,-205 391,-181 358,-181\"/>\n",
       "<polygon fill=\"#ffffff\" stroke=\"transparent\" points=\"391,-181 391,-205 465,-205 465,-181 391,-181\"/>\n",
       "<text text-anchor=\"start\" x=\"396\" y=\"-189.6\" font-family=\"-apple-system, BlinkMacSystemFont, 'Segoe UI', Helvetica, Arial, sans-serif, 'Apple Color Emoji', 'Segoe UI Emoji', 'Segoe UI Symbol'\" font-size=\"13.00\">年份</text>\n",
       "<polygon fill=\"#ffffff\" stroke=\"transparent\" points=\"465,-181 465,-205 536,-205 536,-181 465,-181\"/>\n",
       "<text text-anchor=\"start\" x=\"495\" y=\"-190.6\" font-family=\"-apple-system, BlinkMacSystemFont, 'Segoe UI', Helvetica, Arial, sans-serif, 'Apple Color Emoji', 'Segoe UI Emoji', 'Segoe UI Symbol'\" font-style=\"italic\" font-size=\"13.00\">String</text>\n",
       "<polygon fill=\"#f5f5f5\" stroke=\"transparent\" points=\"358,-157 358,-181 391,-181 391,-157 358,-157\"/>\n",
       "<polygon fill=\"#f5f5f5\" stroke=\"transparent\" points=\"391,-157 391,-181 465,-181 465,-157 391,-157\"/>\n",
       "<text text-anchor=\"start\" x=\"396\" y=\"-165.6\" font-family=\"-apple-system, BlinkMacSystemFont, 'Segoe UI', Helvetica, Arial, sans-serif, 'Apple Color Emoji', 'Segoe UI Emoji', 'Segoe UI Symbol'\" font-size=\"13.00\">日期</text>\n",
       "<polygon fill=\"#f5f5f5\" stroke=\"transparent\" points=\"465,-157 465,-181 536,-181 536,-157 465,-157\"/>\n",
       "<text text-anchor=\"start\" x=\"470\" y=\"-166.6\" font-family=\"-apple-system, BlinkMacSystemFont, 'Segoe UI', Helvetica, Arial, sans-serif, 'Apple Color Emoji', 'Segoe UI Emoji', 'Segoe UI Symbol'\" font-style=\"italic\" font-size=\"13.00\">LocalDate</text>\n",
       "<polygon fill=\"#ffffff\" stroke=\"transparent\" points=\"358,-133 358,-157 391,-157 391,-133 358,-133\"/>\n",
       "<polygon fill=\"#ffffff\" stroke=\"transparent\" points=\"391,-133 391,-157 465,-157 465,-133 391,-133\"/>\n",
       "<text text-anchor=\"start\" x=\"396\" y=\"-141.6\" font-family=\"-apple-system, BlinkMacSystemFont, 'Segoe UI', Helvetica, Arial, sans-serif, 'Apple Color Emoji', 'Segoe UI Emoji', 'Segoe UI Symbol'\" font-size=\"13.00\">月份</text>\n",
       "<polygon fill=\"#ffffff\" stroke=\"transparent\" points=\"465,-133 465,-157 536,-157 536,-133 465,-133\"/>\n",
       "<text text-anchor=\"start\" x=\"495\" y=\"-142.6\" font-family=\"-apple-system, BlinkMacSystemFont, 'Segoe UI', Helvetica, Arial, sans-serif, 'Apple Color Emoji', 'Segoe UI Emoji', 'Segoe UI Symbol'\" font-style=\"italic\" font-size=\"13.00\">String</text>\n",
       "<polygon fill=\"#f5f5f5\" stroke=\"transparent\" points=\"358,-109 358,-133 391,-133 391,-109 358,-109\"/>\n",
       "<polygon fill=\"#f5f5f5\" stroke=\"transparent\" points=\"391,-109 391,-133 465,-133 465,-109 391,-109\"/>\n",
       "<text text-anchor=\"start\" x=\"396\" y=\"-117.6\" font-family=\"-apple-system, BlinkMacSystemFont, 'Segoe UI', Helvetica, Arial, sans-serif, 'Apple Color Emoji', 'Segoe UI Emoji', 'Segoe UI Symbol'\" font-size=\"13.00\">Tire Types</text>\n",
       "<polygon fill=\"#f5f5f5\" stroke=\"transparent\" points=\"465,-109 465,-133 536,-133 536,-109 465,-109\"/>\n",
       "<text text-anchor=\"start\" x=\"495\" y=\"-118.6\" font-family=\"-apple-system, BlinkMacSystemFont, 'Segoe UI', Helvetica, Arial, sans-serif, 'Apple Color Emoji', 'Segoe UI Emoji', 'Segoe UI Symbol'\" font-style=\"italic\" font-size=\"13.00\">String</text>\n",
       "<polygon fill=\"#ffffff\" stroke=\"transparent\" points=\"358,-85 358,-109 391,-109 391,-85 358,-85\"/>\n",
       "<polygon fill=\"#ffffff\" stroke=\"transparent\" points=\"391,-85 391,-109 465,-109 465,-85 391,-85\"/>\n",
       "<text text-anchor=\"start\" x=\"396\" y=\"-93.6\" font-family=\"-apple-system, BlinkMacSystemFont, 'Segoe UI', Helvetica, Arial, sans-serif, 'Apple Color Emoji', 'Segoe UI Emoji', 'Segoe UI Symbol'\" font-size=\"13.00\">類型</text>\n",
       "<polygon fill=\"#ffffff\" stroke=\"transparent\" points=\"465,-85 465,-109 536,-109 536,-85 465,-85\"/>\n",
       "<text text-anchor=\"start\" x=\"495\" y=\"-94.6\" font-family=\"-apple-system, BlinkMacSystemFont, 'Segoe UI', Helvetica, Arial, sans-serif, 'Apple Color Emoji', 'Segoe UI Emoji', 'Segoe UI Symbol'\" font-style=\"italic\" font-size=\"13.00\">String</text>\n",
       "<polygon fill=\"none\" stroke=\"black\" points=\"357,-84 357,-446 537,-446 537,-84 357,-84\"/>\n",
       "</g>\n",
       "<!-- Root&#45;&gt;TOTAL SALES -->\n",
       "<g id=\"edge1\" class=\"edge\">\n",
       "<title>Root-&gt;TOTAL SALES</title>\n",
       "<path fill=\"none\" stroke=\"black\" stroke-dasharray=\"5,2\" d=\"M169.11,-381.75C219.84,-360.36 285.07,-332.85 339.47,-309.92\"/>\n",
       "<polygon fill=\"black\" stroke=\"black\" points=\"340.95,-313.09 348.8,-305.98 338.23,-306.64 340.95,-313.09\"/>\n",
       "<text text-anchor=\"middle\" x=\"259\" y=\"-417.6\" font-family=\"-apple-system, BlinkMacSystemFont, 'Segoe UI', Helvetica, Arial, sans-serif, 'Apple Color Emoji', 'Segoe UI Emoji', 'Segoe UI Symbol'\" font-size=\"13.00\">Tire Types → Tire Types</text>\n",
       "<text text-anchor=\"middle\" x=\"259\" y=\"-403.6\" font-family=\"-apple-system, BlinkMacSystemFont, 'Segoe UI', Helvetica, Arial, sans-serif, 'Apple Color Emoji', 'Segoe UI Emoji', 'Segoe UI Symbol'\" font-size=\"13.00\">類型 → 類型</text>\n",
       "<text text-anchor=\"middle\" x=\"259\" y=\"-389.6\" font-family=\"-apple-system, BlinkMacSystemFont, 'Segoe UI', Helvetica, Arial, sans-serif, 'Apple Color Emoji', 'Segoe UI Emoji', 'Segoe UI Symbol'\" font-size=\"13.00\">Year → 年份</text>\n",
       "<text text-anchor=\"middle\" x=\"259\" y=\"-375.6\" font-family=\"-apple-system, BlinkMacSystemFont, 'Segoe UI', Helvetica, Arial, sans-serif, 'Apple Color Emoji', 'Segoe UI Emoji', 'Segoe UI Symbol'\" font-size=\"13.00\">Month → 月份</text>\n",
       "</g>\n",
       "<!-- CUSTOMER TABLE -->\n",
       "<g id=\"node4\" class=\"node\">\n",
       "<title>CUSTOMER TABLE</title>\n",
       "<text text-anchor=\"start\" x=\"696.5\" y=\"-474.6\" font-family=\"-apple-system, BlinkMacSystemFont, 'Segoe UI', Helvetica, Arial, sans-serif, 'Apple Color Emoji', 'Segoe UI Emoji', 'Segoe UI Symbol'\" font-weight=\"bold\" font-size=\"13.00\">CUSTOMER TABLE</text>\n",
       "<polygon fill=\"#f5f5f5\" stroke=\"transparent\" points=\"687.5,-441 687.5,-465 720.5,-465 720.5,-441 687.5,-441\"/>\n",
       "<text text-anchor=\"start\" x=\"692.5\" y=\"-450.6\" font-family=\"-apple-system, BlinkMacSystemFont, 'Segoe UI', Helvetica, Arial, sans-serif, 'Apple Color Emoji', 'Segoe UI Emoji', 'Segoe UI Symbol'\" font-weight=\"bold\" font-size=\"13.00\">key</text>\n",
       "<polygon fill=\"#f5f5f5\" stroke=\"transparent\" points=\"720.5,-441 720.5,-465 782.5,-465 782.5,-441 720.5,-441\"/>\n",
       "<text text-anchor=\"start\" x=\"725.5\" y=\"-449.6\" font-family=\"-apple-system, BlinkMacSystemFont, 'Segoe UI', Helvetica, Arial, sans-serif, 'Apple Color Emoji', 'Segoe UI Emoji', 'Segoe UI Symbol'\" font-size=\"13.00\">客戶代號</text>\n",
       "<polygon fill=\"#f5f5f5\" stroke=\"transparent\" points=\"782.5,-441 782.5,-465 828.5,-465 828.5,-441 782.5,-441\"/>\n",
       "<text text-anchor=\"start\" x=\"787.5\" y=\"-450.6\" font-family=\"-apple-system, BlinkMacSystemFont, 'Segoe UI', Helvetica, Arial, sans-serif, 'Apple Color Emoji', 'Segoe UI Emoji', 'Segoe UI Symbol'\" font-style=\"italic\" font-size=\"13.00\">String</text>\n",
       "<polygon fill=\"#ffffff\" stroke=\"transparent\" points=\"687.5,-417 687.5,-441 720.5,-441 720.5,-417 687.5,-417\"/>\n",
       "<polygon fill=\"#ffffff\" stroke=\"transparent\" points=\"720.5,-417 720.5,-441 782.5,-441 782.5,-417 720.5,-417\"/>\n",
       "<text text-anchor=\"start\" x=\"725.5\" y=\"-425.6\" font-family=\"-apple-system, BlinkMacSystemFont, 'Segoe UI', Helvetica, Arial, sans-serif, 'Apple Color Emoji', 'Segoe UI Emoji', 'Segoe UI Symbol'\" font-size=\"13.00\">客戶</text>\n",
       "<polygon fill=\"#ffffff\" stroke=\"transparent\" points=\"782.5,-417 782.5,-441 828.5,-441 828.5,-417 782.5,-417\"/>\n",
       "<text text-anchor=\"start\" x=\"787.5\" y=\"-426.6\" font-family=\"-apple-system, BlinkMacSystemFont, 'Segoe UI', Helvetica, Arial, sans-serif, 'Apple Color Emoji', 'Segoe UI Emoji', 'Segoe UI Symbol'\" font-style=\"italic\" font-size=\"13.00\">String</text>\n",
       "<polygon fill=\"#f5f5f5\" stroke=\"transparent\" points=\"687.5,-393 687.5,-417 720.5,-417 720.5,-393 687.5,-393\"/>\n",
       "<polygon fill=\"#f5f5f5\" stroke=\"transparent\" points=\"720.5,-393 720.5,-417 782.5,-417 782.5,-393 720.5,-393\"/>\n",
       "<text text-anchor=\"start\" x=\"725.5\" y=\"-401.6\" font-family=\"-apple-system, BlinkMacSystemFont, 'Segoe UI', Helvetica, Arial, sans-serif, 'Apple Color Emoji', 'Segoe UI Emoji', 'Segoe UI Symbol'\" font-size=\"13.00\">大分類</text>\n",
       "<polygon fill=\"#f5f5f5\" stroke=\"transparent\" points=\"782.5,-393 782.5,-417 828.5,-417 828.5,-393 782.5,-393\"/>\n",
       "<text text-anchor=\"start\" x=\"787.5\" y=\"-402.6\" font-family=\"-apple-system, BlinkMacSystemFont, 'Segoe UI', Helvetica, Arial, sans-serif, 'Apple Color Emoji', 'Segoe UI Emoji', 'Segoe UI Symbol'\" font-style=\"italic\" font-size=\"13.00\">String</text>\n",
       "<polygon fill=\"#ffffff\" stroke=\"transparent\" points=\"687.5,-369 687.5,-393 720.5,-393 720.5,-369 687.5,-369\"/>\n",
       "<polygon fill=\"#ffffff\" stroke=\"transparent\" points=\"720.5,-369 720.5,-393 782.5,-393 782.5,-369 720.5,-369\"/>\n",
       "<text text-anchor=\"start\" x=\"725.5\" y=\"-377.6\" font-family=\"-apple-system, BlinkMacSystemFont, 'Segoe UI', Helvetica, Arial, sans-serif, 'Apple Color Emoji', 'Segoe UI Emoji', 'Segoe UI Symbol'\" font-size=\"13.00\">大通路</text>\n",
       "<polygon fill=\"#ffffff\" stroke=\"transparent\" points=\"782.5,-369 782.5,-393 828.5,-393 828.5,-369 782.5,-369\"/>\n",
       "<text text-anchor=\"start\" x=\"787.5\" y=\"-378.6\" font-family=\"-apple-system, BlinkMacSystemFont, 'Segoe UI', Helvetica, Arial, sans-serif, 'Apple Color Emoji', 'Segoe UI Emoji', 'Segoe UI Symbol'\" font-style=\"italic\" font-size=\"13.00\">String</text>\n",
       "<polygon fill=\"#f5f5f5\" stroke=\"transparent\" points=\"687.5,-345 687.5,-369 720.5,-369 720.5,-345 687.5,-345\"/>\n",
       "<polygon fill=\"#f5f5f5\" stroke=\"transparent\" points=\"720.5,-345 720.5,-369 782.5,-369 782.5,-345 720.5,-345\"/>\n",
       "<text text-anchor=\"start\" x=\"725.5\" y=\"-353.6\" font-family=\"-apple-system, BlinkMacSystemFont, 'Segoe UI', Helvetica, Arial, sans-serif, 'Apple Color Emoji', 'Segoe UI Emoji', 'Segoe UI Symbol'\" font-size=\"13.00\">小通路</text>\n",
       "<polygon fill=\"#f5f5f5\" stroke=\"transparent\" points=\"782.5,-345 782.5,-369 828.5,-369 828.5,-345 782.5,-345\"/>\n",
       "<text text-anchor=\"start\" x=\"787.5\" y=\"-354.6\" font-family=\"-apple-system, BlinkMacSystemFont, 'Segoe UI', Helvetica, Arial, sans-serif, 'Apple Color Emoji', 'Segoe UI Emoji', 'Segoe UI Symbol'\" font-style=\"italic\" font-size=\"13.00\">String</text>\n",
       "<polygon fill=\"#ffffff\" stroke=\"transparent\" points=\"687.5,-321 687.5,-345 720.5,-345 720.5,-321 687.5,-321\"/>\n",
       "<polygon fill=\"#ffffff\" stroke=\"transparent\" points=\"720.5,-321 720.5,-345 782.5,-345 782.5,-321 720.5,-321\"/>\n",
       "<text text-anchor=\"start\" x=\"725.5\" y=\"-329.6\" font-family=\"-apple-system, BlinkMacSystemFont, 'Segoe UI', Helvetica, Arial, sans-serif, 'Apple Color Emoji', 'Segoe UI Emoji', 'Segoe UI Symbol'\" font-size=\"13.00\">區域</text>\n",
       "<polygon fill=\"#ffffff\" stroke=\"transparent\" points=\"782.5,-321 782.5,-345 828.5,-345 828.5,-321 782.5,-321\"/>\n",
       "<text text-anchor=\"start\" x=\"787.5\" y=\"-330.6\" font-family=\"-apple-system, BlinkMacSystemFont, 'Segoe UI', Helvetica, Arial, sans-serif, 'Apple Color Emoji', 'Segoe UI Emoji', 'Segoe UI Symbol'\" font-style=\"italic\" font-size=\"13.00\">String</text>\n",
       "<polygon fill=\"#f5f5f5\" stroke=\"transparent\" points=\"687.5,-297 687.5,-321 720.5,-321 720.5,-297 687.5,-297\"/>\n",
       "<polygon fill=\"#f5f5f5\" stroke=\"transparent\" points=\"720.5,-297 720.5,-321 782.5,-321 782.5,-297 720.5,-297\"/>\n",
       "<text text-anchor=\"start\" x=\"725.5\" y=\"-305.6\" font-family=\"-apple-system, BlinkMacSystemFont, 'Segoe UI', Helvetica, Arial, sans-serif, 'Apple Color Emoji', 'Segoe UI Emoji', 'Segoe UI Symbol'\" font-size=\"13.00\">營業所</text>\n",
       "<polygon fill=\"#f5f5f5\" stroke=\"transparent\" points=\"782.5,-297 782.5,-321 828.5,-321 828.5,-297 782.5,-297\"/>\n",
       "<text text-anchor=\"start\" x=\"787.5\" y=\"-306.6\" font-family=\"-apple-system, BlinkMacSystemFont, 'Segoe UI', Helvetica, Arial, sans-serif, 'Apple Color Emoji', 'Segoe UI Emoji', 'Segoe UI Symbol'\" font-style=\"italic\" font-size=\"13.00\">String</text>\n",
       "<polygon fill=\"none\" stroke=\"black\" points=\"686,-296 686,-490 829,-490 829,-296 686,-296\"/>\n",
       "</g>\n",
       "<!-- TOTAL SALES&#45;&gt;CUSTOMER TABLE -->\n",
       "<g id=\"edge4\" class=\"edge\">\n",
       "<title>TOTAL SALES-&gt;CUSTOMER TABLE</title>\n",
       "<path fill=\"none\" stroke=\"black\" d=\"M545.19,-305.32C584.59,-321.67 629.77,-340.42 668.22,-356.37\"/>\n",
       "<polygon fill=\"black\" stroke=\"black\" points=\"667.27,-359.76 677.84,-360.36 669.95,-353.3 667.27,-359.76\"/>\n",
       "<text text-anchor=\"middle\" x=\"611.5\" y=\"-354.6\" font-family=\"-apple-system, BlinkMacSystemFont, 'Segoe UI', Helvetica, Arial, sans-serif, 'Apple Color Emoji', 'Segoe UI Emoji', 'Segoe UI Symbol'\" font-size=\"13.00\">買方 → 客戶代號</text>\n",
       "</g>\n",
       "<!-- New Price -->\n",
       "<g id=\"node5\" class=\"node\">\n",
       "<title>New Price</title>\n",
       "<text text-anchor=\"start\" x=\"725.5\" y=\"-254.6\" font-family=\"-apple-system, BlinkMacSystemFont, 'Segoe UI', Helvetica, Arial, sans-serif, 'Apple Color Emoji', 'Segoe UI Emoji', 'Segoe UI Symbol'\" font-weight=\"bold\" font-size=\"13.00\">New Price</text>\n",
       "<polygon fill=\"#f5f5f5\" stroke=\"transparent\" points=\"693.5,-221 693.5,-245 726.5,-245 726.5,-221 693.5,-221\"/>\n",
       "<polygon fill=\"#f5f5f5\" stroke=\"transparent\" points=\"726.5,-221 726.5,-245 775.5,-245 775.5,-221 726.5,-221\"/>\n",
       "<text text-anchor=\"start\" x=\"731.5\" y=\"-229.6\" font-family=\"-apple-system, BlinkMacSystemFont, 'Segoe UI', Helvetica, Arial, sans-serif, 'Apple Color Emoji', 'Segoe UI Emoji', 'Segoe UI Symbol'\" font-size=\"13.00\">規格</text>\n",
       "<polygon fill=\"#f5f5f5\" stroke=\"transparent\" points=\"775.5,-221 775.5,-245 821.5,-245 821.5,-221 775.5,-221\"/>\n",
       "<text text-anchor=\"start\" x=\"780.5\" y=\"-230.6\" font-family=\"-apple-system, BlinkMacSystemFont, 'Segoe UI', Helvetica, Arial, sans-serif, 'Apple Color Emoji', 'Segoe UI Emoji', 'Segoe UI Symbol'\" font-style=\"italic\" font-size=\"13.00\">String</text>\n",
       "<polygon fill=\"#ffffff\" stroke=\"transparent\" points=\"693.5,-197 693.5,-221 726.5,-221 726.5,-197 693.5,-197\"/>\n",
       "<polygon fill=\"#ffffff\" stroke=\"transparent\" points=\"726.5,-197 726.5,-221 775.5,-221 775.5,-197 726.5,-197\"/>\n",
       "<text text-anchor=\"start\" x=\"731.5\" y=\"-205.6\" font-family=\"-apple-system, BlinkMacSystemFont, 'Segoe UI', Helvetica, Arial, sans-serif, 'Apple Color Emoji', 'Segoe UI Emoji', 'Segoe UI Symbol'\" font-size=\"13.00\">花紋</text>\n",
       "<polygon fill=\"#ffffff\" stroke=\"transparent\" points=\"775.5,-197 775.5,-221 821.5,-221 821.5,-197 775.5,-197\"/>\n",
       "<text text-anchor=\"start\" x=\"780.5\" y=\"-206.6\" font-family=\"-apple-system, BlinkMacSystemFont, 'Segoe UI', Helvetica, Arial, sans-serif, 'Apple Color Emoji', 'Segoe UI Emoji', 'Segoe UI Symbol'\" font-style=\"italic\" font-size=\"13.00\">String</text>\n",
       "<polygon fill=\"#f5f5f5\" stroke=\"transparent\" points=\"693.5,-173 693.5,-197 726.5,-197 726.5,-173 693.5,-173\"/>\n",
       "<polygon fill=\"#f5f5f5\" stroke=\"transparent\" points=\"726.5,-173 726.5,-197 775.5,-197 775.5,-173 726.5,-173\"/>\n",
       "<text text-anchor=\"start\" x=\"731.5\" y=\"-181.6\" font-family=\"-apple-system, BlinkMacSystemFont, 'Segoe UI', Helvetica, Arial, sans-serif, 'Apple Color Emoji', 'Segoe UI Emoji', 'Segoe UI Symbol'\" font-size=\"13.00\">ISO</text>\n",
       "<polygon fill=\"#f5f5f5\" stroke=\"transparent\" points=\"775.5,-173 775.5,-197 821.5,-197 821.5,-173 775.5,-173\"/>\n",
       "<text text-anchor=\"start\" x=\"780.5\" y=\"-182.6\" font-family=\"-apple-system, BlinkMacSystemFont, 'Segoe UI', Helvetica, Arial, sans-serif, 'Apple Color Emoji', 'Segoe UI Emoji', 'Segoe UI Symbol'\" font-style=\"italic\" font-size=\"13.00\">String</text>\n",
       "<polygon fill=\"#ffffff\" stroke=\"transparent\" points=\"693.5,-149 693.5,-173 726.5,-173 726.5,-149 693.5,-149\"/>\n",
       "<polygon fill=\"#ffffff\" stroke=\"transparent\" points=\"726.5,-149 726.5,-173 775.5,-173 775.5,-149 726.5,-149\"/>\n",
       "<text text-anchor=\"start\" x=\"731.5\" y=\"-157.6\" font-family=\"-apple-system, BlinkMacSystemFont, 'Segoe UI', Helvetica, Arial, sans-serif, 'Apple Color Emoji', 'Segoe UI Emoji', 'Segoe UI Symbol'\" font-size=\"13.00\">層數</text>\n",
       "<polygon fill=\"#ffffff\" stroke=\"transparent\" points=\"775.5,-149 775.5,-173 821.5,-173 821.5,-149 775.5,-149\"/>\n",
       "<text text-anchor=\"start\" x=\"780.5\" y=\"-158.6\" font-family=\"-apple-system, BlinkMacSystemFont, 'Segoe UI', Helvetica, Arial, sans-serif, 'Apple Color Emoji', 'Segoe UI Emoji', 'Segoe UI Symbol'\" font-style=\"italic\" font-size=\"13.00\">String</text>\n",
       "<polygon fill=\"#f5f5f5\" stroke=\"transparent\" points=\"693.5,-125 693.5,-149 726.5,-149 726.5,-125 693.5,-125\"/>\n",
       "<polygon fill=\"#f5f5f5\" stroke=\"transparent\" points=\"726.5,-125 726.5,-149 775.5,-149 775.5,-125 726.5,-125\"/>\n",
       "<text text-anchor=\"start\" x=\"731.5\" y=\"-133.6\" font-family=\"-apple-system, BlinkMacSystemFont, 'Segoe UI', Helvetica, Arial, sans-serif, 'Apple Color Emoji', 'Segoe UI Emoji', 'Segoe UI Symbol'\" font-size=\"13.00\">進  國</text>\n",
       "<polygon fill=\"#f5f5f5\" stroke=\"transparent\" points=\"775.5,-125 775.5,-149 821.5,-149 821.5,-125 775.5,-125\"/>\n",
       "<text text-anchor=\"start\" x=\"780.5\" y=\"-134.6\" font-family=\"-apple-system, BlinkMacSystemFont, 'Segoe UI', Helvetica, Arial, sans-serif, 'Apple Color Emoji', 'Segoe UI Emoji', 'Segoe UI Symbol'\" font-style=\"italic\" font-size=\"13.00\">String</text>\n",
       "<polygon fill=\"#ffffff\" stroke=\"transparent\" points=\"693.5,-101 693.5,-125 726.5,-125 726.5,-101 693.5,-101\"/>\n",
       "<polygon fill=\"#ffffff\" stroke=\"transparent\" points=\"726.5,-101 726.5,-125 775.5,-125 775.5,-101 726.5,-101\"/>\n",
       "<text text-anchor=\"start\" x=\"731.5\" y=\"-109.6\" font-family=\"-apple-system, BlinkMacSystemFont, 'Segoe UI', Helvetica, Arial, sans-serif, 'Apple Color Emoji', 'Segoe UI Emoji', 'Segoe UI Symbol'\" font-size=\"13.00\">國別</text>\n",
       "<polygon fill=\"#ffffff\" stroke=\"transparent\" points=\"775.5,-101 775.5,-125 821.5,-125 821.5,-101 775.5,-101\"/>\n",
       "<text text-anchor=\"start\" x=\"780.5\" y=\"-110.6\" font-family=\"-apple-system, BlinkMacSystemFont, 'Segoe UI', Helvetica, Arial, sans-serif, 'Apple Color Emoji', 'Segoe UI Emoji', 'Segoe UI Symbol'\" font-style=\"italic\" font-size=\"13.00\">String</text>\n",
       "<polygon fill=\"#f5f5f5\" stroke=\"transparent\" points=\"693.5,-77 693.5,-101 726.5,-101 726.5,-77 693.5,-77\"/>\n",
       "<polygon fill=\"#f5f5f5\" stroke=\"transparent\" points=\"726.5,-77 726.5,-101 775.5,-101 775.5,-77 726.5,-77\"/>\n",
       "<text text-anchor=\"start\" x=\"731.5\" y=\"-85.6\" font-family=\"-apple-system, BlinkMacSystemFont, 'Segoe UI', Helvetica, Arial, sans-serif, 'Apple Color Emoji', 'Segoe UI Emoji', 'Segoe UI Symbol'\" font-size=\"13.00\">RFT</text>\n",
       "<polygon fill=\"#f5f5f5\" stroke=\"transparent\" points=\"775.5,-77 775.5,-101 821.5,-101 821.5,-77 775.5,-77\"/>\n",
       "<text text-anchor=\"start\" x=\"780.5\" y=\"-86.6\" font-family=\"-apple-system, BlinkMacSystemFont, 'Segoe UI', Helvetica, Arial, sans-serif, 'Apple Color Emoji', 'Segoe UI Emoji', 'Segoe UI Symbol'\" font-style=\"italic\" font-size=\"13.00\">String</text>\n",
       "<polygon fill=\"#ffffff\" stroke=\"transparent\" points=\"693.5,-53 693.5,-77 726.5,-77 726.5,-53 693.5,-53\"/>\n",
       "<text text-anchor=\"start\" x=\"698.5\" y=\"-62.6\" font-family=\"-apple-system, BlinkMacSystemFont, 'Segoe UI', Helvetica, Arial, sans-serif, 'Apple Color Emoji', 'Segoe UI Emoji', 'Segoe UI Symbol'\" font-weight=\"bold\" font-size=\"13.00\">key</text>\n",
       "<polygon fill=\"#ffffff\" stroke=\"transparent\" points=\"726.5,-53 726.5,-77 775.5,-77 775.5,-53 726.5,-53\"/>\n",
       "<text text-anchor=\"start\" x=\"731.5\" y=\"-61.6\" font-family=\"-apple-system, BlinkMacSystemFont, 'Segoe UI', Helvetica, Arial, sans-serif, 'Apple Color Emoji', 'Segoe UI Emoji', 'Segoe UI Symbol'\" font-size=\"13.00\">料號</text>\n",
       "<polygon fill=\"#ffffff\" stroke=\"transparent\" points=\"775.5,-53 775.5,-77 821.5,-77 821.5,-53 775.5,-53\"/>\n",
       "<text text-anchor=\"start\" x=\"780.5\" y=\"-62.6\" font-family=\"-apple-system, BlinkMacSystemFont, 'Segoe UI', Helvetica, Arial, sans-serif, 'Apple Color Emoji', 'Segoe UI Emoji', 'Segoe UI Symbol'\" font-style=\"italic\" font-size=\"13.00\">String</text>\n",
       "<polygon fill=\"#f5f5f5\" stroke=\"transparent\" points=\"693.5,-29 693.5,-53 726.5,-53 726.5,-29 693.5,-29\"/>\n",
       "<polygon fill=\"#f5f5f5\" stroke=\"transparent\" points=\"726.5,-29 726.5,-53 775.5,-53 775.5,-29 726.5,-29\"/>\n",
       "<text text-anchor=\"start\" x=\"731.5\" y=\"-37.6\" font-family=\"-apple-system, BlinkMacSystemFont, 'Segoe UI', Helvetica, Arial, sans-serif, 'Apple Color Emoji', 'Segoe UI Emoji', 'Segoe UI Symbol'\" font-size=\"13.00\">含稅價</text>\n",
       "<polygon fill=\"#f5f5f5\" stroke=\"transparent\" points=\"775.5,-29 775.5,-53 821.5,-53 821.5,-29 775.5,-29\"/>\n",
       "<text text-anchor=\"start\" x=\"790.5\" y=\"-38.6\" font-family=\"-apple-system, BlinkMacSystemFont, 'Segoe UI', Helvetica, Arial, sans-serif, 'Apple Color Emoji', 'Segoe UI Emoji', 'Segoe UI Symbol'\" font-style=\"italic\" font-size=\"13.00\">long</text>\n",
       "<polygon fill=\"#ffffff\" stroke=\"transparent\" points=\"693.5,-5 693.5,-29 726.5,-29 726.5,-5 693.5,-5\"/>\n",
       "<polygon fill=\"#ffffff\" stroke=\"transparent\" points=\"726.5,-5 726.5,-29 775.5,-29 775.5,-5 726.5,-5\"/>\n",
       "<text text-anchor=\"start\" x=\"731.5\" y=\"-13.6\" font-family=\"-apple-system, BlinkMacSystemFont, 'Segoe UI', Helvetica, Arial, sans-serif, 'Apple Color Emoji', 'Segoe UI Emoji', 'Segoe UI Symbol'\" font-size=\"13.00\">未稅價</text>\n",
       "<polygon fill=\"#ffffff\" stroke=\"transparent\" points=\"775.5,-5 775.5,-29 821.5,-29 821.5,-5 775.5,-5\"/>\n",
       "<text text-anchor=\"start\" x=\"790.5\" y=\"-14.6\" font-family=\"-apple-system, BlinkMacSystemFont, 'Segoe UI', Helvetica, Arial, sans-serif, 'Apple Color Emoji', 'Segoe UI Emoji', 'Segoe UI Symbol'\" font-style=\"italic\" font-size=\"13.00\">long</text>\n",
       "<polygon fill=\"none\" stroke=\"black\" points=\"692.5,-4 692.5,-270 822.5,-270 822.5,-4 692.5,-4\"/>\n",
       "</g>\n",
       "<!-- TOTAL SALES&#45;&gt;New Price -->\n",
       "<g id=\"edge3\" class=\"edge\">\n",
       "<title>TOTAL SALES-&gt;New Price</title>\n",
       "<path fill=\"none\" stroke=\"black\" d=\"M545.19,-224.68C586.88,-207.38 635.05,-187.39 674.86,-170.87\"/>\n",
       "<polygon fill=\"black\" stroke=\"black\" points=\"676.37,-174.04 684.27,-166.97 673.69,-167.57 676.37,-174.04\"/>\n",
       "<text text-anchor=\"middle\" x=\"611.5\" y=\"-219.6\" font-family=\"-apple-system, BlinkMacSystemFont, 'Segoe UI', Helvetica, Arial, sans-serif, 'Apple Color Emoji', 'Segoe UI Emoji', 'Segoe UI Symbol'\" font-size=\"13.00\">物料 → 料號</text>\n",
       "</g>\n",
       "<!-- PCODE -->\n",
       "<g id=\"node6\" class=\"node\">\n",
       "<title>PCODE</title>\n",
       "<text text-anchor=\"start\" x=\"1018\" y=\"-206.6\" font-family=\"-apple-system, BlinkMacSystemFont, 'Segoe UI', Helvetica, Arial, sans-serif, 'Apple Color Emoji', 'Segoe UI Emoji', 'Segoe UI Symbol'\" font-weight=\"bold\" font-size=\"13.00\">PCODE</text>\n",
       "<polygon fill=\"#f5f5f5\" stroke=\"transparent\" points=\"974.5,-173 974.5,-197 1007.5,-197 1007.5,-173 974.5,-173\"/>\n",
       "<text text-anchor=\"start\" x=\"979.5\" y=\"-182.6\" font-family=\"-apple-system, BlinkMacSystemFont, 'Segoe UI', Helvetica, Arial, sans-serif, 'Apple Color Emoji', 'Segoe UI Emoji', 'Segoe UI Symbol'\" font-weight=\"bold\" font-size=\"13.00\">key</text>\n",
       "<polygon fill=\"#f5f5f5\" stroke=\"transparent\" points=\"1007.5,-173 1007.5,-197 1063.5,-197 1063.5,-173 1007.5,-173\"/>\n",
       "<text text-anchor=\"start\" x=\"1012.5\" y=\"-181.6\" font-family=\"-apple-system, BlinkMacSystemFont, 'Segoe UI', Helvetica, Arial, sans-serif, 'Apple Color Emoji', 'Segoe UI Emoji', 'Segoe UI Symbol'\" font-size=\"13.00\">PrCode</text>\n",
       "<polygon fill=\"#f5f5f5\" stroke=\"transparent\" points=\"1063.5,-173 1063.5,-197 1109.5,-197 1109.5,-173 1063.5,-173\"/>\n",
       "<text text-anchor=\"start\" x=\"1068.5\" y=\"-182.6\" font-family=\"-apple-system, BlinkMacSystemFont, 'Segoe UI', Helvetica, Arial, sans-serif, 'Apple Color Emoji', 'Segoe UI Emoji', 'Segoe UI Symbol'\" font-style=\"italic\" font-size=\"13.00\">String</text>\n",
       "<polygon fill=\"#ffffff\" stroke=\"transparent\" points=\"974.5,-149 974.5,-173 1007.5,-173 1007.5,-149 974.5,-149\"/>\n",
       "<polygon fill=\"#ffffff\" stroke=\"transparent\" points=\"1007.5,-149 1007.5,-173 1063.5,-173 1063.5,-149 1007.5,-149\"/>\n",
       "<text text-anchor=\"start\" x=\"1012.5\" y=\"-157.6\" font-family=\"-apple-system, BlinkMacSystemFont, 'Segoe UI', Helvetica, Arial, sans-serif, 'Apple Color Emoji', 'Segoe UI Emoji', 'Segoe UI Symbol'\" font-size=\"13.00\">Section</text>\n",
       "<polygon fill=\"#ffffff\" stroke=\"transparent\" points=\"1063.5,-149 1063.5,-173 1109.5,-173 1109.5,-149 1063.5,-149\"/>\n",
       "<text text-anchor=\"start\" x=\"1068.5\" y=\"-158.6\" font-family=\"-apple-system, BlinkMacSystemFont, 'Segoe UI', Helvetica, Arial, sans-serif, 'Apple Color Emoji', 'Segoe UI Emoji', 'Segoe UI Symbol'\" font-style=\"italic\" font-size=\"13.00\">String</text>\n",
       "<polygon fill=\"#f5f5f5\" stroke=\"transparent\" points=\"974.5,-125 974.5,-149 1007.5,-149 1007.5,-125 974.5,-125\"/>\n",
       "<polygon fill=\"#f5f5f5\" stroke=\"transparent\" points=\"1007.5,-125 1007.5,-149 1063.5,-149 1063.5,-125 1007.5,-125\"/>\n",
       "<text text-anchor=\"start\" x=\"1012.5\" y=\"-133.6\" font-family=\"-apple-system, BlinkMacSystemFont, 'Segoe UI', Helvetica, Arial, sans-serif, 'Apple Color Emoji', 'Segoe UI Emoji', 'Segoe UI Symbol'\" font-size=\"13.00\">Rim</text>\n",
       "<polygon fill=\"#f5f5f5\" stroke=\"transparent\" points=\"1063.5,-125 1063.5,-149 1109.5,-149 1109.5,-125 1063.5,-125\"/>\n",
       "<text text-anchor=\"start\" x=\"1068.5\" y=\"-134.6\" font-family=\"-apple-system, BlinkMacSystemFont, 'Segoe UI', Helvetica, Arial, sans-serif, 'Apple Color Emoji', 'Segoe UI Emoji', 'Segoe UI Symbol'\" font-style=\"italic\" font-size=\"13.00\">String</text>\n",
       "<polygon fill=\"#ffffff\" stroke=\"transparent\" points=\"974.5,-101 974.5,-125 1007.5,-125 1007.5,-101 974.5,-101\"/>\n",
       "<polygon fill=\"#ffffff\" stroke=\"transparent\" points=\"1007.5,-101 1007.5,-125 1063.5,-125 1063.5,-101 1007.5,-101\"/>\n",
       "<text text-anchor=\"start\" x=\"1012.5\" y=\"-109.6\" font-family=\"-apple-system, BlinkMacSystemFont, 'Segoe UI', Helvetica, Arial, sans-serif, 'Apple Color Emoji', 'Segoe UI Emoji', 'Segoe UI Symbol'\" font-size=\"13.00\">BP</text>\n",
       "<polygon fill=\"#ffffff\" stroke=\"transparent\" points=\"1063.5,-101 1063.5,-125 1109.5,-125 1109.5,-101 1063.5,-101\"/>\n",
       "<text text-anchor=\"start\" x=\"1068.5\" y=\"-110.6\" font-family=\"-apple-system, BlinkMacSystemFont, 'Segoe UI', Helvetica, Arial, sans-serif, 'Apple Color Emoji', 'Segoe UI Emoji', 'Segoe UI Symbol'\" font-style=\"italic\" font-size=\"13.00\">String</text>\n",
       "<polygon fill=\"#f5f5f5\" stroke=\"transparent\" points=\"974.5,-77 974.5,-101 1007.5,-101 1007.5,-77 974.5,-77\"/>\n",
       "<polygon fill=\"#f5f5f5\" stroke=\"transparent\" points=\"1007.5,-77 1007.5,-101 1063.5,-101 1063.5,-77 1007.5,-77\"/>\n",
       "<text text-anchor=\"start\" x=\"1012.5\" y=\"-85.6\" font-family=\"-apple-system, BlinkMacSystemFont, 'Segoe UI', Helvetica, Arial, sans-serif, 'Apple Color Emoji', 'Segoe UI Emoji', 'Segoe UI Symbol'\" font-size=\"13.00\">Size</text>\n",
       "<polygon fill=\"#f5f5f5\" stroke=\"transparent\" points=\"1063.5,-77 1063.5,-101 1109.5,-101 1109.5,-77 1063.5,-77\"/>\n",
       "<text text-anchor=\"start\" x=\"1068.5\" y=\"-86.6\" font-family=\"-apple-system, BlinkMacSystemFont, 'Segoe UI', Helvetica, Arial, sans-serif, 'Apple Color Emoji', 'Segoe UI Emoji', 'Segoe UI Symbol'\" font-style=\"italic\" font-size=\"13.00\">String</text>\n",
       "<polygon fill=\"#ffffff\" stroke=\"transparent\" points=\"974.5,-53 974.5,-77 1007.5,-77 1007.5,-53 974.5,-53\"/>\n",
       "<polygon fill=\"#ffffff\" stroke=\"transparent\" points=\"1007.5,-53 1007.5,-77 1063.5,-77 1063.5,-53 1007.5,-53\"/>\n",
       "<text text-anchor=\"start\" x=\"1012.5\" y=\"-61.6\" font-family=\"-apple-system, BlinkMacSystemFont, 'Segoe UI', Helvetica, Arial, sans-serif, 'Apple Color Emoji', 'Segoe UI Emoji', 'Segoe UI Symbol'\" font-size=\"13.00\">Types</text>\n",
       "<polygon fill=\"#ffffff\" stroke=\"transparent\" points=\"1063.5,-53 1063.5,-77 1109.5,-77 1109.5,-53 1063.5,-53\"/>\n",
       "<text text-anchor=\"start\" x=\"1068.5\" y=\"-62.6\" font-family=\"-apple-system, BlinkMacSystemFont, 'Segoe UI', Helvetica, Arial, sans-serif, 'Apple Color Emoji', 'Segoe UI Emoji', 'Segoe UI Symbol'\" font-style=\"italic\" font-size=\"13.00\">String</text>\n",
       "<polygon fill=\"none\" stroke=\"black\" points=\"973,-52 973,-222 1110,-222 1110,-52 973,-52\"/>\n",
       "</g>\n",
       "<!-- New Price&#45;&gt;PCODE -->\n",
       "<g id=\"edge5\" class=\"edge\">\n",
       "<title>New Price-&gt;PCODE</title>\n",
       "<path fill=\"none\" stroke=\"black\" d=\"M830.76,-137C868.59,-137 915.16,-137 954.8,-137\"/>\n",
       "<polygon fill=\"black\" stroke=\"black\" points=\"954.98,-140.5 964.98,-137 954.98,-133.5 954.98,-140.5\"/>\n",
       "<text text-anchor=\"middle\" x=\"901\" y=\"-140.6\" font-family=\"-apple-system, BlinkMacSystemFont, 'Segoe UI', Helvetica, Arial, sans-serif, 'Apple Color Emoji', 'Segoe UI Emoji', 'Segoe UI Symbol'\" font-size=\"13.00\">料號 → PrCode</text>\n",
       "</g>\n",
       "</g>\n",
       "</svg>"
      ],
      "text/plain": [
       "<IPython.core.display.SVG object>"
      ]
     },
     "execution_count": 259,
     "metadata": {},
     "output_type": "execute_result"
    }
   ],
   "source": [
    "new_cube.schema"
   ]
  },
  {
   "cell_type": "code",
   "execution_count": 260,
   "id": "9ac93740-94d2-46c5-9735-d51ba88a530d",
   "metadata": {},
   "outputs": [],
   "source": [
    "h, l, m = new_cube.hierarchies, new_cube.levels, new_cube.measures"
   ]
  },
  {
   "cell_type": "code",
   "execution_count": 261,
   "id": "eac75bd5-cd71-4119-878d-31af53b88428",
   "metadata": {},
   "outputs": [],
   "source": [
    "m[\"預算數量\"] = tt.agg.sum(ob[\"Qty\"])"
   ]
  },
  {
   "cell_type": "code",
   "execution_count": 262,
   "id": "f4fffd71-58d2-41f6-be76-47f6cb1c23d2",
   "metadata": {},
   "outputs": [],
   "source": [
    "m[\"實績數量\"] = tt.agg.sum(bssc[\"銷售數量\"])"
   ]
  },
  {
   "cell_type": "code",
   "execution_count": 263,
   "id": "4ac97145-b723-4799-8926-e6c115388520",
   "metadata": {},
   "outputs": [],
   "source": [
    "m[\"新價格\"] = tt.value(new_price[\"未稅價\"])"
   ]
  },
  {
   "cell_type": "code",
   "execution_count": 264,
   "id": "baf8d95d-ab58-4116-ac58-9e8f1a038561",
   "metadata": {},
   "outputs": [
    {
     "name": "stderr",
     "output_type": "stream",
     "text": [
      "/opt/anaconda3/lib/python3.8/site-packages/atoti/level.py:66: FutureWarning: `Level.comparator` is deprecated, use `Level.order` instead.\n",
      "  deprecated(\"`Level.comparator` is deprecated, use `Level.order` instead.\")\n"
     ]
    }
   ],
   "source": [
    "l[\"Month\"].comparator = tt.comparator.first_members('January', 'February', 'March', 'April', 'May', 'June', 'July', 'August', 'September', 'October', 'November', 'December')"
   ]
  },
  {
   "cell_type": "code",
   "execution_count": 266,
   "id": "fde9c67a-e0a1-4333-9371-315eaba1b44b",
   "metadata": {},
   "outputs": [],
   "source": [
    "m[\"實績/預算達成率\"] = m[\"實績數量\"] / m[\"預算數量\"]\n",
    "m[\"實績/預算達成率\"].formatter = \"DOUBLE[0%]\""
   ]
  },
  {
   "cell_type": "code",
   "execution_count": 239,
   "id": "bb7a8f97-8ab7-4ff6-bc6a-13e47a7506ea",
   "metadata": {},
   "outputs": [
    {
     "ename": "KeyError",
     "evalue": "'No measure named 銷貨單價.MEAN'",
     "output_type": "error",
     "traceback": [
      "\u001b[0;31m---------------------------------------------------------------------------\u001b[0m",
      "\u001b[0;31mKeyError\u001b[0m                                  Traceback (most recent call last)",
      "\u001b[0;32m<ipython-input-239-d5486aef93bb>\u001b[0m in \u001b[0;36m<module>\u001b[0;34m\u001b[0m\n\u001b[0;32m----> 1\u001b[0;31m \u001b[0mm\u001b[0m\u001b[0;34m[\u001b[0m\u001b[0;34m\"未稅銷貨單價\"\u001b[0m\u001b[0;34m]\u001b[0m \u001b[0;34m=\u001b[0m \u001b[0mm\u001b[0m\u001b[0;34m[\u001b[0m\u001b[0;34m\"銷貨單價.MEAN\"\u001b[0m\u001b[0;34m]\u001b[0m \u001b[0;34m/\u001b[0m \u001b[0;36m1.05\u001b[0m\u001b[0;34m\u001b[0m\u001b[0;34m\u001b[0m\u001b[0m\n\u001b[0m",
      "\u001b[0;32m/opt/anaconda3/lib/python3.8/site-packages/atoti/_runtime_type_checking_utils.py\u001b[0m in \u001b[0;36mtypechecked_func_wrapper\u001b[0;34m(*args, **kwargs)\u001b[0m\n\u001b[1;32m    177\u001b[0m \u001b[0;34m\u001b[0m\u001b[0m\n\u001b[1;32m    178\u001b[0m             \u001b[0;31m# Call the actual function.\u001b[0m\u001b[0;34m\u001b[0m\u001b[0;34m\u001b[0m\u001b[0;34m\u001b[0m\u001b[0m\n\u001b[0;32m--> 179\u001b[0;31m             \u001b[0;32mreturn\u001b[0m \u001b[0mself\u001b[0m\u001b[0;34m.\u001b[0m\u001b[0m_func\u001b[0m\u001b[0;34m(\u001b[0m\u001b[0;34m*\u001b[0m\u001b[0margs\u001b[0m\u001b[0;34m,\u001b[0m \u001b[0;34m**\u001b[0m\u001b[0mkwargs\u001b[0m\u001b[0;34m)\u001b[0m\u001b[0;34m\u001b[0m\u001b[0;34m\u001b[0m\u001b[0m\n\u001b[0m\u001b[1;32m    180\u001b[0m \u001b[0;34m\u001b[0m\u001b[0m\n\u001b[1;32m    181\u001b[0m         \u001b[0;31m# Mark the function as typechecked and return it.\u001b[0m\u001b[0;34m\u001b[0m\u001b[0;34m\u001b[0m\u001b[0;34m\u001b[0m\u001b[0m\n",
      "\u001b[0;32m/opt/anaconda3/lib/python3.8/site-packages/atoti/measures.py\u001b[0m in \u001b[0;36m__getitem__\u001b[0;34m(self, key)\u001b[0m\n\u001b[1;32m     85\u001b[0m             \u001b[0;32mreturn\u001b[0m \u001b[0mself\u001b[0m\u001b[0;34m.\u001b[0m\u001b[0m_build_measure\u001b[0m\u001b[0;34m(\u001b[0m\u001b[0mkey\u001b[0m\u001b[0;34m,\u001b[0m \u001b[0mcube_measure\u001b[0m\u001b[0;34m)\u001b[0m\u001b[0;34m\u001b[0m\u001b[0;34m\u001b[0m\u001b[0m\n\u001b[1;32m     86\u001b[0m         \u001b[0;32mexcept\u001b[0m \u001b[0mAtotiJavaException\u001b[0m\u001b[0;34m:\u001b[0m\u001b[0;34m\u001b[0m\u001b[0;34m\u001b[0m\u001b[0m\n\u001b[0;32m---> 87\u001b[0;31m             \u001b[0;32mraise\u001b[0m \u001b[0mKeyError\u001b[0m\u001b[0;34m(\u001b[0m\u001b[0;34mf\"No measure named {key}\"\u001b[0m\u001b[0;34m)\u001b[0m \u001b[0;32mfrom\u001b[0m \u001b[0;32mNone\u001b[0m\u001b[0;34m\u001b[0m\u001b[0;34m\u001b[0m\u001b[0m\n\u001b[0m\u001b[1;32m     88\u001b[0m \u001b[0;34m\u001b[0m\u001b[0m\n\u001b[1;32m     89\u001b[0m     \u001b[0;31m# Custom override with same value type as the one used in `update()`.\u001b[0m\u001b[0;34m\u001b[0m\u001b[0;34m\u001b[0m\u001b[0;34m\u001b[0m\u001b[0m\n",
      "\u001b[0;31mKeyError\u001b[0m: 'No measure named 銷貨單價.MEAN'"
     ]
    }
   ],
   "source": [
    "m[\"未稅銷貨單價\"] = m[\"銷貨單價.MEAN\"] / 1.05"
   ]
  },
  {
   "cell_type": "code",
   "execution_count": 151,
   "id": "809a0b30-d197-4852-aa37-991a657df833",
   "metadata": {},
   "outputs": [],
   "source": [
    "m[\"漲幅\"] = m[\"新價格\"] / m[\"未稅銷貨單價\"] - 1\n",
    "m[\"漲幅\"].formatter = \"DOUBLE[0.0%]\""
   ]
  },
  {
   "cell_type": "markdown",
   "id": "ea295255-5dec-49fe-9a9e-1fa1640e3bc3",
   "metadata": {
    "tags": []
   },
   "source": [
    "## 加入關聯Table"
   ]
  },
  {
   "cell_type": "code",
   "execution_count": null,
   "id": "b722dcfc-54a1-413e-8246-6c09fb0dea02",
   "metadata": {},
   "outputs": [],
   "source": [
    "bssc.join(category, mapping={\"買方\": \"客戶代號\"})"
   ]
  },
  {
   "cell_type": "code",
   "execution_count": null,
   "id": "fe637af3-f021-43bb-a0bc-00c273287c1f",
   "metadata": {},
   "outputs": [],
   "source": [
    "bssc.join(ob, mapping={\"Tire Types\": \"Tire Types\", \"年份\": \"年份\", \"月份\": \"Month\"})"
   ]
  },
  {
   "cell_type": "code",
   "execution_count": null,
   "id": "889a1796-ee87-4fe8-aa57-d915a0e86bd5",
   "metadata": {},
   "outputs": [],
   "source": [
    "m[\"22OB.SUM\"] = tt.agg.sum(ob[\"Qty\"])"
   ]
  },
  {
   "cell_type": "code",
   "execution_count": null,
   "id": "7ef7e442-7805-4ebb-ae4e-7ecfb55beef7",
   "metadata": {},
   "outputs": [],
   "source": [
    "m[\"test value\"] = tt.where(l[\"Big\"] == \"OE\", m[\"22OB.SUM\"], 0)"
   ]
  },
  {
   "cell_type": "code",
   "execution_count": null,
   "id": "f13fc8b9-fb5d-4e85-b04b-f49b16989dd2",
   "metadata": {},
   "outputs": [],
   "source": [
    "new_cube.query(m[\"22OB.SUM\"], levels=[l[\"Big\"], l[\"Small\"]])"
   ]
  },
  {
   "cell_type": "code",
   "execution_count": null,
   "id": "6c972687-24a1-4c45-9c0a-61cc92c62fa4",
   "metadata": {
    "atoti": {
     "widget": {
      "mapping": {
       "columns": [
        "[TOTAL SALES].[月份].[月份]",
        "ALL_MEASURES"
       ],
       "measures": [
        "[Measures].[22OB.SUM]",
        "[Measures].[銷售數量.SUM]"
       ],
       "rows": [
        "[22OB].[Big].[Big]",
        "[22OB].[Small].[Small]"
       ]
      },
      "query": {
       "mdx": "SELECT NON EMPTY Crossjoin(Hierarchize(Descendants({[TOTAL SALES].[月份].[AllMember]}, 1, SELF_AND_BEFORE)), {[Measures].[22OB.SUM], [Measures].[銷售數量.SUM]}) ON COLUMNS, NON EMPTY Crossjoin(Hierarchize(Descendants({[22OB].[Big].[AllMember]}, 1, SELF_AND_BEFORE)), Hierarchize(Descendants({[22OB].[Small].[AllMember]}, 1, SELF_AND_BEFORE))) ON ROWS FROM [BSSC SALES ANALYSIS] CELL PROPERTIES VALUE, FORMATTED_VALUE, BACK_COLOR, FORE_COLOR, FONT_FLAGS",
       "updateMode": "once"
      },
      "serverKey": "default",
      "widgetKey": "pivot-table"
     }
    },
    "tags": []
   },
   "outputs": [],
   "source": [
    "n_session.visualize()"
   ]
  },
  {
   "cell_type": "code",
   "execution_count": null,
   "id": "f59603fe-4057-4510-ba33-104780c2b272",
   "metadata": {},
   "outputs": [],
   "source": [
    "bssc.join(pcode, mapping={\"物料\": \"PrCode\"})\n",
    "# bssc.join(category, mapping={\"買方\": \"客戶代號\"})"
   ]
  },
  {
   "cell_type": "code",
   "execution_count": null,
   "id": "e5798590-0c33-4003-b6ab-e21b9bb1b968",
   "metadata": {},
   "outputs": [],
   "source": [
    "bssc.join(ob, mapping={\"Tire Types\": \"Tire Types\", \"大分類\": \"Channel\", \"小通路\": \"Group\", \"月份\": \"Month\"})\n",
    "# bssc.join(sales_21, mapping={\"Tire Types\": \"Tire Types\", \"大分類\": \"通路\", \"小通路\": \"細分類\", \"月份\": \"Month\"})\n",
    "bssc.join(new_price, mapping={\"物料\": \"料號\"})"
   ]
  },
  {
   "cell_type": "code",
   "execution_count": null,
   "id": "e91e522f-817e-425a-8098-86cc97027fb3",
   "metadata": {},
   "outputs": [],
   "source": [
    "# category.join(ob, mapping={\"大分類\": \"Channel\", \"小通路\": \"Group\"})"
   ]
  },
  {
   "cell_type": "markdown",
   "id": "652fec4d-175d-4e09-ad14-859021fc355f",
   "metadata": {
    "tags": []
   },
   "source": [
    "## 建立Hierarchy"
   ]
  },
  {
   "cell_type": "code",
   "execution_count": null,
   "id": "3f085c0e-11ba-41c2-89bb-1b30ceced21c",
   "metadata": {},
   "outputs": [],
   "source": [
    "h[\"通路別\"] = [bssc[\"Tire Types\"], bssc[\"大分類\"], bssc[\"小通路\"]]"
   ]
  },
  {
   "cell_type": "code",
   "execution_count": null,
   "id": "081baeb9-6bf1-4254-a0eb-2354005d0f1e",
   "metadata": {},
   "outputs": [],
   "source": [
    "h[\"通路別\"] = [pcode[\"Types\"], category[\"大通路\"], category[\"區域\"], category[\"大分類\"], category[\"小通路\"], category[\"客戶\"]]\n",
    "h[\"時間\"] = [l[\"年份\"], l[\"月份\"], l[\"日期\"]]\n",
    "h[\"實績通路別\"] = [pcode[\"Types\"], category[\"大分類\"], category[\"小通路\"]]"
   ]
  },
  {
   "cell_type": "code",
   "execution_count": null,
   "id": "13bcfb7a-d231-4db1-9aa5-7c1c793751fa",
   "metadata": {},
   "outputs": [],
   "source": [
    "months = [calendar.month_name[i] for i in range(1, 13)]\n",
    "l[\"TOTAL SALES\", \"月份\", \"月份\"].comparator = tt.comparator.first_members('January', 'February', 'March', 'April', 'May', 'June', 'July', 'August', 'September', 'October', 'November', 'December')"
   ]
  },
  {
   "cell_type": "code",
   "execution_count": null,
   "id": "f2838fac-9227-4dd0-98a9-43a7609c07e8",
   "metadata": {},
   "outputs": [],
   "source": [
    "m[\"2021 value\"] = tt.value(sales_21[\"總數\"])"
   ]
  },
  {
   "cell_type": "code",
   "execution_count": null,
   "id": "a8d37148-8b5c-47ad-897a-73954310a196",
   "metadata": {},
   "outputs": [],
   "source": [
    "m[\"2021 Volume.SUM\"] = tt.agg.sum(sales_21[\"總數\"])"
   ]
  },
  {
   "cell_type": "code",
   "execution_count": null,
   "id": "9ad5297a-d25f-4b44-ba1f-7e4d29baf84e",
   "metadata": {},
   "outputs": [],
   "source": [
    "m[\"22OB Volume.SUM\"] = tt.agg.sum(ob[\"Qty\"])"
   ]
  },
  {
   "cell_type": "code",
   "execution_count": null,
   "id": "3b7a7280-cdd3-4da4-866e-a0dd79f2cf7f",
   "metadata": {},
   "outputs": [],
   "source": [
    "del h[\"大分類\"]\n",
    "del h[\"大通路\"]\n",
    "del h[\"小通路\"]"
   ]
  },
  {
   "cell_type": "code",
   "execution_count": null,
   "id": "324c6566-418a-41c5-8e0d-3f33c503303f",
   "metadata": {},
   "outputs": [],
   "source": [
    "h[\"時間\"] = [l[\"年份\"], l[\"月份\"], l[\"日期\"]]"
   ]
  },
  {
   "cell_type": "code",
   "execution_count": null,
   "id": "f41dcecb-5ced-4309-9b4b-e8bbcfa712fa",
   "metadata": {},
   "outputs": [],
   "source": [
    "del h[\"實際出貨日\"]\n",
    "del h[\"年份\"]\n",
    "del h[\"日期\"]\n",
    "del h[\"月份\"]"
   ]
  },
  {
   "cell_type": "code",
   "execution_count": 265,
   "id": "1146a9c3-af38-404a-93af-170444a96253",
   "metadata": {},
   "outputs": [
    {
     "data": {
      "application/vnd.atoti.link.v0+json": {
       "path": "",
       "sessionLocation": {
        "https": null,
        "port": 50471
       }
      },
      "text/plain": [
       "Open the notebook in JupyterLab with the atoti extension enabled to see this link."
      ]
     },
     "execution_count": 265,
     "metadata": {},
     "output_type": "execute_result"
    }
   ],
   "source": [
    "n_session.link()"
   ]
  },
  {
   "cell_type": "markdown",
   "id": "3cfc3bf4-e64d-4743-9ed0-2ab2f3273357",
   "metadata": {
    "tags": []
   },
   "source": [
    "### 如果需要其他的hierarchy也一起在degree裡面去分析的話，可以以dictionary的形式繼續增加"
   ]
  },
  {
   "cell_type": "code",
   "execution_count": null,
   "id": "de5cb28a-d5fc-40bb-8be1-e0ea8a245b05",
   "metadata": {},
   "outputs": [],
   "source": [
    "# m[\"Parent category volume\"] = tt.parent_value(m[\"銷售數量.SUM\"], degrees={h[(\"CUSTOMER TABLE\", \"通路別\")]:1, h[(\"CUSTOMER TABLE\", \"客戶\")]:1}, apply_filters=True, total_value=m[\"銷售數量.SUM\"])\n",
    "m[\"Parent category volume\"] = tt.parent_value(m[\"銷售數量.SUM\"], degrees={h[\"通路別\"]:1}, apply_filters=True, total_value=m[\"銷售數量.SUM\"])\n"
   ]
  },
  {
   "cell_type": "code",
   "execution_count": null,
   "id": "46bad6eb-52e8-4a3b-9076-098911a5b50c",
   "metadata": {},
   "outputs": [],
   "source": [
    "m[\"Percent of parent volume\"] = m[\"銷售數量.SUM\"] /  m[\"Parent category volume\"]\n",
    "m[\"Percent of parent volume\"].formatter = \"DOUBLE[0.0%]\""
   ]
  },
  {
   "cell_type": "markdown",
   "id": "da822b31-695a-4147-9f1c-5d70288058e4",
   "metadata": {},
   "source": [
    "## 加入OB22和新的價格表"
   ]
  },
  {
   "cell_type": "code",
   "execution_count": null,
   "id": "0c557475-5f6b-4fe9-beed-38e2d352f3f7",
   "metadata": {},
   "outputs": [],
   "source": [
    "bssc.join(ob, mapping={\"物料\": \"PCODE\", \"年份\": \"Year\", \"月份\": \"Month\"})"
   ]
  },
  {
   "cell_type": "code",
   "execution_count": null,
   "id": "7530664b-90d5-404c-af10-ec44c3970e5b",
   "metadata": {},
   "outputs": [],
   "source": [
    "m[\"22OB volume\"] = tt.agg.sum(ob[\"Qty\"])"
   ]
  },
  {
   "cell_type": "code",
   "execution_count": null,
   "id": "28f4b384-aa9d-4539-ab82-39c429b744bc",
   "metadata": {},
   "outputs": [],
   "source": [
    "m[\"Hit rate(Sales vs OB)\"] = m[\"銷售數量.SUM\"] / m[\"22OB volume\"]\n",
    "m[\"Hit rate(Sales vs OB)\"].formatter = \"DOUBLE[0%]\""
   ]
  },
  {
   "cell_type": "code",
   "execution_count": null,
   "id": "851899ee-8949-4444-8a3c-ada06c913c10",
   "metadata": {},
   "outputs": [],
   "source": [
    "m[\"Old Unit Price\"] = tt.agg.mean(bssc[\"銷貨單價\"])\n",
    "m[\"Old Unit Price\"].formatter = \"DOUBLE[0]\""
   ]
  },
  {
   "cell_type": "markdown",
   "id": "d0901233-138a-4730-a433-a0d8fba3eab1",
   "metadata": {},
   "source": [
    "## 比較新舊價格的發現（不穩定）"
   ]
  },
  {
   "cell_type": "code",
   "execution_count": null,
   "id": "690700ff-e0bd-43f6-954d-ded538020596",
   "metadata": {},
   "outputs": [],
   "source": [
    "m[\"New Unit Price\"] = tt.value(new_price[\"含稅價\"])"
   ]
  },
  {
   "cell_type": "code",
   "execution_count": null,
   "id": "5a63ccb6-8d3f-41e9-bf03-79785eb83991",
   "metadata": {},
   "outputs": [],
   "source": [
    "m[\"Price Index\"] = m[\"New Unit Price\"] / m[\"Old Unit Price\"] - 1\n",
    "m[\"Price Index\"].formatter = \"DOUBLE[0%]\""
   ]
  },
  {
   "cell_type": "markdown",
   "id": "ae728ce2-9c5b-49ac-a80f-5d663a0dc22d",
   "metadata": {},
   "source": [
    "## 建立銷貨單價measure"
   ]
  },
  {
   "cell_type": "code",
   "execution_count": null,
   "id": "f20ff90f-a3ec-4682-87cd-d5fa627d0637",
   "metadata": {},
   "outputs": [],
   "source": [
    "m[\"Unit Price\"] = tt.value(bssc[\"銷貨單價\"])\n",
    "m[\"Unit Price\"].formatter = \"INT[0]\""
   ]
  }
 ],
 "metadata": {
  "kernelspec": {
   "display_name": "Python 3 (ipykernel)",
   "language": "python",
   "name": "python3"
  },
  "language_info": {
   "codemirror_mode": {
    "name": "ipython",
    "version": 3
   },
   "file_extension": ".py",
   "mimetype": "text/x-python",
   "name": "python",
   "nbconvert_exporter": "python",
   "pygments_lexer": "ipython3",
   "version": "3.10.0"
  }
 },
 "nbformat": 4,
 "nbformat_minor": 5
}
