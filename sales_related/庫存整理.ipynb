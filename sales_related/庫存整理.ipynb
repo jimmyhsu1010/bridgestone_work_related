{
 "cells": [
  {
   "cell_type": "code",
   "execution_count": null,
   "id": "385440ef-a45d-4dc1-8b70-fb4fac059922",
   "metadata": {},
   "outputs": [],
   "source": [
    "import pandas as pd\n",
    "pd.set_option(\"display.max_columns\", None)\n",
    "pd.set_option(\"mode.chained_assignment\", None)\n",
    "\n",
    "import tkinter as tk\n",
    "from tkinter import filedialog\n",
    "import warnings\n",
    "warnings.filterwarnings(\"ignore\")"
   ]
  },
  {
   "cell_type": "code",
   "execution_count": null,
   "id": "3485d1be-cd59-41e5-9328-2fd1cabdd5f8",
   "metadata": {},
   "outputs": [],
   "source": [
    "root = tk.Tk()\n",
    "root.withdraw()\n",
    "path = filedialog.askopenfilename()"
   ]
  },
  {
   "cell_type": "code",
   "execution_count": null,
   "id": "32607ccd-33a4-4744-bbd3-563209348141",
   "metadata": {},
   "outputs": [],
   "source": [
    "df = pd.read_excel(r\"D:\\kc.hsu\\OneDrive - Bridgestone\\數據\\庫存\\inventory.xlsx\")"
   ]
  },
  {
   "cell_type": "code",
   "execution_count": null,
   "id": "63bc99e7-f3b6-46d7-bbff-e56c3808e95d",
   "metadata": {},
   "outputs": [],
   "source": [
    "df.columns = df.columns.str.strip()"
   ]
  },
  {
   "cell_type": "code",
   "execution_count": null,
   "id": "3c32089e-0a07-4cae-8026-0156df828ead",
   "metadata": {},
   "outputs": [],
   "source": [
    "results = df[df[\"中計代號\"].str.contains(\"LSR2|TBR\")]"
   ]
  },
  {
   "cell_type": "code",
   "execution_count": null,
   "id": "2ebe4d7e-0dba-49e2-b689-cc66f8e9233f",
   "metadata": {},
   "outputs": [],
   "source": [
    "results.columns"
   ]
  },
  {
   "cell_type": "code",
   "execution_count": null,
   "id": "aa432795-8068-47a6-95d4-d27da19a0fea",
   "metadata": {},
   "outputs": [],
   "source": [
    "ref = pd.read_excel(r\"C:\\Users\\kc.hsu\\Python workspace\\sales_related\\ReferenceTable\\20221123_PCODE整理表.xlsx\")"
   ]
  },
  {
   "cell_type": "code",
   "execution_count": null,
   "id": "304da680-7881-4223-82a9-e50d65e2d81c",
   "metadata": {},
   "outputs": [],
   "source": [
    "ref[\"吋別\"] = ref[\"規格\"].map(lambda x: x.split(\"R\")[-1])"
   ]
  },
  {
   "cell_type": "code",
   "execution_count": null,
   "id": "abf6b472-51d9-4495-80f9-dada808fb9cc",
   "metadata": {},
   "outputs": [],
   "source": [
    "pcode_size = dict(zip(ref[\"PCODE\"], ref[\"規格\"]))\n",
    "pcode_pat = dict(zip(ref[\"PCODE\"], ref[\"花紋\"]))\n",
    "pcode_place = dict(zip(ref[\"PCODE\"], ref[\"產地\"]))\n",
    "pcode_inch = dict(zip(ref[\"PCODE\"], ref[\"吋別\"]))"
   ]
  },
  {
   "cell_type": "code",
   "execution_count": null,
   "id": "61da01f4-4a15-45ea-b1ef-bec92733cd48",
   "metadata": {},
   "outputs": [],
   "source": [
    "results[\"規格\"] = results[\"物料號碼\"].map(pcode_size)\n",
    "results[\"花紋\"] = results[\"物料號碼\"].map(pcode_pat)\n",
    "results[\"產地\"] = results[\"物料號碼\"].map(pcode_place)\n",
    "results[\"吋別\"] = results[\"物料號碼\"].map(pcode_inch)"
   ]
  },
  {
   "cell_type": "code",
   "execution_count": null,
   "id": "cfbcd937-72ea-4b84-8d0b-3848b69c7a73",
   "metadata": {},
   "outputs": [],
   "source": [
    "results[\"產地\"] = results[\"產地\"].map(lambda x: \"TH\" if x in [\"BTMT\", \"TBSC\"] else \"JP\" if x == \"BSJ\" else x)"
   ]
  },
  {
   "cell_type": "code",
   "execution_count": null,
   "id": "0e9aafc0-0f60-4ffa-8b1a-99726feebd45",
   "metadata": {},
   "outputs": [],
   "source": [
    "results[\"胎別\"] = results[\"物料號碼\"].map(lambda x: \"TBR\" if \"TBR\" in x else \"LSR\")"
   ]
  },
  {
   "cell_type": "code",
   "execution_count": null,
   "id": "596a1585-c14b-4a9b-aa21-bc655fcaccad",
   "metadata": {},
   "outputs": [],
   "source": [
    "final = results.groupby(['胎別', '規格', '花紋', '產地', '吋別']).sum().stack().reset_index().rename(columns={\"level_5\": \"倉庫別\", 0: \"數量\"})"
   ]
  },
  {
   "cell_type": "code",
   "execution_count": null,
   "id": "7b25d1f9-ed18-4b01-92cc-e5ed749472ef",
   "metadata": {},
   "outputs": [],
   "source": [
    "final"
   ]
  },
  {
   "cell_type": "code",
   "execution_count": null,
   "id": "4e8e5b11-b9a2-45f4-bd82-89468f4ced11",
   "metadata": {},
   "outputs": [],
   "source": [
    "final = final[~final[\"倉庫別\"].isin(['REP合計', '全體REP', 'REP販社', '本社', '販社'])]"
   ]
  },
  {
   "cell_type": "code",
   "execution_count": null,
   "id": "f6f8091d-b664-4ea2-b10f-bcc07b187782",
   "metadata": {},
   "outputs": [],
   "source": [
    "final[\"數量\"] = final[\"數量\"].astype(int)"
   ]
  },
  {
   "cell_type": "code",
   "execution_count": null,
   "id": "31cef471-8afc-4f90-ad4d-efad75c9f60a",
   "metadata": {},
   "outputs": [],
   "source": [
    "final"
   ]
  },
  {
   "cell_type": "code",
   "execution_count": null,
   "id": "59d1bff8-586a-4574-a893-a302ac147991",
   "metadata": {},
   "outputs": [],
   "source": [
    "final.to_excel(r\"D:\\kc.hsu\\OneDrive - Bridgestone\\數據\\庫存\\inventory_prepocessed_by_warehouse.xlsx\", index=False)"
   ]
  },
  {
   "cell_type": "code",
   "execution_count": null,
   "id": "ebcd7774-34fb-490e-9b44-66b38f6c06f4",
   "metadata": {},
   "outputs": [],
   "source": []
  }
 ],
 "metadata": {
  "kernelspec": {
   "display_name": "Python 3 (ipykernel)",
   "language": "python",
   "name": "python3"
  },
  "language_info": {
   "codemirror_mode": {
    "name": "ipython",
    "version": 3
   },
   "file_extension": ".py",
   "mimetype": "text/x-python",
   "name": "python",
   "nbconvert_exporter": "python",
   "pygments_lexer": "ipython3",
   "version": "3.10.6"
  }
 },
 "nbformat": 4,
 "nbformat_minor": 5
}
