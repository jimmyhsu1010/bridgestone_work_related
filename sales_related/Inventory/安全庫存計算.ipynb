{
 "cells": [
  {
   "cell_type": "code",
   "execution_count": 28,
   "id": "84ec8c7b-6dd9-4e3b-93cf-8f923b3ef77c",
   "metadata": {},
   "outputs": [],
   "source": [
    "import pandas as pd\n",
    "import numpy as np\n",
    "pd.set_option(\"display.max_columns\", None)\n",
    "pd.set_option(\"display.max_rows\", 20)\n",
    "pd.set_option(\"mode.chained_assignment\", None)\n",
    "\n",
    "import warnings\n",
    "warnings.filterwarnings(\"ignore\")\n",
    "\n",
    "import tkinter as tk\n",
    "from tkinter import filedialog\n",
    "\n",
    "from datetime import datetime\n",
    "import dateutil.relativedelta"
   ]
  },
  {
   "attachments": {},
   "cell_type": "markdown",
   "id": "71945f4e",
   "metadata": {},
   "source": [
    "## Transform stock status"
   ]
  },
  {
   "cell_type": "code",
   "execution_count": null,
   "id": "5c05c3db",
   "metadata": {},
   "outputs": [],
   "source": [
    "class InventoryCheck:\n",
    "   \n",
    "   def __init__(self) -> None:\n",
    "       self.path = self.get_file_path()\n",
    "       self.df = self.open_file()\n",
    "       self.result = self.data_reshaping()\n",
    "       \n",
    "   \n",
    "   def get_file_path(self):\n",
    "      root = tk.Tk()\n",
    "      root.withdraw()\n",
    "      path = filedialog.askopenfilename()\n",
    "      return path\n",
    "   \n",
    "   def open_file(self):\n",
    "      df = pd.read_excel(self.path)\n",
    "      return df      \n",
    "\n",
    "\n",
    "   def data_reshaping(self):\n",
    "      ref_data = pd.read_excel(r\"C:\\Users\\kc.hsu\\Python workspace\\sales_related\\ReferenceTable\\20221123_PCODE整理表.xlsx\")\n",
    "      dimension = dict(zip(ref_data[\"PCODE\"], ref_data[\"規格\"]))\n",
    "      pattern = dict(zip(ref_data[\"PCODE\"], ref_data[\"花紋\"]))\n",
    "      origin = dict(zip(ref_data[\"PCODE\"], ref_data[\"產地\"]))\n",
    "      tire_type = dict(zip(ref_data[\"PCODE\"], ref_data[\"Group\"]))\n",
    "      self.df[\"規格\"] = self.df[\"物料號碼\"].map(dimension)\n",
    "      self.df[\"花紋\"] = self.df[\"物料號碼\"].map(pattern)\n",
    "      self.df[\"產地\"] = self.df[\"物料號碼\"].map(origin)\n",
    "      self.df[\"胎別\"] = self.df[\"物料號碼\"].map(tire_type)\n",
    "      self.df[\"產地\"] = self.df[\"產地\"].map(lambda x: \"TH\" if x in [\"BTMT\", \"TBSC\"] else \"JP\" if x == \"BSJ\" else \"CN\")\n",
    "      self.df.columns = self.df.columns.str.strip()\n",
    "      self.df = self.df[['胎別', '規格', '花紋', '產地', '吋別', '新工', '景山', '彰濱', '貨櫃',\n",
    "         '新工REP', '景山REP', '彰濱REP', '貨櫃REP', '本社', '景山', '林口', '凍結', 'A倉', '台中', '嘉義', '台南', '高雄']]\n",
    "      self.df = self.df.groupby([\"胎別\", \"規格\", \"花紋\", \"產地\", \"吋別\"]).sum().stack().reset_index()\n",
    "      self.df.columns = ['胎別', '規格', '花紋', '產地', '吋別', '倉庫別', \"數量\"]\n",
    "      self.df = self.df.astype({\"數量\": int})\n",
    "      export_path = self.get_file_path()\n",
    "      self.df.to_excel(export_path, index=False)\n",
    "      return self.df"
   ]
  },
  {
   "cell_type": "code",
   "execution_count": null,
   "id": "c0a10aec",
   "metadata": {},
   "outputs": [],
   "source": [
    "result = InventoryCheck().result\n"
   ]
  },
  {
   "cell_type": "code",
   "execution_count": null,
   "id": "4b1141e0",
   "metadata": {},
   "outputs": [],
   "source": []
  }
 ],
 "metadata": {
  "kernelspec": {
   "display_name": "python_env",
   "language": "python",
   "name": "python3"
  },
  "language_info": {
   "codemirror_mode": {
    "name": "ipython",
    "version": 3
   },
   "file_extension": ".py",
   "mimetype": "text/x-python",
   "name": "python",
   "nbconvert_exporter": "python",
   "pygments_lexer": "ipython3",
   "version": "3.10.6"
  },
  "vscode": {
   "interpreter": {
    "hash": "0441e2ad242e60eb4d55752f5dea0f12731bd2d50ab9154f01b1a5615d7cc10b"
   }
  }
 },
 "nbformat": 4,
 "nbformat_minor": 5
}
