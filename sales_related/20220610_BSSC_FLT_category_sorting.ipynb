{
 "cells": [
  {
   "cell_type": "code",
   "execution_count": 2,
   "id": "256112c9-96f1-48d3-bc17-6fb77b3ac600",
   "metadata": {},
   "outputs": [],
   "source": [
    "import pandas as pd\n",
    "pd.set_option(\"display.max_columns\", None)\n",
    "pd.set_option(\"mode.chained_assignment\", None)"
   ]
  },
  {
   "cell_type": "code",
   "execution_count": 12,
   "id": "f0df484e-c4dc-4eca-ae0a-93fd26069449",
   "metadata": {},
   "outputs": [],
   "source": [
    "df = pd.read_clipboard(index_col=False, sep=\"\\t\")"
   ]
  },
  {
   "cell_type": "code",
   "execution_count": 20,
   "id": "30ca9d6e-a193-4d80-9f7e-0ec324cd549c",
   "metadata": {},
   "outputs": [],
   "source": [
    "df.columns = df.columns.str.replace(\"\\n\", \"\")"
   ]
  },
  {
   "cell_type": "code",
   "execution_count": 26,
   "id": "c6d4980c-1788-44ab-96e6-bb279a8beb79",
   "metadata": {},
   "outputs": [],
   "source": [
    "df[\"客編\"] = df[['客戶代號1', '客戶代號2', '客戶代號3', '客戶代號4', '客戶代號5', '客戶代號6', '客戶代號7', '客戶代號8',\n",
    "       '客戶代號9']].apply(tuple, axis=1)"
   ]
  },
  {
   "cell_type": "code",
   "execution_count": 30,
   "id": "6fc20703-2578-4eb4-b5ae-6b4203bd94a7",
   "metadata": {},
   "outputs": [],
   "source": [
    "indus_type = df[[\"客編\", \"業態\"]].dropna(subset=[\"業態\"])"
   ]
  },
  {
   "cell_type": "code",
   "execution_count": 33,
   "id": "a2d728d0-876f-4f4b-8b3f-6b0cab0d28f0",
   "metadata": {},
   "outputs": [],
   "source": [
    "indus_table = indus_type.explode(\"客編\")"
   ]
  },
  {
   "cell_type": "code",
   "execution_count": 36,
   "id": "3534b5b4-09fc-46c0-b065-5d6c80064b11",
   "metadata": {},
   "outputs": [],
   "source": [
    "result = indus_table.dropna(subset=\"客編\")"
   ]
  },
  {
   "cell_type": "code",
   "execution_count": 41,
   "id": "7f410208-1a2f-4075-8ade-f03b2a173828",
   "metadata": {},
   "outputs": [],
   "source": [
    "result.rename(columns={\"客編\": \"客戶代號\"}, inplace=True)"
   ]
  },
  {
   "cell_type": "code",
   "execution_count": 37,
   "id": "56998bda-ef54-47a2-a3ad-8a9ac3168b69",
   "metadata": {},
   "outputs": [],
   "source": [
    "category = pd.read_excel(\"./sales_related/ReferenceTable/category_types.xlsx\")"
   ]
  },
  {
   "cell_type": "code",
   "execution_count": 52,
   "id": "6604397c-4b16-45e4-a5db-0e4bc6ffe174",
   "metadata": {},
   "outputs": [],
   "source": [
    "category = category.merge(result, on=\"客戶代號\")"
   ]
  },
  {
   "cell_type": "code",
   "execution_count": 63,
   "id": "ca33b8fe-92ab-4c48-b3be-3af8869f94b9",
   "metadata": {},
   "outputs": [],
   "source": [
    "category[\"區域\"] = category[\"區域\"].map(lambda x: x.replace(\"\\n\", \"\"))"
   ]
  },
  {
   "cell_type": "code",
   "execution_count": 65,
   "id": "5a625504-1333-4a9b-872f-009a3d1de565",
   "metadata": {},
   "outputs": [],
   "source": [
    "category.to_excel(\"./sales_related/ReferenceTable/bssc_flt_category_types.xlsx\", index=False)"
   ]
  },
  {
   "cell_type": "code",
   "execution_count": null,
   "id": "fb74f2a3-3595-4c82-8307-52ca8826f316",
   "metadata": {},
   "outputs": [],
   "source": []
  }
 ],
 "metadata": {
  "kernelspec": {
   "display_name": "Python 3 (ipykernel)",
   "language": "python",
   "name": "python3"
  },
  "language_info": {
   "codemirror_mode": {
    "name": "ipython",
    "version": 3
   },
   "file_extension": ".py",
   "mimetype": "text/x-python",
   "name": "python",
   "nbconvert_exporter": "python",
   "pygments_lexer": "ipython3",
   "version": "3.10.0"
  }
 },
 "nbformat": 4,
 "nbformat_minor": 5
}
