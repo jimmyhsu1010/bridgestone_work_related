{
 "cells": [
  {
   "cell_type": "code",
   "execution_count": null,
   "id": "7520601c-a00d-4d9e-b0c4-e7128f4181d8",
   "metadata": {},
   "outputs": [],
   "source": [
    "import pandas as pd\n",
    "import plotly.express as px\n",
    "pd.set_option(\"display.max_columns\", None)\n",
    "pd.set_option(\"mode.chained_assignment\", None)\n",
    "import plotly.graph_objects as go\n",
    "import plotly\n",
    "plotly.offline.init_notebook_mode()"
   ]
  },
  {
   "cell_type": "code",
   "execution_count": null,
   "id": "bc199db1-c229-439b-b522-6d87efe6735d",
   "metadata": {},
   "outputs": [],
   "source": [
    "df = pd.read_clipboard()"
   ]
  },
  {
   "cell_type": "code",
   "execution_count": null,
   "id": "c4c190a6-a2db-4737-acc3-0885989e7fa2",
   "metadata": {},
   "outputs": [],
   "source": [
    "rt3 = df[(df[\"預算/前實績\"] == \"RT3\") & (df[\"大通路分類\"] == \"OE\") & (df[\"通路-客戶\"] == \"FLT-OE\")]"
   ]
  },
  {
   "cell_type": "code",
   "execution_count": null,
   "id": "97b9affb-bf22-4b75-bd41-3391daf920e0",
   "metadata": {},
   "outputs": [],
   "source": [
    "rt3.columns"
   ]
  },
  {
   "cell_type": "code",
   "execution_count": null,
   "id": "b0f04afc-e8fc-409c-b68a-bcc436cf59d5",
   "metadata": {},
   "outputs": [],
   "source": [
    "rt3 = rt3.groupby([\"年月\", \"商品代號\", \"GROUP別\", \"大通路分類\", \"通路-客戶\"])[[\"條數\"]].sum().unstack(\"年月\").reset_index()"
   ]
  },
  {
   "cell_type": "code",
   "execution_count": null,
   "id": "b6f0b650-090a-4a69-b102-4a3a892fd7a2",
   "metadata": {},
   "outputs": [],
   "source": [
    "rt3.fillna(0, inplace=True)"
   ]
  },
  {
   "cell_type": "code",
   "execution_count": null,
   "id": "8c2d7e74-b3e6-4190-bc0e-57b5ff880113",
   "metadata": {},
   "outputs": [],
   "source": [
    "rt3.columns = [\"PCODE\", \"類型\", \"大通路\", \"客戶通路\", \"202201\", \"202202\", \"202203\", \"202204\", \"202205\", \"202206\", \"202207\", \"202208\", \"202209\", \"202210\", \"202211\", \"202212\"]"
   ]
  },
  {
   "cell_type": "code",
   "execution_count": null,
   "id": "332d92d7-4686-4fdc-a5ba-99265ac1c548",
   "metadata": {},
   "outputs": [],
   "source": [
    "rt3.to_excel(r\"D:\\kc.hsu\\OneDrive - Bridgestone\\23OB\\23OB_flt-oe.xlsx\", index=False)"
   ]
  },
  {
   "cell_type": "code",
   "execution_count": null,
   "id": "0878e687-b962-4e71-be9a-27d98f3ca6db",
   "metadata": {},
   "outputs": [],
   "source": []
  }
 ],
 "metadata": {
  "kernelspec": {
   "display_name": "Python 3 (ipykernel)",
   "language": "python",
   "name": "python3"
  },
  "language_info": {
   "codemirror_mode": {
    "name": "ipython",
    "version": 3
   },
   "file_extension": ".py",
   "mimetype": "text/x-python",
   "name": "python",
   "nbconvert_exporter": "python",
   "pygments_lexer": "ipython3",
   "version": "3.10.6"
  }
 },
 "nbformat": 4,
 "nbformat_minor": 5
}
