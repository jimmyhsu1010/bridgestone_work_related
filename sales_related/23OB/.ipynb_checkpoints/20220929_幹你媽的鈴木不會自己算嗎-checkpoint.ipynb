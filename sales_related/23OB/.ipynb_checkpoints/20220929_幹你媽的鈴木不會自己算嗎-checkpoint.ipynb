{
 "cells": [
  {
   "cell_type": "code",
   "execution_count": null,
   "id": "08d9b25f-4856-4171-a190-50fc8588f9d3",
   "metadata": {},
   "outputs": [],
   "source": [
    "import pandas as pd\n",
    "import tkinter as tk\n",
    "from tkinter import filedialog\n",
    "pd.set_option(\"display.max_columns\", None)\n",
    "pd.set_option(\"mode.chained_assignment\", None)"
   ]
  },
  {
   "cell_type": "code",
   "execution_count": null,
   "id": "95b07bb3-8201-4963-8b9b-6a9b896ae002",
   "metadata": {},
   "outputs": [],
   "source": [
    "df = pd.read_clipboard()"
   ]
  },
  {
   "cell_type": "code",
   "execution_count": null,
   "id": "44339e06-6f57-4449-a6ea-4ebecadc4380",
   "metadata": {},
   "outputs": [],
   "source": [
    "df.columns = ['製品編碼', '類別', \"通路\",  '寸別', '規格', '花紋',\n",
    "       '分公司銷售量 CY 1月', '分公司銷售量 CY 2月', '分公司銷售量 CY 3月', '分公司銷售量 CY 4月',\n",
    "       '分公司銷售量 CY 5月', '分公司銷售量 CY 6月', '分公司銷售量 CY 7月', '分公司銷售量 CY 8月',\n",
    "       '分公司銷售量 CY 9月', '分公司銷售量 CY 10月', '分公司銷售量 CY 11月', '分公司銷售量 CY 12月',\n",
    "       '分公司銷售量 Y1 1月', '分公司銷售量 Y1 2月', '分公司銷售量 Y1 3月', '分公司銷售量 Y1 4月',\n",
    "       '分公司銷售量 Y1 5月', '分公司銷售量 Y1 6月', '分公司銷售量 Y1 7月', '分公司銷售量 Y1 8月',\n",
    "       '分公司銷售量 Y1 9月', '分公司銷售量 Y1 10月', '分公司銷售量 Y1 11月', '分公司銷售量 Y1 12月',\n",
    "       '銷售定價（分月度） CY 1月', '銷售定價（分月度） CY 2月', '銷售定價（分月度） CY 3月',\n",
    "       '銷售定價（分月度） CY 4月', '銷售定價（分月度） CY 5月', '銷售定價（分月度） CY 6月',\n",
    "       '銷售定價（分月度） CY 7月', '銷售定價（分月度） CY 8月', '銷售定價（分月度） CY 9月',\n",
    "       '銷售定價（分月度） CY 10月', '銷售定價（分月度） CY 11月', '銷售定價（分月度） CY 12月',\n",
    "       '銷售定價（分月度） Y+1 1月', '銷售定價（分月度） Y+1 2月', '銷售定價（分月度） Y+1 3月',\n",
    "       '銷售定價（分月度） Y+1 4月', '銷售定價（分月度） Y+1 5月', '銷售定價（分月度） Y+1 6月',\n",
    "       '銷售定價（分月度） Y+1 7月', '銷售定價（分月度） Y+1 8月', '銷售定價（分月度） Y+1 9月',\n",
    "       '銷售定價（分月度） Y+1 10月', '銷售定價（分月度） Y+1 11月', '銷售定價（分月度） Y+1 12月',\n",
    "       '折扣率（分月度） CY 1月', '折扣率（分月度） CY 2月', '折扣率（分月度） CY 3月', '折扣率（分月度） CY 4月',\n",
    "       '折扣率（分月度） CY 5月', '折扣率（分月度） CY 6月', '折扣率（分月度） CY 7月', '折扣率（分月度） CY 8月',\n",
    "       '折扣率（分月度） CY 9月', '折扣率（分月度） CY 10月', '折扣率（分月度） CY 11月',\n",
    "       '折扣率（分月度） CY 12月', '折扣率（分月度） Y+1 1月', '折扣率（分月度） Y+1 2月',\n",
    "       '折扣率（分月度） Y+1 3月', '折扣率（分月度） Y+1 4月', '折扣率（分月度） Y+1 5月',\n",
    "       '折扣率（分月度） Y+1 6月', '折扣率（分月度） Y+1 7月', '折扣率（分月度） Y+1 8月',\n",
    "       '折扣率（分月度） Y+1 9月', '折扣率（分月度） Y+1 10月', '折扣率（分月度） Y+1 11月',\n",
    "       '折扣率（分月度） Y+1 12月']"
   ]
  },
  {
   "cell_type": "code",
   "execution_count": null,
   "id": "cfb2588f-da7b-4e4e-b18a-e68d54795d0a",
   "metadata": {},
   "outputs": [],
   "source": [
    "volume = df[['製品編碼', '類別', '通路', '寸別', '規格', '花紋',\n",
    "       '分公司銷售量 CY 1月', '分公司銷售量 CY 2月', '分公司銷售量 CY 3月', '分公司銷售量 CY 4月',\n",
    "       '分公司銷售量 CY 5月', '分公司銷售量 CY 6月', '分公司銷售量 CY 7月', '分公司銷售量 CY 8月',\n",
    "       '分公司銷售量 CY 9月', '分公司銷售量 CY 10月', '分公司銷售量 CY 11月', '分公司銷售量 CY 12月',\n",
    "       '分公司銷售量 Y1 1月', '分公司銷售量 Y1 2月', '分公司銷售量 Y1 3月', '分公司銷售量 Y1 4月',\n",
    "       '分公司銷售量 Y1 5月', '分公司銷售量 Y1 6月', '分公司銷售量 Y1 7月', '分公司銷售量 Y1 8月',\n",
    "       '分公司銷售量 Y1 9月', '分公司銷售量 Y1 10月', '分公司銷售量 Y1 11月', '分公司銷售量 Y1 12月']].set_index(['製品編碼', '類別', '通路', '寸別', '規格', '花紋']).stack().reset_index()"
   ]
  },
  {
   "cell_type": "code",
   "execution_count": null,
   "id": "e753d984-034a-465e-a78b-e2c09411a4c4",
   "metadata": {},
   "outputs": [],
   "source": [
    "volume.columns = ['製品編碼', '類別', '通路', '寸別', '規格', '花紋', '年月', \"數量\"]"
   ]
  },
  {
   "cell_type": "code",
   "execution_count": null,
   "id": "f8b9eb29-2d06-4e26-9ea7-50396ea77966",
   "metadata": {},
   "outputs": [],
   "source": [
    "year_key = ['分公司銷售量 CY 1月', '分公司銷售量 CY 2月', '分公司銷售量 CY 3月', '分公司銷售量 CY 4月',\n",
    "       '分公司銷售量 CY 5月', '分公司銷售量 CY 6月', '分公司銷售量 CY 7月', '分公司銷售量 CY 8月',\n",
    "       '分公司銷售量 CY 9月', '分公司銷售量 CY 10月', '分公司銷售量 CY 11月', '分公司銷售量 CY 12月',\n",
    "       '分公司銷售量 Y1 1月', '分公司銷售量 Y1 2月', '分公司銷售量 Y1 3月', '分公司銷售量 Y1 4月',\n",
    "       '分公司銷售量 Y1 5月', '分公司銷售量 Y1 6月', '分公司銷售量 Y1 7月', '分公司銷售量 Y1 8月',\n",
    "       '分公司銷售量 Y1 9月', '分公司銷售量 Y1 10月', '分公司銷售量 Y1 11月', '分公司銷售量 Y1 12月']\n",
    "year_values = [\"2022/01\", \"2022/02\", \"2022/03\", \"2022/04\", \"2022/05\", \"2022/06\", \"2022/07\", \"2022/08\", \"2022/09\", \"2022/10\", \"2022/11\", \"2022/12\", \"2023/01\", \"2023/02\", \"2023/03\", \"2023/04\", \"2023/05\", \"2023/06\", \"2023/07\", \"2023/08\", \"2023/09\", \"2023/10\", \"2023/11\", \"2023/12\"]\n",
    "year_dict = dict(zip(year_key, year_values))"
   ]
  },
  {
   "cell_type": "code",
   "execution_count": null,
   "id": "568e6dee-5caf-4441-8509-d4338cdd1c41",
   "metadata": {},
   "outputs": [],
   "source": [
    "volume[\"新年月\"] = volume[\"年月\"].map(year_dict)"
   ]
  },
  {
   "cell_type": "code",
   "execution_count": null,
   "id": "f7155a95-076e-4bc0-aa52-973b5020d874",
   "metadata": {},
   "outputs": [],
   "source": [
    "year_mon = volume[\"新年月\"].str.split(\"/\", expand=True)"
   ]
  },
  {
   "cell_type": "code",
   "execution_count": null,
   "id": "033d5918-a069-457a-8bec-77f3bf2e2c02",
   "metadata": {},
   "outputs": [],
   "source": [
    "year_mon.columns = [\"年\", \"月\"]"
   ]
  },
  {
   "cell_type": "code",
   "execution_count": null,
   "id": "44b7c464-de55-49ca-ac6a-cc3129f292ea",
   "metadata": {},
   "outputs": [],
   "source": [
    "volume_result = pd.concat([volume,year_mon], axis=1)"
   ]
  },
  {
   "cell_type": "code",
   "execution_count": null,
   "id": "6c50d2cf-0260-417a-9fd2-0e0647e180c6",
   "metadata": {
    "tags": []
   },
   "outputs": [],
   "source": [
    "volume_result = volume_result[['製品編碼', '類別', '通路', '寸別', '規格', '花紋', '數量', '新年月', '年', '月']]"
   ]
  },
  {
   "cell_type": "code",
   "execution_count": null,
   "id": "569647f5-b12a-4d3d-a6eb-6cb0ed3d73b8",
   "metadata": {},
   "outputs": [],
   "source": [
    "list_price = df[['製品編碼', '類別', '通路', '寸別', '規格', '花紋', '銷售定價（分月度） CY 1月', '銷售定價（分月度） CY 2月', '銷售定價（分月度） CY 3月',\n",
    "       '銷售定價（分月度） CY 4月', '銷售定價（分月度） CY 5月', '銷售定價（分月度） CY 6月',\n",
    "       '銷售定價（分月度） CY 7月', '銷售定價（分月度） CY 8月', '銷售定價（分月度） CY 9月',\n",
    "       '銷售定價（分月度） CY 10月', '銷售定價（分月度） CY 11月', '銷售定價（分月度） CY 12月',\n",
    "       '銷售定價（分月度） Y+1 1月', '銷售定價（分月度） Y+1 2月', '銷售定價（分月度） Y+1 3月',\n",
    "       '銷售定價（分月度） Y+1 4月', '銷售定價（分月度） Y+1 5月', '銷售定價（分月度） Y+1 6月',\n",
    "       '銷售定價（分月度） Y+1 7月', '銷售定價（分月度） Y+1 8月', '銷售定價（分月度） Y+1 9月',\n",
    "       '銷售定價（分月度） Y+1 10月', '銷售定價（分月度） Y+1 11月', '銷售定價（分月度） Y+1 12月']].set_index(['製品編碼', '類別', '通路', '寸別', '規格', '花紋']).stack().reset_index()"
   ]
  },
  {
   "cell_type": "code",
   "execution_count": null,
   "id": "acc873ca-c3d6-4ae8-af93-4d7a19622276",
   "metadata": {},
   "outputs": [],
   "source": [
    "list_price.columns = ['製品編碼', '類別', '通路', '寸別', '規格', '花紋', '年月', \"未稅牌價\"]"
   ]
  },
  {
   "cell_type": "code",
   "execution_count": null,
   "id": "4a50795e-84e1-4ac1-bc94-385ca50d10e9",
   "metadata": {},
   "outputs": [],
   "source": [
    "year_key = ['銷售定價（分月度） CY 1月', '銷售定價（分月度） CY 2月', '銷售定價（分月度） CY 3月',\n",
    "       '銷售定價（分月度） CY 4月', '銷售定價（分月度） CY 5月', '銷售定價（分月度） CY 6月',\n",
    "       '銷售定價（分月度） CY 7月', '銷售定價（分月度） CY 8月', '銷售定價（分月度） CY 9月',\n",
    "       '銷售定價（分月度） CY 10月', '銷售定價（分月度） CY 11月', '銷售定價（分月度） CY 12月',\n",
    "       '銷售定價（分月度） Y+1 1月', '銷售定價（分月度） Y+1 2月', '銷售定價（分月度） Y+1 3月',\n",
    "       '銷售定價（分月度） Y+1 4月', '銷售定價（分月度） Y+1 5月', '銷售定價（分月度） Y+1 6月',\n",
    "       '銷售定價（分月度） Y+1 7月', '銷售定價（分月度） Y+1 8月', '銷售定價（分月度） Y+1 9月',\n",
    "       '銷售定價（分月度） Y+1 10月', '銷售定價（分月度） Y+1 11月', '銷售定價（分月度） Y+1 12月']\n",
    "year_values = [\"2022/01\", \"2022/02\", \"2022/03\", \"2022/04\", \"2022/05\", \"2022/06\", \"2022/07\", \"2022/08\", \"2022/09\", \"2022/10\", \"2022/11\", \"2022/12\", \"2023/01\", \"2023/02\", \"2023/03\", \"2023/04\", \"2023/05\", \"2023/06\", \"2023/07\", \"2023/08\", \"2023/09\", \"2023/10\", \"2023/11\", \"2023/12\"]\n",
    "year_dict = dict(zip(year_key, year_values))"
   ]
  },
  {
   "cell_type": "code",
   "execution_count": null,
   "id": "fdc9310c-9a4c-4af1-af4b-5e1d9b3afe1c",
   "metadata": {},
   "outputs": [],
   "source": [
    "list_price[\"新年月\"] = list_price[\"年月\"].map(year_dict)\n",
    "year_mon = list_price[\"新年月\"].str.split(\"/\", expand=True)\n",
    "year_mon.columns = [\"年\", \"月\"]\n",
    "list_price_result = pd.concat([list_price,year_mon], axis=1)\n",
    "list_price_result"
   ]
  },
  {
   "cell_type": "code",
   "execution_count": null,
   "id": "bb4901e4-c941-4d8c-a88a-9932c02fed11",
   "metadata": {},
   "outputs": [],
   "source": [
    "list_price_result = list_price_result[['製品編碼', '類別', '通路', '寸別', '規格', '花紋', '未稅牌價', '新年月', '年', '月']]"
   ]
  },
  {
   "cell_type": "code",
   "execution_count": null,
   "id": "d49ce739-f17a-46fa-9683-5fec97dd0867",
   "metadata": {},
   "outputs": [],
   "source": [
    "discount = df[['製品編碼', '類別', '通路', '寸別', '規格', '花紋', '折扣率（分月度） CY 1月', '折扣率（分月度） CY 2月', '折扣率（分月度） CY 3月', '折扣率（分月度） CY 4月',\n",
    "       '折扣率（分月度） CY 5月', '折扣率（分月度） CY 6月', '折扣率（分月度） CY 7月', '折扣率（分月度） CY 8月',\n",
    "       '折扣率（分月度） CY 9月', '折扣率（分月度） CY 10月', '折扣率（分月度） CY 11月',\n",
    "       '折扣率（分月度） CY 12月', '折扣率（分月度） Y+1 1月', '折扣率（分月度） Y+1 2月',\n",
    "       '折扣率（分月度） Y+1 3月', '折扣率（分月度） Y+1 4月', '折扣率（分月度） Y+1 5月',\n",
    "       '折扣率（分月度） Y+1 6月', '折扣率（分月度） Y+1 7月', '折扣率（分月度） Y+1 8月',\n",
    "       '折扣率（分月度） Y+1 9月', '折扣率（分月度） Y+1 10月', '折扣率（分月度） Y+1 11月',\n",
    "       '折扣率（分月度） Y+1 12月']].set_index(['製品編碼', '類別', '通路', '寸別', '規格', '花紋']).stack().reset_index()"
   ]
  },
  {
   "cell_type": "code",
   "execution_count": null,
   "id": "e67d0d1c-42c5-4b1c-a38c-e325c91fd008",
   "metadata": {},
   "outputs": [],
   "source": [
    "discount.columns = ['製品編碼', '類別', '通路', '寸別', '規格', '花紋', '年月', \"折扣率\"]\n",
    "year_key = ['折扣率（分月度） CY 1月', '折扣率（分月度） CY 2月', '折扣率（分月度） CY 3月', '折扣率（分月度） CY 4月',\n",
    "       '折扣率（分月度） CY 5月', '折扣率（分月度） CY 6月', '折扣率（分月度） CY 7月', '折扣率（分月度） CY 8月',\n",
    "       '折扣率（分月度） CY 9月', '折扣率（分月度） CY 10月', '折扣率（分月度） CY 11月',\n",
    "       '折扣率（分月度） CY 12月', '折扣率（分月度） Y+1 1月', '折扣率（分月度） Y+1 2月',\n",
    "       '折扣率（分月度） Y+1 3月', '折扣率（分月度） Y+1 4月', '折扣率（分月度） Y+1 5月',\n",
    "       '折扣率（分月度） Y+1 6月', '折扣率（分月度） Y+1 7月', '折扣率（分月度） Y+1 8月',\n",
    "       '折扣率（分月度） Y+1 9月', '折扣率（分月度） Y+1 10月', '折扣率（分月度） Y+1 11月',\n",
    "       '折扣率（分月度） Y+1 12月']\n",
    "year_values = [\"2022/01\", \"2022/02\", \"2022/03\", \"2022/04\", \"2022/05\", \"2022/06\", \"2022/07\", \"2022/08\", \"2022/09\", \"2022/10\", \"2022/11\", \"2022/12\", \"2023/01\", \"2023/02\", \"2023/03\", \"2023/04\", \"2023/05\", \"2023/06\", \"2023/07\", \"2023/08\", \"2023/09\", \"2023/10\", \"2023/11\", \"2023/12\"]\n",
    "year_dict = dict(zip(year_key, year_values))\n",
    "discount[\"新年月\"] = discount[\"年月\"].map(year_dict)\n",
    "year_mon = discount[\"新年月\"].str.split(\"/\", expand=True)\n",
    "year_mon.columns = [\"年\", \"月\"]\n",
    "discount_result = pd.concat([discount,year_mon], axis=1)\n",
    "discount_result"
   ]
  },
  {
   "cell_type": "code",
   "execution_count": null,
   "id": "d1ae53f0-7555-49a0-a684-976e7e8891bb",
   "metadata": {},
   "outputs": [],
   "source": [
    "discount_result = discount_result[['製品編碼', '類別', '通路', '寸別', '規格', '花紋', '折扣率', '新年月', '年', '月']]"
   ]
  },
  {
   "cell_type": "code",
   "execution_count": null,
   "id": "037242f9-9bd9-4d82-baa3-7ed740ab5e8a",
   "metadata": {},
   "outputs": [],
   "source": [
    "volume_price = pd.merge(volume_result, list_price_result, on=['製品編碼', '類別', '通路', '寸別', '規格', '花紋', '新年月', '年', '月'])"
   ]
  },
  {
   "cell_type": "code",
   "execution_count": null,
   "id": "788365ee-c435-4838-b8f0-010a23eca870",
   "metadata": {},
   "outputs": [],
   "source": [
    "final_result = pd.merge(volume_price, discount_result, on=['製品編碼', '類別', '通路', '寸別', '規格', '花紋', '新年月', '年', '月'])"
   ]
  },
  {
   "cell_type": "code",
   "execution_count": null,
   "id": "6dbe9f4a-ccf5-4d9d-8768-1a463769167b",
   "metadata": {},
   "outputs": [],
   "source": [
    "final_result.to_excel(r\"C:\\Users\\kc.hsu\\Desktop\\20220929_威廉的功課.xlsx\", index=False)"
   ]
  },
  {
   "cell_type": "code",
   "execution_count": null,
   "id": "a47db7a0-f22b-4493-a450-316aed3a156a",
   "metadata": {},
   "outputs": [],
   "source": []
  }
 ],
 "metadata": {
  "kernelspec": {
   "display_name": "Python 3 (ipykernel)",
   "language": "python",
   "name": "python3"
  },
  "language_info": {
   "codemirror_mode": {
    "name": "ipython",
    "version": 3
   },
   "file_extension": ".py",
   "mimetype": "text/x-python",
   "name": "python",
   "nbconvert_exporter": "python",
   "pygments_lexer": "ipython3",
   "version": "3.10.6"
  }
 },
 "nbformat": 4,
 "nbformat_minor": 5
}
