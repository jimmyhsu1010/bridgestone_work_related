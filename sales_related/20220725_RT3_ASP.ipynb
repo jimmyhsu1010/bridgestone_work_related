{
 "cells": [
  {
   "cell_type": "code",
   "execution_count": null,
   "id": "b037d89e-cfc9-47b6-aa65-c393c738d38d",
   "metadata": {},
   "outputs": [],
   "source": [
    "import pandas as pd\n",
    "import plotly.express as px\n",
    "pd.set_option(\"display.max_columns\", None)\n",
    "pd.set_option(\"mode.chained_assignment\", None)\n",
    "import plotly.graph_objects as go\n",
    "import plotly\n",
    "plotly.offline.init_notebook_mode()"
   ]
  },
  {
   "cell_type": "code",
   "execution_count": null,
   "id": "96846c93-636f-4729-a796-2fd7c406c75a",
   "metadata": {},
   "outputs": [],
   "source": [
    "df = pd.read_excel(r\"C:\\Users\\kc.hsu\\Desktop\\202201-06_OB_RT2_ACT_SizeData.xlsx\", None)"
   ]
  },
  {
   "cell_type": "code",
   "execution_count": null,
   "id": "f858aa09-ecdf-4e91-b7fc-4f162e235513",
   "metadata": {},
   "outputs": [],
   "source": [
    "data = df[\"SIZE DATA\"]"
   ]
  },
  {
   "cell_type": "code",
   "execution_count": null,
   "id": "6b17bc66-2e5e-479a-a0e8-af121e363da7",
   "metadata": {},
   "outputs": [],
   "source": [
    "data = data[(data[\"國內市場財別\"] == \"TBR(G)\") & (data[\"大通路分類\"] == \"REP\") & (data[\"預算/前實績\"] == \"RT3\")]"
   ]
  },
  {
   "cell_type": "code",
   "execution_count": null,
   "id": "e1f6859e-3276-401f-b496-01c9bf5bc320",
   "metadata": {},
   "outputs": [],
   "source": [
    "data[\"Origin\"] = data[\"商品代號\"].map(lambda x: \"CN\" if \"0H\" in str(x) else \"Firestone\" if str(x).endswith(\"F\") else \"TH\" if \"0J\" or \"0L\" in str(x) else \"JP\")"
   ]
  },
  {
   "cell_type": "code",
   "execution_count": null,
   "id": "6a675d1b-d0b8-43ce-ad2e-4fab5e363709",
   "metadata": {},
   "outputs": [],
   "source": [
    "data"
   ]
  },
  {
   "cell_type": "code",
   "execution_count": null,
   "id": "3c7f56c1-36ee-4de4-b2cb-776aa8106eb9",
   "metadata": {},
   "outputs": [],
   "source": [
    "data.to_excel(r\"D:\\kc.hsu\\OneDrive - Bridgestone\\數據\\2022ACT\\20220725_RT3_財務數據用來計算23OB.xlsx\", index=False)"
   ]
  },
  {
   "cell_type": "code",
   "execution_count": null,
   "id": "77c75482-1e61-4f24-b812-aa3163578305",
   "metadata": {},
   "outputs": [],
   "source": []
  }
 ],
 "metadata": {
  "kernelspec": {
   "display_name": "Python 3 (ipykernel)",
   "language": "python",
   "name": "python3"
  },
  "language_info": {
   "codemirror_mode": {
    "name": "ipython",
    "version": 3
   },
   "file_extension": ".py",
   "mimetype": "text/x-python",
   "name": "python",
   "nbconvert_exporter": "python",
   "pygments_lexer": "ipython3",
   "version": "3.9.7"
  }
 },
 "nbformat": 4,
 "nbformat_minor": 5
}
