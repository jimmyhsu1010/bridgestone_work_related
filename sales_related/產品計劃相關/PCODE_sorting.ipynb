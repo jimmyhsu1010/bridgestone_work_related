{
 "cells": [
  {
   "cell_type": "code",
   "execution_count": 1,
   "id": "d8a5f1d8-cbdd-4a6b-96b3-b8e7fa9586de",
   "metadata": {},
   "outputs": [],
   "source": [
    "import pandas as pd\n",
    "import warnings\n",
    "pd.set_option(\"display.max_columns\", None)\n",
    "pd.set_option(\"mode.chained_assignment\", None)\n",
    "warnings.filterwarnings(\"ignore\")"
   ]
  },
  {
   "cell_type": "code",
   "execution_count": 2,
   "id": "25e59db5-be05-4494-abf8-1a6fe7aadef4",
   "metadata": {},
   "outputs": [],
   "source": [
    "df = pd.read_clipboard()"
   ]
  },
  {
   "cell_type": "code",
   "execution_count": 3,
   "id": "077ec282-2832-4537-9d51-b67bc89d01ce",
   "metadata": {},
   "outputs": [],
   "source": [
    "df[\"List\"] = df[[\"1\", \"2\", \"3\", \"4\"]].values.tolist()"
   ]
  },
  {
   "cell_type": "code",
   "execution_count": null,
   "id": "2287ea02-5ec7-413d-b095-e6e070303076",
   "metadata": {},
   "outputs": [],
   "source": [
    "df = df[[\"Group\", \"MTP code\", \"List\", \"1\", \"規格 \", \"花紋\", \"產地\", \"訂單別\"]]"
   ]
  },
  {
   "cell_type": "code",
   "execution_count": 5,
   "id": "7bb28ebe-37a3-41ea-afb6-ee86ab271342",
   "metadata": {},
   "outputs": [],
   "source": [
    "result = df.explode(\"List\")"
   ]
  },
  {
   "cell_type": "code",
   "execution_count": 12,
   "id": "d122fc4d-275f-412f-880e-3b1842a26881",
   "metadata": {},
   "outputs": [],
   "source": [
    "result = result[result[\"List\"].notna()]"
   ]
  },
  {
   "cell_type": "code",
   "execution_count": null,
   "id": "72e6ad95-6814-49bc-bbe6-2641ee78fc42",
   "metadata": {},
   "outputs": [],
   "source": [
    "result.columns = ['Group', 'MTP code', 'PCODE', '現用PCODE', '規格', '花紋', '產地', '訂單別']"
   ]
  },
  {
   "cell_type": "code",
   "execution_count": null,
   "id": "708561a3-999d-4b92-b8d1-2a8f7bbc182f",
   "metadata": {},
   "outputs": [],
   "source": [
    "result.reset_index(drop=True, inplace=True)"
   ]
  },
  {
   "cell_type": "code",
   "execution_count": null,
   "id": "feba7dd1-2c4c-4b11-91c1-853d6ed81933",
   "metadata": {},
   "outputs": [],
   "source": [
    "tbr_premium_list = [\"R102\", \"R108\", \"R156\", \"R159\", \"M749\", \"R109\", \"R118\", \"R218\", \"UAP1Z\", \"M729\", \"M766\", \"M798\", \"M866\", \"M840\",\n",
    "                    \"M851\", \"R150\", \"R154\", \"R156\", \"R157\", \"R162\", \"R192\", \"R249\", \"UAP001\", \"U-AP1\", \"R154 LRR\", \"R150BZ\", \"R150AZ\", \"UAP1\",\n",
    "                   \"R150EZ\"]"
   ]
  },
  {
   "cell_type": "code",
   "execution_count": null,
   "id": "4708f3ad-9798-4289-99fd-09dd5ded72b0",
   "metadata": {},
   "outputs": [],
   "source": [
    "result[\"TBR_Premium\"] = result[\"花紋\"].map(lambda x: \"Yes\" if x in tbr_premium_list else \"No\")"
   ]
  },
  {
   "cell_type": "code",
   "execution_count": null,
   "id": "702bcbc9-bbc6-41d0-abc5-87ee2c56399b",
   "metadata": {},
   "outputs": [],
   "source": [
    "result.to_excel(r\"C:\\Users\\kc.hsu\\Python workspace\\sales_related\\ReferenceTable\\20221123_PCODE整理表.xlsx\", index=False)"
   ]
  },
  {
   "cell_type": "code",
   "execution_count": null,
   "id": "bc847e95-bfad-440c-951b-de4d57d8a723",
   "metadata": {},
   "outputs": [],
   "source": [
    "fin_data = pd.read_excel(r\"D:\\kc.hsu\\OneDrive - Bridgestone\\數據\\2022ACT\\2021-2022_Size Data_All_TBR_rawling_data.xlsx\", None)"
   ]
  },
  {
   "cell_type": "code",
   "execution_count": null,
   "id": "42ab89c8-797e-42cd-ae44-362230ce22d1",
   "metadata": {},
   "outputs": [],
   "source": [
    "fin_data = fin_data[\"Sheet1\"]"
   ]
  },
  {
   "cell_type": "code",
   "execution_count": null,
   "id": "e5cdc1be-5d5b-4de8-87fe-2f5461cd1e73",
   "metadata": {},
   "outputs": [],
   "source": [
    "fin_data = fin_data[(fin_data[\"預算/前實績\"] == \"22ACT\") & (fin_data[\"月份\"].isin([\"Aug\", \"Sep\", \"Oct\", \"Nov\"])) & (fin_data[\"大通路分類\"] == \"REP\")]"
   ]
  },
  {
   "cell_type": "code",
   "execution_count": null,
   "id": "29d914d5-afee-4e76-b56c-932604290ea3",
   "metadata": {},
   "outputs": [],
   "source": [
    "fin_result = fin_data.groupby([\"商品代號\"])[[\"條數\", \"成本\", \"營業費\", \"其他業外調整\"]].sum().reset_index()"
   ]
  },
  {
   "cell_type": "code",
   "execution_count": null,
   "id": "5d0cc0ca-9ad9-4898-aa25-396fece77518",
   "metadata": {},
   "outputs": [],
   "source": [
    "fin_result = fin_result[fin_result[\"條數\"] != 0]"
   ]
  },
  {
   "cell_type": "code",
   "execution_count": null,
   "id": "7b8b2408-d2b8-43dd-8a29-29b5707f2345",
   "metadata": {},
   "outputs": [],
   "source": [
    "fin_result[\"平均單條OP\"] = fin_result.apply(lambda x: (x[\"成本\"] + x[\"營業費\"] + x[\"其他業外調整\"]) / x[\"條數\"], axis=1)"
   ]
  },
  {
   "cell_type": "code",
   "execution_count": null,
   "id": "e8e8ed52-297a-44e6-b71e-eb5b59f646d2",
   "metadata": {},
   "outputs": [],
   "source": [
    "op_dict = dict(zip(fin_result[\"商品代號\"], fin_result[\"平均單條OP\"]))"
   ]
  },
  {
   "cell_type": "code",
   "execution_count": null,
   "id": "391b734b-d507-4c87-a388-a40197a7860a",
   "metadata": {},
   "outputs": [],
   "source": [
    "result[\"Q3平均單條OP\"] = result[\"PCODE\"].map(op_dict)"
   ]
  },
  {
   "cell_type": "code",
   "execution_count": null,
   "id": "900e3c3f-9df2-45ad-bb74-30414cff42c2",
   "metadata": {},
   "outputs": [],
   "source": [
    "result"
   ]
  },
  {
   "cell_type": "code",
   "execution_count": null,
   "id": "e15b1fd9-7996-4c58-b98f-f349161fa987",
   "metadata": {},
   "outputs": [],
   "source": []
  },
  {
   "cell_type": "code",
   "execution_count": null,
   "id": "621a4f7f-aaf0-4642-bafe-67bb96755ea7",
   "metadata": {},
   "outputs": [],
   "source": []
  },
  {
   "cell_type": "code",
   "execution_count": null,
   "id": "8483df3e-d40a-4a51-a542-949c0f9b9537",
   "metadata": {},
   "outputs": [],
   "source": []
  },
  {
   "cell_type": "markdown",
   "id": "74bfe12d-7b5e-4dc3-ab71-dd70619e81ef",
   "metadata": {},
   "source": [
    "## 2023漲價價格表整理"
   ]
  },
  {
   "cell_type": "code",
   "execution_count": 18,
   "id": "48bbe61a-b3b3-44f9-ae8f-16feb7583e94",
   "metadata": {},
   "outputs": [],
   "source": [
    "result.columns = result.columns.str.strip()"
   ]
  },
  {
   "cell_type": "code",
   "execution_count": 20,
   "id": "b9ca1b92-ea12-4a04-aea6-d025eceb288a",
   "metadata": {},
   "outputs": [],
   "source": [
    "result = result[[\"List\", \"規格\", \"花紋\", \"產地\"]]"
   ]
  },
  {
   "cell_type": "code",
   "execution_count": 26,
   "id": "fdddf9c8-68d5-427f-8495-952b1e243c8a",
   "metadata": {},
   "outputs": [
    {
     "data": {
      "text/plain": [
       "Index(['List', '規格', '花紋', '產地'], dtype='object')"
      ]
     },
     "execution_count": 26,
     "metadata": {},
     "output_type": "execute_result"
    }
   ],
   "source": [
    "result.columns"
   ]
  },
  {
   "cell_type": "code",
   "execution_count": 24,
   "id": "233bfbd2-bbe7-4628-8194-01850c5530b2",
   "metadata": {},
   "outputs": [],
   "source": [
    "price = pd.read_clipboard()"
   ]
  },
  {
   "cell_type": "code",
   "execution_count": 29,
   "id": "ba028ea8-26d7-4353-a8c3-c0edc03bc0cc",
   "metadata": {},
   "outputs": [],
   "source": [
    "price.columns = [\"規格\", \"花紋\", \"產地\", \"23 New List\"]"
   ]
  },
  {
   "cell_type": "code",
   "execution_count": 33,
   "id": "32b27fc9-99c2-4e6e-8da2-f6248c730f67",
   "metadata": {},
   "outputs": [],
   "source": [
    "tbr_price_list = pd.merge(price, result, on=[\"規格\", \"花紋\", \"產地\"])"
   ]
  },
  {
   "cell_type": "code",
   "execution_count": 35,
   "id": "35fdd97d-1d18-4b98-afeb-4906aaccf9d3",
   "metadata": {},
   "outputs": [],
   "source": [
    "tbr_price_list = tbr_price_list[[\"List\", \"規格\", \"花紋\", \"產地\", \"23 New List\"]]"
   ]
  },
  {
   "cell_type": "code",
   "execution_count": 37,
   "id": "df50b49f-6817-4b78-89ee-a2846f370f5a",
   "metadata": {},
   "outputs": [],
   "source": [
    "tbr_price_list[\"未稅Net\"] = tbr_price_list[\"23 New List\"].map(lambda x: (x / 1.05) * 0.93 * 0.88)"
   ]
  },
  {
   "cell_type": "code",
   "execution_count": 38,
   "id": "fae4fd46-c616-43d0-b581-f6dc41e08cf8",
   "metadata": {},
   "outputs": [
    {
     "data": {
      "text/html": [
       "<div>\n",
       "<style scoped>\n",
       "    .dataframe tbody tr th:only-of-type {\n",
       "        vertical-align: middle;\n",
       "    }\n",
       "\n",
       "    .dataframe tbody tr th {\n",
       "        vertical-align: top;\n",
       "    }\n",
       "\n",
       "    .dataframe thead th {\n",
       "        text-align: right;\n",
       "    }\n",
       "</style>\n",
       "<table border=\"1\" class=\"dataframe\">\n",
       "  <thead>\n",
       "    <tr style=\"text-align: right;\">\n",
       "      <th></th>\n",
       "      <th>List</th>\n",
       "      <th>規格</th>\n",
       "      <th>花紋</th>\n",
       "      <th>產地</th>\n",
       "      <th>23 New List</th>\n",
       "      <th>未稅Net</th>\n",
       "    </tr>\n",
       "  </thead>\n",
       "  <tbody>\n",
       "    <tr>\n",
       "      <th>0</th>\n",
       "      <td>TBR06254</td>\n",
       "      <td>225/90R17.5</td>\n",
       "      <td>R225</td>\n",
       "      <td>JP</td>\n",
       "      <td>9300</td>\n",
       "      <td>7248.685714</td>\n",
       "    </tr>\n",
       "    <tr>\n",
       "      <th>1</th>\n",
       "      <td>TBR06042</td>\n",
       "      <td>225/90R17.5</td>\n",
       "      <td>M810</td>\n",
       "      <td>JP</td>\n",
       "      <td>9800</td>\n",
       "      <td>7638.400000</td>\n",
       "    </tr>\n",
       "    <tr>\n",
       "      <th>2</th>\n",
       "      <td>TBR06193</td>\n",
       "      <td>225/90R17.5</td>\n",
       "      <td>M810</td>\n",
       "      <td>JP</td>\n",
       "      <td>9800</td>\n",
       "      <td>7638.400000</td>\n",
       "    </tr>\n",
       "    <tr>\n",
       "      <th>3</th>\n",
       "      <td>TBR09920</td>\n",
       "      <td>245/70R17.5</td>\n",
       "      <td>R168</td>\n",
       "      <td>JP</td>\n",
       "      <td>11600</td>\n",
       "      <td>9041.371429</td>\n",
       "    </tr>\n",
       "    <tr>\n",
       "      <th>4</th>\n",
       "      <td>TBR06272</td>\n",
       "      <td>245/70R17.5</td>\n",
       "      <td>R168</td>\n",
       "      <td>JP</td>\n",
       "      <td>11600</td>\n",
       "      <td>9041.371429</td>\n",
       "    </tr>\n",
       "    <tr>\n",
       "      <th>5</th>\n",
       "      <td>TBR06491</td>\n",
       "      <td>285/70R19.5</td>\n",
       "      <td>R184</td>\n",
       "      <td>JP</td>\n",
       "      <td>12900</td>\n",
       "      <td>10054.628571</td>\n",
       "    </tr>\n",
       "    <tr>\n",
       "      <th>6</th>\n",
       "      <td>TBR06381</td>\n",
       "      <td>285/70R19.5</td>\n",
       "      <td>R184</td>\n",
       "      <td>JP</td>\n",
       "      <td>12900</td>\n",
       "      <td>10054.628571</td>\n",
       "    </tr>\n",
       "    <tr>\n",
       "      <th>7</th>\n",
       "      <td>TBR0L098</td>\n",
       "      <td>1100R20</td>\n",
       "      <td>M840</td>\n",
       "      <td>TH</td>\n",
       "      <td>17400</td>\n",
       "      <td>13562.057143</td>\n",
       "    </tr>\n",
       "    <tr>\n",
       "      <th>8</th>\n",
       "      <td>TBR04720</td>\n",
       "      <td>12R22.5</td>\n",
       "      <td>R150</td>\n",
       "      <td>JP</td>\n",
       "      <td>18500</td>\n",
       "      <td>14419.428571</td>\n",
       "    </tr>\n",
       "    <tr>\n",
       "      <th>9</th>\n",
       "      <td>TBR04718</td>\n",
       "      <td>12R22.5</td>\n",
       "      <td>R150</td>\n",
       "      <td>JP</td>\n",
       "      <td>18500</td>\n",
       "      <td>14419.428571</td>\n",
       "    </tr>\n",
       "    <tr>\n",
       "      <th>10</th>\n",
       "      <td>TBR0J067</td>\n",
       "      <td>12R22.5</td>\n",
       "      <td>R150</td>\n",
       "      <td>TH</td>\n",
       "      <td>16500</td>\n",
       "      <td>12860.571429</td>\n",
       "    </tr>\n",
       "    <tr>\n",
       "      <th>11</th>\n",
       "      <td>TBR0L127</td>\n",
       "      <td>12R22.5</td>\n",
       "      <td>R150</td>\n",
       "      <td>TH</td>\n",
       "      <td>16500</td>\n",
       "      <td>12860.571429</td>\n",
       "    </tr>\n",
       "    <tr>\n",
       "      <th>12</th>\n",
       "      <td>TBR0J228</td>\n",
       "      <td>12R22.5</td>\n",
       "      <td>M729</td>\n",
       "      <td>TH</td>\n",
       "      <td>17100</td>\n",
       "      <td>13328.228571</td>\n",
       "    </tr>\n",
       "    <tr>\n",
       "      <th>13</th>\n",
       "      <td>TBR0J085</td>\n",
       "      <td>12R22.5</td>\n",
       "      <td>R224</td>\n",
       "      <td>TH</td>\n",
       "      <td>15900</td>\n",
       "      <td>12392.914286</td>\n",
       "    </tr>\n",
       "    <tr>\n",
       "      <th>14</th>\n",
       "      <td>TBR0J658</td>\n",
       "      <td>275/70R22.5</td>\n",
       "      <td>R162</td>\n",
       "      <td>TH</td>\n",
       "      <td>16800</td>\n",
       "      <td>13094.400000</td>\n",
       "    </tr>\n",
       "    <tr>\n",
       "      <th>15</th>\n",
       "      <td>TBR0J621</td>\n",
       "      <td>275/70R22.5</td>\n",
       "      <td>R162</td>\n",
       "      <td>TH</td>\n",
       "      <td>16800</td>\n",
       "      <td>13094.400000</td>\n",
       "    </tr>\n",
       "    <tr>\n",
       "      <th>16</th>\n",
       "      <td>TBR0J458</td>\n",
       "      <td>275/70R22.5</td>\n",
       "      <td>R162</td>\n",
       "      <td>TH</td>\n",
       "      <td>16800</td>\n",
       "      <td>13094.400000</td>\n",
       "    </tr>\n",
       "    <tr>\n",
       "      <th>17</th>\n",
       "      <td>TBR0J596</td>\n",
       "      <td>275/70R22.5</td>\n",
       "      <td>R162</td>\n",
       "      <td>TH</td>\n",
       "      <td>16800</td>\n",
       "      <td>13094.400000</td>\n",
       "    </tr>\n",
       "    <tr>\n",
       "      <th>18</th>\n",
       "      <td>TBR0J642</td>\n",
       "      <td>275/70R22.5</td>\n",
       "      <td>UAP1</td>\n",
       "      <td>TH</td>\n",
       "      <td>17500</td>\n",
       "      <td>13640.000000</td>\n",
       "    </tr>\n",
       "    <tr>\n",
       "      <th>19</th>\n",
       "      <td>TBR02508</td>\n",
       "      <td>295/80R22.5</td>\n",
       "      <td>R294</td>\n",
       "      <td>JP</td>\n",
       "      <td>17100</td>\n",
       "      <td>13328.228571</td>\n",
       "    </tr>\n",
       "    <tr>\n",
       "      <th>20</th>\n",
       "      <td>TBR02507</td>\n",
       "      <td>295/80R22.5</td>\n",
       "      <td>R294</td>\n",
       "      <td>JP</td>\n",
       "      <td>17100</td>\n",
       "      <td>13328.228571</td>\n",
       "    </tr>\n",
       "    <tr>\n",
       "      <th>21</th>\n",
       "      <td>TBR05553</td>\n",
       "      <td>295/80R22.5</td>\n",
       "      <td>R150</td>\n",
       "      <td>JP</td>\n",
       "      <td>17200</td>\n",
       "      <td>13406.171429</td>\n",
       "    </tr>\n",
       "    <tr>\n",
       "      <th>22</th>\n",
       "      <td>TBR0J247</td>\n",
       "      <td>295/80R22.5</td>\n",
       "      <td>R150</td>\n",
       "      <td>TH</td>\n",
       "      <td>15400</td>\n",
       "      <td>12003.200000</td>\n",
       "    </tr>\n",
       "    <tr>\n",
       "      <th>23</th>\n",
       "      <td>TBR0J660</td>\n",
       "      <td>295/80R22.5</td>\n",
       "      <td>M798</td>\n",
       "      <td>TH</td>\n",
       "      <td>18300</td>\n",
       "      <td>14263.542857</td>\n",
       "    </tr>\n",
       "    <tr>\n",
       "      <th>24</th>\n",
       "      <td>TBR0J394</td>\n",
       "      <td>295/80R22.5</td>\n",
       "      <td>M798</td>\n",
       "      <td>TH</td>\n",
       "      <td>18300</td>\n",
       "      <td>14263.542857</td>\n",
       "    </tr>\n",
       "    <tr>\n",
       "      <th>25</th>\n",
       "      <td>TBR0J295</td>\n",
       "      <td>295/80R22.5</td>\n",
       "      <td>R156</td>\n",
       "      <td>TH</td>\n",
       "      <td>15400</td>\n",
       "      <td>12003.200000</td>\n",
       "    </tr>\n",
       "    <tr>\n",
       "      <th>26</th>\n",
       "      <td>TBR0L132</td>\n",
       "      <td>295/80R22.5</td>\n",
       "      <td>R156</td>\n",
       "      <td>TH</td>\n",
       "      <td>15400</td>\n",
       "      <td>12003.200000</td>\n",
       "    </tr>\n",
       "    <tr>\n",
       "      <th>27</th>\n",
       "      <td>TBR05798</td>\n",
       "      <td>295/80R22.5</td>\n",
       "      <td>R192</td>\n",
       "      <td>JP</td>\n",
       "      <td>18100</td>\n",
       "      <td>14107.657143</td>\n",
       "    </tr>\n",
       "    <tr>\n",
       "      <th>28</th>\n",
       "      <td>TBR05834</td>\n",
       "      <td>315/80R22.5</td>\n",
       "      <td>G515</td>\n",
       "      <td>JP</td>\n",
       "      <td>20055</td>\n",
       "      <td>15631.440000</td>\n",
       "    </tr>\n",
       "    <tr>\n",
       "      <th>29</th>\n",
       "      <td>TBR05611</td>\n",
       "      <td>315/80R22.5</td>\n",
       "      <td>R150</td>\n",
       "      <td>JP</td>\n",
       "      <td>20055</td>\n",
       "      <td>15631.440000</td>\n",
       "    </tr>\n",
       "    <tr>\n",
       "      <th>30</th>\n",
       "      <td>TBR0J600</td>\n",
       "      <td>315/80R22.5</td>\n",
       "      <td>R150</td>\n",
       "      <td>TH</td>\n",
       "      <td>17850</td>\n",
       "      <td>13912.800000</td>\n",
       "    </tr>\n",
       "    <tr>\n",
       "      <th>31</th>\n",
       "      <td>TBR0J416</td>\n",
       "      <td>315/80R22.5</td>\n",
       "      <td>R150</td>\n",
       "      <td>TH</td>\n",
       "      <td>17850</td>\n",
       "      <td>13912.800000</td>\n",
       "    </tr>\n",
       "    <tr>\n",
       "      <th>32</th>\n",
       "      <td>TBR0J136</td>\n",
       "      <td>315/80R22.5</td>\n",
       "      <td>R294</td>\n",
       "      <td>TH</td>\n",
       "      <td>17955</td>\n",
       "      <td>13994.640000</td>\n",
       "    </tr>\n",
       "    <tr>\n",
       "      <th>33</th>\n",
       "      <td>TBR0J487</td>\n",
       "      <td>315/80R22.5</td>\n",
       "      <td>M729</td>\n",
       "      <td>TH</td>\n",
       "      <td>18480</td>\n",
       "      <td>14403.840000</td>\n",
       "    </tr>\n",
       "    <tr>\n",
       "      <th>34</th>\n",
       "      <td>TBR0J488</td>\n",
       "      <td>315/80R22.5</td>\n",
       "      <td>M729</td>\n",
       "      <td>TH</td>\n",
       "      <td>18480</td>\n",
       "      <td>14403.840000</td>\n",
       "    </tr>\n",
       "    <tr>\n",
       "      <th>35</th>\n",
       "      <td>TBR0J314</td>\n",
       "      <td>315/80R22.5</td>\n",
       "      <td>G582</td>\n",
       "      <td>TH</td>\n",
       "      <td>18375</td>\n",
       "      <td>14322.000000</td>\n",
       "    </tr>\n",
       "    <tr>\n",
       "      <th>36</th>\n",
       "      <td>TBR0J418</td>\n",
       "      <td>315/80R22.5</td>\n",
       "      <td>M805</td>\n",
       "      <td>TH</td>\n",
       "      <td>20370</td>\n",
       "      <td>15876.960000</td>\n",
       "    </tr>\n",
       "    <tr>\n",
       "      <th>37</th>\n",
       "      <td>TBR0J414</td>\n",
       "      <td>385/65R22.5</td>\n",
       "      <td>R168</td>\n",
       "      <td>TH</td>\n",
       "      <td>22900</td>\n",
       "      <td>17848.914286</td>\n",
       "    </tr>\n",
       "    <tr>\n",
       "      <th>38</th>\n",
       "      <td>TBR0J070</td>\n",
       "      <td>385/65R22.5</td>\n",
       "      <td>R168</td>\n",
       "      <td>TH</td>\n",
       "      <td>22900</td>\n",
       "      <td>17848.914286</td>\n",
       "    </tr>\n",
       "    <tr>\n",
       "      <th>39</th>\n",
       "      <td>TBR0J185</td>\n",
       "      <td>385/65R22.5</td>\n",
       "      <td>R249</td>\n",
       "      <td>TH</td>\n",
       "      <td>22900</td>\n",
       "      <td>17848.914286</td>\n",
       "    </tr>\n",
       "    <tr>\n",
       "      <th>40</th>\n",
       "      <td>TBR00546</td>\n",
       "      <td>295/80R22.5</td>\n",
       "      <td>R154</td>\n",
       "      <td>JP</td>\n",
       "      <td>18100</td>\n",
       "      <td>14107.657143</td>\n",
       "    </tr>\n",
       "    <tr>\n",
       "      <th>41</th>\n",
       "      <td>TBR0J217</td>\n",
       "      <td>265/70R19.5</td>\n",
       "      <td>R168</td>\n",
       "      <td>TH</td>\n",
       "      <td>12900</td>\n",
       "      <td>10054.628571</td>\n",
       "    </tr>\n",
       "    <tr>\n",
       "      <th>42</th>\n",
       "      <td>TBR0J591</td>\n",
       "      <td>12R22.5</td>\n",
       "      <td>G540</td>\n",
       "      <td>TH</td>\n",
       "      <td>17100</td>\n",
       "      <td>13328.228571</td>\n",
       "    </tr>\n",
       "  </tbody>\n",
       "</table>\n",
       "</div>"
      ],
      "text/plain": [
       "        List           規格    花紋  產地  23 New List         未稅Net\n",
       "0   TBR06254  225/90R17.5  R225  JP         9300   7248.685714\n",
       "1   TBR06042  225/90R17.5  M810  JP         9800   7638.400000\n",
       "2   TBR06193  225/90R17.5  M810  JP         9800   7638.400000\n",
       "3   TBR09920  245/70R17.5  R168  JP        11600   9041.371429\n",
       "4   TBR06272  245/70R17.5  R168  JP        11600   9041.371429\n",
       "5   TBR06491  285/70R19.5  R184  JP        12900  10054.628571\n",
       "6   TBR06381  285/70R19.5  R184  JP        12900  10054.628571\n",
       "7   TBR0L098      1100R20  M840  TH        17400  13562.057143\n",
       "8   TBR04720      12R22.5  R150  JP        18500  14419.428571\n",
       "9   TBR04718      12R22.5  R150  JP        18500  14419.428571\n",
       "10  TBR0J067      12R22.5  R150  TH        16500  12860.571429\n",
       "11  TBR0L127      12R22.5  R150  TH        16500  12860.571429\n",
       "12  TBR0J228      12R22.5  M729  TH        17100  13328.228571\n",
       "13  TBR0J085      12R22.5  R224  TH        15900  12392.914286\n",
       "14  TBR0J658  275/70R22.5  R162  TH        16800  13094.400000\n",
       "15  TBR0J621  275/70R22.5  R162  TH        16800  13094.400000\n",
       "16  TBR0J458  275/70R22.5  R162  TH        16800  13094.400000\n",
       "17  TBR0J596  275/70R22.5  R162  TH        16800  13094.400000\n",
       "18  TBR0J642  275/70R22.5  UAP1  TH        17500  13640.000000\n",
       "19  TBR02508  295/80R22.5  R294  JP        17100  13328.228571\n",
       "20  TBR02507  295/80R22.5  R294  JP        17100  13328.228571\n",
       "21  TBR05553  295/80R22.5  R150  JP        17200  13406.171429\n",
       "22  TBR0J247  295/80R22.5  R150  TH        15400  12003.200000\n",
       "23  TBR0J660  295/80R22.5  M798  TH        18300  14263.542857\n",
       "24  TBR0J394  295/80R22.5  M798  TH        18300  14263.542857\n",
       "25  TBR0J295  295/80R22.5  R156  TH        15400  12003.200000\n",
       "26  TBR0L132  295/80R22.5  R156  TH        15400  12003.200000\n",
       "27  TBR05798  295/80R22.5  R192  JP        18100  14107.657143\n",
       "28  TBR05834  315/80R22.5  G515  JP        20055  15631.440000\n",
       "29  TBR05611  315/80R22.5  R150  JP        20055  15631.440000\n",
       "30  TBR0J600  315/80R22.5  R150  TH        17850  13912.800000\n",
       "31  TBR0J416  315/80R22.5  R150  TH        17850  13912.800000\n",
       "32  TBR0J136  315/80R22.5  R294  TH        17955  13994.640000\n",
       "33  TBR0J487  315/80R22.5  M729  TH        18480  14403.840000\n",
       "34  TBR0J488  315/80R22.5  M729  TH        18480  14403.840000\n",
       "35  TBR0J314  315/80R22.5  G582  TH        18375  14322.000000\n",
       "36  TBR0J418  315/80R22.5  M805  TH        20370  15876.960000\n",
       "37  TBR0J414  385/65R22.5  R168  TH        22900  17848.914286\n",
       "38  TBR0J070  385/65R22.5  R168  TH        22900  17848.914286\n",
       "39  TBR0J185  385/65R22.5  R249  TH        22900  17848.914286\n",
       "40  TBR00546  295/80R22.5  R154  JP        18100  14107.657143\n",
       "41  TBR0J217  265/70R19.5  R168  TH        12900  10054.628571\n",
       "42  TBR0J591      12R22.5  G540  TH        17100  13328.228571"
      ]
     },
     "execution_count": 38,
     "metadata": {},
     "output_type": "execute_result"
    }
   ],
   "source": [
    "tbr_price_list"
   ]
  },
  {
   "cell_type": "code",
   "execution_count": 39,
   "id": "1681f4d5-8326-49f7-b1fb-c3ec87ffbb92",
   "metadata": {},
   "outputs": [],
   "source": [
    "lsr = pd.read_clipboard()"
   ]
  },
  {
   "cell_type": "code",
   "execution_count": 42,
   "id": "5ab9d9fa-c4bf-46dd-be01-5a34950605fe",
   "metadata": {},
   "outputs": [],
   "source": [
    "lsr.columns = [\"規格\", \"花紋\", \"產地\", \"含稅牌價\"]"
   ]
  },
  {
   "cell_type": "code",
   "execution_count": 46,
   "id": "63e5e837-730c-44dd-bec3-20770649ae52",
   "metadata": {},
   "outputs": [],
   "source": [
    "lsr_price_list = pd.merge(lsr, result, on=[\"規格\", \"花紋\", \"產地\"])"
   ]
  },
  {
   "cell_type": "code",
   "execution_count": 48,
   "id": "7c0be516-f0b5-42ab-a79e-38ff50925697",
   "metadata": {},
   "outputs": [],
   "source": [
    "lsr_price_list = lsr_price_list[[\"List\", \"規格\", \"花紋\", \"產地\", \"含稅牌價\"]]"
   ]
  },
  {
   "cell_type": "code",
   "execution_count": 54,
   "id": "e360f27d-9d19-459b-b80a-3f5bc88374b2",
   "metadata": {},
   "outputs": [],
   "source": [
    "lsr_price_list[\"含稅牌價\"] = lsr_price_list[\"含稅牌價\"].str.replace(\",\", \"\").astype(int)"
   ]
  },
  {
   "cell_type": "code",
   "execution_count": 55,
   "id": "7911dfdd-a370-413c-914b-2d9238f4b408",
   "metadata": {},
   "outputs": [],
   "source": [
    "lsr_price_list[\"未稅Net\"] = lsr_price_list[\"含稅牌價\"].map(lambda x: (x / 1.05) * 0.965)"
   ]
  },
  {
   "cell_type": "code",
   "execution_count": 57,
   "id": "42539f6a-3823-4fb7-b578-6e6510be4757",
   "metadata": {},
   "outputs": [],
   "source": [
    "lsr_price_list.columns = [\"List\", \"規格\", \"花紋\", \"產地\", \"23 New List\", \"未稅Net\"]"
   ]
  },
  {
   "cell_type": "code",
   "execution_count": 60,
   "id": "94ceea05-f1f5-41d7-8d53-abfa9754a33b",
   "metadata": {},
   "outputs": [],
   "source": [
    "final = pd.concat([tbr_price_list, lsr_price_list]).reset_index(drop=True)"
   ]
  },
  {
   "cell_type": "code",
   "execution_count": 61,
   "id": "2ad0b5e8-5abb-4f3d-961f-ef88d30a7e85",
   "metadata": {},
   "outputs": [],
   "source": [
    "final.to_excel(r\"D:\\kc.hsu\\OneDrive - Bridgestone\\價格相關\\2023年\\提供給潔欣的資料\\20221222_價格底表.xlsx\", index=False)"
   ]
  },
  {
   "cell_type": "code",
   "execution_count": null,
   "id": "6425f343-b199-4ec2-b8a8-b5d6d9226e2e",
   "metadata": {},
   "outputs": [],
   "source": []
  }
 ],
 "metadata": {
  "kernelspec": {
   "display_name": "Python 3 (ipykernel)",
   "language": "python",
   "name": "python3"
  },
  "language_info": {
   "codemirror_mode": {
    "name": "ipython",
    "version": 3
   },
   "file_extension": ".py",
   "mimetype": "text/x-python",
   "name": "python",
   "nbconvert_exporter": "python",
   "pygments_lexer": "ipython3",
   "version": "3.10.6"
  }
 },
 "nbformat": 4,
 "nbformat_minor": 5
}
