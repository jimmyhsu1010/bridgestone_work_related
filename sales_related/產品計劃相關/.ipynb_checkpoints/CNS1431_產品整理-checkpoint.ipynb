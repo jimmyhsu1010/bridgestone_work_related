{
 "cells": [
  {
   "cell_type": "code",
   "execution_count": 1,
   "id": "f0da0bd4-5868-4fb2-bdcb-fb5a485a8fdc",
   "metadata": {},
   "outputs": [],
   "source": [
    "import pandas as pd\n",
    "# from pivottablejs import pivot_ui\n",
    "# import qgrid\n",
    "\n",
    "pd.set_option(\"display.max_columns\", None)\n",
    "# pd.set_option(\"display.max_rows\", None)\n",
    "pd.set_option(\"mode.chained_assignment\", None)\n",
    "import plotly.express as px\n",
    "import tkinter as tk\n",
    "from tkinter import filedialog\n",
    "from datetime import datetime"
   ]
  },
  {
   "cell_type": "code",
   "execution_count": 2,
   "id": "4086c9ff-bd39-46aa-b9a0-5215c280d8a9",
   "metadata": {},
   "outputs": [],
   "source": [
    "pcode = pd.read_clipboard()"
   ]
  },
  {
   "cell_type": "code",
   "execution_count": 3,
   "id": "34a2dfad-8a46-49fe-bff2-8783291766cd",
   "metadata": {},
   "outputs": [],
   "source": [
    "p_list = pcode[\"BPC\"].values.tolist()"
   ]
  },
  {
   "cell_type": "code",
   "execution_count": 4,
   "id": "72e94135-0dd7-46e8-99b3-9e105f60c56f",
   "metadata": {},
   "outputs": [],
   "source": [
    "df = pd.read_pickle(r\"D:\\kc.hsu\\OneDrive - Bridgestone\\數據\\銷售數據\\長期銷售記錄\\2017-202208.pkl\")"
   ]
  },
  {
   "cell_type": "code",
   "execution_count": 5,
   "id": "77eda1ea-fb40-4a23-91de-943447b20736",
   "metadata": {},
   "outputs": [],
   "source": [
    "df = df[df[\"母通路\"] != \"OE\"].reset_index(drop=True)"
   ]
  },
  {
   "cell_type": "code",
   "execution_count": 6,
   "id": "041bf40e-5299-46fc-96cd-5a06ba844b60",
   "metadata": {},
   "outputs": [],
   "source": [
    "df[\"實際出貨日\"] = pd.to_datetime(df[\"實際出貨日\"])"
   ]
  },
  {
   "cell_type": "code",
   "execution_count": 7,
   "id": "3e4f0372-2493-4801-8e8a-50ffe248fe42",
   "metadata": {},
   "outputs": [
    {
     "data": {
      "text/plain": [
       "Index(['訂單日期', '實際出貨日', '訂單單號', '訂單項次', '買方', '物料', '物料說明', '國別', '銷售數量',\n",
       "       '銷貨單價', '客戶名稱', '母通路', '大通路', '小通路', '日報通路', '業務名稱', '業務負責區域', '業務所屬區域',\n",
       "       '客戶登記地址', '客戶城市', '規格', '花紋', '工廠', 'TBR Premium', '輪胎類別', '品牌',\n",
       "       '客戶等級'],\n",
       "      dtype='object')"
      ]
     },
     "execution_count": 7,
     "metadata": {},
     "output_type": "execute_result"
    }
   ],
   "source": [
    "df.columns"
   ]
  },
  {
   "cell_type": "code",
   "execution_count": 8,
   "id": "0bd20801-2e9b-444c-99bb-60ee34a5f9a6",
   "metadata": {},
   "outputs": [],
   "source": [
    "result = df.groupby([pd.Grouper(key=\"實際出貨日\", freq=\"Y\"), \"物料\", \"輪胎類別\", \"規格\", \"花紋\"])[[\"銷售數量\"]].sum().astype(int)"
   ]
  },
  {
   "cell_type": "code",
   "execution_count": 9,
   "id": "4c539982-bfb5-409e-a1a9-bc0f67393040",
   "metadata": {},
   "outputs": [],
   "source": [
    "result = result.unstack(\"實際出貨日\").reset_index()"
   ]
  },
  {
   "cell_type": "code",
   "execution_count": 10,
   "id": "a4ac2ae3-f730-48f3-a7f3-2758c312111d",
   "metadata": {},
   "outputs": [],
   "source": [
    "result.columns = [\"物料\", \"輪胎類別\", \"規格\", \"花紋\", \"2017數量\", \"2018數量\", \"2019數量\", \"2020數量\", \"2021數量\", \"2022數量\"]"
   ]
  },
  {
   "cell_type": "code",
   "execution_count": 11,
   "id": "11d5eb28-2f44-4344-8747-10cd6b7daced",
   "metadata": {},
   "outputs": [],
   "source": [
    "result.fillna(0, inplace=True)"
   ]
  },
  {
   "cell_type": "code",
   "execution_count": 12,
   "id": "6b6098c5-f330-4fe9-81e7-8404d736374f",
   "metadata": {},
   "outputs": [
    {
     "data": {
      "text/html": [
       "<div>\n",
       "<style scoped>\n",
       "    .dataframe tbody tr th:only-of-type {\n",
       "        vertical-align: middle;\n",
       "    }\n",
       "\n",
       "    .dataframe tbody tr th {\n",
       "        vertical-align: top;\n",
       "    }\n",
       "\n",
       "    .dataframe thead th {\n",
       "        text-align: right;\n",
       "    }\n",
       "</style>\n",
       "<table border=\"1\" class=\"dataframe\">\n",
       "  <thead>\n",
       "    <tr style=\"text-align: right;\">\n",
       "      <th></th>\n",
       "      <th>物料</th>\n",
       "      <th>輪胎類別</th>\n",
       "      <th>規格</th>\n",
       "      <th>花紋</th>\n",
       "      <th>2017數量</th>\n",
       "      <th>2018數量</th>\n",
       "      <th>2019數量</th>\n",
       "      <th>2020數量</th>\n",
       "      <th>2021數量</th>\n",
       "      <th>2022數量</th>\n",
       "    </tr>\n",
       "  </thead>\n",
       "  <tbody>\n",
       "    <tr>\n",
       "      <th>0</th>\n",
       "      <td>LSR01180</td>\n",
       "      <td>LSR</td>\n",
       "      <td>750R16</td>\n",
       "      <td>R225</td>\n",
       "      <td>7556.0</td>\n",
       "      <td>6313.0</td>\n",
       "      <td>5371.0</td>\n",
       "      <td>5320.0</td>\n",
       "      <td>4693.0</td>\n",
       "      <td>3560.0</td>\n",
       "    </tr>\n",
       "    <tr>\n",
       "      <th>1</th>\n",
       "      <td>LSR01270</td>\n",
       "      <td>LSR</td>\n",
       "      <td>825R16</td>\n",
       "      <td>R225</td>\n",
       "      <td>7693.0</td>\n",
       "      <td>6422.0</td>\n",
       "      <td>5496.0</td>\n",
       "      <td>5011.0</td>\n",
       "      <td>4749.0</td>\n",
       "      <td>3542.0</td>\n",
       "    </tr>\n",
       "    <tr>\n",
       "      <th>2</th>\n",
       "      <td>LSR01297</td>\n",
       "      <td>LSR</td>\n",
       "      <td>9.5R17.5</td>\n",
       "      <td>R156</td>\n",
       "      <td>91.0</td>\n",
       "      <td>0.0</td>\n",
       "      <td>0.0</td>\n",
       "      <td>0.0</td>\n",
       "      <td>0.0</td>\n",
       "      <td>0.0</td>\n",
       "    </tr>\n",
       "    <tr>\n",
       "      <th>3</th>\n",
       "      <td>LSR03459</td>\n",
       "      <td>LSR</td>\n",
       "      <td>9.5R17.5</td>\n",
       "      <td>R294</td>\n",
       "      <td>13372.0</td>\n",
       "      <td>13244.0</td>\n",
       "      <td>12839.0</td>\n",
       "      <td>13438.0</td>\n",
       "      <td>13805.0</td>\n",
       "      <td>8795.0</td>\n",
       "    </tr>\n",
       "    <tr>\n",
       "      <th>4</th>\n",
       "      <td>LSR03733</td>\n",
       "      <td>LSR</td>\n",
       "      <td>215/75R17.5</td>\n",
       "      <td>R294</td>\n",
       "      <td>3756.0</td>\n",
       "      <td>4643.0</td>\n",
       "      <td>5122.0</td>\n",
       "      <td>5000.0</td>\n",
       "      <td>615.0</td>\n",
       "      <td>0.0</td>\n",
       "    </tr>\n",
       "    <tr>\n",
       "      <th>...</th>\n",
       "      <td>...</td>\n",
       "      <td>...</td>\n",
       "      <td>...</td>\n",
       "      <td>...</td>\n",
       "      <td>...</td>\n",
       "      <td>...</td>\n",
       "      <td>...</td>\n",
       "      <td>...</td>\n",
       "      <td>...</td>\n",
       "      <td>...</td>\n",
       "    </tr>\n",
       "    <tr>\n",
       "      <th>120</th>\n",
       "      <td>TBR0L110</td>\n",
       "      <td>TBR</td>\n",
       "      <td>11R22.5</td>\n",
       "      <td>R156</td>\n",
       "      <td>249.0</td>\n",
       "      <td>78.0</td>\n",
       "      <td>57.0</td>\n",
       "      <td>40.0</td>\n",
       "      <td>0.0</td>\n",
       "      <td>0.0</td>\n",
       "    </tr>\n",
       "    <tr>\n",
       "      <th>121</th>\n",
       "      <td>TBR0L112</td>\n",
       "      <td>TBR</td>\n",
       "      <td>1100R20</td>\n",
       "      <td>R156</td>\n",
       "      <td>49.0</td>\n",
       "      <td>158.0</td>\n",
       "      <td>207.0</td>\n",
       "      <td>105.0</td>\n",
       "      <td>165.0</td>\n",
       "      <td>37.0</td>\n",
       "    </tr>\n",
       "    <tr>\n",
       "      <th>122</th>\n",
       "      <td>TBR0L127</td>\n",
       "      <td>TBR</td>\n",
       "      <td>12R22.5</td>\n",
       "      <td>R150</td>\n",
       "      <td>0.0</td>\n",
       "      <td>73.0</td>\n",
       "      <td>81.0</td>\n",
       "      <td>0.0</td>\n",
       "      <td>0.0</td>\n",
       "      <td>0.0</td>\n",
       "    </tr>\n",
       "    <tr>\n",
       "      <th>123</th>\n",
       "      <td>TBR0L151</td>\n",
       "      <td>TBR</td>\n",
       "      <td>11R22.5</td>\n",
       "      <td>R156</td>\n",
       "      <td>0.0</td>\n",
       "      <td>0.0</td>\n",
       "      <td>0.0</td>\n",
       "      <td>15.0</td>\n",
       "      <td>20.0</td>\n",
       "      <td>17.0</td>\n",
       "    </tr>\n",
       "    <tr>\n",
       "      <th>124</th>\n",
       "      <td>TBR0L154</td>\n",
       "      <td>TBR</td>\n",
       "      <td>1000R20</td>\n",
       "      <td>R156</td>\n",
       "      <td>0.0</td>\n",
       "      <td>0.0</td>\n",
       "      <td>0.0</td>\n",
       "      <td>181.0</td>\n",
       "      <td>138.0</td>\n",
       "      <td>73.0</td>\n",
       "    </tr>\n",
       "  </tbody>\n",
       "</table>\n",
       "<p>125 rows × 10 columns</p>\n",
       "</div>"
      ],
      "text/plain": [
       "           物料 輪胎類別           規格    花紋   2017數量   2018數量   2019數量   2020數量  \\\n",
       "0    LSR01180  LSR       750R16  R225   7556.0   6313.0   5371.0   5320.0   \n",
       "1    LSR01270  LSR       825R16  R225   7693.0   6422.0   5496.0   5011.0   \n",
       "2    LSR01297  LSR     9.5R17.5  R156     91.0      0.0      0.0      0.0   \n",
       "3    LSR03459  LSR     9.5R17.5  R294  13372.0  13244.0  12839.0  13438.0   \n",
       "4    LSR03733  LSR  215/75R17.5  R294   3756.0   4643.0   5122.0   5000.0   \n",
       "..        ...  ...          ...   ...      ...      ...      ...      ...   \n",
       "120  TBR0L110  TBR      11R22.5  R156    249.0     78.0     57.0     40.0   \n",
       "121  TBR0L112  TBR      1100R20  R156     49.0    158.0    207.0    105.0   \n",
       "122  TBR0L127  TBR      12R22.5  R150      0.0     73.0     81.0      0.0   \n",
       "123  TBR0L151  TBR      11R22.5  R156      0.0      0.0      0.0     15.0   \n",
       "124  TBR0L154  TBR      1000R20  R156      0.0      0.0      0.0    181.0   \n",
       "\n",
       "      2021數量  2022數量  \n",
       "0     4693.0  3560.0  \n",
       "1     4749.0  3542.0  \n",
       "2        0.0     0.0  \n",
       "3    13805.0  8795.0  \n",
       "4      615.0     0.0  \n",
       "..       ...     ...  \n",
       "120      0.0     0.0  \n",
       "121    165.0    37.0  \n",
       "122      0.0     0.0  \n",
       "123     20.0    17.0  \n",
       "124    138.0    73.0  \n",
       "\n",
       "[125 rows x 10 columns]"
      ]
     },
     "execution_count": 12,
     "metadata": {},
     "output_type": "execute_result"
    }
   ],
   "source": [
    "result"
   ]
  },
  {
   "cell_type": "code",
   "execution_count": null,
   "id": "1f7499ad-1ed9-4032-9911-7c6aedaa7690",
   "metadata": {},
   "outputs": [],
   "source": []
  }
 ],
 "metadata": {
  "kernelspec": {
   "display_name": "Python 3 (ipykernel)",
   "language": "python",
   "name": "python3"
  },
  "language_info": {
   "codemirror_mode": {
    "name": "ipython",
    "version": 3
   },
   "file_extension": ".py",
   "mimetype": "text/x-python",
   "name": "python",
   "nbconvert_exporter": "python",
   "pygments_lexer": "ipython3",
   "version": "3.10.6"
  }
 },
 "nbformat": 4,
 "nbformat_minor": 5
}
