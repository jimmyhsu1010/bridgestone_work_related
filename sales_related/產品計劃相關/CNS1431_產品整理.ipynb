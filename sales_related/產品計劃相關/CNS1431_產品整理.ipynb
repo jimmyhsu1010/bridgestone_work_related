{
 "cells": [
  {
   "cell_type": "code",
   "execution_count": 1,
   "id": "f0da0bd4-5868-4fb2-bdcb-fb5a485a8fdc",
   "metadata": {},
   "outputs": [],
   "source": [
    "import pandas as pd\n",
    "# from pivottablejs import pivot_ui\n",
    "# import qgrid\n",
    "\n",
    "pd.set_option(\"display.max_columns\", None)\n",
    "# pd.set_option(\"display.max_rows\", None)\n",
    "pd.set_option(\"mode.chained_assignment\", None)\n",
    "import plotly.express as px\n",
    "import tkinter as tk\n",
    "from tkinter import filedialog\n",
    "from datetime import datetime"
   ]
  },
  {
   "cell_type": "code",
   "execution_count": 20,
   "id": "4086c9ff-bd39-46aa-b9a0-5215c280d8a9",
   "metadata": {},
   "outputs": [],
   "source": [
    "pcode = pd.read_clipboard()"
   ]
  },
  {
   "cell_type": "code",
   "execution_count": 34,
   "id": "34a2dfad-8a46-49fe-bff2-8783291766cd",
   "metadata": {},
   "outputs": [],
   "source": [
    "p_list = pcode[\"BPC\"].values.tolist()"
   ]
  },
  {
   "cell_type": "code",
   "execution_count": 35,
   "id": "72e94135-0dd7-46e8-99b3-9e105f60c56f",
   "metadata": {},
   "outputs": [],
   "source": [
    "df = pd.read_pickle(r\"D:\\kc.hsu\\OneDrive - Bridgestone\\數據\\銷售數據\\長期銷售記錄\\2017-202208.pkl\")"
   ]
  },
  {
   "cell_type": "code",
   "execution_count": 36,
   "id": "77eda1ea-fb40-4a23-91de-943447b20736",
   "metadata": {},
   "outputs": [],
   "source": [
    "df = df[df[\"母通路\"] != \"OE\"].reset_index(drop=True)"
   ]
  },
  {
   "cell_type": "code",
   "execution_count": 37,
   "id": "041bf40e-5299-46fc-96cd-5a06ba844b60",
   "metadata": {},
   "outputs": [],
   "source": [
    "df[\"實際出貨日\"] = pd.to_datetime(df[\"實際出貨日\"])"
   ]
  },
  {
   "cell_type": "code",
   "execution_count": 38,
   "id": "3e4f0372-2493-4801-8e8a-50ffe248fe42",
   "metadata": {},
   "outputs": [
    {
     "data": {
      "text/plain": [
       "Index(['訂單日期', '實際出貨日', '訂單單號', '訂單項次', '買方', '物料', '物料說明', '國別', '銷售數量',\n",
       "       '銷貨單價', '客戶名稱', '母通路', '大通路', '小通路', '日報通路', '業務名稱', '業務負責區域', '業務所屬區域',\n",
       "       '客戶登記地址', '客戶城市', '規格', '花紋', '工廠', 'TBR Premium', '輪胎類別', '品牌',\n",
       "       '客戶等級'],\n",
       "      dtype='object')"
      ]
     },
     "execution_count": 38,
     "metadata": {},
     "output_type": "execute_result"
    }
   ],
   "source": [
    "df.columns"
   ]
  },
  {
   "cell_type": "code",
   "execution_count": 40,
   "id": "0bd20801-2e9b-444c-99bb-60ee34a5f9a6",
   "metadata": {},
   "outputs": [],
   "source": [
    "result = df.groupby([pd.Grouper(key=\"實際出貨日\", freq=\"Y\"), \"輪胎類別\", \"規格\", \"花紋\", \"物料\"])[[\"銷售數量\"]].sum().astype(int)"
   ]
  },
  {
   "cell_type": "code",
   "execution_count": 41,
   "id": "4c539982-bfb5-409e-a1a9-bc0f67393040",
   "metadata": {},
   "outputs": [],
   "source": [
    "result = result.unstack(\"實際出貨日\").reset_index()"
   ]
  },
  {
   "cell_type": "code",
   "execution_count": 42,
   "id": "a4ac2ae3-f730-48f3-a7f3-2758c312111d",
   "metadata": {},
   "outputs": [],
   "source": [
    "result.columns = [\"輪胎類別\", \"規格\", \"花紋\", \"物料\", \"2017數量\", \"2018數量\", \"2019數量\", \"2020數量\", \"2021數量\", \"2022數量\"]"
   ]
  },
  {
   "cell_type": "code",
   "execution_count": 43,
   "id": "11d5eb28-2f44-4344-8747-10cd6b7daced",
   "metadata": {},
   "outputs": [],
   "source": [
    "result.fillna(0, inplace=True)"
   ]
  },
  {
   "cell_type": "code",
   "execution_count": 44,
   "id": "6b6098c5-f330-4fe9-81e7-8404d736374f",
   "metadata": {},
   "outputs": [],
   "source": [
    "result = result.astype({'2017數量': int, '2018數量': int, '2019數量': int, '2020數量': int,\n",
    "       '2021數量': int, '2022數量':int})"
   ]
  },
  {
   "cell_type": "code",
   "execution_count": 45,
   "id": "e5092dc9-a695-46aa-8740-fd488cba84f5",
   "metadata": {},
   "outputs": [
    {
     "data": {
      "text/html": [
       "<div>\n",
       "<style scoped>\n",
       "    .dataframe tbody tr th:only-of-type {\n",
       "        vertical-align: middle;\n",
       "    }\n",
       "\n",
       "    .dataframe tbody tr th {\n",
       "        vertical-align: top;\n",
       "    }\n",
       "\n",
       "    .dataframe thead th {\n",
       "        text-align: right;\n",
       "    }\n",
       "</style>\n",
       "<table border=\"1\" class=\"dataframe\">\n",
       "  <thead>\n",
       "    <tr style=\"text-align: right;\">\n",
       "      <th></th>\n",
       "      <th>輪胎類別</th>\n",
       "      <th>規格</th>\n",
       "      <th>花紋</th>\n",
       "      <th>物料</th>\n",
       "      <th>2017數量</th>\n",
       "      <th>2018數量</th>\n",
       "      <th>2019數量</th>\n",
       "      <th>2020數量</th>\n",
       "      <th>2021數量</th>\n",
       "      <th>2022數量</th>\n",
       "    </tr>\n",
       "  </thead>\n",
       "  <tbody>\n",
       "    <tr>\n",
       "      <th>0</th>\n",
       "      <td>LSR</td>\n",
       "      <td>205/75R17.5</td>\n",
       "      <td>R227</td>\n",
       "      <td>LSR08328</td>\n",
       "      <td>0</td>\n",
       "      <td>0</td>\n",
       "      <td>0</td>\n",
       "      <td>0</td>\n",
       "      <td>35</td>\n",
       "      <td>0</td>\n",
       "    </tr>\n",
       "    <tr>\n",
       "      <th>1</th>\n",
       "      <td>LSR</td>\n",
       "      <td>205/75R17.5</td>\n",
       "      <td>R294</td>\n",
       "      <td>LSR05127</td>\n",
       "      <td>3706</td>\n",
       "      <td>3340</td>\n",
       "      <td>3392</td>\n",
       "      <td>2674</td>\n",
       "      <td>2439</td>\n",
       "      <td>1345</td>\n",
       "    </tr>\n",
       "    <tr>\n",
       "      <th>2</th>\n",
       "      <td>LSR</td>\n",
       "      <td>215/75R17.5</td>\n",
       "      <td>R156</td>\n",
       "      <td>LSR0L045</td>\n",
       "      <td>0</td>\n",
       "      <td>0</td>\n",
       "      <td>0</td>\n",
       "      <td>0</td>\n",
       "      <td>499</td>\n",
       "      <td>312</td>\n",
       "    </tr>\n",
       "    <tr>\n",
       "      <th>3</th>\n",
       "      <td>LSR</td>\n",
       "      <td>215/75R17.5</td>\n",
       "      <td>R294</td>\n",
       "      <td>LSR03733</td>\n",
       "      <td>3756</td>\n",
       "      <td>4643</td>\n",
       "      <td>5122</td>\n",
       "      <td>5000</td>\n",
       "      <td>615</td>\n",
       "      <td>0</td>\n",
       "    </tr>\n",
       "    <tr>\n",
       "      <th>4</th>\n",
       "      <td>LSR</td>\n",
       "      <td>215/75R17.5</td>\n",
       "      <td>R294</td>\n",
       "      <td>LSR03784</td>\n",
       "      <td>0</td>\n",
       "      <td>0</td>\n",
       "      <td>0</td>\n",
       "      <td>0</td>\n",
       "      <td>25</td>\n",
       "      <td>0</td>\n",
       "    </tr>\n",
       "    <tr>\n",
       "      <th>...</th>\n",
       "      <td>...</td>\n",
       "      <td>...</td>\n",
       "      <td>...</td>\n",
       "      <td>...</td>\n",
       "      <td>...</td>\n",
       "      <td>...</td>\n",
       "      <td>...</td>\n",
       "      <td>...</td>\n",
       "      <td>...</td>\n",
       "      <td>...</td>\n",
       "    </tr>\n",
       "    <tr>\n",
       "      <th>120</th>\n",
       "      <td>TBR</td>\n",
       "      <td>425/65R22.5</td>\n",
       "      <td>M748</td>\n",
       "      <td>TBR05092</td>\n",
       "      <td>4</td>\n",
       "      <td>9</td>\n",
       "      <td>4</td>\n",
       "      <td>0</td>\n",
       "      <td>0</td>\n",
       "      <td>0</td>\n",
       "    </tr>\n",
       "    <tr>\n",
       "      <th>121</th>\n",
       "      <td>TBR</td>\n",
       "      <td>445/65R22.5</td>\n",
       "      <td>M748</td>\n",
       "      <td>TBR05161</td>\n",
       "      <td>0</td>\n",
       "      <td>2</td>\n",
       "      <td>0</td>\n",
       "      <td>0</td>\n",
       "      <td>0</td>\n",
       "      <td>0</td>\n",
       "    </tr>\n",
       "    <tr>\n",
       "      <th>122</th>\n",
       "      <td>TBR</td>\n",
       "      <td>825R20</td>\n",
       "      <td>R210</td>\n",
       "      <td>TBR06461</td>\n",
       "      <td>419</td>\n",
       "      <td>336</td>\n",
       "      <td>253</td>\n",
       "      <td>86</td>\n",
       "      <td>0</td>\n",
       "      <td>0</td>\n",
       "    </tr>\n",
       "    <tr>\n",
       "      <th>123</th>\n",
       "      <td>TBR</td>\n",
       "      <td>900R20</td>\n",
       "      <td>G610</td>\n",
       "      <td>TBR06642</td>\n",
       "      <td>137</td>\n",
       "      <td>113</td>\n",
       "      <td>78</td>\n",
       "      <td>19</td>\n",
       "      <td>5</td>\n",
       "      <td>0</td>\n",
       "    </tr>\n",
       "    <tr>\n",
       "      <th>124</th>\n",
       "      <td>TBR</td>\n",
       "      <td>900R20</td>\n",
       "      <td>G610</td>\n",
       "      <td>TBR0L041</td>\n",
       "      <td>0</td>\n",
       "      <td>0</td>\n",
       "      <td>0</td>\n",
       "      <td>0</td>\n",
       "      <td>24</td>\n",
       "      <td>0</td>\n",
       "    </tr>\n",
       "  </tbody>\n",
       "</table>\n",
       "<p>125 rows × 10 columns</p>\n",
       "</div>"
      ],
      "text/plain": [
       "    輪胎類別           規格    花紋        物料  2017數量  2018數量  2019數量  2020數量  2021數量  \\\n",
       "0    LSR  205/75R17.5  R227  LSR08328       0       0       0       0      35   \n",
       "1    LSR  205/75R17.5  R294  LSR05127    3706    3340    3392    2674    2439   \n",
       "2    LSR  215/75R17.5  R156  LSR0L045       0       0       0       0     499   \n",
       "3    LSR  215/75R17.5  R294  LSR03733    3756    4643    5122    5000     615   \n",
       "4    LSR  215/75R17.5  R294  LSR03784       0       0       0       0      25   \n",
       "..   ...          ...   ...       ...     ...     ...     ...     ...     ...   \n",
       "120  TBR  425/65R22.5  M748  TBR05092       4       9       4       0       0   \n",
       "121  TBR  445/65R22.5  M748  TBR05161       0       2       0       0       0   \n",
       "122  TBR       825R20  R210  TBR06461     419     336     253      86       0   \n",
       "123  TBR       900R20  G610  TBR06642     137     113      78      19       5   \n",
       "124  TBR       900R20  G610  TBR0L041       0       0       0       0      24   \n",
       "\n",
       "     2022數量  \n",
       "0         0  \n",
       "1      1345  \n",
       "2       312  \n",
       "3         0  \n",
       "4         0  \n",
       "..      ...  \n",
       "120       0  \n",
       "121       0  \n",
       "122       0  \n",
       "123       0  \n",
       "124       0  \n",
       "\n",
       "[125 rows x 10 columns]"
      ]
     },
     "execution_count": 45,
     "metadata": {},
     "output_type": "execute_result"
    }
   ],
   "source": [
    "result"
   ]
  },
  {
   "cell_type": "code",
   "execution_count": 46,
   "id": "1f7499ad-1ed9-4032-9911-7c6aedaa7690",
   "metadata": {},
   "outputs": [],
   "source": [
    "result.to_excel(r\"D:\\kc.hsu\\OneDrive - Bridgestone\\Products management\\產品certificate相關\\size list idea_2017-2022銷售實績.xlsx\", index=False)"
   ]
  },
  {
   "cell_type": "code",
   "execution_count": null,
   "id": "b9f4efc8-f142-4909-b4bf-e31f8c83fb9b",
   "metadata": {},
   "outputs": [],
   "source": []
  }
 ],
 "metadata": {
  "kernelspec": {
   "display_name": "Python 3 (ipykernel)",
   "language": "python",
   "name": "python3"
  },
  "language_info": {
   "codemirror_mode": {
    "name": "ipython",
    "version": 3
   },
   "file_extension": ".py",
   "mimetype": "text/x-python",
   "name": "python",
   "nbconvert_exporter": "python",
   "pygments_lexer": "ipython3",
   "version": "3.10.6"
  }
 },
 "nbformat": 4,
 "nbformat_minor": 5
}
