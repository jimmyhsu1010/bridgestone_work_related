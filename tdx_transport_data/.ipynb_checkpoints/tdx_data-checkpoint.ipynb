{
 "cells": [
  {
   "cell_type": "code",
   "execution_count": null,
   "id": "426d427d-b7bd-4aac-a8cd-1cbccfc992bb",
   "metadata": {},
   "outputs": [],
   "source": [
    "import requests\n",
    "import pandas as pd\n",
    "import time\n",
    "pd.set_option(\"display.max_columns\", None)\n",
    "import datetime\n",
    "from geopy.distance import geodesic"
   ]
  },
  {
   "cell_type": "code",
   "execution_count": null,
   "id": "921b0050-8e98-4d78-aa25-14aa5cbb93d0",
   "metadata": {},
   "outputs": [],
   "source": [
    "client_id = \"kc.hsu-e51d77a0-5d9b-418b\"\n",
    "client_secret = \"afbb6a0a-f69d-4556-bd0b-4e53eae46379\""
   ]
  },
  {
   "cell_type": "code",
   "execution_count": null,
   "id": "81a5b175-0216-443d-a259-2dd5e680ef79",
   "metadata": {},
   "outputs": [],
   "source": [
    "class TDX():\n",
    "    def __init__(self, client_id, client_secret):\n",
    "        self.client_id = client_id\n",
    "        self.client_secret = client_secret\n",
    "        \n",
    "    def get_token(self):\n",
    "        token_url = \"https://tdx.transportdata.tw/auth/realms/TDXConnect/protocol/openid-connect/token\"\n",
    "        headers = {'content-type': 'application/x-www-form-urlencoded'}\n",
    "        data = {\n",
    "            'grant_type': 'client_credentials',\n",
    "            'client_id': self.client_id,\n",
    "            'client_secret': self.client_secret\n",
    "        }\n",
    "        response = requests.post(token_url, headers=headers, data=data)\n",
    "        return response.json()['access_token']\n",
    "    \n",
    "    def get_response(self, url):\n",
    "        headers = {\"authorization\": f\"Bearer {self.get_token()}\"}\n",
    "        response = requests.get(url, headers=headers)\n",
    "        return response.json()\n",
    "        \n",
    "        \n",
    "        \n",
    "        \n",
    "        \n",
    "        \n",
    "        \n",
    "        \n",
    "        \n",
    "        \n",
    "        \n",
    "        \n",
    "        \n",
    "        \n",
    "        "
   ]
  },
  {
   "cell_type": "code",
   "execution_count": null,
   "id": "73f22a67-e952-461c-8a46-d45f2d572ea9",
   "metadata": {},
   "outputs": [],
   "source": [
    "dfs = []\n",
    "cities = [\"Taipei\", \"NewTaipei\", \"Taoyuan\", \"Taichung\", \"Tainan\", \"Kaohsiung\", \"Keelung\", \"Hsinchu\", \"HsinchuCounty\", \"MiaoliCounty\", \"ChanghuaCounty\", \"NantouCounty\", \"YunlinCounty\", \"ChiayiCounty\", \"ChiayiCounty\", \"Chiayi\", \"PingtungCounty\", \"YilanCounty\", \"HualienCounty\", \"TaitungCounty\", \"KinmenCounty\", \"PenghuCounty\", \"LienchiangCounty\"]\n",
    "for city in cities:\n",
    "    tdx = TDX(client_id, client_secret)\n",
    "    base_url = \"https://tdx.transportdata.tw/api/basic\"\n",
    "    endpoint = \"/v2/Bus/Operator/City/\"\n",
    "    url = f\"{base_url}{endpoint}{city}\"\n",
    "    operators = tdx.get_response(url)\n",
    "    dfs.append(pd.DataFrame.from_records(operators))\n",
    "df = pd.concat(dfs)"
   ]
  },
  {
   "cell_type": "code",
   "execution_count": null,
   "id": "72140264-0c92-4bd5-9171-f65cc1435098",
   "metadata": {},
   "outputs": [],
   "source": [
    "df[\"OperatorNameZh_tw\"] = df[\"OperatorName\"].map(lambda x: x[\"Zh_tw\"])"
   ]
  },
  {
   "cell_type": "code",
   "execution_count": null,
   "id": "b3aa0746-a3d0-4f9b-904a-04babcc7b189",
   "metadata": {},
   "outputs": [],
   "source": [
    "df.to_excel(r\"D:\\kc.hsu\\OneDrive - Bridgestone\\數據\\TDX\\20221026_市區公車業者名單.xlsx\", index=False)"
   ]
  },
  {
   "cell_type": "code",
   "execution_count": null,
   "id": "b9995c73-342c-4afe-ad3c-622827ca4f08",
   "metadata": {},
   "outputs": [],
   "source": [
    "tdx = TDX(client_id, client_secret)\n",
    "base_url = \"https://tdx.transportdata.tw/api/basic\"\n",
    "endpoint = \"/v2/Bus/Operator/InterCity\"\n",
    "url = f\"{base_url}{endpoint}\"\n",
    "operators = tdx.get_response(url)\n",
    "intercity_operators = pd.DataFrame.from_records(operators)\n",
    "intercity_operators[\"OperatorNameZh_tw\"] = intercity_operators[\"OperatorName\"].map(lambda x: x[\"Zh_tw\"])"
   ]
  },
  {
   "cell_type": "code",
   "execution_count": null,
   "id": "6feb07d3-9830-41dd-8cac-09f78653e009",
   "metadata": {},
   "outputs": [],
   "source": [
    "intercity_operators.to_excel(r\"D:\\kc.hsu\\OneDrive - Bridgestone\\數據\\TDX\\20221026_國道客運業者名單.xlsx\", index=False)"
   ]
  },
  {
   "cell_type": "code",
   "execution_count": null,
   "id": "76807c18-d76f-4e99-80e3-04c8cddbfd50",
   "metadata": {},
   "outputs": [],
   "source": []
  },
  {
   "cell_type": "code",
   "execution_count": null,
   "id": "4b3013af-5679-43d0-9552-cb9575e2f959",
   "metadata": {},
   "outputs": [],
   "source": []
  },
  {
   "cell_type": "code",
   "execution_count": null,
   "id": "3e77e5b4-b5ef-4573-ac6e-3a321f7df273",
   "metadata": {},
   "outputs": [],
   "source": [
    "def time_range_data(st_year=0, st_month=0, st_day=0, st_hour=0, st_min=0, end_year=0, end_month=0, end_day=0, end_hour=0, end_min=0):\n",
    "    st_time = datetime.datetime(st_year, st_month, st_day, st_hour - 8, st_min).replace(tzinfo=datetime.timezone.utc).astimezone(tz=None).replace(microsecond=0).isoformat()\n",
    "    end_time = datetime.datetime(end_year, end_month, end_day, end_hour - 8, end_min).replace(tzinfo=datetime.timezone.utc).astimezone(tz=None).replace(microsecond=0).isoformat()\n",
    "    dfs = []\n",
    "    while True:\n",
    "        current_time = datetime.datetime.utcnow().replace(tzinfo=datetime.timezone.utc).astimezone(tz=None).replace(microsecond=0).isoformat()\n",
    "        if current_time <= end_time and current_time >= st_time:\n",
    "            tdx = TDX(client_id, client_secret)\n",
    "            base_url = \"https://tdx.transportdata.tw/api/basic\"\n",
    "            endpoint = \"/v2/Bus/RealTimeByFrequency/Streaming/InterCity\"\n",
    "            # filter = \"Direction eq 1\"  # 順逆行: [0:'順行', 1:'逆行']\n",
    "            url = f\"{base_url}{endpoint}\"\n",
    "            result = pd.DataFrame.from_records(tdx.get_response(url))\n",
    "            result[\"Longitude\"] = result[\"BusPosition\"].map(lambda x: x[\"PositionLon\"])\n",
    "            result[\"Latitude\"] = result[\"BusPosition\"].map(lambda x: x[\"PositionLat\"])\n",
    "            dfs.append(result)\n",
    "            time.sleep(20)\n",
    "        elif current_time < st_time:\n",
    "            # print(\"等待開始\")\n",
    "            continue\n",
    "        else:\n",
    "            print(\"抓取結束\")\n",
    "            result = pd.concat(dfs)\n",
    "            print(result)\n",
    "            break\n",
    "    return result\n",
    "    "
   ]
  },
  {
   "cell_type": "code",
   "execution_count": null,
   "id": "ae941290-9cc1-4172-818a-9cd2a5fa6e91",
   "metadata": {},
   "outputs": [],
   "source": [
    "df = time_range_data(2022, 10, 27, 15, 31, 2022, 10, 27, 15, 40)"
   ]
  },
  {
   "cell_type": "code",
   "execution_count": null,
   "id": "8a915615-9aca-4eae-857f-982a8dfea35c",
   "metadata": {},
   "outputs": [],
   "source": [
    "df[\"Tuples\"] = df[[\"Latitude\", \"Longitude\"]].apply(tuple, axis=1)"
   ]
  },
  {
   "cell_type": "code",
   "execution_count": null,
   "id": "8047eac4-f00b-4667-abfb-221b22dd2360",
   "metadata": {},
   "outputs": [],
   "source": [
    "df = df.drop(\"Tuples2\", axis=1)"
   ]
  },
  {
   "cell_type": "code",
   "execution_count": null,
   "id": "905379fc-c224-410a-bea1-aa6e3c8a826e",
   "metadata": {},
   "outputs": [],
   "source": [
    "!!!!!\n",
    "df.groupby([\"PlateNumb\", \"Tuples\"]).apply(lambda x: geodesic(x[\"Tuples\"], x[\"Tuples\"].shift(-1)) if pd.notna(x[\"Tuples\"].shift(-1)) else 0)"
   ]
  },
  {
   "cell_type": "code",
   "execution_count": null,
   "id": "70146e11-c1d4-4f63-97a1-246b409e1f68",
   "metadata": {},
   "outputs": [],
   "source": [
    "test[\"Distance\"] = test.apply(lambda x: geodesic(x[\"Tuples\"], x[\"Tuples2\"]).meters if pd.notna(x[\"Tuples2\"]) else 0, axis=1)"
   ]
  },
  {
   "cell_type": "code",
   "execution_count": null,
   "id": "152be428-e82d-4d19-9d5e-25d3a98abd53",
   "metadata": {},
   "outputs": [],
   "source": [
    "test.groupby([\"PlateNumb\", \"RouteUID\", \"DutyStatus\"])[[\"GPSTime\", \"Distance\"]].sum().reset_index()"
   ]
  },
  {
   "cell_type": "code",
   "execution_count": null,
   "id": "bbd488ca-ae9a-4a33-afbd-31fb9cc0231d",
   "metadata": {},
   "outputs": [],
   "source": [
    "# n = 1\n",
    "# while n <= 60:\n",
    "#     tdx = TDX(client_id, client_secret)\n",
    "#     base_url = \"https://tdx.transportdata.tw/api/basic\"\n",
    "#     endpoint = \"/v2/Bus/RealTimeByFrequency/Streaming/InterCity\"\n",
    "#     filter = \"Direction eq 1\"  # 順逆行: [0:'順行', 1:'逆行']\n",
    "#     url = f\"{base_url}{endpoint}\"\n",
    "#     result = pd.DataFrame.from_records(tdx.get_response(url))\n",
    "#     result[\"Longitude\"] = result[\"BusPosition\"].map(lambda x: x[\"PositionLon\"])\n",
    "#     result[\"Latitude\"] = result[\"BusPosition\"].map(lambda x: x[\"PositionLat\"])\n",
    "#     test_df.append(result)\n",
    "#     time.sleep(5)\n",
    "#     n += 1"
   ]
  },
  {
   "cell_type": "code",
   "execution_count": null,
   "id": "cfc82786-ca37-4c3d-99ce-e96cbcaca34f",
   "metadata": {},
   "outputs": [],
   "source": [
    "result.to_pickle(r\"D:\\kc.hsu\\OneDrive - Bridgestone\\數據\\TDX\\20221027測試數據.pkl\")"
   ]
  },
  {
   "cell_type": "code",
   "execution_count": null,
   "id": "6704ac32-356d-4d1f-914b-fc0b548357ae",
   "metadata": {},
   "outputs": [],
   "source": [
    "len(result[\"PlateNumb\"].unique())"
   ]
  },
  {
   "cell_type": "code",
   "execution_count": null,
   "id": "bd8bafb5-0161-4354-b369-739e0f5246eb",
   "metadata": {},
   "outputs": [],
   "source": [
    "reference = pd.read_csv(r\"D:\\kc.hsu\\OneDrive - Bridgestone\\數據\\TDX\\營運業者代碼表.csv\", None)"
   ]
  },
  {
   "cell_type": "code",
   "execution_count": null,
   "id": "a3424aea-adbc-4143-816c-b8e9c6cc5305",
   "metadata": {},
   "outputs": [],
   "source": [
    "reference = reference[reference[\"業管機關名稱\"] == \"交通部公路總局\"]"
   ]
  },
  {
   "cell_type": "code",
   "execution_count": null,
   "id": "4975fa5f-b35b-4d9c-b7f6-f2f90db8abe5",
   "metadata": {},
   "outputs": [],
   "source": [
    "companyCodeDict = dict(zip(reference[\"營運業者代碼\"], reference[\"營運業者名稱\"]))"
   ]
  },
  {
   "cell_type": "code",
   "execution_count": null,
   "id": "83bc19f6-9121-4802-a41c-206f7dbc4923",
   "metadata": {},
   "outputs": [],
   "source": [
    "result.insert(2, \"CompanyNmae\", result[\"OperatorID\"].map(companyCodeDict))"
   ]
  },
  {
   "cell_type": "code",
   "execution_count": null,
   "id": "2e635beb-887a-43af-b6fb-b6b91109ce51",
   "metadata": {},
   "outputs": [],
   "source": [
    "companys = result.drop_duplicates(subset=[\"PlateNumb\"])"
   ]
  },
  {
   "cell_type": "code",
   "execution_count": null,
   "id": "ef714b3f-3d46-4f5a-a747-37047fa6088b",
   "metadata": {},
   "outputs": [],
   "source": [
    "final = companys.groupby([\"CompanyNmae\"]).size().sort_values(ascending=False).reset_index()"
   ]
  },
  {
   "cell_type": "code",
   "execution_count": null,
   "id": "357416cb-b1b1-4aae-bce9-f6b5bd59bb2a",
   "metadata": {},
   "outputs": [],
   "source": [
    "final.columns = [\"公司名稱\", \"目前行駛車輛數\"]"
   ]
  },
  {
   "cell_type": "code",
   "execution_count": null,
   "id": "0fc11837-ccb6-4e91-a67a-4750e93efc43",
   "metadata": {},
   "outputs": [],
   "source": [
    "final.to_excel(r\"D:\\kc.hsu\\OneDrive - Bridgestone\\數據\\TDX\\20221027_目前行駛車輛統計.xlsx\", index=False)"
   ]
  },
  {
   "cell_type": "code",
   "execution_count": null,
   "id": "be768a61-641e-40b6-8744-200c6b0f5f59",
   "metadata": {},
   "outputs": [],
   "source": [
    "route = pd.read_csv(r\"D:\\kc.hsu\\OneDrive - Bridgestone\\數據\\TDX\\公路客運路線代碼表.csv\")"
   ]
  },
  {
   "cell_type": "code",
   "execution_count": null,
   "id": "2539a72b-ec5a-4975-b5ad-3ffa2b0d965e",
   "metadata": {},
   "outputs": [],
   "source": [
    "route[\"路線\"] = route[[\"起站中文名稱\", \"終站中文名稱\"]].apply(tuple, axis=1)"
   ]
  },
  {
   "cell_type": "code",
   "execution_count": null,
   "id": "a939777b-1efd-450f-86da-c465a36597b3",
   "metadata": {},
   "outputs": [],
   "source": [
    "route_dict = dict(zip(route[\"路線唯一識別代碼\"], route[\"路線\"]))"
   ]
  },
  {
   "cell_type": "code",
   "execution_count": null,
   "id": "7302d567-6177-477f-bbd8-747d93313e4d",
   "metadata": {},
   "outputs": [],
   "source": [
    "tonglian = result[result[\"CompanyNmae\"].str.contains(\"統聯\")]"
   ]
  },
  {
   "cell_type": "code",
   "execution_count": null,
   "id": "8b7e0529-6ffd-49b7-9b1d-c0cbb5260777",
   "metadata": {},
   "outputs": [],
   "source": [
    "tonglian = tonglian.drop_duplicates(subset=[\"PlateNumb\"])"
   ]
  },
  {
   "cell_type": "code",
   "execution_count": null,
   "id": "7dc29e0d-374f-4f01-9223-9a505faade69",
   "metadata": {},
   "outputs": [],
   "source": [
    "tonglian.insert(3, \"路線\", tonglian[\"RouteUID\"].map(route_dict))"
   ]
  },
  {
   "cell_type": "code",
   "execution_count": null,
   "id": "3aa627c8-9467-4d44-a921-0cfdb241eaff",
   "metadata": {},
   "outputs": [],
   "source": [
    "tonglian[[\"PlateNumb\", \"路線\"]].to_excel(r\"D:\\kc.hsu\\OneDrive - Bridgestone\\數據\\TDX\\統聯客運即時車牌和路線.xlsx\", index=False)"
   ]
  },
  {
   "cell_type": "code",
   "execution_count": null,
   "id": "56f7cae4-174b-4adb-b048-43b4437143ce",
   "metadata": {},
   "outputs": [],
   "source": [
    "tonglian[\"UpdateTime\"].iloc[0]"
   ]
  },
  {
   "cell_type": "code",
   "execution_count": null,
   "id": "e670905c-03e4-4d35-b2b8-c7f1d1a67342",
   "metadata": {},
   "outputs": [],
   "source": [
    "datetime.datetime.utcnow().replace(tzinfo=datetime.timezone.utc).astimezone(tz=None).replace(microsecond=0).isoformat()"
   ]
  },
  {
   "cell_type": "code",
   "execution_count": null,
   "id": "e9fba393-4d31-48aa-99bf-f7cf7315e59e",
   "metadata": {},
   "outputs": [],
   "source": [
    "dt = datetime.datetime(2015, 10, 19, 9,10).replace(tzinfo=datetime.timezone.utc).astimezone(tz=None).replace(microsecond=0).isoformat()"
   ]
  },
  {
   "cell_type": "code",
   "execution_count": null,
   "id": "44ff494f-3130-4fb7-ab97-f86ba5cf405f",
   "metadata": {},
   "outputs": [],
   "source": [
    "dt.replace(tzinfo=datetime.timezone.utc).astimezone(tz=None).replace(microsecond=0).isoformat()"
   ]
  },
  {
   "cell_type": "code",
   "execution_count": null,
   "id": "e3a65754-6502-45fe-9b70-2abbf13ff13c",
   "metadata": {},
   "outputs": [],
   "source": [
    "while True:\n",
    "    cur_time = datetime.datetime.utcnow().replace(tzinfo=datetime.timezone.utc).astimezone(tz=None).replace(microsecond=0).isoformat()\n",
    "    if cur_time == datetime.datetime(2022, 10, 27, 5,9).replace(tzinfo=datetime.timezone.utc).astimezone(tz=None).replace(microsecond=0).isoformat():\n",
    "        print(\"Yes, time'up!\")\n",
    "        break\n",
    "    else:\n",
    "        continue"
   ]
  },
  {
   "cell_type": "code",
   "execution_count": null,
   "id": "d8034e17-28a6-4b77-aed3-d731c5f5ea50",
   "metadata": {},
   "outputs": [],
   "source": [
    "cur_time >= dt.replace(tzinfo=datetime.timezone.utc).astimezone(tz=None).replace(microsecond=0).isoformat()"
   ]
  },
  {
   "cell_type": "code",
   "execution_count": null,
   "id": "36389846-d6a2-4640-9619-fab1aabd94f3",
   "metadata": {},
   "outputs": [],
   "source": []
  }
 ],
 "metadata": {
  "kernelspec": {
   "display_name": "Python 3 (ipykernel)",
   "language": "python",
   "name": "python3"
  },
  "language_info": {
   "codemirror_mode": {
    "name": "ipython",
    "version": 3
   },
   "file_extension": ".py",
   "mimetype": "text/x-python",
   "name": "python",
   "nbconvert_exporter": "python",
   "pygments_lexer": "ipython3",
   "version": "3.10.6"
  }
 },
 "nbformat": 4,
 "nbformat_minor": 5
}
