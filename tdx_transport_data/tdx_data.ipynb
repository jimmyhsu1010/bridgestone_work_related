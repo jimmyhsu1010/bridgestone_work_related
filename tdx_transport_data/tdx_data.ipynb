{
 "cells": [
  {
   "cell_type": "code",
   "execution_count": 8,
   "id": "426d427d-b7bd-4aac-a8cd-1cbccfc992bb",
   "metadata": {},
   "outputs": [],
   "source": [
    "import requests\n",
    "import pandas as pd\n",
    "import time\n",
    "pd.set_option(\"display.max_columns\", None)\n",
    "import datetime\n",
    "from datetime import timezone, timedelta\n",
    "from geopy.distance import geodesic #計算GPS兩端點距離\n",
    "import folium #GPS數據視覺化\n",
    "from global_land_mask import globe #確認GPS位置是否在陸地\n",
    "import warnings\n",
    "warnings.filterwarnings('ignore') # 關閉運行的警告\n",
    "pd.set_option(\"mode.chained_assignment\", None)\n",
    "import pprint\n",
    "import json\n",
    "import tkinter as tk\n",
    "from tkinter import filedialog\n",
    "import gc\n",
    "import sqlite3\n",
    "import httpx\n",
    "import numpy as np"
   ]
  },
  {
   "cell_type": "code",
   "execution_count": 7,
   "id": "ec642adf",
   "metadata": {},
   "outputs": [],
   "source": [
    "start_date = datetime.date(2021, 7, 1)"
   ]
  },
  {
   "cell_type": "code",
   "execution_count": 17,
   "id": "ccd3465c",
   "metadata": {},
   "outputs": [
    {
     "data": {
      "text/plain": [
       "datetime.datetime(2021, 7, 1, 0, 0)"
      ]
     },
     "execution_count": 17,
     "metadata": {},
     "output_type": "execute_result"
    }
   ],
   "source": [
    "datetime.datetime.strptime(start_date.strftime(\"%Y-%m-%d\"), \"%Y-%m-%d\")"
   ]
  },
  {
   "cell_type": "code",
   "execution_count": 8,
   "id": "cbc9c884",
   "metadata": {},
   "outputs": [
    {
     "data": {
      "text/plain": [
       "datetime.date(2021, 7, 4)"
      ]
     },
     "execution_count": 8,
     "metadata": {},
     "output_type": "execute_result"
    }
   ],
   "source": [
    "start_date + timedelta(days=3)"
   ]
  },
  {
   "attachments": {},
   "cell_type": "markdown",
   "id": "196ac7c5",
   "metadata": {},
   "source": [
    "## 每次執行前先更新路線和業者資訊"
   ]
  },
  {
   "cell_type": "code",
   "execution_count": 2,
   "id": "ad27a473",
   "metadata": {},
   "outputs": [],
   "source": [
    "icb_route_api = \"https://linkmotc.map8.zone/app/data?modelName=route_coach&skip=0&limit=&whereOptions=\"\n",
    "icb_operator_api = \"https://linkmotc.map8.zone/app/data?modelName=operator_coach&skip=0&limit=&whereOptions=\""
   ]
  },
  {
   "cell_type": "code",
   "execution_count": 3,
   "id": "7806e620",
   "metadata": {},
   "outputs": [],
   "source": [
    "def update_api(api):\n",
    "    res = httpx.get(api)\n",
    "    df = pd.read_json(res.text)\n",
    "    return df\n",
    "    "
   ]
  },
  {
   "cell_type": "code",
   "execution_count": 4,
   "id": "83fc4db1",
   "metadata": {},
   "outputs": [],
   "source": [
    "route_df = update_api(icb_route_api)\n",
    "route_dict = dict(zip(route_df[\"route_uid\"], zip(route_df[\"departure_stop_name\"], route_df[\"destination_stop_name\"])))\n",
    "\n",
    "operator_df = update_api(icb_operator_api)\n",
    "oprator_dict = dict(zip(operator_df[\"operator_id\"], zip(operator_df[\"operator_name\"], operator_df[\"operator_name_eng\"])))"
   ]
  },
  {
   "attachments": {},
   "cell_type": "markdown",
   "id": "55d8b5c5",
   "metadata": {},
   "source": [
    "## 從TDX歷史資料匯入資料庫\n",
    "### server: TDX.db\n",
    "### table: ICB"
   ]
  },
  {
   "cell_type": "code",
   "execution_count": 76,
   "id": "c19100c7",
   "metadata": {},
   "outputs": [],
   "source": [
    "fetch_date = pd.DataFrame(pd.date_range(start=\"2021-07-01\", end=datetime.date.today() - timedelta(days=1), freq=\"D\"), columns=[\"start_date\"])"
   ]
  },
  {
   "cell_type": "code",
   "execution_count": 81,
   "id": "fa7ae58f",
   "metadata": {},
   "outputs": [],
   "source": [
    "fetch_date[\"end_date\"] = fetch_date[\"start_date\"] + timedelta(days=7)"
   ]
  },
  {
   "cell_type": "code",
   "execution_count": 103,
   "id": "90c641da",
   "metadata": {},
   "outputs": [],
   "source": [
    "tdx = TDX()\n",
    "base_url = \"https://tdx.transportdata.tw/api/historical\"\n",
    "endpoint = \"/v2/Historical/Bus/RealTimeByFrequency/InterCity\"\n",
    "query = \"?Dates=2021-07-01~2021-07-07&%24format=JSONL\"\n",
    "url = f\"{base_url}{endpoint}{query}\"\n",
    "operators = tdx.get_response(url)"
   ]
  },
  {
   "cell_type": "code",
   "execution_count": null,
   "id": "d369586c",
   "metadata": {},
   "outputs": [
    {
     "data": {
      "text/plain": [
       "'https://tdx.transportdata.tw/api/historical/v2/Historical/Bus/RealTimeByFrequency/InterCity?Dates=2021-07-01~2021-07-08&%24format=JSONL'"
      ]
     },
     "execution_count": 101,
     "metadata": {},
     "output_type": "execute_result"
    }
   ],
   "source": [
    "operators"
   ]
  },
  {
   "cell_type": "code",
   "execution_count": 87,
   "id": "6ed31313",
   "metadata": {},
   "outputs": [
    {
     "data": {
      "text/plain": [
       "<zip at 0x190bd381c00>"
      ]
     },
     "execution_count": 87,
     "metadata": {},
     "output_type": "execute_result"
    }
   ],
   "source": [
    "zip(fetch_date[\"start_date\"], fetch_date[\"end_date\"])"
   ]
  },
  {
   "attachments": {},
   "cell_type": "markdown",
   "id": "1b65c0e2",
   "metadata": {},
   "source": [
    "## 20230410 Test the historical csv file extract\n",
    "### For monitoring daily vehicle mileage, just need to keep the columns of:\n",
    "- *PlateNumb*\n",
    "- *OperatorID*\n",
    "- *PositionLon*\n",
    "- *PositionLat*\n",
    "- *GeoHash*\n",
    "- *Speed*\n",
    "- *UpdateTime*\n",
    "\n",
    "### Finally only \"PlateNumb\", \"OperatorID\", \"Distance\", \"Date\" and \"AVG. Speed\" will be written to database\n"
   ]
  },
  {
   "cell_type": "code",
   "execution_count": 11,
   "id": "0b7d10f7",
   "metadata": {},
   "outputs": [
    {
     "data": {
      "text/html": [
       "<div>\n",
       "<style scoped>\n",
       "    .dataframe tbody tr th:only-of-type {\n",
       "        vertical-align: middle;\n",
       "    }\n",
       "\n",
       "    .dataframe tbody tr th {\n",
       "        vertical-align: top;\n",
       "    }\n",
       "\n",
       "    .dataframe thead th {\n",
       "        text-align: right;\n",
       "    }\n",
       "</style>\n",
       "<table border=\"1\" class=\"dataframe\">\n",
       "  <thead>\n",
       "    <tr style=\"text-align: right;\">\n",
       "      <th></th>\n",
       "      <th>PlateNumb</th>\n",
       "      <th>OperatorID</th>\n",
       "      <th>PositionLon</th>\n",
       "      <th>PositionLat</th>\n",
       "      <th>GeoHash</th>\n",
       "      <th>Speed</th>\n",
       "      <th>UpdateTime</th>\n",
       "    </tr>\n",
       "  </thead>\n",
       "  <tbody>\n",
       "    <tr>\n",
       "      <th>0</th>\n",
       "      <td>875-U9</td>\n",
       "      <td>21</td>\n",
       "      <td>120.202720</td>\n",
       "      <td>23.699002</td>\n",
       "      <td>wsjqz62bw</td>\n",
       "      <td>0</td>\n",
       "      <td>2023-03-24 15:05:19+08:00</td>\n",
       "    </tr>\n",
       "    <tr>\n",
       "      <th>1</th>\n",
       "      <td>875-U9</td>\n",
       "      <td>21</td>\n",
       "      <td>120.202720</td>\n",
       "      <td>23.699002</td>\n",
       "      <td>wsjqz62bw</td>\n",
       "      <td>0</td>\n",
       "      <td>2023-03-24 15:05:39+08:00</td>\n",
       "    </tr>\n",
       "    <tr>\n",
       "      <th>2</th>\n",
       "      <td>875-U9</td>\n",
       "      <td>21</td>\n",
       "      <td>120.202720</td>\n",
       "      <td>23.699002</td>\n",
       "      <td>wsjqz62bw</td>\n",
       "      <td>0</td>\n",
       "      <td>2023-03-24 15:05:59+08:00</td>\n",
       "    </tr>\n",
       "    <tr>\n",
       "      <th>3</th>\n",
       "      <td>875-U9</td>\n",
       "      <td>21</td>\n",
       "      <td>120.223487</td>\n",
       "      <td>23.637658</td>\n",
       "      <td>wsjqrz056</td>\n",
       "      <td>25</td>\n",
       "      <td>2023-03-24 16:08:14+08:00</td>\n",
       "    </tr>\n",
       "    <tr>\n",
       "      <th>4</th>\n",
       "      <td>875-U9</td>\n",
       "      <td>21</td>\n",
       "      <td>120.223805</td>\n",
       "      <td>23.637558</td>\n",
       "      <td>wsjqrz06c</td>\n",
       "      <td>0</td>\n",
       "      <td>2023-03-24 16:08:34+08:00</td>\n",
       "    </tr>\n",
       "    <tr>\n",
       "      <th>...</th>\n",
       "      <td>...</td>\n",
       "      <td>...</td>\n",
       "      <td>...</td>\n",
       "      <td>...</td>\n",
       "      <td>...</td>\n",
       "      <td>...</td>\n",
       "      <td>...</td>\n",
       "    </tr>\n",
       "    <tr>\n",
       "      <th>3527493</th>\n",
       "      <td>KKA-8627</td>\n",
       "      <td>29</td>\n",
       "      <td>120.751667</td>\n",
       "      <td>21.980540</td>\n",
       "      <td>wevv5c2tv</td>\n",
       "      <td>53</td>\n",
       "      <td>2023-03-24 19:46:59+08:00</td>\n",
       "    </tr>\n",
       "    <tr>\n",
       "      <th>3527494</th>\n",
       "      <td>KKB-8022</td>\n",
       "      <td>28</td>\n",
       "      <td>120.718640</td>\n",
       "      <td>22.057603</td>\n",
       "      <td>wevv7p2wu</td>\n",
       "      <td>52</td>\n",
       "      <td>2023-03-24 19:46:59+08:00</td>\n",
       "    </tr>\n",
       "    <tr>\n",
       "      <th>3527495</th>\n",
       "      <td>912-U3</td>\n",
       "      <td>45</td>\n",
       "      <td>120.595765</td>\n",
       "      <td>22.383310</td>\n",
       "      <td>wevz24z0h</td>\n",
       "      <td>40</td>\n",
       "      <td>2023-03-24 19:47:04+08:00</td>\n",
       "    </tr>\n",
       "    <tr>\n",
       "      <th>3527496</th>\n",
       "      <td>FAB-950</td>\n",
       "      <td>45</td>\n",
       "      <td>120.310997</td>\n",
       "      <td>22.681283</td>\n",
       "      <td>wsj919pb1</td>\n",
       "      <td>31</td>\n",
       "      <td>2023-03-24 19:47:04+08:00</td>\n",
       "    </tr>\n",
       "    <tr>\n",
       "      <th>3527497</th>\n",
       "      <td>KKB-8033</td>\n",
       "      <td>28</td>\n",
       "      <td>120.531628</td>\n",
       "      <td>22.480850</td>\n",
       "      <td>wevxyu82q</td>\n",
       "      <td>88</td>\n",
       "      <td>2023-03-24 19:47:04+08:00</td>\n",
       "    </tr>\n",
       "  </tbody>\n",
       "</table>\n",
       "<p>3527498 rows × 7 columns</p>\n",
       "</div>"
      ],
      "text/plain": [
       "        PlateNumb  OperatorID  PositionLon  PositionLat    GeoHash  Speed  \\\n",
       "0          875-U9          21   120.202720    23.699002  wsjqz62bw      0   \n",
       "1          875-U9          21   120.202720    23.699002  wsjqz62bw      0   \n",
       "2          875-U9          21   120.202720    23.699002  wsjqz62bw      0   \n",
       "3          875-U9          21   120.223487    23.637658  wsjqrz056     25   \n",
       "4          875-U9          21   120.223805    23.637558  wsjqrz06c      0   \n",
       "...           ...         ...          ...          ...        ...    ...   \n",
       "3527493  KKA-8627          29   120.751667    21.980540  wevv5c2tv     53   \n",
       "3527494  KKB-8022          28   120.718640    22.057603  wevv7p2wu     52   \n",
       "3527495    912-U3          45   120.595765    22.383310  wevz24z0h     40   \n",
       "3527496   FAB-950          45   120.310997    22.681283  wsj919pb1     31   \n",
       "3527497  KKB-8033          28   120.531628    22.480850  wevxyu82q     88   \n",
       "\n",
       "                        UpdateTime  \n",
       "0        2023-03-24 15:05:19+08:00  \n",
       "1        2023-03-24 15:05:39+08:00  \n",
       "2        2023-03-24 15:05:59+08:00  \n",
       "3        2023-03-24 16:08:14+08:00  \n",
       "4        2023-03-24 16:08:34+08:00  \n",
       "...                            ...  \n",
       "3527493  2023-03-24 19:46:59+08:00  \n",
       "3527494  2023-03-24 19:46:59+08:00  \n",
       "3527495  2023-03-24 19:47:04+08:00  \n",
       "3527496  2023-03-24 19:47:04+08:00  \n",
       "3527497  2023-03-24 19:47:04+08:00  \n",
       "\n",
       "[3527498 rows x 7 columns]"
      ]
     },
     "execution_count": 11,
     "metadata": {},
     "output_type": "execute_result"
    }
   ],
   "source": [
    "df = pd.read_csv(\"/Users/kai/Library/CloudStorage/OneDrive-Bridgestone/數據/TDX/TDX下載/ICB/unzip files/公路客運定時歷史資料(A1)2023-03-24.CSV\")\n",
    "\n",
    "keep_columns = [\"PlateNumb\", \"OperatorID\", \"PositionLon\", \"PositionLat\", \"GeoHash\", \"Speed\", \"UpdateTime\"]\n",
    "data = df[keep_columns]\n",
    "data"
   ]
  },
  {
   "cell_type": "code",
   "execution_count": 19,
   "id": "c606c2ab",
   "metadata": {},
   "outputs": [],
   "source": [
    "data[\"Coordinates\"] = data[[\"PositionLat\", \"PositionLon\"]].apply(tuple, axis=1)"
   ]
  },
  {
   "cell_type": "code",
   "execution_count": 29,
   "id": "d8164fcd",
   "metadata": {},
   "outputs": [],
   "source": [
    "data[\"Land\"] = globe.is_land(data[\"PositionLat\"], data[\"PositionLon\"])\n",
    "data = data[data[\"Land\"] == True]\n",
    "data[\"NextCoordinates\"] = data.groupby(\"PlateNumb\")[\"Coordinates\"].shift(-1)\n",
    "data[\"Distance\"] = data.apply(lambda data: geodesic(data[\"Coordinates\"], data[\"NextCoordinates\"]).meters if pd.notna(data[\"NextCoordinates\"]) else 0, axis=1) / 1000\n",
    "data = data[data[\"Distance\"] <= 2.5]\n",
    "data[\"Time\"] = pd.to_datetime(data[\"UpdateTime\"].map(lambda x: x.split(\"+\")[0]), format=\"%Y-%m-%dT%H:%M\")\n",
    "\n",
    "result = data.groupby([\"PlateNumb\", \"OperatorID\"]).agg({\"Distance\": \"sum\", \"Time\": lambda x: (x.max() - x.min()) / pd.Timedelta(hours=1)}).reset_index()\n",
    "result[\"Date\"] = data[\"Time\"].max().strftime(\"%Y-%m-%d\")\n",
    "result[\"AVG. Speed\"] = result[\"Distance\"] / result[\"Time\"]\n",
    "result[\"AVG. Speed\"].fillna(0, inplace=True)\n",
    "result[[\"Distance\", \"Time\", \"AVG. Speed\"]] = result[[\"Distance\", \"Time\", \"AVG. Speed\"]].applymap(lambda x: round(x, 1))"
   ]
  },
  {
   "cell_type": "code",
   "execution_count": 51,
   "id": "aa2e6577",
   "metadata": {},
   "outputs": [],
   "source": [
    "# 第一次初始化table才需要執行\n",
    "con = sqlite3.connect(\"./tdx.db\")\n",
    "cur = con.cursor()\n",
    "\n",
    "cur.execute(\"create table ICB (PlateNumb TEXT, OperatorID TEXT, Distance REAL, Time REAL, Date TEXT, AVG_Speed REAL)\")\n",
    "con.commit()\n",
    "con.close()"
   ]
  },
  {
   "cell_type": "code",
   "execution_count": 52,
   "id": "abe58c0c",
   "metadata": {},
   "outputs": [],
   "source": [
    "con = sqlite3.connect(\"./tdx.db\")\n",
    "cur = con.cursor()\n",
    "for index, row in result.iterrows():\n",
    "    # print(tuple(row))\n",
    "    cur.execute('INSERT INTO ICB (PlateNumb, OperatorID, Distance, Time, Date, AVG_Speed) values (?, ?, ?, ?, ?, ?)', tuple(row))\n",
    "con.commit()\n",
    "con.close()\n",
    "    "
   ]
  },
  {
   "cell_type": "code",
   "execution_count": 8,
   "id": "9749409a",
   "metadata": {},
   "outputs": [],
   "source": [
    "root = tk.Tk()\n",
    "root.withdraw()\n",
    "paths = filedialog.askopenfilenames()"
   ]
  },
  {
   "cell_type": "code",
   "execution_count": 12,
   "id": "de490d6c",
   "metadata": {},
   "outputs": [
    {
     "name": "stdout",
     "output_type": "stream",
     "text": [
      "D:/kc.hsu/OneDrive - Bridgestone/數據/TDX/TDX下載/公路客運定時歷史資料(A1)[CSV]2023-01-01_2023-03-07/公路客運定時歷史資料(A1)2023-01-01.CSV\n",
      "D:/kc.hsu/OneDrive - Bridgestone/數據/TDX/TDX下載/公路客運定時歷史資料(A1)[CSV]2023-01-01_2023-03-07/公路客運定時歷史資料(A1)2023-01-02.CSV\n",
      "D:/kc.hsu/OneDrive - Bridgestone/數據/TDX/TDX下載/公路客運定時歷史資料(A1)[CSV]2023-01-01_2023-03-07/公路客運定時歷史資料(A1)2023-01-03.CSV\n",
      "D:/kc.hsu/OneDrive - Bridgestone/數據/TDX/TDX下載/公路客運定時歷史資料(A1)[CSV]2023-01-01_2023-03-07/公路客運定時歷史資料(A1)2023-01-04.CSV\n",
      "D:/kc.hsu/OneDrive - Bridgestone/數據/TDX/TDX下載/公路客運定時歷史資料(A1)[CSV]2023-01-01_2023-03-07/公路客運定時歷史資料(A1)2023-01-05.CSV\n",
      "D:/kc.hsu/OneDrive - Bridgestone/數據/TDX/TDX下載/公路客運定時歷史資料(A1)[CSV]2023-01-01_2023-03-07/公路客運定時歷史資料(A1)2023-01-06.CSV\n",
      "D:/kc.hsu/OneDrive - Bridgestone/數據/TDX/TDX下載/公路客運定時歷史資料(A1)[CSV]2023-01-01_2023-03-07/公路客運定時歷史資料(A1)2023-01-07.CSV\n",
      "D:/kc.hsu/OneDrive - Bridgestone/數據/TDX/TDX下載/公路客運定時歷史資料(A1)[CSV]2023-01-01_2023-03-07/公路客運定時歷史資料(A1)2023-01-08.CSV\n",
      "D:/kc.hsu/OneDrive - Bridgestone/數據/TDX/TDX下載/公路客運定時歷史資料(A1)[CSV]2023-01-01_2023-03-07/公路客運定時歷史資料(A1)2023-01-09.CSV\n",
      "D:/kc.hsu/OneDrive - Bridgestone/數據/TDX/TDX下載/公路客運定時歷史資料(A1)[CSV]2023-01-01_2023-03-07/公路客運定時歷史資料(A1)2023-01-10.CSV\n",
      "D:/kc.hsu/OneDrive - Bridgestone/數據/TDX/TDX下載/公路客運定時歷史資料(A1)[CSV]2023-01-01_2023-03-07/公路客運定時歷史資料(A1)2023-01-11.CSV\n",
      "D:/kc.hsu/OneDrive - Bridgestone/數據/TDX/TDX下載/公路客運定時歷史資料(A1)[CSV]2023-01-01_2023-03-07/公路客運定時歷史資料(A1)2023-01-12.CSV\n",
      "D:/kc.hsu/OneDrive - Bridgestone/數據/TDX/TDX下載/公路客運定時歷史資料(A1)[CSV]2023-01-01_2023-03-07/公路客運定時歷史資料(A1)2023-01-13.CSV\n",
      "D:/kc.hsu/OneDrive - Bridgestone/數據/TDX/TDX下載/公路客運定時歷史資料(A1)[CSV]2023-01-01_2023-03-07/公路客運定時歷史資料(A1)2023-01-14.CSV\n",
      "D:/kc.hsu/OneDrive - Bridgestone/數據/TDX/TDX下載/公路客運定時歷史資料(A1)[CSV]2023-01-01_2023-03-07/公路客運定時歷史資料(A1)2023-01-15.CSV\n",
      "D:/kc.hsu/OneDrive - Bridgestone/數據/TDX/TDX下載/公路客運定時歷史資料(A1)[CSV]2023-01-01_2023-03-07/公路客運定時歷史資料(A1)2023-01-16.CSV\n",
      "D:/kc.hsu/OneDrive - Bridgestone/數據/TDX/TDX下載/公路客運定時歷史資料(A1)[CSV]2023-01-01_2023-03-07/公路客運定時歷史資料(A1)2023-01-17.CSV\n",
      "D:/kc.hsu/OneDrive - Bridgestone/數據/TDX/TDX下載/公路客運定時歷史資料(A1)[CSV]2023-01-01_2023-03-07/公路客運定時歷史資料(A1)2023-01-18.CSV\n",
      "D:/kc.hsu/OneDrive - Bridgestone/數據/TDX/TDX下載/公路客運定時歷史資料(A1)[CSV]2023-01-01_2023-03-07/公路客運定時歷史資料(A1)2023-01-19.CSV\n",
      "D:/kc.hsu/OneDrive - Bridgestone/數據/TDX/TDX下載/公路客運定時歷史資料(A1)[CSV]2023-01-01_2023-03-07/公路客運定時歷史資料(A1)2023-01-20.CSV\n",
      "D:/kc.hsu/OneDrive - Bridgestone/數據/TDX/TDX下載/公路客運定時歷史資料(A1)[CSV]2023-01-01_2023-03-07/公路客運定時歷史資料(A1)2023-01-21.CSV\n",
      "D:/kc.hsu/OneDrive - Bridgestone/數據/TDX/TDX下載/公路客運定時歷史資料(A1)[CSV]2023-01-01_2023-03-07/公路客運定時歷史資料(A1)2023-01-22.CSV\n",
      "D:/kc.hsu/OneDrive - Bridgestone/數據/TDX/TDX下載/公路客運定時歷史資料(A1)[CSV]2023-01-01_2023-03-07/公路客運定時歷史資料(A1)2023-01-23.CSV\n",
      "D:/kc.hsu/OneDrive - Bridgestone/數據/TDX/TDX下載/公路客運定時歷史資料(A1)[CSV]2023-01-01_2023-03-07/公路客運定時歷史資料(A1)2023-01-24.CSV\n",
      "D:/kc.hsu/OneDrive - Bridgestone/數據/TDX/TDX下載/公路客運定時歷史資料(A1)[CSV]2023-01-01_2023-03-07/公路客運定時歷史資料(A1)2023-01-25.CSV\n",
      "D:/kc.hsu/OneDrive - Bridgestone/數據/TDX/TDX下載/公路客運定時歷史資料(A1)[CSV]2023-01-01_2023-03-07/公路客運定時歷史資料(A1)2023-01-26.CSV\n",
      "D:/kc.hsu/OneDrive - Bridgestone/數據/TDX/TDX下載/公路客運定時歷史資料(A1)[CSV]2023-01-01_2023-03-07/公路客運定時歷史資料(A1)2023-01-27.CSV\n",
      "D:/kc.hsu/OneDrive - Bridgestone/數據/TDX/TDX下載/公路客運定時歷史資料(A1)[CSV]2023-01-01_2023-03-07/公路客運定時歷史資料(A1)2023-01-28.CSV\n",
      "D:/kc.hsu/OneDrive - Bridgestone/數據/TDX/TDX下載/公路客運定時歷史資料(A1)[CSV]2023-01-01_2023-03-07/公路客運定時歷史資料(A1)2023-01-29.CSV\n",
      "D:/kc.hsu/OneDrive - Bridgestone/數據/TDX/TDX下載/公路客運定時歷史資料(A1)[CSV]2023-01-01_2023-03-07/公路客運定時歷史資料(A1)2023-01-30.CSV\n",
      "D:/kc.hsu/OneDrive - Bridgestone/數據/TDX/TDX下載/公路客運定時歷史資料(A1)[CSV]2023-01-01_2023-03-07/公路客運定時歷史資料(A1)2023-01-31.CSV\n",
      "D:/kc.hsu/OneDrive - Bridgestone/數據/TDX/TDX下載/公路客運定時歷史資料(A1)[CSV]2023-01-01_2023-03-07/公路客運定時歷史資料(A1)2023-02-01.CSV\n",
      "D:/kc.hsu/OneDrive - Bridgestone/數據/TDX/TDX下載/公路客運定時歷史資料(A1)[CSV]2023-01-01_2023-03-07/公路客運定時歷史資料(A1)2023-02-02.CSV\n",
      "D:/kc.hsu/OneDrive - Bridgestone/數據/TDX/TDX下載/公路客運定時歷史資料(A1)[CSV]2023-01-01_2023-03-07/公路客運定時歷史資料(A1)2023-02-03.CSV\n",
      "D:/kc.hsu/OneDrive - Bridgestone/數據/TDX/TDX下載/公路客運定時歷史資料(A1)[CSV]2023-01-01_2023-03-07/公路客運定時歷史資料(A1)2023-02-04.CSV\n",
      "D:/kc.hsu/OneDrive - Bridgestone/數據/TDX/TDX下載/公路客運定時歷史資料(A1)[CSV]2023-01-01_2023-03-07/公路客運定時歷史資料(A1)2023-02-05.CSV\n",
      "D:/kc.hsu/OneDrive - Bridgestone/數據/TDX/TDX下載/公路客運定時歷史資料(A1)[CSV]2023-01-01_2023-03-07/公路客運定時歷史資料(A1)2023-02-06.CSV\n"
     ]
    },
    {
     "ename": "KeyboardInterrupt",
     "evalue": "",
     "output_type": "error",
     "traceback": [
      "\u001b[1;31m---------------------------------------------------------------------------\u001b[0m",
      "\u001b[1;31mKeyboardInterrupt\u001b[0m                         Traceback (most recent call last)",
      "\u001b[1;32mc:\\Users\\kc.hsu\\Python workspace\\tdx_transport_data\\tdx_data.ipynb 儲存格 14\u001b[0m in \u001b[0;36m<cell line: 6>\u001b[1;34m()\u001b[0m\n\u001b[0;32m     <a href='vscode-notebook-cell:/c%3A/Users/kc.hsu/Python%20workspace/tdx_transport_data/tdx_data.ipynb#W2sZmlsZQ%3D%3D?line=11'>12</a>\u001b[0m df[[\u001b[39m\"\u001b[39m\u001b[39mDepartureStop\u001b[39m\u001b[39m\"\u001b[39m, \u001b[39m\"\u001b[39m\u001b[39mDestinationStop\u001b[39m\u001b[39m\"\u001b[39m]] \u001b[39m=\u001b[39m pd\u001b[39m.\u001b[39mDataFrame(df[\u001b[39m\"\u001b[39m\u001b[39mRouteName\u001b[39m\u001b[39m\"\u001b[39m]\u001b[39m.\u001b[39mtolist(), index\u001b[39m=\u001b[39mdf\u001b[39m.\u001b[39mindex)\n\u001b[0;32m     <a href='vscode-notebook-cell:/c%3A/Users/kc.hsu/Python%20workspace/tdx_transport_data/tdx_data.ipynb#W2sZmlsZQ%3D%3D?line=12'>13</a>\u001b[0m df \u001b[39m=\u001b[39m df[keep_columns]\n\u001b[1;32m---> <a href='vscode-notebook-cell:/c%3A/Users/kc.hsu/Python%20workspace/tdx_transport_data/tdx_data.ipynb#W2sZmlsZQ%3D%3D?line=13'>14</a>\u001b[0m \u001b[39mfor\u001b[39;00m index, row \u001b[39min\u001b[39;00m df\u001b[39m.\u001b[39miterrows():\n\u001b[0;32m     <a href='vscode-notebook-cell:/c%3A/Users/kc.hsu/Python%20workspace/tdx_transport_data/tdx_data.ipynb#W2sZmlsZQ%3D%3D?line=14'>15</a>\u001b[0m     cur\u001b[39m.\u001b[39mexecute(\u001b[39m'\u001b[39m\u001b[39mINSERT INTO ICB (PlateNumb, OperatorCN_Name, OperatorEN_Name, Direction, DepartureStop, DestinationStop, PositionLon, PositionLat, GeoHash, Speed, Azimuth, DutyStatus, BusStatus, MessageType, UpdateTime) values (?, ?, ?, ?, ?, ?, ?, ?, ?, ?, ?, ?, ?, ?, ?)\u001b[39m\u001b[39m'\u001b[39m, \u001b[39mtuple\u001b[39m(row))\n\u001b[0;32m     <a href='vscode-notebook-cell:/c%3A/Users/kc.hsu/Python%20workspace/tdx_transport_data/tdx_data.ipynb#W2sZmlsZQ%3D%3D?line=15'>16</a>\u001b[0m \u001b[39mdel\u001b[39;00m df\n",
      "File \u001b[1;32mc:\\Users\\kc.hsu\\Python workspace\\python_env\\lib\\site-packages\\pandas\\core\\frame.py:1324\u001b[0m, in \u001b[0;36mDataFrame.iterrows\u001b[1;34m(self)\u001b[0m\n\u001b[0;32m   1322\u001b[0m klass \u001b[39m=\u001b[39m \u001b[39mself\u001b[39m\u001b[39m.\u001b[39m_constructor_sliced\n\u001b[0;32m   1323\u001b[0m \u001b[39mfor\u001b[39;00m k, v \u001b[39min\u001b[39;00m \u001b[39mzip\u001b[39m(\u001b[39mself\u001b[39m\u001b[39m.\u001b[39mindex, \u001b[39mself\u001b[39m\u001b[39m.\u001b[39mvalues):\n\u001b[1;32m-> 1324\u001b[0m     s \u001b[39m=\u001b[39m klass(v, index\u001b[39m=\u001b[39;49mcolumns, name\u001b[39m=\u001b[39;49mk)\n\u001b[0;32m   1325\u001b[0m     \u001b[39myield\u001b[39;00m k, s\n",
      "File \u001b[1;32mc:\\Users\\kc.hsu\\Python workspace\\python_env\\lib\\site-packages\\pandas\\core\\series.py:455\u001b[0m, in \u001b[0;36mSeries.__init__\u001b[1;34m(self, data, index, dtype, name, copy, fastpath)\u001b[0m\n\u001b[0;32m    453\u001b[0m manager \u001b[39m=\u001b[39m get_option(\u001b[39m\"\u001b[39m\u001b[39mmode.data_manager\u001b[39m\u001b[39m\"\u001b[39m)\n\u001b[0;32m    454\u001b[0m \u001b[39mif\u001b[39;00m manager \u001b[39m==\u001b[39m \u001b[39m\"\u001b[39m\u001b[39mblock\u001b[39m\u001b[39m\"\u001b[39m:\n\u001b[1;32m--> 455\u001b[0m     data \u001b[39m=\u001b[39m SingleBlockManager\u001b[39m.\u001b[39;49mfrom_array(data, index)\n\u001b[0;32m    456\u001b[0m \u001b[39melif\u001b[39;00m manager \u001b[39m==\u001b[39m \u001b[39m\"\u001b[39m\u001b[39marray\u001b[39m\u001b[39m\"\u001b[39m:\n\u001b[0;32m    457\u001b[0m     data \u001b[39m=\u001b[39m SingleArrayManager\u001b[39m.\u001b[39mfrom_array(data, index)\n",
      "File \u001b[1;32mc:\\Users\\kc.hsu\\Python workspace\\python_env\\lib\\site-packages\\pandas\\core\\internals\\managers.py:1736\u001b[0m, in \u001b[0;36mSingleBlockManager.from_array\u001b[1;34m(cls, array, index)\u001b[0m\n\u001b[0;32m   1731\u001b[0m \u001b[39m@classmethod\u001b[39m\n\u001b[0;32m   1732\u001b[0m \u001b[39mdef\u001b[39;00m \u001b[39mfrom_array\u001b[39m(\u001b[39mcls\u001b[39m, array: ArrayLike, index: Index) \u001b[39m-\u001b[39m\u001b[39m>\u001b[39m SingleBlockManager:\n\u001b[0;32m   1733\u001b[0m     \u001b[39m\"\"\"\u001b[39;00m\n\u001b[0;32m   1734\u001b[0m \u001b[39m    Constructor for if we have an array that is not yet a Block.\u001b[39;00m\n\u001b[0;32m   1735\u001b[0m \u001b[39m    \"\"\"\u001b[39;00m\n\u001b[1;32m-> 1736\u001b[0m     block \u001b[39m=\u001b[39m new_block(array, placement\u001b[39m=\u001b[39;49m\u001b[39mslice\u001b[39;49m(\u001b[39m0\u001b[39;49m, \u001b[39mlen\u001b[39;49m(index)), ndim\u001b[39m=\u001b[39;49m\u001b[39m1\u001b[39;49m)\n\u001b[0;32m   1737\u001b[0m     \u001b[39mreturn\u001b[39;00m \u001b[39mcls\u001b[39m(block, index)\n",
      "File \u001b[1;32mc:\\Users\\kc.hsu\\Python workspace\\python_env\\lib\\site-packages\\pandas\\core\\internals\\blocks.py:2051\u001b[0m, in \u001b[0;36mnew_block\u001b[1;34m(values, placement, ndim)\u001b[0m\n\u001b[0;32m   2047\u001b[0m     placement \u001b[39m=\u001b[39m BlockPlacement(placement)\n\u001b[0;32m   2049\u001b[0m check_ndim(values, placement, ndim)\n\u001b[1;32m-> 2051\u001b[0m klass \u001b[39m=\u001b[39m get_block_type(values\u001b[39m.\u001b[39;49mdtype)\n\u001b[0;32m   2053\u001b[0m values \u001b[39m=\u001b[39m maybe_coerce_values(values)\n\u001b[0;32m   2054\u001b[0m \u001b[39mreturn\u001b[39;00m klass(values, ndim\u001b[39m=\u001b[39mndim, placement\u001b[39m=\u001b[39mplacement)\n",
      "File \u001b[1;32mc:\\Users\\kc.hsu\\Python workspace\\python_env\\lib\\site-packages\\pandas\\core\\internals\\blocks.py:2025\u001b[0m, in \u001b[0;36mget_block_type\u001b[1;34m(dtype)\u001b[0m\n\u001b[0;32m   2023\u001b[0m \u001b[39melif\u001b[39;00m kind \u001b[39min\u001b[39;00m [\u001b[39m\"\u001b[39m\u001b[39mM\u001b[39m\u001b[39m\"\u001b[39m, \u001b[39m\"\u001b[39m\u001b[39mm\u001b[39m\u001b[39m\"\u001b[39m]:\n\u001b[0;32m   2024\u001b[0m     \u001b[39mcls\u001b[39m \u001b[39m=\u001b[39m DatetimeLikeBlock\n\u001b[1;32m-> 2025\u001b[0m \u001b[39melif\u001b[39;00m kind \u001b[39min\u001b[39;49;00m [\u001b[39m\"\u001b[39;49m\u001b[39mf\u001b[39;49m\u001b[39m\"\u001b[39;49m, \u001b[39m\"\u001b[39;49m\u001b[39mc\u001b[39;49m\u001b[39m\"\u001b[39;49m, \u001b[39m\"\u001b[39;49m\u001b[39mi\u001b[39;49m\u001b[39m\"\u001b[39;49m, \u001b[39m\"\u001b[39;49m\u001b[39mu\u001b[39;49m\u001b[39m\"\u001b[39;49m, \u001b[39m\"\u001b[39;49m\u001b[39mb\u001b[39;49m\u001b[39m\"\u001b[39;49m]:\n\u001b[0;32m   2026\u001b[0m     \u001b[39mcls\u001b[39m \u001b[39m=\u001b[39m NumericBlock\n\u001b[0;32m   2027\u001b[0m \u001b[39melse\u001b[39;00m:\n",
      "\u001b[1;31mKeyboardInterrupt\u001b[0m: "
     ]
    }
   ],
   "source": [
    "con = sqlite3.connect(\"./tdx.db\")\n",
    "cur = con.cursor()\n",
    "\n",
    "keep_columns = [\"PlateNumb\", \"OperatorCN_Name\", \"OperatorEN_Name\", \"Direction\", \"DepartureStop\", \"DestinationStop\", \"PositionLon\", \"PositionLat\", \"GeoHash\", \"Speed\", \"Azimuth\", \"DutyStatus\", \"BusStatus\", \"MessageType\", \"UpdateTime\"]\n",
    "\n",
    "for path in paths:\n",
    "    print(path)\n",
    "    df = pd.read_csv(path)\n",
    "    df[\"OperatorName\"] = df[\"OperatorID\"].map(oprator_dict)\n",
    "    df[[\"OperatorCN_Name\", \"OperatorEN_Name\"]] = pd.DataFrame(df[\"OperatorName\"].tolist(), index=df.index)\n",
    "    df[\"RouteName\"] = df[\"RouteUID\"].map(route_dict)\n",
    "    df[[\"DepartureStop\", \"DestinationStop\"]] = pd.DataFrame(df[\"RouteName\"].tolist(), index=df.index)\n",
    "    df = df[keep_columns]\n",
    "    for index, row in df.iterrows():\n",
    "        cur.execute('INSERT INTO ICB (PlateNumb, OperatorCN_Name, OperatorEN_Name, Direction, DepartureStop, DestinationStop, PositionLon, PositionLat, GeoHash, Speed, Azimuth, DutyStatus, BusStatus, MessageType, UpdateTime) values (?, ?, ?, ?, ?, ?, ?, ?, ?, ?, ?, ?, ?, ?, ?)', tuple(row))\n",
    "    del df\n",
    "    gc.collect()\n",
    "    \n",
    "\n",
    "con.commit()\n",
    "con.close()\n",
    "    "
   ]
  },
  {
   "attachments": {},
   "cell_type": "markdown",
   "id": "7d37505e",
   "metadata": {},
   "source": [
    "## 從api匯入資料"
   ]
  },
  {
   "cell_type": "code",
   "execution_count": 2,
   "id": "81a5b175-0216-443d-a259-2dd5e680ef79",
   "metadata": {},
   "outputs": [],
   "source": [
    "class TDX():\n",
    "    \n",
    "    '''\n",
    "    將常用的屬性放在類別屬性中方便後續呼叫.\n",
    "    '''\n",
    "    client_id : str = \"kc.hsu-e51d77a0-5d9b-418b\"\n",
    "    client_secret = \"afbb6a0a-f69d-4556-bd0b-4e53eae46379\"\n",
    "    cities = [\"Taipei\", \"NewTaipei\", \"Taoyuan\", \"Taichung\", \"Tainan\", \"Kaohsiung\", \"Keelung\", \"Hsinchu\", \"HsinchuCounty\", \"MiaoliCounty\", \"ChanghuaCounty\", \"NantouCounty\", \"YunlinCounty\", \"ChiayiCounty\", \"ChiayiCounty\", \"Chiayi\", \"PingtungCounty\", \"YilanCounty\", \"HualienCounty\", \"TaitungCounty\", \"KinmenCounty\", \"PenghuCounty\", \"LienchiangCounty\"]\n",
    "\n",
    "    \n",
    "    def __init__(self, client_id=client_id, client_secret=client_secret):\n",
    "        self.client_id = client_id\n",
    "        self.client_secret = client_secret\n",
    "        self.token = self.get_token()\n",
    "        \n",
    "    def get_token(self):\n",
    "        token_url = \"https://tdx.transportdata.tw/auth/realms/TDXConnect/protocol/openid-connect/token\"\n",
    "        headers = {'content-type': 'application/x-www-form-urlencoded'}\n",
    "        data = {\n",
    "            'grant_type': 'client_credentials',\n",
    "            'client_id': self.client_id,\n",
    "            'client_secret': self.client_secret\n",
    "        }\n",
    "        response = requests.post(token_url, headers=headers, data=data)\n",
    "        return response.json()['access_token']\n",
    "    \n",
    "    def get_response(self, url):\n",
    "        headers = {\"authorization\": f\"Bearer {self.token}\"}\n",
    "        response = requests.get(url, headers=headers)\n",
    "        return response.json()\n",
    "        # return json.loads(response.text)\n",
    "        \n",
    "        \n",
    "        \n",
    "        \n",
    "        \n",
    "        \n",
    "        \n",
    "        \n",
    "        \n",
    "        \n",
    "        \n",
    "        \n",
    "        \n",
    "        \n",
    "        "
   ]
  },
  {
   "cell_type": "markdown",
   "id": "6a11207a-ffd1-46fd-9c97-0d1ea210a67c",
   "metadata": {
    "tags": []
   },
   "source": [
    "### 市區公車業者名單抓取"
   ]
  },
  {
   "cell_type": "code",
   "execution_count": 11,
   "id": "73f22a67-e952-461c-8a46-d45f2d572ea9",
   "metadata": {},
   "outputs": [],
   "source": [
    "dfs = []\n",
    "cities = [\"Taipei\", \"NewTaipei\", \"Taoyuan\", \"Taichung\", \"Tainan\", \"Kaohsiung\", \"Keelung\", \"Hsinchu\", \"HsinchuCounty\", \"MiaoliCounty\", \"ChanghuaCounty\", \"NantouCounty\", \"YunlinCounty\", \"ChiayiCounty\", \"ChiayiCounty\", \"Chiayi\", \"PingtungCounty\", \"YilanCounty\", \"HualienCounty\", \"TaitungCounty\", \"KinmenCounty\", \"PenghuCounty\", \"LienchiangCounty\"]\n",
    "for city in cities:\n",
    "    tdx = TDX()\n",
    "    base_url = \"https://tdx.transportdata.tw/api/basic\"\n",
    "    endpoint = \"/v2/Bus/Operator/City/\"\n",
    "    url = f\"{base_url}{endpoint}{city}\"\n",
    "    operators = tdx.get_response(url)\n",
    "    dfs.append(pd.DataFrame.from_records(operators))\n",
    "df = pd.concat(dfs)\n",
    "df[\"OperatorNameZh_tw\"] = df[\"OperatorName\"].map(lambda x: x[\"Zh_tw\"])\n",
    "df.to_excel(r\"D:\\kc.hsu\\OneDrive - Bridgestone\\數據\\TDX\\市區公車業者名單.xlsx\", index=False)"
   ]
  },
  {
   "cell_type": "markdown",
   "id": "a3502803-b5dc-4469-a1bb-f3f0f2efd3f5",
   "metadata": {
    "jp-MarkdownHeadingCollapsed": true,
    "tags": []
   },
   "source": [
    "### 國道客運業者名單抓取"
   ]
  },
  {
   "cell_type": "code",
   "execution_count": 10,
   "id": "b9995c73-342c-4afe-ad3c-622827ca4f08",
   "metadata": {},
   "outputs": [],
   "source": [
    "tdx = TDX()\n",
    "base_url = \"https://tdx.transportdata.tw/api/basic\"\n",
    "endpoint = \"/v2/Bus/Operator/InterCity\"\n",
    "url = f\"{base_url}{endpoint}\"\n",
    "operators = tdx.get_response(url)\n",
    "intercity_operators = pd.DataFrame.from_records(operators)\n",
    "intercity_operators[\"OperatorNameZh_tw\"] = intercity_operators[\"OperatorName\"].map(lambda x: x[\"Zh_tw\"])\n",
    "intercity_operators.to_excel(r\"D:\\kc.hsu\\OneDrive - Bridgestone\\數據\\TDX\\國道客運業者名單.xlsx\", index=False)"
   ]
  },
  {
   "cell_type": "markdown",
   "id": "ad8caced-13b7-47fd-a264-08ecd86df4e2",
   "metadata": {},
   "source": [
    "## 國道客運即時數據抓取"
   ]
  },
  {
   "cell_type": "code",
   "execution_count": 7,
   "id": "bfce4c1d-7f18-4ea4-b93d-fd65ccdd5b8e",
   "metadata": {},
   "outputs": [],
   "source": [
    "tdx = TDX()\n",
    "base_url = \"https://tdx.transportdata.tw/api/basic\"\n",
    "endpoint = \"/v2/Bus/RealTimeByFrequency/InterCity\"\n",
    "url = base_url + endpoint\n",
    "result = pd.DataFrame.from_records(tdx.get_response(url))\n",
    "result = result[['PlateNumb', 'OperatorID', 'RouteUID', 'RouteID',\n",
    "       'SubRouteUID', 'SubRouteID', 'Direction', 'BusPosition',\n",
    "       'Speed', 'Azimuth', 'DutyStatus', 'BusStatus', 'MessageType', 'GPSTime',\n",
    "       'SrcRecTime', 'SrcTransTime', 'UpdateTime']]"
   ]
  },
  {
   "cell_type": "code",
   "execution_count": 9,
   "id": "e005ec52-f062-426b-98e9-25f55b4c9b6c",
   "metadata": {},
   "outputs": [],
   "source": [
    "result[\"Longitude\"] = result[\"BusPosition\"].map(lambda x: x[\"PositionLon\"])\n",
    "result[\"Latitude\"] = result[\"BusPosition\"].map(lambda x: x[\"PositionLat\"])"
   ]
  },
  {
   "cell_type": "code",
   "execution_count": 11,
   "id": "46deca7f-49be-42cf-adeb-c94b9600de50",
   "metadata": {},
   "outputs": [],
   "source": [
    "result = result[['PlateNumb', 'OperatorID', 'RouteUID', 'RouteID',\n",
    "       'SubRouteUID', 'SubRouteID', 'Direction', 'Longitude', 'Latitude',\n",
    "       'Speed', 'Azimuth', 'DutyStatus', 'BusStatus', 'MessageType', 'GPSTime',\n",
    "       'SrcRecTime', 'SrcTransTime', 'UpdateTime']]"
   ]
  },
  {
   "cell_type": "code",
   "execution_count": 16,
   "id": "23595c8b-e8ca-4064-a6f9-247b855f9a9a",
   "metadata": {},
   "outputs": [],
   "source": [
    "result[\"Coordinates\"] = result[[\"Longitude\", \"Latitude\"]].apply(tuple, axis=1)"
   ]
  },
  {
   "cell_type": "code",
   "execution_count": 21,
   "id": "b3e5ca4c-5c80-4874-a789-420264e62e8f",
   "metadata": {},
   "outputs": [
    {
     "data": {
      "text/plain": [
       "0       (120.786511666667, 24.4588066666667)\n",
       "1       (121.537478333333, 24.9586483333333)\n",
       "2       (121.438336666667, 25.0859366666667)\n",
       "3               (120.298941666667, 23.56911)\n",
       "4             (120.326695, 22.6297216666667)\n",
       "                        ...                 \n",
       "1816                                     NaN\n",
       "1817            (121.696346666667, 25.15598)\n",
       "1818                                     NaN\n",
       "1819    (121.756978333333, 25.1282183333333)\n",
       "1820                                     NaN\n",
       "Name: Coordinates, Length: 1821, dtype: object"
      ]
     },
     "execution_count": 21,
     "metadata": {},
     "output_type": "execute_result"
    }
   ],
   "source": [
    "result.groupby([\"OperatorID\"])[\"Coordinates\"].shift(-1)"
   ]
  },
  {
   "cell_type": "code",
   "execution_count": 14,
   "id": "e9f2ce99-4cc8-45a0-ac35-128b5cf8a184",
   "metadata": {},
   "outputs": [],
   "source": [
    "result.to_excel(r\"C:\\Users\\kc.hsu\\Desktop\\國道客運API範例內容.xlsx\", index=False)"
   ]
  },
  {
   "cell_type": "code",
   "execution_count": null,
   "id": "3e77e5b4-b5ef-4573-ac6e-3a321f7df273",
   "metadata": {},
   "outputs": [],
   "source": [
    "def time_range_data(st_year=0, st_month=0, st_day=0, st_hour=0, st_min=0, end_year=0, end_month=0, end_day=0, end_hour=0, end_min=0):\n",
    "    st_time = datetime.datetime(st_year, st_month, st_day, st_hour, st_min).replace(tzinfo=datetime.timezone.utc).astimezone(timezone(timedelta(hours=0))).replace(microsecond=0).isoformat()\n",
    "    end_time = datetime.datetime(end_year, end_month, end_day, end_hour, end_min).replace(tzinfo=datetime.timezone.utc).astimezone(timezone(timedelta(hours=0))).replace(microsecond=0).isoformat()\n",
    "    dfs = []\n",
    "    tdx = TDX()\n",
    "    while True:\n",
    "        current_time = datetime.datetime.utcnow().replace(tzinfo=datetime.timezone.utc).astimezone(tz=None).replace(microsecond=0).isoformat()\n",
    "        if st_time <= current_time <= end_time:\n",
    "            base_url = \"https://tdx.transportdata.tw/api/basic\"\n",
    "            endpoint = \"/v2/Bus/RealTimeByFrequency/InterCity\" # batch update(Frequency: 60sec.)\n",
    "            # filter = \"Direction eq 1\"  # 順逆行: [0:'順行', 1:'逆行']\n",
    "            url = f\"{base_url}{endpoint}\"\n",
    "            try:\n",
    "                result = pd.DataFrame.from_records(tdx.get_response(url))\n",
    "            except:\n",
    "                tdx.token = tdx.get_token()\n",
    "                continue\n",
    "            else:\n",
    "                result[\"Longitude\"] = result[\"BusPosition\"].map(lambda x: x[\"PositionLon\"])\n",
    "                result[\"Latitude\"] = result[\"BusPosition\"].map(lambda x: x[\"PositionLat\"])\n",
    "                dfs.append(result)\n",
    "                time.sleep(60) # Update the data every 60 sec.\n",
    "        elif current_time < st_time:\n",
    "            # print(\"等待開始\")\n",
    "            continue\n",
    "        else:\n",
    "            print(\"抓取結束\")\n",
    "            result = pd.concat(dfs)\n",
    "            # print(result)\n",
    "            break\n",
    "    # result = result[[\"PlateNumb\", \"OperatorID\", \"RouteUID\", \"Direction\", \"DutyStatus\", \"BusStatus\", \"MessageType\", \"Latitude\", \"Longitude\", \"UpdateTime\"]]\n",
    "    return result\n",
    "    "
   ]
  },
  {
   "cell_type": "code",
   "execution_count": null,
   "id": "f4fad52c-e300-48ab-9705-acd067b92705",
   "metadata": {},
   "outputs": [],
   "source": [
    "def icb_summary(df):\n",
    "    direction_dict = {0 : \"去程(南下)\", 1 : \"返程(北上)\", 2 : \"迴圈(雙向)\"}\n",
    "    busStatus_dict = {0: \"正常\", 1 : \"車禍\", 2 : \"故障\", 3 : \"塞車\", 4 : \"緊急救援\", 5 : \"加油\", 98 : \"偏移路線\", 99 : \"非營業狀態\", 100 : \"客滿\", 101 : \"包車出租\", 255 : \"未知\"}\n",
    "    busDutyStatus_dict = {0: \"正常\", 1 : \"開始\", 2 : \"結束\"}\n",
    "    operator = pd.read_excel(r\"D:\\kc.hsu\\OneDrive - Bridgestone\\數據\\TDX\\20221026_國道客運業者名單.xlsx\")\n",
    "    operator_dict = dict(zip(operator[\"OperatorID\"].astype(str), operator[\"OperatorNameZh_tw\"]))\n",
    "    route = pd.read_csv(r\"D:\\kc.hsu\\OneDrive - Bridgestone\\數據\\TDX\\公路客運路線代碼表.csv\")\n",
    "    route_dict = dict(zip(route[\"路線唯一識別代碼\"], route[[\"起站中文名稱\", \"終站中文名稱\"]].apply(tuple, axis=1)))\n",
    "    message_dict = {0 : \"未知\", 1 : \"定期\", 2 : \"非定期\"}\n",
    "    \n",
    "    df[\"Land\"] = globe.is_land(df[\"Latitude\"], df[\"Longitude\"]) # Verify if the GPS coordinate is bias(Land or Oscean)\n",
    "    df = df[df[\"Land\"] == True]\n",
    "    df[\"Operator\"] = df[\"OperatorID\"].astype(str).map(operator_dict)\n",
    "    df[\"車輛方向\"] = df[\"Direction\"].map(direction_dict)\n",
    "    df[\"車輛狀態\"] = df[\"BusStatus\"].map(busStatus_dict)\n",
    "    df[\"車輛勤務狀態\"] = df[\"DutyStatus\"].map(busDutyStatus_dict)\n",
    "    df[\"執勤路線\"] = df[\"RouteUID\"].map(route_dict)\n",
    "    df[\"班車資訊\"] = df[\"MessageType\"].map(message_dict)\n",
    "    \n",
    "    df[\"Coordinates\"] = df[[\"Latitude\", \"Longitude\"]].apply(tuple, axis=1)\n",
    "    df[\"NextCoordinates\"] = df.groupby(\"PlateNumb\")[\"Coordinates\"].shift(-1)\n",
    "    df[\"Distance\"] = df.apply(lambda df: geodesic(df[\"Coordinates\"], df[\"NextCoordinates\"]).meters if pd.notna(df[\"NextCoordinates\"]) else 0, axis=1) / 1000\n",
    "    df = df[df[\"Distance\"] <= 2.5]\n",
    "    df[\"Time\"] = pd.to_datetime(df[\"UpdateTime\"].map(lambda x: x.split(\"+\")[0]), format=\"%Y-%m-%dT%H:%M\")\n",
    "    \n",
    "    result = df.groupby([\"PlateNumb\", \"Operator\"]).agg({\"Distance\": \"sum\", \"Time\": lambda x: (x.max() - x.min()) / pd.Timedelta(hours=1)}).reset_index()\n",
    "    result[\"Date\"] = df[\"Time\"].max().strftime(\"%Y-%m-%d\")\n",
    "    result[\"AVG. Speed\"] = result[\"Distance\"] / result[\"Time\"]\n",
    "    result[\"AVG. Speed\"].fillna(0, inplace=True)\n",
    "    \n",
    "    return result, df"
   ]
  },
  {
   "cell_type": "code",
   "execution_count": null,
   "id": "ae941290-9cc1-4172-818a-9cd2a5fa6e91",
   "metadata": {},
   "outputs": [],
   "source": [
    "df = time_range_data(2023, 1, 5, 18, 0, 2023, 1, 5, 18, 1)\n",
    "# df.to_excel(r\"D:\\kc.hsu\\OneDrive - Bridgestone\\數據\\TDX\\20221028國道客運即時測試數據.xlsx\", index=False)"
   ]
  },
  {
   "cell_type": "code",
   "execution_count": null,
   "id": "90ef640e-cdb9-49e5-a7be-362b346bacdb",
   "metadata": {},
   "outputs": [],
   "source": [
    "df"
   ]
  },
  {
   "cell_type": "code",
   "execution_count": null,
   "id": "63d6782d-c8b8-47d2-8084-53fa0e247ae1",
   "metadata": {},
   "outputs": [],
   "source": [
    "result, raw = icb_summary(df)"
   ]
  },
  {
   "cell_type": "code",
   "execution_count": null,
   "id": "95bf27e1-0db8-4775-9d89-0b66f1b0f94e",
   "metadata": {},
   "outputs": [],
   "source": [
    "today = datetime.datetime.today().date().strftime(\"%Y%m%d\")"
   ]
  },
  {
   "cell_type": "code",
   "execution_count": null,
   "id": "ce9fe8cc-7ae6-4fd2-a6c0-262682df638b",
   "metadata": {},
   "outputs": [],
   "source": [
    "path = today + \"國道客運即時數據.pkl\""
   ]
  },
  {
   "cell_type": "code",
   "execution_count": null,
   "id": "6d47e76f-c648-4a19-a2d3-bdc391646da8",
   "metadata": {},
   "outputs": [],
   "source": [
    "raw.to_pickle(r\"D:\\kc.hsu\\OneDrive - Bridgestone\\數據\\TDX\\20221109國道客運即時數據.pkl\")\n",
    "result.to_excel(r\"D:\\kc.hsu\\OneDrive - Bridgestone\\數據\\TDX\\20221109國道客運即時匯整數據.xlsx\", index=False)"
   ]
  },
  {
   "cell_type": "code",
   "execution_count": null,
   "id": "1967be1a-5b2f-4ae7-a0e8-88cb7c353ed6",
   "metadata": {},
   "outputs": [],
   "source": [
    "result = icb_summary(df)\n",
    "# result.to_excel(r\"D:\\kc.hsu\\OneDrive - Bridgestone\\數據\\TDX\\20221028國道客運即時測試數據_彙整.xlsx\", index=False)\n"
   ]
  },
  {
   "cell_type": "markdown",
   "id": "a4bee2dc-7ff3-405e-bd3b-ea2a7988d901",
   "metadata": {
    "tags": []
   },
   "source": [
    "## 測試區"
   ]
  },
  {
   "cell_type": "code",
   "execution_count": null,
   "id": "6d9afb79-8f39-4a08-9a17-6bdcbcd1f37f",
   "metadata": {},
   "outputs": [],
   "source": [
    "def cb_time_range_data(st_year=0, st_month=0, st_day=0, st_hour=0, st_min=0, end_year=0, end_month=0, end_day=0, end_hour=0, end_min=0):\n",
    "    cities = [\"Taipei\", \"NewTaipei\", \"Taoyuan\", \"Taichung\", \"Tainan\", \"Kaohsiung\", \"Keelung\", \"Hsinchu\", \"HsinchuCounty\", \"MiaoliCounty\", \"ChanghuaCounty\", \"NantouCounty\", \"YunlinCounty\", \"ChiayiCounty\", \"ChiayiCounty\", \"Chiayi\", \"PingtungCounty\", \"YilanCounty\", \"HualienCounty\", \"TaitungCounty\", \"KinmenCounty\", \"PenghuCounty\", \"LienchiangCounty\"]\n",
    "    city_select = dict()\n",
    "    for no, city in enumerate(cities):\n",
    "        print(no, city)\n",
    "        city_select.setdefault(no, city)\n",
    "    city = city_select[eval(input(\"Please type the no. of the city: \"))]\n",
    "    st_time = datetime.datetime(st_year, st_month, st_day, st_hour, st_min).replace(tzinfo=datetime.timezone.utc).astimezone(timezone(timedelta(hours=0))).replace(microsecond=0).isoformat()\n",
    "    end_time = datetime.datetime(end_year, end_month, end_day, end_hour, end_min).replace(tzinfo=datetime.timezone.utc).astimezone(timezone(timedelta(hours=0))).replace(microsecond=0).isoformat()\n",
    "    dfs = []\n",
    "    tdx = TDX()\n",
    "    while True:\n",
    "        current_time = datetime.datetime.utcnow().replace(tzinfo=datetime.timezone.utc).astimezone(tz=None).replace(microsecond=0).isoformat()\n",
    "        if st_time <= current_time <= end_time:\n",
    "            base_url = \"https://tdx.transportdata.tw/api/basic\"\n",
    "            end_point = \"/v2/Bus/RealTimeByFrequency/City/{}\".format(city) # batch update(Frequency: 60sec.)\n",
    "            # filter = \"Direction eq 1\"  # 順逆行: [0:'順行', 1:'逆行']\n",
    "            url = base_url + end_point\n",
    "            try:\n",
    "                result = pd.DataFrame.from_records(tdx.get_response(url))\n",
    "            except:\n",
    "                tdx.token = tdx.get_token()\n",
    "                continue\n",
    "            else:\n",
    "                # result[\"Longitude\"] = result[\"BusPosition\"].map(lambda x: x[\"PositionLon\"])\n",
    "                # result[\"Latitude\"] = result[\"BusPosition\"].map(lambda x: x[\"PositionLat\"])\n",
    "                dfs.append(result)\n",
    "                time.sleep(60) # Update the data every 60 sec.\n",
    "        elif current_time < st_time:\n",
    "            # print(\"等待開始\")\n",
    "            continue\n",
    "        else:\n",
    "            print(\"抓取結束\")\n",
    "            result = pd.concat(dfs).reset_index(drop=True)\n",
    "            # print(result)\n",
    "            break\n",
    "    # result = result[[\"PlateNumb\", \"OperatorID\", \"RouteUID\", \"Direction\", \"DutyStatus\", \"BusStatus\", \"MessageType\", \"Latitude\", \"Longitude\", \"UpdateTime\"]]\n",
    "    return result"
   ]
  },
  {
   "cell_type": "code",
   "execution_count": null,
   "id": "656a9e7c-b7e1-4651-bf4b-90776f39a968",
   "metadata": {},
   "outputs": [],
   "source": [
    "cities = [\"Taipei\", \"NewTaipei\", \"Taoyuan\", \"Taichung\", \"Tainan\", \"Kaohsiung\", \"Keelung\", \"Hsinchu\", \"HsinchuCounty\", \"MiaoliCounty\", \"ChanghuaCounty\", \"NantouCounty\", \"YunlinCounty\", \"ChiayiCounty\", \"ChiayiCounty\", \"Chiayi\", \"PingtungCounty\", \"YilanCounty\", \"HualienCounty\", \"TaitungCounty\", \"KinmenCounty\", \"PenghuCounty\", \"LienchiangCounty\"]\n",
    "base_url = \"https://tdx.transportdata.tw/api/basic\"\n",
    "end_point = \"/v2/Road/Traffic/Live/VD/City/{}\"\n",
    "tdx = TDX()\n",
    "# dfs = []\n",
    "# for city in cities:\n",
    "#     url = base_url + end_point.format(city)\n",
    "#     try:\n",
    "#         df = pd.DataFrame.from_records(tdx.get_response(url))\n",
    "#     except ValueError:\n",
    "#         pass\n",
    "#     except:\n",
    "#         pass\n",
    "#     else:\n",
    "#         dfs.append(df)\n",
    "# df = pd.concat(dfs).reset_index(drop=True)\n",
    "# print(df)\n",
    "url = base_url + end_point.format(\"Taipei\")\n",
    "df = pd.DataFrame.from_records(tdx.get_response(url))\n",
    "    \n",
    "    "
   ]
  },
  {
   "cell_type": "code",
   "execution_count": null,
   "id": "e884a468-3545-413e-b023-80ce234700b5",
   "metadata": {},
   "outputs": [],
   "source": [
    "df[\"VDLives\"].apply(pd.Series)[\"LinkFlows\"].apply(pd.Series)"
   ]
  },
  {
   "cell_type": "code",
   "execution_count": null,
   "id": "20b40f0d-5e52-4559-aeb2-18f203eb3725",
   "metadata": {},
   "outputs": [],
   "source": [
    "df[\"VDLives\"].apply(pd.Series)[\"LinkFlows\"].apply(pd.Series)[0].apply(pd.Series)[\"Lanes\"].apply(pd.Series)"
   ]
  },
  {
   "cell_type": "code",
   "execution_count": null,
   "id": "2fc1dc77-30e8-4a06-a14e-bd1cdf617908",
   "metadata": {},
   "outputs": [],
   "source": [
    "from concurrent.futures import ThreadPoolExecutor"
   ]
  },
  {
   "cell_type": "code",
   "execution_count": null,
   "id": "d39859a0-a19f-4036-a620-7f0a868ee6c2",
   "metadata": {},
   "outputs": [],
   "source": [
    "with ThreadPoolExecutor() as executor:\n",
    "    tpe = executor.submit(cb_time_range_data, 2022, 11, 17, 15, 11, 2022, 11, 17, 15, 52)\n",
    "    ntp = executor.submit(cb_time_range_data, 2022, 11, 17, 15, 11, 2022, 11, 17, 15, 52)"
   ]
  },
  {
   "cell_type": "code",
   "execution_count": null,
   "id": "48f7ded0-c676-4ff1-b81d-3e3587759927",
   "metadata": {},
   "outputs": [],
   "source": [
    "test_data = cb_time_range_data(2022, 11, 17, 15, 11, 2022, 11, 17, 15, 40)"
   ]
  },
  {
   "cell_type": "code",
   "execution_count": null,
   "id": "6cebbdcb-089e-4f44-94b3-3ea060d9693d",
   "metadata": {},
   "outputs": [],
   "source": [
    "test = test_data.reset_index(drop=True)"
   ]
  },
  {
   "cell_type": "code",
   "execution_count": null,
   "id": "97f9c186-1dc2-46e8-b878-123266904aea",
   "metadata": {},
   "outputs": [],
   "source": [
    "test[(test[\"OperatorID\"] == \"100\") & (test[\"PlateNumb\"].isin([\"KKA-1225\", \"KKA-1232\"]))]"
   ]
  },
  {
   "cell_type": "code",
   "execution_count": null,
   "id": "04d67770-cf3c-44f2-8c73-41c774446a00",
   "metadata": {},
   "outputs": [],
   "source": [
    "direction_dict = {0 : \"去程(南下)\", 1 : \"返程(北上)\", 2 : \"迴圈(雙向)\"}\n",
    "busStatus_dict = {0: \"正常\", 1 : \"車禍\", 2 : \"故障\", 3 : \"塞車\", 4 : \"緊急救援\", 5 : \"加油\", 98 : \"偏移路線\", 99 : \"非營業狀態\", 100 : \"客滿\", 101 : \"包車出租\", 255 : \"未知\"}\n",
    "busDutyStatus_dict = {0: \"正常\", 1 : \"開始\", 2 : \"結束\"}\n",
    "operator = pd.read_excel(r\"D:\\kc.hsu\\OneDrive - Bridgestone\\數據\\TDX\\20221026_國道客運業者名單.xlsx\")\n",
    "operator_dict = dict(zip(operator[\"OperatorID\"], operator[\"OperatorNameZh_tw\"]))\n",
    "route = pd.read_csv(r\"D:\\kc.hsu\\OneDrive - Bridgestone\\數據\\TDX\\公路客運路線代碼表.csv\")\n",
    "route_dict = dict(zip(route[\"路線唯一識別代碼\"], route[[\"起站中文名稱\", \"終站中文名稱\"]].apply(tuple, axis=1)))\n",
    "message_dict = {0 : \"未知\", 1 : \"定期\", 2 : \"非定期\"}\n",
    "df[\"Operator\"] = df[\"OperatorID\"].map(operator_dict)\n",
    "df[\"車輛方向\"] = df[\"Direction\"].map(direction_dict)\n",
    "df[\"車輛狀態\"] = df[\"BusStatus\"].map(busStatus_dict)\n",
    "df[\"車輛勤務狀態\"] = df[\"DutyStatus\"].map(busDutyStatus_dict)\n",
    "df[\"執勤路線\"] = df[\"RouteUID\"].map(route_dict)\n",
    "df[\"班車資訊\"] = df[\"MessageType\"].map(message_dict)"
   ]
  },
  {
   "cell_type": "code",
   "execution_count": null,
   "id": "f11ea1ad-1502-439f-8121-7056086fa2de",
   "metadata": {},
   "outputs": [],
   "source": []
  }
 ],
 "metadata": {
  "kernelspec": {
   "display_name": "python_env",
   "language": "python",
   "name": "python3"
  },
  "language_info": {
   "codemirror_mode": {
    "name": "ipython",
    "version": 3
   },
   "file_extension": ".py",
   "mimetype": "text/x-python",
   "name": "python",
   "nbconvert_exporter": "python",
   "pygments_lexer": "ipython3",
   "version": "3.10.0"
  },
  "vscode": {
   "interpreter": {
    "hash": "0441e2ad242e60eb4d55752f5dea0f12731bd2d50ab9154f01b1a5615d7cc10b"
   }
  }
 },
 "nbformat": 4,
 "nbformat_minor": 5
}
