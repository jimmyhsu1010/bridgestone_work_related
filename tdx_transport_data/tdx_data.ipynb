{
 "cells": [
  {
   "cell_type": "code",
   "execution_count": 1,
   "id": "426d427d-b7bd-4aac-a8cd-1cbccfc992bb",
   "metadata": {},
   "outputs": [],
   "source": [
    "import requests\n",
    "import pandas as pd\n",
    "import time\n",
    "pd.set_option(\"display.max_columns\", None)\n",
    "import datetime\n",
    "from datetime import timezone, timedelta\n",
    "from geopy.distance import geodesic #計算GPS兩端點距離\n",
    "import folium #GPS數據視覺化\n",
    "from global_land_mask import globe #確認GPS位置是否在陸地\n",
    "import warnings\n",
    "warnings.filterwarnings('ignore') # 關閉運行的警告\n",
    "pd.set_option(\"mode.chained_assignment\", None)\n",
    "import pprint\n",
    "import json"
   ]
  },
  {
   "cell_type": "code",
   "execution_count": 2,
   "id": "81a5b175-0216-443d-a259-2dd5e680ef79",
   "metadata": {},
   "outputs": [],
   "source": [
    "class TDX():\n",
    "    \n",
    "    '''\n",
    "    將常用的屬性放在類別屬性中方便後續呼叫.\n",
    "    '''\n",
    "    client_id : str = \"kc.hsu-e51d77a0-5d9b-418b\"\n",
    "    client_secret = \"afbb6a0a-f69d-4556-bd0b-4e53eae46379\"\n",
    "    cities = [\"Taipei\", \"NewTaipei\", \"Taoyuan\", \"Taichung\", \"Tainan\", \"Kaohsiung\", \"Keelung\", \"Hsinchu\", \"HsinchuCounty\", \"MiaoliCounty\", \"ChanghuaCounty\", \"NantouCounty\", \"YunlinCounty\", \"ChiayiCounty\", \"ChiayiCounty\", \"Chiayi\", \"PingtungCounty\", \"YilanCounty\", \"HualienCounty\", \"TaitungCounty\", \"KinmenCounty\", \"PenghuCounty\", \"LienchiangCounty\"]\n",
    "\n",
    "    \n",
    "    def __init__(self, client_id=client_id, client_secret=client_secret):\n",
    "        self.client_id = client_id\n",
    "        self.client_secret = client_secret\n",
    "        self.token = self.get_token()\n",
    "        \n",
    "    def get_token(self):\n",
    "        token_url = \"https://tdx.transportdata.tw/auth/realms/TDXConnect/protocol/openid-connect/token\"\n",
    "        headers = {'content-type': 'application/x-www-form-urlencoded'}\n",
    "        data = {\n",
    "            'grant_type': 'client_credentials',\n",
    "            'client_id': self.client_id,\n",
    "            'client_secret': self.client_secret\n",
    "        }\n",
    "        response = requests.post(token_url, headers=headers, data=data)\n",
    "        return response.json()['access_token']\n",
    "    \n",
    "    def get_response(self, url):\n",
    "        headers = {\"authorization\": f\"Bearer {self.token}\"}\n",
    "        response = requests.get(url, headers=headers)\n",
    "        return response.json()\n",
    "        # return json.loads(response.text)\n",
    "        \n",
    "        \n",
    "        \n",
    "        \n",
    "        \n",
    "        \n",
    "        \n",
    "        \n",
    "        \n",
    "        \n",
    "        \n",
    "        \n",
    "        \n",
    "        \n",
    "        "
   ]
  },
  {
   "cell_type": "markdown",
   "id": "6a11207a-ffd1-46fd-9c97-0d1ea210a67c",
   "metadata": {
    "tags": []
   },
   "source": [
    "### 市區公車業者名單抓取"
   ]
  },
  {
   "cell_type": "code",
   "execution_count": null,
   "id": "73f22a67-e952-461c-8a46-d45f2d572ea9",
   "metadata": {},
   "outputs": [],
   "source": [
    "dfs = []\n",
    "cities = [\"Taipei\", \"NewTaipei\", \"Taoyuan\", \"Taichung\", \"Tainan\", \"Kaohsiung\", \"Keelung\", \"Hsinchu\", \"HsinchuCounty\", \"MiaoliCounty\", \"ChanghuaCounty\", \"NantouCounty\", \"YunlinCounty\", \"ChiayiCounty\", \"ChiayiCounty\", \"Chiayi\", \"PingtungCounty\", \"YilanCounty\", \"HualienCounty\", \"TaitungCounty\", \"KinmenCounty\", \"PenghuCounty\", \"LienchiangCounty\"]\n",
    "for city in cities:\n",
    "    tdx = TDX()\n",
    "    base_url = \"https://tdx.transportdata.tw/api/basic\"\n",
    "    endpoint = \"/v2/Bus/Operator/City/\"\n",
    "    url = f\"{base_url}{endpoint}{city}\"\n",
    "    operators = tdx.get_response(url)\n",
    "    dfs.append(pd.DataFrame.from_records(operators))\n",
    "df = pd.concat(dfs)\n",
    "df[\"OperatorNameZh_tw\"] = df[\"OperatorName\"].map(lambda x: x[\"Zh_tw\"])\n",
    "df.to_excel(r\"D:\\kc.hsu\\OneDrive - Bridgestone\\數據\\TDX\\20221026_市區公車業者名單.xlsx\", index=False)"
   ]
  },
  {
   "cell_type": "markdown",
   "id": "a3502803-b5dc-4469-a1bb-f3f0f2efd3f5",
   "metadata": {
    "jp-MarkdownHeadingCollapsed": true,
    "tags": []
   },
   "source": [
    "### 國道客運業者名單抓取"
   ]
  },
  {
   "cell_type": "code",
   "execution_count": null,
   "id": "b9995c73-342c-4afe-ad3c-622827ca4f08",
   "metadata": {},
   "outputs": [],
   "source": [
    "tdx = TDX(client_id, client_secret)\n",
    "base_url = \"https://tdx.transportdata.tw/api/basic\"\n",
    "endpoint = \"/v2/Bus/Operator/InterCity\"\n",
    "url = f\"{base_url}{endpoint}\"\n",
    "operators = tdx.get_response(url)\n",
    "intercity_operators = pd.DataFrame.from_records(operators)\n",
    "intercity_operators[\"OperatorNameZh_tw\"] = intercity_operators[\"OperatorName\"].map(lambda x: x[\"Zh_tw\"])\n",
    "intercity_operators.to_excel(r\"D:\\kc.hsu\\OneDrive - Bridgestone\\數據\\TDX\\20221026_國道客運業者名單.xlsx\", index=False)"
   ]
  },
  {
   "cell_type": "markdown",
   "id": "ad8caced-13b7-47fd-a264-08ecd86df4e2",
   "metadata": {},
   "source": [
    "## 國道客運即時數據抓取"
   ]
  },
  {
   "cell_type": "code",
   "execution_count": 7,
   "id": "bfce4c1d-7f18-4ea4-b93d-fd65ccdd5b8e",
   "metadata": {},
   "outputs": [],
   "source": [
    "tdx = TDX()\n",
    "base_url = \"https://tdx.transportdata.tw/api/basic\"\n",
    "endpoint = \"/v2/Bus/RealTimeByFrequency/InterCity\"\n",
    "url = base_url + endpoint\n",
    "result = pd.DataFrame.from_records(tdx.get_response(url))\n",
    "result = result[['PlateNumb', 'OperatorID', 'RouteUID', 'RouteID',\n",
    "       'SubRouteUID', 'SubRouteID', 'Direction', 'BusPosition',\n",
    "       'Speed', 'Azimuth', 'DutyStatus', 'BusStatus', 'MessageType', 'GPSTime',\n",
    "       'SrcRecTime', 'SrcTransTime', 'UpdateTime']]"
   ]
  },
  {
   "cell_type": "code",
   "execution_count": 9,
   "id": "e005ec52-f062-426b-98e9-25f55b4c9b6c",
   "metadata": {},
   "outputs": [],
   "source": [
    "result[\"Longitude\"] = result[\"BusPosition\"].map(lambda x: x[\"PositionLon\"])\n",
    "result[\"Latitude\"] = result[\"BusPosition\"].map(lambda x: x[\"PositionLat\"])"
   ]
  },
  {
   "cell_type": "code",
   "execution_count": 11,
   "id": "46deca7f-49be-42cf-adeb-c94b9600de50",
   "metadata": {},
   "outputs": [],
   "source": [
    "result = result[['PlateNumb', 'OperatorID', 'RouteUID', 'RouteID',\n",
    "       'SubRouteUID', 'SubRouteID', 'Direction', 'Longitude', 'Latitude',\n",
    "       'Speed', 'Azimuth', 'DutyStatus', 'BusStatus', 'MessageType', 'GPSTime',\n",
    "       'SrcRecTime', 'SrcTransTime', 'UpdateTime']]"
   ]
  },
  {
   "cell_type": "code",
   "execution_count": 16,
   "id": "23595c8b-e8ca-4064-a6f9-247b855f9a9a",
   "metadata": {},
   "outputs": [],
   "source": [
    "result[\"Coordinates\"] = result[[\"Longitude\", \"Latitude\"]].apply(tuple, axis=1)"
   ]
  },
  {
   "cell_type": "code",
   "execution_count": 21,
   "id": "b3e5ca4c-5c80-4874-a789-420264e62e8f",
   "metadata": {},
   "outputs": [
    {
     "data": {
      "text/plain": [
       "0       (120.786511666667, 24.4588066666667)\n",
       "1       (121.537478333333, 24.9586483333333)\n",
       "2       (121.438336666667, 25.0859366666667)\n",
       "3               (120.298941666667, 23.56911)\n",
       "4             (120.326695, 22.6297216666667)\n",
       "                        ...                 \n",
       "1816                                     NaN\n",
       "1817            (121.696346666667, 25.15598)\n",
       "1818                                     NaN\n",
       "1819    (121.756978333333, 25.1282183333333)\n",
       "1820                                     NaN\n",
       "Name: Coordinates, Length: 1821, dtype: object"
      ]
     },
     "execution_count": 21,
     "metadata": {},
     "output_type": "execute_result"
    }
   ],
   "source": [
    "result.groupby([\"OperatorID\"])[\"Coordinates\"].shift(-1)"
   ]
  },
  {
   "cell_type": "code",
   "execution_count": 14,
   "id": "e9f2ce99-4cc8-45a0-ac35-128b5cf8a184",
   "metadata": {},
   "outputs": [],
   "source": [
    "result.to_excel(r\"C:\\Users\\kc.hsu\\Desktop\\國道客運API範例內容.xlsx\", index=False)"
   ]
  },
  {
   "cell_type": "code",
   "execution_count": null,
   "id": "3e77e5b4-b5ef-4573-ac6e-3a321f7df273",
   "metadata": {},
   "outputs": [],
   "source": [
    "def time_range_data(st_year=0, st_month=0, st_day=0, st_hour=0, st_min=0, end_year=0, end_month=0, end_day=0, end_hour=0, end_min=0):\n",
    "    st_time = datetime.datetime(st_year, st_month, st_day, st_hour, st_min).replace(tzinfo=datetime.timezone.utc).astimezone(timezone(timedelta(hours=0))).replace(microsecond=0).isoformat()\n",
    "    end_time = datetime.datetime(end_year, end_month, end_day, end_hour, end_min).replace(tzinfo=datetime.timezone.utc).astimezone(timezone(timedelta(hours=0))).replace(microsecond=0).isoformat()\n",
    "    dfs = []\n",
    "    tdx = TDX()\n",
    "    while True:\n",
    "        current_time = datetime.datetime.utcnow().replace(tzinfo=datetime.timezone.utc).astimezone(tz=None).replace(microsecond=0).isoformat()\n",
    "        if st_time <= current_time <= end_time:\n",
    "            base_url = \"https://tdx.transportdata.tw/api/basic\"\n",
    "            endpoint = \"/v2/Bus/RealTimeByFrequency/InterCity\" # batch update(Frequency: 60sec.)\n",
    "            # filter = \"Direction eq 1\"  # 順逆行: [0:'順行', 1:'逆行']\n",
    "            url = f\"{base_url}{endpoint}\"\n",
    "            try:\n",
    "                result = pd.DataFrame.from_records(tdx.get_response(url))\n",
    "            except:\n",
    "                tdx.token = tdx.get_token()\n",
    "                continue\n",
    "            else:\n",
    "                result[\"Longitude\"] = result[\"BusPosition\"].map(lambda x: x[\"PositionLon\"])\n",
    "                result[\"Latitude\"] = result[\"BusPosition\"].map(lambda x: x[\"PositionLat\"])\n",
    "                dfs.append(result)\n",
    "                time.sleep(60) # Update the data every 60 sec.\n",
    "        elif current_time < st_time:\n",
    "            # print(\"等待開始\")\n",
    "            continue\n",
    "        else:\n",
    "            print(\"抓取結束\")\n",
    "            result = pd.concat(dfs)\n",
    "            # print(result)\n",
    "            break\n",
    "    # result = result[[\"PlateNumb\", \"OperatorID\", \"RouteUID\", \"Direction\", \"DutyStatus\", \"BusStatus\", \"MessageType\", \"Latitude\", \"Longitude\", \"UpdateTime\"]]\n",
    "    return result\n",
    "    "
   ]
  },
  {
   "cell_type": "code",
   "execution_count": null,
   "id": "f4fad52c-e300-48ab-9705-acd067b92705",
   "metadata": {},
   "outputs": [],
   "source": [
    "def icb_summary(df):\n",
    "    direction_dict = {0 : \"去程(南下)\", 1 : \"返程(北上)\", 2 : \"迴圈(雙向)\"}\n",
    "    busStatus_dict = {0: \"正常\", 1 : \"車禍\", 2 : \"故障\", 3 : \"塞車\", 4 : \"緊急救援\", 5 : \"加油\", 98 : \"偏移路線\", 99 : \"非營業狀態\", 100 : \"客滿\", 101 : \"包車出租\", 255 : \"未知\"}\n",
    "    busDutyStatus_dict = {0: \"正常\", 1 : \"開始\", 2 : \"結束\"}\n",
    "    operator = pd.read_excel(r\"D:\\kc.hsu\\OneDrive - Bridgestone\\數據\\TDX\\20221026_國道客運業者名單.xlsx\")\n",
    "    operator_dict = dict(zip(operator[\"OperatorID\"].astype(str), operator[\"OperatorNameZh_tw\"]))\n",
    "    route = pd.read_csv(r\"D:\\kc.hsu\\OneDrive - Bridgestone\\數據\\TDX\\公路客運路線代碼表.csv\")\n",
    "    route_dict = dict(zip(route[\"路線唯一識別代碼\"], route[[\"起站中文名稱\", \"終站中文名稱\"]].apply(tuple, axis=1)))\n",
    "    message_dict = {0 : \"未知\", 1 : \"定期\", 2 : \"非定期\"}\n",
    "    \n",
    "    df[\"Land\"] = globe.is_land(df[\"Latitude\"], df[\"Longitude\"]) # Verify if the GPS coordinate is bias(Land or Oscean)\n",
    "    df = df[df[\"Land\"] == True]\n",
    "    df[\"Operator\"] = df[\"OperatorID\"].astype(str).map(operator_dict)\n",
    "    df[\"車輛方向\"] = df[\"Direction\"].map(direction_dict)\n",
    "    df[\"車輛狀態\"] = df[\"BusStatus\"].map(busStatus_dict)\n",
    "    df[\"車輛勤務狀態\"] = df[\"DutyStatus\"].map(busDutyStatus_dict)\n",
    "    df[\"執勤路線\"] = df[\"RouteUID\"].map(route_dict)\n",
    "    df[\"班車資訊\"] = df[\"MessageType\"].map(message_dict)\n",
    "    \n",
    "    df[\"Coordinates\"] = df[[\"Latitude\", \"Longitude\"]].apply(tuple, axis=1)\n",
    "    df[\"NextCoordinates\"] = df.groupby(\"PlateNumb\")[\"Coordinates\"].shift(-1)\n",
    "    df[\"Distance\"] = df.apply(lambda df: geodesic(df[\"Coordinates\"], df[\"NextCoordinates\"]).meters if pd.notna(df[\"NextCoordinates\"]) else 0, axis=1) / 1000\n",
    "    df = df[df[\"Distance\"] <= 2.5]\n",
    "    df[\"Time\"] = pd.to_datetime(df[\"UpdateTime\"].map(lambda x: x.split(\"+\")[0]), format=\"%Y-%m-%dT%H:%M\")\n",
    "    \n",
    "    result = df.groupby([\"PlateNumb\", \"Operator\"]).agg({\"Distance\": \"sum\", \"Time\": lambda x: (x.max() - x.min()) / pd.Timedelta(hours=1)}).reset_index()\n",
    "    result[\"Date\"] = df[\"Time\"].max().strftime(\"%Y-%m-%d\")\n",
    "    result[\"AVG. Speed\"] = result[\"Distance\"] / result[\"Time\"]\n",
    "    result[\"AVG. Speed\"].fillna(0, inplace=True)\n",
    "    \n",
    "    return result, df"
   ]
  },
  {
   "cell_type": "code",
   "execution_count": null,
   "id": "ae941290-9cc1-4172-818a-9cd2a5fa6e91",
   "metadata": {},
   "outputs": [],
   "source": [
    "df = time_range_data(2023, 1, 5, 18, 0, 2023, 1, 5, 18, 1)\n",
    "# df.to_excel(r\"D:\\kc.hsu\\OneDrive - Bridgestone\\數據\\TDX\\20221028國道客運即時測試數據.xlsx\", index=False)"
   ]
  },
  {
   "cell_type": "code",
   "execution_count": null,
   "id": "90ef640e-cdb9-49e5-a7be-362b346bacdb",
   "metadata": {},
   "outputs": [],
   "source": [
    "df"
   ]
  },
  {
   "cell_type": "code",
   "execution_count": null,
   "id": "63d6782d-c8b8-47d2-8084-53fa0e247ae1",
   "metadata": {},
   "outputs": [],
   "source": [
    "result, raw = icb_summary(df)"
   ]
  },
  {
   "cell_type": "code",
   "execution_count": null,
   "id": "95bf27e1-0db8-4775-9d89-0b66f1b0f94e",
   "metadata": {},
   "outputs": [],
   "source": [
    "today = datetime.datetime.today().date().strftime(\"%Y%m%d\")"
   ]
  },
  {
   "cell_type": "code",
   "execution_count": null,
   "id": "ce9fe8cc-7ae6-4fd2-a6c0-262682df638b",
   "metadata": {},
   "outputs": [],
   "source": [
    "path = today + \"國道客運即時數據.pkl\""
   ]
  },
  {
   "cell_type": "code",
   "execution_count": null,
   "id": "6d47e76f-c648-4a19-a2d3-bdc391646da8",
   "metadata": {},
   "outputs": [],
   "source": [
    "raw.to_pickle(r\"D:\\kc.hsu\\OneDrive - Bridgestone\\數據\\TDX\\20221109國道客運即時數據.pkl\")\n",
    "result.to_excel(r\"D:\\kc.hsu\\OneDrive - Bridgestone\\數據\\TDX\\20221109國道客運即時匯整數據.xlsx\", index=False)"
   ]
  },
  {
   "cell_type": "code",
   "execution_count": null,
   "id": "1967be1a-5b2f-4ae7-a0e8-88cb7c353ed6",
   "metadata": {},
   "outputs": [],
   "source": [
    "result = icb_summary(df)\n",
    "# result.to_excel(r\"D:\\kc.hsu\\OneDrive - Bridgestone\\數據\\TDX\\20221028國道客運即時測試數據_彙整.xlsx\", index=False)\n"
   ]
  },
  {
   "cell_type": "markdown",
   "id": "a4bee2dc-7ff3-405e-bd3b-ea2a7988d901",
   "metadata": {
    "tags": []
   },
   "source": [
    "## 測試區"
   ]
  },
  {
   "cell_type": "code",
   "execution_count": null,
   "id": "6d9afb79-8f39-4a08-9a17-6bdcbcd1f37f",
   "metadata": {},
   "outputs": [],
   "source": [
    "def cb_time_range_data(st_year=0, st_month=0, st_day=0, st_hour=0, st_min=0, end_year=0, end_month=0, end_day=0, end_hour=0, end_min=0):\n",
    "    cities = [\"Taipei\", \"NewTaipei\", \"Taoyuan\", \"Taichung\", \"Tainan\", \"Kaohsiung\", \"Keelung\", \"Hsinchu\", \"HsinchuCounty\", \"MiaoliCounty\", \"ChanghuaCounty\", \"NantouCounty\", \"YunlinCounty\", \"ChiayiCounty\", \"ChiayiCounty\", \"Chiayi\", \"PingtungCounty\", \"YilanCounty\", \"HualienCounty\", \"TaitungCounty\", \"KinmenCounty\", \"PenghuCounty\", \"LienchiangCounty\"]\n",
    "    city_select = dict()\n",
    "    for no, city in enumerate(cities):\n",
    "        print(no, city)\n",
    "        city_select.setdefault(no, city)\n",
    "    city = city_select[eval(input(\"Please type the no. of the city: \"))]\n",
    "    st_time = datetime.datetime(st_year, st_month, st_day, st_hour, st_min).replace(tzinfo=datetime.timezone.utc).astimezone(timezone(timedelta(hours=0))).replace(microsecond=0).isoformat()\n",
    "    end_time = datetime.datetime(end_year, end_month, end_day, end_hour, end_min).replace(tzinfo=datetime.timezone.utc).astimezone(timezone(timedelta(hours=0))).replace(microsecond=0).isoformat()\n",
    "    dfs = []\n",
    "    tdx = TDX()\n",
    "    while True:\n",
    "        current_time = datetime.datetime.utcnow().replace(tzinfo=datetime.timezone.utc).astimezone(tz=None).replace(microsecond=0).isoformat()\n",
    "        if st_time <= current_time <= end_time:\n",
    "            base_url = \"https://tdx.transportdata.tw/api/basic\"\n",
    "            end_point = \"/v2/Bus/RealTimeByFrequency/City/{}\".format(city) # batch update(Frequency: 60sec.)\n",
    "            # filter = \"Direction eq 1\"  # 順逆行: [0:'順行', 1:'逆行']\n",
    "            url = base_url + end_point\n",
    "            try:\n",
    "                result = pd.DataFrame.from_records(tdx.get_response(url))\n",
    "            except:\n",
    "                tdx.token = tdx.get_token()\n",
    "                continue\n",
    "            else:\n",
    "                # result[\"Longitude\"] = result[\"BusPosition\"].map(lambda x: x[\"PositionLon\"])\n",
    "                # result[\"Latitude\"] = result[\"BusPosition\"].map(lambda x: x[\"PositionLat\"])\n",
    "                dfs.append(result)\n",
    "                time.sleep(60) # Update the data every 60 sec.\n",
    "        elif current_time < st_time:\n",
    "            # print(\"等待開始\")\n",
    "            continue\n",
    "        else:\n",
    "            print(\"抓取結束\")\n",
    "            result = pd.concat(dfs).reset_index(drop=True)\n",
    "            # print(result)\n",
    "            break\n",
    "    # result = result[[\"PlateNumb\", \"OperatorID\", \"RouteUID\", \"Direction\", \"DutyStatus\", \"BusStatus\", \"MessageType\", \"Latitude\", \"Longitude\", \"UpdateTime\"]]\n",
    "    return result"
   ]
  },
  {
   "cell_type": "code",
   "execution_count": null,
   "id": "656a9e7c-b7e1-4651-bf4b-90776f39a968",
   "metadata": {},
   "outputs": [],
   "source": [
    "cities = [\"Taipei\", \"NewTaipei\", \"Taoyuan\", \"Taichung\", \"Tainan\", \"Kaohsiung\", \"Keelung\", \"Hsinchu\", \"HsinchuCounty\", \"MiaoliCounty\", \"ChanghuaCounty\", \"NantouCounty\", \"YunlinCounty\", \"ChiayiCounty\", \"ChiayiCounty\", \"Chiayi\", \"PingtungCounty\", \"YilanCounty\", \"HualienCounty\", \"TaitungCounty\", \"KinmenCounty\", \"PenghuCounty\", \"LienchiangCounty\"]\n",
    "base_url = \"https://tdx.transportdata.tw/api/basic\"\n",
    "end_point = \"/v2/Road/Traffic/Live/VD/City/{}\"\n",
    "tdx = TDX()\n",
    "# dfs = []\n",
    "# for city in cities:\n",
    "#     url = base_url + end_point.format(city)\n",
    "#     try:\n",
    "#         df = pd.DataFrame.from_records(tdx.get_response(url))\n",
    "#     except ValueError:\n",
    "#         pass\n",
    "#     except:\n",
    "#         pass\n",
    "#     else:\n",
    "#         dfs.append(df)\n",
    "# df = pd.concat(dfs).reset_index(drop=True)\n",
    "# print(df)\n",
    "url = base_url + end_point.format(\"Taipei\")\n",
    "df = pd.DataFrame.from_records(tdx.get_response(url))\n",
    "    \n",
    "    "
   ]
  },
  {
   "cell_type": "code",
   "execution_count": null,
   "id": "e884a468-3545-413e-b023-80ce234700b5",
   "metadata": {},
   "outputs": [],
   "source": [
    "df[\"VDLives\"].apply(pd.Series)[\"LinkFlows\"].apply(pd.Series)"
   ]
  },
  {
   "cell_type": "code",
   "execution_count": null,
   "id": "20b40f0d-5e52-4559-aeb2-18f203eb3725",
   "metadata": {},
   "outputs": [],
   "source": [
    "df[\"VDLives\"].apply(pd.Series)[\"LinkFlows\"].apply(pd.Series)[0].apply(pd.Series)[\"Lanes\"].apply(pd.Series)"
   ]
  },
  {
   "cell_type": "code",
   "execution_count": null,
   "id": "2fc1dc77-30e8-4a06-a14e-bd1cdf617908",
   "metadata": {},
   "outputs": [],
   "source": [
    "from concurrent.futures import ThreadPoolExecutor"
   ]
  },
  {
   "cell_type": "code",
   "execution_count": null,
   "id": "d39859a0-a19f-4036-a620-7f0a868ee6c2",
   "metadata": {},
   "outputs": [],
   "source": [
    "with ThreadPoolExecutor() as executor:\n",
    "    tpe = executor.submit(cb_time_range_data, 2022, 11, 17, 15, 11, 2022, 11, 17, 15, 52)\n",
    "    ntp = executor.submit(cb_time_range_data, 2022, 11, 17, 15, 11, 2022, 11, 17, 15, 52)"
   ]
  },
  {
   "cell_type": "code",
   "execution_count": null,
   "id": "48f7ded0-c676-4ff1-b81d-3e3587759927",
   "metadata": {},
   "outputs": [],
   "source": [
    "test_data = cb_time_range_data(2022, 11, 17, 15, 11, 2022, 11, 17, 15, 40)"
   ]
  },
  {
   "cell_type": "code",
   "execution_count": null,
   "id": "6cebbdcb-089e-4f44-94b3-3ea060d9693d",
   "metadata": {},
   "outputs": [],
   "source": [
    "test = test_data.reset_index(drop=True)"
   ]
  },
  {
   "cell_type": "code",
   "execution_count": null,
   "id": "97f9c186-1dc2-46e8-b878-123266904aea",
   "metadata": {},
   "outputs": [],
   "source": [
    "test[(test[\"OperatorID\"] == \"100\") & (test[\"PlateNumb\"].isin([\"KKA-1225\", \"KKA-1232\"]))]"
   ]
  },
  {
   "cell_type": "code",
   "execution_count": null,
   "id": "04d67770-cf3c-44f2-8c73-41c774446a00",
   "metadata": {},
   "outputs": [],
   "source": [
    "direction_dict = {0 : \"去程(南下)\", 1 : \"返程(北上)\", 2 : \"迴圈(雙向)\"}\n",
    "busStatus_dict = {0: \"正常\", 1 : \"車禍\", 2 : \"故障\", 3 : \"塞車\", 4 : \"緊急救援\", 5 : \"加油\", 98 : \"偏移路線\", 99 : \"非營業狀態\", 100 : \"客滿\", 101 : \"包車出租\", 255 : \"未知\"}\n",
    "busDutyStatus_dict = {0: \"正常\", 1 : \"開始\", 2 : \"結束\"}\n",
    "operator = pd.read_excel(r\"D:\\kc.hsu\\OneDrive - Bridgestone\\數據\\TDX\\20221026_國道客運業者名單.xlsx\")\n",
    "operator_dict = dict(zip(operator[\"OperatorID\"], operator[\"OperatorNameZh_tw\"]))\n",
    "route = pd.read_csv(r\"D:\\kc.hsu\\OneDrive - Bridgestone\\數據\\TDX\\公路客運路線代碼表.csv\")\n",
    "route_dict = dict(zip(route[\"路線唯一識別代碼\"], route[[\"起站中文名稱\", \"終站中文名稱\"]].apply(tuple, axis=1)))\n",
    "message_dict = {0 : \"未知\", 1 : \"定期\", 2 : \"非定期\"}\n",
    "df[\"Operator\"] = df[\"OperatorID\"].map(operator_dict)\n",
    "df[\"車輛方向\"] = df[\"Direction\"].map(direction_dict)\n",
    "df[\"車輛狀態\"] = df[\"BusStatus\"].map(busStatus_dict)\n",
    "df[\"車輛勤務狀態\"] = df[\"DutyStatus\"].map(busDutyStatus_dict)\n",
    "df[\"執勤路線\"] = df[\"RouteUID\"].map(route_dict)\n",
    "df[\"班車資訊\"] = df[\"MessageType\"].map(message_dict)"
   ]
  },
  {
   "cell_type": "code",
   "execution_count": null,
   "id": "f11ea1ad-1502-439f-8121-7056086fa2de",
   "metadata": {},
   "outputs": [],
   "source": []
  }
 ],
 "metadata": {
  "kernelspec": {
   "display_name": "Python 3 (ipykernel)",
   "language": "python",
   "name": "python3"
  },
  "language_info": {
   "codemirror_mode": {
    "name": "ipython",
    "version": 3
   },
   "file_extension": ".py",
   "mimetype": "text/x-python",
   "name": "python",
   "nbconvert_exporter": "python",
   "pygments_lexer": "ipython3",
   "version": "3.10.6"
  }
 },
 "nbformat": 4,
 "nbformat_minor": 5
}
