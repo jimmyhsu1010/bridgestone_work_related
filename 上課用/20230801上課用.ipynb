{
 "cells": [
  {
   "cell_type": "code",
   "execution_count": 18,
   "metadata": {},
   "outputs": [],
   "source": [
    "import pandas as pd\n",
    "pd.set_option(\"display.max_columns\", None)\n",
    "import plotly.express as px"
   ]
  },
  {
   "cell_type": "code",
   "execution_count": 44,
   "metadata": {},
   "outputs": [],
   "source": [
    "# 阿良哥的數據轉換\n",
    "df = pd.read_clipboard()"
   ]
  },
  {
   "cell_type": "code",
   "execution_count": 45,
   "metadata": {},
   "outputs": [],
   "source": [
    "result= df.groupby(['PCODE', '中計', '上市時間', 'GRP', '大通路', '客戶通路', '規格', '吋別', '花紋', '產地',\n",
    "       'Product Name', 'BSCAP definition']).sum().stack().reset_index(name=\"數量\")"
   ]
  },
  {
   "cell_type": "code",
   "execution_count": 36,
   "metadata": {},
   "outputs": [],
   "source": [
    "# 選取數量>0的資料\n",
    "result = result[result[\"數量\"] > 0].reset_index(drop=True)"
   ]
  },
  {
   "cell_type": "code",
   "execution_count": 11,
   "metadata": {},
   "outputs": [],
   "source": [
    "result.columns = ['PCODE', '中計', '上市時間', 'GRP', '大通路', '客戶通路', '規格', '吋別', '花紋', '產地',\n",
    "       'Product Name', 'BSCAP definition', '月份', '數量']"
   ]
  },
  {
   "cell_type": "code",
   "execution_count": 75,
   "metadata": {},
   "outputs": [],
   "source": [
    "result[\"吋別\"] = result[\"吋別\"].astype(str).map(lambda x: x[:2] if \".0\" in x else x)"
   ]
  },
  {
   "cell_type": "code",
   "execution_count": 93,
   "metadata": {},
   "outputs": [],
   "source": [
    "plot = result.groupby([\"GRP\", \"吋別\", \"客戶通路\", \"月份\"])[[\"數量\"]].sum().reset_index()"
   ]
  },
  {
   "cell_type": "code",
   "execution_count": 102,
   "metadata": {},
   "outputs": [
    {
     "data": {
      "text/html": [
       "<div>\n",
       "<style scoped>\n",
       "    .dataframe tbody tr th:only-of-type {\n",
       "        vertical-align: middle;\n",
       "    }\n",
       "\n",
       "    .dataframe tbody tr th {\n",
       "        vertical-align: top;\n",
       "    }\n",
       "\n",
       "    .dataframe thead th {\n",
       "        text-align: right;\n",
       "    }\n",
       "</style>\n",
       "<table border=\"1\" class=\"dataframe\">\n",
       "  <thead>\n",
       "    <tr style=\"text-align: right;\">\n",
       "      <th></th>\n",
       "      <th>PCODE</th>\n",
       "      <th>中計</th>\n",
       "      <th>上市時間</th>\n",
       "      <th>GRP</th>\n",
       "      <th>大通路</th>\n",
       "      <th>客戶通路</th>\n",
       "      <th>規格</th>\n",
       "      <th>吋別</th>\n",
       "      <th>花紋</th>\n",
       "      <th>產地</th>\n",
       "      <th>Product Name</th>\n",
       "      <th>BSCAP definition</th>\n",
       "      <th>月份</th>\n",
       "      <th>數量</th>\n",
       "    </tr>\n",
       "  </thead>\n",
       "  <tbody>\n",
       "    <tr>\n",
       "      <th>0</th>\n",
       "      <td>LSR01180</td>\n",
       "      <td>LSR2</td>\n",
       "      <td>Selling</td>\n",
       "      <td>LSR</td>\n",
       "      <td>BSSC</td>\n",
       "      <td>FMC</td>\n",
       "      <td>750</td>\n",
       "      <td>16</td>\n",
       "      <td>R225</td>\n",
       "      <td>BSJ</td>\n",
       "      <td>V-STEEL RIB R225</td>\n",
       "      <td>Premium - Global common</td>\n",
       "      <td>1月</td>\n",
       "      <td>30</td>\n",
       "    </tr>\n",
       "    <tr>\n",
       "      <th>1</th>\n",
       "      <td>LSR01180</td>\n",
       "      <td>LSR2</td>\n",
       "      <td>Selling</td>\n",
       "      <td>LSR</td>\n",
       "      <td>BSSC</td>\n",
       "      <td>FMC</td>\n",
       "      <td>750</td>\n",
       "      <td>16</td>\n",
       "      <td>R225</td>\n",
       "      <td>BSJ</td>\n",
       "      <td>V-STEEL RIB R225</td>\n",
       "      <td>Premium - Global common</td>\n",
       "      <td>2月</td>\n",
       "      <td>10</td>\n",
       "    </tr>\n",
       "    <tr>\n",
       "      <th>2</th>\n",
       "      <td>LSR01180</td>\n",
       "      <td>LSR2</td>\n",
       "      <td>Selling</td>\n",
       "      <td>LSR</td>\n",
       "      <td>BSSC</td>\n",
       "      <td>FMC</td>\n",
       "      <td>750</td>\n",
       "      <td>16</td>\n",
       "      <td>R225</td>\n",
       "      <td>BSJ</td>\n",
       "      <td>V-STEEL RIB R225</td>\n",
       "      <td>Premium - Global common</td>\n",
       "      <td>3月</td>\n",
       "      <td>30</td>\n",
       "    </tr>\n",
       "    <tr>\n",
       "      <th>3</th>\n",
       "      <td>LSR01180</td>\n",
       "      <td>LSR2</td>\n",
       "      <td>Selling</td>\n",
       "      <td>LSR</td>\n",
       "      <td>BSSC</td>\n",
       "      <td>FMC</td>\n",
       "      <td>750</td>\n",
       "      <td>16</td>\n",
       "      <td>R225</td>\n",
       "      <td>BSJ</td>\n",
       "      <td>V-STEEL RIB R225</td>\n",
       "      <td>Premium - Global common</td>\n",
       "      <td>4月</td>\n",
       "      <td>30</td>\n",
       "    </tr>\n",
       "    <tr>\n",
       "      <th>4</th>\n",
       "      <td>LSR01180</td>\n",
       "      <td>LSR2</td>\n",
       "      <td>Selling</td>\n",
       "      <td>LSR</td>\n",
       "      <td>BSSC</td>\n",
       "      <td>FMC</td>\n",
       "      <td>750</td>\n",
       "      <td>16</td>\n",
       "      <td>R225</td>\n",
       "      <td>BSJ</td>\n",
       "      <td>V-STEEL RIB R225</td>\n",
       "      <td>Premium - Global common</td>\n",
       "      <td>5月</td>\n",
       "      <td>40</td>\n",
       "    </tr>\n",
       "    <tr>\n",
       "      <th>...</th>\n",
       "      <td>...</td>\n",
       "      <td>...</td>\n",
       "      <td>...</td>\n",
       "      <td>...</td>\n",
       "      <td>...</td>\n",
       "      <td>...</td>\n",
       "      <td>...</td>\n",
       "      <td>...</td>\n",
       "      <td>...</td>\n",
       "      <td>...</td>\n",
       "      <td>...</td>\n",
       "      <td>...</td>\n",
       "      <td>...</td>\n",
       "      <td>...</td>\n",
       "    </tr>\n",
       "    <tr>\n",
       "      <th>883</th>\n",
       "      <td>TBR0L132</td>\n",
       "      <td>TBR3</td>\n",
       "      <td>Selling</td>\n",
       "      <td>TBR</td>\n",
       "      <td>BSSC</td>\n",
       "      <td>其他</td>\n",
       "      <td>295/80</td>\n",
       "      <td>22.5</td>\n",
       "      <td>R156</td>\n",
       "      <td>TBSC</td>\n",
       "      <td>ECOPIA R156</td>\n",
       "      <td>Premium - Global common</td>\n",
       "      <td>8月</td>\n",
       "      <td>0</td>\n",
       "    </tr>\n",
       "    <tr>\n",
       "      <th>884</th>\n",
       "      <td>TBR0L132</td>\n",
       "      <td>TBR3</td>\n",
       "      <td>Selling</td>\n",
       "      <td>TBR</td>\n",
       "      <td>BSSC</td>\n",
       "      <td>其他</td>\n",
       "      <td>295/80</td>\n",
       "      <td>22.5</td>\n",
       "      <td>R156</td>\n",
       "      <td>TBSC</td>\n",
       "      <td>ECOPIA R156</td>\n",
       "      <td>Premium - Global common</td>\n",
       "      <td>9月</td>\n",
       "      <td>0</td>\n",
       "    </tr>\n",
       "    <tr>\n",
       "      <th>885</th>\n",
       "      <td>TBR0L132</td>\n",
       "      <td>TBR3</td>\n",
       "      <td>Selling</td>\n",
       "      <td>TBR</td>\n",
       "      <td>BSSC</td>\n",
       "      <td>其他</td>\n",
       "      <td>295/80</td>\n",
       "      <td>22.5</td>\n",
       "      <td>R156</td>\n",
       "      <td>TBSC</td>\n",
       "      <td>ECOPIA R156</td>\n",
       "      <td>Premium - Global common</td>\n",
       "      <td>10月</td>\n",
       "      <td>0</td>\n",
       "    </tr>\n",
       "    <tr>\n",
       "      <th>886</th>\n",
       "      <td>TBR0L132</td>\n",
       "      <td>TBR3</td>\n",
       "      <td>Selling</td>\n",
       "      <td>TBR</td>\n",
       "      <td>BSSC</td>\n",
       "      <td>其他</td>\n",
       "      <td>295/80</td>\n",
       "      <td>22.5</td>\n",
       "      <td>R156</td>\n",
       "      <td>TBSC</td>\n",
       "      <td>ECOPIA R156</td>\n",
       "      <td>Premium - Global common</td>\n",
       "      <td>11月</td>\n",
       "      <td>0</td>\n",
       "    </tr>\n",
       "    <tr>\n",
       "      <th>887</th>\n",
       "      <td>TBR0L132</td>\n",
       "      <td>TBR3</td>\n",
       "      <td>Selling</td>\n",
       "      <td>TBR</td>\n",
       "      <td>BSSC</td>\n",
       "      <td>其他</td>\n",
       "      <td>295/80</td>\n",
       "      <td>22.5</td>\n",
       "      <td>R156</td>\n",
       "      <td>TBSC</td>\n",
       "      <td>ECOPIA R156</td>\n",
       "      <td>Premium - Global common</td>\n",
       "      <td>12月</td>\n",
       "      <td>0</td>\n",
       "    </tr>\n",
       "  </tbody>\n",
       "</table>\n",
       "<p>888 rows × 14 columns</p>\n",
       "</div>"
      ],
      "text/plain": [
       "        PCODE    中計     上市時間  GRP   大通路 客戶通路       規格    吋別    花紋    產地  \\\n",
       "0    LSR01180  LSR2  Selling  LSR  BSSC  FMC      750    16  R225   BSJ   \n",
       "1    LSR01180  LSR2  Selling  LSR  BSSC  FMC      750    16  R225   BSJ   \n",
       "2    LSR01180  LSR2  Selling  LSR  BSSC  FMC      750    16  R225   BSJ   \n",
       "3    LSR01180  LSR2  Selling  LSR  BSSC  FMC      750    16  R225   BSJ   \n",
       "4    LSR01180  LSR2  Selling  LSR  BSSC  FMC      750    16  R225   BSJ   \n",
       "..        ...   ...      ...  ...   ...  ...      ...   ...   ...   ...   \n",
       "883  TBR0L132  TBR3  Selling  TBR  BSSC   其他   295/80  22.5  R156  TBSC   \n",
       "884  TBR0L132  TBR3  Selling  TBR  BSSC   其他   295/80  22.5  R156  TBSC   \n",
       "885  TBR0L132  TBR3  Selling  TBR  BSSC   其他   295/80  22.5  R156  TBSC   \n",
       "886  TBR0L132  TBR3  Selling  TBR  BSSC   其他   295/80  22.5  R156  TBSC   \n",
       "887  TBR0L132  TBR3  Selling  TBR  BSSC   其他   295/80  22.5  R156  TBSC   \n",
       "\n",
       "         Product Name         BSCAP definition   月份  數量  \n",
       "0    V-STEEL RIB R225  Premium - Global common   1月  30  \n",
       "1    V-STEEL RIB R225  Premium - Global common   2月  10  \n",
       "2    V-STEEL RIB R225  Premium - Global common   3月  30  \n",
       "3    V-STEEL RIB R225  Premium - Global common   4月  30  \n",
       "4    V-STEEL RIB R225  Premium - Global common   5月  40  \n",
       "..                ...                      ...  ...  ..  \n",
       "883       ECOPIA R156  Premium - Global common   8月   0  \n",
       "884       ECOPIA R156  Premium - Global common   9月   0  \n",
       "885       ECOPIA R156  Premium - Global common  10月   0  \n",
       "886       ECOPIA R156  Premium - Global common  11月   0  \n",
       "887       ECOPIA R156  Premium - Global common  12月   0  \n",
       "\n",
       "[888 rows x 14 columns]"
      ]
     },
     "execution_count": 102,
     "metadata": {},
     "output_type": "execute_result"
    }
   ],
   "source": [
    "result"
   ]
  },
  {
   "cell_type": "code",
   "execution_count": 101,
   "metadata": {},
   "outputs": [
    {
     "data": {
      "application/vnd.plotly.v1+json": {
       "config": {
        "plotlyServerURL": "https://plot.ly"
       },
       "data": [
        {
         "alignmentgroup": "True",
         "hovertemplate": "輪胎類型=LSR<br>吋別=16<br>客戶通路=FMC<br>月份=%{x}<br>數量=%{y}<extra></extra>",
         "legendgroup": "LSR",
         "marker": {
          "color": "#636efa",
          "pattern": {
           "shape": ""
          }
         },
         "name": "LSR",
         "offsetgroup": "LSR",
         "orientation": "v",
         "showlegend": true,
         "textposition": "auto",
         "type": "bar",
         "x": [
          "10月",
          "11月",
          "12月",
          "1月",
          "2月",
          "3月",
          "4月",
          "5月",
          "6月",
          "7月",
          "8月",
          "9月"
         ],
         "xaxis": "x5",
         "y": [
          60,
          80,
          70,
          70,
          30,
          60,
          80,
          80,
          60,
          60,
          60,
          80
         ],
         "yaxis": "y5"
        },
        {
         "alignmentgroup": "True",
         "hovertemplate": "輪胎類型=LSR<br>吋別=16<br>客戶通路=其他<br>月份=%{x}<br>數量=%{y}<extra></extra>",
         "legendgroup": "LSR",
         "marker": {
          "color": "#636efa",
          "pattern": {
           "shape": ""
          }
         },
         "name": "LSR",
         "offsetgroup": "LSR",
         "orientation": "v",
         "showlegend": false,
         "textposition": "auto",
         "type": "bar",
         "x": [
          "10月",
          "11月",
          "12月",
          "1月",
          "2月",
          "3月",
          "4月",
          "5月",
          "6月",
          "7月",
          "8月",
          "9月"
         ],
         "xaxis": "x6",
         "y": [
          60,
          60,
          70,
          70,
          40,
          60,
          80,
          60,
          60,
          50,
          30,
          80
         ],
         "yaxis": "y6"
        },
        {
         "alignmentgroup": "True",
         "hovertemplate": "輪胎類型=LSR<br>吋別=17.5<br>客戶通路=FMC<br>月份=%{x}<br>數量=%{y}<extra></extra>",
         "legendgroup": "LSR",
         "marker": {
          "color": "#636efa",
          "pattern": {
           "shape": ""
          }
         },
         "name": "LSR",
         "offsetgroup": "LSR",
         "orientation": "v",
         "showlegend": false,
         "textposition": "auto",
         "type": "bar",
         "x": [
          "10月",
          "11月",
          "12月",
          "1月",
          "2月",
          "3月",
          "4月",
          "5月",
          "6月",
          "7月",
          "8月",
          "9月"
         ],
         "xaxis": "x3",
         "y": [
          190,
          240,
          260,
          240,
          110,
          190,
          180,
          240,
          190,
          180,
          160,
          180
         ],
         "yaxis": "y3"
        },
        {
         "alignmentgroup": "True",
         "hovertemplate": "輪胎類型=LSR<br>吋別=17.5<br>客戶通路=其他<br>月份=%{x}<br>數量=%{y}<extra></extra>",
         "legendgroup": "LSR",
         "marker": {
          "color": "#636efa",
          "pattern": {
           "shape": ""
          }
         },
         "name": "LSR",
         "offsetgroup": "LSR",
         "orientation": "v",
         "showlegend": false,
         "textposition": "auto",
         "type": "bar",
         "x": [
          "10月",
          "11月",
          "12月",
          "1月",
          "2月",
          "3月",
          "4月",
          "5月",
          "6月",
          "7月",
          "8月",
          "9月"
         ],
         "xaxis": "x4",
         "y": [
          120,
          150,
          140,
          140,
          100,
          120,
          170,
          150,
          120,
          110,
          78,
          170
         ],
         "yaxis": "y4"
        },
        {
         "alignmentgroup": "True",
         "hovertemplate": "輪胎類型=TBR<br>吋別=17.5<br>客戶通路=FMC<br>月份=%{x}<br>數量=%{y}<extra></extra>",
         "legendgroup": "TBR",
         "marker": {
          "color": "#EF553B",
          "pattern": {
           "shape": ""
          }
         },
         "name": "TBR",
         "offsetgroup": "TBR",
         "orientation": "v",
         "showlegend": true,
         "textposition": "auto",
         "type": "bar",
         "x": [
          "10月",
          "11月",
          "12月",
          "1月",
          "2月",
          "3月",
          "4月",
          "5月",
          "6月",
          "7月",
          "8月",
          "9月"
         ],
         "xaxis": "x3",
         "y": [
          96,
          80,
          90,
          90,
          46,
          96,
          90,
          80,
          96,
          50,
          40,
          90
         ],
         "yaxis": "y3"
        },
        {
         "alignmentgroup": "True",
         "hovertemplate": "輪胎類型=TBR<br>吋別=17.5<br>客戶通路=其他<br>月份=%{x}<br>數量=%{y}<extra></extra>",
         "legendgroup": "TBR",
         "marker": {
          "color": "#EF553B",
          "pattern": {
           "shape": ""
          }
         },
         "name": "TBR",
         "offsetgroup": "TBR",
         "orientation": "v",
         "showlegend": false,
         "textposition": "auto",
         "type": "bar",
         "x": [
          "10月",
          "11月",
          "12月",
          "1月",
          "2月",
          "3月",
          "4月",
          "5月",
          "6月",
          "7月",
          "8月",
          "9月"
         ],
         "xaxis": "x4",
         "y": [
          54,
          40,
          44,
          44,
          20,
          54,
          54,
          40,
          54,
          60,
          20,
          54
         ],
         "yaxis": "y4"
        },
        {
         "alignmentgroup": "True",
         "hovertemplate": "輪胎類型=TBR<br>吋別=22.5<br>客戶通路=FMC<br>月份=%{x}<br>數量=%{y}<extra></extra>",
         "legendgroup": "TBR",
         "marker": {
          "color": "#EF553B",
          "pattern": {
           "shape": ""
          }
         },
         "name": "TBR",
         "offsetgroup": "TBR",
         "orientation": "v",
         "showlegend": false,
         "textposition": "auto",
         "type": "bar",
         "x": [
          "10月",
          "11月",
          "12月",
          "1月",
          "2月",
          "3月",
          "4月",
          "5月",
          "6月",
          "7月",
          "8月",
          "9月"
         ],
         "xaxis": "x",
         "y": [
          802,
          752,
          599,
          584,
          334,
          862,
          786,
          782,
          862,
          822,
          860,
          756
         ],
         "yaxis": "y"
        },
        {
         "alignmentgroup": "True",
         "hovertemplate": "輪胎類型=TBR<br>吋別=22.5<br>客戶通路=其他<br>月份=%{x}<br>數量=%{y}<extra></extra>",
         "legendgroup": "TBR",
         "marker": {
          "color": "#EF553B",
          "pattern": {
           "shape": ""
          }
         },
         "name": "TBR",
         "offsetgroup": "TBR",
         "orientation": "v",
         "showlegend": false,
         "textposition": "auto",
         "type": "bar",
         "x": [
          "10月",
          "11月",
          "12月",
          "1月",
          "2月",
          "3月",
          "4月",
          "5月",
          "6月",
          "7月",
          "8月",
          "9月"
         ],
         "xaxis": "x2",
         "y": [
          240,
          250,
          349,
          319,
          164,
          240,
          242,
          250,
          240,
          322,
          374,
          242
         ],
         "yaxis": "y2"
        }
       ],
       "layout": {
        "annotations": [
         {
          "font": {},
          "showarrow": false,
          "text": "客戶通路=FMC",
          "x": 0.24,
          "xanchor": "center",
          "xref": "paper",
          "y": 0.9999999999999998,
          "yanchor": "bottom",
          "yref": "paper"
         },
         {
          "font": {},
          "showarrow": false,
          "text": "客戶通路=其他",
          "x": 0.74,
          "xanchor": "center",
          "xref": "paper",
          "y": 0.9999999999999998,
          "yanchor": "bottom",
          "yref": "paper"
         },
         {
          "font": {},
          "showarrow": false,
          "text": "吋別=22.5",
          "textangle": 90,
          "x": 0.98,
          "xanchor": "left",
          "xref": "paper",
          "y": 0.15666666666666665,
          "yanchor": "middle",
          "yref": "paper"
         },
         {
          "font": {},
          "showarrow": false,
          "text": "吋別=17.5",
          "textangle": 90,
          "x": 0.98,
          "xanchor": "left",
          "xref": "paper",
          "y": 0.4999999999999999,
          "yanchor": "middle",
          "yref": "paper"
         },
         {
          "font": {},
          "showarrow": false,
          "text": "吋別=16",
          "textangle": 90,
          "x": 0.98,
          "xanchor": "left",
          "xref": "paper",
          "y": 0.8433333333333332,
          "yanchor": "middle",
          "yref": "paper"
         }
        ],
        "barmode": "group",
        "legend": {
         "title": {
          "text": "輪胎類型"
         },
         "tracegroupgap": 0
        },
        "template": {
         "data": {
          "bar": [
           {
            "error_x": {
             "color": "#2a3f5f"
            },
            "error_y": {
             "color": "#2a3f5f"
            },
            "marker": {
             "line": {
              "color": "#E5ECF6",
              "width": 0.5
             },
             "pattern": {
              "fillmode": "overlay",
              "size": 10,
              "solidity": 0.2
             }
            },
            "type": "bar"
           }
          ],
          "barpolar": [
           {
            "marker": {
             "line": {
              "color": "#E5ECF6",
              "width": 0.5
             },
             "pattern": {
              "fillmode": "overlay",
              "size": 10,
              "solidity": 0.2
             }
            },
            "type": "barpolar"
           }
          ],
          "carpet": [
           {
            "aaxis": {
             "endlinecolor": "#2a3f5f",
             "gridcolor": "white",
             "linecolor": "white",
             "minorgridcolor": "white",
             "startlinecolor": "#2a3f5f"
            },
            "baxis": {
             "endlinecolor": "#2a3f5f",
             "gridcolor": "white",
             "linecolor": "white",
             "minorgridcolor": "white",
             "startlinecolor": "#2a3f5f"
            },
            "type": "carpet"
           }
          ],
          "choropleth": [
           {
            "colorbar": {
             "outlinewidth": 0,
             "ticks": ""
            },
            "type": "choropleth"
           }
          ],
          "contour": [
           {
            "colorbar": {
             "outlinewidth": 0,
             "ticks": ""
            },
            "colorscale": [
             [
              0,
              "#0d0887"
             ],
             [
              0.1111111111111111,
              "#46039f"
             ],
             [
              0.2222222222222222,
              "#7201a8"
             ],
             [
              0.3333333333333333,
              "#9c179e"
             ],
             [
              0.4444444444444444,
              "#bd3786"
             ],
             [
              0.5555555555555556,
              "#d8576b"
             ],
             [
              0.6666666666666666,
              "#ed7953"
             ],
             [
              0.7777777777777778,
              "#fb9f3a"
             ],
             [
              0.8888888888888888,
              "#fdca26"
             ],
             [
              1,
              "#f0f921"
             ]
            ],
            "type": "contour"
           }
          ],
          "contourcarpet": [
           {
            "colorbar": {
             "outlinewidth": 0,
             "ticks": ""
            },
            "type": "contourcarpet"
           }
          ],
          "heatmap": [
           {
            "colorbar": {
             "outlinewidth": 0,
             "ticks": ""
            },
            "colorscale": [
             [
              0,
              "#0d0887"
             ],
             [
              0.1111111111111111,
              "#46039f"
             ],
             [
              0.2222222222222222,
              "#7201a8"
             ],
             [
              0.3333333333333333,
              "#9c179e"
             ],
             [
              0.4444444444444444,
              "#bd3786"
             ],
             [
              0.5555555555555556,
              "#d8576b"
             ],
             [
              0.6666666666666666,
              "#ed7953"
             ],
             [
              0.7777777777777778,
              "#fb9f3a"
             ],
             [
              0.8888888888888888,
              "#fdca26"
             ],
             [
              1,
              "#f0f921"
             ]
            ],
            "type": "heatmap"
           }
          ],
          "heatmapgl": [
           {
            "colorbar": {
             "outlinewidth": 0,
             "ticks": ""
            },
            "colorscale": [
             [
              0,
              "#0d0887"
             ],
             [
              0.1111111111111111,
              "#46039f"
             ],
             [
              0.2222222222222222,
              "#7201a8"
             ],
             [
              0.3333333333333333,
              "#9c179e"
             ],
             [
              0.4444444444444444,
              "#bd3786"
             ],
             [
              0.5555555555555556,
              "#d8576b"
             ],
             [
              0.6666666666666666,
              "#ed7953"
             ],
             [
              0.7777777777777778,
              "#fb9f3a"
             ],
             [
              0.8888888888888888,
              "#fdca26"
             ],
             [
              1,
              "#f0f921"
             ]
            ],
            "type": "heatmapgl"
           }
          ],
          "histogram": [
           {
            "marker": {
             "pattern": {
              "fillmode": "overlay",
              "size": 10,
              "solidity": 0.2
             }
            },
            "type": "histogram"
           }
          ],
          "histogram2d": [
           {
            "colorbar": {
             "outlinewidth": 0,
             "ticks": ""
            },
            "colorscale": [
             [
              0,
              "#0d0887"
             ],
             [
              0.1111111111111111,
              "#46039f"
             ],
             [
              0.2222222222222222,
              "#7201a8"
             ],
             [
              0.3333333333333333,
              "#9c179e"
             ],
             [
              0.4444444444444444,
              "#bd3786"
             ],
             [
              0.5555555555555556,
              "#d8576b"
             ],
             [
              0.6666666666666666,
              "#ed7953"
             ],
             [
              0.7777777777777778,
              "#fb9f3a"
             ],
             [
              0.8888888888888888,
              "#fdca26"
             ],
             [
              1,
              "#f0f921"
             ]
            ],
            "type": "histogram2d"
           }
          ],
          "histogram2dcontour": [
           {
            "colorbar": {
             "outlinewidth": 0,
             "ticks": ""
            },
            "colorscale": [
             [
              0,
              "#0d0887"
             ],
             [
              0.1111111111111111,
              "#46039f"
             ],
             [
              0.2222222222222222,
              "#7201a8"
             ],
             [
              0.3333333333333333,
              "#9c179e"
             ],
             [
              0.4444444444444444,
              "#bd3786"
             ],
             [
              0.5555555555555556,
              "#d8576b"
             ],
             [
              0.6666666666666666,
              "#ed7953"
             ],
             [
              0.7777777777777778,
              "#fb9f3a"
             ],
             [
              0.8888888888888888,
              "#fdca26"
             ],
             [
              1,
              "#f0f921"
             ]
            ],
            "type": "histogram2dcontour"
           }
          ],
          "mesh3d": [
           {
            "colorbar": {
             "outlinewidth": 0,
             "ticks": ""
            },
            "type": "mesh3d"
           }
          ],
          "parcoords": [
           {
            "line": {
             "colorbar": {
              "outlinewidth": 0,
              "ticks": ""
             }
            },
            "type": "parcoords"
           }
          ],
          "pie": [
           {
            "automargin": true,
            "type": "pie"
           }
          ],
          "scatter": [
           {
            "fillpattern": {
             "fillmode": "overlay",
             "size": 10,
             "solidity": 0.2
            },
            "type": "scatter"
           }
          ],
          "scatter3d": [
           {
            "line": {
             "colorbar": {
              "outlinewidth": 0,
              "ticks": ""
             }
            },
            "marker": {
             "colorbar": {
              "outlinewidth": 0,
              "ticks": ""
             }
            },
            "type": "scatter3d"
           }
          ],
          "scattercarpet": [
           {
            "marker": {
             "colorbar": {
              "outlinewidth": 0,
              "ticks": ""
             }
            },
            "type": "scattercarpet"
           }
          ],
          "scattergeo": [
           {
            "marker": {
             "colorbar": {
              "outlinewidth": 0,
              "ticks": ""
             }
            },
            "type": "scattergeo"
           }
          ],
          "scattergl": [
           {
            "marker": {
             "colorbar": {
              "outlinewidth": 0,
              "ticks": ""
             }
            },
            "type": "scattergl"
           }
          ],
          "scattermapbox": [
           {
            "marker": {
             "colorbar": {
              "outlinewidth": 0,
              "ticks": ""
             }
            },
            "type": "scattermapbox"
           }
          ],
          "scatterpolar": [
           {
            "marker": {
             "colorbar": {
              "outlinewidth": 0,
              "ticks": ""
             }
            },
            "type": "scatterpolar"
           }
          ],
          "scatterpolargl": [
           {
            "marker": {
             "colorbar": {
              "outlinewidth": 0,
              "ticks": ""
             }
            },
            "type": "scatterpolargl"
           }
          ],
          "scatterternary": [
           {
            "marker": {
             "colorbar": {
              "outlinewidth": 0,
              "ticks": ""
             }
            },
            "type": "scatterternary"
           }
          ],
          "surface": [
           {
            "colorbar": {
             "outlinewidth": 0,
             "ticks": ""
            },
            "colorscale": [
             [
              0,
              "#0d0887"
             ],
             [
              0.1111111111111111,
              "#46039f"
             ],
             [
              0.2222222222222222,
              "#7201a8"
             ],
             [
              0.3333333333333333,
              "#9c179e"
             ],
             [
              0.4444444444444444,
              "#bd3786"
             ],
             [
              0.5555555555555556,
              "#d8576b"
             ],
             [
              0.6666666666666666,
              "#ed7953"
             ],
             [
              0.7777777777777778,
              "#fb9f3a"
             ],
             [
              0.8888888888888888,
              "#fdca26"
             ],
             [
              1,
              "#f0f921"
             ]
            ],
            "type": "surface"
           }
          ],
          "table": [
           {
            "cells": {
             "fill": {
              "color": "#EBF0F8"
             },
             "line": {
              "color": "white"
             }
            },
            "header": {
             "fill": {
              "color": "#C8D4E3"
             },
             "line": {
              "color": "white"
             }
            },
            "type": "table"
           }
          ]
         },
         "layout": {
          "annotationdefaults": {
           "arrowcolor": "#2a3f5f",
           "arrowhead": 0,
           "arrowwidth": 1
          },
          "autotypenumbers": "strict",
          "coloraxis": {
           "colorbar": {
            "outlinewidth": 0,
            "ticks": ""
           }
          },
          "colorscale": {
           "diverging": [
            [
             0,
             "#8e0152"
            ],
            [
             0.1,
             "#c51b7d"
            ],
            [
             0.2,
             "#de77ae"
            ],
            [
             0.3,
             "#f1b6da"
            ],
            [
             0.4,
             "#fde0ef"
            ],
            [
             0.5,
             "#f7f7f7"
            ],
            [
             0.6,
             "#e6f5d0"
            ],
            [
             0.7,
             "#b8e186"
            ],
            [
             0.8,
             "#7fbc41"
            ],
            [
             0.9,
             "#4d9221"
            ],
            [
             1,
             "#276419"
            ]
           ],
           "sequential": [
            [
             0,
             "#0d0887"
            ],
            [
             0.1111111111111111,
             "#46039f"
            ],
            [
             0.2222222222222222,
             "#7201a8"
            ],
            [
             0.3333333333333333,
             "#9c179e"
            ],
            [
             0.4444444444444444,
             "#bd3786"
            ],
            [
             0.5555555555555556,
             "#d8576b"
            ],
            [
             0.6666666666666666,
             "#ed7953"
            ],
            [
             0.7777777777777778,
             "#fb9f3a"
            ],
            [
             0.8888888888888888,
             "#fdca26"
            ],
            [
             1,
             "#f0f921"
            ]
           ],
           "sequentialminus": [
            [
             0,
             "#0d0887"
            ],
            [
             0.1111111111111111,
             "#46039f"
            ],
            [
             0.2222222222222222,
             "#7201a8"
            ],
            [
             0.3333333333333333,
             "#9c179e"
            ],
            [
             0.4444444444444444,
             "#bd3786"
            ],
            [
             0.5555555555555556,
             "#d8576b"
            ],
            [
             0.6666666666666666,
             "#ed7953"
            ],
            [
             0.7777777777777778,
             "#fb9f3a"
            ],
            [
             0.8888888888888888,
             "#fdca26"
            ],
            [
             1,
             "#f0f921"
            ]
           ]
          },
          "colorway": [
           "#636efa",
           "#EF553B",
           "#00cc96",
           "#ab63fa",
           "#FFA15A",
           "#19d3f3",
           "#FF6692",
           "#B6E880",
           "#FF97FF",
           "#FECB52"
          ],
          "font": {
           "color": "#2a3f5f"
          },
          "geo": {
           "bgcolor": "white",
           "lakecolor": "white",
           "landcolor": "#E5ECF6",
           "showlakes": true,
           "showland": true,
           "subunitcolor": "white"
          },
          "hoverlabel": {
           "align": "left"
          },
          "hovermode": "closest",
          "mapbox": {
           "style": "light"
          },
          "paper_bgcolor": "white",
          "plot_bgcolor": "#E5ECF6",
          "polar": {
           "angularaxis": {
            "gridcolor": "white",
            "linecolor": "white",
            "ticks": ""
           },
           "bgcolor": "#E5ECF6",
           "radialaxis": {
            "gridcolor": "white",
            "linecolor": "white",
            "ticks": ""
           }
          },
          "scene": {
           "xaxis": {
            "backgroundcolor": "#E5ECF6",
            "gridcolor": "white",
            "gridwidth": 2,
            "linecolor": "white",
            "showbackground": true,
            "ticks": "",
            "zerolinecolor": "white"
           },
           "yaxis": {
            "backgroundcolor": "#E5ECF6",
            "gridcolor": "white",
            "gridwidth": 2,
            "linecolor": "white",
            "showbackground": true,
            "ticks": "",
            "zerolinecolor": "white"
           },
           "zaxis": {
            "backgroundcolor": "#E5ECF6",
            "gridcolor": "white",
            "gridwidth": 2,
            "linecolor": "white",
            "showbackground": true,
            "ticks": "",
            "zerolinecolor": "white"
           }
          },
          "shapedefaults": {
           "line": {
            "color": "#2a3f5f"
           }
          },
          "ternary": {
           "aaxis": {
            "gridcolor": "white",
            "linecolor": "white",
            "ticks": ""
           },
           "baxis": {
            "gridcolor": "white",
            "linecolor": "white",
            "ticks": ""
           },
           "bgcolor": "#E5ECF6",
           "caxis": {
            "gridcolor": "white",
            "linecolor": "white",
            "ticks": ""
           }
          },
          "title": {
           "x": 0.05
          },
          "xaxis": {
           "automargin": true,
           "gridcolor": "white",
           "linecolor": "white",
           "ticks": "",
           "title": {
            "standoff": 15
           },
           "zerolinecolor": "white",
           "zerolinewidth": 2
          },
          "yaxis": {
           "automargin": true,
           "gridcolor": "white",
           "linecolor": "white",
           "ticks": "",
           "title": {
            "standoff": 15
           },
           "zerolinecolor": "white",
           "zerolinewidth": 2
          }
         }
        },
        "title": {
         "text": "阿良哥 2024年OB銷售"
        },
        "xaxis": {
         "anchor": "y",
         "categoryarray": [
          "1月",
          "2月",
          "3月",
          "4月",
          "5月",
          "6月",
          "7月",
          "8月",
          "9月",
          "10月",
          "11月",
          "12月"
         ],
         "categoryorder": "array",
         "domain": [
          0,
          0.48
         ],
         "title": {
          "text": "月份"
         }
        },
        "xaxis2": {
         "anchor": "y2",
         "categoryarray": [
          "1月",
          "2月",
          "3月",
          "4月",
          "5月",
          "6月",
          "7月",
          "8月",
          "9月",
          "10月",
          "11月",
          "12月"
         ],
         "categoryorder": "array",
         "domain": [
          0.5,
          0.98
         ],
         "matches": "x",
         "title": {
          "text": "月份"
         }
        },
        "xaxis3": {
         "anchor": "y3",
         "domain": [
          0,
          0.48
         ],
         "matches": "x",
         "showticklabels": false
        },
        "xaxis4": {
         "anchor": "y4",
         "domain": [
          0.5,
          0.98
         ],
         "matches": "x",
         "showticklabels": false
        },
        "xaxis5": {
         "anchor": "y5",
         "domain": [
          0,
          0.48
         ],
         "matches": "x",
         "showticklabels": false
        },
        "xaxis6": {
         "anchor": "y6",
         "domain": [
          0.5,
          0.98
         ],
         "matches": "x",
         "showticklabels": false
        },
        "yaxis": {
         "anchor": "x",
         "domain": [
          0,
          0.3133333333333333
         ],
         "title": {
          "text": "數量"
         }
        },
        "yaxis2": {
         "anchor": "x2",
         "domain": [
          0,
          0.3133333333333333
         ],
         "matches": "y",
         "showticklabels": false
        },
        "yaxis3": {
         "anchor": "x3",
         "domain": [
          0.34333333333333327,
          0.6566666666666665
         ],
         "matches": "y",
         "title": {
          "text": "數量"
         }
        },
        "yaxis4": {
         "anchor": "x4",
         "domain": [
          0.34333333333333327,
          0.6566666666666665
         ],
         "matches": "y",
         "showticklabels": false
        },
        "yaxis5": {
         "anchor": "x5",
         "domain": [
          0.6866666666666665,
          0.9999999999999998
         ],
         "matches": "y",
         "title": {
          "text": "數量"
         }
        },
        "yaxis6": {
         "anchor": "x6",
         "domain": [
          0.6866666666666665,
          0.9999999999999998
         ],
         "matches": "y",
         "showticklabels": false
        }
       }
      }
     },
     "metadata": {},
     "output_type": "display_data"
    }
   ],
   "source": [
    "px.bar(plot, x=\"月份\", y=\"數量\", barmode=\"group\", color=\"GRP\", facet_col=\"客戶通路\", facet_row=\"吋別\", category_orders={\"月份\": ['1月', '2月', '3月', '4月', '5月', '6月', '7月',\n",
    "       '8月', '9月', '10月', '11月', '12月']}, title=\"阿良哥 2024年OB銷售\", labels={\"GRP\": \"輪胎類型\"})"
   ]
  },
  {
   "cell_type": "code",
   "execution_count": null,
   "metadata": {},
   "outputs": [],
   "source": []
  }
 ],
 "metadata": {
  "kernelspec": {
   "display_name": "Python 3",
   "language": "python",
   "name": "python3"
  },
  "language_info": {
   "codemirror_mode": {
    "name": "ipython",
    "version": 3
   },
   "file_extension": ".py",
   "mimetype": "text/x-python",
   "name": "python",
   "nbconvert_exporter": "python",
   "pygments_lexer": "ipython3",
   "version": "3.10.0"
  },
  "orig_nbformat": 4
 },
 "nbformat": 4,
 "nbformat_minor": 2
}
