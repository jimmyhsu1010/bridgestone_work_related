{
 "cells": [
  {
   "cell_type": "code",
   "execution_count": null,
   "id": "b9495303-111a-4b87-9266-af0984574fe2",
   "metadata": {},
   "outputs": [],
   "source": [
    "import warnings\n",
    "warnings.simplefilter(action='ignore', category=FutureWarning)\n",
    "import pandas as pd\n",
    "pd.set_option(\"display.max_columns\", None)\n",
    "pd.set_option(\"mode.chained_assignment\", None)\n",
    "import plotly.express as px\n",
    "import plotly.graph_objects as go\n",
    "from datetime import datetime\n",
    "from datetime import timedelta\n",
    "from dateutil.relativedelta import relativedelta\n",
    "import calendar\n",
    "import plotly\n",
    "plotly.offline.init_notebook_mode()\n",
    "from plotly.subplots import make_subplots\n",
    "from IPython.display import Markdown, display\n",
    "import atoti as tt"
   ]
  },
  {
   "cell_type": "code",
   "execution_count": null,
   "id": "54af7e8d-fa32-44af-a720-6025fdc1795f",
   "metadata": {},
   "outputs": [],
   "source": [
    "df = pd.read_csv(r\"D:\\kc.hsu\\OneDrive - Bridgestone\\GFK data\\202206\\GFK_CUSTOMREPORT_TRUCKTIRE_TW_BRIDGESTONE_Jun22.csv\")"
   ]
  },
  {
   "cell_type": "code",
   "execution_count": null,
   "id": "c94cb23c-a135-4bbb-84b8-6d270841b5dc",
   "metadata": {},
   "outputs": [],
   "source": [
    "def gfk_preprocessing(path):\n",
    "    ## 讀取gfk原始檔\n",
    "    df = pd.read_csv(path)\n",
    "    ## 格式化日期(Period)和第一次上市日期(FirstActivity)\n",
    "    df[\"Period\"] = pd.to_datetime(df[\"Period\"], format=\"%b%y\")\n",
    "    df[\"FirstActivity\"] = pd.to_datetime(df[\"FirstActivity\"], format=\"%B %Y\")\n",
    "    ## 去除BRAND裡面的UNBRANDED\n",
    "    df[\"BRAND\"] = df.apply(lambda x: x[\"Item\"].split(\" \")[-1] if x[\"BRAND\"] == \"UNBRANDED\" else x[\"BRAND\"], axis=1)\n",
    "    ## 需要的日期時間，使用Period最大的日期，也就是最新的報告，然後需要看到過去14個月的數據\n",
    "    time_condition = df[\"Period\"].max() - relativedelta(months=14)\n",
    "    filtered_df = df[df[\"Period\"] >= time_condition]\n",
    "    # 將全部的numeric都改成int\n",
    "    filtered_df = filtered_df.astype({\"SALES UNITS\": int, \"SALES <LC>\": int, \"PRICE TWD/UN.\": int})\n",
    "    return filtered_df"
   ]
  },
  {
   "cell_type": "code",
   "execution_count": null,
   "id": "2d35c16e-86c3-42ae-aff8-465a09025410",
   "metadata": {},
   "outputs": [],
   "source": [
    "gfk = gfk_preprocessing(r\"D:\\kc.hsu\\OneDrive - Bridgestone\\GFK data\\202206\\GFK_CUSTOMREPORT_TRUCKTIRE_TW_BRIDGESTONE_Jun22.csv\")"
   ]
  },
  {
   "cell_type": "code",
   "execution_count": null,
   "id": "d95e6f26-cc4f-4d8e-b5dc-ed061bafea48",
   "metadata": {},
   "outputs": [],
   "source": [
    "gfk.columns = gfk.columns.str.replace(\"'\",\" \").str.replace(\"/\", \"-\")"
   ]
  },
  {
   "cell_type": "code",
   "execution_count": null,
   "id": "0bfab418-4d49-49f6-ac25-b6b5d869b325",
   "metadata": {},
   "outputs": [],
   "source": [
    "result = gfk[['Period', 'Item', 'BRAND', 'REGION', 'BRIDGESTONE TYPE',\n",
    "       'DIMENSION (Truck Tyres)', 'RIMDIAMET. -MM', 'FirstActivity', 'SALES UNITS', 'SALES <LC>',\n",
    "       'PRICE TWD-UN.']]"
   ]
  },
  {
   "cell_type": "code",
   "execution_count": null,
   "id": "eccf7052-a09a-4e53-b436-da879ee0eab3",
   "metadata": {},
   "outputs": [],
   "source": [
    "result"
   ]
  },
  {
   "cell_type": "code",
   "execution_count": null,
   "id": "398362c5-a584-43d7-a4de-ad8b357d84d3",
   "metadata": {},
   "outputs": [],
   "source": [
    "session = tt.Session()"
   ]
  },
  {
   "cell_type": "code",
   "execution_count": null,
   "id": "3a218e57-50a9-4b91-99da-8ab8ade344d4",
   "metadata": {},
   "outputs": [],
   "source": [
    "result.columns"
   ]
  },
  {
   "cell_type": "code",
   "execution_count": null,
   "id": "83673689-1c85-4fca-ab53-979d21dd06fe",
   "metadata": {},
   "outputs": [],
   "source": [
    "gfk_table = session.read_pandas(result, table_name=\"gfk\", keys=[\"Period\", \"Item\", \"BRAND\", \"REGION\", \"DIMENSION (Truck Tyres)\"])"
   ]
  },
  {
   "cell_type": "code",
   "execution_count": null,
   "id": "48903369-e712-4a5d-9a8d-fa5628d2da1b",
   "metadata": {},
   "outputs": [],
   "source": [
    "cube = session.create_cube(gfk_table)"
   ]
  },
  {
   "cell_type": "code",
   "execution_count": null,
   "id": "03f55912-c1a2-4cc8-ba5f-a72363e1857b",
   "metadata": {},
   "outputs": [],
   "source": [
    "h, l, m = cube.hierarchies, cube.levels, cube.measures"
   ]
  },
  {
   "cell_type": "code",
   "execution_count": null,
   "id": "ee8261d0-cad8-4240-b2ae-7c8a561af1c6",
   "metadata": {},
   "outputs": [],
   "source": [
    "cube.schema"
   ]
  },
  {
   "cell_type": "code",
   "execution_count": null,
   "id": "901b114a-ede3-4b94-9a7d-ab87338ea67b",
   "metadata": {},
   "outputs": [],
   "source": [
    "session.link()"
   ]
  },
  {
   "cell_type": "code",
   "execution_count": null,
   "id": "22e966ea-83ec-4790-9650-c231076e457a",
   "metadata": {},
   "outputs": [],
   "source": [
    "class gfk_report:\n",
    "    \n",
    "    def __init__(self, path, months):\n",
    "        ## 讀取gfk原始檔\n",
    "        self.df = pd.read_csv(path)\n",
    "        self.months = months - 1\n",
    "        ## 格式化日期(Period)和第一次上市日期(FirstActivity)\n",
    "        self.df[\"Period\"] = pd.to_datetime(self.df[\"Period\"], format=\"%b%y\")\n",
    "        self.df[\"FirstActivity\"] = pd.to_datetime(self.df[\"FirstActivity\"], format=\"%B %Y\")\n",
    "        ## 去除BRAND裡面的UNBRANDED\n",
    "        self.df[\"BRAND\"] = self.df.apply(lambda x: x[\"Item\"].split(\" \")[-1] if x[\"BRAND\"] == \"UNBRANDED\" else x[\"BRAND\"], axis=1)\n",
    "        ## 需要的日期時間，使用Period最大的日期，也就是最新的報告，然後需要看到過去14個月的數據\n",
    "        # time_condition = self.df[\"Period\"].max() - relativedelta(months=14)\n",
    "        # filtered_df = self.df[self.df[\"Period\"] >= time_condition]\n",
    "        # 將全部的numeric都改成int\n",
    "        filtered_df = self.df.astype({\"SALES UNITS\": int, \"SALES <LC>\": int, \"PRICE TWD/UN.\": int})\n",
    "        self.df = filtered_df\n",
    "        \n",
    "    def gfk_preprocessing(self):\n",
    "        self.cur_month = self.df[\"Period\"].max().to_pydatetime().strftime(\"%Y-%m-%d\")\n",
    "        self.last_month = (self.df[\"Period\"].max() - relativedelta(months=1)).to_pydatetime().strftime(\"%Y-%m-%d\")\n",
    "        self.last_year_month = (self.df[\"Period\"].max() - relativedelta(months=12)).to_pydatetime().strftime(\"%Y-%m-%d\")\n",
    "        self.begin_year = (self.df[\"Period\"].max() - relativedelta(months=self.months)).to_pydatetime().strftime(\"%Y-%m-%d\")\n",
    "        self.begin_last_year = (self.df[\"Period\"].max() - relativedelta(months=(12 + self.months))).to_pydatetime().strftime(\"%Y-%m-%d\")\n",
    "        self.cur_month_data = self.df[self.df[\"Period\"] == self.cur_month]\n",
    "        self.last_month_data = self.df[self.df[\"Period\"] == self.last_month]\n",
    "        self.mom_data = self.df[self.df[\"Period\"] == self.last_year_month]\n",
    "        self.ytd_this_year = self.df[self.df[\"Period\"].between(self.begin_year, self.cur_month)]\n",
    "        self.ytd_last_year = self.df[self.df[\"Period\"].between(self.begin_last_year, self.last_year_month)]\n",
    "        \n",
    "    def tbr_g_demand(self):\n",
    "        cur_month_volume = self.cur_month_data[\"SALES UNITS\"].sum()\n",
    "        last_month_volume = self.last_month_data[\"SALES UNITS\"].sum()\n",
    "        last_year_month_volume = self.mom_data[\"SALES UNITS\"].sum()\n",
    "        ytd_this_year_volumne = self.ytd_this_year[\"SALES UNITS\"].sum()\n",
    "        ytd_last_year_volumne = self.ytd_last_year[\"SALES UNITS\"].sum()\n",
    "        last_month_name = calendar.month_name[self.months]\n",
    "        current_month_name = calendar.month_name[self.months + 1]\n",
    "        cur_vs_last = \"{:.0f}%\".format((cur_month_volume / last_month_volume) * 100)\n",
    "        cur_vs_last_year = \"{:.0f}%\".format((cur_month_volume / last_year_month_volume) * 100)\n",
    "        ytd_ratio = \"{:.0f}%\".format((ytd_this_year_volumne / ytd_last_year_volumne) * 100)\n",
    "        # print(\"TBR(G)\\nDemand\\na. {} vs {} {}, vs PY {}\\nb. YTD vs PY {}\".format(current_month_name, last_month_name, cur_vs_last, cur_vs_last_year, ytd_ratio))\n",
    "        display(Markdown(f\"## TBR(G)\"))\n",
    "        display(Markdown(f\"### Demand\"))\n",
    "        display(Markdown(f\"a. {current_month_name} vs {last_month_name} **{cur_vs_last}**, vs PY **{cur_vs_last_year}**\"))\n",
    "        display(Markdown(f\"b. YTD vs PY **{ytd_ratio}**\"))\n",
    "        \n",
    "    def tbr_g_demand_trend_plot(self):\n",
    "        general_table = self.df.groupby([pd.Grouper(key=\"Period\", freq=\"m\"), \"BRIDGESTONE TYPE\"])[[\"SALES UNITS\"]].sum().reset_index()\n",
    "        general_table[\"%\"] = 100 * (general_table[\"SALES UNITS\"] / general_table.groupby([\"Period\"])[\"SALES UNITS\"].transform(\"sum\"))\n",
    "        general_table[\"Total_month\"] = general_table.groupby([\"Period\"])[\"SALES UNITS\"].transform(\"sum\")\n",
    "        fig = px.bar(general_table, x=\"Period\", y=\"SALES UNITS\", color=\"BRIDGESTONE TYPE\", barmode=\"stack\", text=general_table[\"%\"].map(lambda x: \"{:.0f}%\".format(x)), category_orders={\"BRIDGESTONE TYPE\": [\"LSR2\", \"TBR\", \"EXCLUDED TBR AND LSR2\"]}, hover_data=[\"Total_month\"], title=\"TBR(G) Sales Units\").update_layout(hoverlabel=dict(bgcolor=\"white\", font_size=12, font_family=\"Calibre\"), hovermode=\"x\")\n",
    "        fig.show()\n",
    "        \n",
    "    def tbr_g_demand_ytd_plot(self):\n",
    "        quar_fig = self.df.groupby([pd.Grouper(key=\"Period\", freq=\"QS\"), \"BRIDGESTONE TYPE\"])[[\"SALES UNITS\"]].sum().reset_index()\n",
    "        quar_fig[\"%\"] = 100 * (quar_fig[\"SALES UNITS\"] / quar_fig.groupby([\"Period\"])[\"SALES UNITS\"].transform(\"sum\"))\n",
    "        quar_fig[\"Total_month\"] = quar_fig.groupby([\"Period\"])[\"SALES UNITS\"].transform(\"sum\")\n",
    "        quar_fig = px.bar(quar_fig, x=\"Period\", y=\"SALES UNITS\", color=\"BRIDGESTONE TYPE\", barmode=\"stack\", text=quar_fig[\"%\"].map(lambda x: \"{:.0f}%\".format(x)), category_orders={\"BRIDGESTONE TYPE\": [\"LSR2\", \"TBR\", \"EXCLUDED TBR AND LSR2\"]}, hover_data=[\"Total_month\"], title=\"YTD TBR(G) Sales Units\").update_layout(hoverlabel=dict(bgcolor=\"white\", font_size=12, font_family=\"Calibre\"), hovermode=\"x\")\n",
    "        quar_fig.show()\n",
    "        \n",
    "\n",
    "    "
   ]
  },
  {
   "cell_type": "code",
   "execution_count": null,
   "id": "52f7d6b9-9705-459f-aece-d40bf6e27920",
   "metadata": {},
   "outputs": [],
   "source": [
    "test = gfk_report(\"/Users/kai/Library/CloudStorage/OneDrive-Bridgestone/GFK data/202206/GFK_CUSTOMREPORT_TRUCKTIRE_TW_BRIDGESTONE_Jun22.csv\", 6)"
   ]
  },
  {
   "cell_type": "code",
   "execution_count": null,
   "id": "153242e0-6020-44fd-8400-402284476034",
   "metadata": {},
   "outputs": [],
   "source": [
    "test.gfk_preprocessing()"
   ]
  },
  {
   "cell_type": "code",
   "execution_count": null,
   "id": "eb7e4286-74c9-43c0-90ae-24e6925c3fed",
   "metadata": {},
   "outputs": [],
   "source": [
    "test.tbr_g_demand()"
   ]
  },
  {
   "cell_type": "code",
   "execution_count": null,
   "id": "ec44a3eb-1b9b-4502-bccb-1cde67b440a5",
   "metadata": {},
   "outputs": [],
   "source": [
    "test.tbr_g_demand_trend_plot()"
   ]
  },
  {
   "cell_type": "code",
   "execution_count": null,
   "id": "960715a6-c159-4f59-b9f1-beadc0794c81",
   "metadata": {},
   "outputs": [],
   "source": [
    "test.tbr_g_demand_ytd_plot()"
   ]
  },
  {
   "cell_type": "markdown",
   "id": "eebaec13-8236-4ec5-839c-e3f56bd658be",
   "metadata": {},
   "source": [
    "## 開始作圖\n",
    "兩個方向\n",
    "- **Price的部分**\n",
    "    1. 品牌只需要`普利司通，瑪吉斯，米其林，玲瓏，其他`\n",
    "- **Share的部分**\n",
    "    1. 品牌需要`普利司通，瑪吉斯，米其林，玲瓏，JINYU，PRESA，DUNLOP，GOODYEAR，YOKOHAMA，其他`"
   ]
  },
  {
   "cell_type": "code",
   "execution_count": null,
   "id": "38ab7ddf-ed5e-4d63-810c-312e3bdd3d7f",
   "metadata": {},
   "outputs": [],
   "source": [
    "top_10_list = gfk.groupby([pd.Grouper(key=\"Period\", freq=\"y\"), \"BRAND\"])[[\"SALES UNITS\"]].sum().reset_index().sort_values([\"Period\", \"SALES UNITS\"], ascending=False)[\"BRAND\"].head(9).tolist()\n",
    "top_5_list = gfk.groupby([pd.Grouper(key=\"Period\", freq=\"y\"), \"BRAND\"])[[\"SALES UNITS\"]].sum().reset_index().sort_values([\"Period\", \"SALES UNITS\"], ascending=False)[\"BRAND\"].head(4).tolist()"
   ]
  },
  {
   "cell_type": "code",
   "execution_count": null,
   "id": "14f0552f-4d02-46cf-91e3-fb92e9603f80",
   "metadata": {},
   "outputs": [],
   "source": [
    "gfk.columns"
   ]
  },
  {
   "cell_type": "code",
   "execution_count": null,
   "id": "f29fe703-f4ce-4a59-bbb4-7ccaafdebc18",
   "metadata": {},
   "outputs": [],
   "source": [
    "general_table = gfk.groupby([pd.Grouper(key=\"Period\", freq=\"m\"), \"BRIDGESTONE TYPE\"])[[\"SALES UNITS\"]].sum().reset_index()"
   ]
  },
  {
   "cell_type": "code",
   "execution_count": null,
   "id": "72e077c6-f754-4dcd-8c03-007d94dcc450",
   "metadata": {},
   "outputs": [],
   "source": [
    "general_table[\"%\"] = 100 * (general_table[\"SALES UNITS\"] / general_table.groupby([\"Period\"])[\"SALES UNITS\"].transform(\"sum\"))"
   ]
  },
  {
   "cell_type": "code",
   "execution_count": null,
   "id": "a0438b1e-c8d8-49ee-99cc-6fb39e339e73",
   "metadata": {},
   "outputs": [],
   "source": [
    "general_table[\"Total_month\"] = general_table.groupby([\"Period\"])[\"SALES UNITS\"].transform(\"sum\")"
   ]
  },
  {
   "cell_type": "code",
   "execution_count": null,
   "id": "f69bc576-8e46-4ba4-8952-f42d7e6bdc77",
   "metadata": {},
   "outputs": [],
   "source": [
    "general_table.columns"
   ]
  },
  {
   "cell_type": "code",
   "execution_count": null,
   "id": "a30af56e-b0d3-4cb5-9121-53c2d7414a26",
   "metadata": {},
   "outputs": [],
   "source": [
    "fig = px.bar(general_table, x=\"Period\", y=\"SALES UNITS\", color=\"BRIDGESTONE TYPE\", barmode=\"stack\", text=general_table[\"%\"].map(lambda x: \"{:.0f}%\".format(x)), category_orders={\"BRIDGESTONE TYPE\": [\"LSR2\", \"TBR\", \"EXCLUDED TBR AND LSR2\"]}, hover_data=[\"Total_month\"], width=720).update_layout(hoverlabel=dict(bgcolor=\"white\", font_size=12, font_family=\"Calibre\"), hovermode=\"x\")"
   ]
  },
  {
   "cell_type": "code",
   "execution_count": null,
   "id": "4569ae2f-1801-4a12-a3d0-166fd5c8bb85",
   "metadata": {},
   "outputs": [],
   "source": [
    "fig.show()"
   ]
  },
  {
   "cell_type": "code",
   "execution_count": null,
   "id": "e06b9aed-7697-471f-a145-04673f602efa",
   "metadata": {},
   "outputs": [],
   "source": [
    "colors = [\"yellow\", \"orange\", \"blue\"]\n",
    "category = [\"TBR\", \"LSR2\", \"EXCLUDED TBR AND LSR2\"]\n",
    "category_colors = dict(zip(category, colors))"
   ]
  },
  {
   "cell_type": "code",
   "execution_count": null,
   "id": "ee8578a0-849a-409b-9791-d4b4d3008d07",
   "metadata": {},
   "outputs": [],
   "source": [
    "general_table[\"color\"] = general_table[\"BRIDGESTONE TYPE\"].map(category_colors)"
   ]
  },
  {
   "cell_type": "code",
   "execution_count": null,
   "id": "7a524b56-4542-473d-bebf-853cb03f31f4",
   "metadata": {},
   "outputs": [],
   "source": [
    "fig = go.Figure()\n",
    "for brand, value in general_table.groupby([\"BRIDGESTONE TYPE\", \"color\"]):\n",
    "    fig.add_trace(go.Bar(x=value[\"Period\"], y=value[\"SALES UNITS\"], name=brand[0], text=value[\"%\"].map(lambda x: \"{:.0f}%\".format(x)), textposition=\"inside\", legendgroup=\"group1\", marker=dict(color=brand[1])))\n",
    "fig.update_layout(barmode=\"stack\")\n",
    "fig.show()"
   ]
  },
  {
   "cell_type": "code",
   "execution_count": null,
   "id": "73aff876-994a-4ad0-a6e6-e167da08009c",
   "metadata": {},
   "outputs": [],
   "source": [
    "quar_fig = gfk.groupby([pd.Grouper(key=\"Period\", freq=\"QS\"), \"BRIDGESTONE TYPE\"])[[\"SALES UNITS\"]].sum().reset_index()"
   ]
  },
  {
   "cell_type": "code",
   "execution_count": null,
   "id": "d4499172-1377-46db-b299-78c8381cd907",
   "metadata": {},
   "outputs": [],
   "source": [
    "quar_fig[\"%\"] = 100 * (quar_fig[\"SALES UNITS\"] / quar_fig.groupby([\"Period\"])[\"SALES UNITS\"].transform(\"sum\"))\n",
    "quar_fig[\"Total_month\"] = quar_fig.groupby([\"Period\"])[\"SALES UNITS\"].transform(\"sum\")"
   ]
  },
  {
   "cell_type": "code",
   "execution_count": null,
   "id": "634dfcc7-e023-4dda-be2f-3c17af550f31",
   "metadata": {},
   "outputs": [],
   "source": [
    "quar_fig[\"color\"] = quar_fig[\"BRIDGESTONE TYPE\"].map(category_colors)"
   ]
  },
  {
   "cell_type": "code",
   "execution_count": null,
   "id": "fa10f8b2-2544-4b2f-a589-a84173908145",
   "metadata": {},
   "outputs": [],
   "source": [
    "quar_fig = px.bar(quar_fig, x=\"Period\", y=\"SALES UNITS\", color=\"BRIDGESTONE TYPE\", barmode=\"stack\", text=quar_fig[\"%\"].map(lambda x: \"{:.0f}%\".format(x)), category_orders={\"BRIDGESTONE TYPE\": [\"LSR2\", \"TBR\", \"EXCLUDED TBR AND LSR2\"]}, hover_data=[\"Total_month\"], width=720).update_layout(hoverlabel=dict(bgcolor=\"white\", font_size=12, font_family=\"Calibre\"), hovermode=\"x\", showlegend=False)"
   ]
  },
  {
   "cell_type": "code",
   "execution_count": null,
   "id": "7052a56c-e211-48ab-bc7c-3d3b6d264fe2",
   "metadata": {},
   "outputs": [],
   "source": [
    "quar_fig = px.bar(quar_fig, x=\"Period\", y=\"SALES UNITS\", color=\"BRIDGESTONE TYPE\", barmode=\"stack\", text=quar_fig[\"%\"].map(lambda x: \"{:.0f}%\".format(x)), category_orders={\"BRIDGESTONE TYPE\": [\"LSR2\", \"TBR\", \"EXCLUDED TBR AND LSR2\"]}, hover_data=[\"Total_month\"], width=720)"
   ]
  },
  {
   "cell_type": "code",
   "execution_count": null,
   "id": "daac6182-0b82-4f87-bdbe-a464390148bd",
   "metadata": {},
   "outputs": [],
   "source": [
    "quar = go.Figure()\n",
    "for brand, value in quar_fig.groupby([\"BRIDGESTONE TYPE\", \"color\"]):\n",
    "    quar.add_trace(go.Bar(x=value[\"Period\"], y=value[\"SALES UNITS\"], name=brand[0], text=value[\"%\"].map(lambda x: \"{:.0f}%\".format(x)), textposition=\"inside\", legendgroup=\"group\", showlegend=True, marker=dict(color=brand[1])))\n",
    "quar.update_layout(barmode=\"stack\")\n",
    "quar.show()"
   ]
  },
  {
   "cell_type": "code",
   "execution_count": null,
   "id": "7667460e-7152-410a-97d0-88a8438b11b8",
   "metadata": {},
   "outputs": [],
   "source": [
    "tes_p = make_subplots(rows=1, cols=2, specs=[[{\"type\":\"bar\"}, {\"type\": \"bar\"}]])"
   ]
  },
  {
   "cell_type": "code",
   "execution_count": null,
   "id": "b30bfb41-8603-4d7e-b22f-bd278f720ecc",
   "metadata": {},
   "outputs": [],
   "source": [
    "t1 = []\n",
    "t2 = []\n",
    "for t in range(len(fig[\"data\"])):\n",
    "    t1.append(fig[\"data\"][t])\n",
    "for x in range(len(quar[\"data\"])):\n",
    "    t2.append(quar[\"data\"][x])"
   ]
  },
  {
   "cell_type": "code",
   "execution_count": null,
   "id": "7d60345a-5375-41ad-9522-1c323979e0b2",
   "metadata": {},
   "outputs": [],
   "source": [
    "for traces in t1:\n",
    "    tes_p.append_trace(traces, row=1, col=1)\n",
    "for traces in t2:\n",
    "    tes_p.append_trace(traces, row=1, col=2)\n",
    "tes_p.update_layout(legend_title_text = \"Brand\", barmode=\"stack\", title=\"TBR(G) Market Share in Units\",\n",
    "                   hoverlabel=dict(bgcolor=\"white\", font_size=12, font_family=\"Calibre\"), hovermode=\"x\", \n",
    "                   legend=dict(groupclick=\"toggleitem\"))\n",
    "\n",
    "tes_p.show()"
   ]
  },
  {
   "cell_type": "code",
   "execution_count": null,
   "id": "f82bf0c5-cf12-4a5f-ac7e-7117a1f6cee7",
   "metadata": {},
   "outputs": [],
   "source": [
    "## go.Figure來做圖"
   ]
  },
  {
   "cell_type": "code",
   "execution_count": null,
   "id": "c7e069c6-00b7-467c-bcde-45dfa040bc61",
   "metadata": {},
   "outputs": [],
   "source": [
    "quar = gfk.groupby([pd.Grouper(key=\"Period\", freq=\"QS\"), \"BRAND\"])[[\"SALES UNITS\"]].sum().reset_index()"
   ]
  },
  {
   "cell_type": "code",
   "execution_count": null,
   "id": "5a92fdab-030c-49f9-81a5-ca4d5053fb96",
   "metadata": {},
   "outputs": [],
   "source": [
    "quar[\"BRAND\"] = quar[\"BRAND\"].map(lambda x: \"Others\" if x not in top_5_list else x)"
   ]
  },
  {
   "cell_type": "code",
   "execution_count": null,
   "id": "4f05d30b-b951-45b6-99c2-f4886a5da939",
   "metadata": {},
   "outputs": [],
   "source": [
    "quar[\"SALES UNITS in %\"] = 100 * quar[\"SALES UNITS\"] / quar.groupby(\"Period\")[\"SALES UNITS\"].transform(\"sum\")"
   ]
  },
  {
   "cell_type": "code",
   "execution_count": null,
   "id": "c6cfeb0c-da17-4f0c-9954-d80c333729cf",
   "metadata": {},
   "outputs": [],
   "source": [
    "quar = quar.groupby([\"Period\", \"BRAND\"])[[\"SALES UNITS\", \"SALES UNITS in %\"]].sum().reset_index()"
   ]
  },
  {
   "cell_type": "code",
   "execution_count": null,
   "id": "6849895e-97cf-4ba4-8045-a3661de4f42c",
   "metadata": {},
   "outputs": [],
   "source": [
    "quar"
   ]
  },
  {
   "cell_type": "code",
   "execution_count": null,
   "id": "60170cac-9916-4099-8b9b-b5d1e109c38f",
   "metadata": {},
   "outputs": [],
   "source": [
    "quar_fig = go.Figure()\n",
    "for brand, value in quar.groupby(\"BRAND\"):\n",
    "    quar_fig.add_trace(go.Bar(x=value[\"Period\"], y=value[\"SALES UNITS\"], name=brand, text=value[\"SALES UNITS in %\"].map(lambda x: \"{:.1f}%\".format(x)), textposition=\"inside\", legendgroup=\"group\", showlegend=False))\n",
    "quar_fig.update_layout(legend_title_text = \"Brand\", barmode=\"stack\", title=\"TBR(G) Market Share in Units\", hoverlabel=dict(bgcolor=\"white\", font_size=12, font_family=\"Calibre\"), hovermode=\"x\")\n",
    "quar_fig.show()"
   ]
  },
  {
   "cell_type": "code",
   "execution_count": null,
   "id": "56e29ccf-c71b-4000-8764-c9d664b638fc",
   "metadata": {},
   "outputs": [],
   "source": [
    "general_table"
   ]
  }
 ],
 "metadata": {
  "kernelspec": {
   "display_name": "Python 3 (ipykernel)",
   "language": "python",
   "name": "python3"
  },
  "language_info": {
   "codemirror_mode": {
    "name": "ipython",
    "version": 3
   },
   "file_extension": ".py",
   "mimetype": "text/x-python",
   "name": "python",
   "nbconvert_exporter": "python",
   "pygments_lexer": "ipython3",
   "version": "3.10.6"
  }
 },
 "nbformat": 4,
 "nbformat_minor": 5
}
