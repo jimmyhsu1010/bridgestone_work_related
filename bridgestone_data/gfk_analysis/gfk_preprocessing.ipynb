{
 "cells": [
  {
   "cell_type": "code",
   "execution_count": 1,
   "id": "f039960f-123b-4214-be16-3f063fb70469",
   "metadata": {
    "tags": []
   },
   "outputs": [],
   "source": [
    "import pandas as pd\n",
    "pd.set_option(\"display.max_columns\", None)\n",
    "pd.set_option(\"mode.chained_assignment\", None)\n",
    "import tkinter as tk\n",
    "from tkinter import filedialog\n",
    "from datetime import datetime"
   ]
  },
  {
   "cell_type": "code",
   "execution_count": 2,
   "id": "8e83bdef-bbaf-4197-afd7-67e5c59756c0",
   "metadata": {},
   "outputs": [],
   "source": [
    "def open_file():\n",
    "    root = tk.Tk()\n",
    "    root.withdraw()\n",
    "    file_path = filedialog.askopenfilenames()\n",
    "    return file_path"
   ]
  },
  {
   "cell_type": "code",
   "execution_count": 3,
   "id": "639a4d93-665b-4260-8a16-55a047d01a9b",
   "metadata": {},
   "outputs": [],
   "source": [
    "def transform(arg):\n",
    "    if len(arg) == 1 and arg[0].split(\".\")[-1].lower() == \"csv\":\n",
    "        df = pd.read_csv(arg[0])\n",
    "    else:\n",
    "        df = pd.concat([pd.read_csv(path)for path in arg])\n",
    "    return df"
   ]
  },
  {
   "cell_type": "code",
   "execution_count": 4,
   "id": "8ff4b301-03b2-4e9c-b418-95e94775b886",
   "metadata": {},
   "outputs": [],
   "source": [
    "path = open_file()"
   ]
  },
  {
   "cell_type": "code",
   "execution_count": 5,
   "id": "bce87b73-3a56-443e-9b5c-dd6caaade92e",
   "metadata": {},
   "outputs": [],
   "source": [
    "df = transform(path)"
   ]
  },
  {
   "cell_type": "code",
   "execution_count": 6,
   "id": "593b5231-eba6-4c4f-ab1f-9dac589a8f9f",
   "metadata": {},
   "outputs": [],
   "source": [
    "df[\"Period\"] = pd.to_datetime(df[\"Period\"], format=\"%B %Y\")\n",
    "df[\"FirstActivity\"] = pd.to_datetime(df[\"FirstActivity\"], format=\"%B %Y\")"
   ]
  },
  {
   "cell_type": "code",
   "execution_count": 7,
   "id": "473c69df-c827-47b9-b05a-022724ead4d8",
   "metadata": {},
   "outputs": [],
   "source": [
    "df[\"BRIDGESTONE TYPE\"] = df[\"BRIDGESTONE TYPE\"].map(lambda x: \"LSR\" if x == \"LSR2\" else x)"
   ]
  },
  {
   "cell_type": "markdown",
   "id": "f5d37017-6a34-4bb2-8b87-e57f5561e7f6",
   "metadata": {},
   "source": [
    "## 開啟上月的匯總數據"
   ]
  },
  {
   "cell_type": "code",
   "execution_count": 9,
   "id": "ae825da2-cf01-4520-b089-52ab40a925d7",
   "metadata": {},
   "outputs": [],
   "source": [
    "historical = open_file()"
   ]
  },
  {
   "cell_type": "code",
   "execution_count": 10,
   "id": "6b787622-a9a9-443d-9c5c-d71553a998bc",
   "metadata": {},
   "outputs": [],
   "source": [
    "historical = transform(historical)"
   ]
  },
  {
   "cell_type": "code",
   "execution_count": 12,
   "id": "974ee76a-925c-4a30-97ed-3227fbb9f514",
   "metadata": {},
   "outputs": [],
   "source": [
    "historical[\"BRIDGESTONE TYPE\"] = historical[\"BRIDGESTONE TYPE\"].map(lambda x: \"LSR\" if x == \"LSR2\" else x)"
   ]
  },
  {
   "cell_type": "code",
   "execution_count": 13,
   "id": "6000248c-5fa9-426a-a263-cbcc0b90addc",
   "metadata": {},
   "outputs": [],
   "source": [
    "historical = historical[['Period', 'Item', 'BRAND', 'REGION', 'BRIDGESTONE TYPE',\n",
    "       'DIMENSION (Truck Tyres)', \"RIMDIAMET.'/MM\", 'WIDTH IN INCH',\n",
    "       'WIDTH IN MM', 'ASPECT RATIO', 'TUBE / TUBLESS', 'LOADINDEX',\n",
    "       'FirstActivity', 'SALES UNITS', 'SALES <LC>', 'PRICE TWD/UN.']]"
   ]
  },
  {
   "cell_type": "code",
   "execution_count": 14,
   "id": "a8137176-34c9-42eb-a2ad-70d755f4877b",
   "metadata": {},
   "outputs": [],
   "source": [
    "historical[\"Period\"] = pd.to_datetime(historical[\"Period\"])\n",
    "historical[\"FirstActivity\"] = pd.to_datetime(historical[\"FirstActivity\"])"
   ]
  },
  {
   "cell_type": "code",
   "execution_count": 16,
   "id": "09bbefe6-0b93-4036-a25c-8c8b63566e5d",
   "metadata": {},
   "outputs": [],
   "source": [
    "df = df.astype({\"SALES UNITS\": int, \"SALES <LC>\": int, \"PRICE TWD/UN.\": int})"
   ]
  },
  {
   "cell_type": "code",
   "execution_count": 17,
   "id": "b88fb7b6-7133-4ae1-8e24-d2d7a0e2d0ee",
   "metadata": {},
   "outputs": [],
   "source": [
    "df = df[['Period', 'Item', 'BRAND', 'REGION', 'BRIDGESTONE TYPE',\n",
    "       'DIMENSION (Truck Tyres)', \"RIMDIAMET.'/MM\", 'WIDTH IN INCH',\n",
    "       'WIDTH IN MM', 'ASPECT RATIO', 'TUBE / TUBLESS', 'LOADINDEX', 'FirstActivity', 'SALES UNITS', 'SALES <LC>',\n",
    "       'PRICE TWD/UN.']]"
   ]
  },
  {
   "cell_type": "code",
   "execution_count": 19,
   "id": "074c86f4-814d-4d94-9755-f69bb8f00c2f",
   "metadata": {},
   "outputs": [],
   "source": [
    "df = df[df[\"Period\"] >= df[\"Period\"].max().date().strftime(\"%Y-%m-%d\")]"
   ]
  },
  {
   "cell_type": "code",
   "execution_count": 20,
   "id": "3693c0a7-6c91-4de7-956c-20d023c8472e",
   "metadata": {},
   "outputs": [],
   "source": [
    "result = pd.concat([historical, df])"
   ]
  },
  {
   "cell_type": "code",
   "execution_count": 22,
   "id": "e0822cbb-9826-4aaf-9b82-cabc3e448745",
   "metadata": {},
   "outputs": [],
   "source": [
    "first_day_cur_year = datetime.now().date().replace(month=1, day=1).strftime(\"%Y-%m-%d\")\n",
    "last_day_cur_mon =  df[\"Period\"].max().date().strftime(\"%Y-%m-%d\")"
   ]
  },
  {
   "cell_type": "code",
   "execution_count": 23,
   "id": "59045801-4a37-4c1c-bb78-52c4ebbb46e3",
   "metadata": {},
   "outputs": [],
   "source": [
    "tbr_top5_brands = result[(result[\"BRIDGESTONE TYPE\"] == \"TBR\") & (result[\"Period\"].between(first_day_cur_year, last_day_cur_mon))].groupby([\"BRAND\"]).sum().sort_values(by=\"SALES UNITS\", ascending=False).head(9).index.tolist()\n",
    "lsr_top5_brands = result[(result[\"BRIDGESTONE TYPE\"] == \"LSR\") & (result[\"Period\"].between(first_day_cur_year, last_day_cur_mon))].groupby([\"BRAND\"]).sum().sort_values(by=\"SALES UNITS\", ascending=False).head(9).index.tolist()\n",
    "ttl_top5_brands = result[(result[\"Period\"].between(first_day_cur_year, last_day_cur_mon))].groupby([\"BRAND\"]).sum().sort_values(by=\"SALES UNITS\", ascending=False).head(9).index.tolist()"
   ]
  },
  {
   "cell_type": "code",
   "execution_count": 24,
   "id": "9e0e3754-b95a-4ce8-9a5c-dde46eae389d",
   "metadata": {},
   "outputs": [],
   "source": [
    "# tbr_top5_brands = result[(result[\"BRIDGESTONE TYPE\"] == \"TBR\") & (result[\"Period\"].between(\"2022-01-01\", last_day_cur_mon))].groupby([\"BRAND\"]).sum().sort_values(by=\"SALES UNITS\", ascending=False).head(9).index.tolist()\n",
    "# lsr_top5_brands = result[(result[\"BRIDGESTONE TYPE\"] == \"LSR\") & (result[\"Period\"].between(\"2022-01-01\", last_day_cur_mon))].groupby([\"BRAND\"]).sum().sort_values(by=\"SALES UNITS\", ascending=False).head(9).index.tolist()\n",
    "# ttl_top5_brands = result[(result[\"Period\"].between(\"2022-01-01\", last_day_cur_mon))].groupby([\"BRAND\"]).sum().sort_values(by=\"SALES UNITS\", ascending=False).head(9).index.tolist()"
   ]
  },
  {
   "cell_type": "code",
   "execution_count": 25,
   "id": "23c3700f-1fcb-4dbc-8394-0f11bbf42ace",
   "metadata": {},
   "outputs": [],
   "source": [
    "result[\"TBR BRAND\"] = result[\"BRAND\"].map(lambda x: \"OTHERS\" if x not in tbr_top5_brands else x)\n",
    "result[\"LSR2 BRAND\"] = result[\"BRAND\"].map(lambda x: \"OTHERS\" if x not in lsr_top5_brands else x)\n",
    "result[\"TTL BRAND\"] = result[\"BRAND\"].map(lambda x: \"OTHERS\" if x not in ttl_top5_brands else x)"
   ]
  },
  {
   "cell_type": "code",
   "execution_count": 26,
   "id": "f4099780-4417-4dbd-9dc6-74ed9644463b",
   "metadata": {},
   "outputs": [
    {
     "data": {
      "text/plain": [
       "array(['MAXXIS', 'LINGLONG', 'BRIDGESTONE', 'MICHELIN', 'GOLDSHIELD',\n",
       "       'CARGOPOWER', 'UNBRANDED', 'WESTLAKE', 'GITI', 'ADVANCE',\n",
       "       'YUELONG', 'GOODYEAR', 'DERUIBO', 'ROADWING', 'GOODRIDE',\n",
       "       'WELLPLUS', 'LANVIGATOR', 'CONSTANCY', 'ALLROUND', 'COCREA',\n",
       "       'BEFRIEND', 'CST', 'DURATURN', 'JIANXIN', 'DURO', 'AUFINE',\n",
       "       'GT RADIAL', 'NANKANG', 'FESITE', 'KAPSEN', 'JINYUTIRES',\n",
       "       'YOKOHAMA', 'PRESA', 'FALKEN', 'SAILUN', 'SAKURA', 'SIERRA',\n",
       "       'CHAOYANG', 'ROADONE', 'JOYALL', 'DUNLOP', 'CHENGSHAN', 'FRONWAY',\n",
       "       'ROADSHINE', 'WINDFORCE', 'SAMSON', 'GOODTYRE', 'COMPASAL',\n",
       "       'EUROKING TIRE', 'AUSTONE', 'TOPRUNNER', 'INNING TYRE', 'GREFORCE',\n",
       "       'LIONSTONE', 'HANKSUGI', 'ROADLUX', 'OPALS', 'PRIMEWELL', 'TONOVA',\n",
       "       'LIAOLUN', 'THREE-A', 'TEEREX', 'VGLORY', 'JOYROAD', 'LANDY',\n",
       "       'GRENLANDER', 'DOUBLE COIN', 'SUPERMEALLIR', 'PIRELLI',\n",
       "       'GREEN DRAGON', 'URATURN', 'DOUBLEHAPPINESS', 'FIRESTONE',\n",
       "       'SUNFULL', 'RUNKING', 'EUDEMON', \"O'GREEN\", 'TAITONG', 'JKTYRE',\n",
       "       'MAZZINI', 'MRF', 'HANKOOK', 'KUMHO', 'MITTO', 'AEOLUS',\n",
       "       'BAYI-RUBBER', 'LONGMARCH', 'AMBERSTONE', 'KRAIBURG', 'HAIDA',\n",
       "       'MAXIONE', 'ROADBOSS', 'EFFIPLUS', 'SAFECESS', 'FEDERAL', 'CARLEO',\n",
       "       'TORQUE'], dtype=object)"
      ]
     },
     "execution_count": 26,
     "metadata": {},
     "output_type": "execute_result"
    }
   ],
   "source": [
    "result[\"BRAND\"].unique()"
   ]
  },
  {
   "cell_type": "code",
   "execution_count": 27,
   "id": "58bfc388-df0f-4d83-ad67-d3882c508968",
   "metadata": {},
   "outputs": [],
   "source": [
    "result[\"For Report\"] = result[\"BRAND\"].map(lambda x: \"OTHERS\" if x not in [\"BRIDGESTONE\", \"MICHELIN\", \"MAXXIS\"] else x)"
   ]
  },
  {
   "cell_type": "code",
   "execution_count": 28,
   "id": "f3059072-2017-43c5-91f4-c2d54133dfa7",
   "metadata": {},
   "outputs": [],
   "source": [
    "result.drop_duplicates(inplace=True)"
   ]
  },
  {
   "cell_type": "code",
   "execution_count": 34,
   "id": "0b853435-ae8f-4c75-9d9a-8b4f2fe5bb15",
   "metadata": {},
   "outputs": [],
   "source": [
    "result.to_csv(r\"D:\\kc.hsu\\OneDrive - Bridgestone\\GFK data\\gfk_rolling_raw_data.csv\", index=False)"
   ]
  },
  {
   "cell_type": "code",
   "execution_count": null,
   "id": "1c0e3e62",
   "metadata": {},
   "outputs": [],
   "source": []
  }
 ],
 "metadata": {
  "kernelspec": {
   "display_name": "python_env",
   "language": "python",
   "name": "python3"
  },
  "language_info": {
   "codemirror_mode": {
    "name": "ipython",
    "version": 3
   },
   "file_extension": ".py",
   "mimetype": "text/x-python",
   "name": "python",
   "nbconvert_exporter": "python",
   "pygments_lexer": "ipython3",
   "version": "3.10.6"
  },
  "vscode": {
   "interpreter": {
    "hash": "0441e2ad242e60eb4d55752f5dea0f12731bd2d50ab9154f01b1a5615d7cc10b"
   }
  }
 },
 "nbformat": 4,
 "nbformat_minor": 5
}
