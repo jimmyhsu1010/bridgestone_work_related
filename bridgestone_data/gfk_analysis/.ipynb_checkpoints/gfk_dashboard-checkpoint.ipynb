{
 "cells": [
  {
   "cell_type": "code",
   "execution_count": null,
   "id": "c92e4568-95a2-45f1-8561-3b936a685267",
   "metadata": {},
   "outputs": [],
   "source": [
    "import pandas as pd\n",
    "import atoti as tt\n",
    "pd.set_option(\"display.max_columns\", None)"
   ]
  },
  {
   "cell_type": "code",
   "execution_count": null,
   "id": "a2498693-b054-48c3-9cf6-791d4cec38f9",
   "metadata": {},
   "outputs": [],
   "source": [
    "df = pd.read_csv(\"../gfk_analysis/raw_data/GFK_CUSTOMREPORT_TRUCKTIRE_TW_BRIDGESTONE_Feb22.csv\")"
   ]
  },
  {
   "cell_type": "code",
   "execution_count": null,
   "id": "cf057550-e76b-48e6-acee-a730f1f146dc",
   "metadata": {},
   "outputs": [],
   "source": [
    "df.columns = df.columns.str.replace(\"/\", \" \")"
   ]
  },
  {
   "cell_type": "code",
   "execution_count": null,
   "id": "1e24dac8-a367-4979-92fd-c32ad248d8bc",
   "metadata": {},
   "outputs": [],
   "source": [
    "session = tt.create_session()"
   ]
  },
  {
   "cell_type": "code",
   "execution_count": null,
   "id": "ec3bb7cb-3285-4608-bc76-9132316bae6c",
   "metadata": {},
   "outputs": [],
   "source": [
    "data = session.read_pandas(df, table_name=\"Test\")"
   ]
  },
  {
   "cell_type": "code",
   "execution_count": null,
   "id": "c21d4bb0-0c48-444c-a581-8e5adc922cf0",
   "metadata": {},
   "outputs": [],
   "source": [
    "cube = session.create_cube(data, \"GFK\", mode=\"auto\")"
   ]
  },
  {
   "cell_type": "code",
   "execution_count": null,
   "id": "2b26a45e-bf83-4023-9e52-765485422e7f",
   "metadata": {},
   "outputs": [],
   "source": [
    "h, l, m = cube.hierarchies, cube.levels, cube.measures"
   ]
  },
  {
   "cell_type": "code",
   "execution_count": null,
   "id": "8dcf9d57-88a8-4092-8cf7-3b2f6ac7e1d2",
   "metadata": {},
   "outputs": [],
   "source": [
    "session.visualize()"
   ]
  },
  {
   "cell_type": "code",
   "execution_count": null,
   "id": "9cda7dd8-da20-43f6-bd3a-ad050be93a96",
   "metadata": {},
   "outputs": [],
   "source": [
    "session.link()"
   ]
  },
  {
   "cell_type": "code",
   "execution_count": null,
   "id": "44f679a6-bc6c-43e5-b8c2-2710e8059bd3",
   "metadata": {},
   "outputs": [],
   "source": [
    "m[\"SALES UNITS.SUM\"].formatter = \"DOUBLE[0]\""
   ]
  },
  {
   "cell_type": "code",
   "execution_count": null,
   "id": "ccc14a23-ffdf-4039-8234-7168d17b78bd",
   "metadata": {},
   "outputs": [],
   "source": []
  }
 ],
 "metadata": {
  "kernelspec": {
   "display_name": "Python 3 (ipykernel)",
   "language": "python",
   "name": "python3"
  },
  "language_info": {
   "codemirror_mode": {
    "name": "ipython",
    "version": 3
   },
   "file_extension": ".py",
   "mimetype": "text/x-python",
   "name": "python",
   "nbconvert_exporter": "python",
   "pygments_lexer": "ipython3",
   "version": "3.9.7"
  }
 },
 "nbformat": 4,
 "nbformat_minor": 5
}
