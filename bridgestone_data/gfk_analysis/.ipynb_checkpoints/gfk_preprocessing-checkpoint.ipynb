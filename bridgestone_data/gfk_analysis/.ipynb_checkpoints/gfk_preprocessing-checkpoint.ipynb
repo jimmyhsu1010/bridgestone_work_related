{
 "cells": [
  {
   "cell_type": "code",
   "execution_count": null,
   "id": "f039960f-123b-4214-be16-3f063fb70469",
   "metadata": {},
   "outputs": [],
   "source": [
    "import pandas as pd\n",
    "pd.set_option(\"display.max_columns\", None)\n",
    "pd.set_option(\"mode.chained_assignment\", None)\n",
    "import tkinter as tk\n",
    "from tkinter import filedialog\n",
    "from datetime import datetime"
   ]
  },
  {
   "cell_type": "code",
   "execution_count": null,
   "id": "8e83bdef-bbaf-4197-afd7-67e5c59756c0",
   "metadata": {},
   "outputs": [],
   "source": [
    "def open_file():\n",
    "    root = tk.Tk()\n",
    "    root.withdraw()\n",
    "    file_path = filedialog.askopenfilenames()\n",
    "    return file_path"
   ]
  },
  {
   "cell_type": "code",
   "execution_count": null,
   "id": "639a4d93-665b-4260-8a16-55a047d01a9b",
   "metadata": {},
   "outputs": [],
   "source": [
    "def transform(arg):\n",
    "    if len(arg) == 1 and arg[0].split(\".\")[-1].lower() == \"csv\":\n",
    "        df = pd.read_csv(arg[0])\n",
    "    else:\n",
    "        df = pd.concat([pd.read_csv(path)for path in arg])\n",
    "    return df"
   ]
  },
  {
   "cell_type": "code",
   "execution_count": null,
   "id": "8ff4b301-03b2-4e9c-b418-95e94775b886",
   "metadata": {},
   "outputs": [],
   "source": [
    "path = open_file()"
   ]
  },
  {
   "cell_type": "code",
   "execution_count": null,
   "id": "bce87b73-3a56-443e-9b5c-dd6caaade92e",
   "metadata": {},
   "outputs": [],
   "source": [
    "df = transform(path)"
   ]
  },
  {
   "cell_type": "code",
   "execution_count": null,
   "id": "593b5231-eba6-4c4f-ab1f-9dac589a8f9f",
   "metadata": {},
   "outputs": [],
   "source": [
    "df[\"Period\"] = pd.to_datetime(df[\"Period\"], format=\"%B %Y\")\n",
    "df[\"FirstActivity\"] = pd.to_datetime(df[\"FirstActivity\"], format=\"%B %Y\")"
   ]
  },
  {
   "cell_type": "code",
   "execution_count": null,
   "id": "ae825da2-cf01-4520-b089-52ab40a925d7",
   "metadata": {},
   "outputs": [],
   "source": [
    "historical = pd.read_csv(r\"D:\\kc.hsu\\OneDrive - Bridgestone\\GFK data\\202207\\GFK_CSV_TRUCKTIRE_TW_BRIDGESTONE202207_revised.CSV\")"
   ]
  },
  {
   "cell_type": "code",
   "execution_count": null,
   "id": "6000248c-5fa9-426a-a263-cbcc0b90addc",
   "metadata": {},
   "outputs": [],
   "source": [
    "historical = historical[['Period', 'Item', 'BRAND', 'REGION', 'BRIDGESTONE TYPE',\n",
    "       'DIMENSION (Truck Tyres)', \"RIMDIAMET.'/MM\", 'WIDTH IN INCH',\n",
    "       'WIDTH IN MM', 'ASPECT RATIO', 'TUBE / TUBLESS', 'LOADINDEX',\n",
    "       'FirstActivity', 'SALES UNITS', 'SALES <LC>', 'PRICE TWD/UN.']]"
   ]
  },
  {
   "cell_type": "code",
   "execution_count": null,
   "id": "a8137176-34c9-42eb-a2ad-70d755f4877b",
   "metadata": {},
   "outputs": [],
   "source": [
    "historical[\"Period\"] = pd.to_datetime(historical[\"Period\"])\n",
    "historical[\"FirstActivity\"] = pd.to_datetime(historical[\"FirstActivity\"])"
   ]
  },
  {
   "cell_type": "code",
   "execution_count": null,
   "id": "09bbefe6-0b93-4036-a25c-8c8b63566e5d",
   "metadata": {},
   "outputs": [],
   "source": [
    "df = df.astype({\"SALES UNITS\": int, \"SALES <LC>\": int, \"PRICE TWD/UN.\": int})"
   ]
  },
  {
   "cell_type": "code",
   "execution_count": null,
   "id": "b88fb7b6-7133-4ae1-8e24-d2d7a0e2d0ee",
   "metadata": {},
   "outputs": [],
   "source": [
    "df = df[['Period', 'Item', 'BRAND', 'REGION', 'BRIDGESTONE TYPE',\n",
    "       'DIMENSION (Truck Tyres)', \"RIMDIAMET.'/MM\", 'WIDTH IN INCH',\n",
    "       'WIDTH IN MM', 'ASPECT RATIO', 'TUBE / TUBLESS', 'LOADINDEX', 'FirstActivity', 'SALES UNITS', 'SALES <LC>',\n",
    "       'PRICE TWD/UN.']]"
   ]
  },
  {
   "cell_type": "code",
   "execution_count": null,
   "id": "98b069e5-b4ca-40ba-aa5c-e95caedd8486",
   "metadata": {},
   "outputs": [],
   "source": [
    "df = df[df[\"Period\"].between(\"2022-08-01\", \"2022-08-31\")]"
   ]
  },
  {
   "cell_type": "code",
   "execution_count": null,
   "id": "3693c0a7-6c91-4de7-956c-20d023c8472e",
   "metadata": {},
   "outputs": [],
   "source": [
    "result = pd.concat([historical, df])"
   ]
  },
  {
   "cell_type": "code",
   "execution_count": null,
   "id": "e0822cbb-9826-4aaf-9b82-cabc3e448745",
   "metadata": {},
   "outputs": [],
   "source": [
    "first_day_cur_year = datetime.now().date().replace(month=1, day=1).strftime(\"%Y-%m-%d\")\n",
    "last_day_cur_mon =  datetime.now().date().replace(month=8, day=31).strftime(\"%Y-%m-%d\")"
   ]
  },
  {
   "cell_type": "code",
   "execution_count": null,
   "id": "59045801-4a37-4c1c-bb78-52c4ebbb46e3",
   "metadata": {},
   "outputs": [],
   "source": [
    "tbr_top5_brands = result[(result[\"BRIDGESTONE TYPE\"] == \"TBR\") & (result[\"Period\"].between(first_day_cur_year, last_day_cur_mon))].groupby([\"BRAND\"]).sum().sort_values(by=\"SALES UNITS\", ascending=False).head(9).index.tolist()\n",
    "lsr_top5_brands = result[(result[\"BRIDGESTONE TYPE\"] == \"LSR2\") & (result[\"Period\"].between(first_day_cur_year, last_day_cur_mon))].groupby([\"BRAND\"]).sum().sort_values(by=\"SALES UNITS\", ascending=False).head(9).index.tolist()\n",
    "ttl_top5_brands = result[(result[\"Period\"].between(first_day_cur_year, last_day_cur_mon))].groupby([\"BRAND\"]).sum().sort_values(by=\"SALES UNITS\", ascending=False).head(9).index.tolist()"
   ]
  },
  {
   "cell_type": "code",
   "execution_count": null,
   "id": "23c3700f-1fcb-4dbc-8394-0f11bbf42ace",
   "metadata": {},
   "outputs": [],
   "source": [
    "result[\"TBR BRAND\"] = result[\"BRAND\"].map(lambda x: \"OTHERS\" if x not in tbr_top5_brands else x)\n",
    "result[\"LSR2 BRAND\"] = result[\"BRAND\"].map(lambda x: \"OTHERS\" if x not in lsr_top5_brands else x)\n",
    "result[\"TTL BRAND\"] = result[\"BRAND\"].map(lambda x: \"OTHERS\" if x not in ttl_top5_brands else x)"
   ]
  },
  {
   "cell_type": "code",
   "execution_count": null,
   "id": "58bfc388-df0f-4d83-ad67-d3882c508968",
   "metadata": {},
   "outputs": [],
   "source": [
    "result[\"For Report\"] = result[\"BRAND\"].map(lambda x: \"OTHERS\" if x != \"BRIDGESTONE\" else x)"
   ]
  },
  {
   "cell_type": "code",
   "execution_count": null,
   "id": "0b853435-ae8f-4c75-9d9a-8b4f2fe5bb15",
   "metadata": {},
   "outputs": [],
   "source": [
    "result.to_csv(r\"D:\\kc.hsu\\OneDrive - Bridgestone\\GFK data\\gfk_rolling_raw_data.csv\", index=False)"
   ]
  },
  {
   "cell_type": "code",
   "execution_count": null,
   "id": "3f40ed53-16c7-49e9-a308-f922cbf7e21d",
   "metadata": {},
   "outputs": [],
   "source": []
  }
 ],
 "metadata": {
  "kernelspec": {
   "display_name": "Python 3 (ipykernel)",
   "language": "python",
   "name": "python3"
  },
  "language_info": {
   "codemirror_mode": {
    "name": "ipython",
    "version": 3
   },
   "file_extension": ".py",
   "mimetype": "text/x-python",
   "name": "python",
   "nbconvert_exporter": "python",
   "pygments_lexer": "ipython3",
   "version": "3.10.6"
  }
 },
 "nbformat": 4,
 "nbformat_minor": 5
}
