{
 "cells": [
  {
   "cell_type": "code",
   "execution_count": null,
   "id": "c92e4568-95a2-45f1-8561-3b936a685267",
   "metadata": {},
   "outputs": [],
   "source": [
    "import pandas as pd\n",
    "import atoti as tt\n",
    "pd.set_option(\"display.max_columns\", None)"
   ]
  },
  {
   "cell_type": "markdown",
   "id": "f8dcfd47-cad5-42c6-a08f-775d6831b86e",
   "metadata": {
    "tags": []
   },
   "source": [
    "## 整理價格表"
   ]
  },
  {
   "cell_type": "code",
   "execution_count": null,
   "id": "554c0b27-1363-4557-98c7-8e0e936586ef",
   "metadata": {},
   "outputs": [],
   "source": [
    "df = pd.read_excel(r\"C:\\Users\\kc.hsu\\Desktop\\202204價格表.xlsx\", None)"
   ]
  },
  {
   "cell_type": "code",
   "execution_count": null,
   "id": "bba3751a-2b5f-46fa-b466-ee0f9d511506",
   "metadata": {},
   "outputs": [],
   "source": [
    "tbr, lsr = df[\"TBR\"], df[\"LSR\"]"
   ]
  },
  {
   "cell_type": "code",
   "execution_count": null,
   "id": "a470439b-82e9-44fb-adeb-a64ef76bf231",
   "metadata": {},
   "outputs": [],
   "source": [
    "tbr[\"含稅價\"] = tbr[\"含稅價\"].map(lambda x: round(x,0))"
   ]
  },
  {
   "cell_type": "code",
   "execution_count": null,
   "id": "8f8e254f-eb8d-46da-88bb-c6d708680176",
   "metadata": {},
   "outputs": [],
   "source": [
    "lsr[\"含稅價\"] = lsr[\"含稅價\"].map(lambda x: round(x,0))"
   ]
  },
  {
   "cell_type": "code",
   "execution_count": null,
   "id": "1899257f-eb7a-4bcb-913f-c42607eb26ee",
   "metadata": {},
   "outputs": [],
   "source": [
    "tbr = tbr.astype({\"含稅價\": int})"
   ]
  },
  {
   "cell_type": "code",
   "execution_count": null,
   "id": "8eb13305-59e4-41f6-8a7b-754c3b3ad7db",
   "metadata": {},
   "outputs": [],
   "source": [
    "lsr = lsr.astype({\"含稅價\": int})"
   ]
  },
  {
   "cell_type": "code",
   "execution_count": null,
   "id": "4dd7dffe-45ee-4eba-be71-cd3dc1786584",
   "metadata": {},
   "outputs": [],
   "source": [
    "tbr[\"類型\"] = \"TBR\"\n",
    "lsr[\"類型\"] = \"LSR2\""
   ]
  },
  {
   "cell_type": "code",
   "execution_count": null,
   "id": "d6663a09-c5af-4f84-9485-d4310ccf03cd",
   "metadata": {},
   "outputs": [],
   "source": [
    "price_list = pd.concat([tbr, lsr], axis=0)"
   ]
  },
  {
   "cell_type": "code",
   "execution_count": null,
   "id": "991263d4-dcd4-4d05-ad13-db29ef852313",
   "metadata": {},
   "outputs": [],
   "source": [
    "bonus_table = pd.read_clipboard()"
   ]
  },
  {
   "cell_type": "code",
   "execution_count": null,
   "id": "d12ad59c-aa7e-4484-a5e6-bbb7247ebe5a",
   "metadata": {},
   "outputs": [],
   "source": [
    "price_list.merge(bonus_table, on=[\"類型\"])"
   ]
  },
  {
   "cell_type": "code",
   "execution_count": null,
   "id": "94fda375-1d2e-494f-b06d-a66fc6cc24e7",
   "metadata": {},
   "outputs": [],
   "source": [
    "price_list"
   ]
  },
  {
   "cell_type": "code",
   "execution_count": null,
   "id": "13e88c80-6665-41f1-9184-25cd821808d8",
   "metadata": {},
   "outputs": [],
   "source": []
  },
  {
   "cell_type": "markdown",
   "id": "d6a7a047-7c70-4b0b-8ea0-28c77a8fe7a8",
   "metadata": {},
   "source": [
    "## 開啟GFK原始數據"
   ]
  },
  {
   "cell_type": "code",
   "execution_count": null,
   "id": "a2498693-b054-48c3-9cf6-791d4cec38f9",
   "metadata": {},
   "outputs": [],
   "source": [
    "df = pd.read_csv(\"../gfk_analysis/raw_data/GFK_CUSTOMREPORT_TRUCKTIRE_TW_BRIDGESTONE_Feb22.csv\")"
   ]
  },
  {
   "cell_type": "code",
   "execution_count": null,
   "id": "cf057550-e76b-48e6-acee-a730f1f146dc",
   "metadata": {},
   "outputs": [],
   "source": [
    "df.columns = df.columns.str.replace(\"/\", \" \")"
   ]
  },
  {
   "cell_type": "code",
   "execution_count": null,
   "id": "1e24dac8-a367-4979-92fd-c32ad248d8bc",
   "metadata": {},
   "outputs": [],
   "source": [
    "session = tt.create_session()"
   ]
  },
  {
   "cell_type": "code",
   "execution_count": null,
   "id": "ec3bb7cb-3285-4608-bc76-9132316bae6c",
   "metadata": {},
   "outputs": [],
   "source": [
    "data = session.read_pandas(df, table_name=\"Test\")"
   ]
  },
  {
   "cell_type": "code",
   "execution_count": null,
   "id": "c21d4bb0-0c48-444c-a581-8e5adc922cf0",
   "metadata": {
    "tags": []
   },
   "outputs": [],
   "source": [
    "cube = session.create_cube(data, \"GFK\", mode=\"auto\")"
   ]
  },
  {
   "cell_type": "code",
   "execution_count": null,
   "id": "2b26a45e-bf83-4023-9e52-765485422e7f",
   "metadata": {},
   "outputs": [],
   "source": [
    "h, l, m = cube.hierarchies, cube.levels, cube.measures"
   ]
  },
  {
   "cell_type": "code",
   "execution_count": null,
   "id": "8dcf9d57-88a8-4092-8cf7-3b2f6ac7e1d2",
   "metadata": {},
   "outputs": [],
   "source": [
    "session.visualize()"
   ]
  },
  {
   "cell_type": "code",
   "execution_count": null,
   "id": "9cda7dd8-da20-43f6-bd3a-ad050be93a96",
   "metadata": {},
   "outputs": [],
   "source": [
    "session.link()"
   ]
  },
  {
   "cell_type": "code",
   "execution_count": null,
   "id": "44f679a6-bc6c-43e5-b8c2-2710e8059bd3",
   "metadata": {},
   "outputs": [],
   "source": [
    "m[\"SALES UNITS.SUM\"].formatter = \"DOUBLE[0]\""
   ]
  },
  {
   "cell_type": "code",
   "execution_count": null,
   "id": "ccc14a23-ffdf-4039-8234-7168d17b78bd",
   "metadata": {},
   "outputs": [],
   "source": []
  }
 ],
 "metadata": {
  "kernelspec": {
   "display_name": "Python 3",
   "language": "python",
   "name": "python3"
  },
  "language_info": {
   "codemirror_mode": {
    "name": "ipython",
    "version": 3
   },
   "file_extension": ".py",
   "mimetype": "text/x-python",
   "name": "python",
   "nbconvert_exporter": "python",
   "pygments_lexer": "ipython3",
   "version": "3.8.5"
  }
 },
 "nbformat": 4,
 "nbformat_minor": 5
}
