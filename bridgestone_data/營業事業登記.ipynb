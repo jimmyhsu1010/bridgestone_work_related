{
 "cells": [
  {
   "cell_type": "code",
   "execution_count": 6,
   "id": "1d08db9c",
   "metadata": {},
   "outputs": [],
   "source": [
    "import pandas as pd\n",
    "pd.set_option(\"display.max_columns\", None)"
   ]
  },
  {
   "cell_type": "code",
   "execution_count": 94,
   "id": "1f520f64",
   "metadata": {},
   "outputs": [],
   "source": [
    "unicode = pd.read_clipboard()"
   ]
  },
  {
   "cell_type": "code",
   "execution_count": 97,
   "id": "92745d91",
   "metadata": {},
   "outputs": [],
   "source": [
    "unicode.dropna(inplace=True)"
   ]
  },
  {
   "cell_type": "code",
   "execution_count": 101,
   "id": "79732b07",
   "metadata": {},
   "outputs": [],
   "source": [
    "unicode = unicode[\"統編\"].tolist()"
   ]
  },
  {
   "cell_type": "code",
   "execution_count": 102,
   "id": "93637474",
   "metadata": {
    "scrolled": false
   },
   "outputs": [],
   "source": [
    "gc = pd.read_excel(r\"D:\\kc.hsu\\OneDrive - Bridgestone\\數據\\客運貨運公司登記資料.xlsx\")\n",
    "dump = pd.read_excel(r\"D:\\kc.hsu\\OneDrive - Bridgestone\\數據\\砂石營造業公司登記資料.xlsx\")"
   ]
  },
  {
   "cell_type": "code",
   "execution_count": 85,
   "id": "e8da6e37",
   "metadata": {},
   "outputs": [],
   "source": [
    "dump.drop_duplicates(subset=[\"統一編號\"], inplace=True)\n",
    "gc.drop_duplicates(subset=[\"統一編號\"], inplace=True)"
   ]
  },
  {
   "cell_type": "code",
   "execution_count": 87,
   "id": "8558bd07",
   "metadata": {},
   "outputs": [],
   "source": [
    "gc[\"登記地址\"] = gc[\"公司地址\"].map(lambda x: x[3:])\n",
    "gc[\"縣市\"] = gc[\"公司地址\"].map(lambda x: x[0:3])"
   ]
  },
  {
   "cell_type": "code",
   "execution_count": 89,
   "id": "dce9e88e",
   "metadata": {},
   "outputs": [],
   "source": [
    "dump[\"地址\"] = dump[\"公司地址\"].map(lambda x: x[3:])\n",
    "dump[\"縣市\"] = dump[\"公司地址\"].map(lambda x: x[0:3])"
   ]
  },
  {
   "cell_type": "code",
   "execution_count": 117,
   "id": "8474b3a3",
   "metadata": {
    "scrolled": true
   },
   "outputs": [],
   "source": [
    "gc.to_excel(r\"D:\\kc.hsu\\OneDrive - Bridgestone\\數據\\客運貨運公司登記資料.xlsx\", index=False)\n",
    "dump.to_excel(r\"D:\\kc.hsu\\OneDrive - Bridgestone\\數據\\砂石營造業公司登記資料.xlsx\", index=False)"
   ]
  },
  {
   "cell_type": "code",
   "execution_count": 114,
   "id": "0953dfe9",
   "metadata": {
    "scrolled": true
   },
   "outputs": [],
   "source": [
    "gc[\"統一編號\"] = gc[\"統一編號\"].astype(str)\n",
    "dump[\"統一編號\"] = dump[\"統一編號\"].astype(str)"
   ]
  },
  {
   "cell_type": "code",
   "execution_count": 115,
   "id": "a6968bea",
   "metadata": {},
   "outputs": [],
   "source": [
    "gc[\"交易與否\"] = gc[\"統一編號\"].map(lambda x: \"有\" if x in unicode else \"沒有\")"
   ]
  },
  {
   "cell_type": "code",
   "execution_count": 116,
   "id": "3a74a569",
   "metadata": {},
   "outputs": [],
   "source": [
    "dump[\"交易與否\"] = dump[\"統一編號\"].map(lambda x: \"有\" if x in unicode else \"沒有\")"
   ]
  },
  {
   "cell_type": "code",
   "execution_count": 64,
   "id": "b94e2782",
   "metadata": {},
   "outputs": [
    {
     "data": {
      "application/vnd.jupyter.widget-view+json": {
       "model_id": "c36a5ba691014ba9963873f94ed94ed4",
       "version_major": 2,
       "version_minor": 0
      },
      "text/plain": [
       "MitoWidget(analysis_data_json='{\"analysisName\": \"id-cgcszwbhms\", \"analysisToReplay\": null, \"code\": [], \"stepSu…"
      ]
     },
     "metadata": {},
     "output_type": "display_data"
    }
   ],
   "source": [
    "import mitosheet\n",
    "mitosheet.sheet(result, analysis_to_replay=\"id-cgcszwbhms\")"
   ]
  },
  {
   "cell_type": "code",
   "execution_count": null,
   "id": "28842014",
   "metadata": {},
   "outputs": [],
   "source": [
    "from mitosheet import *; register_analysis(\"id-cgcszwbhms\");\n",
    "    \n",
    "# Changed 統一編號 to dtype int\n",
    "result['統一編號'] = result['統一編號'].fillna(0).astype('int')\n",
    "\n",
    "# Changed 資本額 to dtype int\n",
    "result['資本額'] = result['資本額'].fillna(0).astype('int')\n",
    "\n",
    "# Changed 設立日期 to dtype float\n",
    "result['設立日期'] = result['設立日期']\n"
   ]
  }
 ],
 "metadata": {
  "kernelspec": {
   "display_name": "Python 3 (ipykernel)",
   "language": "python",
   "name": "python3"
  },
  "language_info": {
   "codemirror_mode": {
    "name": "ipython",
    "version": 3
   },
   "file_extension": ".py",
   "mimetype": "text/x-python",
   "name": "python",
   "nbconvert_exporter": "python",
   "pygments_lexer": "ipython3",
   "version": "3.9.7"
  }
 },
 "nbformat": 4,
 "nbformat_minor": 5
}
